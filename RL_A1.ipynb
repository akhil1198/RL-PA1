{
  "nbformat": 4,
  "nbformat_minor": 0,
  "metadata": {
    "colab": {
      "provenance": [],
      "authorship_tag": "ABX9TyPDQkNuUNjT2JBfzFsa6sLK",
      "include_colab_link": true
    },
    "kernelspec": {
      "name": "python3",
      "display_name": "Python 3"
    },
    "language_info": {
      "name": "python"
    }
  },
  "cells": [
    {
      "cell_type": "markdown",
      "metadata": {
        "id": "view-in-github",
        "colab_type": "text"
      },
      "source": [
        "<a href=\"https://colab.research.google.com/github/akhil1198/RL-PA1/blob/main/RL_A1.ipynb\" target=\"_parent\"><img src=\"https://colab.research.google.com/assets/colab-badge.svg\" alt=\"Open In Colab\"/></a>"
      ]
    },
    {
      "cell_type": "code",
      "execution_count": 12,
      "metadata": {
        "colab": {
          "base_uri": "https://localhost:8080/"
        },
        "id": "hw2TLyoAigYz",
        "outputId": "639907b8-d5d6-4d5f-ebc3-c43648bd2c3e"
      },
      "outputs": [
        {
          "output_type": "stream",
          "name": "stdout",
          "text": [
            "Looking in indexes: https://pypi.org/simple, https://us-python.pkg.dev/colab-wheels/public/simple/\n",
            "Requirement already satisfied: gymnasium in /usr/local/lib/python3.8/dist-packages (0.27.1)\n",
            "Requirement already satisfied: matplotlib in /usr/local/lib/python3.8/dist-packages (3.2.2)\n",
            "Requirement already satisfied: numpy in /usr/local/lib/python3.8/dist-packages (1.21.6)\n",
            "Requirement already satisfied: importlib-metadata>=4.8.0 in /usr/local/lib/python3.8/dist-packages (from gymnasium) (6.0.0)\n",
            "Requirement already satisfied: typing-extensions>=4.3.0 in /usr/local/lib/python3.8/dist-packages (from gymnasium) (4.4.0)\n",
            "Requirement already satisfied: gymnasium-notices>=0.0.1 in /usr/local/lib/python3.8/dist-packages (from gymnasium) (0.0.1)\n",
            "Requirement already satisfied: jax-jumpy>=0.2.0 in /usr/local/lib/python3.8/dist-packages (from gymnasium) (0.2.0)\n",
            "Requirement already satisfied: cloudpickle>=1.2.0 in /usr/local/lib/python3.8/dist-packages (from gymnasium) (2.2.1)\n",
            "Requirement already satisfied: kiwisolver>=1.0.1 in /usr/local/lib/python3.8/dist-packages (from matplotlib) (1.4.4)\n",
            "Requirement already satisfied: python-dateutil>=2.1 in /usr/local/lib/python3.8/dist-packages (from matplotlib) (2.8.2)\n",
            "Requirement already satisfied: cycler>=0.10 in /usr/local/lib/python3.8/dist-packages (from matplotlib) (0.11.0)\n",
            "Requirement already satisfied: pyparsing!=2.0.4,!=2.1.2,!=2.1.6,>=2.0.1 in /usr/local/lib/python3.8/dist-packages (from matplotlib) (3.0.9)\n",
            "Requirement already satisfied: zipp>=0.5 in /usr/local/lib/python3.8/dist-packages (from importlib-metadata>=4.8.0->gymnasium) (3.12.1)\n",
            "Requirement already satisfied: six>=1.5 in /usr/local/lib/python3.8/dist-packages (from python-dateutil>=2.1->matplotlib) (1.15.0)\n"
          ]
        }
      ],
      "source": [
        "!pip install gymnasium matplotlib numpy"
      ]
    },
    {
      "cell_type": "code",
      "source": [
        "from google.colab import widgets\n",
        "import gymnasium as gym\n",
        "from gymnasium import spaces\n",
        "import matplotlib.pyplot as plt\n",
        "import numpy as np\n",
        "import time"
      ],
      "metadata": {
        "id": "9d4qlEyLjUam"
      },
      "execution_count": 13,
      "outputs": []
    },
    {
      "cell_type": "code",
      "source": [
        "output_grid = widgets.Grid(1,1)\n",
        "\n",
        "for _ in range(5):\n",
        "  grid = np.zeros((5, 5))\n",
        "  grid[np.random.randint(5), np.random.randint(5)] = 1\n",
        "\n",
        "  with output_grid.output_to(0,0):\n",
        "    output_grid.clear_cell()\n",
        "    plt.imshow(grid)\n",
        "  time.sleep(2) "
      ],
      "metadata": {
        "colab": {
          "base_uri": "https://localhost:8080/",
          "height": 269
        },
        "id": "1V9H_w_ujZIt",
        "outputId": "ac1c3624-c8d7-4712-ede9-f9fe4d488c6d"
      },
      "execution_count": 14,
      "outputs": [
        {
          "output_type": "display_data",
          "data": {
            "text/plain": [
              "<IPython.core.display.HTML object>"
            ],
            "text/html": [
              "<style>\n",
              "       table#id8, #id8 > tbody > tr > th, #id8 > tbody > tr > td {\n",
              "         border: 1px solid lightgray;\n",
              "         border-collapse:collapse;\n",
              "         \n",
              "        }</style>"
            ]
          },
          "metadata": {}
        },
        {
          "output_type": "display_data",
          "data": {
            "text/plain": [
              "<IPython.core.display.HTML object>"
            ],
            "text/html": [
              "<table id=id8><tr><td id=id8-0-0></td></tr></table>"
            ]
          },
          "metadata": {}
        },
        {
          "output_type": "display_data",
          "data": {
            "text/plain": [
              "<IPython.core.display.Javascript object>"
            ],
            "application/javascript": [
              "window[\"e4dc6516-ae70-11ed-a87c-0242ac1c000c\"] = google.colab.output.getActiveOutputArea();\n",
              "//# sourceURL=js_51c8b753f9"
            ]
          },
          "metadata": {}
        },
        {
          "output_type": "display_data",
          "data": {
            "text/plain": [
              "<IPython.core.display.Javascript object>"
            ],
            "application/javascript": [
              "window[\"e4dcfa08-ae70-11ed-a87c-0242ac1c000c\"] = document.querySelector(\"#id8-0-0\");\n",
              "//# sourceURL=js_ad51082f64"
            ]
          },
          "metadata": {}
        },
        {
          "output_type": "display_data",
          "data": {
            "text/plain": [
              "<IPython.core.display.Javascript object>"
            ],
            "application/javascript": [
              "window[\"e4dd92ec-ae70-11ed-a87c-0242ac1c000c\"] = google.colab.output.setActiveOutputArea(window[\"e4dcfa08-ae70-11ed-a87c-0242ac1c000c\"]);\n",
              "//# sourceURL=js_29a0e36f0d"
            ]
          },
          "metadata": {}
        },
        {
          "output_type": "display_data",
          "data": {
            "text/plain": [
              "<IPython.core.display.Javascript object>"
            ],
            "application/javascript": [
              "window[\"e50371ec-ae70-11ed-a87c-0242ac1c000c\"] = google.colab.output.setActiveOutputArea(window[\"e4dc6516-ae70-11ed-a87c-0242ac1c000c\"]);\n",
              "//# sourceURL=js_7ead8240f6"
            ]
          },
          "metadata": {}
        },
        {
          "output_type": "display_data",
          "data": {
            "text/plain": [
              "<IPython.core.display.Javascript object>"
            ],
            "application/javascript": [
              "window[\"e6374714-ae70-11ed-a87c-0242ac1c000c\"] = google.colab.output.getActiveOutputArea();\n",
              "//# sourceURL=js_2473472f9c"
            ]
          },
          "metadata": {}
        },
        {
          "output_type": "display_data",
          "data": {
            "text/plain": [
              "<IPython.core.display.Javascript object>"
            ],
            "application/javascript": [
              "window[\"e6378b3e-ae70-11ed-a87c-0242ac1c000c\"] = document.querySelector(\"#id8-0-0\");\n",
              "//# sourceURL=js_c947376e3c"
            ]
          },
          "metadata": {}
        },
        {
          "output_type": "display_data",
          "data": {
            "text/plain": [
              "<IPython.core.display.Javascript object>"
            ],
            "application/javascript": [
              "window[\"e637d77e-ae70-11ed-a87c-0242ac1c000c\"] = google.colab.output.setActiveOutputArea(window[\"e6378b3e-ae70-11ed-a87c-0242ac1c000c\"]);\n",
              "//# sourceURL=js_5cee9ee6a8"
            ]
          },
          "metadata": {}
        },
        {
          "output_type": "display_data",
          "data": {
            "text/plain": [
              "<IPython.core.display.Javascript object>"
            ],
            "application/javascript": [
              "window[\"e64fd130-ae70-11ed-a87c-0242ac1c000c\"] = google.colab.output.setActiveOutputArea(window[\"e6374714-ae70-11ed-a87c-0242ac1c000c\"]);\n",
              "//# sourceURL=js_27059d8925"
            ]
          },
          "metadata": {}
        },
        {
          "output_type": "display_data",
          "data": {
            "text/plain": [
              "<IPython.core.display.Javascript object>"
            ],
            "application/javascript": [
              "window[\"e7841944-ae70-11ed-a87c-0242ac1c000c\"] = google.colab.output.getActiveOutputArea();\n",
              "//# sourceURL=js_03c85b31d0"
            ]
          },
          "metadata": {}
        },
        {
          "output_type": "display_data",
          "data": {
            "text/plain": [
              "<IPython.core.display.Javascript object>"
            ],
            "application/javascript": [
              "window[\"e7850cf0-ae70-11ed-a87c-0242ac1c000c\"] = document.querySelector(\"#id8-0-0\");\n",
              "//# sourceURL=js_b93c9e8062"
            ]
          },
          "metadata": {}
        },
        {
          "output_type": "display_data",
          "data": {
            "text/plain": [
              "<IPython.core.display.Javascript object>"
            ],
            "application/javascript": [
              "window[\"e7859be8-ae70-11ed-a87c-0242ac1c000c\"] = google.colab.output.setActiveOutputArea(window[\"e7850cf0-ae70-11ed-a87c-0242ac1c000c\"]);\n",
              "//# sourceURL=js_6fe2b8f08e"
            ]
          },
          "metadata": {}
        },
        {
          "output_type": "display_data",
          "data": {
            "text/plain": [
              "<IPython.core.display.Javascript object>"
            ],
            "application/javascript": [
              "window[\"e79db052-ae70-11ed-a87c-0242ac1c000c\"] = google.colab.output.setActiveOutputArea(window[\"e7841944-ae70-11ed-a87c-0242ac1c000c\"]);\n",
              "//# sourceURL=js_a772186769"
            ]
          },
          "metadata": {}
        },
        {
          "output_type": "display_data",
          "data": {
            "text/plain": [
              "<IPython.core.display.Javascript object>"
            ],
            "application/javascript": [
              "window[\"e8d18570-ae70-11ed-a87c-0242ac1c000c\"] = google.colab.output.getActiveOutputArea();\n",
              "//# sourceURL=js_9054d7b7e7"
            ]
          },
          "metadata": {}
        },
        {
          "output_type": "display_data",
          "data": {
            "text/plain": [
              "<IPython.core.display.Javascript object>"
            ],
            "application/javascript": [
              "window[\"e8d1d48a-ae70-11ed-a87c-0242ac1c000c\"] = document.querySelector(\"#id8-0-0\");\n",
              "//# sourceURL=js_886351cb58"
            ]
          },
          "metadata": {}
        },
        {
          "output_type": "display_data",
          "data": {
            "text/plain": [
              "<IPython.core.display.Javascript object>"
            ],
            "application/javascript": [
              "window[\"e8d22034-ae70-11ed-a87c-0242ac1c000c\"] = google.colab.output.setActiveOutputArea(window[\"e8d1d48a-ae70-11ed-a87c-0242ac1c000c\"]);\n",
              "//# sourceURL=js_55b78bf147"
            ]
          },
          "metadata": {}
        },
        {
          "output_type": "display_data",
          "data": {
            "text/plain": [
              "<IPython.core.display.Javascript object>"
            ],
            "application/javascript": [
              "window[\"e920c374-ae70-11ed-a87c-0242ac1c000c\"] = google.colab.output.setActiveOutputArea(window[\"e8d18570-ae70-11ed-a87c-0242ac1c000c\"]);\n",
              "//# sourceURL=js_74320a814e"
            ]
          },
          "metadata": {}
        },
        {
          "output_type": "display_data",
          "data": {
            "text/plain": [
              "<IPython.core.display.Javascript object>"
            ],
            "application/javascript": [
              "window[\"ea57e9de-ae70-11ed-a87c-0242ac1c000c\"] = google.colab.output.getActiveOutputArea();\n",
              "//# sourceURL=js_6f872437ee"
            ]
          },
          "metadata": {}
        },
        {
          "output_type": "display_data",
          "data": {
            "text/plain": [
              "<IPython.core.display.Javascript object>"
            ],
            "application/javascript": [
              "window[\"ea58b6ca-ae70-11ed-a87c-0242ac1c000c\"] = document.querySelector(\"#id8-0-0\");\n",
              "//# sourceURL=js_8903f20ac6"
            ]
          },
          "metadata": {}
        },
        {
          "output_type": "display_data",
          "data": {
            "text/plain": [
              "<IPython.core.display.Javascript object>"
            ],
            "application/javascript": [
              "window[\"ea59fbb6-ae70-11ed-a87c-0242ac1c000c\"] = google.colab.output.setActiveOutputArea(window[\"ea58b6ca-ae70-11ed-a87c-0242ac1c000c\"]);\n",
              "//# sourceURL=js_89370a8fba"
            ]
          },
          "metadata": {}
        },
        {
          "output_type": "display_data",
          "data": {
            "text/plain": [
              "<Figure size 432x288 with 1 Axes>"
            ],
            "image/png": "[encoded data removed]"
          },
          "metadata": {
            "needs_background": "light"
          }
        },
        {
          "output_type": "display_data",
          "data": {
            "text/plain": [
              "<IPython.core.display.Javascript object>"
            ],
            "application/javascript": [
              "window[\"ea88f1be-ae70-11ed-a87c-0242ac1c000c\"] = google.colab.output.setActiveOutputArea(window[\"ea57e9de-ae70-11ed-a87c-0242ac1c000c\"]);\n",
              "//# sourceURL=js_613f9ffc0a"
            ]
          },
          "metadata": {}
        }
      ]
    },
    {
      "cell_type": "markdown",
      "source": [
        "Creating an Environment with all the actions, states, rewards and positions"
      ],
      "metadata": {
        "id": "x0kViSd_yd82"
      }
    },
    {
      "cell_type": "code",
      "source": [
        "from IPython.utils.path import random\n",
        "class GridEnv(gym.Env):\n",
        "  def __init__(self, env_type):\n",
        "    self.environment_type = env_type\n",
        "    self.environment_width = 5\n",
        "    self.environment_height = 5\n",
        "    self.observation_space = spaces.Discrete(25)\n",
        "    self.action_space = spaces.Discrete(4)\n",
        "\n",
        "    self.timestep = 0\n",
        "    self.max_timesteps = 15\n",
        "\n",
        "    self.agent_pos = [0, 0]\n",
        "    self.goal_pos = [4, 4]\n",
        "\n",
        "    self.state = np.zeros((5,5))\n",
        "    self.state[tuple(self.agent_pos)] = 1\n",
        "    self.state[tuple(self.goal_pos)] = 0.5\n",
        "\n",
        "    self.reward = 0\n",
        "    self.truncated = False\n",
        "    self.terminated = False\n",
        "    self.reward_pos = np.asarray([[0, 4], [2, 1], [3, 4], [4, 2]])\n",
        "    self.negreward_pos = np.asarray([[1, 2], [3, 0], [3, 3]])\n",
        "\n",
        "    #for stochastic env\n",
        "    self.random_number = 0\n",
        "    self.rand_action = 0\n",
        "\n",
        "  def reset(self):\n",
        "    self.state = np.zeros((5,5))\n",
        "    self.state[tuple(self.agent_pos)] = 1\n",
        "    self.state[tuple(self.goal_pos)] = 0.5\n",
        "    observation = self.state.flatten()\n",
        "\n",
        "    info = {}\n",
        "\n",
        "    return observation, info\n",
        "  \n",
        "  def step(self, action, obs):\n",
        "    #print(action)\n",
        "    action = int(action)\n",
        "    if action == 0:\n",
        "      #print(\"at 0 - > agent_pos[0] += 1\")\n",
        "      self.agent_pos[0] += 1\n",
        "    if action == 1:\n",
        "      #print(\"at 1 -> agent_pos[0] -= 1\")\n",
        "      self.agent_pos[0] -= 1\n",
        "    if action == 2:\n",
        "      #print(\"at 2 -> agent_pos[1] += 1\")\n",
        "      self.agent_pos[1] += 1\n",
        "    if action == 3:\n",
        "      #print(\"at 3 -> agent_pos[1] -= 1\")\n",
        "      self.agent_pos[1] -= 1\n",
        "    #stochastic method\n",
        "    if self.environment_type == \"stochastic\":\n",
        "      self.random_number = np.random.rand()\n",
        "      self.rand_action = np.random.randint(4)\n",
        "      if self.random_number < 0.9:\n",
        "        #print(\"Executing the right action -> \", action)\n",
        "        if action == 0:\n",
        "          #print(\"at 0 - > agent_pos[0] += 1\")\n",
        "          self.agent_pos[0] += 1\n",
        "        if action == 1:\n",
        "          #print(\"at 1 -> agent_pos[0] -= 1\")\n",
        "          self.agent_pos[0] -= 1\n",
        "        if action == 2:\n",
        "          #print(\"at 2 -> agent_pos[1] += 1\")\n",
        "          self.agent_pos[1] += 1\n",
        "        if action == 3:\n",
        "          #print(\"at 3 -> agent_pos[1] -= 1\")\n",
        "          self.agent_pos[1] -= 1\n",
        "      elif self.random_number > 0.9:\n",
        "        #print(\"Executing Random Action\", self.rand_action)\n",
        "        if self.rand_action == 0:\n",
        "          self.agent_pos[0] += 1\n",
        "        if self.rand_action == 1:\n",
        "          self.agent_pos[0] -= 1\n",
        "        if self.rand_action == 2:\n",
        "          self.agent_pos[1] += 1\n",
        "        if self.rand_action == 3:\n",
        "          self.agent_pos[1] -= 1\n",
        "      \n",
        "    #print(self.agent_pos)\n",
        "    #Comment this to demonstrate the truncation condition.\n",
        "    self.agent_pos = np.clip(self.agent_pos, 0, 4)\n",
        "\n",
        "    self.state = np.zeros((5,5))\n",
        "    self.state[tuple(self.agent_pos)] = 1\n",
        "    self.state[tuple(self.goal_pos)] = 0.5\n",
        "    observation = self.state.flatten()\n",
        "\n",
        "    reward = 0\n",
        "    #[0, 4], [2, 1], [3, 4], [4, 2]\n",
        "    if np.array_equal(self.agent_pos, self.reward_pos[0]):\n",
        "      reward = reward + 2\n",
        "    \n",
        "    if np.array_equal(self.agent_pos, self.reward_pos[1]):\n",
        "      reward = reward + 4\n",
        "    \n",
        "    if np.array_equal(self.agent_pos, self.reward_pos[2]):\n",
        "      reward = reward + 8\n",
        "    \n",
        "    if np.array_equal(self.agent_pos, self.reward_pos[3]):\n",
        "      reward = reward + 6\n",
        "    \n",
        "\n",
        "    if np.array_equal(self.agent_pos, self.goal_pos):\n",
        "      reward += 100\n",
        "    \n",
        "\n",
        "    #[1, 2], [3, 0], [3, 3]\n",
        "    if np.array_equal(self.agent_pos, self.negreward_pos[0]):\n",
        "      reward = reward - 5\n",
        "    \n",
        "    if np.array_equal(self.agent_pos, self.negreward_pos[1]):\n",
        "      reward = reward - 6\n",
        "    \n",
        "    if np.array_equal(self.agent_pos, self.negreward_pos[2]):\n",
        "      reward = reward - 2 \n",
        "\n",
        "    self.timestep += 1\n",
        "\n",
        "    #print(\"truncated -> \", self.agent_pos,)\n",
        "    terminated = True if self.timestep >= self.max_timesteps else False\n",
        "    truncated = True if np.all((self.agent_pos[0] >= 0) & (self.agent_pos[0] <= 4) & (self.agent_pos[1] >= 0) & (self.agent_pos[1] <= 4)) else False\n",
        "\n",
        "    info = {}\n",
        "    \n",
        "    return observation, reward, terminated, truncated, info\n",
        "\n",
        "  def render(self):\n",
        "    print(\"Environment Type -> \", self.environment_type)\n",
        "    \n",
        "    if self.environment_type == 'stochastic':\n",
        "      print(\"Random Number -> \", self.random_number)\n",
        "      print(\"Random Action -> \", self.rand_action)\n",
        "      print(\"Reward -> \", self.reward)\n",
        "      print(\"Truncated -> \", self.truncated)\n",
        "      print(\"Terminated -> \", self.terminated)\n",
        "      print(\"Agent Position -> \", self.agent_pos)\n",
        "    else: \n",
        "      print(\"Reward -> \", self.reward)\n",
        "      print(\"Action -> \", action)\n",
        "      print(\"Truncated -> \", self.truncated)\n",
        "      print(\"Terminated -> \", self.terminated)\n",
        "      print(\"Agent Position -> \", self.agent_pos)\n",
        "    plt.imshow(self.state)\n",
        "    \n"
      ],
      "metadata": {
        "id": "uiH3nTLTj3qR"
      },
      "execution_count": 40,
      "outputs": []
    },
    {
      "cell_type": "markdown",
      "source": [
        "Creating a Random Agent "
      ],
      "metadata": {
        "id": "-7sNCX8TypM_"
      }
    },
    {
      "cell_type": "code",
      "source": [
        "class RandomAgent:\n",
        "  def __init__(self, env):\n",
        "    self.env = env\n",
        "    self.observation_space = env.observation_space\n",
        "    self.action_space = env.action_space\n",
        "  def step(self, obs):\n",
        "    return np.random.choice(self.action_space.n)\n",
        "  "
      ],
      "metadata": {
        "id": "WCTSceXW44Bk"
      },
      "execution_count": 41,
      "outputs": []
    },
    {
      "cell_type": "markdown",
      "source": [
        "Starting the execution by calling all the methods in the Environment until termination of process\n",
        "\n",
        "Deterministic Environment: "
      ],
      "metadata": {
        "id": "CeaheI38ZYT9"
      }
    },
    {
      "cell_type": "code",
      "source": [
        "env = GridEnv(env_type = \"deterministic\")\n",
        "agent = RandomAgent(env)\n",
        "\n",
        "obs, info = env.reset()\n",
        "terminated, truncated = False, False\n",
        "\n",
        "output_grid = widgets.Grid(1, 1)\n",
        "with output_grid.output_to(0, 0):\n",
        "  env.render()\n",
        "\n",
        "while not terminated:\n",
        "  action = agent.step(obs)\n",
        "  #action = input()\n",
        "  observation, reward, terminated, truncated, info = env.step(action, obs)\n",
        "  with output_grid.output_to(0, 0):\n",
        "    output_grid.clear_cell()\n",
        "    plt.imshow(grid)\n",
        "    env.render()\n",
        "  time.sleep(1)\n"
      ],
      "metadata": {
        "colab": {
          "base_uri": "https://localhost:8080/",
          "height": 376
        },
        "id": "f-iPycGP48pI",
        "outputId": "6dbcf3b4-6a46-4d6a-99aa-9d86fe1e6bc1"
      },
      "execution_count": 42,
      "outputs": [
        {
          "output_type": "display_data",
          "data": {
            "text/plain": [
              "<IPython.core.display.HTML object>"
            ],
            "text/html": [
              "<style>\n",
              "       table#id30, #id30 > tbody > tr > th, #id30 > tbody > tr > td {\n",
              "         border: 1px solid lightgray;\n",
              "         border-collapse:collapse;\n",
              "         \n",
              "        }</style>"
            ]
          },
          "metadata": {}
        },
        {
          "output_type": "display_data",
          "data": {
            "text/plain": [
              "<IPython.core.display.HTML object>"
            ],
            "text/html": [
              "<table id=id30><tr><td id=id30-0-0></td></tr></table>"
            ]
          },
          "metadata": {}
        },
        {
          "output_type": "display_data",
          "data": {
            "text/plain": [
              "<IPython.core.display.Javascript object>"
            ],
            "application/javascript": [
              "window[\"3a37223e-ae72-11ed-a87c-0242ac1c000c\"] = google.colab.output.getActiveOutputArea();\n",
              "//# sourceURL=js_fec195e27e"
            ]
          },
          "metadata": {}
        },
        {
          "output_type": "display_data",
          "data": {
            "text/plain": [
              "<IPython.core.display.Javascript object>"
            ],
            "application/javascript": [
              "window[\"3a3773ec-ae72-11ed-a87c-0242ac1c000c\"] = document.querySelector(\"#id30-0-0\");\n",
              "//# sourceURL=js_99b73d0f84"
            ]
          },
          "metadata": {}
        },
        {
          "output_type": "display_data",
          "data": {
            "text/plain": [
              "<IPython.core.display.Javascript object>"
            ],
            "application/javascript": [
              "window[\"3a37bb2c-ae72-11ed-a87c-0242ac1c000c\"] = google.colab.output.setActiveOutputArea(window[\"3a3773ec-ae72-11ed-a87c-0242ac1c000c\"]);\n",
              "//# sourceURL=js_2a2dd0bb29"
            ]
          },
          "metadata": {}
        },
        {
          "output_type": "display_data",
          "data": {
            "text/plain": [
              "<IPython.core.display.Javascript object>"
            ],
            "application/javascript": [
              "window[\"3a4d6cba-ae72-11ed-a87c-0242ac1c000c\"] = google.colab.output.setActiveOutputArea(window[\"3a37223e-ae72-11ed-a87c-0242ac1c000c\"]);\n",
              "//# sourceURL=js_209637ea3c"
            ]
          },
          "metadata": {}
        },
        {
          "output_type": "display_data",
          "data": {
            "text/plain": [
              "<IPython.core.display.Javascript object>"
            ],
            "application/javascript": [
              "window[\"3a5039a4-ae72-11ed-a87c-0242ac1c000c\"] = google.colab.output.getActiveOutputArea();\n",
              "//# sourceURL=js_cd4ca9d30a"
            ]
          },
          "metadata": {}
        },
        {
          "output_type": "display_data",
          "data": {
            "text/plain": [
              "<IPython.core.display.Javascript object>"
            ],
            "application/javascript": [
              "window[\"3a508e22-ae72-11ed-a87c-0242ac1c000c\"] = document.querySelector(\"#id30-0-0\");\n",
              "//# sourceURL=js_b3fd4cd65c"
            ]
          },
          "metadata": {}
        },
        {
          "output_type": "display_data",
          "data": {
            "text/plain": [
              "<IPython.core.display.Javascript object>"
            ],
            "application/javascript": [
              "window[\"3a50de72-ae72-11ed-a87c-0242ac1c000c\"] = google.colab.output.setActiveOutputArea(window[\"3a508e22-ae72-11ed-a87c-0242ac1c000c\"]);\n",
              "//# sourceURL=js_acdb8f2cca"
            ]
          },
          "metadata": {}
        },
        {
          "output_type": "display_data",
          "data": {
            "text/plain": [
              "<IPython.core.display.Javascript object>"
            ],
            "application/javascript": [
              "window[\"3a6a5abe-ae72-11ed-a87c-0242ac1c000c\"] = google.colab.output.setActiveOutputArea(window[\"3a5039a4-ae72-11ed-a87c-0242ac1c000c\"]);\n",
              "//# sourceURL=js_08efba36db"
            ]
          },
          "metadata": {}
        },
        {
          "output_type": "display_data",
          "data": {
            "text/plain": [
              "<IPython.core.display.Javascript object>"
            ],
            "application/javascript": [
              "window[\"3b05d570-ae72-11ed-a87c-0242ac1c000c\"] = google.colab.output.getActiveOutputArea();\n",
              "//# sourceURL=js_18b4f0734f"
            ]
          },
          "metadata": {}
        },
        {
          "output_type": "display_data",
          "data": {
            "text/plain": [
              "<IPython.core.display.Javascript object>"
            ],
            "application/javascript": [
              "window[\"3b062b56-ae72-11ed-a87c-0242ac1c000c\"] = document.querySelector(\"#id30-0-0\");\n",
              "//# sourceURL=js_331d2dbece"
            ]
          },
          "metadata": {}
        },
        {
          "output_type": "display_data",
          "data": {
            "text/plain": [
              "<IPython.core.display.Javascript object>"
            ],
            "application/javascript": [
              "window[\"3b0679bc-ae72-11ed-a87c-0242ac1c000c\"] = google.colab.output.setActiveOutputArea(window[\"3b062b56-ae72-11ed-a87c-0242ac1c000c\"]);\n",
              "//# sourceURL=js_6e18d78f0e"
            ]
          },
          "metadata": {}
        },
        {
          "output_type": "display_data",
          "data": {
            "text/plain": [
              "<IPython.core.display.Javascript object>"
            ],
            "application/javascript": [
              "window[\"3b1f4f32-ae72-11ed-a87c-0242ac1c000c\"] = google.colab.output.setActiveOutputArea(window[\"3b05d570-ae72-11ed-a87c-0242ac1c000c\"]);\n",
              "//# sourceURL=js_acf211ede9"
            ]
          },
          "metadata": {}
        },
        {
          "output_type": "display_data",
          "data": {
            "text/plain": [
              "<IPython.core.display.Javascript object>"
            ],
            "application/javascript": [
              "window[\"3bbac4ee-ae72-11ed-a87c-0242ac1c000c\"] = google.colab.output.getActiveOutputArea();\n",
              "//# sourceURL=js_d4b98d6e14"
            ]
          },
          "metadata": {}
        },
        {
          "output_type": "display_data",
          "data": {
            "text/plain": [
              "<IPython.core.display.Javascript object>"
            ],
            "application/javascript": [
              "window[\"3bbb7024-ae72-11ed-a87c-0242ac1c000c\"] = document.querySelector(\"#id30-0-0\");\n",
              "//# sourceURL=js_5239fb88f5"
            ]
          },
          "metadata": {}
        },
        {
          "output_type": "display_data",
          "data": {
            "text/plain": [
              "<IPython.core.display.Javascript object>"
            ],
            "application/javascript": [
              "window[\"3bbbbcc8-ae72-11ed-a87c-0242ac1c000c\"] = google.colab.output.setActiveOutputArea(window[\"3bbb7024-ae72-11ed-a87c-0242ac1c000c\"]);\n",
              "//# sourceURL=js_42af6d7100"
            ]
          },
          "metadata": {}
        },
        {
          "output_type": "display_data",
          "data": {
            "text/plain": [
              "<IPython.core.display.Javascript object>"
            ],
            "application/javascript": [
              "window[\"3bd4e342-ae72-11ed-a87c-0242ac1c000c\"] = google.colab.output.setActiveOutputArea(window[\"3bbac4ee-ae72-11ed-a87c-0242ac1c000c\"]);\n",
              "//# sourceURL=js_eeaedc54c4"
            ]
          },
          "metadata": {}
        },
        {
          "output_type": "display_data",
          "data": {
            "text/plain": [
              "<IPython.core.display.Javascript object>"
            ],
            "application/javascript": [
              "window[\"3c6fd92e-ae72-11ed-a87c-0242ac1c000c\"] = google.colab.output.getActiveOutputArea();\n",
              "//# sourceURL=js_09b2f53ed8"
            ]
          },
          "metadata": {}
        },
        {
          "output_type": "display_data",
          "data": {
            "text/plain": [
              "<IPython.core.display.Javascript object>"
            ],
            "application/javascript": [
              "window[\"3c708194-ae72-11ed-a87c-0242ac1c000c\"] = document.querySelector(\"#id30-0-0\");\n",
              "//# sourceURL=js_1e4e642188"
            ]
          },
          "metadata": {}
        },
        {
          "output_type": "display_data",
          "data": {
            "text/plain": [
              "<IPython.core.display.Javascript object>"
            ],
            "application/javascript": [
              "window[\"3c70d40a-ae72-11ed-a87c-0242ac1c000c\"] = google.colab.output.setActiveOutputArea(window[\"3c708194-ae72-11ed-a87c-0242ac1c000c\"]);\n",
              "//# sourceURL=js_acf7bf65c8"
            ]
          },
          "metadata": {}
        },
        {
          "output_type": "display_data",
          "data": {
            "text/plain": [
              "<IPython.core.display.Javascript object>"
            ],
            "application/javascript": [
              "window[\"3c99af38-ae72-11ed-a87c-0242ac1c000c\"] = google.colab.output.setActiveOutputArea(window[\"3c6fd92e-ae72-11ed-a87c-0242ac1c000c\"]);\n",
              "//# sourceURL=js_3a822fa9da"
            ]
          },
          "metadata": {}
        },
        {
          "output_type": "display_data",
          "data": {
            "text/plain": [
              "<IPython.core.display.Javascript object>"
            ],
            "application/javascript": [
              "window[\"3d34fcf4-ae72-11ed-a87c-0242ac1c000c\"] = google.colab.output.getActiveOutputArea();\n",
              "//# sourceURL=js_8973c9410f"
            ]
          },
          "metadata": {}
        },
        {
          "output_type": "display_data",
          "data": {
            "text/plain": [
              "<IPython.core.display.Javascript object>"
            ],
            "application/javascript": [
              "window[\"3d356ed2-ae72-11ed-a87c-0242ac1c000c\"] = document.querySelector(\"#id30-0-0\");\n",
              "//# sourceURL=js_e85b39685c"
            ]
          },
          "metadata": {}
        },
        {
          "output_type": "display_data",
          "data": {
            "text/plain": [
              "<IPython.core.display.Javascript object>"
            ],
            "application/javascript": [
              "window[\"3d35dc78-ae72-11ed-a87c-0242ac1c000c\"] = google.colab.output.setActiveOutputArea(window[\"3d356ed2-ae72-11ed-a87c-0242ac1c000c\"]);\n",
              "//# sourceURL=js_2ea460a446"
            ]
          },
          "metadata": {}
        },
        {
          "output_type": "display_data",
          "data": {
            "text/plain": [
              "<IPython.core.display.Javascript object>"
            ],
            "application/javascript": [
              "window[\"3d6e1430-ae72-11ed-a87c-0242ac1c000c\"] = google.colab.output.setActiveOutputArea(window[\"3d34fcf4-ae72-11ed-a87c-0242ac1c000c\"]);\n",
              "//# sourceURL=js_4fb97d735d"
            ]
          },
          "metadata": {}
        },
        {
          "output_type": "display_data",
          "data": {
            "text/plain": [
              "<IPython.core.display.Javascript object>"
            ],
            "application/javascript": [
              "window[\"3e09ccc2-ae72-11ed-a87c-0242ac1c000c\"] = google.colab.output.getActiveOutputArea();\n",
              "//# sourceURL=js_ae700437bf"
            ]
          },
          "metadata": {}
        },
        {
          "output_type": "display_data",
          "data": {
            "text/plain": [
              "<IPython.core.display.Javascript object>"
            ],
            "application/javascript": [
              "window[\"3e0a2d2a-ae72-11ed-a87c-0242ac1c000c\"] = document.querySelector(\"#id30-0-0\");\n",
              "//# sourceURL=js_98bfdcbd92"
            ]
          },
          "metadata": {}
        },
        {
          "output_type": "display_data",
          "data": {
            "text/plain": [
              "<IPython.core.display.Javascript object>"
            ],
            "application/javascript": [
              "window[\"3e0a88f6-ae72-11ed-a87c-0242ac1c000c\"] = google.colab.output.setActiveOutputArea(window[\"3e0a2d2a-ae72-11ed-a87c-0242ac1c000c\"]);\n",
              "//# sourceURL=js_e26db7a0f7"
            ]
          },
          "metadata": {}
        },
        {
          "output_type": "display_data",
          "data": {
            "text/plain": [
              "<IPython.core.display.Javascript object>"
            ],
            "application/javascript": [
              "window[\"3e226908-ae72-11ed-a87c-0242ac1c000c\"] = google.colab.output.setActiveOutputArea(window[\"3e09ccc2-ae72-11ed-a87c-0242ac1c000c\"]);\n",
              "//# sourceURL=js_66bd41c045"
            ]
          },
          "metadata": {}
        },
        {
          "output_type": "display_data",
          "data": {
            "text/plain": [
              "<IPython.core.display.Javascript object>"
            ],
            "application/javascript": [
              "window[\"3ebd19bc-ae72-11ed-a87c-0242ac1c000c\"] = google.colab.output.getActiveOutputArea();\n",
              "//# sourceURL=js_be40b04c48"
            ]
          },
          "metadata": {}
        },
        {
          "output_type": "display_data",
          "data": {
            "text/plain": [
              "<IPython.core.display.Javascript object>"
            ],
            "application/javascript": [
              "window[\"3ebd75ec-ae72-11ed-a87c-0242ac1c000c\"] = document.querySelector(\"#id30-0-0\");\n",
              "//# sourceURL=js_1b3409f9df"
            ]
          },
          "metadata": {}
        },
        {
          "output_type": "display_data",
          "data": {
            "text/plain": [
              "<IPython.core.display.Javascript object>"
            ],
            "application/javascript": [
              "window[\"3ebdcb3c-ae72-11ed-a87c-0242ac1c000c\"] = google.colab.output.setActiveOutputArea(window[\"3ebd75ec-ae72-11ed-a87c-0242ac1c000c\"]);\n",
              "//# sourceURL=js_a597d3f6a7"
            ]
          },
          "metadata": {}
        },
        {
          "output_type": "display_data",
          "data": {
            "text/plain": [
              "<IPython.core.display.Javascript object>"
            ],
            "application/javascript": [
              "window[\"3ed6682c-ae72-11ed-a87c-0242ac1c000c\"] = google.colab.output.setActiveOutputArea(window[\"3ebd19bc-ae72-11ed-a87c-0242ac1c000c\"]);\n",
              "//# sourceURL=js_b2696ba583"
            ]
          },
          "metadata": {}
        },
        {
          "output_type": "display_data",
          "data": {
            "text/plain": [
              "<IPython.core.display.Javascript object>"
            ],
            "application/javascript": [
              "window[\"3f7190fe-ae72-11ed-a87c-0242ac1c000c\"] = google.colab.output.getActiveOutputArea();\n",
              "//# sourceURL=js_0eb975b008"
            ]
          },
          "metadata": {}
        },
        {
          "output_type": "display_data",
          "data": {
            "text/plain": [
              "<IPython.core.display.Javascript object>"
            ],
            "application/javascript": [
              "window[\"3f72078c-ae72-11ed-a87c-0242ac1c000c\"] = document.querySelector(\"#id30-0-0\");\n",
              "//# sourceURL=js_ed0022e848"
            ]
          },
          "metadata": {}
        },
        {
          "output_type": "display_data",
          "data": {
            "text/plain": [
              "<IPython.core.display.Javascript object>"
            ],
            "application/javascript": [
              "window[\"3f7276c2-ae72-11ed-a87c-0242ac1c000c\"] = google.colab.output.setActiveOutputArea(window[\"3f72078c-ae72-11ed-a87c-0242ac1c000c\"]);\n",
              "//# sourceURL=js_fe4bc9e453"
            ]
          },
          "metadata": {}
        },
        {
          "output_type": "display_data",
          "data": {
            "text/plain": [
              "<IPython.core.display.Javascript object>"
            ],
            "application/javascript": [
              "window[\"3f8d94b6-ae72-11ed-a87c-0242ac1c000c\"] = google.colab.output.setActiveOutputArea(window[\"3f7190fe-ae72-11ed-a87c-0242ac1c000c\"]);\n",
              "//# sourceURL=js_e108396a46"
            ]
          },
          "metadata": {}
        },
        {
          "output_type": "display_data",
          "data": {
            "text/plain": [
              "<IPython.core.display.Javascript object>"
            ],
            "application/javascript": [
              "window[\"4028e0b0-ae72-11ed-a87c-0242ac1c000c\"] = google.colab.output.getActiveOutputArea();\n",
              "//# sourceURL=js_6e1d115026"
            ]
          },
          "metadata": {}
        },
        {
          "output_type": "display_data",
          "data": {
            "text/plain": [
              "<IPython.core.display.Javascript object>"
            ],
            "application/javascript": [
              "window[\"40292b24-ae72-11ed-a87c-0242ac1c000c\"] = document.querySelector(\"#id30-0-0\");\n",
              "//# sourceURL=js_9ffc2f384f"
            ]
          },
          "metadata": {}
        },
        {
          "output_type": "display_data",
          "data": {
            "text/plain": [
              "<IPython.core.display.Javascript object>"
            ],
            "application/javascript": [
              "window[\"40297462-ae72-11ed-a87c-0242ac1c000c\"] = google.colab.output.setActiveOutputArea(window[\"40292b24-ae72-11ed-a87c-0242ac1c000c\"]);\n",
              "//# sourceURL=js_2ad5beb7e4"
            ]
          },
          "metadata": {}
        },
        {
          "output_type": "display_data",
          "data": {
            "text/plain": [
              "<IPython.core.display.Javascript object>"
            ],
            "application/javascript": [
              "window[\"4041a460-ae72-11ed-a87c-0242ac1c000c\"] = google.colab.output.setActiveOutputArea(window[\"4028e0b0-ae72-11ed-a87c-0242ac1c000c\"]);\n",
              "//# sourceURL=js_e6de5767c5"
            ]
          },
          "metadata": {}
        },
        {
          "output_type": "display_data",
          "data": {
            "text/plain": [
              "<IPython.core.display.Javascript object>"
            ],
            "application/javascript": [
              "window[\"40dc8426-ae72-11ed-a87c-0242ac1c000c\"] = google.colab.output.getActiveOutputArea();\n",
              "//# sourceURL=js_9006ab5c00"
            ]
          },
          "metadata": {}
        },
        {
          "output_type": "display_data",
          "data": {
            "text/plain": [
              "<IPython.core.display.Javascript object>"
            ],
            "application/javascript": [
              "window[\"40dccd3c-ae72-11ed-a87c-0242ac1c000c\"] = document.querySelector(\"#id30-0-0\");\n",
              "//# sourceURL=js_e3bce721e2"
            ]
          },
          "metadata": {}
        },
        {
          "output_type": "display_data",
          "data": {
            "text/plain": [
              "<IPython.core.display.Javascript object>"
            ],
            "application/javascript": [
              "window[\"40dd4af0-ae72-11ed-a87c-0242ac1c000c\"] = google.colab.output.setActiveOutputArea(window[\"40dccd3c-ae72-11ed-a87c-0242ac1c000c\"]);\n",
              "//# sourceURL=js_6498d66fbd"
            ]
          },
          "metadata": {}
        },
        {
          "output_type": "display_data",
          "data": {
            "text/plain": [
              "<IPython.core.display.Javascript object>"
            ],
            "application/javascript": [
              "window[\"40f49944-ae72-11ed-a87c-0242ac1c000c\"] = google.colab.output.setActiveOutputArea(window[\"40dc8426-ae72-11ed-a87c-0242ac1c000c\"]);\n",
              "//# sourceURL=js_7f87fc1d9d"
            ]
          },
          "metadata": {}
        },
        {
          "output_type": "display_data",
          "data": {
            "text/plain": [
              "<IPython.core.display.Javascript object>"
            ],
            "application/javascript": [
              "window[\"418f5574-ae72-11ed-a87c-0242ac1c000c\"] = google.colab.output.getActiveOutputArea();\n",
              "//# sourceURL=js_7f4e9160a1"
            ]
          },
          "metadata": {}
        },
        {
          "output_type": "display_data",
          "data": {
            "text/plain": [
              "<IPython.core.display.Javascript object>"
            ],
            "application/javascript": [
              "window[\"418fa786-ae72-11ed-a87c-0242ac1c000c\"] = document.querySelector(\"#id30-0-0\");\n",
              "//# sourceURL=js_e8de28e411"
            ]
          },
          "metadata": {}
        },
        {
          "output_type": "display_data",
          "data": {
            "text/plain": [
              "<IPython.core.display.Javascript object>"
            ],
            "application/javascript": [
              "window[\"418ff718-ae72-11ed-a87c-0242ac1c000c\"] = google.colab.output.setActiveOutputArea(window[\"418fa786-ae72-11ed-a87c-0242ac1c000c\"]);\n",
              "//# sourceURL=js_1971cc5a30"
            ]
          },
          "metadata": {}
        },
        {
          "output_type": "display_data",
          "data": {
            "text/plain": [
              "<IPython.core.display.Javascript object>"
            ],
            "application/javascript": [
              "window[\"41a88684-ae72-11ed-a87c-0242ac1c000c\"] = google.colab.output.setActiveOutputArea(window[\"418f5574-ae72-11ed-a87c-0242ac1c000c\"]);\n",
              "//# sourceURL=js_6ed130f96f"
            ]
          },
          "metadata": {}
        },
        {
          "output_type": "display_data",
          "data": {
            "text/plain": [
              "<IPython.core.display.Javascript object>"
            ],
            "application/javascript": [
              "window[\"42437c0c-ae72-11ed-a87c-0242ac1c000c\"] = google.colab.output.getActiveOutputArea();\n",
              "//# sourceURL=js_b9039e73da"
            ]
          },
          "metadata": {}
        },
        {
          "output_type": "display_data",
          "data": {
            "text/plain": [
              "<IPython.core.display.Javascript object>"
            ],
            "application/javascript": [
              "window[\"4243c82e-ae72-11ed-a87c-0242ac1c000c\"] = document.querySelector(\"#id30-0-0\");\n",
              "//# sourceURL=js_3a05709c93"
            ]
          },
          "metadata": {}
        },
        {
          "output_type": "display_data",
          "data": {
            "text/plain": [
              "<IPython.core.display.Javascript object>"
            ],
            "application/javascript": [
              "window[\"4244132e-ae72-11ed-a87c-0242ac1c000c\"] = google.colab.output.setActiveOutputArea(window[\"4243c82e-ae72-11ed-a87c-0242ac1c000c\"]);\n",
              "//# sourceURL=js_a8831f9100"
            ]
          },
          "metadata": {}
        },
        {
          "output_type": "display_data",
          "data": {
            "text/plain": [
              "<IPython.core.display.Javascript object>"
            ],
            "application/javascript": [
              "window[\"425af44a-ae72-11ed-a87c-0242ac1c000c\"] = google.colab.output.setActiveOutputArea(window[\"42437c0c-ae72-11ed-a87c-0242ac1c000c\"]);\n",
              "//# sourceURL=js_82a9ef4a33"
            ]
          },
          "metadata": {}
        },
        {
          "output_type": "display_data",
          "data": {
            "text/plain": [
              "<IPython.core.display.Javascript object>"
            ],
            "application/javascript": [
              "window[\"42f65a02-ae72-11ed-a87c-0242ac1c000c\"] = google.colab.output.getActiveOutputArea();\n",
              "//# sourceURL=js_d7a2d4adbd"
            ]
          },
          "metadata": {}
        },
        {
          "output_type": "display_data",
          "data": {
            "text/plain": [
              "<IPython.core.display.Javascript object>"
            ],
            "application/javascript": [
              "window[\"42f6a980-ae72-11ed-a87c-0242ac1c000c\"] = document.querySelector(\"#id30-0-0\");\n",
              "//# sourceURL=js_920e26ea13"
            ]
          },
          "metadata": {}
        },
        {
          "output_type": "display_data",
          "data": {
            "text/plain": [
              "<IPython.core.display.Javascript object>"
            ],
            "application/javascript": [
              "window[\"42f702b8-ae72-11ed-a87c-0242ac1c000c\"] = google.colab.output.setActiveOutputArea(window[\"42f6a980-ae72-11ed-a87c-0242ac1c000c\"]);\n",
              "//# sourceURL=js_fccd3e3256"
            ]
          },
          "metadata": {}
        },
        {
          "output_type": "display_data",
          "data": {
            "text/plain": [
              "<IPython.core.display.Javascript object>"
            ],
            "application/javascript": [
              "window[\"430fc38e-ae72-11ed-a87c-0242ac1c000c\"] = google.colab.output.setActiveOutputArea(window[\"42f65a02-ae72-11ed-a87c-0242ac1c000c\"]);\n",
              "//# sourceURL=js_da51f03d32"
            ]
          },
          "metadata": {}
        },
        {
          "output_type": "display_data",
          "data": {
            "text/plain": [
              "<IPython.core.display.Javascript object>"
            ],
            "application/javascript": [
              "window[\"43abddc8-ae72-11ed-a87c-0242ac1c000c\"] = google.colab.output.getActiveOutputArea();\n",
              "//# sourceURL=js_8aab20420d"
            ]
          },
          "metadata": {}
        },
        {
          "output_type": "display_data",
          "data": {
            "text/plain": [
              "<IPython.core.display.Javascript object>"
            ],
            "application/javascript": [
              "window[\"43ac80c0-ae72-11ed-a87c-0242ac1c000c\"] = document.querySelector(\"#id30-0-0\");\n",
              "//# sourceURL=js_fcbcd8be42"
            ]
          },
          "metadata": {}
        },
        {
          "output_type": "display_data",
          "data": {
            "text/plain": [
              "<IPython.core.display.Javascript object>"
            ],
            "application/javascript": [
              "window[\"43accb7a-ae72-11ed-a87c-0242ac1c000c\"] = google.colab.output.setActiveOutputArea(window[\"43ac80c0-ae72-11ed-a87c-0242ac1c000c\"]);\n",
              "//# sourceURL=js_eff48ac569"
            ]
          },
          "metadata": {}
        },
        {
          "output_type": "display_data",
          "data": {
            "text/plain": [
              "<IPython.core.display.Javascript object>"
            ],
            "application/javascript": [
              "window[\"43d27672-ae72-11ed-a87c-0242ac1c000c\"] = google.colab.output.setActiveOutputArea(window[\"43abddc8-ae72-11ed-a87c-0242ac1c000c\"]);\n",
              "//# sourceURL=js_81131ccc07"
            ]
          },
          "metadata": {}
        },
        {
          "output_type": "display_data",
          "data": {
            "text/plain": [
              "<IPython.core.display.Javascript object>"
            ],
            "application/javascript": [
              "window[\"446e1abe-ae72-11ed-a87c-0242ac1c000c\"] = google.colab.output.getActiveOutputArea();\n",
              "//# sourceURL=js_1e46d019ac"
            ]
          },
          "metadata": {}
        },
        {
          "output_type": "display_data",
          "data": {
            "text/plain": [
              "<IPython.core.display.Javascript object>"
            ],
            "application/javascript": [
              "window[\"446e99c6-ae72-11ed-a87c-0242ac1c000c\"] = document.querySelector(\"#id30-0-0\");\n",
              "//# sourceURL=js_3571e5f3f8"
            ]
          },
          "metadata": {}
        },
        {
          "output_type": "display_data",
          "data": {
            "text/plain": [
              "<IPython.core.display.Javascript object>"
            ],
            "application/javascript": [
              "window[\"446f33cc-ae72-11ed-a87c-0242ac1c000c\"] = google.colab.output.setActiveOutputArea(window[\"446e99c6-ae72-11ed-a87c-0242ac1c000c\"]);\n",
              "//# sourceURL=js_1ef3fd3778"
            ]
          },
          "metadata": {}
        },
        {
          "output_type": "stream",
          "name": "stdout",
          "text": [
            "Environment Type ->  deterministic\n",
            "Reward ->  0\n",
            "Action ->  1\n",
            "Truncated ->  False\n",
            "Terminated ->  False\n",
            "Agent Position ->  [3 2]\n"
          ]
        },
        {
          "output_type": "display_data",
          "data": {
            "text/plain": [
              "<Figure size 432x288 with 1 Axes>"
            ],
            "image/png": "[encoded data removed]"
          },
          "metadata": {
            "needs_background": "light"
          }
        },
        {
          "output_type": "display_data",
          "data": {
            "text/plain": [
              "<IPython.core.display.Javascript object>"
            ],
            "application/javascript": [
              "window[\"448a7b82-ae72-11ed-a87c-0242ac1c000c\"] = google.colab.output.setActiveOutputArea(window[\"446e1abe-ae72-11ed-a87c-0242ac1c000c\"]);\n",
              "//# sourceURL=js_dda578810b"
            ]
          },
          "metadata": {}
        }
      ]
    },
    {
      "cell_type": "markdown",
      "source": [
        "************************************************************************\n",
        "Stochastic Environment: "
      ],
      "metadata": {
        "id": "HsP4eebNZnk5"
      }
    },
    {
      "cell_type": "code",
      "source": [
        "env = GridEnv(env_type = \"stochastic\")\n",
        "agent = RandomAgent(env)\n",
        "\n",
        "obs, info = env.reset()\n",
        "terminated, truncated = False, False\n",
        "\n",
        "output_grid = widgets.Grid(1, 1)\n",
        "with output_grid.output_to(0, 0):\n",
        "  env.render()\n",
        "\n",
        "while not terminated:\n",
        "  action = agent.step(obs)\n",
        "  #action = input()\n",
        "  observation, reward, terminated, truncated, info = env.step(action, obs)\n",
        "  with output_grid.output_to(0, 0):\n",
        "    output_grid.clear_cell()\n",
        "    plt.imshow(grid)\n",
        "    env.render()\n",
        "  time.sleep(1)"
      ],
      "metadata": {
        "colab": {
          "base_uri": "https://localhost:8080/",
          "height": 394
        },
        "id": "Xm6_yTZFDoO9",
        "outputId": "2099e655-54f4-4812-b740-f51b8a74e5bc"
      },
      "execution_count": 43,
      "outputs": [
        {
          "output_type": "display_data",
          "data": {
            "text/plain": [
              "<IPython.core.display.HTML object>"
            ],
            "text/html": [
              "<style>\n",
              "       table#id32, #id32 > tbody > tr > th, #id32 > tbody > tr > td {\n",
              "         border: 1px solid lightgray;\n",
              "         border-collapse:collapse;\n",
              "         \n",
              "        }</style>"
            ]
          },
          "metadata": {}
        },
        {
          "output_type": "display_data",
          "data": {
            "text/plain": [
              "<IPython.core.display.HTML object>"
            ],
            "text/html": [
              "<table id=id32><tr><td id=id32-0-0></td></tr></table>"
            ]
          },
          "metadata": {}
        },
        {
          "output_type": "display_data",
          "data": {
            "text/plain": [
              "<IPython.core.display.Javascript object>"
            ],
            "application/javascript": [
              "window[\"49c0eb40-ae72-11ed-a87c-0242ac1c000c\"] = google.colab.output.getActiveOutputArea();\n",
              "//# sourceURL=js_9f4042a68d"
            ]
          },
          "metadata": {}
        },
        {
          "output_type": "display_data",
          "data": {
            "text/plain": [
              "<IPython.core.display.Javascript object>"
            ],
            "application/javascript": [
              "window[\"49c149c8-ae72-11ed-a87c-0242ac1c000c\"] = document.querySelector(\"#id32-0-0\");\n",
              "//# sourceURL=js_aa3a64aa79"
            ]
          },
          "metadata": {}
        },
        {
          "output_type": "display_data",
          "data": {
            "text/plain": [
              "<IPython.core.display.Javascript object>"
            ],
            "application/javascript": [
              "window[\"49c1d2f8-ae72-11ed-a87c-0242ac1c000c\"] = google.colab.output.setActiveOutputArea(window[\"49c149c8-ae72-11ed-a87c-0242ac1c000c\"]);\n",
              "//# sourceURL=js_8f24ea4552"
            ]
          },
          "metadata": {}
        },
        {
          "output_type": "display_data",
          "data": {
            "text/plain": [
              "<IPython.core.display.Javascript object>"
            ],
            "application/javascript": [
              "window[\"49d9d8ee-ae72-11ed-a87c-0242ac1c000c\"] = google.colab.output.setActiveOutputArea(window[\"49c0eb40-ae72-11ed-a87c-0242ac1c000c\"]);\n",
              "//# sourceURL=js_4c16993a3a"
            ]
          },
          "metadata": {}
        },
        {
          "output_type": "display_data",
          "data": {
            "text/plain": [
              "<IPython.core.display.Javascript object>"
            ],
            "application/javascript": [
              "window[\"49dcb4b0-ae72-11ed-a87c-0242ac1c000c\"] = google.colab.output.getActiveOutputArea();\n",
              "//# sourceURL=js_b20c65abfb"
            ]
          },
          "metadata": {}
        },
        {
          "output_type": "display_data",
          "data": {
            "text/plain": [
              "<IPython.core.display.Javascript object>"
            ],
            "application/javascript": [
              "window[\"49dd13f6-ae72-11ed-a87c-0242ac1c000c\"] = document.querySelector(\"#id32-0-0\");\n",
              "//# sourceURL=js_423fff3e51"
            ]
          },
          "metadata": {}
        },
        {
          "output_type": "display_data",
          "data": {
            "text/plain": [
              "<IPython.core.display.Javascript object>"
            ],
            "application/javascript": [
              "window[\"49dd7468-ae72-11ed-a87c-0242ac1c000c\"] = google.colab.output.setActiveOutputArea(window[\"49dd13f6-ae72-11ed-a87c-0242ac1c000c\"]);\n",
              "//# sourceURL=js_e532539f4d"
            ]
          },
          "metadata": {}
        },
        {
          "output_type": "display_data",
          "data": {
            "text/plain": [
              "<IPython.core.display.Javascript object>"
            ],
            "application/javascript": [
              "window[\"49f6fabe-ae72-11ed-a87c-0242ac1c000c\"] = google.colab.output.setActiveOutputArea(window[\"49dcb4b0-ae72-11ed-a87c-0242ac1c000c\"]);\n",
              "//# sourceURL=js_11f156f02b"
            ]
          },
          "metadata": {}
        },
        {
          "output_type": "display_data",
          "data": {
            "text/plain": [
              "<IPython.core.display.Javascript object>"
            ],
            "application/javascript": [
              "window[\"4a928826-ae72-11ed-a87c-0242ac1c000c\"] = google.colab.output.getActiveOutputArea();\n",
              "//# sourceURL=js_962b629e2e"
            ]
          },
          "metadata": {}
        },
        {
          "output_type": "display_data",
          "data": {
            "text/plain": [
              "<IPython.core.display.Javascript object>"
            ],
            "application/javascript": [
              "window[\"4a92d97a-ae72-11ed-a87c-0242ac1c000c\"] = document.querySelector(\"#id32-0-0\");\n",
              "//# sourceURL=js_e1904b3562"
            ]
          },
          "metadata": {}
        },
        {
          "output_type": "display_data",
          "data": {
            "text/plain": [
              "<IPython.core.display.Javascript object>"
            ],
            "application/javascript": [
              "window[\"4a936df4-ae72-11ed-a87c-0242ac1c000c\"] = google.colab.output.setActiveOutputArea(window[\"4a92d97a-ae72-11ed-a87c-0242ac1c000c\"]);\n",
              "//# sourceURL=js_1b57cbcb55"
            ]
          },
          "metadata": {}
        },
        {
          "output_type": "display_data",
          "data": {
            "text/plain": [
              "<IPython.core.display.Javascript object>"
            ],
            "application/javascript": [
              "window[\"4ab7b7cc-ae72-11ed-a87c-0242ac1c000c\"] = google.colab.output.setActiveOutputArea(window[\"4a928826-ae72-11ed-a87c-0242ac1c000c\"]);\n",
              "//# sourceURL=js_fa350861c7"
            ]
          },
          "metadata": {}
        },
        {
          "output_type": "display_data",
          "data": {
            "text/plain": [
              "<IPython.core.display.Javascript object>"
            ],
            "application/javascript": [
              "window[\"4b52f386-ae72-11ed-a87c-0242ac1c000c\"] = google.colab.output.getActiveOutputArea();\n",
              "//# sourceURL=js_db71045c22"
            ]
          },
          "metadata": {}
        },
        {
          "output_type": "display_data",
          "data": {
            "text/plain": [
              "<IPython.core.display.Javascript object>"
            ],
            "application/javascript": [
              "window[\"4b535bdc-ae72-11ed-a87c-0242ac1c000c\"] = document.querySelector(\"#id32-0-0\");\n",
              "//# sourceURL=js_8f784ae0a4"
            ]
          },
          "metadata": {}
        },
        {
          "output_type": "display_data",
          "data": {
            "text/plain": [
              "<IPython.core.display.Javascript object>"
            ],
            "application/javascript": [
              "window[\"4b53b37a-ae72-11ed-a87c-0242ac1c000c\"] = google.colab.output.setActiveOutputArea(window[\"4b535bdc-ae72-11ed-a87c-0242ac1c000c\"]);\n",
              "//# sourceURL=js_a113c5f137"
            ]
          },
          "metadata": {}
        },
        {
          "output_type": "display_data",
          "data": {
            "text/plain": [
              "<IPython.core.display.Javascript object>"
            ],
            "application/javascript": [
              "window[\"4b6c5858-ae72-11ed-a87c-0242ac1c000c\"] = google.colab.output.setActiveOutputArea(window[\"4b52f386-ae72-11ed-a87c-0242ac1c000c\"]);\n",
              "//# sourceURL=js_3e0efcc005"
            ]
          },
          "metadata": {}
        },
        {
          "output_type": "display_data",
          "data": {
            "text/plain": [
              "<IPython.core.display.Javascript object>"
            ],
            "application/javascript": [
              "window[\"4c07dcd8-ae72-11ed-a87c-0242ac1c000c\"] = google.colab.output.getActiveOutputArea();\n",
              "//# sourceURL=js_94ee106761"
            ]
          },
          "metadata": {}
        },
        {
          "output_type": "display_data",
          "data": {
            "text/plain": [
              "<IPython.core.display.Javascript object>"
            ],
            "application/javascript": [
              "window[\"4c083246-ae72-11ed-a87c-0242ac1c000c\"] = document.querySelector(\"#id32-0-0\");\n",
              "//# sourceURL=js_6a9356aefa"
            ]
          },
          "metadata": {}
        },
        {
          "output_type": "display_data",
          "data": {
            "text/plain": [
              "<IPython.core.display.Javascript object>"
            ],
            "application/javascript": [
              "window[\"4c08e2b8-ae72-11ed-a87c-0242ac1c000c\"] = google.colab.output.setActiveOutputArea(window[\"4c083246-ae72-11ed-a87c-0242ac1c000c\"]);\n",
              "//# sourceURL=js_ec13569054"
            ]
          },
          "metadata": {}
        },
        {
          "output_type": "display_data",
          "data": {
            "text/plain": [
              "<IPython.core.display.Javascript object>"
            ],
            "application/javascript": [
              "window[\"4c23a29c-ae72-11ed-a87c-0242ac1c000c\"] = google.colab.output.setActiveOutputArea(window[\"4c07dcd8-ae72-11ed-a87c-0242ac1c000c\"]);\n",
              "//# sourceURL=js_b3f034297f"
            ]
          },
          "metadata": {}
        },
        {
          "output_type": "display_data",
          "data": {
            "text/plain": [
              "<IPython.core.display.Javascript object>"
            ],
            "application/javascript": [
              "window[\"4cbf2938-ae72-11ed-a87c-0242ac1c000c\"] = google.colab.output.getActiveOutputArea();\n",
              "//# sourceURL=js_30e725dbad"
            ]
          },
          "metadata": {}
        },
        {
          "output_type": "display_data",
          "data": {
            "text/plain": [
              "<IPython.core.display.Javascript object>"
            ],
            "application/javascript": [
              "window[\"4cbf886a-ae72-11ed-a87c-0242ac1c000c\"] = document.querySelector(\"#id32-0-0\");\n",
              "//# sourceURL=js_281504938a"
            ]
          },
          "metadata": {}
        },
        {
          "output_type": "display_data",
          "data": {
            "text/plain": [
              "<IPython.core.display.Javascript object>"
            ],
            "application/javascript": [
              "window[\"4cbfdc7a-ae72-11ed-a87c-0242ac1c000c\"] = google.colab.output.setActiveOutputArea(window[\"4cbf886a-ae72-11ed-a87c-0242ac1c000c\"]);\n",
              "//# sourceURL=js_e5cc9ffbf2"
            ]
          },
          "metadata": {}
        },
        {
          "output_type": "display_data",
          "data": {
            "text/plain": [
              "<IPython.core.display.Javascript object>"
            ],
            "application/javascript": [
              "window[\"4cd98b20-ae72-11ed-a87c-0242ac1c000c\"] = google.colab.output.setActiveOutputArea(window[\"4cbf2938-ae72-11ed-a87c-0242ac1c000c\"]);\n",
              "//# sourceURL=js_bc4ea1917b"
            ]
          },
          "metadata": {}
        },
        {
          "output_type": "display_data",
          "data": {
            "text/plain": [
              "<IPython.core.display.Javascript object>"
            ],
            "application/javascript": [
              "window[\"4d75154a-ae72-11ed-a87c-0242ac1c000c\"] = google.colab.output.getActiveOutputArea();\n",
              "//# sourceURL=js_6185b4ba49"
            ]
          },
          "metadata": {}
        },
        {
          "output_type": "display_data",
          "data": {
            "text/plain": [
              "<IPython.core.display.Javascript object>"
            ],
            "application/javascript": [
              "window[\"4d7599e8-ae72-11ed-a87c-0242ac1c000c\"] = document.querySelector(\"#id32-0-0\");\n",
              "//# sourceURL=js_07c251d85e"
            ]
          },
          "metadata": {}
        },
        {
          "output_type": "display_data",
          "data": {
            "text/plain": [
              "<IPython.core.display.Javascript object>"
            ],
            "application/javascript": [
              "window[\"4d7607e8-ae72-11ed-a87c-0242ac1c000c\"] = google.colab.output.setActiveOutputArea(window[\"4d7599e8-ae72-11ed-a87c-0242ac1c000c\"]);\n",
              "//# sourceURL=js_ab76d114f4"
            ]
          },
          "metadata": {}
        },
        {
          "output_type": "display_data",
          "data": {
            "text/plain": [
              "<IPython.core.display.Javascript object>"
            ],
            "application/javascript": [
              "window[\"4d907bd2-ae72-11ed-a87c-0242ac1c000c\"] = google.colab.output.setActiveOutputArea(window[\"4d75154a-ae72-11ed-a87c-0242ac1c000c\"]);\n",
              "//# sourceURL=js_a46d34265b"
            ]
          },
          "metadata": {}
        },
        {
          "output_type": "display_data",
          "data": {
            "text/plain": [
              "<IPython.core.display.Javascript object>"
            ],
            "application/javascript": [
              "window[\"4e2bb41c-ae72-11ed-a87c-0242ac1c000c\"] = google.colab.output.getActiveOutputArea();\n",
              "//# sourceURL=js_51acd13a2e"
            ]
          },
          "metadata": {}
        },
        {
          "output_type": "display_data",
          "data": {
            "text/plain": [
              "<IPython.core.display.Javascript object>"
            ],
            "application/javascript": [
              "window[\"4e2c00fc-ae72-11ed-a87c-0242ac1c000c\"] = document.querySelector(\"#id32-0-0\");\n",
              "//# sourceURL=js_e148d19276"
            ]
          },
          "metadata": {}
        },
        {
          "output_type": "display_data",
          "data": {
            "text/plain": [
              "<IPython.core.display.Javascript object>"
            ],
            "application/javascript": [
              "window[\"4e2c4f62-ae72-11ed-a87c-0242ac1c000c\"] = google.colab.output.setActiveOutputArea(window[\"4e2c00fc-ae72-11ed-a87c-0242ac1c000c\"]);\n",
              "//# sourceURL=js_6b267dfdaa"
            ]
          },
          "metadata": {}
        },
        {
          "output_type": "display_data",
          "data": {
            "text/plain": [
              "<IPython.core.display.Javascript object>"
            ],
            "application/javascript": [
              "window[\"4e44ff9e-ae72-11ed-a87c-0242ac1c000c\"] = google.colab.output.setActiveOutputArea(window[\"4e2bb41c-ae72-11ed-a87c-0242ac1c000c\"]);\n",
              "//# sourceURL=js_17cd5e718c"
            ]
          },
          "metadata": {}
        },
        {
          "output_type": "display_data",
          "data": {
            "text/plain": [
              "<IPython.core.display.Javascript object>"
            ],
            "application/javascript": [
              "window[\"4ee06420-ae72-11ed-a87c-0242ac1c000c\"] = google.colab.output.getActiveOutputArea();\n",
              "//# sourceURL=js_6530931f9e"
            ]
          },
          "metadata": {}
        },
        {
          "output_type": "display_data",
          "data": {
            "text/plain": [
              "<IPython.core.display.Javascript object>"
            ],
            "application/javascript": [
              "window[\"4ee0e3b4-ae72-11ed-a87c-0242ac1c000c\"] = document.querySelector(\"#id32-0-0\");\n",
              "//# sourceURL=js_421b061f8c"
            ]
          },
          "metadata": {}
        },
        {
          "output_type": "display_data",
          "data": {
            "text/plain": [
              "<IPython.core.display.Javascript object>"
            ],
            "application/javascript": [
              "window[\"4ee19930-ae72-11ed-a87c-0242ac1c000c\"] = google.colab.output.setActiveOutputArea(window[\"4ee0e3b4-ae72-11ed-a87c-0242ac1c000c\"]);\n",
              "//# sourceURL=js_94dcb92728"
            ]
          },
          "metadata": {}
        },
        {
          "output_type": "display_data",
          "data": {
            "text/plain": [
              "<IPython.core.display.Javascript object>"
            ],
            "application/javascript": [
              "window[\"4ef9acf0-ae72-11ed-a87c-0242ac1c000c\"] = google.colab.output.setActiveOutputArea(window[\"4ee06420-ae72-11ed-a87c-0242ac1c000c\"]);\n",
              "//# sourceURL=js_07623acbc2"
            ]
          },
          "metadata": {}
        },
        {
          "output_type": "display_data",
          "data": {
            "text/plain": [
              "<IPython.core.display.Javascript object>"
            ],
            "application/javascript": [
              "window[\"4f949c2e-ae72-11ed-a87c-0242ac1c000c\"] = google.colab.output.getActiveOutputArea();\n",
              "//# sourceURL=js_faedaec694"
            ]
          },
          "metadata": {}
        },
        {
          "output_type": "display_data",
          "data": {
            "text/plain": [
              "<IPython.core.display.Javascript object>"
            ],
            "application/javascript": [
              "window[\"4f94eb02-ae72-11ed-a87c-0242ac1c000c\"] = document.querySelector(\"#id32-0-0\");\n",
              "//# sourceURL=js_6c9e73d6f9"
            ]
          },
          "metadata": {}
        },
        {
          "output_type": "display_data",
          "data": {
            "text/plain": [
              "<IPython.core.display.Javascript object>"
            ],
            "application/javascript": [
              "window[\"4f9537ec-ae72-11ed-a87c-0242ac1c000c\"] = google.colab.output.setActiveOutputArea(window[\"4f94eb02-ae72-11ed-a87c-0242ac1c000c\"]);\n",
              "//# sourceURL=js_6c4dd3de1a"
            ]
          },
          "metadata": {}
        },
        {
          "output_type": "display_data",
          "data": {
            "text/plain": [
              "<IPython.core.display.Javascript object>"
            ],
            "application/javascript": [
              "window[\"4fad16fa-ae72-11ed-a87c-0242ac1c000c\"] = google.colab.output.setActiveOutputArea(window[\"4f949c2e-ae72-11ed-a87c-0242ac1c000c\"]);\n",
              "//# sourceURL=js_f61e59ec2a"
            ]
          },
          "metadata": {}
        },
        {
          "output_type": "display_data",
          "data": {
            "text/plain": [
              "<IPython.core.display.Javascript object>"
            ],
            "application/javascript": [
              "window[\"50485be2-ae72-11ed-a87c-0242ac1c000c\"] = google.colab.output.getActiveOutputArea();\n",
              "//# sourceURL=js_38ea55de46"
            ]
          },
          "metadata": {}
        },
        {
          "output_type": "display_data",
          "data": {
            "text/plain": [
              "<IPython.core.display.Javascript object>"
            ],
            "application/javascript": [
              "window[\"5048abd8-ae72-11ed-a87c-0242ac1c000c\"] = document.querySelector(\"#id32-0-0\");\n",
              "//# sourceURL=js_fed493120c"
            ]
          },
          "metadata": {}
        },
        {
          "output_type": "display_data",
          "data": {
            "text/plain": [
              "<IPython.core.display.Javascript object>"
            ],
            "application/javascript": [
              "window[\"50491c58-ae72-11ed-a87c-0242ac1c000c\"] = google.colab.output.setActiveOutputArea(window[\"5048abd8-ae72-11ed-a87c-0242ac1c000c\"]);\n",
              "//# sourceURL=js_71167c6c43"
            ]
          },
          "metadata": {}
        },
        {
          "output_type": "display_data",
          "data": {
            "text/plain": [
              "<IPython.core.display.Javascript object>"
            ],
            "application/javascript": [
              "window[\"5061a778-ae72-11ed-a87c-0242ac1c000c\"] = google.colab.output.setActiveOutputArea(window[\"50485be2-ae72-11ed-a87c-0242ac1c000c\"]);\n",
              "//# sourceURL=js_671dd4d389"
            ]
          },
          "metadata": {}
        },
        {
          "output_type": "display_data",
          "data": {
            "text/plain": [
              "<IPython.core.display.Javascript object>"
            ],
            "application/javascript": [
              "window[\"50fe1f22-ae72-11ed-a87c-0242ac1c000c\"] = google.colab.output.getActiveOutputArea();\n",
              "//# sourceURL=js_05afde0f09"
            ]
          },
          "metadata": {}
        },
        {
          "output_type": "display_data",
          "data": {
            "text/plain": [
              "<IPython.core.display.Javascript object>"
            ],
            "application/javascript": [
              "window[\"50ff9780-ae72-11ed-a87c-0242ac1c000c\"] = document.querySelector(\"#id32-0-0\");\n",
              "//# sourceURL=js_817cde84f1"
            ]
          },
          "metadata": {}
        },
        {
          "output_type": "display_data",
          "data": {
            "text/plain": [
              "<IPython.core.display.Javascript object>"
            ],
            "application/javascript": [
              "window[\"5100ff30-ae72-11ed-a87c-0242ac1c000c\"] = google.colab.output.setActiveOutputArea(window[\"50ff9780-ae72-11ed-a87c-0242ac1c000c\"]);\n",
              "//# sourceURL=js_d4a7cdb9b3"
            ]
          },
          "metadata": {}
        },
        {
          "output_type": "display_data",
          "data": {
            "text/plain": [
              "<IPython.core.display.Javascript object>"
            ],
            "application/javascript": [
              "window[\"5129fcbe-ae72-11ed-a87c-0242ac1c000c\"] = google.colab.output.setActiveOutputArea(window[\"50fe1f22-ae72-11ed-a87c-0242ac1c000c\"]);\n",
              "//# sourceURL=js_695bc373ed"
            ]
          },
          "metadata": {}
        },
        {
          "output_type": "display_data",
          "data": {
            "text/plain": [
              "<IPython.core.display.Javascript object>"
            ],
            "application/javascript": [
              "window[\"51c5243c-ae72-11ed-a87c-0242ac1c000c\"] = google.colab.output.getActiveOutputArea();\n",
              "//# sourceURL=js_575804d29c"
            ]
          },
          "metadata": {}
        },
        {
          "output_type": "display_data",
          "data": {
            "text/plain": [
              "<IPython.core.display.Javascript object>"
            ],
            "application/javascript": [
              "window[\"51c5e4b2-ae72-11ed-a87c-0242ac1c000c\"] = document.querySelector(\"#id32-0-0\");\n",
              "//# sourceURL=js_e1ba71b7a4"
            ]
          },
          "metadata": {}
        },
        {
          "output_type": "display_data",
          "data": {
            "text/plain": [
              "<IPython.core.display.Javascript object>"
            ],
            "application/javascript": [
              "window[\"51c6f50a-ae72-11ed-a87c-0242ac1c000c\"] = google.colab.output.setActiveOutputArea(window[\"51c5e4b2-ae72-11ed-a87c-0242ac1c000c\"]);\n",
              "//# sourceURL=js_4e7e0fe8c1"
            ]
          },
          "metadata": {}
        },
        {
          "output_type": "display_data",
          "data": {
            "text/plain": [
              "<IPython.core.display.Javascript object>"
            ],
            "application/javascript": [
              "window[\"51f6ad4a-ae72-11ed-a87c-0242ac1c000c\"] = google.colab.output.setActiveOutputArea(window[\"51c5243c-ae72-11ed-a87c-0242ac1c000c\"]);\n",
              "//# sourceURL=js_e888910119"
            ]
          },
          "metadata": {}
        },
        {
          "output_type": "display_data",
          "data": {
            "text/plain": [
              "<IPython.core.display.Javascript object>"
            ],
            "application/javascript": [
              "window[\"52925a24-ae72-11ed-a87c-0242ac1c000c\"] = google.colab.output.getActiveOutputArea();\n",
              "//# sourceURL=js_f3135866a3"
            ]
          },
          "metadata": {}
        },
        {
          "output_type": "display_data",
          "data": {
            "text/plain": [
              "<IPython.core.display.Javascript object>"
            ],
            "application/javascript": [
              "window[\"529313ce-ae72-11ed-a87c-0242ac1c000c\"] = document.querySelector(\"#id32-0-0\");\n",
              "//# sourceURL=js_e0e4af6815"
            ]
          },
          "metadata": {}
        },
        {
          "output_type": "display_data",
          "data": {
            "text/plain": [
              "<IPython.core.display.Javascript object>"
            ],
            "application/javascript": [
              "window[\"52935f96-ae72-11ed-a87c-0242ac1c000c\"] = google.colab.output.setActiveOutputArea(window[\"529313ce-ae72-11ed-a87c-0242ac1c000c\"]);\n",
              "//# sourceURL=js_d8ddd6b676"
            ]
          },
          "metadata": {}
        },
        {
          "output_type": "display_data",
          "data": {
            "text/plain": [
              "<IPython.core.display.Javascript object>"
            ],
            "application/javascript": [
              "window[\"52ccaf80-ae72-11ed-a87c-0242ac1c000c\"] = google.colab.output.setActiveOutputArea(window[\"52925a24-ae72-11ed-a87c-0242ac1c000c\"]);\n",
              "//# sourceURL=js_37d201a006"
            ]
          },
          "metadata": {}
        },
        {
          "output_type": "display_data",
          "data": {
            "text/plain": [
              "<IPython.core.display.Javascript object>"
            ],
            "application/javascript": [
              "window[\"536767e6-ae72-11ed-a87c-0242ac1c000c\"] = google.colab.output.getActiveOutputArea();\n",
              "//# sourceURL=js_4fa4227adc"
            ]
          },
          "metadata": {}
        },
        {
          "output_type": "display_data",
          "data": {
            "text/plain": [
              "<IPython.core.display.Javascript object>"
            ],
            "application/javascript": [
              "window[\"5367ea0e-ae72-11ed-a87c-0242ac1c000c\"] = document.querySelector(\"#id32-0-0\");\n",
              "//# sourceURL=js_e7ac517aea"
            ]
          },
          "metadata": {}
        },
        {
          "output_type": "display_data",
          "data": {
            "text/plain": [
              "<IPython.core.display.Javascript object>"
            ],
            "application/javascript": [
              "window[\"53683770-ae72-11ed-a87c-0242ac1c000c\"] = google.colab.output.setActiveOutputArea(window[\"5367ea0e-ae72-11ed-a87c-0242ac1c000c\"]);\n",
              "//# sourceURL=js_efa1173c36"
            ]
          },
          "metadata": {}
        },
        {
          "output_type": "display_data",
          "data": {
            "text/plain": [
              "<IPython.core.display.Javascript object>"
            ],
            "application/javascript": [
              "window[\"53816826-ae72-11ed-a87c-0242ac1c000c\"] = google.colab.output.setActiveOutputArea(window[\"536767e6-ae72-11ed-a87c-0242ac1c000c\"]);\n",
              "//# sourceURL=js_d983a4b025"
            ]
          },
          "metadata": {}
        },
        {
          "output_type": "display_data",
          "data": {
            "text/plain": [
              "<IPython.core.display.Javascript object>"
            ],
            "application/javascript": [
              "window[\"541d44c6-ae72-11ed-a87c-0242ac1c000c\"] = google.colab.output.getActiveOutputArea();\n",
              "//# sourceURL=js_98a46f4288"
            ]
          },
          "metadata": {}
        },
        {
          "output_type": "display_data",
          "data": {
            "text/plain": [
              "<IPython.core.display.Javascript object>"
            ],
            "application/javascript": [
              "window[\"541db384-ae72-11ed-a87c-0242ac1c000c\"] = document.querySelector(\"#id32-0-0\");\n",
              "//# sourceURL=js_27968741c6"
            ]
          },
          "metadata": {}
        },
        {
          "output_type": "display_data",
          "data": {
            "text/plain": [
              "<IPython.core.display.Javascript object>"
            ],
            "application/javascript": [
              "window[\"541e21b6-ae72-11ed-a87c-0242ac1c000c\"] = google.colab.output.setActiveOutputArea(window[\"541db384-ae72-11ed-a87c-0242ac1c000c\"]);\n",
              "//# sourceURL=js_5f96fbe798"
            ]
          },
          "metadata": {}
        },
        {
          "output_type": "stream",
          "name": "stdout",
          "text": [
            "Environment Type ->  stochastic\n",
            "Random Number ->  0.14952696329931126\n",
            "Random Action ->  0\n",
            "Reward ->  0\n",
            "Truncated ->  False\n",
            "Terminated ->  False\n",
            "Agent Position ->  [2 4]\n"
          ]
        },
        {
          "output_type": "display_data",
          "data": {
            "text/plain": [
              "<Figure size 432x288 with 1 Axes>"
            ],
            "image/png": "[encoded data removed]"
          },
          "metadata": {
            "needs_background": "light"
          }
        },
        {
          "output_type": "display_data",
          "data": {
            "text/plain": [
              "<IPython.core.display.Javascript object>"
            ],
            "application/javascript": [
              "window[\"54395c1a-ae72-11ed-a87c-0242ac1c000c\"] = google.colab.output.setActiveOutputArea(window[\"541d44c6-ae72-11ed-a87c-0242ac1c000c\"]);\n",
              "//# sourceURL=js_a5a1246f42"
            ]
          },
          "metadata": {}
        }
      ]
    }
  ]
}