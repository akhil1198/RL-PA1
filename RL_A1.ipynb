{
  "nbformat": 4,
  "nbformat_minor": 0,
  "metadata": {
    "colab": {
      "provenance": [],
      "authorship_tag": "ABX9TyOj61E9lLxzz2rc/X7RyUIE",
      "include_colab_link": true
    },
    "kernelspec": {
      "name": "python3",
      "display_name": "Python 3"
    },
    "language_info": {
      "name": "python"
    }
  },
  "cells": [
    {
      "cell_type": "markdown",
      "metadata": {
        "id": "view-in-github",
        "colab_type": "text"
      },
      "source": [
        "<a href=\"https://colab.research.google.com/github/akhil1198/RL-PA1/blob/main/RL_A1.ipynb\" target=\"_parent\"><img src=\"https://colab.research.google.com/assets/colab-badge.svg\" alt=\"Open In Colab\"/></a>"
      ]
    },
    {
      "cell_type": "code",
      "execution_count": 1,
      "metadata": {
        "colab": {
          "base_uri": "https://localhost:8080/"
        },
        "id": "hw2TLyoAigYz",
        "outputId": "65fa9b3f-cbbc-4afa-8853-4ce48ed2653a"
      },
      "outputs": [
        {
          "output_type": "stream",
          "name": "stdout",
          "text": [
            "Looking in indexes: https://pypi.org/simple, https://us-python.pkg.dev/colab-wheels/public/simple/\n",
            "Collecting gymnasium\n",
            "  Downloading gymnasium-0.27.1-py3-none-any.whl (883 kB)\n",
            "\u001b[2K     \u001b[90m━━━━━━━━━━━━━━━━━━━━━━━━━━━━━━━━━━━━━━\u001b[0m \u001b[32m883.7/883.7 KB\u001b[0m \u001b[31m22.3 MB/s\u001b[0m eta \u001b[36m0:00:00\u001b[0m\n",
            "\u001b[?25hRequirement already satisfied: matplotlib in /usr/local/lib/python3.8/dist-packages (3.2.2)\n",
            "Requirement already satisfied: numpy in /usr/local/lib/python3.8/dist-packages (1.21.6)\n",
            "Requirement already satisfied: importlib-metadata>=4.8.0 in /usr/local/lib/python3.8/dist-packages (from gymnasium) (6.0.0)\n",
            "Requirement already satisfied: cloudpickle>=1.2.0 in /usr/local/lib/python3.8/dist-packages (from gymnasium) (2.2.1)\n",
            "Requirement already satisfied: typing-extensions>=4.3.0 in /usr/local/lib/python3.8/dist-packages (from gymnasium) (4.4.0)\n",
            "Collecting jax-jumpy>=0.2.0\n",
            "  Downloading jax_jumpy-0.2.0-py3-none-any.whl (11 kB)\n",
            "Collecting gymnasium-notices>=0.0.1\n",
            "  Downloading gymnasium_notices-0.0.1-py3-none-any.whl (2.8 kB)\n",
            "Requirement already satisfied: pyparsing!=2.0.4,!=2.1.2,!=2.1.6,>=2.0.1 in /usr/local/lib/python3.8/dist-packages (from matplotlib) (3.0.9)\n",
            "Requirement already satisfied: cycler>=0.10 in /usr/local/lib/python3.8/dist-packages (from matplotlib) (0.11.0)\n",
            "Requirement already satisfied: python-dateutil>=2.1 in /usr/local/lib/python3.8/dist-packages (from matplotlib) (2.8.2)\n",
            "Requirement already satisfied: kiwisolver>=1.0.1 in /usr/local/lib/python3.8/dist-packages (from matplotlib) (1.4.4)\n",
            "Requirement already satisfied: zipp>=0.5 in /usr/local/lib/python3.8/dist-packages (from importlib-metadata>=4.8.0->gymnasium) (3.12.1)\n",
            "Requirement already satisfied: six>=1.5 in /usr/local/lib/python3.8/dist-packages (from python-dateutil>=2.1->matplotlib) (1.15.0)\n",
            "Installing collected packages: gymnasium-notices, jax-jumpy, gymnasium\n",
            "Successfully installed gymnasium-0.27.1 gymnasium-notices-0.0.1 jax-jumpy-0.2.0\n"
          ]
        }
      ],
      "source": [
        "!pip install gymnasium matplotlib numpy"
      ]
    },
    {
      "cell_type": "code",
      "source": [
        "from google.colab import widgets\n",
        "import gymnasium as gym\n",
        "from gymnasium import spaces\n",
        "import matplotlib.pyplot as plt\n",
        "import numpy as np\n",
        "import time"
      ],
      "metadata": {
        "id": "9d4qlEyLjUam"
      },
      "execution_count": 2,
      "outputs": []
    },
    {
      "cell_type": "code",
      "source": [
        "output_grid = widgets.Grid(1,1)\n",
        "\n",
        "for _ in range(5):\n",
        "  grid = np.zeros((5, 5))\n",
        "  grid[np.random.randint(5), np.random.randint(5)] = 1\n",
        "\n",
        "  with output_grid.output_to(0,0):\n",
        "    output_grid.clear_cell()\n",
        "    plt.imshow(grid)\n",
        "  time.sleep(2) "
      ],
      "metadata": {
        "colab": {
          "base_uri": "https://localhost:8080/",
          "height": 269
        },
        "id": "1V9H_w_ujZIt",
        "outputId": "10f6e7b8-df29-4533-cace-b65d23596ee6"
      },
      "execution_count": 3,
      "outputs": [
        {
          "output_type": "display_data",
          "data": {
            "text/plain": [
              "<IPython.core.display.HTML object>"
            ],
            "text/html": [
              "<style>\n",
              "       table#id2, #id2 > tbody > tr > th, #id2 > tbody > tr > td {\n",
              "         border: 1px solid lightgray;\n",
              "         border-collapse:collapse;\n",
              "         \n",
              "        }</style>"
            ]
          },
          "metadata": {}
        },
        {
          "output_type": "display_data",
          "data": {
            "text/plain": [
              "<IPython.core.display.HTML object>"
            ],
            "text/html": [
              "<table id=id2><tr><td id=id2-0-0></td></tr></table>"
            ]
          },
          "metadata": {}
        },
        {
          "output_type": "display_data",
          "data": {
            "text/plain": [
              "<IPython.core.display.Javascript object>"
            ],
            "application/javascript": [
              "window[\"13e8d438-ae22-11ed-9084-0242ac1c000c\"] = google.colab.output.getActiveOutputArea();\n",
              "//# sourceURL=js_638d35c960"
            ]
          },
          "metadata": {}
        },
        {
          "output_type": "display_data",
          "data": {
            "text/plain": [
              "<IPython.core.display.Javascript object>"
            ],
            "application/javascript": [
              "window[\"13e93a7c-ae22-11ed-9084-0242ac1c000c\"] = document.querySelector(\"#id2-0-0\");\n",
              "//# sourceURL=js_8dc68ce454"
            ]
          },
          "metadata": {}
        },
        {
          "output_type": "display_data",
          "data": {
            "text/plain": [
              "<IPython.core.display.Javascript object>"
            ],
            "application/javascript": [
              "window[\"13e9a7e6-ae22-11ed-9084-0242ac1c000c\"] = google.colab.output.setActiveOutputArea(window[\"13e93a7c-ae22-11ed-9084-0242ac1c000c\"]);\n",
              "//# sourceURL=js_5a880a0fb4"
            ]
          },
          "metadata": {}
        },
        {
          "output_type": "display_data",
          "data": {
            "text/plain": [
              "<IPython.core.display.Javascript object>"
            ],
            "application/javascript": [
              "window[\"14082bd0-ae22-11ed-9084-0242ac1c000c\"] = google.colab.output.setActiveOutputArea(window[\"13e8d438-ae22-11ed-9084-0242ac1c000c\"]);\n",
              "//# sourceURL=js_ba914bbd33"
            ]
          },
          "metadata": {}
        },
        {
          "output_type": "display_data",
          "data": {
            "text/plain": [
              "<IPython.core.display.Javascript object>"
            ],
            "application/javascript": [
              "window[\"153cc812-ae22-11ed-9084-0242ac1c000c\"] = google.colab.output.getActiveOutputArea();\n",
              "//# sourceURL=js_ed9ca08d67"
            ]
          },
          "metadata": {}
        },
        {
          "output_type": "display_data",
          "data": {
            "text/plain": [
              "<IPython.core.display.Javascript object>"
            ],
            "application/javascript": [
              "window[\"153d2604-ae22-11ed-9084-0242ac1c000c\"] = document.querySelector(\"#id2-0-0\");\n",
              "//# sourceURL=js_f9b2217555"
            ]
          },
          "metadata": {}
        },
        {
          "output_type": "display_data",
          "data": {
            "text/plain": [
              "<IPython.core.display.Javascript object>"
            ],
            "application/javascript": [
              "window[\"153dccc6-ae22-11ed-9084-0242ac1c000c\"] = google.colab.output.setActiveOutputArea(window[\"153d2604-ae22-11ed-9084-0242ac1c000c\"]);\n",
              "//# sourceURL=js_712d0179dc"
            ]
          },
          "metadata": {}
        },
        {
          "output_type": "display_data",
          "data": {
            "text/plain": [
              "<IPython.core.display.Javascript object>"
            ],
            "application/javascript": [
              "window[\"1554cc00-ae22-11ed-9084-0242ac1c000c\"] = google.colab.output.setActiveOutputArea(window[\"153cc812-ae22-11ed-9084-0242ac1c000c\"]);\n",
              "//# sourceURL=js_944a42bf7d"
            ]
          },
          "metadata": {}
        },
        {
          "output_type": "display_data",
          "data": {
            "text/plain": [
              "<IPython.core.display.Javascript object>"
            ],
            "application/javascript": [
              "window[\"1688ee12-ae22-11ed-9084-0242ac1c000c\"] = google.colab.output.getActiveOutputArea();\n",
              "//# sourceURL=js_42c0b9fb35"
            ]
          },
          "metadata": {}
        },
        {
          "output_type": "display_data",
          "data": {
            "text/plain": [
              "<IPython.core.display.Javascript object>"
            ],
            "application/javascript": [
              "window[\"168943d0-ae22-11ed-9084-0242ac1c000c\"] = document.querySelector(\"#id2-0-0\");\n",
              "//# sourceURL=js_ab29b89168"
            ]
          },
          "metadata": {}
        },
        {
          "output_type": "display_data",
          "data": {
            "text/plain": [
              "<IPython.core.display.Javascript object>"
            ],
            "application/javascript": [
              "window[\"168a0306-ae22-11ed-9084-0242ac1c000c\"] = google.colab.output.setActiveOutputArea(window[\"168943d0-ae22-11ed-9084-0242ac1c000c\"]);\n",
              "//# sourceURL=js_c82fb2d97c"
            ]
          },
          "metadata": {}
        },
        {
          "output_type": "display_data",
          "data": {
            "text/plain": [
              "<IPython.core.display.Javascript object>"
            ],
            "application/javascript": [
              "window[\"16cee4b2-ae22-11ed-9084-0242ac1c000c\"] = google.colab.output.setActiveOutputArea(window[\"1688ee12-ae22-11ed-9084-0242ac1c000c\"]);\n",
              "//# sourceURL=js_8dd65a4fb4"
            ]
          },
          "metadata": {}
        },
        {
          "output_type": "display_data",
          "data": {
            "text/plain": [
              "<IPython.core.display.Javascript object>"
            ],
            "application/javascript": [
              "window[\"180d794c-ae22-11ed-9084-0242ac1c000c\"] = google.colab.output.getActiveOutputArea();\n",
              "//# sourceURL=js_d3923b0bdb"
            ]
          },
          "metadata": {}
        },
        {
          "output_type": "display_data",
          "data": {
            "text/plain": [
              "<IPython.core.display.Javascript object>"
            ],
            "application/javascript": [
              "window[\"180e5740-ae22-11ed-9084-0242ac1c000c\"] = document.querySelector(\"#id2-0-0\");\n",
              "//# sourceURL=js_3a6360a2c6"
            ]
          },
          "metadata": {}
        },
        {
          "output_type": "display_data",
          "data": {
            "text/plain": [
              "<IPython.core.display.Javascript object>"
            ],
            "application/javascript": [
              "window[\"18107322-ae22-11ed-9084-0242ac1c000c\"] = google.colab.output.setActiveOutputArea(window[\"180e5740-ae22-11ed-9084-0242ac1c000c\"]);\n",
              "//# sourceURL=js_e9f796bffb"
            ]
          },
          "metadata": {}
        },
        {
          "output_type": "display_data",
          "data": {
            "text/plain": [
              "<IPython.core.display.Javascript object>"
            ],
            "application/javascript": [
              "window[\"183a00c0-ae22-11ed-9084-0242ac1c000c\"] = google.colab.output.setActiveOutputArea(window[\"180d794c-ae22-11ed-9084-0242ac1c000c\"]);\n",
              "//# sourceURL=js_917dbca3db"
            ]
          },
          "metadata": {}
        },
        {
          "output_type": "display_data",
          "data": {
            "text/plain": [
              "<IPython.core.display.Javascript object>"
            ],
            "application/javascript": [
              "window[\"197262f2-ae22-11ed-9084-0242ac1c000c\"] = google.colab.output.getActiveOutputArea();\n",
              "//# sourceURL=js_27106383d8"
            ]
          },
          "metadata": {}
        },
        {
          "output_type": "display_data",
          "data": {
            "text/plain": [
              "<IPython.core.display.Javascript object>"
            ],
            "application/javascript": [
              "window[\"197427c2-ae22-11ed-9084-0242ac1c000c\"] = document.querySelector(\"#id2-0-0\");\n",
              "//# sourceURL=js_727a300048"
            ]
          },
          "metadata": {}
        },
        {
          "output_type": "display_data",
          "data": {
            "text/plain": [
              "<IPython.core.display.Javascript object>"
            ],
            "application/javascript": [
              "window[\"1974dd16-ae22-11ed-9084-0242ac1c000c\"] = google.colab.output.setActiveOutputArea(window[\"197427c2-ae22-11ed-9084-0242ac1c000c\"]);\n",
              "//# sourceURL=js_5c7505ee82"
            ]
          },
          "metadata": {}
        },
        {
          "output_type": "display_data",
          "data": {
            "text/plain": [
              "<Figure size 432x288 with 1 Axes>"
            ],
            "image/png": "[encoded data removed]"
          },
          "metadata": {
            "needs_background": "light"
          }
        },
        {
          "output_type": "display_data",
          "data": {
            "text/plain": [
              "<IPython.core.display.Javascript object>"
            ],
            "application/javascript": [
              "window[\"19d8bb7e-ae22-11ed-9084-0242ac1c000c\"] = google.colab.output.setActiveOutputArea(window[\"197262f2-ae22-11ed-9084-0242ac1c000c\"]);\n",
              "//# sourceURL=js_d48b4360fc"
            ]
          },
          "metadata": {}
        }
      ]
    },
    {
      "cell_type": "markdown",
      "source": [
        "Creating an Environment with all the actions, states, rewards and positions"
      ],
      "metadata": {
        "id": "x0kViSd_yd82"
      }
    },
    {
      "cell_type": "code",
      "source": [
        "class GridEnv(gym.Env):\n",
        "  def __init__(self, env_type=\"deterministic\"):\n",
        "    self.environment_width = 5\n",
        "    self.environment_height = 5\n",
        "    self.observation_space = spaces.Discrete(25)\n",
        "    self.action_space = spaces.Discrete(4)\n",
        "\n",
        "    self.timestep = 0\n",
        "    self.max_timesteps = 15\n",
        "\n",
        "    self.agent_pos = [0, 0]\n",
        "    self.goal_pos = [4, 4]\n",
        "\n",
        "    self.state = np.zeros((5,5))\n",
        "    self.state[tuple(self.agent_pos)] = 1\n",
        "    self.state[tuple(self.goal_pos)] = 0.5\n",
        "\n",
        "    self.reward_pos = np.asarray([[0, 4], [2, 1], [3, 4], [4, 2]])\n",
        "    self.negreward_pos = np.asarray([[1, 2], [3, 0], [3, 3]])\n",
        "\n",
        "  def reset(self):\n",
        "    self.state = np.zeros((5,5))\n",
        "    self.state[tuple(self.agent_pos)] = 1\n",
        "    self.state[tuple(self.goal_pos)] = 0.5\n",
        "    observation = self.state.flatten()\n",
        "\n",
        "    info = {}\n",
        "\n",
        "    return observation, info\n",
        "  \n",
        "  def step(self, action, obs):\n",
        "    #print(action)\n",
        "    action = int(action)\n",
        "    if action == 0:\n",
        "      #print(\"at 0 - > agent_pos[0] += 1\")\n",
        "      self.agent_pos[0] += 1\n",
        "    if action == 1:\n",
        "      #print(\"at 1 -> agent_pos[0] -= 1\")\n",
        "      self.agent_pos[0] -= 1\n",
        "    if action == 2:\n",
        "      #print(\"at 2 -> agent_pos[1] += 1\")\n",
        "      self.agent_pos[1] += 1\n",
        "    if action == 3:\n",
        "      #print(\"at 3 -> agent_pos[1] -= 1\")\n",
        "      self.agent_pos[1] -= 1\n",
        "    #print(self.agent_pos)\n",
        "    #Comment this to demonstrate the truncation condition.\n",
        "    self.agent_pos = np.clip(self.agent_pos, 0, 4)\n",
        "\n",
        "    self.state = np.zeros((5,5))\n",
        "    self.state[tuple(self.agent_pos)] = 1\n",
        "    self.state[tuple(self.goal_pos)] = 0.5\n",
        "    observation = self.state.flatten()\n",
        "\n",
        "    reward = 0\n",
        "    #[0, 4], [2, 1], [3, 4], [4, 2]\n",
        "    if np.array_equal(self.agent_pos, self.reward_pos[0]):\n",
        "      reward = reward + 2\n",
        "    \n",
        "    if np.array_equal(self.agent_pos, self.reward_pos[1]):\n",
        "      reward = reward + 4\n",
        "    \n",
        "    if np.array_equal(self.agent_pos, self.reward_pos[2]):\n",
        "      reward = reward + 8\n",
        "    \n",
        "    if np.array_equal(self.agent_pos, self.reward_pos[3]):\n",
        "      reward = reward + 6\n",
        "    \n",
        "\n",
        "    if np.array_equal(self.agent_pos, self.goal_pos):\n",
        "      reward += 100\n",
        "    \n",
        "\n",
        "    #[1, 2], [3, 0], [3, 3]\n",
        "    if np.array_equal(self.agent_pos, self.negreward_pos[0]):\n",
        "      reward = reward - 5\n",
        "    \n",
        "    if np.array_equal(self.agent_pos, self.negreward_pos[1]):\n",
        "      reward = reward - 6\n",
        "    \n",
        "    if np.array_equal(self.agent_pos, self.negreward_pos[2]):\n",
        "      reward = reward - 2 \n",
        "\n",
        "    self.timestep += 1\n",
        "\n",
        "    #print(\"truncated -> \", self.agent_pos,)\n",
        "    terminated = True if self.timestep >= self.max_timesteps else False\n",
        "    truncated = True if np.all((self.agent_pos[0] >= 0) & (self.agent_pos[0] <= 4) & (self.agent_pos[1] >= 0) & (self.agent_pos[1] <= 4)) else False\n",
        "\n",
        "    info = {}\n",
        "    \n",
        "    return observation, reward, terminated, truncated, info\n",
        "\n",
        "  def render(self):\n",
        "    print(\"Reward -> \", reward)\n",
        "    print(\"Action -> \", action)\n",
        "    print(\"Truncated -> \", truncated)\n",
        "    print(\"Terminated -> \", terminated)\n",
        "    print(\"Agent Position -> \", self.agent_pos)\n",
        "    plt.imshow(self.state)\n"
      ],
      "metadata": {
        "id": "uiH3nTLTj3qR"
      },
      "execution_count": 118,
      "outputs": []
    },
    {
      "cell_type": "markdown",
      "source": [
        "Creating a Random Agent "
      ],
      "metadata": {
        "id": "-7sNCX8TypM_"
      }
    },
    {
      "cell_type": "code",
      "source": [
        "class RandomAgent:\n",
        "  def __init__(self, env):\n",
        "    self.env = env\n",
        "    self.observation_space = env.observation_space\n",
        "    self.action_space = env.action_space\n",
        "  def step(self, obs):\n",
        "    return np.random.choice(self.action_space.n)\n",
        "  "
      ],
      "metadata": {
        "id": "WCTSceXW44Bk"
      },
      "execution_count": 119,
      "outputs": []
    },
    {
      "cell_type": "markdown",
      "source": [
        "Starting the execution by calling all the methods in the Environment until termination of process"
      ],
      "metadata": {
        "id": "fUGEwZh9yuUg"
      }
    },
    {
      "cell_type": "code",
      "source": [
        "env = GridEnv()\n",
        "agent = RandomAgent(env)\n",
        "\n",
        "obs, info = env.reset()\n",
        "terminated, truncated = False, False\n",
        "\n",
        "output_grid = widgets.Grid(1, 1)\n",
        "with output_grid.output_to(0, 0):\n",
        "  env.render()\n",
        "\n",
        "while not terminated:\n",
        "  action = agent.step(obs)\n",
        "  #action = input()\n",
        "  observation, reward, terminated, truncated, info = env.step(action, obs)\n",
        "  with output_grid.output_to(0, 0):\n",
        "    output_grid.clear_cell()\n",
        "    plt.imshow(grid)\n",
        "    env.render()\n",
        "  time.sleep(1)\n"
      ],
      "metadata": {
        "colab": {
          "base_uri": "https://localhost:8080/",
          "height": 358
        },
        "id": "f-iPycGP48pI",
        "outputId": "7b1cc7ad-48b4-4555-de37-f846e3cde628"
      },
      "execution_count": 120,
      "outputs": [
        {
          "output_type": "display_data",
          "data": {
            "text/plain": [
              "<IPython.core.display.HTML object>"
            ],
            "text/html": [
              "<style>\n",
              "       table#id98, #id98 > tbody > tr > th, #id98 > tbody > tr > td {\n",
              "         border: 1px solid lightgray;\n",
              "         border-collapse:collapse;\n",
              "         \n",
              "        }</style>"
            ]
          },
          "metadata": {}
        },
        {
          "output_type": "display_data",
          "data": {
            "text/plain": [
              "<IPython.core.display.HTML object>"
            ],
            "text/html": [
              "<table id=id98><tr><td id=id98-0-0></td></tr></table>"
            ]
          },
          "metadata": {}
        },
        {
          "output_type": "display_data",
          "data": {
            "text/plain": [
              "<IPython.core.display.Javascript object>"
            ],
            "application/javascript": [
              "window[\"799a01c8-ae39-11ed-9084-0242ac1c000c\"] = google.colab.output.getActiveOutputArea();\n",
              "//# sourceURL=js_d1d9d798a2"
            ]
          },
          "metadata": {}
        },
        {
          "output_type": "display_data",
          "data": {
            "text/plain": [
              "<IPython.core.display.Javascript object>"
            ],
            "application/javascript": [
              "window[\"799a3eae-ae39-11ed-9084-0242ac1c000c\"] = document.querySelector(\"#id98-0-0\");\n",
              "//# sourceURL=js_1b9b52b6af"
            ]
          },
          "metadata": {}
        },
        {
          "output_type": "display_data",
          "data": {
            "text/plain": [
              "<IPython.core.display.Javascript object>"
            ],
            "application/javascript": [
              "window[\"799a741e-ae39-11ed-9084-0242ac1c000c\"] = google.colab.output.setActiveOutputArea(window[\"799a3eae-ae39-11ed-9084-0242ac1c000c\"]);\n",
              "//# sourceURL=js_469960d941"
            ]
          },
          "metadata": {}
        },
        {
          "output_type": "display_data",
          "data": {
            "text/plain": [
              "<IPython.core.display.Javascript object>"
            ],
            "application/javascript": [
              "window[\"79aa3188-ae39-11ed-9084-0242ac1c000c\"] = google.colab.output.setActiveOutputArea(window[\"799a01c8-ae39-11ed-9084-0242ac1c000c\"]);\n",
              "//# sourceURL=js_9c6e011ad4"
            ]
          },
          "metadata": {}
        },
        {
          "output_type": "display_data",
          "data": {
            "text/plain": [
              "<IPython.core.display.Javascript object>"
            ],
            "application/javascript": [
              "window[\"79acf6d4-ae39-11ed-9084-0242ac1c000c\"] = google.colab.output.getActiveOutputArea();\n",
              "//# sourceURL=js_52f5839e53"
            ]
          },
          "metadata": {}
        },
        {
          "output_type": "display_data",
          "data": {
            "text/plain": [
              "<IPython.core.display.Javascript object>"
            ],
            "application/javascript": [
              "window[\"79ad5f84-ae39-11ed-9084-0242ac1c000c\"] = document.querySelector(\"#id98-0-0\");\n",
              "//# sourceURL=js_b1af2319be"
            ]
          },
          "metadata": {}
        },
        {
          "output_type": "display_data",
          "data": {
            "text/plain": [
              "<IPython.core.display.Javascript object>"
            ],
            "application/javascript": [
              "window[\"79adb808-ae39-11ed-9084-0242ac1c000c\"] = google.colab.output.setActiveOutputArea(window[\"79ad5f84-ae39-11ed-9084-0242ac1c000c\"]);\n",
              "//# sourceURL=js_5c9bef01ce"
            ]
          },
          "metadata": {}
        },
        {
          "output_type": "display_data",
          "data": {
            "text/plain": [
              "<IPython.core.display.Javascript object>"
            ],
            "application/javascript": [
              "window[\"79c1ec4c-ae39-11ed-9084-0242ac1c000c\"] = google.colab.output.setActiveOutputArea(window[\"79acf6d4-ae39-11ed-9084-0242ac1c000c\"]);\n",
              "//# sourceURL=js_e00854433b"
            ]
          },
          "metadata": {}
        },
        {
          "output_type": "display_data",
          "data": {
            "text/plain": [
              "<IPython.core.display.Javascript object>"
            ],
            "application/javascript": [
              "window[\"7a5ca89a-ae39-11ed-9084-0242ac1c000c\"] = google.colab.output.getActiveOutputArea();\n",
              "//# sourceURL=js_022e0bceb4"
            ]
          },
          "metadata": {}
        },
        {
          "output_type": "display_data",
          "data": {
            "text/plain": [
              "<IPython.core.display.Javascript object>"
            ],
            "application/javascript": [
              "window[\"7a5d0b78-ae39-11ed-9084-0242ac1c000c\"] = document.querySelector(\"#id98-0-0\");\n",
              "//# sourceURL=js_145239d90a"
            ]
          },
          "metadata": {}
        },
        {
          "output_type": "display_data",
          "data": {
            "text/plain": [
              "<IPython.core.display.Javascript object>"
            ],
            "application/javascript": [
              "window[\"7a5d970a-ae39-11ed-9084-0242ac1c000c\"] = google.colab.output.setActiveOutputArea(window[\"7a5d0b78-ae39-11ed-9084-0242ac1c000c\"]);\n",
              "//# sourceURL=js_ab3eff4315"
            ]
          },
          "metadata": {}
        },
        {
          "output_type": "display_data",
          "data": {
            "text/plain": [
              "<IPython.core.display.Javascript object>"
            ],
            "application/javascript": [
              "window[\"7a76e674-ae39-11ed-9084-0242ac1c000c\"] = google.colab.output.setActiveOutputArea(window[\"7a5ca89a-ae39-11ed-9084-0242ac1c000c\"]);\n",
              "//# sourceURL=js_7e80d668e2"
            ]
          },
          "metadata": {}
        },
        {
          "output_type": "display_data",
          "data": {
            "text/plain": [
              "<IPython.core.display.Javascript object>"
            ],
            "application/javascript": [
              "window[\"7b11b8c0-ae39-11ed-9084-0242ac1c000c\"] = google.colab.output.getActiveOutputArea();\n",
              "//# sourceURL=js_d765108fc8"
            ]
          },
          "metadata": {}
        },
        {
          "output_type": "display_data",
          "data": {
            "text/plain": [
              "<IPython.core.display.Javascript object>"
            ],
            "application/javascript": [
              "window[\"7b120a82-ae39-11ed-9084-0242ac1c000c\"] = document.querySelector(\"#id98-0-0\");\n",
              "//# sourceURL=js_6206288d59"
            ]
          },
          "metadata": {}
        },
        {
          "output_type": "display_data",
          "data": {
            "text/plain": [
              "<IPython.core.display.Javascript object>"
            ],
            "application/javascript": [
              "window[\"7b125f82-ae39-11ed-9084-0242ac1c000c\"] = google.colab.output.setActiveOutputArea(window[\"7b120a82-ae39-11ed-9084-0242ac1c000c\"]);\n",
              "//# sourceURL=js_9d1d8f4620"
            ]
          },
          "metadata": {}
        },
        {
          "output_type": "display_data",
          "data": {
            "text/plain": [
              "<IPython.core.display.Javascript object>"
            ],
            "application/javascript": [
              "window[\"7b250f1a-ae39-11ed-9084-0242ac1c000c\"] = google.colab.output.setActiveOutputArea(window[\"7b11b8c0-ae39-11ed-9084-0242ac1c000c\"]);\n",
              "//# sourceURL=js_315dfe6469"
            ]
          },
          "metadata": {}
        },
        {
          "output_type": "display_data",
          "data": {
            "text/plain": [
              "<IPython.core.display.Javascript object>"
            ],
            "application/javascript": [
              "window[\"7bbfe4e0-ae39-11ed-9084-0242ac1c000c\"] = google.colab.output.getActiveOutputArea();\n",
              "//# sourceURL=js_393f97a315"
            ]
          },
          "metadata": {}
        },
        {
          "output_type": "display_data",
          "data": {
            "text/plain": [
              "<IPython.core.display.Javascript object>"
            ],
            "application/javascript": [
              "window[\"7bc032ce-ae39-11ed-9084-0242ac1c000c\"] = document.querySelector(\"#id98-0-0\");\n",
              "//# sourceURL=js_5b164d5e71"
            ]
          },
          "metadata": {}
        },
        {
          "output_type": "display_data",
          "data": {
            "text/plain": [
              "<IPython.core.display.Javascript object>"
            ],
            "application/javascript": [
              "window[\"7bc07e46-ae39-11ed-9084-0242ac1c000c\"] = google.colab.output.setActiveOutputArea(window[\"7bc032ce-ae39-11ed-9084-0242ac1c000c\"]);\n",
              "//# sourceURL=js_ea835a7420"
            ]
          },
          "metadata": {}
        },
        {
          "output_type": "display_data",
          "data": {
            "text/plain": [
              "<IPython.core.display.Javascript object>"
            ],
            "application/javascript": [
              "window[\"7bd24da6-ae39-11ed-9084-0242ac1c000c\"] = google.colab.output.setActiveOutputArea(window[\"7bbfe4e0-ae39-11ed-9084-0242ac1c000c\"]);\n",
              "//# sourceURL=js_31bfce6b0f"
            ]
          },
          "metadata": {}
        },
        {
          "output_type": "display_data",
          "data": {
            "text/plain": [
              "<IPython.core.display.Javascript object>"
            ],
            "application/javascript": [
              "window[\"7c6db3fe-ae39-11ed-9084-0242ac1c000c\"] = google.colab.output.getActiveOutputArea();\n",
              "//# sourceURL=js_1994da89a5"
            ]
          },
          "metadata": {}
        },
        {
          "output_type": "display_data",
          "data": {
            "text/plain": [
              "<IPython.core.display.Javascript object>"
            ],
            "application/javascript": [
              "window[\"7c6e255a-ae39-11ed-9084-0242ac1c000c\"] = document.querySelector(\"#id98-0-0\");\n",
              "//# sourceURL=js_142bfde0c1"
            ]
          },
          "metadata": {}
        },
        {
          "output_type": "display_data",
          "data": {
            "text/plain": [
              "<IPython.core.display.Javascript object>"
            ],
            "application/javascript": [
              "window[\"7c6e8a90-ae39-11ed-9084-0242ac1c000c\"] = google.colab.output.setActiveOutputArea(window[\"7c6e255a-ae39-11ed-9084-0242ac1c000c\"]);\n",
              "//# sourceURL=js_480bce1503"
            ]
          },
          "metadata": {}
        },
        {
          "output_type": "display_data",
          "data": {
            "text/plain": [
              "<IPython.core.display.Javascript object>"
            ],
            "application/javascript": [
              "window[\"7c7f7332-ae39-11ed-9084-0242ac1c000c\"] = google.colab.output.setActiveOutputArea(window[\"7c6db3fe-ae39-11ed-9084-0242ac1c000c\"]);\n",
              "//# sourceURL=js_fc6e95e1c6"
            ]
          },
          "metadata": {}
        },
        {
          "output_type": "display_data",
          "data": {
            "text/plain": [
              "<IPython.core.display.Javascript object>"
            ],
            "application/javascript": [
              "window[\"7d1a4042-ae39-11ed-9084-0242ac1c000c\"] = google.colab.output.getActiveOutputArea();\n",
              "//# sourceURL=js_179b102003"
            ]
          },
          "metadata": {}
        },
        {
          "output_type": "display_data",
          "data": {
            "text/plain": [
              "<IPython.core.display.Javascript object>"
            ],
            "application/javascript": [
              "window[\"7d1a7f3a-ae39-11ed-9084-0242ac1c000c\"] = document.querySelector(\"#id98-0-0\");\n",
              "//# sourceURL=js_0dcbd6fe70"
            ]
          },
          "metadata": {}
        },
        {
          "output_type": "display_data",
          "data": {
            "text/plain": [
              "<IPython.core.display.Javascript object>"
            ],
            "application/javascript": [
              "window[\"7d1ab52c-ae39-11ed-9084-0242ac1c000c\"] = google.colab.output.setActiveOutputArea(window[\"7d1a7f3a-ae39-11ed-9084-0242ac1c000c\"]);\n",
              "//# sourceURL=js_9dbc3989f9"
            ]
          },
          "metadata": {}
        },
        {
          "output_type": "display_data",
          "data": {
            "text/plain": [
              "<IPython.core.display.Javascript object>"
            ],
            "application/javascript": [
              "window[\"7d2f2d90-ae39-11ed-9084-0242ac1c000c\"] = google.colab.output.setActiveOutputArea(window[\"7d1a4042-ae39-11ed-9084-0242ac1c000c\"]);\n",
              "//# sourceURL=js_7a697e0076"
            ]
          },
          "metadata": {}
        },
        {
          "output_type": "display_data",
          "data": {
            "text/plain": [
              "<IPython.core.display.Javascript object>"
            ],
            "application/javascript": [
              "window[\"7dc9f276-ae39-11ed-9084-0242ac1c000c\"] = google.colab.output.getActiveOutputArea();\n",
              "//# sourceURL=js_d0d488955e"
            ]
          },
          "metadata": {}
        },
        {
          "output_type": "display_data",
          "data": {
            "text/plain": [
              "<IPython.core.display.Javascript object>"
            ],
            "application/javascript": [
              "window[\"7dca347a-ae39-11ed-9084-0242ac1c000c\"] = document.querySelector(\"#id98-0-0\");\n",
              "//# sourceURL=js_78068f96ed"
            ]
          },
          "metadata": {}
        },
        {
          "output_type": "display_data",
          "data": {
            "text/plain": [
              "<IPython.core.display.Javascript object>"
            ],
            "application/javascript": [
              "window[\"7dca6440-ae39-11ed-9084-0242ac1c000c\"] = google.colab.output.setActiveOutputArea(window[\"7dca347a-ae39-11ed-9084-0242ac1c000c\"]);\n",
              "//# sourceURL=js_2f9827ca3b"
            ]
          },
          "metadata": {}
        },
        {
          "output_type": "display_data",
          "data": {
            "text/plain": [
              "<IPython.core.display.Javascript object>"
            ],
            "application/javascript": [
              "window[\"7dde22dc-ae39-11ed-9084-0242ac1c000c\"] = google.colab.output.setActiveOutputArea(window[\"7dc9f276-ae39-11ed-9084-0242ac1c000c\"]);\n",
              "//# sourceURL=js_590c672b32"
            ]
          },
          "metadata": {}
        },
        {
          "output_type": "display_data",
          "data": {
            "text/plain": [
              "<IPython.core.display.Javascript object>"
            ],
            "application/javascript": [
              "window[\"7e7902de-ae39-11ed-9084-0242ac1c000c\"] = google.colab.output.getActiveOutputArea();\n",
              "//# sourceURL=js_762030ad6e"
            ]
          },
          "metadata": {}
        },
        {
          "output_type": "display_data",
          "data": {
            "text/plain": [
              "<IPython.core.display.Javascript object>"
            ],
            "application/javascript": [
              "window[\"7e7955ea-ae39-11ed-9084-0242ac1c000c\"] = document.querySelector(\"#id98-0-0\");\n",
              "//# sourceURL=js_bf87451a85"
            ]
          },
          "metadata": {}
        },
        {
          "output_type": "display_data",
          "data": {
            "text/plain": [
              "<IPython.core.display.Javascript object>"
            ],
            "application/javascript": [
              "window[\"7e79af68-ae39-11ed-9084-0242ac1c000c\"] = google.colab.output.setActiveOutputArea(window[\"7e7955ea-ae39-11ed-9084-0242ac1c000c\"]);\n",
              "//# sourceURL=js_5d835c8172"
            ]
          },
          "metadata": {}
        },
        {
          "output_type": "display_data",
          "data": {
            "text/plain": [
              "<IPython.core.display.Javascript object>"
            ],
            "application/javascript": [
              "window[\"7e8bc874-ae39-11ed-9084-0242ac1c000c\"] = google.colab.output.setActiveOutputArea(window[\"7e7902de-ae39-11ed-9084-0242ac1c000c\"]);\n",
              "//# sourceURL=js_9a099ff51f"
            ]
          },
          "metadata": {}
        },
        {
          "output_type": "display_data",
          "data": {
            "text/plain": [
              "<IPython.core.display.Javascript object>"
            ],
            "application/javascript": [
              "window[\"7f275668-ae39-11ed-9084-0242ac1c000c\"] = google.colab.output.getActiveOutputArea();\n",
              "//# sourceURL=js_c2f2434d3c"
            ]
          },
          "metadata": {}
        },
        {
          "output_type": "display_data",
          "data": {
            "text/plain": [
              "<IPython.core.display.Javascript object>"
            ],
            "application/javascript": [
              "window[\"7f27aaf0-ae39-11ed-9084-0242ac1c000c\"] = document.querySelector(\"#id98-0-0\");\n",
              "//# sourceURL=js_7b2a59e160"
            ]
          },
          "metadata": {}
        },
        {
          "output_type": "display_data",
          "data": {
            "text/plain": [
              "<IPython.core.display.Javascript object>"
            ],
            "application/javascript": [
              "window[\"7f281030-ae39-11ed-9084-0242ac1c000c\"] = google.colab.output.setActiveOutputArea(window[\"7f27aaf0-ae39-11ed-9084-0242ac1c000c\"]);\n",
              "//# sourceURL=js_9415cd34da"
            ]
          },
          "metadata": {}
        },
        {
          "output_type": "display_data",
          "data": {
            "text/plain": [
              "<IPython.core.display.Javascript object>"
            ],
            "application/javascript": [
              "window[\"7f3cbbb6-ae39-11ed-9084-0242ac1c000c\"] = google.colab.output.setActiveOutputArea(window[\"7f275668-ae39-11ed-9084-0242ac1c000c\"]);\n",
              "//# sourceURL=js_7e3db82f1f"
            ]
          },
          "metadata": {}
        },
        {
          "output_type": "display_data",
          "data": {
            "text/plain": [
              "<IPython.core.display.Javascript object>"
            ],
            "application/javascript": [
              "window[\"7fd79190-ae39-11ed-9084-0242ac1c000c\"] = google.colab.output.getActiveOutputArea();\n",
              "//# sourceURL=js_5db695a49b"
            ]
          },
          "metadata": {}
        },
        {
          "output_type": "display_data",
          "data": {
            "text/plain": [
              "<IPython.core.display.Javascript object>"
            ],
            "application/javascript": [
              "window[\"7fd7d16e-ae39-11ed-9084-0242ac1c000c\"] = document.querySelector(\"#id98-0-0\");\n",
              "//# sourceURL=js_d94ec541d4"
            ]
          },
          "metadata": {}
        },
        {
          "output_type": "display_data",
          "data": {
            "text/plain": [
              "<IPython.core.display.Javascript object>"
            ],
            "application/javascript": [
              "window[\"7fd84d56-ae39-11ed-9084-0242ac1c000c\"] = google.colab.output.setActiveOutputArea(window[\"7fd7d16e-ae39-11ed-9084-0242ac1c000c\"]);\n",
              "//# sourceURL=js_be519bb97f"
            ]
          },
          "metadata": {}
        },
        {
          "output_type": "display_data",
          "data": {
            "text/plain": [
              "<IPython.core.display.Javascript object>"
            ],
            "application/javascript": [
              "window[\"7fecf562-ae39-11ed-9084-0242ac1c000c\"] = google.colab.output.setActiveOutputArea(window[\"7fd79190-ae39-11ed-9084-0242ac1c000c\"]);\n",
              "//# sourceURL=js_b4541e7d9f"
            ]
          },
          "metadata": {}
        },
        {
          "output_type": "display_data",
          "data": {
            "text/plain": [
              "<IPython.core.display.Javascript object>"
            ],
            "application/javascript": [
              "window[\"80890c9a-ae39-11ed-9084-0242ac1c000c\"] = google.colab.output.getActiveOutputArea();\n",
              "//# sourceURL=js_8847fe2226"
            ]
          },
          "metadata": {}
        },
        {
          "output_type": "display_data",
          "data": {
            "text/plain": [
              "<IPython.core.display.Javascript object>"
            ],
            "application/javascript": [
              "window[\"8089577c-ae39-11ed-9084-0242ac1c000c\"] = document.querySelector(\"#id98-0-0\");\n",
              "//# sourceURL=js_7e44bb407a"
            ]
          },
          "metadata": {}
        },
        {
          "output_type": "display_data",
          "data": {
            "text/plain": [
              "<IPython.core.display.Javascript object>"
            ],
            "application/javascript": [
              "window[\"8089c39c-ae39-11ed-9084-0242ac1c000c\"] = google.colab.output.setActiveOutputArea(window[\"8089577c-ae39-11ed-9084-0242ac1c000c\"]);\n",
              "//# sourceURL=js_1f89b3ca43"
            ]
          },
          "metadata": {}
        },
        {
          "output_type": "display_data",
          "data": {
            "text/plain": [
              "<IPython.core.display.Javascript object>"
            ],
            "application/javascript": [
              "window[\"809acf52-ae39-11ed-9084-0242ac1c000c\"] = google.colab.output.setActiveOutputArea(window[\"80890c9a-ae39-11ed-9084-0242ac1c000c\"]);\n",
              "//# sourceURL=js_a22521d974"
            ]
          },
          "metadata": {}
        },
        {
          "output_type": "display_data",
          "data": {
            "text/plain": [
              "<IPython.core.display.Javascript object>"
            ],
            "application/javascript": [
              "window[\"8135f266-ae39-11ed-9084-0242ac1c000c\"] = google.colab.output.getActiveOutputArea();\n",
              "//# sourceURL=js_bfa74e1efa"
            ]
          },
          "metadata": {}
        },
        {
          "output_type": "display_data",
          "data": {
            "text/plain": [
              "<IPython.core.display.Javascript object>"
            ],
            "application/javascript": [
              "window[\"81362c68-ae39-11ed-9084-0242ac1c000c\"] = document.querySelector(\"#id98-0-0\");\n",
              "//# sourceURL=js_dee5ca18f6"
            ]
          },
          "metadata": {}
        },
        {
          "output_type": "display_data",
          "data": {
            "text/plain": [
              "<IPython.core.display.Javascript object>"
            ],
            "application/javascript": [
              "window[\"81365c38-ae39-11ed-9084-0242ac1c000c\"] = google.colab.output.setActiveOutputArea(window[\"81362c68-ae39-11ed-9084-0242ac1c000c\"]);\n",
              "//# sourceURL=js_5c1119eb6e"
            ]
          },
          "metadata": {}
        },
        {
          "output_type": "display_data",
          "data": {
            "text/plain": [
              "<IPython.core.display.Javascript object>"
            ],
            "application/javascript": [
              "window[\"8151c9a0-ae39-11ed-9084-0242ac1c000c\"] = google.colab.output.setActiveOutputArea(window[\"8135f266-ae39-11ed-9084-0242ac1c000c\"]);\n",
              "//# sourceURL=js_77fe13f6ae"
            ]
          },
          "metadata": {}
        },
        {
          "output_type": "display_data",
          "data": {
            "text/plain": [
              "<IPython.core.display.Javascript object>"
            ],
            "application/javascript": [
              "window[\"81ecc63a-ae39-11ed-9084-0242ac1c000c\"] = google.colab.output.getActiveOutputArea();\n",
              "//# sourceURL=js_44e6e54fa2"
            ]
          },
          "metadata": {}
        },
        {
          "output_type": "display_data",
          "data": {
            "text/plain": [
              "<IPython.core.display.Javascript object>"
            ],
            "application/javascript": [
              "window[\"81ed1a18-ae39-11ed-9084-0242ac1c000c\"] = document.querySelector(\"#id98-0-0\");\n",
              "//# sourceURL=js_42b8d52868"
            ]
          },
          "metadata": {}
        },
        {
          "output_type": "display_data",
          "data": {
            "text/plain": [
              "<IPython.core.display.Javascript object>"
            ],
            "application/javascript": [
              "window[\"81ed616c-ae39-11ed-9084-0242ac1c000c\"] = google.colab.output.setActiveOutputArea(window[\"81ed1a18-ae39-11ed-9084-0242ac1c000c\"]);\n",
              "//# sourceURL=js_4b2970761f"
            ]
          },
          "metadata": {}
        },
        {
          "output_type": "display_data",
          "data": {
            "text/plain": [
              "<IPython.core.display.Javascript object>"
            ],
            "application/javascript": [
              "window[\"81ff66c8-ae39-11ed-9084-0242ac1c000c\"] = google.colab.output.setActiveOutputArea(window[\"81ecc63a-ae39-11ed-9084-0242ac1c000c\"]);\n",
              "//# sourceURL=js_b3dcfac66b"
            ]
          },
          "metadata": {}
        },
        {
          "output_type": "display_data",
          "data": {
            "text/plain": [
              "<IPython.core.display.Javascript object>"
            ],
            "application/javascript": [
              "window[\"829a50ac-ae39-11ed-9084-0242ac1c000c\"] = google.colab.output.getActiveOutputArea();\n",
              "//# sourceURL=js_5536e5129b"
            ]
          },
          "metadata": {}
        },
        {
          "output_type": "display_data",
          "data": {
            "text/plain": [
              "<IPython.core.display.Javascript object>"
            ],
            "application/javascript": [
              "window[\"829a9df0-ae39-11ed-9084-0242ac1c000c\"] = document.querySelector(\"#id98-0-0\");\n",
              "//# sourceURL=js_7d282fe83e"
            ]
          },
          "metadata": {}
        },
        {
          "output_type": "display_data",
          "data": {
            "text/plain": [
              "<IPython.core.display.Javascript object>"
            ],
            "application/javascript": [
              "window[\"829b1e42-ae39-11ed-9084-0242ac1c000c\"] = google.colab.output.setActiveOutputArea(window[\"829a9df0-ae39-11ed-9084-0242ac1c000c\"]);\n",
              "//# sourceURL=js_35221ffdb5"
            ]
          },
          "metadata": {}
        },
        {
          "output_type": "display_data",
          "data": {
            "text/plain": [
              "<IPython.core.display.Javascript object>"
            ],
            "application/javascript": [
              "window[\"82af8ad0-ae39-11ed-9084-0242ac1c000c\"] = google.colab.output.setActiveOutputArea(window[\"829a50ac-ae39-11ed-9084-0242ac1c000c\"]);\n",
              "//# sourceURL=js_1af0503049"
            ]
          },
          "metadata": {}
        },
        {
          "output_type": "display_data",
          "data": {
            "text/plain": [
              "<IPython.core.display.Javascript object>"
            ],
            "application/javascript": [
              "window[\"834b182e-ae39-11ed-9084-0242ac1c000c\"] = google.colab.output.getActiveOutputArea();\n",
              "//# sourceURL=js_aa6fa91fb6"
            ]
          },
          "metadata": {}
        },
        {
          "output_type": "display_data",
          "data": {
            "text/plain": [
              "<IPython.core.display.Javascript object>"
            ],
            "application/javascript": [
              "window[\"834b640a-ae39-11ed-9084-0242ac1c000c\"] = document.querySelector(\"#id98-0-0\");\n",
              "//# sourceURL=js_b86e160951"
            ]
          },
          "metadata": {}
        },
        {
          "output_type": "display_data",
          "data": {
            "text/plain": [
              "<IPython.core.display.Javascript object>"
            ],
            "application/javascript": [
              "window[\"834ba5f0-ae39-11ed-9084-0242ac1c000c\"] = google.colab.output.setActiveOutputArea(window[\"834b640a-ae39-11ed-9084-0242ac1c000c\"]);\n",
              "//# sourceURL=js_e300694c4c"
            ]
          },
          "metadata": {}
        },
        {
          "output_type": "stream",
          "name": "stdout",
          "text": [
            "Reward ->  -6\n",
            "Action ->  0\n",
            "Truncated ->  True\n",
            "Terminated ->  True\n",
            "Agent Position ->  [3 0]\n"
          ]
        },
        {
          "output_type": "display_data",
          "data": {
            "text/plain": [
              "<Figure size 432x288 with 1 Axes>"
            ],
            "image/png": "[encoded data removed]"
          },
          "metadata": {
            "needs_background": "light"
          }
        },
        {
          "output_type": "display_data",
          "data": {
            "text/plain": [
              "<IPython.core.display.Javascript object>"
            ],
            "application/javascript": [
              "window[\"835df6ec-ae39-11ed-9084-0242ac1c000c\"] = google.colab.output.setActiveOutputArea(window[\"834b182e-ae39-11ed-9084-0242ac1c000c\"]);\n",
              "//# sourceURL=js_17c0ae7828"
            ]
          },
          "metadata": {}
        }
      ]
    },
    {
      "cell_type": "code",
      "source": [
        "\n"
      ],
      "metadata": {
        "id": "vDA7cY78lVBJ"
      },
      "execution_count": 116,
      "outputs": []
    },
    {
      "cell_type": "code",
      "source": [],
      "metadata": {
        "id": "xJa4L5YOlZGQ"
      },
      "execution_count": 6,
      "outputs": []
    },
    {
      "cell_type": "code",
      "source": [],
      "metadata": {
        "id": "k1P-BbIB2D9c"
      },
      "execution_count": 6,
      "outputs": []
    }
  ]
}