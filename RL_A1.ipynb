{
  "nbformat": 4,
  "nbformat_minor": 0,
  "metadata": {
    "colab": {
      "provenance": [],
      "authorship_tag": "ABX9TyNuLfp1Z6g2cFtu4EVNZ2To",
      "include_colab_link": true
    },
    "kernelspec": {
      "name": "python3",
      "display_name": "Python 3"
    },
    "language_info": {
      "name": "python"
    }
  },
  "cells": [
    {
      "cell_type": "markdown",
      "metadata": {
        "id": "view-in-github",
        "colab_type": "text"
      },
      "source": [
        "<a href=\"https://colab.research.google.com/github/akhil1198/RL-PA1/blob/main/RL_A1.ipynb\" target=\"_parent\"><img src=\"https://colab.research.google.com/assets/colab-badge.svg\" alt=\"Open In Colab\"/></a>"
      ]
    },
    {
      "cell_type": "code",
      "execution_count": 1,
      "metadata": {
        "colab": {
          "base_uri": "https://localhost:8080/"
        },
        "id": "hw2TLyoAigYz",
        "outputId": "65fa9b3f-cbbc-4afa-8853-4ce48ed2653a"
      },
      "outputs": [
        {
          "output_type": "stream",
          "name": "stdout",
          "text": [
            "Looking in indexes: https://pypi.org/simple, https://us-python.pkg.dev/colab-wheels/public/simple/\n",
            "Collecting gymnasium\n",
            "  Downloading gymnasium-0.27.1-py3-none-any.whl (883 kB)\n",
            "\u001b[2K     \u001b[90m━━━━━━━━━━━━━━━━━━━━━━━━━━━━━━━━━━━━━━\u001b[0m \u001b[32m883.7/883.7 KB\u001b[0m \u001b[31m22.3 MB/s\u001b[0m eta \u001b[36m0:00:00\u001b[0m\n",
            "\u001b[?25hRequirement already satisfied: matplotlib in /usr/local/lib/python3.8/dist-packages (3.2.2)\n",
            "Requirement already satisfied: numpy in /usr/local/lib/python3.8/dist-packages (1.21.6)\n",
            "Requirement already satisfied: importlib-metadata>=4.8.0 in /usr/local/lib/python3.8/dist-packages (from gymnasium) (6.0.0)\n",
            "Requirement already satisfied: cloudpickle>=1.2.0 in /usr/local/lib/python3.8/dist-packages (from gymnasium) (2.2.1)\n",
            "Requirement already satisfied: typing-extensions>=4.3.0 in /usr/local/lib/python3.8/dist-packages (from gymnasium) (4.4.0)\n",
            "Collecting jax-jumpy>=0.2.0\n",
            "  Downloading jax_jumpy-0.2.0-py3-none-any.whl (11 kB)\n",
            "Collecting gymnasium-notices>=0.0.1\n",
            "  Downloading gymnasium_notices-0.0.1-py3-none-any.whl (2.8 kB)\n",
            "Requirement already satisfied: pyparsing!=2.0.4,!=2.1.2,!=2.1.6,>=2.0.1 in /usr/local/lib/python3.8/dist-packages (from matplotlib) (3.0.9)\n",
            "Requirement already satisfied: cycler>=0.10 in /usr/local/lib/python3.8/dist-packages (from matplotlib) (0.11.0)\n",
            "Requirement already satisfied: python-dateutil>=2.1 in /usr/local/lib/python3.8/dist-packages (from matplotlib) (2.8.2)\n",
            "Requirement already satisfied: kiwisolver>=1.0.1 in /usr/local/lib/python3.8/dist-packages (from matplotlib) (1.4.4)\n",
            "Requirement already satisfied: zipp>=0.5 in /usr/local/lib/python3.8/dist-packages (from importlib-metadata>=4.8.0->gymnasium) (3.12.1)\n",
            "Requirement already satisfied: six>=1.5 in /usr/local/lib/python3.8/dist-packages (from python-dateutil>=2.1->matplotlib) (1.15.0)\n",
            "Installing collected packages: gymnasium-notices, jax-jumpy, gymnasium\n",
            "Successfully installed gymnasium-0.27.1 gymnasium-notices-0.0.1 jax-jumpy-0.2.0\n"
          ]
        }
      ],
      "source": [
        "!pip install gymnasium matplotlib numpy"
      ]
    },
    {
      "cell_type": "code",
      "source": [
        "from google.colab import widgets\n",
        "import gymnasium as gym\n",
        "from gymnasium import spaces\n",
        "import matplotlib.pyplot as plt\n",
        "import numpy as np\n",
        "import time"
      ],
      "metadata": {
        "id": "9d4qlEyLjUam"
      },
      "execution_count": 2,
      "outputs": []
    },
    {
      "cell_type": "code",
      "source": [
        "output_grid = widgets.Grid(1,1)\n",
        "\n",
        "for _ in range(5):\n",
        "  grid = np.zeros((5, 5))\n",
        "  grid[np.random.randint(5), np.random.randint(5)] = 1\n",
        "\n",
        "  with output_grid.output_to(0,0):\n",
        "    output_grid.clear_cell()\n",
        "    plt.imshow(grid)\n",
        "  time.sleep(2) "
      ],
      "metadata": {
        "colab": {
          "base_uri": "https://localhost:8080/",
          "height": 269
        },
        "id": "1V9H_w_ujZIt",
        "outputId": "10f6e7b8-df29-4533-cace-b65d23596ee6"
      },
      "execution_count": 3,
      "outputs": [
        {
          "output_type": "display_data",
          "data": {
            "text/plain": [
              "<IPython.core.display.HTML object>"
            ],
            "text/html": [
              "<style>\n",
              "       table#id2, #id2 > tbody > tr > th, #id2 > tbody > tr > td {\n",
              "         border: 1px solid lightgray;\n",
              "         border-collapse:collapse;\n",
              "         \n",
              "        }</style>"
            ]
          },
          "metadata": {}
        },
        {
          "output_type": "display_data",
          "data": {
            "text/plain": [
              "<IPython.core.display.HTML object>"
            ],
            "text/html": [
              "<table id=id2><tr><td id=id2-0-0></td></tr></table>"
            ]
          },
          "metadata": {}
        },
        {
          "output_type": "display_data",
          "data": {
            "text/plain": [
              "<IPython.core.display.Javascript object>"
            ],
            "application/javascript": [
              "window[\"13e8d438-ae22-11ed-9084-0242ac1c000c\"] = google.colab.output.getActiveOutputArea();\n",
              "//# sourceURL=js_638d35c960"
            ]
          },
          "metadata": {}
        },
        {
          "output_type": "display_data",
          "data": {
            "text/plain": [
              "<IPython.core.display.Javascript object>"
            ],
            "application/javascript": [
              "window[\"13e93a7c-ae22-11ed-9084-0242ac1c000c\"] = document.querySelector(\"#id2-0-0\");\n",
              "//# sourceURL=js_8dc68ce454"
            ]
          },
          "metadata": {}
        },
        {
          "output_type": "display_data",
          "data": {
            "text/plain": [
              "<IPython.core.display.Javascript object>"
            ],
            "application/javascript": [
              "window[\"13e9a7e6-ae22-11ed-9084-0242ac1c000c\"] = google.colab.output.setActiveOutputArea(window[\"13e93a7c-ae22-11ed-9084-0242ac1c000c\"]);\n",
              "//# sourceURL=js_5a880a0fb4"
            ]
          },
          "metadata": {}
        },
        {
          "output_type": "display_data",
          "data": {
            "text/plain": [
              "<IPython.core.display.Javascript object>"
            ],
            "application/javascript": [
              "window[\"14082bd0-ae22-11ed-9084-0242ac1c000c\"] = google.colab.output.setActiveOutputArea(window[\"13e8d438-ae22-11ed-9084-0242ac1c000c\"]);\n",
              "//# sourceURL=js_ba914bbd33"
            ]
          },
          "metadata": {}
        },
        {
          "output_type": "display_data",
          "data": {
            "text/plain": [
              "<IPython.core.display.Javascript object>"
            ],
            "application/javascript": [
              "window[\"153cc812-ae22-11ed-9084-0242ac1c000c\"] = google.colab.output.getActiveOutputArea();\n",
              "//# sourceURL=js_ed9ca08d67"
            ]
          },
          "metadata": {}
        },
        {
          "output_type": "display_data",
          "data": {
            "text/plain": [
              "<IPython.core.display.Javascript object>"
            ],
            "application/javascript": [
              "window[\"153d2604-ae22-11ed-9084-0242ac1c000c\"] = document.querySelector(\"#id2-0-0\");\n",
              "//# sourceURL=js_f9b2217555"
            ]
          },
          "metadata": {}
        },
        {
          "output_type": "display_data",
          "data": {
            "text/plain": [
              "<IPython.core.display.Javascript object>"
            ],
            "application/javascript": [
              "window[\"153dccc6-ae22-11ed-9084-0242ac1c000c\"] = google.colab.output.setActiveOutputArea(window[\"153d2604-ae22-11ed-9084-0242ac1c000c\"]);\n",
              "//# sourceURL=js_712d0179dc"
            ]
          },
          "metadata": {}
        },
        {
          "output_type": "display_data",
          "data": {
            "text/plain": [
              "<IPython.core.display.Javascript object>"
            ],
            "application/javascript": [
              "window[\"1554cc00-ae22-11ed-9084-0242ac1c000c\"] = google.colab.output.setActiveOutputArea(window[\"153cc812-ae22-11ed-9084-0242ac1c000c\"]);\n",
              "//# sourceURL=js_944a42bf7d"
            ]
          },
          "metadata": {}
        },
        {
          "output_type": "display_data",
          "data": {
            "text/plain": [
              "<IPython.core.display.Javascript object>"
            ],
            "application/javascript": [
              "window[\"1688ee12-ae22-11ed-9084-0242ac1c000c\"] = google.colab.output.getActiveOutputArea();\n",
              "//# sourceURL=js_42c0b9fb35"
            ]
          },
          "metadata": {}
        },
        {
          "output_type": "display_data",
          "data": {
            "text/plain": [
              "<IPython.core.display.Javascript object>"
            ],
            "application/javascript": [
              "window[\"168943d0-ae22-11ed-9084-0242ac1c000c\"] = document.querySelector(\"#id2-0-0\");\n",
              "//# sourceURL=js_ab29b89168"
            ]
          },
          "metadata": {}
        },
        {
          "output_type": "display_data",
          "data": {
            "text/plain": [
              "<IPython.core.display.Javascript object>"
            ],
            "application/javascript": [
              "window[\"168a0306-ae22-11ed-9084-0242ac1c000c\"] = google.colab.output.setActiveOutputArea(window[\"168943d0-ae22-11ed-9084-0242ac1c000c\"]);\n",
              "//# sourceURL=js_c82fb2d97c"
            ]
          },
          "metadata": {}
        },
        {
          "output_type": "display_data",
          "data": {
            "text/plain": [
              "<IPython.core.display.Javascript object>"
            ],
            "application/javascript": [
              "window[\"16cee4b2-ae22-11ed-9084-0242ac1c000c\"] = google.colab.output.setActiveOutputArea(window[\"1688ee12-ae22-11ed-9084-0242ac1c000c\"]);\n",
              "//# sourceURL=js_8dd65a4fb4"
            ]
          },
          "metadata": {}
        },
        {
          "output_type": "display_data",
          "data": {
            "text/plain": [
              "<IPython.core.display.Javascript object>"
            ],
            "application/javascript": [
              "window[\"180d794c-ae22-11ed-9084-0242ac1c000c\"] = google.colab.output.getActiveOutputArea();\n",
              "//# sourceURL=js_d3923b0bdb"
            ]
          },
          "metadata": {}
        },
        {
          "output_type": "display_data",
          "data": {
            "text/plain": [
              "<IPython.core.display.Javascript object>"
            ],
            "application/javascript": [
              "window[\"180e5740-ae22-11ed-9084-0242ac1c000c\"] = document.querySelector(\"#id2-0-0\");\n",
              "//# sourceURL=js_3a6360a2c6"
            ]
          },
          "metadata": {}
        },
        {
          "output_type": "display_data",
          "data": {
            "text/plain": [
              "<IPython.core.display.Javascript object>"
            ],
            "application/javascript": [
              "window[\"18107322-ae22-11ed-9084-0242ac1c000c\"] = google.colab.output.setActiveOutputArea(window[\"180e5740-ae22-11ed-9084-0242ac1c000c\"]);\n",
              "//# sourceURL=js_e9f796bffb"
            ]
          },
          "metadata": {}
        },
        {
          "output_type": "display_data",
          "data": {
            "text/plain": [
              "<IPython.core.display.Javascript object>"
            ],
            "application/javascript": [
              "window[\"183a00c0-ae22-11ed-9084-0242ac1c000c\"] = google.colab.output.setActiveOutputArea(window[\"180d794c-ae22-11ed-9084-0242ac1c000c\"]);\n",
              "//# sourceURL=js_917dbca3db"
            ]
          },
          "metadata": {}
        },
        {
          "output_type": "display_data",
          "data": {
            "text/plain": [
              "<IPython.core.display.Javascript object>"
            ],
            "application/javascript": [
              "window[\"197262f2-ae22-11ed-9084-0242ac1c000c\"] = google.colab.output.getActiveOutputArea();\n",
              "//# sourceURL=js_27106383d8"
            ]
          },
          "metadata": {}
        },
        {
          "output_type": "display_data",
          "data": {
            "text/plain": [
              "<IPython.core.display.Javascript object>"
            ],
            "application/javascript": [
              "window[\"197427c2-ae22-11ed-9084-0242ac1c000c\"] = document.querySelector(\"#id2-0-0\");\n",
              "//# sourceURL=js_727a300048"
            ]
          },
          "metadata": {}
        },
        {
          "output_type": "display_data",
          "data": {
            "text/plain": [
              "<IPython.core.display.Javascript object>"
            ],
            "application/javascript": [
              "window[\"1974dd16-ae22-11ed-9084-0242ac1c000c\"] = google.colab.output.setActiveOutputArea(window[\"197427c2-ae22-11ed-9084-0242ac1c000c\"]);\n",
              "//# sourceURL=js_5c7505ee82"
            ]
          },
          "metadata": {}
        },
        {
          "output_type": "display_data",
          "data": {
            "text/plain": [
              "<Figure size 432x288 with 1 Axes>"
            ],
            "image/png": "[encoded data removed]"
          },
          "metadata": {
            "needs_background": "light"
          }
        },
        {
          "output_type": "display_data",
          "data": {
            "text/plain": [
              "<IPython.core.display.Javascript object>"
            ],
            "application/javascript": [
              "window[\"19d8bb7e-ae22-11ed-9084-0242ac1c000c\"] = google.colab.output.setActiveOutputArea(window[\"197262f2-ae22-11ed-9084-0242ac1c000c\"]);\n",
              "//# sourceURL=js_d48b4360fc"
            ]
          },
          "metadata": {}
        }
      ]
    },
    {
      "cell_type": "markdown",
      "source": [
        "Creating an Environment with all the actions, states, rewards and positions"
      ],
      "metadata": {
        "id": "x0kViSd_yd82"
      }
    },
    {
      "cell_type": "code",
      "source": [
        "from IPython.utils.path import random\n",
        "class GridEnv(gym.Env):\n",
        "  def __init__(self, env_type):\n",
        "    self.environment_type = env_type\n",
        "    self.environment_width = 5\n",
        "    self.environment_height = 5\n",
        "    self.observation_space = spaces.Discrete(25)\n",
        "    self.action_space = spaces.Discrete(4)\n",
        "\n",
        "    self.timestep = 0\n",
        "    self.max_timesteps = 15\n",
        "\n",
        "    self.agent_pos = [0, 0]\n",
        "    self.goal_pos = [4, 4]\n",
        "\n",
        "    self.state = np.zeros((5,5))\n",
        "    self.state[tuple(self.agent_pos)] = 1\n",
        "    self.state[tuple(self.goal_pos)] = 0.5\n",
        "\n",
        "    self.reward_pos = np.asarray([[0, 4], [2, 1], [3, 4], [4, 2]])\n",
        "    self.negreward_pos = np.asarray([[1, 2], [3, 0], [3, 3]])\n",
        "\n",
        "    #for stochastic env\n",
        "    self.random_number = 0\n",
        "    self.rand_action = 0\n",
        "\n",
        "  def reset(self):\n",
        "    self.state = np.zeros((5,5))\n",
        "    self.state[tuple(self.agent_pos)] = 1\n",
        "    self.state[tuple(self.goal_pos)] = 0.5\n",
        "    observation = self.state.flatten()\n",
        "\n",
        "    info = {}\n",
        "\n",
        "    return observation, info\n",
        "  \n",
        "  def step(self, action, obs):\n",
        "    #print(action)\n",
        "    action = int(action)\n",
        "    if action == 0:\n",
        "      #print(\"at 0 - > agent_pos[0] += 1\")\n",
        "      self.agent_pos[0] += 1\n",
        "    if action == 1:\n",
        "      #print(\"at 1 -> agent_pos[0] -= 1\")\n",
        "      self.agent_pos[0] -= 1\n",
        "    if action == 2:\n",
        "      #print(\"at 2 -> agent_pos[1] += 1\")\n",
        "      self.agent_pos[1] += 1\n",
        "    if action == 3:\n",
        "      #print(\"at 3 -> agent_pos[1] -= 1\")\n",
        "      self.agent_pos[1] -= 1\n",
        "    #stochastic method\n",
        "    if self.environment_type == \"stochastic\":\n",
        "      self.random_number = np.random.rand()\n",
        "      self.rand_action = np.random.randint(4)\n",
        "      if self.random_number < 0.9:\n",
        "        #print(\"Executing the right action -> \", action)\n",
        "        if action == 0:\n",
        "          #print(\"at 0 - > agent_pos[0] += 1\")\n",
        "          self.agent_pos[0] += 1\n",
        "        if action == 1:\n",
        "          #print(\"at 1 -> agent_pos[0] -= 1\")\n",
        "          self.agent_pos[0] -= 1\n",
        "        if action == 2:\n",
        "          #print(\"at 2 -> agent_pos[1] += 1\")\n",
        "          self.agent_pos[1] += 1\n",
        "        if action == 3:\n",
        "          #print(\"at 3 -> agent_pos[1] -= 1\")\n",
        "          self.agent_pos[1] -= 1\n",
        "      elif self.random_number > 0.9:\n",
        "        #print(\"Executing Random Action\", self.rand_action)\n",
        "        if self.rand_action == 0:\n",
        "          self.agent_pos[0] += 1\n",
        "        if self.rand_action == 1:\n",
        "          self.agent_pos[0] -= 1\n",
        "        if self.rand_action == 2:\n",
        "          self.agent_pos[1] += 1\n",
        "        if self.rand_action == 3:\n",
        "          self.agent_pos[1] -= 1\n",
        "      \n",
        "    #print(self.agent_pos)\n",
        "    #Comment this to demonstrate the truncation condition.\n",
        "    self.agent_pos = np.clip(self.agent_pos, 0, 4)\n",
        "\n",
        "    self.state = np.zeros((5,5))\n",
        "    self.state[tuple(self.agent_pos)] = 1\n",
        "    self.state[tuple(self.goal_pos)] = 0.5\n",
        "    observation = self.state.flatten()\n",
        "\n",
        "    reward = 0\n",
        "    #[0, 4], [2, 1], [3, 4], [4, 2]\n",
        "    if np.array_equal(self.agent_pos, self.reward_pos[0]):\n",
        "      reward = reward + 2\n",
        "    \n",
        "    if np.array_equal(self.agent_pos, self.reward_pos[1]):\n",
        "      reward = reward + 4\n",
        "    \n",
        "    if np.array_equal(self.agent_pos, self.reward_pos[2]):\n",
        "      reward = reward + 8\n",
        "    \n",
        "    if np.array_equal(self.agent_pos, self.reward_pos[3]):\n",
        "      reward = reward + 6\n",
        "    \n",
        "\n",
        "    if np.array_equal(self.agent_pos, self.goal_pos):\n",
        "      reward += 100\n",
        "    \n",
        "\n",
        "    #[1, 2], [3, 0], [3, 3]\n",
        "    if np.array_equal(self.agent_pos, self.negreward_pos[0]):\n",
        "      reward = reward - 5\n",
        "    \n",
        "    if np.array_equal(self.agent_pos, self.negreward_pos[1]):\n",
        "      reward = reward - 6\n",
        "    \n",
        "    if np.array_equal(self.agent_pos, self.negreward_pos[2]):\n",
        "      reward = reward - 2 \n",
        "\n",
        "    self.timestep += 1\n",
        "\n",
        "    #print(\"truncated -> \", self.agent_pos,)\n",
        "    terminated = True if self.timestep >= self.max_timesteps else False\n",
        "    truncated = True if np.all((self.agent_pos[0] >= 0) & (self.agent_pos[0] <= 4) & (self.agent_pos[1] >= 0) & (self.agent_pos[1] <= 4)) else False\n",
        "\n",
        "    info = {}\n",
        "    \n",
        "    return observation, reward, terminated, truncated, info\n",
        "\n",
        "  def render(self):\n",
        "    print(\"Environment Type -> \", self.environment_type)\n",
        "    \n",
        "    if self.environment_type == 'stochastic':\n",
        "      print(\"Random Number -> \", self.random_number)\n",
        "      print(\"Random Action -> \", self.rand_action)\n",
        "      print(\"Reward -> \", reward)\n",
        "      print(\"Truncated -> \", truncated)\n",
        "      print(\"Terminated -> \", terminated)\n",
        "      print(\"Agent Position -> \", self.agent_pos)\n",
        "    else: \n",
        "      print(\"Reward -> \", reward)\n",
        "      print(\"Action -> \", action)\n",
        "      print(\"Truncated -> \", truncated)\n",
        "      print(\"Terminated -> \", terminated)\n",
        "      print(\"Agent Position -> \", self.agent_pos)\n",
        "    plt.imshow(self.state)\n",
        "    \n"
      ],
      "metadata": {
        "id": "uiH3nTLTj3qR"
      },
      "execution_count": 157,
      "outputs": []
    },
    {
      "cell_type": "markdown",
      "source": [
        "Creating a Random Agent "
      ],
      "metadata": {
        "id": "-7sNCX8TypM_"
      }
    },
    {
      "cell_type": "code",
      "source": [
        "class RandomAgent:\n",
        "  def __init__(self, env):\n",
        "    self.env = env\n",
        "    self.observation_space = env.observation_space\n",
        "    self.action_space = env.action_space\n",
        "  def step(self, obs):\n",
        "    return np.random.choice(self.action_space.n)\n",
        "  "
      ],
      "metadata": {
        "id": "WCTSceXW44Bk"
      },
      "execution_count": 158,
      "outputs": []
    },
    {
      "cell_type": "markdown",
      "source": [
        "Starting the execution by calling all the methods in the Environment until termination of process"
      ],
      "metadata": {
        "id": "fUGEwZh9yuUg"
      }
    },
    {
      "cell_type": "code",
      "source": [
        "env = GridEnv(env_type = \"deterministic\")\n",
        "agent = RandomAgent(env)\n",
        "\n",
        "obs, info = env.reset()\n",
        "terminated, truncated = False, False\n",
        "\n",
        "output_grid = widgets.Grid(1, 1)\n",
        "with output_grid.output_to(0, 0):\n",
        "  env.render()\n",
        "\n",
        "while not terminated:\n",
        "  action = agent.step(obs)\n",
        "  #action = input()\n",
        "  observation, reward, terminated, truncated, info = env.step(action, obs)\n",
        "  with output_grid.output_to(0, 0):\n",
        "    output_grid.clear_cell()\n",
        "    plt.imshow(grid)\n",
        "    env.render()\n",
        "  time.sleep(1)\n"
      ],
      "metadata": {
        "colab": {
          "base_uri": "https://localhost:8080/",
          "height": 376
        },
        "id": "f-iPycGP48pI",
        "outputId": "8cd5c59c-448c-4324-cb24-bf13f9f3ca16"
      },
      "execution_count": 160,
      "outputs": [
        {
          "output_type": "display_data",
          "data": {
            "text/plain": [
              "<IPython.core.display.HTML object>"
            ],
            "text/html": [
              "<style>\n",
              "       table#id124, #id124 > tbody > tr > th, #id124 > tbody > tr > td {\n",
              "         border: 1px solid lightgray;\n",
              "         border-collapse:collapse;\n",
              "         \n",
              "        }</style>"
            ]
          },
          "metadata": {}
        },
        {
          "output_type": "display_data",
          "data": {
            "text/plain": [
              "<IPython.core.display.HTML object>"
            ],
            "text/html": [
              "<table id=id124><tr><td id=id124-0-0></td></tr></table>"
            ]
          },
          "metadata": {}
        },
        {
          "output_type": "display_data",
          "data": {
            "text/plain": [
              "<IPython.core.display.Javascript object>"
            ],
            "application/javascript": [
              "window[\"24122b5a-ae42-11ed-9084-0242ac1c000c\"] = google.colab.output.getActiveOutputArea();\n",
              "//# sourceURL=js_d0127b1349"
            ]
          },
          "metadata": {}
        },
        {
          "output_type": "display_data",
          "data": {
            "text/plain": [
              "<IPython.core.display.Javascript object>"
            ],
            "application/javascript": [
              "window[\"24130912-ae42-11ed-9084-0242ac1c000c\"] = document.querySelector(\"#id124-0-0\");\n",
              "//# sourceURL=js_80886b5a2a"
            ]
          },
          "metadata": {}
        },
        {
          "output_type": "display_data",
          "data": {
            "text/plain": [
              "<IPython.core.display.Javascript object>"
            ],
            "application/javascript": [
              "window[\"24134954-ae42-11ed-9084-0242ac1c000c\"] = google.colab.output.setActiveOutputArea(window[\"24130912-ae42-11ed-9084-0242ac1c000c\"]);\n",
              "//# sourceURL=js_dc28fdd646"
            ]
          },
          "metadata": {}
        },
        {
          "output_type": "display_data",
          "data": {
            "text/plain": [
              "<IPython.core.display.Javascript object>"
            ],
            "application/javascript": [
              "window[\"2426a918-ae42-11ed-9084-0242ac1c000c\"] = google.colab.output.setActiveOutputArea(window[\"24122b5a-ae42-11ed-9084-0242ac1c000c\"]);\n",
              "//# sourceURL=js_856d433936"
            ]
          },
          "metadata": {}
        },
        {
          "output_type": "display_data",
          "data": {
            "text/plain": [
              "<IPython.core.display.Javascript object>"
            ],
            "application/javascript": [
              "window[\"2428fc72-ae42-11ed-9084-0242ac1c000c\"] = google.colab.output.getActiveOutputArea();\n",
              "//# sourceURL=js_ff5a506eba"
            ]
          },
          "metadata": {}
        },
        {
          "output_type": "display_data",
          "data": {
            "text/plain": [
              "<IPython.core.display.Javascript object>"
            ],
            "application/javascript": [
              "window[\"24293e4e-ae42-11ed-9084-0242ac1c000c\"] = document.querySelector(\"#id124-0-0\");\n",
              "//# sourceURL=js_897d62c39a"
            ]
          },
          "metadata": {}
        },
        {
          "output_type": "display_data",
          "data": {
            "text/plain": [
              "<IPython.core.display.Javascript object>"
            ],
            "application/javascript": [
              "window[\"24297a76-ae42-11ed-9084-0242ac1c000c\"] = google.colab.output.setActiveOutputArea(window[\"24293e4e-ae42-11ed-9084-0242ac1c000c\"]);\n",
              "//# sourceURL=js_3849cec3e0"
            ]
          },
          "metadata": {}
        },
        {
          "output_type": "display_data",
          "data": {
            "text/plain": [
              "<IPython.core.display.Javascript object>"
            ],
            "application/javascript": [
              "window[\"243fdba4-ae42-11ed-9084-0242ac1c000c\"] = google.colab.output.setActiveOutputArea(window[\"2428fc72-ae42-11ed-9084-0242ac1c000c\"]);\n",
              "//# sourceURL=js_8410036c13"
            ]
          },
          "metadata": {}
        },
        {
          "output_type": "display_data",
          "data": {
            "text/plain": [
              "<IPython.core.display.Javascript object>"
            ],
            "application/javascript": [
              "window[\"24dbeb5c-ae42-11ed-9084-0242ac1c000c\"] = google.colab.output.getActiveOutputArea();\n",
              "//# sourceURL=js_39b1e37f6f"
            ]
          },
          "metadata": {}
        },
        {
          "output_type": "display_data",
          "data": {
            "text/plain": [
              "<IPython.core.display.Javascript object>"
            ],
            "application/javascript": [
              "window[\"24dc43cc-ae42-11ed-9084-0242ac1c000c\"] = document.querySelector(\"#id124-0-0\");\n",
              "//# sourceURL=js_90cec2f90e"
            ]
          },
          "metadata": {}
        },
        {
          "output_type": "display_data",
          "data": {
            "text/plain": [
              "<IPython.core.display.Javascript object>"
            ],
            "application/javascript": [
              "window[\"24dc9200-ae42-11ed-9084-0242ac1c000c\"] = google.colab.output.setActiveOutputArea(window[\"24dc43cc-ae42-11ed-9084-0242ac1c000c\"]);\n",
              "//# sourceURL=js_95b2823e23"
            ]
          },
          "metadata": {}
        },
        {
          "output_type": "display_data",
          "data": {
            "text/plain": [
              "<IPython.core.display.Javascript object>"
            ],
            "application/javascript": [
              "window[\"24ef0886-ae42-11ed-9084-0242ac1c000c\"] = google.colab.output.setActiveOutputArea(window[\"24dbeb5c-ae42-11ed-9084-0242ac1c000c\"]);\n",
              "//# sourceURL=js_d9519404ba"
            ]
          },
          "metadata": {}
        },
        {
          "output_type": "display_data",
          "data": {
            "text/plain": [
              "<IPython.core.display.Javascript object>"
            ],
            "application/javascript": [
              "window[\"2589dda2-ae42-11ed-9084-0242ac1c000c\"] = google.colab.output.getActiveOutputArea();\n",
              "//# sourceURL=js_3d9911ad1f"
            ]
          },
          "metadata": {}
        },
        {
          "output_type": "display_data",
          "data": {
            "text/plain": [
              "<IPython.core.display.Javascript object>"
            ],
            "application/javascript": [
              "window[\"258a16dc-ae42-11ed-9084-0242ac1c000c\"] = document.querySelector(\"#id124-0-0\");\n",
              "//# sourceURL=js_70737441ce"
            ]
          },
          "metadata": {}
        },
        {
          "output_type": "display_data",
          "data": {
            "text/plain": [
              "<IPython.core.display.Javascript object>"
            ],
            "application/javascript": [
              "window[\"258a45d0-ae42-11ed-9084-0242ac1c000c\"] = google.colab.output.setActiveOutputArea(window[\"258a16dc-ae42-11ed-9084-0242ac1c000c\"]);\n",
              "//# sourceURL=js_8fc42d4dbf"
            ]
          },
          "metadata": {}
        },
        {
          "output_type": "display_data",
          "data": {
            "text/plain": [
              "<IPython.core.display.Javascript object>"
            ],
            "application/javascript": [
              "window[\"25a572ba-ae42-11ed-9084-0242ac1c000c\"] = google.colab.output.setActiveOutputArea(window[\"2589dda2-ae42-11ed-9084-0242ac1c000c\"]);\n",
              "//# sourceURL=js_e4b2efe3f7"
            ]
          },
          "metadata": {}
        },
        {
          "output_type": "display_data",
          "data": {
            "text/plain": [
              "<IPython.core.display.Javascript object>"
            ],
            "application/javascript": [
              "window[\"2640ac4e-ae42-11ed-9084-0242ac1c000c\"] = google.colab.output.getActiveOutputArea();\n",
              "//# sourceURL=js_c24c1b8742"
            ]
          },
          "metadata": {}
        },
        {
          "output_type": "display_data",
          "data": {
            "text/plain": [
              "<IPython.core.display.Javascript object>"
            ],
            "application/javascript": [
              "window[\"2640fc4e-ae42-11ed-9084-0242ac1c000c\"] = document.querySelector(\"#id124-0-0\");\n",
              "//# sourceURL=js_4040e69b4d"
            ]
          },
          "metadata": {}
        },
        {
          "output_type": "display_data",
          "data": {
            "text/plain": [
              "<IPython.core.display.Javascript object>"
            ],
            "application/javascript": [
              "window[\"2641473a-ae42-11ed-9084-0242ac1c000c\"] = google.colab.output.setActiveOutputArea(window[\"2640fc4e-ae42-11ed-9084-0242ac1c000c\"]);\n",
              "//# sourceURL=js_8b253f6a79"
            ]
          },
          "metadata": {}
        },
        {
          "output_type": "display_data",
          "data": {
            "text/plain": [
              "<IPython.core.display.Javascript object>"
            ],
            "application/javascript": [
              "window[\"26539dd6-ae42-11ed-9084-0242ac1c000c\"] = google.colab.output.setActiveOutputArea(window[\"2640ac4e-ae42-11ed-9084-0242ac1c000c\"]);\n",
              "//# sourceURL=js_08595a65a1"
            ]
          },
          "metadata": {}
        },
        {
          "output_type": "display_data",
          "data": {
            "text/plain": [
              "<IPython.core.display.Javascript object>"
            ],
            "application/javascript": [
              "window[\"26ef0f8c-ae42-11ed-9084-0242ac1c000c\"] = google.colab.output.getActiveOutputArea();\n",
              "//# sourceURL=js_6d5d6c1019"
            ]
          },
          "metadata": {}
        },
        {
          "output_type": "display_data",
          "data": {
            "text/plain": [
              "<IPython.core.display.Javascript object>"
            ],
            "application/javascript": [
              "window[\"26ef6f90-ae42-11ed-9084-0242ac1c000c\"] = document.querySelector(\"#id124-0-0\");\n",
              "//# sourceURL=js_4810d0e2a6"
            ]
          },
          "metadata": {}
        },
        {
          "output_type": "display_data",
          "data": {
            "text/plain": [
              "<IPython.core.display.Javascript object>"
            ],
            "application/javascript": [
              "window[\"26f03b64-ae42-11ed-9084-0242ac1c000c\"] = google.colab.output.setActiveOutputArea(window[\"26ef6f90-ae42-11ed-9084-0242ac1c000c\"]);\n",
              "//# sourceURL=js_f68162eafc"
            ]
          },
          "metadata": {}
        },
        {
          "output_type": "display_data",
          "data": {
            "text/plain": [
              "<IPython.core.display.Javascript object>"
            ],
            "application/javascript": [
              "window[\"27043650-ae42-11ed-9084-0242ac1c000c\"] = google.colab.output.setActiveOutputArea(window[\"26ef0f8c-ae42-11ed-9084-0242ac1c000c\"]);\n",
              "//# sourceURL=js_4e6829377a"
            ]
          },
          "metadata": {}
        },
        {
          "output_type": "display_data",
          "data": {
            "text/plain": [
              "<IPython.core.display.Javascript object>"
            ],
            "application/javascript": [
              "window[\"279f070c-ae42-11ed-9084-0242ac1c000c\"] = google.colab.output.getActiveOutputArea();\n",
              "//# sourceURL=js_1be26b1e05"
            ]
          },
          "metadata": {}
        },
        {
          "output_type": "display_data",
          "data": {
            "text/plain": [
              "<IPython.core.display.Javascript object>"
            ],
            "application/javascript": [
              "window[\"279f57b6-ae42-11ed-9084-0242ac1c000c\"] = document.querySelector(\"#id124-0-0\");\n",
              "//# sourceURL=js_bbd3a5e22f"
            ]
          },
          "metadata": {}
        },
        {
          "output_type": "display_data",
          "data": {
            "text/plain": [
              "<IPython.core.display.Javascript object>"
            ],
            "application/javascript": [
              "window[\"279fade2-ae42-11ed-9084-0242ac1c000c\"] = google.colab.output.setActiveOutputArea(window[\"279f57b6-ae42-11ed-9084-0242ac1c000c\"]);\n",
              "//# sourceURL=js_7f6b5dd411"
            ]
          },
          "metadata": {}
        },
        {
          "output_type": "display_data",
          "data": {
            "text/plain": [
              "<IPython.core.display.Javascript object>"
            ],
            "application/javascript": [
              "window[\"27b20398-ae42-11ed-9084-0242ac1c000c\"] = google.colab.output.setActiveOutputArea(window[\"279f070c-ae42-11ed-9084-0242ac1c000c\"]);\n",
              "//# sourceURL=js_b6dd80cee4"
            ]
          },
          "metadata": {}
        },
        {
          "output_type": "display_data",
          "data": {
            "text/plain": [
              "<IPython.core.display.Javascript object>"
            ],
            "application/javascript": [
              "window[\"284ccbb2-ae42-11ed-9084-0242ac1c000c\"] = google.colab.output.getActiveOutputArea();\n",
              "//# sourceURL=js_6a5fba0ceb"
            ]
          },
          "metadata": {}
        },
        {
          "output_type": "display_data",
          "data": {
            "text/plain": [
              "<IPython.core.display.Javascript object>"
            ],
            "application/javascript": [
              "window[\"284d06e0-ae42-11ed-9084-0242ac1c000c\"] = document.querySelector(\"#id124-0-0\");\n",
              "//# sourceURL=js_27bcc200e2"
            ]
          },
          "metadata": {}
        },
        {
          "output_type": "display_data",
          "data": {
            "text/plain": [
              "<IPython.core.display.Javascript object>"
            ],
            "application/javascript": [
              "window[\"284d3c14-ae42-11ed-9084-0242ac1c000c\"] = google.colab.output.setActiveOutputArea(window[\"284d06e0-ae42-11ed-9084-0242ac1c000c\"]);\n",
              "//# sourceURL=js_e63be23c6f"
            ]
          },
          "metadata": {}
        },
        {
          "output_type": "display_data",
          "data": {
            "text/plain": [
              "<IPython.core.display.Javascript object>"
            ],
            "application/javascript": [
              "window[\"28645b06-ae42-11ed-9084-0242ac1c000c\"] = google.colab.output.setActiveOutputArea(window[\"284ccbb2-ae42-11ed-9084-0242ac1c000c\"]);\n",
              "//# sourceURL=js_8170428f33"
            ]
          },
          "metadata": {}
        },
        {
          "output_type": "display_data",
          "data": {
            "text/plain": [
              "<IPython.core.display.Javascript object>"
            ],
            "application/javascript": [
              "window[\"28ff83b0-ae42-11ed-9084-0242ac1c000c\"] = google.colab.output.getActiveOutputArea();\n",
              "//# sourceURL=js_ebaedddc38"
            ]
          },
          "metadata": {}
        },
        {
          "output_type": "display_data",
          "data": {
            "text/plain": [
              "<IPython.core.display.Javascript object>"
            ],
            "application/javascript": [
              "window[\"28ffd2d4-ae42-11ed-9084-0242ac1c000c\"] = document.querySelector(\"#id124-0-0\");\n",
              "//# sourceURL=js_51fb7eab04"
            ]
          },
          "metadata": {}
        },
        {
          "output_type": "display_data",
          "data": {
            "text/plain": [
              "<IPython.core.display.Javascript object>"
            ],
            "application/javascript": [
              "window[\"2900191a-ae42-11ed-9084-0242ac1c000c\"] = google.colab.output.setActiveOutputArea(window[\"28ffd2d4-ae42-11ed-9084-0242ac1c000c\"]);\n",
              "//# sourceURL=js_a59955511d"
            ]
          },
          "metadata": {}
        },
        {
          "output_type": "display_data",
          "data": {
            "text/plain": [
              "<IPython.core.display.Javascript object>"
            ],
            "application/javascript": [
              "window[\"29153732-ae42-11ed-9084-0242ac1c000c\"] = google.colab.output.setActiveOutputArea(window[\"28ff83b0-ae42-11ed-9084-0242ac1c000c\"]);\n",
              "//# sourceURL=js_b3b725f5c9"
            ]
          },
          "metadata": {}
        },
        {
          "output_type": "display_data",
          "data": {
            "text/plain": [
              "<IPython.core.display.Javascript object>"
            ],
            "application/javascript": [
              "window[\"29afd5c6-ae42-11ed-9084-0242ac1c000c\"] = google.colab.output.getActiveOutputArea();\n",
              "//# sourceURL=js_35df0b21a5"
            ]
          },
          "metadata": {}
        },
        {
          "output_type": "display_data",
          "data": {
            "text/plain": [
              "<IPython.core.display.Javascript object>"
            ],
            "application/javascript": [
              "window[\"29b013b0-ae42-11ed-9084-0242ac1c000c\"] = document.querySelector(\"#id124-0-0\");\n",
              "//# sourceURL=js_0af989f92b"
            ]
          },
          "metadata": {}
        },
        {
          "output_type": "display_data",
          "data": {
            "text/plain": [
              "<IPython.core.display.Javascript object>"
            ],
            "application/javascript": [
              "window[\"29b04772-ae42-11ed-9084-0242ac1c000c\"] = google.colab.output.setActiveOutputArea(window[\"29b013b0-ae42-11ed-9084-0242ac1c000c\"]);\n",
              "//# sourceURL=js_a4c3c9ec01"
            ]
          },
          "metadata": {}
        },
        {
          "output_type": "display_data",
          "data": {
            "text/plain": [
              "<IPython.core.display.Javascript object>"
            ],
            "application/javascript": [
              "window[\"29c4648c-ae42-11ed-9084-0242ac1c000c\"] = google.colab.output.setActiveOutputArea(window[\"29afd5c6-ae42-11ed-9084-0242ac1c000c\"]);\n",
              "//# sourceURL=js_91b50e441f"
            ]
          },
          "metadata": {}
        },
        {
          "output_type": "display_data",
          "data": {
            "text/plain": [
              "<IPython.core.display.Javascript object>"
            ],
            "application/javascript": [
              "window[\"2a5f7abc-ae42-11ed-9084-0242ac1c000c\"] = google.colab.output.getActiveOutputArea();\n",
              "//# sourceURL=js_afc0e8a199"
            ]
          },
          "metadata": {}
        },
        {
          "output_type": "display_data",
          "data": {
            "text/plain": [
              "<IPython.core.display.Javascript object>"
            ],
            "application/javascript": [
              "window[\"2a5fb90a-ae42-11ed-9084-0242ac1c000c\"] = document.querySelector(\"#id124-0-0\");\n",
              "//# sourceURL=js_0120032089"
            ]
          },
          "metadata": {}
        },
        {
          "output_type": "display_data",
          "data": {
            "text/plain": [
              "<IPython.core.display.Javascript object>"
            ],
            "application/javascript": [
              "window[\"2a602e76-ae42-11ed-9084-0242ac1c000c\"] = google.colab.output.setActiveOutputArea(window[\"2a5fb90a-ae42-11ed-9084-0242ac1c000c\"]);\n",
              "//# sourceURL=js_9d6ad4a228"
            ]
          },
          "metadata": {}
        },
        {
          "output_type": "display_data",
          "data": {
            "text/plain": [
              "<IPython.core.display.Javascript object>"
            ],
            "application/javascript": [
              "window[\"2a726c62-ae42-11ed-9084-0242ac1c000c\"] = google.colab.output.setActiveOutputArea(window[\"2a5f7abc-ae42-11ed-9084-0242ac1c000c\"]);\n",
              "//# sourceURL=js_b0e88c1fe0"
            ]
          },
          "metadata": {}
        },
        {
          "output_type": "display_data",
          "data": {
            "text/plain": [
              "<IPython.core.display.Javascript object>"
            ],
            "application/javascript": [
              "window[\"2b0d2946-ae42-11ed-9084-0242ac1c000c\"] = google.colab.output.getActiveOutputArea();\n",
              "//# sourceURL=js_a108cb56f6"
            ]
          },
          "metadata": {}
        },
        {
          "output_type": "display_data",
          "data": {
            "text/plain": [
              "<IPython.core.display.Javascript object>"
            ],
            "application/javascript": [
              "window[\"2b0d966a-ae42-11ed-9084-0242ac1c000c\"] = document.querySelector(\"#id124-0-0\");\n",
              "//# sourceURL=js_ebef5ced86"
            ]
          },
          "metadata": {}
        },
        {
          "output_type": "display_data",
          "data": {
            "text/plain": [
              "<IPython.core.display.Javascript object>"
            ],
            "application/javascript": [
              "window[\"2b0e131a-ae42-11ed-9084-0242ac1c000c\"] = google.colab.output.setActiveOutputArea(window[\"2b0d966a-ae42-11ed-9084-0242ac1c000c\"]);\n",
              "//# sourceURL=js_dfceacd4f5"
            ]
          },
          "metadata": {}
        },
        {
          "output_type": "display_data",
          "data": {
            "text/plain": [
              "<IPython.core.display.Javascript object>"
            ],
            "application/javascript": [
              "window[\"2b1fe9b4-ae42-11ed-9084-0242ac1c000c\"] = google.colab.output.setActiveOutputArea(window[\"2b0d2946-ae42-11ed-9084-0242ac1c000c\"]);\n",
              "//# sourceURL=js_a336139e75"
            ]
          },
          "metadata": {}
        },
        {
          "output_type": "display_data",
          "data": {
            "text/plain": [
              "<IPython.core.display.Javascript object>"
            ],
            "application/javascript": [
              "window[\"2bbaa77e-ae42-11ed-9084-0242ac1c000c\"] = google.colab.output.getActiveOutputArea();\n",
              "//# sourceURL=js_bcd2216b6c"
            ]
          },
          "metadata": {}
        },
        {
          "output_type": "display_data",
          "data": {
            "text/plain": [
              "<IPython.core.display.Javascript object>"
            ],
            "application/javascript": [
              "window[\"2bbae158-ae42-11ed-9084-0242ac1c000c\"] = document.querySelector(\"#id124-0-0\");\n",
              "//# sourceURL=js_c22ea6a691"
            ]
          },
          "metadata": {}
        },
        {
          "output_type": "display_data",
          "data": {
            "text/plain": [
              "<IPython.core.display.Javascript object>"
            ],
            "application/javascript": [
              "window[\"2bbb0cfa-ae42-11ed-9084-0242ac1c000c\"] = google.colab.output.setActiveOutputArea(window[\"2bbae158-ae42-11ed-9084-0242ac1c000c\"]);\n",
              "//# sourceURL=js_1222049405"
            ]
          },
          "metadata": {}
        },
        {
          "output_type": "display_data",
          "data": {
            "text/plain": [
              "<IPython.core.display.Javascript object>"
            ],
            "application/javascript": [
              "window[\"2bd2d8c6-ae42-11ed-9084-0242ac1c000c\"] = google.colab.output.setActiveOutputArea(window[\"2bbaa77e-ae42-11ed-9084-0242ac1c000c\"]);\n",
              "//# sourceURL=js_33842ec917"
            ]
          },
          "metadata": {}
        },
        {
          "output_type": "display_data",
          "data": {
            "text/plain": [
              "<IPython.core.display.Javascript object>"
            ],
            "application/javascript": [
              "window[\"2c6e1a34-ae42-11ed-9084-0242ac1c000c\"] = google.colab.output.getActiveOutputArea();\n",
              "//# sourceURL=js_6e51f28567"
            ]
          },
          "metadata": {}
        },
        {
          "output_type": "display_data",
          "data": {
            "text/plain": [
              "<IPython.core.display.Javascript object>"
            ],
            "application/javascript": [
              "window[\"2c6ed618-ae42-11ed-9084-0242ac1c000c\"] = document.querySelector(\"#id124-0-0\");\n",
              "//# sourceURL=js_a3f704e0be"
            ]
          },
          "metadata": {}
        },
        {
          "output_type": "display_data",
          "data": {
            "text/plain": [
              "<IPython.core.display.Javascript object>"
            ],
            "application/javascript": [
              "window[\"2c6f368a-ae42-11ed-9084-0242ac1c000c\"] = google.colab.output.setActiveOutputArea(window[\"2c6ed618-ae42-11ed-9084-0242ac1c000c\"]);\n",
              "//# sourceURL=js_89a712ca7e"
            ]
          },
          "metadata": {}
        },
        {
          "output_type": "display_data",
          "data": {
            "text/plain": [
              "<IPython.core.display.Javascript object>"
            ],
            "application/javascript": [
              "window[\"2c829572-ae42-11ed-9084-0242ac1c000c\"] = google.colab.output.setActiveOutputArea(window[\"2c6e1a34-ae42-11ed-9084-0242ac1c000c\"]);\n",
              "//# sourceURL=js_4cf96e9634"
            ]
          },
          "metadata": {}
        },
        {
          "output_type": "display_data",
          "data": {
            "text/plain": [
              "<IPython.core.display.Javascript object>"
            ],
            "application/javascript": [
              "window[\"2d1d2768-ae42-11ed-9084-0242ac1c000c\"] = google.colab.output.getActiveOutputArea();\n",
              "//# sourceURL=js_9f595cd11a"
            ]
          },
          "metadata": {}
        },
        {
          "output_type": "display_data",
          "data": {
            "text/plain": [
              "<IPython.core.display.Javascript object>"
            ],
            "application/javascript": [
              "window[\"2d1d64a8-ae42-11ed-9084-0242ac1c000c\"] = document.querySelector(\"#id124-0-0\");\n",
              "//# sourceURL=js_46888a65cd"
            ]
          },
          "metadata": {}
        },
        {
          "output_type": "display_data",
          "data": {
            "text/plain": [
              "<IPython.core.display.Javascript object>"
            ],
            "application/javascript": [
              "window[\"2d1dd30c-ae42-11ed-9084-0242ac1c000c\"] = google.colab.output.setActiveOutputArea(window[\"2d1d64a8-ae42-11ed-9084-0242ac1c000c\"]);\n",
              "//# sourceURL=js_f929fab44a"
            ]
          },
          "metadata": {}
        },
        {
          "output_type": "display_data",
          "data": {
            "text/plain": [
              "<IPython.core.display.Javascript object>"
            ],
            "application/javascript": [
              "window[\"2d3196a8-ae42-11ed-9084-0242ac1c000c\"] = google.colab.output.setActiveOutputArea(window[\"2d1d2768-ae42-11ed-9084-0242ac1c000c\"]);\n",
              "//# sourceURL=js_4163a7c69b"
            ]
          },
          "metadata": {}
        },
        {
          "output_type": "display_data",
          "data": {
            "text/plain": [
              "<IPython.core.display.Javascript object>"
            ],
            "application/javascript": [
              "window[\"2dcc2aba-ae42-11ed-9084-0242ac1c000c\"] = google.colab.output.getActiveOutputArea();\n",
              "//# sourceURL=js_cf3d8d8a93"
            ]
          },
          "metadata": {}
        },
        {
          "output_type": "display_data",
          "data": {
            "text/plain": [
              "<IPython.core.display.Javascript object>"
            ],
            "application/javascript": [
              "window[\"2dcc5954-ae42-11ed-9084-0242ac1c000c\"] = document.querySelector(\"#id124-0-0\");\n",
              "//# sourceURL=js_9c363d9c16"
            ]
          },
          "metadata": {}
        },
        {
          "output_type": "display_data",
          "data": {
            "text/plain": [
              "<IPython.core.display.Javascript object>"
            ],
            "application/javascript": [
              "window[\"2dcc880c-ae42-11ed-9084-0242ac1c000c\"] = google.colab.output.setActiveOutputArea(window[\"2dcc5954-ae42-11ed-9084-0242ac1c000c\"]);\n",
              "//# sourceURL=js_9b5636ea38"
            ]
          },
          "metadata": {}
        },
        {
          "output_type": "stream",
          "name": "stdout",
          "text": [
            "Environment Type ->  deterministic\n",
            "Reward ->  -5\n",
            "Action ->  3\n",
            "Truncated ->  True\n",
            "Terminated ->  True\n",
            "Agent Position ->  [1 2]\n"
          ]
        },
        {
          "output_type": "display_data",
          "data": {
            "text/plain": [
              "<Figure size 432x288 with 1 Axes>"
            ],
            "image/png": "[encoded data removed]"
          },
          "metadata": {
            "needs_background": "light"
          }
        },
        {
          "output_type": "display_data",
          "data": {
            "text/plain": [
              "<IPython.core.display.Javascript object>"
            ],
            "application/javascript": [
              "window[\"2de006b6-ae42-11ed-9084-0242ac1c000c\"] = google.colab.output.setActiveOutputArea(window[\"2dcc2aba-ae42-11ed-9084-0242ac1c000c\"]);\n",
              "//# sourceURL=js_b8f6063f54"
            ]
          },
          "metadata": {}
        }
      ]
    },
    {
      "cell_type": "code",
      "source": [
        "env = GridEnv(env_type = \"stochastic\")\n",
        "agent = RandomAgent(env)\n",
        "\n",
        "obs, info = env.reset()\n",
        "terminated, truncated = False, False\n",
        "\n",
        "output_grid = widgets.Grid(1, 1)\n",
        "with output_grid.output_to(0, 0):\n",
        "  env.render()\n",
        "\n",
        "while not terminated:\n",
        "  action = agent.step(obs)\n",
        "  #action = input()\n",
        "  observation, reward, terminated, truncated, info = env.step(action, obs)\n",
        "  with output_grid.output_to(0, 0):\n",
        "    output_grid.clear_cell()\n",
        "    plt.imshow(grid)\n",
        "    env.render()\n",
        "  time.sleep(1)"
      ],
      "metadata": {
        "colab": {
          "base_uri": "https://localhost:8080/",
          "height": 394
        },
        "id": "Xm6_yTZFDoO9",
        "outputId": "c9c92779-0daf-4b3b-a97e-59d02a3162f7"
      },
      "execution_count": 161,
      "outputs": [
        {
          "output_type": "display_data",
          "data": {
            "text/plain": [
              "<IPython.core.display.HTML object>"
            ],
            "text/html": [
              "<style>\n",
              "       table#id126, #id126 > tbody > tr > th, #id126 > tbody > tr > td {\n",
              "         border: 1px solid lightgray;\n",
              "         border-collapse:collapse;\n",
              "         \n",
              "        }</style>"
            ]
          },
          "metadata": {}
        },
        {
          "output_type": "display_data",
          "data": {
            "text/plain": [
              "<IPython.core.display.HTML object>"
            ],
            "text/html": [
              "<table id=id126><tr><td id=id126-0-0></td></tr></table>"
            ]
          },
          "metadata": {}
        },
        {
          "output_type": "display_data",
          "data": {
            "text/plain": [
              "<IPython.core.display.Javascript object>"
            ],
            "application/javascript": [
              "window[\"31b8eec4-ae42-11ed-9084-0242ac1c000c\"] = google.colab.output.getActiveOutputArea();\n",
              "//# sourceURL=js_62e62dc5e8"
            ]
          },
          "metadata": {}
        },
        {
          "output_type": "display_data",
          "data": {
            "text/plain": [
              "<IPython.core.display.Javascript object>"
            ],
            "application/javascript": [
              "window[\"31b95562-ae42-11ed-9084-0242ac1c000c\"] = document.querySelector(\"#id126-0-0\");\n",
              "//# sourceURL=js_c148e8112c"
            ]
          },
          "metadata": {}
        },
        {
          "output_type": "display_data",
          "data": {
            "text/plain": [
              "<IPython.core.display.Javascript object>"
            ],
            "application/javascript": [
              "window[\"31b9bbb0-ae42-11ed-9084-0242ac1c000c\"] = google.colab.output.setActiveOutputArea(window[\"31b95562-ae42-11ed-9084-0242ac1c000c\"]);\n",
              "//# sourceURL=js_3a022b2b46"
            ]
          },
          "metadata": {}
        },
        {
          "output_type": "display_data",
          "data": {
            "text/plain": [
              "<IPython.core.display.Javascript object>"
            ],
            "application/javascript": [
              "window[\"31cd1192-ae42-11ed-9084-0242ac1c000c\"] = google.colab.output.setActiveOutputArea(window[\"31b8eec4-ae42-11ed-9084-0242ac1c000c\"]);\n",
              "//# sourceURL=js_86affa243e"
            ]
          },
          "metadata": {}
        },
        {
          "output_type": "display_data",
          "data": {
            "text/plain": [
              "<IPython.core.display.Javascript object>"
            ],
            "application/javascript": [
              "window[\"31d0eefc-ae42-11ed-9084-0242ac1c000c\"] = google.colab.output.getActiveOutputArea();\n",
              "//# sourceURL=js_e2fe80530f"
            ]
          },
          "metadata": {}
        },
        {
          "output_type": "display_data",
          "data": {
            "text/plain": [
              "<IPython.core.display.Javascript object>"
            ],
            "application/javascript": [
              "window[\"31d193e8-ae42-11ed-9084-0242ac1c000c\"] = document.querySelector(\"#id126-0-0\");\n",
              "//# sourceURL=js_5523059b79"
            ]
          },
          "metadata": {}
        },
        {
          "output_type": "display_data",
          "data": {
            "text/plain": [
              "<IPython.core.display.Javascript object>"
            ],
            "application/javascript": [
              "window[\"31d23ec4-ae42-11ed-9084-0242ac1c000c\"] = google.colab.output.setActiveOutputArea(window[\"31d193e8-ae42-11ed-9084-0242ac1c000c\"]);\n",
              "//# sourceURL=js_ee089e01e2"
            ]
          },
          "metadata": {}
        },
        {
          "output_type": "display_data",
          "data": {
            "text/plain": [
              "<IPython.core.display.Javascript object>"
            ],
            "application/javascript": [
              "window[\"31e9155e-ae42-11ed-9084-0242ac1c000c\"] = google.colab.output.setActiveOutputArea(window[\"31d0eefc-ae42-11ed-9084-0242ac1c000c\"]);\n",
              "//# sourceURL=js_435bdcda78"
            ]
          },
          "metadata": {}
        },
        {
          "output_type": "display_data",
          "data": {
            "text/plain": [
              "<IPython.core.display.Javascript object>"
            ],
            "application/javascript": [
              "window[\"328430f2-ae42-11ed-9084-0242ac1c000c\"] = google.colab.output.getActiveOutputArea();\n",
              "//# sourceURL=js_1f74e43e4d"
            ]
          },
          "metadata": {}
        },
        {
          "output_type": "display_data",
          "data": {
            "text/plain": [
              "<IPython.core.display.Javascript object>"
            ],
            "application/javascript": [
              "window[\"32846d38-ae42-11ed-9084-0242ac1c000c\"] = document.querySelector(\"#id126-0-0\");\n",
              "//# sourceURL=js_d31166037b"
            ]
          },
          "metadata": {}
        },
        {
          "output_type": "display_data",
          "data": {
            "text/plain": [
              "<IPython.core.display.Javascript object>"
            ],
            "application/javascript": [
              "window[\"32849af6-ae42-11ed-9084-0242ac1c000c\"] = google.colab.output.setActiveOutputArea(window[\"32846d38-ae42-11ed-9084-0242ac1c000c\"]);\n",
              "//# sourceURL=js_b56133c651"
            ]
          },
          "metadata": {}
        },
        {
          "output_type": "display_data",
          "data": {
            "text/plain": [
              "<IPython.core.display.Javascript object>"
            ],
            "application/javascript": [
              "window[\"32a203b6-ae42-11ed-9084-0242ac1c000c\"] = google.colab.output.setActiveOutputArea(window[\"328430f2-ae42-11ed-9084-0242ac1c000c\"]);\n",
              "//# sourceURL=js_7a7d48fd4c"
            ]
          },
          "metadata": {}
        },
        {
          "output_type": "display_data",
          "data": {
            "text/plain": [
              "<IPython.core.display.Javascript object>"
            ],
            "application/javascript": [
              "window[\"333d76ac-ae42-11ed-9084-0242ac1c000c\"] = google.colab.output.getActiveOutputArea();\n",
              "//# sourceURL=js_c63d3589ff"
            ]
          },
          "metadata": {}
        },
        {
          "output_type": "display_data",
          "data": {
            "text/plain": [
              "<IPython.core.display.Javascript object>"
            ],
            "application/javascript": [
              "window[\"333df848-ae42-11ed-9084-0242ac1c000c\"] = document.querySelector(\"#id126-0-0\");\n",
              "//# sourceURL=js_fe159ba9de"
            ]
          },
          "metadata": {}
        },
        {
          "output_type": "display_data",
          "data": {
            "text/plain": [
              "<IPython.core.display.Javascript object>"
            ],
            "application/javascript": [
              "window[\"333e6c9c-ae42-11ed-9084-0242ac1c000c\"] = google.colab.output.setActiveOutputArea(window[\"333df848-ae42-11ed-9084-0242ac1c000c\"]);\n",
              "//# sourceURL=js_dbcd8e9dfc"
            ]
          },
          "metadata": {}
        },
        {
          "output_type": "display_data",
          "data": {
            "text/plain": [
              "<IPython.core.display.Javascript object>"
            ],
            "application/javascript": [
              "window[\"33522958-ae42-11ed-9084-0242ac1c000c\"] = google.colab.output.setActiveOutputArea(window[\"333d76ac-ae42-11ed-9084-0242ac1c000c\"]);\n",
              "//# sourceURL=js_6daf531708"
            ]
          },
          "metadata": {}
        },
        {
          "output_type": "display_data",
          "data": {
            "text/plain": [
              "<IPython.core.display.Javascript object>"
            ],
            "application/javascript": [
              "window[\"33ed6486-ae42-11ed-9084-0242ac1c000c\"] = google.colab.output.getActiveOutputArea();\n",
              "//# sourceURL=js_fed0f54384"
            ]
          },
          "metadata": {}
        },
        {
          "output_type": "display_data",
          "data": {
            "text/plain": [
              "<IPython.core.display.Javascript object>"
            ],
            "application/javascript": [
              "window[\"33edb634-ae42-11ed-9084-0242ac1c000c\"] = document.querySelector(\"#id126-0-0\");\n",
              "//# sourceURL=js_8598eb4e57"
            ]
          },
          "metadata": {}
        },
        {
          "output_type": "display_data",
          "data": {
            "text/plain": [
              "<IPython.core.display.Javascript object>"
            ],
            "application/javascript": [
              "window[\"33ee4626-ae42-11ed-9084-0242ac1c000c\"] = google.colab.output.setActiveOutputArea(window[\"33edb634-ae42-11ed-9084-0242ac1c000c\"]);\n",
              "//# sourceURL=js_43f91d40ce"
            ]
          },
          "metadata": {}
        },
        {
          "output_type": "display_data",
          "data": {
            "text/plain": [
              "<IPython.core.display.Javascript object>"
            ],
            "application/javascript": [
              "window[\"340064aa-ae42-11ed-9084-0242ac1c000c\"] = google.colab.output.setActiveOutputArea(window[\"33ed6486-ae42-11ed-9084-0242ac1c000c\"]);\n",
              "//# sourceURL=js_3a706effa8"
            ]
          },
          "metadata": {}
        },
        {
          "output_type": "display_data",
          "data": {
            "text/plain": [
              "<IPython.core.display.Javascript object>"
            ],
            "application/javascript": [
              "window[\"349b28dc-ae42-11ed-9084-0242ac1c000c\"] = google.colab.output.getActiveOutputArea();\n",
              "//# sourceURL=js_a7f535512e"
            ]
          },
          "metadata": {}
        },
        {
          "output_type": "display_data",
          "data": {
            "text/plain": [
              "<IPython.core.display.Javascript object>"
            ],
            "application/javascript": [
              "window[\"349b597e-ae42-11ed-9084-0242ac1c000c\"] = document.querySelector(\"#id126-0-0\");\n",
              "//# sourceURL=js_767459d7e9"
            ]
          },
          "metadata": {}
        },
        {
          "output_type": "display_data",
          "data": {
            "text/plain": [
              "<IPython.core.display.Javascript object>"
            ],
            "application/javascript": [
              "window[\"349b8c96-ae42-11ed-9084-0242ac1c000c\"] = google.colab.output.setActiveOutputArea(window[\"349b597e-ae42-11ed-9084-0242ac1c000c\"]);\n",
              "//# sourceURL=js_ffa416abff"
            ]
          },
          "metadata": {}
        },
        {
          "output_type": "display_data",
          "data": {
            "text/plain": [
              "<IPython.core.display.Javascript object>"
            ],
            "application/javascript": [
              "window[\"34b01256-ae42-11ed-9084-0242ac1c000c\"] = google.colab.output.setActiveOutputArea(window[\"349b28dc-ae42-11ed-9084-0242ac1c000c\"]);\n",
              "//# sourceURL=js_529b9040a5"
            ]
          },
          "metadata": {}
        },
        {
          "output_type": "display_data",
          "data": {
            "text/plain": [
              "<IPython.core.display.Javascript object>"
            ],
            "application/javascript": [
              "window[\"354b0612-ae42-11ed-9084-0242ac1c000c\"] = google.colab.output.getActiveOutputArea();\n",
              "//# sourceURL=js_7aaf484c04"
            ]
          },
          "metadata": {}
        },
        {
          "output_type": "display_data",
          "data": {
            "text/plain": [
              "<IPython.core.display.Javascript object>"
            ],
            "application/javascript": [
              "window[\"354b5c52-ae42-11ed-9084-0242ac1c000c\"] = document.querySelector(\"#id126-0-0\");\n",
              "//# sourceURL=js_f7501f34ca"
            ]
          },
          "metadata": {}
        },
        {
          "output_type": "display_data",
          "data": {
            "text/plain": [
              "<IPython.core.display.Javascript object>"
            ],
            "application/javascript": [
              "window[\"354ba63a-ae42-11ed-9084-0242ac1c000c\"] = google.colab.output.setActiveOutputArea(window[\"354b5c52-ae42-11ed-9084-0242ac1c000c\"]);\n",
              "//# sourceURL=js_7c8207f044"
            ]
          },
          "metadata": {}
        },
        {
          "output_type": "display_data",
          "data": {
            "text/plain": [
              "<IPython.core.display.Javascript object>"
            ],
            "application/javascript": [
              "window[\"355cf50c-ae42-11ed-9084-0242ac1c000c\"] = google.colab.output.setActiveOutputArea(window[\"354b0612-ae42-11ed-9084-0242ac1c000c\"]);\n",
              "//# sourceURL=js_70c089f911"
            ]
          },
          "metadata": {}
        },
        {
          "output_type": "display_data",
          "data": {
            "text/plain": [
              "<IPython.core.display.Javascript object>"
            ],
            "application/javascript": [
              "window[\"35f87ebe-ae42-11ed-9084-0242ac1c000c\"] = google.colab.output.getActiveOutputArea();\n",
              "//# sourceURL=js_6a3871fc40"
            ]
          },
          "metadata": {}
        },
        {
          "output_type": "display_data",
          "data": {
            "text/plain": [
              "<IPython.core.display.Javascript object>"
            ],
            "application/javascript": [
              "window[\"35f8f34e-ae42-11ed-9084-0242ac1c000c\"] = document.querySelector(\"#id126-0-0\");\n",
              "//# sourceURL=js_e2b3fe902b"
            ]
          },
          "metadata": {}
        },
        {
          "output_type": "display_data",
          "data": {
            "text/plain": [
              "<IPython.core.display.Javascript object>"
            ],
            "application/javascript": [
              "window[\"35f985f2-ae42-11ed-9084-0242ac1c000c\"] = google.colab.output.setActiveOutputArea(window[\"35f8f34e-ae42-11ed-9084-0242ac1c000c\"]);\n",
              "//# sourceURL=js_5c77590706"
            ]
          },
          "metadata": {}
        },
        {
          "output_type": "display_data",
          "data": {
            "text/plain": [
              "<IPython.core.display.Javascript object>"
            ],
            "application/javascript": [
              "window[\"360b6cb8-ae42-11ed-9084-0242ac1c000c\"] = google.colab.output.setActiveOutputArea(window[\"35f87ebe-ae42-11ed-9084-0242ac1c000c\"]);\n",
              "//# sourceURL=js_0377a116ad"
            ]
          },
          "metadata": {}
        },
        {
          "output_type": "display_data",
          "data": {
            "text/plain": [
              "<IPython.core.display.Javascript object>"
            ],
            "application/javascript": [
              "window[\"36a70d30-ae42-11ed-9084-0242ac1c000c\"] = google.colab.output.getActiveOutputArea();\n",
              "//# sourceURL=js_10d558ac8d"
            ]
          },
          "metadata": {}
        },
        {
          "output_type": "display_data",
          "data": {
            "text/plain": [
              "<IPython.core.display.Javascript object>"
            ],
            "application/javascript": [
              "window[\"36a78e4a-ae42-11ed-9084-0242ac1c000c\"] = document.querySelector(\"#id126-0-0\");\n",
              "//# sourceURL=js_d17a5de339"
            ]
          },
          "metadata": {}
        },
        {
          "output_type": "display_data",
          "data": {
            "text/plain": [
              "<IPython.core.display.Javascript object>"
            ],
            "application/javascript": [
              "window[\"36a84e7a-ae42-11ed-9084-0242ac1c000c\"] = google.colab.output.setActiveOutputArea(window[\"36a78e4a-ae42-11ed-9084-0242ac1c000c\"]);\n",
              "//# sourceURL=js_af8c2e36d3"
            ]
          },
          "metadata": {}
        },
        {
          "output_type": "display_data",
          "data": {
            "text/plain": [
              "<IPython.core.display.Javascript object>"
            ],
            "application/javascript": [
              "window[\"36b98276-ae42-11ed-9084-0242ac1c000c\"] = google.colab.output.setActiveOutputArea(window[\"36a70d30-ae42-11ed-9084-0242ac1c000c\"]);\n",
              "//# sourceURL=js_173dd5d9e9"
            ]
          },
          "metadata": {}
        },
        {
          "output_type": "display_data",
          "data": {
            "text/plain": [
              "<IPython.core.display.Javascript object>"
            ],
            "application/javascript": [
              "window[\"37542da8-ae42-11ed-9084-0242ac1c000c\"] = google.colab.output.getActiveOutputArea();\n",
              "//# sourceURL=js_df26a68a03"
            ]
          },
          "metadata": {}
        },
        {
          "output_type": "display_data",
          "data": {
            "text/plain": [
              "<IPython.core.display.Javascript object>"
            ],
            "application/javascript": [
              "window[\"37547cd6-ae42-11ed-9084-0242ac1c000c\"] = document.querySelector(\"#id126-0-0\");\n",
              "//# sourceURL=js_2297c3af1b"
            ]
          },
          "metadata": {}
        },
        {
          "output_type": "display_data",
          "data": {
            "text/plain": [
              "<IPython.core.display.Javascript object>"
            ],
            "application/javascript": [
              "window[\"3754f3aa-ae42-11ed-9084-0242ac1c000c\"] = google.colab.output.setActiveOutputArea(window[\"37547cd6-ae42-11ed-9084-0242ac1c000c\"]);\n",
              "//# sourceURL=js_dbe66b2a5f"
            ]
          },
          "metadata": {}
        },
        {
          "output_type": "display_data",
          "data": {
            "text/plain": [
              "<IPython.core.display.Javascript object>"
            ],
            "application/javascript": [
              "window[\"37664a60-ae42-11ed-9084-0242ac1c000c\"] = google.colab.output.setActiveOutputArea(window[\"37542da8-ae42-11ed-9084-0242ac1c000c\"]);\n",
              "//# sourceURL=js_9628c45f95"
            ]
          },
          "metadata": {}
        },
        {
          "output_type": "display_data",
          "data": {
            "text/plain": [
              "<IPython.core.display.Javascript object>"
            ],
            "application/javascript": [
              "window[\"38011c34-ae42-11ed-9084-0242ac1c000c\"] = google.colab.output.getActiveOutputArea();\n",
              "//# sourceURL=js_a5a5ceb9e4"
            ]
          },
          "metadata": {}
        },
        {
          "output_type": "display_data",
          "data": {
            "text/plain": [
              "<IPython.core.display.Javascript object>"
            ],
            "application/javascript": [
              "window[\"3801c58a-ae42-11ed-9084-0242ac1c000c\"] = document.querySelector(\"#id126-0-0\");\n",
              "//# sourceURL=js_3e9d544035"
            ]
          },
          "metadata": {}
        },
        {
          "output_type": "display_data",
          "data": {
            "text/plain": [
              "<IPython.core.display.Javascript object>"
            ],
            "application/javascript": [
              "window[\"380215b2-ae42-11ed-9084-0242ac1c000c\"] = google.colab.output.setActiveOutputArea(window[\"3801c58a-ae42-11ed-9084-0242ac1c000c\"]);\n",
              "//# sourceURL=js_1ffce92dd2"
            ]
          },
          "metadata": {}
        },
        {
          "output_type": "display_data",
          "data": {
            "text/plain": [
              "<IPython.core.display.Javascript object>"
            ],
            "application/javascript": [
              "window[\"3840906c-ae42-11ed-9084-0242ac1c000c\"] = google.colab.output.setActiveOutputArea(window[\"38011c34-ae42-11ed-9084-0242ac1c000c\"]);\n",
              "//# sourceURL=js_a169871882"
            ]
          },
          "metadata": {}
        },
        {
          "output_type": "display_data",
          "data": {
            "text/plain": [
              "<IPython.core.display.Javascript object>"
            ],
            "application/javascript": [
              "window[\"38db6d26-ae42-11ed-9084-0242ac1c000c\"] = google.colab.output.getActiveOutputArea();\n",
              "//# sourceURL=js_656ac1d42f"
            ]
          },
          "metadata": {}
        },
        {
          "output_type": "display_data",
          "data": {
            "text/plain": [
              "<IPython.core.display.Javascript object>"
            ],
            "application/javascript": [
              "window[\"38dbab10-ae42-11ed-9084-0242ac1c000c\"] = document.querySelector(\"#id126-0-0\");\n",
              "//# sourceURL=js_d0c8a45ce0"
            ]
          },
          "metadata": {}
        },
        {
          "output_type": "display_data",
          "data": {
            "text/plain": [
              "<IPython.core.display.Javascript object>"
            ],
            "application/javascript": [
              "window[\"38dbe058-ae42-11ed-9084-0242ac1c000c\"] = google.colab.output.setActiveOutputArea(window[\"38dbab10-ae42-11ed-9084-0242ac1c000c\"]);\n",
              "//# sourceURL=js_5e53fbe6c5"
            ]
          },
          "metadata": {}
        },
        {
          "output_type": "display_data",
          "data": {
            "text/plain": [
              "<IPython.core.display.Javascript object>"
            ],
            "application/javascript": [
              "window[\"38ef38b0-ae42-11ed-9084-0242ac1c000c\"] = google.colab.output.setActiveOutputArea(window[\"38db6d26-ae42-11ed-9084-0242ac1c000c\"]);\n",
              "//# sourceURL=js_d648e6b716"
            ]
          },
          "metadata": {}
        },
        {
          "output_type": "display_data",
          "data": {
            "text/plain": [
              "<IPython.core.display.Javascript object>"
            ],
            "application/javascript": [
              "window[\"398b1244-ae42-11ed-9084-0242ac1c000c\"] = google.colab.output.getActiveOutputArea();\n",
              "//# sourceURL=js_db64898d4a"
            ]
          },
          "metadata": {}
        },
        {
          "output_type": "display_data",
          "data": {
            "text/plain": [
              "<IPython.core.display.Javascript object>"
            ],
            "application/javascript": [
              "window[\"398b77e8-ae42-11ed-9084-0242ac1c000c\"] = document.querySelector(\"#id126-0-0\");\n",
              "//# sourceURL=js_7e824f9b63"
            ]
          },
          "metadata": {}
        },
        {
          "output_type": "display_data",
          "data": {
            "text/plain": [
              "<IPython.core.display.Javascript object>"
            ],
            "application/javascript": [
              "window[\"398c0f78-ae42-11ed-9084-0242ac1c000c\"] = google.colab.output.setActiveOutputArea(window[\"398b77e8-ae42-11ed-9084-0242ac1c000c\"]);\n",
              "//# sourceURL=js_d9b60ae52b"
            ]
          },
          "metadata": {}
        },
        {
          "output_type": "display_data",
          "data": {
            "text/plain": [
              "<IPython.core.display.Javascript object>"
            ],
            "application/javascript": [
              "window[\"39aa1f22-ae42-11ed-9084-0242ac1c000c\"] = google.colab.output.setActiveOutputArea(window[\"398b1244-ae42-11ed-9084-0242ac1c000c\"]);\n",
              "//# sourceURL=js_89fc5c8a31"
            ]
          },
          "metadata": {}
        },
        {
          "output_type": "display_data",
          "data": {
            "text/plain": [
              "<IPython.core.display.Javascript object>"
            ],
            "application/javascript": [
              "window[\"3a44e1e2-ae42-11ed-9084-0242ac1c000c\"] = google.colab.output.getActiveOutputArea();\n",
              "//# sourceURL=js_6843ca8b54"
            ]
          },
          "metadata": {}
        },
        {
          "output_type": "display_data",
          "data": {
            "text/plain": [
              "<IPython.core.display.Javascript object>"
            ],
            "application/javascript": [
              "window[\"3a4536ba-ae42-11ed-9084-0242ac1c000c\"] = document.querySelector(\"#id126-0-0\");\n",
              "//# sourceURL=js_578d4a32ef"
            ]
          },
          "metadata": {}
        },
        {
          "output_type": "display_data",
          "data": {
            "text/plain": [
              "<IPython.core.display.Javascript object>"
            ],
            "application/javascript": [
              "window[\"3a458fa2-ae42-11ed-9084-0242ac1c000c\"] = google.colab.output.setActiveOutputArea(window[\"3a4536ba-ae42-11ed-9084-0242ac1c000c\"]);\n",
              "//# sourceURL=js_87d238fde6"
            ]
          },
          "metadata": {}
        },
        {
          "output_type": "display_data",
          "data": {
            "text/plain": [
              "<IPython.core.display.Javascript object>"
            ],
            "application/javascript": [
              "window[\"3a5854de-ae42-11ed-9084-0242ac1c000c\"] = google.colab.output.setActiveOutputArea(window[\"3a44e1e2-ae42-11ed-9084-0242ac1c000c\"]);\n",
              "//# sourceURL=js_2fa435e265"
            ]
          },
          "metadata": {}
        },
        {
          "output_type": "display_data",
          "data": {
            "text/plain": [
              "<IPython.core.display.Javascript object>"
            ],
            "application/javascript": [
              "window[\"3af40dfc-ae42-11ed-9084-0242ac1c000c\"] = google.colab.output.getActiveOutputArea();\n",
              "//# sourceURL=js_6ab8b9fc9f"
            ]
          },
          "metadata": {}
        },
        {
          "output_type": "display_data",
          "data": {
            "text/plain": [
              "<IPython.core.display.Javascript object>"
            ],
            "application/javascript": [
              "window[\"3af45564-ae42-11ed-9084-0242ac1c000c\"] = document.querySelector(\"#id126-0-0\");\n",
              "//# sourceURL=js_5e47c245a4"
            ]
          },
          "metadata": {}
        },
        {
          "output_type": "display_data",
          "data": {
            "text/plain": [
              "<IPython.core.display.Javascript object>"
            ],
            "application/javascript": [
              "window[\"3af4ff96-ae42-11ed-9084-0242ac1c000c\"] = google.colab.output.setActiveOutputArea(window[\"3af45564-ae42-11ed-9084-0242ac1c000c\"]);\n",
              "//# sourceURL=js_4401055d6e"
            ]
          },
          "metadata": {}
        },
        {
          "output_type": "display_data",
          "data": {
            "text/plain": [
              "<IPython.core.display.Javascript object>"
            ],
            "application/javascript": [
              "window[\"3b079dae-ae42-11ed-9084-0242ac1c000c\"] = google.colab.output.setActiveOutputArea(window[\"3af40dfc-ae42-11ed-9084-0242ac1c000c\"]);\n",
              "//# sourceURL=js_f24c8648ba"
            ]
          },
          "metadata": {}
        },
        {
          "output_type": "display_data",
          "data": {
            "text/plain": [
              "<IPython.core.display.Javascript object>"
            ],
            "application/javascript": [
              "window[\"3ba2bbf4-ae42-11ed-9084-0242ac1c000c\"] = google.colab.output.getActiveOutputArea();\n",
              "//# sourceURL=js_7c7bc007cb"
            ]
          },
          "metadata": {}
        },
        {
          "output_type": "display_data",
          "data": {
            "text/plain": [
              "<IPython.core.display.Javascript object>"
            ],
            "application/javascript": [
              "window[\"3ba3119e-ae42-11ed-9084-0242ac1c000c\"] = document.querySelector(\"#id126-0-0\");\n",
              "//# sourceURL=js_4f1fa90e48"
            ]
          },
          "metadata": {}
        },
        {
          "output_type": "display_data",
          "data": {
            "text/plain": [
              "<IPython.core.display.Javascript object>"
            ],
            "application/javascript": [
              "window[\"3ba369b4-ae42-11ed-9084-0242ac1c000c\"] = google.colab.output.setActiveOutputArea(window[\"3ba3119e-ae42-11ed-9084-0242ac1c000c\"]);\n",
              "//# sourceURL=js_fd75ece26b"
            ]
          },
          "metadata": {}
        },
        {
          "output_type": "stream",
          "name": "stdout",
          "text": [
            "Environment Type ->  stochastic\n",
            "Random Number ->  0.0252426467062975\n",
            "Random Action ->  1\n",
            "Reward ->  0\n",
            "Truncated ->  True\n",
            "Terminated ->  True\n",
            "Agent Position ->  [0 2]\n"
          ]
        },
        {
          "output_type": "display_data",
          "data": {
            "text/plain": [
              "<Figure size 432x288 with 1 Axes>"
            ],
            "image/png": "[encoded data removed]"
          },
          "metadata": {
            "needs_background": "light"
          }
        },
        {
          "output_type": "display_data",
          "data": {
            "text/plain": [
              "<IPython.core.display.Javascript object>"
            ],
            "application/javascript": [
              "window[\"3bb692a0-ae42-11ed-9084-0242ac1c000c\"] = google.colab.output.setActiveOutputArea(window[\"3ba2bbf4-ae42-11ed-9084-0242ac1c000c\"]);\n",
              "//# sourceURL=js_473b350a5e"
            ]
          },
          "metadata": {}
        }
      ]
    },
    {
      "cell_type": "code",
      "source": [],
      "metadata": {
        "id": "xE-JySwLDxg3"
      },
      "execution_count": 130,
      "outputs": []
    }
  ]
}