{
  "nbformat": 4,
  "nbformat_minor": 0,
  "metadata": {
    "colab": {
      "provenance": [],
      "include_colab_link": true
    },
    "kernelspec": {
      "name": "python3",
      "display_name": "Python 3"
    },
    "language_info": {
      "name": "python"
    }
  },
  "cells": [
    {
      "cell_type": "markdown",
      "metadata": {
        "id": "view-in-github",
        "colab_type": "text"
      },
      "source": [
        "<a href=\"https://colab.research.google.com/github/akhil1198/RL-PA1/blob/main/RL_A1.ipynb\" target=\"_parent\"><img src=\"https://colab.research.google.com/assets/colab-badge.svg\" alt=\"Open In Colab\"/></a>"
      ]
    },
    {
      "cell_type": "code",
      "execution_count": 1,
      "metadata": {
        "colab": {
          "base_uri": "https://localhost:8080/"
        },
        "id": "hw2TLyoAigYz",
        "outputId": "459036af-e2d6-40a2-9a67-5c43cad31a9e"
      },
      "outputs": [
        {
          "output_type": "stream",
          "name": "stdout",
          "text": [
            "Looking in indexes: https://pypi.org/simple, https://us-python.pkg.dev/colab-wheels/public/simple/\n",
            "Collecting gymnasium\n",
            "  Downloading gymnasium-0.27.1-py3-none-any.whl (883 kB)\n",
            "\u001b[2K     \u001b[90m━━━━━━━━━━━━━━━━━━━━━━━━━━━━━━━━━━━━━━\u001b[0m \u001b[32m883.7/883.7 KB\u001b[0m \u001b[31m15.6 MB/s\u001b[0m eta \u001b[36m0:00:00\u001b[0m\n",
            "\u001b[?25hRequirement already satisfied: matplotlib in /usr/local/lib/python3.8/dist-packages (3.2.2)\n",
            "Requirement already satisfied: numpy in /usr/local/lib/python3.8/dist-packages (1.21.6)\n",
            "Requirement already satisfied: typing-extensions>=4.3.0 in /usr/local/lib/python3.8/dist-packages (from gymnasium) (4.4.0)\n",
            "Requirement already satisfied: cloudpickle>=1.2.0 in /usr/local/lib/python3.8/dist-packages (from gymnasium) (2.2.1)\n",
            "Requirement already satisfied: importlib-metadata>=4.8.0 in /usr/local/lib/python3.8/dist-packages (from gymnasium) (6.0.0)\n",
            "Collecting jax-jumpy>=0.2.0\n",
            "  Downloading jax_jumpy-0.2.0-py3-none-any.whl (11 kB)\n",
            "Collecting gymnasium-notices>=0.0.1\n",
            "  Downloading gymnasium_notices-0.0.1-py3-none-any.whl (2.8 kB)\n",
            "Requirement already satisfied: python-dateutil>=2.1 in /usr/local/lib/python3.8/dist-packages (from matplotlib) (2.8.2)\n",
            "Requirement already satisfied: kiwisolver>=1.0.1 in /usr/local/lib/python3.8/dist-packages (from matplotlib) (1.4.4)\n",
            "Requirement already satisfied: cycler>=0.10 in /usr/local/lib/python3.8/dist-packages (from matplotlib) (0.11.0)\n",
            "Requirement already satisfied: pyparsing!=2.0.4,!=2.1.2,!=2.1.6,>=2.0.1 in /usr/local/lib/python3.8/dist-packages (from matplotlib) (3.0.9)\n",
            "Requirement already satisfied: zipp>=0.5 in /usr/local/lib/python3.8/dist-packages (from importlib-metadata>=4.8.0->gymnasium) (3.12.1)\n",
            "Requirement already satisfied: six>=1.5 in /usr/local/lib/python3.8/dist-packages (from python-dateutil>=2.1->matplotlib) (1.15.0)\n",
            "Installing collected packages: gymnasium-notices, jax-jumpy, gymnasium\n",
            "Successfully installed gymnasium-0.27.1 gymnasium-notices-0.0.1 jax-jumpy-0.2.0\n"
          ]
        }
      ],
      "source": [
        "!pip install gymnasium matplotlib numpy"
      ]
    },
    {
      "cell_type": "code",
      "source": [
        "from google.colab import widgets\n",
        "import gymnasium as gym\n",
        "from gymnasium import spaces\n",
        "import matplotlib.pyplot as plt\n",
        "import numpy as np\n",
        "import time"
      ],
      "metadata": {
        "id": "9d4qlEyLjUam"
      },
      "execution_count": 2,
      "outputs": []
    },
    {
      "cell_type": "code",
      "source": [
        "output_grid = widgets.Grid(1,1)\n",
        "\n",
        "for _ in range(5):\n",
        "  grid = np.zeros((5, 5))\n",
        "  grid[np.random.randint(5), np.random.randint(5)] = 1\n",
        "\n",
        "  with output_grid.output_to(0,0):\n",
        "    output_grid.clear_cell()\n",
        "    plt.imshow(grid)\n",
        "  time.sleep(2) "
      ],
      "metadata": {
        "colab": {
          "base_uri": "https://localhost:8080/",
          "height": 269
        },
        "id": "1V9H_w_ujZIt",
        "outputId": "957abc28-70f3-43ee-9af4-60ae7eef9924"
      },
      "execution_count": 3,
      "outputs": [
        {
          "output_type": "display_data",
          "data": {
            "text/plain": [
              "<IPython.core.display.HTML object>"
            ],
            "text/html": [
              "<style>\n",
              "       table#id2, #id2 > tbody > tr > th, #id2 > tbody > tr > td {\n",
              "         border: 1px solid lightgray;\n",
              "         border-collapse:collapse;\n",
              "         \n",
              "        }</style>"
            ]
          },
          "metadata": {}
        },
        {
          "output_type": "display_data",
          "data": {
            "text/plain": [
              "<IPython.core.display.HTML object>"
            ],
            "text/html": [
              "<table id=id2><tr><td id=id2-0-0></td></tr></table>"
            ]
          },
          "metadata": {}
        },
        {
          "output_type": "display_data",
          "data": {
            "text/plain": [
              "<IPython.core.display.Javascript object>"
            ],
            "application/javascript": [
              "window[\"45dda4d6-ae78-11ed-b228-0242ac1c000c\"] = google.colab.output.getActiveOutputArea();\n",
              "//# sourceURL=js_3faeef2c4b"
            ]
          },
          "metadata": {}
        },
        {
          "output_type": "display_data",
          "data": {
            "text/plain": [
              "<IPython.core.display.Javascript object>"
            ],
            "application/javascript": [
              "window[\"45de1e3e-ae78-11ed-b228-0242ac1c000c\"] = document.querySelector(\"#id2-0-0\");\n",
              "//# sourceURL=js_7bb637f637"
            ]
          },
          "metadata": {}
        },
        {
          "output_type": "display_data",
          "data": {
            "text/plain": [
              "<IPython.core.display.Javascript object>"
            ],
            "application/javascript": [
              "window[\"45de9918-ae78-11ed-b228-0242ac1c000c\"] = google.colab.output.setActiveOutputArea(window[\"45de1e3e-ae78-11ed-b228-0242ac1c000c\"]);\n",
              "//# sourceURL=js_b90f00b2fb"
            ]
          },
          "metadata": {}
        },
        {
          "output_type": "display_data",
          "data": {
            "text/plain": [
              "<IPython.core.display.Javascript object>"
            ],
            "application/javascript": [
              "window[\"46088a48-ae78-11ed-b228-0242ac1c000c\"] = google.colab.output.setActiveOutputArea(window[\"45dda4d6-ae78-11ed-b228-0242ac1c000c\"]);\n",
              "//# sourceURL=js_89b08f7f38"
            ]
          },
          "metadata": {}
        },
        {
          "output_type": "display_data",
          "data": {
            "text/plain": [
              "<IPython.core.display.Javascript object>"
            ],
            "application/javascript": [
              "window[\"473c69d4-ae78-11ed-b228-0242ac1c000c\"] = google.colab.output.getActiveOutputArea();\n",
              "//# sourceURL=js_40c7edf8aa"
            ]
          },
          "metadata": {}
        },
        {
          "output_type": "display_data",
          "data": {
            "text/plain": [
              "<IPython.core.display.Javascript object>"
            ],
            "application/javascript": [
              "window[\"473caed0-ae78-11ed-b228-0242ac1c000c\"] = document.querySelector(\"#id2-0-0\");\n",
              "//# sourceURL=js_f71567e583"
            ]
          },
          "metadata": {}
        },
        {
          "output_type": "display_data",
          "data": {
            "text/plain": [
              "<IPython.core.display.Javascript object>"
            ],
            "application/javascript": [
              "window[\"473cf6c4-ae78-11ed-b228-0242ac1c000c\"] = google.colab.output.setActiveOutputArea(window[\"473caed0-ae78-11ed-b228-0242ac1c000c\"]);\n",
              "//# sourceURL=js_2722d5d8b8"
            ]
          },
          "metadata": {}
        },
        {
          "output_type": "display_data",
          "data": {
            "text/plain": [
              "<IPython.core.display.Javascript object>"
            ],
            "application/javascript": [
              "window[\"4759eedc-ae78-11ed-b228-0242ac1c000c\"] = google.colab.output.setActiveOutputArea(window[\"473c69d4-ae78-11ed-b228-0242ac1c000c\"]);\n",
              "//# sourceURL=js_764165ec42"
            ]
          },
          "metadata": {}
        },
        {
          "output_type": "display_data",
          "data": {
            "text/plain": [
              "<IPython.core.display.Javascript object>"
            ],
            "application/javascript": [
              "window[\"488f26fa-ae78-11ed-b228-0242ac1c000c\"] = google.colab.output.getActiveOutputArea();\n",
              "//# sourceURL=js_73f60679aa"
            ]
          },
          "metadata": {}
        },
        {
          "output_type": "display_data",
          "data": {
            "text/plain": [
              "<IPython.core.display.Javascript object>"
            ],
            "application/javascript": [
              "window[\"488f8d20-ae78-11ed-b228-0242ac1c000c\"] = document.querySelector(\"#id2-0-0\");\n",
              "//# sourceURL=js_4689b09c5a"
            ]
          },
          "metadata": {}
        },
        {
          "output_type": "display_data",
          "data": {
            "text/plain": [
              "<IPython.core.display.Javascript object>"
            ],
            "application/javascript": [
              "window[\"488ffc38-ae78-11ed-b228-0242ac1c000c\"] = google.colab.output.setActiveOutputArea(window[\"488f8d20-ae78-11ed-b228-0242ac1c000c\"]);\n",
              "//# sourceURL=js_04437646d3"
            ]
          },
          "metadata": {}
        },
        {
          "output_type": "display_data",
          "data": {
            "text/plain": [
              "<IPython.core.display.Javascript object>"
            ],
            "application/javascript": [
              "window[\"48af03a8-ae78-11ed-b228-0242ac1c000c\"] = google.colab.output.setActiveOutputArea(window[\"488f26fa-ae78-11ed-b228-0242ac1c000c\"]);\n",
              "//# sourceURL=js_a719341ebf"
            ]
          },
          "metadata": {}
        },
        {
          "output_type": "display_data",
          "data": {
            "text/plain": [
              "<IPython.core.display.Javascript object>"
            ],
            "application/javascript": [
              "window[\"49e4faf2-ae78-11ed-b228-0242ac1c000c\"] = google.colab.output.getActiveOutputArea();\n",
              "//# sourceURL=js_d00a95a18c"
            ]
          },
          "metadata": {}
        },
        {
          "output_type": "display_data",
          "data": {
            "text/plain": [
              "<IPython.core.display.Javascript object>"
            ],
            "application/javascript": [
              "window[\"49e5f9ac-ae78-11ed-b228-0242ac1c000c\"] = document.querySelector(\"#id2-0-0\");\n",
              "//# sourceURL=js_7b183793fd"
            ]
          },
          "metadata": {}
        },
        {
          "output_type": "display_data",
          "data": {
            "text/plain": [
              "<IPython.core.display.Javascript object>"
            ],
            "application/javascript": [
              "window[\"49e708d8-ae78-11ed-b228-0242ac1c000c\"] = google.colab.output.setActiveOutputArea(window[\"49e5f9ac-ae78-11ed-b228-0242ac1c000c\"]);\n",
              "//# sourceURL=js_faf3b3ec64"
            ]
          },
          "metadata": {}
        },
        {
          "output_type": "display_data",
          "data": {
            "text/plain": [
              "<IPython.core.display.Javascript object>"
            ],
            "application/javascript": [
              "window[\"4a0b4022-ae78-11ed-b228-0242ac1c000c\"] = google.colab.output.setActiveOutputArea(window[\"49e4faf2-ae78-11ed-b228-0242ac1c000c\"]);\n",
              "//# sourceURL=js_5a55becffb"
            ]
          },
          "metadata": {}
        },
        {
          "output_type": "display_data",
          "data": {
            "text/plain": [
              "<IPython.core.display.Javascript object>"
            ],
            "application/javascript": [
              "window[\"4b43e048-ae78-11ed-b228-0242ac1c000c\"] = google.colab.output.getActiveOutputArea();\n",
              "//# sourceURL=js_6014a8f413"
            ]
          },
          "metadata": {}
        },
        {
          "output_type": "display_data",
          "data": {
            "text/plain": [
              "<IPython.core.display.Javascript object>"
            ],
            "application/javascript": [
              "window[\"4b44468c-ae78-11ed-b228-0242ac1c000c\"] = document.querySelector(\"#id2-0-0\");\n",
              "//# sourceURL=js_dad62f0adb"
            ]
          },
          "metadata": {}
        },
        {
          "output_type": "display_data",
          "data": {
            "text/plain": [
              "<IPython.core.display.Javascript object>"
            ],
            "application/javascript": [
              "window[\"4b4506da-ae78-11ed-b228-0242ac1c000c\"] = google.colab.output.setActiveOutputArea(window[\"4b44468c-ae78-11ed-b228-0242ac1c000c\"]);\n",
              "//# sourceURL=js_6f58962fd6"
            ]
          },
          "metadata": {}
        },
        {
          "output_type": "display_data",
          "data": {
            "text/plain": [
              "<Figure size 432x288 with 1 Axes>"
            ],
            "image/png": "[encoded data removed]"
          },
          "metadata": {
            "needs_background": "light"
          }
        },
        {
          "output_type": "display_data",
          "data": {
            "text/plain": [
              "<IPython.core.display.Javascript object>"
            ],
            "application/javascript": [
              "window[\"4b8d59e4-ae78-11ed-b228-0242ac1c000c\"] = google.colab.output.setActiveOutputArea(window[\"4b43e048-ae78-11ed-b228-0242ac1c000c\"]);\n",
              "//# sourceURL=js_23cd6f5607"
            ]
          },
          "metadata": {}
        }
      ]
    },
    {
      "cell_type": "markdown",
      "source": [
        "Creating an Environment with all the actions, states, rewards and positions"
      ],
      "metadata": {
        "id": "x0kViSd_yd82"
      }
    },
    {
      "cell_type": "code",
      "source": [
        "from IPython.utils.path import random\n",
        "class GridEnv(gym.Env):\n",
        "  def __init__(self, env_type):\n",
        "    self.environment_type = env_type\n",
        "    self.environment_width = 5\n",
        "    self.environment_height = 5\n",
        "    self.observation_space = spaces.Discrete(25)\n",
        "    self.action_space = spaces.Discrete(4)\n",
        "\n",
        "    self.timestep = 0\n",
        "    self.max_timesteps = 15\n",
        "\n",
        "    self.agent_pos = [0, 0]\n",
        "    self.goal_pos = [4, 4]\n",
        "\n",
        "    self.state = np.zeros((5,5))\n",
        "    self.state[tuple(self.agent_pos)] = 1\n",
        "    self.state[tuple(self.goal_pos)] = 0.5\n",
        "\n",
        "    self.reward = 0\n",
        "    self.truncated = False\n",
        "    self.terminated = False\n",
        "    self.reward_pos = np.asarray([[0, 4], [2, 1], [3, 4], [4, 2]])\n",
        "    self.negreward_pos = np.asarray([[1, 2], [3, 0], [3, 3]])\n",
        "\n",
        "    #for stochastic env\n",
        "    self.random_number = 0\n",
        "    self.rand_action = 0\n",
        "\n",
        "  def reset(self):\n",
        "    self.state = np.zeros((5,5))\n",
        "    self.state[tuple(self.agent_pos)] = 1\n",
        "    self.state[tuple(self.goal_pos)] = 0.5\n",
        "    observation = self.state.flatten()\n",
        "\n",
        "    info = {}\n",
        "\n",
        "    return observation, info\n",
        "  \n",
        "  def step(self, action, obs):\n",
        "    #print(action)\n",
        "    action = int(action)\n",
        "    if action == 0:\n",
        "      #print(\"at 0 - > agent_pos[0] += 1\")\n",
        "      self.agent_pos[0] += 1\n",
        "    if action == 1:\n",
        "      #print(\"at 1 -> agent_pos[0] -= 1\")\n",
        "      self.agent_pos[0] -= 1\n",
        "    if action == 2:\n",
        "      #print(\"at 2 -> agent_pos[1] += 1\")\n",
        "      self.agent_pos[1] += 1\n",
        "    if action == 3:\n",
        "      #print(\"at 3 -> agent_pos[1] -= 1\")\n",
        "      self.agent_pos[1] -= 1\n",
        "    #stochastic method\n",
        "    if self.environment_type == \"stochastic\":\n",
        "      self.random_number = np.random.rand()\n",
        "      self.rand_action = np.random.randint(4)\n",
        "      if self.random_number < 0.9:\n",
        "        #print(\"Executing the right action -> \", action)\n",
        "        if action == 0:\n",
        "          #print(\"at 0 - > agent_pos[0] += 1\")\n",
        "          self.agent_pos[0] += 1\n",
        "        if action == 1:\n",
        "          #print(\"at 1 -> agent_pos[0] -= 1\")\n",
        "          self.agent_pos[0] -= 1\n",
        "        if action == 2:\n",
        "          #print(\"at 2 -> agent_pos[1] += 1\")\n",
        "          self.agent_pos[1] += 1\n",
        "        if action == 3:\n",
        "          #print(\"at 3 -> agent_pos[1] -= 1\")\n",
        "          self.agent_pos[1] -= 1\n",
        "      elif self.random_number > 0.9:\n",
        "        #print(\"Executing Random Action\", self.rand_action)\n",
        "        if self.rand_action == 0:\n",
        "          self.agent_pos[0] += 1\n",
        "        if self.rand_action == 1:\n",
        "          self.agent_pos[0] -= 1\n",
        "        if self.rand_action == 2:\n",
        "          self.agent_pos[1] += 1\n",
        "        if self.rand_action == 3:\n",
        "          self.agent_pos[1] -= 1\n",
        "      \n",
        "    #print(self.agent_pos)\n",
        "    #Comment this to demonstrate the truncation condition.\n",
        "    self.agent_pos = np.clip(self.agent_pos, 0, 4)\n",
        "\n",
        "    self.state = np.zeros((5,5))\n",
        "    self.state[tuple(self.agent_pos)] = 1\n",
        "    self.state[tuple(self.goal_pos)] = 0.5\n",
        "    observation = self.state.flatten()\n",
        "\n",
        "    self.reward = 0\n",
        "    #[0, 4], [2, 1], [3, 4], [4, 2]\n",
        "    if np.array_equal(self.agent_pos, self.reward_pos[0]):\n",
        "      self.reward = self.reward + 2\n",
        "    \n",
        "    if np.array_equal(self.agent_pos, self.reward_pos[1]):\n",
        "      self.reward = self.reward + 4\n",
        "    \n",
        "    if np.array_equal(self.agent_pos, self.reward_pos[2]):\n",
        "      self.reward = self.reward + 8\n",
        "    \n",
        "    if np.array_equal(self.agent_pos, self.reward_pos[3]):\n",
        "      self.reward = self.reward + 6\n",
        "    \n",
        "\n",
        "    if np.array_equal(self.agent_pos, self.goal_pos):\n",
        "      self.reward += 100\n",
        "    \n",
        "\n",
        "    #[1, 2], [3, 0], [3, 3]\n",
        "    if np.array_equal(self.agent_pos, self.negreward_pos[0]):\n",
        "      self.reward = self.reward - 5\n",
        "    \n",
        "    if np.array_equal(self.agent_pos, self.negreward_pos[1]):\n",
        "      self.reward = self.reward - 6\n",
        "    \n",
        "    if np.array_equal(self.agent_pos, self.negreward_pos[2]):\n",
        "      self.reward = self.reward - 2 \n",
        "\n",
        "    self.timestep += 1\n",
        "\n",
        "    #print(\"truncated -> \", self.agent_pos,)\n",
        "    terminated = True if self.timestep >= self.max_timesteps else False\n",
        "    truncated = True if np.all((self.agent_pos[0] >= 0) & (self.agent_pos[0] <= 4) & (self.agent_pos[1] >= 0) & (self.agent_pos[1] <= 4)) else False\n",
        "\n",
        "    info = {}\n",
        "    \n",
        "    return observation, reward, terminated, truncated, info\n",
        "\n",
        "  def render(self):\n",
        "    print(\"Environment Type -> \", self.environment_type)\n",
        "    \n",
        "    if self.environment_type == 'stochastic':\n",
        "      print(\"Random Number -> \", self.random_number)\n",
        "      print(\"Random Action -> \", self.rand_action)\n",
        "      print(\"Reward -> \", self.reward)\n",
        "      print(\"Truncated -> \", self.truncated)\n",
        "      print(\"Terminated -> \", self.terminated)\n",
        "      print(\"Agent Position -> \", self.agent_pos)\n",
        "    else: \n",
        "      print(\"Reward -> \", self.reward)\n",
        "      print(\"Truncated -> \", self.truncated)\n",
        "      print(\"Terminated -> \", self.terminated)\n",
        "      print(\"Agent Position -> \", self.agent_pos)\n",
        "    plt.imshow(self.state)\n",
        "    \n"
      ],
      "metadata": {
        "id": "uiH3nTLTj3qR"
      },
      "execution_count": 9,
      "outputs": []
    },
    {
      "cell_type": "markdown",
      "source": [
        "Creating a Random Agent "
      ],
      "metadata": {
        "id": "-7sNCX8TypM_"
      }
    },
    {
      "cell_type": "code",
      "source": [
        "class RandomAgent:\n",
        "  def __init__(self, env):\n",
        "    self.env = env\n",
        "    self.observation_space = env.observation_space\n",
        "    self.action_space = env.action_space\n",
        "  def step(self, obs):\n",
        "    return np.random.choice(self.action_space.n)\n",
        "  "
      ],
      "metadata": {
        "id": "WCTSceXW44Bk"
      },
      "execution_count": 10,
      "outputs": []
    },
    {
      "cell_type": "markdown",
      "source": [
        "Starting the execution by calling all the methods in the Environment until termination of process\n",
        "\n",
        "Deterministic Environment: "
      ],
      "metadata": {
        "id": "CeaheI38ZYT9"
      }
    },
    {
      "cell_type": "code",
      "source": [
        "env = GridEnv(env_type = \"deterministic\")\n",
        "agent = RandomAgent(env)\n",
        "\n",
        "obs, info = env.reset()\n",
        "terminated, truncated = False, False\n",
        "\n",
        "output_grid = widgets.Grid(1, 1)\n",
        "with output_grid.output_to(0, 0):\n",
        "  env.render()\n",
        "\n",
        "while not terminated:\n",
        "  action = agent.step(obs)\n",
        "  #action = input()\n",
        "  observation, reward, terminated, truncated, info = env.step(action, obs)\n",
        "  with output_grid.output_to(0, 0):\n",
        "    output_grid.clear_cell()\n",
        "    plt.imshow(grid)\n",
        "    env.render()\n",
        "  time.sleep(1)\n"
      ],
      "metadata": {
        "colab": {
          "base_uri": "https://localhost:8080/",
          "height": 358
        },
        "id": "f-iPycGP48pI",
        "outputId": "d918a3c6-f622-4cd3-fb1d-4ed63bae08b9"
      },
      "execution_count": 11,
      "outputs": [
        {
          "output_type": "display_data",
          "data": {
            "text/plain": [
              "<IPython.core.display.HTML object>"
            ],
            "text/html": [
              "<style>\n",
              "       table#id10, #id10 > tbody > tr > th, #id10 > tbody > tr > td {\n",
              "         border: 1px solid lightgray;\n",
              "         border-collapse:collapse;\n",
              "         \n",
              "        }</style>"
            ]
          },
          "metadata": {}
        },
        {
          "output_type": "display_data",
          "data": {
            "text/plain": [
              "<IPython.core.display.HTML object>"
            ],
            "text/html": [
              "<table id=id10><tr><td id=id10-0-0></td></tr></table>"
            ]
          },
          "metadata": {}
        },
        {
          "output_type": "display_data",
          "data": {
            "text/plain": [
              "<IPython.core.display.Javascript object>"
            ],
            "application/javascript": [
              "window[\"3b718796-ae79-11ed-b228-0242ac1c000c\"] = google.colab.output.getActiveOutputArea();\n",
              "//# sourceURL=js_6f77b77114"
            ]
          },
          "metadata": {}
        },
        {
          "output_type": "display_data",
          "data": {
            "text/plain": [
              "<IPython.core.display.Javascript object>"
            ],
            "application/javascript": [
              "window[\"3b7268aa-ae79-11ed-b228-0242ac1c000c\"] = document.querySelector(\"#id10-0-0\");\n",
              "//# sourceURL=js_2fdffe1ce5"
            ]
          },
          "metadata": {}
        },
        {
          "output_type": "display_data",
          "data": {
            "text/plain": [
              "<IPython.core.display.Javascript object>"
            ],
            "application/javascript": [
              "window[\"3b72e956-ae79-11ed-b228-0242ac1c000c\"] = google.colab.output.setActiveOutputArea(window[\"3b7268aa-ae79-11ed-b228-0242ac1c000c\"]);\n",
              "//# sourceURL=js_2a7d34ef77"
            ]
          },
          "metadata": {}
        },
        {
          "output_type": "display_data",
          "data": {
            "text/plain": [
              "<IPython.core.display.Javascript object>"
            ],
            "application/javascript": [
              "window[\"3b8f9920-ae79-11ed-b228-0242ac1c000c\"] = google.colab.output.setActiveOutputArea(window[\"3b718796-ae79-11ed-b228-0242ac1c000c\"]);\n",
              "//# sourceURL=js_56d8805070"
            ]
          },
          "metadata": {}
        },
        {
          "output_type": "display_data",
          "data": {
            "text/plain": [
              "<IPython.core.display.Javascript object>"
            ],
            "application/javascript": [
              "window[\"3b922a50-ae79-11ed-b228-0242ac1c000c\"] = google.colab.output.getActiveOutputArea();\n",
              "//# sourceURL=js_f770ee5a96"
            ]
          },
          "metadata": {}
        },
        {
          "output_type": "display_data",
          "data": {
            "text/plain": [
              "<IPython.core.display.Javascript object>"
            ],
            "application/javascript": [
              "window[\"3b9267c2-ae79-11ed-b228-0242ac1c000c\"] = document.querySelector(\"#id10-0-0\");\n",
              "//# sourceURL=js_7123ee67b6"
            ]
          },
          "metadata": {}
        },
        {
          "output_type": "display_data",
          "data": {
            "text/plain": [
              "<IPython.core.display.Javascript object>"
            ],
            "application/javascript": [
              "window[\"3b92a408-ae79-11ed-b228-0242ac1c000c\"] = google.colab.output.setActiveOutputArea(window[\"3b9267c2-ae79-11ed-b228-0242ac1c000c\"]);\n",
              "//# sourceURL=js_4dec40017a"
            ]
          },
          "metadata": {}
        },
        {
          "output_type": "display_data",
          "data": {
            "text/plain": [
              "<IPython.core.display.Javascript object>"
            ],
            "application/javascript": [
              "window[\"3bb25c94-ae79-11ed-b228-0242ac1c000c\"] = google.colab.output.setActiveOutputArea(window[\"3b922a50-ae79-11ed-b228-0242ac1c000c\"]);\n",
              "//# sourceURL=js_bdc6e62142"
            ]
          },
          "metadata": {}
        },
        {
          "output_type": "display_data",
          "data": {
            "text/plain": [
              "<IPython.core.display.Javascript object>"
            ],
            "application/javascript": [
              "window[\"3c4d11f8-ae79-11ed-b228-0242ac1c000c\"] = google.colab.output.getActiveOutputArea();\n",
              "//# sourceURL=js_8ace1bb2e2"
            ]
          },
          "metadata": {}
        },
        {
          "output_type": "display_data",
          "data": {
            "text/plain": [
              "<IPython.core.display.Javascript object>"
            ],
            "application/javascript": [
              "window[\"3c4d5fa0-ae79-11ed-b228-0242ac1c000c\"] = document.querySelector(\"#id10-0-0\");\n",
              "//# sourceURL=js_57935d0e6d"
            ]
          },
          "metadata": {}
        },
        {
          "output_type": "display_data",
          "data": {
            "text/plain": [
              "<IPython.core.display.Javascript object>"
            ],
            "application/javascript": [
              "window[\"3c4da0e6-ae79-11ed-b228-0242ac1c000c\"] = google.colab.output.setActiveOutputArea(window[\"3c4d5fa0-ae79-11ed-b228-0242ac1c000c\"]);\n",
              "//# sourceURL=js_2769d45b61"
            ]
          },
          "metadata": {}
        },
        {
          "output_type": "display_data",
          "data": {
            "text/plain": [
              "<IPython.core.display.Javascript object>"
            ],
            "application/javascript": [
              "window[\"3c633fdc-ae79-11ed-b228-0242ac1c000c\"] = google.colab.output.setActiveOutputArea(window[\"3c4d11f8-ae79-11ed-b228-0242ac1c000c\"]);\n",
              "//# sourceURL=js_db2c7592c1"
            ]
          },
          "metadata": {}
        },
        {
          "output_type": "display_data",
          "data": {
            "text/plain": [
              "<IPython.core.display.Javascript object>"
            ],
            "application/javascript": [
              "window[\"3cfe0580-ae79-11ed-b228-0242ac1c000c\"] = google.colab.output.getActiveOutputArea();\n",
              "//# sourceURL=js_7af9136e0c"
            ]
          },
          "metadata": {}
        },
        {
          "output_type": "display_data",
          "data": {
            "text/plain": [
              "<IPython.core.display.Javascript object>"
            ],
            "application/javascript": [
              "window[\"3cfe4ff4-ae79-11ed-b228-0242ac1c000c\"] = document.querySelector(\"#id10-0-0\");\n",
              "//# sourceURL=js_753780b255"
            ]
          },
          "metadata": {}
        },
        {
          "output_type": "display_data",
          "data": {
            "text/plain": [
              "<IPython.core.display.Javascript object>"
            ],
            "application/javascript": [
              "window[\"3cfeb67e-ae79-11ed-b228-0242ac1c000c\"] = google.colab.output.setActiveOutputArea(window[\"3cfe4ff4-ae79-11ed-b228-0242ac1c000c\"]);\n",
              "//# sourceURL=js_2bffe947d7"
            ]
          },
          "metadata": {}
        },
        {
          "output_type": "display_data",
          "data": {
            "text/plain": [
              "<IPython.core.display.Javascript object>"
            ],
            "application/javascript": [
              "window[\"3d16ab76-ae79-11ed-b228-0242ac1c000c\"] = google.colab.output.setActiveOutputArea(window[\"3cfe0580-ae79-11ed-b228-0242ac1c000c\"]);\n",
              "//# sourceURL=js_6c8ee7dc47"
            ]
          },
          "metadata": {}
        },
        {
          "output_type": "display_data",
          "data": {
            "text/plain": [
              "<IPython.core.display.Javascript object>"
            ],
            "application/javascript": [
              "window[\"3db1f1bc-ae79-11ed-b228-0242ac1c000c\"] = google.colab.output.getActiveOutputArea();\n",
              "//# sourceURL=js_f151d616c6"
            ]
          },
          "metadata": {}
        },
        {
          "output_type": "display_data",
          "data": {
            "text/plain": [
              "<IPython.core.display.Javascript object>"
            ],
            "application/javascript": [
              "window[\"3db23352-ae79-11ed-b228-0242ac1c000c\"] = document.querySelector(\"#id10-0-0\");\n",
              "//# sourceURL=js_785d347367"
            ]
          },
          "metadata": {}
        },
        {
          "output_type": "display_data",
          "data": {
            "text/plain": [
              "<IPython.core.display.Javascript object>"
            ],
            "application/javascript": [
              "window[\"3db279de-ae79-11ed-b228-0242ac1c000c\"] = google.colab.output.setActiveOutputArea(window[\"3db23352-ae79-11ed-b228-0242ac1c000c\"]);\n",
              "//# sourceURL=js_d23ecac65a"
            ]
          },
          "metadata": {}
        },
        {
          "output_type": "display_data",
          "data": {
            "text/plain": [
              "<IPython.core.display.Javascript object>"
            ],
            "application/javascript": [
              "window[\"3dc94cfe-ae79-11ed-b228-0242ac1c000c\"] = google.colab.output.setActiveOutputArea(window[\"3db1f1bc-ae79-11ed-b228-0242ac1c000c\"]);\n",
              "//# sourceURL=js_9e81cb893d"
            ]
          },
          "metadata": {}
        },
        {
          "output_type": "display_data",
          "data": {
            "text/plain": [
              "<IPython.core.display.Javascript object>"
            ],
            "application/javascript": [
              "window[\"3e659e38-ae79-11ed-b228-0242ac1c000c\"] = google.colab.output.getActiveOutputArea();\n",
              "//# sourceURL=js_c1cffb8865"
            ]
          },
          "metadata": {}
        },
        {
          "output_type": "display_data",
          "data": {
            "text/plain": [
              "<IPython.core.display.Javascript object>"
            ],
            "application/javascript": [
              "window[\"3e660526-ae79-11ed-b228-0242ac1c000c\"] = document.querySelector(\"#id10-0-0\");\n",
              "//# sourceURL=js_935206597e"
            ]
          },
          "metadata": {}
        },
        {
          "output_type": "display_data",
          "data": {
            "text/plain": [
              "<IPython.core.display.Javascript object>"
            ],
            "application/javascript": [
              "window[\"3e666264-ae79-11ed-b228-0242ac1c000c\"] = google.colab.output.setActiveOutputArea(window[\"3e660526-ae79-11ed-b228-0242ac1c000c\"]);\n",
              "//# sourceURL=js_f39abc7cf1"
            ]
          },
          "metadata": {}
        },
        {
          "output_type": "display_data",
          "data": {
            "text/plain": [
              "<IPython.core.display.Javascript object>"
            ],
            "application/javascript": [
              "window[\"3e7d1248-ae79-11ed-b228-0242ac1c000c\"] = google.colab.output.setActiveOutputArea(window[\"3e659e38-ae79-11ed-b228-0242ac1c000c\"]);\n",
              "//# sourceURL=js_5f0ae43cee"
            ]
          },
          "metadata": {}
        },
        {
          "output_type": "display_data",
          "data": {
            "text/plain": [
              "<IPython.core.display.Javascript object>"
            ],
            "application/javascript": [
              "window[\"3f18e060-ae79-11ed-b228-0242ac1c000c\"] = google.colab.output.getActiveOutputArea();\n",
              "//# sourceURL=js_0593e0d3e5"
            ]
          },
          "metadata": {}
        },
        {
          "output_type": "display_data",
          "data": {
            "text/plain": [
              "<IPython.core.display.Javascript object>"
            ],
            "application/javascript": [
              "window[\"3f195cac-ae79-11ed-b228-0242ac1c000c\"] = document.querySelector(\"#id10-0-0\");\n",
              "//# sourceURL=js_d6c02616aa"
            ]
          },
          "metadata": {}
        },
        {
          "output_type": "display_data",
          "data": {
            "text/plain": [
              "<IPython.core.display.Javascript object>"
            ],
            "application/javascript": [
              "window[\"3f19bc10-ae79-11ed-b228-0242ac1c000c\"] = google.colab.output.setActiveOutputArea(window[\"3f195cac-ae79-11ed-b228-0242ac1c000c\"]);\n",
              "//# sourceURL=js_56b88b6808"
            ]
          },
          "metadata": {}
        },
        {
          "output_type": "display_data",
          "data": {
            "text/plain": [
              "<IPython.core.display.Javascript object>"
            ],
            "application/javascript": [
              "window[\"3f2f88d8-ae79-11ed-b228-0242ac1c000c\"] = google.colab.output.setActiveOutputArea(window[\"3f18e060-ae79-11ed-b228-0242ac1c000c\"]);\n",
              "//# sourceURL=js_ccf6a60f09"
            ]
          },
          "metadata": {}
        },
        {
          "output_type": "display_data",
          "data": {
            "text/plain": [
              "<IPython.core.display.Javascript object>"
            ],
            "application/javascript": [
              "window[\"3fcae26a-ae79-11ed-b228-0242ac1c000c\"] = google.colab.output.getActiveOutputArea();\n",
              "//# sourceURL=js_200d4a687c"
            ]
          },
          "metadata": {}
        },
        {
          "output_type": "display_data",
          "data": {
            "text/plain": [
              "<IPython.core.display.Javascript object>"
            ],
            "application/javascript": [
              "window[\"3fcba8f8-ae79-11ed-b228-0242ac1c000c\"] = document.querySelector(\"#id10-0-0\");\n",
              "//# sourceURL=js_a24a838925"
            ]
          },
          "metadata": {}
        },
        {
          "output_type": "display_data",
          "data": {
            "text/plain": [
              "<IPython.core.display.Javascript object>"
            ],
            "application/javascript": [
              "window[\"3fcc15e0-ae79-11ed-b228-0242ac1c000c\"] = google.colab.output.setActiveOutputArea(window[\"3fcba8f8-ae79-11ed-b228-0242ac1c000c\"]);\n",
              "//# sourceURL=js_0cb5d5f070"
            ]
          },
          "metadata": {}
        },
        {
          "output_type": "display_data",
          "data": {
            "text/plain": [
              "<IPython.core.display.Javascript object>"
            ],
            "application/javascript": [
              "window[\"3fe1a3a6-ae79-11ed-b228-0242ac1c000c\"] = google.colab.output.setActiveOutputArea(window[\"3fcae26a-ae79-11ed-b228-0242ac1c000c\"]);\n",
              "//# sourceURL=js_49a8d6148e"
            ]
          },
          "metadata": {}
        },
        {
          "output_type": "display_data",
          "data": {
            "text/plain": [
              "<IPython.core.display.Javascript object>"
            ],
            "application/javascript": [
              "window[\"407caacc-ae79-11ed-b228-0242ac1c000c\"] = google.colab.output.getActiveOutputArea();\n",
              "//# sourceURL=js_810ca4ec27"
            ]
          },
          "metadata": {}
        },
        {
          "output_type": "display_data",
          "data": {
            "text/plain": [
              "<IPython.core.display.Javascript object>"
            ],
            "application/javascript": [
              "window[\"407cf16c-ae79-11ed-b228-0242ac1c000c\"] = document.querySelector(\"#id10-0-0\");\n",
              "//# sourceURL=js_0686ea1cb5"
            ]
          },
          "metadata": {}
        },
        {
          "output_type": "display_data",
          "data": {
            "text/plain": [
              "<IPython.core.display.Javascript object>"
            ],
            "application/javascript": [
              "window[\"407d3d20-ae79-11ed-b228-0242ac1c000c\"] = google.colab.output.setActiveOutputArea(window[\"407cf16c-ae79-11ed-b228-0242ac1c000c\"]);\n",
              "//# sourceURL=js_dab6d1d7f3"
            ]
          },
          "metadata": {}
        },
        {
          "output_type": "display_data",
          "data": {
            "text/plain": [
              "<IPython.core.display.Javascript object>"
            ],
            "application/javascript": [
              "window[\"409448c6-ae79-11ed-b228-0242ac1c000c\"] = google.colab.output.setActiveOutputArea(window[\"407caacc-ae79-11ed-b228-0242ac1c000c\"]);\n",
              "//# sourceURL=js_61a0b869ed"
            ]
          },
          "metadata": {}
        },
        {
          "output_type": "display_data",
          "data": {
            "text/plain": [
              "<IPython.core.display.Javascript object>"
            ],
            "application/javascript": [
              "window[\"412f2378-ae79-11ed-b228-0242ac1c000c\"] = google.colab.output.getActiveOutputArea();\n",
              "//# sourceURL=js_61bff69272"
            ]
          },
          "metadata": {}
        },
        {
          "output_type": "display_data",
          "data": {
            "text/plain": [
              "<IPython.core.display.Javascript object>"
            ],
            "application/javascript": [
              "window[\"412f670c-ae79-11ed-b228-0242ac1c000c\"] = document.querySelector(\"#id10-0-0\");\n",
              "//# sourceURL=js_5c060377b1"
            ]
          },
          "metadata": {}
        },
        {
          "output_type": "display_data",
          "data": {
            "text/plain": [
              "<IPython.core.display.Javascript object>"
            ],
            "application/javascript": [
              "window[\"412fe38a-ae79-11ed-b228-0242ac1c000c\"] = google.colab.output.setActiveOutputArea(window[\"412f670c-ae79-11ed-b228-0242ac1c000c\"]);\n",
              "//# sourceURL=js_18597e3f62"
            ]
          },
          "metadata": {}
        },
        {
          "output_type": "display_data",
          "data": {
            "text/plain": [
              "<IPython.core.display.Javascript object>"
            ],
            "application/javascript": [
              "window[\"4144efd2-ae79-11ed-b228-0242ac1c000c\"] = google.colab.output.setActiveOutputArea(window[\"412f2378-ae79-11ed-b228-0242ac1c000c\"]);\n",
              "//# sourceURL=js_081b573e42"
            ]
          },
          "metadata": {}
        },
        {
          "output_type": "display_data",
          "data": {
            "text/plain": [
              "<IPython.core.display.Javascript object>"
            ],
            "application/javascript": [
              "window[\"41dfff5e-ae79-11ed-b228-0242ac1c000c\"] = google.colab.output.getActiveOutputArea();\n",
              "//# sourceURL=js_0cb26961dc"
            ]
          },
          "metadata": {}
        },
        {
          "output_type": "display_data",
          "data": {
            "text/plain": [
              "<IPython.core.display.Javascript object>"
            ],
            "application/javascript": [
              "window[\"41e045f4-ae79-11ed-b228-0242ac1c000c\"] = document.querySelector(\"#id10-0-0\");\n",
              "//# sourceURL=js_7bbb9810ad"
            ]
          },
          "metadata": {}
        },
        {
          "output_type": "display_data",
          "data": {
            "text/plain": [
              "<IPython.core.display.Javascript object>"
            ],
            "application/javascript": [
              "window[\"41e0a396-ae79-11ed-b228-0242ac1c000c\"] = google.colab.output.setActiveOutputArea(window[\"41e045f4-ae79-11ed-b228-0242ac1c000c\"]);\n",
              "//# sourceURL=js_fcafcd6790"
            ]
          },
          "metadata": {}
        },
        {
          "output_type": "display_data",
          "data": {
            "text/plain": [
              "<IPython.core.display.Javascript object>"
            ],
            "application/javascript": [
              "window[\"41fbd260-ae79-11ed-b228-0242ac1c000c\"] = google.colab.output.setActiveOutputArea(window[\"41dfff5e-ae79-11ed-b228-0242ac1c000c\"]);\n",
              "//# sourceURL=js_55420084b7"
            ]
          },
          "metadata": {}
        },
        {
          "output_type": "display_data",
          "data": {
            "text/plain": [
              "<IPython.core.display.Javascript object>"
            ],
            "application/javascript": [
              "window[\"4296b79e-ae79-11ed-b228-0242ac1c000c\"] = google.colab.output.getActiveOutputArea();\n",
              "//# sourceURL=js_3eda22cbcd"
            ]
          },
          "metadata": {}
        },
        {
          "output_type": "display_data",
          "data": {
            "text/plain": [
              "<IPython.core.display.Javascript object>"
            ],
            "application/javascript": [
              "window[\"4296fb64-ae79-11ed-b228-0242ac1c000c\"] = document.querySelector(\"#id10-0-0\");\n",
              "//# sourceURL=js_741953251e"
            ]
          },
          "metadata": {}
        },
        {
          "output_type": "display_data",
          "data": {
            "text/plain": [
              "<IPython.core.display.Javascript object>"
            ],
            "application/javascript": [
              "window[\"429789c6-ae79-11ed-b228-0242ac1c000c\"] = google.colab.output.setActiveOutputArea(window[\"4296fb64-ae79-11ed-b228-0242ac1c000c\"]);\n",
              "//# sourceURL=js_2047311668"
            ]
          },
          "metadata": {}
        },
        {
          "output_type": "display_data",
          "data": {
            "text/plain": [
              "<IPython.core.display.Javascript object>"
            ],
            "application/javascript": [
              "window[\"42bac3e6-ae79-11ed-b228-0242ac1c000c\"] = google.colab.output.setActiveOutputArea(window[\"4296b79e-ae79-11ed-b228-0242ac1c000c\"]);\n",
              "//# sourceURL=js_e85fa94e67"
            ]
          },
          "metadata": {}
        },
        {
          "output_type": "display_data",
          "data": {
            "text/plain": [
              "<IPython.core.display.Javascript object>"
            ],
            "application/javascript": [
              "window[\"43559e70-ae79-11ed-b228-0242ac1c000c\"] = google.colab.output.getActiveOutputArea();\n",
              "//# sourceURL=js_753f105a9f"
            ]
          },
          "metadata": {}
        },
        {
          "output_type": "display_data",
          "data": {
            "text/plain": [
              "<IPython.core.display.Javascript object>"
            ],
            "application/javascript": [
              "window[\"4355f578-ae79-11ed-b228-0242ac1c000c\"] = document.querySelector(\"#id10-0-0\");\n",
              "//# sourceURL=js_74fe4208ba"
            ]
          },
          "metadata": {}
        },
        {
          "output_type": "display_data",
          "data": {
            "text/plain": [
              "<IPython.core.display.Javascript object>"
            ],
            "application/javascript": [
              "window[\"43568506-ae79-11ed-b228-0242ac1c000c\"] = google.colab.output.setActiveOutputArea(window[\"4355f578-ae79-11ed-b228-0242ac1c000c\"]);\n",
              "//# sourceURL=js_d4e676e9a1"
            ]
          },
          "metadata": {}
        },
        {
          "output_type": "display_data",
          "data": {
            "text/plain": [
              "<IPython.core.display.Javascript object>"
            ],
            "application/javascript": [
              "window[\"436f0cd4-ae79-11ed-b228-0242ac1c000c\"] = google.colab.output.setActiveOutputArea(window[\"43559e70-ae79-11ed-b228-0242ac1c000c\"]);\n",
              "//# sourceURL=js_d4e1dbe4b8"
            ]
          },
          "metadata": {}
        },
        {
          "output_type": "display_data",
          "data": {
            "text/plain": [
              "<IPython.core.display.Javascript object>"
            ],
            "application/javascript": [
              "window[\"440ab9ea-ae79-11ed-b228-0242ac1c000c\"] = google.colab.output.getActiveOutputArea();\n",
              "//# sourceURL=js_bb795758d8"
            ]
          },
          "metadata": {}
        },
        {
          "output_type": "display_data",
          "data": {
            "text/plain": [
              "<IPython.core.display.Javascript object>"
            ],
            "application/javascript": [
              "window[\"440b0e90-ae79-11ed-b228-0242ac1c000c\"] = document.querySelector(\"#id10-0-0\");\n",
              "//# sourceURL=js_d621fe99de"
            ]
          },
          "metadata": {}
        },
        {
          "output_type": "display_data",
          "data": {
            "text/plain": [
              "<IPython.core.display.Javascript object>"
            ],
            "application/javascript": [
              "window[\"440b533c-ae79-11ed-b228-0242ac1c000c\"] = google.colab.output.setActiveOutputArea(window[\"440b0e90-ae79-11ed-b228-0242ac1c000c\"]);\n",
              "//# sourceURL=js_70bac02fa5"
            ]
          },
          "metadata": {}
        },
        {
          "output_type": "display_data",
          "data": {
            "text/plain": [
              "<IPython.core.display.Javascript object>"
            ],
            "application/javascript": [
              "window[\"44209b70-ae79-11ed-b228-0242ac1c000c\"] = google.colab.output.setActiveOutputArea(window[\"440ab9ea-ae79-11ed-b228-0242ac1c000c\"]);\n",
              "//# sourceURL=js_3c77088365"
            ]
          },
          "metadata": {}
        },
        {
          "output_type": "display_data",
          "data": {
            "text/plain": [
              "<IPython.core.display.Javascript object>"
            ],
            "application/javascript": [
              "window[\"44bbdd92-ae79-11ed-b228-0242ac1c000c\"] = google.colab.output.getActiveOutputArea();\n",
              "//# sourceURL=js_f3bacda760"
            ]
          },
          "metadata": {}
        },
        {
          "output_type": "display_data",
          "data": {
            "text/plain": [
              "<IPython.core.display.Javascript object>"
            ],
            "application/javascript": [
              "window[\"44bc22ac-ae79-11ed-b228-0242ac1c000c\"] = document.querySelector(\"#id10-0-0\");\n",
              "//# sourceURL=js_784c76c519"
            ]
          },
          "metadata": {}
        },
        {
          "output_type": "display_data",
          "data": {
            "text/plain": [
              "<IPython.core.display.Javascript object>"
            ],
            "application/javascript": [
              "window[\"44bc67d0-ae79-11ed-b228-0242ac1c000c\"] = google.colab.output.setActiveOutputArea(window[\"44bc22ac-ae79-11ed-b228-0242ac1c000c\"]);\n",
              "//# sourceURL=js_da5518125f"
            ]
          },
          "metadata": {}
        },
        {
          "output_type": "display_data",
          "data": {
            "text/plain": [
              "<IPython.core.display.Javascript object>"
            ],
            "application/javascript": [
              "window[\"44d1ba9a-ae79-11ed-b228-0242ac1c000c\"] = google.colab.output.setActiveOutputArea(window[\"44bbdd92-ae79-11ed-b228-0242ac1c000c\"]);\n",
              "//# sourceURL=js_c0a5f8406e"
            ]
          },
          "metadata": {}
        },
        {
          "output_type": "display_data",
          "data": {
            "text/plain": [
              "<IPython.core.display.Javascript object>"
            ],
            "application/javascript": [
              "window[\"456d578e-ae79-11ed-b228-0242ac1c000c\"] = google.colab.output.getActiveOutputArea();\n",
              "//# sourceURL=js_2d0b7a8d9f"
            ]
          },
          "metadata": {}
        },
        {
          "output_type": "display_data",
          "data": {
            "text/plain": [
              "<IPython.core.display.Javascript object>"
            ],
            "application/javascript": [
              "window[\"456dcad4-ae79-11ed-b228-0242ac1c000c\"] = document.querySelector(\"#id10-0-0\");\n",
              "//# sourceURL=js_07e26833ae"
            ]
          },
          "metadata": {}
        },
        {
          "output_type": "display_data",
          "data": {
            "text/plain": [
              "<IPython.core.display.Javascript object>"
            ],
            "application/javascript": [
              "window[\"456e1ee4-ae79-11ed-b228-0242ac1c000c\"] = google.colab.output.setActiveOutputArea(window[\"456dcad4-ae79-11ed-b228-0242ac1c000c\"]);\n",
              "//# sourceURL=js_54b868689e"
            ]
          },
          "metadata": {}
        },
        {
          "output_type": "stream",
          "name": "stdout",
          "text": [
            "Environment Type ->  deterministic\n",
            "Reward ->  0\n",
            "Truncated ->  False\n",
            "Terminated ->  False\n",
            "Agent Position ->  [2 3]\n"
          ]
        },
        {
          "output_type": "display_data",
          "data": {
            "text/plain": [
              "<Figure size 432x288 with 1 Axes>"
            ],
            "image/png": "[encoded data removed]"
          },
          "metadata": {
            "needs_background": "light"
          }
        },
        {
          "output_type": "display_data",
          "data": {
            "text/plain": [
              "<IPython.core.display.Javascript object>"
            ],
            "application/javascript": [
              "window[\"45844a02-ae79-11ed-b228-0242ac1c000c\"] = google.colab.output.setActiveOutputArea(window[\"456d578e-ae79-11ed-b228-0242ac1c000c\"]);\n",
              "//# sourceURL=js_498a4a32e3"
            ]
          },
          "metadata": {}
        }
      ]
    },
    {
      "cell_type": "markdown",
      "source": [
        "************************************************************************\n",
        "Stochastic Environment: "
      ],
      "metadata": {
        "id": "HsP4eebNZnk5"
      }
    },
    {
      "cell_type": "code",
      "source": [
        "env = GridEnv(env_type = \"stochastic\")\n",
        "agent = RandomAgent(env)\n",
        "\n",
        "obs, info = env.reset()\n",
        "terminated, truncated = False, False\n",
        "\n",
        "output_grid = widgets.Grid(1, 1)\n",
        "with output_grid.output_to(0, 0):\n",
        "  env.render()\n",
        "\n",
        "while not terminated:\n",
        "  action = agent.step(obs)\n",
        "  #action = input()\n",
        "  observation, reward, terminated, truncated, info = env.step(action, obs)\n",
        "  with output_grid.output_to(0, 0):\n",
        "    output_grid.clear_cell()\n",
        "    plt.imshow(grid)\n",
        "    env.render()\n",
        "  time.sleep(1)"
      ],
      "metadata": {
        "id": "Xm6_yTZFDoO9",
        "colab": {
          "base_uri": "https://localhost:8080/",
          "height": 394
        },
        "outputId": "0087d451-b0b5-4bbc-f494-cc321a956d88"
      },
      "execution_count": 12,
      "outputs": [
        {
          "output_type": "display_data",
          "data": {
            "text/plain": [
              "<IPython.core.display.HTML object>"
            ],
            "text/html": [
              "<style>\n",
              "       table#id12, #id12 > tbody > tr > th, #id12 > tbody > tr > td {\n",
              "         border: 1px solid lightgray;\n",
              "         border-collapse:collapse;\n",
              "         \n",
              "        }</style>"
            ]
          },
          "metadata": {}
        },
        {
          "output_type": "display_data",
          "data": {
            "text/plain": [
              "<IPython.core.display.HTML object>"
            ],
            "text/html": [
              "<table id=id12><tr><td id=id12-0-0></td></tr></table>"
            ]
          },
          "metadata": {}
        },
        {
          "output_type": "display_data",
          "data": {
            "text/plain": [
              "<IPython.core.display.Javascript object>"
            ],
            "application/javascript": [
              "window[\"49396998-ae79-11ed-b228-0242ac1c000c\"] = google.colab.output.getActiveOutputArea();\n",
              "//# sourceURL=js_bcb73485ef"
            ]
          },
          "metadata": {}
        },
        {
          "output_type": "display_data",
          "data": {
            "text/plain": [
              "<IPython.core.display.Javascript object>"
            ],
            "application/javascript": [
              "window[\"4939b100-ae79-11ed-b228-0242ac1c000c\"] = document.querySelector(\"#id12-0-0\");\n",
              "//# sourceURL=js_724899e0e7"
            ]
          },
          "metadata": {}
        },
        {
          "output_type": "display_data",
          "data": {
            "text/plain": [
              "<IPython.core.display.Javascript object>"
            ],
            "application/javascript": [
              "window[\"4939f6b0-ae79-11ed-b228-0242ac1c000c\"] = google.colab.output.setActiveOutputArea(window[\"4939b100-ae79-11ed-b228-0242ac1c000c\"]);\n",
              "//# sourceURL=js_4519825e18"
            ]
          },
          "metadata": {}
        },
        {
          "output_type": "display_data",
          "data": {
            "text/plain": [
              "<IPython.core.display.Javascript object>"
            ],
            "application/javascript": [
              "window[\"495af446-ae79-11ed-b228-0242ac1c000c\"] = google.colab.output.setActiveOutputArea(window[\"49396998-ae79-11ed-b228-0242ac1c000c\"]);\n",
              "//# sourceURL=js_d29fb50cf0"
            ]
          },
          "metadata": {}
        },
        {
          "output_type": "display_data",
          "data": {
            "text/plain": [
              "<IPython.core.display.Javascript object>"
            ],
            "application/javascript": [
              "window[\"495eab9a-ae79-11ed-b228-0242ac1c000c\"] = google.colab.output.getActiveOutputArea();\n",
              "//# sourceURL=js_74f0ea78ec"
            ]
          },
          "metadata": {}
        },
        {
          "output_type": "display_data",
          "data": {
            "text/plain": [
              "<IPython.core.display.Javascript object>"
            ],
            "application/javascript": [
              "window[\"495efd20-ae79-11ed-b228-0242ac1c000c\"] = document.querySelector(\"#id12-0-0\");\n",
              "//# sourceURL=js_4c2d1db2a6"
            ]
          },
          "metadata": {}
        },
        {
          "output_type": "display_data",
          "data": {
            "text/plain": [
              "<IPython.core.display.Javascript object>"
            ],
            "application/javascript": [
              "window[\"495f8dee-ae79-11ed-b228-0242ac1c000c\"] = google.colab.output.setActiveOutputArea(window[\"495efd20-ae79-11ed-b228-0242ac1c000c\"]);\n",
              "//# sourceURL=js_8efc798afa"
            ]
          },
          "metadata": {}
        },
        {
          "output_type": "display_data",
          "data": {
            "text/plain": [
              "<IPython.core.display.Javascript object>"
            ],
            "application/javascript": [
              "window[\"49824ce4-ae79-11ed-b228-0242ac1c000c\"] = google.colab.output.setActiveOutputArea(window[\"495eab9a-ae79-11ed-b228-0242ac1c000c\"]);\n",
              "//# sourceURL=js_0267317c2c"
            ]
          },
          "metadata": {}
        },
        {
          "output_type": "display_data",
          "data": {
            "text/plain": [
              "<IPython.core.display.Javascript object>"
            ],
            "application/javascript": [
              "window[\"4a1db9b8-ae79-11ed-b228-0242ac1c000c\"] = google.colab.output.getActiveOutputArea();\n",
              "//# sourceURL=js_3c2ef5e664"
            ]
          },
          "metadata": {}
        },
        {
          "output_type": "display_data",
          "data": {
            "text/plain": [
              "<IPython.core.display.Javascript object>"
            ],
            "application/javascript": [
              "window[\"4a1e333e-ae79-11ed-b228-0242ac1c000c\"] = document.querySelector(\"#id12-0-0\");\n",
              "//# sourceURL=js_26081f4815"
            ]
          },
          "metadata": {}
        },
        {
          "output_type": "display_data",
          "data": {
            "text/plain": [
              "<IPython.core.display.Javascript object>"
            ],
            "application/javascript": [
              "window[\"4a1eaa94-ae79-11ed-b228-0242ac1c000c\"] = google.colab.output.setActiveOutputArea(window[\"4a1e333e-ae79-11ed-b228-0242ac1c000c\"]);\n",
              "//# sourceURL=js_a2cef7c38a"
            ]
          },
          "metadata": {}
        },
        {
          "output_type": "display_data",
          "data": {
            "text/plain": [
              "<IPython.core.display.Javascript object>"
            ],
            "application/javascript": [
              "window[\"4a38e2d8-ae79-11ed-b228-0242ac1c000c\"] = google.colab.output.setActiveOutputArea(window[\"4a1db9b8-ae79-11ed-b228-0242ac1c000c\"]);\n",
              "//# sourceURL=js_582d6cd29f"
            ]
          },
          "metadata": {}
        },
        {
          "output_type": "display_data",
          "data": {
            "text/plain": [
              "<IPython.core.display.Javascript object>"
            ],
            "application/javascript": [
              "window[\"4ad3f3c2-ae79-11ed-b228-0242ac1c000c\"] = google.colab.output.getActiveOutputArea();\n",
              "//# sourceURL=js_5cbd74479d"
            ]
          },
          "metadata": {}
        },
        {
          "output_type": "display_data",
          "data": {
            "text/plain": [
              "<IPython.core.display.Javascript object>"
            ],
            "application/javascript": [
              "window[\"4ad43fe4-ae79-11ed-b228-0242ac1c000c\"] = document.querySelector(\"#id12-0-0\");\n",
              "//# sourceURL=js_0fd0900f63"
            ]
          },
          "metadata": {}
        },
        {
          "output_type": "display_data",
          "data": {
            "text/plain": [
              "<IPython.core.display.Javascript object>"
            ],
            "application/javascript": [
              "window[\"4ad48742-ae79-11ed-b228-0242ac1c000c\"] = google.colab.output.setActiveOutputArea(window[\"4ad43fe4-ae79-11ed-b228-0242ac1c000c\"]);\n",
              "//# sourceURL=js_5b757b02fa"
            ]
          },
          "metadata": {}
        },
        {
          "output_type": "display_data",
          "data": {
            "text/plain": [
              "<IPython.core.display.Javascript object>"
            ],
            "application/javascript": [
              "window[\"4ae941d2-ae79-11ed-b228-0242ac1c000c\"] = google.colab.output.setActiveOutputArea(window[\"4ad3f3c2-ae79-11ed-b228-0242ac1c000c\"]);\n",
              "//# sourceURL=js_ce1e41be9f"
            ]
          },
          "metadata": {}
        },
        {
          "output_type": "display_data",
          "data": {
            "text/plain": [
              "<IPython.core.display.Javascript object>"
            ],
            "application/javascript": [
              "window[\"4b843f2a-ae79-11ed-b228-0242ac1c000c\"] = google.colab.output.getActiveOutputArea();\n",
              "//# sourceURL=js_1dcdfdf207"
            ]
          },
          "metadata": {}
        },
        {
          "output_type": "display_data",
          "data": {
            "text/plain": [
              "<IPython.core.display.Javascript object>"
            ],
            "application/javascript": [
              "window[\"4b849d8a-ae79-11ed-b228-0242ac1c000c\"] = document.querySelector(\"#id12-0-0\");\n",
              "//# sourceURL=js_1ea509c3c4"
            ]
          },
          "metadata": {}
        },
        {
          "output_type": "display_data",
          "data": {
            "text/plain": [
              "<IPython.core.display.Javascript object>"
            ],
            "application/javascript": [
              "window[\"4b84f0aa-ae79-11ed-b228-0242ac1c000c\"] = google.colab.output.setActiveOutputArea(window[\"4b849d8a-ae79-11ed-b228-0242ac1c000c\"]);\n",
              "//# sourceURL=js_2b6037a2a7"
            ]
          },
          "metadata": {}
        },
        {
          "output_type": "display_data",
          "data": {
            "text/plain": [
              "<IPython.core.display.Javascript object>"
            ],
            "application/javascript": [
              "window[\"4b9a4c8e-ae79-11ed-b228-0242ac1c000c\"] = google.colab.output.setActiveOutputArea(window[\"4b843f2a-ae79-11ed-b228-0242ac1c000c\"]);\n",
              "//# sourceURL=js_176ba6c12d"
            ]
          },
          "metadata": {}
        },
        {
          "output_type": "display_data",
          "data": {
            "text/plain": [
              "<IPython.core.display.Javascript object>"
            ],
            "application/javascript": [
              "window[\"4c353d8e-ae79-11ed-b228-0242ac1c000c\"] = google.colab.output.getActiveOutputArea();\n",
              "//# sourceURL=js_721ecb83d3"
            ]
          },
          "metadata": {}
        },
        {
          "output_type": "display_data",
          "data": {
            "text/plain": [
              "<IPython.core.display.Javascript object>"
            ],
            "application/javascript": [
              "window[\"4c358398-ae79-11ed-b228-0242ac1c000c\"] = document.querySelector(\"#id12-0-0\");\n",
              "//# sourceURL=js_3ac8860cf0"
            ]
          },
          "metadata": {}
        },
        {
          "output_type": "display_data",
          "data": {
            "text/plain": [
              "<IPython.core.display.Javascript object>"
            ],
            "application/javascript": [
              "window[\"4c35cc4a-ae79-11ed-b228-0242ac1c000c\"] = google.colab.output.setActiveOutputArea(window[\"4c358398-ae79-11ed-b228-0242ac1c000c\"]);\n",
              "//# sourceURL=js_3704f7ee07"
            ]
          },
          "metadata": {}
        },
        {
          "output_type": "display_data",
          "data": {
            "text/plain": [
              "<IPython.core.display.Javascript object>"
            ],
            "application/javascript": [
              "window[\"4c4b9048-ae79-11ed-b228-0242ac1c000c\"] = google.colab.output.setActiveOutputArea(window[\"4c353d8e-ae79-11ed-b228-0242ac1c000c\"]);\n",
              "//# sourceURL=js_c0c9f9b8c0"
            ]
          },
          "metadata": {}
        },
        {
          "output_type": "display_data",
          "data": {
            "text/plain": [
              "<IPython.core.display.Javascript object>"
            ],
            "application/javascript": [
              "window[\"4ce66136-ae79-11ed-b228-0242ac1c000c\"] = google.colab.output.getActiveOutputArea();\n",
              "//# sourceURL=js_83f1390299"
            ]
          },
          "metadata": {}
        },
        {
          "output_type": "display_data",
          "data": {
            "text/plain": [
              "<IPython.core.display.Javascript object>"
            ],
            "application/javascript": [
              "window[\"4ce6b6fe-ae79-11ed-b228-0242ac1c000c\"] = document.querySelector(\"#id12-0-0\");\n",
              "//# sourceURL=js_7336f38eaa"
            ]
          },
          "metadata": {}
        },
        {
          "output_type": "display_data",
          "data": {
            "text/plain": [
              "<IPython.core.display.Javascript object>"
            ],
            "application/javascript": [
              "window[\"4ce701b8-ae79-11ed-b228-0242ac1c000c\"] = google.colab.output.setActiveOutputArea(window[\"4ce6b6fe-ae79-11ed-b228-0242ac1c000c\"]);\n",
              "//# sourceURL=js_cd1d8bc717"
            ]
          },
          "metadata": {}
        },
        {
          "output_type": "display_data",
          "data": {
            "text/plain": [
              "<IPython.core.display.Javascript object>"
            ],
            "application/javascript": [
              "window[\"4cffaa60-ae79-11ed-b228-0242ac1c000c\"] = google.colab.output.setActiveOutputArea(window[\"4ce66136-ae79-11ed-b228-0242ac1c000c\"]);\n",
              "//# sourceURL=js_aca3b4a264"
            ]
          },
          "metadata": {}
        },
        {
          "output_type": "display_data",
          "data": {
            "text/plain": [
              "<IPython.core.display.Javascript object>"
            ],
            "application/javascript": [
              "window[\"4d9adad0-ae79-11ed-b228-0242ac1c000c\"] = google.colab.output.getActiveOutputArea();\n",
              "//# sourceURL=js_fd04847e92"
            ]
          },
          "metadata": {}
        },
        {
          "output_type": "display_data",
          "data": {
            "text/plain": [
              "<IPython.core.display.Javascript object>"
            ],
            "application/javascript": [
              "window[\"4d9b5172-ae79-11ed-b228-0242ac1c000c\"] = document.querySelector(\"#id12-0-0\");\n",
              "//# sourceURL=js_f85a236819"
            ]
          },
          "metadata": {}
        },
        {
          "output_type": "display_data",
          "data": {
            "text/plain": [
              "<IPython.core.display.Javascript object>"
            ],
            "application/javascript": [
              "window[\"4d9bc8dc-ae79-11ed-b228-0242ac1c000c\"] = google.colab.output.setActiveOutputArea(window[\"4d9b5172-ae79-11ed-b228-0242ac1c000c\"]);\n",
              "//# sourceURL=js_c31171e6bc"
            ]
          },
          "metadata": {}
        },
        {
          "output_type": "display_data",
          "data": {
            "text/plain": [
              "<IPython.core.display.Javascript object>"
            ],
            "application/javascript": [
              "window[\"4dcae05e-ae79-11ed-b228-0242ac1c000c\"] = google.colab.output.setActiveOutputArea(window[\"4d9adad0-ae79-11ed-b228-0242ac1c000c\"]);\n",
              "//# sourceURL=js_fc73548a02"
            ]
          },
          "metadata": {}
        },
        {
          "output_type": "display_data",
          "data": {
            "text/plain": [
              "<IPython.core.display.Javascript object>"
            ],
            "application/javascript": [
              "window[\"4e6599f0-ae79-11ed-b228-0242ac1c000c\"] = google.colab.output.getActiveOutputArea();\n",
              "//# sourceURL=js_6cb8bdeea5"
            ]
          },
          "metadata": {}
        },
        {
          "output_type": "display_data",
          "data": {
            "text/plain": [
              "<IPython.core.display.Javascript object>"
            ],
            "application/javascript": [
              "window[\"4e65ddfc-ae79-11ed-b228-0242ac1c000c\"] = document.querySelector(\"#id12-0-0\");\n",
              "//# sourceURL=js_3ecbabed7b"
            ]
          },
          "metadata": {}
        },
        {
          "output_type": "display_data",
          "data": {
            "text/plain": [
              "<IPython.core.display.Javascript object>"
            ],
            "application/javascript": [
              "window[\"4e6625dc-ae79-11ed-b228-0242ac1c000c\"] = google.colab.output.setActiveOutputArea(window[\"4e65ddfc-ae79-11ed-b228-0242ac1c000c\"]);\n",
              "//# sourceURL=js_e8ec0045ad"
            ]
          },
          "metadata": {}
        },
        {
          "output_type": "display_data",
          "data": {
            "text/plain": [
              "<IPython.core.display.Javascript object>"
            ],
            "application/javascript": [
              "window[\"4e7c8ce6-ae79-11ed-b228-0242ac1c000c\"] = google.colab.output.setActiveOutputArea(window[\"4e6599f0-ae79-11ed-b228-0242ac1c000c\"]);\n",
              "//# sourceURL=js_65caf1dae3"
            ]
          },
          "metadata": {}
        },
        {
          "output_type": "display_data",
          "data": {
            "text/plain": [
              "<IPython.core.display.Javascript object>"
            ],
            "application/javascript": [
              "window[\"4f17288c-ae79-11ed-b228-0242ac1c000c\"] = google.colab.output.getActiveOutputArea();\n",
              "//# sourceURL=js_a7c0d39330"
            ]
          },
          "metadata": {}
        },
        {
          "output_type": "display_data",
          "data": {
            "text/plain": [
              "<IPython.core.display.Javascript object>"
            ],
            "application/javascript": [
              "window[\"4f176c34-ae79-11ed-b228-0242ac1c000c\"] = document.querySelector(\"#id12-0-0\");\n",
              "//# sourceURL=js_4993c12a45"
            ]
          },
          "metadata": {}
        },
        {
          "output_type": "display_data",
          "data": {
            "text/plain": [
              "<IPython.core.display.Javascript object>"
            ],
            "application/javascript": [
              "window[\"4f17b284-ae79-11ed-b228-0242ac1c000c\"] = google.colab.output.setActiveOutputArea(window[\"4f176c34-ae79-11ed-b228-0242ac1c000c\"]);\n",
              "//# sourceURL=js_89928152ff"
            ]
          },
          "metadata": {}
        },
        {
          "output_type": "display_data",
          "data": {
            "text/plain": [
              "<IPython.core.display.Javascript object>"
            ],
            "application/javascript": [
              "window[\"4f2df508-ae79-11ed-b228-0242ac1c000c\"] = google.colab.output.setActiveOutputArea(window[\"4f17288c-ae79-11ed-b228-0242ac1c000c\"]);\n",
              "//# sourceURL=js_ddca74ac0c"
            ]
          },
          "metadata": {}
        },
        {
          "output_type": "display_data",
          "data": {
            "text/plain": [
              "<IPython.core.display.Javascript object>"
            ],
            "application/javascript": [
              "window[\"4fc9255a-ae79-11ed-b228-0242ac1c000c\"] = google.colab.output.getActiveOutputArea();\n",
              "//# sourceURL=js_d2155b5c0f"
            ]
          },
          "metadata": {}
        },
        {
          "output_type": "display_data",
          "data": {
            "text/plain": [
              "<IPython.core.display.Javascript object>"
            ],
            "application/javascript": [
              "window[\"4fc971cc-ae79-11ed-b228-0242ac1c000c\"] = document.querySelector(\"#id12-0-0\");\n",
              "//# sourceURL=js_944b692cb0"
            ]
          },
          "metadata": {}
        },
        {
          "output_type": "display_data",
          "data": {
            "text/plain": [
              "<IPython.core.display.Javascript object>"
            ],
            "application/javascript": [
              "window[\"4fc9bb78-ae79-11ed-b228-0242ac1c000c\"] = google.colab.output.setActiveOutputArea(window[\"4fc971cc-ae79-11ed-b228-0242ac1c000c\"]);\n",
              "//# sourceURL=js_fb1a9cb4a4"
            ]
          },
          "metadata": {}
        },
        {
          "output_type": "display_data",
          "data": {
            "text/plain": [
              "<IPython.core.display.Javascript object>"
            ],
            "application/javascript": [
              "window[\"4fe1df32-ae79-11ed-b228-0242ac1c000c\"] = google.colab.output.setActiveOutputArea(window[\"4fc9255a-ae79-11ed-b228-0242ac1c000c\"]);\n",
              "//# sourceURL=js_b0d0e8628c"
            ]
          },
          "metadata": {}
        },
        {
          "output_type": "display_data",
          "data": {
            "text/plain": [
              "<IPython.core.display.Javascript object>"
            ],
            "application/javascript": [
              "window[\"507d0868-ae79-11ed-b228-0242ac1c000c\"] = google.colab.output.getActiveOutputArea();\n",
              "//# sourceURL=js_bfa38e49f8"
            ]
          },
          "metadata": {}
        },
        {
          "output_type": "display_data",
          "data": {
            "text/plain": [
              "<IPython.core.display.Javascript object>"
            ],
            "application/javascript": [
              "window[\"507d50c0-ae79-11ed-b228-0242ac1c000c\"] = document.querySelector(\"#id12-0-0\");\n",
              "//# sourceURL=js_605bb0cb7f"
            ]
          },
          "metadata": {}
        },
        {
          "output_type": "display_data",
          "data": {
            "text/plain": [
              "<IPython.core.display.Javascript object>"
            ],
            "application/javascript": [
              "window[\"507de698-ae79-11ed-b228-0242ac1c000c\"] = google.colab.output.setActiveOutputArea(window[\"507d50c0-ae79-11ed-b228-0242ac1c000c\"]);\n",
              "//# sourceURL=js_4e7696b13a"
            ]
          },
          "metadata": {}
        },
        {
          "output_type": "display_data",
          "data": {
            "text/plain": [
              "<IPython.core.display.Javascript object>"
            ],
            "application/javascript": [
              "window[\"50a03af4-ae79-11ed-b228-0242ac1c000c\"] = google.colab.output.setActiveOutputArea(window[\"507d0868-ae79-11ed-b228-0242ac1c000c\"]);\n",
              "//# sourceURL=js_706312d3d3"
            ]
          },
          "metadata": {}
        },
        {
          "output_type": "display_data",
          "data": {
            "text/plain": [
              "<IPython.core.display.Javascript object>"
            ],
            "application/javascript": [
              "window[\"513b8658-ae79-11ed-b228-0242ac1c000c\"] = google.colab.output.getActiveOutputArea();\n",
              "//# sourceURL=js_0dbb421df5"
            ]
          },
          "metadata": {}
        },
        {
          "output_type": "display_data",
          "data": {
            "text/plain": [
              "<IPython.core.display.Javascript object>"
            ],
            "application/javascript": [
              "window[\"513bd3e2-ae79-11ed-b228-0242ac1c000c\"] = document.querySelector(\"#id12-0-0\");\n",
              "//# sourceURL=js_28e744bb55"
            ]
          },
          "metadata": {}
        },
        {
          "output_type": "display_data",
          "data": {
            "text/plain": [
              "<IPython.core.display.Javascript object>"
            ],
            "application/javascript": [
              "window[\"513c1802-ae79-11ed-b228-0242ac1c000c\"] = google.colab.output.setActiveOutputArea(window[\"513bd3e2-ae79-11ed-b228-0242ac1c000c\"]);\n",
              "//# sourceURL=js_4a7ca4d6ac"
            ]
          },
          "metadata": {}
        },
        {
          "output_type": "display_data",
          "data": {
            "text/plain": [
              "<IPython.core.display.Javascript object>"
            ],
            "application/javascript": [
              "window[\"5153d0e6-ae79-11ed-b228-0242ac1c000c\"] = google.colab.output.setActiveOutputArea(window[\"513b8658-ae79-11ed-b228-0242ac1c000c\"]);\n",
              "//# sourceURL=js_1190bcb659"
            ]
          },
          "metadata": {}
        },
        {
          "output_type": "display_data",
          "data": {
            "text/plain": [
              "<IPython.core.display.Javascript object>"
            ],
            "application/javascript": [
              "window[\"51ef7492-ae79-11ed-b228-0242ac1c000c\"] = google.colab.output.getActiveOutputArea();\n",
              "//# sourceURL=js_3bf57a816b"
            ]
          },
          "metadata": {}
        },
        {
          "output_type": "display_data",
          "data": {
            "text/plain": [
              "<IPython.core.display.Javascript object>"
            ],
            "application/javascript": [
              "window[\"51efba1a-ae79-11ed-b228-0242ac1c000c\"] = document.querySelector(\"#id12-0-0\");\n",
              "//# sourceURL=js_9e492392c6"
            ]
          },
          "metadata": {}
        },
        {
          "output_type": "display_data",
          "data": {
            "text/plain": [
              "<IPython.core.display.Javascript object>"
            ],
            "application/javascript": [
              "window[\"51f0164a-ae79-11ed-b228-0242ac1c000c\"] = google.colab.output.setActiveOutputArea(window[\"51efba1a-ae79-11ed-b228-0242ac1c000c\"]);\n",
              "//# sourceURL=js_8d084f6757"
            ]
          },
          "metadata": {}
        },
        {
          "output_type": "display_data",
          "data": {
            "text/plain": [
              "<IPython.core.display.Javascript object>"
            ],
            "application/javascript": [
              "window[\"5205b2e8-ae79-11ed-b228-0242ac1c000c\"] = google.colab.output.setActiveOutputArea(window[\"51ef7492-ae79-11ed-b228-0242ac1c000c\"]);\n",
              "//# sourceURL=js_1c163439fd"
            ]
          },
          "metadata": {}
        },
        {
          "output_type": "display_data",
          "data": {
            "text/plain": [
              "<IPython.core.display.Javascript object>"
            ],
            "application/javascript": [
              "window[\"52a1d56a-ae79-11ed-b228-0242ac1c000c\"] = google.colab.output.getActiveOutputArea();\n",
              "//# sourceURL=js_748b474b8e"
            ]
          },
          "metadata": {}
        },
        {
          "output_type": "display_data",
          "data": {
            "text/plain": [
              "<IPython.core.display.Javascript object>"
            ],
            "application/javascript": [
              "window[\"52a24888-ae79-11ed-b228-0242ac1c000c\"] = document.querySelector(\"#id12-0-0\");\n",
              "//# sourceURL=js_5732677e39"
            ]
          },
          "metadata": {}
        },
        {
          "output_type": "display_data",
          "data": {
            "text/plain": [
              "<IPython.core.display.Javascript object>"
            ],
            "application/javascript": [
              "window[\"52a2d7da-ae79-11ed-b228-0242ac1c000c\"] = google.colab.output.setActiveOutputArea(window[\"52a24888-ae79-11ed-b228-0242ac1c000c\"]);\n",
              "//# sourceURL=js_e4eae1fca7"
            ]
          },
          "metadata": {}
        },
        {
          "output_type": "display_data",
          "data": {
            "text/plain": [
              "<IPython.core.display.Javascript object>"
            ],
            "application/javascript": [
              "window[\"52b89bec-ae79-11ed-b228-0242ac1c000c\"] = google.colab.output.setActiveOutputArea(window[\"52a1d56a-ae79-11ed-b228-0242ac1c000c\"]);\n",
              "//# sourceURL=js_674e919506"
            ]
          },
          "metadata": {}
        },
        {
          "output_type": "display_data",
          "data": {
            "text/plain": [
              "<IPython.core.display.Javascript object>"
            ],
            "application/javascript": [
              "window[\"53534ed0-ae79-11ed-b228-0242ac1c000c\"] = google.colab.output.getActiveOutputArea();\n",
              "//# sourceURL=js_d941fa2e8e"
            ]
          },
          "metadata": {}
        },
        {
          "output_type": "display_data",
          "data": {
            "text/plain": [
              "<IPython.core.display.Javascript object>"
            ],
            "application/javascript": [
              "window[\"5353976e-ae79-11ed-b228-0242ac1c000c\"] = document.querySelector(\"#id12-0-0\");\n",
              "//# sourceURL=js_48dc927411"
            ]
          },
          "metadata": {}
        },
        {
          "output_type": "display_data",
          "data": {
            "text/plain": [
              "<IPython.core.display.Javascript object>"
            ],
            "application/javascript": [
              "window[\"5353da26-ae79-11ed-b228-0242ac1c000c\"] = google.colab.output.setActiveOutputArea(window[\"5353976e-ae79-11ed-b228-0242ac1c000c\"]);\n",
              "//# sourceURL=js_ceaf13471f"
            ]
          },
          "metadata": {}
        },
        {
          "output_type": "stream",
          "name": "stdout",
          "text": [
            "Environment Type ->  stochastic\n",
            "Random Number ->  0.9217610940446735\n",
            "Random Action ->  1\n",
            "Reward ->  0\n",
            "Truncated ->  False\n",
            "Terminated ->  False\n",
            "Agent Position ->  [1 3]\n"
          ]
        },
        {
          "output_type": "display_data",
          "data": {
            "text/plain": [
              "<Figure size 432x288 with 1 Axes>"
            ],
            "image/png": "[encoded data removed]"
          },
          "metadata": {
            "needs_background": "light"
          }
        },
        {
          "output_type": "display_data",
          "data": {
            "text/plain": [
              "<IPython.core.display.Javascript object>"
            ],
            "application/javascript": [
              "window[\"536a4ba8-ae79-11ed-b228-0242ac1c000c\"] = google.colab.output.setActiveOutputArea(window[\"53534ed0-ae79-11ed-b228-0242ac1c000c\"]);\n",
              "//# sourceURL=js_d7c871b2b6"
            ]
          },
          "metadata": {}
        }
      ]
    },
    {
      "cell_type": "code",
      "source": [],
      "metadata": {
        "id": "Ro6Mvhxxjdbs"
      },
      "execution_count": null,
      "outputs": []
    }
  ]
}