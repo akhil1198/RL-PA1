{
  "nbformat": 4,
  "nbformat_minor": 0,
  "metadata": {
    "colab": {
      "provenance": [],
      "authorship_tag": "ABX9TyNtNSjgEt4yMo7mqBD3gx7i",
      "include_colab_link": true
    },
    "kernelspec": {
      "name": "python3",
      "display_name": "Python 3"
    },
    "language_info": {
      "name": "python"
    }
  },
  "cells": [
    {
      "cell_type": "markdown",
      "metadata": {
        "id": "view-in-github",
        "colab_type": "text"
      },
      "source": [
        "<a href=\"https://colab.research.google.com/github/akhil1198/RL-PA1/blob/main/RL_A1.ipynb\" target=\"_parent\"><img src=\"https://colab.research.google.com/assets/colab-badge.svg\" alt=\"Open In Colab\"/></a>"
      ]
    },
    {
      "cell_type": "code",
      "execution_count": 2,
      "metadata": {
        "colab": {
          "base_uri": "https://localhost:8080/"
        },
        "id": "hw2TLyoAigYz",
        "outputId": "0b0cff22-8a27-4027-fa0a-31011ce43362"
      },
      "outputs": [
        {
          "output_type": "stream",
          "name": "stdout",
          "text": [
            "Looking in indexes: https://pypi.org/simple, https://us-python.pkg.dev/colab-wheels/public/simple/\n",
            "Collecting gymnasium\n",
            "  Downloading gymnasium-0.27.1-py3-none-any.whl (883 kB)\n",
            "\u001b[2K     \u001b[90m━━━━━━━━━━━━━━━━━━━━━━━━━━━━━━━━━━━━━━━\u001b[0m \u001b[32m883.7/883.7 KB\u001b[0m \u001b[31m9.6 MB/s\u001b[0m eta \u001b[36m0:00:00\u001b[0m\n",
            "\u001b[?25hRequirement already satisfied: matplotlib in /usr/local/lib/python3.8/dist-packages (3.2.2)\n",
            "Requirement already satisfied: numpy in /usr/local/lib/python3.8/dist-packages (1.21.6)\n",
            "Collecting gymnasium-notices>=0.0.1\n",
            "  Downloading gymnasium_notices-0.0.1-py3-none-any.whl (2.8 kB)\n",
            "Collecting jax-jumpy>=0.2.0\n",
            "  Downloading jax_jumpy-0.2.0-py3-none-any.whl (11 kB)\n",
            "Requirement already satisfied: importlib-metadata>=4.8.0 in /usr/local/lib/python3.8/dist-packages (from gymnasium) (6.0.0)\n",
            "Requirement already satisfied: typing-extensions>=4.3.0 in /usr/local/lib/python3.8/dist-packages (from gymnasium) (4.4.0)\n",
            "Requirement already satisfied: cloudpickle>=1.2.0 in /usr/local/lib/python3.8/dist-packages (from gymnasium) (2.2.1)\n",
            "Requirement already satisfied: kiwisolver>=1.0.1 in /usr/local/lib/python3.8/dist-packages (from matplotlib) (1.4.4)\n",
            "Requirement already satisfied: cycler>=0.10 in /usr/local/lib/python3.8/dist-packages (from matplotlib) (0.11.0)\n",
            "Requirement already satisfied: python-dateutil>=2.1 in /usr/local/lib/python3.8/dist-packages (from matplotlib) (2.8.2)\n",
            "Requirement already satisfied: pyparsing!=2.0.4,!=2.1.2,!=2.1.6,>=2.0.1 in /usr/local/lib/python3.8/dist-packages (from matplotlib) (3.0.9)\n",
            "Requirement already satisfied: zipp>=0.5 in /usr/local/lib/python3.8/dist-packages (from importlib-metadata>=4.8.0->gymnasium) (3.12.1)\n",
            "Requirement already satisfied: six>=1.5 in /usr/local/lib/python3.8/dist-packages (from python-dateutil>=2.1->matplotlib) (1.15.0)\n",
            "Installing collected packages: gymnasium-notices, jax-jumpy, gymnasium\n",
            "Successfully installed gymnasium-0.27.1 gymnasium-notices-0.0.1 jax-jumpy-0.2.0\n"
          ]
        }
      ],
      "source": [
        "!pip install gymnasium matplotlib numpy"
      ]
    },
    {
      "cell_type": "code",
      "source": [
        "from google.colab import widgets\n",
        "import gymnasium as gym\n",
        "from gymnasium import spaces\n",
        "import matplotlib.pyplot as plt\n",
        "import numpy as np\n",
        "import time"
      ],
      "metadata": {
        "id": "9d4qlEyLjUam"
      },
      "execution_count": 144,
      "outputs": []
    },
    {
      "cell_type": "code",
      "source": [
        "output_grid = widgets.Grid(1,1)\n",
        "\n",
        "for _ in range(5):\n",
        "  grid = np.zeros((5, 5))\n",
        "  grid[np.random.randint(5), np.random.randint(5)] = 1\n",
        "\n",
        "  with output_grid.output_to(0,0):\n",
        "    output_grid.clear_cell()\n",
        "    plt.imshow(grid)\n",
        "  time.sleep(2) "
      ],
      "metadata": {
        "colab": {
          "base_uri": "https://localhost:8080/",
          "height": 269
        },
        "id": "1V9H_w_ujZIt",
        "outputId": "39626582-2eb2-40da-f823-6abbab476873"
      },
      "execution_count": 145,
      "outputs": [
        {
          "output_type": "display_data",
          "data": {
            "text/plain": [
              "<IPython.core.display.HTML object>"
            ],
            "text/html": [
              "<style>\n",
              "       table#id84, #id84 > tbody > tr > th, #id84 > tbody > tr > td {\n",
              "         border: 1px solid lightgray;\n",
              "         border-collapse:collapse;\n",
              "         \n",
              "        }</style>"
            ]
          },
          "metadata": {}
        },
        {
          "output_type": "display_data",
          "data": {
            "text/plain": [
              "<IPython.core.display.HTML object>"
            ],
            "text/html": [
              "<table id=id84><tr><td id=id84-0-0></td></tr></table>"
            ]
          },
          "metadata": {}
        },
        {
          "output_type": "display_data",
          "data": {
            "text/plain": [
              "<IPython.core.display.Javascript object>"
            ],
            "application/javascript": [
              "window[\"3bf2d27c-adbd-11ed-ae68-0242ac1c000c\"] = google.colab.output.getActiveOutputArea();\n",
              "//# sourceURL=js_021d623e5b"
            ]
          },
          "metadata": {}
        },
        {
          "output_type": "display_data",
          "data": {
            "text/plain": [
              "<IPython.core.display.Javascript object>"
            ],
            "application/javascript": [
              "window[\"3bf349d2-adbd-11ed-ae68-0242ac1c000c\"] = document.querySelector(\"#id84-0-0\");\n",
              "//# sourceURL=js_f138fb8dbb"
            ]
          },
          "metadata": {}
        },
        {
          "output_type": "display_data",
          "data": {
            "text/plain": [
              "<IPython.core.display.Javascript object>"
            ],
            "application/javascript": [
              "window[\"3bf39c98-adbd-11ed-ae68-0242ac1c000c\"] = google.colab.output.setActiveOutputArea(window[\"3bf349d2-adbd-11ed-ae68-0242ac1c000c\"]);\n",
              "//# sourceURL=js_4d8ec40d3c"
            ]
          },
          "metadata": {}
        },
        {
          "output_type": "display_data",
          "data": {
            "text/plain": [
              "<IPython.core.display.Javascript object>"
            ],
            "application/javascript": [
              "window[\"3c0b492e-adbd-11ed-ae68-0242ac1c000c\"] = google.colab.output.setActiveOutputArea(window[\"3bf2d27c-adbd-11ed-ae68-0242ac1c000c\"]);\n",
              "//# sourceURL=js_2354177b7b"
            ]
          },
          "metadata": {}
        },
        {
          "output_type": "display_data",
          "data": {
            "text/plain": [
              "<IPython.core.display.Javascript object>"
            ],
            "application/javascript": [
              "window[\"3d4057da-adbd-11ed-ae68-0242ac1c000c\"] = google.colab.output.getActiveOutputArea();\n",
              "//# sourceURL=js_9e0beb9b14"
            ]
          },
          "metadata": {}
        },
        {
          "output_type": "display_data",
          "data": {
            "text/plain": [
              "<IPython.core.display.Javascript object>"
            ],
            "application/javascript": [
              "window[\"3d40eca4-adbd-11ed-ae68-0242ac1c000c\"] = document.querySelector(\"#id84-0-0\");\n",
              "//# sourceURL=js_8d603a91e5"
            ]
          },
          "metadata": {}
        },
        {
          "output_type": "display_data",
          "data": {
            "text/plain": [
              "<IPython.core.display.Javascript object>"
            ],
            "application/javascript": [
              "window[\"3d417930-adbd-11ed-ae68-0242ac1c000c\"] = google.colab.output.setActiveOutputArea(window[\"3d40eca4-adbd-11ed-ae68-0242ac1c000c\"]);\n",
              "//# sourceURL=js_d113cbfbcb"
            ]
          },
          "metadata": {}
        },
        {
          "output_type": "display_data",
          "data": {
            "text/plain": [
              "<IPython.core.display.Javascript object>"
            ],
            "application/javascript": [
              "window[\"3d59091a-adbd-11ed-ae68-0242ac1c000c\"] = google.colab.output.setActiveOutputArea(window[\"3d4057da-adbd-11ed-ae68-0242ac1c000c\"]);\n",
              "//# sourceURL=js_06a5975d24"
            ]
          },
          "metadata": {}
        },
        {
          "output_type": "display_data",
          "data": {
            "text/plain": [
              "<IPython.core.display.Javascript object>"
            ],
            "application/javascript": [
              "window[\"3e8de396-adbd-11ed-ae68-0242ac1c000c\"] = google.colab.output.getActiveOutputArea();\n",
              "//# sourceURL=js_2bd5d2c884"
            ]
          },
          "metadata": {}
        },
        {
          "output_type": "display_data",
          "data": {
            "text/plain": [
              "<IPython.core.display.Javascript object>"
            ],
            "application/javascript": [
              "window[\"3e8e52ea-adbd-11ed-ae68-0242ac1c000c\"] = document.querySelector(\"#id84-0-0\");\n",
              "//# sourceURL=js_a8cea74af9"
            ]
          },
          "metadata": {}
        },
        {
          "output_type": "display_data",
          "data": {
            "text/plain": [
              "<IPython.core.display.Javascript object>"
            ],
            "application/javascript": [
              "window[\"3e8f497a-adbd-11ed-ae68-0242ac1c000c\"] = google.colab.output.setActiveOutputArea(window[\"3e8e52ea-adbd-11ed-ae68-0242ac1c000c\"]);\n",
              "//# sourceURL=js_b3be472bd2"
            ]
          },
          "metadata": {}
        },
        {
          "output_type": "display_data",
          "data": {
            "text/plain": [
              "<IPython.core.display.Javascript object>"
            ],
            "application/javascript": [
              "window[\"3ea954fa-adbd-11ed-ae68-0242ac1c000c\"] = google.colab.output.setActiveOutputArea(window[\"3e8de396-adbd-11ed-ae68-0242ac1c000c\"]);\n",
              "//# sourceURL=js_3932fbc498"
            ]
          },
          "metadata": {}
        },
        {
          "output_type": "display_data",
          "data": {
            "text/plain": [
              "<IPython.core.display.Javascript object>"
            ],
            "application/javascript": [
              "window[\"3fdd9520-adbd-11ed-ae68-0242ac1c000c\"] = google.colab.output.getActiveOutputArea();\n",
              "//# sourceURL=js_e049af0fe4"
            ]
          },
          "metadata": {}
        },
        {
          "output_type": "display_data",
          "data": {
            "text/plain": [
              "<IPython.core.display.Javascript object>"
            ],
            "application/javascript": [
              "window[\"3fde7922-adbd-11ed-ae68-0242ac1c000c\"] = document.querySelector(\"#id84-0-0\");\n",
              "//# sourceURL=js_dc2cf075aa"
            ]
          },
          "metadata": {}
        },
        {
          "output_type": "display_data",
          "data": {
            "text/plain": [
              "<IPython.core.display.Javascript object>"
            ],
            "application/javascript": [
              "window[\"3fdf30a6-adbd-11ed-ae68-0242ac1c000c\"] = google.colab.output.setActiveOutputArea(window[\"3fde7922-adbd-11ed-ae68-0242ac1c000c\"]);\n",
              "//# sourceURL=js_fd8b8cd6e3"
            ]
          },
          "metadata": {}
        },
        {
          "output_type": "display_data",
          "data": {
            "text/plain": [
              "<IPython.core.display.Javascript object>"
            ],
            "application/javascript": [
              "window[\"3ff9851e-adbd-11ed-ae68-0242ac1c000c\"] = google.colab.output.setActiveOutputArea(window[\"3fdd9520-adbd-11ed-ae68-0242ac1c000c\"]);\n",
              "//# sourceURL=js_dc64ed3b0a"
            ]
          },
          "metadata": {}
        },
        {
          "output_type": "display_data",
          "data": {
            "text/plain": [
              "<IPython.core.display.Javascript object>"
            ],
            "application/javascript": [
              "window[\"412d91dc-adbd-11ed-ae68-0242ac1c000c\"] = google.colab.output.getActiveOutputArea();\n",
              "//# sourceURL=js_fcd9c98332"
            ]
          },
          "metadata": {}
        },
        {
          "output_type": "display_data",
          "data": {
            "text/plain": [
              "<IPython.core.display.Javascript object>"
            ],
            "application/javascript": [
              "window[\"412dea4c-adbd-11ed-ae68-0242ac1c000c\"] = document.querySelector(\"#id84-0-0\");\n",
              "//# sourceURL=js_c1d91f6817"
            ]
          },
          "metadata": {}
        },
        {
          "output_type": "display_data",
          "data": {
            "text/plain": [
              "<IPython.core.display.Javascript object>"
            ],
            "application/javascript": [
              "window[\"412e5f54-adbd-11ed-ae68-0242ac1c000c\"] = google.colab.output.setActiveOutputArea(window[\"412dea4c-adbd-11ed-ae68-0242ac1c000c\"]);\n",
              "//# sourceURL=js_02bc78368e"
            ]
          },
          "metadata": {}
        },
        {
          "output_type": "display_data",
          "data": {
            "text/plain": [
              "<Figure size 432x288 with 1 Axes>"
            ],
            "image/png": "[encoded data removed]"
          },
          "metadata": {
            "needs_background": "light"
          }
        },
        {
          "output_type": "display_data",
          "data": {
            "text/plain": [
              "<IPython.core.display.Javascript object>"
            ],
            "application/javascript": [
              "window[\"4146645a-adbd-11ed-ae68-0242ac1c000c\"] = google.colab.output.setActiveOutputArea(window[\"412d91dc-adbd-11ed-ae68-0242ac1c000c\"]);\n",
              "//# sourceURL=js_54bba4e3ae"
            ]
          },
          "metadata": {}
        }
      ]
    },
    {
      "cell_type": "code",
      "source": [
        "class GridEnv(gym.Env):\n",
        "  def __init__(self, env_type=\"deterministic\"):\n",
        "    \"\"\"This method initializes the environment.\n",
        "\n",
        "        :param str environment_type: - It can take two values: 1. 'deterministic' 2. 'stochastic'\n",
        "                                       indicating the type of environment.\"\"\"\n",
        "    self.environment_width = 5\n",
        "    self.environment_height = 5\n",
        "    self.observation_space = spaces.Discrete(25)\n",
        "    self.action_space = spaces.Discrete(4)\n",
        "\n",
        "    self.timestep = 0\n",
        "    self.max_timesteps = 10\n",
        "\n",
        "    self.agent_pos = [0, 0]\n",
        "    self.goal_pos = [4, 4]\n",
        "\n",
        "    self.state = np.zeros((5,5))\n",
        "    self.state[tuple(self.agent_pos)] = 1\n",
        "    self.state[tuple(self.goal_pos)] = 0.5\n",
        "\n",
        "    # self.agent_pos = np.asarray([0, 0])\n",
        "    # self.goal_pos = np.asarray([4, 4])\n",
        "\n",
        "    self.reward_pos = np.asarray([[0, 4], [2, 1], [3, 4], [4, 2]])\n",
        "    self.negreward_pos = np.asarray([[1, 2], [3, 0], [3, 3]])\n",
        "\n",
        "  def reset(self):\n",
        "    \"\"\"This method resets the agent position and returns the state as the observation.\n",
        "\n",
        "        :returns int observation: -  Integer representing the grid block the agent is in.\n",
        "                 dict info: - A dictionary that can be used to provide additional implementation information.\"\"\"\n",
        "    self.state = np.zeros((5,5))\n",
        "    self.state[tuple(self.agent_pos)] = 1\n",
        "    self.state[tuple(self.goal_pos)] = 0.5\n",
        "    observation = self.state.flatten()\n",
        "\n",
        "    info = {}\n",
        "\n",
        "    return observation, info\n",
        "  \n",
        "  def step(self, action, obs):\n",
        "    \"\"\"This method implements what happens when the agent takes a particular action. It changes the agent's\n",
        "        position (While not allowing it to go out of the environment space.), maps the environment co-ordinates to a\n",
        "        state, defines the rewards for the various states, and determines when the episode ends.\n",
        "\n",
        "        :param int action: - Integer in the range 0 to 3 inclusive representing the different actions the agent can\n",
        "        take.\n",
        "\n",
        "        :returns arr observation: - Array representing the partial observation.\n",
        "                 int reward: - Integer value that's used to measure the performance of the agent.\n",
        "                 bool terminated: - Boolean describing whether the episode has ended.\n",
        "                 bool truncated: Boolean describing whether a truncation condition outside the scope of the MDP is\n",
        "                                 satisfied.\n",
        "                 dict info: - A dictionary that can be used to provide additional implementation information.\"\"\"\n",
        "    print(\"check here -> \", action, self.agent_pos[0], self.agent_pos[1])\n",
        "    if action == 0:\n",
        "      self.agent_pos[0] += 1\n",
        "    if action == 1:\n",
        "      self.agent_pos[0] -= 1\n",
        "    if action == 2:\n",
        "      self.agent_pos[1] += 1\n",
        "    if action == 3:\n",
        "      self.agent_pos[1] -= 1\n",
        "\n",
        "    # Comment this to demonstrate the truncation condition.\n",
        "    self.agent_pos = np.clip(self.agent_pos, 0, 2)\n",
        "\n",
        "    print(\"agent pos ->\", self.agent_pos)\n",
        "    self.state = np.zeros((5,5))\n",
        "    self.state[tuple(self.agent_pos)] = 1\n",
        "    self.state[tuple(self.goal_pos)] = 0.5\n",
        "    observation = self.state.flatten()\n",
        "    print(\"Rewards -> \", self.reward_pos[0])\n",
        "\n",
        "    reward = 0\n",
        "    #[0, 4], [2, 1], [3, 4], [4, 2]\n",
        "    if np.array_equal(self.agent_pos, self.reward_pos[0]):\n",
        "      reward += 2\n",
        "    if np.array_equal(self.agent_pos, self.reward_pos[1]):\n",
        "      reward += 4\n",
        "    if np.array_equal(self.agent_pos, self.reward_pos[2]):\n",
        "      reward += 8\n",
        "    if np.array_equal(self.agent_pos, self.reward_pos[3]):\n",
        "      reward += 6\n",
        "    \n",
        "    if np.array_equal(self.agent_pos, self.goal_pos):\n",
        "      reward += 100\n",
        "    \n",
        "    #[1, 2], [3, 0], [3, 3]\n",
        "    if np.array_equal(self.agent_pos, self.negreward_pos[0]):\n",
        "      reward -= 5\n",
        "    if np.array_equal(self.agent_pos, self.negreward_pos[1]):\n",
        "      reward -= 6\n",
        "    if np.array_equal(self.agent_pos, self.negreward_pos[2]):\n",
        "      reward -= 2 \n",
        "\n",
        "    self.timestep += 1\n",
        "\n",
        "\n",
        "    terminated = True if self.timestep >= self.max_timesteps else False\n",
        "    truncated = True if np.all((self.agent_pos >=0 ) & (self.agent_pos <= 2)) else False\n",
        "\n",
        "    info = {}\n",
        "    \n",
        "    return observation, reward, terminated, truncated, info\n",
        "\n",
        "  def render(self):\n",
        "    plt.imshow(self.state)\n"
      ],
      "metadata": {
        "id": "uiH3nTLTj3qR"
      },
      "execution_count": 150,
      "outputs": []
    },
    {
      "cell_type": "code",
      "source": [
        "class RandomAgent:\n",
        "  def __init__(self, env):\n",
        "    self.env = env\n",
        "    self.observation_space = env.observation_space\n",
        "    self.action_space = env.action_space\n",
        "    print(\"asdf\", self.observation_space)\n",
        "  def step(self, obs):\n",
        "    return np.random.choice(self.action_space.n)\n",
        "  "
      ],
      "metadata": {
        "id": "WCTSceXW44Bk"
      },
      "execution_count": 151,
      "outputs": []
    },
    {
      "cell_type": "code",
      "source": [
        "env = GridEnv()\n",
        "agent = RandomAgent(env)"
      ],
      "metadata": {
        "colab": {
          "base_uri": "https://localhost:8080/"
        },
        "id": "-DsaSe_a85c-",
        "outputId": "814f7eac-dcf2-471b-b323-c61f4748c704"
      },
      "execution_count": 152,
      "outputs": [
        {
          "output_type": "stream",
          "name": "stdout",
          "text": [
            "asdf Discrete(25)\n"
          ]
        }
      ]
    },
    {
      "cell_type": "code",
      "source": [
        "env = GridEnv()\n",
        "agent = RandomAgent(env)\n",
        "\n",
        "obs, info = env.reset()\n",
        "terminated, truncated = False, False\n",
        "\n",
        "output_grid = widgets.Grid(1, 1)\n",
        "with output_grid.output_to(0, 0):\n",
        "  env.render()\n",
        "\n",
        "while not terminated:\n",
        "  action = agent.step(obs)\n",
        "  print(\"ACTION -> \", action)\n",
        "  observation, reward, terminated, truncated, info = env.step(action, obs)\n",
        "  print(\"action -> \", action)\n",
        "  print(\"obs -> \", obs)\n",
        "  print(\"reward -> \", reward)\n",
        "  print(\"terminated -> \", terminated)\n",
        "  print(\"truncated -> \", truncated)\n",
        "  print(\"****************\")\n",
        "  with output_grid.output_to(0, 0):\n",
        "    plt.imshow(grid)\n",
        "    env.render()\n",
        "  time.sleep(1)"
      ],
      "metadata": {
        "colab": {
          "base_uri": "https://localhost:8080/",
          "height": 1000
        },
        "id": "f-iPycGP48pI",
        "outputId": "b535ac61-c5be-4f2b-f8ed-a9762b2c07ba"
      },
      "execution_count": 153,
      "outputs": [
        {
          "output_type": "stream",
          "name": "stdout",
          "text": [
            "asdf Discrete(25)\n"
          ]
        },
        {
          "output_type": "display_data",
          "data": {
            "text/plain": [
              "<IPython.core.display.HTML object>"
            ],
            "text/html": [
              "<style>\n",
              "       table#id88, #id88 > tbody > tr > th, #id88 > tbody > tr > td {\n",
              "         border: 1px solid lightgray;\n",
              "         border-collapse:collapse;\n",
              "         \n",
              "        }</style>"
            ]
          },
          "metadata": {}
        },
        {
          "output_type": "display_data",
          "data": {
            "text/plain": [
              "<IPython.core.display.HTML object>"
            ],
            "text/html": [
              "<table id=id88><tr><td id=id88-0-0></td></tr></table>"
            ]
          },
          "metadata": {}
        },
        {
          "output_type": "display_data",
          "data": {
            "text/plain": [
              "<IPython.core.display.Javascript object>"
            ],
            "application/javascript": [
              "window[\"574591cc-adbd-11ed-ae68-0242ac1c000c\"] = google.colab.output.getActiveOutputArea();\n",
              "//# sourceURL=js_41cb9696b5"
            ]
          },
          "metadata": {}
        },
        {
          "output_type": "display_data",
          "data": {
            "text/plain": [
              "<IPython.core.display.Javascript object>"
            ],
            "application/javascript": [
              "window[\"5745f022-adbd-11ed-ae68-0242ac1c000c\"] = document.querySelector(\"#id88-0-0\");\n",
              "//# sourceURL=js_3608550b21"
            ]
          },
          "metadata": {}
        },
        {
          "output_type": "display_data",
          "data": {
            "text/plain": [
              "<IPython.core.display.Javascript object>"
            ],
            "application/javascript": [
              "window[\"57465c6a-adbd-11ed-ae68-0242ac1c000c\"] = google.colab.output.setActiveOutputArea(window[\"5745f022-adbd-11ed-ae68-0242ac1c000c\"]);\n",
              "//# sourceURL=js_e98b8df23b"
            ]
          },
          "metadata": {}
        },
        {
          "output_type": "display_data",
          "data": {
            "text/plain": [
              "<Figure size 432x288 with 1 Axes>"
            ],
            "image/png": "[encoded data removed]"
          },
          "metadata": {
            "needs_background": "light"
          }
        },
        {
          "output_type": "display_data",
          "data": {
            "text/plain": [
              "<IPython.core.display.Javascript object>"
            ],
            "application/javascript": [
              "window[\"575e7a7a-adbd-11ed-ae68-0242ac1c000c\"] = google.colab.output.setActiveOutputArea(window[\"574591cc-adbd-11ed-ae68-0242ac1c000c\"]);\n",
              "//# sourceURL=js_21bb76d42b"
            ]
          },
          "metadata": {}
        },
        {
          "output_type": "stream",
          "name": "stdout",
          "text": [
            "ACTION ->  2\n",
            "check here ->  2 0 0\n",
            "agent pos -> [0 1]\n",
            "Rewards ->  [0 4]\n",
            "action ->  2\n",
            "obs ->  [1.  0.  0.  0.  0.  0.  0.  0.  0.  0.  0.  0.  0.  0.  0.  0.  0.  0.\n",
            " 0.  0.  0.  0.  0.  0.  0.5]\n",
            "reward ->  0\n",
            "terminated ->  False\n",
            "truncated ->  True\n",
            "****************\n"
          ]
        },
        {
          "output_type": "display_data",
          "data": {
            "text/plain": [
              "<IPython.core.display.Javascript object>"
            ],
            "application/javascript": [
              "window[\"57625a96-adbd-11ed-ae68-0242ac1c000c\"] = google.colab.output.getActiveOutputArea();\n",
              "//# sourceURL=js_048ea2e539"
            ]
          },
          "metadata": {}
        },
        {
          "output_type": "display_data",
          "data": {
            "text/plain": [
              "<IPython.core.display.Javascript object>"
            ],
            "application/javascript": [
              "window[\"5762b6a8-adbd-11ed-ae68-0242ac1c000c\"] = document.querySelector(\"#id88-0-0\");\n",
              "//# sourceURL=js_4bafb93433"
            ]
          },
          "metadata": {}
        },
        {
          "output_type": "display_data",
          "data": {
            "text/plain": [
              "<IPython.core.display.Javascript object>"
            ],
            "application/javascript": [
              "window[\"576325ca-adbd-11ed-ae68-0242ac1c000c\"] = google.colab.output.setActiveOutputArea(window[\"5762b6a8-adbd-11ed-ae68-0242ac1c000c\"]);\n",
              "//# sourceURL=js_17abb199fc"
            ]
          },
          "metadata": {}
        },
        {
          "output_type": "display_data",
          "data": {
            "text/plain": [
              "<Figure size 432x288 with 1 Axes>"
            ],
            "image/png": "[encoded data removed]"
          },
          "metadata": {
            "needs_background": "light"
          }
        },
        {
          "output_type": "display_data",
          "data": {
            "text/plain": [
              "<IPython.core.display.Javascript object>"
            ],
            "application/javascript": [
              "window[\"5784f11e-adbd-11ed-ae68-0242ac1c000c\"] = google.colab.output.setActiveOutputArea(window[\"57625a96-adbd-11ed-ae68-0242ac1c000c\"]);\n",
              "//# sourceURL=js_7ae4edaef6"
            ]
          },
          "metadata": {}
        },
        {
          "output_type": "stream",
          "name": "stdout",
          "text": [
            "ACTION ->  0\n",
            "check here ->  0 0 1\n",
            "agent pos -> [1 1]\n",
            "Rewards ->  [0 4]\n",
            "action ->  0\n",
            "obs ->  [1.  0.  0.  0.  0.  0.  0.  0.  0.  0.  0.  0.  0.  0.  0.  0.  0.  0.\n",
            " 0.  0.  0.  0.  0.  0.  0.5]\n",
            "reward ->  0\n",
            "terminated ->  False\n",
            "truncated ->  True\n",
            "****************\n"
          ]
        },
        {
          "output_type": "display_data",
          "data": {
            "text/plain": [
              "<IPython.core.display.Javascript object>"
            ],
            "application/javascript": [
              "window[\"5821c886-adbd-11ed-ae68-0242ac1c000c\"] = google.colab.output.getActiveOutputArea();\n",
              "//# sourceURL=js_4173d86b1d"
            ]
          },
          "metadata": {}
        },
        {
          "output_type": "display_data",
          "data": {
            "text/plain": [
              "<IPython.core.display.Javascript object>"
            ],
            "application/javascript": [
              "window[\"582237c6-adbd-11ed-ae68-0242ac1c000c\"] = document.querySelector(\"#id88-0-0\");\n",
              "//# sourceURL=js_09b24dddf9"
            ]
          },
          "metadata": {}
        },
        {
          "output_type": "display_data",
          "data": {
            "text/plain": [
              "<IPython.core.display.Javascript object>"
            ],
            "application/javascript": [
              "window[\"5822a56c-adbd-11ed-ae68-0242ac1c000c\"] = google.colab.output.setActiveOutputArea(window[\"582237c6-adbd-11ed-ae68-0242ac1c000c\"]);\n",
              "//# sourceURL=js_d78410cfd1"
            ]
          },
          "metadata": {}
        },
        {
          "output_type": "display_data",
          "data": {
            "text/plain": [
              "<Figure size 432x288 with 1 Axes>"
            ],
            "image/png": "[encoded data removed]"
          },
          "metadata": {
            "needs_background": "light"
          }
        },
        {
          "output_type": "display_data",
          "data": {
            "text/plain": [
              "<IPython.core.display.Javascript object>"
            ],
            "application/javascript": [
              "window[\"583c02c8-adbd-11ed-ae68-0242ac1c000c\"] = google.colab.output.setActiveOutputArea(window[\"5821c886-adbd-11ed-ae68-0242ac1c000c\"]);\n",
              "//# sourceURL=js_36a97de862"
            ]
          },
          "metadata": {}
        },
        {
          "output_type": "stream",
          "name": "stdout",
          "text": [
            "ACTION ->  1\n",
            "check here ->  1 1 1\n",
            "agent pos -> [0 1]\n",
            "Rewards ->  [0 4]\n",
            "action ->  1\n",
            "obs ->  [1.  0.  0.  0.  0.  0.  0.  0.  0.  0.  0.  0.  0.  0.  0.  0.  0.  0.\n",
            " 0.  0.  0.  0.  0.  0.  0.5]\n",
            "reward ->  0\n",
            "terminated ->  False\n",
            "truncated ->  True\n",
            "****************\n"
          ]
        },
        {
          "output_type": "display_data",
          "data": {
            "text/plain": [
              "<IPython.core.display.Javascript object>"
            ],
            "application/javascript": [
              "window[\"58da79bc-adbd-11ed-ae68-0242ac1c000c\"] = google.colab.output.getActiveOutputArea();\n",
              "//# sourceURL=js_23e269099c"
            ]
          },
          "metadata": {}
        },
        {
          "output_type": "display_data",
          "data": {
            "text/plain": [
              "<IPython.core.display.Javascript object>"
            ],
            "application/javascript": [
              "window[\"58daf50e-adbd-11ed-ae68-0242ac1c000c\"] = document.querySelector(\"#id88-0-0\");\n",
              "//# sourceURL=js_5140a74402"
            ]
          },
          "metadata": {}
        },
        {
          "output_type": "display_data",
          "data": {
            "text/plain": [
              "<IPython.core.display.Javascript object>"
            ],
            "application/javascript": [
              "window[\"58db687c-adbd-11ed-ae68-0242ac1c000c\"] = google.colab.output.setActiveOutputArea(window[\"58daf50e-adbd-11ed-ae68-0242ac1c000c\"]);\n",
              "//# sourceURL=js_42b2b84d4b"
            ]
          },
          "metadata": {}
        },
        {
          "output_type": "display_data",
          "data": {
            "text/plain": [
              "<Figure size 432x288 with 1 Axes>"
            ],
            "image/png": "[encoded data removed]"
          },
          "metadata": {
            "needs_background": "light"
          }
        },
        {
          "output_type": "display_data",
          "data": {
            "text/plain": [
              "<IPython.core.display.Javascript object>"
            ],
            "application/javascript": [
              "window[\"58f38f7e-adbd-11ed-ae68-0242ac1c000c\"] = google.colab.output.setActiveOutputArea(window[\"58da79bc-adbd-11ed-ae68-0242ac1c000c\"]);\n",
              "//# sourceURL=js_aae40dd408"
            ]
          },
          "metadata": {}
        },
        {
          "output_type": "stream",
          "name": "stdout",
          "text": [
            "ACTION ->  1\n",
            "check here ->  1 0 1\n",
            "agent pos -> [0 1]\n",
            "Rewards ->  [0 4]\n",
            "action ->  1\n",
            "obs ->  [1.  0.  0.  0.  0.  0.  0.  0.  0.  0.  0.  0.  0.  0.  0.  0.  0.  0.\n",
            " 0.  0.  0.  0.  0.  0.  0.5]\n",
            "reward ->  0\n",
            "terminated ->  False\n",
            "truncated ->  True\n",
            "****************\n"
          ]
        },
        {
          "output_type": "display_data",
          "data": {
            "text/plain": [
              "<IPython.core.display.Javascript object>"
            ],
            "application/javascript": [
              "window[\"598fa422-adbd-11ed-ae68-0242ac1c000c\"] = google.colab.output.getActiveOutputArea();\n",
              "//# sourceURL=js_36c2127469"
            ]
          },
          "metadata": {}
        },
        {
          "output_type": "display_data",
          "data": {
            "text/plain": [
              "<IPython.core.display.Javascript object>"
            ],
            "application/javascript": [
              "window[\"599003ea-adbd-11ed-ae68-0242ac1c000c\"] = document.querySelector(\"#id88-0-0\");\n",
              "//# sourceURL=js_eb05cfc454"
            ]
          },
          "metadata": {}
        },
        {
          "output_type": "display_data",
          "data": {
            "text/plain": [
              "<IPython.core.display.Javascript object>"
            ],
            "application/javascript": [
              "window[\"5990cb22-adbd-11ed-ae68-0242ac1c000c\"] = google.colab.output.setActiveOutputArea(window[\"599003ea-adbd-11ed-ae68-0242ac1c000c\"]);\n",
              "//# sourceURL=js_ebb42cfe1c"
            ]
          },
          "metadata": {}
        },
        {
          "output_type": "display_data",
          "data": {
            "text/plain": [
              "<Figure size 432x288 with 1 Axes>"
            ],
            "image/png": "[encoded data removed]"
          },
          "metadata": {
            "needs_background": "light"
          }
        },
        {
          "output_type": "display_data",
          "data": {
            "text/plain": [
              "<IPython.core.display.Javascript object>"
            ],
            "application/javascript": [
              "window[\"59b84e72-adbd-11ed-ae68-0242ac1c000c\"] = google.colab.output.setActiveOutputArea(window[\"598fa422-adbd-11ed-ae68-0242ac1c000c\"]);\n",
              "//# sourceURL=js_2a5344cd65"
            ]
          },
          "metadata": {}
        },
        {
          "output_type": "stream",
          "name": "stdout",
          "text": [
            "ACTION ->  0\n",
            "check here ->  0 0 1\n",
            "agent pos -> [1 1]\n",
            "Rewards ->  [0 4]\n",
            "action ->  0\n",
            "obs ->  [1.  0.  0.  0.  0.  0.  0.  0.  0.  0.  0.  0.  0.  0.  0.  0.  0.  0.\n",
            " 0.  0.  0.  0.  0.  0.  0.5]\n",
            "reward ->  0\n",
            "terminated ->  False\n",
            "truncated ->  True\n",
            "****************\n"
          ]
        },
        {
          "output_type": "display_data",
          "data": {
            "text/plain": [
              "<IPython.core.display.Javascript object>"
            ],
            "application/javascript": [
              "window[\"5a555d20-adbd-11ed-ae68-0242ac1c000c\"] = google.colab.output.getActiveOutputArea();\n",
              "//# sourceURL=js_850ba12ef4"
            ]
          },
          "metadata": {}
        },
        {
          "output_type": "display_data",
          "data": {
            "text/plain": [
              "<IPython.core.display.Javascript object>"
            ],
            "application/javascript": [
              "window[\"5a55e196-adbd-11ed-ae68-0242ac1c000c\"] = document.querySelector(\"#id88-0-0\");\n",
              "//# sourceURL=js_384ae8aa0e"
            ]
          },
          "metadata": {}
        },
        {
          "output_type": "display_data",
          "data": {
            "text/plain": [
              "<IPython.core.display.Javascript object>"
            ],
            "application/javascript": [
              "window[\"5a565b44-adbd-11ed-ae68-0242ac1c000c\"] = google.colab.output.setActiveOutputArea(window[\"5a55e196-adbd-11ed-ae68-0242ac1c000c\"]);\n",
              "//# sourceURL=js_f3bb8b5644"
            ]
          },
          "metadata": {}
        },
        {
          "output_type": "display_data",
          "data": {
            "text/plain": [
              "<Figure size 432x288 with 1 Axes>"
            ],
            "image/png": "[encoded data removed]"
          },
          "metadata": {
            "needs_background": "light"
          }
        },
        {
          "output_type": "display_data",
          "data": {
            "text/plain": [
              "<IPython.core.display.Javascript object>"
            ],
            "application/javascript": [
              "window[\"5a7d8412-adbd-11ed-ae68-0242ac1c000c\"] = google.colab.output.setActiveOutputArea(window[\"5a555d20-adbd-11ed-ae68-0242ac1c000c\"]);\n",
              "//# sourceURL=js_bf0b0bf900"
            ]
          },
          "metadata": {}
        },
        {
          "output_type": "stream",
          "name": "stdout",
          "text": [
            "ACTION ->  2\n",
            "check here ->  2 1 1\n",
            "agent pos -> [1 2]\n",
            "Rewards ->  [0 4]\n",
            "action ->  2\n",
            "obs ->  [1.  0.  0.  0.  0.  0.  0.  0.  0.  0.  0.  0.  0.  0.  0.  0.  0.  0.\n",
            " 0.  0.  0.  0.  0.  0.  0.5]\n",
            "reward ->  -5\n",
            "terminated ->  False\n",
            "truncated ->  True\n",
            "****************\n"
          ]
        },
        {
          "output_type": "display_data",
          "data": {
            "text/plain": [
              "<IPython.core.display.Javascript object>"
            ],
            "application/javascript": [
              "window[\"5b1b7172-adbd-11ed-ae68-0242ac1c000c\"] = google.colab.output.getActiveOutputArea();\n",
              "//# sourceURL=js_b32f0866a0"
            ]
          },
          "metadata": {}
        },
        {
          "output_type": "display_data",
          "data": {
            "text/plain": [
              "<IPython.core.display.Javascript object>"
            ],
            "application/javascript": [
              "window[\"5b1bf5fc-adbd-11ed-ae68-0242ac1c000c\"] = document.querySelector(\"#id88-0-0\");\n",
              "//# sourceURL=js_98162300e1"
            ]
          },
          "metadata": {}
        },
        {
          "output_type": "display_data",
          "data": {
            "text/plain": [
              "<IPython.core.display.Javascript object>"
            ],
            "application/javascript": [
              "window[\"5b1c48ae-adbd-11ed-ae68-0242ac1c000c\"] = google.colab.output.setActiveOutputArea(window[\"5b1bf5fc-adbd-11ed-ae68-0242ac1c000c\"]);\n",
              "//# sourceURL=js_f62ba3c7c7"
            ]
          },
          "metadata": {}
        },
        {
          "output_type": "display_data",
          "data": {
            "text/plain": [
              "<Figure size 432x288 with 1 Axes>"
            ],
            "image/png": "[encoded data removed]"
          },
          "metadata": {
            "needs_background": "light"
          }
        },
        {
          "output_type": "display_data",
          "data": {
            "text/plain": [
              "<IPython.core.display.Javascript object>"
            ],
            "application/javascript": [
              "window[\"5b3771c4-adbd-11ed-ae68-0242ac1c000c\"] = google.colab.output.setActiveOutputArea(window[\"5b1b7172-adbd-11ed-ae68-0242ac1c000c\"]);\n",
              "//# sourceURL=js_7f831e9a35"
            ]
          },
          "metadata": {}
        },
        {
          "output_type": "stream",
          "name": "stdout",
          "text": [
            "ACTION ->  2\n",
            "check here ->  2 1 2\n",
            "agent pos -> [1 2]\n",
            "Rewards ->  [0 4]\n",
            "action ->  2\n",
            "obs ->  [1.  0.  0.  0.  0.  0.  0.  0.  0.  0.  0.  0.  0.  0.  0.  0.  0.  0.\n",
            " 0.  0.  0.  0.  0.  0.  0.5]\n",
            "reward ->  -5\n",
            "terminated ->  False\n",
            "truncated ->  True\n",
            "****************\n"
          ]
        },
        {
          "output_type": "display_data",
          "data": {
            "text/plain": [
              "<IPython.core.display.Javascript object>"
            ],
            "application/javascript": [
              "window[\"5bd46d94-adbd-11ed-ae68-0242ac1c000c\"] = google.colab.output.getActiveOutputArea();\n",
              "//# sourceURL=js_46195f0835"
            ]
          },
          "metadata": {}
        },
        {
          "output_type": "display_data",
          "data": {
            "text/plain": [
              "<IPython.core.display.Javascript object>"
            ],
            "application/javascript": [
              "window[\"5bd4d0b8-adbd-11ed-ae68-0242ac1c000c\"] = document.querySelector(\"#id88-0-0\");\n",
              "//# sourceURL=js_c9f1c875f1"
            ]
          },
          "metadata": {}
        },
        {
          "output_type": "display_data",
          "data": {
            "text/plain": [
              "<IPython.core.display.Javascript object>"
            ],
            "application/javascript": [
              "window[\"5bd53d00-adbd-11ed-ae68-0242ac1c000c\"] = google.colab.output.setActiveOutputArea(window[\"5bd4d0b8-adbd-11ed-ae68-0242ac1c000c\"]);\n",
              "//# sourceURL=js_f83217c4c3"
            ]
          },
          "metadata": {}
        },
        {
          "output_type": "display_data",
          "data": {
            "text/plain": [
              "<Figure size 432x288 with 1 Axes>"
            ],
            "image/png": "[encoded data removed]"
          },
          "metadata": {
            "needs_background": "light"
          }
        },
        {
          "output_type": "display_data",
          "data": {
            "text/plain": [
              "<IPython.core.display.Javascript object>"
            ],
            "application/javascript": [
              "window[\"5bee656e-adbd-11ed-ae68-0242ac1c000c\"] = google.colab.output.setActiveOutputArea(window[\"5bd46d94-adbd-11ed-ae68-0242ac1c000c\"]);\n",
              "//# sourceURL=js_3315700e5f"
            ]
          },
          "metadata": {}
        },
        {
          "output_type": "stream",
          "name": "stdout",
          "text": [
            "ACTION ->  0\n",
            "check here ->  0 1 2\n",
            "agent pos -> [2 2]\n",
            "Rewards ->  [0 4]\n",
            "action ->  0\n",
            "obs ->  [1.  0.  0.  0.  0.  0.  0.  0.  0.  0.  0.  0.  0.  0.  0.  0.  0.  0.\n",
            " 0.  0.  0.  0.  0.  0.  0.5]\n",
            "reward ->  0\n",
            "terminated ->  False\n",
            "truncated ->  True\n",
            "****************\n"
          ]
        },
        {
          "output_type": "display_data",
          "data": {
            "text/plain": [
              "<IPython.core.display.Javascript object>"
            ],
            "application/javascript": [
              "window[\"5c8b8f2e-adbd-11ed-ae68-0242ac1c000c\"] = google.colab.output.getActiveOutputArea();\n",
              "//# sourceURL=js_03083fd9b5"
            ]
          },
          "metadata": {}
        },
        {
          "output_type": "display_data",
          "data": {
            "text/plain": [
              "<IPython.core.display.Javascript object>"
            ],
            "application/javascript": [
              "window[\"5c8bf752-adbd-11ed-ae68-0242ac1c000c\"] = document.querySelector(\"#id88-0-0\");\n",
              "//# sourceURL=js_a263184299"
            ]
          },
          "metadata": {}
        },
        {
          "output_type": "display_data",
          "data": {
            "text/plain": [
              "<IPython.core.display.Javascript object>"
            ],
            "application/javascript": [
              "window[\"5c8c72e0-adbd-11ed-ae68-0242ac1c000c\"] = google.colab.output.setActiveOutputArea(window[\"5c8bf752-adbd-11ed-ae68-0242ac1c000c\"]);\n",
              "//# sourceURL=js_702af54c8a"
            ]
          },
          "metadata": {}
        },
        {
          "output_type": "display_data",
          "data": {
            "text/plain": [
              "<Figure size 432x288 with 1 Axes>"
            ],
            "image/png": "[encoded data removed]"
          },
          "metadata": {
            "needs_background": "light"
          }
        },
        {
          "output_type": "display_data",
          "data": {
            "text/plain": [
              "<IPython.core.display.Javascript object>"
            ],
            "application/javascript": [
              "window[\"5ca7ec8c-adbd-11ed-ae68-0242ac1c000c\"] = google.colab.output.setActiveOutputArea(window[\"5c8b8f2e-adbd-11ed-ae68-0242ac1c000c\"]);\n",
              "//# sourceURL=js_380ebd1381"
            ]
          },
          "metadata": {}
        },
        {
          "output_type": "stream",
          "name": "stdout",
          "text": [
            "ACTION ->  1\n",
            "check here ->  1 2 2\n",
            "agent pos -> [1 2]\n",
            "Rewards ->  [0 4]\n",
            "action ->  1\n",
            "obs ->  [1.  0.  0.  0.  0.  0.  0.  0.  0.  0.  0.  0.  0.  0.  0.  0.  0.  0.\n",
            " 0.  0.  0.  0.  0.  0.  0.5]\n",
            "reward ->  -5\n",
            "terminated ->  False\n",
            "truncated ->  True\n",
            "****************\n"
          ]
        },
        {
          "output_type": "display_data",
          "data": {
            "text/plain": [
              "<IPython.core.display.Javascript object>"
            ],
            "application/javascript": [
              "window[\"5d467186-adbd-11ed-ae68-0242ac1c000c\"] = google.colab.output.getActiveOutputArea();\n",
              "//# sourceURL=js_6459d68366"
            ]
          },
          "metadata": {}
        },
        {
          "output_type": "display_data",
          "data": {
            "text/plain": [
              "<IPython.core.display.Javascript object>"
            ],
            "application/javascript": [
              "window[\"5d46cbb8-adbd-11ed-ae68-0242ac1c000c\"] = document.querySelector(\"#id88-0-0\");\n",
              "//# sourceURL=js_19dccc7eec"
            ]
          },
          "metadata": {}
        },
        {
          "output_type": "display_data",
          "data": {
            "text/plain": [
              "<IPython.core.display.Javascript object>"
            ],
            "application/javascript": [
              "window[\"5d488ac0-adbd-11ed-ae68-0242ac1c000c\"] = google.colab.output.setActiveOutputArea(window[\"5d46cbb8-adbd-11ed-ae68-0242ac1c000c\"]);\n",
              "//# sourceURL=js_a9623785dc"
            ]
          },
          "metadata": {}
        },
        {
          "output_type": "display_data",
          "data": {
            "text/plain": [
              "<Figure size 432x288 with 1 Axes>"
            ],
            "image/png": "[encoded data removed]"
          },
          "metadata": {
            "needs_background": "light"
          }
        },
        {
          "output_type": "display_data",
          "data": {
            "text/plain": [
              "<IPython.core.display.Javascript object>"
            ],
            "application/javascript": [
              "window[\"5d852fc0-adbd-11ed-ae68-0242ac1c000c\"] = google.colab.output.setActiveOutputArea(window[\"5d467186-adbd-11ed-ae68-0242ac1c000c\"]);\n",
              "//# sourceURL=js_d8f7749e7b"
            ]
          },
          "metadata": {}
        },
        {
          "output_type": "stream",
          "name": "stdout",
          "text": [
            "ACTION ->  0\n",
            "check here ->  0 1 2\n",
            "agent pos -> [2 2]\n",
            "Rewards ->  [0 4]\n",
            "action ->  0\n",
            "obs ->  [1.  0.  0.  0.  0.  0.  0.  0.  0.  0.  0.  0.  0.  0.  0.  0.  0.  0.\n",
            " 0.  0.  0.  0.  0.  0.  0.5]\n",
            "reward ->  0\n",
            "terminated ->  True\n",
            "truncated ->  True\n",
            "****************\n"
          ]
        },
        {
          "output_type": "display_data",
          "data": {
            "text/plain": [
              "<IPython.core.display.Javascript object>"
            ],
            "application/javascript": [
              "window[\"5e2342f0-adbd-11ed-ae68-0242ac1c000c\"] = google.colab.output.getActiveOutputArea();\n",
              "//# sourceURL=js_bf90604b9d"
            ]
          },
          "metadata": {}
        },
        {
          "output_type": "display_data",
          "data": {
            "text/plain": [
              "<IPython.core.display.Javascript object>"
            ],
            "application/javascript": [
              "window[\"5e23b4ce-adbd-11ed-ae68-0242ac1c000c\"] = document.querySelector(\"#id88-0-0\");\n",
              "//# sourceURL=js_1a7b68be14"
            ]
          },
          "metadata": {}
        },
        {
          "output_type": "display_data",
          "data": {
            "text/plain": [
              "<IPython.core.display.Javascript object>"
            ],
            "application/javascript": [
              "window[\"5e242026-adbd-11ed-ae68-0242ac1c000c\"] = google.colab.output.setActiveOutputArea(window[\"5e23b4ce-adbd-11ed-ae68-0242ac1c000c\"]);\n",
              "//# sourceURL=js_b679486337"
            ]
          },
          "metadata": {}
        },
        {
          "output_type": "display_data",
          "data": {
            "text/plain": [
              "<Figure size 432x288 with 1 Axes>"
            ],
            "image/png": "[encoded data removed]"
          },
          "metadata": {
            "needs_background": "light"
          }
        },
        {
          "output_type": "display_data",
          "data": {
            "text/plain": [
              "<IPython.core.display.Javascript object>"
            ],
            "application/javascript": [
              "window[\"5e409f76-adbd-11ed-ae68-0242ac1c000c\"] = google.colab.output.setActiveOutputArea(window[\"5e2342f0-adbd-11ed-ae68-0242ac1c000c\"]);\n",
              "//# sourceURL=js_8e1a4cf4f5"
            ]
          },
          "metadata": {}
        }
      ]
    },
    {
      "cell_type": "code",
      "source": [
        "\n"
      ],
      "metadata": {
        "id": "vDA7cY78lVBJ"
      },
      "execution_count": 48,
      "outputs": []
    },
    {
      "cell_type": "code",
      "source": [],
      "metadata": {
        "id": "xJa4L5YOlZGQ"
      },
      "execution_count": 48,
      "outputs": []
    },
    {
      "cell_type": "code",
      "source": [],
      "metadata": {
        "id": "k1P-BbIB2D9c"
      },
      "execution_count": 48,
      "outputs": []
    }
  ]
}