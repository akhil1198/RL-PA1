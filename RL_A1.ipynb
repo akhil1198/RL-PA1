{
  "nbformat": 4,
  "nbformat_minor": 0,
  "metadata": {
    "colab": {
      "provenance": [],
      "authorship_tag": "ABX9TyOgJHPzlIc78PKHBhhQ3gD2",
      "include_colab_link": true
    },
    "kernelspec": {
      "name": "python3",
      "display_name": "Python 3"
    },
    "language_info": {
      "name": "python"
    }
  },
  "cells": [
    {
      "cell_type": "markdown",
      "metadata": {
        "id": "view-in-github",
        "colab_type": "text"
      },
      "source": [
        "<a href=\"https://colab.research.google.com/github/akhil1198/RL-PA1/blob/main/RL_A1.ipynb\" target=\"_parent\"><img src=\"https://colab.research.google.com/assets/colab-badge.svg\" alt=\"Open In Colab\"/></a>"
      ]
    },
    {
      "cell_type": "code",
      "execution_count": 2,
      "metadata": {
        "colab": {
          "base_uri": "https://localhost:8080/"
        },
        "id": "hw2TLyoAigYz",
        "outputId": "0b0cff22-8a27-4027-fa0a-31011ce43362"
      },
      "outputs": [
        {
          "output_type": "stream",
          "name": "stdout",
          "text": [
            "Looking in indexes: https://pypi.org/simple, https://us-python.pkg.dev/colab-wheels/public/simple/\n",
            "Collecting gymnasium\n",
            "  Downloading gymnasium-0.27.1-py3-none-any.whl (883 kB)\n",
            "\u001b[2K     \u001b[90m━━━━━━━━━━━━━━━━━━━━━━━━━━━━━━━━━━━━━━━\u001b[0m \u001b[32m883.7/883.7 KB\u001b[0m \u001b[31m9.6 MB/s\u001b[0m eta \u001b[36m0:00:00\u001b[0m\n",
            "\u001b[?25hRequirement already satisfied: matplotlib in /usr/local/lib/python3.8/dist-packages (3.2.2)\n",
            "Requirement already satisfied: numpy in /usr/local/lib/python3.8/dist-packages (1.21.6)\n",
            "Collecting gymnasium-notices>=0.0.1\n",
            "  Downloading gymnasium_notices-0.0.1-py3-none-any.whl (2.8 kB)\n",
            "Collecting jax-jumpy>=0.2.0\n",
            "  Downloading jax_jumpy-0.2.0-py3-none-any.whl (11 kB)\n",
            "Requirement already satisfied: importlib-metadata>=4.8.0 in /usr/local/lib/python3.8/dist-packages (from gymnasium) (6.0.0)\n",
            "Requirement already satisfied: typing-extensions>=4.3.0 in /usr/local/lib/python3.8/dist-packages (from gymnasium) (4.4.0)\n",
            "Requirement already satisfied: cloudpickle>=1.2.0 in /usr/local/lib/python3.8/dist-packages (from gymnasium) (2.2.1)\n",
            "Requirement already satisfied: kiwisolver>=1.0.1 in /usr/local/lib/python3.8/dist-packages (from matplotlib) (1.4.4)\n",
            "Requirement already satisfied: cycler>=0.10 in /usr/local/lib/python3.8/dist-packages (from matplotlib) (0.11.0)\n",
            "Requirement already satisfied: python-dateutil>=2.1 in /usr/local/lib/python3.8/dist-packages (from matplotlib) (2.8.2)\n",
            "Requirement already satisfied: pyparsing!=2.0.4,!=2.1.2,!=2.1.6,>=2.0.1 in /usr/local/lib/python3.8/dist-packages (from matplotlib) (3.0.9)\n",
            "Requirement already satisfied: zipp>=0.5 in /usr/local/lib/python3.8/dist-packages (from importlib-metadata>=4.8.0->gymnasium) (3.12.1)\n",
            "Requirement already satisfied: six>=1.5 in /usr/local/lib/python3.8/dist-packages (from python-dateutil>=2.1->matplotlib) (1.15.0)\n",
            "Installing collected packages: gymnasium-notices, jax-jumpy, gymnasium\n",
            "Successfully installed gymnasium-0.27.1 gymnasium-notices-0.0.1 jax-jumpy-0.2.0\n"
          ]
        }
      ],
      "source": [
        "!pip install gymnasium matplotlib numpy"
      ]
    },
    {
      "cell_type": "code",
      "source": [
        "from google.colab import widgets\n",
        "import gymnasium as gym\n",
        "from gymnasium import spaces\n",
        "import matplotlib.pyplot as plt\n",
        "import numpy as np\n",
        "import time"
      ],
      "metadata": {
        "id": "9d4qlEyLjUam"
      },
      "execution_count": 155,
      "outputs": []
    },
    {
      "cell_type": "code",
      "source": [
        "output_grid = widgets.Grid(1,1)\n",
        "\n",
        "for _ in range(5):\n",
        "  grid = np.zeros((5, 5))\n",
        "  grid[np.random.randint(5), np.random.randint(5)] = 1\n",
        "\n",
        "  with output_grid.output_to(0,0):\n",
        "    output_grid.clear_cell()\n",
        "    plt.imshow(grid)\n",
        "  time.sleep(2) "
      ],
      "metadata": {
        "colab": {
          "base_uri": "https://localhost:8080/",
          "height": 269
        },
        "id": "1V9H_w_ujZIt",
        "outputId": "d993a65e-184f-49a5-f6e1-3e12cb3d429c"
      },
      "execution_count": 156,
      "outputs": [
        {
          "output_type": "display_data",
          "data": {
            "text/plain": [
              "<IPython.core.display.HTML object>"
            ],
            "text/html": [
              "<style>\n",
              "       table#id92, #id92 > tbody > tr > th, #id92 > tbody > tr > td {\n",
              "         border: 1px solid lightgray;\n",
              "         border-collapse:collapse;\n",
              "         \n",
              "        }</style>"
            ]
          },
          "metadata": {}
        },
        {
          "output_type": "display_data",
          "data": {
            "text/plain": [
              "<IPython.core.display.HTML object>"
            ],
            "text/html": [
              "<table id=id92><tr><td id=id92-0-0></td></tr></table>"
            ]
          },
          "metadata": {}
        },
        {
          "output_type": "display_data",
          "data": {
            "text/plain": [
              "<IPython.core.display.Javascript object>"
            ],
            "application/javascript": [
              "window[\"b0a1e7c4-adbe-11ed-ae68-0242ac1c000c\"] = google.colab.output.getActiveOutputArea();\n",
              "//# sourceURL=js_62953cadbc"
            ]
          },
          "metadata": {}
        },
        {
          "output_type": "display_data",
          "data": {
            "text/plain": [
              "<IPython.core.display.Javascript object>"
            ],
            "application/javascript": [
              "window[\"b0a23dd2-adbe-11ed-ae68-0242ac1c000c\"] = document.querySelector(\"#id92-0-0\");\n",
              "//# sourceURL=js_a3d183a9fb"
            ]
          },
          "metadata": {}
        },
        {
          "output_type": "display_data",
          "data": {
            "text/plain": [
              "<IPython.core.display.Javascript object>"
            ],
            "application/javascript": [
              "window[\"b0a2f3bc-adbe-11ed-ae68-0242ac1c000c\"] = google.colab.output.setActiveOutputArea(window[\"b0a23dd2-adbe-11ed-ae68-0242ac1c000c\"]);\n",
              "//# sourceURL=js_b2093e30cf"
            ]
          },
          "metadata": {}
        },
        {
          "output_type": "display_data",
          "data": {
            "text/plain": [
              "<IPython.core.display.Javascript object>"
            ],
            "application/javascript": [
              "window[\"b0bdbfb2-adbe-11ed-ae68-0242ac1c000c\"] = google.colab.output.setActiveOutputArea(window[\"b0a1e7c4-adbe-11ed-ae68-0242ac1c000c\"]);\n",
              "//# sourceURL=js_609129038a"
            ]
          },
          "metadata": {}
        },
        {
          "output_type": "display_data",
          "data": {
            "text/plain": [
              "<IPython.core.display.Javascript object>"
            ],
            "application/javascript": [
              "window[\"b1f22bb6-adbe-11ed-ae68-0242ac1c000c\"] = google.colab.output.getActiveOutputArea();\n",
              "//# sourceURL=js_889aeb99ad"
            ]
          },
          "metadata": {}
        },
        {
          "output_type": "display_data",
          "data": {
            "text/plain": [
              "<IPython.core.display.Javascript object>"
            ],
            "application/javascript": [
              "window[\"b1f29f06-adbe-11ed-ae68-0242ac1c000c\"] = document.querySelector(\"#id92-0-0\");\n",
              "//# sourceURL=js_f8a6c1844f"
            ]
          },
          "metadata": {}
        },
        {
          "output_type": "display_data",
          "data": {
            "text/plain": [
              "<IPython.core.display.Javascript object>"
            ],
            "application/javascript": [
              "window[\"b1f36152-adbe-11ed-ae68-0242ac1c000c\"] = google.colab.output.setActiveOutputArea(window[\"b1f29f06-adbe-11ed-ae68-0242ac1c000c\"]);\n",
              "//# sourceURL=js_915fda4232"
            ]
          },
          "metadata": {}
        },
        {
          "output_type": "display_data",
          "data": {
            "text/plain": [
              "<IPython.core.display.Javascript object>"
            ],
            "application/javascript": [
              "window[\"b20aefac-adbe-11ed-ae68-0242ac1c000c\"] = google.colab.output.setActiveOutputArea(window[\"b1f22bb6-adbe-11ed-ae68-0242ac1c000c\"]);\n",
              "//# sourceURL=js_7a6318eb46"
            ]
          },
          "metadata": {}
        },
        {
          "output_type": "display_data",
          "data": {
            "text/plain": [
              "<IPython.core.display.Javascript object>"
            ],
            "application/javascript": [
              "window[\"b33f16e6-adbe-11ed-ae68-0242ac1c000c\"] = google.colab.output.getActiveOutputArea();\n",
              "//# sourceURL=js_24dfabb26e"
            ]
          },
          "metadata": {}
        },
        {
          "output_type": "display_data",
          "data": {
            "text/plain": [
              "<IPython.core.display.Javascript object>"
            ],
            "application/javascript": [
              "window[\"b33f714a-adbe-11ed-ae68-0242ac1c000c\"] = document.querySelector(\"#id92-0-0\");\n",
              "//# sourceURL=js_4f852a3a75"
            ]
          },
          "metadata": {}
        },
        {
          "output_type": "display_data",
          "data": {
            "text/plain": [
              "<IPython.core.display.Javascript object>"
            ],
            "application/javascript": [
              "window[\"b33ff7dc-adbe-11ed-ae68-0242ac1c000c\"] = google.colab.output.setActiveOutputArea(window[\"b33f714a-adbe-11ed-ae68-0242ac1c000c\"]);\n",
              "//# sourceURL=js_929be1f699"
            ]
          },
          "metadata": {}
        },
        {
          "output_type": "display_data",
          "data": {
            "text/plain": [
              "<IPython.core.display.Javascript object>"
            ],
            "application/javascript": [
              "window[\"b356cfb6-adbe-11ed-ae68-0242ac1c000c\"] = google.colab.output.setActiveOutputArea(window[\"b33f16e6-adbe-11ed-ae68-0242ac1c000c\"]);\n",
              "//# sourceURL=js_b616b84e75"
            ]
          },
          "metadata": {}
        },
        {
          "output_type": "display_data",
          "data": {
            "text/plain": [
              "<IPython.core.display.Javascript object>"
            ],
            "application/javascript": [
              "window[\"b48b83ae-adbe-11ed-ae68-0242ac1c000c\"] = google.colab.output.getActiveOutputArea();\n",
              "//# sourceURL=js_8b87d245cc"
            ]
          },
          "metadata": {}
        },
        {
          "output_type": "display_data",
          "data": {
            "text/plain": [
              "<IPython.core.display.Javascript object>"
            ],
            "application/javascript": [
              "window[\"b48be11e-adbe-11ed-ae68-0242ac1c000c\"] = document.querySelector(\"#id92-0-0\");\n",
              "//# sourceURL=js_df92a7d95b"
            ]
          },
          "metadata": {}
        },
        {
          "output_type": "display_data",
          "data": {
            "text/plain": [
              "<IPython.core.display.Javascript object>"
            ],
            "application/javascript": [
              "window[\"b48c76ec-adbe-11ed-ae68-0242ac1c000c\"] = google.colab.output.setActiveOutputArea(window[\"b48be11e-adbe-11ed-ae68-0242ac1c000c\"]);\n",
              "//# sourceURL=js_c15b12a15c"
            ]
          },
          "metadata": {}
        },
        {
          "output_type": "display_data",
          "data": {
            "text/plain": [
              "<IPython.core.display.Javascript object>"
            ],
            "application/javascript": [
              "window[\"b4a44a10-adbe-11ed-ae68-0242ac1c000c\"] = google.colab.output.setActiveOutputArea(window[\"b48b83ae-adbe-11ed-ae68-0242ac1c000c\"]);\n",
              "//# sourceURL=js_bfdd9e26bf"
            ]
          },
          "metadata": {}
        },
        {
          "output_type": "display_data",
          "data": {
            "text/plain": [
              "<IPython.core.display.Javascript object>"
            ],
            "application/javascript": [
              "window[\"b5d91afa-adbe-11ed-ae68-0242ac1c000c\"] = google.colab.output.getActiveOutputArea();\n",
              "//# sourceURL=js_1ad28b0c5d"
            ]
          },
          "metadata": {}
        },
        {
          "output_type": "display_data",
          "data": {
            "text/plain": [
              "<IPython.core.display.Javascript object>"
            ],
            "application/javascript": [
              "window[\"b5d9c20c-adbe-11ed-ae68-0242ac1c000c\"] = document.querySelector(\"#id92-0-0\");\n",
              "//# sourceURL=js_2bc4632bc3"
            ]
          },
          "metadata": {}
        },
        {
          "output_type": "display_data",
          "data": {
            "text/plain": [
              "<IPython.core.display.Javascript object>"
            ],
            "application/javascript": [
              "window[\"b5dacfbc-adbe-11ed-ae68-0242ac1c000c\"] = google.colab.output.setActiveOutputArea(window[\"b5d9c20c-adbe-11ed-ae68-0242ac1c000c\"]);\n",
              "//# sourceURL=js_764d296098"
            ]
          },
          "metadata": {}
        },
        {
          "output_type": "display_data",
          "data": {
            "text/plain": [
              "<Figure size 432x288 with 1 Axes>"
            ],
            "image/png": "[encoded data removed]"
          },
          "metadata": {
            "needs_background": "light"
          }
        },
        {
          "output_type": "display_data",
          "data": {
            "text/plain": [
              "<IPython.core.display.Javascript object>"
            ],
            "application/javascript": [
              "window[\"b5feac2a-adbe-11ed-ae68-0242ac1c000c\"] = google.colab.output.setActiveOutputArea(window[\"b5d91afa-adbe-11ed-ae68-0242ac1c000c\"]);\n",
              "//# sourceURL=js_7c679905e2"
            ]
          },
          "metadata": {}
        }
      ]
    },
    {
      "cell_type": "markdown",
      "source": [
        "Creating an Environment with all the actions, states, rewards and positions"
      ],
      "metadata": {
        "id": "x0kViSd_yd82"
      }
    },
    {
      "cell_type": "code",
      "source": [
        "class GridEnv(gym.Env):\n",
        "  def __init__(self, env_type=\"deterministic\"):\n",
        "    self.environment_width = 5\n",
        "    self.environment_height = 5\n",
        "    self.observation_space = spaces.Discrete(25)\n",
        "    self.action_space = spaces.Discrete(4)\n",
        "\n",
        "    self.timestep = 0\n",
        "    self.max_timesteps = 10\n",
        "\n",
        "    self.agent_pos = [0, 0]\n",
        "    self.goal_pos = [4, 4]\n",
        "\n",
        "    self.state = np.zeros((5,5))\n",
        "    self.state[tuple(self.agent_pos)] = 1\n",
        "    self.state[tuple(self.goal_pos)] = 0.5\n",
        "\n",
        "    self.reward_pos = np.asarray([[0, 4], [2, 1], [3, 4], [4, 2]])\n",
        "    self.negreward_pos = np.asarray([[1, 2], [3, 0], [3, 3]])\n",
        "\n",
        "  def reset(self):\n",
        "    self.state = np.zeros((5,5))\n",
        "    self.state[tuple(self.agent_pos)] = 1\n",
        "    self.state[tuple(self.goal_pos)] = 0.5\n",
        "    observation = self.state.flatten()\n",
        "\n",
        "    info = {}\n",
        "\n",
        "    return observation, info\n",
        "  \n",
        "  def step(self, action, obs):\n",
        "    if action == 0:\n",
        "      self.agent_pos[0] += 1\n",
        "    if action == 1:\n",
        "      self.agent_pos[0] -= 1\n",
        "    if action == 2:\n",
        "      self.agent_pos[1] += 1\n",
        "    if action == 3:\n",
        "      self.agent_pos[1] -= 1\n",
        "\n",
        "    # Comment this to demonstrate the truncation condition.\n",
        "    self.agent_pos = np.clip(self.agent_pos, 0, 2)\n",
        "\n",
        "    self.state = np.zeros((5,5))\n",
        "    self.state[tuple(self.agent_pos)] = 1\n",
        "    self.state[tuple(self.goal_pos)] = 0.5\n",
        "    observation = self.state.flatten()\n",
        "\n",
        "    reward = 0\n",
        "    #[0, 4], [2, 1], [3, 4], [4, 2]\n",
        "    if np.array_equal(self.agent_pos, self.reward_pos[0]):\n",
        "      reward += 2\n",
        "    if np.array_equal(self.agent_pos, self.reward_pos[1]):\n",
        "      reward += 4\n",
        "    if np.array_equal(self.agent_pos, self.reward_pos[2]):\n",
        "      reward += 8\n",
        "    if np.array_equal(self.agent_pos, self.reward_pos[3]):\n",
        "      reward += 6\n",
        "    \n",
        "    if np.array_equal(self.agent_pos, self.goal_pos):\n",
        "      reward += 100\n",
        "    \n",
        "    #[1, 2], [3, 0], [3, 3]\n",
        "    if np.array_equal(self.agent_pos, self.negreward_pos[0]):\n",
        "      reward -= 5\n",
        "    if np.array_equal(self.agent_pos, self.negreward_pos[1]):\n",
        "      reward -= 6\n",
        "    if np.array_equal(self.agent_pos, self.negreward_pos[2]):\n",
        "      reward -= 2 \n",
        "\n",
        "    self.timestep += 1\n",
        "\n",
        "\n",
        "    terminated = True if self.timestep >= self.max_timesteps else False\n",
        "    truncated = True if np.all((self.agent_pos >=0 ) & (self.agent_pos <= 2)) else False\n",
        "\n",
        "    info = {}\n",
        "    \n",
        "    return observation, reward, terminated, truncated, info\n",
        "\n",
        "  def render(self):\n",
        "    plt.imshow(self.state)\n"
      ],
      "metadata": {
        "id": "uiH3nTLTj3qR"
      },
      "execution_count": 157,
      "outputs": []
    },
    {
      "cell_type": "markdown",
      "source": [
        "Creating a Random Agent "
      ],
      "metadata": {
        "id": "-7sNCX8TypM_"
      }
    },
    {
      "cell_type": "code",
      "source": [
        "class RandomAgent:\n",
        "  def __init__(self, env):\n",
        "    self.env = env\n",
        "    self.observation_space = env.observation_space\n",
        "    self.action_space = env.action_space\n",
        "  def step(self, obs):\n",
        "    return np.random.choice(self.action_space.n)\n",
        "  "
      ],
      "metadata": {
        "id": "WCTSceXW44Bk"
      },
      "execution_count": 158,
      "outputs": []
    },
    {
      "cell_type": "markdown",
      "source": [
        "Starting the execution by calling all the methods in the Environment until termination of process"
      ],
      "metadata": {
        "id": "fUGEwZh9yuUg"
      }
    },
    {
      "cell_type": "code",
      "source": [
        "env = GridEnv()\n",
        "agent = RandomAgent(env)\n",
        "\n",
        "obs, info = env.reset()\n",
        "terminated, truncated = False, False\n",
        "\n",
        "output_grid = widgets.Grid(1, 1)\n",
        "with output_grid.output_to(0, 0):\n",
        "  env.render()\n",
        "\n",
        "while not terminated:\n",
        "  action = agent.step(obs)\n",
        "  observation, reward, terminated, truncated, info = env.step(action, obs)\n",
        "  with output_grid.output_to(0, 0):\n",
        "    output_grid.clear_cell()\n",
        "    plt.imshow(grid)\n",
        "    env.render()\n",
        "  time.sleep(1)"
      ],
      "metadata": {
        "colab": {
          "base_uri": "https://localhost:8080/",
          "height": 269
        },
        "id": "f-iPycGP48pI",
        "outputId": "530191fa-581f-4ce8-dd57-a8e28aeb7848"
      },
      "execution_count": 160,
      "outputs": [
        {
          "output_type": "display_data",
          "data": {
            "text/plain": [
              "<IPython.core.display.HTML object>"
            ],
            "text/html": [
              "<style>\n",
              "       table#id96, #id96 > tbody > tr > th, #id96 > tbody > tr > td {\n",
              "         border: 1px solid lightgray;\n",
              "         border-collapse:collapse;\n",
              "         \n",
              "        }</style>"
            ]
          },
          "metadata": {}
        },
        {
          "output_type": "display_data",
          "data": {
            "text/plain": [
              "<IPython.core.display.HTML object>"
            ],
            "text/html": [
              "<table id=id96><tr><td id=id96-0-0></td></tr></table>"
            ]
          },
          "metadata": {}
        },
        {
          "output_type": "display_data",
          "data": {
            "text/plain": [
              "<IPython.core.display.Javascript object>"
            ],
            "application/javascript": [
              "window[\"c96616ae-adbe-11ed-ae68-0242ac1c000c\"] = google.colab.output.getActiveOutputArea();\n",
              "//# sourceURL=js_eed459c98d"
            ]
          },
          "metadata": {}
        },
        {
          "output_type": "display_data",
          "data": {
            "text/plain": [
              "<IPython.core.display.Javascript object>"
            ],
            "application/javascript": [
              "window[\"c966effc-adbe-11ed-ae68-0242ac1c000c\"] = document.querySelector(\"#id96-0-0\");\n",
              "//# sourceURL=js_369f962232"
            ]
          },
          "metadata": {}
        },
        {
          "output_type": "display_data",
          "data": {
            "text/plain": [
              "<IPython.core.display.Javascript object>"
            ],
            "application/javascript": [
              "window[\"c96754ec-adbe-11ed-ae68-0242ac1c000c\"] = google.colab.output.setActiveOutputArea(window[\"c966effc-adbe-11ed-ae68-0242ac1c000c\"]);\n",
              "//# sourceURL=js_dee3c4e976"
            ]
          },
          "metadata": {}
        },
        {
          "output_type": "display_data",
          "data": {
            "text/plain": [
              "<IPython.core.display.Javascript object>"
            ],
            "application/javascript": [
              "window[\"c97f69c4-adbe-11ed-ae68-0242ac1c000c\"] = google.colab.output.setActiveOutputArea(window[\"c96616ae-adbe-11ed-ae68-0242ac1c000c\"]);\n",
              "//# sourceURL=js_58122cce8b"
            ]
          },
          "metadata": {}
        },
        {
          "output_type": "display_data",
          "data": {
            "text/plain": [
              "<IPython.core.display.Javascript object>"
            ],
            "application/javascript": [
              "window[\"c981c96c-adbe-11ed-ae68-0242ac1c000c\"] = google.colab.output.getActiveOutputArea();\n",
              "//# sourceURL=js_7a12d8b671"
            ]
          },
          "metadata": {}
        },
        {
          "output_type": "display_data",
          "data": {
            "text/plain": [
              "<IPython.core.display.Javascript object>"
            ],
            "application/javascript": [
              "window[\"c9821eda-adbe-11ed-ae68-0242ac1c000c\"] = document.querySelector(\"#id96-0-0\");\n",
              "//# sourceURL=js_14c1a903c6"
            ]
          },
          "metadata": {}
        },
        {
          "output_type": "display_data",
          "data": {
            "text/plain": [
              "<IPython.core.display.Javascript object>"
            ],
            "application/javascript": [
              "window[\"c98295b8-adbe-11ed-ae68-0242ac1c000c\"] = google.colab.output.setActiveOutputArea(window[\"c9821eda-adbe-11ed-ae68-0242ac1c000c\"]);\n",
              "//# sourceURL=js_9e54b66d3c"
            ]
          },
          "metadata": {}
        },
        {
          "output_type": "display_data",
          "data": {
            "text/plain": [
              "<IPython.core.display.Javascript object>"
            ],
            "application/javascript": [
              "window[\"c9cd09b8-adbe-11ed-ae68-0242ac1c000c\"] = google.colab.output.setActiveOutputArea(window[\"c981c96c-adbe-11ed-ae68-0242ac1c000c\"]);\n",
              "//# sourceURL=js_de7fcbaf33"
            ]
          },
          "metadata": {}
        },
        {
          "output_type": "display_data",
          "data": {
            "text/plain": [
              "<IPython.core.display.Javascript object>"
            ],
            "application/javascript": [
              "window[\"ca68f134-adbe-11ed-ae68-0242ac1c000c\"] = google.colab.output.getActiveOutputArea();\n",
              "//# sourceURL=js_8791b15da3"
            ]
          },
          "metadata": {}
        },
        {
          "output_type": "display_data",
          "data": {
            "text/plain": [
              "<IPython.core.display.Javascript object>"
            ],
            "application/javascript": [
              "window[\"ca698824-adbe-11ed-ae68-0242ac1c000c\"] = document.querySelector(\"#id96-0-0\");\n",
              "//# sourceURL=js_bf857a839d"
            ]
          },
          "metadata": {}
        },
        {
          "output_type": "display_data",
          "data": {
            "text/plain": [
              "<IPython.core.display.Javascript object>"
            ],
            "application/javascript": [
              "window[\"ca6a21f8-adbe-11ed-ae68-0242ac1c000c\"] = google.colab.output.setActiveOutputArea(window[\"ca698824-adbe-11ed-ae68-0242ac1c000c\"]);\n",
              "//# sourceURL=js_ee8afe5613"
            ]
          },
          "metadata": {}
        },
        {
          "output_type": "display_data",
          "data": {
            "text/plain": [
              "<IPython.core.display.Javascript object>"
            ],
            "application/javascript": [
              "window[\"ca95f65c-adbe-11ed-ae68-0242ac1c000c\"] = google.colab.output.setActiveOutputArea(window[\"ca68f134-adbe-11ed-ae68-0242ac1c000c\"]);\n",
              "//# sourceURL=js_848f42c19c"
            ]
          },
          "metadata": {}
        },
        {
          "output_type": "display_data",
          "data": {
            "text/plain": [
              "<IPython.core.display.Javascript object>"
            ],
            "application/javascript": [
              "window[\"cb31e42c-adbe-11ed-ae68-0242ac1c000c\"] = google.colab.output.getActiveOutputArea();\n",
              "//# sourceURL=js_467b6ff7f5"
            ]
          },
          "metadata": {}
        },
        {
          "output_type": "display_data",
          "data": {
            "text/plain": [
              "<IPython.core.display.Javascript object>"
            ],
            "application/javascript": [
              "window[\"cb327220-adbe-11ed-ae68-0242ac1c000c\"] = document.querySelector(\"#id96-0-0\");\n",
              "//# sourceURL=js_c9c1d332f1"
            ]
          },
          "metadata": {}
        },
        {
          "output_type": "display_data",
          "data": {
            "text/plain": [
              "<IPython.core.display.Javascript object>"
            ],
            "application/javascript": [
              "window[\"cb3316da-adbe-11ed-ae68-0242ac1c000c\"] = google.colab.output.setActiveOutputArea(window[\"cb327220-adbe-11ed-ae68-0242ac1c000c\"]);\n",
              "//# sourceURL=js_0d63f4689d"
            ]
          },
          "metadata": {}
        },
        {
          "output_type": "display_data",
          "data": {
            "text/plain": [
              "<IPython.core.display.Javascript object>"
            ],
            "application/javascript": [
              "window[\"cb4bfc86-adbe-11ed-ae68-0242ac1c000c\"] = google.colab.output.setActiveOutputArea(window[\"cb31e42c-adbe-11ed-ae68-0242ac1c000c\"]);\n",
              "//# sourceURL=js_068280e7af"
            ]
          },
          "metadata": {}
        },
        {
          "output_type": "display_data",
          "data": {
            "text/plain": [
              "<IPython.core.display.Javascript object>"
            ],
            "application/javascript": [
              "window[\"cbe7753a-adbe-11ed-ae68-0242ac1c000c\"] = google.colab.output.getActiveOutputArea();\n",
              "//# sourceURL=js_1b1a9de303"
            ]
          },
          "metadata": {}
        },
        {
          "output_type": "display_data",
          "data": {
            "text/plain": [
              "<IPython.core.display.Javascript object>"
            ],
            "application/javascript": [
              "window[\"cbe7e614-adbe-11ed-ae68-0242ac1c000c\"] = document.querySelector(\"#id96-0-0\");\n",
              "//# sourceURL=js_9d5607517a"
            ]
          },
          "metadata": {}
        },
        {
          "output_type": "display_data",
          "data": {
            "text/plain": [
              "<IPython.core.display.Javascript object>"
            ],
            "application/javascript": [
              "window[\"cbe8a360-adbe-11ed-ae68-0242ac1c000c\"] = google.colab.output.setActiveOutputArea(window[\"cbe7e614-adbe-11ed-ae68-0242ac1c000c\"]);\n",
              "//# sourceURL=js_bf1776b3e8"
            ]
          },
          "metadata": {}
        },
        {
          "output_type": "display_data",
          "data": {
            "text/plain": [
              "<IPython.core.display.Javascript object>"
            ],
            "application/javascript": [
              "window[\"cc00f1a4-adbe-11ed-ae68-0242ac1c000c\"] = google.colab.output.setActiveOutputArea(window[\"cbe7753a-adbe-11ed-ae68-0242ac1c000c\"]);\n",
              "//# sourceURL=js_050fb25b85"
            ]
          },
          "metadata": {}
        },
        {
          "output_type": "display_data",
          "data": {
            "text/plain": [
              "<IPython.core.display.Javascript object>"
            ],
            "application/javascript": [
              "window[\"cc9c75ac-adbe-11ed-ae68-0242ac1c000c\"] = google.colab.output.getActiveOutputArea();\n",
              "//# sourceURL=js_cc7ad0c3d9"
            ]
          },
          "metadata": {}
        },
        {
          "output_type": "display_data",
          "data": {
            "text/plain": [
              "<IPython.core.display.Javascript object>"
            ],
            "application/javascript": [
              "window[\"cc9d196c-adbe-11ed-ae68-0242ac1c000c\"] = document.querySelector(\"#id96-0-0\");\n",
              "//# sourceURL=js_a2f89dabc6"
            ]
          },
          "metadata": {}
        },
        {
          "output_type": "display_data",
          "data": {
            "text/plain": [
              "<IPython.core.display.Javascript object>"
            ],
            "application/javascript": [
              "window[\"cc9d99c8-adbe-11ed-ae68-0242ac1c000c\"] = google.colab.output.setActiveOutputArea(window[\"cc9d196c-adbe-11ed-ae68-0242ac1c000c\"]);\n",
              "//# sourceURL=js_63d1106372"
            ]
          },
          "metadata": {}
        },
        {
          "output_type": "display_data",
          "data": {
            "text/plain": [
              "<IPython.core.display.Javascript object>"
            ],
            "application/javascript": [
              "window[\"ccb91dce-adbe-11ed-ae68-0242ac1c000c\"] = google.colab.output.setActiveOutputArea(window[\"cc9c75ac-adbe-11ed-ae68-0242ac1c000c\"]);\n",
              "//# sourceURL=js_9c29d38b11"
            ]
          },
          "metadata": {}
        },
        {
          "output_type": "display_data",
          "data": {
            "text/plain": [
              "<IPython.core.display.Javascript object>"
            ],
            "application/javascript": [
              "window[\"cd54bdce-adbe-11ed-ae68-0242ac1c000c\"] = google.colab.output.getActiveOutputArea();\n",
              "//# sourceURL=js_f2ebee48e8"
            ]
          },
          "metadata": {}
        },
        {
          "output_type": "display_data",
          "data": {
            "text/plain": [
              "<IPython.core.display.Javascript object>"
            ],
            "application/javascript": [
              "window[\"cd552fc0-adbe-11ed-ae68-0242ac1c000c\"] = document.querySelector(\"#id96-0-0\");\n",
              "//# sourceURL=js_939ad6dd97"
            ]
          },
          "metadata": {}
        },
        {
          "output_type": "display_data",
          "data": {
            "text/plain": [
              "<IPython.core.display.Javascript object>"
            ],
            "application/javascript": [
              "window[\"cd558dd0-adbe-11ed-ae68-0242ac1c000c\"] = google.colab.output.setActiveOutputArea(window[\"cd552fc0-adbe-11ed-ae68-0242ac1c000c\"]);\n",
              "//# sourceURL=js_55b4d5c77b"
            ]
          },
          "metadata": {}
        },
        {
          "output_type": "display_data",
          "data": {
            "text/plain": [
              "<IPython.core.display.Javascript object>"
            ],
            "application/javascript": [
              "window[\"cd70f566-adbe-11ed-ae68-0242ac1c000c\"] = google.colab.output.setActiveOutputArea(window[\"cd54bdce-adbe-11ed-ae68-0242ac1c000c\"]);\n",
              "//# sourceURL=js_4d1ae94d8a"
            ]
          },
          "metadata": {}
        },
        {
          "output_type": "display_data",
          "data": {
            "text/plain": [
              "<IPython.core.display.Javascript object>"
            ],
            "application/javascript": [
              "window[\"ce0d3138-adbe-11ed-ae68-0242ac1c000c\"] = google.colab.output.getActiveOutputArea();\n",
              "//# sourceURL=js_44779e9bdc"
            ]
          },
          "metadata": {}
        },
        {
          "output_type": "display_data",
          "data": {
            "text/plain": [
              "<IPython.core.display.Javascript object>"
            ],
            "application/javascript": [
              "window[\"ce0df500-adbe-11ed-ae68-0242ac1c000c\"] = document.querySelector(\"#id96-0-0\");\n",
              "//# sourceURL=js_94df817dd7"
            ]
          },
          "metadata": {}
        },
        {
          "output_type": "display_data",
          "data": {
            "text/plain": [
              "<IPython.core.display.Javascript object>"
            ],
            "application/javascript": [
              "window[\"ce0e6cc4-adbe-11ed-ae68-0242ac1c000c\"] = google.colab.output.setActiveOutputArea(window[\"ce0df500-adbe-11ed-ae68-0242ac1c000c\"]);\n",
              "//# sourceURL=js_bafc69eeb1"
            ]
          },
          "metadata": {}
        },
        {
          "output_type": "display_data",
          "data": {
            "text/plain": [
              "<IPython.core.display.Javascript object>"
            ],
            "application/javascript": [
              "window[\"ce276e7c-adbe-11ed-ae68-0242ac1c000c\"] = google.colab.output.setActiveOutputArea(window[\"ce0d3138-adbe-11ed-ae68-0242ac1c000c\"]);\n",
              "//# sourceURL=js_e9b1cc3483"
            ]
          },
          "metadata": {}
        },
        {
          "output_type": "display_data",
          "data": {
            "text/plain": [
              "<IPython.core.display.Javascript object>"
            ],
            "application/javascript": [
              "window[\"cec2c714-adbe-11ed-ae68-0242ac1c000c\"] = google.colab.output.getActiveOutputArea();\n",
              "//# sourceURL=js_db1ea2af57"
            ]
          },
          "metadata": {}
        },
        {
          "output_type": "display_data",
          "data": {
            "text/plain": [
              "<IPython.core.display.Javascript object>"
            ],
            "application/javascript": [
              "window[\"cec32808-adbe-11ed-ae68-0242ac1c000c\"] = document.querySelector(\"#id96-0-0\");\n",
              "//# sourceURL=js_2f7f4b4968"
            ]
          },
          "metadata": {}
        },
        {
          "output_type": "display_data",
          "data": {
            "text/plain": [
              "<IPython.core.display.Javascript object>"
            ],
            "application/javascript": [
              "window[\"cec3abc0-adbe-11ed-ae68-0242ac1c000c\"] = google.colab.output.setActiveOutputArea(window[\"cec32808-adbe-11ed-ae68-0242ac1c000c\"]);\n",
              "//# sourceURL=js_0d536d4e68"
            ]
          },
          "metadata": {}
        },
        {
          "output_type": "display_data",
          "data": {
            "text/plain": [
              "<IPython.core.display.Javascript object>"
            ],
            "application/javascript": [
              "window[\"cede0038-adbe-11ed-ae68-0242ac1c000c\"] = google.colab.output.setActiveOutputArea(window[\"cec2c714-adbe-11ed-ae68-0242ac1c000c\"]);\n",
              "//# sourceURL=js_057735cd91"
            ]
          },
          "metadata": {}
        },
        {
          "output_type": "display_data",
          "data": {
            "text/plain": [
              "<IPython.core.display.Javascript object>"
            ],
            "application/javascript": [
              "window[\"cf79fd94-adbe-11ed-ae68-0242ac1c000c\"] = google.colab.output.getActiveOutputArea();\n",
              "//# sourceURL=js_09df311a9e"
            ]
          },
          "metadata": {}
        },
        {
          "output_type": "display_data",
          "data": {
            "text/plain": [
              "<IPython.core.display.Javascript object>"
            ],
            "application/javascript": [
              "window[\"cf7a9772-adbe-11ed-ae68-0242ac1c000c\"] = document.querySelector(\"#id96-0-0\");\n",
              "//# sourceURL=js_bf3b0f1d5e"
            ]
          },
          "metadata": {}
        },
        {
          "output_type": "display_data",
          "data": {
            "text/plain": [
              "<IPython.core.display.Javascript object>"
            ],
            "application/javascript": [
              "window[\"cf7b1a30-adbe-11ed-ae68-0242ac1c000c\"] = google.colab.output.setActiveOutputArea(window[\"cf7a9772-adbe-11ed-ae68-0242ac1c000c\"]);\n",
              "//# sourceURL=js_66dd4016e5"
            ]
          },
          "metadata": {}
        },
        {
          "output_type": "display_data",
          "data": {
            "text/plain": [
              "<IPython.core.display.Javascript object>"
            ],
            "application/javascript": [
              "window[\"cf95cede-adbe-11ed-ae68-0242ac1c000c\"] = google.colab.output.setActiveOutputArea(window[\"cf79fd94-adbe-11ed-ae68-0242ac1c000c\"]);\n",
              "//# sourceURL=js_695d951303"
            ]
          },
          "metadata": {}
        },
        {
          "output_type": "display_data",
          "data": {
            "text/plain": [
              "<IPython.core.display.Javascript object>"
            ],
            "application/javascript": [
              "window[\"d031b272-adbe-11ed-ae68-0242ac1c000c\"] = google.colab.output.getActiveOutputArea();\n",
              "//# sourceURL=js_34b2f7c44b"
            ]
          },
          "metadata": {}
        },
        {
          "output_type": "display_data",
          "data": {
            "text/plain": [
              "<IPython.core.display.Javascript object>"
            ],
            "application/javascript": [
              "window[\"d032205e-adbe-11ed-ae68-0242ac1c000c\"] = document.querySelector(\"#id96-0-0\");\n",
              "//# sourceURL=js_862ceeb9b2"
            ]
          },
          "metadata": {}
        },
        {
          "output_type": "display_data",
          "data": {
            "text/plain": [
              "<IPython.core.display.Javascript object>"
            ],
            "application/javascript": [
              "window[\"d032759a-adbe-11ed-ae68-0242ac1c000c\"] = google.colab.output.setActiveOutputArea(window[\"d032205e-adbe-11ed-ae68-0242ac1c000c\"]);\n",
              "//# sourceURL=js_7f6825cc2d"
            ]
          },
          "metadata": {}
        },
        {
          "output_type": "display_data",
          "data": {
            "text/plain": [
              "<Figure size 432x288 with 1 Axes>"
            ],
            "image/png": "[encoded data removed]"
          },
          "metadata": {
            "needs_background": "light"
          }
        },
        {
          "output_type": "display_data",
          "data": {
            "text/plain": [
              "<IPython.core.display.Javascript object>"
            ],
            "application/javascript": [
              "window[\"d04cda66-adbe-11ed-ae68-0242ac1c000c\"] = google.colab.output.setActiveOutputArea(window[\"d031b272-adbe-11ed-ae68-0242ac1c000c\"]);\n",
              "//# sourceURL=js_c7d7477abe"
            ]
          },
          "metadata": {}
        }
      ]
    },
    {
      "cell_type": "code",
      "source": [
        "\n"
      ],
      "metadata": {
        "id": "vDA7cY78lVBJ"
      },
      "execution_count": 48,
      "outputs": []
    },
    {
      "cell_type": "code",
      "source": [],
      "metadata": {
        "id": "xJa4L5YOlZGQ"
      },
      "execution_count": 48,
      "outputs": []
    },
    {
      "cell_type": "code",
      "source": [],
      "metadata": {
        "id": "k1P-BbIB2D9c"
      },
      "execution_count": 48,
      "outputs": []
    }
  ]
}