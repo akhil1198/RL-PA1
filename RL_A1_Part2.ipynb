{
  "nbformat": 4,
  "nbformat_minor": 0,
  "metadata": {
    "colab": {
      "provenance": [],
      "include_colab_link": true
    },
    "kernelspec": {
      "name": "python3",
      "display_name": "Python 3"
    },
    "language_info": {
      "name": "python"
    }
  },
  "cells": [
    {
      "cell_type": "markdown",
      "metadata": {
        "id": "view-in-github",
        "colab_type": "text"
      },
      "source": [
        "<a href=\"https://colab.research.google.com/github/akhil1198/RL-PA1/blob/main/RL_A1_Part2.ipynb\" target=\"_parent\"><img src=\"https://colab.research.google.com/assets/colab-badge.svg\" alt=\"Open In Colab\"/></a>"
      ]
    },
    {
      "cell_type": "code",
      "execution_count": null,
      "metadata": {
        "colab": {
          "base_uri": "https://localhost:8080/"
        },
        "id": "hw2TLyoAigYz",
        "outputId": "02ae0001-767c-42fa-dc68-3be81f520b92"
      },
      "outputs": [
        {
          "output_type": "stream",
          "name": "stdout",
          "text": [
            "Looking in indexes: https://pypi.org/simple, https://us-python.pkg.dev/colab-wheels/public/simple/\n",
            "Requirement already satisfied: gymnasium in /usr/local/lib/python3.8/dist-packages (0.27.1)\n",
            "Requirement already satisfied: matplotlib in /usr/local/lib/python3.8/dist-packages (3.5.3)\n",
            "Requirement already satisfied: numpy in /usr/local/lib/python3.8/dist-packages (1.22.4)\n",
            "Requirement already satisfied: cloudpickle>=1.2.0 in /usr/local/lib/python3.8/dist-packages (from gymnasium) (2.2.1)\n",
            "Requirement already satisfied: typing-extensions>=4.3.0 in /usr/local/lib/python3.8/dist-packages (from gymnasium) (4.5.0)\n",
            "Requirement already satisfied: importlib-metadata>=4.8.0 in /usr/local/lib/python3.8/dist-packages (from gymnasium) (6.0.0)\n",
            "Requirement already satisfied: gymnasium-notices>=0.0.1 in /usr/local/lib/python3.8/dist-packages (from gymnasium) (0.0.1)\n",
            "Requirement already satisfied: jax-jumpy>=0.2.0 in /usr/local/lib/python3.8/dist-packages (from gymnasium) (0.2.0)\n",
            "Requirement already satisfied: pyparsing>=2.2.1 in /usr/local/lib/python3.8/dist-packages (from matplotlib) (3.0.9)\n",
            "Requirement already satisfied: kiwisolver>=1.0.1 in /usr/local/lib/python3.8/dist-packages (from matplotlib) (1.4.4)\n",
            "Requirement already satisfied: fonttools>=4.22.0 in /usr/local/lib/python3.8/dist-packages (from matplotlib) (4.38.0)\n",
            "Requirement already satisfied: packaging>=20.0 in /usr/local/lib/python3.8/dist-packages (from matplotlib) (23.0)\n",
            "Requirement already satisfied: pillow>=6.2.0 in /usr/local/lib/python3.8/dist-packages (from matplotlib) (8.4.0)\n",
            "Requirement already satisfied: python-dateutil>=2.7 in /usr/local/lib/python3.8/dist-packages (from matplotlib) (2.8.2)\n",
            "Requirement already satisfied: cycler>=0.10 in /usr/local/lib/python3.8/dist-packages (from matplotlib) (0.11.0)\n",
            "Requirement already satisfied: zipp>=0.5 in /usr/local/lib/python3.8/dist-packages (from importlib-metadata>=4.8.0->gymnasium) (3.15.0)\n",
            "Requirement already satisfied: six>=1.5 in /usr/local/lib/python3.8/dist-packages (from python-dateutil>=2.7->matplotlib) (1.15.0)\n"
          ]
        }
      ],
      "source": [
        "!pip install gymnasium matplotlib numpy"
      ]
    },
    {
      "cell_type": "code",
      "source": [
        "from google.colab import widgets\n",
        "import gymnasium as gym\n",
        "from gymnasium import spaces\n",
        "import matplotlib.pyplot as plt\n",
        "import numpy as np\n",
        "import time"
      ],
      "metadata": {
        "id": "9d4qlEyLjUam"
      },
      "execution_count": null,
      "outputs": []
    },
    {
      "cell_type": "code",
      "source": [
        "output_grid = widgets.Grid(1,1)\n",
        "\n",
        "for _ in range(5):\n",
        "  grid = np.zeros((5, 5))\n",
        "  grid[np.random.randint(5), np.random.randint(5)] = 1\n",
        "\n",
        "  with output_grid.output_to(0,0):\n",
        "    output_grid.clear_cell()\n",
        "    plt.imshow(grid)\n",
        "  time.sleep(2) "
      ],
      "metadata": {
        "colab": {
          "base_uri": "https://localhost:8080/",
          "height": 269
        },
        "id": "1V9H_w_ujZIt",
        "outputId": "f0637f18-d596-4581-e0db-a40ceb19efd3"
      },
      "execution_count": null,
      "outputs": [
        {
          "output_type": "display_data",
          "data": {
            "text/plain": [
              "<IPython.core.display.HTML object>"
            ],
            "text/html": [
              "<style>\n",
              "       table#id6, #id6 > tbody > tr > th, #id6 > tbody > tr > td {\n",
              "         border: 1px solid lightgray;\n",
              "         border-collapse:collapse;\n",
              "         \n",
              "        }</style>"
            ]
          },
          "metadata": {}
        },
        {
          "output_type": "display_data",
          "data": {
            "text/plain": [
              "<IPython.core.display.HTML object>"
            ],
            "text/html": [
              "<table id=id6><tr><td id=id6-0-0></td></tr></table>"
            ]
          },
          "metadata": {}
        },
        {
          "output_type": "display_data",
          "data": {
            "text/plain": [
              "<IPython.core.display.Javascript object>"
            ],
            "application/javascript": [
              "window[\"90464b3c-b7d7-11ed-9ad9-0242ac1c000c\"] = google.colab.output.getActiveOutputArea();\n",
              "//# sourceURL=js_1e8df62242"
            ]
          },
          "metadata": {}
        },
        {
          "output_type": "display_data",
          "data": {
            "text/plain": [
              "<IPython.core.display.Javascript object>"
            ],
            "application/javascript": [
              "window[\"9046d5de-b7d7-11ed-9ad9-0242ac1c000c\"] = document.querySelector(\"#id6-0-0\");\n",
              "//# sourceURL=js_b48c8f83f7"
            ]
          },
          "metadata": {}
        },
        {
          "output_type": "display_data",
          "data": {
            "text/plain": [
              "<IPython.core.display.Javascript object>"
            ],
            "application/javascript": [
              "window[\"90475c7a-b7d7-11ed-9ad9-0242ac1c000c\"] = google.colab.output.setActiveOutputArea(window[\"9046d5de-b7d7-11ed-9ad9-0242ac1c000c\"]);\n",
              "//# sourceURL=js_f75a1402b1"
            ]
          },
          "metadata": {}
        },
        {
          "output_type": "display_data",
          "data": {
            "text/plain": [
              "<IPython.core.display.Javascript object>"
            ],
            "application/javascript": [
              "window[\"906c3a0e-b7d7-11ed-9ad9-0242ac1c000c\"] = google.colab.output.setActiveOutputArea(window[\"90464b3c-b7d7-11ed-9ad9-0242ac1c000c\"]);\n",
              "//# sourceURL=js_f566897009"
            ]
          },
          "metadata": {}
        },
        {
          "output_type": "display_data",
          "data": {
            "text/plain": [
              "<IPython.core.display.Javascript object>"
            ],
            "application/javascript": [
              "window[\"91a2839c-b7d7-11ed-9ad9-0242ac1c000c\"] = google.colab.output.getActiveOutputArea();\n",
              "//# sourceURL=js_878d64ddd1"
            ]
          },
          "metadata": {}
        },
        {
          "output_type": "display_data",
          "data": {
            "text/plain": [
              "<IPython.core.display.Javascript object>"
            ],
            "application/javascript": [
              "window[\"91a30236-b7d7-11ed-9ad9-0242ac1c000c\"] = document.querySelector(\"#id6-0-0\");\n",
              "//# sourceURL=js_3c4f1cba16"
            ]
          },
          "metadata": {}
        },
        {
          "output_type": "display_data",
          "data": {
            "text/plain": [
              "<IPython.core.display.Javascript object>"
            ],
            "application/javascript": [
              "window[\"91a37a72-b7d7-11ed-9ad9-0242ac1c000c\"] = google.colab.output.setActiveOutputArea(window[\"91a30236-b7d7-11ed-9ad9-0242ac1c000c\"]);\n",
              "//# sourceURL=js_423e0cf334"
            ]
          },
          "metadata": {}
        },
        {
          "output_type": "display_data",
          "data": {
            "text/plain": [
              "<IPython.core.display.Javascript object>"
            ],
            "application/javascript": [
              "window[\"91c654de-b7d7-11ed-9ad9-0242ac1c000c\"] = google.colab.output.setActiveOutputArea(window[\"91a2839c-b7d7-11ed-9ad9-0242ac1c000c\"]);\n",
              "//# sourceURL=js_4a30e07176"
            ]
          },
          "metadata": {}
        },
        {
          "output_type": "display_data",
          "data": {
            "text/plain": [
              "<IPython.core.display.Javascript object>"
            ],
            "application/javascript": [
              "window[\"92fa801e-b7d7-11ed-9ad9-0242ac1c000c\"] = google.colab.output.getActiveOutputArea();\n",
              "//# sourceURL=js_941e4ab29d"
            ]
          },
          "metadata": {}
        },
        {
          "output_type": "display_data",
          "data": {
            "text/plain": [
              "<IPython.core.display.Javascript object>"
            ],
            "application/javascript": [
              "window[\"92fb6c54-b7d7-11ed-9ad9-0242ac1c000c\"] = document.querySelector(\"#id6-0-0\");\n",
              "//# sourceURL=js_41b8ec1086"
            ]
          },
          "metadata": {}
        },
        {
          "output_type": "display_data",
          "data": {
            "text/plain": [
              "<IPython.core.display.Javascript object>"
            ],
            "application/javascript": [
              "window[\"92fc1c3a-b7d7-11ed-9ad9-0242ac1c000c\"] = google.colab.output.setActiveOutputArea(window[\"92fb6c54-b7d7-11ed-9ad9-0242ac1c000c\"]);\n",
              "//# sourceURL=js_5bccb2ab80"
            ]
          },
          "metadata": {}
        },
        {
          "output_type": "display_data",
          "data": {
            "text/plain": [
              "<IPython.core.display.Javascript object>"
            ],
            "application/javascript": [
              "window[\"932ca10c-b7d7-11ed-9ad9-0242ac1c000c\"] = google.colab.output.setActiveOutputArea(window[\"92fa801e-b7d7-11ed-9ad9-0242ac1c000c\"]);\n",
              "//# sourceURL=js_e69dfe84f4"
            ]
          },
          "metadata": {}
        },
        {
          "output_type": "display_data",
          "data": {
            "text/plain": [
              "<IPython.core.display.Javascript object>"
            ],
            "application/javascript": [
              "window[\"94616c92-b7d7-11ed-9ad9-0242ac1c000c\"] = google.colab.output.getActiveOutputArea();\n",
              "//# sourceURL=js_80d2dd6fe9"
            ]
          },
          "metadata": {}
        },
        {
          "output_type": "display_data",
          "data": {
            "text/plain": [
              "<IPython.core.display.Javascript object>"
            ],
            "application/javascript": [
              "window[\"9461e190-b7d7-11ed-9ad9-0242ac1c000c\"] = document.querySelector(\"#id6-0-0\");\n",
              "//# sourceURL=js_a9e34b7884"
            ]
          },
          "metadata": {}
        },
        {
          "output_type": "display_data",
          "data": {
            "text/plain": [
              "<IPython.core.display.Javascript object>"
            ],
            "application/javascript": [
              "window[\"94625c4c-b7d7-11ed-9ad9-0242ac1c000c\"] = google.colab.output.setActiveOutputArea(window[\"9461e190-b7d7-11ed-9ad9-0242ac1c000c\"]);\n",
              "//# sourceURL=js_30a59d28cf"
            ]
          },
          "metadata": {}
        },
        {
          "output_type": "display_data",
          "data": {
            "text/plain": [
              "<IPython.core.display.Javascript object>"
            ],
            "application/javascript": [
              "window[\"94842408-b7d7-11ed-9ad9-0242ac1c000c\"] = google.colab.output.setActiveOutputArea(window[\"94616c92-b7d7-11ed-9ad9-0242ac1c000c\"]);\n",
              "//# sourceURL=js_ea696e21a0"
            ]
          },
          "metadata": {}
        },
        {
          "output_type": "display_data",
          "data": {
            "text/plain": [
              "<IPython.core.display.Javascript object>"
            ],
            "application/javascript": [
              "window[\"95b8308a-b7d7-11ed-9ad9-0242ac1c000c\"] = google.colab.output.getActiveOutputArea();\n",
              "//# sourceURL=js_b7cff68c4b"
            ]
          },
          "metadata": {}
        },
        {
          "output_type": "display_data",
          "data": {
            "text/plain": [
              "<IPython.core.display.Javascript object>"
            ],
            "application/javascript": [
              "window[\"95b8a470-b7d7-11ed-9ad9-0242ac1c000c\"] = document.querySelector(\"#id6-0-0\");\n",
              "//# sourceURL=js_964ffb8f19"
            ]
          },
          "metadata": {}
        },
        {
          "output_type": "display_data",
          "data": {
            "text/plain": [
              "<IPython.core.display.Javascript object>"
            ],
            "application/javascript": [
              "window[\"95b95f50-b7d7-11ed-9ad9-0242ac1c000c\"] = google.colab.output.setActiveOutputArea(window[\"95b8a470-b7d7-11ed-9ad9-0242ac1c000c\"]);\n",
              "//# sourceURL=js_04d0fe3c64"
            ]
          },
          "metadata": {}
        },
        {
          "output_type": "display_data",
          "data": {
            "text/plain": [
              "<Figure size 432x288 with 1 Axes>"
            ],
            "image/png": "[encoded data removed]"
          },
          "metadata": {
            "needs_background": "light"
          }
        },
        {
          "output_type": "display_data",
          "data": {
            "text/plain": [
              "<IPython.core.display.Javascript object>"
            ],
            "application/javascript": [
              "window[\"95da332e-b7d7-11ed-9ad9-0242ac1c000c\"] = google.colab.output.setActiveOutputArea(window[\"95b8308a-b7d7-11ed-9ad9-0242ac1c000c\"]);\n",
              "//# sourceURL=js_c0d3bf5f28"
            ]
          },
          "metadata": {}
        }
      ]
    },
    {
      "cell_type": "markdown",
      "source": [
        "Creating an Environment with all the actions, states, rewards and positions"
      ],
      "metadata": {
        "id": "x0kViSd_yd82"
      }
    },
    {
      "cell_type": "code",
      "source": [
        "from IPython.utils.path import random\n",
        "class GridEnv(gym.Env):\n",
        "  def __init__(self, env_type):\n",
        "    self.environment_type = env_type\n",
        "    self.environment_width = 5\n",
        "    self.environment_height = 5\n",
        "    self.observation_space = spaces.Discrete(25)\n",
        "    self.action_space = spaces.Discrete(4)\n",
        "\n",
        "    self.timestep = 0\n",
        "    self.max_timesteps = 15\n",
        "\n",
        "    self.agent_pos = [0, 0]\n",
        "    self.goal_pos = [4, 4]\n",
        "\n",
        "    self.state = np.zeros((5,5))\n",
        "    self.state[tuple(self.agent_pos)] = 1\n",
        "    self.state[tuple(self.goal_pos)] = 0.5\n",
        "\n",
        "    self.reward_pos = np.asarray([[0, 4], [2, 1], [3, 4], [4, 2]])\n",
        "    self.negreward_pos = np.asarray([[1, 2], [3, 0], [3, 3]])\n",
        "\n",
        "    #for stochastic env\n",
        "    self.random_number = 0\n",
        "    self.rand_action = 0\n",
        "\n",
        "  def reset(self):\n",
        "    self.state = np.zeros((5,5))\n",
        "    self.state[tuple(self.agent_pos)] = 1\n",
        "    self.state[tuple(self.goal_pos)] = 0.5\n",
        "    observation = self.state.flatten()\n",
        "\n",
        "    info = {}\n",
        "\n",
        "    return observation, info\n",
        "  \n",
        "  def step(self, action, obs):\n",
        "    #print(action)\n",
        "    action = int(action)\n",
        "    if action == 0:\n",
        "      #print(\"at 0 - > agent_pos[0] += 1\")\n",
        "      self.agent_pos[0] += 1\n",
        "    if action == 1:\n",
        "      #print(\"at 1 -> agent_pos[0] -= 1\")\n",
        "      self.agent_pos[0] -= 1\n",
        "    if action == 2:\n",
        "      #print(\"at 2 -> agent_pos[1] += 1\")\n",
        "      self.agent_pos[1] += 1\n",
        "    if action == 3:\n",
        "      #print(\"at 3 -> agent_pos[1] -= 1\")\n",
        "      self.agent_pos[1] -= 1\n",
        "    #stochastic method\n",
        "    if self.environment_type == \"stochastic\":\n",
        "      self.random_number = np.random.rand()\n",
        "      self.rand_action = np.random.randint(4)\n",
        "      if self.random_number < 0.9:\n",
        "        #print(\"Executing the right action -> \", action)\n",
        "        if action == 0:\n",
        "          #print(\"at 0 - > agent_pos[0] += 1\")\n",
        "          self.agent_pos[0] += 1\n",
        "        if action == 1:\n",
        "          #print(\"at 1 -> agent_pos[0] -= 1\")\n",
        "          self.agent_pos[0] -= 1\n",
        "        if action == 2:\n",
        "          #print(\"at 2 -> agent_pos[1] += 1\")\n",
        "          self.agent_pos[1] += 1\n",
        "        if action == 3:\n",
        "          #print(\"at 3 -> agent_pos[1] -= 1\")\n",
        "          self.agent_pos[1] -= 1\n",
        "      elif self.random_number > 0.9:\n",
        "        #print(\"Executing Random Action\", self.rand_action)\n",
        "        if self.rand_action == 0:\n",
        "          self.agent_pos[0] += 1\n",
        "        if self.rand_action == 1:\n",
        "          self.agent_pos[0] -= 1\n",
        "        if self.rand_action == 2:\n",
        "          self.agent_pos[1] += 1\n",
        "        if self.rand_action == 3:\n",
        "          self.agent_pos[1] -= 1\n",
        "      \n",
        "    #print(self.agent_pos)\n",
        "    #Comment this to demonstrate the truncation condition.\n",
        "    self.agent_pos = np.clip(self.agent_pos, 0, 4)\n",
        "\n",
        "    self.state = np.zeros((5,5))\n",
        "    self.state[tuple(self.agent_pos)] = 1\n",
        "    self.state[tuple(self.goal_pos)] = 0.5\n",
        "    observation = self.state.flatten()\n",
        "\n",
        "    reward = 0\n",
        "    #[0, 4], [2, 1], [3, 4], [4, 2]\n",
        "    if np.array_equal(self.agent_pos, self.reward_pos[0]):\n",
        "      reward = reward + 2\n",
        "    \n",
        "    if np.array_equal(self.agent_pos, self.reward_pos[1]):\n",
        "      reward = reward + 4\n",
        "    \n",
        "    if np.array_equal(self.agent_pos, self.reward_pos[2]):\n",
        "      reward = reward + 8\n",
        "    \n",
        "    if np.array_equal(self.agent_pos, self.reward_pos[3]):\n",
        "      reward = reward + 6\n",
        "    \n",
        "\n",
        "    if np.array_equal(self.agent_pos, self.goal_pos):\n",
        "      reward += 100\n",
        "    \n",
        "\n",
        "    #[1, 2], [3, 0], [3, 3]\n",
        "    if np.array_equal(self.agent_pos, self.negreward_pos[0]):\n",
        "      reward = reward - 5\n",
        "    \n",
        "    if np.array_equal(self.agent_pos, self.negreward_pos[1]):\n",
        "      reward = reward - 6\n",
        "    \n",
        "    if np.array_equal(self.agent_pos, self.negreward_pos[2]):\n",
        "      reward = reward - 2 \n",
        "\n",
        "    self.timestep += 1\n",
        "\n",
        "    #print(\"truncated -> \", self.agent_pos,)\n",
        "    terminated = True if self.timestep >= self.max_timesteps else False\n",
        "    truncated = True if np.all((self.agent_pos[0] >= 0) & (self.agent_pos[0] <= 4) & (self.agent_pos[1] >= 0) & (self.agent_pos[1] <= 4)) else False\n",
        "\n",
        "    info = {}\n",
        "    \n",
        "    return observation, reward, terminated, truncated, info\n",
        "\n",
        "  def render(self):\n",
        "    print(\"Environment Type -> \", self.environment_type)\n",
        "    \n",
        "    if self.environment_type == 'stochastic':\n",
        "      print(\"Random Number -> \", self.random_number)\n",
        "      print(\"Random Action -> \", self.rand_action)\n",
        "      print(\"Reward -> \", reward)\n",
        "      print(\"Truncated -> \", truncated)\n",
        "      print(\"Terminated -> \", terminated)\n",
        "      print(\"Agent Position -> \", self.agent_pos)\n",
        "    else: \n",
        "      print(\"Reward -> \", reward)\n",
        "      print(\"Action -> \", action)\n",
        "      print(\"Truncated -> \", truncated)\n",
        "      print(\"Terminated -> \", terminated)\n",
        "      print(\"Agent Position -> \", self.agent_pos)\n",
        "    plt.imshow(self.state)\n",
        "    \n"
      ],
      "metadata": {
        "id": "uiH3nTLTj3qR"
      },
      "execution_count": null,
      "outputs": []
    },
    {
      "cell_type": "markdown",
      "source": [
        "Creating a Random Agent "
      ],
      "metadata": {
        "id": "-7sNCX8TypM_"
      }
    },
    {
      "cell_type": "code",
      "source": [
        "class RandomAgent:\n",
        "  def __init__(self, env):\n",
        "    self.env = env\n",
        "    self.observation_space = env.observation_space\n",
        "    self.action_space = env.action_space\n",
        "  def step(self, obs):\n",
        "    return np.random.choice(self.action_space.n)"
      ],
      "metadata": {
        "id": "WCTSceXW44Bk"
      },
      "execution_count": null,
      "outputs": []
    },
    {
      "cell_type": "markdown",
      "source": [
        "Starting the execution by calling all the methods in the Environment until termination of process\n",
        "\n",
        "Deterministic Environment: "
      ],
      "metadata": {
        "id": "CeaheI38ZYT9"
      }
    },
    {
      "cell_type": "code",
      "source": [
        "env = GridEnv(env_type = \"deterministic\")\n",
        "agent = RandomAgent(env)\n",
        "\n",
        "obs, info = env.reset()\n",
        "terminated, truncated = False, False\n",
        "\n",
        "output_grid = widgets.Grid(1, 1)\n",
        "with output_grid.output_to(0, 0):\n",
        "  env.render()\n",
        "\n",
        "while not terminated:\n",
        "  action = agent.step(obs)\n",
        "  #action = input()\n",
        "  observation, reward, terminated, truncated, info = env.step(action, obs)\n",
        "  with output_grid.output_to(0, 0):\n",
        "    output_grid.clear_cell()\n",
        "    plt.imshow(grid)\n",
        "    env.render()\n",
        "  time.sleep(1)\n"
      ],
      "metadata": {
        "colab": {
          "base_uri": "https://localhost:8080/",
          "height": 376
        },
        "id": "f-iPycGP48pI",
        "outputId": "5f37d39f-3e3f-40e7-a643-23e896a21f0c"
      },
      "execution_count": null,
      "outputs": [
        {
          "output_type": "display_data",
          "data": {
            "text/plain": [
              "<IPython.core.display.HTML object>"
            ],
            "text/html": [
              "<style>\n",
              "       table#id16, #id16 > tbody > tr > th, #id16 > tbody > tr > td {\n",
              "         border: 1px solid lightgray;\n",
              "         border-collapse:collapse;\n",
              "         \n",
              "        }</style>"
            ]
          },
          "metadata": {}
        },
        {
          "output_type": "display_data",
          "data": {
            "text/plain": [
              "<IPython.core.display.HTML object>"
            ],
            "text/html": [
              "<table id=id16><tr><td id=id16-0-0></td></tr></table>"
            ]
          },
          "metadata": {}
        },
        {
          "output_type": "display_data",
          "data": {
            "text/plain": [
              "<IPython.core.display.Javascript object>"
            ],
            "application/javascript": [
              "window[\"109e5a00-b7dc-11ed-9ad9-0242ac1c000c\"] = google.colab.output.getActiveOutputArea();\n",
              "//# sourceURL=js_df5efdaf97"
            ]
          },
          "metadata": {}
        },
        {
          "output_type": "display_data",
          "data": {
            "text/plain": [
              "<IPython.core.display.Javascript object>"
            ],
            "application/javascript": [
              "window[\"109eeb32-b7dc-11ed-9ad9-0242ac1c000c\"] = document.querySelector(\"#id16-0-0\");\n",
              "//# sourceURL=js_9c3783fddb"
            ]
          },
          "metadata": {}
        },
        {
          "output_type": "display_data",
          "data": {
            "text/plain": [
              "<IPython.core.display.Javascript object>"
            ],
            "application/javascript": [
              "window[\"109fb45e-b7dc-11ed-9ad9-0242ac1c000c\"] = google.colab.output.setActiveOutputArea(window[\"109eeb32-b7dc-11ed-9ad9-0242ac1c000c\"]);\n",
              "//# sourceURL=js_1c407219eb"
            ]
          },
          "metadata": {}
        },
        {
          "output_type": "display_data",
          "data": {
            "text/plain": [
              "<IPython.core.display.Javascript object>"
            ],
            "application/javascript": [
              "window[\"10d0b806-b7dc-11ed-9ad9-0242ac1c000c\"] = google.colab.output.setActiveOutputArea(window[\"109e5a00-b7dc-11ed-9ad9-0242ac1c000c\"]);\n",
              "//# sourceURL=js_c56733ec06"
            ]
          },
          "metadata": {}
        },
        {
          "output_type": "display_data",
          "data": {
            "text/plain": [
              "<IPython.core.display.Javascript object>"
            ],
            "application/javascript": [
              "window[\"10d3f44e-b7dc-11ed-9ad9-0242ac1c000c\"] = google.colab.output.getActiveOutputArea();\n",
              "//# sourceURL=js_b2a6f8fe57"
            ]
          },
          "metadata": {}
        },
        {
          "output_type": "display_data",
          "data": {
            "text/plain": [
              "<IPython.core.display.Javascript object>"
            ],
            "application/javascript": [
              "window[\"10d4b636-b7dc-11ed-9ad9-0242ac1c000c\"] = document.querySelector(\"#id16-0-0\");\n",
              "//# sourceURL=js_fb80ee0c72"
            ]
          },
          "metadata": {}
        },
        {
          "output_type": "display_data",
          "data": {
            "text/plain": [
              "<IPython.core.display.Javascript object>"
            ],
            "application/javascript": [
              "window[\"10d564b4-b7dc-11ed-9ad9-0242ac1c000c\"] = google.colab.output.setActiveOutputArea(window[\"10d4b636-b7dc-11ed-9ad9-0242ac1c000c\"]);\n",
              "//# sourceURL=js_8c1f6a8beb"
            ]
          },
          "metadata": {}
        },
        {
          "output_type": "display_data",
          "data": {
            "text/plain": [
              "<IPython.core.display.Javascript object>"
            ],
            "application/javascript": [
              "window[\"11080432-b7dc-11ed-9ad9-0242ac1c000c\"] = google.colab.output.setActiveOutputArea(window[\"10d3f44e-b7dc-11ed-9ad9-0242ac1c000c\"]);\n",
              "//# sourceURL=js_a3473b315d"
            ]
          },
          "metadata": {}
        },
        {
          "output_type": "display_data",
          "data": {
            "text/plain": [
              "<IPython.core.display.Javascript object>"
            ],
            "application/javascript": [
              "window[\"11a426f0-b7dc-11ed-9ad9-0242ac1c000c\"] = google.colab.output.getActiveOutputArea();\n",
              "//# sourceURL=js_7240822e81"
            ]
          },
          "metadata": {}
        },
        {
          "output_type": "display_data",
          "data": {
            "text/plain": [
              "<IPython.core.display.Javascript object>"
            ],
            "application/javascript": [
              "window[\"11a49568-b7dc-11ed-9ad9-0242ac1c000c\"] = document.querySelector(\"#id16-0-0\");\n",
              "//# sourceURL=js_d8cc2dce00"
            ]
          },
          "metadata": {}
        },
        {
          "output_type": "display_data",
          "data": {
            "text/plain": [
              "<IPython.core.display.Javascript object>"
            ],
            "application/javascript": [
              "window[\"11a507dc-b7dc-11ed-9ad9-0242ac1c000c\"] = google.colab.output.setActiveOutputArea(window[\"11a49568-b7dc-11ed-9ad9-0242ac1c000c\"]);\n",
              "//# sourceURL=js_e9a9455bac"
            ]
          },
          "metadata": {}
        },
        {
          "output_type": "display_data",
          "data": {
            "text/plain": [
              "<IPython.core.display.Javascript object>"
            ],
            "application/javascript": [
              "window[\"11ca012c-b7dc-11ed-9ad9-0242ac1c000c\"] = google.colab.output.setActiveOutputArea(window[\"11a426f0-b7dc-11ed-9ad9-0242ac1c000c\"]);\n",
              "//# sourceURL=js_6739e7a795"
            ]
          },
          "metadata": {}
        },
        {
          "output_type": "display_data",
          "data": {
            "text/plain": [
              "<IPython.core.display.Javascript object>"
            ],
            "application/javascript": [
              "window[\"12651b80-b7dc-11ed-9ad9-0242ac1c000c\"] = google.colab.output.getActiveOutputArea();\n",
              "//# sourceURL=js_814f9e4854"
            ]
          },
          "metadata": {}
        },
        {
          "output_type": "display_data",
          "data": {
            "text/plain": [
              "<IPython.core.display.Javascript object>"
            ],
            "application/javascript": [
              "window[\"12659f7e-b7dc-11ed-9ad9-0242ac1c000c\"] = document.querySelector(\"#id16-0-0\");\n",
              "//# sourceURL=js_28328f981b"
            ]
          },
          "metadata": {}
        },
        {
          "output_type": "display_data",
          "data": {
            "text/plain": [
              "<IPython.core.display.Javascript object>"
            ],
            "application/javascript": [
              "window[\"126616f2-b7dc-11ed-9ad9-0242ac1c000c\"] = google.colab.output.setActiveOutputArea(window[\"12659f7e-b7dc-11ed-9ad9-0242ac1c000c\"]);\n",
              "//# sourceURL=js_eb369e4210"
            ]
          },
          "metadata": {}
        },
        {
          "output_type": "display_data",
          "data": {
            "text/plain": [
              "<IPython.core.display.Javascript object>"
            ],
            "application/javascript": [
              "window[\"12a51622-b7dc-11ed-9ad9-0242ac1c000c\"] = google.colab.output.setActiveOutputArea(window[\"12651b80-b7dc-11ed-9ad9-0242ac1c000c\"]);\n",
              "//# sourceURL=js_e8918981e4"
            ]
          },
          "metadata": {}
        },
        {
          "output_type": "display_data",
          "data": {
            "text/plain": [
              "<IPython.core.display.Javascript object>"
            ],
            "application/javascript": [
              "window[\"13404e08-b7dc-11ed-9ad9-0242ac1c000c\"] = google.colab.output.getActiveOutputArea();\n",
              "//# sourceURL=js_310b76aba2"
            ]
          },
          "metadata": {}
        },
        {
          "output_type": "display_data",
          "data": {
            "text/plain": [
              "<IPython.core.display.Javascript object>"
            ],
            "application/javascript": [
              "window[\"1340c252-b7dc-11ed-9ad9-0242ac1c000c\"] = document.querySelector(\"#id16-0-0\");\n",
              "//# sourceURL=js_e3af6bef21"
            ]
          },
          "metadata": {}
        },
        {
          "output_type": "display_data",
          "data": {
            "text/plain": [
              "<IPython.core.display.Javascript object>"
            ],
            "application/javascript": [
              "window[\"134160f4-b7dc-11ed-9ad9-0242ac1c000c\"] = google.colab.output.setActiveOutputArea(window[\"1340c252-b7dc-11ed-9ad9-0242ac1c000c\"]);\n",
              "//# sourceURL=js_eaa921a889"
            ]
          },
          "metadata": {}
        },
        {
          "output_type": "display_data",
          "data": {
            "text/plain": [
              "<IPython.core.display.Javascript object>"
            ],
            "application/javascript": [
              "window[\"1362fd86-b7dc-11ed-9ad9-0242ac1c000c\"] = google.colab.output.setActiveOutputArea(window[\"13404e08-b7dc-11ed-9ad9-0242ac1c000c\"]);\n",
              "//# sourceURL=js_62649c83ad"
            ]
          },
          "metadata": {}
        },
        {
          "output_type": "display_data",
          "data": {
            "text/plain": [
              "<IPython.core.display.Javascript object>"
            ],
            "application/javascript": [
              "window[\"13fe6c3a-b7dc-11ed-9ad9-0242ac1c000c\"] = google.colab.output.getActiveOutputArea();\n",
              "//# sourceURL=js_f058fe1973"
            ]
          },
          "metadata": {}
        },
        {
          "output_type": "display_data",
          "data": {
            "text/plain": [
              "<IPython.core.display.Javascript object>"
            ],
            "application/javascript": [
              "window[\"13fed7c4-b7dc-11ed-9ad9-0242ac1c000c\"] = document.querySelector(\"#id16-0-0\");\n",
              "//# sourceURL=js_f688dd0090"
            ]
          },
          "metadata": {}
        },
        {
          "output_type": "display_data",
          "data": {
            "text/plain": [
              "<IPython.core.display.Javascript object>"
            ],
            "application/javascript": [
              "window[\"13ffbef0-b7dc-11ed-9ad9-0242ac1c000c\"] = google.colab.output.setActiveOutputArea(window[\"13fed7c4-b7dc-11ed-9ad9-0242ac1c000c\"]);\n",
              "//# sourceURL=js_329fe7b947"
            ]
          },
          "metadata": {}
        },
        {
          "output_type": "display_data",
          "data": {
            "text/plain": [
              "<IPython.core.display.Javascript object>"
            ],
            "application/javascript": [
              "window[\"1424bac0-b7dc-11ed-9ad9-0242ac1c000c\"] = google.colab.output.setActiveOutputArea(window[\"13fe6c3a-b7dc-11ed-9ad9-0242ac1c000c\"]);\n",
              "//# sourceURL=js_c2f49d9cc1"
            ]
          },
          "metadata": {}
        },
        {
          "output_type": "display_data",
          "data": {
            "text/plain": [
              "<IPython.core.display.Javascript object>"
            ],
            "application/javascript": [
              "window[\"14c0cd84-b7dc-11ed-9ad9-0242ac1c000c\"] = google.colab.output.getActiveOutputArea();\n",
              "//# sourceURL=js_43ca402acf"
            ]
          },
          "metadata": {}
        },
        {
          "output_type": "display_data",
          "data": {
            "text/plain": [
              "<IPython.core.display.Javascript object>"
            ],
            "application/javascript": [
              "window[\"14c1551a-b7dc-11ed-9ad9-0242ac1c000c\"] = document.querySelector(\"#id16-0-0\");\n",
              "//# sourceURL=js_3e38f0d629"
            ]
          },
          "metadata": {}
        },
        {
          "output_type": "display_data",
          "data": {
            "text/plain": [
              "<IPython.core.display.Javascript object>"
            ],
            "application/javascript": [
              "window[\"14c1c6b2-b7dc-11ed-9ad9-0242ac1c000c\"] = google.colab.output.setActiveOutputArea(window[\"14c1551a-b7dc-11ed-9ad9-0242ac1c000c\"]);\n",
              "//# sourceURL=js_d61a7ac38f"
            ]
          },
          "metadata": {}
        },
        {
          "output_type": "display_data",
          "data": {
            "text/plain": [
              "<IPython.core.display.Javascript object>"
            ],
            "application/javascript": [
              "window[\"14e952ea-b7dc-11ed-9ad9-0242ac1c000c\"] = google.colab.output.setActiveOutputArea(window[\"14c0cd84-b7dc-11ed-9ad9-0242ac1c000c\"]);\n",
              "//# sourceURL=js_1cbcc2b95a"
            ]
          },
          "metadata": {}
        },
        {
          "output_type": "display_data",
          "data": {
            "text/plain": [
              "<IPython.core.display.Javascript object>"
            ],
            "application/javascript": [
              "window[\"1584a45c-b7dc-11ed-9ad9-0242ac1c000c\"] = google.colab.output.getActiveOutputArea();\n",
              "//# sourceURL=js_fc1400b431"
            ]
          },
          "metadata": {}
        },
        {
          "output_type": "display_data",
          "data": {
            "text/plain": [
              "<IPython.core.display.Javascript object>"
            ],
            "application/javascript": [
              "window[\"15851112-b7dc-11ed-9ad9-0242ac1c000c\"] = document.querySelector(\"#id16-0-0\");\n",
              "//# sourceURL=js_a198073162"
            ]
          },
          "metadata": {}
        },
        {
          "output_type": "display_data",
          "data": {
            "text/plain": [
              "<IPython.core.display.Javascript object>"
            ],
            "application/javascript": [
              "window[\"1585a0be-b7dc-11ed-9ad9-0242ac1c000c\"] = google.colab.output.setActiveOutputArea(window[\"15851112-b7dc-11ed-9ad9-0242ac1c000c\"]);\n",
              "//# sourceURL=js_4b420cbfa9"
            ]
          },
          "metadata": {}
        },
        {
          "output_type": "display_data",
          "data": {
            "text/plain": [
              "<IPython.core.display.Javascript object>"
            ],
            "application/javascript": [
              "window[\"15a625b4-b7dc-11ed-9ad9-0242ac1c000c\"] = google.colab.output.setActiveOutputArea(window[\"1584a45c-b7dc-11ed-9ad9-0242ac1c000c\"]);\n",
              "//# sourceURL=js_a5a26557d6"
            ]
          },
          "metadata": {}
        },
        {
          "output_type": "display_data",
          "data": {
            "text/plain": [
              "<IPython.core.display.Javascript object>"
            ],
            "application/javascript": [
              "window[\"16414832-b7dc-11ed-9ad9-0242ac1c000c\"] = google.colab.output.getActiveOutputArea();\n",
              "//# sourceURL=js_fe29ecd008"
            ]
          },
          "metadata": {}
        },
        {
          "output_type": "display_data",
          "data": {
            "text/plain": [
              "<IPython.core.display.Javascript object>"
            ],
            "application/javascript": [
              "window[\"1641b718-b7dc-11ed-9ad9-0242ac1c000c\"] = document.querySelector(\"#id16-0-0\");\n",
              "//# sourceURL=js_b8a37fcdb1"
            ]
          },
          "metadata": {}
        },
        {
          "output_type": "display_data",
          "data": {
            "text/plain": [
              "<IPython.core.display.Javascript object>"
            ],
            "application/javascript": [
              "window[\"16425542-b7dc-11ed-9ad9-0242ac1c000c\"] = google.colab.output.setActiveOutputArea(window[\"1641b718-b7dc-11ed-9ad9-0242ac1c000c\"]);\n",
              "//# sourceURL=js_c7eabf7762"
            ]
          },
          "metadata": {}
        },
        {
          "output_type": "display_data",
          "data": {
            "text/plain": [
              "<IPython.core.display.Javascript object>"
            ],
            "application/javascript": [
              "window[\"1664c794-b7dc-11ed-9ad9-0242ac1c000c\"] = google.colab.output.setActiveOutputArea(window[\"16414832-b7dc-11ed-9ad9-0242ac1c000c\"]);\n",
              "//# sourceURL=js_5be03204b4"
            ]
          },
          "metadata": {}
        },
        {
          "output_type": "display_data",
          "data": {
            "text/plain": [
              "<IPython.core.display.Javascript object>"
            ],
            "application/javascript": [
              "window[\"17008aee-b7dc-11ed-9ad9-0242ac1c000c\"] = google.colab.output.getActiveOutputArea();\n",
              "//# sourceURL=js_c1193270a8"
            ]
          },
          "metadata": {}
        },
        {
          "output_type": "display_data",
          "data": {
            "text/plain": [
              "<IPython.core.display.Javascript object>"
            ],
            "application/javascript": [
              "window[\"170113ec-b7dc-11ed-9ad9-0242ac1c000c\"] = document.querySelector(\"#id16-0-0\");\n",
              "//# sourceURL=js_c147a5682d"
            ]
          },
          "metadata": {}
        },
        {
          "output_type": "display_data",
          "data": {
            "text/plain": [
              "<IPython.core.display.Javascript object>"
            ],
            "application/javascript": [
              "window[\"1701785a-b7dc-11ed-9ad9-0242ac1c000c\"] = google.colab.output.setActiveOutputArea(window[\"170113ec-b7dc-11ed-9ad9-0242ac1c000c\"]);\n",
              "//# sourceURL=js_0b7bab1d2d"
            ]
          },
          "metadata": {}
        },
        {
          "output_type": "display_data",
          "data": {
            "text/plain": [
              "<IPython.core.display.Javascript object>"
            ],
            "application/javascript": [
              "window[\"17300f8a-b7dc-11ed-9ad9-0242ac1c000c\"] = google.colab.output.setActiveOutputArea(window[\"17008aee-b7dc-11ed-9ad9-0242ac1c000c\"]);\n",
              "//# sourceURL=js_2484478fd6"
            ]
          },
          "metadata": {}
        },
        {
          "output_type": "display_data",
          "data": {
            "text/plain": [
              "<IPython.core.display.Javascript object>"
            ],
            "application/javascript": [
              "window[\"17ccb22c-b7dc-11ed-9ad9-0242ac1c000c\"] = google.colab.output.getActiveOutputArea();\n",
              "//# sourceURL=js_566096f704"
            ]
          },
          "metadata": {}
        },
        {
          "output_type": "display_data",
          "data": {
            "text/plain": [
              "<IPython.core.display.Javascript object>"
            ],
            "application/javascript": [
              "window[\"17cd3c06-b7dc-11ed-9ad9-0242ac1c000c\"] = document.querySelector(\"#id16-0-0\");\n",
              "//# sourceURL=js_f29d97e169"
            ]
          },
          "metadata": {}
        },
        {
          "output_type": "display_data",
          "data": {
            "text/plain": [
              "<IPython.core.display.Javascript object>"
            ],
            "application/javascript": [
              "window[\"17cde322-b7dc-11ed-9ad9-0242ac1c000c\"] = google.colab.output.setActiveOutputArea(window[\"17cd3c06-b7dc-11ed-9ad9-0242ac1c000c\"]);\n",
              "//# sourceURL=js_39d93a3662"
            ]
          },
          "metadata": {}
        },
        {
          "output_type": "display_data",
          "data": {
            "text/plain": [
              "<IPython.core.display.Javascript object>"
            ],
            "application/javascript": [
              "window[\"180bc584-b7dc-11ed-9ad9-0242ac1c000c\"] = google.colab.output.setActiveOutputArea(window[\"17ccb22c-b7dc-11ed-9ad9-0242ac1c000c\"]);\n",
              "//# sourceURL=js_ced7ef56d9"
            ]
          },
          "metadata": {}
        },
        {
          "output_type": "display_data",
          "data": {
            "text/plain": [
              "<IPython.core.display.Javascript object>"
            ],
            "application/javascript": [
              "window[\"18a71214-b7dc-11ed-9ad9-0242ac1c000c\"] = google.colab.output.getActiveOutputArea();\n",
              "//# sourceURL=js_95da150692"
            ]
          },
          "metadata": {}
        },
        {
          "output_type": "display_data",
          "data": {
            "text/plain": [
              "<IPython.core.display.Javascript object>"
            ],
            "application/javascript": [
              "window[\"18a785d2-b7dc-11ed-9ad9-0242ac1c000c\"] = document.querySelector(\"#id16-0-0\");\n",
              "//# sourceURL=js_2b5706869a"
            ]
          },
          "metadata": {}
        },
        {
          "output_type": "display_data",
          "data": {
            "text/plain": [
              "<IPython.core.display.Javascript object>"
            ],
            "application/javascript": [
              "window[\"18a810b0-b7dc-11ed-9ad9-0242ac1c000c\"] = google.colab.output.setActiveOutputArea(window[\"18a785d2-b7dc-11ed-9ad9-0242ac1c000c\"]);\n",
              "//# sourceURL=js_1872cbaf2b"
            ]
          },
          "metadata": {}
        },
        {
          "output_type": "display_data",
          "data": {
            "text/plain": [
              "<IPython.core.display.Javascript object>"
            ],
            "application/javascript": [
              "window[\"18cacc36-b7dc-11ed-9ad9-0242ac1c000c\"] = google.colab.output.setActiveOutputArea(window[\"18a71214-b7dc-11ed-9ad9-0242ac1c000c\"]);\n",
              "//# sourceURL=js_5a46f74ec2"
            ]
          },
          "metadata": {}
        },
        {
          "output_type": "display_data",
          "data": {
            "text/plain": [
              "<IPython.core.display.Javascript object>"
            ],
            "application/javascript": [
              "window[\"196618ee-b7dc-11ed-9ad9-0242ac1c000c\"] = google.colab.output.getActiveOutputArea();\n",
              "//# sourceURL=js_04a8e836f6"
            ]
          },
          "metadata": {}
        },
        {
          "output_type": "display_data",
          "data": {
            "text/plain": [
              "<IPython.core.display.Javascript object>"
            ],
            "application/javascript": [
              "window[\"19669328-b7dc-11ed-9ad9-0242ac1c000c\"] = document.querySelector(\"#id16-0-0\");\n",
              "//# sourceURL=js_db90770053"
            ]
          },
          "metadata": {}
        },
        {
          "output_type": "display_data",
          "data": {
            "text/plain": [
              "<IPython.core.display.Javascript object>"
            ],
            "application/javascript": [
              "window[\"196716c2-b7dc-11ed-9ad9-0242ac1c000c\"] = google.colab.output.setActiveOutputArea(window[\"19669328-b7dc-11ed-9ad9-0242ac1c000c\"]);\n",
              "//# sourceURL=js_7151a6d621"
            ]
          },
          "metadata": {}
        },
        {
          "output_type": "display_data",
          "data": {
            "text/plain": [
              "<IPython.core.display.Javascript object>"
            ],
            "application/javascript": [
              "window[\"198ad580-b7dc-11ed-9ad9-0242ac1c000c\"] = google.colab.output.setActiveOutputArea(window[\"196618ee-b7dc-11ed-9ad9-0242ac1c000c\"]);\n",
              "//# sourceURL=js_afc9cc48f6"
            ]
          },
          "metadata": {}
        },
        {
          "output_type": "display_data",
          "data": {
            "text/plain": [
              "<IPython.core.display.Javascript object>"
            ],
            "application/javascript": [
              "window[\"1a2737e0-b7dc-11ed-9ad9-0242ac1c000c\"] = google.colab.output.getActiveOutputArea();\n",
              "//# sourceURL=js_fb1c9af013"
            ]
          },
          "metadata": {}
        },
        {
          "output_type": "display_data",
          "data": {
            "text/plain": [
              "<IPython.core.display.Javascript object>"
            ],
            "application/javascript": [
              "window[\"1a27a932-b7dc-11ed-9ad9-0242ac1c000c\"] = document.querySelector(\"#id16-0-0\");\n",
              "//# sourceURL=js_3ac4db37ee"
            ]
          },
          "metadata": {}
        },
        {
          "output_type": "display_data",
          "data": {
            "text/plain": [
              "<IPython.core.display.Javascript object>"
            ],
            "application/javascript": [
              "window[\"1a282b28-b7dc-11ed-9ad9-0242ac1c000c\"] = google.colab.output.setActiveOutputArea(window[\"1a27a932-b7dc-11ed-9ad9-0242ac1c000c\"]);\n",
              "//# sourceURL=js_874d671b5f"
            ]
          },
          "metadata": {}
        },
        {
          "output_type": "display_data",
          "data": {
            "text/plain": [
              "<IPython.core.display.Javascript object>"
            ],
            "application/javascript": [
              "window[\"1a503a64-b7dc-11ed-9ad9-0242ac1c000c\"] = google.colab.output.setActiveOutputArea(window[\"1a2737e0-b7dc-11ed-9ad9-0242ac1c000c\"]);\n",
              "//# sourceURL=js_e9969b26ff"
            ]
          },
          "metadata": {}
        },
        {
          "output_type": "display_data",
          "data": {
            "text/plain": [
              "<IPython.core.display.Javascript object>"
            ],
            "application/javascript": [
              "window[\"1aeb7326-b7dc-11ed-9ad9-0242ac1c000c\"] = google.colab.output.getActiveOutputArea();\n",
              "//# sourceURL=js_7d9fa9e06a"
            ]
          },
          "metadata": {}
        },
        {
          "output_type": "display_data",
          "data": {
            "text/plain": [
              "<IPython.core.display.Javascript object>"
            ],
            "application/javascript": [
              "window[\"1aebfc6a-b7dc-11ed-9ad9-0242ac1c000c\"] = document.querySelector(\"#id16-0-0\");\n",
              "//# sourceURL=js_1d10aec4ab"
            ]
          },
          "metadata": {}
        },
        {
          "output_type": "display_data",
          "data": {
            "text/plain": [
              "<IPython.core.display.Javascript object>"
            ],
            "application/javascript": [
              "window[\"1aecc7c6-b7dc-11ed-9ad9-0242ac1c000c\"] = google.colab.output.setActiveOutputArea(window[\"1aebfc6a-b7dc-11ed-9ad9-0242ac1c000c\"]);\n",
              "//# sourceURL=js_ebc1e327ca"
            ]
          },
          "metadata": {}
        },
        {
          "output_type": "display_data",
          "data": {
            "text/plain": [
              "<IPython.core.display.Javascript object>"
            ],
            "application/javascript": [
              "window[\"1b12c0ca-b7dc-11ed-9ad9-0242ac1c000c\"] = google.colab.output.setActiveOutputArea(window[\"1aeb7326-b7dc-11ed-9ad9-0242ac1c000c\"]);\n",
              "//# sourceURL=js_324a44e07e"
            ]
          },
          "metadata": {}
        },
        {
          "output_type": "display_data",
          "data": {
            "text/plain": [
              "<IPython.core.display.Javascript object>"
            ],
            "application/javascript": [
              "window[\"1baf039a-b7dc-11ed-9ad9-0242ac1c000c\"] = google.colab.output.getActiveOutputArea();\n",
              "//# sourceURL=js_3535ccbc30"
            ]
          },
          "metadata": {}
        },
        {
          "output_type": "display_data",
          "data": {
            "text/plain": [
              "<IPython.core.display.Javascript object>"
            ],
            "application/javascript": [
              "window[\"1baf7550-b7dc-11ed-9ad9-0242ac1c000c\"] = document.querySelector(\"#id16-0-0\");\n",
              "//# sourceURL=js_f99091833d"
            ]
          },
          "metadata": {}
        },
        {
          "output_type": "display_data",
          "data": {
            "text/plain": [
              "<IPython.core.display.Javascript object>"
            ],
            "application/javascript": [
              "window[\"1bb00182-b7dc-11ed-9ad9-0242ac1c000c\"] = google.colab.output.setActiveOutputArea(window[\"1baf7550-b7dc-11ed-9ad9-0242ac1c000c\"]);\n",
              "//# sourceURL=js_b3fbf8ca59"
            ]
          },
          "metadata": {}
        },
        {
          "output_type": "stream",
          "name": "stdout",
          "text": [
            "Environment Type ->  deterministic\n",
            "Reward ->  0\n",
            "Action ->  0\n",
            "Truncated ->  True\n",
            "Terminated ->  True\n",
            "Agent Position ->  [1 4]\n"
          ]
        },
        {
          "output_type": "display_data",
          "data": {
            "text/plain": [
              "<Figure size 432x288 with 1 Axes>"
            ],
            "image/png": "[encoded data removed]"
          },
          "metadata": {
            "needs_background": "light"
          }
        },
        {
          "output_type": "display_data",
          "data": {
            "text/plain": [
              "<IPython.core.display.Javascript object>"
            ],
            "application/javascript": [
              "window[\"1bd4320a-b7dc-11ed-9ad9-0242ac1c000c\"] = google.colab.output.setActiveOutputArea(window[\"1baf039a-b7dc-11ed-9ad9-0242ac1c000c\"]);\n",
              "//# sourceURL=js_fe57fc74bf"
            ]
          },
          "metadata": {}
        }
      ]
    },
    {
      "cell_type": "markdown",
      "source": [
        "************************************************************************\n",
        "Stochastic Environment: "
      ],
      "metadata": {
        "id": "HsP4eebNZnk5"
      }
    },
    {
      "cell_type": "code",
      "source": [
        "env = GridEnv(env_type = \"stochastic\")\n",
        "agent = RandomAgent(env)\n",
        "\n",
        "obs, info = env.reset()\n",
        "terminated, truncated = False, False\n",
        "\n",
        "output_grid = widgets.Grid(1, 1)\n",
        "with output_grid.output_to(0, 0):\n",
        "  env.render()\n",
        "\n",
        "while not terminated:\n",
        "  action = agent.step(obs)\n",
        "  #action = input()\n",
        "  observation, reward, terminated, truncated, info = env.step(action, obs)\n",
        "  with output_grid.output_to(0, 0):\n",
        "    output_grid.clear_cell()\n",
        "    plt.imshow(grid)\n",
        "    env.render()\n",
        "  time.sleep(1)\n"
      ],
      "metadata": {
        "id": "Xm6_yTZFDoO9",
        "colab": {
          "base_uri": "https://localhost:8080/",
          "height": 394
        },
        "outputId": "a1ae73a0-66b9-4b9c-d292-237d08be5d90"
      },
      "execution_count": null,
      "outputs": [
        {
          "output_type": "display_data",
          "data": {
            "text/plain": [
              "<IPython.core.display.HTML object>"
            ],
            "text/html": [
              "<style>\n",
              "       table#id18, #id18 > tbody > tr > th, #id18 > tbody > tr > td {\n",
              "         border: 1px solid lightgray;\n",
              "         border-collapse:collapse;\n",
              "         \n",
              "        }</style>"
            ]
          },
          "metadata": {}
        },
        {
          "output_type": "display_data",
          "data": {
            "text/plain": [
              "<IPython.core.display.HTML object>"
            ],
            "text/html": [
              "<table id=id18><tr><td id=id18-0-0></td></tr></table>"
            ]
          },
          "metadata": {}
        },
        {
          "output_type": "display_data",
          "data": {
            "text/plain": [
              "<IPython.core.display.Javascript object>"
            ],
            "application/javascript": [
              "window[\"2b12dc94-b7dc-11ed-9ad9-0242ac1c000c\"] = google.colab.output.getActiveOutputArea();\n",
              "//# sourceURL=js_5ed6c5f2b3"
            ]
          },
          "metadata": {}
        },
        {
          "output_type": "display_data",
          "data": {
            "text/plain": [
              "<IPython.core.display.Javascript object>"
            ],
            "application/javascript": [
              "window[\"2b140aec-b7dc-11ed-9ad9-0242ac1c000c\"] = document.querySelector(\"#id18-0-0\");\n",
              "//# sourceURL=js_47f33e7288"
            ]
          },
          "metadata": {}
        },
        {
          "output_type": "display_data",
          "data": {
            "text/plain": [
              "<IPython.core.display.Javascript object>"
            ],
            "application/javascript": [
              "window[\"2b151798-b7dc-11ed-9ad9-0242ac1c000c\"] = google.colab.output.setActiveOutputArea(window[\"2b140aec-b7dc-11ed-9ad9-0242ac1c000c\"]);\n",
              "//# sourceURL=js_955e803010"
            ]
          },
          "metadata": {}
        },
        {
          "output_type": "display_data",
          "data": {
            "text/plain": [
              "<IPython.core.display.Javascript object>"
            ],
            "application/javascript": [
              "window[\"2b4b0010-b7dc-11ed-9ad9-0242ac1c000c\"] = google.colab.output.setActiveOutputArea(window[\"2b12dc94-b7dc-11ed-9ad9-0242ac1c000c\"]);\n",
              "//# sourceURL=js_a70f74ec91"
            ]
          },
          "metadata": {}
        },
        {
          "output_type": "display_data",
          "data": {
            "text/plain": [
              "<IPython.core.display.Javascript object>"
            ],
            "application/javascript": [
              "window[\"2b515b36-b7dc-11ed-9ad9-0242ac1c000c\"] = google.colab.output.getActiveOutputArea();\n",
              "//# sourceURL=js_535741e117"
            ]
          },
          "metadata": {}
        },
        {
          "output_type": "display_data",
          "data": {
            "text/plain": [
              "<IPython.core.display.Javascript object>"
            ],
            "application/javascript": [
              "window[\"2b523d9e-b7dc-11ed-9ad9-0242ac1c000c\"] = document.querySelector(\"#id18-0-0\");\n",
              "//# sourceURL=js_a33bce529f"
            ]
          },
          "metadata": {}
        },
        {
          "output_type": "display_data",
          "data": {
            "text/plain": [
              "<IPython.core.display.Javascript object>"
            ],
            "application/javascript": [
              "window[\"2b537f74-b7dc-11ed-9ad9-0242ac1c000c\"] = google.colab.output.setActiveOutputArea(window[\"2b523d9e-b7dc-11ed-9ad9-0242ac1c000c\"]);\n",
              "//# sourceURL=js_fc2d39b950"
            ]
          },
          "metadata": {}
        },
        {
          "output_type": "display_data",
          "data": {
            "text/plain": [
              "<IPython.core.display.Javascript object>"
            ],
            "application/javascript": [
              "window[\"2bb6ff0e-b7dc-11ed-9ad9-0242ac1c000c\"] = google.colab.output.setActiveOutputArea(window[\"2b515b36-b7dc-11ed-9ad9-0242ac1c000c\"]);\n",
              "//# sourceURL=js_f33efa728f"
            ]
          },
          "metadata": {}
        },
        {
          "output_type": "display_data",
          "data": {
            "text/plain": [
              "<IPython.core.display.Javascript object>"
            ],
            "application/javascript": [
              "window[\"2c54f27c-b7dc-11ed-9ad9-0242ac1c000c\"] = google.colab.output.getActiveOutputArea();\n",
              "//# sourceURL=js_3c7968ac17"
            ]
          },
          "metadata": {}
        },
        {
          "output_type": "display_data",
          "data": {
            "text/plain": [
              "<IPython.core.display.Javascript object>"
            ],
            "application/javascript": [
              "window[\"2c55e4e8-b7dc-11ed-9ad9-0242ac1c000c\"] = document.querySelector(\"#id18-0-0\");\n",
              "//# sourceURL=js_43df0ae98c"
            ]
          },
          "metadata": {}
        },
        {
          "output_type": "display_data",
          "data": {
            "text/plain": [
              "<IPython.core.display.Javascript object>"
            ],
            "application/javascript": [
              "window[\"2c579108-b7dc-11ed-9ad9-0242ac1c000c\"] = google.colab.output.setActiveOutputArea(window[\"2c55e4e8-b7dc-11ed-9ad9-0242ac1c000c\"]);\n",
              "//# sourceURL=js_0a24104593"
            ]
          },
          "metadata": {}
        },
        {
          "output_type": "display_data",
          "data": {
            "text/plain": [
              "<IPython.core.display.Javascript object>"
            ],
            "application/javascript": [
              "window[\"2ccf1ea8-b7dc-11ed-9ad9-0242ac1c000c\"] = google.colab.output.setActiveOutputArea(window[\"2c54f27c-b7dc-11ed-9ad9-0242ac1c000c\"]);\n",
              "//# sourceURL=js_1db9ed42f6"
            ]
          },
          "metadata": {}
        },
        {
          "output_type": "display_data",
          "data": {
            "text/plain": [
              "<IPython.core.display.Javascript object>"
            ],
            "application/javascript": [
              "window[\"2d6cccca-b7dc-11ed-9ad9-0242ac1c000c\"] = google.colab.output.getActiveOutputArea();\n",
              "//# sourceURL=js_c1d3b6255d"
            ]
          },
          "metadata": {}
        },
        {
          "output_type": "display_data",
          "data": {
            "text/plain": [
              "<IPython.core.display.Javascript object>"
            ],
            "application/javascript": [
              "window[\"2d6de3c6-b7dc-11ed-9ad9-0242ac1c000c\"] = document.querySelector(\"#id18-0-0\");\n",
              "//# sourceURL=js_b49e03082f"
            ]
          },
          "metadata": {}
        },
        {
          "output_type": "display_data",
          "data": {
            "text/plain": [
              "<IPython.core.display.Javascript object>"
            ],
            "application/javascript": [
              "window[\"2d6f42ca-b7dc-11ed-9ad9-0242ac1c000c\"] = google.colab.output.setActiveOutputArea(window[\"2d6de3c6-b7dc-11ed-9ad9-0242ac1c000c\"]);\n",
              "//# sourceURL=js_12a9bb624e"
            ]
          },
          "metadata": {}
        },
        {
          "output_type": "display_data",
          "data": {
            "text/plain": [
              "<IPython.core.display.Javascript object>"
            ],
            "application/javascript": [
              "window[\"2de6de98-b7dc-11ed-9ad9-0242ac1c000c\"] = google.colab.output.setActiveOutputArea(window[\"2d6cccca-b7dc-11ed-9ad9-0242ac1c000c\"]);\n",
              "//# sourceURL=js_4a789c9346"
            ]
          },
          "metadata": {}
        },
        {
          "output_type": "display_data",
          "data": {
            "text/plain": [
              "<IPython.core.display.Javascript object>"
            ],
            "application/javascript": [
              "window[\"2e84a042-b7dc-11ed-9ad9-0242ac1c000c\"] = google.colab.output.getActiveOutputArea();\n",
              "//# sourceURL=js_b0cd215ba1"
            ]
          },
          "metadata": {}
        },
        {
          "output_type": "display_data",
          "data": {
            "text/plain": [
              "<IPython.core.display.Javascript object>"
            ],
            "application/javascript": [
              "window[\"2e86e050-b7dc-11ed-9ad9-0242ac1c000c\"] = document.querySelector(\"#id18-0-0\");\n",
              "//# sourceURL=js_ca2d31e753"
            ]
          },
          "metadata": {}
        },
        {
          "output_type": "display_data",
          "data": {
            "text/plain": [
              "<IPython.core.display.Javascript object>"
            ],
            "application/javascript": [
              "window[\"2e888252-b7dc-11ed-9ad9-0242ac1c000c\"] = google.colab.output.setActiveOutputArea(window[\"2e86e050-b7dc-11ed-9ad9-0242ac1c000c\"]);\n",
              "//# sourceURL=js_382f0fdb9d"
            ]
          },
          "metadata": {}
        },
        {
          "output_type": "display_data",
          "data": {
            "text/plain": [
              "<IPython.core.display.Javascript object>"
            ],
            "application/javascript": [
              "window[\"2ed2669c-b7dc-11ed-9ad9-0242ac1c000c\"] = google.colab.output.setActiveOutputArea(window[\"2e84a042-b7dc-11ed-9ad9-0242ac1c000c\"]);\n",
              "//# sourceURL=js_e719a26bfc"
            ]
          },
          "metadata": {}
        },
        {
          "output_type": "display_data",
          "data": {
            "text/plain": [
              "<IPython.core.display.Javascript object>"
            ],
            "application/javascript": [
              "window[\"2f718dbc-b7dc-11ed-9ad9-0242ac1c000c\"] = google.colab.output.getActiveOutputArea();\n",
              "//# sourceURL=js_856b6b5131"
            ]
          },
          "metadata": {}
        },
        {
          "output_type": "display_data",
          "data": {
            "text/plain": [
              "<IPython.core.display.Javascript object>"
            ],
            "application/javascript": [
              "window[\"2f729022-b7dc-11ed-9ad9-0242ac1c000c\"] = document.querySelector(\"#id18-0-0\");\n",
              "//# sourceURL=js_dcb3d9265b"
            ]
          },
          "metadata": {}
        },
        {
          "output_type": "display_data",
          "data": {
            "text/plain": [
              "<IPython.core.display.Javascript object>"
            ],
            "application/javascript": [
              "window[\"2f73a796-b7dc-11ed-9ad9-0242ac1c000c\"] = google.colab.output.setActiveOutputArea(window[\"2f729022-b7dc-11ed-9ad9-0242ac1c000c\"]);\n",
              "//# sourceURL=js_5d8db88cbc"
            ]
          },
          "metadata": {}
        },
        {
          "output_type": "display_data",
          "data": {
            "text/plain": [
              "<IPython.core.display.Javascript object>"
            ],
            "application/javascript": [
              "window[\"2fc7c6d2-b7dc-11ed-9ad9-0242ac1c000c\"] = google.colab.output.setActiveOutputArea(window[\"2f718dbc-b7dc-11ed-9ad9-0242ac1c000c\"]);\n",
              "//# sourceURL=js_c21525a416"
            ]
          },
          "metadata": {}
        },
        {
          "output_type": "display_data",
          "data": {
            "text/plain": [
              "<IPython.core.display.Javascript object>"
            ],
            "application/javascript": [
              "window[\"306587e6-b7dc-11ed-9ad9-0242ac1c000c\"] = google.colab.output.getActiveOutputArea();\n",
              "//# sourceURL=js_a695edd815"
            ]
          },
          "metadata": {}
        },
        {
          "output_type": "display_data",
          "data": {
            "text/plain": [
              "<IPython.core.display.Javascript object>"
            ],
            "application/javascript": [
              "window[\"3066b10c-b7dc-11ed-9ad9-0242ac1c000c\"] = document.querySelector(\"#id18-0-0\");\n",
              "//# sourceURL=js_5a67269336"
            ]
          },
          "metadata": {}
        },
        {
          "output_type": "display_data",
          "data": {
            "text/plain": [
              "<IPython.core.display.Javascript object>"
            ],
            "application/javascript": [
              "window[\"306857d2-b7dc-11ed-9ad9-0242ac1c000c\"] = google.colab.output.setActiveOutputArea(window[\"3066b10c-b7dc-11ed-9ad9-0242ac1c000c\"]);\n",
              "//# sourceURL=js_d723318d4c"
            ]
          },
          "metadata": {}
        },
        {
          "output_type": "display_data",
          "data": {
            "text/plain": [
              "<IPython.core.display.Javascript object>"
            ],
            "application/javascript": [
              "window[\"30afa1c8-b7dc-11ed-9ad9-0242ac1c000c\"] = google.colab.output.setActiveOutputArea(window[\"306587e6-b7dc-11ed-9ad9-0242ac1c000c\"]);\n",
              "//# sourceURL=js_72540bcc92"
            ]
          },
          "metadata": {}
        },
        {
          "output_type": "display_data",
          "data": {
            "text/plain": [
              "<IPython.core.display.Javascript object>"
            ],
            "application/javascript": [
              "window[\"314df1fc-b7dc-11ed-9ad9-0242ac1c000c\"] = google.colab.output.getActiveOutputArea();\n",
              "//# sourceURL=js_40f373a41a"
            ]
          },
          "metadata": {}
        },
        {
          "output_type": "display_data",
          "data": {
            "text/plain": [
              "<IPython.core.display.Javascript object>"
            ],
            "application/javascript": [
              "window[\"314e8982-b7dc-11ed-9ad9-0242ac1c000c\"] = document.querySelector(\"#id18-0-0\");\n",
              "//# sourceURL=js_169decc2d1"
            ]
          },
          "metadata": {}
        },
        {
          "output_type": "display_data",
          "data": {
            "text/plain": [
              "<IPython.core.display.Javascript object>"
            ],
            "application/javascript": [
              "window[\"314f4de0-b7dc-11ed-9ad9-0242ac1c000c\"] = google.colab.output.setActiveOutputArea(window[\"314e8982-b7dc-11ed-9ad9-0242ac1c000c\"]);\n",
              "//# sourceURL=js_9924d1772e"
            ]
          },
          "metadata": {}
        },
        {
          "output_type": "display_data",
          "data": {
            "text/plain": [
              "<IPython.core.display.Javascript object>"
            ],
            "application/javascript": [
              "window[\"31991df8-b7dc-11ed-9ad9-0242ac1c000c\"] = google.colab.output.setActiveOutputArea(window[\"314df1fc-b7dc-11ed-9ad9-0242ac1c000c\"]);\n",
              "//# sourceURL=js_b04437d82a"
            ]
          },
          "metadata": {}
        },
        {
          "output_type": "display_data",
          "data": {
            "text/plain": [
              "<IPython.core.display.Javascript object>"
            ],
            "application/javascript": [
              "window[\"32361cac-b7dc-11ed-9ad9-0242ac1c000c\"] = google.colab.output.getActiveOutputArea();\n",
              "//# sourceURL=js_0106606cf9"
            ]
          },
          "metadata": {}
        },
        {
          "output_type": "display_data",
          "data": {
            "text/plain": [
              "<IPython.core.display.Javascript object>"
            ],
            "application/javascript": [
              "window[\"3236e5ce-b7dc-11ed-9ad9-0242ac1c000c\"] = document.querySelector(\"#id18-0-0\");\n",
              "//# sourceURL=js_020efe86f0"
            ]
          },
          "metadata": {}
        },
        {
          "output_type": "display_data",
          "data": {
            "text/plain": [
              "<IPython.core.display.Javascript object>"
            ],
            "application/javascript": [
              "window[\"32375dd8-b7dc-11ed-9ad9-0242ac1c000c\"] = google.colab.output.setActiveOutputArea(window[\"3236e5ce-b7dc-11ed-9ad9-0242ac1c000c\"]);\n",
              "//# sourceURL=js_0e43b2a3e9"
            ]
          },
          "metadata": {}
        },
        {
          "output_type": "display_data",
          "data": {
            "text/plain": [
              "<IPython.core.display.Javascript object>"
            ],
            "application/javascript": [
              "window[\"329aa4d8-b7dc-11ed-9ad9-0242ac1c000c\"] = google.colab.output.setActiveOutputArea(window[\"32361cac-b7dc-11ed-9ad9-0242ac1c000c\"]);\n",
              "//# sourceURL=js_69eb1bb694"
            ]
          },
          "metadata": {}
        },
        {
          "output_type": "display_data",
          "data": {
            "text/plain": [
              "<IPython.core.display.Javascript object>"
            ],
            "application/javascript": [
              "window[\"33376ed0-b7dc-11ed-9ad9-0242ac1c000c\"] = google.colab.output.getActiveOutputArea();\n",
              "//# sourceURL=js_060f68eb31"
            ]
          },
          "metadata": {}
        },
        {
          "output_type": "display_data",
          "data": {
            "text/plain": [
              "<IPython.core.display.Javascript object>"
            ],
            "application/javascript": [
              "window[\"3337d686-b7dc-11ed-9ad9-0242ac1c000c\"] = document.querySelector(\"#id18-0-0\");\n",
              "//# sourceURL=js_304bff4cf0"
            ]
          },
          "metadata": {}
        },
        {
          "output_type": "display_data",
          "data": {
            "text/plain": [
              "<IPython.core.display.Javascript object>"
            ],
            "application/javascript": [
              "window[\"33383cf2-b7dc-11ed-9ad9-0242ac1c000c\"] = google.colab.output.setActiveOutputArea(window[\"3337d686-b7dc-11ed-9ad9-0242ac1c000c\"]);\n",
              "//# sourceURL=js_8f789e459d"
            ]
          },
          "metadata": {}
        },
        {
          "output_type": "display_data",
          "data": {
            "text/plain": [
              "<IPython.core.display.Javascript object>"
            ],
            "application/javascript": [
              "window[\"335b9288-b7dc-11ed-9ad9-0242ac1c000c\"] = google.colab.output.setActiveOutputArea(window[\"33376ed0-b7dc-11ed-9ad9-0242ac1c000c\"]);\n",
              "//# sourceURL=js_7bc2f62930"
            ]
          },
          "metadata": {}
        },
        {
          "output_type": "display_data",
          "data": {
            "text/plain": [
              "<IPython.core.display.Javascript object>"
            ],
            "application/javascript": [
              "window[\"33f6a9c6-b7dc-11ed-9ad9-0242ac1c000c\"] = google.colab.output.getActiveOutputArea();\n",
              "//# sourceURL=js_25f043367f"
            ]
          },
          "metadata": {}
        },
        {
          "output_type": "display_data",
          "data": {
            "text/plain": [
              "<IPython.core.display.Javascript object>"
            ],
            "application/javascript": [
              "window[\"33f72248-b7dc-11ed-9ad9-0242ac1c000c\"] = document.querySelector(\"#id18-0-0\");\n",
              "//# sourceURL=js_bb47387c92"
            ]
          },
          "metadata": {}
        },
        {
          "output_type": "display_data",
          "data": {
            "text/plain": [
              "<IPython.core.display.Javascript object>"
            ],
            "application/javascript": [
              "window[\"33f7a6a0-b7dc-11ed-9ad9-0242ac1c000c\"] = google.colab.output.setActiveOutputArea(window[\"33f72248-b7dc-11ed-9ad9-0242ac1c000c\"]);\n",
              "//# sourceURL=js_e3e55d4a32"
            ]
          },
          "metadata": {}
        },
        {
          "output_type": "display_data",
          "data": {
            "text/plain": [
              "<IPython.core.display.Javascript object>"
            ],
            "application/javascript": [
              "window[\"3419f9bc-b7dc-11ed-9ad9-0242ac1c000c\"] = google.colab.output.setActiveOutputArea(window[\"33f6a9c6-b7dc-11ed-9ad9-0242ac1c000c\"]);\n",
              "//# sourceURL=js_bf2dcf988c"
            ]
          },
          "metadata": {}
        },
        {
          "output_type": "display_data",
          "data": {
            "text/plain": [
              "<IPython.core.display.Javascript object>"
            ],
            "application/javascript": [
              "window[\"34b54fc0-b7dc-11ed-9ad9-0242ac1c000c\"] = google.colab.output.getActiveOutputArea();\n",
              "//# sourceURL=js_9ee3d12c69"
            ]
          },
          "metadata": {}
        },
        {
          "output_type": "display_data",
          "data": {
            "text/plain": [
              "<IPython.core.display.Javascript object>"
            ],
            "application/javascript": [
              "window[\"34b5c75c-b7dc-11ed-9ad9-0242ac1c000c\"] = document.querySelector(\"#id18-0-0\");\n",
              "//# sourceURL=js_670d2d116e"
            ]
          },
          "metadata": {}
        },
        {
          "output_type": "display_data",
          "data": {
            "text/plain": [
              "<IPython.core.display.Javascript object>"
            ],
            "application/javascript": [
              "window[\"34b66c02-b7dc-11ed-9ad9-0242ac1c000c\"] = google.colab.output.setActiveOutputArea(window[\"34b5c75c-b7dc-11ed-9ad9-0242ac1c000c\"]);\n",
              "//# sourceURL=js_bf1c229f1d"
            ]
          },
          "metadata": {}
        },
        {
          "output_type": "display_data",
          "data": {
            "text/plain": [
              "<IPython.core.display.Javascript object>"
            ],
            "application/javascript": [
              "window[\"34e8f532-b7dc-11ed-9ad9-0242ac1c000c\"] = google.colab.output.setActiveOutputArea(window[\"34b54fc0-b7dc-11ed-9ad9-0242ac1c000c\"]);\n",
              "//# sourceURL=js_626160c648"
            ]
          },
          "metadata": {}
        },
        {
          "output_type": "display_data",
          "data": {
            "text/plain": [
              "<IPython.core.display.Javascript object>"
            ],
            "application/javascript": [
              "window[\"3584618e-b7dc-11ed-9ad9-0242ac1c000c\"] = google.colab.output.getActiveOutputArea();\n",
              "//# sourceURL=js_84899f8ddf"
            ]
          },
          "metadata": {}
        },
        {
          "output_type": "display_data",
          "data": {
            "text/plain": [
              "<IPython.core.display.Javascript object>"
            ],
            "application/javascript": [
              "window[\"35850e18-b7dc-11ed-9ad9-0242ac1c000c\"] = document.querySelector(\"#id18-0-0\");\n",
              "//# sourceURL=js_bb4e778373"
            ]
          },
          "metadata": {}
        },
        {
          "output_type": "display_data",
          "data": {
            "text/plain": [
              "<IPython.core.display.Javascript object>"
            ],
            "application/javascript": [
              "window[\"358597b6-b7dc-11ed-9ad9-0242ac1c000c\"] = google.colab.output.setActiveOutputArea(window[\"35850e18-b7dc-11ed-9ad9-0242ac1c000c\"]);\n",
              "//# sourceURL=js_819a1d43af"
            ]
          },
          "metadata": {}
        },
        {
          "output_type": "display_data",
          "data": {
            "text/plain": [
              "<IPython.core.display.Javascript object>"
            ],
            "application/javascript": [
              "window[\"35a77f5c-b7dc-11ed-9ad9-0242ac1c000c\"] = google.colab.output.setActiveOutputArea(window[\"3584618e-b7dc-11ed-9ad9-0242ac1c000c\"]);\n",
              "//# sourceURL=js_c0152c7896"
            ]
          },
          "metadata": {}
        },
        {
          "output_type": "display_data",
          "data": {
            "text/plain": [
              "<IPython.core.display.Javascript object>"
            ],
            "application/javascript": [
              "window[\"36437218-b7dc-11ed-9ad9-0242ac1c000c\"] = google.colab.output.getActiveOutputArea();\n",
              "//# sourceURL=js_e41d20793e"
            ]
          },
          "metadata": {}
        },
        {
          "output_type": "display_data",
          "data": {
            "text/plain": [
              "<IPython.core.display.Javascript object>"
            ],
            "application/javascript": [
              "window[\"3643e504-b7dc-11ed-9ad9-0242ac1c000c\"] = document.querySelector(\"#id18-0-0\");\n",
              "//# sourceURL=js_0277f90468"
            ]
          },
          "metadata": {}
        },
        {
          "output_type": "display_data",
          "data": {
            "text/plain": [
              "<IPython.core.display.Javascript object>"
            ],
            "application/javascript": [
              "window[\"36445d7c-b7dc-11ed-9ad9-0242ac1c000c\"] = google.colab.output.setActiveOutputArea(window[\"3643e504-b7dc-11ed-9ad9-0242ac1c000c\"]);\n",
              "//# sourceURL=js_794eb5be6c"
            ]
          },
          "metadata": {}
        },
        {
          "output_type": "display_data",
          "data": {
            "text/plain": [
              "<IPython.core.display.Javascript object>"
            ],
            "application/javascript": [
              "window[\"366b538c-b7dc-11ed-9ad9-0242ac1c000c\"] = google.colab.output.setActiveOutputArea(window[\"36437218-b7dc-11ed-9ad9-0242ac1c000c\"]);\n",
              "//# sourceURL=js_d63e255f24"
            ]
          },
          "metadata": {}
        },
        {
          "output_type": "display_data",
          "data": {
            "text/plain": [
              "<IPython.core.display.Javascript object>"
            ],
            "application/javascript": [
              "window[\"370698a6-b7dc-11ed-9ad9-0242ac1c000c\"] = google.colab.output.getActiveOutputArea();\n",
              "//# sourceURL=js_cd807d0d4d"
            ]
          },
          "metadata": {}
        },
        {
          "output_type": "display_data",
          "data": {
            "text/plain": [
              "<IPython.core.display.Javascript object>"
            ],
            "application/javascript": [
              "window[\"37070642-b7dc-11ed-9ad9-0242ac1c000c\"] = document.querySelector(\"#id18-0-0\");\n",
              "//# sourceURL=js_407499ff42"
            ]
          },
          "metadata": {}
        },
        {
          "output_type": "display_data",
          "data": {
            "text/plain": [
              "<IPython.core.display.Javascript object>"
            ],
            "application/javascript": [
              "window[\"37076f92-b7dc-11ed-9ad9-0242ac1c000c\"] = google.colab.output.setActiveOutputArea(window[\"37070642-b7dc-11ed-9ad9-0242ac1c000c\"]);\n",
              "//# sourceURL=js_ce92ca64f0"
            ]
          },
          "metadata": {}
        },
        {
          "output_type": "display_data",
          "data": {
            "text/plain": [
              "<IPython.core.display.Javascript object>"
            ],
            "application/javascript": [
              "window[\"3729141c-b7dc-11ed-9ad9-0242ac1c000c\"] = google.colab.output.setActiveOutputArea(window[\"370698a6-b7dc-11ed-9ad9-0242ac1c000c\"]);\n",
              "//# sourceURL=js_a185324176"
            ]
          },
          "metadata": {}
        },
        {
          "output_type": "display_data",
          "data": {
            "text/plain": [
              "<IPython.core.display.Javascript object>"
            ],
            "application/javascript": [
              "window[\"37c4b7a0-b7dc-11ed-9ad9-0242ac1c000c\"] = google.colab.output.getActiveOutputArea();\n",
              "//# sourceURL=js_4e8bbd6914"
            ]
          },
          "metadata": {}
        },
        {
          "output_type": "display_data",
          "data": {
            "text/plain": [
              "<IPython.core.display.Javascript object>"
            ],
            "application/javascript": [
              "window[\"37c562d6-b7dc-11ed-9ad9-0242ac1c000c\"] = document.querySelector(\"#id18-0-0\");\n",
              "//# sourceURL=js_1ddf0b17f2"
            ]
          },
          "metadata": {}
        },
        {
          "output_type": "display_data",
          "data": {
            "text/plain": [
              "<IPython.core.display.Javascript object>"
            ],
            "application/javascript": [
              "window[\"37c618ca-b7dc-11ed-9ad9-0242ac1c000c\"] = google.colab.output.setActiveOutputArea(window[\"37c562d6-b7dc-11ed-9ad9-0242ac1c000c\"]);\n",
              "//# sourceURL=js_c17c45508e"
            ]
          },
          "metadata": {}
        },
        {
          "output_type": "stream",
          "name": "stdout",
          "text": [
            "Environment Type ->  stochastic\n",
            "Random Number ->  0.7396809144129312\n",
            "Random Action ->  2\n",
            "Reward ->  0\n",
            "Truncated ->  True\n",
            "Terminated ->  True\n",
            "Agent Position ->  [4 3]\n"
          ]
        },
        {
          "output_type": "display_data",
          "data": {
            "text/plain": [
              "<Figure size 432x288 with 1 Axes>"
            ],
            "image/png": "[encoded data removed]"
          },
          "metadata": {
            "needs_background": "light"
          }
        },
        {
          "output_type": "display_data",
          "data": {
            "text/plain": [
              "<IPython.core.display.Javascript object>"
            ],
            "application/javascript": [
              "window[\"37e9f696-b7dc-11ed-9ad9-0242ac1c000c\"] = google.colab.output.setActiveOutputArea(window[\"37c4b7a0-b7dc-11ed-9ad9-0242ac1c000c\"]);\n",
              "//# sourceURL=js_ed3b4363f4"
            ]
          },
          "metadata": {}
        }
      ]
    }
  ]
}