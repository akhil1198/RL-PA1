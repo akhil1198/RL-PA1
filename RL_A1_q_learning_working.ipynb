{
  "nbformat": 4,
  "nbformat_minor": 0,
  "metadata": {
    "colab": {
      "provenance": [],
      "include_colab_link": true
    },
    "kernelspec": {
      "name": "python3",
      "display_name": "Python 3"
    },
    "language_info": {
      "name": "python"
    }
  },
  "cells": [
    {
      "cell_type": "markdown",
      "metadata": {
        "id": "view-in-github",
        "colab_type": "text"
      },
      "source": [
        "<a href=\"https://colab.research.google.com/github/akhil1198/RL-PA1/blob/main/RL_A1_q_learning_working.ipynb\" target=\"_parent\"><img src=\"https://colab.research.google.com/assets/colab-badge.svg\" alt=\"Open In Colab\"/></a>"
      ]
    },
    {
      "cell_type": "code",
      "execution_count": 1,
      "metadata": {
        "colab": {
          "base_uri": "https://localhost:8080/"
        },
        "id": "hw2TLyoAigYz",
        "outputId": "2b08901b-1de7-4d16-8136-db79582c1879"
      },
      "outputs": [
        {
          "output_type": "stream",
          "name": "stdout",
          "text": [
            "Looking in indexes: https://pypi.org/simple, https://us-python.pkg.dev/colab-wheels/public/simple/\n",
            "Collecting gymnasium\n",
            "  Downloading gymnasium-0.27.1-py3-none-any.whl (883 kB)\n",
            "\u001b[2K     \u001b[90m━━━━━━━━━━━━━━━━━━━━━━━━━━━━━━━━━━━━━━\u001b[0m \u001b[32m883.7/883.7 KB\u001b[0m \u001b[31m17.0 MB/s\u001b[0m eta \u001b[36m0:00:00\u001b[0m\n",
            "\u001b[?25hRequirement already satisfied: matplotlib in /usr/local/lib/python3.8/dist-packages (3.5.3)\n",
            "Requirement already satisfied: numpy in /usr/local/lib/python3.8/dist-packages (1.22.4)\n",
            "Requirement already satisfied: cloudpickle>=1.2.0 in /usr/local/lib/python3.8/dist-packages (from gymnasium) (2.2.1)\n",
            "Collecting jax-jumpy>=0.2.0\n",
            "  Downloading jax_jumpy-0.2.0-py3-none-any.whl (11 kB)\n",
            "Collecting gymnasium-notices>=0.0.1\n",
            "  Downloading gymnasium_notices-0.0.1-py3-none-any.whl (2.8 kB)\n",
            "Requirement already satisfied: importlib-metadata>=4.8.0 in /usr/local/lib/python3.8/dist-packages (from gymnasium) (6.0.0)\n",
            "Requirement already satisfied: typing-extensions>=4.3.0 in /usr/local/lib/python3.8/dist-packages (from gymnasium) (4.5.0)\n",
            "Requirement already satisfied: pillow>=6.2.0 in /usr/local/lib/python3.8/dist-packages (from matplotlib) (8.4.0)\n",
            "Requirement already satisfied: pyparsing>=2.2.1 in /usr/local/lib/python3.8/dist-packages (from matplotlib) (3.0.9)\n",
            "Requirement already satisfied: fonttools>=4.22.0 in /usr/local/lib/python3.8/dist-packages (from matplotlib) (4.38.0)\n",
            "Requirement already satisfied: cycler>=0.10 in /usr/local/lib/python3.8/dist-packages (from matplotlib) (0.11.0)\n",
            "Requirement already satisfied: kiwisolver>=1.0.1 in /usr/local/lib/python3.8/dist-packages (from matplotlib) (1.4.4)\n",
            "Requirement already satisfied: packaging>=20.0 in /usr/local/lib/python3.8/dist-packages (from matplotlib) (23.0)\n",
            "Requirement already satisfied: python-dateutil>=2.7 in /usr/local/lib/python3.8/dist-packages (from matplotlib) (2.8.2)\n",
            "Requirement already satisfied: zipp>=0.5 in /usr/local/lib/python3.8/dist-packages (from importlib-metadata>=4.8.0->gymnasium) (3.15.0)\n",
            "Requirement already satisfied: six>=1.5 in /usr/local/lib/python3.8/dist-packages (from python-dateutil>=2.7->matplotlib) (1.15.0)\n",
            "Installing collected packages: gymnasium-notices, jax-jumpy, gymnasium\n",
            "Successfully installed gymnasium-0.27.1 gymnasium-notices-0.0.1 jax-jumpy-0.2.0\n"
          ]
        }
      ],
      "source": [
        "!pip install gymnasium matplotlib numpy"
      ]
    },
    {
      "cell_type": "code",
      "source": [
        "from google.colab import widgets\n",
        "import gymnasium as gym\n",
        "from gymnasium import spaces\n",
        "import matplotlib.pyplot as plt\n",
        "import numpy as np\n",
        "import time"
      ],
      "metadata": {
        "id": "9d4qlEyLjUam"
      },
      "execution_count": 2,
      "outputs": []
    },
    {
      "cell_type": "code",
      "source": [
        "output_grid = widgets.Grid(1,1)\n",
        "\n",
        "for _ in range(5):\n",
        "  grid = np.zeros((5, 5))\n",
        "  grid[np.random.randint(5), np.random.randint(5)] = 1\n",
        "\n",
        "  with output_grid.output_to(0,0):\n",
        "    output_grid.clear_cell()\n",
        "    plt.imshow(grid)\n",
        "  time.sleep(2) "
      ],
      "metadata": {
        "colab": {
          "base_uri": "https://localhost:8080/",
          "height": 269
        },
        "id": "1V9H_w_ujZIt",
        "outputId": "a98f9478-401c-4bb5-8bc4-7b22692872ac"
      },
      "execution_count": 32,
      "outputs": [
        {
          "output_type": "display_data",
          "data": {
            "text/plain": [
              "<IPython.core.display.HTML object>"
            ],
            "text/html": [
              "<style>\n",
              "       table#id8, #id8 > tbody > tr > th, #id8 > tbody > tr > td {\n",
              "         border: 1px solid lightgray;\n",
              "         border-collapse:collapse;\n",
              "         \n",
              "        }</style>"
            ]
          },
          "metadata": {}
        },
        {
          "output_type": "display_data",
          "data": {
            "text/plain": [
              "<IPython.core.display.HTML object>"
            ],
            "text/html": [
              "<table id=id8><tr><td id=id8-0-0></td></tr></table>"
            ]
          },
          "metadata": {}
        },
        {
          "output_type": "display_data",
          "data": {
            "text/plain": [
              "<IPython.core.display.Javascript object>"
            ],
            "application/javascript": [
              "window[\"c640c77a-b8c3-11ed-9641-0242ac1c000c\"] = google.colab.output.getActiveOutputArea();\n",
              "//# sourceURL=js_acad17a6c4"
            ]
          },
          "metadata": {}
        },
        {
          "output_type": "display_data",
          "data": {
            "text/plain": [
              "<IPython.core.display.Javascript object>"
            ],
            "application/javascript": [
              "window[\"c6414308-b8c3-11ed-9641-0242ac1c000c\"] = document.querySelector(\"#id8-0-0\");\n",
              "//# sourceURL=js_cd8486be1b"
            ]
          },
          "metadata": {}
        },
        {
          "output_type": "display_data",
          "data": {
            "text/plain": [
              "<IPython.core.display.Javascript object>"
            ],
            "application/javascript": [
              "window[\"c641b856-b8c3-11ed-9641-0242ac1c000c\"] = google.colab.output.setActiveOutputArea(window[\"c6414308-b8c3-11ed-9641-0242ac1c000c\"]);\n",
              "//# sourceURL=js_e29a9afdc8"
            ]
          },
          "metadata": {}
        },
        {
          "output_type": "display_data",
          "data": {
            "text/plain": [
              "<IPython.core.display.Javascript object>"
            ],
            "application/javascript": [
              "window[\"c6647116-b8c3-11ed-9641-0242ac1c000c\"] = google.colab.output.setActiveOutputArea(window[\"c640c77a-b8c3-11ed-9641-0242ac1c000c\"]);\n",
              "//# sourceURL=js_c1fa7dcd14"
            ]
          },
          "metadata": {}
        },
        {
          "output_type": "display_data",
          "data": {
            "text/plain": [
              "<IPython.core.display.Javascript object>"
            ],
            "application/javascript": [
              "window[\"c798b074-b8c3-11ed-9641-0242ac1c000c\"] = google.colab.output.getActiveOutputArea();\n",
              "//# sourceURL=js_ddb2a4f5b0"
            ]
          },
          "metadata": {}
        },
        {
          "output_type": "display_data",
          "data": {
            "text/plain": [
              "<IPython.core.display.Javascript object>"
            ],
            "application/javascript": [
              "window[\"c79952e0-b8c3-11ed-9641-0242ac1c000c\"] = document.querySelector(\"#id8-0-0\");\n",
              "//# sourceURL=js_cdb4d48148"
            ]
          },
          "metadata": {}
        },
        {
          "output_type": "display_data",
          "data": {
            "text/plain": [
              "<IPython.core.display.Javascript object>"
            ],
            "application/javascript": [
              "window[\"c799db8e-b8c3-11ed-9641-0242ac1c000c\"] = google.colab.output.setActiveOutputArea(window[\"c79952e0-b8c3-11ed-9641-0242ac1c000c\"]);\n",
              "//# sourceURL=js_adfa7315a5"
            ]
          },
          "metadata": {}
        },
        {
          "output_type": "display_data",
          "data": {
            "text/plain": [
              "<IPython.core.display.Javascript object>"
            ],
            "application/javascript": [
              "window[\"c7b9b09e-b8c3-11ed-9641-0242ac1c000c\"] = google.colab.output.setActiveOutputArea(window[\"c798b074-b8c3-11ed-9641-0242ac1c000c\"]);\n",
              "//# sourceURL=js_e57deccc95"
            ]
          },
          "metadata": {}
        },
        {
          "output_type": "display_data",
          "data": {
            "text/plain": [
              "<IPython.core.display.Javascript object>"
            ],
            "application/javascript": [
              "window[\"c8ed8b2a-b8c3-11ed-9641-0242ac1c000c\"] = google.colab.output.getActiveOutputArea();\n",
              "//# sourceURL=js_40ccd31fbc"
            ]
          },
          "metadata": {}
        },
        {
          "output_type": "display_data",
          "data": {
            "text/plain": [
              "<IPython.core.display.Javascript object>"
            ],
            "application/javascript": [
              "window[\"c8ee6478-b8c3-11ed-9641-0242ac1c000c\"] = document.querySelector(\"#id8-0-0\");\n",
              "//# sourceURL=js_eb9e118993"
            ]
          },
          "metadata": {}
        },
        {
          "output_type": "display_data",
          "data": {
            "text/plain": [
              "<IPython.core.display.Javascript object>"
            ],
            "application/javascript": [
              "window[\"c8ef216a-b8c3-11ed-9641-0242ac1c000c\"] = google.colab.output.setActiveOutputArea(window[\"c8ee6478-b8c3-11ed-9641-0242ac1c000c\"]);\n",
              "//# sourceURL=js_bc07712567"
            ]
          },
          "metadata": {}
        },
        {
          "output_type": "display_data",
          "data": {
            "text/plain": [
              "<IPython.core.display.Javascript object>"
            ],
            "application/javascript": [
              "window[\"c91ed27a-b8c3-11ed-9641-0242ac1c000c\"] = google.colab.output.setActiveOutputArea(window[\"c8ed8b2a-b8c3-11ed-9641-0242ac1c000c\"]);\n",
              "//# sourceURL=js_8322cba83d"
            ]
          },
          "metadata": {}
        },
        {
          "output_type": "display_data",
          "data": {
            "text/plain": [
              "<IPython.core.display.Javascript object>"
            ],
            "application/javascript": [
              "window[\"ca5256b2-b8c3-11ed-9641-0242ac1c000c\"] = google.colab.output.getActiveOutputArea();\n",
              "//# sourceURL=js_cbd6ba2357"
            ]
          },
          "metadata": {}
        },
        {
          "output_type": "display_data",
          "data": {
            "text/plain": [
              "<IPython.core.display.Javascript object>"
            ],
            "application/javascript": [
              "window[\"ca52cc82-b8c3-11ed-9641-0242ac1c000c\"] = document.querySelector(\"#id8-0-0\");\n",
              "//# sourceURL=js_1ca3d4cb90"
            ]
          },
          "metadata": {}
        },
        {
          "output_type": "display_data",
          "data": {
            "text/plain": [
              "<IPython.core.display.Javascript object>"
            ],
            "application/javascript": [
              "window[\"ca535bd4-b8c3-11ed-9641-0242ac1c000c\"] = google.colab.output.setActiveOutputArea(window[\"ca52cc82-b8c3-11ed-9641-0242ac1c000c\"]);\n",
              "//# sourceURL=js_7bf70beb26"
            ]
          },
          "metadata": {}
        },
        {
          "output_type": "display_data",
          "data": {
            "text/plain": [
              "<IPython.core.display.Javascript object>"
            ],
            "application/javascript": [
              "window[\"ca72974c-b8c3-11ed-9641-0242ac1c000c\"] = google.colab.output.setActiveOutputArea(window[\"ca5256b2-b8c3-11ed-9641-0242ac1c000c\"]);\n",
              "//# sourceURL=js_077450c862"
            ]
          },
          "metadata": {}
        },
        {
          "output_type": "display_data",
          "data": {
            "text/plain": [
              "<IPython.core.display.Javascript object>"
            ],
            "application/javascript": [
              "window[\"cba66738-b8c3-11ed-9641-0242ac1c000c\"] = google.colab.output.getActiveOutputArea();\n",
              "//# sourceURL=js_5795cf2164"
            ]
          },
          "metadata": {}
        },
        {
          "output_type": "display_data",
          "data": {
            "text/plain": [
              "<IPython.core.display.Javascript object>"
            ],
            "application/javascript": [
              "window[\"cba7418a-b8c3-11ed-9641-0242ac1c000c\"] = document.querySelector(\"#id8-0-0\");\n",
              "//# sourceURL=js_cd650907cf"
            ]
          },
          "metadata": {}
        },
        {
          "output_type": "display_data",
          "data": {
            "text/plain": [
              "<IPython.core.display.Javascript object>"
            ],
            "application/javascript": [
              "window[\"cba7b7dc-b8c3-11ed-9641-0242ac1c000c\"] = google.colab.output.setActiveOutputArea(window[\"cba7418a-b8c3-11ed-9641-0242ac1c000c\"]);\n",
              "//# sourceURL=js_dd09d55025"
            ]
          },
          "metadata": {}
        },
        {
          "output_type": "display_data",
          "data": {
            "text/plain": [
              "<Figure size 432x288 with 1 Axes>"
            ],
            "image/png": "[encoded data removed]"
          },
          "metadata": {
            "needs_background": "light"
          }
        },
        {
          "output_type": "display_data",
          "data": {
            "text/plain": [
              "<IPython.core.display.Javascript object>"
            ],
            "application/javascript": [
              "window[\"cbc94c76-b8c3-11ed-9641-0242ac1c000c\"] = google.colab.output.setActiveOutputArea(window[\"cba66738-b8c3-11ed-9641-0242ac1c000c\"]);\n",
              "//# sourceURL=js_d2302ff966"
            ]
          },
          "metadata": {}
        }
      ]
    },
    {
      "cell_type": "markdown",
      "source": [
        "Creating an Environment with all the actions, states, rewards and positions"
      ],
      "metadata": {
        "id": "x0kViSd_yd82"
      }
    },
    {
      "cell_type": "code",
      "source": [
        "from IPython.utils.path import random\n",
        "class GridEnv(gym.Env):\n",
        "  def __init__(self, env_type):\n",
        "    self.environment_type = env_type\n",
        "    self.environment_width = 5\n",
        "    self.environment_height = 5\n",
        "    self.observation_space = spaces.Discrete(25)\n",
        "    self.action_space = spaces.Discrete(4)\n",
        "\n",
        "    self.timestep = 0\n",
        "    self.max_timesteps = 15\n",
        "\n",
        "    self.agent_pos = [0, 0]\n",
        "    self.goal_pos = [4, 4]\n",
        "\n",
        "    self.state = np.zeros((5,5))\n",
        "    self.state[tuple(self.agent_pos)] = 1\n",
        "    self.state[tuple(self.goal_pos)] = 0.5\n",
        "\n",
        "    self.reward = 0\n",
        "    self.truncated = False\n",
        "    self.terminated = False\n",
        "    self.reward_pos = np.asarray([[0, 4], [2, 1], [3, 4], [4, 2]])\n",
        "    self.negreward_pos = np.asarray([[1, 2], [3, 0], [3, 3]])\n",
        "\n",
        "    #for stochastic env\n",
        "    self.random_number = 0\n",
        "    self.rand_action = 0\n",
        "\n",
        "  def reset(self):\n",
        "    self.state = np.zeros((5,5))\n",
        "    self.state[tuple(self.agent_pos)] = 1\n",
        "    self.state[tuple(self.goal_pos)] = 0.5\n",
        "    observation = self.state.flatten()\n",
        "\n",
        "    return observation, self.agent_pos\n",
        "  \n",
        "  def step(self, action):\n",
        "    print(\"action\", action)\n",
        "    # action = int(action)\n",
        "    if action == 0:\n",
        "      #print(\"at 0 - > agent_pos[0] += 1\")\n",
        "      self.agent_pos[0] += 1\n",
        "    if action == 1:\n",
        "      #print(\"at 1 -> agent_pos[0] -= 1\")\n",
        "      self.agent_pos[0] -= 1\n",
        "    if action == 2:\n",
        "      #print(\"at 2 -> agent_pos[1] += 1\")\n",
        "      self.agent_pos[1] += 1\n",
        "    if action == 3:\n",
        "      #print(\"at 3 -> agent_pos[1] -= 1\")\n",
        "      self.agent_pos[1] -= 1\n",
        "    #stochastic method\n",
        "    if self.environment_type == \"stochastic\":\n",
        "      self.random_number = np.random.rand()\n",
        "      self.rand_action = np.random.randint(4)\n",
        "      if self.random_number < 0.9:\n",
        "        #print(\"Executing the right action -> \", action)\n",
        "        if action == 0:\n",
        "          #print(\"at 0 - > agent_pos[0] += 1\")\n",
        "          self.agent_pos[0] += 1\n",
        "        if action == 1:\n",
        "          #print(\"at 1 -> agent_pos[0] -= 1\")\n",
        "          self.agent_pos[0] -= 1\n",
        "        if action == 2:\n",
        "          #print(\"at 2 -> agent_pos[1] += 1\")\n",
        "          self.agent_pos[1] += 1\n",
        "        if action == 3:\n",
        "          #print(\"at 3 -> agent_pos[1] -= 1\")\n",
        "          self.agent_pos[1] -= 1\n",
        "      elif self.random_number > 0.9:\n",
        "        #print(\"Executing Random Action\", self.rand_action)\n",
        "        if self.rand_action == 0:\n",
        "          self.agent_pos[0] += 1\n",
        "        if self.rand_action == 1:\n",
        "          self.agent_pos[0] -= 1\n",
        "        if self.rand_action == 2:\n",
        "          self.agent_pos[1] += 1\n",
        "        if self.rand_action == 3:\n",
        "          self.agent_pos[1] -= 1\n",
        "      \n",
        "    #print(self.agent_pos)\n",
        "    #Comment this to demonstrate the truncation condition.\n",
        "    self.agent_pos = np.clip(self.agent_pos, 0, 4)\n",
        "\n",
        "    self.state = np.zeros((5,5))\n",
        "    self.state[tuple(self.agent_pos)] = 1\n",
        "    self.state[tuple(self.goal_pos)] = 0.5\n",
        "    observation = self.state.flatten()\n",
        "\n",
        "    self.reward = 0\n",
        "    #[0, 4], [2, 1], [3, 4], [4, 2]\n",
        "    if np.array_equal(self.agent_pos, self.reward_pos[0]):\n",
        "      self.reward = self.reward + 2\n",
        "    \n",
        "    if np.array_equal(self.agent_pos, self.reward_pos[1]):\n",
        "      self.reward = self.reward + 4\n",
        "    \n",
        "    if np.array_equal(self.agent_pos, self.reward_pos[2]):\n",
        "      self.reward = self.reward + 8\n",
        "    \n",
        "    if np.array_equal(self.agent_pos, self.reward_pos[3]):\n",
        "      self.reward = self.reward + 6\n",
        "    \n",
        "\n",
        "    if np.array_equal(self.agent_pos, self.goal_pos):\n",
        "      self.reward += 100\n",
        "    \n",
        "\n",
        "    #[1, 2], [3, 0], [3, 3]\n",
        "    if np.array_equal(self.agent_pos, self.negreward_pos[0]):\n",
        "      self.reward = self.reward - 5\n",
        "    \n",
        "    if np.array_equal(self.agent_pos, self.negreward_pos[1]):\n",
        "      self.reward = self.reward - 6\n",
        "    \n",
        "    if np.array_equal(self.agent_pos, self.negreward_pos[2]):\n",
        "      self.reward = self.reward - 2 \n",
        "\n",
        "    self.timestep += 1\n",
        "\n",
        "    #print(\"truncated -> \", self.agent_pos,)\n",
        "    terminated = True if self.timestep >= self.max_timesteps else False\n",
        "    truncated = True if np.all((self.agent_pos[0] >= 0) & (self.agent_pos[0] <= 4) & (self.agent_pos[1] >= 0) & (self.agent_pos[1] <= 4)) else False\n",
        "\n",
        "    info = {}\n",
        "    \n",
        "    return observation, self.reward, terminated, truncated, info, self.agent_pos\n",
        "\n",
        "  def render(self):\n",
        "    print(\"Reward -> \", self.reward)\n",
        "    plt.imshow(self.state)\n",
        "    \n"
      ],
      "metadata": {
        "id": "uiH3nTLTj3qR"
      },
      "execution_count": 44,
      "outputs": []
    },
    {
      "cell_type": "markdown",
      "source": [
        "Creating a Random Agent "
      ],
      "metadata": {
        "id": "-7sNCX8TypM_"
      }
    },
    {
      "cell_type": "code",
      "source": [
        "class RandomAgent:\n",
        "  def __init__(self, env):\n",
        "    self.env = env\n",
        "    self.observation_space = env.observation_space\n",
        "    self.action_space = env.action_space\n",
        "  def step(self, obs):\n",
        "    return np.random.choice(self.action_space.n)\n",
        "  "
      ],
      "metadata": {
        "id": "WCTSceXW44Bk"
      },
      "execution_count": 34,
      "outputs": []
    },
    {
      "cell_type": "markdown",
      "source": [
        "Starting the execution by calling all the methods in the Environment until termination of process\n",
        "\n",
        "Deterministic Environment: "
      ],
      "metadata": {
        "id": "CeaheI38ZYT9"
      }
    },
    {
      "cell_type": "code",
      "source": [
        "env = GridEnv(env_type = \"deterministic\")\n",
        "agent = RandomAgent(env)\n",
        "\n",
        "obs, info = env.reset()\n",
        "terminated, truncated = False, False\n",
        "\n",
        "output_grid = widgets.Grid(1, 1)\n",
        "with output_grid.output_to(0, 0):\n",
        "  env.render()\n",
        "\n",
        "while not terminated:\n",
        "  action = agent.step(obs)\n",
        "  #action = input()\n",
        "  observation, reward, terminated, truncated, info, agent_pos = env.step(action)\n",
        "  with output_grid.output_to(0, 0):\n",
        "    output_grid.clear_cell()\n",
        "    plt.imshow(grid)\n",
        "    env.render()\n",
        "  time.sleep(1)\n"
      ],
      "metadata": {
        "colab": {
          "base_uri": "https://localhost:8080/",
          "height": 287
        },
        "id": "f-iPycGP48pI",
        "outputId": "8c29cc94-14d0-4128-8277-edf4e8708d5f"
      },
      "execution_count": 35,
      "outputs": [
        {
          "output_type": "display_data",
          "data": {
            "text/plain": [
              "<IPython.core.display.HTML object>"
            ],
            "text/html": [
              "<style>\n",
              "       table#id10, #id10 > tbody > tr > th, #id10 > tbody > tr > td {\n",
              "         border: 1px solid lightgray;\n",
              "         border-collapse:collapse;\n",
              "         \n",
              "        }</style>"
            ]
          },
          "metadata": {}
        },
        {
          "output_type": "display_data",
          "data": {
            "text/plain": [
              "<IPython.core.display.HTML object>"
            ],
            "text/html": [
              "<table id=id10><tr><td id=id10-0-0></td></tr></table>"
            ]
          },
          "metadata": {}
        },
        {
          "output_type": "display_data",
          "data": {
            "text/plain": [
              "<IPython.core.display.Javascript object>"
            ],
            "application/javascript": [
              "window[\"d1d0f9f2-b8c3-11ed-9641-0242ac1c000c\"] = google.colab.output.getActiveOutputArea();\n",
              "//# sourceURL=js_b851683d27"
            ]
          },
          "metadata": {}
        },
        {
          "output_type": "display_data",
          "data": {
            "text/plain": [
              "<IPython.core.display.Javascript object>"
            ],
            "application/javascript": [
              "window[\"d1d16c48-b8c3-11ed-9641-0242ac1c000c\"] = document.querySelector(\"#id10-0-0\");\n",
              "//# sourceURL=js_6dbbd93fa0"
            ]
          },
          "metadata": {}
        },
        {
          "output_type": "display_data",
          "data": {
            "text/plain": [
              "<IPython.core.display.Javascript object>"
            ],
            "application/javascript": [
              "window[\"d1d1ea42-b8c3-11ed-9641-0242ac1c000c\"] = google.colab.output.setActiveOutputArea(window[\"d1d16c48-b8c3-11ed-9641-0242ac1c000c\"]);\n",
              "//# sourceURL=js_876ff5caf2"
            ]
          },
          "metadata": {}
        },
        {
          "output_type": "display_data",
          "data": {
            "text/plain": [
              "<IPython.core.display.Javascript object>"
            ],
            "application/javascript": [
              "window[\"d1f09dd4-b8c3-11ed-9641-0242ac1c000c\"] = google.colab.output.setActiveOutputArea(window[\"d1d0f9f2-b8c3-11ed-9641-0242ac1c000c\"]);\n",
              "//# sourceURL=js_07386bdc48"
            ]
          },
          "metadata": {}
        },
        {
          "output_type": "display_data",
          "data": {
            "text/plain": [
              "<IPython.core.display.Javascript object>"
            ],
            "application/javascript": [
              "window[\"d1f38814-b8c3-11ed-9641-0242ac1c000c\"] = google.colab.output.getActiveOutputArea();\n",
              "//# sourceURL=js_4a08af6ff0"
            ]
          },
          "metadata": {}
        },
        {
          "output_type": "display_data",
          "data": {
            "text/plain": [
              "<IPython.core.display.Javascript object>"
            ],
            "application/javascript": [
              "window[\"d1f417b6-b8c3-11ed-9641-0242ac1c000c\"] = document.querySelector(\"#id10-0-0\");\n",
              "//# sourceURL=js_d258faa7f1"
            ]
          },
          "metadata": {}
        },
        {
          "output_type": "display_data",
          "data": {
            "text/plain": [
              "<IPython.core.display.Javascript object>"
            ],
            "application/javascript": [
              "window[\"d1f4b3d8-b8c3-11ed-9641-0242ac1c000c\"] = google.colab.output.setActiveOutputArea(window[\"d1f417b6-b8c3-11ed-9641-0242ac1c000c\"]);\n",
              "//# sourceURL=js_abd6ccbea0"
            ]
          },
          "metadata": {}
        },
        {
          "output_type": "display_data",
          "data": {
            "text/plain": [
              "<IPython.core.display.Javascript object>"
            ],
            "application/javascript": [
              "window[\"d217ede4-b8c3-11ed-9641-0242ac1c000c\"] = google.colab.output.setActiveOutputArea(window[\"d1f38814-b8c3-11ed-9641-0242ac1c000c\"]);\n",
              "//# sourceURL=js_d138829bdb"
            ]
          },
          "metadata": {}
        },
        {
          "output_type": "display_data",
          "data": {
            "text/plain": [
              "<IPython.core.display.Javascript object>"
            ],
            "application/javascript": [
              "window[\"d2b39a00-b8c3-11ed-9641-0242ac1c000c\"] = google.colab.output.getActiveOutputArea();\n",
              "//# sourceURL=js_5e59b23a1b"
            ]
          },
          "metadata": {}
        },
        {
          "output_type": "display_data",
          "data": {
            "text/plain": [
              "<IPython.core.display.Javascript object>"
            ],
            "application/javascript": [
              "window[\"d2b40d1e-b8c3-11ed-9641-0242ac1c000c\"] = document.querySelector(\"#id10-0-0\");\n",
              "//# sourceURL=js_78ac468b4c"
            ]
          },
          "metadata": {}
        },
        {
          "output_type": "display_data",
          "data": {
            "text/plain": [
              "<IPython.core.display.Javascript object>"
            ],
            "application/javascript": [
              "window[\"d2b482ee-b8c3-11ed-9641-0242ac1c000c\"] = google.colab.output.setActiveOutputArea(window[\"d2b40d1e-b8c3-11ed-9641-0242ac1c000c\"]);\n",
              "//# sourceURL=js_6f1f2d2215"
            ]
          },
          "metadata": {}
        },
        {
          "output_type": "display_data",
          "data": {
            "text/plain": [
              "<IPython.core.display.Javascript object>"
            ],
            "application/javascript": [
              "window[\"d2d7f1fc-b8c3-11ed-9641-0242ac1c000c\"] = google.colab.output.setActiveOutputArea(window[\"d2b39a00-b8c3-11ed-9641-0242ac1c000c\"]);\n",
              "//# sourceURL=js_f6676ea534"
            ]
          },
          "metadata": {}
        },
        {
          "output_type": "display_data",
          "data": {
            "text/plain": [
              "<IPython.core.display.Javascript object>"
            ],
            "application/javascript": [
              "window[\"d37336da-b8c3-11ed-9641-0242ac1c000c\"] = google.colab.output.getActiveOutputArea();\n",
              "//# sourceURL=js_b3e61fbee3"
            ]
          },
          "metadata": {}
        },
        {
          "output_type": "display_data",
          "data": {
            "text/plain": [
              "<IPython.core.display.Javascript object>"
            ],
            "application/javascript": [
              "window[\"d3740e34-b8c3-11ed-9641-0242ac1c000c\"] = document.querySelector(\"#id10-0-0\");\n",
              "//# sourceURL=js_d743b4d8aa"
            ]
          },
          "metadata": {}
        },
        {
          "output_type": "display_data",
          "data": {
            "text/plain": [
              "<IPython.core.display.Javascript object>"
            ],
            "application/javascript": [
              "window[\"d374a542-b8c3-11ed-9641-0242ac1c000c\"] = google.colab.output.setActiveOutputArea(window[\"d3740e34-b8c3-11ed-9641-0242ac1c000c\"]);\n",
              "//# sourceURL=js_1128fccac6"
            ]
          },
          "metadata": {}
        },
        {
          "output_type": "display_data",
          "data": {
            "text/plain": [
              "<IPython.core.display.Javascript object>"
            ],
            "application/javascript": [
              "window[\"d395b674-b8c3-11ed-9641-0242ac1c000c\"] = google.colab.output.setActiveOutputArea(window[\"d37336da-b8c3-11ed-9641-0242ac1c000c\"]);\n",
              "//# sourceURL=js_8d01ba5a92"
            ]
          },
          "metadata": {}
        },
        {
          "output_type": "display_data",
          "data": {
            "text/plain": [
              "<IPython.core.display.Javascript object>"
            ],
            "application/javascript": [
              "window[\"d431abba-b8c3-11ed-9641-0242ac1c000c\"] = google.colab.output.getActiveOutputArea();\n",
              "//# sourceURL=js_cfa9efe0a9"
            ]
          },
          "metadata": {}
        },
        {
          "output_type": "display_data",
          "data": {
            "text/plain": [
              "<IPython.core.display.Javascript object>"
            ],
            "application/javascript": [
              "window[\"d43288fa-b8c3-11ed-9641-0242ac1c000c\"] = document.querySelector(\"#id10-0-0\");\n",
              "//# sourceURL=js_53d3dd656a"
            ]
          },
          "metadata": {}
        },
        {
          "output_type": "display_data",
          "data": {
            "text/plain": [
              "<IPython.core.display.Javascript object>"
            ],
            "application/javascript": [
              "window[\"d43349de-b8c3-11ed-9641-0242ac1c000c\"] = google.colab.output.setActiveOutputArea(window[\"d43288fa-b8c3-11ed-9641-0242ac1c000c\"]);\n",
              "//# sourceURL=js_1d583ee68e"
            ]
          },
          "metadata": {}
        },
        {
          "output_type": "display_data",
          "data": {
            "text/plain": [
              "<IPython.core.display.Javascript object>"
            ],
            "application/javascript": [
              "window[\"d453fb02-b8c3-11ed-9641-0242ac1c000c\"] = google.colab.output.setActiveOutputArea(window[\"d431abba-b8c3-11ed-9641-0242ac1c000c\"]);\n",
              "//# sourceURL=js_c8afecb6f8"
            ]
          },
          "metadata": {}
        },
        {
          "output_type": "display_data",
          "data": {
            "text/plain": [
              "<IPython.core.display.Javascript object>"
            ],
            "application/javascript": [
              "window[\"d4f017bc-b8c3-11ed-9641-0242ac1c000c\"] = google.colab.output.getActiveOutputArea();\n",
              "//# sourceURL=js_dd746a44bd"
            ]
          },
          "metadata": {}
        },
        {
          "output_type": "display_data",
          "data": {
            "text/plain": [
              "<IPython.core.display.Javascript object>"
            ],
            "application/javascript": [
              "window[\"d4f0e32c-b8c3-11ed-9641-0242ac1c000c\"] = document.querySelector(\"#id10-0-0\");\n",
              "//# sourceURL=js_f7f56b34cd"
            ]
          },
          "metadata": {}
        },
        {
          "output_type": "display_data",
          "data": {
            "text/plain": [
              "<IPython.core.display.Javascript object>"
            ],
            "application/javascript": [
              "window[\"d4f19074-b8c3-11ed-9641-0242ac1c000c\"] = google.colab.output.setActiveOutputArea(window[\"d4f0e32c-b8c3-11ed-9641-0242ac1c000c\"]);\n",
              "//# sourceURL=js_6e99da916c"
            ]
          },
          "metadata": {}
        },
        {
          "output_type": "display_data",
          "data": {
            "text/plain": [
              "<IPython.core.display.Javascript object>"
            ],
            "application/javascript": [
              "window[\"d513cd10-b8c3-11ed-9641-0242ac1c000c\"] = google.colab.output.setActiveOutputArea(window[\"d4f017bc-b8c3-11ed-9641-0242ac1c000c\"]);\n",
              "//# sourceURL=js_3d9e35b994"
            ]
          },
          "metadata": {}
        },
        {
          "output_type": "display_data",
          "data": {
            "text/plain": [
              "<IPython.core.display.Javascript object>"
            ],
            "application/javascript": [
              "window[\"d5af2b16-b8c3-11ed-9641-0242ac1c000c\"] = google.colab.output.getActiveOutputArea();\n",
              "//# sourceURL=js_dc49694712"
            ]
          },
          "metadata": {}
        },
        {
          "output_type": "display_data",
          "data": {
            "text/plain": [
              "<IPython.core.display.Javascript object>"
            ],
            "application/javascript": [
              "window[\"d5afae24-b8c3-11ed-9641-0242ac1c000c\"] = document.querySelector(\"#id10-0-0\");\n",
              "//# sourceURL=js_9ab3e68e06"
            ]
          },
          "metadata": {}
        },
        {
          "output_type": "display_data",
          "data": {
            "text/plain": [
              "<IPython.core.display.Javascript object>"
            ],
            "application/javascript": [
              "window[\"d5b0258e-b8c3-11ed-9641-0242ac1c000c\"] = google.colab.output.setActiveOutputArea(window[\"d5afae24-b8c3-11ed-9641-0242ac1c000c\"]);\n",
              "//# sourceURL=js_350745c6e6"
            ]
          },
          "metadata": {}
        },
        {
          "output_type": "display_data",
          "data": {
            "text/plain": [
              "<IPython.core.display.Javascript object>"
            ],
            "application/javascript": [
              "window[\"d5d9dc44-b8c3-11ed-9641-0242ac1c000c\"] = google.colab.output.setActiveOutputArea(window[\"d5af2b16-b8c3-11ed-9641-0242ac1c000c\"]);\n",
              "//# sourceURL=js_cdb82c1b37"
            ]
          },
          "metadata": {}
        },
        {
          "output_type": "display_data",
          "data": {
            "text/plain": [
              "<IPython.core.display.Javascript object>"
            ],
            "application/javascript": [
              "window[\"d674e6a8-b8c3-11ed-9641-0242ac1c000c\"] = google.colab.output.getActiveOutputArea();\n",
              "//# sourceURL=js_c2292c2b21"
            ]
          },
          "metadata": {}
        },
        {
          "output_type": "display_data",
          "data": {
            "text/plain": [
              "<IPython.core.display.Javascript object>"
            ],
            "application/javascript": [
              "window[\"d675b358-b8c3-11ed-9641-0242ac1c000c\"] = document.querySelector(\"#id10-0-0\");\n",
              "//# sourceURL=js_3478758593"
            ]
          },
          "metadata": {}
        },
        {
          "output_type": "display_data",
          "data": {
            "text/plain": [
              "<IPython.core.display.Javascript object>"
            ],
            "application/javascript": [
              "window[\"d6765e48-b8c3-11ed-9641-0242ac1c000c\"] = google.colab.output.setActiveOutputArea(window[\"d675b358-b8c3-11ed-9641-0242ac1c000c\"]);\n",
              "//# sourceURL=js_b78ab45933"
            ]
          },
          "metadata": {}
        },
        {
          "output_type": "display_data",
          "data": {
            "text/plain": [
              "<IPython.core.display.Javascript object>"
            ],
            "application/javascript": [
              "window[\"d6aac278-b8c3-11ed-9641-0242ac1c000c\"] = google.colab.output.setActiveOutputArea(window[\"d674e6a8-b8c3-11ed-9641-0242ac1c000c\"]);\n",
              "//# sourceURL=js_27ad73a188"
            ]
          },
          "metadata": {}
        },
        {
          "output_type": "display_data",
          "data": {
            "text/plain": [
              "<IPython.core.display.Javascript object>"
            ],
            "application/javascript": [
              "window[\"d74684ba-b8c3-11ed-9641-0242ac1c000c\"] = google.colab.output.getActiveOutputArea();\n",
              "//# sourceURL=js_e61f24ca60"
            ]
          },
          "metadata": {}
        },
        {
          "output_type": "display_data",
          "data": {
            "text/plain": [
              "<IPython.core.display.Javascript object>"
            ],
            "application/javascript": [
              "window[\"d74701d8-b8c3-11ed-9641-0242ac1c000c\"] = document.querySelector(\"#id10-0-0\");\n",
              "//# sourceURL=js_b8a727096a"
            ]
          },
          "metadata": {}
        },
        {
          "output_type": "display_data",
          "data": {
            "text/plain": [
              "<IPython.core.display.Javascript object>"
            ],
            "application/javascript": [
              "window[\"d7478004-b8c3-11ed-9641-0242ac1c000c\"] = google.colab.output.setActiveOutputArea(window[\"d74701d8-b8c3-11ed-9641-0242ac1c000c\"]);\n",
              "//# sourceURL=js_dc8325368c"
            ]
          },
          "metadata": {}
        },
        {
          "output_type": "display_data",
          "data": {
            "text/plain": [
              "<IPython.core.display.Javascript object>"
            ],
            "application/javascript": [
              "window[\"d767b234-b8c3-11ed-9641-0242ac1c000c\"] = google.colab.output.setActiveOutputArea(window[\"d74684ba-b8c3-11ed-9641-0242ac1c000c\"]);\n",
              "//# sourceURL=js_9508750fc0"
            ]
          },
          "metadata": {}
        },
        {
          "output_type": "display_data",
          "data": {
            "text/plain": [
              "<IPython.core.display.Javascript object>"
            ],
            "application/javascript": [
              "window[\"d802c5da-b8c3-11ed-9641-0242ac1c000c\"] = google.colab.output.getActiveOutputArea();\n",
              "//# sourceURL=js_7b5717a515"
            ]
          },
          "metadata": {}
        },
        {
          "output_type": "display_data",
          "data": {
            "text/plain": [
              "<IPython.core.display.Javascript object>"
            ],
            "application/javascript": [
              "window[\"d8038204-b8c3-11ed-9641-0242ac1c000c\"] = document.querySelector(\"#id10-0-0\");\n",
              "//# sourceURL=js_d1d47cb9c1"
            ]
          },
          "metadata": {}
        },
        {
          "output_type": "display_data",
          "data": {
            "text/plain": [
              "<IPython.core.display.Javascript object>"
            ],
            "application/javascript": [
              "window[\"d8044176-b8c3-11ed-9641-0242ac1c000c\"] = google.colab.output.setActiveOutputArea(window[\"d8038204-b8c3-11ed-9641-0242ac1c000c\"]);\n",
              "//# sourceURL=js_5bfb2d2ccd"
            ]
          },
          "metadata": {}
        },
        {
          "output_type": "display_data",
          "data": {
            "text/plain": [
              "<IPython.core.display.Javascript object>"
            ],
            "application/javascript": [
              "window[\"d8252df0-b8c3-11ed-9641-0242ac1c000c\"] = google.colab.output.setActiveOutputArea(window[\"d802c5da-b8c3-11ed-9641-0242ac1c000c\"]);\n",
              "//# sourceURL=js_097c5e1bb4"
            ]
          },
          "metadata": {}
        },
        {
          "output_type": "display_data",
          "data": {
            "text/plain": [
              "<IPython.core.display.Javascript object>"
            ],
            "application/javascript": [
              "window[\"d8c0c79c-b8c3-11ed-9641-0242ac1c000c\"] = google.colab.output.getActiveOutputArea();\n",
              "//# sourceURL=js_8158e955bc"
            ]
          },
          "metadata": {}
        },
        {
          "output_type": "display_data",
          "data": {
            "text/plain": [
              "<IPython.core.display.Javascript object>"
            ],
            "application/javascript": [
              "window[\"d8c17e62-b8c3-11ed-9641-0242ac1c000c\"] = document.querySelector(\"#id10-0-0\");\n",
              "//# sourceURL=js_d50cf36755"
            ]
          },
          "metadata": {}
        },
        {
          "output_type": "display_data",
          "data": {
            "text/plain": [
              "<IPython.core.display.Javascript object>"
            ],
            "application/javascript": [
              "window[\"d8c2051c-b8c3-11ed-9641-0242ac1c000c\"] = google.colab.output.setActiveOutputArea(window[\"d8c17e62-b8c3-11ed-9641-0242ac1c000c\"]);\n",
              "//# sourceURL=js_0a4b18e6f9"
            ]
          },
          "metadata": {}
        },
        {
          "output_type": "display_data",
          "data": {
            "text/plain": [
              "<IPython.core.display.Javascript object>"
            ],
            "application/javascript": [
              "window[\"d8e3fba4-b8c3-11ed-9641-0242ac1c000c\"] = google.colab.output.setActiveOutputArea(window[\"d8c0c79c-b8c3-11ed-9641-0242ac1c000c\"]);\n",
              "//# sourceURL=js_325a8fbee2"
            ]
          },
          "metadata": {}
        },
        {
          "output_type": "display_data",
          "data": {
            "text/plain": [
              "<IPython.core.display.Javascript object>"
            ],
            "application/javascript": [
              "window[\"d97f3c7c-b8c3-11ed-9641-0242ac1c000c\"] = google.colab.output.getActiveOutputArea();\n",
              "//# sourceURL=js_a8ba2b927b"
            ]
          },
          "metadata": {}
        },
        {
          "output_type": "display_data",
          "data": {
            "text/plain": [
              "<IPython.core.display.Javascript object>"
            ],
            "application/javascript": [
              "window[\"d9801048-b8c3-11ed-9641-0242ac1c000c\"] = document.querySelector(\"#id10-0-0\");\n",
              "//# sourceURL=js_618c248ec0"
            ]
          },
          "metadata": {}
        },
        {
          "output_type": "display_data",
          "data": {
            "text/plain": [
              "<IPython.core.display.Javascript object>"
            ],
            "application/javascript": [
              "window[\"d9808384-b8c3-11ed-9641-0242ac1c000c\"] = google.colab.output.setActiveOutputArea(window[\"d9801048-b8c3-11ed-9641-0242ac1c000c\"]);\n",
              "//# sourceURL=js_bc38558f05"
            ]
          },
          "metadata": {}
        },
        {
          "output_type": "display_data",
          "data": {
            "text/plain": [
              "<IPython.core.display.Javascript object>"
            ],
            "application/javascript": [
              "window[\"d9cc039a-b8c3-11ed-9641-0242ac1c000c\"] = google.colab.output.setActiveOutputArea(window[\"d97f3c7c-b8c3-11ed-9641-0242ac1c000c\"]);\n",
              "//# sourceURL=js_0d4f47056f"
            ]
          },
          "metadata": {}
        },
        {
          "output_type": "display_data",
          "data": {
            "text/plain": [
              "<IPython.core.display.Javascript object>"
            ],
            "application/javascript": [
              "window[\"da67bf9c-b8c3-11ed-9641-0242ac1c000c\"] = google.colab.output.getActiveOutputArea();\n",
              "//# sourceURL=js_ab9f624829"
            ]
          },
          "metadata": {}
        },
        {
          "output_type": "display_data",
          "data": {
            "text/plain": [
              "<IPython.core.display.Javascript object>"
            ],
            "application/javascript": [
              "window[\"da686fa0-b8c3-11ed-9641-0242ac1c000c\"] = document.querySelector(\"#id10-0-0\");\n",
              "//# sourceURL=js_f022c46636"
            ]
          },
          "metadata": {}
        },
        {
          "output_type": "display_data",
          "data": {
            "text/plain": [
              "<IPython.core.display.Javascript object>"
            ],
            "application/javascript": [
              "window[\"da68e444-b8c3-11ed-9641-0242ac1c000c\"] = google.colab.output.setActiveOutputArea(window[\"da686fa0-b8c3-11ed-9641-0242ac1c000c\"]);\n",
              "//# sourceURL=js_0ad6a8d88b"
            ]
          },
          "metadata": {}
        },
        {
          "output_type": "display_data",
          "data": {
            "text/plain": [
              "<IPython.core.display.Javascript object>"
            ],
            "application/javascript": [
              "window[\"da8a4f6c-b8c3-11ed-9641-0242ac1c000c\"] = google.colab.output.setActiveOutputArea(window[\"da67bf9c-b8c3-11ed-9641-0242ac1c000c\"]);\n",
              "//# sourceURL=js_e0e1a68557"
            ]
          },
          "metadata": {}
        },
        {
          "output_type": "display_data",
          "data": {
            "text/plain": [
              "<IPython.core.display.Javascript object>"
            ],
            "application/javascript": [
              "window[\"db260092-b8c3-11ed-9641-0242ac1c000c\"] = google.colab.output.getActiveOutputArea();\n",
              "//# sourceURL=js_9e347a9006"
            ]
          },
          "metadata": {}
        },
        {
          "output_type": "display_data",
          "data": {
            "text/plain": [
              "<IPython.core.display.Javascript object>"
            ],
            "application/javascript": [
              "window[\"db2661b8-b8c3-11ed-9641-0242ac1c000c\"] = document.querySelector(\"#id10-0-0\");\n",
              "//# sourceURL=js_008cfcc44c"
            ]
          },
          "metadata": {}
        },
        {
          "output_type": "display_data",
          "data": {
            "text/plain": [
              "<IPython.core.display.Javascript object>"
            ],
            "application/javascript": [
              "window[\"db270ece-b8c3-11ed-9641-0242ac1c000c\"] = google.colab.output.setActiveOutputArea(window[\"db2661b8-b8c3-11ed-9641-0242ac1c000c\"]);\n",
              "//# sourceURL=js_6900693eb2"
            ]
          },
          "metadata": {}
        },
        {
          "output_type": "display_data",
          "data": {
            "text/plain": [
              "<IPython.core.display.Javascript object>"
            ],
            "application/javascript": [
              "window[\"db4b80c4-b8c3-11ed-9641-0242ac1c000c\"] = google.colab.output.setActiveOutputArea(window[\"db260092-b8c3-11ed-9641-0242ac1c000c\"]);\n",
              "//# sourceURL=js_c4b462ae0f"
            ]
          },
          "metadata": {}
        },
        {
          "output_type": "display_data",
          "data": {
            "text/plain": [
              "<IPython.core.display.Javascript object>"
            ],
            "application/javascript": [
              "window[\"dbe7fa44-b8c3-11ed-9641-0242ac1c000c\"] = google.colab.output.getActiveOutputArea();\n",
              "//# sourceURL=js_8641378048"
            ]
          },
          "metadata": {}
        },
        {
          "output_type": "display_data",
          "data": {
            "text/plain": [
              "<IPython.core.display.Javascript object>"
            ],
            "application/javascript": [
              "window[\"dbe87244-b8c3-11ed-9641-0242ac1c000c\"] = document.querySelector(\"#id10-0-0\");\n",
              "//# sourceURL=js_58c26895fe"
            ]
          },
          "metadata": {}
        },
        {
          "output_type": "display_data",
          "data": {
            "text/plain": [
              "<IPython.core.display.Javascript object>"
            ],
            "application/javascript": [
              "window[\"dbe8ec42-b8c3-11ed-9641-0242ac1c000c\"] = google.colab.output.setActiveOutputArea(window[\"dbe87244-b8c3-11ed-9641-0242ac1c000c\"]);\n",
              "//# sourceURL=js_e4f2b7ed9e"
            ]
          },
          "metadata": {}
        },
        {
          "output_type": "display_data",
          "data": {
            "text/plain": [
              "<IPython.core.display.Javascript object>"
            ],
            "application/javascript": [
              "window[\"dc0f1d54-b8c3-11ed-9641-0242ac1c000c\"] = google.colab.output.setActiveOutputArea(window[\"dbe7fa44-b8c3-11ed-9641-0242ac1c000c\"]);\n",
              "//# sourceURL=js_44e625320e"
            ]
          },
          "metadata": {}
        },
        {
          "output_type": "display_data",
          "data": {
            "text/plain": [
              "<IPython.core.display.Javascript object>"
            ],
            "application/javascript": [
              "window[\"dcaa963a-b8c3-11ed-9641-0242ac1c000c\"] = google.colab.output.getActiveOutputArea();\n",
              "//# sourceURL=js_de35d5d7ac"
            ]
          },
          "metadata": {}
        },
        {
          "output_type": "display_data",
          "data": {
            "text/plain": [
              "<IPython.core.display.Javascript object>"
            ],
            "application/javascript": [
              "window[\"dcab115a-b8c3-11ed-9641-0242ac1c000c\"] = document.querySelector(\"#id10-0-0\");\n",
              "//# sourceURL=js_230a4fba58"
            ]
          },
          "metadata": {}
        },
        {
          "output_type": "display_data",
          "data": {
            "text/plain": [
              "<IPython.core.display.Javascript object>"
            ],
            "application/javascript": [
              "window[\"dcab814e-b8c3-11ed-9641-0242ac1c000c\"] = google.colab.output.setActiveOutputArea(window[\"dcab115a-b8c3-11ed-9641-0242ac1c000c\"]);\n",
              "//# sourceURL=js_507c68a88d"
            ]
          },
          "metadata": {}
        },
        {
          "output_type": "stream",
          "name": "stdout",
          "text": [
            "Reward ->  0\n"
          ]
        },
        {
          "output_type": "display_data",
          "data": {
            "text/plain": [
              "<Figure size 432x288 with 1 Axes>"
            ],
            "image/png": "[encoded data removed]"
          },
          "metadata": {
            "needs_background": "light"
          }
        },
        {
          "output_type": "display_data",
          "data": {
            "text/plain": [
              "<IPython.core.display.Javascript object>"
            ],
            "application/javascript": [
              "window[\"dcce5520-b8c3-11ed-9641-0242ac1c000c\"] = google.colab.output.setActiveOutputArea(window[\"dcaa963a-b8c3-11ed-9641-0242ac1c000c\"]);\n",
              "//# sourceURL=js_b52026e898"
            ]
          },
          "metadata": {}
        }
      ]
    },
    {
      "cell_type": "markdown",
      "source": [
        "************************************************************************\n",
        "Stochastic Environment: "
      ],
      "metadata": {
        "id": "HsP4eebNZnk5"
      }
    },
    {
      "cell_type": "code",
      "source": [
        "env = GridEnv(env_type = \"stochastic\")\n",
        "agent = RandomAgent(env)\n",
        "\n",
        "obs, info = env.reset()\n",
        "terminated, truncated = False, False\n",
        "\n",
        "output_grid = widgets.Grid(1, 1)\n",
        "with output_grid.output_to(0, 0):\n",
        "  env.render()\n",
        "\n",
        "while not terminated:\n",
        "  action = agent.step(obs)\n",
        "  #action = input()\n",
        "  observation, reward, terminated, truncated, info, agent_pos = env.step(action)\n",
        "  with output_grid.output_to(0, 0):\n",
        "    output_grid.clear_cell()\n",
        "    plt.imshow(grid)\n",
        "    env.render()\n",
        "  time.sleep(1)"
      ],
      "metadata": {
        "id": "Xm6_yTZFDoO9",
        "colab": {
          "base_uri": "https://localhost:8080/",
          "height": 287
        },
        "outputId": "ac24673b-6d64-47c0-d7a2-cd9ca4801f55"
      },
      "execution_count": 36,
      "outputs": [
        {
          "output_type": "display_data",
          "data": {
            "text/plain": [
              "<IPython.core.display.HTML object>"
            ],
            "text/html": [
              "<style>\n",
              "       table#id12, #id12 > tbody > tr > th, #id12 > tbody > tr > td {\n",
              "         border: 1px solid lightgray;\n",
              "         border-collapse:collapse;\n",
              "         \n",
              "        }</style>"
            ]
          },
          "metadata": {}
        },
        {
          "output_type": "display_data",
          "data": {
            "text/plain": [
              "<IPython.core.display.HTML object>"
            ],
            "text/html": [
              "<table id=id12><tr><td id=id12-0-0></td></tr></table>"
            ]
          },
          "metadata": {}
        },
        {
          "output_type": "display_data",
          "data": {
            "text/plain": [
              "<IPython.core.display.Javascript object>"
            ],
            "application/javascript": [
              "window[\"de660ed2-b8c3-11ed-9641-0242ac1c000c\"] = google.colab.output.getActiveOutputArea();\n",
              "//# sourceURL=js_622ac58dd6"
            ]
          },
          "metadata": {}
        },
        {
          "output_type": "display_data",
          "data": {
            "text/plain": [
              "<IPython.core.display.Javascript object>"
            ],
            "application/javascript": [
              "window[\"de66f810-b8c3-11ed-9641-0242ac1c000c\"] = document.querySelector(\"#id12-0-0\");\n",
              "//# sourceURL=js_40ee462d91"
            ]
          },
          "metadata": {}
        },
        {
          "output_type": "display_data",
          "data": {
            "text/plain": [
              "<IPython.core.display.Javascript object>"
            ],
            "application/javascript": [
              "window[\"de6762a0-b8c3-11ed-9641-0242ac1c000c\"] = google.colab.output.setActiveOutputArea(window[\"de66f810-b8c3-11ed-9641-0242ac1c000c\"]);\n",
              "//# sourceURL=js_57160b69b9"
            ]
          },
          "metadata": {}
        },
        {
          "output_type": "display_data",
          "data": {
            "text/plain": [
              "<IPython.core.display.Javascript object>"
            ],
            "application/javascript": [
              "window[\"de88f6e0-b8c3-11ed-9641-0242ac1c000c\"] = google.colab.output.setActiveOutputArea(window[\"de660ed2-b8c3-11ed-9641-0242ac1c000c\"]);\n",
              "//# sourceURL=js_f9c82fcb91"
            ]
          },
          "metadata": {}
        },
        {
          "output_type": "display_data",
          "data": {
            "text/plain": [
              "<IPython.core.display.Javascript object>"
            ],
            "application/javascript": [
              "window[\"de8c2b4e-b8c3-11ed-9641-0242ac1c000c\"] = google.colab.output.getActiveOutputArea();\n",
              "//# sourceURL=js_ece11490a3"
            ]
          },
          "metadata": {}
        },
        {
          "output_type": "display_data",
          "data": {
            "text/plain": [
              "<IPython.core.display.Javascript object>"
            ],
            "application/javascript": [
              "window[\"de8cae34-b8c3-11ed-9641-0242ac1c000c\"] = document.querySelector(\"#id12-0-0\");\n",
              "//# sourceURL=js_80c34f9bf2"
            ]
          },
          "metadata": {}
        },
        {
          "output_type": "display_data",
          "data": {
            "text/plain": [
              "<IPython.core.display.Javascript object>"
            ],
            "application/javascript": [
              "window[\"de8d1fae-b8c3-11ed-9641-0242ac1c000c\"] = google.colab.output.setActiveOutputArea(window[\"de8cae34-b8c3-11ed-9641-0242ac1c000c\"]);\n",
              "//# sourceURL=js_30f60820c1"
            ]
          },
          "metadata": {}
        },
        {
          "output_type": "display_data",
          "data": {
            "text/plain": [
              "<IPython.core.display.Javascript object>"
            ],
            "application/javascript": [
              "window[\"deafe70a-b8c3-11ed-9641-0242ac1c000c\"] = google.colab.output.setActiveOutputArea(window[\"de8c2b4e-b8c3-11ed-9641-0242ac1c000c\"]);\n",
              "//# sourceURL=js_855f6e9ce2"
            ]
          },
          "metadata": {}
        },
        {
          "output_type": "display_data",
          "data": {
            "text/plain": [
              "<IPython.core.display.Javascript object>"
            ],
            "application/javascript": [
              "window[\"df4b84f8-b8c3-11ed-9641-0242ac1c000c\"] = google.colab.output.getActiveOutputArea();\n",
              "//# sourceURL=js_bd83cbae69"
            ]
          },
          "metadata": {}
        },
        {
          "output_type": "display_data",
          "data": {
            "text/plain": [
              "<IPython.core.display.Javascript object>"
            ],
            "application/javascript": [
              "window[\"df4c27fa-b8c3-11ed-9641-0242ac1c000c\"] = document.querySelector(\"#id12-0-0\");\n",
              "//# sourceURL=js_f84e114d98"
            ]
          },
          "metadata": {}
        },
        {
          "output_type": "display_data",
          "data": {
            "text/plain": [
              "<IPython.core.display.Javascript object>"
            ],
            "application/javascript": [
              "window[\"df4cb922-b8c3-11ed-9641-0242ac1c000c\"] = google.colab.output.setActiveOutputArea(window[\"df4c27fa-b8c3-11ed-9641-0242ac1c000c\"]);\n",
              "//# sourceURL=js_00b3f4c293"
            ]
          },
          "metadata": {}
        },
        {
          "output_type": "display_data",
          "data": {
            "text/plain": [
              "<IPython.core.display.Javascript object>"
            ],
            "application/javascript": [
              "window[\"df6ef370-b8c3-11ed-9641-0242ac1c000c\"] = google.colab.output.setActiveOutputArea(window[\"df4b84f8-b8c3-11ed-9641-0242ac1c000c\"]);\n",
              "//# sourceURL=js_386fd31add"
            ]
          },
          "metadata": {}
        },
        {
          "output_type": "display_data",
          "data": {
            "text/plain": [
              "<IPython.core.display.Javascript object>"
            ],
            "application/javascript": [
              "window[\"e00a7eda-b8c3-11ed-9641-0242ac1c000c\"] = google.colab.output.getActiveOutputArea();\n",
              "//# sourceURL=js_5e439b5157"
            ]
          },
          "metadata": {}
        },
        {
          "output_type": "display_data",
          "data": {
            "text/plain": [
              "<IPython.core.display.Javascript object>"
            ],
            "application/javascript": [
              "window[\"e00b0bb6-b8c3-11ed-9641-0242ac1c000c\"] = document.querySelector(\"#id12-0-0\");\n",
              "//# sourceURL=js_73345ff59e"
            ]
          },
          "metadata": {}
        },
        {
          "output_type": "display_data",
          "data": {
            "text/plain": [
              "<IPython.core.display.Javascript object>"
            ],
            "application/javascript": [
              "window[\"e00ba184-b8c3-11ed-9641-0242ac1c000c\"] = google.colab.output.setActiveOutputArea(window[\"e00b0bb6-b8c3-11ed-9641-0242ac1c000c\"]);\n",
              "//# sourceURL=js_758585eed3"
            ]
          },
          "metadata": {}
        },
        {
          "output_type": "display_data",
          "data": {
            "text/plain": [
              "<IPython.core.display.Javascript object>"
            ],
            "application/javascript": [
              "window[\"e02f3c2a-b8c3-11ed-9641-0242ac1c000c\"] = google.colab.output.setActiveOutputArea(window[\"e00a7eda-b8c3-11ed-9641-0242ac1c000c\"]);\n",
              "//# sourceURL=js_1060209357"
            ]
          },
          "metadata": {}
        },
        {
          "output_type": "display_data",
          "data": {
            "text/plain": [
              "<IPython.core.display.Javascript object>"
            ],
            "application/javascript": [
              "window[\"e0caf75a-b8c3-11ed-9641-0242ac1c000c\"] = google.colab.output.getActiveOutputArea();\n",
              "//# sourceURL=js_91a0b36c90"
            ]
          },
          "metadata": {}
        },
        {
          "output_type": "display_data",
          "data": {
            "text/plain": [
              "<IPython.core.display.Javascript object>"
            ],
            "application/javascript": [
              "window[\"e0cb9c28-b8c3-11ed-9641-0242ac1c000c\"] = document.querySelector(\"#id12-0-0\");\n",
              "//# sourceURL=js_822c2db551"
            ]
          },
          "metadata": {}
        },
        {
          "output_type": "display_data",
          "data": {
            "text/plain": [
              "<IPython.core.display.Javascript object>"
            ],
            "application/javascript": [
              "window[\"e0cc646e-b8c3-11ed-9641-0242ac1c000c\"] = google.colab.output.setActiveOutputArea(window[\"e0cb9c28-b8c3-11ed-9641-0242ac1c000c\"]);\n",
              "//# sourceURL=js_4937bee2e0"
            ]
          },
          "metadata": {}
        },
        {
          "output_type": "display_data",
          "data": {
            "text/plain": [
              "<IPython.core.display.Javascript object>"
            ],
            "application/javascript": [
              "window[\"e0eed7a6-b8c3-11ed-9641-0242ac1c000c\"] = google.colab.output.setActiveOutputArea(window[\"e0caf75a-b8c3-11ed-9641-0242ac1c000c\"]);\n",
              "//# sourceURL=js_39e53bdf9f"
            ]
          },
          "metadata": {}
        },
        {
          "output_type": "display_data",
          "data": {
            "text/plain": [
              "<IPython.core.display.Javascript object>"
            ],
            "application/javascript": [
              "window[\"e18a9e20-b8c3-11ed-9641-0242ac1c000c\"] = google.colab.output.getActiveOutputArea();\n",
              "//# sourceURL=js_edbb5f1ba3"
            ]
          },
          "metadata": {}
        },
        {
          "output_type": "display_data",
          "data": {
            "text/plain": [
              "<IPython.core.display.Javascript object>"
            ],
            "application/javascript": [
              "window[\"e18b21b0-b8c3-11ed-9641-0242ac1c000c\"] = document.querySelector(\"#id12-0-0\");\n",
              "//# sourceURL=js_7d24d1a62c"
            ]
          },
          "metadata": {}
        },
        {
          "output_type": "display_data",
          "data": {
            "text/plain": [
              "<IPython.core.display.Javascript object>"
            ],
            "application/javascript": [
              "window[\"e18bdbdc-b8c3-11ed-9641-0242ac1c000c\"] = google.colab.output.setActiveOutputArea(window[\"e18b21b0-b8c3-11ed-9641-0242ac1c000c\"]);\n",
              "//# sourceURL=js_6490f6b17b"
            ]
          },
          "metadata": {}
        },
        {
          "output_type": "display_data",
          "data": {
            "text/plain": [
              "<IPython.core.display.Javascript object>"
            ],
            "application/javascript": [
              "window[\"e1ada316-b8c3-11ed-9641-0242ac1c000c\"] = google.colab.output.setActiveOutputArea(window[\"e18a9e20-b8c3-11ed-9641-0242ac1c000c\"]);\n",
              "//# sourceURL=js_46c55b8df7"
            ]
          },
          "metadata": {}
        },
        {
          "output_type": "display_data",
          "data": {
            "text/plain": [
              "<IPython.core.display.Javascript object>"
            ],
            "application/javascript": [
              "window[\"e249304c-b8c3-11ed-9641-0242ac1c000c\"] = google.colab.output.getActiveOutputArea();\n",
              "//# sourceURL=js_90a8dc59a6"
            ]
          },
          "metadata": {}
        },
        {
          "output_type": "display_data",
          "data": {
            "text/plain": [
              "<IPython.core.display.Javascript object>"
            ],
            "application/javascript": [
              "window[\"e249f13a-b8c3-11ed-9641-0242ac1c000c\"] = document.querySelector(\"#id12-0-0\");\n",
              "//# sourceURL=js_6687c522f5"
            ]
          },
          "metadata": {}
        },
        {
          "output_type": "display_data",
          "data": {
            "text/plain": [
              "<IPython.core.display.Javascript object>"
            ],
            "application/javascript": [
              "window[\"e24a78c6-b8c3-11ed-9641-0242ac1c000c\"] = google.colab.output.setActiveOutputArea(window[\"e249f13a-b8c3-11ed-9641-0242ac1c000c\"]);\n",
              "//# sourceURL=js_84acf0e934"
            ]
          },
          "metadata": {}
        },
        {
          "output_type": "display_data",
          "data": {
            "text/plain": [
              "<IPython.core.display.Javascript object>"
            ],
            "application/javascript": [
              "window[\"e26c944c-b8c3-11ed-9641-0242ac1c000c\"] = google.colab.output.setActiveOutputArea(window[\"e249304c-b8c3-11ed-9641-0242ac1c000c\"]);\n",
              "//# sourceURL=js_f2d5da501d"
            ]
          },
          "metadata": {}
        },
        {
          "output_type": "display_data",
          "data": {
            "text/plain": [
              "<IPython.core.display.Javascript object>"
            ],
            "application/javascript": [
              "window[\"e3084bd0-b8c3-11ed-9641-0242ac1c000c\"] = google.colab.output.getActiveOutputArea();\n",
              "//# sourceURL=js_20bcee2de9"
            ]
          },
          "metadata": {}
        },
        {
          "output_type": "display_data",
          "data": {
            "text/plain": [
              "<IPython.core.display.Javascript object>"
            ],
            "application/javascript": [
              "window[\"e308c678-b8c3-11ed-9641-0242ac1c000c\"] = document.querySelector(\"#id12-0-0\");\n",
              "//# sourceURL=js_26063c894a"
            ]
          },
          "metadata": {}
        },
        {
          "output_type": "display_data",
          "data": {
            "text/plain": [
              "<IPython.core.display.Javascript object>"
            ],
            "application/javascript": [
              "window[\"e309a50c-b8c3-11ed-9641-0242ac1c000c\"] = google.colab.output.setActiveOutputArea(window[\"e308c678-b8c3-11ed-9641-0242ac1c000c\"]);\n",
              "//# sourceURL=js_e9341172ad"
            ]
          },
          "metadata": {}
        },
        {
          "output_type": "display_data",
          "data": {
            "text/plain": [
              "<IPython.core.display.Javascript object>"
            ],
            "application/javascript": [
              "window[\"e32bc8c6-b8c3-11ed-9641-0242ac1c000c\"] = google.colab.output.setActiveOutputArea(window[\"e3084bd0-b8c3-11ed-9641-0242ac1c000c\"]);\n",
              "//# sourceURL=js_56ab5d6eaf"
            ]
          },
          "metadata": {}
        },
        {
          "output_type": "display_data",
          "data": {
            "text/plain": [
              "<IPython.core.display.Javascript object>"
            ],
            "application/javascript": [
              "window[\"e3c7a8c2-b8c3-11ed-9641-0242ac1c000c\"] = google.colab.output.getActiveOutputArea();\n",
              "//# sourceURL=js_92d30c5049"
            ]
          },
          "metadata": {}
        },
        {
          "output_type": "display_data",
          "data": {
            "text/plain": [
              "<IPython.core.display.Javascript object>"
            ],
            "application/javascript": [
              "window[\"e3c8b8c0-b8c3-11ed-9641-0242ac1c000c\"] = document.querySelector(\"#id12-0-0\");\n",
              "//# sourceURL=js_f41269eff7"
            ]
          },
          "metadata": {}
        },
        {
          "output_type": "display_data",
          "data": {
            "text/plain": [
              "<IPython.core.display.Javascript object>"
            ],
            "application/javascript": [
              "window[\"e3c92292-b8c3-11ed-9641-0242ac1c000c\"] = google.colab.output.setActiveOutputArea(window[\"e3c8b8c0-b8c3-11ed-9641-0242ac1c000c\"]);\n",
              "//# sourceURL=js_190c1dc16f"
            ]
          },
          "metadata": {}
        },
        {
          "output_type": "display_data",
          "data": {
            "text/plain": [
              "<IPython.core.display.Javascript object>"
            ],
            "application/javascript": [
              "window[\"e3ebf7a4-b8c3-11ed-9641-0242ac1c000c\"] = google.colab.output.setActiveOutputArea(window[\"e3c7a8c2-b8c3-11ed-9641-0242ac1c000c\"]);\n",
              "//# sourceURL=js_0df3051701"
            ]
          },
          "metadata": {}
        },
        {
          "output_type": "display_data",
          "data": {
            "text/plain": [
              "<IPython.core.display.Javascript object>"
            ],
            "application/javascript": [
              "window[\"e4875fd2-b8c3-11ed-9641-0242ac1c000c\"] = google.colab.output.getActiveOutputArea();\n",
              "//# sourceURL=js_db421c1a0b"
            ]
          },
          "metadata": {}
        },
        {
          "output_type": "display_data",
          "data": {
            "text/plain": [
              "<IPython.core.display.Javascript object>"
            ],
            "application/javascript": [
              "window[\"e488462c-b8c3-11ed-9641-0242ac1c000c\"] = document.querySelector(\"#id12-0-0\");\n",
              "//# sourceURL=js_4660c71af1"
            ]
          },
          "metadata": {}
        },
        {
          "output_type": "display_data",
          "data": {
            "text/plain": [
              "<IPython.core.display.Javascript object>"
            ],
            "application/javascript": [
              "window[\"e488fe28-b8c3-11ed-9641-0242ac1c000c\"] = google.colab.output.setActiveOutputArea(window[\"e488462c-b8c3-11ed-9641-0242ac1c000c\"]);\n",
              "//# sourceURL=js_91f707104f"
            ]
          },
          "metadata": {}
        },
        {
          "output_type": "display_data",
          "data": {
            "text/plain": [
              "<IPython.core.display.Javascript object>"
            ],
            "application/javascript": [
              "window[\"e4badfa6-b8c3-11ed-9641-0242ac1c000c\"] = google.colab.output.setActiveOutputArea(window[\"e4875fd2-b8c3-11ed-9641-0242ac1c000c\"]);\n",
              "//# sourceURL=js_c2c2f0ae26"
            ]
          },
          "metadata": {}
        },
        {
          "output_type": "display_data",
          "data": {
            "text/plain": [
              "<IPython.core.display.Javascript object>"
            ],
            "application/javascript": [
              "window[\"e5565d00-b8c3-11ed-9641-0242ac1c000c\"] = google.colab.output.getActiveOutputArea();\n",
              "//# sourceURL=js_8cdf580c2a"
            ]
          },
          "metadata": {}
        },
        {
          "output_type": "display_data",
          "data": {
            "text/plain": [
              "<IPython.core.display.Javascript object>"
            ],
            "application/javascript": [
              "window[\"e556d0e6-b8c3-11ed-9641-0242ac1c000c\"] = document.querySelector(\"#id12-0-0\");\n",
              "//# sourceURL=js_b8bbf63a7c"
            ]
          },
          "metadata": {}
        },
        {
          "output_type": "display_data",
          "data": {
            "text/plain": [
              "<IPython.core.display.Javascript object>"
            ],
            "application/javascript": [
              "window[\"e5576bb4-b8c3-11ed-9641-0242ac1c000c\"] = google.colab.output.setActiveOutputArea(window[\"e556d0e6-b8c3-11ed-9641-0242ac1c000c\"]);\n",
              "//# sourceURL=js_ccc317d1c5"
            ]
          },
          "metadata": {}
        },
        {
          "output_type": "display_data",
          "data": {
            "text/plain": [
              "<IPython.core.display.Javascript object>"
            ],
            "application/javascript": [
              "window[\"e57f9468-b8c3-11ed-9641-0242ac1c000c\"] = google.colab.output.setActiveOutputArea(window[\"e5565d00-b8c3-11ed-9641-0242ac1c000c\"]);\n",
              "//# sourceURL=js_e9082f9a99"
            ]
          },
          "metadata": {}
        },
        {
          "output_type": "display_data",
          "data": {
            "text/plain": [
              "<IPython.core.display.Javascript object>"
            ],
            "application/javascript": [
              "window[\"e61af778-b8c3-11ed-9641-0242ac1c000c\"] = google.colab.output.getActiveOutputArea();\n",
              "//# sourceURL=js_1aa6311a1d"
            ]
          },
          "metadata": {}
        },
        {
          "output_type": "display_data",
          "data": {
            "text/plain": [
              "<IPython.core.display.Javascript object>"
            ],
            "application/javascript": [
              "window[\"e61b6b86-b8c3-11ed-9641-0242ac1c000c\"] = document.querySelector(\"#id12-0-0\");\n",
              "//# sourceURL=js_58f4433384"
            ]
          },
          "metadata": {}
        },
        {
          "output_type": "display_data",
          "data": {
            "text/plain": [
              "<IPython.core.display.Javascript object>"
            ],
            "application/javascript": [
              "window[\"e61cae7e-b8c3-11ed-9641-0242ac1c000c\"] = google.colab.output.setActiveOutputArea(window[\"e61b6b86-b8c3-11ed-9641-0242ac1c000c\"]);\n",
              "//# sourceURL=js_b662e0ed12"
            ]
          },
          "metadata": {}
        },
        {
          "output_type": "display_data",
          "data": {
            "text/plain": [
              "<IPython.core.display.Javascript object>"
            ],
            "application/javascript": [
              "window[\"e640e456-b8c3-11ed-9641-0242ac1c000c\"] = google.colab.output.setActiveOutputArea(window[\"e61af778-b8c3-11ed-9641-0242ac1c000c\"]);\n",
              "//# sourceURL=js_bcfc6d9ed6"
            ]
          },
          "metadata": {}
        },
        {
          "output_type": "display_data",
          "data": {
            "text/plain": [
              "<IPython.core.display.Javascript object>"
            ],
            "application/javascript": [
              "window[\"e6dcd140-b8c3-11ed-9641-0242ac1c000c\"] = google.colab.output.getActiveOutputArea();\n",
              "//# sourceURL=js_078e1fac54"
            ]
          },
          "metadata": {}
        },
        {
          "output_type": "display_data",
          "data": {
            "text/plain": [
              "<IPython.core.display.Javascript object>"
            ],
            "application/javascript": [
              "window[\"e6dd43e6-b8c3-11ed-9641-0242ac1c000c\"] = document.querySelector(\"#id12-0-0\");\n",
              "//# sourceURL=js_c20a09b655"
            ]
          },
          "metadata": {}
        },
        {
          "output_type": "display_data",
          "data": {
            "text/plain": [
              "<IPython.core.display.Javascript object>"
            ],
            "application/javascript": [
              "window[\"e6ddd70c-b8c3-11ed-9641-0242ac1c000c\"] = google.colab.output.setActiveOutputArea(window[\"e6dd43e6-b8c3-11ed-9641-0242ac1c000c\"]);\n",
              "//# sourceURL=js_9f612bf359"
            ]
          },
          "metadata": {}
        },
        {
          "output_type": "display_data",
          "data": {
            "text/plain": [
              "<IPython.core.display.Javascript object>"
            ],
            "application/javascript": [
              "window[\"e6fefb1c-b8c3-11ed-9641-0242ac1c000c\"] = google.colab.output.setActiveOutputArea(window[\"e6dcd140-b8c3-11ed-9641-0242ac1c000c\"]);\n",
              "//# sourceURL=js_186b33b059"
            ]
          },
          "metadata": {}
        },
        {
          "output_type": "display_data",
          "data": {
            "text/plain": [
              "<IPython.core.display.Javascript object>"
            ],
            "application/javascript": [
              "window[\"e79a65de-b8c3-11ed-9641-0242ac1c000c\"] = google.colab.output.getActiveOutputArea();\n",
              "//# sourceURL=js_0b315ae68c"
            ]
          },
          "metadata": {}
        },
        {
          "output_type": "display_data",
          "data": {
            "text/plain": [
              "<IPython.core.display.Javascript object>"
            ],
            "application/javascript": [
              "window[\"e79ad5c8-b8c3-11ed-9641-0242ac1c000c\"] = document.querySelector(\"#id12-0-0\");\n",
              "//# sourceURL=js_c643a38ae7"
            ]
          },
          "metadata": {}
        },
        {
          "output_type": "display_data",
          "data": {
            "text/plain": [
              "<IPython.core.display.Javascript object>"
            ],
            "application/javascript": [
              "window[\"e79babd8-b8c3-11ed-9641-0242ac1c000c\"] = google.colab.output.setActiveOutputArea(window[\"e79ad5c8-b8c3-11ed-9641-0242ac1c000c\"]);\n",
              "//# sourceURL=js_3a04a5b6c8"
            ]
          },
          "metadata": {}
        },
        {
          "output_type": "display_data",
          "data": {
            "text/plain": [
              "<IPython.core.display.Javascript object>"
            ],
            "application/javascript": [
              "window[\"e7c18dee-b8c3-11ed-9641-0242ac1c000c\"] = google.colab.output.setActiveOutputArea(window[\"e79a65de-b8c3-11ed-9641-0242ac1c000c\"]);\n",
              "//# sourceURL=js_46d678bd86"
            ]
          },
          "metadata": {}
        },
        {
          "output_type": "display_data",
          "data": {
            "text/plain": [
              "<IPython.core.display.Javascript object>"
            ],
            "application/javascript": [
              "window[\"e85d3582-b8c3-11ed-9641-0242ac1c000c\"] = google.colab.output.getActiveOutputArea();\n",
              "//# sourceURL=js_9c5c79e115"
            ]
          },
          "metadata": {}
        },
        {
          "output_type": "display_data",
          "data": {
            "text/plain": [
              "<IPython.core.display.Javascript object>"
            ],
            "application/javascript": [
              "window[\"e85e1448-b8c3-11ed-9641-0242ac1c000c\"] = document.querySelector(\"#id12-0-0\");\n",
              "//# sourceURL=js_7d49e3d352"
            ]
          },
          "metadata": {}
        },
        {
          "output_type": "display_data",
          "data": {
            "text/plain": [
              "<IPython.core.display.Javascript object>"
            ],
            "application/javascript": [
              "window[\"e85eafe8-b8c3-11ed-9641-0242ac1c000c\"] = google.colab.output.setActiveOutputArea(window[\"e85e1448-b8c3-11ed-9641-0242ac1c000c\"]);\n",
              "//# sourceURL=js_5b8e053f3d"
            ]
          },
          "metadata": {}
        },
        {
          "output_type": "display_data",
          "data": {
            "text/plain": [
              "<IPython.core.display.Javascript object>"
            ],
            "application/javascript": [
              "window[\"e880ccb8-b8c3-11ed-9641-0242ac1c000c\"] = google.colab.output.setActiveOutputArea(window[\"e85d3582-b8c3-11ed-9641-0242ac1c000c\"]);\n",
              "//# sourceURL=js_d1caf885ef"
            ]
          },
          "metadata": {}
        },
        {
          "output_type": "display_data",
          "data": {
            "text/plain": [
              "<IPython.core.display.Javascript object>"
            ],
            "application/javascript": [
              "window[\"e91cb4a2-b8c3-11ed-9641-0242ac1c000c\"] = google.colab.output.getActiveOutputArea();\n",
              "//# sourceURL=js_577db75f6b"
            ]
          },
          "metadata": {}
        },
        {
          "output_type": "display_data",
          "data": {
            "text/plain": [
              "<IPython.core.display.Javascript object>"
            ],
            "application/javascript": [
              "window[\"e91d3b20-b8c3-11ed-9641-0242ac1c000c\"] = document.querySelector(\"#id12-0-0\");\n",
              "//# sourceURL=js_9ea7255512"
            ]
          },
          "metadata": {}
        },
        {
          "output_type": "display_data",
          "data": {
            "text/plain": [
              "<IPython.core.display.Javascript object>"
            ],
            "application/javascript": [
              "window[\"e91dad12-b8c3-11ed-9641-0242ac1c000c\"] = google.colab.output.setActiveOutputArea(window[\"e91d3b20-b8c3-11ed-9641-0242ac1c000c\"]);\n",
              "//# sourceURL=js_e82c66fa37"
            ]
          },
          "metadata": {}
        },
        {
          "output_type": "stream",
          "name": "stdout",
          "text": [
            "Reward ->  0\n"
          ]
        },
        {
          "output_type": "display_data",
          "data": {
            "text/plain": [
              "<Figure size 432x288 with 1 Axes>"
            ],
            "image/png": "[encoded data removed]"
          },
          "metadata": {
            "needs_background": "light"
          }
        },
        {
          "output_type": "display_data",
          "data": {
            "text/plain": [
              "<IPython.core.display.Javascript object>"
            ],
            "application/javascript": [
              "window[\"e940c676-b8c3-11ed-9641-0242ac1c000c\"] = google.colab.output.setActiveOutputArea(window[\"e91cb4a2-b8c3-11ed-9641-0242ac1c000c\"]);\n",
              "//# sourceURL=js_8b44314853"
            ]
          },
          "metadata": {}
        }
      ]
    },
    {
      "cell_type": "markdown",
      "source": [
        "**Q-Learning**"
      ],
      "metadata": {
        "id": "Ne9h1cG_QyAL"
      }
    },
    {
      "cell_type": "code",
      "source": [
        "import random\n",
        "from IPython.display import clear_output\n",
        "\n",
        "env = GridEnv(env_type = \"deterministic\")\n",
        "agent = RandomAgent(env)\n",
        "\n",
        "# Hyperparameters\n",
        "alpha = 0.15\n",
        "gamma = 0.93\n",
        "epsilon = 1.0\n",
        "num_episodes = 500\n",
        "\n",
        "# For plotting metrics\n",
        "all_epochs = []\n",
        "all_penalties = []\n",
        "\n",
        "#Q-Table\n",
        "q_table = np.random.rand(25, 4)\n",
        "q_table = q_table.astype(int)\n",
        "\n",
        "\n",
        "# num_rows = 5\n",
        "# num_cols = 5\n",
        "\n",
        "# state_to_index = {}\n",
        "# for i in range(num_rows):\n",
        "#     for j in range(num_cols):\n",
        "#         state = (i, j)\n",
        "#         index = i * num_cols + j\n",
        "#         state_to_index[state] = index\n",
        "\n",
        "# print(state_to_index)\n",
        "\n",
        "#running for 1000 episodes\n",
        "for episode in range(1000):\n",
        "  #resetting the state \n",
        "  state, agent_pos = env.reset()\n",
        "  # print(agent_pos)\n",
        "  epochs = 0\n",
        "  penalties = 0\n",
        "  reward = 0\n",
        "\n",
        "  index \n",
        "  state_to_list = state.tolist()\n",
        "  if 1 in state_to_list:\n",
        "    index = state_to_list.index(1)\n",
        "  # print(index)\n",
        "  \n",
        "  for timestep in range(20):\n",
        "    # print(\"agent_pos\", agent_pos)\n",
        "    # agent_pos = agent_pos.ravel()\n",
        "    # agent_pos = agent_pos.astype(int)\n",
        "    # index = state_to_index[(agent_pos[0], agent_pos[1])]\n",
        "    #Choosing an action based on e-greedy policy\n",
        "    # print(\"agent_pos \", agent_pos, \"index \", index)\n",
        "    if np.random.rand() < epsilon:\n",
        "      action = np.random.choice(env.action_space.n)\n",
        "    else:\n",
        "      action = np.argmax(q_table[index])\n",
        "\n",
        "    action = np.clip(action, 0, 3)\n",
        "    # print(action)\n",
        "    observation, reward, terminated, truncated, info, new_agent_pos = env.step(action)\n",
        "\n",
        "    # print(observation)\n",
        "\n",
        "    new_state_to_list = observation.tolist()\n",
        "    if 1 in new_state_to_list:\n",
        "      index2 = new_state_to_list.index(1)\n",
        "    # print(index2)\n",
        "\n",
        "    # print(is_present)\n",
        "    # index2 = np.where(observation == 1)\n",
        "    # print(index2)\n",
        "\n",
        "    # next_st = observation.ravel()\n",
        "    # next_st = next_st.astype(int)\n",
        "\n",
        "    # print(epsilon)\n",
        "\n",
        "    q_table[index, action] = q_table[index, action] + alpha * (reward + gamma * np.max(q_table[index2]) - q_table[index, action])\n",
        "    # # q_table[agent_pos, action] = new_value\n",
        "\n",
        "    # if reward == -5 or reward == -6 or reward == -2:\n",
        "    #   penalties += 1\n",
        "    \n",
        "    # agent_pos = new_agent_pos\n",
        "    # epochs += 1\n",
        "  epsilon *= 0.995\n",
        "  # print(epsilon)\n",
        "\n",
        "print(\"Q-Table : \", q_table)"
      ],
      "metadata": {
        "id": "Ro6Mvhxxjdbs",
        "outputId": "ad057170-969f-4565-e671-8d3b28144694",
        "colab": {
          "base_uri": "https://localhost:8080/"
        }
      },
      "execution_count": 37,
      "outputs": [
        {
          "output_type": "stream",
          "name": "stdout",
          "text": [
            "Q-Table :  [[ 149   31   32   59]\n",
            " [  50   13   29    2]\n",
            " [  23   20   20   18]\n",
            " [   0   18   15   10]\n",
            " [ 476  249  280  283]\n",
            " [ 171   42   49   85]\n",
            " [  25   24   23   21]\n",
            " [  68   20   69   13]\n",
            " [  37   39   32   21]\n",
            " [ 406  267  482  236]\n",
            " [   0    0    0    0]\n",
            " [  24   38   32   35]\n",
            " [  41   31   67   23]\n",
            " [   4  116  249    3]\n",
            " [1081  722  939  600]\n",
            " [ 339  279  471  238]\n",
            " [  67   42   92   17]\n",
            " [ 648  379  175   76]\n",
            " [ 682  405  602  546]\n",
            " [1117  932 1115  930]\n",
            " [ 278  234  377  249]\n",
            " [ 620  429  923  487]\n",
            " [ 728  585  665  531]\n",
            " [1179  984 1236 1005]\n",
            " [   0    0    0    0]]\n"
          ]
        }
      ]
    },
    {
      "cell_type": "code",
      "source": [
        "env = GridEnv(env_type = \"deterministic\")\n",
        "agent = RandomAgent(env)\n",
        "\n",
        "obs, info = env.reset()\n",
        "terminated, truncated = False, False\n",
        "\n",
        "output_grid = widgets.Grid(1, 1)\n",
        "with output_grid.output_to(0, 0):\n",
        "  env.render()\n",
        "\n",
        "# q_table = q_table.tolist()\n",
        "\n",
        "# print(q_table)\n",
        "# max_indices = q_table.argmax(axis=1)\n",
        "# print(max_indices)\n",
        "# for sub_arr in q_table:\n",
        "#   # max_indices = sub_arr.index[max(sub_arr)]\n",
        "#   # print(max_indices)\n",
        "#   max_val = max(sub_arr)\n",
        "#   print(type(max_val))\n",
        "\n",
        "def get_max_val(arg):\n",
        "  return max(arg)\n",
        "  \n",
        "for i in q_table:\n",
        "  max_val = get_max_val(i)\n",
        "  max_index = i.index(max_val)\n",
        "  # print(max_index)\n",
        "  observation, reward, terminated, truncated, info, agent_pos = env.step(max_index)\n",
        "  # observation, reward, terminated, truncated, info, agent_pos = env.step(action)\n",
        "  with output_grid.output_to(0, 0):\n",
        "    output_grid.clear_cell()\n",
        "    plt.imshow(grid)\n",
        "    env.render()\n",
        "  time.sleep(1)\n",
        "\n",
        "  "
      ],
      "metadata": {
        "colab": {
          "base_uri": "https://localhost:8080/",
          "height": 733
        },
        "id": "yO6PQTYjA-4s",
        "outputId": "530519cf-34a1-4a3f-b66d-740ec86133fd"
      },
      "execution_count": 80,
      "outputs": [
        {
          "output_type": "display_data",
          "data": {
            "text/plain": [
              "<IPython.core.display.HTML object>"
            ],
            "text/html": [
              "<style>\n",
              "       table#id94, #id94 > tbody > tr > th, #id94 > tbody > tr > td {\n",
              "         border: 1px solid lightgray;\n",
              "         border-collapse:collapse;\n",
              "         \n",
              "        }</style>"
            ]
          },
          "metadata": {}
        },
        {
          "output_type": "display_data",
          "data": {
            "text/plain": [
              "<IPython.core.display.HTML object>"
            ],
            "text/html": [
              "<table id=id94><tr><td id=id94-0-0></td></tr></table>"
            ]
          },
          "metadata": {}
        },
        {
          "output_type": "display_data",
          "data": {
            "text/plain": [
              "<IPython.core.display.Javascript object>"
            ],
            "application/javascript": [
              "window[\"fa56d82e-b8c8-11ed-9641-0242ac1c000c\"] = google.colab.output.getActiveOutputArea();\n",
              "//# sourceURL=js_e361c1fff3"
            ]
          },
          "metadata": {}
        },
        {
          "output_type": "display_data",
          "data": {
            "text/plain": [
              "<IPython.core.display.Javascript object>"
            ],
            "application/javascript": [
              "window[\"fa57eb6a-b8c8-11ed-9641-0242ac1c000c\"] = document.querySelector(\"#id94-0-0\");\n",
              "//# sourceURL=js_0d5d3d2d93"
            ]
          },
          "metadata": {}
        },
        {
          "output_type": "display_data",
          "data": {
            "text/plain": [
              "<IPython.core.display.Javascript object>"
            ],
            "application/javascript": [
              "window[\"fa59491a-b8c8-11ed-9641-0242ac1c000c\"] = google.colab.output.setActiveOutputArea(window[\"fa57eb6a-b8c8-11ed-9641-0242ac1c000c\"]);\n",
              "//# sourceURL=js_b706b3d554"
            ]
          },
          "metadata": {}
        },
        {
          "output_type": "display_data",
          "data": {
            "text/plain": [
              "<IPython.core.display.Javascript object>"
            ],
            "application/javascript": [
              "window[\"fa9168d6-b8c8-11ed-9641-0242ac1c000c\"] = google.colab.output.setActiveOutputArea(window[\"fa56d82e-b8c8-11ed-9641-0242ac1c000c\"]);\n",
              "//# sourceURL=js_bbd80d2ae4"
            ]
          },
          "metadata": {}
        },
        {
          "output_type": "stream",
          "name": "stdout",
          "text": [
            "action 0\n"
          ]
        },
        {
          "output_type": "display_data",
          "data": {
            "text/plain": [
              "<IPython.core.display.Javascript object>"
            ],
            "application/javascript": [
              "window[\"fa9aabf8-b8c8-11ed-9641-0242ac1c000c\"] = google.colab.output.getActiveOutputArea();\n",
              "//# sourceURL=js_b93118a096"
            ]
          },
          "metadata": {}
        },
        {
          "output_type": "display_data",
          "data": {
            "text/plain": [
              "<IPython.core.display.Javascript object>"
            ],
            "application/javascript": [
              "window[\"fa9b775e-b8c8-11ed-9641-0242ac1c000c\"] = document.querySelector(\"#id94-0-0\");\n",
              "//# sourceURL=js_5c09efab73"
            ]
          },
          "metadata": {}
        },
        {
          "output_type": "display_data",
          "data": {
            "text/plain": [
              "<IPython.core.display.Javascript object>"
            ],
            "application/javascript": [
              "window[\"fa9c3fcc-b8c8-11ed-9641-0242ac1c000c\"] = google.colab.output.setActiveOutputArea(window[\"fa9b775e-b8c8-11ed-9641-0242ac1c000c\"]);\n",
              "//# sourceURL=js_aad95d5b3d"
            ]
          },
          "metadata": {}
        },
        {
          "output_type": "display_data",
          "data": {
            "text/plain": [
              "<IPython.core.display.Javascript object>"
            ],
            "application/javascript": [
              "window[\"faea5f5e-b8c8-11ed-9641-0242ac1c000c\"] = google.colab.output.setActiveOutputArea(window[\"fa9aabf8-b8c8-11ed-9641-0242ac1c000c\"]);\n",
              "//# sourceURL=js_966364551f"
            ]
          },
          "metadata": {}
        },
        {
          "output_type": "stream",
          "name": "stdout",
          "text": [
            "action 0\n"
          ]
        },
        {
          "output_type": "display_data",
          "data": {
            "text/plain": [
              "<IPython.core.display.Javascript object>"
            ],
            "application/javascript": [
              "window[\"fb8867b2-b8c8-11ed-9641-0242ac1c000c\"] = google.colab.output.getActiveOutputArea();\n",
              "//# sourceURL=js_3a87a88ebe"
            ]
          },
          "metadata": {}
        },
        {
          "output_type": "display_data",
          "data": {
            "text/plain": [
              "<IPython.core.display.Javascript object>"
            ],
            "application/javascript": [
              "window[\"fb89c3be-b8c8-11ed-9641-0242ac1c000c\"] = document.querySelector(\"#id94-0-0\");\n",
              "//# sourceURL=js_cc4d107454"
            ]
          },
          "metadata": {}
        },
        {
          "output_type": "display_data",
          "data": {
            "text/plain": [
              "<IPython.core.display.Javascript object>"
            ],
            "application/javascript": [
              "window[\"fb8b072e-b8c8-11ed-9641-0242ac1c000c\"] = google.colab.output.setActiveOutputArea(window[\"fb89c3be-b8c8-11ed-9641-0242ac1c000c\"]);\n",
              "//# sourceURL=js_d0a260c87a"
            ]
          },
          "metadata": {}
        },
        {
          "output_type": "display_data",
          "data": {
            "text/plain": [
              "<IPython.core.display.Javascript object>"
            ],
            "application/javascript": [
              "window[\"fbd7ba6a-b8c8-11ed-9641-0242ac1c000c\"] = google.colab.output.setActiveOutputArea(window[\"fb8867b2-b8c8-11ed-9641-0242ac1c000c\"]);\n",
              "//# sourceURL=js_deac0a8677"
            ]
          },
          "metadata": {}
        },
        {
          "output_type": "stream",
          "name": "stdout",
          "text": [
            "action 0\n"
          ]
        },
        {
          "output_type": "display_data",
          "data": {
            "text/plain": [
              "<IPython.core.display.Javascript object>"
            ],
            "application/javascript": [
              "window[\"fc78fd62-b8c8-11ed-9641-0242ac1c000c\"] = google.colab.output.getActiveOutputArea();\n",
              "//# sourceURL=js_debde44f33"
            ]
          },
          "metadata": {}
        },
        {
          "output_type": "display_data",
          "data": {
            "text/plain": [
              "<IPython.core.display.Javascript object>"
            ],
            "application/javascript": [
              "window[\"fc7b245c-b8c8-11ed-9641-0242ac1c000c\"] = document.querySelector(\"#id94-0-0\");\n",
              "//# sourceURL=js_71487ef7dc"
            ]
          },
          "metadata": {}
        },
        {
          "output_type": "display_data",
          "data": {
            "text/plain": [
              "<IPython.core.display.Javascript object>"
            ],
            "application/javascript": [
              "window[\"fc7ca6f6-b8c8-11ed-9641-0242ac1c000c\"] = google.colab.output.setActiveOutputArea(window[\"fc7b245c-b8c8-11ed-9641-0242ac1c000c\"]);\n",
              "//# sourceURL=js_8200eb705c"
            ]
          },
          "metadata": {}
        },
        {
          "output_type": "display_data",
          "data": {
            "text/plain": [
              "<IPython.core.display.Javascript object>"
            ],
            "application/javascript": [
              "window[\"fcb4809e-b8c8-11ed-9641-0242ac1c000c\"] = google.colab.output.setActiveOutputArea(window[\"fc78fd62-b8c8-11ed-9641-0242ac1c000c\"]);\n",
              "//# sourceURL=js_3496b86dfb"
            ]
          },
          "metadata": {}
        },
        {
          "output_type": "stream",
          "name": "stdout",
          "text": [
            "action 1\n"
          ]
        },
        {
          "output_type": "display_data",
          "data": {
            "text/plain": [
              "<IPython.core.display.Javascript object>"
            ],
            "application/javascript": [
              "window[\"fd50bb76-b8c8-11ed-9641-0242ac1c000c\"] = google.colab.output.getActiveOutputArea();\n",
              "//# sourceURL=js_948c61df93"
            ]
          },
          "metadata": {}
        },
        {
          "output_type": "display_data",
          "data": {
            "text/plain": [
              "<IPython.core.display.Javascript object>"
            ],
            "application/javascript": [
              "window[\"fd516a76-b8c8-11ed-9641-0242ac1c000c\"] = document.querySelector(\"#id94-0-0\");\n",
              "//# sourceURL=js_206155e114"
            ]
          },
          "metadata": {}
        },
        {
          "output_type": "display_data",
          "data": {
            "text/plain": [
              "<IPython.core.display.Javascript object>"
            ],
            "application/javascript": [
              "window[\"fd51f52c-b8c8-11ed-9641-0242ac1c000c\"] = google.colab.output.setActiveOutputArea(window[\"fd516a76-b8c8-11ed-9641-0242ac1c000c\"]);\n",
              "//# sourceURL=js_01a8d41182"
            ]
          },
          "metadata": {}
        },
        {
          "output_type": "display_data",
          "data": {
            "text/plain": [
              "<IPython.core.display.Javascript object>"
            ],
            "application/javascript": [
              "window[\"fd71ba2e-b8c8-11ed-9641-0242ac1c000c\"] = google.colab.output.setActiveOutputArea(window[\"fd50bb76-b8c8-11ed-9641-0242ac1c000c\"]);\n",
              "//# sourceURL=js_8e2fc92a7a"
            ]
          },
          "metadata": {}
        },
        {
          "output_type": "stream",
          "name": "stdout",
          "text": [
            "action 0\n"
          ]
        },
        {
          "output_type": "display_data",
          "data": {
            "text/plain": [
              "<IPython.core.display.Javascript object>"
            ],
            "application/javascript": [
              "window[\"fe0dc144-b8c8-11ed-9641-0242ac1c000c\"] = google.colab.output.getActiveOutputArea();\n",
              "//# sourceURL=js_04d93e0dcc"
            ]
          },
          "metadata": {}
        },
        {
          "output_type": "display_data",
          "data": {
            "text/plain": [
              "<IPython.core.display.Javascript object>"
            ],
            "application/javascript": [
              "window[\"fe0e3516-b8c8-11ed-9641-0242ac1c000c\"] = document.querySelector(\"#id94-0-0\");\n",
              "//# sourceURL=js_5e161c121d"
            ]
          },
          "metadata": {}
        },
        {
          "output_type": "display_data",
          "data": {
            "text/plain": [
              "<IPython.core.display.Javascript object>"
            ],
            "application/javascript": [
              "window[\"fe0eebe6-b8c8-11ed-9641-0242ac1c000c\"] = google.colab.output.setActiveOutputArea(window[\"fe0e3516-b8c8-11ed-9641-0242ac1c000c\"]);\n",
              "//# sourceURL=js_07fcc6dfbf"
            ]
          },
          "metadata": {}
        },
        {
          "output_type": "display_data",
          "data": {
            "text/plain": [
              "<IPython.core.display.Javascript object>"
            ],
            "application/javascript": [
              "window[\"fe505004-b8c8-11ed-9641-0242ac1c000c\"] = google.colab.output.setActiveOutputArea(window[\"fe0dc144-b8c8-11ed-9641-0242ac1c000c\"]);\n",
              "//# sourceURL=js_391317d1af"
            ]
          },
          "metadata": {}
        },
        {
          "output_type": "stream",
          "name": "stdout",
          "text": [
            "action 0\n"
          ]
        },
        {
          "output_type": "display_data",
          "data": {
            "text/plain": [
              "<IPython.core.display.Javascript object>"
            ],
            "application/javascript": [
              "window[\"feeee23c-b8c8-11ed-9641-0242ac1c000c\"] = google.colab.output.getActiveOutputArea();\n",
              "//# sourceURL=js_27761886aa"
            ]
          },
          "metadata": {}
        },
        {
          "output_type": "display_data",
          "data": {
            "text/plain": [
              "<IPython.core.display.Javascript object>"
            ],
            "application/javascript": [
              "window[\"feef51b8-b8c8-11ed-9641-0242ac1c000c\"] = document.querySelector(\"#id94-0-0\");\n",
              "//# sourceURL=js_1344536017"
            ]
          },
          "metadata": {}
        },
        {
          "output_type": "display_data",
          "data": {
            "text/plain": [
              "<IPython.core.display.Javascript object>"
            ],
            "application/javascript": [
              "window[\"feefdf16-b8c8-11ed-9641-0242ac1c000c\"] = google.colab.output.setActiveOutputArea(window[\"feef51b8-b8c8-11ed-9641-0242ac1c000c\"]);\n",
              "//# sourceURL=js_411f317794"
            ]
          },
          "metadata": {}
        },
        {
          "output_type": "display_data",
          "data": {
            "text/plain": [
              "<IPython.core.display.Javascript object>"
            ],
            "application/javascript": [
              "window[\"ff164124-b8c8-11ed-9641-0242ac1c000c\"] = google.colab.output.setActiveOutputArea(window[\"feeee23c-b8c8-11ed-9641-0242ac1c000c\"]);\n",
              "//# sourceURL=js_f354c9fd7c"
            ]
          },
          "metadata": {}
        },
        {
          "output_type": "stream",
          "name": "stdout",
          "text": [
            "action 0\n"
          ]
        },
        {
          "output_type": "display_data",
          "data": {
            "text/plain": [
              "<IPython.core.display.Javascript object>"
            ],
            "application/javascript": [
              "window[\"ffb215fe-b8c8-11ed-9641-0242ac1c000c\"] = google.colab.output.getActiveOutputArea();\n",
              "//# sourceURL=js_c60e44ca6e"
            ]
          },
          "metadata": {}
        },
        {
          "output_type": "display_data",
          "data": {
            "text/plain": [
              "<IPython.core.display.Javascript object>"
            ],
            "application/javascript": [
              "window[\"ffb302fc-b8c8-11ed-9641-0242ac1c000c\"] = document.querySelector(\"#id94-0-0\");\n",
              "//# sourceURL=js_fb288cb12a"
            ]
          },
          "metadata": {}
        },
        {
          "output_type": "display_data",
          "data": {
            "text/plain": [
              "<IPython.core.display.Javascript object>"
            ],
            "application/javascript": [
              "window[\"ffb37660-b8c8-11ed-9641-0242ac1c000c\"] = google.colab.output.setActiveOutputArea(window[\"ffb302fc-b8c8-11ed-9641-0242ac1c000c\"]);\n",
              "//# sourceURL=js_339135cbd2"
            ]
          },
          "metadata": {}
        },
        {
          "output_type": "display_data",
          "data": {
            "text/plain": [
              "<IPython.core.display.Javascript object>"
            ],
            "application/javascript": [
              "window[\"ffe7aa7a-b8c8-11ed-9641-0242ac1c000c\"] = google.colab.output.setActiveOutputArea(window[\"ffb215fe-b8c8-11ed-9641-0242ac1c000c\"]);\n",
              "//# sourceURL=js_cbecbe4b11"
            ]
          },
          "metadata": {}
        },
        {
          "output_type": "stream",
          "name": "stdout",
          "text": [
            "action 2\n"
          ]
        },
        {
          "output_type": "display_data",
          "data": {
            "text/plain": [
              "<IPython.core.display.Javascript object>"
            ],
            "application/javascript": [
              "window[\"0083aec0-b8c9-11ed-9641-0242ac1c000c\"] = google.colab.output.getActiveOutputArea();\n",
              "//# sourceURL=js_c025b26e62"
            ]
          },
          "metadata": {}
        },
        {
          "output_type": "display_data",
          "data": {
            "text/plain": [
              "<IPython.core.display.Javascript object>"
            ],
            "application/javascript": [
              "window[\"008481a6-b8c9-11ed-9641-0242ac1c000c\"] = document.querySelector(\"#id94-0-0\");\n",
              "//# sourceURL=js_aeb0329a3f"
            ]
          },
          "metadata": {}
        },
        {
          "output_type": "display_data",
          "data": {
            "text/plain": [
              "<IPython.core.display.Javascript object>"
            ],
            "application/javascript": [
              "window[\"0085423a-b8c9-11ed-9641-0242ac1c000c\"] = google.colab.output.setActiveOutputArea(window[\"008481a6-b8c9-11ed-9641-0242ac1c000c\"]);\n",
              "//# sourceURL=js_43abbb57f7"
            ]
          },
          "metadata": {}
        },
        {
          "output_type": "display_data",
          "data": {
            "text/plain": [
              "<IPython.core.display.Javascript object>"
            ],
            "application/javascript": [
              "window[\"00b64902-b8c9-11ed-9641-0242ac1c000c\"] = google.colab.output.setActiveOutputArea(window[\"0083aec0-b8c9-11ed-9641-0242ac1c000c\"]);\n",
              "//# sourceURL=js_dda2c5ffc2"
            ]
          },
          "metadata": {}
        },
        {
          "output_type": "stream",
          "name": "stdout",
          "text": [
            "action 1\n"
          ]
        },
        {
          "output_type": "display_data",
          "data": {
            "text/plain": [
              "<IPython.core.display.Javascript object>"
            ],
            "application/javascript": [
              "window[\"0152fab8-b8c9-11ed-9641-0242ac1c000c\"] = google.colab.output.getActiveOutputArea();\n",
              "//# sourceURL=js_d0f9eaaf0f"
            ]
          },
          "metadata": {}
        },
        {
          "output_type": "display_data",
          "data": {
            "text/plain": [
              "<IPython.core.display.Javascript object>"
            ],
            "application/javascript": [
              "window[\"0153a2ec-b8c9-11ed-9641-0242ac1c000c\"] = document.querySelector(\"#id94-0-0\");\n",
              "//# sourceURL=js_1aae49de29"
            ]
          },
          "metadata": {}
        },
        {
          "output_type": "display_data",
          "data": {
            "text/plain": [
              "<IPython.core.display.Javascript object>"
            ],
            "application/javascript": [
              "window[\"01544f30-b8c9-11ed-9641-0242ac1c000c\"] = google.colab.output.setActiveOutputArea(window[\"0153a2ec-b8c9-11ed-9641-0242ac1c000c\"]);\n",
              "//# sourceURL=js_c9f9b84c53"
            ]
          },
          "metadata": {}
        },
        {
          "output_type": "display_data",
          "data": {
            "text/plain": [
              "<IPython.core.display.Javascript object>"
            ],
            "application/javascript": [
              "window[\"017834cc-b8c9-11ed-9641-0242ac1c000c\"] = google.colab.output.setActiveOutputArea(window[\"0152fab8-b8c9-11ed-9641-0242ac1c000c\"]);\n",
              "//# sourceURL=js_be4b8981d9"
            ]
          },
          "metadata": {}
        },
        {
          "output_type": "stream",
          "name": "stdout",
          "text": [
            "action 2\n"
          ]
        },
        {
          "output_type": "display_data",
          "data": {
            "text/plain": [
              "<IPython.core.display.Javascript object>"
            ],
            "application/javascript": [
              "window[\"021464e6-b8c9-11ed-9641-0242ac1c000c\"] = google.colab.output.getActiveOutputArea();\n",
              "//# sourceURL=js_19cffae2cf"
            ]
          },
          "metadata": {}
        },
        {
          "output_type": "display_data",
          "data": {
            "text/plain": [
              "<IPython.core.display.Javascript object>"
            ],
            "application/javascript": [
              "window[\"02151ad0-b8c9-11ed-9641-0242ac1c000c\"] = document.querySelector(\"#id94-0-0\");\n",
              "//# sourceURL=js_b0df5365ea"
            ]
          },
          "metadata": {}
        },
        {
          "output_type": "display_data",
          "data": {
            "text/plain": [
              "<IPython.core.display.Javascript object>"
            ],
            "application/javascript": [
              "window[\"02159e88-b8c9-11ed-9641-0242ac1c000c\"] = google.colab.output.setActiveOutputArea(window[\"02151ad0-b8c9-11ed-9641-0242ac1c000c\"]);\n",
              "//# sourceURL=js_19b829079e"
            ]
          },
          "metadata": {}
        },
        {
          "output_type": "display_data",
          "data": {
            "text/plain": [
              "<IPython.core.display.Javascript object>"
            ],
            "application/javascript": [
              "window[\"02368706-b8c9-11ed-9641-0242ac1c000c\"] = google.colab.output.setActiveOutputArea(window[\"021464e6-b8c9-11ed-9641-0242ac1c000c\"]);\n",
              "//# sourceURL=js_d2958216b8"
            ]
          },
          "metadata": {}
        },
        {
          "output_type": "stream",
          "name": "stdout",
          "text": [
            "action 0\n"
          ]
        },
        {
          "output_type": "display_data",
          "data": {
            "text/plain": [
              "<IPython.core.display.Javascript object>"
            ],
            "application/javascript": [
              "window[\"02d2251c-b8c9-11ed-9641-0242ac1c000c\"] = google.colab.output.getActiveOutputArea();\n",
              "//# sourceURL=js_ce9746da58"
            ]
          },
          "metadata": {}
        },
        {
          "output_type": "display_data",
          "data": {
            "text/plain": [
              "<IPython.core.display.Javascript object>"
            ],
            "application/javascript": [
              "window[\"02d28f66-b8c9-11ed-9641-0242ac1c000c\"] = document.querySelector(\"#id94-0-0\");\n",
              "//# sourceURL=js_ab00571b43"
            ]
          },
          "metadata": {}
        },
        {
          "output_type": "display_data",
          "data": {
            "text/plain": [
              "<IPython.core.display.Javascript object>"
            ],
            "application/javascript": [
              "window[\"02d2f24e-b8c9-11ed-9641-0242ac1c000c\"] = google.colab.output.setActiveOutputArea(window[\"02d28f66-b8c9-11ed-9641-0242ac1c000c\"]);\n",
              "//# sourceURL=js_805a00c572"
            ]
          },
          "metadata": {}
        },
        {
          "output_type": "display_data",
          "data": {
            "text/plain": [
              "<IPython.core.display.Javascript object>"
            ],
            "application/javascript": [
              "window[\"02f5f870-b8c9-11ed-9641-0242ac1c000c\"] = google.colab.output.setActiveOutputArea(window[\"02d2251c-b8c9-11ed-9641-0242ac1c000c\"]);\n",
              "//# sourceURL=js_cbf2511c1a"
            ]
          },
          "metadata": {}
        },
        {
          "output_type": "stream",
          "name": "stdout",
          "text": [
            "action 1\n"
          ]
        },
        {
          "output_type": "display_data",
          "data": {
            "text/plain": [
              "<IPython.core.display.Javascript object>"
            ],
            "application/javascript": [
              "window[\"039301b0-b8c9-11ed-9641-0242ac1c000c\"] = google.colab.output.getActiveOutputArea();\n",
              "//# sourceURL=js_39c1430f70"
            ]
          },
          "metadata": {}
        },
        {
          "output_type": "display_data",
          "data": {
            "text/plain": [
              "<IPython.core.display.Javascript object>"
            ],
            "application/javascript": [
              "window[\"0393717c-b8c9-11ed-9641-0242ac1c000c\"] = document.querySelector(\"#id94-0-0\");\n",
              "//# sourceURL=js_2b7915b973"
            ]
          },
          "metadata": {}
        },
        {
          "output_type": "display_data",
          "data": {
            "text/plain": [
              "<IPython.core.display.Javascript object>"
            ],
            "application/javascript": [
              "window[\"0393f78c-b8c9-11ed-9641-0242ac1c000c\"] = google.colab.output.setActiveOutputArea(window[\"0393717c-b8c9-11ed-9641-0242ac1c000c\"]);\n",
              "//# sourceURL=js_51d1d1ceb7"
            ]
          },
          "metadata": {}
        },
        {
          "output_type": "display_data",
          "data": {
            "text/plain": [
              "<IPython.core.display.Javascript object>"
            ],
            "application/javascript": [
              "window[\"03b6714a-b8c9-11ed-9641-0242ac1c000c\"] = google.colab.output.setActiveOutputArea(window[\"039301b0-b8c9-11ed-9641-0242ac1c000c\"]);\n",
              "//# sourceURL=js_287258a6f3"
            ]
          },
          "metadata": {}
        },
        {
          "output_type": "stream",
          "name": "stdout",
          "text": [
            "action 2\n"
          ]
        },
        {
          "output_type": "display_data",
          "data": {
            "text/plain": [
              "<IPython.core.display.Javascript object>"
            ],
            "application/javascript": [
              "window[\"0452ba46-b8c9-11ed-9641-0242ac1c000c\"] = google.colab.output.getActiveOutputArea();\n",
              "//# sourceURL=js_306ae53939"
            ]
          },
          "metadata": {}
        },
        {
          "output_type": "display_data",
          "data": {
            "text/plain": [
              "<IPython.core.display.Javascript object>"
            ],
            "application/javascript": [
              "window[\"04532990-b8c9-11ed-9641-0242ac1c000c\"] = document.querySelector(\"#id94-0-0\");\n",
              "//# sourceURL=js_e681a11b37"
            ]
          },
          "metadata": {}
        },
        {
          "output_type": "display_data",
          "data": {
            "text/plain": [
              "<IPython.core.display.Javascript object>"
            ],
            "application/javascript": [
              "window[\"0453ae60-b8c9-11ed-9641-0242ac1c000c\"] = google.colab.output.setActiveOutputArea(window[\"04532990-b8c9-11ed-9641-0242ac1c000c\"]);\n",
              "//# sourceURL=js_efe9e2a98e"
            ]
          },
          "metadata": {}
        },
        {
          "output_type": "display_data",
          "data": {
            "text/plain": [
              "<IPython.core.display.Javascript object>"
            ],
            "application/javascript": [
              "window[\"04824478-b8c9-11ed-9641-0242ac1c000c\"] = google.colab.output.setActiveOutputArea(window[\"0452ba46-b8c9-11ed-9641-0242ac1c000c\"]);\n",
              "//# sourceURL=js_50e4f42e83"
            ]
          },
          "metadata": {}
        },
        {
          "output_type": "stream",
          "name": "stdout",
          "text": [
            "action 2\n"
          ]
        },
        {
          "output_type": "display_data",
          "data": {
            "text/plain": [
              "<IPython.core.display.Javascript object>"
            ],
            "application/javascript": [
              "window[\"051f7c3e-b8c9-11ed-9641-0242ac1c000c\"] = google.colab.output.getActiveOutputArea();\n",
              "//# sourceURL=js_2971fd91a1"
            ]
          },
          "metadata": {}
        },
        {
          "output_type": "display_data",
          "data": {
            "text/plain": [
              "<IPython.core.display.Javascript object>"
            ],
            "application/javascript": [
              "window[\"0520154a-b8c9-11ed-9641-0242ac1c000c\"] = document.querySelector(\"#id94-0-0\");\n",
              "//# sourceURL=js_1fb2c69dbc"
            ]
          },
          "metadata": {}
        },
        {
          "output_type": "display_data",
          "data": {
            "text/plain": [
              "<IPython.core.display.Javascript object>"
            ],
            "application/javascript": [
              "window[\"05208b60-b8c9-11ed-9641-0242ac1c000c\"] = google.colab.output.setActiveOutputArea(window[\"0520154a-b8c9-11ed-9641-0242ac1c000c\"]);\n",
              "//# sourceURL=js_d48b97e9d0"
            ]
          },
          "metadata": {}
        },
        {
          "output_type": "display_data",
          "data": {
            "text/plain": [
              "<IPython.core.display.Javascript object>"
            ],
            "application/javascript": [
              "window[\"05432c9c-b8c9-11ed-9641-0242ac1c000c\"] = google.colab.output.setActiveOutputArea(window[\"051f7c3e-b8c9-11ed-9641-0242ac1c000c\"]);\n",
              "//# sourceURL=js_211451dc4f"
            ]
          },
          "metadata": {}
        },
        {
          "output_type": "stream",
          "name": "stdout",
          "text": [
            "action 0\n"
          ]
        },
        {
          "output_type": "display_data",
          "data": {
            "text/plain": [
              "<IPython.core.display.Javascript object>"
            ],
            "application/javascript": [
              "window[\"05de9e70-b8c9-11ed-9641-0242ac1c000c\"] = google.colab.output.getActiveOutputArea();\n",
              "//# sourceURL=js_898343a590"
            ]
          },
          "metadata": {}
        },
        {
          "output_type": "display_data",
          "data": {
            "text/plain": [
              "<IPython.core.display.Javascript object>"
            ],
            "application/javascript": [
              "window[\"05df4e56-b8c9-11ed-9641-0242ac1c000c\"] = document.querySelector(\"#id94-0-0\");\n",
              "//# sourceURL=js_21df546877"
            ]
          },
          "metadata": {}
        },
        {
          "output_type": "display_data",
          "data": {
            "text/plain": [
              "<IPython.core.display.Javascript object>"
            ],
            "application/javascript": [
              "window[\"05dff842-b8c9-11ed-9641-0242ac1c000c\"] = google.colab.output.setActiveOutputArea(window[\"05df4e56-b8c9-11ed-9641-0242ac1c000c\"]);\n",
              "//# sourceURL=js_d2032141fd"
            ]
          },
          "metadata": {}
        },
        {
          "output_type": "display_data",
          "data": {
            "text/plain": [
              "<IPython.core.display.Javascript object>"
            ],
            "application/javascript": [
              "window[\"0601dca0-b8c9-11ed-9641-0242ac1c000c\"] = google.colab.output.setActiveOutputArea(window[\"05de9e70-b8c9-11ed-9641-0242ac1c000c\"]);\n",
              "//# sourceURL=js_a5497c073c"
            ]
          },
          "metadata": {}
        },
        {
          "output_type": "stream",
          "name": "stdout",
          "text": [
            "action 2\n"
          ]
        },
        {
          "output_type": "display_data",
          "data": {
            "text/plain": [
              "<IPython.core.display.Javascript object>"
            ],
            "application/javascript": [
              "window[\"069d6d0a-b8c9-11ed-9641-0242ac1c000c\"] = google.colab.output.getActiveOutputArea();\n",
              "//# sourceURL=js_bd8f80e7b5"
            ]
          },
          "metadata": {}
        },
        {
          "output_type": "display_data",
          "data": {
            "text/plain": [
              "<IPython.core.display.Javascript object>"
            ],
            "application/javascript": [
              "window[\"069de136-b8c9-11ed-9641-0242ac1c000c\"] = document.querySelector(\"#id94-0-0\");\n",
              "//# sourceURL=js_db032eeedb"
            ]
          },
          "metadata": {}
        },
        {
          "output_type": "display_data",
          "data": {
            "text/plain": [
              "<IPython.core.display.Javascript object>"
            ],
            "application/javascript": [
              "window[\"069e4c66-b8c9-11ed-9641-0242ac1c000c\"] = google.colab.output.setActiveOutputArea(window[\"069de136-b8c9-11ed-9641-0242ac1c000c\"]);\n",
              "//# sourceURL=js_4ec4f8e389"
            ]
          },
          "metadata": {}
        },
        {
          "output_type": "display_data",
          "data": {
            "text/plain": [
              "<IPython.core.display.Javascript object>"
            ],
            "application/javascript": [
              "window[\"06bff9ba-b8c9-11ed-9641-0242ac1c000c\"] = google.colab.output.setActiveOutputArea(window[\"069d6d0a-b8c9-11ed-9641-0242ac1c000c\"]);\n",
              "//# sourceURL=js_6d65d6b8c8"
            ]
          },
          "metadata": {}
        },
        {
          "output_type": "stream",
          "name": "stdout",
          "text": [
            "action 2\n"
          ]
        },
        {
          "output_type": "display_data",
          "data": {
            "text/plain": [
              "<IPython.core.display.Javascript object>"
            ],
            "application/javascript": [
              "window[\"075bdbdc-b8c9-11ed-9641-0242ac1c000c\"] = google.colab.output.getActiveOutputArea();\n",
              "//# sourceURL=js_dc7cede21f"
            ]
          },
          "metadata": {}
        },
        {
          "output_type": "display_data",
          "data": {
            "text/plain": [
              "<IPython.core.display.Javascript object>"
            ],
            "application/javascript": [
              "window[\"075c62be-b8c9-11ed-9641-0242ac1c000c\"] = document.querySelector(\"#id94-0-0\");\n",
              "//# sourceURL=js_0207a288bb"
            ]
          },
          "metadata": {}
        },
        {
          "output_type": "display_data",
          "data": {
            "text/plain": [
              "<IPython.core.display.Javascript object>"
            ],
            "application/javascript": [
              "window[\"075cfd46-b8c9-11ed-9641-0242ac1c000c\"] = google.colab.output.setActiveOutputArea(window[\"075c62be-b8c9-11ed-9641-0242ac1c000c\"]);\n",
              "//# sourceURL=js_e8ff365873"
            ]
          },
          "metadata": {}
        },
        {
          "output_type": "display_data",
          "data": {
            "text/plain": [
              "<IPython.core.display.Javascript object>"
            ],
            "application/javascript": [
              "window[\"078f96e8-b8c9-11ed-9641-0242ac1c000c\"] = google.colab.output.setActiveOutputArea(window[\"075bdbdc-b8c9-11ed-9641-0242ac1c000c\"]);\n",
              "//# sourceURL=js_4572a084dd"
            ]
          },
          "metadata": {}
        },
        {
          "output_type": "stream",
          "name": "stdout",
          "text": [
            "action 0\n"
          ]
        },
        {
          "output_type": "display_data",
          "data": {
            "text/plain": [
              "<IPython.core.display.Javascript object>"
            ],
            "application/javascript": [
              "window[\"082ba506-b8c9-11ed-9641-0242ac1c000c\"] = google.colab.output.getActiveOutputArea();\n",
              "//# sourceURL=js_1a710d1bff"
            ]
          },
          "metadata": {}
        },
        {
          "output_type": "display_data",
          "data": {
            "text/plain": [
              "<IPython.core.display.Javascript object>"
            ],
            "application/javascript": [
              "window[\"082c6b12-b8c9-11ed-9641-0242ac1c000c\"] = document.querySelector(\"#id94-0-0\");\n",
              "//# sourceURL=js_3b8f9c36a9"
            ]
          },
          "metadata": {}
        },
        {
          "output_type": "display_data",
          "data": {
            "text/plain": [
              "<IPython.core.display.Javascript object>"
            ],
            "application/javascript": [
              "window[\"082cf9a6-b8c9-11ed-9641-0242ac1c000c\"] = google.colab.output.setActiveOutputArea(window[\"082c6b12-b8c9-11ed-9641-0242ac1c000c\"]);\n",
              "//# sourceURL=js_c55519bfa7"
            ]
          },
          "metadata": {}
        },
        {
          "output_type": "display_data",
          "data": {
            "text/plain": [
              "<IPython.core.display.Javascript object>"
            ],
            "application/javascript": [
              "window[\"08516b74-b8c9-11ed-9641-0242ac1c000c\"] = google.colab.output.setActiveOutputArea(window[\"082ba506-b8c9-11ed-9641-0242ac1c000c\"]);\n",
              "//# sourceURL=js_2c9fad299a"
            ]
          },
          "metadata": {}
        },
        {
          "output_type": "stream",
          "name": "stdout",
          "text": [
            "action 0\n"
          ]
        },
        {
          "output_type": "display_data",
          "data": {
            "text/plain": [
              "<IPython.core.display.Javascript object>"
            ],
            "application/javascript": [
              "window[\"08edeed6-b8c9-11ed-9641-0242ac1c000c\"] = google.colab.output.getActiveOutputArea();\n",
              "//# sourceURL=js_03562d00b6"
            ]
          },
          "metadata": {}
        },
        {
          "output_type": "display_data",
          "data": {
            "text/plain": [
              "<IPython.core.display.Javascript object>"
            ],
            "application/javascript": [
              "window[\"08ee96b0-b8c9-11ed-9641-0242ac1c000c\"] = document.querySelector(\"#id94-0-0\");\n",
              "//# sourceURL=js_411cdaaa10"
            ]
          },
          "metadata": {}
        },
        {
          "output_type": "display_data",
          "data": {
            "text/plain": [
              "<IPython.core.display.Javascript object>"
            ],
            "application/javascript": [
              "window[\"08ef1cc0-b8c9-11ed-9641-0242ac1c000c\"] = google.colab.output.setActiveOutputArea(window[\"08ee96b0-b8c9-11ed-9641-0242ac1c000c\"]);\n",
              "//# sourceURL=js_2ed62e8e19"
            ]
          },
          "metadata": {}
        },
        {
          "output_type": "display_data",
          "data": {
            "text/plain": [
              "<IPython.core.display.Javascript object>"
            ],
            "application/javascript": [
              "window[\"0913ffcc-b8c9-11ed-9641-0242ac1c000c\"] = google.colab.output.setActiveOutputArea(window[\"08edeed6-b8c9-11ed-9641-0242ac1c000c\"]);\n",
              "//# sourceURL=js_d785e65a3b"
            ]
          },
          "metadata": {}
        },
        {
          "output_type": "stream",
          "name": "stdout",
          "text": [
            "action 0\n"
          ]
        },
        {
          "output_type": "display_data",
          "data": {
            "text/plain": [
              "<IPython.core.display.Javascript object>"
            ],
            "application/javascript": [
              "window[\"09b14ebc-b8c9-11ed-9641-0242ac1c000c\"] = google.colab.output.getActiveOutputArea();\n",
              "//# sourceURL=js_b804d4c5f5"
            ]
          },
          "metadata": {}
        },
        {
          "output_type": "display_data",
          "data": {
            "text/plain": [
              "<IPython.core.display.Javascript object>"
            ],
            "application/javascript": [
              "window[\"09b1d666-b8c9-11ed-9641-0242ac1c000c\"] = document.querySelector(\"#id94-0-0\");\n",
              "//# sourceURL=js_6af4fd7b3d"
            ]
          },
          "metadata": {}
        },
        {
          "output_type": "display_data",
          "data": {
            "text/plain": [
              "<IPython.core.display.Javascript object>"
            ],
            "application/javascript": [
              "window[\"09b2429a-b8c9-11ed-9641-0242ac1c000c\"] = google.colab.output.setActiveOutputArea(window[\"09b1d666-b8c9-11ed-9641-0242ac1c000c\"]);\n",
              "//# sourceURL=js_c2964c2255"
            ]
          },
          "metadata": {}
        },
        {
          "output_type": "display_data",
          "data": {
            "text/plain": [
              "<IPython.core.display.Javascript object>"
            ],
            "application/javascript": [
              "window[\"09d4e7be-b8c9-11ed-9641-0242ac1c000c\"] = google.colab.output.setActiveOutputArea(window[\"09b14ebc-b8c9-11ed-9641-0242ac1c000c\"]);\n",
              "//# sourceURL=js_f7b1a2ec5a"
            ]
          },
          "metadata": {}
        },
        {
          "output_type": "stream",
          "name": "stdout",
          "text": [
            "action 2\n"
          ]
        },
        {
          "output_type": "display_data",
          "data": {
            "text/plain": [
              "<IPython.core.display.Javascript object>"
            ],
            "application/javascript": [
              "window[\"0a715ad6-b8c9-11ed-9641-0242ac1c000c\"] = google.colab.output.getActiveOutputArea();\n",
              "//# sourceURL=js_f2b644b4f4"
            ]
          },
          "metadata": {}
        },
        {
          "output_type": "display_data",
          "data": {
            "text/plain": [
              "<IPython.core.display.Javascript object>"
            ],
            "application/javascript": [
              "window[\"0a71cb74-b8c9-11ed-9641-0242ac1c000c\"] = document.querySelector(\"#id94-0-0\");\n",
              "//# sourceURL=js_03722ed98d"
            ]
          },
          "metadata": {}
        },
        {
          "output_type": "display_data",
          "data": {
            "text/plain": [
              "<IPython.core.display.Javascript object>"
            ],
            "application/javascript": [
              "window[\"0a726f7a-b8c9-11ed-9641-0242ac1c000c\"] = google.colab.output.setActiveOutputArea(window[\"0a71cb74-b8c9-11ed-9641-0242ac1c000c\"]);\n",
              "//# sourceURL=js_5e3ce264d2"
            ]
          },
          "metadata": {}
        },
        {
          "output_type": "display_data",
          "data": {
            "text/plain": [
              "<IPython.core.display.Javascript object>"
            ],
            "application/javascript": [
              "window[\"0a95cb50-b8c9-11ed-9641-0242ac1c000c\"] = google.colab.output.setActiveOutputArea(window[\"0a715ad6-b8c9-11ed-9641-0242ac1c000c\"]);\n",
              "//# sourceURL=js_9057a74502"
            ]
          },
          "metadata": {}
        },
        {
          "output_type": "stream",
          "name": "stdout",
          "text": [
            "action 2\n"
          ]
        },
        {
          "output_type": "display_data",
          "data": {
            "text/plain": [
              "<IPython.core.display.Javascript object>"
            ],
            "application/javascript": [
              "window[\"0b31a6f6-b8c9-11ed-9641-0242ac1c000c\"] = google.colab.output.getActiveOutputArea();\n",
              "//# sourceURL=js_3a2fea01d5"
            ]
          },
          "metadata": {}
        },
        {
          "output_type": "display_data",
          "data": {
            "text/plain": [
              "<IPython.core.display.Javascript object>"
            ],
            "application/javascript": [
              "window[\"0b324818-b8c9-11ed-9641-0242ac1c000c\"] = document.querySelector(\"#id94-0-0\");\n",
              "//# sourceURL=js_46f27450b0"
            ]
          },
          "metadata": {}
        },
        {
          "output_type": "display_data",
          "data": {
            "text/plain": [
              "<IPython.core.display.Javascript object>"
            ],
            "application/javascript": [
              "window[\"0b32f830-b8c9-11ed-9641-0242ac1c000c\"] = google.colab.output.setActiveOutputArea(window[\"0b324818-b8c9-11ed-9641-0242ac1c000c\"]);\n",
              "//# sourceURL=js_4fa545b2d7"
            ]
          },
          "metadata": {}
        },
        {
          "output_type": "display_data",
          "data": {
            "text/plain": [
              "<IPython.core.display.Javascript object>"
            ],
            "application/javascript": [
              "window[\"0b5525c2-b8c9-11ed-9641-0242ac1c000c\"] = google.colab.output.setActiveOutputArea(window[\"0b31a6f6-b8c9-11ed-9641-0242ac1c000c\"]);\n",
              "//# sourceURL=js_5a25d53d32"
            ]
          },
          "metadata": {}
        },
        {
          "output_type": "stream",
          "name": "stdout",
          "text": [
            "action 0\n"
          ]
        },
        {
          "output_type": "display_data",
          "data": {
            "text/plain": [
              "<IPython.core.display.Javascript object>"
            ],
            "application/javascript": [
              "window[\"0bf14b50-b8c9-11ed-9641-0242ac1c000c\"] = google.colab.output.getActiveOutputArea();\n",
              "//# sourceURL=js_a767745dbb"
            ]
          },
          "metadata": {}
        },
        {
          "output_type": "display_data",
          "data": {
            "text/plain": [
              "<IPython.core.display.Javascript object>"
            ],
            "application/javascript": [
              "window[\"0bf1d778-b8c9-11ed-9641-0242ac1c000c\"] = document.querySelector(\"#id94-0-0\");\n",
              "//# sourceURL=js_936ab72666"
            ]
          },
          "metadata": {}
        },
        {
          "output_type": "display_data",
          "data": {
            "text/plain": [
              "<IPython.core.display.Javascript object>"
            ],
            "application/javascript": [
              "window[\"0bf25266-b8c9-11ed-9641-0242ac1c000c\"] = google.colab.output.setActiveOutputArea(window[\"0bf1d778-b8c9-11ed-9641-0242ac1c000c\"]);\n",
              "//# sourceURL=js_9d65efa566"
            ]
          },
          "metadata": {}
        },
        {
          "output_type": "display_data",
          "data": {
            "text/plain": [
              "<IPython.core.display.Javascript object>"
            ],
            "application/javascript": [
              "window[\"0c158ae2-b8c9-11ed-9641-0242ac1c000c\"] = google.colab.output.setActiveOutputArea(window[\"0bf14b50-b8c9-11ed-9641-0242ac1c000c\"]);\n",
              "//# sourceURL=js_08fb4eb635"
            ]
          },
          "metadata": {}
        },
        {
          "output_type": "stream",
          "name": "stdout",
          "text": [
            "action 2\n"
          ]
        },
        {
          "output_type": "display_data",
          "data": {
            "text/plain": [
              "<IPython.core.display.Javascript object>"
            ],
            "application/javascript": [
              "window[\"0cb0f27a-b8c9-11ed-9641-0242ac1c000c\"] = google.colab.output.getActiveOutputArea();\n",
              "//# sourceURL=js_6810d00d42"
            ]
          },
          "metadata": {}
        },
        {
          "output_type": "display_data",
          "data": {
            "text/plain": [
              "<IPython.core.display.Javascript object>"
            ],
            "application/javascript": [
              "window[\"0cb1b02a-b8c9-11ed-9641-0242ac1c000c\"] = document.querySelector(\"#id94-0-0\");\n",
              "//# sourceURL=js_91dc363960"
            ]
          },
          "metadata": {}
        },
        {
          "output_type": "display_data",
          "data": {
            "text/plain": [
              "<IPython.core.display.Javascript object>"
            ],
            "application/javascript": [
              "window[\"0cb29f26-b8c9-11ed-9641-0242ac1c000c\"] = google.colab.output.setActiveOutputArea(window[\"0cb1b02a-b8c9-11ed-9641-0242ac1c000c\"]);\n",
              "//# sourceURL=js_c3b42c3951"
            ]
          },
          "metadata": {}
        },
        {
          "output_type": "display_data",
          "data": {
            "text/plain": [
              "<IPython.core.display.Javascript object>"
            ],
            "application/javascript": [
              "window[\"0cd3d132-b8c9-11ed-9641-0242ac1c000c\"] = google.colab.output.setActiveOutputArea(window[\"0cb0f27a-b8c9-11ed-9641-0242ac1c000c\"]);\n",
              "//# sourceURL=js_075fdbf9a4"
            ]
          },
          "metadata": {}
        },
        {
          "output_type": "stream",
          "name": "stdout",
          "text": [
            "action 0\n"
          ]
        },
        {
          "output_type": "display_data",
          "data": {
            "text/plain": [
              "<IPython.core.display.Javascript object>"
            ],
            "application/javascript": [
              "window[\"0d701ae2-b8c9-11ed-9641-0242ac1c000c\"] = google.colab.output.getActiveOutputArea();\n",
              "//# sourceURL=js_00b8fe8b7e"
            ]
          },
          "metadata": {}
        },
        {
          "output_type": "display_data",
          "data": {
            "text/plain": [
              "<IPython.core.display.Javascript object>"
            ],
            "application/javascript": [
              "window[\"0d7099d6-b8c9-11ed-9641-0242ac1c000c\"] = document.querySelector(\"#id94-0-0\");\n",
              "//# sourceURL=js_b6a8f7ffdb"
            ]
          },
          "metadata": {}
        },
        {
          "output_type": "display_data",
          "data": {
            "text/plain": [
              "<IPython.core.display.Javascript object>"
            ],
            "application/javascript": [
              "window[\"0d710e98-b8c9-11ed-9641-0242ac1c000c\"] = google.colab.output.setActiveOutputArea(window[\"0d7099d6-b8c9-11ed-9641-0242ac1c000c\"]);\n",
              "//# sourceURL=js_e45e8abd4e"
            ]
          },
          "metadata": {}
        },
        {
          "output_type": "stream",
          "name": "stdout",
          "text": [
            "Reward ->  100\n"
          ]
        },
        {
          "output_type": "display_data",
          "data": {
            "text/plain": [
              "<Figure size 432x288 with 1 Axes>"
            ],
            "image/png": "[encoded data removed]"
          },
          "metadata": {
            "needs_background": "light"
          }
        },
        {
          "output_type": "display_data",
          "data": {
            "text/plain": [
              "<IPython.core.display.Javascript object>"
            ],
            "application/javascript": [
              "window[\"0d928ab4-b8c9-11ed-9641-0242ac1c000c\"] = google.colab.output.setActiveOutputArea(window[\"0d701ae2-b8c9-11ed-9641-0242ac1c000c\"]);\n",
              "//# sourceURL=js_df3a80fcde"
            ]
          },
          "metadata": {}
        }
      ]
    },
    {
      "cell_type": "code",
      "source": [
        "# env = GridEnv(env_type = \"deterministic\")\n",
        "# agent = RandomAgent(env)\n",
        "\n",
        "# obs, info = env.reset()\n",
        "# terminated, truncated = False, False\n",
        "\n",
        "# output_grid = widgets.Grid(1, 1)\n",
        "# with output_grid.output_to(0, 0):\n",
        "#   env.render()\n",
        "\n",
        "\n",
        "\n",
        "\n",
        "\n",
        "# while not terminated:\n",
        "#   # action = agent.step(obs)\n",
        "#   for sub_arr in q_table:\n",
        "#     max_val = max(sub_arr)\n",
        "#     action = max_val\n",
        "#   #action = input()\n",
        "#   observation, reward, terminated, truncated, info, agent_pos = env.step(action)\n",
        "#   with output_grid.output_to(0, 0):\n",
        "#     output_grid.clear_cell()\n",
        "#     plt.imshow(grid)\n",
        "#     env.render()\n",
        "#   time.sleep(1)"
      ],
      "metadata": {
        "id": "exIvEGhORvOv",
        "outputId": "4cbb483e-f49e-434c-cea4-a68107f2d749",
        "colab": {
          "base_uri": "https://localhost:8080/",
          "height": 244
        }
      },
      "execution_count": 30,
      "outputs": [
        {
          "output_type": "display_data",
          "data": {
            "text/plain": [
              "<IPython.core.display.HTML object>"
            ],
            "text/html": [
              "<style>\n",
              "       table#id4, #id4 > tbody > tr > th, #id4 > tbody > tr > td {\n",
              "         border: 1px solid lightgray;\n",
              "         border-collapse:collapse;\n",
              "         \n",
              "        }</style>"
            ]
          },
          "metadata": {}
        },
        {
          "output_type": "display_data",
          "data": {
            "text/plain": [
              "<IPython.core.display.HTML object>"
            ],
            "text/html": [
              "<table id=id4><tr><td id=id4-0-0></td></tr></table>"
            ]
          },
          "metadata": {}
        },
        {
          "output_type": "display_data",
          "data": {
            "text/plain": [
              "<IPython.core.display.Javascript object>"
            ],
            "application/javascript": [
              "window[\"ae7b1dde-b8c3-11ed-9641-0242ac1c000c\"] = google.colab.output.getActiveOutputArea();\n",
              "//# sourceURL=js_1ffd661846"
            ]
          },
          "metadata": {}
        },
        {
          "output_type": "display_data",
          "data": {
            "text/plain": [
              "<IPython.core.display.Javascript object>"
            ],
            "application/javascript": [
              "window[\"ae7b9ef8-b8c3-11ed-9641-0242ac1c000c\"] = document.querySelector(\"#id4-0-0\");\n",
              "//# sourceURL=js_2bc14be367"
            ]
          },
          "metadata": {}
        },
        {
          "output_type": "display_data",
          "data": {
            "text/plain": [
              "<IPython.core.display.Javascript object>"
            ],
            "application/javascript": [
              "window[\"ae7c1770-b8c3-11ed-9641-0242ac1c000c\"] = google.colab.output.setActiveOutputArea(window[\"ae7b9ef8-b8c3-11ed-9641-0242ac1c000c\"]);\n",
              "//# sourceURL=js_76a3dd3c4d"
            ]
          },
          "metadata": {}
        },
        {
          "output_type": "display_data",
          "data": {
            "text/plain": [
              "<IPython.core.display.Javascript object>"
            ],
            "application/javascript": [
              "window[\"aeb7e25a-b8c3-11ed-9641-0242ac1c000c\"] = google.colab.output.setActiveOutputArea(window[\"ae7b1dde-b8c3-11ed-9641-0242ac1c000c\"]);\n",
              "//# sourceURL=js_24f407424f"
            ]
          },
          "metadata": {}
        },
        {
          "output_type": "display_data",
          "data": {
            "text/plain": [
              "<IPython.core.display.Javascript object>"
            ],
            "application/javascript": [
              "window[\"aebaa0e4-b8c3-11ed-9641-0242ac1c000c\"] = google.colab.output.getActiveOutputArea();\n",
              "//# sourceURL=js_c2d7cfa99e"
            ]
          },
          "metadata": {}
        },
        {
          "output_type": "display_data",
          "data": {
            "text/plain": [
              "<IPython.core.display.Javascript object>"
            ],
            "application/javascript": [
              "window[\"aebb0c6e-b8c3-11ed-9641-0242ac1c000c\"] = document.querySelector(\"#id4-0-0\");\n",
              "//# sourceURL=js_f1a90725e4"
            ]
          },
          "metadata": {}
        },
        {
          "output_type": "display_data",
          "data": {
            "text/plain": [
              "<IPython.core.display.Javascript object>"
            ],
            "application/javascript": [
              "window[\"aebb7564-b8c3-11ed-9641-0242ac1c000c\"] = google.colab.output.setActiveOutputArea(window[\"aebb0c6e-b8c3-11ed-9641-0242ac1c000c\"]);\n",
              "//# sourceURL=js_cbe0239fdd"
            ]
          },
          "metadata": {}
        },
        {
          "output_type": "display_data",
          "data": {
            "text/plain": [
              "<IPython.core.display.Javascript object>"
            ],
            "application/javascript": [
              "window[\"aebe66f2-b8c3-11ed-9641-0242ac1c000c\"] = google.colab.output.setActiveOutputArea(window[\"aebaa0e4-b8c3-11ed-9641-0242ac1c000c\"]);\n",
              "//# sourceURL=js_487fd1d050"
            ]
          },
          "metadata": {}
        },
        {
          "output_type": "error",
          "ename": "NameError",
          "evalue": "ignored",
          "traceback": [
            "\u001b[0;31m---------------------------------------------------------------------------\u001b[0m",
            "\u001b[0;31mNameError\u001b[0m                                 Traceback (most recent call last)",
            "\u001b[0;32m<ipython-input-30-429a683d3aba>\u001b[0m in \u001b[0;36m<module>\u001b[0;34m\u001b[0m\n\u001b[1;32m     22\u001b[0m   \u001b[0;32mwith\u001b[0m \u001b[0moutput_grid\u001b[0m\u001b[0;34m.\u001b[0m\u001b[0moutput_to\u001b[0m\u001b[0;34m(\u001b[0m\u001b[0;36m0\u001b[0m\u001b[0;34m,\u001b[0m \u001b[0;36m0\u001b[0m\u001b[0;34m)\u001b[0m\u001b[0;34m:\u001b[0m\u001b[0;34m\u001b[0m\u001b[0;34m\u001b[0m\u001b[0m\n\u001b[1;32m     23\u001b[0m     \u001b[0moutput_grid\u001b[0m\u001b[0;34m.\u001b[0m\u001b[0mclear_cell\u001b[0m\u001b[0;34m(\u001b[0m\u001b[0;34m)\u001b[0m\u001b[0;34m\u001b[0m\u001b[0;34m\u001b[0m\u001b[0m\n\u001b[0;32m---> 24\u001b[0;31m     \u001b[0mplt\u001b[0m\u001b[0;34m.\u001b[0m\u001b[0mimshow\u001b[0m\u001b[0;34m(\u001b[0m\u001b[0mgrid\u001b[0m\u001b[0;34m)\u001b[0m\u001b[0;34m\u001b[0m\u001b[0;34m\u001b[0m\u001b[0m\n\u001b[0m\u001b[1;32m     25\u001b[0m     \u001b[0menv\u001b[0m\u001b[0;34m.\u001b[0m\u001b[0mrender\u001b[0m\u001b[0;34m(\u001b[0m\u001b[0;34m)\u001b[0m\u001b[0;34m\u001b[0m\u001b[0;34m\u001b[0m\u001b[0m\n\u001b[1;32m     26\u001b[0m   \u001b[0mtime\u001b[0m\u001b[0;34m.\u001b[0m\u001b[0msleep\u001b[0m\u001b[0;34m(\u001b[0m\u001b[0;36m1\u001b[0m\u001b[0;34m)\u001b[0m\u001b[0;34m\u001b[0m\u001b[0;34m\u001b[0m\u001b[0m\n",
            "\u001b[0;31mNameError\u001b[0m: name 'grid' is not defined"
          ]
        }
      ]
    },
    {
      "cell_type": "code",
      "source": [],
      "metadata": {
        "id": "BvJ_l9fmkVYL"
      },
      "execution_count": null,
      "outputs": []
    }
  ]
}