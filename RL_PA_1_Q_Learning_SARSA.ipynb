{
  "nbformat": 4,
  "nbformat_minor": 0,
  "metadata": {
    "colab": {
      "provenance": [],
      "toc_visible": true,
      "include_colab_link": true
    },
    "kernelspec": {
      "name": "python3",
      "display_name": "Python 3"
    },
    "language_info": {
      "name": "python"
    }
  },
  "cells": [
    {
      "cell_type": "markdown",
      "metadata": {
        "id": "view-in-github",
        "colab_type": "text"
      },
      "source": [
        "<a href=\"https://colab.research.google.com/github/akhil1198/RL-PA1/blob/main/RL_PA_1_Q_Learning_SARSA.ipynb\" target=\"_parent\"><img src=\"https://colab.research.google.com/assets/colab-badge.svg\" alt=\"Open In Colab\"/></a>"
      ]
    },
    {
      "cell_type": "code",
      "execution_count": 64,
      "metadata": {
        "colab": {
          "base_uri": "https://localhost:8080/"
        },
        "id": "hw2TLyoAigYz",
        "outputId": "d01432a2-6fba-4061-bbac-0682597b98cc"
      },
      "outputs": [
        {
          "output_type": "stream",
          "name": "stdout",
          "text": [
            "Looking in indexes: https://pypi.org/simple, https://us-python.pkg.dev/colab-wheels/public/simple/\n",
            "Requirement already satisfied: gymnasium in /usr/local/lib/python3.8/dist-packages (0.27.1)\n",
            "Requirement already satisfied: matplotlib in /usr/local/lib/python3.8/dist-packages (3.5.3)\n",
            "Requirement already satisfied: numpy in /usr/local/lib/python3.8/dist-packages (1.22.4)\n",
            "Requirement already satisfied: gymnasium-notices>=0.0.1 in /usr/local/lib/python3.8/dist-packages (from gymnasium) (0.0.1)\n",
            "Requirement already satisfied: importlib-metadata>=4.8.0 in /usr/local/lib/python3.8/dist-packages (from gymnasium) (6.0.0)\n",
            "Requirement already satisfied: typing-extensions>=4.3.0 in /usr/local/lib/python3.8/dist-packages (from gymnasium) (4.5.0)\n",
            "Requirement already satisfied: jax-jumpy>=0.2.0 in /usr/local/lib/python3.8/dist-packages (from gymnasium) (0.2.0)\n",
            "Requirement already satisfied: cloudpickle>=1.2.0 in /usr/local/lib/python3.8/dist-packages (from gymnasium) (2.2.1)\n",
            "Requirement already satisfied: cycler>=0.10 in /usr/local/lib/python3.8/dist-packages (from matplotlib) (0.11.0)\n",
            "Requirement already satisfied: pillow>=6.2.0 in /usr/local/lib/python3.8/dist-packages (from matplotlib) (8.4.0)\n",
            "Requirement already satisfied: pyparsing>=2.2.1 in /usr/local/lib/python3.8/dist-packages (from matplotlib) (3.0.9)\n",
            "Requirement already satisfied: packaging>=20.0 in /usr/local/lib/python3.8/dist-packages (from matplotlib) (23.0)\n",
            "Requirement already satisfied: kiwisolver>=1.0.1 in /usr/local/lib/python3.8/dist-packages (from matplotlib) (1.4.4)\n",
            "Requirement already satisfied: python-dateutil>=2.7 in /usr/local/lib/python3.8/dist-packages (from matplotlib) (2.8.2)\n",
            "Requirement already satisfied: fonttools>=4.22.0 in /usr/local/lib/python3.8/dist-packages (from matplotlib) (4.38.0)\n",
            "Requirement already satisfied: zipp>=0.5 in /usr/local/lib/python3.8/dist-packages (from importlib-metadata>=4.8.0->gymnasium) (3.15.0)\n",
            "Requirement already satisfied: six>=1.5 in /usr/local/lib/python3.8/dist-packages (from python-dateutil>=2.7->matplotlib) (1.15.0)\n"
          ]
        }
      ],
      "source": [
        "!pip install gymnasium matplotlib numpy\n"
      ]
    },
    {
      "cell_type": "code",
      "source": [
        "from google.colab import widgets\n",
        "import gymnasium as gym\n",
        "from gymnasium import spaces\n",
        "import matplotlib.pyplot as plt\n",
        "import numpy as np\n",
        "import time\n",
        "import pickle"
      ],
      "metadata": {
        "id": "9d4qlEyLjUam"
      },
      "execution_count": 65,
      "outputs": []
    },
    {
      "cell_type": "code",
      "source": [
        "output_grid = widgets.Grid(1,1)\n",
        "\n",
        "for _ in range(5):\n",
        "  grid = np.zeros((5, 5))\n",
        "  grid[np.random.randint(5), np.random.randint(5)] = 1\n",
        "\n",
        "  with output_grid.output_to(0,0):\n",
        "    output_grid.clear_cell()\n",
        "    plt.imshow(grid)\n",
        "  time.sleep(2) "
      ],
      "metadata": {
        "colab": {
          "base_uri": "https://localhost:8080/",
          "height": 269
        },
        "id": "1V9H_w_ujZIt",
        "outputId": "20b4c731-4a6e-43c0-bdb2-a1d4a0cb2991"
      },
      "execution_count": 66,
      "outputs": [
        {
          "output_type": "display_data",
          "data": {
            "text/plain": [
              "<IPython.core.display.HTML object>"
            ],
            "text/html": [
              "<style>\n",
              "       table#id26, #id26 > tbody > tr > th, #id26 > tbody > tr > td {\n",
              "         border: 1px solid lightgray;\n",
              "         border-collapse:collapse;\n",
              "         \n",
              "        }</style>"
            ]
          },
          "metadata": {}
        },
        {
          "output_type": "display_data",
          "data": {
            "text/plain": [
              "<IPython.core.display.HTML object>"
            ],
            "text/html": [
              "<table id=id26><tr><td id=id26-0-0></td></tr></table>"
            ]
          },
          "metadata": {}
        },
        {
          "output_type": "display_data",
          "data": {
            "text/plain": [
              "<IPython.core.display.Javascript object>"
            ],
            "application/javascript": [
              "window[\"0738a1fc-ba46-11ed-85d0-0242ac1c000c\"] = google.colab.output.getActiveOutputArea();\n",
              "//# sourceURL=js_4c4c863896"
            ]
          },
          "metadata": {}
        },
        {
          "output_type": "display_data",
          "data": {
            "text/plain": [
              "<IPython.core.display.Javascript object>"
            ],
            "application/javascript": [
              "window[\"073bfdf2-ba46-11ed-85d0-0242ac1c000c\"] = document.querySelector(\"#id26-0-0\");\n",
              "//# sourceURL=js_a1d4fbf844"
            ]
          },
          "metadata": {}
        },
        {
          "output_type": "display_data",
          "data": {
            "text/plain": [
              "<IPython.core.display.Javascript object>"
            ],
            "application/javascript": [
              "window[\"073d3712-ba46-11ed-85d0-0242ac1c000c\"] = google.colab.output.setActiveOutputArea(window[\"073bfdf2-ba46-11ed-85d0-0242ac1c000c\"]);\n",
              "//# sourceURL=js_3fdc319079"
            ]
          },
          "metadata": {}
        },
        {
          "output_type": "display_data",
          "data": {
            "text/plain": [
              "<IPython.core.display.Javascript object>"
            ],
            "application/javascript": [
              "window[\"07a86eec-ba46-11ed-85d0-0242ac1c000c\"] = google.colab.output.setActiveOutputArea(window[\"0738a1fc-ba46-11ed-85d0-0242ac1c000c\"]);\n",
              "//# sourceURL=js_4e4c0ded18"
            ]
          },
          "metadata": {}
        },
        {
          "output_type": "display_data",
          "data": {
            "text/plain": [
              "<IPython.core.display.Javascript object>"
            ],
            "application/javascript": [
              "window[\"08dc05ee-ba46-11ed-85d0-0242ac1c000c\"] = google.colab.output.getActiveOutputArea();\n",
              "//# sourceURL=js_a5ee3c9a3d"
            ]
          },
          "metadata": {}
        },
        {
          "output_type": "display_data",
          "data": {
            "text/plain": [
              "<IPython.core.display.Javascript object>"
            ],
            "application/javascript": [
              "window[\"08dc74c0-ba46-11ed-85d0-0242ac1c000c\"] = document.querySelector(\"#id26-0-0\");\n",
              "//# sourceURL=js_34978f51f0"
            ]
          },
          "metadata": {}
        },
        {
          "output_type": "display_data",
          "data": {
            "text/plain": [
              "<IPython.core.display.Javascript object>"
            ],
            "application/javascript": [
              "window[\"08dcee46-ba46-11ed-85d0-0242ac1c000c\"] = google.colab.output.setActiveOutputArea(window[\"08dc74c0-ba46-11ed-85d0-0242ac1c000c\"]);\n",
              "//# sourceURL=js_9de64bd798"
            ]
          },
          "metadata": {}
        },
        {
          "output_type": "display_data",
          "data": {
            "text/plain": [
              "<IPython.core.display.Javascript object>"
            ],
            "application/javascript": [
              "window[\"0910435e-ba46-11ed-85d0-0242ac1c000c\"] = google.colab.output.setActiveOutputArea(window[\"08dc05ee-ba46-11ed-85d0-0242ac1c000c\"]);\n",
              "//# sourceURL=js_da989574dc"
            ]
          },
          "metadata": {}
        },
        {
          "output_type": "display_data",
          "data": {
            "text/plain": [
              "<IPython.core.display.Javascript object>"
            ],
            "application/javascript": [
              "window[\"0a45b5d8-ba46-11ed-85d0-0242ac1c000c\"] = google.colab.output.getActiveOutputArea();\n",
              "//# sourceURL=js_240a153487"
            ]
          },
          "metadata": {}
        },
        {
          "output_type": "display_data",
          "data": {
            "text/plain": [
              "<IPython.core.display.Javascript object>"
            ],
            "application/javascript": [
              "window[\"0a4718d8-ba46-11ed-85d0-0242ac1c000c\"] = document.querySelector(\"#id26-0-0\");\n",
              "//# sourceURL=js_1662ece80f"
            ]
          },
          "metadata": {}
        },
        {
          "output_type": "display_data",
          "data": {
            "text/plain": [
              "<IPython.core.display.Javascript object>"
            ],
            "application/javascript": [
              "window[\"0a484992-ba46-11ed-85d0-0242ac1c000c\"] = google.colab.output.setActiveOutputArea(window[\"0a4718d8-ba46-11ed-85d0-0242ac1c000c\"]);\n",
              "//# sourceURL=js_d0fde13226"
            ]
          },
          "metadata": {}
        },
        {
          "output_type": "display_data",
          "data": {
            "text/plain": [
              "<IPython.core.display.Javascript object>"
            ],
            "application/javascript": [
              "window[\"0a96cf5e-ba46-11ed-85d0-0242ac1c000c\"] = google.colab.output.setActiveOutputArea(window[\"0a45b5d8-ba46-11ed-85d0-0242ac1c000c\"]);\n",
              "//# sourceURL=js_26d7080146"
            ]
          },
          "metadata": {}
        },
        {
          "output_type": "display_data",
          "data": {
            "text/plain": [
              "<IPython.core.display.Javascript object>"
            ],
            "application/javascript": [
              "window[\"0bcd238c-ba46-11ed-85d0-0242ac1c000c\"] = google.colab.output.getActiveOutputArea();\n",
              "//# sourceURL=js_6104378301"
            ]
          },
          "metadata": {}
        },
        {
          "output_type": "display_data",
          "data": {
            "text/plain": [
              "<IPython.core.display.Javascript object>"
            ],
            "application/javascript": [
              "window[\"0bcdb392-ba46-11ed-85d0-0242ac1c000c\"] = document.querySelector(\"#id26-0-0\");\n",
              "//# sourceURL=js_b74afd547a"
            ]
          },
          "metadata": {}
        },
        {
          "output_type": "display_data",
          "data": {
            "text/plain": [
              "<IPython.core.display.Javascript object>"
            ],
            "application/javascript": [
              "window[\"0bce7840-ba46-11ed-85d0-0242ac1c000c\"] = google.colab.output.setActiveOutputArea(window[\"0bcdb392-ba46-11ed-85d0-0242ac1c000c\"]);\n",
              "//# sourceURL=js_5594842699"
            ]
          },
          "metadata": {}
        },
        {
          "output_type": "display_data",
          "data": {
            "text/plain": [
              "<IPython.core.display.Javascript object>"
            ],
            "application/javascript": [
              "window[\"0c18ae06-ba46-11ed-85d0-0242ac1c000c\"] = google.colab.output.setActiveOutputArea(window[\"0bcd238c-ba46-11ed-85d0-0242ac1c000c\"]);\n",
              "//# sourceURL=js_7af82e497f"
            ]
          },
          "metadata": {}
        },
        {
          "output_type": "display_data",
          "data": {
            "text/plain": [
              "<IPython.core.display.Javascript object>"
            ],
            "application/javascript": [
              "window[\"0d4dfe34-ba46-11ed-85d0-0242ac1c000c\"] = google.colab.output.getActiveOutputArea();\n",
              "//# sourceURL=js_f8d2d0bbf8"
            ]
          },
          "metadata": {}
        },
        {
          "output_type": "display_data",
          "data": {
            "text/plain": [
              "<IPython.core.display.Javascript object>"
            ],
            "application/javascript": [
              "window[\"0d4f4154-ba46-11ed-85d0-0242ac1c000c\"] = document.querySelector(\"#id26-0-0\");\n",
              "//# sourceURL=js_d97386c4af"
            ]
          },
          "metadata": {}
        },
        {
          "output_type": "display_data",
          "data": {
            "text/plain": [
              "<IPython.core.display.Javascript object>"
            ],
            "application/javascript": [
              "window[\"0d4fcd0e-ba46-11ed-85d0-0242ac1c000c\"] = google.colab.output.setActiveOutputArea(window[\"0d4f4154-ba46-11ed-85d0-0242ac1c000c\"]);\n",
              "//# sourceURL=js_8db04f1875"
            ]
          },
          "metadata": {}
        },
        {
          "output_type": "display_data",
          "data": {
            "text/plain": [
              "<Figure size 432x288 with 1 Axes>"
            ],
            "image/png": "[encoded data removed]"
          },
          "metadata": {
            "needs_background": "light"
          }
        },
        {
          "output_type": "display_data",
          "data": {
            "text/plain": [
              "<IPython.core.display.Javascript object>"
            ],
            "application/javascript": [
              "window[\"0d84b604-ba46-11ed-85d0-0242ac1c000c\"] = google.colab.output.setActiveOutputArea(window[\"0d4dfe34-ba46-11ed-85d0-0242ac1c000c\"]);\n",
              "//# sourceURL=js_163f832e7b"
            ]
          },
          "metadata": {}
        }
      ]
    },
    {
      "cell_type": "markdown",
      "source": [
        "---\n",
        "# **Part - 1** \n",
        "---"
      ],
      "metadata": {
        "id": "x0kViSd_yd82"
      }
    },
    {
      "cell_type": "markdown",
      "source": [
        "### **1.1 Creating An Environment**"
      ],
      "metadata": {
        "id": "xuKv6_Sl7ujm"
      }
    },
    {
      "cell_type": "code",
      "source": [
        "from IPython.utils.path import random\n",
        "class GridEnv(gym.Env):\n",
        "  def __init__(self, env_type):\n",
        "    self.environment_type = env_type\n",
        "    self.environment_width = 5\n",
        "    self.environment_height = 5\n",
        "    self.observation_space = spaces.Discrete(25)\n",
        "    self.action_space = spaces.Discrete(4)\n",
        "\n",
        "    self.timestep = 0\n",
        "    self.max_timesteps = 15\n",
        "\n",
        "    self.agent_pos = [0, 0]\n",
        "    self.goal_pos = [4, 4]\n",
        "\n",
        "    self.state = np.zeros((5,5))\n",
        "    self.state[tuple(self.agent_pos)] = 1\n",
        "    self.state[tuple(self.goal_pos)] = 0.5\n",
        "\n",
        "    self.reward = 0\n",
        "    self.truncated = False\n",
        "    self.terminated = False\n",
        "    self.reward_pos = np.asarray([[0, 4], [2, 1], [3, 4], [4, 2]])\n",
        "    self.negreward_pos = np.asarray([[1, 2], [3, 0], [3, 3]])\n",
        "\n",
        "    #for stochastic env\n",
        "    self.random_number = 0\n",
        "    self.rand_action = 0\n",
        "\n",
        "  def reset(self):\n",
        "    self.state = np.zeros((5,5))\n",
        "    self.state[tuple(self.agent_pos)] = 1\n",
        "    self.state[tuple(self.goal_pos)] = 0.5\n",
        "    observation = self.state.flatten()\n",
        "\n",
        "    return observation, self.agent_pos\n",
        "  \n",
        "  def step(self, action):\n",
        "    # print(\"action\", action)\n",
        "    # action = int(action)\n",
        "    if action == 0:\n",
        "      #print(\"at 0 - > agent_pos[0] += 1\")\n",
        "      self.agent_pos[0] += 1\n",
        "    if action == 1:\n",
        "      #print(\"at 1 -> agent_pos[0] -= 1\")\n",
        "      self.agent_pos[0] -= 1\n",
        "    if action == 2:\n",
        "      #print(\"at 2 -> agent_pos[1] += 1\")\n",
        "      self.agent_pos[1] += 1\n",
        "    if action == 3:\n",
        "      #print(\"at 3 -> agent_pos[1] -= 1\")\n",
        "      self.agent_pos[1] -= 1\n",
        "    #stochastic method\n",
        "    if self.environment_type == \"stochastic\":\n",
        "      self.random_number = np.random.rand()\n",
        "      self.rand_action = np.random.randint(4)\n",
        "      if self.random_number < 0.9:\n",
        "        #print(\"Executing the right action -> \", action)\n",
        "        if action == 0:\n",
        "          #print(\"at 0 - > agent_pos[0] += 1\")\n",
        "          self.agent_pos[0] += 1\n",
        "        if action == 1:\n",
        "          #print(\"at 1 -> agent_pos[0] -= 1\")\n",
        "          self.agent_pos[0] -= 1\n",
        "        if action == 2:\n",
        "          #print(\"at 2 -> agent_pos[1] += 1\")\n",
        "          self.agent_pos[1] += 1\n",
        "        if action == 3:\n",
        "          #print(\"at 3 -> agent_pos[1] -= 1\")\n",
        "          self.agent_pos[1] -= 1\n",
        "      elif self.random_number > 0.9:\n",
        "        #print(\"Executing Random Action\", self.rand_action)\n",
        "        if self.rand_action == 0:\n",
        "          self.agent_pos[0] += 1\n",
        "        if self.rand_action == 1:\n",
        "          self.agent_pos[0] -= 1\n",
        "        if self.rand_action == 2:\n",
        "          self.agent_pos[1] += 1\n",
        "        if self.rand_action == 3:\n",
        "          self.agent_pos[1] -= 1\n",
        "      \n",
        "    #print(self.agent_pos)\n",
        "    #Comment this to demonstrate the truncation condition.\n",
        "    self.agent_pos = np.clip(self.agent_pos, 0, 4)\n",
        "\n",
        "    self.state = np.zeros((5,5))\n",
        "    self.state[tuple(self.agent_pos)] = 1\n",
        "    self.state[tuple(self.goal_pos)] = 0.5\n",
        "    observation = self.state.flatten()\n",
        "\n",
        "    self.reward = 0\n",
        "    #[0, 4], [2, 1], [3, 4], [4, 2]\n",
        "    if np.array_equal(self.agent_pos, self.reward_pos[0]):\n",
        "      self.reward = self.reward + 2\n",
        "    \n",
        "    if np.array_equal(self.agent_pos, self.reward_pos[1]):\n",
        "      self.reward = self.reward + 4\n",
        "    \n",
        "    if np.array_equal(self.agent_pos, self.reward_pos[2]):\n",
        "      self.reward = self.reward + 8\n",
        "    \n",
        "    if np.array_equal(self.agent_pos, self.reward_pos[3]):\n",
        "      self.reward = self.reward + 6\n",
        "    \n",
        "\n",
        "    if np.array_equal(self.agent_pos, self.goal_pos):\n",
        "      self.reward += 10\n",
        "    \n",
        "\n",
        "    #[1, 2], [3, 0], [3, 3]\n",
        "    if np.array_equal(self.agent_pos, self.negreward_pos[0]):\n",
        "      self.reward = self.reward - 5\n",
        "    \n",
        "    if np.array_equal(self.agent_pos, self.negreward_pos[1]):\n",
        "      self.reward = self.reward - 6\n",
        "    \n",
        "    if np.array_equal(self.agent_pos, self.negreward_pos[2]):\n",
        "      self.reward = self.reward - 2\n",
        "\n",
        "    self.timestep += 1\n",
        "\n",
        "    #print(\"truncated -> \", self.agent_pos,)\n",
        "    terminated = True if self.timestep >= self.max_timesteps else False\n",
        "    truncated = True if np.all((self.agent_pos[0] >= 0) & (self.agent_pos[0] <= 4) & (self.agent_pos[1] >= 0) & (self.agent_pos[1] <= 4)) else False\n",
        "\n",
        "    info = {}\n",
        "    \n",
        "    return observation, self.reward, terminated, truncated, info, self.agent_pos\n",
        "\n",
        "  def render(self):\n",
        "    print(\"Reward -> \", self.reward)\n",
        "    plt.imshow(self.state)\n",
        "    \n"
      ],
      "metadata": {
        "id": "uiH3nTLTj3qR"
      },
      "execution_count": 67,
      "outputs": []
    },
    {
      "cell_type": "markdown",
      "source": [
        "### **1.2 Creating An Agent**"
      ],
      "metadata": {
        "id": "-7sNCX8TypM_"
      }
    },
    {
      "cell_type": "code",
      "source": [
        "class RandomAgent:\n",
        "  def __init__(self, env):\n",
        "    self.env = env\n",
        "    self.observation_space = env.observation_space\n",
        "    self.action_space = env.action_space\n",
        "  def step(self, obs):\n",
        "    return np.random.choice(self.action_space.n)\n",
        "  "
      ],
      "metadata": {
        "id": "WCTSceXW44Bk"
      },
      "execution_count": 68,
      "outputs": []
    },
    {
      "cell_type": "markdown",
      "source": [
        "### **1.3 Testing The Environment**"
      ],
      "metadata": {
        "id": "CeaheI38ZYT9"
      }
    },
    {
      "cell_type": "code",
      "source": [
        "env = GridEnv(env_type = \"deterministic\")\n",
        "agent = RandomAgent(env)\n",
        "\n",
        "obs, info = env.reset()\n",
        "terminated, truncated = False, False\n",
        "\n",
        "output_grid = widgets.Grid(1, 1)\n",
        "with output_grid.output_to(0, 0):\n",
        "  env.render()\n",
        "\n",
        "while not terminated:\n",
        "  action = agent.step(obs)\n",
        "  #action = input()\n",
        "  observation, reward, terminated, truncated, info, agent_pos = env.step(action)\n",
        "  with output_grid.output_to(0, 0):\n",
        "    output_grid.clear_cell()\n",
        "    plt.imshow(grid)\n",
        "    env.render()\n",
        "  time.sleep(1)\n"
      ],
      "metadata": {
        "colab": {
          "base_uri": "https://localhost:8080/",
          "height": 287
        },
        "id": "f-iPycGP48pI",
        "outputId": "5f7f2c5a-7bde-4e0d-e89c-7469396073ab"
      },
      "execution_count": 69,
      "outputs": [
        {
          "output_type": "display_data",
          "data": {
            "text/plain": [
              "<IPython.core.display.HTML object>"
            ],
            "text/html": [
              "<style>\n",
              "       table#id28, #id28 > tbody > tr > th, #id28 > tbody > tr > td {\n",
              "         border: 1px solid lightgray;\n",
              "         border-collapse:collapse;\n",
              "         \n",
              "        }</style>"
            ]
          },
          "metadata": {}
        },
        {
          "output_type": "display_data",
          "data": {
            "text/plain": [
              "<IPython.core.display.HTML object>"
            ],
            "text/html": [
              "<table id=id28><tr><td id=id28-0-0></td></tr></table>"
            ]
          },
          "metadata": {}
        },
        {
          "output_type": "display_data",
          "data": {
            "text/plain": [
              "<IPython.core.display.Javascript object>"
            ],
            "application/javascript": [
              "window[\"0ee0cec0-ba46-11ed-85d0-0242ac1c000c\"] = google.colab.output.getActiveOutputArea();\n",
              "//# sourceURL=js_e6a890b75a"
            ]
          },
          "metadata": {}
        },
        {
          "output_type": "display_data",
          "data": {
            "text/plain": [
              "<IPython.core.display.Javascript object>"
            ],
            "application/javascript": [
              "window[\"0ee27d10-ba46-11ed-85d0-0242ac1c000c\"] = document.querySelector(\"#id28-0-0\");\n",
              "//# sourceURL=js_f198d67a42"
            ]
          },
          "metadata": {}
        },
        {
          "output_type": "display_data",
          "data": {
            "text/plain": [
              "<IPython.core.display.Javascript object>"
            ],
            "application/javascript": [
              "window[\"0ee2f22c-ba46-11ed-85d0-0242ac1c000c\"] = google.colab.output.setActiveOutputArea(window[\"0ee27d10-ba46-11ed-85d0-0242ac1c000c\"]);\n",
              "//# sourceURL=js_3691512cd8"
            ]
          },
          "metadata": {}
        },
        {
          "output_type": "display_data",
          "data": {
            "text/plain": [
              "<IPython.core.display.Javascript object>"
            ],
            "application/javascript": [
              "window[\"0f17b85e-ba46-11ed-85d0-0242ac1c000c\"] = google.colab.output.setActiveOutputArea(window[\"0ee0cec0-ba46-11ed-85d0-0242ac1c000c\"]);\n",
              "//# sourceURL=js_1da82afd14"
            ]
          },
          "metadata": {}
        },
        {
          "output_type": "display_data",
          "data": {
            "text/plain": [
              "<IPython.core.display.Javascript object>"
            ],
            "application/javascript": [
              "window[\"0f1b0fea-ba46-11ed-85d0-0242ac1c000c\"] = google.colab.output.getActiveOutputArea();\n",
              "//# sourceURL=js_eb3e2e90ab"
            ]
          },
          "metadata": {}
        },
        {
          "output_type": "display_data",
          "data": {
            "text/plain": [
              "<IPython.core.display.Javascript object>"
            ],
            "application/javascript": [
              "window[\"0f1b7dae-ba46-11ed-85d0-0242ac1c000c\"] = document.querySelector(\"#id28-0-0\");\n",
              "//# sourceURL=js_deea05f280"
            ]
          },
          "metadata": {}
        },
        {
          "output_type": "display_data",
          "data": {
            "text/plain": [
              "<IPython.core.display.Javascript object>"
            ],
            "application/javascript": [
              "window[\"0f1c17aa-ba46-11ed-85d0-0242ac1c000c\"] = google.colab.output.setActiveOutputArea(window[\"0f1b7dae-ba46-11ed-85d0-0242ac1c000c\"]);\n",
              "//# sourceURL=js_7b025572f5"
            ]
          },
          "metadata": {}
        },
        {
          "output_type": "display_data",
          "data": {
            "text/plain": [
              "<IPython.core.display.Javascript object>"
            ],
            "application/javascript": [
              "window[\"0f54c1e0-ba46-11ed-85d0-0242ac1c000c\"] = google.colab.output.setActiveOutputArea(window[\"0f1b0fea-ba46-11ed-85d0-0242ac1c000c\"]);\n",
              "//# sourceURL=js_7995b192dc"
            ]
          },
          "metadata": {}
        },
        {
          "output_type": "display_data",
          "data": {
            "text/plain": [
              "<IPython.core.display.Javascript object>"
            ],
            "application/javascript": [
              "window[\"0ff0abbe-ba46-11ed-85d0-0242ac1c000c\"] = google.colab.output.getActiveOutputArea();\n",
              "//# sourceURL=js_32862d8128"
            ]
          },
          "metadata": {}
        },
        {
          "output_type": "display_data",
          "data": {
            "text/plain": [
              "<IPython.core.display.Javascript object>"
            ],
            "application/javascript": [
              "window[\"0ff1957e-ba46-11ed-85d0-0242ac1c000c\"] = document.querySelector(\"#id28-0-0\");\n",
              "//# sourceURL=js_f7e4632642"
            ]
          },
          "metadata": {}
        },
        {
          "output_type": "display_data",
          "data": {
            "text/plain": [
              "<IPython.core.display.Javascript object>"
            ],
            "application/javascript": [
              "window[\"0ff29dc0-ba46-11ed-85d0-0242ac1c000c\"] = google.colab.output.setActiveOutputArea(window[\"0ff1957e-ba46-11ed-85d0-0242ac1c000c\"]);\n",
              "//# sourceURL=js_04c19a34ac"
            ]
          },
          "metadata": {}
        },
        {
          "output_type": "display_data",
          "data": {
            "text/plain": [
              "<IPython.core.display.Javascript object>"
            ],
            "application/javascript": [
              "window[\"10242c46-ba46-11ed-85d0-0242ac1c000c\"] = google.colab.output.setActiveOutputArea(window[\"0ff0abbe-ba46-11ed-85d0-0242ac1c000c\"]);\n",
              "//# sourceURL=js_28e3ea9bff"
            ]
          },
          "metadata": {}
        },
        {
          "output_type": "display_data",
          "data": {
            "text/plain": [
              "<IPython.core.display.Javascript object>"
            ],
            "application/javascript": [
              "window[\"10c0263c-ba46-11ed-85d0-0242ac1c000c\"] = google.colab.output.getActiveOutputArea();\n",
              "//# sourceURL=js_71e67731ab"
            ]
          },
          "metadata": {}
        },
        {
          "output_type": "display_data",
          "data": {
            "text/plain": [
              "<IPython.core.display.Javascript object>"
            ],
            "application/javascript": [
              "window[\"10c09a04-ba46-11ed-85d0-0242ac1c000c\"] = document.querySelector(\"#id28-0-0\");\n",
              "//# sourceURL=js_272a630578"
            ]
          },
          "metadata": {}
        },
        {
          "output_type": "display_data",
          "data": {
            "text/plain": [
              "<IPython.core.display.Javascript object>"
            ],
            "application/javascript": [
              "window[\"10c2a498-ba46-11ed-85d0-0242ac1c000c\"] = google.colab.output.setActiveOutputArea(window[\"10c09a04-ba46-11ed-85d0-0242ac1c000c\"]);\n",
              "//# sourceURL=js_fb778a917c"
            ]
          },
          "metadata": {}
        },
        {
          "output_type": "display_data",
          "data": {
            "text/plain": [
              "<IPython.core.display.Javascript object>"
            ],
            "application/javascript": [
              "window[\"113cbe36-ba46-11ed-85d0-0242ac1c000c\"] = google.colab.output.setActiveOutputArea(window[\"10c0263c-ba46-11ed-85d0-0242ac1c000c\"]);\n",
              "//# sourceURL=js_2239b002ec"
            ]
          },
          "metadata": {}
        },
        {
          "output_type": "display_data",
          "data": {
            "text/plain": [
              "<IPython.core.display.Javascript object>"
            ],
            "application/javascript": [
              "window[\"11d9ca32-ba46-11ed-85d0-0242ac1c000c\"] = google.colab.output.getActiveOutputArea();\n",
              "//# sourceURL=js_d036926802"
            ]
          },
          "metadata": {}
        },
        {
          "output_type": "display_data",
          "data": {
            "text/plain": [
              "<IPython.core.display.Javascript object>"
            ],
            "application/javascript": [
              "window[\"11da6028-ba46-11ed-85d0-0242ac1c000c\"] = document.querySelector(\"#id28-0-0\");\n",
              "//# sourceURL=js_802325c567"
            ]
          },
          "metadata": {}
        },
        {
          "output_type": "display_data",
          "data": {
            "text/plain": [
              "<IPython.core.display.Javascript object>"
            ],
            "application/javascript": [
              "window[\"11daf4ac-ba46-11ed-85d0-0242ac1c000c\"] = google.colab.output.setActiveOutputArea(window[\"11da6028-ba46-11ed-85d0-0242ac1c000c\"]);\n",
              "//# sourceURL=js_2218cc4885"
            ]
          },
          "metadata": {}
        },
        {
          "output_type": "display_data",
          "data": {
            "text/plain": [
              "<IPython.core.display.Javascript object>"
            ],
            "application/javascript": [
              "window[\"1222bfa8-ba46-11ed-85d0-0242ac1c000c\"] = google.colab.output.setActiveOutputArea(window[\"11d9ca32-ba46-11ed-85d0-0242ac1c000c\"]);\n",
              "//# sourceURL=js_5237903274"
            ]
          },
          "metadata": {}
        },
        {
          "output_type": "display_data",
          "data": {
            "text/plain": [
              "<IPython.core.display.Javascript object>"
            ],
            "application/javascript": [
              "window[\"12c111d0-ba46-11ed-85d0-0242ac1c000c\"] = google.colab.output.getActiveOutputArea();\n",
              "//# sourceURL=js_7be8b19711"
            ]
          },
          "metadata": {}
        },
        {
          "output_type": "display_data",
          "data": {
            "text/plain": [
              "<IPython.core.display.Javascript object>"
            ],
            "application/javascript": [
              "window[\"12c20108-ba46-11ed-85d0-0242ac1c000c\"] = document.querySelector(\"#id28-0-0\");\n",
              "//# sourceURL=js_bd66d9f172"
            ]
          },
          "metadata": {}
        },
        {
          "output_type": "display_data",
          "data": {
            "text/plain": [
              "<IPython.core.display.Javascript object>"
            ],
            "application/javascript": [
              "window[\"12c35652-ba46-11ed-85d0-0242ac1c000c\"] = google.colab.output.setActiveOutputArea(window[\"12c20108-ba46-11ed-85d0-0242ac1c000c\"]);\n",
              "//# sourceURL=js_3aa4cc6355"
            ]
          },
          "metadata": {}
        },
        {
          "output_type": "display_data",
          "data": {
            "text/plain": [
              "<IPython.core.display.Javascript object>"
            ],
            "application/javascript": [
              "window[\"13065df8-ba46-11ed-85d0-0242ac1c000c\"] = google.colab.output.setActiveOutputArea(window[\"12c111d0-ba46-11ed-85d0-0242ac1c000c\"]);\n",
              "//# sourceURL=js_9212cc8be9"
            ]
          },
          "metadata": {}
        },
        {
          "output_type": "display_data",
          "data": {
            "text/plain": [
              "<IPython.core.display.Javascript object>"
            ],
            "application/javascript": [
              "window[\"13a622b6-ba46-11ed-85d0-0242ac1c000c\"] = google.colab.output.getActiveOutputArea();\n",
              "//# sourceURL=js_8c98dc17f4"
            ]
          },
          "metadata": {}
        },
        {
          "output_type": "display_data",
          "data": {
            "text/plain": [
              "<IPython.core.display.Javascript object>"
            ],
            "application/javascript": [
              "window[\"13a6fe70-ba46-11ed-85d0-0242ac1c000c\"] = document.querySelector(\"#id28-0-0\");\n",
              "//# sourceURL=js_e2f86695de"
            ]
          },
          "metadata": {}
        },
        {
          "output_type": "display_data",
          "data": {
            "text/plain": [
              "<IPython.core.display.Javascript object>"
            ],
            "application/javascript": [
              "window[\"13a905a8-ba46-11ed-85d0-0242ac1c000c\"] = google.colab.output.setActiveOutputArea(window[\"13a6fe70-ba46-11ed-85d0-0242ac1c000c\"]);\n",
              "//# sourceURL=js_c9c6cca635"
            ]
          },
          "metadata": {}
        },
        {
          "output_type": "display_data",
          "data": {
            "text/plain": [
              "<IPython.core.display.Javascript object>"
            ],
            "application/javascript": [
              "window[\"1402ce08-ba46-11ed-85d0-0242ac1c000c\"] = google.colab.output.setActiveOutputArea(window[\"13a622b6-ba46-11ed-85d0-0242ac1c000c\"]);\n",
              "//# sourceURL=js_201cac7f03"
            ]
          },
          "metadata": {}
        },
        {
          "output_type": "display_data",
          "data": {
            "text/plain": [
              "<IPython.core.display.Javascript object>"
            ],
            "application/javascript": [
              "window[\"14a1ab4a-ba46-11ed-85d0-0242ac1c000c\"] = google.colab.output.getActiveOutputArea();\n",
              "//# sourceURL=js_a5906ae81f"
            ]
          },
          "metadata": {}
        },
        {
          "output_type": "display_data",
          "data": {
            "text/plain": [
              "<IPython.core.display.Javascript object>"
            ],
            "application/javascript": [
              "window[\"14a2ed16-ba46-11ed-85d0-0242ac1c000c\"] = document.querySelector(\"#id28-0-0\");\n",
              "//# sourceURL=js_393b9e4be6"
            ]
          },
          "metadata": {}
        },
        {
          "output_type": "display_data",
          "data": {
            "text/plain": [
              "<IPython.core.display.Javascript object>"
            ],
            "application/javascript": [
              "window[\"14a41696-ba46-11ed-85d0-0242ac1c000c\"] = google.colab.output.setActiveOutputArea(window[\"14a2ed16-ba46-11ed-85d0-0242ac1c000c\"]);\n",
              "//# sourceURL=js_ea6406a6aa"
            ]
          },
          "metadata": {}
        },
        {
          "output_type": "display_data",
          "data": {
            "text/plain": [
              "<IPython.core.display.Javascript object>"
            ],
            "application/javascript": [
              "window[\"14e3ecda-ba46-11ed-85d0-0242ac1c000c\"] = google.colab.output.setActiveOutputArea(window[\"14a1ab4a-ba46-11ed-85d0-0242ac1c000c\"]);\n",
              "//# sourceURL=js_aa5c7576df"
            ]
          },
          "metadata": {}
        },
        {
          "output_type": "display_data",
          "data": {
            "text/plain": [
              "<IPython.core.display.Javascript object>"
            ],
            "application/javascript": [
              "window[\"15835022-ba46-11ed-85d0-0242ac1c000c\"] = google.colab.output.getActiveOutputArea();\n",
              "//# sourceURL=js_79136d48ea"
            ]
          },
          "metadata": {}
        },
        {
          "output_type": "display_data",
          "data": {
            "text/plain": [
              "<IPython.core.display.Javascript object>"
            ],
            "application/javascript": [
              "window[\"1583dc90-ba46-11ed-85d0-0242ac1c000c\"] = document.querySelector(\"#id28-0-0\");\n",
              "//# sourceURL=js_4be15ed9be"
            ]
          },
          "metadata": {}
        },
        {
          "output_type": "display_data",
          "data": {
            "text/plain": [
              "<IPython.core.display.Javascript object>"
            ],
            "application/javascript": [
              "window[\"15846e9e-ba46-11ed-85d0-0242ac1c000c\"] = google.colab.output.setActiveOutputArea(window[\"1583dc90-ba46-11ed-85d0-0242ac1c000c\"]);\n",
              "//# sourceURL=js_9a9ac92328"
            ]
          },
          "metadata": {}
        },
        {
          "output_type": "display_data",
          "data": {
            "text/plain": [
              "<IPython.core.display.Javascript object>"
            ],
            "application/javascript": [
              "window[\"15d0a43a-ba46-11ed-85d0-0242ac1c000c\"] = google.colab.output.setActiveOutputArea(window[\"15835022-ba46-11ed-85d0-0242ac1c000c\"]);\n",
              "//# sourceURL=js_8071bbab1a"
            ]
          },
          "metadata": {}
        },
        {
          "output_type": "display_data",
          "data": {
            "text/plain": [
              "<IPython.core.display.Javascript object>"
            ],
            "application/javascript": [
              "window[\"166df1a4-ba46-11ed-85d0-0242ac1c000c\"] = google.colab.output.getActiveOutputArea();\n",
              "//# sourceURL=js_8eaa34a0a3"
            ]
          },
          "metadata": {}
        },
        {
          "output_type": "display_data",
          "data": {
            "text/plain": [
              "<IPython.core.display.Javascript object>"
            ],
            "application/javascript": [
              "window[\"166f26dc-ba46-11ed-85d0-0242ac1c000c\"] = document.querySelector(\"#id28-0-0\");\n",
              "//# sourceURL=js_11e8d2930c"
            ]
          },
          "metadata": {}
        },
        {
          "output_type": "display_data",
          "data": {
            "text/plain": [
              "<IPython.core.display.Javascript object>"
            ],
            "application/javascript": [
              "window[\"1670979c-ba46-11ed-85d0-0242ac1c000c\"] = google.colab.output.setActiveOutputArea(window[\"166f26dc-ba46-11ed-85d0-0242ac1c000c\"]);\n",
              "//# sourceURL=js_f01436cd3a"
            ]
          },
          "metadata": {}
        },
        {
          "output_type": "display_data",
          "data": {
            "text/plain": [
              "<IPython.core.display.Javascript object>"
            ],
            "application/javascript": [
              "window[\"16c0a098-ba46-11ed-85d0-0242ac1c000c\"] = google.colab.output.setActiveOutputArea(window[\"166df1a4-ba46-11ed-85d0-0242ac1c000c\"]);\n",
              "//# sourceURL=js_add5b7a5b7"
            ]
          },
          "metadata": {}
        },
        {
          "output_type": "display_data",
          "data": {
            "text/plain": [
              "<IPython.core.display.Javascript object>"
            ],
            "application/javascript": [
              "window[\"175fc7d6-ba46-11ed-85d0-0242ac1c000c\"] = google.colab.output.getActiveOutputArea();\n",
              "//# sourceURL=js_2af1f75def"
            ]
          },
          "metadata": {}
        },
        {
          "output_type": "display_data",
          "data": {
            "text/plain": [
              "<IPython.core.display.Javascript object>"
            ],
            "application/javascript": [
              "window[\"17613dd2-ba46-11ed-85d0-0242ac1c000c\"] = document.querySelector(\"#id28-0-0\");\n",
              "//# sourceURL=js_79ce03cbb5"
            ]
          },
          "metadata": {}
        },
        {
          "output_type": "display_data",
          "data": {
            "text/plain": [
              "<IPython.core.display.Javascript object>"
            ],
            "application/javascript": [
              "window[\"17635946-ba46-11ed-85d0-0242ac1c000c\"] = google.colab.output.setActiveOutputArea(window[\"17613dd2-ba46-11ed-85d0-0242ac1c000c\"]);\n",
              "//# sourceURL=js_f07b482026"
            ]
          },
          "metadata": {}
        },
        {
          "output_type": "display_data",
          "data": {
            "text/plain": [
              "<IPython.core.display.Javascript object>"
            ],
            "application/javascript": [
              "window[\"17ef74ee-ba46-11ed-85d0-0242ac1c000c\"] = google.colab.output.setActiveOutputArea(window[\"175fc7d6-ba46-11ed-85d0-0242ac1c000c\"]);\n",
              "//# sourceURL=js_8e856a8ebb"
            ]
          },
          "metadata": {}
        },
        {
          "output_type": "display_data",
          "data": {
            "text/plain": [
              "<IPython.core.display.Javascript object>"
            ],
            "application/javascript": [
              "window[\"188b7aba-ba46-11ed-85d0-0242ac1c000c\"] = google.colab.output.getActiveOutputArea();\n",
              "//# sourceURL=js_caf58d5815"
            ]
          },
          "metadata": {}
        },
        {
          "output_type": "display_data",
          "data": {
            "text/plain": [
              "<IPython.core.display.Javascript object>"
            ],
            "application/javascript": [
              "window[\"188c4184-ba46-11ed-85d0-0242ac1c000c\"] = document.querySelector(\"#id28-0-0\");\n",
              "//# sourceURL=js_f5c24e0125"
            ]
          },
          "metadata": {}
        },
        {
          "output_type": "display_data",
          "data": {
            "text/plain": [
              "<IPython.core.display.Javascript object>"
            ],
            "application/javascript": [
              "window[\"188d0722-ba46-11ed-85d0-0242ac1c000c\"] = google.colab.output.setActiveOutputArea(window[\"188c4184-ba46-11ed-85d0-0242ac1c000c\"]);\n",
              "//# sourceURL=js_aab7e23f1f"
            ]
          },
          "metadata": {}
        },
        {
          "output_type": "display_data",
          "data": {
            "text/plain": [
              "<IPython.core.display.Javascript object>"
            ],
            "application/javascript": [
              "window[\"18c021a2-ba46-11ed-85d0-0242ac1c000c\"] = google.colab.output.setActiveOutputArea(window[\"188b7aba-ba46-11ed-85d0-0242ac1c000c\"]);\n",
              "//# sourceURL=js_43fa9f6101"
            ]
          },
          "metadata": {}
        },
        {
          "output_type": "display_data",
          "data": {
            "text/plain": [
              "<IPython.core.display.Javascript object>"
            ],
            "application/javascript": [
              "window[\"195c3862-ba46-11ed-85d0-0242ac1c000c\"] = google.colab.output.getActiveOutputArea();\n",
              "//# sourceURL=js_9843d02ef4"
            ]
          },
          "metadata": {}
        },
        {
          "output_type": "display_data",
          "data": {
            "text/plain": [
              "<IPython.core.display.Javascript object>"
            ],
            "application/javascript": [
              "window[\"195ca5fe-ba46-11ed-85d0-0242ac1c000c\"] = document.querySelector(\"#id28-0-0\");\n",
              "//# sourceURL=js_09cd4162bd"
            ]
          },
          "metadata": {}
        },
        {
          "output_type": "display_data",
          "data": {
            "text/plain": [
              "<IPython.core.display.Javascript object>"
            ],
            "application/javascript": [
              "window[\"195d95ae-ba46-11ed-85d0-0242ac1c000c\"] = google.colab.output.setActiveOutputArea(window[\"195ca5fe-ba46-11ed-85d0-0242ac1c000c\"]);\n",
              "//# sourceURL=js_148c0efa1b"
            ]
          },
          "metadata": {}
        },
        {
          "output_type": "display_data",
          "data": {
            "text/plain": [
              "<IPython.core.display.Javascript object>"
            ],
            "application/javascript": [
              "window[\"197f13c8-ba46-11ed-85d0-0242ac1c000c\"] = google.colab.output.setActiveOutputArea(window[\"195c3862-ba46-11ed-85d0-0242ac1c000c\"]);\n",
              "//# sourceURL=js_d5491b2352"
            ]
          },
          "metadata": {}
        },
        {
          "output_type": "display_data",
          "data": {
            "text/plain": [
              "<IPython.core.display.Javascript object>"
            ],
            "application/javascript": [
              "window[\"1a1a9b86-ba46-11ed-85d0-0242ac1c000c\"] = google.colab.output.getActiveOutputArea();\n",
              "//# sourceURL=js_dc654ff8be"
            ]
          },
          "metadata": {}
        },
        {
          "output_type": "display_data",
          "data": {
            "text/plain": [
              "<IPython.core.display.Javascript object>"
            ],
            "application/javascript": [
              "window[\"1a1b191c-ba46-11ed-85d0-0242ac1c000c\"] = document.querySelector(\"#id28-0-0\");\n",
              "//# sourceURL=js_f4aa72b5cd"
            ]
          },
          "metadata": {}
        },
        {
          "output_type": "display_data",
          "data": {
            "text/plain": [
              "<IPython.core.display.Javascript object>"
            ],
            "application/javascript": [
              "window[\"1a1b8cda-ba46-11ed-85d0-0242ac1c000c\"] = google.colab.output.setActiveOutputArea(window[\"1a1b191c-ba46-11ed-85d0-0242ac1c000c\"]);\n",
              "//# sourceURL=js_5301a10e77"
            ]
          },
          "metadata": {}
        },
        {
          "output_type": "display_data",
          "data": {
            "text/plain": [
              "<IPython.core.display.Javascript object>"
            ],
            "application/javascript": [
              "window[\"1a3d7dd6-ba46-11ed-85d0-0242ac1c000c\"] = google.colab.output.setActiveOutputArea(window[\"1a1a9b86-ba46-11ed-85d0-0242ac1c000c\"]);\n",
              "//# sourceURL=js_607023b281"
            ]
          },
          "metadata": {}
        },
        {
          "output_type": "display_data",
          "data": {
            "text/plain": [
              "<IPython.core.display.Javascript object>"
            ],
            "application/javascript": [
              "window[\"1ad8ddc6-ba46-11ed-85d0-0242ac1c000c\"] = google.colab.output.getActiveOutputArea();\n",
              "//# sourceURL=js_bef7836c41"
            ]
          },
          "metadata": {}
        },
        {
          "output_type": "display_data",
          "data": {
            "text/plain": [
              "<IPython.core.display.Javascript object>"
            ],
            "application/javascript": [
              "window[\"1ad94b1c-ba46-11ed-85d0-0242ac1c000c\"] = document.querySelector(\"#id28-0-0\");\n",
              "//# sourceURL=js_30b589222e"
            ]
          },
          "metadata": {}
        },
        {
          "output_type": "display_data",
          "data": {
            "text/plain": [
              "<IPython.core.display.Javascript object>"
            ],
            "application/javascript": [
              "window[\"1ad9bef8-ba46-11ed-85d0-0242ac1c000c\"] = google.colab.output.setActiveOutputArea(window[\"1ad94b1c-ba46-11ed-85d0-0242ac1c000c\"]);\n",
              "//# sourceURL=js_5d34a53003"
            ]
          },
          "metadata": {}
        },
        {
          "output_type": "display_data",
          "data": {
            "text/plain": [
              "<IPython.core.display.Javascript object>"
            ],
            "application/javascript": [
              "window[\"1b00895c-ba46-11ed-85d0-0242ac1c000c\"] = google.colab.output.setActiveOutputArea(window[\"1ad8ddc6-ba46-11ed-85d0-0242ac1c000c\"]);\n",
              "//# sourceURL=js_17a1901dfd"
            ]
          },
          "metadata": {}
        },
        {
          "output_type": "display_data",
          "data": {
            "text/plain": [
              "<IPython.core.display.Javascript object>"
            ],
            "application/javascript": [
              "window[\"1b9be852-ba46-11ed-85d0-0242ac1c000c\"] = google.colab.output.getActiveOutputArea();\n",
              "//# sourceURL=js_a6164ac5a6"
            ]
          },
          "metadata": {}
        },
        {
          "output_type": "display_data",
          "data": {
            "text/plain": [
              "<IPython.core.display.Javascript object>"
            ],
            "application/javascript": [
              "window[\"1b9cae72-ba46-11ed-85d0-0242ac1c000c\"] = document.querySelector(\"#id28-0-0\");\n",
              "//# sourceURL=js_2c30d7c554"
            ]
          },
          "metadata": {}
        },
        {
          "output_type": "display_data",
          "data": {
            "text/plain": [
              "<IPython.core.display.Javascript object>"
            ],
            "application/javascript": [
              "window[\"1b9d5494-ba46-11ed-85d0-0242ac1c000c\"] = google.colab.output.setActiveOutputArea(window[\"1b9cae72-ba46-11ed-85d0-0242ac1c000c\"]);\n",
              "//# sourceURL=js_733cc8a918"
            ]
          },
          "metadata": {}
        },
        {
          "output_type": "stream",
          "name": "stdout",
          "text": [
            "Reward ->  -2\n"
          ]
        },
        {
          "output_type": "display_data",
          "data": {
            "text/plain": [
              "<Figure size 432x288 with 1 Axes>"
            ],
            "image/png": "[encoded data removed]"
          },
          "metadata": {
            "needs_background": "light"
          }
        },
        {
          "output_type": "display_data",
          "data": {
            "text/plain": [
              "<IPython.core.display.Javascript object>"
            ],
            "application/javascript": [
              "window[\"1bc2d44e-ba46-11ed-85d0-0242ac1c000c\"] = google.colab.output.setActiveOutputArea(window[\"1b9be852-ba46-11ed-85d0-0242ac1c000c\"]);\n",
              "//# sourceURL=js_d40f30d42f"
            ]
          },
          "metadata": {}
        }
      ]
    },
    {
      "cell_type": "markdown",
      "source": [
        "************************************************************************\n",
        "Stochastic Environment: "
      ],
      "metadata": {
        "id": "HsP4eebNZnk5"
      }
    },
    {
      "cell_type": "code",
      "source": [
        "env = GridEnv(env_type = \"stochastic\")\n",
        "agent = RandomAgent(env)\n",
        "\n",
        "obs, info = env.reset()\n",
        "terminated, truncated = False, False\n",
        "\n",
        "output_grid = widgets.Grid(1, 1)\n",
        "with output_grid.output_to(0, 0):\n",
        "  env.render()\n",
        "\n",
        "while not terminated:\n",
        "  action = agent.step(obs)\n",
        "  #action = input()\n",
        "  observation, reward, terminated, truncated, info, agent_pos = env.step(action)\n",
        "  with output_grid.output_to(0, 0):\n",
        "    output_grid.clear_cell()\n",
        "    plt.imshow(grid)\n",
        "    env.render()\n",
        "  time.sleep(1)"
      ],
      "metadata": {
        "id": "Xm6_yTZFDoO9",
        "colab": {
          "base_uri": "https://localhost:8080/",
          "height": 287
        },
        "outputId": "aff3f2dc-e575-495b-d7b1-b425fccd9e3d"
      },
      "execution_count": 70,
      "outputs": [
        {
          "output_type": "display_data",
          "data": {
            "text/plain": [
              "<IPython.core.display.HTML object>"
            ],
            "text/html": [
              "<style>\n",
              "       table#id30, #id30 > tbody > tr > th, #id30 > tbody > tr > td {\n",
              "         border: 1px solid lightgray;\n",
              "         border-collapse:collapse;\n",
              "         \n",
              "        }</style>"
            ]
          },
          "metadata": {}
        },
        {
          "output_type": "display_data",
          "data": {
            "text/plain": [
              "<IPython.core.display.HTML object>"
            ],
            "text/html": [
              "<table id=id30><tr><td id=id30-0-0></td></tr></table>"
            ]
          },
          "metadata": {}
        },
        {
          "output_type": "display_data",
          "data": {
            "text/plain": [
              "<IPython.core.display.Javascript object>"
            ],
            "application/javascript": [
              "window[\"1c63717e-ba46-11ed-85d0-0242ac1c000c\"] = google.colab.output.getActiveOutputArea();\n",
              "//# sourceURL=js_76c93c8adc"
            ]
          },
          "metadata": {}
        },
        {
          "output_type": "display_data",
          "data": {
            "text/plain": [
              "<IPython.core.display.Javascript object>"
            ],
            "application/javascript": [
              "window[\"1c640378-ba46-11ed-85d0-0242ac1c000c\"] = document.querySelector(\"#id30-0-0\");\n",
              "//# sourceURL=js_e5541bc331"
            ]
          },
          "metadata": {}
        },
        {
          "output_type": "display_data",
          "data": {
            "text/plain": [
              "<IPython.core.display.Javascript object>"
            ],
            "application/javascript": [
              "window[\"1c6499dc-ba46-11ed-85d0-0242ac1c000c\"] = google.colab.output.setActiveOutputArea(window[\"1c640378-ba46-11ed-85d0-0242ac1c000c\"]);\n",
              "//# sourceURL=js_6e3b983c9e"
            ]
          },
          "metadata": {}
        },
        {
          "output_type": "display_data",
          "data": {
            "text/plain": [
              "<IPython.core.display.Javascript object>"
            ],
            "application/javascript": [
              "window[\"1c86bc4c-ba46-11ed-85d0-0242ac1c000c\"] = google.colab.output.setActiveOutputArea(window[\"1c63717e-ba46-11ed-85d0-0242ac1c000c\"]);\n",
              "//# sourceURL=js_8d7a29a842"
            ]
          },
          "metadata": {}
        },
        {
          "output_type": "display_data",
          "data": {
            "text/plain": [
              "<IPython.core.display.Javascript object>"
            ],
            "application/javascript": [
              "window[\"1c89411a-ba46-11ed-85d0-0242ac1c000c\"] = google.colab.output.getActiveOutputArea();\n",
              "//# sourceURL=js_3c83ab96ba"
            ]
          },
          "metadata": {}
        },
        {
          "output_type": "display_data",
          "data": {
            "text/plain": [
              "<IPython.core.display.Javascript object>"
            ],
            "application/javascript": [
              "window[\"1c89a97a-ba46-11ed-85d0-0242ac1c000c\"] = document.querySelector(\"#id30-0-0\");\n",
              "//# sourceURL=js_b6b5c1e969"
            ]
          },
          "metadata": {}
        },
        {
          "output_type": "display_data",
          "data": {
            "text/plain": [
              "<IPython.core.display.Javascript object>"
            ],
            "application/javascript": [
              "window[\"1c8a20e4-ba46-11ed-85d0-0242ac1c000c\"] = google.colab.output.setActiveOutputArea(window[\"1c89a97a-ba46-11ed-85d0-0242ac1c000c\"]);\n",
              "//# sourceURL=js_60ad1dff24"
            ]
          },
          "metadata": {}
        },
        {
          "output_type": "display_data",
          "data": {
            "text/plain": [
              "<IPython.core.display.Javascript object>"
            ],
            "application/javascript": [
              "window[\"1cb1597a-ba46-11ed-85d0-0242ac1c000c\"] = google.colab.output.setActiveOutputArea(window[\"1c89411a-ba46-11ed-85d0-0242ac1c000c\"]);\n",
              "//# sourceURL=js_e02060eb1d"
            ]
          },
          "metadata": {}
        },
        {
          "output_type": "display_data",
          "data": {
            "text/plain": [
              "<IPython.core.display.Javascript object>"
            ],
            "application/javascript": [
              "window[\"1d4f510c-ba46-11ed-85d0-0242ac1c000c\"] = google.colab.output.getActiveOutputArea();\n",
              "//# sourceURL=js_e3cbaaafd2"
            ]
          },
          "metadata": {}
        },
        {
          "output_type": "display_data",
          "data": {
            "text/plain": [
              "<IPython.core.display.Javascript object>"
            ],
            "application/javascript": [
              "window[\"1d4fd44c-ba46-11ed-85d0-0242ac1c000c\"] = document.querySelector(\"#id30-0-0\");\n",
              "//# sourceURL=js_2c4bc20c57"
            ]
          },
          "metadata": {}
        },
        {
          "output_type": "display_data",
          "data": {
            "text/plain": [
              "<IPython.core.display.Javascript object>"
            ],
            "application/javascript": [
              "window[\"1d506fd8-ba46-11ed-85d0-0242ac1c000c\"] = google.colab.output.setActiveOutputArea(window[\"1d4fd44c-ba46-11ed-85d0-0242ac1c000c\"]);\n",
              "//# sourceURL=js_e62c0d00c9"
            ]
          },
          "metadata": {}
        },
        {
          "output_type": "display_data",
          "data": {
            "text/plain": [
              "<IPython.core.display.Javascript object>"
            ],
            "application/javascript": [
              "window[\"1d77f7ce-ba46-11ed-85d0-0242ac1c000c\"] = google.colab.output.setActiveOutputArea(window[\"1d4f510c-ba46-11ed-85d0-0242ac1c000c\"]);\n",
              "//# sourceURL=js_1120f37651"
            ]
          },
          "metadata": {}
        },
        {
          "output_type": "display_data",
          "data": {
            "text/plain": [
              "<IPython.core.display.Javascript object>"
            ],
            "application/javascript": [
              "window[\"1e1381d0-ba46-11ed-85d0-0242ac1c000c\"] = google.colab.output.getActiveOutputArea();\n",
              "//# sourceURL=js_68fa66a2ea"
            ]
          },
          "metadata": {}
        },
        {
          "output_type": "display_data",
          "data": {
            "text/plain": [
              "<IPython.core.display.Javascript object>"
            ],
            "application/javascript": [
              "window[\"1e14a1aa-ba46-11ed-85d0-0242ac1c000c\"] = document.querySelector(\"#id30-0-0\");\n",
              "//# sourceURL=js_040506384f"
            ]
          },
          "metadata": {}
        },
        {
          "output_type": "display_data",
          "data": {
            "text/plain": [
              "<IPython.core.display.Javascript object>"
            ],
            "application/javascript": [
              "window[\"1e152da0-ba46-11ed-85d0-0242ac1c000c\"] = google.colab.output.setActiveOutputArea(window[\"1e14a1aa-ba46-11ed-85d0-0242ac1c000c\"]);\n",
              "//# sourceURL=js_0710bdd16e"
            ]
          },
          "metadata": {}
        },
        {
          "output_type": "display_data",
          "data": {
            "text/plain": [
              "<IPython.core.display.Javascript object>"
            ],
            "application/javascript": [
              "window[\"1e385e92-ba46-11ed-85d0-0242ac1c000c\"] = google.colab.output.setActiveOutputArea(window[\"1e1381d0-ba46-11ed-85d0-0242ac1c000c\"]);\n",
              "//# sourceURL=js_ed88e674fc"
            ]
          },
          "metadata": {}
        },
        {
          "output_type": "display_data",
          "data": {
            "text/plain": [
              "<IPython.core.display.Javascript object>"
            ],
            "application/javascript": [
              "window[\"1ed44f64-ba46-11ed-85d0-0242ac1c000c\"] = google.colab.output.getActiveOutputArea();\n",
              "//# sourceURL=js_0e32b78039"
            ]
          },
          "metadata": {}
        },
        {
          "output_type": "display_data",
          "data": {
            "text/plain": [
              "<IPython.core.display.Javascript object>"
            ],
            "application/javascript": [
              "window[\"1ed4cc32-ba46-11ed-85d0-0242ac1c000c\"] = document.querySelector(\"#id30-0-0\");\n",
              "//# sourceURL=js_297d5cdb11"
            ]
          },
          "metadata": {}
        },
        {
          "output_type": "display_data",
          "data": {
            "text/plain": [
              "<IPython.core.display.Javascript object>"
            ],
            "application/javascript": [
              "window[\"1ed5772c-ba46-11ed-85d0-0242ac1c000c\"] = google.colab.output.setActiveOutputArea(window[\"1ed4cc32-ba46-11ed-85d0-0242ac1c000c\"]);\n",
              "//# sourceURL=js_4b9a89f6bf"
            ]
          },
          "metadata": {}
        },
        {
          "output_type": "display_data",
          "data": {
            "text/plain": [
              "<IPython.core.display.Javascript object>"
            ],
            "application/javascript": [
              "window[\"1efbdf02-ba46-11ed-85d0-0242ac1c000c\"] = google.colab.output.setActiveOutputArea(window[\"1ed44f64-ba46-11ed-85d0-0242ac1c000c\"]);\n",
              "//# sourceURL=js_484b8f71e8"
            ]
          },
          "metadata": {}
        },
        {
          "output_type": "display_data",
          "data": {
            "text/plain": [
              "<IPython.core.display.Javascript object>"
            ],
            "application/javascript": [
              "window[\"1f97bd00-ba46-11ed-85d0-0242ac1c000c\"] = google.colab.output.getActiveOutputArea();\n",
              "//# sourceURL=js_6587d2f3cb"
            ]
          },
          "metadata": {}
        },
        {
          "output_type": "display_data",
          "data": {
            "text/plain": [
              "<IPython.core.display.Javascript object>"
            ],
            "application/javascript": [
              "window[\"1f982e48-ba46-11ed-85d0-0242ac1c000c\"] = document.querySelector(\"#id30-0-0\");\n",
              "//# sourceURL=js_312b983d67"
            ]
          },
          "metadata": {}
        },
        {
          "output_type": "display_data",
          "data": {
            "text/plain": [
              "<IPython.core.display.Javascript object>"
            ],
            "application/javascript": [
              "window[\"1f98c7d6-ba46-11ed-85d0-0242ac1c000c\"] = google.colab.output.setActiveOutputArea(window[\"1f982e48-ba46-11ed-85d0-0242ac1c000c\"]);\n",
              "//# sourceURL=js_49c8ad9c51"
            ]
          },
          "metadata": {}
        },
        {
          "output_type": "display_data",
          "data": {
            "text/plain": [
              "<IPython.core.display.Javascript object>"
            ],
            "application/javascript": [
              "window[\"1fcabb74-ba46-11ed-85d0-0242ac1c000c\"] = google.colab.output.setActiveOutputArea(window[\"1f97bd00-ba46-11ed-85d0-0242ac1c000c\"]);\n",
              "//# sourceURL=js_3c31042656"
            ]
          },
          "metadata": {}
        },
        {
          "output_type": "display_data",
          "data": {
            "text/plain": [
              "<IPython.core.display.Javascript object>"
            ],
            "application/javascript": [
              "window[\"2065ff6c-ba46-11ed-85d0-0242ac1c000c\"] = google.colab.output.getActiveOutputArea();\n",
              "//# sourceURL=js_ab4a13efd1"
            ]
          },
          "metadata": {}
        },
        {
          "output_type": "display_data",
          "data": {
            "text/plain": [
              "<IPython.core.display.Javascript object>"
            ],
            "application/javascript": [
              "window[\"20666844-ba46-11ed-85d0-0242ac1c000c\"] = document.querySelector(\"#id30-0-0\");\n",
              "//# sourceURL=js_bc2b9e47f6"
            ]
          },
          "metadata": {}
        },
        {
          "output_type": "display_data",
          "data": {
            "text/plain": [
              "<IPython.core.display.Javascript object>"
            ],
            "application/javascript": [
              "window[\"2066ce9c-ba46-11ed-85d0-0242ac1c000c\"] = google.colab.output.setActiveOutputArea(window[\"20666844-ba46-11ed-85d0-0242ac1c000c\"]);\n",
              "//# sourceURL=js_11f9bd05b9"
            ]
          },
          "metadata": {}
        },
        {
          "output_type": "display_data",
          "data": {
            "text/plain": [
              "<IPython.core.display.Javascript object>"
            ],
            "application/javascript": [
              "window[\"20ad56be-ba46-11ed-85d0-0242ac1c000c\"] = google.colab.output.setActiveOutputArea(window[\"2065ff6c-ba46-11ed-85d0-0242ac1c000c\"]);\n",
              "//# sourceURL=js_f103284a10"
            ]
          },
          "metadata": {}
        },
        {
          "output_type": "display_data",
          "data": {
            "text/plain": [
              "<IPython.core.display.Javascript object>"
            ],
            "application/javascript": [
              "window[\"2148d936-ba46-11ed-85d0-0242ac1c000c\"] = google.colab.output.getActiveOutputArea();\n",
              "//# sourceURL=js_7314772321"
            ]
          },
          "metadata": {}
        },
        {
          "output_type": "display_data",
          "data": {
            "text/plain": [
              "<IPython.core.display.Javascript object>"
            ],
            "application/javascript": [
              "window[\"214992e0-ba46-11ed-85d0-0242ac1c000c\"] = document.querySelector(\"#id30-0-0\");\n",
              "//# sourceURL=js_42debb21ed"
            ]
          },
          "metadata": {}
        },
        {
          "output_type": "display_data",
          "data": {
            "text/plain": [
              "<IPython.core.display.Javascript object>"
            ],
            "application/javascript": [
              "window[\"214a00ae-ba46-11ed-85d0-0242ac1c000c\"] = google.colab.output.setActiveOutputArea(window[\"214992e0-ba46-11ed-85d0-0242ac1c000c\"]);\n",
              "//# sourceURL=js_bf97269f5b"
            ]
          },
          "metadata": {}
        },
        {
          "output_type": "display_data",
          "data": {
            "text/plain": [
              "<IPython.core.display.Javascript object>"
            ],
            "application/javascript": [
              "window[\"216cb89c-ba46-11ed-85d0-0242ac1c000c\"] = google.colab.output.setActiveOutputArea(window[\"2148d936-ba46-11ed-85d0-0242ac1c000c\"]);\n",
              "//# sourceURL=js_389579c7de"
            ]
          },
          "metadata": {}
        },
        {
          "output_type": "display_data",
          "data": {
            "text/plain": [
              "<IPython.core.display.Javascript object>"
            ],
            "application/javascript": [
              "window[\"2207f852-ba46-11ed-85d0-0242ac1c000c\"] = google.colab.output.getActiveOutputArea();\n",
              "//# sourceURL=js_a8ba74b090"
            ]
          },
          "metadata": {}
        },
        {
          "output_type": "display_data",
          "data": {
            "text/plain": [
              "<IPython.core.display.Javascript object>"
            ],
            "application/javascript": [
              "window[\"2208685a-ba46-11ed-85d0-0242ac1c000c\"] = document.querySelector(\"#id30-0-0\");\n",
              "//# sourceURL=js_38b1a67c90"
            ]
          },
          "metadata": {}
        },
        {
          "output_type": "display_data",
          "data": {
            "text/plain": [
              "<IPython.core.display.Javascript object>"
            ],
            "application/javascript": [
              "window[\"2208df6a-ba46-11ed-85d0-0242ac1c000c\"] = google.colab.output.setActiveOutputArea(window[\"2208685a-ba46-11ed-85d0-0242ac1c000c\"]);\n",
              "//# sourceURL=js_1b03a5b45c"
            ]
          },
          "metadata": {}
        },
        {
          "output_type": "display_data",
          "data": {
            "text/plain": [
              "<IPython.core.display.Javascript object>"
            ],
            "application/javascript": [
              "window[\"222d115a-ba46-11ed-85d0-0242ac1c000c\"] = google.colab.output.setActiveOutputArea(window[\"2207f852-ba46-11ed-85d0-0242ac1c000c\"]);\n",
              "//# sourceURL=js_1460b9e2a1"
            ]
          },
          "metadata": {}
        },
        {
          "output_type": "display_data",
          "data": {
            "text/plain": [
              "<IPython.core.display.Javascript object>"
            ],
            "application/javascript": [
              "window[\"22c9b7ee-ba46-11ed-85d0-0242ac1c000c\"] = google.colab.output.getActiveOutputArea();\n",
              "//# sourceURL=js_1a80a95234"
            ]
          },
          "metadata": {}
        },
        {
          "output_type": "display_data",
          "data": {
            "text/plain": [
              "<IPython.core.display.Javascript object>"
            ],
            "application/javascript": [
              "window[\"22cb48fc-ba46-11ed-85d0-0242ac1c000c\"] = document.querySelector(\"#id30-0-0\");\n",
              "//# sourceURL=js_f68706d1ce"
            ]
          },
          "metadata": {}
        },
        {
          "output_type": "display_data",
          "data": {
            "text/plain": [
              "<IPython.core.display.Javascript object>"
            ],
            "application/javascript": [
              "window[\"22cce482-ba46-11ed-85d0-0242ac1c000c\"] = google.colab.output.setActiveOutputArea(window[\"22cb48fc-ba46-11ed-85d0-0242ac1c000c\"]);\n",
              "//# sourceURL=js_3ae04208ef"
            ]
          },
          "metadata": {}
        },
        {
          "output_type": "display_data",
          "data": {
            "text/plain": [
              "<IPython.core.display.Javascript object>"
            ],
            "application/javascript": [
              "window[\"230b11f8-ba46-11ed-85d0-0242ac1c000c\"] = google.colab.output.setActiveOutputArea(window[\"22c9b7ee-ba46-11ed-85d0-0242ac1c000c\"]);\n",
              "//# sourceURL=js_8bd4dcb338"
            ]
          },
          "metadata": {}
        },
        {
          "output_type": "display_data",
          "data": {
            "text/plain": [
              "<IPython.core.display.Javascript object>"
            ],
            "application/javascript": [
              "window[\"23a86ef8-ba46-11ed-85d0-0242ac1c000c\"] = google.colab.output.getActiveOutputArea();\n",
              "//# sourceURL=js_898adda100"
            ]
          },
          "metadata": {}
        },
        {
          "output_type": "display_data",
          "data": {
            "text/plain": [
              "<IPython.core.display.Javascript object>"
            ],
            "application/javascript": [
              "window[\"23a948e6-ba46-11ed-85d0-0242ac1c000c\"] = document.querySelector(\"#id30-0-0\");\n",
              "//# sourceURL=js_b779e145ac"
            ]
          },
          "metadata": {}
        },
        {
          "output_type": "display_data",
          "data": {
            "text/plain": [
              "<IPython.core.display.Javascript object>"
            ],
            "application/javascript": [
              "window[\"23a9d5f4-ba46-11ed-85d0-0242ac1c000c\"] = google.colab.output.setActiveOutputArea(window[\"23a948e6-ba46-11ed-85d0-0242ac1c000c\"]);\n",
              "//# sourceURL=js_d13b61a71c"
            ]
          },
          "metadata": {}
        },
        {
          "output_type": "display_data",
          "data": {
            "text/plain": [
              "<IPython.core.display.Javascript object>"
            ],
            "application/javascript": [
              "window[\"23cf06b2-ba46-11ed-85d0-0242ac1c000c\"] = google.colab.output.setActiveOutputArea(window[\"23a86ef8-ba46-11ed-85d0-0242ac1c000c\"]);\n",
              "//# sourceURL=js_089c748af9"
            ]
          },
          "metadata": {}
        },
        {
          "output_type": "display_data",
          "data": {
            "text/plain": [
              "<IPython.core.display.Javascript object>"
            ],
            "application/javascript": [
              "window[\"246c9f62-ba46-11ed-85d0-0242ac1c000c\"] = google.colab.output.getActiveOutputArea();\n",
              "//# sourceURL=js_2d51ef556b"
            ]
          },
          "metadata": {}
        },
        {
          "output_type": "display_data",
          "data": {
            "text/plain": [
              "<IPython.core.display.Javascript object>"
            ],
            "application/javascript": [
              "window[\"246d0290-ba46-11ed-85d0-0242ac1c000c\"] = document.querySelector(\"#id30-0-0\");\n",
              "//# sourceURL=js_28847ea4c6"
            ]
          },
          "metadata": {}
        },
        {
          "output_type": "display_data",
          "data": {
            "text/plain": [
              "<IPython.core.display.Javascript object>"
            ],
            "application/javascript": [
              "window[\"246d8a4e-ba46-11ed-85d0-0242ac1c000c\"] = google.colab.output.setActiveOutputArea(window[\"246d0290-ba46-11ed-85d0-0242ac1c000c\"]);\n",
              "//# sourceURL=js_fd06950fdf"
            ]
          },
          "metadata": {}
        },
        {
          "output_type": "display_data",
          "data": {
            "text/plain": [
              "<IPython.core.display.Javascript object>"
            ],
            "application/javascript": [
              "window[\"24911798-ba46-11ed-85d0-0242ac1c000c\"] = google.colab.output.setActiveOutputArea(window[\"246c9f62-ba46-11ed-85d0-0242ac1c000c\"]);\n",
              "//# sourceURL=js_70176326db"
            ]
          },
          "metadata": {}
        },
        {
          "output_type": "display_data",
          "data": {
            "text/plain": [
              "<IPython.core.display.Javascript object>"
            ],
            "application/javascript": [
              "window[\"252ce074-ba46-11ed-85d0-0242ac1c000c\"] = google.colab.output.getActiveOutputArea();\n",
              "//# sourceURL=js_8d47dc91a0"
            ]
          },
          "metadata": {}
        },
        {
          "output_type": "display_data",
          "data": {
            "text/plain": [
              "<IPython.core.display.Javascript object>"
            ],
            "application/javascript": [
              "window[\"252d4fa0-ba46-11ed-85d0-0242ac1c000c\"] = document.querySelector(\"#id30-0-0\");\n",
              "//# sourceURL=js_bd79cea8d3"
            ]
          },
          "metadata": {}
        },
        {
          "output_type": "display_data",
          "data": {
            "text/plain": [
              "<IPython.core.display.Javascript object>"
            ],
            "application/javascript": [
              "window[\"252df270-ba46-11ed-85d0-0242ac1c000c\"] = google.colab.output.setActiveOutputArea(window[\"252d4fa0-ba46-11ed-85d0-0242ac1c000c\"]);\n",
              "//# sourceURL=js_56c6dc8fe2"
            ]
          },
          "metadata": {}
        },
        {
          "output_type": "display_data",
          "data": {
            "text/plain": [
              "<IPython.core.display.Javascript object>"
            ],
            "application/javascript": [
              "window[\"25534944-ba46-11ed-85d0-0242ac1c000c\"] = google.colab.output.setActiveOutputArea(window[\"252ce074-ba46-11ed-85d0-0242ac1c000c\"]);\n",
              "//# sourceURL=js_03653479d0"
            ]
          },
          "metadata": {}
        },
        {
          "output_type": "display_data",
          "data": {
            "text/plain": [
              "<IPython.core.display.Javascript object>"
            ],
            "application/javascript": [
              "window[\"25eea68c-ba46-11ed-85d0-0242ac1c000c\"] = google.colab.output.getActiveOutputArea();\n",
              "//# sourceURL=js_f4b53600d5"
            ]
          },
          "metadata": {}
        },
        {
          "output_type": "display_data",
          "data": {
            "text/plain": [
              "<IPython.core.display.Javascript object>"
            ],
            "application/javascript": [
              "window[\"25ef512c-ba46-11ed-85d0-0242ac1c000c\"] = document.querySelector(\"#id30-0-0\");\n",
              "//# sourceURL=js_0fe39cb4f7"
            ]
          },
          "metadata": {}
        },
        {
          "output_type": "display_data",
          "data": {
            "text/plain": [
              "<IPython.core.display.Javascript object>"
            ],
            "application/javascript": [
              "window[\"25efc184-ba46-11ed-85d0-0242ac1c000c\"] = google.colab.output.setActiveOutputArea(window[\"25ef512c-ba46-11ed-85d0-0242ac1c000c\"]);\n",
              "//# sourceURL=js_f3a91355e0"
            ]
          },
          "metadata": {}
        },
        {
          "output_type": "display_data",
          "data": {
            "text/plain": [
              "<IPython.core.display.Javascript object>"
            ],
            "application/javascript": [
              "window[\"2610d004-ba46-11ed-85d0-0242ac1c000c\"] = google.colab.output.setActiveOutputArea(window[\"25eea68c-ba46-11ed-85d0-0242ac1c000c\"]);\n",
              "//# sourceURL=js_59ac8edb5d"
            ]
          },
          "metadata": {}
        },
        {
          "output_type": "display_data",
          "data": {
            "text/plain": [
              "<IPython.core.display.Javascript object>"
            ],
            "application/javascript": [
              "window[\"26ace048-ba46-11ed-85d0-0242ac1c000c\"] = google.colab.output.getActiveOutputArea();\n",
              "//# sourceURL=js_2d820f7351"
            ]
          },
          "metadata": {}
        },
        {
          "output_type": "display_data",
          "data": {
            "text/plain": [
              "<IPython.core.display.Javascript object>"
            ],
            "application/javascript": [
              "window[\"26ad5e60-ba46-11ed-85d0-0242ac1c000c\"] = document.querySelector(\"#id30-0-0\");\n",
              "//# sourceURL=js_53caf16f65"
            ]
          },
          "metadata": {}
        },
        {
          "output_type": "display_data",
          "data": {
            "text/plain": [
              "<IPython.core.display.Javascript object>"
            ],
            "application/javascript": [
              "window[\"26adfda2-ba46-11ed-85d0-0242ac1c000c\"] = google.colab.output.setActiveOutputArea(window[\"26ad5e60-ba46-11ed-85d0-0242ac1c000c\"]);\n",
              "//# sourceURL=js_9f0adada26"
            ]
          },
          "metadata": {}
        },
        {
          "output_type": "display_data",
          "data": {
            "text/plain": [
              "<IPython.core.display.Javascript object>"
            ],
            "application/javascript": [
              "window[\"26d3ffac-ba46-11ed-85d0-0242ac1c000c\"] = google.colab.output.setActiveOutputArea(window[\"26ace048-ba46-11ed-85d0-0242ac1c000c\"]);\n",
              "//# sourceURL=js_0466875d86"
            ]
          },
          "metadata": {}
        },
        {
          "output_type": "display_data",
          "data": {
            "text/plain": [
              "<IPython.core.display.Javascript object>"
            ],
            "application/javascript": [
              "window[\"276fff60-ba46-11ed-85d0-0242ac1c000c\"] = google.colab.output.getActiveOutputArea();\n",
              "//# sourceURL=js_6c73008b0d"
            ]
          },
          "metadata": {}
        },
        {
          "output_type": "display_data",
          "data": {
            "text/plain": [
              "<IPython.core.display.Javascript object>"
            ],
            "application/javascript": [
              "window[\"2770c6a2-ba46-11ed-85d0-0242ac1c000c\"] = document.querySelector(\"#id30-0-0\");\n",
              "//# sourceURL=js_51ab344194"
            ]
          },
          "metadata": {}
        },
        {
          "output_type": "display_data",
          "data": {
            "text/plain": [
              "<IPython.core.display.Javascript object>"
            ],
            "application/javascript": [
              "window[\"277180a6-ba46-11ed-85d0-0242ac1c000c\"] = google.colab.output.setActiveOutputArea(window[\"2770c6a2-ba46-11ed-85d0-0242ac1c000c\"]);\n",
              "//# sourceURL=js_5f6bfe681f"
            ]
          },
          "metadata": {}
        },
        {
          "output_type": "stream",
          "name": "stdout",
          "text": [
            "Reward ->  6\n"
          ]
        },
        {
          "output_type": "display_data",
          "data": {
            "text/plain": [
              "<Figure size 432x288 with 1 Axes>"
            ],
            "image/png": "[encoded data removed]"
          },
          "metadata": {
            "needs_background": "light"
          }
        },
        {
          "output_type": "display_data",
          "data": {
            "text/plain": [
              "<IPython.core.display.Javascript object>"
            ],
            "application/javascript": [
              "window[\"27c08fe8-ba46-11ed-85d0-0242ac1c000c\"] = google.colab.output.setActiveOutputArea(window[\"276fff60-ba46-11ed-85d0-0242ac1c000c\"]);\n",
              "//# sourceURL=js_847e779f29"
            ]
          },
          "metadata": {}
        }
      ]
    },
    {
      "cell_type": "markdown",
      "source": [
        "---\n",
        "# **Part - 2**\n",
        "---"
      ],
      "metadata": {
        "id": "y1L7uCRZ1KG-"
      }
    },
    {
      "cell_type": "markdown",
      "source": [
        "## **2.1 Q - Learning**"
      ],
      "metadata": {
        "id": "dnf_4hPZ5cQo"
      }
    },
    {
      "cell_type": "markdown",
      "source": [
        "### 2.1.1 Q-Learning for Deterministic Environment"
      ],
      "metadata": {
        "id": "Ne9h1cG_QyAL"
      }
    },
    {
      "cell_type": "code",
      "source": [
        "import random\n",
        "\n",
        "env = GridEnv(env_type = \"deterministic\")\n",
        "agent = RandomAgent(env)\n",
        "\n",
        "#Hyperparameters\n",
        "alpha = 0.12\n",
        "gamma = 0.92\n",
        "epsilon = 1.0\n",
        "epsilon_val = []\n",
        "reward_val = []\n",
        "num_episodes = 500\n",
        "\n",
        "#Q-Table\n",
        "q_table = np.random.rand(25, 4)\n",
        "q_table = q_table.astype(int)\n",
        "\n",
        "#data arrays\n",
        "all_penalties_q_det = []\n",
        "avg_reward_per_ep_q_det = []\n",
        "\n",
        "#running for 500 episodes\n",
        "for episode in range(num_episodes):\n",
        "  #resetting the state \n",
        "  state, agent_pos = env.reset()\n",
        "  penalties = 0\n",
        "  new_penalties = 0\n",
        "  new_reward = 0\n",
        "  avg_reward = 0\n",
        "  index = 0\n",
        "  #getting the index value of the agent's state\n",
        "  state_to_list = state.tolist()\n",
        "  if 1 in state_to_list:\n",
        "    index = state_to_list.index(1)\n",
        "  # print(index)\n",
        "  for timestep in range(12):\n",
        "    #Choosing an action based on e-greedy policy\n",
        "    if np.random.rand() < epsilon:\n",
        "      action = np.random.choice(env.action_space.n)\n",
        "    else:\n",
        "      action = np.argmax(q_table[index])\n",
        "\n",
        "    # action = np.clip(action, 0, 3)\n",
        "    observation, reward, terminated, truncated, info, new_agent_pos = env.step(action)\n",
        "\n",
        "    if reward == -5 or reward == -6 or reward == -2:\n",
        "      penalties += 1\n",
        "    \n",
        "    #getting the index value of the agent's state\n",
        "    new_state_to_list = observation.tolist()\n",
        "    if 1 in new_state_to_list:\n",
        "      index2 = new_state_to_list.index(1)\n",
        "\n",
        "    q_table[index, action] = q_table[index, action] + alpha * (reward + gamma * np.argmax(q_table[index2]) - q_table[index, action])\n",
        "\n",
        "    new_penalties += penalties\n",
        "    new_reward += reward\n",
        "    agent_pos = new_agent_pos\n",
        "\n",
        "  avg_reward = new_reward / 15\n",
        "  avg_reward_per_ep_q_det.append(avg_reward)\n",
        "\n",
        "  #penalties\n",
        "  all_penalties_q_det.append(new_penalties)\n",
        "  #rewards\n",
        "  reward_val.append(new_reward)\n",
        "  #epsilon\n",
        "  epsilon *= 0.9908\n",
        "  epsilon_val.append(epsilon)\n",
        "\n",
        "# print(\"Q-Table : \", q_table)\n",
        "# print(epsilon_val)\n"
      ],
      "metadata": {
        "id": "Ro6Mvhxxjdbs"
      },
      "execution_count": 190,
      "outputs": []
    },
    {
      "cell_type": "markdown",
      "source": [
        "**Epsilon-Decay Graph**"
      ],
      "metadata": {
        "id": "B_VWFibmR5lo"
      }
    },
    {
      "cell_type": "code",
      "source": [
        "plt.figure(figsize=(5,5))\n",
        "plt.plot(epsilon_val, linewidth=4)\n",
        "plt.xlabel('Episode', fontsize=16)\n",
        "plt.ylabel('Epsilon Values', fontsize=16)\n",
        "plt.title('Epsilon Decay (Deterministic)', fontsize=20)\n",
        "plt.xticks(fontsize=16)\n",
        "plt.yticks(fontsize=16)\n",
        "plt.ylim(ymin=0, ymax=1)\n",
        "plt.xlim(xmin=0, xmax=500)\n",
        "plt.grid()\n",
        "plt.show()"
      ],
      "metadata": {
        "colab": {
          "base_uri": "https://localhost:8080/",
          "height": 365
        },
        "id": "QtTsDiPbSDMF",
        "outputId": "5cea55d2-9352-4ab3-9a7e-d816fc2e6df9"
      },
      "execution_count": 191,
      "outputs": [
        {
          "output_type": "display_data",
          "data": {
            "text/plain": [
              "<Figure size 360x360 with 1 Axes>"
            ],
            "image/png": "[encoded data removed]"
          },
          "metadata": {
            "needs_background": "light"
          }
        }
      ]
    },
    {
      "cell_type": "markdown",
      "source": [
        "**Total Rewards Per Episode**"
      ],
      "metadata": {
        "id": "iADJoBJPSV9m"
      }
    },
    {
      "cell_type": "code",
      "source": [
        "print(max(reward_val))\n",
        "plt.figure(figsize=(8,8))\n",
        "plt.plot(reward_val, 'ro')\n",
        "plt.xlabel('Episode', fontsize=18)\n",
        "plt.ylabel('Reward Value', fontsize=18)\n",
        "plt.title('Rewards Per Episode (Deterministic)', fontsize=20)\n",
        "plt.xticks(fontsize=16)\n",
        "plt.yticks([-40, -20, 0, 20, 40, 60, 80, 100, 120, 140, 160], fontsize=16)\n",
        "plt.ylim(ymin=-50, ymax=160)\n",
        "plt.xlim(xmin=0, xmax=500)\n",
        "plt.grid()\n",
        "plt.show()"
      ],
      "metadata": {
        "colab": {
          "base_uri": "https://localhost:8080/",
          "height": 549
        },
        "id": "wsuj3Ll5Sdy7",
        "outputId": "6776d88c-dab9-45dd-f6c2-f00b326b4d5e"
      },
      "execution_count": 192,
      "outputs": [
        {
          "output_type": "stream",
          "name": "stdout",
          "text": [
            "120\n"
          ]
        },
        {
          "output_type": "display_data",
          "data": {
            "text/plain": [
              "<Figure size 576x576 with 1 Axes>"
            ],
            "image/png": "[encoded data removed]"
          },
          "metadata": {
            "needs_background": "light"
          }
        }
      ]
    },
    {
      "cell_type": "code",
      "source": [
        "# plt.figure(figsize=(8,8))\n",
        "# plt.plot(avg_reward_per_ep_q_det, 'bo')\n",
        "# plt.xlabel('Episode', fontsize=18)\n",
        "# plt.ylabel('Penalties', fontsize=18)\n",
        "# plt.title('Average Rewards Per Episode (Q-Learning - Deterministic)', fontsize=20)\n",
        "# plt.xticks(fontsize=16)\n",
        "# plt.yticks([-6, -4, -2, 0, 2, 4, 6, 8, 10], fontsize=16)\n",
        "# plt.ylim(ymin=-7, ymax=11)\n",
        "# plt.xlim(xmin=0, xmax=500)\n",
        "# plt.grid()\n",
        "# plt.show()"
      ],
      "metadata": {
        "id": "v2GBN7wVx6Mj"
      },
      "execution_count": 193,
      "outputs": []
    },
    {
      "cell_type": "markdown",
      "source": [
        "**Penalties Per Episode**"
      ],
      "metadata": {
        "id": "umO-bdOr1iAu"
      }
    },
    {
      "cell_type": "code",
      "source": [
        "plt.figure(figsize=(8,8))\n",
        "plt.plot(all_penalties_q_det, 'go')\n",
        "plt.xlabel('Episode', fontsize=18)\n",
        "plt.ylabel('Penalties', fontsize=18)\n",
        "plt.title('Penalties Per Episode (Q-Learning - Deterministic)', fontsize=20)\n",
        "plt.xticks(fontsize=16)\n",
        "plt.yticks([-60, -50, -20, 0, 20, 40, 60, 80, 100], fontsize=16)\n",
        "plt.ylim(ymin=-7, ymax=80)\n",
        "plt.xlim(xmin=0, xmax=500)\n",
        "plt.grid()\n",
        "plt.show()"
      ],
      "metadata": {
        "colab": {
          "base_uri": "https://localhost:8080/",
          "height": 531
        },
        "id": "zQeA8h45tE_n",
        "outputId": "63095e06-5a8f-4560-c39f-6175be28e9c6"
      },
      "execution_count": 194,
      "outputs": [
        {
          "output_type": "display_data",
          "data": {
            "text/plain": [
              "<Figure size 576x576 with 1 Axes>"
            ],
            "image/png": "[encoded data removed]"
          },
          "metadata": {
            "needs_background": "light"
          }
        }
      ]
    },
    {
      "cell_type": "markdown",
      "source": [
        "\n",
        "---\n",
        "\n",
        "### 2.1.2 Q-Learning for Stochastic Environment\n"
      ],
      "metadata": {
        "id": "09ECYT0oW3-4"
      }
    },
    {
      "cell_type": "code",
      "source": [
        "import random\n",
        "from IPython.display import clear_output\n",
        "\n",
        "env = GridEnv(env_type = \"stochastic\")\n",
        "agent = RandomAgent(env)\n",
        "\n",
        "# Hyperparameters\n",
        "alpha = 0.12\n",
        "gamma = 0.92\n",
        "epsilon = 1.0\n",
        "epsilon_val_stoc = []\n",
        "reward_val_stoc = []\n",
        "num_episodes = 500\n",
        "\n",
        "#Q-Table\n",
        "q_table_stoc = np.random.rand(25, 4)\n",
        "q_table_stoc = q_table_stoc.astype(int)\n",
        "\n",
        "#data arrays\n",
        "all_penalties_q_stoc = []\n",
        "avg_reward_per_ep_q_stoc = []\n",
        "\n",
        "#running for 500 episodes\n",
        "for episode in range(num_episodes):\n",
        "  #resetting the state \n",
        "  state, agent_pos = env.reset()\n",
        "  penalties = 0\n",
        "  new_penalties = 0\n",
        "  new_reward = 0\n",
        "  index = 0\n",
        "\n",
        "  #getting the index value of the agent's state\n",
        "  state_to_list = state.tolist()\n",
        "  if 1 in state_to_list:\n",
        "    index = state_to_list.index(1)\n",
        "  # print(index)\n",
        "  \n",
        "  for timestep in range(15):\n",
        "    #Choosing an action based on e-greedy policy\n",
        "    if np.random.rand() < epsilon:\n",
        "      action = np.random.choice(env.action_space.n)\n",
        "    else:\n",
        "      action = np.argmax(q_table_stoc[index])\n",
        "\n",
        "    observation, reward, terminated, truncated, info, new_agent_pos = env.step(action)\n",
        "    \n",
        "    if reward == -5 or reward == -6 or reward == -2:\n",
        "      penalties += 1\n",
        "      \n",
        "    #getting the index value of the agent's state\n",
        "    new_state_to_list = observation.tolist()\n",
        "    if 1 in new_state_to_list:\n",
        "      index2 = new_state_to_list.index(1)\n",
        "\n",
        "    q_table_stoc[index, action] = q_table_stoc[index, action] + alpha * (reward + gamma * np.max(q_table_stoc[index2]) - q_table_stoc[index, action])\n",
        "\n",
        "    new_reward += reward\n",
        "    index = index2\n",
        "    new_penalties += penalties\n",
        "  \n",
        "  # avg_reward = new_reward / 15\n",
        "  # avg_reward_per_ep_q_stoc.append(avg_reward)\n",
        "\n",
        "  all_penalties_q_stoc.append(new_penalties)\n",
        "  \n",
        "  reward_val_stoc.append(new_reward)\n",
        "  \n",
        "  epsilon *= 0.9908\n",
        "  epsilon_val_stoc.append(epsilon)\n",
        "  # print(epsilon)\n",
        "\n",
        "# print(\"Q-Table : \", q_table)\n",
        "# print(epsilon_val)\n"
      ],
      "metadata": {
        "id": "4eNNhT3gW-XQ"
      },
      "execution_count": 195,
      "outputs": []
    },
    {
      "cell_type": "markdown",
      "source": [
        "**Epsilon-Decay Graph**"
      ],
      "metadata": {
        "id": "kdu4SvEj4HXJ"
      }
    },
    {
      "cell_type": "code",
      "source": [
        "plt.figure(figsize=(5,5))\n",
        "plt.plot(epsilon_val_stoc, linewidth=4)\n",
        "plt.xlabel('Episode', fontsize=16)\n",
        "plt.ylabel('Epsilon Values', fontsize=16)\n",
        "plt.title('Epsilon Decay (Stochastic)', fontsize=20)\n",
        "plt.xticks(fontsize=16)\n",
        "plt.yticks(fontsize=16)\n",
        "plt.ylim(ymin=0, ymax=1)\n",
        "plt.xlim(xmin=0, xmax=500)\n",
        "plt.grid()\n",
        "plt.show()"
      ],
      "metadata": {
        "colab": {
          "base_uri": "https://localhost:8080/",
          "height": 365
        },
        "id": "oxGJBsqnXCKW",
        "outputId": "f338a1b1-f53f-4d5b-c31f-e1c53ae2d332"
      },
      "execution_count": 196,
      "outputs": [
        {
          "output_type": "display_data",
          "data": {
            "text/plain": [
              "<Figure size 360x360 with 1 Axes>"
            ],
            "image/png": "[encoded data removed]"
          },
          "metadata": {
            "needs_background": "light"
          }
        }
      ]
    },
    {
      "cell_type": "markdown",
      "source": [
        "**Rewards Per Episode**"
      ],
      "metadata": {
        "id": "DqihvtEB4I8o"
      }
    },
    {
      "cell_type": "code",
      "source": [
        "plt.figure(figsize=(8,8))\n",
        "plt.plot(reward_val_stoc, 'ro')\n",
        "plt.xlabel('Episode', fontsize=18)\n",
        "plt.ylabel('Reward Value', fontsize=18)\n",
        "plt.title('Rewards Per Episode (Q-Learning - Stochastic)', fontsize=20)\n",
        "plt.xticks(fontsize=16)\n",
        "plt.yticks([-60, -40, -20, 0, 20, 40, 60, 80, 100, 120, 140, 160], fontsize=16)\n",
        "plt.ylim(ymin=-10, ymax=160)\n",
        "plt.xlim(xmin=0, xmax=500)\n",
        "plt.grid()\n",
        "plt.show()"
      ],
      "metadata": {
        "colab": {
          "base_uri": "https://localhost:8080/",
          "height": 531
        },
        "id": "zR1ZfALMXHUc",
        "outputId": "127c587b-20dc-49bf-d6fe-c6ef6682fd3c"
      },
      "execution_count": 197,
      "outputs": [
        {
          "output_type": "display_data",
          "data": {
            "text/plain": [
              "<Figure size 576x576 with 1 Axes>"
            ],
            "image/png": "[encoded data removed]"
          },
          "metadata": {
            "needs_background": "light"
          }
        }
      ]
    },
    {
      "cell_type": "code",
      "source": [
        "# plt.figure(figsize=(8,8))\n",
        "# plt.plot(avg_reward_per_ep_q_stoc, 'bo')\n",
        "# plt.xlabel('Episode', fontsize=18)\n",
        "# plt.ylabel('Penalties', fontsize=18)\n",
        "# plt.title('Average Rewards Per Episode (Q-Learning - Stochastic)', fontsize=20)\n",
        "# plt.xticks(fontsize=16)\n",
        "# plt.yticks([-6, -4, -2, 0, 2, 4, 6, 8, 10], fontsize=16)\n",
        "# plt.ylim(ymin=-7, ymax=11)\n",
        "# plt.xlim(xmin=0, xmax=500)\n",
        "# plt.grid()\n",
        "# plt.show()"
      ],
      "metadata": {
        "id": "8BFXjlQHy5Pq"
      },
      "execution_count": 198,
      "outputs": []
    },
    {
      "cell_type": "markdown",
      "source": [
        "**Penalties Per Episode**"
      ],
      "metadata": {
        "id": "TdEcuCDK4Ta7"
      }
    },
    {
      "cell_type": "code",
      "source": [
        "plt.figure(figsize=(8,8))\n",
        "plt.plot(all_penalties_q_stoc, 'go')\n",
        "plt.xlabel('Episode', fontsize=18)\n",
        "plt.ylabel('Penalties', fontsize=18)\n",
        "plt.title('Penalties Per Episode (Q-Learning - Stochastic)', fontsize=20)\n",
        "plt.xticks(fontsize=16)\n",
        "plt.yticks([-60, -50, -20, 0, 20, 40, 60, 80, 100], fontsize=16)\n",
        "plt.ylim(ymin=-7, ymax=50)\n",
        "plt.xlim(xmin=0, xmax=500)\n",
        "plt.grid()\n",
        "plt.show()"
      ],
      "metadata": {
        "colab": {
          "base_uri": "https://localhost:8080/",
          "height": 531
        },
        "id": "LrDp3SwRsUsY",
        "outputId": "428171af-1287-4ba1-f081-f61adfa0fe80"
      },
      "execution_count": 199,
      "outputs": [
        {
          "output_type": "display_data",
          "data": {
            "text/plain": [
              "<Figure size 576x576 with 1 Axes>"
            ],
            "image/png": "[encoded data removed]"
          },
          "metadata": {
            "needs_background": "light"
          }
        }
      ]
    },
    {
      "cell_type": "markdown",
      "source": [
        "**Downloading Q-Table**"
      ],
      "metadata": {
        "id": "Au-I_3Ky91LR"
      }
    },
    {
      "cell_type": "code",
      "source": [
        "with open('q_table_deterministic.pkl', 'wb') as f:\n",
        "    pickle.dump(q_table, f)\n",
        "\n",
        "from google.colab import files\n",
        "files.download('q_table_deterministic.pkl')\n"
      ],
      "metadata": {
        "colab": {
          "base_uri": "https://localhost:8080/",
          "height": 17
        },
        "id": "PoEcmudDNHpn",
        "outputId": "14932ed7-a046-4ca5-c945-f70b72183629"
      },
      "execution_count": 200,
      "outputs": [
        {
          "output_type": "display_data",
          "data": {
            "text/plain": [
              "<IPython.core.display.Javascript object>"
            ],
            "application/javascript": [
              "\n",
              "    async function download(id, filename, size) {\n",
              "      if (!google.colab.kernel.accessAllowed) {\n",
              "        return;\n",
              "      }\n",
              "      const div = document.createElement('div');\n",
              "      const label = document.createElement('label');\n",
              "      label.textContent = `Downloading \"${filename}\": `;\n",
              "      div.appendChild(label);\n",
              "      const progress = document.createElement('progress');\n",
              "      progress.max = size;\n",
              "      div.appendChild(progress);\n",
              "      document.body.appendChild(div);\n",
              "\n",
              "      const buffers = [];\n",
              "      let downloaded = 0;\n",
              "\n",
              "      const channel = await google.colab.kernel.comms.open(id);\n",
              "      // Send a message to notify the kernel that we're ready.\n",
              "      channel.send({})\n",
              "\n",
              "      for await (const message of channel.messages) {\n",
              "        // Send a message to notify the kernel that we're ready.\n",
              "        channel.send({})\n",
              "        if (message.buffers) {\n",
              "          for (const buffer of message.buffers) {\n",
              "            buffers.push(buffer);\n",
              "            downloaded += buffer.byteLength;\n",
              "            progress.value = downloaded;\n",
              "          }\n",
              "        }\n",
              "      }\n",
              "      const blob = new Blob(buffers, {type: 'application/binary'});\n",
              "      const a = document.createElement('a');\n",
              "      a.href = window.URL.createObjectURL(blob);\n",
              "      a.download = filename;\n",
              "      div.appendChild(a);\n",
              "      a.click();\n",
              "      div.remove();\n",
              "    }\n",
              "  "
            ]
          },
          "metadata": {}
        },
        {
          "output_type": "display_data",
          "data": {
            "text/plain": [
              "<IPython.core.display.Javascript object>"
            ],
            "application/javascript": [
              "download(\"download_3141420b-c7d3-40e1-95b9-6dfd6dde29f1\", \"q_table_deterministic.pkl\", 952)"
            ]
          },
          "metadata": {}
        }
      ]
    },
    {
      "cell_type": "code",
      "source": [
        "with open('q_table_stochastic.pkl', 'wb') as f:\n",
        "    pickle.dump(q_table_stoc, f)\n",
        "\n",
        "from google.colab import files\n",
        "files.download('q_table_stochastic.pkl')"
      ],
      "metadata": {
        "colab": {
          "base_uri": "https://localhost:8080/",
          "height": 17
        },
        "id": "rbQyDluj-J_h",
        "outputId": "2eb57909-558f-4314-842b-099631e6038b"
      },
      "execution_count": 119,
      "outputs": [
        {
          "output_type": "display_data",
          "data": {
            "text/plain": [
              "<IPython.core.display.Javascript object>"
            ],
            "application/javascript": [
              "\n",
              "    async function download(id, filename, size) {\n",
              "      if (!google.colab.kernel.accessAllowed) {\n",
              "        return;\n",
              "      }\n",
              "      const div = document.createElement('div');\n",
              "      const label = document.createElement('label');\n",
              "      label.textContent = `Downloading \"${filename}\": `;\n",
              "      div.appendChild(label);\n",
              "      const progress = document.createElement('progress');\n",
              "      progress.max = size;\n",
              "      div.appendChild(progress);\n",
              "      document.body.appendChild(div);\n",
              "\n",
              "      const buffers = [];\n",
              "      let downloaded = 0;\n",
              "\n",
              "      const channel = await google.colab.kernel.comms.open(id);\n",
              "      // Send a message to notify the kernel that we're ready.\n",
              "      channel.send({})\n",
              "\n",
              "      for await (const message of channel.messages) {\n",
              "        // Send a message to notify the kernel that we're ready.\n",
              "        channel.send({})\n",
              "        if (message.buffers) {\n",
              "          for (const buffer of message.buffers) {\n",
              "            buffers.push(buffer);\n",
              "            downloaded += buffer.byteLength;\n",
              "            progress.value = downloaded;\n",
              "          }\n",
              "        }\n",
              "      }\n",
              "      const blob = new Blob(buffers, {type: 'application/binary'});\n",
              "      const a = document.createElement('a');\n",
              "      a.href = window.URL.createObjectURL(blob);\n",
              "      a.download = filename;\n",
              "      div.appendChild(a);\n",
              "      a.click();\n",
              "      div.remove();\n",
              "    }\n",
              "  "
            ]
          },
          "metadata": {}
        },
        {
          "output_type": "display_data",
          "data": {
            "text/plain": [
              "<IPython.core.display.Javascript object>"
            ],
            "application/javascript": [
              "download(\"download_76254e24-03f2-4054-816c-0f6eb1e432e6\", \"q_table_stochastic.pkl\", 952)"
            ]
          },
          "metadata": {}
        }
      ]
    },
    {
      "cell_type": "markdown",
      "source": [
        "###**2.2.3 Testing Q-Values**\n",
        "\n",
        "**5x5 Grid Environment - Deterministic**"
      ],
      "metadata": {
        "id": "Uj1nr-UCX92g"
      }
    },
    {
      "cell_type": "code",
      "source": [
        "env = GridEnv(env_type = \"deterministic\")\n",
        "agent = RandomAgent(env)\n",
        "\n",
        "obs, info = env.reset()\n",
        "terminated, truncated = False, False\n",
        "\n",
        "\n",
        "output_grid = widgets.Grid(1, 1)\n",
        "with output_grid.output_to(0, 0):\n",
        "  env.render()\n",
        "\n",
        "def get_max_val(arg):\n",
        "  return max(arg)\n",
        "  \n",
        "for i in q_table:\n",
        "  max_val = get_max_val(i)\n",
        "  i_to_list = i.tolist()\n",
        "  max_index = i_to_list.index(max_val)\n",
        "  observation, reward, terminated, truncated, info, agent_pos = env.step(max_index)\n",
        "  with output_grid.output_to(0, 0):\n",
        "    output_grid.clear_cell()\n",
        "    plt.imshow(grid)\n",
        "    env.render()\n",
        "  time.sleep(1)\n",
        "\n",
        "  "
      ],
      "metadata": {
        "colab": {
          "base_uri": "https://localhost:8080/",
          "height": 287
        },
        "id": "yO6PQTYjA-4s",
        "outputId": "12311e11-52f0-47e5-b40d-30ee7710235a"
      },
      "execution_count": 168,
      "outputs": [
        {
          "output_type": "display_data",
          "data": {
            "text/plain": [
              "<IPython.core.display.HTML object>"
            ],
            "text/html": [
              "<style>\n",
              "       table#id82, #id82 > tbody > tr > th, #id82 > tbody > tr > td {\n",
              "         border: 1px solid lightgray;\n",
              "         border-collapse:collapse;\n",
              "         \n",
              "        }</style>"
            ]
          },
          "metadata": {}
        },
        {
          "output_type": "display_data",
          "data": {
            "text/plain": [
              "<IPython.core.display.HTML object>"
            ],
            "text/html": [
              "<table id=id82><tr><td id=id82-0-0></td></tr></table>"
            ]
          },
          "metadata": {}
        },
        {
          "output_type": "display_data",
          "data": {
            "text/plain": [
              "<IPython.core.display.Javascript object>"
            ],
            "application/javascript": [
              "window[\"01a2b99e-ba4b-11ed-85d0-0242ac1c000c\"] = google.colab.output.getActiveOutputArea();\n",
              "//# sourceURL=js_b67e93e38b"
            ]
          },
          "metadata": {}
        },
        {
          "output_type": "display_data",
          "data": {
            "text/plain": [
              "<IPython.core.display.Javascript object>"
            ],
            "application/javascript": [
              "window[\"01a3309a-ba4b-11ed-85d0-0242ac1c000c\"] = document.querySelector(\"#id82-0-0\");\n",
              "//# sourceURL=js_4817aa3f89"
            ]
          },
          "metadata": {}
        },
        {
          "output_type": "display_data",
          "data": {
            "text/plain": [
              "<IPython.core.display.Javascript object>"
            ],
            "application/javascript": [
              "window[\"01a42d60-ba4b-11ed-85d0-0242ac1c000c\"] = google.colab.output.setActiveOutputArea(window[\"01a3309a-ba4b-11ed-85d0-0242ac1c000c\"]);\n",
              "//# sourceURL=js_7d3a6b03bf"
            ]
          },
          "metadata": {}
        },
        {
          "output_type": "display_data",
          "data": {
            "text/plain": [
              "<IPython.core.display.Javascript object>"
            ],
            "application/javascript": [
              "window[\"01c60b24-ba4b-11ed-85d0-0242ac1c000c\"] = google.colab.output.setActiveOutputArea(window[\"01a2b99e-ba4b-11ed-85d0-0242ac1c000c\"]);\n",
              "//# sourceURL=js_0c3845d274"
            ]
          },
          "metadata": {}
        },
        {
          "output_type": "display_data",
          "data": {
            "text/plain": [
              "<IPython.core.display.Javascript object>"
            ],
            "application/javascript": [
              "window[\"01c986aa-ba4b-11ed-85d0-0242ac1c000c\"] = google.colab.output.getActiveOutputArea();\n",
              "//# sourceURL=js_05ae6bf4aa"
            ]
          },
          "metadata": {}
        },
        {
          "output_type": "display_data",
          "data": {
            "text/plain": [
              "<IPython.core.display.Javascript object>"
            ],
            "application/javascript": [
              "window[\"01ca1f20-ba4b-11ed-85d0-0242ac1c000c\"] = document.querySelector(\"#id82-0-0\");\n",
              "//# sourceURL=js_6e3a3b050d"
            ]
          },
          "metadata": {}
        },
        {
          "output_type": "display_data",
          "data": {
            "text/plain": [
              "<IPython.core.display.Javascript object>"
            ],
            "application/javascript": [
              "window[\"01caa15c-ba4b-11ed-85d0-0242ac1c000c\"] = google.colab.output.setActiveOutputArea(window[\"01ca1f20-ba4b-11ed-85d0-0242ac1c000c\"]);\n",
              "//# sourceURL=js_a2f3e21360"
            ]
          },
          "metadata": {}
        },
        {
          "output_type": "display_data",
          "data": {
            "text/plain": [
              "<IPython.core.display.Javascript object>"
            ],
            "application/javascript": [
              "window[\"01f04dbc-ba4b-11ed-85d0-0242ac1c000c\"] = google.colab.output.setActiveOutputArea(window[\"01c986aa-ba4b-11ed-85d0-0242ac1c000c\"]);\n",
              "//# sourceURL=js_a57179fdb5"
            ]
          },
          "metadata": {}
        },
        {
          "output_type": "display_data",
          "data": {
            "text/plain": [
              "<IPython.core.display.Javascript object>"
            ],
            "application/javascript": [
              "window[\"028b811a-ba4b-11ed-85d0-0242ac1c000c\"] = google.colab.output.getActiveOutputArea();\n",
              "//# sourceURL=js_0977983771"
            ]
          },
          "metadata": {}
        },
        {
          "output_type": "display_data",
          "data": {
            "text/plain": [
              "<IPython.core.display.Javascript object>"
            ],
            "application/javascript": [
              "window[\"028c09dc-ba4b-11ed-85d0-0242ac1c000c\"] = document.querySelector(\"#id82-0-0\");\n",
              "//# sourceURL=js_bdfb657e57"
            ]
          },
          "metadata": {}
        },
        {
          "output_type": "display_data",
          "data": {
            "text/plain": [
              "<IPython.core.display.Javascript object>"
            ],
            "application/javascript": [
              "window[\"028c81b4-ba4b-11ed-85d0-0242ac1c000c\"] = google.colab.output.setActiveOutputArea(window[\"028c09dc-ba4b-11ed-85d0-0242ac1c000c\"]);\n",
              "//# sourceURL=js_55f6fbd478"
            ]
          },
          "metadata": {}
        },
        {
          "output_type": "display_data",
          "data": {
            "text/plain": [
              "<IPython.core.display.Javascript object>"
            ],
            "application/javascript": [
              "window[\"02b13f22-ba4b-11ed-85d0-0242ac1c000c\"] = google.colab.output.setActiveOutputArea(window[\"028b811a-ba4b-11ed-85d0-0242ac1c000c\"]);\n",
              "//# sourceURL=js_94570be33b"
            ]
          },
          "metadata": {}
        },
        {
          "output_type": "display_data",
          "data": {
            "text/plain": [
              "<IPython.core.display.Javascript object>"
            ],
            "application/javascript": [
              "window[\"034ce09e-ba4b-11ed-85d0-0242ac1c000c\"] = google.colab.output.getActiveOutputArea();\n",
              "//# sourceURL=js_ba6604f830"
            ]
          },
          "metadata": {}
        },
        {
          "output_type": "display_data",
          "data": {
            "text/plain": [
              "<IPython.core.display.Javascript object>"
            ],
            "application/javascript": [
              "window[\"034db5c8-ba4b-11ed-85d0-0242ac1c000c\"] = document.querySelector(\"#id82-0-0\");\n",
              "//# sourceURL=js_e0432a6eed"
            ]
          },
          "metadata": {}
        },
        {
          "output_type": "display_data",
          "data": {
            "text/plain": [
              "<IPython.core.display.Javascript object>"
            ],
            "application/javascript": [
              "window[\"034e57ee-ba4b-11ed-85d0-0242ac1c000c\"] = google.colab.output.setActiveOutputArea(window[\"034db5c8-ba4b-11ed-85d0-0242ac1c000c\"]);\n",
              "//# sourceURL=js_51171dd201"
            ]
          },
          "metadata": {}
        },
        {
          "output_type": "display_data",
          "data": {
            "text/plain": [
              "<IPython.core.display.Javascript object>"
            ],
            "application/javascript": [
              "window[\"0382c038-ba4b-11ed-85d0-0242ac1c000c\"] = google.colab.output.setActiveOutputArea(window[\"034ce09e-ba4b-11ed-85d0-0242ac1c000c\"]);\n",
              "//# sourceURL=js_16a1bcb423"
            ]
          },
          "metadata": {}
        },
        {
          "output_type": "display_data",
          "data": {
            "text/plain": [
              "<IPython.core.display.Javascript object>"
            ],
            "application/javascript": [
              "window[\"041e2730-ba4b-11ed-85d0-0242ac1c000c\"] = google.colab.output.getActiveOutputArea();\n",
              "//# sourceURL=js_664d50810f"
            ]
          },
          "metadata": {}
        },
        {
          "output_type": "display_data",
          "data": {
            "text/plain": [
              "<IPython.core.display.Javascript object>"
            ],
            "application/javascript": [
              "window[\"041f0f1a-ba4b-11ed-85d0-0242ac1c000c\"] = document.querySelector(\"#id82-0-0\");\n",
              "//# sourceURL=js_77e214be55"
            ]
          },
          "metadata": {}
        },
        {
          "output_type": "display_data",
          "data": {
            "text/plain": [
              "<IPython.core.display.Javascript object>"
            ],
            "application/javascript": [
              "window[\"041f85da-ba4b-11ed-85d0-0242ac1c000c\"] = google.colab.output.setActiveOutputArea(window[\"041f0f1a-ba4b-11ed-85d0-0242ac1c000c\"]);\n",
              "//# sourceURL=js_05f40081e0"
            ]
          },
          "metadata": {}
        },
        {
          "output_type": "display_data",
          "data": {
            "text/plain": [
              "<IPython.core.display.Javascript object>"
            ],
            "application/javascript": [
              "window[\"045bca86-ba4b-11ed-85d0-0242ac1c000c\"] = google.colab.output.setActiveOutputArea(window[\"041e2730-ba4b-11ed-85d0-0242ac1c000c\"]);\n",
              "//# sourceURL=js_2799d84bed"
            ]
          },
          "metadata": {}
        },
        {
          "output_type": "display_data",
          "data": {
            "text/plain": [
              "<IPython.core.display.Javascript object>"
            ],
            "application/javascript": [
              "window[\"04f6d904-ba4b-11ed-85d0-0242ac1c000c\"] = google.colab.output.getActiveOutputArea();\n",
              "//# sourceURL=js_93c90f44d1"
            ]
          },
          "metadata": {}
        },
        {
          "output_type": "display_data",
          "data": {
            "text/plain": [
              "<IPython.core.display.Javascript object>"
            ],
            "application/javascript": [
              "window[\"04f746f0-ba4b-11ed-85d0-0242ac1c000c\"] = document.querySelector(\"#id82-0-0\");\n",
              "//# sourceURL=js_a4e25c6584"
            ]
          },
          "metadata": {}
        },
        {
          "output_type": "display_data",
          "data": {
            "text/plain": [
              "<IPython.core.display.Javascript object>"
            ],
            "application/javascript": [
              "window[\"04f7ccb0-ba4b-11ed-85d0-0242ac1c000c\"] = google.colab.output.setActiveOutputArea(window[\"04f746f0-ba4b-11ed-85d0-0242ac1c000c\"]);\n",
              "//# sourceURL=js_8ad8e9922b"
            ]
          },
          "metadata": {}
        },
        {
          "output_type": "display_data",
          "data": {
            "text/plain": [
              "<IPython.core.display.Javascript object>"
            ],
            "application/javascript": [
              "window[\"051a01a4-ba4b-11ed-85d0-0242ac1c000c\"] = google.colab.output.setActiveOutputArea(window[\"04f6d904-ba4b-11ed-85d0-0242ac1c000c\"]);\n",
              "//# sourceURL=js_46ea4a46c1"
            ]
          },
          "metadata": {}
        },
        {
          "output_type": "display_data",
          "data": {
            "text/plain": [
              "<IPython.core.display.Javascript object>"
            ],
            "application/javascript": [
              "window[\"05b5fbd6-ba4b-11ed-85d0-0242ac1c000c\"] = google.colab.output.getActiveOutputArea();\n",
              "//# sourceURL=js_d778316039"
            ]
          },
          "metadata": {}
        },
        {
          "output_type": "display_data",
          "data": {
            "text/plain": [
              "<IPython.core.display.Javascript object>"
            ],
            "application/javascript": [
              "window[\"05b6b652-ba4b-11ed-85d0-0242ac1c000c\"] = document.querySelector(\"#id82-0-0\");\n",
              "//# sourceURL=js_88d5b7255c"
            ]
          },
          "metadata": {}
        },
        {
          "output_type": "display_data",
          "data": {
            "text/plain": [
              "<IPython.core.display.Javascript object>"
            ],
            "application/javascript": [
              "window[\"05b75616-ba4b-11ed-85d0-0242ac1c000c\"] = google.colab.output.setActiveOutputArea(window[\"05b6b652-ba4b-11ed-85d0-0242ac1c000c\"]);\n",
              "//# sourceURL=js_337b257d52"
            ]
          },
          "metadata": {}
        },
        {
          "output_type": "display_data",
          "data": {
            "text/plain": [
              "<IPython.core.display.Javascript object>"
            ],
            "application/javascript": [
              "window[\"05db6f92-ba4b-11ed-85d0-0242ac1c000c\"] = google.colab.output.setActiveOutputArea(window[\"05b5fbd6-ba4b-11ed-85d0-0242ac1c000c\"]);\n",
              "//# sourceURL=js_9240fe11cd"
            ]
          },
          "metadata": {}
        },
        {
          "output_type": "display_data",
          "data": {
            "text/plain": [
              "<IPython.core.display.Javascript object>"
            ],
            "application/javascript": [
              "window[\"0677d878-ba4b-11ed-85d0-0242ac1c000c\"] = google.colab.output.getActiveOutputArea();\n",
              "//# sourceURL=js_e9d8ea15f7"
            ]
          },
          "metadata": {}
        },
        {
          "output_type": "display_data",
          "data": {
            "text/plain": [
              "<IPython.core.display.Javascript object>"
            ],
            "application/javascript": [
              "window[\"0678b8e2-ba4b-11ed-85d0-0242ac1c000c\"] = document.querySelector(\"#id82-0-0\");\n",
              "//# sourceURL=js_733e9a7db7"
            ]
          },
          "metadata": {}
        },
        {
          "output_type": "display_data",
          "data": {
            "text/plain": [
              "<IPython.core.display.Javascript object>"
            ],
            "application/javascript": [
              "window[\"06792aac-ba4b-11ed-85d0-0242ac1c000c\"] = google.colab.output.setActiveOutputArea(window[\"0678b8e2-ba4b-11ed-85d0-0242ac1c000c\"]);\n",
              "//# sourceURL=js_c0e3169354"
            ]
          },
          "metadata": {}
        },
        {
          "output_type": "display_data",
          "data": {
            "text/plain": [
              "<IPython.core.display.Javascript object>"
            ],
            "application/javascript": [
              "window[\"069dbaa2-ba4b-11ed-85d0-0242ac1c000c\"] = google.colab.output.setActiveOutputArea(window[\"0677d878-ba4b-11ed-85d0-0242ac1c000c\"]);\n",
              "//# sourceURL=js_d6a916f528"
            ]
          },
          "metadata": {}
        },
        {
          "output_type": "display_data",
          "data": {
            "text/plain": [
              "<IPython.core.display.Javascript object>"
            ],
            "application/javascript": [
              "window[\"0738e6a8-ba4b-11ed-85d0-0242ac1c000c\"] = google.colab.output.getActiveOutputArea();\n",
              "//# sourceURL=js_7751c39261"
            ]
          },
          "metadata": {}
        },
        {
          "output_type": "display_data",
          "data": {
            "text/plain": [
              "<IPython.core.display.Javascript object>"
            ],
            "application/javascript": [
              "window[\"073976d6-ba4b-11ed-85d0-0242ac1c000c\"] = document.querySelector(\"#id82-0-0\");\n",
              "//# sourceURL=js_2fe960577f"
            ]
          },
          "metadata": {}
        },
        {
          "output_type": "display_data",
          "data": {
            "text/plain": [
              "<IPython.core.display.Javascript object>"
            ],
            "application/javascript": [
              "window[\"073a9638-ba4b-11ed-85d0-0242ac1c000c\"] = google.colab.output.setActiveOutputArea(window[\"073976d6-ba4b-11ed-85d0-0242ac1c000c\"]);\n",
              "//# sourceURL=js_2ed7f032bc"
            ]
          },
          "metadata": {}
        },
        {
          "output_type": "display_data",
          "data": {
            "text/plain": [
              "<IPython.core.display.Javascript object>"
            ],
            "application/javascript": [
              "window[\"07866770-ba4b-11ed-85d0-0242ac1c000c\"] = google.colab.output.setActiveOutputArea(window[\"0738e6a8-ba4b-11ed-85d0-0242ac1c000c\"]);\n",
              "//# sourceURL=js_303bf4d2e5"
            ]
          },
          "metadata": {}
        },
        {
          "output_type": "display_data",
          "data": {
            "text/plain": [
              "<IPython.core.display.Javascript object>"
            ],
            "application/javascript": [
              "window[\"0821e600-ba4b-11ed-85d0-0242ac1c000c\"] = google.colab.output.getActiveOutputArea();\n",
              "//# sourceURL=js_ebfab96079"
            ]
          },
          "metadata": {}
        },
        {
          "output_type": "display_data",
          "data": {
            "text/plain": [
              "<IPython.core.display.Javascript object>"
            ],
            "application/javascript": [
              "window[\"082254fa-ba4b-11ed-85d0-0242ac1c000c\"] = document.querySelector(\"#id82-0-0\");\n",
              "//# sourceURL=js_db3260cf43"
            ]
          },
          "metadata": {}
        },
        {
          "output_type": "display_data",
          "data": {
            "text/plain": [
              "<IPython.core.display.Javascript object>"
            ],
            "application/javascript": [
              "window[\"0822f6f8-ba4b-11ed-85d0-0242ac1c000c\"] = google.colab.output.setActiveOutputArea(window[\"082254fa-ba4b-11ed-85d0-0242ac1c000c\"]);\n",
              "//# sourceURL=js_4388586f68"
            ]
          },
          "metadata": {}
        },
        {
          "output_type": "display_data",
          "data": {
            "text/plain": [
              "<IPython.core.display.Javascript object>"
            ],
            "application/javascript": [
              "window[\"0845b85a-ba4b-11ed-85d0-0242ac1c000c\"] = google.colab.output.setActiveOutputArea(window[\"0821e600-ba4b-11ed-85d0-0242ac1c000c\"]);\n",
              "//# sourceURL=js_436e7fc57d"
            ]
          },
          "metadata": {}
        },
        {
          "output_type": "display_data",
          "data": {
            "text/plain": [
              "<IPython.core.display.Javascript object>"
            ],
            "application/javascript": [
              "window[\"08e12c68-ba4b-11ed-85d0-0242ac1c000c\"] = google.colab.output.getActiveOutputArea();\n",
              "//# sourceURL=js_808bc72880"
            ]
          },
          "metadata": {}
        },
        {
          "output_type": "display_data",
          "data": {
            "text/plain": [
              "<IPython.core.display.Javascript object>"
            ],
            "application/javascript": [
              "window[\"08e196a8-ba4b-11ed-85d0-0242ac1c000c\"] = document.querySelector(\"#id82-0-0\");\n",
              "//# sourceURL=js_36f0c13721"
            ]
          },
          "metadata": {}
        },
        {
          "output_type": "display_data",
          "data": {
            "text/plain": [
              "<IPython.core.display.Javascript object>"
            ],
            "application/javascript": [
              "window[\"08e25d22-ba4b-11ed-85d0-0242ac1c000c\"] = google.colab.output.setActiveOutputArea(window[\"08e196a8-ba4b-11ed-85d0-0242ac1c000c\"]);\n",
              "//# sourceURL=js_5cd32160c7"
            ]
          },
          "metadata": {}
        },
        {
          "output_type": "display_data",
          "data": {
            "text/plain": [
              "<IPython.core.display.Javascript object>"
            ],
            "application/javascript": [
              "window[\"09067cac-ba4b-11ed-85d0-0242ac1c000c\"] = google.colab.output.setActiveOutputArea(window[\"08e12c68-ba4b-11ed-85d0-0242ac1c000c\"]);\n",
              "//# sourceURL=js_cdb686d180"
            ]
          },
          "metadata": {}
        },
        {
          "output_type": "display_data",
          "data": {
            "text/plain": [
              "<IPython.core.display.Javascript object>"
            ],
            "application/javascript": [
              "window[\"09a2caee-ba4b-11ed-85d0-0242ac1c000c\"] = google.colab.output.getActiveOutputArea();\n",
              "//# sourceURL=js_0a18c5998d"
            ]
          },
          "metadata": {}
        },
        {
          "output_type": "display_data",
          "data": {
            "text/plain": [
              "<IPython.core.display.Javascript object>"
            ],
            "application/javascript": [
              "window[\"09a34d7a-ba4b-11ed-85d0-0242ac1c000c\"] = document.querySelector(\"#id82-0-0\");\n",
              "//# sourceURL=js_11c421f5af"
            ]
          },
          "metadata": {}
        },
        {
          "output_type": "display_data",
          "data": {
            "text/plain": [
              "<IPython.core.display.Javascript object>"
            ],
            "application/javascript": [
              "window[\"09a3efaa-ba4b-11ed-85d0-0242ac1c000c\"] = google.colab.output.setActiveOutputArea(window[\"09a34d7a-ba4b-11ed-85d0-0242ac1c000c\"]);\n",
              "//# sourceURL=js_e11794e3a8"
            ]
          },
          "metadata": {}
        },
        {
          "output_type": "display_data",
          "data": {
            "text/plain": [
              "<IPython.core.display.Javascript object>"
            ],
            "application/javascript": [
              "window[\"09c92f4a-ba4b-11ed-85d0-0242ac1c000c\"] = google.colab.output.setActiveOutputArea(window[\"09a2caee-ba4b-11ed-85d0-0242ac1c000c\"]);\n",
              "//# sourceURL=js_30b1aaa517"
            ]
          },
          "metadata": {}
        },
        {
          "output_type": "display_data",
          "data": {
            "text/plain": [
              "<IPython.core.display.Javascript object>"
            ],
            "application/javascript": [
              "window[\"0a65f33e-ba4b-11ed-85d0-0242ac1c000c\"] = google.colab.output.getActiveOutputArea();\n",
              "//# sourceURL=js_83f394e193"
            ]
          },
          "metadata": {}
        },
        {
          "output_type": "display_data",
          "data": {
            "text/plain": [
              "<IPython.core.display.Javascript object>"
            ],
            "application/javascript": [
              "window[\"0a667520-ba4b-11ed-85d0-0242ac1c000c\"] = document.querySelector(\"#id82-0-0\");\n",
              "//# sourceURL=js_eabce51570"
            ]
          },
          "metadata": {}
        },
        {
          "output_type": "display_data",
          "data": {
            "text/plain": [
              "<IPython.core.display.Javascript object>"
            ],
            "application/javascript": [
              "window[\"0a673410-ba4b-11ed-85d0-0242ac1c000c\"] = google.colab.output.setActiveOutputArea(window[\"0a667520-ba4b-11ed-85d0-0242ac1c000c\"]);\n",
              "//# sourceURL=js_086ad13002"
            ]
          },
          "metadata": {}
        },
        {
          "output_type": "display_data",
          "data": {
            "text/plain": [
              "<IPython.core.display.Javascript object>"
            ],
            "application/javascript": [
              "window[\"0a8a2ba0-ba4b-11ed-85d0-0242ac1c000c\"] = google.colab.output.setActiveOutputArea(window[\"0a65f33e-ba4b-11ed-85d0-0242ac1c000c\"]);\n",
              "//# sourceURL=js_f2cfd71541"
            ]
          },
          "metadata": {}
        },
        {
          "output_type": "display_data",
          "data": {
            "text/plain": [
              "<IPython.core.display.Javascript object>"
            ],
            "application/javascript": [
              "window[\"0b257cea-ba4b-11ed-85d0-0242ac1c000c\"] = google.colab.output.getActiveOutputArea();\n",
              "//# sourceURL=js_93d8edc72b"
            ]
          },
          "metadata": {}
        },
        {
          "output_type": "display_data",
          "data": {
            "text/plain": [
              "<IPython.core.display.Javascript object>"
            ],
            "application/javascript": [
              "window[\"0b266ee8-ba4b-11ed-85d0-0242ac1c000c\"] = document.querySelector(\"#id82-0-0\");\n",
              "//# sourceURL=js_6be5c52873"
            ]
          },
          "metadata": {}
        },
        {
          "output_type": "display_data",
          "data": {
            "text/plain": [
              "<IPython.core.display.Javascript object>"
            ],
            "application/javascript": [
              "window[\"0b26e15c-ba4b-11ed-85d0-0242ac1c000c\"] = google.colab.output.setActiveOutputArea(window[\"0b266ee8-ba4b-11ed-85d0-0242ac1c000c\"]);\n",
              "//# sourceURL=js_07b7208d07"
            ]
          },
          "metadata": {}
        },
        {
          "output_type": "display_data",
          "data": {
            "text/plain": [
              "<IPython.core.display.Javascript object>"
            ],
            "application/javascript": [
              "window[\"0b6087a4-ba4b-11ed-85d0-0242ac1c000c\"] = google.colab.output.setActiveOutputArea(window[\"0b257cea-ba4b-11ed-85d0-0242ac1c000c\"]);\n",
              "//# sourceURL=js_e874206e85"
            ]
          },
          "metadata": {}
        },
        {
          "output_type": "display_data",
          "data": {
            "text/plain": [
              "<IPython.core.display.Javascript object>"
            ],
            "application/javascript": [
              "window[\"0bfc6494-ba4b-11ed-85d0-0242ac1c000c\"] = google.colab.output.getActiveOutputArea();\n",
              "//# sourceURL=js_932118a0b0"
            ]
          },
          "metadata": {}
        },
        {
          "output_type": "display_data",
          "data": {
            "text/plain": [
              "<IPython.core.display.Javascript object>"
            ],
            "application/javascript": [
              "window[\"0bfd1f60-ba4b-11ed-85d0-0242ac1c000c\"] = document.querySelector(\"#id82-0-0\");\n",
              "//# sourceURL=js_9055723a67"
            ]
          },
          "metadata": {}
        },
        {
          "output_type": "display_data",
          "data": {
            "text/plain": [
              "<IPython.core.display.Javascript object>"
            ],
            "application/javascript": [
              "window[\"0bfda476-ba4b-11ed-85d0-0242ac1c000c\"] = google.colab.output.setActiveOutputArea(window[\"0bfd1f60-ba4b-11ed-85d0-0242ac1c000c\"]);\n",
              "//# sourceURL=js_36b40bcc2b"
            ]
          },
          "metadata": {}
        },
        {
          "output_type": "display_data",
          "data": {
            "text/plain": [
              "<IPython.core.display.Javascript object>"
            ],
            "application/javascript": [
              "window[\"0c26525e-ba4b-11ed-85d0-0242ac1c000c\"] = google.colab.output.setActiveOutputArea(window[\"0bfc6494-ba4b-11ed-85d0-0242ac1c000c\"]);\n",
              "//# sourceURL=js_9098d148d5"
            ]
          },
          "metadata": {}
        },
        {
          "output_type": "display_data",
          "data": {
            "text/plain": [
              "<IPython.core.display.Javascript object>"
            ],
            "application/javascript": [
              "window[\"0cc1eb1a-ba4b-11ed-85d0-0242ac1c000c\"] = google.colab.output.getActiveOutputArea();\n",
              "//# sourceURL=js_9479a7d628"
            ]
          },
          "metadata": {}
        },
        {
          "output_type": "display_data",
          "data": {
            "text/plain": [
              "<IPython.core.display.Javascript object>"
            ],
            "application/javascript": [
              "window[\"0cc263ce-ba4b-11ed-85d0-0242ac1c000c\"] = document.querySelector(\"#id82-0-0\");\n",
              "//# sourceURL=js_fc59197aea"
            ]
          },
          "metadata": {}
        },
        {
          "output_type": "display_data",
          "data": {
            "text/plain": [
              "<IPython.core.display.Javascript object>"
            ],
            "application/javascript": [
              "window[\"0cc32368-ba4b-11ed-85d0-0242ac1c000c\"] = google.colab.output.setActiveOutputArea(window[\"0cc263ce-ba4b-11ed-85d0-0242ac1c000c\"]);\n",
              "//# sourceURL=js_3b8e0f4cd0"
            ]
          },
          "metadata": {}
        },
        {
          "output_type": "display_data",
          "data": {
            "text/plain": [
              "<IPython.core.display.Javascript object>"
            ],
            "application/javascript": [
              "window[\"0ce85b60-ba4b-11ed-85d0-0242ac1c000c\"] = google.colab.output.setActiveOutputArea(window[\"0cc1eb1a-ba4b-11ed-85d0-0242ac1c000c\"]);\n",
              "//# sourceURL=js_99fcafc1d8"
            ]
          },
          "metadata": {}
        },
        {
          "output_type": "display_data",
          "data": {
            "text/plain": [
              "<IPython.core.display.Javascript object>"
            ],
            "application/javascript": [
              "window[\"0d8445c0-ba4b-11ed-85d0-0242ac1c000c\"] = google.colab.output.getActiveOutputArea();\n",
              "//# sourceURL=js_ec5cac4b74"
            ]
          },
          "metadata": {}
        },
        {
          "output_type": "display_data",
          "data": {
            "text/plain": [
              "<IPython.core.display.Javascript object>"
            ],
            "application/javascript": [
              "window[\"0d84afb0-ba4b-11ed-85d0-0242ac1c000c\"] = document.querySelector(\"#id82-0-0\");\n",
              "//# sourceURL=js_b694ad431a"
            ]
          },
          "metadata": {}
        },
        {
          "output_type": "display_data",
          "data": {
            "text/plain": [
              "<IPython.core.display.Javascript object>"
            ],
            "application/javascript": [
              "window[\"0d85290e-ba4b-11ed-85d0-0242ac1c000c\"] = google.colab.output.setActiveOutputArea(window[\"0d84afb0-ba4b-11ed-85d0-0242ac1c000c\"]);\n",
              "//# sourceURL=js_04355f4288"
            ]
          },
          "metadata": {}
        },
        {
          "output_type": "display_data",
          "data": {
            "text/plain": [
              "<IPython.core.display.Javascript object>"
            ],
            "application/javascript": [
              "window[\"0da782ba-ba4b-11ed-85d0-0242ac1c000c\"] = google.colab.output.setActiveOutputArea(window[\"0d8445c0-ba4b-11ed-85d0-0242ac1c000c\"]);\n",
              "//# sourceURL=js_9dee179126"
            ]
          },
          "metadata": {}
        },
        {
          "output_type": "display_data",
          "data": {
            "text/plain": [
              "<IPython.core.display.Javascript object>"
            ],
            "application/javascript": [
              "window[\"0e434e2a-ba4b-11ed-85d0-0242ac1c000c\"] = google.colab.output.getActiveOutputArea();\n",
              "//# sourceURL=js_41ce73f057"
            ]
          },
          "metadata": {}
        },
        {
          "output_type": "display_data",
          "data": {
            "text/plain": [
              "<IPython.core.display.Javascript object>"
            ],
            "application/javascript": [
              "window[\"0e43c40e-ba4b-11ed-85d0-0242ac1c000c\"] = document.querySelector(\"#id82-0-0\");\n",
              "//# sourceURL=js_50fa4cf367"
            ]
          },
          "metadata": {}
        },
        {
          "output_type": "display_data",
          "data": {
            "text/plain": [
              "<IPython.core.display.Javascript object>"
            ],
            "application/javascript": [
              "window[\"0e446102-ba4b-11ed-85d0-0242ac1c000c\"] = google.colab.output.setActiveOutputArea(window[\"0e43c40e-ba4b-11ed-85d0-0242ac1c000c\"]);\n",
              "//# sourceURL=js_254c31031f"
            ]
          },
          "metadata": {}
        },
        {
          "output_type": "display_data",
          "data": {
            "text/plain": [
              "<IPython.core.display.Javascript object>"
            ],
            "application/javascript": [
              "window[\"0e6a5326-ba4b-11ed-85d0-0242ac1c000c\"] = google.colab.output.setActiveOutputArea(window[\"0e434e2a-ba4b-11ed-85d0-0242ac1c000c\"]);\n",
              "//# sourceURL=js_e776307838"
            ]
          },
          "metadata": {}
        },
        {
          "output_type": "display_data",
          "data": {
            "text/plain": [
              "<IPython.core.display.Javascript object>"
            ],
            "application/javascript": [
              "window[\"0f0595c0-ba4b-11ed-85d0-0242ac1c000c\"] = google.colab.output.getActiveOutputArea();\n",
              "//# sourceURL=js_4e7eed8029"
            ]
          },
          "metadata": {}
        },
        {
          "output_type": "display_data",
          "data": {
            "text/plain": [
              "<IPython.core.display.Javascript object>"
            ],
            "application/javascript": [
              "window[\"0f066e5a-ba4b-11ed-85d0-0242ac1c000c\"] = document.querySelector(\"#id82-0-0\");\n",
              "//# sourceURL=js_1520091e34"
            ]
          },
          "metadata": {}
        },
        {
          "output_type": "display_data",
          "data": {
            "text/plain": [
              "<IPython.core.display.Javascript object>"
            ],
            "application/javascript": [
              "window[\"0f070b4e-ba4b-11ed-85d0-0242ac1c000c\"] = google.colab.output.setActiveOutputArea(window[\"0f066e5a-ba4b-11ed-85d0-0242ac1c000c\"]);\n",
              "//# sourceURL=js_5a4d884bf6"
            ]
          },
          "metadata": {}
        },
        {
          "output_type": "display_data",
          "data": {
            "text/plain": [
              "<IPython.core.display.Javascript object>"
            ],
            "application/javascript": [
              "window[\"0f2bd4c4-ba4b-11ed-85d0-0242ac1c000c\"] = google.colab.output.setActiveOutputArea(window[\"0f0595c0-ba4b-11ed-85d0-0242ac1c000c\"]);\n",
              "//# sourceURL=js_f93cfd8562"
            ]
          },
          "metadata": {}
        },
        {
          "output_type": "display_data",
          "data": {
            "text/plain": [
              "<IPython.core.display.Javascript object>"
            ],
            "application/javascript": [
              "window[\"0fc781e4-ba4b-11ed-85d0-0242ac1c000c\"] = google.colab.output.getActiveOutputArea();\n",
              "//# sourceURL=js_67fb4c6ea8"
            ]
          },
          "metadata": {}
        },
        {
          "output_type": "display_data",
          "data": {
            "text/plain": [
              "<IPython.core.display.Javascript object>"
            ],
            "application/javascript": [
              "window[\"0fc82586-ba4b-11ed-85d0-0242ac1c000c\"] = document.querySelector(\"#id82-0-0\");\n",
              "//# sourceURL=js_75579d1e62"
            ]
          },
          "metadata": {}
        },
        {
          "output_type": "display_data",
          "data": {
            "text/plain": [
              "<IPython.core.display.Javascript object>"
            ],
            "application/javascript": [
              "window[\"0fc8c3ba-ba4b-11ed-85d0-0242ac1c000c\"] = google.colab.output.setActiveOutputArea(window[\"0fc82586-ba4b-11ed-85d0-0242ac1c000c\"]);\n",
              "//# sourceURL=js_60ec66ba1a"
            ]
          },
          "metadata": {}
        },
        {
          "output_type": "display_data",
          "data": {
            "text/plain": [
              "<IPython.core.display.Javascript object>"
            ],
            "application/javascript": [
              "window[\"0fecf5a0-ba4b-11ed-85d0-0242ac1c000c\"] = google.colab.output.setActiveOutputArea(window[\"0fc781e4-ba4b-11ed-85d0-0242ac1c000c\"]);\n",
              "//# sourceURL=js_06483ce37c"
            ]
          },
          "metadata": {}
        },
        {
          "output_type": "display_data",
          "data": {
            "text/plain": [
              "<IPython.core.display.Javascript object>"
            ],
            "application/javascript": [
              "window[\"1088b7ec-ba4b-11ed-85d0-0242ac1c000c\"] = google.colab.output.getActiveOutputArea();\n",
              "//# sourceURL=js_a60f60172c"
            ]
          },
          "metadata": {}
        },
        {
          "output_type": "display_data",
          "data": {
            "text/plain": [
              "<IPython.core.display.Javascript object>"
            ],
            "application/javascript": [
              "window[\"10894afe-ba4b-11ed-85d0-0242ac1c000c\"] = document.querySelector(\"#id82-0-0\");\n",
              "//# sourceURL=js_a80efc9005"
            ]
          },
          "metadata": {}
        },
        {
          "output_type": "display_data",
          "data": {
            "text/plain": [
              "<IPython.core.display.Javascript object>"
            ],
            "application/javascript": [
              "window[\"1089d28a-ba4b-11ed-85d0-0242ac1c000c\"] = google.colab.output.setActiveOutputArea(window[\"10894afe-ba4b-11ed-85d0-0242ac1c000c\"]);\n",
              "//# sourceURL=js_533bbaaaf9"
            ]
          },
          "metadata": {}
        },
        {
          "output_type": "display_data",
          "data": {
            "text/plain": [
              "<IPython.core.display.Javascript object>"
            ],
            "application/javascript": [
              "window[\"10ab6eb8-ba4b-11ed-85d0-0242ac1c000c\"] = google.colab.output.setActiveOutputArea(window[\"1088b7ec-ba4b-11ed-85d0-0242ac1c000c\"]);\n",
              "//# sourceURL=js_067c7f2708"
            ]
          },
          "metadata": {}
        },
        {
          "output_type": "display_data",
          "data": {
            "text/plain": [
              "<IPython.core.display.Javascript object>"
            ],
            "application/javascript": [
              "window[\"11477ef2-ba4b-11ed-85d0-0242ac1c000c\"] = google.colab.output.getActiveOutputArea();\n",
              "//# sourceURL=js_293f172120"
            ]
          },
          "metadata": {}
        },
        {
          "output_type": "display_data",
          "data": {
            "text/plain": [
              "<IPython.core.display.Javascript object>"
            ],
            "application/javascript": [
              "window[\"11483e3c-ba4b-11ed-85d0-0242ac1c000c\"] = document.querySelector(\"#id82-0-0\");\n",
              "//# sourceURL=js_fa2069e2d6"
            ]
          },
          "metadata": {}
        },
        {
          "output_type": "display_data",
          "data": {
            "text/plain": [
              "<IPython.core.display.Javascript object>"
            ],
            "application/javascript": [
              "window[\"1148ef8a-ba4b-11ed-85d0-0242ac1c000c\"] = google.colab.output.setActiveOutputArea(window[\"11483e3c-ba4b-11ed-85d0-0242ac1c000c\"]);\n",
              "//# sourceURL=js_16e7770ef8"
            ]
          },
          "metadata": {}
        },
        {
          "output_type": "display_data",
          "data": {
            "text/plain": [
              "<IPython.core.display.Javascript object>"
            ],
            "application/javascript": [
              "window[\"116b4eea-ba4b-11ed-85d0-0242ac1c000c\"] = google.colab.output.setActiveOutputArea(window[\"11477ef2-ba4b-11ed-85d0-0242ac1c000c\"]);\n",
              "//# sourceURL=js_e4d974642b"
            ]
          },
          "metadata": {}
        },
        {
          "output_type": "display_data",
          "data": {
            "text/plain": [
              "<IPython.core.display.Javascript object>"
            ],
            "application/javascript": [
              "window[\"12066f92-ba4b-11ed-85d0-0242ac1c000c\"] = google.colab.output.getActiveOutputArea();\n",
              "//# sourceURL=js_a23a1c4297"
            ]
          },
          "metadata": {}
        },
        {
          "output_type": "display_data",
          "data": {
            "text/plain": [
              "<IPython.core.display.Javascript object>"
            ],
            "application/javascript": [
              "window[\"1206d982-ba4b-11ed-85d0-0242ac1c000c\"] = document.querySelector(\"#id82-0-0\");\n",
              "//# sourceURL=js_93e9597158"
            ]
          },
          "metadata": {}
        },
        {
          "output_type": "display_data",
          "data": {
            "text/plain": [
              "<IPython.core.display.Javascript object>"
            ],
            "application/javascript": [
              "window[\"120751c8-ba4b-11ed-85d0-0242ac1c000c\"] = google.colab.output.setActiveOutputArea(window[\"1206d982-ba4b-11ed-85d0-0242ac1c000c\"]);\n",
              "//# sourceURL=js_6e5aa1980a"
            ]
          },
          "metadata": {}
        },
        {
          "output_type": "display_data",
          "data": {
            "text/plain": [
              "<IPython.core.display.Javascript object>"
            ],
            "application/javascript": [
              "window[\"123c60c0-ba4b-11ed-85d0-0242ac1c000c\"] = google.colab.output.setActiveOutputArea(window[\"12066f92-ba4b-11ed-85d0-0242ac1c000c\"]);\n",
              "//# sourceURL=js_dbb0021983"
            ]
          },
          "metadata": {}
        },
        {
          "output_type": "display_data",
          "data": {
            "text/plain": [
              "<IPython.core.display.Javascript object>"
            ],
            "application/javascript": [
              "window[\"12d8b380-ba4b-11ed-85d0-0242ac1c000c\"] = google.colab.output.getActiveOutputArea();\n",
              "//# sourceURL=js_4e123c9449"
            ]
          },
          "metadata": {}
        },
        {
          "output_type": "display_data",
          "data": {
            "text/plain": [
              "<IPython.core.display.Javascript object>"
            ],
            "application/javascript": [
              "window[\"12d97c48-ba4b-11ed-85d0-0242ac1c000c\"] = document.querySelector(\"#id82-0-0\");\n",
              "//# sourceURL=js_3e0dfdba32"
            ]
          },
          "metadata": {}
        },
        {
          "output_type": "display_data",
          "data": {
            "text/plain": [
              "<IPython.core.display.Javascript object>"
            ],
            "application/javascript": [
              "window[\"12da4402-ba4b-11ed-85d0-0242ac1c000c\"] = google.colab.output.setActiveOutputArea(window[\"12d97c48-ba4b-11ed-85d0-0242ac1c000c\"]);\n",
              "//# sourceURL=js_d6fbf40291"
            ]
          },
          "metadata": {}
        },
        {
          "output_type": "display_data",
          "data": {
            "text/plain": [
              "<IPython.core.display.Javascript object>"
            ],
            "application/javascript": [
              "window[\"1307da20-ba4b-11ed-85d0-0242ac1c000c\"] = google.colab.output.setActiveOutputArea(window[\"12d8b380-ba4b-11ed-85d0-0242ac1c000c\"]);\n",
              "//# sourceURL=js_fd81afcb19"
            ]
          },
          "metadata": {}
        },
        {
          "output_type": "display_data",
          "data": {
            "text/plain": [
              "<IPython.core.display.Javascript object>"
            ],
            "application/javascript": [
              "window[\"13a33506-ba4b-11ed-85d0-0242ac1c000c\"] = google.colab.output.getActiveOutputArea();\n",
              "//# sourceURL=js_9bf0b85903"
            ]
          },
          "metadata": {}
        },
        {
          "output_type": "display_data",
          "data": {
            "text/plain": [
              "<IPython.core.display.Javascript object>"
            ],
            "application/javascript": [
              "window[\"13a3acde-ba4b-11ed-85d0-0242ac1c000c\"] = document.querySelector(\"#id82-0-0\");\n",
              "//# sourceURL=js_6d78d6dd4b"
            ]
          },
          "metadata": {}
        },
        {
          "output_type": "display_data",
          "data": {
            "text/plain": [
              "<IPython.core.display.Javascript object>"
            ],
            "application/javascript": [
              "window[\"13a43a0a-ba4b-11ed-85d0-0242ac1c000c\"] = google.colab.output.setActiveOutputArea(window[\"13a3acde-ba4b-11ed-85d0-0242ac1c000c\"]);\n",
              "//# sourceURL=js_a0bd272f12"
            ]
          },
          "metadata": {}
        },
        {
          "output_type": "display_data",
          "data": {
            "text/plain": [
              "<IPython.core.display.Javascript object>"
            ],
            "application/javascript": [
              "window[\"13cc9d88-ba4b-11ed-85d0-0242ac1c000c\"] = google.colab.output.setActiveOutputArea(window[\"13a33506-ba4b-11ed-85d0-0242ac1c000c\"]);\n",
              "//# sourceURL=js_f09441ab9c"
            ]
          },
          "metadata": {}
        },
        {
          "output_type": "display_data",
          "data": {
            "text/plain": [
              "<IPython.core.display.Javascript object>"
            ],
            "application/javascript": [
              "window[\"14683838-ba4b-11ed-85d0-0242ac1c000c\"] = google.colab.output.getActiveOutputArea();\n",
              "//# sourceURL=js_8c09444945"
            ]
          },
          "metadata": {}
        },
        {
          "output_type": "display_data",
          "data": {
            "text/plain": [
              "<IPython.core.display.Javascript object>"
            ],
            "application/javascript": [
              "window[\"1468af16-ba4b-11ed-85d0-0242ac1c000c\"] = document.querySelector(\"#id82-0-0\");\n",
              "//# sourceURL=js_203da69fe9"
            ]
          },
          "metadata": {}
        },
        {
          "output_type": "display_data",
          "data": {
            "text/plain": [
              "<IPython.core.display.Javascript object>"
            ],
            "application/javascript": [
              "window[\"14697aa4-ba4b-11ed-85d0-0242ac1c000c\"] = google.colab.output.setActiveOutputArea(window[\"1468af16-ba4b-11ed-85d0-0242ac1c000c\"]);\n",
              "//# sourceURL=js_ca1bec48b5"
            ]
          },
          "metadata": {}
        },
        {
          "output_type": "stream",
          "name": "stdout",
          "text": [
            "Reward ->  10\n"
          ]
        },
        {
          "output_type": "display_data",
          "data": {
            "text/plain": [
              "<Figure size 432x288 with 1 Axes>"
            ],
            "image/png": "[encoded data removed]"
          },
          "metadata": {
            "needs_background": "light"
          }
        },
        {
          "output_type": "display_data",
          "data": {
            "text/plain": [
              "<IPython.core.display.Javascript object>"
            ],
            "application/javascript": [
              "window[\"148f8014-ba4b-11ed-85d0-0242ac1c000c\"] = google.colab.output.setActiveOutputArea(window[\"14683838-ba4b-11ed-85d0-0242ac1c000c\"]);\n",
              "//# sourceURL=js_23f7a57b75"
            ]
          },
          "metadata": {}
        }
      ]
    },
    {
      "cell_type": "markdown",
      "source": [
        "**5x5 Grid Environment - Stochastic**"
      ],
      "metadata": {
        "id": "cnZYfyTuYMj6"
      }
    },
    {
      "cell_type": "code",
      "source": [
        "env = GridEnv(env_type = \"stochastic\")\n",
        "agent = RandomAgent(env)\n",
        "\n",
        "obs, info = env.reset()\n",
        "terminated, truncated = False, False\n",
        "\n",
        "output_grid = widgets.Grid(1, 1)\n",
        "with output_grid.output_to(0, 0):\n",
        "  env.render()\n",
        "\n",
        "def get_max_val(arg):\n",
        "  return max(arg)\n",
        "  \n",
        "for i in q_table_stoc:\n",
        "  max_val = get_max_val(i)\n",
        "  # print(type(i))\n",
        "  i_to_list = i.tolist()\n",
        "  max_index = i_to_list.index(max_val)\n",
        "  # print(max_index)\n",
        "  observation, reward, terminated, truncated, info, agent_pos = env.step(max_index)\n",
        "  # observation, reward, terminated, truncated, info, agent_pos = env.step(action)\n",
        "  with output_grid.output_to(0, 0):\n",
        "    output_grid.clear_cell()\n",
        "    plt.imshow(grid)\n",
        "    env.render()\n",
        "  time.sleep(1)\n",
        "\n",
        "  "
      ],
      "metadata": {
        "id": "exIvEGhORvOv",
        "outputId": "4443d6cb-4ed9-4d0f-a06b-53129f58f8e0",
        "colab": {
          "base_uri": "https://localhost:8080/",
          "height": 287
        }
      },
      "execution_count": 172,
      "outputs": [
        {
          "output_type": "display_data",
          "data": {
            "text/plain": [
              "<IPython.core.display.HTML object>"
            ],
            "text/html": [
              "<style>\n",
              "       table#id84, #id84 > tbody > tr > th, #id84 > tbody > tr > td {\n",
              "         border: 1px solid lightgray;\n",
              "         border-collapse:collapse;\n",
              "         \n",
              "        }</style>"
            ]
          },
          "metadata": {}
        },
        {
          "output_type": "display_data",
          "data": {
            "text/plain": [
              "<IPython.core.display.HTML object>"
            ],
            "text/html": [
              "<table id=id84><tr><td id=id84-0-0></td></tr></table>"
            ]
          },
          "metadata": {}
        },
        {
          "output_type": "display_data",
          "data": {
            "text/plain": [
              "<IPython.core.display.Javascript object>"
            ],
            "application/javascript": [
              "window[\"2a27902e-ba4b-11ed-85d0-0242ac1c000c\"] = google.colab.output.getActiveOutputArea();\n",
              "//# sourceURL=js_8ee5a7e0ce"
            ]
          },
          "metadata": {}
        },
        {
          "output_type": "display_data",
          "data": {
            "text/plain": [
              "<IPython.core.display.Javascript object>"
            ],
            "application/javascript": [
              "window[\"2a281e40-ba4b-11ed-85d0-0242ac1c000c\"] = document.querySelector(\"#id84-0-0\");\n",
              "//# sourceURL=js_94605a86ac"
            ]
          },
          "metadata": {}
        },
        {
          "output_type": "display_data",
          "data": {
            "text/plain": [
              "<IPython.core.display.Javascript object>"
            ],
            "application/javascript": [
              "window[\"2a289c94-ba4b-11ed-85d0-0242ac1c000c\"] = google.colab.output.setActiveOutputArea(window[\"2a281e40-ba4b-11ed-85d0-0242ac1c000c\"]);\n",
              "//# sourceURL=js_0ad31b7d41"
            ]
          },
          "metadata": {}
        },
        {
          "output_type": "display_data",
          "data": {
            "text/plain": [
              "<IPython.core.display.Javascript object>"
            ],
            "application/javascript": [
              "window[\"2a4c73d0-ba4b-11ed-85d0-0242ac1c000c\"] = google.colab.output.setActiveOutputArea(window[\"2a27902e-ba4b-11ed-85d0-0242ac1c000c\"]);\n",
              "//# sourceURL=js_e2ed6d5f70"
            ]
          },
          "metadata": {}
        },
        {
          "output_type": "display_data",
          "data": {
            "text/plain": [
              "<IPython.core.display.Javascript object>"
            ],
            "application/javascript": [
              "window[\"2a5081b4-ba4b-11ed-85d0-0242ac1c000c\"] = google.colab.output.getActiveOutputArea();\n",
              "//# sourceURL=js_43b5eaaa05"
            ]
          },
          "metadata": {}
        },
        {
          "output_type": "display_data",
          "data": {
            "text/plain": [
              "<IPython.core.display.Javascript object>"
            ],
            "application/javascript": [
              "window[\"2a51620a-ba4b-11ed-85d0-0242ac1c000c\"] = document.querySelector(\"#id84-0-0\");\n",
              "//# sourceURL=js_3e6d63ea4e"
            ]
          },
          "metadata": {}
        },
        {
          "output_type": "display_data",
          "data": {
            "text/plain": [
              "<IPython.core.display.Javascript object>"
            ],
            "application/javascript": [
              "window[\"2a52300e-ba4b-11ed-85d0-0242ac1c000c\"] = google.colab.output.setActiveOutputArea(window[\"2a51620a-ba4b-11ed-85d0-0242ac1c000c\"]);\n",
              "//# sourceURL=js_83d2447f7a"
            ]
          },
          "metadata": {}
        },
        {
          "output_type": "display_data",
          "data": {
            "text/plain": [
              "<IPython.core.display.Javascript object>"
            ],
            "application/javascript": [
              "window[\"2a958958-ba4b-11ed-85d0-0242ac1c000c\"] = google.colab.output.setActiveOutputArea(window[\"2a5081b4-ba4b-11ed-85d0-0242ac1c000c\"]);\n",
              "//# sourceURL=js_dbddea9318"
            ]
          },
          "metadata": {}
        },
        {
          "output_type": "display_data",
          "data": {
            "text/plain": [
              "<IPython.core.display.Javascript object>"
            ],
            "application/javascript": [
              "window[\"2b30b32e-ba4b-11ed-85d0-0242ac1c000c\"] = google.colab.output.getActiveOutputArea();\n",
              "//# sourceURL=js_cf9326d04f"
            ]
          },
          "metadata": {}
        },
        {
          "output_type": "display_data",
          "data": {
            "text/plain": [
              "<IPython.core.display.Javascript object>"
            ],
            "application/javascript": [
              "window[\"2b315126-ba4b-11ed-85d0-0242ac1c000c\"] = document.querySelector(\"#id84-0-0\");\n",
              "//# sourceURL=js_1698f923ec"
            ]
          },
          "metadata": {}
        },
        {
          "output_type": "display_data",
          "data": {
            "text/plain": [
              "<IPython.core.display.Javascript object>"
            ],
            "application/javascript": [
              "window[\"2b32b7c8-ba4b-11ed-85d0-0242ac1c000c\"] = google.colab.output.setActiveOutputArea(window[\"2b315126-ba4b-11ed-85d0-0242ac1c000c\"]);\n",
              "//# sourceURL=js_447fe1947c"
            ]
          },
          "metadata": {}
        },
        {
          "output_type": "display_data",
          "data": {
            "text/plain": [
              "<IPython.core.display.Javascript object>"
            ],
            "application/javascript": [
              "window[\"2b572cc0-ba4b-11ed-85d0-0242ac1c000c\"] = google.colab.output.setActiveOutputArea(window[\"2b30b32e-ba4b-11ed-85d0-0242ac1c000c\"]);\n",
              "//# sourceURL=js_a77689b763"
            ]
          },
          "metadata": {}
        },
        {
          "output_type": "display_data",
          "data": {
            "text/plain": [
              "<IPython.core.display.Javascript object>"
            ],
            "application/javascript": [
              "window[\"2bf36518-ba4b-11ed-85d0-0242ac1c000c\"] = google.colab.output.getActiveOutputArea();\n",
              "//# sourceURL=js_e6c6fd5718"
            ]
          },
          "metadata": {}
        },
        {
          "output_type": "display_data",
          "data": {
            "text/plain": [
              "<IPython.core.display.Javascript object>"
            ],
            "application/javascript": [
              "window[\"2bf3d566-ba4b-11ed-85d0-0242ac1c000c\"] = document.querySelector(\"#id84-0-0\");\n",
              "//# sourceURL=js_8aaded8293"
            ]
          },
          "metadata": {}
        },
        {
          "output_type": "display_data",
          "data": {
            "text/plain": [
              "<IPython.core.display.Javascript object>"
            ],
            "application/javascript": [
              "window[\"2bf476c4-ba4b-11ed-85d0-0242ac1c000c\"] = google.colab.output.setActiveOutputArea(window[\"2bf3d566-ba4b-11ed-85d0-0242ac1c000c\"]);\n",
              "//# sourceURL=js_7da6d640ce"
            ]
          },
          "metadata": {}
        },
        {
          "output_type": "display_data",
          "data": {
            "text/plain": [
              "<IPython.core.display.Javascript object>"
            ],
            "application/javascript": [
              "window[\"2c1a3e22-ba4b-11ed-85d0-0242ac1c000c\"] = google.colab.output.setActiveOutputArea(window[\"2bf36518-ba4b-11ed-85d0-0242ac1c000c\"]);\n",
              "//# sourceURL=js_e0981228f0"
            ]
          },
          "metadata": {}
        },
        {
          "output_type": "display_data",
          "data": {
            "text/plain": [
              "<IPython.core.display.Javascript object>"
            ],
            "application/javascript": [
              "window[\"2cb5858a-ba4b-11ed-85d0-0242ac1c000c\"] = google.colab.output.getActiveOutputArea();\n",
              "//# sourceURL=js_c52e16f9ab"
            ]
          },
          "metadata": {}
        },
        {
          "output_type": "display_data",
          "data": {
            "text/plain": [
              "<IPython.core.display.Javascript object>"
            ],
            "application/javascript": [
              "window[\"2cb5fbe6-ba4b-11ed-85d0-0242ac1c000c\"] = document.querySelector(\"#id84-0-0\");\n",
              "//# sourceURL=js_186c566ec7"
            ]
          },
          "metadata": {}
        },
        {
          "output_type": "display_data",
          "data": {
            "text/plain": [
              "<IPython.core.display.Javascript object>"
            ],
            "application/javascript": [
              "window[\"2cb6cf1c-ba4b-11ed-85d0-0242ac1c000c\"] = google.colab.output.setActiveOutputArea(window[\"2cb5fbe6-ba4b-11ed-85d0-0242ac1c000c\"]);\n",
              "//# sourceURL=js_af272503af"
            ]
          },
          "metadata": {}
        },
        {
          "output_type": "display_data",
          "data": {
            "text/plain": [
              "<IPython.core.display.Javascript object>"
            ],
            "application/javascript": [
              "window[\"2cdcaaca-ba4b-11ed-85d0-0242ac1c000c\"] = google.colab.output.setActiveOutputArea(window[\"2cb5858a-ba4b-11ed-85d0-0242ac1c000c\"]);\n",
              "//# sourceURL=js_e8b6923c03"
            ]
          },
          "metadata": {}
        },
        {
          "output_type": "display_data",
          "data": {
            "text/plain": [
              "<IPython.core.display.Javascript object>"
            ],
            "application/javascript": [
              "window[\"2d77b1a0-ba4b-11ed-85d0-0242ac1c000c\"] = google.colab.output.getActiveOutputArea();\n",
              "//# sourceURL=js_9d2e31efe0"
            ]
          },
          "metadata": {}
        },
        {
          "output_type": "display_data",
          "data": {
            "text/plain": [
              "<IPython.core.display.Javascript object>"
            ],
            "application/javascript": [
              "window[\"2d785ed4-ba4b-11ed-85d0-0242ac1c000c\"] = document.querySelector(\"#id84-0-0\");\n",
              "//# sourceURL=js_e7267dbec0"
            ]
          },
          "metadata": {}
        },
        {
          "output_type": "display_data",
          "data": {
            "text/plain": [
              "<IPython.core.display.Javascript object>"
            ],
            "application/javascript": [
              "window[\"2d78e642-ba4b-11ed-85d0-0242ac1c000c\"] = google.colab.output.setActiveOutputArea(window[\"2d785ed4-ba4b-11ed-85d0-0242ac1c000c\"]);\n",
              "//# sourceURL=js_f12c91127b"
            ]
          },
          "metadata": {}
        },
        {
          "output_type": "display_data",
          "data": {
            "text/plain": [
              "<IPython.core.display.Javascript object>"
            ],
            "application/javascript": [
              "window[\"2d9dd39e-ba4b-11ed-85d0-0242ac1c000c\"] = google.colab.output.setActiveOutputArea(window[\"2d77b1a0-ba4b-11ed-85d0-0242ac1c000c\"]);\n",
              "//# sourceURL=js_cfa5437e4d"
            ]
          },
          "metadata": {}
        },
        {
          "output_type": "display_data",
          "data": {
            "text/plain": [
              "<IPython.core.display.Javascript object>"
            ],
            "application/javascript": [
              "window[\"2e397dee-ba4b-11ed-85d0-0242ac1c000c\"] = google.colab.output.getActiveOutputArea();\n",
              "//# sourceURL=js_426e4b1783"
            ]
          },
          "metadata": {}
        },
        {
          "output_type": "display_data",
          "data": {
            "text/plain": [
              "<IPython.core.display.Javascript object>"
            ],
            "application/javascript": [
              "window[\"2e39fc7e-ba4b-11ed-85d0-0242ac1c000c\"] = document.querySelector(\"#id84-0-0\");\n",
              "//# sourceURL=js_dc076df8a1"
            ]
          },
          "metadata": {}
        },
        {
          "output_type": "display_data",
          "data": {
            "text/plain": [
              "<IPython.core.display.Javascript object>"
            ],
            "application/javascript": [
              "window[\"2e3a8bf8-ba4b-11ed-85d0-0242ac1c000c\"] = google.colab.output.setActiveOutputArea(window[\"2e39fc7e-ba4b-11ed-85d0-0242ac1c000c\"]);\n",
              "//# sourceURL=js_a6ae924154"
            ]
          },
          "metadata": {}
        },
        {
          "output_type": "display_data",
          "data": {
            "text/plain": [
              "<IPython.core.display.Javascript object>"
            ],
            "application/javascript": [
              "window[\"2e5e96ec-ba4b-11ed-85d0-0242ac1c000c\"] = google.colab.output.setActiveOutputArea(window[\"2e397dee-ba4b-11ed-85d0-0242ac1c000c\"]);\n",
              "//# sourceURL=js_437e7d20b8"
            ]
          },
          "metadata": {}
        },
        {
          "output_type": "display_data",
          "data": {
            "text/plain": [
              "<IPython.core.display.Javascript object>"
            ],
            "application/javascript": [
              "window[\"2ef9b794-ba4b-11ed-85d0-0242ac1c000c\"] = google.colab.output.getActiveOutputArea();\n",
              "//# sourceURL=js_7e500da450"
            ]
          },
          "metadata": {}
        },
        {
          "output_type": "display_data",
          "data": {
            "text/plain": [
              "<IPython.core.display.Javascript object>"
            ],
            "application/javascript": [
              "window[\"2efa75bc-ba4b-11ed-85d0-0242ac1c000c\"] = document.querySelector(\"#id84-0-0\");\n",
              "//# sourceURL=js_60510eb53e"
            ]
          },
          "metadata": {}
        },
        {
          "output_type": "display_data",
          "data": {
            "text/plain": [
              "<IPython.core.display.Javascript object>"
            ],
            "application/javascript": [
              "window[\"2efaf15e-ba4b-11ed-85d0-0242ac1c000c\"] = google.colab.output.setActiveOutputArea(window[\"2efa75bc-ba4b-11ed-85d0-0242ac1c000c\"]);\n",
              "//# sourceURL=js_b414353179"
            ]
          },
          "metadata": {}
        },
        {
          "output_type": "display_data",
          "data": {
            "text/plain": [
              "<IPython.core.display.Javascript object>"
            ],
            "application/javascript": [
              "window[\"2f1bbb0a-ba4b-11ed-85d0-0242ac1c000c\"] = google.colab.output.setActiveOutputArea(window[\"2ef9b794-ba4b-11ed-85d0-0242ac1c000c\"]);\n",
              "//# sourceURL=js_a4d3734ae4"
            ]
          },
          "metadata": {}
        },
        {
          "output_type": "display_data",
          "data": {
            "text/plain": [
              "<IPython.core.display.Javascript object>"
            ],
            "application/javascript": [
              "window[\"2fb75b50-ba4b-11ed-85d0-0242ac1c000c\"] = google.colab.output.getActiveOutputArea();\n",
              "//# sourceURL=js_8c4557502f"
            ]
          },
          "metadata": {}
        },
        {
          "output_type": "display_data",
          "data": {
            "text/plain": [
              "<IPython.core.display.Javascript object>"
            ],
            "application/javascript": [
              "window[\"2fb82828-ba4b-11ed-85d0-0242ac1c000c\"] = document.querySelector(\"#id84-0-0\");\n",
              "//# sourceURL=js_fb334e4b25"
            ]
          },
          "metadata": {}
        },
        {
          "output_type": "display_data",
          "data": {
            "text/plain": [
              "<IPython.core.display.Javascript object>"
            ],
            "application/javascript": [
              "window[\"2fb901a8-ba4b-11ed-85d0-0242ac1c000c\"] = google.colab.output.setActiveOutputArea(window[\"2fb82828-ba4b-11ed-85d0-0242ac1c000c\"]);\n",
              "//# sourceURL=js_92ea16135c"
            ]
          },
          "metadata": {}
        },
        {
          "output_type": "display_data",
          "data": {
            "text/plain": [
              "<IPython.core.display.Javascript object>"
            ],
            "application/javascript": [
              "window[\"2feec1bc-ba4b-11ed-85d0-0242ac1c000c\"] = google.colab.output.setActiveOutputArea(window[\"2fb75b50-ba4b-11ed-85d0-0242ac1c000c\"]);\n",
              "//# sourceURL=js_9d21b275fe"
            ]
          },
          "metadata": {}
        },
        {
          "output_type": "display_data",
          "data": {
            "text/plain": [
              "<IPython.core.display.Javascript object>"
            ],
            "application/javascript": [
              "window[\"308ae11e-ba4b-11ed-85d0-0242ac1c000c\"] = google.colab.output.getActiveOutputArea();\n",
              "//# sourceURL=js_eeb188e484"
            ]
          },
          "metadata": {}
        },
        {
          "output_type": "display_data",
          "data": {
            "text/plain": [
              "<IPython.core.display.Javascript object>"
            ],
            "application/javascript": [
              "window[\"308bc39a-ba4b-11ed-85d0-0242ac1c000c\"] = document.querySelector(\"#id84-0-0\");\n",
              "//# sourceURL=js_e2e7662f50"
            ]
          },
          "metadata": {}
        },
        {
          "output_type": "display_data",
          "data": {
            "text/plain": [
              "<IPython.core.display.Javascript object>"
            ],
            "application/javascript": [
              "window[\"308cd276-ba4b-11ed-85d0-0242ac1c000c\"] = google.colab.output.setActiveOutputArea(window[\"308bc39a-ba4b-11ed-85d0-0242ac1c000c\"]);\n",
              "//# sourceURL=js_28ee528c02"
            ]
          },
          "metadata": {}
        },
        {
          "output_type": "display_data",
          "data": {
            "text/plain": [
              "<IPython.core.display.Javascript object>"
            ],
            "application/javascript": [
              "window[\"30c0a916-ba4b-11ed-85d0-0242ac1c000c\"] = google.colab.output.setActiveOutputArea(window[\"308ae11e-ba4b-11ed-85d0-0242ac1c000c\"]);\n",
              "//# sourceURL=js_7f4f36fca9"
            ]
          },
          "metadata": {}
        },
        {
          "output_type": "display_data",
          "data": {
            "text/plain": [
              "<IPython.core.display.Javascript object>"
            ],
            "application/javascript": [
              "window[\"315bd594-ba4b-11ed-85d0-0242ac1c000c\"] = google.colab.output.getActiveOutputArea();\n",
              "//# sourceURL=js_5e6b8b188b"
            ]
          },
          "metadata": {}
        },
        {
          "output_type": "display_data",
          "data": {
            "text/plain": [
              "<IPython.core.display.Javascript object>"
            ],
            "application/javascript": [
              "window[\"315c8c82-ba4b-11ed-85d0-0242ac1c000c\"] = document.querySelector(\"#id84-0-0\");\n",
              "//# sourceURL=js_cbb97e533a"
            ]
          },
          "metadata": {}
        },
        {
          "output_type": "display_data",
          "data": {
            "text/plain": [
              "<IPython.core.display.Javascript object>"
            ],
            "application/javascript": [
              "window[\"315d005e-ba4b-11ed-85d0-0242ac1c000c\"] = google.colab.output.setActiveOutputArea(window[\"315c8c82-ba4b-11ed-85d0-0242ac1c000c\"]);\n",
              "//# sourceURL=js_b404d2f245"
            ]
          },
          "metadata": {}
        },
        {
          "output_type": "display_data",
          "data": {
            "text/plain": [
              "<IPython.core.display.Javascript object>"
            ],
            "application/javascript": [
              "window[\"31819ad6-ba4b-11ed-85d0-0242ac1c000c\"] = google.colab.output.setActiveOutputArea(window[\"315bd594-ba4b-11ed-85d0-0242ac1c000c\"]);\n",
              "//# sourceURL=js_6799a99493"
            ]
          },
          "metadata": {}
        },
        {
          "output_type": "display_data",
          "data": {
            "text/plain": [
              "<IPython.core.display.Javascript object>"
            ],
            "application/javascript": [
              "window[\"321de7e2-ba4b-11ed-85d0-0242ac1c000c\"] = google.colab.output.getActiveOutputArea();\n",
              "//# sourceURL=js_856535c121"
            ]
          },
          "metadata": {}
        },
        {
          "output_type": "display_data",
          "data": {
            "text/plain": [
              "<IPython.core.display.Javascript object>"
            ],
            "application/javascript": [
              "window[\"321e718a-ba4b-11ed-85d0-0242ac1c000c\"] = document.querySelector(\"#id84-0-0\");\n",
              "//# sourceURL=js_1bfb00dbf5"
            ]
          },
          "metadata": {}
        },
        {
          "output_type": "display_data",
          "data": {
            "text/plain": [
              "<IPython.core.display.Javascript object>"
            ],
            "application/javascript": [
              "window[\"321f18f6-ba4b-11ed-85d0-0242ac1c000c\"] = google.colab.output.setActiveOutputArea(window[\"321e718a-ba4b-11ed-85d0-0242ac1c000c\"]);\n",
              "//# sourceURL=js_39519a212b"
            ]
          },
          "metadata": {}
        },
        {
          "output_type": "display_data",
          "data": {
            "text/plain": [
              "<IPython.core.display.Javascript object>"
            ],
            "application/javascript": [
              "window[\"3243f8ba-ba4b-11ed-85d0-0242ac1c000c\"] = google.colab.output.setActiveOutputArea(window[\"321de7e2-ba4b-11ed-85d0-0242ac1c000c\"]);\n",
              "//# sourceURL=js_78ead7164a"
            ]
          },
          "metadata": {}
        },
        {
          "output_type": "display_data",
          "data": {
            "text/plain": [
              "<IPython.core.display.Javascript object>"
            ],
            "application/javascript": [
              "window[\"32df85e6-ba4b-11ed-85d0-0242ac1c000c\"] = google.colab.output.getActiveOutputArea();\n",
              "//# sourceURL=js_ad63cef5a5"
            ]
          },
          "metadata": {}
        },
        {
          "output_type": "display_data",
          "data": {
            "text/plain": [
              "<IPython.core.display.Javascript object>"
            ],
            "application/javascript": [
              "window[\"32e0526e-ba4b-11ed-85d0-0242ac1c000c\"] = document.querySelector(\"#id84-0-0\");\n",
              "//# sourceURL=js_c01d191293"
            ]
          },
          "metadata": {}
        },
        {
          "output_type": "display_data",
          "data": {
            "text/plain": [
              "<IPython.core.display.Javascript object>"
            ],
            "application/javascript": [
              "window[\"32e0d0c2-ba4b-11ed-85d0-0242ac1c000c\"] = google.colab.output.setActiveOutputArea(window[\"32e0526e-ba4b-11ed-85d0-0242ac1c000c\"]);\n",
              "//# sourceURL=js_7082851ba5"
            ]
          },
          "metadata": {}
        },
        {
          "output_type": "display_data",
          "data": {
            "text/plain": [
              "<IPython.core.display.Javascript object>"
            ],
            "application/javascript": [
              "window[\"33096cb2-ba4b-11ed-85d0-0242ac1c000c\"] = google.colab.output.setActiveOutputArea(window[\"32df85e6-ba4b-11ed-85d0-0242ac1c000c\"]);\n",
              "//# sourceURL=js_0f53c8311f"
            ]
          },
          "metadata": {}
        },
        {
          "output_type": "display_data",
          "data": {
            "text/plain": [
              "<IPython.core.display.Javascript object>"
            ],
            "application/javascript": [
              "window[\"33a56d4c-ba4b-11ed-85d0-0242ac1c000c\"] = google.colab.output.getActiveOutputArea();\n",
              "//# sourceURL=js_f3d199c94f"
            ]
          },
          "metadata": {}
        },
        {
          "output_type": "display_data",
          "data": {
            "text/plain": [
              "<IPython.core.display.Javascript object>"
            ],
            "application/javascript": [
              "window[\"33a60afe-ba4b-11ed-85d0-0242ac1c000c\"] = document.querySelector(\"#id84-0-0\");\n",
              "//# sourceURL=js_af92ba6263"
            ]
          },
          "metadata": {}
        },
        {
          "output_type": "display_data",
          "data": {
            "text/plain": [
              "<IPython.core.display.Javascript object>"
            ],
            "application/javascript": [
              "window[\"33a67b92-ba4b-11ed-85d0-0242ac1c000c\"] = google.colab.output.setActiveOutputArea(window[\"33a60afe-ba4b-11ed-85d0-0242ac1c000c\"]);\n",
              "//# sourceURL=js_c7b13f49e9"
            ]
          },
          "metadata": {}
        },
        {
          "output_type": "display_data",
          "data": {
            "text/plain": [
              "<IPython.core.display.Javascript object>"
            ],
            "application/javascript": [
              "window[\"33c98ace-ba4b-11ed-85d0-0242ac1c000c\"] = google.colab.output.setActiveOutputArea(window[\"33a56d4c-ba4b-11ed-85d0-0242ac1c000c\"]);\n",
              "//# sourceURL=js_87bc2c5c95"
            ]
          },
          "metadata": {}
        },
        {
          "output_type": "display_data",
          "data": {
            "text/plain": [
              "<IPython.core.display.Javascript object>"
            ],
            "application/javascript": [
              "window[\"346555d0-ba4b-11ed-85d0-0242ac1c000c\"] = google.colab.output.getActiveOutputArea();\n",
              "//# sourceURL=js_6949e63226"
            ]
          },
          "metadata": {}
        },
        {
          "output_type": "display_data",
          "data": {
            "text/plain": [
              "<IPython.core.display.Javascript object>"
            ],
            "application/javascript": [
              "window[\"3465ceac-ba4b-11ed-85d0-0242ac1c000c\"] = document.querySelector(\"#id84-0-0\");\n",
              "//# sourceURL=js_c5e2394609"
            ]
          },
          "metadata": {}
        },
        {
          "output_type": "display_data",
          "data": {
            "text/plain": [
              "<IPython.core.display.Javascript object>"
            ],
            "application/javascript": [
              "window[\"34666bbe-ba4b-11ed-85d0-0242ac1c000c\"] = google.colab.output.setActiveOutputArea(window[\"3465ceac-ba4b-11ed-85d0-0242ac1c000c\"]);\n",
              "//# sourceURL=js_be6d016c77"
            ]
          },
          "metadata": {}
        },
        {
          "output_type": "display_data",
          "data": {
            "text/plain": [
              "<IPython.core.display.Javascript object>"
            ],
            "application/javascript": [
              "window[\"3489e4fe-ba4b-11ed-85d0-0242ac1c000c\"] = google.colab.output.setActiveOutputArea(window[\"346555d0-ba4b-11ed-85d0-0242ac1c000c\"]);\n",
              "//# sourceURL=js_ae91fd7d2a"
            ]
          },
          "metadata": {}
        },
        {
          "output_type": "display_data",
          "data": {
            "text/plain": [
              "<IPython.core.display.Javascript object>"
            ],
            "application/javascript": [
              "window[\"3525bfb4-ba4b-11ed-85d0-0242ac1c000c\"] = google.colab.output.getActiveOutputArea();\n",
              "//# sourceURL=js_c0436b8431"
            ]
          },
          "metadata": {}
        },
        {
          "output_type": "display_data",
          "data": {
            "text/plain": [
              "<IPython.core.display.Javascript object>"
            ],
            "application/javascript": [
              "window[\"35267f4e-ba4b-11ed-85d0-0242ac1c000c\"] = document.querySelector(\"#id84-0-0\");\n",
              "//# sourceURL=js_bdc9c90aef"
            ]
          },
          "metadata": {}
        },
        {
          "output_type": "display_data",
          "data": {
            "text/plain": [
              "<IPython.core.display.Javascript object>"
            ],
            "application/javascript": [
              "window[\"35270734-ba4b-11ed-85d0-0242ac1c000c\"] = google.colab.output.setActiveOutputArea(window[\"35267f4e-ba4b-11ed-85d0-0242ac1c000c\"]);\n",
              "//# sourceURL=js_383ae0b015"
            ]
          },
          "metadata": {}
        },
        {
          "output_type": "display_data",
          "data": {
            "text/plain": [
              "<IPython.core.display.Javascript object>"
            ],
            "application/javascript": [
              "window[\"354b65e8-ba4b-11ed-85d0-0242ac1c000c\"] = google.colab.output.setActiveOutputArea(window[\"3525bfb4-ba4b-11ed-85d0-0242ac1c000c\"]);\n",
              "//# sourceURL=js_0d0e69b257"
            ]
          },
          "metadata": {}
        },
        {
          "output_type": "display_data",
          "data": {
            "text/plain": [
              "<IPython.core.display.Javascript object>"
            ],
            "application/javascript": [
              "window[\"35e6cc54-ba4b-11ed-85d0-0242ac1c000c\"] = google.colab.output.getActiveOutputArea();\n",
              "//# sourceURL=js_8d6c2bdc09"
            ]
          },
          "metadata": {}
        },
        {
          "output_type": "display_data",
          "data": {
            "text/plain": [
              "<IPython.core.display.Javascript object>"
            ],
            "application/javascript": [
              "window[\"35e74634-ba4b-11ed-85d0-0242ac1c000c\"] = document.querySelector(\"#id84-0-0\");\n",
              "//# sourceURL=js_3c7c08dd9c"
            ]
          },
          "metadata": {}
        },
        {
          "output_type": "display_data",
          "data": {
            "text/plain": [
              "<IPython.core.display.Javascript object>"
            ],
            "application/javascript": [
              "window[\"35e7b240-ba4b-11ed-85d0-0242ac1c000c\"] = google.colab.output.setActiveOutputArea(window[\"35e74634-ba4b-11ed-85d0-0242ac1c000c\"]);\n",
              "//# sourceURL=js_0c4c469e9b"
            ]
          },
          "metadata": {}
        },
        {
          "output_type": "display_data",
          "data": {
            "text/plain": [
              "<IPython.core.display.Javascript object>"
            ],
            "application/javascript": [
              "window[\"360d3646-ba4b-11ed-85d0-0242ac1c000c\"] = google.colab.output.setActiveOutputArea(window[\"35e6cc54-ba4b-11ed-85d0-0242ac1c000c\"]);\n",
              "//# sourceURL=js_9ac5d6b1ff"
            ]
          },
          "metadata": {}
        },
        {
          "output_type": "display_data",
          "data": {
            "text/plain": [
              "<IPython.core.display.Javascript object>"
            ],
            "application/javascript": [
              "window[\"36aa7758-ba4b-11ed-85d0-0242ac1c000c\"] = google.colab.output.getActiveOutputArea();\n",
              "//# sourceURL=js_ef353d90eb"
            ]
          },
          "metadata": {}
        },
        {
          "output_type": "display_data",
          "data": {
            "text/plain": [
              "<IPython.core.display.Javascript object>"
            ],
            "application/javascript": [
              "window[\"36ac015e-ba4b-11ed-85d0-0242ac1c000c\"] = document.querySelector(\"#id84-0-0\");\n",
              "//# sourceURL=js_6065c86e5e"
            ]
          },
          "metadata": {}
        },
        {
          "output_type": "display_data",
          "data": {
            "text/plain": [
              "<IPython.core.display.Javascript object>"
            ],
            "application/javascript": [
              "window[\"36ac8138-ba4b-11ed-85d0-0242ac1c000c\"] = google.colab.output.setActiveOutputArea(window[\"36ac015e-ba4b-11ed-85d0-0242ac1c000c\"]);\n",
              "//# sourceURL=js_9da1434399"
            ]
          },
          "metadata": {}
        },
        {
          "output_type": "display_data",
          "data": {
            "text/plain": [
              "<IPython.core.display.Javascript object>"
            ],
            "application/javascript": [
              "window[\"36ce58a8-ba4b-11ed-85d0-0242ac1c000c\"] = google.colab.output.setActiveOutputArea(window[\"36aa7758-ba4b-11ed-85d0-0242ac1c000c\"]);\n",
              "//# sourceURL=js_7593eef519"
            ]
          },
          "metadata": {}
        },
        {
          "output_type": "display_data",
          "data": {
            "text/plain": [
              "<IPython.core.display.Javascript object>"
            ],
            "application/javascript": [
              "window[\"37698b2a-ba4b-11ed-85d0-0242ac1c000c\"] = google.colab.output.getActiveOutputArea();\n",
              "//# sourceURL=js_6a35e17710"
            ]
          },
          "metadata": {}
        },
        {
          "output_type": "display_data",
          "data": {
            "text/plain": [
              "<IPython.core.display.Javascript object>"
            ],
            "application/javascript": [
              "window[\"3769f952-ba4b-11ed-85d0-0242ac1c000c\"] = document.querySelector(\"#id84-0-0\");\n",
              "//# sourceURL=js_da1418afa4"
            ]
          },
          "metadata": {}
        },
        {
          "output_type": "display_data",
          "data": {
            "text/plain": [
              "<IPython.core.display.Javascript object>"
            ],
            "application/javascript": [
              "window[\"376ae25e-ba4b-11ed-85d0-0242ac1c000c\"] = google.colab.output.setActiveOutputArea(window[\"3769f952-ba4b-11ed-85d0-0242ac1c000c\"]);\n",
              "//# sourceURL=js_15fa6654aa"
            ]
          },
          "metadata": {}
        },
        {
          "output_type": "display_data",
          "data": {
            "text/plain": [
              "<IPython.core.display.Javascript object>"
            ],
            "application/javascript": [
              "window[\"37a01e6a-ba4b-11ed-85d0-0242ac1c000c\"] = google.colab.output.setActiveOutputArea(window[\"37698b2a-ba4b-11ed-85d0-0242ac1c000c\"]);\n",
              "//# sourceURL=js_405b4d13d2"
            ]
          },
          "metadata": {}
        },
        {
          "output_type": "display_data",
          "data": {
            "text/plain": [
              "<IPython.core.display.Javascript object>"
            ],
            "application/javascript": [
              "window[\"383bf330-ba4b-11ed-85d0-0242ac1c000c\"] = google.colab.output.getActiveOutputArea();\n",
              "//# sourceURL=js_90011dfd52"
            ]
          },
          "metadata": {}
        },
        {
          "output_type": "display_data",
          "data": {
            "text/plain": [
              "<IPython.core.display.Javascript object>"
            ],
            "application/javascript": [
              "window[\"383cdd5e-ba4b-11ed-85d0-0242ac1c000c\"] = document.querySelector(\"#id84-0-0\");\n",
              "//# sourceURL=js_692be1383f"
            ]
          },
          "metadata": {}
        },
        {
          "output_type": "display_data",
          "data": {
            "text/plain": [
              "<IPython.core.display.Javascript object>"
            ],
            "application/javascript": [
              "window[\"383d62a6-ba4b-11ed-85d0-0242ac1c000c\"] = google.colab.output.setActiveOutputArea(window[\"383cdd5e-ba4b-11ed-85d0-0242ac1c000c\"]);\n",
              "//# sourceURL=js_5ce6de569f"
            ]
          },
          "metadata": {}
        },
        {
          "output_type": "display_data",
          "data": {
            "text/plain": [
              "<IPython.core.display.Javascript object>"
            ],
            "application/javascript": [
              "window[\"386eab04-ba4b-11ed-85d0-0242ac1c000c\"] = google.colab.output.setActiveOutputArea(window[\"383bf330-ba4b-11ed-85d0-0242ac1c000c\"]);\n",
              "//# sourceURL=js_40da660898"
            ]
          },
          "metadata": {}
        },
        {
          "output_type": "display_data",
          "data": {
            "text/plain": [
              "<IPython.core.display.Javascript object>"
            ],
            "application/javascript": [
              "window[\"390ad484-ba4b-11ed-85d0-0242ac1c000c\"] = google.colab.output.getActiveOutputArea();\n",
              "//# sourceURL=js_3b236786f3"
            ]
          },
          "metadata": {}
        },
        {
          "output_type": "display_data",
          "data": {
            "text/plain": [
              "<IPython.core.display.Javascript object>"
            ],
            "application/javascript": [
              "window[\"390b4bf8-ba4b-11ed-85d0-0242ac1c000c\"] = document.querySelector(\"#id84-0-0\");\n",
              "//# sourceURL=js_6ef31995cb"
            ]
          },
          "metadata": {}
        },
        {
          "output_type": "display_data",
          "data": {
            "text/plain": [
              "<IPython.core.display.Javascript object>"
            ],
            "application/javascript": [
              "window[\"390bc4fc-ba4b-11ed-85d0-0242ac1c000c\"] = google.colab.output.setActiveOutputArea(window[\"390b4bf8-ba4b-11ed-85d0-0242ac1c000c\"]);\n",
              "//# sourceURL=js_e75d64289a"
            ]
          },
          "metadata": {}
        },
        {
          "output_type": "display_data",
          "data": {
            "text/plain": [
              "<IPython.core.display.Javascript object>"
            ],
            "application/javascript": [
              "window[\"392e80d2-ba4b-11ed-85d0-0242ac1c000c\"] = google.colab.output.setActiveOutputArea(window[\"390ad484-ba4b-11ed-85d0-0242ac1c000c\"]);\n",
              "//# sourceURL=js_d332d54630"
            ]
          },
          "metadata": {}
        },
        {
          "output_type": "display_data",
          "data": {
            "text/plain": [
              "<IPython.core.display.Javascript object>"
            ],
            "application/javascript": [
              "window[\"39ca5b42-ba4b-11ed-85d0-0242ac1c000c\"] = google.colab.output.getActiveOutputArea();\n",
              "//# sourceURL=js_95954793f4"
            ]
          },
          "metadata": {}
        },
        {
          "output_type": "display_data",
          "data": {
            "text/plain": [
              "<IPython.core.display.Javascript object>"
            ],
            "application/javascript": [
              "window[\"39cadf9a-ba4b-11ed-85d0-0242ac1c000c\"] = document.querySelector(\"#id84-0-0\");\n",
              "//# sourceURL=js_866ce22533"
            ]
          },
          "metadata": {}
        },
        {
          "output_type": "display_data",
          "data": {
            "text/plain": [
              "<IPython.core.display.Javascript object>"
            ],
            "application/javascript": [
              "window[\"39cbb1ea-ba4b-11ed-85d0-0242ac1c000c\"] = google.colab.output.setActiveOutputArea(window[\"39cadf9a-ba4b-11ed-85d0-0242ac1c000c\"]);\n",
              "//# sourceURL=js_8268e8c477"
            ]
          },
          "metadata": {}
        },
        {
          "output_type": "display_data",
          "data": {
            "text/plain": [
              "<IPython.core.display.Javascript object>"
            ],
            "application/javascript": [
              "window[\"39ede468-ba4b-11ed-85d0-0242ac1c000c\"] = google.colab.output.setActiveOutputArea(window[\"39ca5b42-ba4b-11ed-85d0-0242ac1c000c\"]);\n",
              "//# sourceURL=js_3d0580be84"
            ]
          },
          "metadata": {}
        },
        {
          "output_type": "display_data",
          "data": {
            "text/plain": [
              "<IPython.core.display.Javascript object>"
            ],
            "application/javascript": [
              "window[\"3a8976a8-ba4b-11ed-85d0-0242ac1c000c\"] = google.colab.output.getActiveOutputArea();\n",
              "//# sourceURL=js_4d5a00ba08"
            ]
          },
          "metadata": {}
        },
        {
          "output_type": "display_data",
          "data": {
            "text/plain": [
              "<IPython.core.display.Javascript object>"
            ],
            "application/javascript": [
              "window[\"3a8a0bb8-ba4b-11ed-85d0-0242ac1c000c\"] = document.querySelector(\"#id84-0-0\");\n",
              "//# sourceURL=js_edae8dfe01"
            ]
          },
          "metadata": {}
        },
        {
          "output_type": "display_data",
          "data": {
            "text/plain": [
              "<IPython.core.display.Javascript object>"
            ],
            "application/javascript": [
              "window[\"3a8a9d76-ba4b-11ed-85d0-0242ac1c000c\"] = google.colab.output.setActiveOutputArea(window[\"3a8a0bb8-ba4b-11ed-85d0-0242ac1c000c\"]);\n",
              "//# sourceURL=js_de079ee3bf"
            ]
          },
          "metadata": {}
        },
        {
          "output_type": "display_data",
          "data": {
            "text/plain": [
              "<IPython.core.display.Javascript object>"
            ],
            "application/javascript": [
              "window[\"3ac592e6-ba4b-11ed-85d0-0242ac1c000c\"] = google.colab.output.setActiveOutputArea(window[\"3a8976a8-ba4b-11ed-85d0-0242ac1c000c\"]);\n",
              "//# sourceURL=js_5a9185f9a2"
            ]
          },
          "metadata": {}
        },
        {
          "output_type": "display_data",
          "data": {
            "text/plain": [
              "<IPython.core.display.Javascript object>"
            ],
            "application/javascript": [
              "window[\"3b616612-ba4b-11ed-85d0-0242ac1c000c\"] = google.colab.output.getActiveOutputArea();\n",
              "//# sourceURL=js_462c82a8e1"
            ]
          },
          "metadata": {}
        },
        {
          "output_type": "display_data",
          "data": {
            "text/plain": [
              "<IPython.core.display.Javascript object>"
            ],
            "application/javascript": [
              "window[\"3b621e40-ba4b-11ed-85d0-0242ac1c000c\"] = document.querySelector(\"#id84-0-0\");\n",
              "//# sourceURL=js_7ff8c61e6b"
            ]
          },
          "metadata": {}
        },
        {
          "output_type": "display_data",
          "data": {
            "text/plain": [
              "<IPython.core.display.Javascript object>"
            ],
            "application/javascript": [
              "window[\"3b628a24-ba4b-11ed-85d0-0242ac1c000c\"] = google.colab.output.setActiveOutputArea(window[\"3b621e40-ba4b-11ed-85d0-0242ac1c000c\"]);\n",
              "//# sourceURL=js_38948a4663"
            ]
          },
          "metadata": {}
        },
        {
          "output_type": "display_data",
          "data": {
            "text/plain": [
              "<IPython.core.display.Javascript object>"
            ],
            "application/javascript": [
              "window[\"3b870b2e-ba4b-11ed-85d0-0242ac1c000c\"] = google.colab.output.setActiveOutputArea(window[\"3b616612-ba4b-11ed-85d0-0242ac1c000c\"]);\n",
              "//# sourceURL=js_6fd98bea8e"
            ]
          },
          "metadata": {}
        },
        {
          "output_type": "display_data",
          "data": {
            "text/plain": [
              "<IPython.core.display.Javascript object>"
            ],
            "application/javascript": [
              "window[\"3c22378e-ba4b-11ed-85d0-0242ac1c000c\"] = google.colab.output.getActiveOutputArea();\n",
              "//# sourceURL=js_57c9188ba0"
            ]
          },
          "metadata": {}
        },
        {
          "output_type": "display_data",
          "data": {
            "text/plain": [
              "<IPython.core.display.Javascript object>"
            ],
            "application/javascript": [
              "window[\"3c22dcac-ba4b-11ed-85d0-0242ac1c000c\"] = document.querySelector(\"#id84-0-0\");\n",
              "//# sourceURL=js_394a365024"
            ]
          },
          "metadata": {}
        },
        {
          "output_type": "display_data",
          "data": {
            "text/plain": [
              "<IPython.core.display.Javascript object>"
            ],
            "application/javascript": [
              "window[\"3c23a2ea-ba4b-11ed-85d0-0242ac1c000c\"] = google.colab.output.setActiveOutputArea(window[\"3c22dcac-ba4b-11ed-85d0-0242ac1c000c\"]);\n",
              "//# sourceURL=js_ed160a4975"
            ]
          },
          "metadata": {}
        },
        {
          "output_type": "display_data",
          "data": {
            "text/plain": [
              "<IPython.core.display.Javascript object>"
            ],
            "application/javascript": [
              "window[\"3c49cf06-ba4b-11ed-85d0-0242ac1c000c\"] = google.colab.output.setActiveOutputArea(window[\"3c22378e-ba4b-11ed-85d0-0242ac1c000c\"]);\n",
              "//# sourceURL=js_67785f3614"
            ]
          },
          "metadata": {}
        },
        {
          "output_type": "display_data",
          "data": {
            "text/plain": [
              "<IPython.core.display.Javascript object>"
            ],
            "application/javascript": [
              "window[\"3ce639fe-ba4b-11ed-85d0-0242ac1c000c\"] = google.colab.output.getActiveOutputArea();\n",
              "//# sourceURL=js_65e54908ad"
            ]
          },
          "metadata": {}
        },
        {
          "output_type": "display_data",
          "data": {
            "text/plain": [
              "<IPython.core.display.Javascript object>"
            ],
            "application/javascript": [
              "window[\"3ce6cd6a-ba4b-11ed-85d0-0242ac1c000c\"] = document.querySelector(\"#id84-0-0\");\n",
              "//# sourceURL=js_95356c9a54"
            ]
          },
          "metadata": {}
        },
        {
          "output_type": "display_data",
          "data": {
            "text/plain": [
              "<IPython.core.display.Javascript object>"
            ],
            "application/javascript": [
              "window[\"3ce7cf58-ba4b-11ed-85d0-0242ac1c000c\"] = google.colab.output.setActiveOutputArea(window[\"3ce6cd6a-ba4b-11ed-85d0-0242ac1c000c\"]);\n",
              "//# sourceURL=js_70d8d20fb7"
            ]
          },
          "metadata": {}
        },
        {
          "output_type": "stream",
          "name": "stdout",
          "text": [
            "Reward ->  10\n"
          ]
        },
        {
          "output_type": "display_data",
          "data": {
            "text/plain": [
              "<Figure size 432x288 with 1 Axes>"
            ],
            "image/png": "[encoded data removed]"
          },
          "metadata": {
            "needs_background": "light"
          }
        },
        {
          "output_type": "display_data",
          "data": {
            "text/plain": [
              "<IPython.core.display.Javascript object>"
            ],
            "application/javascript": [
              "window[\"3d0d3afe-ba4b-11ed-85d0-0242ac1c000c\"] = google.colab.output.setActiveOutputArea(window[\"3ce639fe-ba4b-11ed-85d0-0242ac1c000c\"]);\n",
              "//# sourceURL=js_973e7dac02"
            ]
          },
          "metadata": {}
        }
      ]
    },
    {
      "cell_type": "markdown",
      "source": [
        "\n",
        "---\n",
        "\n",
        "## #**2.2 SARSA Implementation**"
      ],
      "metadata": {
        "id": "jOW0xemfcpaR"
      }
    },
    {
      "cell_type": "markdown",
      "source": [
        "### 2.2.1 SARSA for Deterministic Environment"
      ],
      "metadata": {
        "id": "YHdHzq2M3v87"
      }
    },
    {
      "cell_type": "code",
      "source": [
        "import random\n",
        "from IPython.display import clear_output\n",
        "\n",
        "env = GridEnv(env_type = \"deterministic\")\n",
        "agent = RandomAgent(env)\n",
        "\n",
        "# Hyperparameters\n",
        "alpha = 0.12\n",
        "gamma = 0.92\n",
        "epsilon = 1.0\n",
        "num_episodes = 500\n",
        "max_timesteps = 15\n",
        "state1 = 0\n",
        "\n",
        "#Q-Table\n",
        "q_table_sarsa_det = np.random.rand(25, 4)\n",
        "q_table_sarsa_det = q_table_sarsa_det.astype(int)\n",
        "\n",
        "#data arrays\n",
        "epsilon_sarsa = []\n",
        "reward_sarsa = []\n",
        "all_penalties_sarsa_det = []\n",
        "\n",
        "#running for 1000 episodes\n",
        "for episode in range(num_episodes):\n",
        "  #resetting the state \n",
        "  state, agent_pos = env.reset()\n",
        "  penalties = 0\n",
        "\n",
        "  # print(state)\n",
        "  state_to_list = state.tolist()\n",
        "  if 1 in state_to_list:\n",
        "    state1 = state_to_list.index(1)\n",
        "  # print(index)\n",
        "  new_reward = 0\n",
        "  new_penalties = 0\n",
        "\n",
        "  for timestep in range(max_timesteps):\n",
        "    #Choosing an action based on e-greedy policy\n",
        "    if np.random.rand() < epsilon:\n",
        "      action = np.random.choice(env.action_space.n)\n",
        "    else:\n",
        "      action = np.argmax(q_table_sarsa_det[state1])\n",
        "\n",
        "    #getting the next state, reward\n",
        "    observation, reward, terminated, truncated, info, new_agent_pos = env.step(action)\n",
        "    \n",
        "    if reward == -5 or reward == -6 or reward == -2:\n",
        "      penalties += 1\n",
        "\n",
        "    #getting the new state\n",
        "    new_state_to_list = observation.tolist()\n",
        "    if 1 in new_state_to_list:\n",
        "      state2 = new_state_to_list.index(1)\n",
        "\n",
        "    if np.random.rand() < epsilon:\n",
        "      action2 = np.random.choice(env.action_space.n)\n",
        "    else:\n",
        "      action2 = np.argmax(q_table_sarsa_det[state2])\n",
        "\n",
        "    q_table_sarsa_det[state1, action] = q_table_sarsa_det[state1, action] + alpha * (reward + gamma * (q_table_sarsa_det[state2, action2] - q_table_sarsa_det[state1, action]))\n",
        "\n",
        "    \n",
        "    new_reward += reward\n",
        "    state1 = state2\n",
        "    new_penalties += penalties\n",
        "  reward_sarsa.append(new_reward)\n",
        "  all_penalties_sarsa_det.append(new_penalties)\n",
        "  epsilon *= 0.9908\n",
        "  epsilon_sarsa.append(epsilon)\n",
        "  # print(epsilon)\n",
        "\n",
        "# print(\"Q-Table : \", q_table_sarsa)\n",
        "# print(epsilon_val)\n",
        "# print(\"Q Table : \", q_table_sarsa)"
      ],
      "metadata": {
        "id": "dgV8giqZTVHr"
      },
      "execution_count": 173,
      "outputs": []
    },
    {
      "cell_type": "markdown",
      "source": [
        "**Epsilon-Decay Graph**"
      ],
      "metadata": {
        "id": "3EDwAtWS3--Y"
      }
    },
    {
      "cell_type": "code",
      "source": [
        "plt.figure(figsize=(5,5))\n",
        "plt.plot(epsilon_sarsa, linewidth=4)\n",
        "plt.xlabel('Episode', fontsize=16)\n",
        "plt.ylabel('Epsilon Values', fontsize=16)\n",
        "plt.title('Epsilon Decay (SARSA - Deterministic)', fontsize=20)\n",
        "plt.xticks(fontsize=16)\n",
        "plt.yticks(fontsize=16)\n",
        "plt.ylim(ymin=0, ymax=1)\n",
        "plt.xlim(xmin=0, xmax=500)\n",
        "plt.grid()\n",
        "plt.show()"
      ],
      "metadata": {
        "colab": {
          "base_uri": "https://localhost:8080/",
          "height": 365
        },
        "id": "J6ZvHRH6HmXv",
        "outputId": "2919a37f-af89-4f01-c7d3-850fe318f45e"
      },
      "execution_count": 174,
      "outputs": [
        {
          "output_type": "display_data",
          "data": {
            "text/plain": [
              "<Figure size 360x360 with 1 Axes>"
            ],
            "image/png": "[encoded data removed]"
          },
          "metadata": {
            "needs_background": "light"
          }
        }
      ]
    },
    {
      "cell_type": "markdown",
      "source": [
        "**Reward Per Episode**"
      ],
      "metadata": {
        "id": "LbO2QRiy4c0y"
      }
    },
    {
      "cell_type": "code",
      "source": [
        "plt.figure(figsize=(8,8))\n",
        "plt.plot(reward_sarsa, 'ro')\n",
        "plt.xlabel('Episode', fontsize=18)\n",
        "plt.ylabel('Reward Value', fontsize=18)\n",
        "plt.title('Rewards Per Episode (SARSA - Deterministic)', fontsize=20)\n",
        "plt.xticks(fontsize=16)\n",
        "plt.yticks([-60, -50, -20, 0, 20, 40, 60, 80, 100, 120, 140, 160], fontsize=16)\n",
        "plt.ylim(ymin=-30, ymax=170)\n",
        "plt.xlim(xmin=-5, xmax=500)\n",
        "plt.grid()\n",
        "plt.show()"
      ],
      "metadata": {
        "colab": {
          "base_uri": "https://localhost:8080/",
          "height": 531
        },
        "id": "HMvfix87kX_F",
        "outputId": "d748c502-d47a-4ea1-9873-457ff5e006ad"
      },
      "execution_count": 175,
      "outputs": [
        {
          "output_type": "display_data",
          "data": {
            "text/plain": [
              "<Figure size 576x576 with 1 Axes>"
            ],
            "image/png": "[encoded data removed]"
          },
          "metadata": {
            "needs_background": "light"
          }
        }
      ]
    },
    {
      "cell_type": "markdown",
      "source": [
        "**Penalties Per Episode**"
      ],
      "metadata": {
        "id": "lq_o8QrS4jKT"
      }
    },
    {
      "cell_type": "code",
      "source": [
        "plt.figure(figsize=(8,8))\n",
        "plt.plot(all_penalties_sarsa_det, 'go')\n",
        "plt.xlabel('Episode', fontsize=18)\n",
        "plt.ylabel('Penalties', fontsize=18)\n",
        "plt.title('Penalties Per Episode (SARSA - Deterministic)', fontsize=20)\n",
        "plt.xticks(fontsize=16)\n",
        "plt.yticks([-60, -50, -20, 0, 20, 40, 60, 80, 100], fontsize=16)\n",
        "plt.ylim(ymin=-7, ymax=100)\n",
        "plt.xlim(xmin=0, xmax=500)\n",
        "plt.grid()\n",
        "plt.show()"
      ],
      "metadata": {
        "colab": {
          "base_uri": "https://localhost:8080/",
          "height": 531
        },
        "id": "nU5Pt-6kr7l7",
        "outputId": "a81206af-2865-4a4a-e513-f229883da4eb"
      },
      "execution_count": 176,
      "outputs": [
        {
          "output_type": "display_data",
          "data": {
            "text/plain": [
              "<Figure size 576x576 with 1 Axes>"
            ],
            "image/png": "[encoded data removed]"
          },
          "metadata": {
            "needs_background": "light"
          }
        }
      ]
    },
    {
      "cell_type": "markdown",
      "source": [
        "### 2.2.2 SARSA for Stochastic Environment"
      ],
      "metadata": {
        "id": "dEBcfx6P326N"
      }
    },
    {
      "cell_type": "code",
      "source": [
        "import random\n",
        "from IPython.display import clear_output\n",
        "\n",
        "env = GridEnv(env_type = \"stochastic\")\n",
        "agent = RandomAgent(env)\n",
        "\n",
        "# Hyperparameters\n",
        "alpha = 0.12\n",
        "gamma = 0.92\n",
        "epsilon = 1.0\n",
        "epsilon_sarsa_stoc = []\n",
        "reward_sarsa_stoc = []\n",
        "\n",
        "num_episodes = 500\n",
        "max_timesteps = 15\n",
        "\n",
        "# For plotting metrics\n",
        "all_penalties_sarsa_stoc = []\n",
        "state1 = 0\n",
        "#Q-Table\n",
        "q_table_sarsa_stoc = np.random.rand(25, 4)\n",
        "q_table_sarsa_stoc = q_table_sarsa_stoc.astype(int)\n",
        "\n",
        "#running for 500 episodes\n",
        "for episode in range(num_episodes):\n",
        "  #resetting the state \n",
        "  state, agent_pos = env.reset()\n",
        "  penalties = 0\n",
        "  new_penalties = 0\n",
        "  new_reward = 0\n",
        "  # print(state)\n",
        "  state_to_list = state.tolist()\n",
        "  if 1 in state_to_list:\n",
        "    state1 = state_to_list.index(1)\n",
        "  # print(index)\n",
        "  \n",
        "  for timestep in range(max_timesteps):\n",
        "    #Choosing an action based on e-greedy policy\n",
        "    if np.random.rand() < epsilon:\n",
        "      action = np.random.choice(env.action_space.n)\n",
        "    else:\n",
        "      action = np.argmax(q_table_sarsa_stoc[state1])\n",
        "\n",
        "    #getting the next state, reward\n",
        "    observation, reward, terminated, truncated, info, new_agent_pos = env.step(action)\n",
        "\n",
        "    if reward == -5 or reward == -6 or reward == -2:\n",
        "      penalties += 1\n",
        "\n",
        "    #getting the new state\n",
        "    new_state_to_list = observation.tolist()\n",
        "    if 1 in new_state_to_list:\n",
        "      state2 = new_state_to_list.index(1)\n",
        "\n",
        "    if np.random.rand() < epsilon:\n",
        "      action2 = np.random.choice(env.action_space.n)\n",
        "    else:\n",
        "      action2 = np.argmax(q_table_sarsa_stoc[state2])\n",
        "\n",
        "    q_table_sarsa_stoc[state1, action] = q_table_sarsa_stoc[state1, action] + alpha * (reward + gamma * (q_table_sarsa_stoc[state2, action2] - q_table_sarsa_stoc[state1, action]))\n",
        "\n",
        "    \n",
        "    # agent_pos = new_agent_pos\n",
        "    new_penalties += penalties\n",
        "    state1 = state2\n",
        "    new_reward += reward\n",
        "    \n",
        "  all_penalties_sarsa_stoc.append(new_penalties)\n",
        "  reward_sarsa_stoc.append(new_reward)\n",
        "  epsilon *= 0.9908\n",
        "  epsilon_sarsa_stoc.append(epsilon)\n",
        "  # print(epsilon)\n",
        "\n",
        "# print(\"Q-Table : \", q_table_sarsa)\n",
        "# print(epsilon_val)\n",
        "# print(\"Q Table : \", q_table_sarsa)"
      ],
      "metadata": {
        "id": "FqE3Pw6PgG_J"
      },
      "execution_count": 178,
      "outputs": []
    },
    {
      "cell_type": "markdown",
      "source": [
        "**Epsilon-Decay Graph**"
      ],
      "metadata": {
        "id": "3oUj2Ki35C4b"
      }
    },
    {
      "cell_type": "code",
      "source": [
        "plt.figure(figsize=(5,5))\n",
        "plt.plot(epsilon_sarsa_stoc, linewidth=4)\n",
        "plt.xlabel('Episode', fontsize=16)\n",
        "plt.ylabel('Epsilon Values', fontsize=16)\n",
        "plt.title('Epsilon Decay (SARSA - Stochastic)', fontsize=20)\n",
        "plt.xticks(fontsize=16)\n",
        "plt.yticks(fontsize=16)\n",
        "plt.ylim(ymin=0, ymax=1)\n",
        "plt.xlim(xmin=0, xmax=500)\n",
        "plt.grid()\n",
        "plt.show()"
      ],
      "metadata": {
        "colab": {
          "base_uri": "https://localhost:8080/",
          "height": 365
        },
        "id": "yIhDa6B3IM2G",
        "outputId": "cacbdcb6-86ec-46eb-87cf-c63a53d43534"
      },
      "execution_count": 91,
      "outputs": [
        {
          "output_type": "display_data",
          "data": {
            "text/plain": [
              "<Figure size 360x360 with 1 Axes>"
            ],
            "image/png": "[encoded data removed]"
          },
          "metadata": {
            "needs_background": "light"
          }
        }
      ]
    },
    {
      "cell_type": "markdown",
      "source": [
        "**Rewards Per Episode**"
      ],
      "metadata": {
        "id": "4Q1X45cw5JRj"
      }
    },
    {
      "cell_type": "code",
      "source": [
        "# print(reward_sarsa_stoc)\n",
        "plt.figure(figsize=(8,8))\n",
        "plt.plot(reward_sarsa_stoc, 'ro')\n",
        "plt.xlabel('Episode', fontsize=18)\n",
        "plt.ylabel('Reward Value', fontsize=18)\n",
        "plt.title('Rewards Per Episode (SARSA - Stochastic)', fontsize=20)\n",
        "plt.xticks(fontsize=16)\n",
        "plt.yticks([-60, -50, -20, 0, 10, 20, 40, 60, 80, 100, 120, 140], fontsize=16)\n",
        "plt.ylim(ymin=-7, ymax=160)\n",
        "plt.xlim(xmin=0, xmax=500)\n",
        "plt.grid()\n",
        "plt.show()"
      ],
      "metadata": {
        "colab": {
          "base_uri": "https://localhost:8080/",
          "height": 531
        },
        "id": "hGKsBifCKbcp",
        "outputId": "ffd49f5a-011d-4941-cbdc-d03a5839960e"
      },
      "execution_count": 179,
      "outputs": [
        {
          "output_type": "display_data",
          "data": {
            "text/plain": [
              "<Figure size 576x576 with 1 Axes>"
            ],
            "image/png": "[encoded data removed]"
          },
          "metadata": {
            "needs_background": "light"
          }
        }
      ]
    },
    {
      "cell_type": "markdown",
      "source": [
        "**Penalties Per Episode**"
      ],
      "metadata": {
        "id": "EycOHMl7BI1x"
      }
    },
    {
      "cell_type": "code",
      "source": [
        "plt.figure(figsize=(8,8))\n",
        "plt.plot(all_penalties_sarsa_stoc, 'go')\n",
        "plt.xlabel('Episode', fontsize=18)\n",
        "plt.ylabel('Penalties', fontsize=18)\n",
        "plt.title('Penalties Per Episode (SARSA - Stochastic)', fontsize=20)\n",
        "plt.xticks(fontsize=16)\n",
        "plt.yticks([-60, -50, -20, 0, 20, 40, 60, 80, 100], fontsize=16)\n",
        "plt.ylim(ymin=-7, ymax=100)\n",
        "plt.xlim(xmin=0, xmax=500)\n",
        "plt.grid()\n",
        "plt.show()"
      ],
      "metadata": {
        "id": "qIqsdyqwAhsD",
        "outputId": "2e681312-2046-4f50-937d-617984048859",
        "colab": {
          "base_uri": "https://localhost:8080/",
          "height": 531
        }
      },
      "execution_count": 180,
      "outputs": [
        {
          "output_type": "display_data",
          "data": {
            "text/plain": [
              "<Figure size 576x576 with 1 Axes>"
            ],
            "image/png": "[encoded data removed]"
          },
          "metadata": {
            "needs_background": "light"
          }
        }
      ]
    },
    {
      "cell_type": "markdown",
      "source": [
        "**Downloading SARSA Tables**"
      ],
      "metadata": {
        "id": "zSrG_u2E-nXQ"
      }
    },
    {
      "cell_type": "code",
      "source": [
        "with open('sarsa_table_deterministic.pkl', 'wb') as f:\n",
        "    pickle.dump(q_table_sarsa_det, f)\n",
        "\n",
        "from google.colab import files\n",
        "files.download('sarsa_table_deterministic.pkl')"
      ],
      "metadata": {
        "id": "iir85Tr6-rdf",
        "outputId": "65cb0ab7-0ce7-4d46-f529-b47690c234df",
        "colab": {
          "base_uri": "https://localhost:8080/",
          "height": 17
        }
      },
      "execution_count": 94,
      "outputs": [
        {
          "output_type": "display_data",
          "data": {
            "text/plain": [
              "<IPython.core.display.Javascript object>"
            ],
            "application/javascript": [
              "\n",
              "    async function download(id, filename, size) {\n",
              "      if (!google.colab.kernel.accessAllowed) {\n",
              "        return;\n",
              "      }\n",
              "      const div = document.createElement('div');\n",
              "      const label = document.createElement('label');\n",
              "      label.textContent = `Downloading \"${filename}\": `;\n",
              "      div.appendChild(label);\n",
              "      const progress = document.createElement('progress');\n",
              "      progress.max = size;\n",
              "      div.appendChild(progress);\n",
              "      document.body.appendChild(div);\n",
              "\n",
              "      const buffers = [];\n",
              "      let downloaded = 0;\n",
              "\n",
              "      const channel = await google.colab.kernel.comms.open(id);\n",
              "      // Send a message to notify the kernel that we're ready.\n",
              "      channel.send({})\n",
              "\n",
              "      for await (const message of channel.messages) {\n",
              "        // Send a message to notify the kernel that we're ready.\n",
              "        channel.send({})\n",
              "        if (message.buffers) {\n",
              "          for (const buffer of message.buffers) {\n",
              "            buffers.push(buffer);\n",
              "            downloaded += buffer.byteLength;\n",
              "            progress.value = downloaded;\n",
              "          }\n",
              "        }\n",
              "      }\n",
              "      const blob = new Blob(buffers, {type: 'application/binary'});\n",
              "      const a = document.createElement('a');\n",
              "      a.href = window.URL.createObjectURL(blob);\n",
              "      a.download = filename;\n",
              "      div.appendChild(a);\n",
              "      a.click();\n",
              "      div.remove();\n",
              "    }\n",
              "  "
            ]
          },
          "metadata": {}
        },
        {
          "output_type": "display_data",
          "data": {
            "text/plain": [
              "<IPython.core.display.Javascript object>"
            ],
            "application/javascript": [
              "download(\"download_f17de0ee-da57-44fe-9a94-e1b53f23cd59\", \"sarsa_table_deterministic.pkl\", 952)"
            ]
          },
          "metadata": {}
        }
      ]
    },
    {
      "cell_type": "code",
      "source": [
        "with open('sarsa_table_stochastic.pkl', 'wb') as f:\n",
        "    pickle.dump(q_table_sarsa_stoc, f)\n",
        "\n",
        "from google.colab import files\n",
        "files.download('sarsa_table_stochastic.pkl')"
      ],
      "metadata": {
        "id": "EIDg_Mmg-7Sf",
        "outputId": "19e7eabb-7aa9-42b8-da22-b618b225d624",
        "colab": {
          "base_uri": "https://localhost:8080/",
          "height": 17
        }
      },
      "execution_count": 95,
      "outputs": [
        {
          "output_type": "display_data",
          "data": {
            "text/plain": [
              "<IPython.core.display.Javascript object>"
            ],
            "application/javascript": [
              "\n",
              "    async function download(id, filename, size) {\n",
              "      if (!google.colab.kernel.accessAllowed) {\n",
              "        return;\n",
              "      }\n",
              "      const div = document.createElement('div');\n",
              "      const label = document.createElement('label');\n",
              "      label.textContent = `Downloading \"${filename}\": `;\n",
              "      div.appendChild(label);\n",
              "      const progress = document.createElement('progress');\n",
              "      progress.max = size;\n",
              "      div.appendChild(progress);\n",
              "      document.body.appendChild(div);\n",
              "\n",
              "      const buffers = [];\n",
              "      let downloaded = 0;\n",
              "\n",
              "      const channel = await google.colab.kernel.comms.open(id);\n",
              "      // Send a message to notify the kernel that we're ready.\n",
              "      channel.send({})\n",
              "\n",
              "      for await (const message of channel.messages) {\n",
              "        // Send a message to notify the kernel that we're ready.\n",
              "        channel.send({})\n",
              "        if (message.buffers) {\n",
              "          for (const buffer of message.buffers) {\n",
              "            buffers.push(buffer);\n",
              "            downloaded += buffer.byteLength;\n",
              "            progress.value = downloaded;\n",
              "          }\n",
              "        }\n",
              "      }\n",
              "      const blob = new Blob(buffers, {type: 'application/binary'});\n",
              "      const a = document.createElement('a');\n",
              "      a.href = window.URL.createObjectURL(blob);\n",
              "      a.download = filename;\n",
              "      div.appendChild(a);\n",
              "      a.click();\n",
              "      div.remove();\n",
              "    }\n",
              "  "
            ]
          },
          "metadata": {}
        },
        {
          "output_type": "display_data",
          "data": {
            "text/plain": [
              "<IPython.core.display.Javascript object>"
            ],
            "application/javascript": [
              "download(\"download_d22650af-1eec-47ec-ab41-4894139247a3\", \"sarsa_table_stochastic.pkl\", 952)"
            ]
          },
          "metadata": {}
        }
      ]
    },
    {
      "cell_type": "markdown",
      "source": [
        "###**2.2.3 Testing SARSA-Values**\n",
        "\n",
        "**5x5 Grid Environment - Deterministic**"
      ],
      "metadata": {
        "id": "IQ1NSLHS4xM-"
      }
    },
    {
      "cell_type": "code",
      "source": [
        "env = GridEnv(env_type = \"deterministic\")\n",
        "agent = RandomAgent(env)\n",
        "\n",
        "obs, info = env.reset()\n",
        "terminated, truncated = False, False\n",
        "\n",
        "\n",
        "output_grid = widgets.Grid(1, 1)\n",
        "with output_grid.output_to(0, 0):\n",
        "  env.render()\n",
        "\n",
        "def get_max_val(arg):\n",
        "  return max(arg)\n",
        "  \n",
        "for i in q_table_sarsa_det:\n",
        "  max_val = get_max_val(i)\n",
        "  i_to_list = i.tolist()\n",
        "  max_index = i_to_list.index(max_val)\n",
        "  observation, reward, terminated, truncated, info, agent_pos = env.step(max_index)\n",
        "  with output_grid.output_to(0, 0):\n",
        "    output_grid.clear_cell()\n",
        "    plt.imshow(grid)\n",
        "    env.render()\n",
        "  time.sleep(1)\n",
        "\n",
        "  "
      ],
      "metadata": {
        "colab": {
          "base_uri": "https://localhost:8080/",
          "height": 287
        },
        "id": "WSSAMMfd4vyG",
        "outputId": "a5b3b53c-b35a-4167-bd83-65086f25bf19"
      },
      "execution_count": 181,
      "outputs": [
        {
          "output_type": "display_data",
          "data": {
            "text/plain": [
              "<IPython.core.display.HTML object>"
            ],
            "text/html": [
              "<style>\n",
              "       table#id86, #id86 > tbody > tr > th, #id86 > tbody > tr > td {\n",
              "         border: 1px solid lightgray;\n",
              "         border-collapse:collapse;\n",
              "         \n",
              "        }</style>"
            ]
          },
          "metadata": {}
        },
        {
          "output_type": "display_data",
          "data": {
            "text/plain": [
              "<IPython.core.display.HTML object>"
            ],
            "text/html": [
              "<table id=id86><tr><td id=id86-0-0></td></tr></table>"
            ]
          },
          "metadata": {}
        },
        {
          "output_type": "display_data",
          "data": {
            "text/plain": [
              "<IPython.core.display.Javascript object>"
            ],
            "application/javascript": [
              "window[\"7441abd6-ba4b-11ed-85d0-0242ac1c000c\"] = google.colab.output.getActiveOutputArea();\n",
              "//# sourceURL=js_6474949e1e"
            ]
          },
          "metadata": {}
        },
        {
          "output_type": "display_data",
          "data": {
            "text/plain": [
              "<IPython.core.display.Javascript object>"
            ],
            "application/javascript": [
              "window[\"744228e0-ba4b-11ed-85d0-0242ac1c000c\"] = document.querySelector(\"#id86-0-0\");\n",
              "//# sourceURL=js_90584de694"
            ]
          },
          "metadata": {}
        },
        {
          "output_type": "display_data",
          "data": {
            "text/plain": [
              "<IPython.core.display.Javascript object>"
            ],
            "application/javascript": [
              "window[\"7442a964-ba4b-11ed-85d0-0242ac1c000c\"] = google.colab.output.setActiveOutputArea(window[\"744228e0-ba4b-11ed-85d0-0242ac1c000c\"]);\n",
              "//# sourceURL=js_9f371112a9"
            ]
          },
          "metadata": {}
        },
        {
          "output_type": "display_data",
          "data": {
            "text/plain": [
              "<IPython.core.display.Javascript object>"
            ],
            "application/javascript": [
              "window[\"74620516-ba4b-11ed-85d0-0242ac1c000c\"] = google.colab.output.setActiveOutputArea(window[\"7441abd6-ba4b-11ed-85d0-0242ac1c000c\"]);\n",
              "//# sourceURL=js_b70a13ab1b"
            ]
          },
          "metadata": {}
        },
        {
          "output_type": "display_data",
          "data": {
            "text/plain": [
              "<IPython.core.display.Javascript object>"
            ],
            "application/javascript": [
              "window[\"7464b072-ba4b-11ed-85d0-0242ac1c000c\"] = google.colab.output.getActiveOutputArea();\n",
              "//# sourceURL=js_1d03b75c25"
            ]
          },
          "metadata": {}
        },
        {
          "output_type": "display_data",
          "data": {
            "text/plain": [
              "<IPython.core.display.Javascript object>"
            ],
            "application/javascript": [
              "window[\"74652548-ba4b-11ed-85d0-0242ac1c000c\"] = document.querySelector(\"#id86-0-0\");\n",
              "//# sourceURL=js_3cd5ea0247"
            ]
          },
          "metadata": {}
        },
        {
          "output_type": "display_data",
          "data": {
            "text/plain": [
              "<IPython.core.display.Javascript object>"
            ],
            "application/javascript": [
              "window[\"74659226-ba4b-11ed-85d0-0242ac1c000c\"] = google.colab.output.setActiveOutputArea(window[\"74652548-ba4b-11ed-85d0-0242ac1c000c\"]);\n",
              "//# sourceURL=js_535c4f64a0"
            ]
          },
          "metadata": {}
        },
        {
          "output_type": "display_data",
          "data": {
            "text/plain": [
              "<IPython.core.display.Javascript object>"
            ],
            "application/javascript": [
              "window[\"748903f0-ba4b-11ed-85d0-0242ac1c000c\"] = google.colab.output.setActiveOutputArea(window[\"7464b072-ba4b-11ed-85d0-0242ac1c000c\"]);\n",
              "//# sourceURL=js_c53bddd493"
            ]
          },
          "metadata": {}
        },
        {
          "output_type": "display_data",
          "data": {
            "text/plain": [
              "<IPython.core.display.Javascript object>"
            ],
            "application/javascript": [
              "window[\"75240c92-ba4b-11ed-85d0-0242ac1c000c\"] = google.colab.output.getActiveOutputArea();\n",
              "//# sourceURL=js_d1d0e305f4"
            ]
          },
          "metadata": {}
        },
        {
          "output_type": "display_data",
          "data": {
            "text/plain": [
              "<IPython.core.display.Javascript object>"
            ],
            "application/javascript": [
              "window[\"75248f14-ba4b-11ed-85d0-0242ac1c000c\"] = document.querySelector(\"#id86-0-0\");\n",
              "//# sourceURL=js_7e11f6c036"
            ]
          },
          "metadata": {}
        },
        {
          "output_type": "display_data",
          "data": {
            "text/plain": [
              "<IPython.core.display.Javascript object>"
            ],
            "application/javascript": [
              "window[\"752508cc-ba4b-11ed-85d0-0242ac1c000c\"] = google.colab.output.setActiveOutputArea(window[\"75248f14-ba4b-11ed-85d0-0242ac1c000c\"]);\n",
              "//# sourceURL=js_02648cb9f8"
            ]
          },
          "metadata": {}
        },
        {
          "output_type": "display_data",
          "data": {
            "text/plain": [
              "<IPython.core.display.Javascript object>"
            ],
            "application/javascript": [
              "window[\"7547d3ca-ba4b-11ed-85d0-0242ac1c000c\"] = google.colab.output.setActiveOutputArea(window[\"75240c92-ba4b-11ed-85d0-0242ac1c000c\"]);\n",
              "//# sourceURL=js_2aa83e6971"
            ]
          },
          "metadata": {}
        },
        {
          "output_type": "display_data",
          "data": {
            "text/plain": [
              "<IPython.core.display.Javascript object>"
            ],
            "application/javascript": [
              "window[\"75e30070-ba4b-11ed-85d0-0242ac1c000c\"] = google.colab.output.getActiveOutputArea();\n",
              "//# sourceURL=js_550c2b80dd"
            ]
          },
          "metadata": {}
        },
        {
          "output_type": "display_data",
          "data": {
            "text/plain": [
              "<IPython.core.display.Javascript object>"
            ],
            "application/javascript": [
              "window[\"75e36b1e-ba4b-11ed-85d0-0242ac1c000c\"] = document.querySelector(\"#id86-0-0\");\n",
              "//# sourceURL=js_d4e6ecf8f6"
            ]
          },
          "metadata": {}
        },
        {
          "output_type": "display_data",
          "data": {
            "text/plain": [
              "<IPython.core.display.Javascript object>"
            ],
            "application/javascript": [
              "window[\"75e3cd98-ba4b-11ed-85d0-0242ac1c000c\"] = google.colab.output.setActiveOutputArea(window[\"75e36b1e-ba4b-11ed-85d0-0242ac1c000c\"]);\n",
              "//# sourceURL=js_bc3e036c72"
            ]
          },
          "metadata": {}
        },
        {
          "output_type": "display_data",
          "data": {
            "text/plain": [
              "<IPython.core.display.Javascript object>"
            ],
            "application/javascript": [
              "window[\"7608596a-ba4b-11ed-85d0-0242ac1c000c\"] = google.colab.output.setActiveOutputArea(window[\"75e30070-ba4b-11ed-85d0-0242ac1c000c\"]);\n",
              "//# sourceURL=js_354efca6a3"
            ]
          },
          "metadata": {}
        },
        {
          "output_type": "display_data",
          "data": {
            "text/plain": [
              "<IPython.core.display.Javascript object>"
            ],
            "application/javascript": [
              "window[\"76a39ee8-ba4b-11ed-85d0-0242ac1c000c\"] = google.colab.output.getActiveOutputArea();\n",
              "//# sourceURL=js_a02dba967a"
            ]
          },
          "metadata": {}
        },
        {
          "output_type": "display_data",
          "data": {
            "text/plain": [
              "<IPython.core.display.Javascript object>"
            ],
            "application/javascript": [
              "window[\"76a413e6-ba4b-11ed-85d0-0242ac1c000c\"] = document.querySelector(\"#id86-0-0\");\n",
              "//# sourceURL=js_ff017e84ec"
            ]
          },
          "metadata": {}
        },
        {
          "output_type": "display_data",
          "data": {
            "text/plain": [
              "<IPython.core.display.Javascript object>"
            ],
            "application/javascript": [
              "window[\"76a486f0-ba4b-11ed-85d0-0242ac1c000c\"] = google.colab.output.setActiveOutputArea(window[\"76a413e6-ba4b-11ed-85d0-0242ac1c000c\"]);\n",
              "//# sourceURL=js_055e76283c"
            ]
          },
          "metadata": {}
        },
        {
          "output_type": "display_data",
          "data": {
            "text/plain": [
              "<IPython.core.display.Javascript object>"
            ],
            "application/javascript": [
              "window[\"76cad72e-ba4b-11ed-85d0-0242ac1c000c\"] = google.colab.output.setActiveOutputArea(window[\"76a39ee8-ba4b-11ed-85d0-0242ac1c000c\"]);\n",
              "//# sourceURL=js_f816bfeeee"
            ]
          },
          "metadata": {}
        },
        {
          "output_type": "display_data",
          "data": {
            "text/plain": [
              "<IPython.core.display.Javascript object>"
            ],
            "application/javascript": [
              "window[\"7767078e-ba4b-11ed-85d0-0242ac1c000c\"] = google.colab.output.getActiveOutputArea();\n",
              "//# sourceURL=js_a81d1b9f2f"
            ]
          },
          "metadata": {}
        },
        {
          "output_type": "display_data",
          "data": {
            "text/plain": [
              "<IPython.core.display.Javascript object>"
            ],
            "application/javascript": [
              "window[\"7767af9a-ba4b-11ed-85d0-0242ac1c000c\"] = document.querySelector(\"#id86-0-0\");\n",
              "//# sourceURL=js_7e4230a2b1"
            ]
          },
          "metadata": {}
        },
        {
          "output_type": "display_data",
          "data": {
            "text/plain": [
              "<IPython.core.display.Javascript object>"
            ],
            "application/javascript": [
              "window[\"77686340-ba4b-11ed-85d0-0242ac1c000c\"] = google.colab.output.setActiveOutputArea(window[\"7767af9a-ba4b-11ed-85d0-0242ac1c000c\"]);\n",
              "//# sourceURL=js_d6a0a76f95"
            ]
          },
          "metadata": {}
        },
        {
          "output_type": "display_data",
          "data": {
            "text/plain": [
              "<IPython.core.display.Javascript object>"
            ],
            "application/javascript": [
              "window[\"7789a9ce-ba4b-11ed-85d0-0242ac1c000c\"] = google.colab.output.setActiveOutputArea(window[\"7767078e-ba4b-11ed-85d0-0242ac1c000c\"]);\n",
              "//# sourceURL=js_4ea4b2accc"
            ]
          },
          "metadata": {}
        },
        {
          "output_type": "display_data",
          "data": {
            "text/plain": [
              "<IPython.core.display.Javascript object>"
            ],
            "application/javascript": [
              "window[\"7825d894-ba4b-11ed-85d0-0242ac1c000c\"] = google.colab.output.getActiveOutputArea();\n",
              "//# sourceURL=js_f414f76d4d"
            ]
          },
          "metadata": {}
        },
        {
          "output_type": "display_data",
          "data": {
            "text/plain": [
              "<IPython.core.display.Javascript object>"
            ],
            "application/javascript": [
              "window[\"78265abc-ba4b-11ed-85d0-0242ac1c000c\"] = document.querySelector(\"#id86-0-0\");\n",
              "//# sourceURL=js_dbcaebf46b"
            ]
          },
          "metadata": {}
        },
        {
          "output_type": "display_data",
          "data": {
            "text/plain": [
              "<IPython.core.display.Javascript object>"
            ],
            "application/javascript": [
              "window[\"7826e09a-ba4b-11ed-85d0-0242ac1c000c\"] = google.colab.output.setActiveOutputArea(window[\"78265abc-ba4b-11ed-85d0-0242ac1c000c\"]);\n",
              "//# sourceURL=js_579a7d9c0d"
            ]
          },
          "metadata": {}
        },
        {
          "output_type": "display_data",
          "data": {
            "text/plain": [
              "<IPython.core.display.Javascript object>"
            ],
            "application/javascript": [
              "window[\"784ea418-ba4b-11ed-85d0-0242ac1c000c\"] = google.colab.output.setActiveOutputArea(window[\"7825d894-ba4b-11ed-85d0-0242ac1c000c\"]);\n",
              "//# sourceURL=js_c1da5d140e"
            ]
          },
          "metadata": {}
        },
        {
          "output_type": "display_data",
          "data": {
            "text/plain": [
              "<IPython.core.display.Javascript object>"
            ],
            "application/javascript": [
              "window[\"78ea2a6e-ba4b-11ed-85d0-0242ac1c000c\"] = google.colab.output.getActiveOutputArea();\n",
              "//# sourceURL=js_d20c5ecf64"
            ]
          },
          "metadata": {}
        },
        {
          "output_type": "display_data",
          "data": {
            "text/plain": [
              "<IPython.core.display.Javascript object>"
            ],
            "application/javascript": [
              "window[\"78eaadd6-ba4b-11ed-85d0-0242ac1c000c\"] = document.querySelector(\"#id86-0-0\");\n",
              "//# sourceURL=js_54fc74340b"
            ]
          },
          "metadata": {}
        },
        {
          "output_type": "display_data",
          "data": {
            "text/plain": [
              "<IPython.core.display.Javascript object>"
            ],
            "application/javascript": [
              "window[\"78eb2982-ba4b-11ed-85d0-0242ac1c000c\"] = google.colab.output.setActiveOutputArea(window[\"78eaadd6-ba4b-11ed-85d0-0242ac1c000c\"]);\n",
              "//# sourceURL=js_abf153803d"
            ]
          },
          "metadata": {}
        },
        {
          "output_type": "display_data",
          "data": {
            "text/plain": [
              "<IPython.core.display.Javascript object>"
            ],
            "application/javascript": [
              "window[\"790e10fa-ba4b-11ed-85d0-0242ac1c000c\"] = google.colab.output.setActiveOutputArea(window[\"78ea2a6e-ba4b-11ed-85d0-0242ac1c000c\"]);\n",
              "//# sourceURL=js_4d5697be37"
            ]
          },
          "metadata": {}
        },
        {
          "output_type": "display_data",
          "data": {
            "text/plain": [
              "<IPython.core.display.Javascript object>"
            ],
            "application/javascript": [
              "window[\"79a9403e-ba4b-11ed-85d0-0242ac1c000c\"] = google.colab.output.getActiveOutputArea();\n",
              "//# sourceURL=js_a25717622f"
            ]
          },
          "metadata": {}
        },
        {
          "output_type": "display_data",
          "data": {
            "text/plain": [
              "<IPython.core.display.Javascript object>"
            ],
            "application/javascript": [
              "window[\"79a9b262-ba4b-11ed-85d0-0242ac1c000c\"] = document.querySelector(\"#id86-0-0\");\n",
              "//# sourceURL=js_23d0f3226e"
            ]
          },
          "metadata": {}
        },
        {
          "output_type": "display_data",
          "data": {
            "text/plain": [
              "<IPython.core.display.Javascript object>"
            ],
            "application/javascript": [
              "window[\"79aa52c6-ba4b-11ed-85d0-0242ac1c000c\"] = google.colab.output.setActiveOutputArea(window[\"79a9b262-ba4b-11ed-85d0-0242ac1c000c\"]);\n",
              "//# sourceURL=js_89210feed6"
            ]
          },
          "metadata": {}
        },
        {
          "output_type": "display_data",
          "data": {
            "text/plain": [
              "<IPython.core.display.Javascript object>"
            ],
            "application/javascript": [
              "window[\"79ceb300-ba4b-11ed-85d0-0242ac1c000c\"] = google.colab.output.setActiveOutputArea(window[\"79a9403e-ba4b-11ed-85d0-0242ac1c000c\"]);\n",
              "//# sourceURL=js_7072bbc56e"
            ]
          },
          "metadata": {}
        },
        {
          "output_type": "display_data",
          "data": {
            "text/plain": [
              "<IPython.core.display.Javascript object>"
            ],
            "application/javascript": [
              "window[\"7a6a1278-ba4b-11ed-85d0-0242ac1c000c\"] = google.colab.output.getActiveOutputArea();\n",
              "//# sourceURL=js_822ceb5cec"
            ]
          },
          "metadata": {}
        },
        {
          "output_type": "display_data",
          "data": {
            "text/plain": [
              "<IPython.core.display.Javascript object>"
            ],
            "application/javascript": [
              "window[\"7a6ae996-ba4b-11ed-85d0-0242ac1c000c\"] = document.querySelector(\"#id86-0-0\");\n",
              "//# sourceURL=js_8f08cb1a88"
            ]
          },
          "metadata": {}
        },
        {
          "output_type": "display_data",
          "data": {
            "text/plain": [
              "<IPython.core.display.Javascript object>"
            ],
            "application/javascript": [
              "window[\"7a6bc082-ba4b-11ed-85d0-0242ac1c000c\"] = google.colab.output.setActiveOutputArea(window[\"7a6ae996-ba4b-11ed-85d0-0242ac1c000c\"]);\n",
              "//# sourceURL=js_78c8c34ea3"
            ]
          },
          "metadata": {}
        },
        {
          "output_type": "display_data",
          "data": {
            "text/plain": [
              "<IPython.core.display.Javascript object>"
            ],
            "application/javascript": [
              "window[\"7aa18172-ba4b-11ed-85d0-0242ac1c000c\"] = google.colab.output.setActiveOutputArea(window[\"7a6a1278-ba4b-11ed-85d0-0242ac1c000c\"]);\n",
              "//# sourceURL=js_f401c3208a"
            ]
          },
          "metadata": {}
        },
        {
          "output_type": "display_data",
          "data": {
            "text/plain": [
              "<IPython.core.display.Javascript object>"
            ],
            "application/javascript": [
              "window[\"7b3de846-ba4b-11ed-85d0-0242ac1c000c\"] = google.colab.output.getActiveOutputArea();\n",
              "//# sourceURL=js_605d771187"
            ]
          },
          "metadata": {}
        },
        {
          "output_type": "display_data",
          "data": {
            "text/plain": [
              "<IPython.core.display.Javascript object>"
            ],
            "application/javascript": [
              "window[\"7b3e6762-ba4b-11ed-85d0-0242ac1c000c\"] = document.querySelector(\"#id86-0-0\");\n",
              "//# sourceURL=js_38777171c0"
            ]
          },
          "metadata": {}
        },
        {
          "output_type": "display_data",
          "data": {
            "text/plain": [
              "<IPython.core.display.Javascript object>"
            ],
            "application/javascript": [
              "window[\"7b3fbf72-ba4b-11ed-85d0-0242ac1c000c\"] = google.colab.output.setActiveOutputArea(window[\"7b3e6762-ba4b-11ed-85d0-0242ac1c000c\"]);\n",
              "//# sourceURL=js_09b287873d"
            ]
          },
          "metadata": {}
        },
        {
          "output_type": "display_data",
          "data": {
            "text/plain": [
              "<IPython.core.display.Javascript object>"
            ],
            "application/javascript": [
              "window[\"7b613d32-ba4b-11ed-85d0-0242ac1c000c\"] = google.colab.output.setActiveOutputArea(window[\"7b3de846-ba4b-11ed-85d0-0242ac1c000c\"]);\n",
              "//# sourceURL=js_3159261376"
            ]
          },
          "metadata": {}
        },
        {
          "output_type": "display_data",
          "data": {
            "text/plain": [
              "<IPython.core.display.Javascript object>"
            ],
            "application/javascript": [
              "window[\"7bfc7e14-ba4b-11ed-85d0-0242ac1c000c\"] = google.colab.output.getActiveOutputArea();\n",
              "//# sourceURL=js_44bcbc2578"
            ]
          },
          "metadata": {}
        },
        {
          "output_type": "display_data",
          "data": {
            "text/plain": [
              "<IPython.core.display.Javascript object>"
            ],
            "application/javascript": [
              "window[\"7bfcf5f6-ba4b-11ed-85d0-0242ac1c000c\"] = document.querySelector(\"#id86-0-0\");\n",
              "//# sourceURL=js_96052a6a77"
            ]
          },
          "metadata": {}
        },
        {
          "output_type": "display_data",
          "data": {
            "text/plain": [
              "<IPython.core.display.Javascript object>"
            ],
            "application/javascript": [
              "window[\"7bfda348-ba4b-11ed-85d0-0242ac1c000c\"] = google.colab.output.setActiveOutputArea(window[\"7bfcf5f6-ba4b-11ed-85d0-0242ac1c000c\"]);\n",
              "//# sourceURL=js_b6218b642a"
            ]
          },
          "metadata": {}
        },
        {
          "output_type": "display_data",
          "data": {
            "text/plain": [
              "<IPython.core.display.Javascript object>"
            ],
            "application/javascript": [
              "window[\"7c464b0c-ba4b-11ed-85d0-0242ac1c000c\"] = google.colab.output.setActiveOutputArea(window[\"7bfc7e14-ba4b-11ed-85d0-0242ac1c000c\"]);\n",
              "//# sourceURL=js_9a455eff04"
            ]
          },
          "metadata": {}
        },
        {
          "output_type": "display_data",
          "data": {
            "text/plain": [
              "<IPython.core.display.Javascript object>"
            ],
            "application/javascript": [
              "window[\"7ce325b2-ba4b-11ed-85d0-0242ac1c000c\"] = google.colab.output.getActiveOutputArea();\n",
              "//# sourceURL=js_5f739a2a70"
            ]
          },
          "metadata": {}
        },
        {
          "output_type": "display_data",
          "data": {
            "text/plain": [
              "<IPython.core.display.Javascript object>"
            ],
            "application/javascript": [
              "window[\"7ce3bb8a-ba4b-11ed-85d0-0242ac1c000c\"] = document.querySelector(\"#id86-0-0\");\n",
              "//# sourceURL=js_5550631357"
            ]
          },
          "metadata": {}
        },
        {
          "output_type": "display_data",
          "data": {
            "text/plain": [
              "<IPython.core.display.Javascript object>"
            ],
            "application/javascript": [
              "window[\"7ce4b7b0-ba4b-11ed-85d0-0242ac1c000c\"] = google.colab.output.setActiveOutputArea(window[\"7ce3bb8a-ba4b-11ed-85d0-0242ac1c000c\"]);\n",
              "//# sourceURL=js_d8654b57b1"
            ]
          },
          "metadata": {}
        },
        {
          "output_type": "display_data",
          "data": {
            "text/plain": [
              "<IPython.core.display.Javascript object>"
            ],
            "application/javascript": [
              "window[\"7d064948-ba4b-11ed-85d0-0242ac1c000c\"] = google.colab.output.setActiveOutputArea(window[\"7ce325b2-ba4b-11ed-85d0-0242ac1c000c\"]);\n",
              "//# sourceURL=js_2e4934f943"
            ]
          },
          "metadata": {}
        },
        {
          "output_type": "display_data",
          "data": {
            "text/plain": [
              "<IPython.core.display.Javascript object>"
            ],
            "application/javascript": [
              "window[\"7da1843a-ba4b-11ed-85d0-0242ac1c000c\"] = google.colab.output.getActiveOutputArea();\n",
              "//# sourceURL=js_79989e1ab0"
            ]
          },
          "metadata": {}
        },
        {
          "output_type": "display_data",
          "data": {
            "text/plain": [
              "<IPython.core.display.Javascript object>"
            ],
            "application/javascript": [
              "window[\"7da1f118-ba4b-11ed-85d0-0242ac1c000c\"] = document.querySelector(\"#id86-0-0\");\n",
              "//# sourceURL=js_7310cf1323"
            ]
          },
          "metadata": {}
        },
        {
          "output_type": "display_data",
          "data": {
            "text/plain": [
              "<IPython.core.display.Javascript object>"
            ],
            "application/javascript": [
              "window[\"7da26d46-ba4b-11ed-85d0-0242ac1c000c\"] = google.colab.output.setActiveOutputArea(window[\"7da1f118-ba4b-11ed-85d0-0242ac1c000c\"]);\n",
              "//# sourceURL=js_a1beebe8bd"
            ]
          },
          "metadata": {}
        },
        {
          "output_type": "display_data",
          "data": {
            "text/plain": [
              "<IPython.core.display.Javascript object>"
            ],
            "application/javascript": [
              "window[\"7dc65ee0-ba4b-11ed-85d0-0242ac1c000c\"] = google.colab.output.setActiveOutputArea(window[\"7da1843a-ba4b-11ed-85d0-0242ac1c000c\"]);\n",
              "//# sourceURL=js_c9b07622bf"
            ]
          },
          "metadata": {}
        },
        {
          "output_type": "display_data",
          "data": {
            "text/plain": [
              "<IPython.core.display.Javascript object>"
            ],
            "application/javascript": [
              "window[\"7e61d9b0-ba4b-11ed-85d0-0242ac1c000c\"] = google.colab.output.getActiveOutputArea();\n",
              "//# sourceURL=js_7ce931a9f8"
            ]
          },
          "metadata": {}
        },
        {
          "output_type": "display_data",
          "data": {
            "text/plain": [
              "<IPython.core.display.Javascript object>"
            ],
            "application/javascript": [
              "window[\"7e62521e-ba4b-11ed-85d0-0242ac1c000c\"] = document.querySelector(\"#id86-0-0\");\n",
              "//# sourceURL=js_e3a83e80a4"
            ]
          },
          "metadata": {}
        },
        {
          "output_type": "display_data",
          "data": {
            "text/plain": [
              "<IPython.core.display.Javascript object>"
            ],
            "application/javascript": [
              "window[\"7e635e34-ba4b-11ed-85d0-0242ac1c000c\"] = google.colab.output.setActiveOutputArea(window[\"7e62521e-ba4b-11ed-85d0-0242ac1c000c\"]);\n",
              "//# sourceURL=js_95e97342ae"
            ]
          },
          "metadata": {}
        },
        {
          "output_type": "display_data",
          "data": {
            "text/plain": [
              "<IPython.core.display.Javascript object>"
            ],
            "application/javascript": [
              "window[\"7e895a76-ba4b-11ed-85d0-0242ac1c000c\"] = google.colab.output.setActiveOutputArea(window[\"7e61d9b0-ba4b-11ed-85d0-0242ac1c000c\"]);\n",
              "//# sourceURL=js_320da317e5"
            ]
          },
          "metadata": {}
        },
        {
          "output_type": "display_data",
          "data": {
            "text/plain": [
              "<IPython.core.display.Javascript object>"
            ],
            "application/javascript": [
              "window[\"7f255eee-ba4b-11ed-85d0-0242ac1c000c\"] = google.colab.output.getActiveOutputArea();\n",
              "//# sourceURL=js_796ce9acb2"
            ]
          },
          "metadata": {}
        },
        {
          "output_type": "display_data",
          "data": {
            "text/plain": [
              "<IPython.core.display.Javascript object>"
            ],
            "application/javascript": [
              "window[\"7f25edd2-ba4b-11ed-85d0-0242ac1c000c\"] = document.querySelector(\"#id86-0-0\");\n",
              "//# sourceURL=js_35572651d0"
            ]
          },
          "metadata": {}
        },
        {
          "output_type": "display_data",
          "data": {
            "text/plain": [
              "<IPython.core.display.Javascript object>"
            ],
            "application/javascript": [
              "window[\"7f266474-ba4b-11ed-85d0-0242ac1c000c\"] = google.colab.output.setActiveOutputArea(window[\"7f25edd2-ba4b-11ed-85d0-0242ac1c000c\"]);\n",
              "//# sourceURL=js_b55bced9b3"
            ]
          },
          "metadata": {}
        },
        {
          "output_type": "display_data",
          "data": {
            "text/plain": [
              "<IPython.core.display.Javascript object>"
            ],
            "application/javascript": [
              "window[\"7f4b7912-ba4b-11ed-85d0-0242ac1c000c\"] = google.colab.output.setActiveOutputArea(window[\"7f255eee-ba4b-11ed-85d0-0242ac1c000c\"]);\n",
              "//# sourceURL=js_6e89e95892"
            ]
          },
          "metadata": {}
        },
        {
          "output_type": "display_data",
          "data": {
            "text/plain": [
              "<IPython.core.display.Javascript object>"
            ],
            "application/javascript": [
              "window[\"7fe683bc-ba4b-11ed-85d0-0242ac1c000c\"] = google.colab.output.getActiveOutputArea();\n",
              "//# sourceURL=js_e68c07a22e"
            ]
          },
          "metadata": {}
        },
        {
          "output_type": "display_data",
          "data": {
            "text/plain": [
              "<IPython.core.display.Javascript object>"
            ],
            "application/javascript": [
              "window[\"7fe7349c-ba4b-11ed-85d0-0242ac1c000c\"] = document.querySelector(\"#id86-0-0\");\n",
              "//# sourceURL=js_2afddaa1bb"
            ]
          },
          "metadata": {}
        },
        {
          "output_type": "display_data",
          "data": {
            "text/plain": [
              "<IPython.core.display.Javascript object>"
            ],
            "application/javascript": [
              "window[\"7fe7a490-ba4b-11ed-85d0-0242ac1c000c\"] = google.colab.output.setActiveOutputArea(window[\"7fe7349c-ba4b-11ed-85d0-0242ac1c000c\"]);\n",
              "//# sourceURL=js_af1d918679"
            ]
          },
          "metadata": {}
        },
        {
          "output_type": "display_data",
          "data": {
            "text/plain": [
              "<IPython.core.display.Javascript object>"
            ],
            "application/javascript": [
              "window[\"800a72d6-ba4b-11ed-85d0-0242ac1c000c\"] = google.colab.output.setActiveOutputArea(window[\"7fe683bc-ba4b-11ed-85d0-0242ac1c000c\"]);\n",
              "//# sourceURL=js_fc45dccc94"
            ]
          },
          "metadata": {}
        },
        {
          "output_type": "display_data",
          "data": {
            "text/plain": [
              "<IPython.core.display.Javascript object>"
            ],
            "application/javascript": [
              "window[\"80a57948-ba4b-11ed-85d0-0242ac1c000c\"] = google.colab.output.getActiveOutputArea();\n",
              "//# sourceURL=js_3fb4f46c61"
            ]
          },
          "metadata": {}
        },
        {
          "output_type": "display_data",
          "data": {
            "text/plain": [
              "<IPython.core.display.Javascript object>"
            ],
            "application/javascript": [
              "window[\"80a5e7c0-ba4b-11ed-85d0-0242ac1c000c\"] = document.querySelector(\"#id86-0-0\");\n",
              "//# sourceURL=js_4fc8d3c463"
            ]
          },
          "metadata": {}
        },
        {
          "output_type": "display_data",
          "data": {
            "text/plain": [
              "<IPython.core.display.Javascript object>"
            ],
            "application/javascript": [
              "window[\"80a68626-ba4b-11ed-85d0-0242ac1c000c\"] = google.colab.output.setActiveOutputArea(window[\"80a5e7c0-ba4b-11ed-85d0-0242ac1c000c\"]);\n",
              "//# sourceURL=js_207dd110ed"
            ]
          },
          "metadata": {}
        },
        {
          "output_type": "display_data",
          "data": {
            "text/plain": [
              "<IPython.core.display.Javascript object>"
            ],
            "application/javascript": [
              "window[\"80ca5aba-ba4b-11ed-85d0-0242ac1c000c\"] = google.colab.output.setActiveOutputArea(window[\"80a57948-ba4b-11ed-85d0-0242ac1c000c\"]);\n",
              "//# sourceURL=js_b2eb02bd1a"
            ]
          },
          "metadata": {}
        },
        {
          "output_type": "display_data",
          "data": {
            "text/plain": [
              "<IPython.core.display.Javascript object>"
            ],
            "application/javascript": [
              "window[\"81658f1c-ba4b-11ed-85d0-0242ac1c000c\"] = google.colab.output.getActiveOutputArea();\n",
              "//# sourceURL=js_4f573a1cdc"
            ]
          },
          "metadata": {}
        },
        {
          "output_type": "display_data",
          "data": {
            "text/plain": [
              "<IPython.core.display.Javascript object>"
            ],
            "application/javascript": [
              "window[\"81665550-ba4b-11ed-85d0-0242ac1c000c\"] = document.querySelector(\"#id86-0-0\");\n",
              "//# sourceURL=js_5d83c133fe"
            ]
          },
          "metadata": {}
        },
        {
          "output_type": "display_data",
          "data": {
            "text/plain": [
              "<IPython.core.display.Javascript object>"
            ],
            "application/javascript": [
              "window[\"81671a1c-ba4b-11ed-85d0-0242ac1c000c\"] = google.colab.output.setActiveOutputArea(window[\"81665550-ba4b-11ed-85d0-0242ac1c000c\"]);\n",
              "//# sourceURL=js_537b51a980"
            ]
          },
          "metadata": {}
        },
        {
          "output_type": "display_data",
          "data": {
            "text/plain": [
              "<IPython.core.display.Javascript object>"
            ],
            "application/javascript": [
              "window[\"81925a56-ba4b-11ed-85d0-0242ac1c000c\"] = google.colab.output.setActiveOutputArea(window[\"81658f1c-ba4b-11ed-85d0-0242ac1c000c\"]);\n",
              "//# sourceURL=js_9c2adadc27"
            ]
          },
          "metadata": {}
        },
        {
          "output_type": "display_data",
          "data": {
            "text/plain": [
              "<IPython.core.display.Javascript object>"
            ],
            "application/javascript": [
              "window[\"822d9de0-ba4b-11ed-85d0-0242ac1c000c\"] = google.colab.output.getActiveOutputArea();\n",
              "//# sourceURL=js_2e74404e72"
            ]
          },
          "metadata": {}
        },
        {
          "output_type": "display_data",
          "data": {
            "text/plain": [
              "<IPython.core.display.Javascript object>"
            ],
            "application/javascript": [
              "window[\"822e620c-ba4b-11ed-85d0-0242ac1c000c\"] = document.querySelector(\"#id86-0-0\");\n",
              "//# sourceURL=js_c6d70ca12b"
            ]
          },
          "metadata": {}
        },
        {
          "output_type": "display_data",
          "data": {
            "text/plain": [
              "<IPython.core.display.Javascript object>"
            ],
            "application/javascript": [
              "window[\"822edd22-ba4b-11ed-85d0-0242ac1c000c\"] = google.colab.output.setActiveOutputArea(window[\"822e620c-ba4b-11ed-85d0-0242ac1c000c\"]);\n",
              "//# sourceURL=js_4896e03aff"
            ]
          },
          "metadata": {}
        },
        {
          "output_type": "display_data",
          "data": {
            "text/plain": [
              "<IPython.core.display.Javascript object>"
            ],
            "application/javascript": [
              "window[\"826020f8-ba4b-11ed-85d0-0242ac1c000c\"] = google.colab.output.setActiveOutputArea(window[\"822d9de0-ba4b-11ed-85d0-0242ac1c000c\"]);\n",
              "//# sourceURL=js_814eab83aa"
            ]
          },
          "metadata": {}
        },
        {
          "output_type": "display_data",
          "data": {
            "text/plain": [
              "<IPython.core.display.Javascript object>"
            ],
            "application/javascript": [
              "window[\"82fb0d48-ba4b-11ed-85d0-0242ac1c000c\"] = google.colab.output.getActiveOutputArea();\n",
              "//# sourceURL=js_f6f206da0d"
            ]
          },
          "metadata": {}
        },
        {
          "output_type": "display_data",
          "data": {
            "text/plain": [
              "<IPython.core.display.Javascript object>"
            ],
            "application/javascript": [
              "window[\"82fb7e86-ba4b-11ed-85d0-0242ac1c000c\"] = document.querySelector(\"#id86-0-0\");\n",
              "//# sourceURL=js_82182b07a9"
            ]
          },
          "metadata": {}
        },
        {
          "output_type": "display_data",
          "data": {
            "text/plain": [
              "<IPython.core.display.Javascript object>"
            ],
            "application/javascript": [
              "window[\"82fc432a-ba4b-11ed-85d0-0242ac1c000c\"] = google.colab.output.setActiveOutputArea(window[\"82fb7e86-ba4b-11ed-85d0-0242ac1c000c\"]);\n",
              "//# sourceURL=js_13d3e95877"
            ]
          },
          "metadata": {}
        },
        {
          "output_type": "display_data",
          "data": {
            "text/plain": [
              "<IPython.core.display.Javascript object>"
            ],
            "application/javascript": [
              "window[\"8320b4bc-ba4b-11ed-85d0-0242ac1c000c\"] = google.colab.output.setActiveOutputArea(window[\"82fb0d48-ba4b-11ed-85d0-0242ac1c000c\"]);\n",
              "//# sourceURL=js_58de1ba9e5"
            ]
          },
          "metadata": {}
        },
        {
          "output_type": "display_data",
          "data": {
            "text/plain": [
              "<IPython.core.display.Javascript object>"
            ],
            "application/javascript": [
              "window[\"83bc165a-ba4b-11ed-85d0-0242ac1c000c\"] = google.colab.output.getActiveOutputArea();\n",
              "//# sourceURL=js_e228ceb329"
            ]
          },
          "metadata": {}
        },
        {
          "output_type": "display_data",
          "data": {
            "text/plain": [
              "<IPython.core.display.Javascript object>"
            ],
            "application/javascript": [
              "window[\"83bc83a6-ba4b-11ed-85d0-0242ac1c000c\"] = document.querySelector(\"#id86-0-0\");\n",
              "//# sourceURL=js_8cebb038e3"
            ]
          },
          "metadata": {}
        },
        {
          "output_type": "display_data",
          "data": {
            "text/plain": [
              "<IPython.core.display.Javascript object>"
            ],
            "application/javascript": [
              "window[\"83bcf3b8-ba4b-11ed-85d0-0242ac1c000c\"] = google.colab.output.setActiveOutputArea(window[\"83bc83a6-ba4b-11ed-85d0-0242ac1c000c\"]);\n",
              "//# sourceURL=js_26b4fa0664"
            ]
          },
          "metadata": {}
        },
        {
          "output_type": "display_data",
          "data": {
            "text/plain": [
              "<IPython.core.display.Javascript object>"
            ],
            "application/javascript": [
              "window[\"83e28222-ba4b-11ed-85d0-0242ac1c000c\"] = google.colab.output.setActiveOutputArea(window[\"83bc165a-ba4b-11ed-85d0-0242ac1c000c\"]);\n",
              "//# sourceURL=js_d137e2765d"
            ]
          },
          "metadata": {}
        },
        {
          "output_type": "display_data",
          "data": {
            "text/plain": [
              "<IPython.core.display.Javascript object>"
            ],
            "application/javascript": [
              "window[\"847dd01a-ba4b-11ed-85d0-0242ac1c000c\"] = google.colab.output.getActiveOutputArea();\n",
              "//# sourceURL=js_90d7cb54db"
            ]
          },
          "metadata": {}
        },
        {
          "output_type": "display_data",
          "data": {
            "text/plain": [
              "<IPython.core.display.Javascript object>"
            ],
            "application/javascript": [
              "window[\"847ec9d4-ba4b-11ed-85d0-0242ac1c000c\"] = document.querySelector(\"#id86-0-0\");\n",
              "//# sourceURL=js_c7e4d03398"
            ]
          },
          "metadata": {}
        },
        {
          "output_type": "display_data",
          "data": {
            "text/plain": [
              "<IPython.core.display.Javascript object>"
            ],
            "application/javascript": [
              "window[\"847f56b0-ba4b-11ed-85d0-0242ac1c000c\"] = google.colab.output.setActiveOutputArea(window[\"847ec9d4-ba4b-11ed-85d0-0242ac1c000c\"]);\n",
              "//# sourceURL=js_52bef46fb3"
            ]
          },
          "metadata": {}
        },
        {
          "output_type": "display_data",
          "data": {
            "text/plain": [
              "<IPython.core.display.Javascript object>"
            ],
            "application/javascript": [
              "window[\"84a51b70-ba4b-11ed-85d0-0242ac1c000c\"] = google.colab.output.setActiveOutputArea(window[\"847dd01a-ba4b-11ed-85d0-0242ac1c000c\"]);\n",
              "//# sourceURL=js_cad17397c5"
            ]
          },
          "metadata": {}
        },
        {
          "output_type": "display_data",
          "data": {
            "text/plain": [
              "<IPython.core.display.Javascript object>"
            ],
            "application/javascript": [
              "window[\"85403ccc-ba4b-11ed-85d0-0242ac1c000c\"] = google.colab.output.getActiveOutputArea();\n",
              "//# sourceURL=js_2bb9553434"
            ]
          },
          "metadata": {}
        },
        {
          "output_type": "display_data",
          "data": {
            "text/plain": [
              "<IPython.core.display.Javascript object>"
            ],
            "application/javascript": [
              "window[\"8540ceda-ba4b-11ed-85d0-0242ac1c000c\"] = document.querySelector(\"#id86-0-0\");\n",
              "//# sourceURL=js_72fca96e26"
            ]
          },
          "metadata": {}
        },
        {
          "output_type": "display_data",
          "data": {
            "text/plain": [
              "<IPython.core.display.Javascript object>"
            ],
            "application/javascript": [
              "window[\"85415e2c-ba4b-11ed-85d0-0242ac1c000c\"] = google.colab.output.setActiveOutputArea(window[\"8540ceda-ba4b-11ed-85d0-0242ac1c000c\"]);\n",
              "//# sourceURL=js_26eca26567"
            ]
          },
          "metadata": {}
        },
        {
          "output_type": "display_data",
          "data": {
            "text/plain": [
              "<IPython.core.display.Javascript object>"
            ],
            "application/javascript": [
              "window[\"856466ec-ba4b-11ed-85d0-0242ac1c000c\"] = google.colab.output.setActiveOutputArea(window[\"85403ccc-ba4b-11ed-85d0-0242ac1c000c\"]);\n",
              "//# sourceURL=js_f4d3f1f9f8"
            ]
          },
          "metadata": {}
        },
        {
          "output_type": "display_data",
          "data": {
            "text/plain": [
              "<IPython.core.display.Javascript object>"
            ],
            "application/javascript": [
              "window[\"85ff830c-ba4b-11ed-85d0-0242ac1c000c\"] = google.colab.output.getActiveOutputArea();\n",
              "//# sourceURL=js_45a6d65f84"
            ]
          },
          "metadata": {}
        },
        {
          "output_type": "display_data",
          "data": {
            "text/plain": [
              "<IPython.core.display.Javascript object>"
            ],
            "application/javascript": [
              "window[\"85ffee14-ba4b-11ed-85d0-0242ac1c000c\"] = document.querySelector(\"#id86-0-0\");\n",
              "//# sourceURL=js_7b0d6ee75c"
            ]
          },
          "metadata": {}
        },
        {
          "output_type": "display_data",
          "data": {
            "text/plain": [
              "<IPython.core.display.Javascript object>"
            ],
            "application/javascript": [
              "window[\"8600620e-ba4b-11ed-85d0-0242ac1c000c\"] = google.colab.output.setActiveOutputArea(window[\"85ffee14-ba4b-11ed-85d0-0242ac1c000c\"]);\n",
              "//# sourceURL=js_38c30587d4"
            ]
          },
          "metadata": {}
        },
        {
          "output_type": "display_data",
          "data": {
            "text/plain": [
              "<IPython.core.display.Javascript object>"
            ],
            "application/javascript": [
              "window[\"8622b07a-ba4b-11ed-85d0-0242ac1c000c\"] = google.colab.output.setActiveOutputArea(window[\"85ff830c-ba4b-11ed-85d0-0242ac1c000c\"]);\n",
              "//# sourceURL=js_e3eaaafeda"
            ]
          },
          "metadata": {}
        },
        {
          "output_type": "display_data",
          "data": {
            "text/plain": [
              "<IPython.core.display.Javascript object>"
            ],
            "application/javascript": [
              "window[\"86be055c-ba4b-11ed-85d0-0242ac1c000c\"] = google.colab.output.getActiveOutputArea();\n",
              "//# sourceURL=js_d3b9666b86"
            ]
          },
          "metadata": {}
        },
        {
          "output_type": "display_data",
          "data": {
            "text/plain": [
              "<IPython.core.display.Javascript object>"
            ],
            "application/javascript": [
              "window[\"86be7596-ba4b-11ed-85d0-0242ac1c000c\"] = document.querySelector(\"#id86-0-0\");\n",
              "//# sourceURL=js_ced6c1beb4"
            ]
          },
          "metadata": {}
        },
        {
          "output_type": "display_data",
          "data": {
            "text/plain": [
              "<IPython.core.display.Javascript object>"
            ],
            "application/javascript": [
              "window[\"86bee7ec-ba4b-11ed-85d0-0242ac1c000c\"] = google.colab.output.setActiveOutputArea(window[\"86be7596-ba4b-11ed-85d0-0242ac1c000c\"]);\n",
              "//# sourceURL=js_2555168394"
            ]
          },
          "metadata": {}
        },
        {
          "output_type": "stream",
          "name": "stdout",
          "text": [
            "Reward ->  10\n"
          ]
        },
        {
          "output_type": "display_data",
          "data": {
            "text/plain": [
              "<Figure size 432x288 with 1 Axes>"
            ],
            "image/png": "[encoded data removed]"
          },
          "metadata": {
            "needs_background": "light"
          }
        },
        {
          "output_type": "display_data",
          "data": {
            "text/plain": [
              "<IPython.core.display.Javascript object>"
            ],
            "application/javascript": [
              "window[\"86e4a7ac-ba4b-11ed-85d0-0242ac1c000c\"] = google.colab.output.setActiveOutputArea(window[\"86be055c-ba4b-11ed-85d0-0242ac1c000c\"]);\n",
              "//# sourceURL=js_791d567e32"
            ]
          },
          "metadata": {}
        }
      ]
    },
    {
      "cell_type": "markdown",
      "source": [
        "**5x5 Grid Environment - Stochastic**"
      ],
      "metadata": {
        "id": "IN3un4jv490v"
      }
    },
    {
      "cell_type": "code",
      "source": [
        "env = GridEnv(env_type = \"stochastic\")\n",
        "agent = RandomAgent(env)\n",
        "\n",
        "obs, info = env.reset()\n",
        "terminated, truncated = False, False\n",
        "\n",
        "\n",
        "output_grid = widgets.Grid(1, 1)\n",
        "with output_grid.output_to(0, 0):\n",
        "  env.render()\n",
        "\n",
        "def get_max_val(arg):\n",
        "  return max(arg)\n",
        "  \n",
        "for i in q_table_sarsa_stoc:\n",
        "  max_val = get_max_val(i)\n",
        "  i_to_list = i.tolist()\n",
        "  max_index = i_to_list.index(max_val)\n",
        "  observation, reward, terminated, truncated, info, agent_pos = env.step(max_index)\n",
        "  with output_grid.output_to(0, 0):\n",
        "    output_grid.clear_cell()\n",
        "    plt.imshow(grid)\n",
        "    env.render()\n",
        "  time.sleep(1)\n",
        "\n",
        "  "
      ],
      "metadata": {
        "id": "xk67wZwYKfoA",
        "colab": {
          "base_uri": "https://localhost:8080/",
          "height": 287
        },
        "outputId": "0d2ae5ad-6e12-4bb1-d0e5-add0a495deca"
      },
      "execution_count": 182,
      "outputs": [
        {
          "output_type": "display_data",
          "data": {
            "text/plain": [
              "<IPython.core.display.HTML object>"
            ],
            "text/html": [
              "<style>\n",
              "       table#id88, #id88 > tbody > tr > th, #id88 > tbody > tr > td {\n",
              "         border: 1px solid lightgray;\n",
              "         border-collapse:collapse;\n",
              "         \n",
              "        }</style>"
            ]
          },
          "metadata": {}
        },
        {
          "output_type": "display_data",
          "data": {
            "text/plain": [
              "<IPython.core.display.HTML object>"
            ],
            "text/html": [
              "<table id=id88><tr><td id=id88-0-0></td></tr></table>"
            ]
          },
          "metadata": {}
        },
        {
          "output_type": "display_data",
          "data": {
            "text/plain": [
              "<IPython.core.display.Javascript object>"
            ],
            "application/javascript": [
              "window[\"894f0000-ba4b-11ed-85d0-0242ac1c000c\"] = google.colab.output.getActiveOutputArea();\n",
              "//# sourceURL=js_7cc031aa79"
            ]
          },
          "metadata": {}
        },
        {
          "output_type": "display_data",
          "data": {
            "text/plain": [
              "<IPython.core.display.Javascript object>"
            ],
            "application/javascript": [
              "window[\"895010f8-ba4b-11ed-85d0-0242ac1c000c\"] = document.querySelector(\"#id88-0-0\");\n",
              "//# sourceURL=js_d1694c9e1f"
            ]
          },
          "metadata": {}
        },
        {
          "output_type": "display_data",
          "data": {
            "text/plain": [
              "<IPython.core.display.Javascript object>"
            ],
            "application/javascript": [
              "window[\"89508ee8-ba4b-11ed-85d0-0242ac1c000c\"] = google.colab.output.setActiveOutputArea(window[\"895010f8-ba4b-11ed-85d0-0242ac1c000c\"]);\n",
              "//# sourceURL=js_c50d903300"
            ]
          },
          "metadata": {}
        },
        {
          "output_type": "display_data",
          "data": {
            "text/plain": [
              "<IPython.core.display.Javascript object>"
            ],
            "application/javascript": [
              "window[\"897dfa18-ba4b-11ed-85d0-0242ac1c000c\"] = google.colab.output.setActiveOutputArea(window[\"894f0000-ba4b-11ed-85d0-0242ac1c000c\"]);\n",
              "//# sourceURL=js_5b76e9dfc5"
            ]
          },
          "metadata": {}
        },
        {
          "output_type": "display_data",
          "data": {
            "text/plain": [
              "<IPython.core.display.Javascript object>"
            ],
            "application/javascript": [
              "window[\"89810834-ba4b-11ed-85d0-0242ac1c000c\"] = google.colab.output.getActiveOutputArea();\n",
              "//# sourceURL=js_f63a2ea9f5"
            ]
          },
          "metadata": {}
        },
        {
          "output_type": "display_data",
          "data": {
            "text/plain": [
              "<IPython.core.display.Javascript object>"
            ],
            "application/javascript": [
              "window[\"89817d46-ba4b-11ed-85d0-0242ac1c000c\"] = document.querySelector(\"#id88-0-0\");\n",
              "//# sourceURL=js_171f3ca353"
            ]
          },
          "metadata": {}
        },
        {
          "output_type": "display_data",
          "data": {
            "text/plain": [
              "<IPython.core.display.Javascript object>"
            ],
            "application/javascript": [
              "window[\"8981fbb8-ba4b-11ed-85d0-0242ac1c000c\"] = google.colab.output.setActiveOutputArea(window[\"89817d46-ba4b-11ed-85d0-0242ac1c000c\"]);\n",
              "//# sourceURL=js_89c608539f"
            ]
          },
          "metadata": {}
        },
        {
          "output_type": "display_data",
          "data": {
            "text/plain": [
              "<IPython.core.display.Javascript object>"
            ],
            "application/javascript": [
              "window[\"89aa94d8-ba4b-11ed-85d0-0242ac1c000c\"] = google.colab.output.setActiveOutputArea(window[\"89810834-ba4b-11ed-85d0-0242ac1c000c\"]);\n",
              "//# sourceURL=js_9b458fb7c0"
            ]
          },
          "metadata": {}
        },
        {
          "output_type": "display_data",
          "data": {
            "text/plain": [
              "<IPython.core.display.Javascript object>"
            ],
            "application/javascript": [
              "window[\"8a466714-ba4b-11ed-85d0-0242ac1c000c\"] = google.colab.output.getActiveOutputArea();\n",
              "//# sourceURL=js_e05923f54e"
            ]
          },
          "metadata": {}
        },
        {
          "output_type": "display_data",
          "data": {
            "text/plain": [
              "<IPython.core.display.Javascript object>"
            ],
            "application/javascript": [
              "window[\"8a4713ee-ba4b-11ed-85d0-0242ac1c000c\"] = document.querySelector(\"#id88-0-0\");\n",
              "//# sourceURL=js_becc966ca9"
            ]
          },
          "metadata": {}
        },
        {
          "output_type": "display_data",
          "data": {
            "text/plain": [
              "<IPython.core.display.Javascript object>"
            ],
            "application/javascript": [
              "window[\"8a4782d4-ba4b-11ed-85d0-0242ac1c000c\"] = google.colab.output.setActiveOutputArea(window[\"8a4713ee-ba4b-11ed-85d0-0242ac1c000c\"]);\n",
              "//# sourceURL=js_13c1a26f0c"
            ]
          },
          "metadata": {}
        },
        {
          "output_type": "display_data",
          "data": {
            "text/plain": [
              "<IPython.core.display.Javascript object>"
            ],
            "application/javascript": [
              "window[\"8a735788-ba4b-11ed-85d0-0242ac1c000c\"] = google.colab.output.setActiveOutputArea(window[\"8a466714-ba4b-11ed-85d0-0242ac1c000c\"]);\n",
              "//# sourceURL=js_bc362be274"
            ]
          },
          "metadata": {}
        },
        {
          "output_type": "display_data",
          "data": {
            "text/plain": [
              "<IPython.core.display.Javascript object>"
            ],
            "application/javascript": [
              "window[\"8b0e85d2-ba4b-11ed-85d0-0242ac1c000c\"] = google.colab.output.getActiveOutputArea();\n",
              "//# sourceURL=js_be62f22dfb"
            ]
          },
          "metadata": {}
        },
        {
          "output_type": "display_data",
          "data": {
            "text/plain": [
              "<IPython.core.display.Javascript object>"
            ],
            "application/javascript": [
              "window[\"8b0f5d9a-ba4b-11ed-85d0-0242ac1c000c\"] = document.querySelector(\"#id88-0-0\");\n",
              "//# sourceURL=js_1da5d9e573"
            ]
          },
          "metadata": {}
        },
        {
          "output_type": "display_data",
          "data": {
            "text/plain": [
              "<IPython.core.display.Javascript object>"
            ],
            "application/javascript": [
              "window[\"8b0fdc84-ba4b-11ed-85d0-0242ac1c000c\"] = google.colab.output.setActiveOutputArea(window[\"8b0f5d9a-ba4b-11ed-85d0-0242ac1c000c\"]);\n",
              "//# sourceURL=js_12c9778728"
            ]
          },
          "metadata": {}
        },
        {
          "output_type": "display_data",
          "data": {
            "text/plain": [
              "<IPython.core.display.Javascript object>"
            ],
            "application/javascript": [
              "window[\"8b376d44-ba4b-11ed-85d0-0242ac1c000c\"] = google.colab.output.setActiveOutputArea(window[\"8b0e85d2-ba4b-11ed-85d0-0242ac1c000c\"]);\n",
              "//# sourceURL=js_9e145df5ba"
            ]
          },
          "metadata": {}
        },
        {
          "output_type": "display_data",
          "data": {
            "text/plain": [
              "<IPython.core.display.Javascript object>"
            ],
            "application/javascript": [
              "window[\"8bd311a4-ba4b-11ed-85d0-0242ac1c000c\"] = google.colab.output.getActiveOutputArea();\n",
              "//# sourceURL=js_a977327866"
            ]
          },
          "metadata": {}
        },
        {
          "output_type": "display_data",
          "data": {
            "text/plain": [
              "<IPython.core.display.Javascript object>"
            ],
            "application/javascript": [
              "window[\"8bd3b398-ba4b-11ed-85d0-0242ac1c000c\"] = document.querySelector(\"#id88-0-0\");\n",
              "//# sourceURL=js_9331b2179f"
            ]
          },
          "metadata": {}
        },
        {
          "output_type": "display_data",
          "data": {
            "text/plain": [
              "<IPython.core.display.Javascript object>"
            ],
            "application/javascript": [
              "window[\"8bd42d28-ba4b-11ed-85d0-0242ac1c000c\"] = google.colab.output.setActiveOutputArea(window[\"8bd3b398-ba4b-11ed-85d0-0242ac1c000c\"]);\n",
              "//# sourceURL=js_9f47bf1ca2"
            ]
          },
          "metadata": {}
        },
        {
          "output_type": "display_data",
          "data": {
            "text/plain": [
              "<IPython.core.display.Javascript object>"
            ],
            "application/javascript": [
              "window[\"8bf75898-ba4b-11ed-85d0-0242ac1c000c\"] = google.colab.output.setActiveOutputArea(window[\"8bd311a4-ba4b-11ed-85d0-0242ac1c000c\"]);\n",
              "//# sourceURL=js_12f7b6583b"
            ]
          },
          "metadata": {}
        },
        {
          "output_type": "display_data",
          "data": {
            "text/plain": [
              "<IPython.core.display.Javascript object>"
            ],
            "application/javascript": [
              "window[\"8c95253c-ba4b-11ed-85d0-0242ac1c000c\"] = google.colab.output.getActiveOutputArea();\n",
              "//# sourceURL=js_10100e47b4"
            ]
          },
          "metadata": {}
        },
        {
          "output_type": "display_data",
          "data": {
            "text/plain": [
              "<IPython.core.display.Javascript object>"
            ],
            "application/javascript": [
              "window[\"8c95a5fc-ba4b-11ed-85d0-0242ac1c000c\"] = document.querySelector(\"#id88-0-0\");\n",
              "//# sourceURL=js_fa3f82d1a3"
            ]
          },
          "metadata": {}
        },
        {
          "output_type": "display_data",
          "data": {
            "text/plain": [
              "<IPython.core.display.Javascript object>"
            ],
            "application/javascript": [
              "window[\"8c961280-ba4b-11ed-85d0-0242ac1c000c\"] = google.colab.output.setActiveOutputArea(window[\"8c95a5fc-ba4b-11ed-85d0-0242ac1c000c\"]);\n",
              "//# sourceURL=js_d50358b1d0"
            ]
          },
          "metadata": {}
        },
        {
          "output_type": "display_data",
          "data": {
            "text/plain": [
              "<IPython.core.display.Javascript object>"
            ],
            "application/javascript": [
              "window[\"8cbf5ff0-ba4b-11ed-85d0-0242ac1c000c\"] = google.colab.output.setActiveOutputArea(window[\"8c95253c-ba4b-11ed-85d0-0242ac1c000c\"]);\n",
              "//# sourceURL=js_9e95c696cf"
            ]
          },
          "metadata": {}
        },
        {
          "output_type": "display_data",
          "data": {
            "text/plain": [
              "<IPython.core.display.Javascript object>"
            ],
            "application/javascript": [
              "window[\"8d5b9d52-ba4b-11ed-85d0-0242ac1c000c\"] = google.colab.output.getActiveOutputArea();\n",
              "//# sourceURL=js_2926ff8882"
            ]
          },
          "metadata": {}
        },
        {
          "output_type": "display_data",
          "data": {
            "text/plain": [
              "<IPython.core.display.Javascript object>"
            ],
            "application/javascript": [
              "window[\"8d5c288a-ba4b-11ed-85d0-0242ac1c000c\"] = document.querySelector(\"#id88-0-0\");\n",
              "//# sourceURL=js_f4a91e0fe7"
            ]
          },
          "metadata": {}
        },
        {
          "output_type": "display_data",
          "data": {
            "text/plain": [
              "<IPython.core.display.Javascript object>"
            ],
            "application/javascript": [
              "window[\"8d5c98b0-ba4b-11ed-85d0-0242ac1c000c\"] = google.colab.output.setActiveOutputArea(window[\"8d5c288a-ba4b-11ed-85d0-0242ac1c000c\"]);\n",
              "//# sourceURL=js_62cca33ef0"
            ]
          },
          "metadata": {}
        },
        {
          "output_type": "display_data",
          "data": {
            "text/plain": [
              "<IPython.core.display.Javascript object>"
            ],
            "application/javascript": [
              "window[\"8d9ba03c-ba4b-11ed-85d0-0242ac1c000c\"] = google.colab.output.setActiveOutputArea(window[\"8d5b9d52-ba4b-11ed-85d0-0242ac1c000c\"]);\n",
              "//# sourceURL=js_cc962d1840"
            ]
          },
          "metadata": {}
        },
        {
          "output_type": "display_data",
          "data": {
            "text/plain": [
              "<IPython.core.display.Javascript object>"
            ],
            "application/javascript": [
              "window[\"8e372f3e-ba4b-11ed-85d0-0242ac1c000c\"] = google.colab.output.getActiveOutputArea();\n",
              "//# sourceURL=js_9f55427431"
            ]
          },
          "metadata": {}
        },
        {
          "output_type": "display_data",
          "data": {
            "text/plain": [
              "<IPython.core.display.Javascript object>"
            ],
            "application/javascript": [
              "window[\"8e37ff86-ba4b-11ed-85d0-0242ac1c000c\"] = document.querySelector(\"#id88-0-0\");\n",
              "//# sourceURL=js_1982ed30a4"
            ]
          },
          "metadata": {}
        },
        {
          "output_type": "display_data",
          "data": {
            "text/plain": [
              "<IPython.core.display.Javascript object>"
            ],
            "application/javascript": [
              "window[\"8e388820-ba4b-11ed-85d0-0242ac1c000c\"] = google.colab.output.setActiveOutputArea(window[\"8e37ff86-ba4b-11ed-85d0-0242ac1c000c\"]);\n",
              "//# sourceURL=js_5212cdc3e7"
            ]
          },
          "metadata": {}
        },
        {
          "output_type": "display_data",
          "data": {
            "text/plain": [
              "<IPython.core.display.Javascript object>"
            ],
            "application/javascript": [
              "window[\"8e5ec256-ba4b-11ed-85d0-0242ac1c000c\"] = google.colab.output.setActiveOutputArea(window[\"8e372f3e-ba4b-11ed-85d0-0242ac1c000c\"]);\n",
              "//# sourceURL=js_00f2770077"
            ]
          },
          "metadata": {}
        },
        {
          "output_type": "display_data",
          "data": {
            "text/plain": [
              "<IPython.core.display.Javascript object>"
            ],
            "application/javascript": [
              "window[\"8efb54ae-ba4b-11ed-85d0-0242ac1c000c\"] = google.colab.output.getActiveOutputArea();\n",
              "//# sourceURL=js_9ea46aeb9d"
            ]
          },
          "metadata": {}
        },
        {
          "output_type": "display_data",
          "data": {
            "text/plain": [
              "<IPython.core.display.Javascript object>"
            ],
            "application/javascript": [
              "window[\"8efbc3d0-ba4b-11ed-85d0-0242ac1c000c\"] = document.querySelector(\"#id88-0-0\");\n",
              "//# sourceURL=js_a521cb9849"
            ]
          },
          "metadata": {}
        },
        {
          "output_type": "display_data",
          "data": {
            "text/plain": [
              "<IPython.core.display.Javascript object>"
            ],
            "application/javascript": [
              "window[\"8efc6290-ba4b-11ed-85d0-0242ac1c000c\"] = google.colab.output.setActiveOutputArea(window[\"8efbc3d0-ba4b-11ed-85d0-0242ac1c000c\"]);\n",
              "//# sourceURL=js_79b76c13cc"
            ]
          },
          "metadata": {}
        },
        {
          "output_type": "display_data",
          "data": {
            "text/plain": [
              "<IPython.core.display.Javascript object>"
            ],
            "application/javascript": [
              "window[\"8f1f570a-ba4b-11ed-85d0-0242ac1c000c\"] = google.colab.output.setActiveOutputArea(window[\"8efb54ae-ba4b-11ed-85d0-0242ac1c000c\"]);\n",
              "//# sourceURL=js_189dede579"
            ]
          },
          "metadata": {}
        },
        {
          "output_type": "display_data",
          "data": {
            "text/plain": [
              "<IPython.core.display.Javascript object>"
            ],
            "application/javascript": [
              "window[\"8fba9b70-ba4b-11ed-85d0-0242ac1c000c\"] = google.colab.output.getActiveOutputArea();\n",
              "//# sourceURL=js_5bf9cbe7f5"
            ]
          },
          "metadata": {}
        },
        {
          "output_type": "display_data",
          "data": {
            "text/plain": [
              "<IPython.core.display.Javascript object>"
            ],
            "application/javascript": [
              "window[\"8fbb5c68-ba4b-11ed-85d0-0242ac1c000c\"] = document.querySelector(\"#id88-0-0\");\n",
              "//# sourceURL=js_5565c1e78d"
            ]
          },
          "metadata": {}
        },
        {
          "output_type": "display_data",
          "data": {
            "text/plain": [
              "<IPython.core.display.Javascript object>"
            ],
            "application/javascript": [
              "window[\"8fbbfa92-ba4b-11ed-85d0-0242ac1c000c\"] = google.colab.output.setActiveOutputArea(window[\"8fbb5c68-ba4b-11ed-85d0-0242ac1c000c\"]);\n",
              "//# sourceURL=js_a549c18309"
            ]
          },
          "metadata": {}
        },
        {
          "output_type": "display_data",
          "data": {
            "text/plain": [
              "<IPython.core.display.Javascript object>"
            ],
            "application/javascript": [
              "window[\"8fdf1482-ba4b-11ed-85d0-0242ac1c000c\"] = google.colab.output.setActiveOutputArea(window[\"8fba9b70-ba4b-11ed-85d0-0242ac1c000c\"]);\n",
              "//# sourceURL=js_dbe17cf38d"
            ]
          },
          "metadata": {}
        },
        {
          "output_type": "display_data",
          "data": {
            "text/plain": [
              "<IPython.core.display.Javascript object>"
            ],
            "application/javascript": [
              "window[\"907a6d06-ba4b-11ed-85d0-0242ac1c000c\"] = google.colab.output.getActiveOutputArea();\n",
              "//# sourceURL=js_9030809a42"
            ]
          },
          "metadata": {}
        },
        {
          "output_type": "display_data",
          "data": {
            "text/plain": [
              "<IPython.core.display.Javascript object>"
            ],
            "application/javascript": [
              "window[\"907adf52-ba4b-11ed-85d0-0242ac1c000c\"] = document.querySelector(\"#id88-0-0\");\n",
              "//# sourceURL=js_b44a5c22a9"
            ]
          },
          "metadata": {}
        },
        {
          "output_type": "display_data",
          "data": {
            "text/plain": [
              "<IPython.core.display.Javascript object>"
            ],
            "application/javascript": [
              "window[\"907bc804-ba4b-11ed-85d0-0242ac1c000c\"] = google.colab.output.setActiveOutputArea(window[\"907adf52-ba4b-11ed-85d0-0242ac1c000c\"]);\n",
              "//# sourceURL=js_9089860eb2"
            ]
          },
          "metadata": {}
        },
        {
          "output_type": "display_data",
          "data": {
            "text/plain": [
              "<IPython.core.display.Javascript object>"
            ],
            "application/javascript": [
              "window[\"90b20266-ba4b-11ed-85d0-0242ac1c000c\"] = google.colab.output.setActiveOutputArea(window[\"907a6d06-ba4b-11ed-85d0-0242ac1c000c\"]);\n",
              "//# sourceURL=js_449988de33"
            ]
          },
          "metadata": {}
        },
        {
          "output_type": "display_data",
          "data": {
            "text/plain": [
              "<IPython.core.display.Javascript object>"
            ],
            "application/javascript": [
              "window[\"914d1152-ba4b-11ed-85d0-0242ac1c000c\"] = google.colab.output.getActiveOutputArea();\n",
              "//# sourceURL=js_f1ea522680"
            ]
          },
          "metadata": {}
        },
        {
          "output_type": "display_data",
          "data": {
            "text/plain": [
              "<IPython.core.display.Javascript object>"
            ],
            "application/javascript": [
              "window[\"914d8484-ba4b-11ed-85d0-0242ac1c000c\"] = document.querySelector(\"#id88-0-0\");\n",
              "//# sourceURL=js_891cecd251"
            ]
          },
          "metadata": {}
        },
        {
          "output_type": "display_data",
          "data": {
            "text/plain": [
              "<IPython.core.display.Javascript object>"
            ],
            "application/javascript": [
              "window[\"914e07ba-ba4b-11ed-85d0-0242ac1c000c\"] = google.colab.output.setActiveOutputArea(window[\"914d8484-ba4b-11ed-85d0-0242ac1c000c\"]);\n",
              "//# sourceURL=js_3560a3eca5"
            ]
          },
          "metadata": {}
        },
        {
          "output_type": "display_data",
          "data": {
            "text/plain": [
              "<IPython.core.display.Javascript object>"
            ],
            "application/javascript": [
              "window[\"917e4a9c-ba4b-11ed-85d0-0242ac1c000c\"] = google.colab.output.setActiveOutputArea(window[\"914d1152-ba4b-11ed-85d0-0242ac1c000c\"]);\n",
              "//# sourceURL=js_fe2fdf6e4a"
            ]
          },
          "metadata": {}
        },
        {
          "output_type": "display_data",
          "data": {
            "text/plain": [
              "<IPython.core.display.Javascript object>"
            ],
            "application/javascript": [
              "window[\"9219dd5e-ba4b-11ed-85d0-0242ac1c000c\"] = google.colab.output.getActiveOutputArea();\n",
              "//# sourceURL=js_a1c0a56e9c"
            ]
          },
          "metadata": {}
        },
        {
          "output_type": "display_data",
          "data": {
            "text/plain": [
              "<IPython.core.display.Javascript object>"
            ],
            "application/javascript": [
              "window[\"921a999c-ba4b-11ed-85d0-0242ac1c000c\"] = document.querySelector(\"#id88-0-0\");\n",
              "//# sourceURL=js_113b24d382"
            ]
          },
          "metadata": {}
        },
        {
          "output_type": "display_data",
          "data": {
            "text/plain": [
              "<IPython.core.display.Javascript object>"
            ],
            "application/javascript": [
              "window[\"921b1b24-ba4b-11ed-85d0-0242ac1c000c\"] = google.colab.output.setActiveOutputArea(window[\"921a999c-ba4b-11ed-85d0-0242ac1c000c\"]);\n",
              "//# sourceURL=js_04d6f0da13"
            ]
          },
          "metadata": {}
        },
        {
          "output_type": "display_data",
          "data": {
            "text/plain": [
              "<IPython.core.display.Javascript object>"
            ],
            "application/javascript": [
              "window[\"923e6c0a-ba4b-11ed-85d0-0242ac1c000c\"] = google.colab.output.setActiveOutputArea(window[\"9219dd5e-ba4b-11ed-85d0-0242ac1c000c\"]);\n",
              "//# sourceURL=js_d0b255c007"
            ]
          },
          "metadata": {}
        },
        {
          "output_type": "display_data",
          "data": {
            "text/plain": [
              "<IPython.core.display.Javascript object>"
            ],
            "application/javascript": [
              "window[\"92d99db0-ba4b-11ed-85d0-0242ac1c000c\"] = google.colab.output.getActiveOutputArea();\n",
              "//# sourceURL=js_76f07bc73e"
            ]
          },
          "metadata": {}
        },
        {
          "output_type": "display_data",
          "data": {
            "text/plain": [
              "<IPython.core.display.Javascript object>"
            ],
            "application/javascript": [
              "window[\"92da1178-ba4b-11ed-85d0-0242ac1c000c\"] = document.querySelector(\"#id88-0-0\");\n",
              "//# sourceURL=js_df61f08eae"
            ]
          },
          "metadata": {}
        },
        {
          "output_type": "display_data",
          "data": {
            "text/plain": [
              "<IPython.core.display.Javascript object>"
            ],
            "application/javascript": [
              "window[\"92daaeb2-ba4b-11ed-85d0-0242ac1c000c\"] = google.colab.output.setActiveOutputArea(window[\"92da1178-ba4b-11ed-85d0-0242ac1c000c\"]);\n",
              "//# sourceURL=js_e56d61c9eb"
            ]
          },
          "metadata": {}
        },
        {
          "output_type": "display_data",
          "data": {
            "text/plain": [
              "<IPython.core.display.Javascript object>"
            ],
            "application/javascript": [
              "window[\"92fed90e-ba4b-11ed-85d0-0242ac1c000c\"] = google.colab.output.setActiveOutputArea(window[\"92d99db0-ba4b-11ed-85d0-0242ac1c000c\"]);\n",
              "//# sourceURL=js_ddf17b8825"
            ]
          },
          "metadata": {}
        },
        {
          "output_type": "display_data",
          "data": {
            "text/plain": [
              "<IPython.core.display.Javascript object>"
            ],
            "application/javascript": [
              "window[\"939a0d16-ba4b-11ed-85d0-0242ac1c000c\"] = google.colab.output.getActiveOutputArea();\n",
              "//# sourceURL=js_510f06db24"
            ]
          },
          "metadata": {}
        },
        {
          "output_type": "display_data",
          "data": {
            "text/plain": [
              "<IPython.core.display.Javascript object>"
            ],
            "application/javascript": [
              "window[\"939a9da8-ba4b-11ed-85d0-0242ac1c000c\"] = document.querySelector(\"#id88-0-0\");\n",
              "//# sourceURL=js_6ca04d0b19"
            ]
          },
          "metadata": {}
        },
        {
          "output_type": "display_data",
          "data": {
            "text/plain": [
              "<IPython.core.display.Javascript object>"
            ],
            "application/javascript": [
              "window[\"939bed98-ba4b-11ed-85d0-0242ac1c000c\"] = google.colab.output.setActiveOutputArea(window[\"939a9da8-ba4b-11ed-85d0-0242ac1c000c\"]);\n",
              "//# sourceURL=js_82e1e8edc7"
            ]
          },
          "metadata": {}
        },
        {
          "output_type": "display_data",
          "data": {
            "text/plain": [
              "<IPython.core.display.Javascript object>"
            ],
            "application/javascript": [
              "window[\"93beeef6-ba4b-11ed-85d0-0242ac1c000c\"] = google.colab.output.setActiveOutputArea(window[\"939a0d16-ba4b-11ed-85d0-0242ac1c000c\"]);\n",
              "//# sourceURL=js_088b432981"
            ]
          },
          "metadata": {}
        },
        {
          "output_type": "display_data",
          "data": {
            "text/plain": [
              "<IPython.core.display.Javascript object>"
            ],
            "application/javascript": [
              "window[\"945aebb2-ba4b-11ed-85d0-0242ac1c000c\"] = google.colab.output.getActiveOutputArea();\n",
              "//# sourceURL=js_60ded860eb"
            ]
          },
          "metadata": {}
        },
        {
          "output_type": "display_data",
          "data": {
            "text/plain": [
              "<IPython.core.display.Javascript object>"
            ],
            "application/javascript": [
              "window[\"945b7e24-ba4b-11ed-85d0-0242ac1c000c\"] = document.querySelector(\"#id88-0-0\");\n",
              "//# sourceURL=js_68efbf767a"
            ]
          },
          "metadata": {}
        },
        {
          "output_type": "display_data",
          "data": {
            "text/plain": [
              "<IPython.core.display.Javascript object>"
            ],
            "application/javascript": [
              "window[\"945bff66-ba4b-11ed-85d0-0242ac1c000c\"] = google.colab.output.setActiveOutputArea(window[\"945b7e24-ba4b-11ed-85d0-0242ac1c000c\"]);\n",
              "//# sourceURL=js_4245842616"
            ]
          },
          "metadata": {}
        },
        {
          "output_type": "display_data",
          "data": {
            "text/plain": [
              "<IPython.core.display.Javascript object>"
            ],
            "application/javascript": [
              "window[\"947fd31e-ba4b-11ed-85d0-0242ac1c000c\"] = google.colab.output.setActiveOutputArea(window[\"945aebb2-ba4b-11ed-85d0-0242ac1c000c\"]);\n",
              "//# sourceURL=js_a9b8d95524"
            ]
          },
          "metadata": {}
        },
        {
          "output_type": "display_data",
          "data": {
            "text/plain": [
              "<IPython.core.display.Javascript object>"
            ],
            "application/javascript": [
              "window[\"951af1a0-ba4b-11ed-85d0-0242ac1c000c\"] = google.colab.output.getActiveOutputArea();\n",
              "//# sourceURL=js_247ff235be"
            ]
          },
          "metadata": {}
        },
        {
          "output_type": "display_data",
          "data": {
            "text/plain": [
              "<IPython.core.display.Javascript object>"
            ],
            "application/javascript": [
              "window[\"951b6c70-ba4b-11ed-85d0-0242ac1c000c\"] = document.querySelector(\"#id88-0-0\");\n",
              "//# sourceURL=js_ba7996e822"
            ]
          },
          "metadata": {}
        },
        {
          "output_type": "display_data",
          "data": {
            "text/plain": [
              "<IPython.core.display.Javascript object>"
            ],
            "application/javascript": [
              "window[\"951c2ce6-ba4b-11ed-85d0-0242ac1c000c\"] = google.colab.output.setActiveOutputArea(window[\"951b6c70-ba4b-11ed-85d0-0242ac1c000c\"]);\n",
              "//# sourceURL=js_3a528e61c0"
            ]
          },
          "metadata": {}
        },
        {
          "output_type": "display_data",
          "data": {
            "text/plain": [
              "<IPython.core.display.Javascript object>"
            ],
            "application/javascript": [
              "window[\"9542577c-ba4b-11ed-85d0-0242ac1c000c\"] = google.colab.output.setActiveOutputArea(window[\"951af1a0-ba4b-11ed-85d0-0242ac1c000c\"]);\n",
              "//# sourceURL=js_abaf60d3a1"
            ]
          },
          "metadata": {}
        },
        {
          "output_type": "display_data",
          "data": {
            "text/plain": [
              "<IPython.core.display.Javascript object>"
            ],
            "application/javascript": [
              "window[\"95dd6b54-ba4b-11ed-85d0-0242ac1c000c\"] = google.colab.output.getActiveOutputArea();\n",
              "//# sourceURL=js_6ec72ffc4b"
            ]
          },
          "metadata": {}
        },
        {
          "output_type": "display_data",
          "data": {
            "text/plain": [
              "<IPython.core.display.Javascript object>"
            ],
            "application/javascript": [
              "window[\"95ddf182-ba4b-11ed-85d0-0242ac1c000c\"] = document.querySelector(\"#id88-0-0\");\n",
              "//# sourceURL=js_6af0dcfdbf"
            ]
          },
          "metadata": {}
        },
        {
          "output_type": "display_data",
          "data": {
            "text/plain": [
              "<IPython.core.display.Javascript object>"
            ],
            "application/javascript": [
              "window[\"95dedade-ba4b-11ed-85d0-0242ac1c000c\"] = google.colab.output.setActiveOutputArea(window[\"95ddf182-ba4b-11ed-85d0-0242ac1c000c\"]);\n",
              "//# sourceURL=js_4371198c0f"
            ]
          },
          "metadata": {}
        },
        {
          "output_type": "display_data",
          "data": {
            "text/plain": [
              "<IPython.core.display.Javascript object>"
            ],
            "application/javascript": [
              "window[\"9604251e-ba4b-11ed-85d0-0242ac1c000c\"] = google.colab.output.setActiveOutputArea(window[\"95dd6b54-ba4b-11ed-85d0-0242ac1c000c\"]);\n",
              "//# sourceURL=js_2875c657e2"
            ]
          },
          "metadata": {}
        },
        {
          "output_type": "display_data",
          "data": {
            "text/plain": [
              "<IPython.core.display.Javascript object>"
            ],
            "application/javascript": [
              "window[\"969fee9a-ba4b-11ed-85d0-0242ac1c000c\"] = google.colab.output.getActiveOutputArea();\n",
              "//# sourceURL=js_1039269f1e"
            ]
          },
          "metadata": {}
        },
        {
          "output_type": "display_data",
          "data": {
            "text/plain": [
              "<IPython.core.display.Javascript object>"
            ],
            "application/javascript": [
              "window[\"96a05f9c-ba4b-11ed-85d0-0242ac1c000c\"] = document.querySelector(\"#id88-0-0\");\n",
              "//# sourceURL=js_823ff7320f"
            ]
          },
          "metadata": {}
        },
        {
          "output_type": "display_data",
          "data": {
            "text/plain": [
              "<IPython.core.display.Javascript object>"
            ],
            "application/javascript": [
              "window[\"96a0d81e-ba4b-11ed-85d0-0242ac1c000c\"] = google.colab.output.setActiveOutputArea(window[\"96a05f9c-ba4b-11ed-85d0-0242ac1c000c\"]);\n",
              "//# sourceURL=js_00cbdde640"
            ]
          },
          "metadata": {}
        },
        {
          "output_type": "display_data",
          "data": {
            "text/plain": [
              "<IPython.core.display.Javascript object>"
            ],
            "application/javascript": [
              "window[\"96c92f1c-ba4b-11ed-85d0-0242ac1c000c\"] = google.colab.output.setActiveOutputArea(window[\"969fee9a-ba4b-11ed-85d0-0242ac1c000c\"]);\n",
              "//# sourceURL=js_8f8496f5bb"
            ]
          },
          "metadata": {}
        },
        {
          "output_type": "display_data",
          "data": {
            "text/plain": [
              "<IPython.core.display.Javascript object>"
            ],
            "application/javascript": [
              "window[\"97645942-ba4b-11ed-85d0-0242ac1c000c\"] = google.colab.output.getActiveOutputArea();\n",
              "//# sourceURL=js_41e3d0b6cb"
            ]
          },
          "metadata": {}
        },
        {
          "output_type": "display_data",
          "data": {
            "text/plain": [
              "<IPython.core.display.Javascript object>"
            ],
            "application/javascript": [
              "window[\"9764cbca-ba4b-11ed-85d0-0242ac1c000c\"] = document.querySelector(\"#id88-0-0\");\n",
              "//# sourceURL=js_88ef013329"
            ]
          },
          "metadata": {}
        },
        {
          "output_type": "display_data",
          "data": {
            "text/plain": [
              "<IPython.core.display.Javascript object>"
            ],
            "application/javascript": [
              "window[\"97654708-ba4b-11ed-85d0-0242ac1c000c\"] = google.colab.output.setActiveOutputArea(window[\"9764cbca-ba4b-11ed-85d0-0242ac1c000c\"]);\n",
              "//# sourceURL=js_d8cd520f76"
            ]
          },
          "metadata": {}
        },
        {
          "output_type": "display_data",
          "data": {
            "text/plain": [
              "<IPython.core.display.Javascript object>"
            ],
            "application/javascript": [
              "window[\"9788ba6c-ba4b-11ed-85d0-0242ac1c000c\"] = google.colab.output.setActiveOutputArea(window[\"97645942-ba4b-11ed-85d0-0242ac1c000c\"]);\n",
              "//# sourceURL=js_345b900c52"
            ]
          },
          "metadata": {}
        },
        {
          "output_type": "display_data",
          "data": {
            "text/plain": [
              "<IPython.core.display.Javascript object>"
            ],
            "application/javascript": [
              "window[\"9825ebca-ba4b-11ed-85d0-0242ac1c000c\"] = google.colab.output.getActiveOutputArea();\n",
              "//# sourceURL=js_864d1346db"
            ]
          },
          "metadata": {}
        },
        {
          "output_type": "display_data",
          "data": {
            "text/plain": [
              "<IPython.core.display.Javascript object>"
            ],
            "application/javascript": [
              "window[\"9826bb86-ba4b-11ed-85d0-0242ac1c000c\"] = document.querySelector(\"#id88-0-0\");\n",
              "//# sourceURL=js_eae57acc4e"
            ]
          },
          "metadata": {}
        },
        {
          "output_type": "display_data",
          "data": {
            "text/plain": [
              "<IPython.core.display.Javascript object>"
            ],
            "application/javascript": [
              "window[\"9827cd28-ba4b-11ed-85d0-0242ac1c000c\"] = google.colab.output.setActiveOutputArea(window[\"9826bb86-ba4b-11ed-85d0-0242ac1c000c\"]);\n",
              "//# sourceURL=js_10cdc118eb"
            ]
          },
          "metadata": {}
        },
        {
          "output_type": "display_data",
          "data": {
            "text/plain": [
              "<IPython.core.display.Javascript object>"
            ],
            "application/javascript": [
              "window[\"985c7aaa-ba4b-11ed-85d0-0242ac1c000c\"] = google.colab.output.setActiveOutputArea(window[\"9825ebca-ba4b-11ed-85d0-0242ac1c000c\"]);\n",
              "//# sourceURL=js_40b8010f42"
            ]
          },
          "metadata": {}
        },
        {
          "output_type": "display_data",
          "data": {
            "text/plain": [
              "<IPython.core.display.Javascript object>"
            ],
            "application/javascript": [
              "window[\"98f80510-ba4b-11ed-85d0-0242ac1c000c\"] = google.colab.output.getActiveOutputArea();\n",
              "//# sourceURL=js_64693f7768"
            ]
          },
          "metadata": {}
        },
        {
          "output_type": "display_data",
          "data": {
            "text/plain": [
              "<IPython.core.display.Javascript object>"
            ],
            "application/javascript": [
              "window[\"98f8e80e-ba4b-11ed-85d0-0242ac1c000c\"] = document.querySelector(\"#id88-0-0\");\n",
              "//# sourceURL=js_0708819fc9"
            ]
          },
          "metadata": {}
        },
        {
          "output_type": "display_data",
          "data": {
            "text/plain": [
              "<IPython.core.display.Javascript object>"
            ],
            "application/javascript": [
              "window[\"98f9b7b6-ba4b-11ed-85d0-0242ac1c000c\"] = google.colab.output.setActiveOutputArea(window[\"98f8e80e-ba4b-11ed-85d0-0242ac1c000c\"]);\n",
              "//# sourceURL=js_feb4b2b398"
            ]
          },
          "metadata": {}
        },
        {
          "output_type": "display_data",
          "data": {
            "text/plain": [
              "<IPython.core.display.Javascript object>"
            ],
            "application/javascript": [
              "window[\"99347cd4-ba4b-11ed-85d0-0242ac1c000c\"] = google.colab.output.setActiveOutputArea(window[\"98f80510-ba4b-11ed-85d0-0242ac1c000c\"]);\n",
              "//# sourceURL=js_0fda81a029"
            ]
          },
          "metadata": {}
        },
        {
          "output_type": "display_data",
          "data": {
            "text/plain": [
              "<IPython.core.display.Javascript object>"
            ],
            "application/javascript": [
              "window[\"99cfff24-ba4b-11ed-85d0-0242ac1c000c\"] = google.colab.output.getActiveOutputArea();\n",
              "//# sourceURL=js_277ec91b95"
            ]
          },
          "metadata": {}
        },
        {
          "output_type": "display_data",
          "data": {
            "text/plain": [
              "<IPython.core.display.Javascript object>"
            ],
            "application/javascript": [
              "window[\"99d0891c-ba4b-11ed-85d0-0242ac1c000c\"] = document.querySelector(\"#id88-0-0\");\n",
              "//# sourceURL=js_cf35cd665b"
            ]
          },
          "metadata": {}
        },
        {
          "output_type": "display_data",
          "data": {
            "text/plain": [
              "<IPython.core.display.Javascript object>"
            ],
            "application/javascript": [
              "window[\"99d16d96-ba4b-11ed-85d0-0242ac1c000c\"] = google.colab.output.setActiveOutputArea(window[\"99d0891c-ba4b-11ed-85d0-0242ac1c000c\"]);\n",
              "//# sourceURL=js_732deabacb"
            ]
          },
          "metadata": {}
        },
        {
          "output_type": "display_data",
          "data": {
            "text/plain": [
              "<IPython.core.display.Javascript object>"
            ],
            "application/javascript": [
              "window[\"9a06fa38-ba4b-11ed-85d0-0242ac1c000c\"] = google.colab.output.setActiveOutputArea(window[\"99cfff24-ba4b-11ed-85d0-0242ac1c000c\"]);\n",
              "//# sourceURL=js_56fec99abd"
            ]
          },
          "metadata": {}
        },
        {
          "output_type": "display_data",
          "data": {
            "text/plain": [
              "<IPython.core.display.Javascript object>"
            ],
            "application/javascript": [
              "window[\"9aa27576-ba4b-11ed-85d0-0242ac1c000c\"] = google.colab.output.getActiveOutputArea();\n",
              "//# sourceURL=js_ac61c99ec9"
            ]
          },
          "metadata": {}
        },
        {
          "output_type": "display_data",
          "data": {
            "text/plain": [
              "<IPython.core.display.Javascript object>"
            ],
            "application/javascript": [
              "window[\"9aa33e0c-ba4b-11ed-85d0-0242ac1c000c\"] = document.querySelector(\"#id88-0-0\");\n",
              "//# sourceURL=js_c26a200ce0"
            ]
          },
          "metadata": {}
        },
        {
          "output_type": "display_data",
          "data": {
            "text/plain": [
              "<IPython.core.display.Javascript object>"
            ],
            "application/javascript": [
              "window[\"9aa3d222-ba4b-11ed-85d0-0242ac1c000c\"] = google.colab.output.setActiveOutputArea(window[\"9aa33e0c-ba4b-11ed-85d0-0242ac1c000c\"]);\n",
              "//# sourceURL=js_8f70be8b42"
            ]
          },
          "metadata": {}
        },
        {
          "output_type": "display_data",
          "data": {
            "text/plain": [
              "<IPython.core.display.Javascript object>"
            ],
            "application/javascript": [
              "window[\"9ad3c61c-ba4b-11ed-85d0-0242ac1c000c\"] = google.colab.output.setActiveOutputArea(window[\"9aa27576-ba4b-11ed-85d0-0242ac1c000c\"]);\n",
              "//# sourceURL=js_b0a3649111"
            ]
          },
          "metadata": {}
        },
        {
          "output_type": "display_data",
          "data": {
            "text/plain": [
              "<IPython.core.display.Javascript object>"
            ],
            "application/javascript": [
              "window[\"9b6ecd10-ba4b-11ed-85d0-0242ac1c000c\"] = google.colab.output.getActiveOutputArea();\n",
              "//# sourceURL=js_ea915aa793"
            ]
          },
          "metadata": {}
        },
        {
          "output_type": "display_data",
          "data": {
            "text/plain": [
              "<IPython.core.display.Javascript object>"
            ],
            "application/javascript": [
              "window[\"9b6f3660-ba4b-11ed-85d0-0242ac1c000c\"] = document.querySelector(\"#id88-0-0\");\n",
              "//# sourceURL=js_4ff2af9768"
            ]
          },
          "metadata": {}
        },
        {
          "output_type": "display_data",
          "data": {
            "text/plain": [
              "<IPython.core.display.Javascript object>"
            ],
            "application/javascript": [
              "window[\"9b6fa8e8-ba4b-11ed-85d0-0242ac1c000c\"] = google.colab.output.setActiveOutputArea(window[\"9b6f3660-ba4b-11ed-85d0-0242ac1c000c\"]);\n",
              "//# sourceURL=js_91976dcd79"
            ]
          },
          "metadata": {}
        },
        {
          "output_type": "display_data",
          "data": {
            "text/plain": [
              "<IPython.core.display.Javascript object>"
            ],
            "application/javascript": [
              "window[\"9b9268d8-ba4b-11ed-85d0-0242ac1c000c\"] = google.colab.output.setActiveOutputArea(window[\"9b6ecd10-ba4b-11ed-85d0-0242ac1c000c\"]);\n",
              "//# sourceURL=js_48a6764ce8"
            ]
          },
          "metadata": {}
        },
        {
          "output_type": "display_data",
          "data": {
            "text/plain": [
              "<IPython.core.display.Javascript object>"
            ],
            "application/javascript": [
              "window[\"9c2d8138-ba4b-11ed-85d0-0242ac1c000c\"] = google.colab.output.getActiveOutputArea();\n",
              "//# sourceURL=js_e9ecd17084"
            ]
          },
          "metadata": {}
        },
        {
          "output_type": "display_data",
          "data": {
            "text/plain": [
              "<IPython.core.display.Javascript object>"
            ],
            "application/javascript": [
              "window[\"9c2e1436-ba4b-11ed-85d0-0242ac1c000c\"] = document.querySelector(\"#id88-0-0\");\n",
              "//# sourceURL=js_98ef4154a0"
            ]
          },
          "metadata": {}
        },
        {
          "output_type": "display_data",
          "data": {
            "text/plain": [
              "<IPython.core.display.Javascript object>"
            ],
            "application/javascript": [
              "window[\"9c2ea59a-ba4b-11ed-85d0-0242ac1c000c\"] = google.colab.output.setActiveOutputArea(window[\"9c2e1436-ba4b-11ed-85d0-0242ac1c000c\"]);\n",
              "//# sourceURL=js_d701a99354"
            ]
          },
          "metadata": {}
        },
        {
          "output_type": "stream",
          "name": "stdout",
          "text": [
            "Reward ->  10\n"
          ]
        },
        {
          "output_type": "display_data",
          "data": {
            "text/plain": [
              "<Figure size 432x288 with 1 Axes>"
            ],
            "image/png": "[encoded data removed]"
          },
          "metadata": {
            "needs_background": "light"
          }
        },
        {
          "output_type": "display_data",
          "data": {
            "text/plain": [
              "<IPython.core.display.Javascript object>"
            ],
            "application/javascript": [
              "window[\"9c57455e-ba4b-11ed-85d0-0242ac1c000c\"] = google.colab.output.setActiveOutputArea(window[\"9c2d8138-ba4b-11ed-85d0-0242ac1c000c\"]);\n",
              "//# sourceURL=js_6641877962"
            ]
          },
          "metadata": {}
        }
      ]
    },
    {
      "cell_type": "markdown",
      "source": [
        "## **2.3 Evaluation**"
      ],
      "metadata": {
        "id": "XI8QljsT8cJ3"
      }
    },
    {
      "cell_type": "markdown",
      "source": [
        "### **2.3.1 Evaluation for Q-Learning & SARSA - Deterministic Environment**"
      ],
      "metadata": {
        "id": "dwkzXy3G8jnn"
      }
    },
    {
      "cell_type": "code",
      "source": [
        "#Hyperparameters\n",
        "alpha = 0.12\n",
        "gamma = 0.92\n",
        "epsilon = 1.0\n",
        "epsilon_val = []\n",
        "eval_reward_val = []\n",
        "num_episodes = 10\n",
        "\n",
        "#data arrays\n",
        "all_penalties_q_det = []\n",
        "avg_reward_per_ep_q_det = []\n",
        "\n",
        "#running for 500 episodes\n",
        "for episode in range(num_episodes):\n",
        "  #resetting the state \n",
        "  state, agent_pos = env.reset()\n",
        "  penalties = 0\n",
        "  new_penalties = 0\n",
        "  new_reward = 0\n",
        "  avg_reward = 0\n",
        "  index = 0\n",
        "  #getting the index value of the agent's state\n",
        "  state_to_list = state.tolist()\n",
        "  if 1 in state_to_list:\n",
        "    index = state_to_list.index(1)\n",
        "  # print(index)\n",
        "  for timestep in range(12):\n",
        "    #Choosing an action based on e-greedy policy\n",
        "    action = np.argmax(q_table[index])\n",
        "\n",
        "    # action = np.clip(action, 0, 3)\n",
        "    observation, reward, terminated, truncated, info, new_agent_pos = env.step(action)\n",
        "\n",
        "    new_penalties += penalties\n",
        "    new_reward += reward\n",
        "    agent_pos = new_agent_pos\n",
        "\n",
        "  #penalties\n",
        "  all_penalties_q_det.append(new_penalties)\n",
        "  #rewards\n",
        "  eval_reward_val.append(new_reward)\n",
        "  #epsilon\n",
        "  epsilon *= 0.630\n",
        "  epsilon_val.append(epsilon)\n",
        "\n",
        "# print(\"Q-Table : \", q_table)\n",
        "# print(epsilon_val)\n",
        "\n",
        "# print(reward_sarsa_stoc)\n",
        "plt.figure(figsize=(8,8))\n",
        "plt.plot(eval_reward_val)\n",
        "plt.xlabel('Episode', fontsize=18)\n",
        "plt.ylabel('Reward Value', fontsize=18)\n",
        "plt.title('Rewards Per Episode (Q-Learning - Deterministic)', fontsize=20)\n",
        "plt.xticks(fontsize=16)\n",
        "plt.yticks([-60, -50, -20, 0, 20, 40, 60, 80, 100, 120, 140], fontsize=16)\n",
        "plt.ylim(ymin=-7, ymax=160)\n",
        "plt.xlim(xmin=0, xmax=10)\n",
        "plt.grid()\n",
        "plt.show()\n"
      ],
      "metadata": {
        "id": "fkaMF1TS8i6u",
        "outputId": "2a8caa8d-393a-4df6-cb34-1205eed0ad42",
        "colab": {
          "base_uri": "https://localhost:8080/",
          "height": 531
        }
      },
      "execution_count": 217,
      "outputs": [
        {
          "output_type": "display_data",
          "data": {
            "text/plain": [
              "<Figure size 576x576 with 1 Axes>"
            ],
            "image/png": "[encoded data removed]"
          },
          "metadata": {
            "needs_background": "light"
          }
        }
      ]
    },
    {
      "cell_type": "code",
      "source": [
        "#Hyperparameters\n",
        "alpha = 0.12\n",
        "gamma = 0.92\n",
        "epsilon = 1.0\n",
        "epsilon_val = []\n",
        "eval_reward_val_sarsa = []\n",
        "num_episodes = 10\n",
        "\n",
        "#data arrays\n",
        "all_penalties_q_det = []\n",
        "avg_reward_per_ep_q_det = []\n",
        "\n",
        "#running for 500 episodes\n",
        "for episode in range(num_episodes):\n",
        "  #resetting the state \n",
        "  state, agent_pos = env.reset()\n",
        "  penalties = 0\n",
        "  new_penalties = 0\n",
        "  new_reward = 0\n",
        "  avg_reward = 0\n",
        "  index = 0\n",
        "  #getting the index value of the agent's state\n",
        "  state_to_list = state.tolist()\n",
        "  if 1 in state_to_list:\n",
        "    index = state_to_list.index(1)\n",
        "  # print(index)\n",
        "  for timestep in range(12):\n",
        "    #Choosing an action based on e-greedy policy\n",
        "    action = np.argmax(q_table_sarsa_det[index])\n",
        "\n",
        "    # action = np.clip(action, 0, 3)\n",
        "    observation, reward, terminated, truncated, info, new_agent_pos = env.step(action)\n",
        "\n",
        "    new_penalties += penalties\n",
        "    new_reward += reward\n",
        "    agent_pos = new_agent_pos\n",
        "\n",
        "  #penalties\n",
        "  all_penalties_q_det.append(new_penalties)\n",
        "  #rewards\n",
        "  eval_reward_val_sarsa.append(new_reward)\n",
        "  #epsilon\n",
        "  epsilon *= 0.630\n",
        "  epsilon_val.append(epsilon)\n",
        "\n",
        "# print(\"Q-Table : \", q_table)\n",
        "# print(epsilon_val)\n",
        "\n",
        "# print(reward_sarsa_stoc)\n",
        "plt.figure(figsize=(8,8))\n",
        "plt.plot(eval_reward_val_sarsa)\n",
        "plt.xlabel('Episode', fontsize=18)\n",
        "plt.ylabel('Reward Value', fontsize=18)\n",
        "plt.title('Rewards Per Episode (SARSA - deterministic)', fontsize=20)\n",
        "plt.xticks(fontsize=16)\n",
        "plt.yticks([-60, -50, -20, 0, 20, 40, 60, 80, 100, 120, 140], fontsize=16)\n",
        "plt.ylim(ymin=-7, ymax=160)\n",
        "plt.xlim(xmin=0, xmax=10)\n",
        "plt.grid()\n",
        "plt.show()\n"
      ],
      "metadata": {
        "id": "YRzHHv-W-uIX",
        "outputId": "f5a618ff-4327-4da2-fb4b-faaeafd80782",
        "colab": {
          "base_uri": "https://localhost:8080/",
          "height": 531
        }
      },
      "execution_count": 237,
      "outputs": [
        {
          "output_type": "display_data",
          "data": {
            "text/plain": [
              "<Figure size 576x576 with 1 Axes>"
            ],
            "image/png": "[encoded data removed]"
          },
          "metadata": {
            "needs_background": "light"
          }
        }
      ]
    },
    {
      "cell_type": "code",
      "source": [
        "plt.figure(figsize=(8,8))\n",
        "plt.plot(eval_reward_val, color='red', label='deterministic q-learning')\n",
        "plt.plot(eval_reward_val_sarsa, color='blue', label='deterministic SARSA')\n",
        "plt.xlabel('Episode', fontsize=18)\n",
        "plt.ylabel('Reward Value', fontsize=18)\n",
        "plt.title('Rewards Per Episode (Q-Learning & SARSA - Deterministic)', fontsize=20)\n",
        "plt.xticks(fontsize=16)\n",
        "plt.legend()\n",
        "plt.yticks([-60, -50, -20, 0, 20, 40, 60, 80, 100, 120, 140], fontsize=16)\n",
        "plt.ylim(ymin=-7, ymax=160)\n",
        "plt.xlim(xmin=0, xmax=10)\n",
        "plt.grid()\n",
        "plt.show()"
      ],
      "metadata": {
        "id": "nib9QQHG92K2",
        "outputId": "0a68a769-1e54-4b81-b645-dda76f49f36e",
        "colab": {
          "base_uri": "https://localhost:8080/",
          "height": 531
        }
      },
      "execution_count": 236,
      "outputs": [
        {
          "output_type": "display_data",
          "data": {
            "text/plain": [
              "<Figure size 576x576 with 1 Axes>"
            ],
            "image/png": "[encoded data removed]"
          },
          "metadata": {
            "needs_background": "light"
          }
        }
      ]
    },
    {
      "cell_type": "code",
      "source": [],
      "metadata": {
        "id": "UHvN4XfBGWmn"
      },
      "execution_count": null,
      "outputs": []
    },
    {
      "cell_type": "markdown",
      "source": [
        "### **2.3.2 Evaluation for Q-Learning & SARSA - Stochastic Environment**"
      ],
      "metadata": {
        "id": "h0OghzQ4IfDD"
      }
    },
    {
      "cell_type": "code",
      "source": [
        "#Hyperparameters\n",
        "alpha = 0.12\n",
        "gamma = 0.92\n",
        "epsilon = 1.0\n",
        "epsilon_val = []\n",
        "eval_reward_val_stoc = []\n",
        "num_episodes = 10\n",
        "\n",
        "#data arrays\n",
        "all_penalties_q_det = []\n",
        "avg_reward_per_ep_q_det = []\n",
        "\n",
        "#running for 500 episodes\n",
        "for episode in range(num_episodes):\n",
        "  #resetting the state \n",
        "  state, agent_pos = env.reset()\n",
        "  penalties = 0\n",
        "  new_penalties = 0\n",
        "  new_reward = 0\n",
        "  avg_reward = 0\n",
        "  index = 0\n",
        "  #getting the index value of the agent's state\n",
        "  state_to_list = state.tolist()\n",
        "  if 1 in state_to_list:\n",
        "    index = state_to_list.index(1)\n",
        "  # print(index)\n",
        "  for timestep in range(12):\n",
        "    #Choosing an action based on e-greedy policy\n",
        "    action = np.argmax(q_table_stoc[index])\n",
        "\n",
        "    # action = np.clip(action, 0, 3)\n",
        "    observation, reward, terminated, truncated, info, new_agent_pos = env.step(action)\n",
        "\n",
        "    new_penalties += penalties\n",
        "    new_reward += reward\n",
        "    agent_pos = new_agent_pos\n",
        "\n",
        "  #penalties\n",
        "  all_penalties_q_det.append(new_penalties)\n",
        "  #rewards\n",
        "  eval_reward_val_stoc.append(new_reward)\n",
        "  #epsilon\n",
        "  epsilon *= 0.630\n",
        "  epsilon_val.append(epsilon)\n",
        "\n",
        "# print(\"Q-Table : \", q_table)\n",
        "# print(epsilon_val)\n",
        "\n",
        "# print(reward_sarsa_stoc)\n",
        "plt.figure(figsize=(8,8))\n",
        "plt.plot(eval_reward_val_stoc)\n",
        "plt.xlabel('Episode', fontsize=18)\n",
        "plt.ylabel('Reward Value', fontsize=18)\n",
        "plt.title('Rewards Per Episode (Q-Learning - Stochastic)', fontsize=20)\n",
        "plt.xticks(fontsize=16)\n",
        "plt.yticks([-60, -50, -20, 0, 20, 40, 60, 80, 100, 120, 140], fontsize=16)\n",
        "plt.ylim(ymin=-7, ymax=160)\n",
        "plt.xlim(xmin=0, xmax=10)\n",
        "plt.grid()\n",
        "plt.show()\n"
      ],
      "metadata": {
        "id": "CpNWO_J5ImKR",
        "outputId": "0a2d9741-6ad2-445c-eb7b-2d645a4cfc61",
        "colab": {
          "base_uri": "https://localhost:8080/",
          "height": 531
        }
      },
      "execution_count": 232,
      "outputs": [
        {
          "output_type": "display_data",
          "data": {
            "text/plain": [
              "<Figure size 576x576 with 1 Axes>"
            ],
            "image/png": "[encoded data removed]"
          },
          "metadata": {
            "needs_background": "light"
          }
        }
      ]
    },
    {
      "cell_type": "code",
      "source": [
        "#Hyperparameters\n",
        "alpha = 0.12\n",
        "gamma = 0.92\n",
        "epsilon = 1.0\n",
        "epsilon_val = []\n",
        "eval_reward_val_stoc_sarsa = []\n",
        "num_episodes = 10\n",
        "\n",
        "#data arrays\n",
        "all_penalties_q_det = []\n",
        "avg_reward_per_ep_q_det = []\n",
        "\n",
        "#running for 500 episodes\n",
        "for episode in range(num_episodes):\n",
        "  #resetting the state \n",
        "  state, agent_pos = env.reset()\n",
        "  penalties = 0\n",
        "  new_penalties = 0\n",
        "  new_reward = 0\n",
        "  avg_reward = 0\n",
        "  index = 0\n",
        "  #getting the index value of the agent's state\n",
        "  state_to_list = state.tolist()\n",
        "  if 1 in state_to_list:\n",
        "    index = state_to_list.index(1)\n",
        "  # print(index)\n",
        "  for timestep in range(12):\n",
        "    #Choosing an action based on e-greedy policy\n",
        "    action = np.argmax(q_table_sarsa_stoc[index])\n",
        "\n",
        "    # action = np.clip(action, 0, 3)\n",
        "    observation, reward, terminated, truncated, info, new_agent_pos = env.step(action)\n",
        "\n",
        "    new_penalties += penalties\n",
        "    new_reward += reward\n",
        "    agent_pos = new_agent_pos\n",
        "\n",
        "  #penalties\n",
        "  all_penalties_q_det.append(new_penalties)\n",
        "  #rewards\n",
        "  eval_reward_val_stoc_sarsa.append(new_reward)\n",
        "  #epsilon\n",
        "  epsilon *= 0.630\n",
        "  epsilon_val.append(epsilon)\n",
        "\n",
        "# print(\"Q-Table : \", q_table)\n",
        "# print(epsilon_val)\n",
        "\n",
        "# print(reward_sarsa_stoc)\n",
        "plt.figure(figsize=(8,8))\n",
        "plt.plot(eval_reward_val_stoc_sarsa)\n",
        "plt.xlabel('Episode', fontsize=18)\n",
        "plt.ylabel('Reward Value', fontsize=18)\n",
        "plt.title('Rewards Per Episode (SARSA - Stochastic)', fontsize=20)\n",
        "plt.xticks(fontsize=16)\n",
        "plt.yticks([-60, -50, -20, 0, 20, 40, 60, 80, 100, 120, 140], fontsize=16)\n",
        "plt.ylim(ymin=-7, ymax=160)\n",
        "plt.xlim(xmin=0, xmax=10)\n",
        "plt.grid()\n",
        "plt.show()\n"
      ],
      "metadata": {
        "id": "lkTF9tlUI8WL",
        "outputId": "52a04ee0-436c-4397-b52e-c8a0ce1c4cbc",
        "colab": {
          "base_uri": "https://localhost:8080/",
          "height": 531
        }
      },
      "execution_count": 235,
      "outputs": [
        {
          "output_type": "display_data",
          "data": {
            "text/plain": [
              "<Figure size 576x576 with 1 Axes>"
            ],
            "image/png": "[encoded data removed]"
          },
          "metadata": {
            "needs_background": "light"
          }
        }
      ]
    },
    {
      "cell_type": "code",
      "source": [
        "plt.figure(figsize=(8,8))\n",
        "plt.plot(eval_reward_val_stoc, color='red', label='stochastic q-learning')\n",
        "plt.plot(eval_reward_val_stoc_sarsa, color='blue', label='stochastic SARSA')\n",
        "plt.xlabel('Episode', fontsize=18)\n",
        "plt.ylabel('Reward Value', fontsize=18)\n",
        "plt.title('Rewards Per Episode (Q-Learning & SARSA - Stochastic)', fontsize=20)\n",
        "plt.xticks(fontsize=16)\n",
        "plt.legend()\n",
        "plt.yticks([-60, -50, -20, 0, 20, 40, 60, 80, 100, 120, 140], fontsize=16)\n",
        "plt.ylim(ymin=-7, ymax=160)\n",
        "plt.xlim(xmin=0, xmax=10)\n",
        "plt.grid()\n",
        "plt.show()"
      ],
      "metadata": {
        "id": "G882qx3qJFQL",
        "outputId": "50b72a37-4028-4de6-de62-a6c0bbc932e8",
        "colab": {
          "base_uri": "https://localhost:8080/",
          "height": 531
        }
      },
      "execution_count": 234,
      "outputs": [
        {
          "output_type": "display_data",
          "data": {
            "text/plain": [
              "<Figure size 576x576 with 1 Axes>"
            ],
            "image/png": "[encoded data removed]"
          },
          "metadata": {
            "needs_background": "light"
          }
        }
      ]
    },
    {
      "cell_type": "code",
      "source": [],
      "metadata": {
        "id": "Yxb1FkK-JSbl"
      },
      "execution_count": null,
      "outputs": []
    }
  ]
}