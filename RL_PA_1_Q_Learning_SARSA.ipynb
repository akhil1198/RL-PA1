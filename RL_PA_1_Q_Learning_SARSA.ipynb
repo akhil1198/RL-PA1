{
  "nbformat": 4,
  "nbformat_minor": 0,
  "metadata": {
    "colab": {
      "provenance": [],
      "include_colab_link": true
    },
    "kernelspec": {
      "name": "python3",
      "display_name": "Python 3"
    },
    "language_info": {
      "name": "python"
    }
  },
  "cells": [
    {
      "cell_type": "markdown",
      "metadata": {
        "id": "view-in-github",
        "colab_type": "text"
      },
      "source": [
        "<a href=\"https://colab.research.google.com/github/akhil1198/RL-PA1/blob/main/RL_PA_1_Q_Learning_SARSA.ipynb\" target=\"_parent\"><img src=\"https://colab.research.google.com/assets/colab-badge.svg\" alt=\"Open In Colab\"/></a>"
      ]
    },
    {
      "cell_type": "code",
      "execution_count": 3,
      "metadata": {
        "colab": {
          "base_uri": "https://localhost:8080/"
        },
        "id": "hw2TLyoAigYz",
        "outputId": "9d67fe30-7347-4d13-ec07-f9cad52bb212"
      },
      "outputs": [
        {
          "output_type": "stream",
          "name": "stdout",
          "text": [
            "Looking in indexes: https://pypi.org/simple, https://us-python.pkg.dev/colab-wheels/public/simple/\n",
            "Collecting gymnasium\n",
            "  Downloading gymnasium-0.27.1-py3-none-any.whl (883 kB)\n",
            "\u001b[2K     \u001b[90m━━━━━━━━━━━━━━━━━━━━━━━━━━━━━━━━━━━━━━━\u001b[0m \u001b[32m883.7/883.7 KB\u001b[0m \u001b[31m5.7 MB/s\u001b[0m eta \u001b[36m0:00:00\u001b[0m\n",
            "\u001b[?25hRequirement already satisfied: matplotlib in /usr/local/lib/python3.8/dist-packages (3.5.3)\n",
            "Requirement already satisfied: numpy in /usr/local/lib/python3.8/dist-packages (1.22.4)\n",
            "Requirement already satisfied: typing-extensions>=4.3.0 in /usr/local/lib/python3.8/dist-packages (from gymnasium) (4.5.0)\n",
            "Collecting gymnasium-notices>=0.0.1\n",
            "  Downloading gymnasium_notices-0.0.1-py3-none-any.whl (2.8 kB)\n",
            "Collecting jax-jumpy>=0.2.0\n",
            "  Downloading jax_jumpy-0.2.0-py3-none-any.whl (11 kB)\n",
            "Requirement already satisfied: cloudpickle>=1.2.0 in /usr/local/lib/python3.8/dist-packages (from gymnasium) (2.2.1)\n",
            "Requirement already satisfied: importlib-metadata>=4.8.0 in /usr/local/lib/python3.8/dist-packages (from gymnasium) (6.0.0)\n",
            "Requirement already satisfied: pillow>=6.2.0 in /usr/local/lib/python3.8/dist-packages (from matplotlib) (8.4.0)\n",
            "Requirement already satisfied: packaging>=20.0 in /usr/local/lib/python3.8/dist-packages (from matplotlib) (23.0)\n",
            "Requirement already satisfied: fonttools>=4.22.0 in /usr/local/lib/python3.8/dist-packages (from matplotlib) (4.38.0)\n",
            "Requirement already satisfied: kiwisolver>=1.0.1 in /usr/local/lib/python3.8/dist-packages (from matplotlib) (1.4.4)\n",
            "Requirement already satisfied: pyparsing>=2.2.1 in /usr/local/lib/python3.8/dist-packages (from matplotlib) (3.0.9)\n",
            "Requirement already satisfied: python-dateutil>=2.7 in /usr/local/lib/python3.8/dist-packages (from matplotlib) (2.8.2)\n",
            "Requirement already satisfied: cycler>=0.10 in /usr/local/lib/python3.8/dist-packages (from matplotlib) (0.11.0)\n",
            "Requirement already satisfied: zipp>=0.5 in /usr/local/lib/python3.8/dist-packages (from importlib-metadata>=4.8.0->gymnasium) (3.15.0)\n",
            "Requirement already satisfied: six>=1.5 in /usr/local/lib/python3.8/dist-packages (from python-dateutil>=2.7->matplotlib) (1.15.0)\n",
            "Installing collected packages: gymnasium-notices, jax-jumpy, gymnasium\n",
            "Successfully installed gymnasium-0.27.1 gymnasium-notices-0.0.1 jax-jumpy-0.2.0\n"
          ]
        }
      ],
      "source": [
        "!pip install gymnasium matplotlib numpy\n"
      ]
    },
    {
      "cell_type": "code",
      "source": [
        "from google.colab import widgets\n",
        "import gymnasium as gym\n",
        "from gymnasium import spaces\n",
        "import matplotlib.pyplot as plt\n",
        "import numpy as np\n",
        "import time\n",
        "import pickle"
      ],
      "metadata": {
        "id": "9d4qlEyLjUam"
      },
      "execution_count": 4,
      "outputs": []
    },
    {
      "cell_type": "code",
      "source": [
        "output_grid = widgets.Grid(1,1)\n",
        "\n",
        "for _ in range(5):\n",
        "  grid = np.zeros((5, 5))\n",
        "  grid[np.random.randint(5), np.random.randint(5)] = 1\n",
        "\n",
        "  with output_grid.output_to(0,0):\n",
        "    output_grid.clear_cell()\n",
        "    plt.imshow(grid)\n",
        "  time.sleep(2) "
      ],
      "metadata": {
        "colab": {
          "base_uri": "https://localhost:8080/",
          "height": 269
        },
        "id": "1V9H_w_ujZIt",
        "outputId": "34fd7ef0-6e84-4902-8f63-9e54287462b4"
      },
      "execution_count": 5,
      "outputs": [
        {
          "output_type": "display_data",
          "data": {
            "text/plain": [
              "<IPython.core.display.HTML object>"
            ],
            "text/html": [
              "<style>\n",
              "       table#id2, #id2 > tbody > tr > th, #id2 > tbody > tr > td {\n",
              "         border: 1px solid lightgray;\n",
              "         border-collapse:collapse;\n",
              "         \n",
              "        }</style>"
            ]
          },
          "metadata": {}
        },
        {
          "output_type": "display_data",
          "data": {
            "text/plain": [
              "<IPython.core.display.HTML object>"
            ],
            "text/html": [
              "<table id=id2><tr><td id=id2-0-0></td></tr></table>"
            ]
          },
          "metadata": {}
        },
        {
          "output_type": "display_data",
          "data": {
            "text/plain": [
              "<IPython.core.display.Javascript object>"
            ],
            "application/javascript": [
              "window[\"f0fa0b8c-ba0a-11ed-9901-0242ac1c000c\"] = google.colab.output.getActiveOutputArea();\n",
              "//# sourceURL=js_8972cd841e"
            ]
          },
          "metadata": {}
        },
        {
          "output_type": "display_data",
          "data": {
            "text/plain": [
              "<IPython.core.display.Javascript object>"
            ],
            "application/javascript": [
              "window[\"f0fa9aa2-ba0a-11ed-9901-0242ac1c000c\"] = document.querySelector(\"#id2-0-0\");\n",
              "//# sourceURL=js_c268381b8f"
            ]
          },
          "metadata": {}
        },
        {
          "output_type": "display_data",
          "data": {
            "text/plain": [
              "<IPython.core.display.Javascript object>"
            ],
            "application/javascript": [
              "window[\"f0fb7c92-ba0a-11ed-9901-0242ac1c000c\"] = google.colab.output.setActiveOutputArea(window[\"f0fa9aa2-ba0a-11ed-9901-0242ac1c000c\"]);\n",
              "//# sourceURL=js_2a88f71f15"
            ]
          },
          "metadata": {}
        },
        {
          "output_type": "display_data",
          "data": {
            "text/plain": [
              "<IPython.core.display.Javascript object>"
            ],
            "application/javascript": [
              "window[\"f138a856-ba0a-11ed-9901-0242ac1c000c\"] = google.colab.output.setActiveOutputArea(window[\"f0fa0b8c-ba0a-11ed-9901-0242ac1c000c\"]);\n",
              "//# sourceURL=js_b42b2bfcba"
            ]
          },
          "metadata": {}
        },
        {
          "output_type": "display_data",
          "data": {
            "text/plain": [
              "<IPython.core.display.Javascript object>"
            ],
            "application/javascript": [
              "window[\"f26cc716-ba0a-11ed-9901-0242ac1c000c\"] = google.colab.output.getActiveOutputArea();\n",
              "//# sourceURL=js_0288d51329"
            ]
          },
          "metadata": {}
        },
        {
          "output_type": "display_data",
          "data": {
            "text/plain": [
              "<IPython.core.display.Javascript object>"
            ],
            "application/javascript": [
              "window[\"f26d3f34-ba0a-11ed-9901-0242ac1c000c\"] = document.querySelector(\"#id2-0-0\");\n",
              "//# sourceURL=js_faf1d1ef27"
            ]
          },
          "metadata": {}
        },
        {
          "output_type": "display_data",
          "data": {
            "text/plain": [
              "<IPython.core.display.Javascript object>"
            ],
            "application/javascript": [
              "window[\"f26dbfa4-ba0a-11ed-9901-0242ac1c000c\"] = google.colab.output.setActiveOutputArea(window[\"f26d3f34-ba0a-11ed-9901-0242ac1c000c\"]);\n",
              "//# sourceURL=js_92733bc62e"
            ]
          },
          "metadata": {}
        },
        {
          "output_type": "display_data",
          "data": {
            "text/plain": [
              "<IPython.core.display.Javascript object>"
            ],
            "application/javascript": [
              "window[\"f28e499a-ba0a-11ed-9901-0242ac1c000c\"] = google.colab.output.setActiveOutputArea(window[\"f26cc716-ba0a-11ed-9901-0242ac1c000c\"]);\n",
              "//# sourceURL=js_aeda596d2f"
            ]
          },
          "metadata": {}
        },
        {
          "output_type": "display_data",
          "data": {
            "text/plain": [
              "<IPython.core.display.Javascript object>"
            ],
            "application/javascript": [
              "window[\"f3c3a148-ba0a-11ed-9901-0242ac1c000c\"] = google.colab.output.getActiveOutputArea();\n",
              "//# sourceURL=js_ff440c5842"
            ]
          },
          "metadata": {}
        },
        {
          "output_type": "display_data",
          "data": {
            "text/plain": [
              "<IPython.core.display.Javascript object>"
            ],
            "application/javascript": [
              "window[\"f3c40bc4-ba0a-11ed-9901-0242ac1c000c\"] = document.querySelector(\"#id2-0-0\");\n",
              "//# sourceURL=js_ad3db192c8"
            ]
          },
          "metadata": {}
        },
        {
          "output_type": "display_data",
          "data": {
            "text/plain": [
              "<IPython.core.display.Javascript object>"
            ],
            "application/javascript": [
              "window[\"f3c48d42-ba0a-11ed-9901-0242ac1c000c\"] = google.colab.output.setActiveOutputArea(window[\"f3c40bc4-ba0a-11ed-9901-0242ac1c000c\"]);\n",
              "//# sourceURL=js_4fa2139897"
            ]
          },
          "metadata": {}
        },
        {
          "output_type": "display_data",
          "data": {
            "text/plain": [
              "<IPython.core.display.Javascript object>"
            ],
            "application/javascript": [
              "window[\"f3e28202-ba0a-11ed-9901-0242ac1c000c\"] = google.colab.output.setActiveOutputArea(window[\"f3c3a148-ba0a-11ed-9901-0242ac1c000c\"]);\n",
              "//# sourceURL=js_a159614fea"
            ]
          },
          "metadata": {}
        },
        {
          "output_type": "display_data",
          "data": {
            "text/plain": [
              "<IPython.core.display.Javascript object>"
            ],
            "application/javascript": [
              "window[\"f51730aa-ba0a-11ed-9901-0242ac1c000c\"] = google.colab.output.getActiveOutputArea();\n",
              "//# sourceURL=js_aade3dcb4b"
            ]
          },
          "metadata": {}
        },
        {
          "output_type": "display_data",
          "data": {
            "text/plain": [
              "<IPython.core.display.Javascript object>"
            ],
            "application/javascript": [
              "window[\"f5179a40-ba0a-11ed-9901-0242ac1c000c\"] = document.querySelector(\"#id2-0-0\");\n",
              "//# sourceURL=js_01df25ae27"
            ]
          },
          "metadata": {}
        },
        {
          "output_type": "display_data",
          "data": {
            "text/plain": [
              "<IPython.core.display.Javascript object>"
            ],
            "application/javascript": [
              "window[\"f5184b3e-ba0a-11ed-9901-0242ac1c000c\"] = google.colab.output.setActiveOutputArea(window[\"f5179a40-ba0a-11ed-9901-0242ac1c000c\"]);\n",
              "//# sourceURL=js_84e285e20f"
            ]
          },
          "metadata": {}
        },
        {
          "output_type": "display_data",
          "data": {
            "text/plain": [
              "<IPython.core.display.Javascript object>"
            ],
            "application/javascript": [
              "window[\"f53767bc-ba0a-11ed-9901-0242ac1c000c\"] = google.colab.output.setActiveOutputArea(window[\"f51730aa-ba0a-11ed-9901-0242ac1c000c\"]);\n",
              "//# sourceURL=js_17bf9faac4"
            ]
          },
          "metadata": {}
        },
        {
          "output_type": "display_data",
          "data": {
            "text/plain": [
              "<IPython.core.display.Javascript object>"
            ],
            "application/javascript": [
              "window[\"f66bc844-ba0a-11ed-9901-0242ac1c000c\"] = google.colab.output.getActiveOutputArea();\n",
              "//# sourceURL=js_5b430f0102"
            ]
          },
          "metadata": {}
        },
        {
          "output_type": "display_data",
          "data": {
            "text/plain": [
              "<IPython.core.display.Javascript object>"
            ],
            "application/javascript": [
              "window[\"f66c7a64-ba0a-11ed-9901-0242ac1c000c\"] = document.querySelector(\"#id2-0-0\");\n",
              "//# sourceURL=js_95453be83e"
            ]
          },
          "metadata": {}
        },
        {
          "output_type": "display_data",
          "data": {
            "text/plain": [
              "<IPython.core.display.Javascript object>"
            ],
            "application/javascript": [
              "window[\"f66ce940-ba0a-11ed-9901-0242ac1c000c\"] = google.colab.output.setActiveOutputArea(window[\"f66c7a64-ba0a-11ed-9901-0242ac1c000c\"]);\n",
              "//# sourceURL=js_4c120cb7b1"
            ]
          },
          "metadata": {}
        },
        {
          "output_type": "display_data",
          "data": {
            "text/plain": [
              "<Figure size 432x288 with 1 Axes>"
            ],
            "image/png": "[encoded data removed]"
          },
          "metadata": {
            "needs_background": "light"
          }
        },
        {
          "output_type": "display_data",
          "data": {
            "text/plain": [
              "<IPython.core.display.Javascript object>"
            ],
            "application/javascript": [
              "window[\"f697bde6-ba0a-11ed-9901-0242ac1c000c\"] = google.colab.output.setActiveOutputArea(window[\"f66bc844-ba0a-11ed-9901-0242ac1c000c\"]);\n",
              "//# sourceURL=js_f1f9eb215e"
            ]
          },
          "metadata": {}
        }
      ]
    },
    {
      "cell_type": "markdown",
      "source": [
        "Creating an Environment with all the actions, states, rewards and positions"
      ],
      "metadata": {
        "id": "x0kViSd_yd82"
      }
    },
    {
      "cell_type": "code",
      "source": [
        "from IPython.utils.path import random\n",
        "class GridEnv(gym.Env):\n",
        "  def __init__(self, env_type):\n",
        "    self.environment_type = env_type\n",
        "    self.environment_width = 5\n",
        "    self.environment_height = 5\n",
        "    self.observation_space = spaces.Discrete(25)\n",
        "    self.action_space = spaces.Discrete(4)\n",
        "\n",
        "    self.timestep = 0\n",
        "    self.max_timesteps = 15\n",
        "\n",
        "    self.agent_pos = [0, 0]\n",
        "    self.goal_pos = [4, 4]\n",
        "\n",
        "    self.state = np.zeros((5,5))\n",
        "    self.state[tuple(self.agent_pos)] = 1\n",
        "    self.state[tuple(self.goal_pos)] = 0.5\n",
        "\n",
        "    self.reward = 0\n",
        "    self.truncated = False\n",
        "    self.terminated = False\n",
        "    self.reward_pos = np.asarray([[0, 4], [2, 1], [3, 4], [4, 2]])\n",
        "    self.negreward_pos = np.asarray([[1, 2], [3, 0], [3, 3]])\n",
        "\n",
        "    #for stochastic env\n",
        "    self.random_number = 0\n",
        "    self.rand_action = 0\n",
        "\n",
        "  def reset(self):\n",
        "    self.state = np.zeros((5,5))\n",
        "    self.state[tuple(self.agent_pos)] = 1\n",
        "    self.state[tuple(self.goal_pos)] = 0.5\n",
        "    observation = self.state.flatten()\n",
        "\n",
        "    return observation, self.agent_pos\n",
        "  \n",
        "  def step(self, action):\n",
        "    # print(\"action\", action)\n",
        "    # action = int(action)\n",
        "    if action == 0:\n",
        "      #print(\"at 0 - > agent_pos[0] += 1\")\n",
        "      self.agent_pos[0] += 1\n",
        "    if action == 1:\n",
        "      #print(\"at 1 -> agent_pos[0] -= 1\")\n",
        "      self.agent_pos[0] -= 1\n",
        "    if action == 2:\n",
        "      #print(\"at 2 -> agent_pos[1] += 1\")\n",
        "      self.agent_pos[1] += 1\n",
        "    if action == 3:\n",
        "      #print(\"at 3 -> agent_pos[1] -= 1\")\n",
        "      self.agent_pos[1] -= 1\n",
        "    #stochastic method\n",
        "    if self.environment_type == \"stochastic\":\n",
        "      self.random_number = np.random.rand()\n",
        "      self.rand_action = np.random.randint(4)\n",
        "      if self.random_number < 0.9:\n",
        "        #print(\"Executing the right action -> \", action)\n",
        "        if action == 0:\n",
        "          #print(\"at 0 - > agent_pos[0] += 1\")\n",
        "          self.agent_pos[0] += 1\n",
        "        if action == 1:\n",
        "          #print(\"at 1 -> agent_pos[0] -= 1\")\n",
        "          self.agent_pos[0] -= 1\n",
        "        if action == 2:\n",
        "          #print(\"at 2 -> agent_pos[1] += 1\")\n",
        "          self.agent_pos[1] += 1\n",
        "        if action == 3:\n",
        "          #print(\"at 3 -> agent_pos[1] -= 1\")\n",
        "          self.agent_pos[1] -= 1\n",
        "      elif self.random_number > 0.9:\n",
        "        #print(\"Executing Random Action\", self.rand_action)\n",
        "        if self.rand_action == 0:\n",
        "          self.agent_pos[0] += 1\n",
        "        if self.rand_action == 1:\n",
        "          self.agent_pos[0] -= 1\n",
        "        if self.rand_action == 2:\n",
        "          self.agent_pos[1] += 1\n",
        "        if self.rand_action == 3:\n",
        "          self.agent_pos[1] -= 1\n",
        "      \n",
        "    #print(self.agent_pos)\n",
        "    #Comment this to demonstrate the truncation condition.\n",
        "    self.agent_pos = np.clip(self.agent_pos, 0, 4)\n",
        "\n",
        "    self.state = np.zeros((5,5))\n",
        "    self.state[tuple(self.agent_pos)] = 1\n",
        "    self.state[tuple(self.goal_pos)] = 0.5\n",
        "    observation = self.state.flatten()\n",
        "\n",
        "    self.reward = 0\n",
        "    #[0, 4], [2, 1], [3, 4], [4, 2]\n",
        "    if np.array_equal(self.agent_pos, self.reward_pos[0]):\n",
        "      self.reward = self.reward + 2\n",
        "    \n",
        "    if np.array_equal(self.agent_pos, self.reward_pos[1]):\n",
        "      self.reward = self.reward + 4\n",
        "    \n",
        "    if np.array_equal(self.agent_pos, self.reward_pos[2]):\n",
        "      self.reward = self.reward + 8\n",
        "    \n",
        "    if np.array_equal(self.agent_pos, self.reward_pos[3]):\n",
        "      self.reward = self.reward + 6\n",
        "    \n",
        "\n",
        "    if np.array_equal(self.agent_pos, self.goal_pos):\n",
        "      self.reward += 10\n",
        "    \n",
        "\n",
        "    #[1, 2], [3, 0], [3, 3]\n",
        "    if np.array_equal(self.agent_pos, self.negreward_pos[0]):\n",
        "      self.reward = self.reward - 5\n",
        "    \n",
        "    if np.array_equal(self.agent_pos, self.negreward_pos[1]):\n",
        "      self.reward = self.reward - 6\n",
        "    \n",
        "    if np.array_equal(self.agent_pos, self.negreward_pos[2]):\n",
        "      self.reward = self.reward - 2\n",
        "\n",
        "    self.timestep += 1\n",
        "\n",
        "    #print(\"truncated -> \", self.agent_pos,)\n",
        "    terminated = True if self.timestep >= self.max_timesteps else False\n",
        "    truncated = True if np.all((self.agent_pos[0] >= 0) & (self.agent_pos[0] <= 4) & (self.agent_pos[1] >= 0) & (self.agent_pos[1] <= 4)) else False\n",
        "\n",
        "    info = {}\n",
        "    \n",
        "    return observation, self.reward, terminated, truncated, info, self.agent_pos\n",
        "\n",
        "  def render(self):\n",
        "    print(\"Reward -> \", self.reward)\n",
        "    plt.imshow(self.state)\n",
        "    \n"
      ],
      "metadata": {
        "id": "uiH3nTLTj3qR"
      },
      "execution_count": 209,
      "outputs": []
    },
    {
      "cell_type": "markdown",
      "source": [
        "Creating a Random Agent "
      ],
      "metadata": {
        "id": "-7sNCX8TypM_"
      }
    },
    {
      "cell_type": "code",
      "source": [
        "class RandomAgent:\n",
        "  def __init__(self, env):\n",
        "    self.env = env\n",
        "    self.observation_space = env.observation_space\n",
        "    self.action_space = env.action_space\n",
        "  def step(self, obs):\n",
        "    return np.random.choice(self.action_space.n)\n",
        "  "
      ],
      "metadata": {
        "id": "WCTSceXW44Bk"
      },
      "execution_count": 210,
      "outputs": []
    },
    {
      "cell_type": "markdown",
      "source": [
        "Starting the execution by calling all the methods in the Environment until termination of process\n",
        "\n",
        "Deterministic Environment: "
      ],
      "metadata": {
        "id": "CeaheI38ZYT9"
      }
    },
    {
      "cell_type": "code",
      "source": [
        "env = GridEnv(env_type = \"deterministic\")\n",
        "agent = RandomAgent(env)\n",
        "\n",
        "obs, info = env.reset()\n",
        "terminated, truncated = False, False\n",
        "\n",
        "output_grid = widgets.Grid(1, 1)\n",
        "with output_grid.output_to(0, 0):\n",
        "  env.render()\n",
        "\n",
        "while not terminated:\n",
        "  action = agent.step(obs)\n",
        "  #action = input()\n",
        "  observation, reward, terminated, truncated, info, agent_pos = env.step(action)\n",
        "  with output_grid.output_to(0, 0):\n",
        "    output_grid.clear_cell()\n",
        "    plt.imshow(grid)\n",
        "    env.render()\n",
        "  time.sleep(1)\n"
      ],
      "metadata": {
        "colab": {
          "base_uri": "https://localhost:8080/",
          "height": 287
        },
        "id": "f-iPycGP48pI",
        "outputId": "ce3ba1a6-7284-4f87-b615-ced1a9e209eb"
      },
      "execution_count": 211,
      "outputs": [
        {
          "output_type": "display_data",
          "data": {
            "text/plain": [
              "<IPython.core.display.HTML object>"
            ],
            "text/html": [
              "<style>\n",
              "       table#id22, #id22 > tbody > tr > th, #id22 > tbody > tr > td {\n",
              "         border: 1px solid lightgray;\n",
              "         border-collapse:collapse;\n",
              "         \n",
              "        }</style>"
            ]
          },
          "metadata": {}
        },
        {
          "output_type": "display_data",
          "data": {
            "text/plain": [
              "<IPython.core.display.HTML object>"
            ],
            "text/html": [
              "<table id=id22><tr><td id=id22-0-0></td></tr></table>"
            ]
          },
          "metadata": {}
        },
        {
          "output_type": "display_data",
          "data": {
            "text/plain": [
              "<IPython.core.display.Javascript object>"
            ],
            "application/javascript": [
              "window[\"0624c9d0-ba19-11ed-9901-0242ac1c000c\"] = google.colab.output.getActiveOutputArea();\n",
              "//# sourceURL=js_8d5576dfeb"
            ]
          },
          "metadata": {}
        },
        {
          "output_type": "display_data",
          "data": {
            "text/plain": [
              "<IPython.core.display.Javascript object>"
            ],
            "application/javascript": [
              "window[\"06258258-ba19-11ed-9901-0242ac1c000c\"] = document.querySelector(\"#id22-0-0\");\n",
              "//# sourceURL=js_b83c47eb72"
            ]
          },
          "metadata": {}
        },
        {
          "output_type": "display_data",
          "data": {
            "text/plain": [
              "<IPython.core.display.Javascript object>"
            ],
            "application/javascript": [
              "window[\"06262bf4-ba19-11ed-9901-0242ac1c000c\"] = google.colab.output.setActiveOutputArea(window[\"06258258-ba19-11ed-9901-0242ac1c000c\"]);\n",
              "//# sourceURL=js_dc74acbfbb"
            ]
          },
          "metadata": {}
        },
        {
          "output_type": "display_data",
          "data": {
            "text/plain": [
              "<IPython.core.display.Javascript object>"
            ],
            "application/javascript": [
              "window[\"0656b6e8-ba19-11ed-9901-0242ac1c000c\"] = google.colab.output.setActiveOutputArea(window[\"0624c9d0-ba19-11ed-9901-0242ac1c000c\"]);\n",
              "//# sourceURL=js_c2ed7c5fbc"
            ]
          },
          "metadata": {}
        },
        {
          "output_type": "display_data",
          "data": {
            "text/plain": [
              "<IPython.core.display.Javascript object>"
            ],
            "application/javascript": [
              "window[\"06595cd6-ba19-11ed-9901-0242ac1c000c\"] = google.colab.output.getActiveOutputArea();\n",
              "//# sourceURL=js_fe6ae9710c"
            ]
          },
          "metadata": {}
        },
        {
          "output_type": "display_data",
          "data": {
            "text/plain": [
              "<IPython.core.display.Javascript object>"
            ],
            "application/javascript": [
              "window[\"0659e796-ba19-11ed-9901-0242ac1c000c\"] = document.querySelector(\"#id22-0-0\");\n",
              "//# sourceURL=js_258c640249"
            ]
          },
          "metadata": {}
        },
        {
          "output_type": "display_data",
          "data": {
            "text/plain": [
              "<IPython.core.display.Javascript object>"
            ],
            "application/javascript": [
              "window[\"065a574e-ba19-11ed-9901-0242ac1c000c\"] = google.colab.output.setActiveOutputArea(window[\"0659e796-ba19-11ed-9901-0242ac1c000c\"]);\n",
              "//# sourceURL=js_707788d115"
            ]
          },
          "metadata": {}
        },
        {
          "output_type": "display_data",
          "data": {
            "text/plain": [
              "<IPython.core.display.Javascript object>"
            ],
            "application/javascript": [
              "window[\"068c122a-ba19-11ed-9901-0242ac1c000c\"] = google.colab.output.setActiveOutputArea(window[\"06595cd6-ba19-11ed-9901-0242ac1c000c\"]);\n",
              "//# sourceURL=js_8f5eec194d"
            ]
          },
          "metadata": {}
        },
        {
          "output_type": "display_data",
          "data": {
            "text/plain": [
              "<IPython.core.display.Javascript object>"
            ],
            "application/javascript": [
              "window[\"07272396-ba19-11ed-9901-0242ac1c000c\"] = google.colab.output.getActiveOutputArea();\n",
              "//# sourceURL=js_f54796e24c"
            ]
          },
          "metadata": {}
        },
        {
          "output_type": "display_data",
          "data": {
            "text/plain": [
              "<IPython.core.display.Javascript object>"
            ],
            "application/javascript": [
              "window[\"0727920e-ba19-11ed-9901-0242ac1c000c\"] = document.querySelector(\"#id22-0-0\");\n",
              "//# sourceURL=js_c8f3437f6c"
            ]
          },
          "metadata": {}
        },
        {
          "output_type": "display_data",
          "data": {
            "text/plain": [
              "<IPython.core.display.Javascript object>"
            ],
            "application/javascript": [
              "window[\"07284438-ba19-11ed-9901-0242ac1c000c\"] = google.colab.output.setActiveOutputArea(window[\"0727920e-ba19-11ed-9901-0242ac1c000c\"]);\n",
              "//# sourceURL=js_2121523587"
            ]
          },
          "metadata": {}
        },
        {
          "output_type": "display_data",
          "data": {
            "text/plain": [
              "<IPython.core.display.Javascript object>"
            ],
            "application/javascript": [
              "window[\"074f7ba2-ba19-11ed-9901-0242ac1c000c\"] = google.colab.output.setActiveOutputArea(window[\"07272396-ba19-11ed-9901-0242ac1c000c\"]);\n",
              "//# sourceURL=js_8f5572c951"
            ]
          },
          "metadata": {}
        },
        {
          "output_type": "display_data",
          "data": {
            "text/plain": [
              "<IPython.core.display.Javascript object>"
            ],
            "application/javascript": [
              "window[\"07eadfb6-ba19-11ed-9901-0242ac1c000c\"] = google.colab.output.getActiveOutputArea();\n",
              "//# sourceURL=js_2a90e4482e"
            ]
          },
          "metadata": {}
        },
        {
          "output_type": "display_data",
          "data": {
            "text/plain": [
              "<IPython.core.display.Javascript object>"
            ],
            "application/javascript": [
              "window[\"07eb9136-ba19-11ed-9901-0242ac1c000c\"] = document.querySelector(\"#id22-0-0\");\n",
              "//# sourceURL=js_8d3b64e52d"
            ]
          },
          "metadata": {}
        },
        {
          "output_type": "display_data",
          "data": {
            "text/plain": [
              "<IPython.core.display.Javascript object>"
            ],
            "application/javascript": [
              "window[\"07ec1250-ba19-11ed-9901-0242ac1c000c\"] = google.colab.output.setActiveOutputArea(window[\"07eb9136-ba19-11ed-9901-0242ac1c000c\"]);\n",
              "//# sourceURL=js_e889d53b2c"
            ]
          },
          "metadata": {}
        },
        {
          "output_type": "display_data",
          "data": {
            "text/plain": [
              "<IPython.core.display.Javascript object>"
            ],
            "application/javascript": [
              "window[\"080da4b0-ba19-11ed-9901-0242ac1c000c\"] = google.colab.output.setActiveOutputArea(window[\"07eadfb6-ba19-11ed-9901-0242ac1c000c\"]);\n",
              "//# sourceURL=js_4bf619fd8e"
            ]
          },
          "metadata": {}
        },
        {
          "output_type": "display_data",
          "data": {
            "text/plain": [
              "<IPython.core.display.Javascript object>"
            ],
            "application/javascript": [
              "window[\"08a97214-ba19-11ed-9901-0242ac1c000c\"] = google.colab.output.getActiveOutputArea();\n",
              "//# sourceURL=js_06ee415903"
            ]
          },
          "metadata": {}
        },
        {
          "output_type": "display_data",
          "data": {
            "text/plain": [
              "<IPython.core.display.Javascript object>"
            ],
            "application/javascript": [
              "window[\"08a9f72a-ba19-11ed-9901-0242ac1c000c\"] = document.querySelector(\"#id22-0-0\");\n",
              "//# sourceURL=js_9444d8638b"
            ]
          },
          "metadata": {}
        },
        {
          "output_type": "display_data",
          "data": {
            "text/plain": [
              "<IPython.core.display.Javascript object>"
            ],
            "application/javascript": [
              "window[\"08aa61f6-ba19-11ed-9901-0242ac1c000c\"] = google.colab.output.setActiveOutputArea(window[\"08a9f72a-ba19-11ed-9901-0242ac1c000c\"]);\n",
              "//# sourceURL=js_1a747b06a5"
            ]
          },
          "metadata": {}
        },
        {
          "output_type": "display_data",
          "data": {
            "text/plain": [
              "<IPython.core.display.Javascript object>"
            ],
            "application/javascript": [
              "window[\"08cabb54-ba19-11ed-9901-0242ac1c000c\"] = google.colab.output.setActiveOutputArea(window[\"08a97214-ba19-11ed-9901-0242ac1c000c\"]);\n",
              "//# sourceURL=js_c5ce301152"
            ]
          },
          "metadata": {}
        },
        {
          "output_type": "display_data",
          "data": {
            "text/plain": [
              "<IPython.core.display.Javascript object>"
            ],
            "application/javascript": [
              "window[\"0965ced2-ba19-11ed-9901-0242ac1c000c\"] = google.colab.output.getActiveOutputArea();\n",
              "//# sourceURL=js_9fd9d40ea9"
            ]
          },
          "metadata": {}
        },
        {
          "output_type": "display_data",
          "data": {
            "text/plain": [
              "<IPython.core.display.Javascript object>"
            ],
            "application/javascript": [
              "window[\"09664d1c-ba19-11ed-9901-0242ac1c000c\"] = document.querySelector(\"#id22-0-0\");\n",
              "//# sourceURL=js_3cb0bade45"
            ]
          },
          "metadata": {}
        },
        {
          "output_type": "display_data",
          "data": {
            "text/plain": [
              "<IPython.core.display.Javascript object>"
            ],
            "application/javascript": [
              "window[\"0966fece-ba19-11ed-9901-0242ac1c000c\"] = google.colab.output.setActiveOutputArea(window[\"09664d1c-ba19-11ed-9901-0242ac1c000c\"]);\n",
              "//# sourceURL=js_416e77a533"
            ]
          },
          "metadata": {}
        },
        {
          "output_type": "display_data",
          "data": {
            "text/plain": [
              "<IPython.core.display.Javascript object>"
            ],
            "application/javascript": [
              "window[\"0987947c-ba19-11ed-9901-0242ac1c000c\"] = google.colab.output.setActiveOutputArea(window[\"0965ced2-ba19-11ed-9901-0242ac1c000c\"]);\n",
              "//# sourceURL=js_f25a821670"
            ]
          },
          "metadata": {}
        },
        {
          "output_type": "display_data",
          "data": {
            "text/plain": [
              "<IPython.core.display.Javascript object>"
            ],
            "application/javascript": [
              "window[\"0a22a322-ba19-11ed-9901-0242ac1c000c\"] = google.colab.output.getActiveOutputArea();\n",
              "//# sourceURL=js_d5b184ac49"
            ]
          },
          "metadata": {}
        },
        {
          "output_type": "display_data",
          "data": {
            "text/plain": [
              "<IPython.core.display.Javascript object>"
            ],
            "application/javascript": [
              "window[\"0a231870-ba19-11ed-9901-0242ac1c000c\"] = document.querySelector(\"#id22-0-0\");\n",
              "//# sourceURL=js_2eec0e0870"
            ]
          },
          "metadata": {}
        },
        {
          "output_type": "display_data",
          "data": {
            "text/plain": [
              "<IPython.core.display.Javascript object>"
            ],
            "application/javascript": [
              "window[\"0a238aa8-ba19-11ed-9901-0242ac1c000c\"] = google.colab.output.setActiveOutputArea(window[\"0a231870-ba19-11ed-9901-0242ac1c000c\"]);\n",
              "//# sourceURL=js_eaa1d78646"
            ]
          },
          "metadata": {}
        },
        {
          "output_type": "display_data",
          "data": {
            "text/plain": [
              "<IPython.core.display.Javascript object>"
            ],
            "application/javascript": [
              "window[\"0a494f90-ba19-11ed-9901-0242ac1c000c\"] = google.colab.output.setActiveOutputArea(window[\"0a22a322-ba19-11ed-9901-0242ac1c000c\"]);\n",
              "//# sourceURL=js_e2218b4ed7"
            ]
          },
          "metadata": {}
        },
        {
          "output_type": "display_data",
          "data": {
            "text/plain": [
              "<IPython.core.display.Javascript object>"
            ],
            "application/javascript": [
              "window[\"0ae51bb4-ba19-11ed-9901-0242ac1c000c\"] = google.colab.output.getActiveOutputArea();\n",
              "//# sourceURL=js_8f434cf908"
            ]
          },
          "metadata": {}
        },
        {
          "output_type": "display_data",
          "data": {
            "text/plain": [
              "<IPython.core.display.Javascript object>"
            ],
            "application/javascript": [
              "window[\"0ae58d56-ba19-11ed-9901-0242ac1c000c\"] = document.querySelector(\"#id22-0-0\");\n",
              "//# sourceURL=js_1873a6cf75"
            ]
          },
          "metadata": {}
        },
        {
          "output_type": "display_data",
          "data": {
            "text/plain": [
              "<IPython.core.display.Javascript object>"
            ],
            "application/javascript": [
              "window[\"0ae5fe12-ba19-11ed-9901-0242ac1c000c\"] = google.colab.output.setActiveOutputArea(window[\"0ae58d56-ba19-11ed-9901-0242ac1c000c\"]);\n",
              "//# sourceURL=js_8585e989c7"
            ]
          },
          "metadata": {}
        },
        {
          "output_type": "display_data",
          "data": {
            "text/plain": [
              "<IPython.core.display.Javascript object>"
            ],
            "application/javascript": [
              "window[\"0b064ba4-ba19-11ed-9901-0242ac1c000c\"] = google.colab.output.setActiveOutputArea(window[\"0ae51bb4-ba19-11ed-9901-0242ac1c000c\"]);\n",
              "//# sourceURL=js_bc111c2d81"
            ]
          },
          "metadata": {}
        },
        {
          "output_type": "display_data",
          "data": {
            "text/plain": [
              "<IPython.core.display.Javascript object>"
            ],
            "application/javascript": [
              "window[\"0ba19c1c-ba19-11ed-9901-0242ac1c000c\"] = google.colab.output.getActiveOutputArea();\n",
              "//# sourceURL=js_4ff356a55b"
            ]
          },
          "metadata": {}
        },
        {
          "output_type": "display_data",
          "data": {
            "text/plain": [
              "<IPython.core.display.Javascript object>"
            ],
            "application/javascript": [
              "window[\"0ba2551c-ba19-11ed-9901-0242ac1c000c\"] = document.querySelector(\"#id22-0-0\");\n",
              "//# sourceURL=js_0390030f38"
            ]
          },
          "metadata": {}
        },
        {
          "output_type": "display_data",
          "data": {
            "text/plain": [
              "<IPython.core.display.Javascript object>"
            ],
            "application/javascript": [
              "window[\"0ba2d1ea-ba19-11ed-9901-0242ac1c000c\"] = google.colab.output.setActiveOutputArea(window[\"0ba2551c-ba19-11ed-9901-0242ac1c000c\"]);\n",
              "//# sourceURL=js_9f403fc3f0"
            ]
          },
          "metadata": {}
        },
        {
          "output_type": "display_data",
          "data": {
            "text/plain": [
              "<IPython.core.display.Javascript object>"
            ],
            "application/javascript": [
              "window[\"0bc3979a-ba19-11ed-9901-0242ac1c000c\"] = google.colab.output.setActiveOutputArea(window[\"0ba19c1c-ba19-11ed-9901-0242ac1c000c\"]);\n",
              "//# sourceURL=js_467c7a0162"
            ]
          },
          "metadata": {}
        },
        {
          "output_type": "display_data",
          "data": {
            "text/plain": [
              "<IPython.core.display.Javascript object>"
            ],
            "application/javascript": [
              "window[\"0c5fd0d8-ba19-11ed-9901-0242ac1c000c\"] = google.colab.output.getActiveOutputArea();\n",
              "//# sourceURL=js_c801b91a36"
            ]
          },
          "metadata": {}
        },
        {
          "output_type": "display_data",
          "data": {
            "text/plain": [
              "<IPython.core.display.Javascript object>"
            ],
            "application/javascript": [
              "window[\"0c603df2-ba19-11ed-9901-0242ac1c000c\"] = document.querySelector(\"#id22-0-0\");\n",
              "//# sourceURL=js_2e5094566c"
            ]
          },
          "metadata": {}
        },
        {
          "output_type": "display_data",
          "data": {
            "text/plain": [
              "<IPython.core.display.Javascript object>"
            ],
            "application/javascript": [
              "window[\"0c60c66e-ba19-11ed-9901-0242ac1c000c\"] = google.colab.output.setActiveOutputArea(window[\"0c603df2-ba19-11ed-9901-0242ac1c000c\"]);\n",
              "//# sourceURL=js_e7ba43a877"
            ]
          },
          "metadata": {}
        },
        {
          "output_type": "display_data",
          "data": {
            "text/plain": [
              "<IPython.core.display.Javascript object>"
            ],
            "application/javascript": [
              "window[\"0c804e44-ba19-11ed-9901-0242ac1c000c\"] = google.colab.output.setActiveOutputArea(window[\"0c5fd0d8-ba19-11ed-9901-0242ac1c000c\"]);\n",
              "//# sourceURL=js_9cfbac910d"
            ]
          },
          "metadata": {}
        },
        {
          "output_type": "display_data",
          "data": {
            "text/plain": [
              "<IPython.core.display.Javascript object>"
            ],
            "application/javascript": [
              "window[\"0d1bc7c0-ba19-11ed-9901-0242ac1c000c\"] = google.colab.output.getActiveOutputArea();\n",
              "//# sourceURL=js_1f4922812d"
            ]
          },
          "metadata": {}
        },
        {
          "output_type": "display_data",
          "data": {
            "text/plain": [
              "<IPython.core.display.Javascript object>"
            ],
            "application/javascript": [
              "window[\"0d1c33c2-ba19-11ed-9901-0242ac1c000c\"] = document.querySelector(\"#id22-0-0\");\n",
              "//# sourceURL=js_dc482e2768"
            ]
          },
          "metadata": {}
        },
        {
          "output_type": "display_data",
          "data": {
            "text/plain": [
              "<IPython.core.display.Javascript object>"
            ],
            "application/javascript": [
              "window[\"0d1ce97a-ba19-11ed-9901-0242ac1c000c\"] = google.colab.output.setActiveOutputArea(window[\"0d1c33c2-ba19-11ed-9901-0242ac1c000c\"]);\n",
              "//# sourceURL=js_654c328165"
            ]
          },
          "metadata": {}
        },
        {
          "output_type": "display_data",
          "data": {
            "text/plain": [
              "<IPython.core.display.Javascript object>"
            ],
            "application/javascript": [
              "window[\"0d44a1a4-ba19-11ed-9901-0242ac1c000c\"] = google.colab.output.setActiveOutputArea(window[\"0d1bc7c0-ba19-11ed-9901-0242ac1c000c\"]);\n",
              "//# sourceURL=js_6eadd64e1a"
            ]
          },
          "metadata": {}
        },
        {
          "output_type": "display_data",
          "data": {
            "text/plain": [
              "<IPython.core.display.Javascript object>"
            ],
            "application/javascript": [
              "window[\"0ddf9f2e-ba19-11ed-9901-0242ac1c000c\"] = google.colab.output.getActiveOutputArea();\n",
              "//# sourceURL=js_83ef813de0"
            ]
          },
          "metadata": {}
        },
        {
          "output_type": "display_data",
          "data": {
            "text/plain": [
              "<IPython.core.display.Javascript object>"
            ],
            "application/javascript": [
              "window[\"0de063a0-ba19-11ed-9901-0242ac1c000c\"] = document.querySelector(\"#id22-0-0\");\n",
              "//# sourceURL=js_efe064cf0e"
            ]
          },
          "metadata": {}
        },
        {
          "output_type": "display_data",
          "data": {
            "text/plain": [
              "<IPython.core.display.Javascript object>"
            ],
            "application/javascript": [
              "window[\"0de123d0-ba19-11ed-9901-0242ac1c000c\"] = google.colab.output.setActiveOutputArea(window[\"0de063a0-ba19-11ed-9901-0242ac1c000c\"]);\n",
              "//# sourceURL=js_b969304cca"
            ]
          },
          "metadata": {}
        },
        {
          "output_type": "display_data",
          "data": {
            "text/plain": [
              "<IPython.core.display.Javascript object>"
            ],
            "application/javascript": [
              "window[\"0e11c8be-ba19-11ed-9901-0242ac1c000c\"] = google.colab.output.setActiveOutputArea(window[\"0ddf9f2e-ba19-11ed-9901-0242ac1c000c\"]);\n",
              "//# sourceURL=js_3c9cdf614f"
            ]
          },
          "metadata": {}
        },
        {
          "output_type": "display_data",
          "data": {
            "text/plain": [
              "<IPython.core.display.Javascript object>"
            ],
            "application/javascript": [
              "window[\"0ead851a-ba19-11ed-9901-0242ac1c000c\"] = google.colab.output.getActiveOutputArea();\n",
              "//# sourceURL=js_8380c5ebdd"
            ]
          },
          "metadata": {}
        },
        {
          "output_type": "display_data",
          "data": {
            "text/plain": [
              "<IPython.core.display.Javascript object>"
            ],
            "application/javascript": [
              "window[\"0eae003a-ba19-11ed-9901-0242ac1c000c\"] = document.querySelector(\"#id22-0-0\");\n",
              "//# sourceURL=js_496bae56f3"
            ]
          },
          "metadata": {}
        },
        {
          "output_type": "display_data",
          "data": {
            "text/plain": [
              "<IPython.core.display.Javascript object>"
            ],
            "application/javascript": [
              "window[\"0eae801e-ba19-11ed-9901-0242ac1c000c\"] = google.colab.output.setActiveOutputArea(window[\"0eae003a-ba19-11ed-9901-0242ac1c000c\"]);\n",
              "//# sourceURL=js_ceccab8df6"
            ]
          },
          "metadata": {}
        },
        {
          "output_type": "display_data",
          "data": {
            "text/plain": [
              "<IPython.core.display.Javascript object>"
            ],
            "application/javascript": [
              "window[\"0ece30bc-ba19-11ed-9901-0242ac1c000c\"] = google.colab.output.setActiveOutputArea(window[\"0ead851a-ba19-11ed-9901-0242ac1c000c\"]);\n",
              "//# sourceURL=js_9d5498d30d"
            ]
          },
          "metadata": {}
        },
        {
          "output_type": "display_data",
          "data": {
            "text/plain": [
              "<IPython.core.display.Javascript object>"
            ],
            "application/javascript": [
              "window[\"0f6966b8-ba19-11ed-9901-0242ac1c000c\"] = google.colab.output.getActiveOutputArea();\n",
              "//# sourceURL=js_e5d71be35d"
            ]
          },
          "metadata": {}
        },
        {
          "output_type": "display_data",
          "data": {
            "text/plain": [
              "<IPython.core.display.Javascript object>"
            ],
            "application/javascript": [
              "window[\"0f69d85a-ba19-11ed-9901-0242ac1c000c\"] = document.querySelector(\"#id22-0-0\");\n",
              "//# sourceURL=js_3488f8031e"
            ]
          },
          "metadata": {}
        },
        {
          "output_type": "display_data",
          "data": {
            "text/plain": [
              "<IPython.core.display.Javascript object>"
            ],
            "application/javascript": [
              "window[\"0f6a8ab6-ba19-11ed-9901-0242ac1c000c\"] = google.colab.output.setActiveOutputArea(window[\"0f69d85a-ba19-11ed-9901-0242ac1c000c\"]);\n",
              "//# sourceURL=js_2b27c688a0"
            ]
          },
          "metadata": {}
        },
        {
          "output_type": "display_data",
          "data": {
            "text/plain": [
              "<IPython.core.display.Javascript object>"
            ],
            "application/javascript": [
              "window[\"0f8a9464-ba19-11ed-9901-0242ac1c000c\"] = google.colab.output.setActiveOutputArea(window[\"0f6966b8-ba19-11ed-9901-0242ac1c000c\"]);\n",
              "//# sourceURL=js_4f585fa14b"
            ]
          },
          "metadata": {}
        },
        {
          "output_type": "display_data",
          "data": {
            "text/plain": [
              "<IPython.core.display.Javascript object>"
            ],
            "application/javascript": [
              "window[\"1025ec20-ba19-11ed-9901-0242ac1c000c\"] = google.colab.output.getActiveOutputArea();\n",
              "//# sourceURL=js_e8b78ca430"
            ]
          },
          "metadata": {}
        },
        {
          "output_type": "display_data",
          "data": {
            "text/plain": [
              "<IPython.core.display.Javascript object>"
            ],
            "application/javascript": [
              "window[\"10265f70-ba19-11ed-9901-0242ac1c000c\"] = document.querySelector(\"#id22-0-0\");\n",
              "//# sourceURL=js_616434f4c9"
            ]
          },
          "metadata": {}
        },
        {
          "output_type": "display_data",
          "data": {
            "text/plain": [
              "<IPython.core.display.Javascript object>"
            ],
            "application/javascript": [
              "window[\"1026d518-ba19-11ed-9901-0242ac1c000c\"] = google.colab.output.setActiveOutputArea(window[\"10265f70-ba19-11ed-9901-0242ac1c000c\"]);\n",
              "//# sourceURL=js_90ae851172"
            ]
          },
          "metadata": {}
        },
        {
          "output_type": "display_data",
          "data": {
            "text/plain": [
              "<IPython.core.display.Javascript object>"
            ],
            "application/javascript": [
              "window[\"1048c646-ba19-11ed-9901-0242ac1c000c\"] = google.colab.output.setActiveOutputArea(window[\"1025ec20-ba19-11ed-9901-0242ac1c000c\"]);\n",
              "//# sourceURL=js_827ce55634"
            ]
          },
          "metadata": {}
        },
        {
          "output_type": "display_data",
          "data": {
            "text/plain": [
              "<IPython.core.display.Javascript object>"
            ],
            "application/javascript": [
              "window[\"10e4479c-ba19-11ed-9901-0242ac1c000c\"] = google.colab.output.getActiveOutputArea();\n",
              "//# sourceURL=js_a6f0e8349d"
            ]
          },
          "metadata": {}
        },
        {
          "output_type": "display_data",
          "data": {
            "text/plain": [
              "<IPython.core.display.Javascript object>"
            ],
            "application/javascript": [
              "window[\"10e52838-ba19-11ed-9901-0242ac1c000c\"] = document.querySelector(\"#id22-0-0\");\n",
              "//# sourceURL=js_98bb7f4684"
            ]
          },
          "metadata": {}
        },
        {
          "output_type": "display_data",
          "data": {
            "text/plain": [
              "<IPython.core.display.Javascript object>"
            ],
            "application/javascript": [
              "window[\"10e5970a-ba19-11ed-9901-0242ac1c000c\"] = google.colab.output.setActiveOutputArea(window[\"10e52838-ba19-11ed-9901-0242ac1c000c\"]);\n",
              "//# sourceURL=js_61d816515e"
            ]
          },
          "metadata": {}
        },
        {
          "output_type": "stream",
          "name": "stdout",
          "text": [
            "Reward ->  0\n"
          ]
        },
        {
          "output_type": "display_data",
          "data": {
            "text/plain": [
              "<Figure size 432x288 with 1 Axes>"
            ],
            "image/png": "[encoded data removed]"
          },
          "metadata": {
            "needs_background": "light"
          }
        },
        {
          "output_type": "display_data",
          "data": {
            "text/plain": [
              "<IPython.core.display.Javascript object>"
            ],
            "application/javascript": [
              "window[\"11064bf8-ba19-11ed-9901-0242ac1c000c\"] = google.colab.output.setActiveOutputArea(window[\"10e4479c-ba19-11ed-9901-0242ac1c000c\"]);\n",
              "//# sourceURL=js_79e33183c1"
            ]
          },
          "metadata": {}
        }
      ]
    },
    {
      "cell_type": "markdown",
      "source": [
        "************************************************************************\n",
        "Stochastic Environment: "
      ],
      "metadata": {
        "id": "HsP4eebNZnk5"
      }
    },
    {
      "cell_type": "code",
      "source": [
        "env = GridEnv(env_type = \"stochastic\")\n",
        "agent = RandomAgent(env)\n",
        "\n",
        "obs, info = env.reset()\n",
        "terminated, truncated = False, False\n",
        "\n",
        "output_grid = widgets.Grid(1, 1)\n",
        "with output_grid.output_to(0, 0):\n",
        "  env.render()\n",
        "\n",
        "while not terminated:\n",
        "  action = agent.step(obs)\n",
        "  #action = input()\n",
        "  observation, reward, terminated, truncated, info, agent_pos = env.step(action)\n",
        "  with output_grid.output_to(0, 0):\n",
        "    output_grid.clear_cell()\n",
        "    plt.imshow(grid)\n",
        "    env.render()\n",
        "  time.sleep(1)"
      ],
      "metadata": {
        "id": "Xm6_yTZFDoO9",
        "colab": {
          "base_uri": "https://localhost:8080/",
          "height": 287
        },
        "outputId": "8f492d42-3074-49e7-cd4a-121224f2f802"
      },
      "execution_count": 212,
      "outputs": [
        {
          "output_type": "display_data",
          "data": {
            "text/plain": [
              "<IPython.core.display.HTML object>"
            ],
            "text/html": [
              "<style>\n",
              "       table#id24, #id24 > tbody > tr > th, #id24 > tbody > tr > td {\n",
              "         border: 1px solid lightgray;\n",
              "         border-collapse:collapse;\n",
              "         \n",
              "        }</style>"
            ]
          },
          "metadata": {}
        },
        {
          "output_type": "display_data",
          "data": {
            "text/plain": [
              "<IPython.core.display.HTML object>"
            ],
            "text/html": [
              "<table id=id24><tr><td id=id24-0-0></td></tr></table>"
            ]
          },
          "metadata": {}
        },
        {
          "output_type": "display_data",
          "data": {
            "text/plain": [
              "<IPython.core.display.Javascript object>"
            ],
            "application/javascript": [
              "window[\"12ff6476-ba19-11ed-9901-0242ac1c000c\"] = google.colab.output.getActiveOutputArea();\n",
              "//# sourceURL=js_e9c2f465d1"
            ]
          },
          "metadata": {}
        },
        {
          "output_type": "display_data",
          "data": {
            "text/plain": [
              "<IPython.core.display.Javascript object>"
            ],
            "application/javascript": [
              "window[\"12ffe716-ba19-11ed-9901-0242ac1c000c\"] = document.querySelector(\"#id24-0-0\");\n",
              "//# sourceURL=js_b654cdbcaa"
            ]
          },
          "metadata": {}
        },
        {
          "output_type": "display_data",
          "data": {
            "text/plain": [
              "<IPython.core.display.Javascript object>"
            ],
            "application/javascript": [
              "window[\"13007c08-ba19-11ed-9901-0242ac1c000c\"] = google.colab.output.setActiveOutputArea(window[\"12ffe716-ba19-11ed-9901-0242ac1c000c\"]);\n",
              "//# sourceURL=js_970845455e"
            ]
          },
          "metadata": {}
        },
        {
          "output_type": "display_data",
          "data": {
            "text/plain": [
              "<IPython.core.display.Javascript object>"
            ],
            "application/javascript": [
              "window[\"13392526-ba19-11ed-9901-0242ac1c000c\"] = google.colab.output.setActiveOutputArea(window[\"12ff6476-ba19-11ed-9901-0242ac1c000c\"]);\n",
              "//# sourceURL=js_02c437436a"
            ]
          },
          "metadata": {}
        },
        {
          "output_type": "display_data",
          "data": {
            "text/plain": [
              "<IPython.core.display.Javascript object>"
            ],
            "application/javascript": [
              "window[\"133c68c6-ba19-11ed-9901-0242ac1c000c\"] = google.colab.output.getActiveOutputArea();\n",
              "//# sourceURL=js_fab7a7871a"
            ]
          },
          "metadata": {}
        },
        {
          "output_type": "display_data",
          "data": {
            "text/plain": [
              "<IPython.core.display.Javascript object>"
            ],
            "application/javascript": [
              "window[\"133d2928-ba19-11ed-9901-0242ac1c000c\"] = document.querySelector(\"#id24-0-0\");\n",
              "//# sourceURL=js_2579126083"
            ]
          },
          "metadata": {}
        },
        {
          "output_type": "display_data",
          "data": {
            "text/plain": [
              "<IPython.core.display.Javascript object>"
            ],
            "application/javascript": [
              "window[\"133d90de-ba19-11ed-9901-0242ac1c000c\"] = google.colab.output.setActiveOutputArea(window[\"133d2928-ba19-11ed-9901-0242ac1c000c\"]);\n",
              "//# sourceURL=js_beda10fd98"
            ]
          },
          "metadata": {}
        },
        {
          "output_type": "display_data",
          "data": {
            "text/plain": [
              "<IPython.core.display.Javascript object>"
            ],
            "application/javascript": [
              "window[\"135e0ee0-ba19-11ed-9901-0242ac1c000c\"] = google.colab.output.setActiveOutputArea(window[\"133c68c6-ba19-11ed-9901-0242ac1c000c\"]);\n",
              "//# sourceURL=js_e8370d92a3"
            ]
          },
          "metadata": {}
        },
        {
          "output_type": "display_data",
          "data": {
            "text/plain": [
              "<IPython.core.display.Javascript object>"
            ],
            "application/javascript": [
              "window[\"13f93fc8-ba19-11ed-9901-0242ac1c000c\"] = google.colab.output.getActiveOutputArea();\n",
              "//# sourceURL=js_0f2a03f8e0"
            ]
          },
          "metadata": {}
        },
        {
          "output_type": "display_data",
          "data": {
            "text/plain": [
              "<IPython.core.display.Javascript object>"
            ],
            "application/javascript": [
              "window[\"13f9a792-ba19-11ed-9901-0242ac1c000c\"] = document.querySelector(\"#id24-0-0\");\n",
              "//# sourceURL=js_21cf8610f5"
            ]
          },
          "metadata": {}
        },
        {
          "output_type": "display_data",
          "data": {
            "text/plain": [
              "<IPython.core.display.Javascript object>"
            ],
            "application/javascript": [
              "window[\"13fa30ae-ba19-11ed-9901-0242ac1c000c\"] = google.colab.output.setActiveOutputArea(window[\"13f9a792-ba19-11ed-9901-0242ac1c000c\"]);\n",
              "//# sourceURL=js_3527eb379c"
            ]
          },
          "metadata": {}
        },
        {
          "output_type": "display_data",
          "data": {
            "text/plain": [
              "<IPython.core.display.Javascript object>"
            ],
            "application/javascript": [
              "window[\"141bb5d0-ba19-11ed-9901-0242ac1c000c\"] = google.colab.output.setActiveOutputArea(window[\"13f93fc8-ba19-11ed-9901-0242ac1c000c\"]);\n",
              "//# sourceURL=js_d81883e95e"
            ]
          },
          "metadata": {}
        },
        {
          "output_type": "display_data",
          "data": {
            "text/plain": [
              "<IPython.core.display.Javascript object>"
            ],
            "application/javascript": [
              "window[\"14b70cce-ba19-11ed-9901-0242ac1c000c\"] = google.colab.output.getActiveOutputArea();\n",
              "//# sourceURL=js_29f12d9a34"
            ]
          },
          "metadata": {}
        },
        {
          "output_type": "display_data",
          "data": {
            "text/plain": [
              "<IPython.core.display.Javascript object>"
            ],
            "application/javascript": [
              "window[\"14b7dd3e-ba19-11ed-9901-0242ac1c000c\"] = document.querySelector(\"#id24-0-0\");\n",
              "//# sourceURL=js_5385cd7818"
            ]
          },
          "metadata": {}
        },
        {
          "output_type": "display_data",
          "data": {
            "text/plain": [
              "<IPython.core.display.Javascript object>"
            ],
            "application/javascript": [
              "window[\"14b8a746-ba19-11ed-9901-0242ac1c000c\"] = google.colab.output.setActiveOutputArea(window[\"14b7dd3e-ba19-11ed-9901-0242ac1c000c\"]);\n",
              "//# sourceURL=js_0f4f770fdf"
            ]
          },
          "metadata": {}
        },
        {
          "output_type": "display_data",
          "data": {
            "text/plain": [
              "<IPython.core.display.Javascript object>"
            ],
            "application/javascript": [
              "window[\"14e5076e-ba19-11ed-9901-0242ac1c000c\"] = google.colab.output.setActiveOutputArea(window[\"14b70cce-ba19-11ed-9901-0242ac1c000c\"]);\n",
              "//# sourceURL=js_dc98ab3b39"
            ]
          },
          "metadata": {}
        },
        {
          "output_type": "display_data",
          "data": {
            "text/plain": [
              "<IPython.core.display.Javascript object>"
            ],
            "application/javascript": [
              "window[\"1580c668-ba19-11ed-9901-0242ac1c000c\"] = google.colab.output.getActiveOutputArea();\n",
              "//# sourceURL=js_600f82b662"
            ]
          },
          "metadata": {}
        },
        {
          "output_type": "display_data",
          "data": {
            "text/plain": [
              "<IPython.core.display.Javascript object>"
            ],
            "application/javascript": [
              "window[\"158136c0-ba19-11ed-9901-0242ac1c000c\"] = document.querySelector(\"#id24-0-0\");\n",
              "//# sourceURL=js_5cef5f8eb7"
            ]
          },
          "metadata": {}
        },
        {
          "output_type": "display_data",
          "data": {
            "text/plain": [
              "<IPython.core.display.Javascript object>"
            ],
            "application/javascript": [
              "window[\"15819df4-ba19-11ed-9901-0242ac1c000c\"] = google.colab.output.setActiveOutputArea(window[\"158136c0-ba19-11ed-9901-0242ac1c000c\"]);\n",
              "//# sourceURL=js_a78b61ee29"
            ]
          },
          "metadata": {}
        },
        {
          "output_type": "display_data",
          "data": {
            "text/plain": [
              "<IPython.core.display.Javascript object>"
            ],
            "application/javascript": [
              "window[\"15a51fa4-ba19-11ed-9901-0242ac1c000c\"] = google.colab.output.setActiveOutputArea(window[\"1580c668-ba19-11ed-9901-0242ac1c000c\"]);\n",
              "//# sourceURL=js_2161dd2cf6"
            ]
          },
          "metadata": {}
        },
        {
          "output_type": "display_data",
          "data": {
            "text/plain": [
              "<IPython.core.display.Javascript object>"
            ],
            "application/javascript": [
              "window[\"1640a53c-ba19-11ed-9901-0242ac1c000c\"] = google.colab.output.getActiveOutputArea();\n",
              "//# sourceURL=js_dcce539aad"
            ]
          },
          "metadata": {}
        },
        {
          "output_type": "display_data",
          "data": {
            "text/plain": [
              "<IPython.core.display.Javascript object>"
            ],
            "application/javascript": [
              "window[\"1641176a-ba19-11ed-9901-0242ac1c000c\"] = document.querySelector(\"#id24-0-0\");\n",
              "//# sourceURL=js_6a3b22bfbc"
            ]
          },
          "metadata": {}
        },
        {
          "output_type": "display_data",
          "data": {
            "text/plain": [
              "<IPython.core.display.Javascript object>"
            ],
            "application/javascript": [
              "window[\"1641c804-ba19-11ed-9901-0242ac1c000c\"] = google.colab.output.setActiveOutputArea(window[\"1641176a-ba19-11ed-9901-0242ac1c000c\"]);\n",
              "//# sourceURL=js_5029eecfbc"
            ]
          },
          "metadata": {}
        },
        {
          "output_type": "display_data",
          "data": {
            "text/plain": [
              "<IPython.core.display.Javascript object>"
            ],
            "application/javascript": [
              "window[\"16626028-ba19-11ed-9901-0242ac1c000c\"] = google.colab.output.setActiveOutputArea(window[\"1640a53c-ba19-11ed-9901-0242ac1c000c\"]);\n",
              "//# sourceURL=js_d43ece0a31"
            ]
          },
          "metadata": {}
        },
        {
          "output_type": "display_data",
          "data": {
            "text/plain": [
              "<IPython.core.display.Javascript object>"
            ],
            "application/javascript": [
              "window[\"16fdc180-ba19-11ed-9901-0242ac1c000c\"] = google.colab.output.getActiveOutputArea();\n",
              "//# sourceURL=js_6951dfb930"
            ]
          },
          "metadata": {}
        },
        {
          "output_type": "display_data",
          "data": {
            "text/plain": [
              "<IPython.core.display.Javascript object>"
            ],
            "application/javascript": [
              "window[\"16fe314c-ba19-11ed-9901-0242ac1c000c\"] = document.querySelector(\"#id24-0-0\");\n",
              "//# sourceURL=js_3f077bcee8"
            ]
          },
          "metadata": {}
        },
        {
          "output_type": "display_data",
          "data": {
            "text/plain": [
              "<IPython.core.display.Javascript object>"
            ],
            "application/javascript": [
              "window[\"16feac44-ba19-11ed-9901-0242ac1c000c\"] = google.colab.output.setActiveOutputArea(window[\"16fe314c-ba19-11ed-9901-0242ac1c000c\"]);\n",
              "//# sourceURL=js_b2668c7497"
            ]
          },
          "metadata": {}
        },
        {
          "output_type": "display_data",
          "data": {
            "text/plain": [
              "<IPython.core.display.Javascript object>"
            ],
            "application/javascript": [
              "window[\"171fc640-ba19-11ed-9901-0242ac1c000c\"] = google.colab.output.setActiveOutputArea(window[\"16fdc180-ba19-11ed-9901-0242ac1c000c\"]);\n",
              "//# sourceURL=js_7ecc197df9"
            ]
          },
          "metadata": {}
        },
        {
          "output_type": "display_data",
          "data": {
            "text/plain": [
              "<IPython.core.display.Javascript object>"
            ],
            "application/javascript": [
              "window[\"17bb06d2-ba19-11ed-9901-0242ac1c000c\"] = google.colab.output.getActiveOutputArea();\n",
              "//# sourceURL=js_956d34736c"
            ]
          },
          "metadata": {}
        },
        {
          "output_type": "display_data",
          "data": {
            "text/plain": [
              "<IPython.core.display.Javascript object>"
            ],
            "application/javascript": [
              "window[\"17bb8a8a-ba19-11ed-9901-0242ac1c000c\"] = document.querySelector(\"#id24-0-0\");\n",
              "//# sourceURL=js_c4d8e72ca0"
            ]
          },
          "metadata": {}
        },
        {
          "output_type": "display_data",
          "data": {
            "text/plain": [
              "<IPython.core.display.Javascript object>"
            ],
            "application/javascript": [
              "window[\"17bc08c0-ba19-11ed-9901-0242ac1c000c\"] = google.colab.output.setActiveOutputArea(window[\"17bb8a8a-ba19-11ed-9901-0242ac1c000c\"]);\n",
              "//# sourceURL=js_60437c7ab4"
            ]
          },
          "metadata": {}
        },
        {
          "output_type": "display_data",
          "data": {
            "text/plain": [
              "<IPython.core.display.Javascript object>"
            ],
            "application/javascript": [
              "window[\"17dbe5f0-ba19-11ed-9901-0242ac1c000c\"] = google.colab.output.setActiveOutputArea(window[\"17bb06d2-ba19-11ed-9901-0242ac1c000c\"]);\n",
              "//# sourceURL=js_824f9e140f"
            ]
          },
          "metadata": {}
        },
        {
          "output_type": "display_data",
          "data": {
            "text/plain": [
              "<IPython.core.display.Javascript object>"
            ],
            "application/javascript": [
              "window[\"1876fbf8-ba19-11ed-9901-0242ac1c000c\"] = google.colab.output.getActiveOutputArea();\n",
              "//# sourceURL=js_a957f467f9"
            ]
          },
          "metadata": {}
        },
        {
          "output_type": "display_data",
          "data": {
            "text/plain": [
              "<IPython.core.display.Javascript object>"
            ],
            "application/javascript": [
              "window[\"18776c14-ba19-11ed-9901-0242ac1c000c\"] = document.querySelector(\"#id24-0-0\");\n",
              "//# sourceURL=js_930f624b25"
            ]
          },
          "metadata": {}
        },
        {
          "output_type": "display_data",
          "data": {
            "text/plain": [
              "<IPython.core.display.Javascript object>"
            ],
            "application/javascript": [
              "window[\"1877d622-ba19-11ed-9901-0242ac1c000c\"] = google.colab.output.setActiveOutputArea(window[\"18776c14-ba19-11ed-9901-0242ac1c000c\"]);\n",
              "//# sourceURL=js_41404da4f6"
            ]
          },
          "metadata": {}
        },
        {
          "output_type": "display_data",
          "data": {
            "text/plain": [
              "<IPython.core.display.Javascript object>"
            ],
            "application/javascript": [
              "window[\"1898708a-ba19-11ed-9901-0242ac1c000c\"] = google.colab.output.setActiveOutputArea(window[\"1876fbf8-ba19-11ed-9901-0242ac1c000c\"]);\n",
              "//# sourceURL=js_4e12138123"
            ]
          },
          "metadata": {}
        },
        {
          "output_type": "display_data",
          "data": {
            "text/plain": [
              "<IPython.core.display.Javascript object>"
            ],
            "application/javascript": [
              "window[\"1933f0aa-ba19-11ed-9901-0242ac1c000c\"] = google.colab.output.getActiveOutputArea();\n",
              "//# sourceURL=js_03f4ad4991"
            ]
          },
          "metadata": {}
        },
        {
          "output_type": "display_data",
          "data": {
            "text/plain": [
              "<IPython.core.display.Javascript object>"
            ],
            "application/javascript": [
              "window[\"19345b26-ba19-11ed-9901-0242ac1c000c\"] = document.querySelector(\"#id24-0-0\");\n",
              "//# sourceURL=js_fd8b81443f"
            ]
          },
          "metadata": {}
        },
        {
          "output_type": "display_data",
          "data": {
            "text/plain": [
              "<IPython.core.display.Javascript object>"
            ],
            "application/javascript": [
              "window[\"1934fd10-ba19-11ed-9901-0242ac1c000c\"] = google.colab.output.setActiveOutputArea(window[\"19345b26-ba19-11ed-9901-0242ac1c000c\"]);\n",
              "//# sourceURL=js_2005232e6b"
            ]
          },
          "metadata": {}
        },
        {
          "output_type": "display_data",
          "data": {
            "text/plain": [
              "<IPython.core.display.Javascript object>"
            ],
            "application/javascript": [
              "window[\"1957d772-ba19-11ed-9901-0242ac1c000c\"] = google.colab.output.setActiveOutputArea(window[\"1933f0aa-ba19-11ed-9901-0242ac1c000c\"]);\n",
              "//# sourceURL=js_2783f54846"
            ]
          },
          "metadata": {}
        },
        {
          "output_type": "display_data",
          "data": {
            "text/plain": [
              "<IPython.core.display.Javascript object>"
            ],
            "application/javascript": [
              "window[\"19f2db00-ba19-11ed-9901-0242ac1c000c\"] = google.colab.output.getActiveOutputArea();\n",
              "//# sourceURL=js_34b7bb9614"
            ]
          },
          "metadata": {}
        },
        {
          "output_type": "display_data",
          "data": {
            "text/plain": [
              "<IPython.core.display.Javascript object>"
            ],
            "application/javascript": [
              "window[\"19f35c56-ba19-11ed-9901-0242ac1c000c\"] = document.querySelector(\"#id24-0-0\");\n",
              "//# sourceURL=js_e5f0e7a339"
            ]
          },
          "metadata": {}
        },
        {
          "output_type": "display_data",
          "data": {
            "text/plain": [
              "<IPython.core.display.Javascript object>"
            ],
            "application/javascript": [
              "window[\"19f3cbb4-ba19-11ed-9901-0242ac1c000c\"] = google.colab.output.setActiveOutputArea(window[\"19f35c56-ba19-11ed-9901-0242ac1c000c\"]);\n",
              "//# sourceURL=js_2c5d0d6cb1"
            ]
          },
          "metadata": {}
        },
        {
          "output_type": "display_data",
          "data": {
            "text/plain": [
              "<IPython.core.display.Javascript object>"
            ],
            "application/javascript": [
              "window[\"1a147152-ba19-11ed-9901-0242ac1c000c\"] = google.colab.output.setActiveOutputArea(window[\"19f2db00-ba19-11ed-9901-0242ac1c000c\"]);\n",
              "//# sourceURL=js_7ba214cf4a"
            ]
          },
          "metadata": {}
        },
        {
          "output_type": "display_data",
          "data": {
            "text/plain": [
              "<IPython.core.display.Javascript object>"
            ],
            "application/javascript": [
              "window[\"1ab0064e-ba19-11ed-9901-0242ac1c000c\"] = google.colab.output.getActiveOutputArea();\n",
              "//# sourceURL=js_b5f481ae08"
            ]
          },
          "metadata": {}
        },
        {
          "output_type": "display_data",
          "data": {
            "text/plain": [
              "<IPython.core.display.Javascript object>"
            ],
            "application/javascript": [
              "window[\"1ab0764c-ba19-11ed-9901-0242ac1c000c\"] = document.querySelector(\"#id24-0-0\");\n",
              "//# sourceURL=js_d7031e7ecb"
            ]
          },
          "metadata": {}
        },
        {
          "output_type": "display_data",
          "data": {
            "text/plain": [
              "<IPython.core.display.Javascript object>"
            ],
            "application/javascript": [
              "window[\"1ab0e438-ba19-11ed-9901-0242ac1c000c\"] = google.colab.output.setActiveOutputArea(window[\"1ab0764c-ba19-11ed-9901-0242ac1c000c\"]);\n",
              "//# sourceURL=js_4fbded2c09"
            ]
          },
          "metadata": {}
        },
        {
          "output_type": "display_data",
          "data": {
            "text/plain": [
              "<IPython.core.display.Javascript object>"
            ],
            "application/javascript": [
              "window[\"1ad146d8-ba19-11ed-9901-0242ac1c000c\"] = google.colab.output.setActiveOutputArea(window[\"1ab0064e-ba19-11ed-9901-0242ac1c000c\"]);\n",
              "//# sourceURL=js_5463c82b24"
            ]
          },
          "metadata": {}
        },
        {
          "output_type": "display_data",
          "data": {
            "text/plain": [
              "<IPython.core.display.Javascript object>"
            ],
            "application/javascript": [
              "window[\"1b6cd274-ba19-11ed-9901-0242ac1c000c\"] = google.colab.output.getActiveOutputArea();\n",
              "//# sourceURL=js_905886283e"
            ]
          },
          "metadata": {}
        },
        {
          "output_type": "display_data",
          "data": {
            "text/plain": [
              "<IPython.core.display.Javascript object>"
            ],
            "application/javascript": [
              "window[\"1b6d771a-ba19-11ed-9901-0242ac1c000c\"] = document.querySelector(\"#id24-0-0\");\n",
              "//# sourceURL=js_26aec52fe5"
            ]
          },
          "metadata": {}
        },
        {
          "output_type": "display_data",
          "data": {
            "text/plain": [
              "<IPython.core.display.Javascript object>"
            ],
            "application/javascript": [
              "window[\"1b6e1ada-ba19-11ed-9901-0242ac1c000c\"] = google.colab.output.setActiveOutputArea(window[\"1b6d771a-ba19-11ed-9901-0242ac1c000c\"]);\n",
              "//# sourceURL=js_dba7753641"
            ]
          },
          "metadata": {}
        },
        {
          "output_type": "display_data",
          "data": {
            "text/plain": [
              "<IPython.core.display.Javascript object>"
            ],
            "application/javascript": [
              "window[\"1ba08ace-ba19-11ed-9901-0242ac1c000c\"] = google.colab.output.setActiveOutputArea(window[\"1b6cd274-ba19-11ed-9901-0242ac1c000c\"]);\n",
              "//# sourceURL=js_c6323e772d"
            ]
          },
          "metadata": {}
        },
        {
          "output_type": "display_data",
          "data": {
            "text/plain": [
              "<IPython.core.display.Javascript object>"
            ],
            "application/javascript": [
              "window[\"1c3be172-ba19-11ed-9901-0242ac1c000c\"] = google.colab.output.getActiveOutputArea();\n",
              "//# sourceURL=js_e2ae867b0b"
            ]
          },
          "metadata": {}
        },
        {
          "output_type": "display_data",
          "data": {
            "text/plain": [
              "<IPython.core.display.Javascript object>"
            ],
            "application/javascript": [
              "window[\"1c3cd140-ba19-11ed-9901-0242ac1c000c\"] = document.querySelector(\"#id24-0-0\");\n",
              "//# sourceURL=js_647f6ed806"
            ]
          },
          "metadata": {}
        },
        {
          "output_type": "display_data",
          "data": {
            "text/plain": [
              "<IPython.core.display.Javascript object>"
            ],
            "application/javascript": [
              "window[\"1c3d78a2-ba19-11ed-9901-0242ac1c000c\"] = google.colab.output.setActiveOutputArea(window[\"1c3cd140-ba19-11ed-9901-0242ac1c000c\"]);\n",
              "//# sourceURL=js_c8a57cad95"
            ]
          },
          "metadata": {}
        },
        {
          "output_type": "display_data",
          "data": {
            "text/plain": [
              "<IPython.core.display.Javascript object>"
            ],
            "application/javascript": [
              "window[\"1c743054-ba19-11ed-9901-0242ac1c000c\"] = google.colab.output.setActiveOutputArea(window[\"1c3be172-ba19-11ed-9901-0242ac1c000c\"]);\n",
              "//# sourceURL=js_f59f72d554"
            ]
          },
          "metadata": {}
        },
        {
          "output_type": "display_data",
          "data": {
            "text/plain": [
              "<IPython.core.display.Javascript object>"
            ],
            "application/javascript": [
              "window[\"1d100ad8-ba19-11ed-9901-0242ac1c000c\"] = google.colab.output.getActiveOutputArea();\n",
              "//# sourceURL=js_d90902173a"
            ]
          },
          "metadata": {}
        },
        {
          "output_type": "display_data",
          "data": {
            "text/plain": [
              "<IPython.core.display.Javascript object>"
            ],
            "application/javascript": [
              "window[\"1d1094bc-ba19-11ed-9901-0242ac1c000c\"] = document.querySelector(\"#id24-0-0\");\n",
              "//# sourceURL=js_7b34cd5f52"
            ]
          },
          "metadata": {}
        },
        {
          "output_type": "display_data",
          "data": {
            "text/plain": [
              "<IPython.core.display.Javascript object>"
            ],
            "application/javascript": [
              "window[\"1d111c8e-ba19-11ed-9901-0242ac1c000c\"] = google.colab.output.setActiveOutputArea(window[\"1d1094bc-ba19-11ed-9901-0242ac1c000c\"]);\n",
              "//# sourceURL=js_f451241c12"
            ]
          },
          "metadata": {}
        },
        {
          "output_type": "display_data",
          "data": {
            "text/plain": [
              "<IPython.core.display.Javascript object>"
            ],
            "application/javascript": [
              "window[\"1d3141da-ba19-11ed-9901-0242ac1c000c\"] = google.colab.output.setActiveOutputArea(window[\"1d100ad8-ba19-11ed-9901-0242ac1c000c\"]);\n",
              "//# sourceURL=js_a275ba81e5"
            ]
          },
          "metadata": {}
        },
        {
          "output_type": "display_data",
          "data": {
            "text/plain": [
              "<IPython.core.display.Javascript object>"
            ],
            "application/javascript": [
              "window[\"1dcd98aa-ba19-11ed-9901-0242ac1c000c\"] = google.colab.output.getActiveOutputArea();\n",
              "//# sourceURL=js_37c3936071"
            ]
          },
          "metadata": {}
        },
        {
          "output_type": "display_data",
          "data": {
            "text/plain": [
              "<IPython.core.display.Javascript object>"
            ],
            "application/javascript": [
              "window[\"1dce045c-ba19-11ed-9901-0242ac1c000c\"] = document.querySelector(\"#id24-0-0\");\n",
              "//# sourceURL=js_45549bd042"
            ]
          },
          "metadata": {}
        },
        {
          "output_type": "display_data",
          "data": {
            "text/plain": [
              "<IPython.core.display.Javascript object>"
            ],
            "application/javascript": [
              "window[\"1dce6c08-ba19-11ed-9901-0242ac1c000c\"] = google.colab.output.setActiveOutputArea(window[\"1dce045c-ba19-11ed-9901-0242ac1c000c\"]);\n",
              "//# sourceURL=js_ed9b049139"
            ]
          },
          "metadata": {}
        },
        {
          "output_type": "stream",
          "name": "stdout",
          "text": [
            "Reward ->  0\n"
          ]
        },
        {
          "output_type": "display_data",
          "data": {
            "text/plain": [
              "<Figure size 432x288 with 1 Axes>"
            ],
            "image/png": "[encoded data removed]"
          },
          "metadata": {
            "needs_background": "light"
          }
        },
        {
          "output_type": "display_data",
          "data": {
            "text/plain": [
              "<IPython.core.display.Javascript object>"
            ],
            "application/javascript": [
              "window[\"1defe392-ba19-11ed-9901-0242ac1c000c\"] = google.colab.output.setActiveOutputArea(window[\"1dcd98aa-ba19-11ed-9901-0242ac1c000c\"]);\n",
              "//# sourceURL=js_c099ab5717"
            ]
          },
          "metadata": {}
        }
      ]
    },
    {
      "cell_type": "markdown",
      "source": [
        "-----------------------------------------------------------------------------\n",
        "**Part - 2**\n",
        "\n",
        "---\n",
        "\n",
        "\n",
        "**Q-Learning for Deterministic Environment**"
      ],
      "metadata": {
        "id": "Ne9h1cG_QyAL"
      }
    },
    {
      "cell_type": "code",
      "source": [
        "import random\n",
        "from IPython.display import clear_output\n",
        "\n",
        "env = GridEnv(env_type = \"deterministic\")\n",
        "agent = RandomAgent(env)\n",
        "\n",
        "# Hyperparameters\n",
        "alpha = 0.15\n",
        "gamma = 0.93\n",
        "epsilon = 1.0\n",
        "epsilon_val = []\n",
        "reward_val = []\n",
        "\n",
        "num_episodes = 500\n",
        "\n",
        "# For plotting metrics\n",
        "all_epochs = []\n",
        "all_penalties_q_det = []\n",
        "avg_reward_per_ep_q_det = []\n",
        "#Q-Table\n",
        "q_table = np.random.rand(25, 4)\n",
        "q_table = q_table.astype(int)\n",
        "\n",
        "#running for 500 episodes\n",
        "for episode in range(num_episodes):\n",
        "  #resetting the state \n",
        "  state, agent_pos = env.reset()\n",
        "  epochs = 0\n",
        "  penalties = 0\n",
        "  new_penalties = 0\n",
        "  new_reward = 0\n",
        "  avg_reward = 0\n",
        "  index = 0\n",
        "  state_to_list = state.tolist()\n",
        "  if 1 in state_to_list:\n",
        "    index = state_to_list.index(1)\n",
        "  # print(index)\n",
        "  for timestep in range(15):\n",
        "    #Choosing an action based on e-greedy policy\n",
        "    if np.random.rand() < epsilon:\n",
        "      action = np.random.choice(env.action_space.n)\n",
        "    else:\n",
        "      action = np.argmax(q_table[index])\n",
        "\n",
        "    # action = np.clip(action, 0, 3)\n",
        "    observation, reward, terminated, truncated, info, new_agent_pos = env.step(action)\n",
        "\n",
        "    new_state_to_list = observation.tolist()\n",
        "    if 1 in new_state_to_list:\n",
        "      index2 = new_state_to_list.index(1)\n",
        "\n",
        "    q_table[index, action] = q_table[index, action] + alpha * (reward + gamma * np.argmax(q_table[index2]) - q_table[index, action])\n",
        "\n",
        "    if reward == -5 or reward == -6 or reward == -2:\n",
        "      penalties += 1\n",
        "\n",
        "    new_penalties += penalties\n",
        "    new_reward += reward\n",
        "    agent_pos = new_agent_pos\n",
        "    epochs += 1\n",
        "  avg_reward = new_reward / 15\n",
        "  avg_reward_per_ep_q_det.append(avg_reward)\n",
        "  all_penalties_q_det.append(new_penalties)\n",
        "  reward_val.append(new_reward)\n",
        "  epsilon *= 0.9908\n",
        "  epsilon_val.append(epsilon)\n",
        "\n",
        "# print(\"Q-Table : \", q_table)\n",
        "# print(epsilon_val)\n"
      ],
      "metadata": {
        "id": "Ro6Mvhxxjdbs"
      },
      "execution_count": 224,
      "outputs": []
    },
    {
      "cell_type": "markdown",
      "source": [
        "**Epsilon-Decay Graph**"
      ],
      "metadata": {
        "id": "B_VWFibmR5lo"
      }
    },
    {
      "cell_type": "code",
      "source": [
        "plt.figure(figsize=(5,5))\n",
        "plt.plot(epsilon_val, linewidth=4)\n",
        "plt.xlabel('Episode', fontsize=16)\n",
        "plt.ylabel('Epsilon Values', fontsize=16)\n",
        "plt.title('Epsilon Decay (Deterministic)', fontsize=20)\n",
        "plt.xticks(fontsize=16)\n",
        "plt.yticks(fontsize=16)\n",
        "plt.ylim(ymin=0, ymax=1)\n",
        "plt.xlim(xmin=0, xmax=500)\n",
        "plt.grid()\n",
        "plt.show()"
      ],
      "metadata": {
        "colab": {
          "base_uri": "https://localhost:8080/",
          "height": 365
        },
        "id": "QtTsDiPbSDMF",
        "outputId": "74c604c9-c7de-4656-9ca9-0d00569b3c41"
      },
      "execution_count": 214,
      "outputs": [
        {
          "output_type": "display_data",
          "data": {
            "text/plain": [
              "<Figure size 360x360 with 1 Axes>"
            ],
            "image/png": "[encoded data removed]"
          },
          "metadata": {
            "needs_background": "light"
          }
        }
      ]
    },
    {
      "cell_type": "markdown",
      "source": [
        "**Total Rewards per episode**"
      ],
      "metadata": {
        "id": "iADJoBJPSV9m"
      }
    },
    {
      "cell_type": "code",
      "source": [
        "print(max(reward_val))\n",
        "plt.figure(figsize=(8,8))\n",
        "plt.plot(reward_val, 'ro')\n",
        "plt.xlabel('Episode', fontsize=18)\n",
        "plt.ylabel('Reward Value', fontsize=18)\n",
        "plt.title('Rewards Per Episode (Deterministic)', fontsize=20)\n",
        "plt.xticks(fontsize=16)\n",
        "plt.yticks([-40, -20, 0, 20, 40, 60, 80, 100, 120, 140, 160], fontsize=16)\n",
        "plt.ylim(ymin=-50, ymax=160)\n",
        "plt.xlim(xmin=0, xmax=500)\n",
        "plt.grid()\n",
        "plt.show()"
      ],
      "metadata": {
        "colab": {
          "base_uri": "https://localhost:8080/",
          "height": 549
        },
        "id": "wsuj3Ll5Sdy7",
        "outputId": "aac80c4e-c0ce-4b35-e736-69d3d0f83fa4"
      },
      "execution_count": 233,
      "outputs": [
        {
          "output_type": "stream",
          "name": "stdout",
          "text": [
            "150\n"
          ]
        },
        {
          "output_type": "display_data",
          "data": {
            "text/plain": [
              "<Figure size 576x576 with 1 Axes>"
            ],
            "image/png": "[encoded data removed]"
          },
          "metadata": {
            "needs_background": "light"
          }
        }
      ]
    },
    {
      "cell_type": "code",
      "source": [
        "# plt.figure(figsize=(8,8))\n",
        "# plt.plot(avg_reward_per_ep_q_det, 'bo')\n",
        "# plt.xlabel('Episode', fontsize=18)\n",
        "# plt.ylabel('Penalties', fontsize=18)\n",
        "# plt.title('Average Rewards Per Episode (Q-Learning - Deterministic)', fontsize=20)\n",
        "# plt.xticks(fontsize=16)\n",
        "# plt.yticks([-6, -4, -2, 0, 2, 4, 6, 8, 10], fontsize=16)\n",
        "# plt.ylim(ymin=-7, ymax=11)\n",
        "# plt.xlim(xmin=0, xmax=500)\n",
        "# plt.grid()\n",
        "# plt.show()"
      ],
      "metadata": {
        "id": "v2GBN7wVx6Mj"
      },
      "execution_count": 241,
      "outputs": []
    },
    {
      "cell_type": "code",
      "source": [
        "plt.figure(figsize=(8,8))\n",
        "plt.plot(all_penalties_q_det, 'go')\n",
        "plt.xlabel('Episode', fontsize=18)\n",
        "plt.ylabel('Penalties', fontsize=18)\n",
        "plt.title('Penalties Per Episode (Q-Learning - Deterministic)', fontsize=20)\n",
        "plt.xticks(fontsize=16)\n",
        "plt.yticks([-60, -50, -20, 0, 20, 40, 60, 80, 100], fontsize=16)\n",
        "plt.ylim(ymin=-7, ymax=80)\n",
        "plt.xlim(xmin=0, xmax=500)\n",
        "plt.grid()\n",
        "plt.show()"
      ],
      "metadata": {
        "id": "zQeA8h45tE_n",
        "outputId": "178e936b-bf2b-45eb-ec77-01b2039e53c7",
        "colab": {
          "base_uri": "https://localhost:8080/",
          "height": 531
        }
      },
      "execution_count": 216,
      "outputs": [
        {
          "output_type": "display_data",
          "data": {
            "text/plain": [
              "<Figure size 576x576 with 1 Axes>"
            ],
            "image/png": "[encoded data removed]"
          },
          "metadata": {
            "needs_background": "light"
          }
        }
      ]
    },
    {
      "cell_type": "code",
      "source": [],
      "metadata": {
        "id": "j0At2_eJxcpr"
      },
      "execution_count": 230,
      "outputs": []
    },
    {
      "cell_type": "markdown",
      "source": [
        "**Q-Learning for Stochastic Environment**"
      ],
      "metadata": {
        "id": "09ECYT0oW3-4"
      }
    },
    {
      "cell_type": "code",
      "source": [
        "import random\n",
        "from IPython.display import clear_output\n",
        "\n",
        "env = GridEnv(env_type = \"stochastic\")\n",
        "agent = RandomAgent(env)\n",
        "\n",
        "# Hyperparameters\n",
        "alpha = 0.15\n",
        "gamma = 0.93\n",
        "epsilon = 1.0\n",
        "epsilon_val_stoc = []\n",
        "reward_val_stoc = []\n",
        "\n",
        "num_episodes = 500\n",
        "\n",
        "# For plotting metrics\n",
        "all_epochs = []\n",
        "all_penalties_q_stoc = []\n",
        "avg_reward_per_ep_q_stoc = []\n",
        "#Q-Table\n",
        "q_table_stoc = np.random.rand(25, 4)\n",
        "q_table_stoc = q_table_stoc.astype(int)\n",
        "\n",
        "#running for 1000 episodes\n",
        "for episode in range(num_episodes):\n",
        "  #resetting the state \n",
        "  state, agent_pos = env.reset()\n",
        "  epochs = 0\n",
        "  penalties = 0\n",
        "  new_penalties = 0\n",
        "  new_reward = 0\n",
        "  index \n",
        "  state_to_list = state.tolist()\n",
        "  if 1 in state_to_list:\n",
        "    index = state_to_list.index(1)\n",
        "  # print(index)\n",
        "  \n",
        "  for timestep in range(15):\n",
        "    #Choosing an action based on e-greedy policy\n",
        "    if np.random.rand() < epsilon:\n",
        "      action = np.random.choice(env.action_space.n)\n",
        "    else:\n",
        "      action = np.argmax(q_table_stoc[index])\n",
        "\n",
        "    penalties = 0\n",
        "    # action = np.clip(action, 0, 3)\n",
        "    observation, reward, terminated, truncated, info, new_agent_pos = env.step(action)\n",
        "\n",
        "    new_state_to_list = observation.tolist()\n",
        "    if 1 in new_state_to_list:\n",
        "      index2 = new_state_to_list.index(1)\n",
        "\n",
        "    q_table_stoc[index, action] = q_table_stoc[index, action] + alpha * (reward + gamma * np.max(q_table_stoc[index2]) - q_table_stoc[index, action])\n",
        "\n",
        "    if reward == -5 or reward == -6 or reward == -2:\n",
        "      penalties += 1\n",
        "\n",
        "    new_reward += reward\n",
        "    index = index2\n",
        "    epochs += 1\n",
        "    new_penalties += penalties\n",
        "  \n",
        "  avg_reward = new_reward / 15\n",
        "  avg_reward_per_ep_q_stoc.append(avg_reward)\n",
        "  all_penalties_q_stoc.append(new_penalties)\n",
        "  reward_val_stoc.append(new_reward)\n",
        "  epsilon *= 0.9908\n",
        "  epsilon_val_stoc.append(epsilon)\n",
        "  # print(epsilon)\n",
        "\n",
        "# print(\"Q-Table : \", q_table)\n",
        "# print(epsilon_val)\n"
      ],
      "metadata": {
        "id": "4eNNhT3gW-XQ"
      },
      "execution_count": 234,
      "outputs": []
    },
    {
      "cell_type": "code",
      "source": [
        "plt.figure(figsize=(5,5))\n",
        "plt.plot(epsilon_val_stoc, linewidth=4)\n",
        "plt.xlabel('Episode', fontsize=16)\n",
        "plt.ylabel('Epsilon Values', fontsize=16)\n",
        "plt.title('Epsilon Decay (Stochastic)', fontsize=20)\n",
        "plt.xticks(fontsize=16)\n",
        "plt.yticks(fontsize=16)\n",
        "plt.ylim(ymin=0, ymax=1)\n",
        "plt.xlim(xmin=0, xmax=500)\n",
        "plt.grid()\n",
        "plt.show()"
      ],
      "metadata": {
        "colab": {
          "base_uri": "https://localhost:8080/",
          "height": 365
        },
        "id": "oxGJBsqnXCKW",
        "outputId": "8cc0c289-95bc-4e66-9dab-686719b86aa6"
      },
      "execution_count": 235,
      "outputs": [
        {
          "output_type": "display_data",
          "data": {
            "text/plain": [
              "<Figure size 360x360 with 1 Axes>"
            ],
            "image/png": "[encoded data removed]"
          },
          "metadata": {
            "needs_background": "light"
          }
        }
      ]
    },
    {
      "cell_type": "code",
      "source": [
        "print(reward_val)\n",
        "plt.figure(figsize=(8,8))\n",
        "plt.plot(reward_val_stoc, 'ro')\n",
        "plt.xlabel('Episode', fontsize=18)\n",
        "plt.ylabel('Reward Value', fontsize=18)\n",
        "plt.title('Rewards Per Episode (Q-Learning - Stochastic)', fontsize=20)\n",
        "plt.xticks(fontsize=16)\n",
        "plt.yticks([-60, -40, -20, 0, 20, 40, 60, 80, 100, 120, 140, 160], fontsize=16)\n",
        "plt.ylim(ymin=-10, ymax=160)\n",
        "plt.xlim(xmin=0, xmax=500)\n",
        "plt.grid()\n",
        "plt.show()"
      ],
      "metadata": {
        "colab": {
          "base_uri": "https://localhost:8080/",
          "height": 569
        },
        "id": "zR1ZfALMXHUc",
        "outputId": "0f0afdf4-1ea1-44a7-db9f-38fd00b8e8ab"
      },
      "execution_count": 236,
      "outputs": [
        {
          "output_type": "stream",
          "name": "stdout",
          "text": [
            "[-5, -8, -4, 28, -32, -20, 5, -12, -7, 18, -10, 12, 72, 34, 62, 30, -18, 14, 122, 42, 110, 7, 2, 10, 128, 106, 94, 8, -6, 0, 22, 92, 106, -4, -2, 3, 24, 66, 64, 64, 28, 0, -14, 10, 52, 54, -30, 32, -12, -12, 50, 118, 112, 64, 80, 8, -16, -20, 23, 36, 94, 104, 8, 114, 142, 134, 138, 78, 130, 114, 64, 1, 4, 80, 96, 62, 78, 94, 122, 148, 90, 96, 22, -18, -12, 36, 104, 92, 60, 26, 104, 120, 114, 132, 142, 112, 126, 76, 122, 102, 128, 120, 146, 98, 46, 24, 146, 70, 104, 146, 128, 138, 128, 86, 118, 140, 62, 108, 104, 136, 142, 126, 106, 136, 122, 64, 106, 146, 148, 120, 120, 106, 120, 118, 146, 138, 122, 112, 104, 120, 148, 110, 128, 150, 90, 150, 130, 134, 150, 150, 122, 146, 150, 140, 134, 128, 122, 72, 86, 30, 120, 140, 150, 142, 148, 150, 130, 150, 114, 138, 140, 122, 140, 140, 128, 134, 150, 138, 150, 140, 136, 130, 114, 66, 128, 102, 100, 150, 130, 110, 150, 150, 150, 150, 130, 122, 102, 120, 132, 150, 150, 140, 132, 150, 140, 120, 132, 86, 110, 148, 128, 150, 140, 144, 120, 140, 150, 150, 148, 124, 148, 150, 150, 150, 150, 148, 150, 138, 150, 148, 150, 148, 150, 130, 140, 122, 124, 120, 126, 150, 130, 150, 104, 120, 132, 118, 130, 150, 150, 128, 100, 106, 150, 150, 140, 150, 150, 150, 150, 130, 140, 120, 150, 138, 150, 150, 150, 140, 150, 144, 150, 128, 130, 150, 110, 130, 150, 150, 150, 122, 110, 120, 150, 110, 128, 150, 140, 102, 104, 78, 140, 150, 148, 150, 150, 130, 148, 150, 148, 150, 148, 130, 150, 150, 130, 144, 146, 112, 148, 150, 150, 148, 150, 150, 150, 130, 140, 150, 150, 150, 150, 150, 150, 150, 150, 150, 140, 150, 150, 120, 150, 126, 148, 140, 140, 138, 150, 150, 150, 150, 150, 150, 140, 150, 150, 150, 144, 150, 150, 150, 140, 136, 150, 150, 150, 140, 150, 150, 150, 150, 150, 150, 130, 150, 150, 150, 150, 148, 150, 150, 150, 150, 130, 150, 150, 140, 150, 150, 140, 138, 150, 140, 150, 134, 150, 128, 150, 140, 150, 150, 150, 150, 150, 150, 150, 150, 150, 150, 148, 150, 150, 150, 148, 150, 150, 150, 150, 150, 150, 150, 150, 150, 150, 150, 150, 150, 150, 150, 150, 150, 150, 150, 150, 150, 150, 150, 150, 150, 150, 150, 148, 150, 150, 148, 150, 150, 150, 150, 130, 150, 150, 150, 150, 150, 150, 150, 128, 150, 150, 150, 150, 134, 150, 150, 150, 150, 150, 150, 130, 150, 150, 150, 150, 150, 150, 150, 150, 150, 150, 150, 144, 150, 150, 150, 150, 150, 150, 150, 150, 150, 138, 150, 126, 150, 150, 150, 150, 150, 150, 150, 150, 150, 150, 150, 150, 150, 150, 150, 150, 150]\n"
          ]
        },
        {
          "output_type": "display_data",
          "data": {
            "text/plain": [
              "<Figure size 576x576 with 1 Axes>"
            ],
            "image/png": "[encoded data removed]"
          },
          "metadata": {
            "needs_background": "light"
          }
        }
      ]
    },
    {
      "cell_type": "code",
      "source": [
        "# plt.figure(figsize=(8,8))\n",
        "# plt.plot(avg_reward_per_ep_q_stoc, 'bo')\n",
        "# plt.xlabel('Episode', fontsize=18)\n",
        "# plt.ylabel('Penalties', fontsize=18)\n",
        "# plt.title('Average Rewards Per Episode (Q-Learning - Stochastic)', fontsize=20)\n",
        "# plt.xticks(fontsize=16)\n",
        "# plt.yticks([-6, -4, -2, 0, 2, 4, 6, 8, 10], fontsize=16)\n",
        "# plt.ylim(ymin=-7, ymax=11)\n",
        "# plt.xlim(xmin=0, xmax=500)\n",
        "# plt.grid()\n",
        "# plt.show()"
      ],
      "metadata": {
        "id": "8BFXjlQHy5Pq"
      },
      "execution_count": 240,
      "outputs": []
    },
    {
      "cell_type": "code",
      "source": [
        "plt.figure(figsize=(8,8))\n",
        "plt.plot(all_penalties_q_stoc, 'ro')\n",
        "plt.xlabel('Episode', fontsize=18)\n",
        "plt.ylabel('Penalties', fontsize=18)\n",
        "plt.title('Penalties Per Episode (Q-Learning - Stochastic)', fontsize=20)\n",
        "plt.xticks(fontsize=16)\n",
        "plt.yticks([-60, -50, -20, 0, 20, 40, 60, 80, 100], fontsize=16)\n",
        "plt.ylim(ymin=-7, ymax=50)\n",
        "plt.xlim(xmin=0, xmax=500)\n",
        "plt.grid()\n",
        "plt.show()"
      ],
      "metadata": {
        "id": "LrDp3SwRsUsY",
        "outputId": "99fb0ff5-1c40-4a2b-9544-b852a7d7449c",
        "colab": {
          "base_uri": "https://localhost:8080/",
          "height": 531
        }
      },
      "execution_count": 237,
      "outputs": [
        {
          "output_type": "display_data",
          "data": {
            "text/plain": [
              "<Figure size 576x576 with 1 Axes>"
            ],
            "image/png": "[encoded data removed]"
          },
          "metadata": {
            "needs_background": "light"
          }
        }
      ]
    },
    {
      "cell_type": "code",
      "source": [
        "# Write Q-table to pickle file\n",
        "with open('q_table.pkl', 'wb') as f:\n",
        "    pickle.dump(q_table, f)\n",
        "\n",
        "# Download pickle file\n",
        "from google.colab import files\n",
        "files.download('q_table.pkl')\n"
      ],
      "metadata": {
        "colab": {
          "base_uri": "https://localhost:8080/",
          "height": 17
        },
        "id": "PoEcmudDNHpn",
        "outputId": "77eb038d-144e-49b7-aa37-e754a284fd84"
      },
      "execution_count": 238,
      "outputs": [
        {
          "output_type": "display_data",
          "data": {
            "text/plain": [
              "<IPython.core.display.Javascript object>"
            ],
            "application/javascript": [
              "\n",
              "    async function download(id, filename, size) {\n",
              "      if (!google.colab.kernel.accessAllowed) {\n",
              "        return;\n",
              "      }\n",
              "      const div = document.createElement('div');\n",
              "      const label = document.createElement('label');\n",
              "      label.textContent = `Downloading \"${filename}\": `;\n",
              "      div.appendChild(label);\n",
              "      const progress = document.createElement('progress');\n",
              "      progress.max = size;\n",
              "      div.appendChild(progress);\n",
              "      document.body.appendChild(div);\n",
              "\n",
              "      const buffers = [];\n",
              "      let downloaded = 0;\n",
              "\n",
              "      const channel = await google.colab.kernel.comms.open(id);\n",
              "      // Send a message to notify the kernel that we're ready.\n",
              "      channel.send({})\n",
              "\n",
              "      for await (const message of channel.messages) {\n",
              "        // Send a message to notify the kernel that we're ready.\n",
              "        channel.send({})\n",
              "        if (message.buffers) {\n",
              "          for (const buffer of message.buffers) {\n",
              "            buffers.push(buffer);\n",
              "            downloaded += buffer.byteLength;\n",
              "            progress.value = downloaded;\n",
              "          }\n",
              "        }\n",
              "      }\n",
              "      const blob = new Blob(buffers, {type: 'application/binary'});\n",
              "      const a = document.createElement('a');\n",
              "      a.href = window.URL.createObjectURL(blob);\n",
              "      a.download = filename;\n",
              "      div.appendChild(a);\n",
              "      a.click();\n",
              "      div.remove();\n",
              "    }\n",
              "  "
            ]
          },
          "metadata": {}
        },
        {
          "output_type": "display_data",
          "data": {
            "text/plain": [
              "<IPython.core.display.Javascript object>"
            ],
            "application/javascript": [
              "download(\"download_01d78fd1-f420-458e-a158-5f515bf250a0\", \"q_table.pkl\", 952)"
            ]
          },
          "metadata": {}
        }
      ]
    },
    {
      "cell_type": "markdown",
      "source": [
        "**Testing Q-Values with 5x5 Grid Environment - Deterministic**"
      ],
      "metadata": {
        "id": "Uj1nr-UCX92g"
      }
    },
    {
      "cell_type": "code",
      "source": [
        "env = GridEnv(env_type = \"deterministic\")\n",
        "agent = RandomAgent(env)\n",
        "\n",
        "obs, info = env.reset()\n",
        "terminated, truncated = False, False\n",
        "\n",
        "\n",
        "output_grid = widgets.Grid(1, 1)\n",
        "with output_grid.output_to(0, 0):\n",
        "  env.render()\n",
        "\n",
        "def get_max_val(arg):\n",
        "  return max(arg)\n",
        "  \n",
        "for i in q_table:\n",
        "  max_val = get_max_val(i)\n",
        "  i_to_list = i.tolist()\n",
        "  max_index = i_to_list.index(max_val)\n",
        "  observation, reward, terminated, truncated, info, agent_pos = env.step(max_index)\n",
        "  with output_grid.output_to(0, 0):\n",
        "    output_grid.clear_cell()\n",
        "    plt.imshow(grid)\n",
        "    env.render()\n",
        "  time.sleep(1)\n",
        "\n",
        "  "
      ],
      "metadata": {
        "colab": {
          "base_uri": "https://localhost:8080/",
          "height": 287
        },
        "id": "yO6PQTYjA-4s",
        "outputId": "5dd0d7fe-94a9-4081-9e08-24a9d9036cb6"
      },
      "execution_count": 222,
      "outputs": [
        {
          "output_type": "display_data",
          "data": {
            "text/plain": [
              "<IPython.core.display.HTML object>"
            ],
            "text/html": [
              "<style>\n",
              "       table#id26, #id26 > tbody > tr > th, #id26 > tbody > tr > td {\n",
              "         border: 1px solid lightgray;\n",
              "         border-collapse:collapse;\n",
              "         \n",
              "        }</style>"
            ]
          },
          "metadata": {}
        },
        {
          "output_type": "display_data",
          "data": {
            "text/plain": [
              "<IPython.core.display.HTML object>"
            ],
            "text/html": [
              "<table id=id26><tr><td id=id26-0-0></td></tr></table>"
            ]
          },
          "metadata": {}
        },
        {
          "output_type": "display_data",
          "data": {
            "text/plain": [
              "<IPython.core.display.Javascript object>"
            ],
            "application/javascript": [
              "window[\"3af3cb52-ba19-11ed-9901-0242ac1c000c\"] = google.colab.output.getActiveOutputArea();\n",
              "//# sourceURL=js_297dd32977"
            ]
          },
          "metadata": {}
        },
        {
          "output_type": "display_data",
          "data": {
            "text/plain": [
              "<IPython.core.display.Javascript object>"
            ],
            "application/javascript": [
              "window[\"3af44294-ba19-11ed-9901-0242ac1c000c\"] = document.querySelector(\"#id26-0-0\");\n",
              "//# sourceURL=js_9b2e8e676f"
            ]
          },
          "metadata": {}
        },
        {
          "output_type": "display_data",
          "data": {
            "text/plain": [
              "<IPython.core.display.Javascript object>"
            ],
            "application/javascript": [
              "window[\"3af4bee0-ba19-11ed-9901-0242ac1c000c\"] = google.colab.output.setActiveOutputArea(window[\"3af44294-ba19-11ed-9901-0242ac1c000c\"]);\n",
              "//# sourceURL=js_47eed81bf7"
            ]
          },
          "metadata": {}
        },
        {
          "output_type": "display_data",
          "data": {
            "text/plain": [
              "<IPython.core.display.Javascript object>"
            ],
            "application/javascript": [
              "window[\"3b128b96-ba19-11ed-9901-0242ac1c000c\"] = google.colab.output.setActiveOutputArea(window[\"3af3cb52-ba19-11ed-9901-0242ac1c000c\"]);\n",
              "//# sourceURL=js_96e56c9222"
            ]
          },
          "metadata": {}
        },
        {
          "output_type": "display_data",
          "data": {
            "text/plain": [
              "<IPython.core.display.Javascript object>"
            ],
            "application/javascript": [
              "window[\"3b158008-ba19-11ed-9901-0242ac1c000c\"] = google.colab.output.getActiveOutputArea();\n",
              "//# sourceURL=js_45ba34acfa"
            ]
          },
          "metadata": {}
        },
        {
          "output_type": "display_data",
          "data": {
            "text/plain": [
              "<IPython.core.display.Javascript object>"
            ],
            "application/javascript": [
              "window[\"3b15f862-ba19-11ed-9901-0242ac1c000c\"] = document.querySelector(\"#id26-0-0\");\n",
              "//# sourceURL=js_b68adcfbbd"
            ]
          },
          "metadata": {}
        },
        {
          "output_type": "display_data",
          "data": {
            "text/plain": [
              "<IPython.core.display.Javascript object>"
            ],
            "application/javascript": [
              "window[\"3b166d1a-ba19-11ed-9901-0242ac1c000c\"] = google.colab.output.setActiveOutputArea(window[\"3b15f862-ba19-11ed-9901-0242ac1c000c\"]);\n",
              "//# sourceURL=js_b6e813e167"
            ]
          },
          "metadata": {}
        },
        {
          "output_type": "display_data",
          "data": {
            "text/plain": [
              "<IPython.core.display.Javascript object>"
            ],
            "application/javascript": [
              "window[\"3b37c1c2-ba19-11ed-9901-0242ac1c000c\"] = google.colab.output.setActiveOutputArea(window[\"3b158008-ba19-11ed-9901-0242ac1c000c\"]);\n",
              "//# sourceURL=js_79f1e77868"
            ]
          },
          "metadata": {}
        },
        {
          "output_type": "display_data",
          "data": {
            "text/plain": [
              "<IPython.core.display.Javascript object>"
            ],
            "application/javascript": [
              "window[\"3bd30010-ba19-11ed-9901-0242ac1c000c\"] = google.colab.output.getActiveOutputArea();\n",
              "//# sourceURL=js_9ffd09b2ac"
            ]
          },
          "metadata": {}
        },
        {
          "output_type": "display_data",
          "data": {
            "text/plain": [
              "<IPython.core.display.Javascript object>"
            ],
            "application/javascript": [
              "window[\"3bd37360-ba19-11ed-9901-0242ac1c000c\"] = document.querySelector(\"#id26-0-0\");\n",
              "//# sourceURL=js_a4d48aea4b"
            ]
          },
          "metadata": {}
        },
        {
          "output_type": "display_data",
          "data": {
            "text/plain": [
              "<IPython.core.display.Javascript object>"
            ],
            "application/javascript": [
              "window[\"3bd41c8e-ba19-11ed-9901-0242ac1c000c\"] = google.colab.output.setActiveOutputArea(window[\"3bd37360-ba19-11ed-9901-0242ac1c000c\"]);\n",
              "//# sourceURL=js_165c043046"
            ]
          },
          "metadata": {}
        },
        {
          "output_type": "display_data",
          "data": {
            "text/plain": [
              "<IPython.core.display.Javascript object>"
            ],
            "application/javascript": [
              "window[\"3bf586ee-ba19-11ed-9901-0242ac1c000c\"] = google.colab.output.setActiveOutputArea(window[\"3bd30010-ba19-11ed-9901-0242ac1c000c\"]);\n",
              "//# sourceURL=js_d03f679a11"
            ]
          },
          "metadata": {}
        },
        {
          "output_type": "display_data",
          "data": {
            "text/plain": [
              "<IPython.core.display.Javascript object>"
            ],
            "application/javascript": [
              "window[\"3c909882-ba19-11ed-9901-0242ac1c000c\"] = google.colab.output.getActiveOutputArea();\n",
              "//# sourceURL=js_63813e40ed"
            ]
          },
          "metadata": {}
        },
        {
          "output_type": "display_data",
          "data": {
            "text/plain": [
              "<IPython.core.display.Javascript object>"
            ],
            "application/javascript": [
              "window[\"3c917072-ba19-11ed-9901-0242ac1c000c\"] = document.querySelector(\"#id26-0-0\");\n",
              "//# sourceURL=js_cd2a0fd49f"
            ]
          },
          "metadata": {}
        },
        {
          "output_type": "display_data",
          "data": {
            "text/plain": [
              "<IPython.core.display.Javascript object>"
            ],
            "application/javascript": [
              "window[\"3c91cd24-ba19-11ed-9901-0242ac1c000c\"] = google.colab.output.setActiveOutputArea(window[\"3c917072-ba19-11ed-9901-0242ac1c000c\"]);\n",
              "//# sourceURL=js_f0f9749116"
            ]
          },
          "metadata": {}
        },
        {
          "output_type": "display_data",
          "data": {
            "text/plain": [
              "<IPython.core.display.Javascript object>"
            ],
            "application/javascript": [
              "window[\"3cb2649e-ba19-11ed-9901-0242ac1c000c\"] = google.colab.output.setActiveOutputArea(window[\"3c909882-ba19-11ed-9901-0242ac1c000c\"]);\n",
              "//# sourceURL=js_82a35b1238"
            ]
          },
          "metadata": {}
        },
        {
          "output_type": "display_data",
          "data": {
            "text/plain": [
              "<IPython.core.display.Javascript object>"
            ],
            "application/javascript": [
              "window[\"3d4e1ce0-ba19-11ed-9901-0242ac1c000c\"] = google.colab.output.getActiveOutputArea();\n",
              "//# sourceURL=js_c75c4d8cc4"
            ]
          },
          "metadata": {}
        },
        {
          "output_type": "display_data",
          "data": {
            "text/plain": [
              "<IPython.core.display.Javascript object>"
            ],
            "application/javascript": [
              "window[\"3d4e8a5e-ba19-11ed-9901-0242ac1c000c\"] = document.querySelector(\"#id26-0-0\");\n",
              "//# sourceURL=js_3c212b73fc"
            ]
          },
          "metadata": {}
        },
        {
          "output_type": "display_data",
          "data": {
            "text/plain": [
              "<IPython.core.display.Javascript object>"
            ],
            "application/javascript": [
              "window[\"3d4f124e-ba19-11ed-9901-0242ac1c000c\"] = google.colab.output.setActiveOutputArea(window[\"3d4e8a5e-ba19-11ed-9901-0242ac1c000c\"]);\n",
              "//# sourceURL=js_ccd859d440"
            ]
          },
          "metadata": {}
        },
        {
          "output_type": "display_data",
          "data": {
            "text/plain": [
              "<IPython.core.display.Javascript object>"
            ],
            "application/javascript": [
              "window[\"3d6f3af6-ba19-11ed-9901-0242ac1c000c\"] = google.colab.output.setActiveOutputArea(window[\"3d4e1ce0-ba19-11ed-9901-0242ac1c000c\"]);\n",
              "//# sourceURL=js_378729420a"
            ]
          },
          "metadata": {}
        },
        {
          "output_type": "display_data",
          "data": {
            "text/plain": [
              "<IPython.core.display.Javascript object>"
            ],
            "application/javascript": [
              "window[\"3e0a372c-ba19-11ed-9901-0242ac1c000c\"] = google.colab.output.getActiveOutputArea();\n",
              "//# sourceURL=js_aef2665bbf"
            ]
          },
          "metadata": {}
        },
        {
          "output_type": "display_data",
          "data": {
            "text/plain": [
              "<IPython.core.display.Javascript object>"
            ],
            "application/javascript": [
              "window[\"3e0b0e0e-ba19-11ed-9901-0242ac1c000c\"] = document.querySelector(\"#id26-0-0\");\n",
              "//# sourceURL=js_5fc3d08f93"
            ]
          },
          "metadata": {}
        },
        {
          "output_type": "display_data",
          "data": {
            "text/plain": [
              "<IPython.core.display.Javascript object>"
            ],
            "application/javascript": [
              "window[\"3e0bd028-ba19-11ed-9901-0242ac1c000c\"] = google.colab.output.setActiveOutputArea(window[\"3e0b0e0e-ba19-11ed-9901-0242ac1c000c\"]);\n",
              "//# sourceURL=js_464e5d4b6b"
            ]
          },
          "metadata": {}
        },
        {
          "output_type": "display_data",
          "data": {
            "text/plain": [
              "<IPython.core.display.Javascript object>"
            ],
            "application/javascript": [
              "window[\"3e2ba452-ba19-11ed-9901-0242ac1c000c\"] = google.colab.output.setActiveOutputArea(window[\"3e0a372c-ba19-11ed-9901-0242ac1c000c\"]);\n",
              "//# sourceURL=js_76cd7e1813"
            ]
          },
          "metadata": {}
        },
        {
          "output_type": "display_data",
          "data": {
            "text/plain": [
              "<IPython.core.display.Javascript object>"
            ],
            "application/javascript": [
              "window[\"3ec6f90c-ba19-11ed-9901-0242ac1c000c\"] = google.colab.output.getActiveOutputArea();\n",
              "//# sourceURL=js_62c0897f97"
            ]
          },
          "metadata": {}
        },
        {
          "output_type": "display_data",
          "data": {
            "text/plain": [
              "<IPython.core.display.Javascript object>"
            ],
            "application/javascript": [
              "window[\"3ec7bb4e-ba19-11ed-9901-0242ac1c000c\"] = document.querySelector(\"#id26-0-0\");\n",
              "//# sourceURL=js_afa1050b6f"
            ]
          },
          "metadata": {}
        },
        {
          "output_type": "display_data",
          "data": {
            "text/plain": [
              "<IPython.core.display.Javascript object>"
            ],
            "application/javascript": [
              "window[\"3ec8278c-ba19-11ed-9901-0242ac1c000c\"] = google.colab.output.setActiveOutputArea(window[\"3ec7bb4e-ba19-11ed-9901-0242ac1c000c\"]);\n",
              "//# sourceURL=js_11abf7e280"
            ]
          },
          "metadata": {}
        },
        {
          "output_type": "display_data",
          "data": {
            "text/plain": [
              "<IPython.core.display.Javascript object>"
            ],
            "application/javascript": [
              "window[\"3ef31a50-ba19-11ed-9901-0242ac1c000c\"] = google.colab.output.setActiveOutputArea(window[\"3ec6f90c-ba19-11ed-9901-0242ac1c000c\"]);\n",
              "//# sourceURL=js_4c0013efe8"
            ]
          },
          "metadata": {}
        },
        {
          "output_type": "display_data",
          "data": {
            "text/plain": [
              "<IPython.core.display.Javascript object>"
            ],
            "application/javascript": [
              "window[\"3f8e55e2-ba19-11ed-9901-0242ac1c000c\"] = google.colab.output.getActiveOutputArea();\n",
              "//# sourceURL=js_629c7f95bc"
            ]
          },
          "metadata": {}
        },
        {
          "output_type": "display_data",
          "data": {
            "text/plain": [
              "<IPython.core.display.Javascript object>"
            ],
            "application/javascript": [
              "window[\"3f8f16e4-ba19-11ed-9901-0242ac1c000c\"] = document.querySelector(\"#id26-0-0\");\n",
              "//# sourceURL=js_21c7101192"
            ]
          },
          "metadata": {}
        },
        {
          "output_type": "display_data",
          "data": {
            "text/plain": [
              "<IPython.core.display.Javascript object>"
            ],
            "application/javascript": [
              "window[\"3f8fcd0a-ba19-11ed-9901-0242ac1c000c\"] = google.colab.output.setActiveOutputArea(window[\"3f8f16e4-ba19-11ed-9901-0242ac1c000c\"]);\n",
              "//# sourceURL=js_b1355c36d9"
            ]
          },
          "metadata": {}
        },
        {
          "output_type": "display_data",
          "data": {
            "text/plain": [
              "<IPython.core.display.Javascript object>"
            ],
            "application/javascript": [
              "window[\"3fb5d306-ba19-11ed-9901-0242ac1c000c\"] = google.colab.output.setActiveOutputArea(window[\"3f8e55e2-ba19-11ed-9901-0242ac1c000c\"]);\n",
              "//# sourceURL=js_3ac574b9bf"
            ]
          },
          "metadata": {}
        },
        {
          "output_type": "display_data",
          "data": {
            "text/plain": [
              "<IPython.core.display.Javascript object>"
            ],
            "application/javascript": [
              "window[\"4051ab82-ba19-11ed-9901-0242ac1c000c\"] = google.colab.output.getActiveOutputArea();\n",
              "//# sourceURL=js_c5c8d76b7c"
            ]
          },
          "metadata": {}
        },
        {
          "output_type": "display_data",
          "data": {
            "text/plain": [
              "<IPython.core.display.Javascript object>"
            ],
            "application/javascript": [
              "window[\"40521cd4-ba19-11ed-9901-0242ac1c000c\"] = document.querySelector(\"#id26-0-0\");\n",
              "//# sourceURL=js_b1363a5d43"
            ]
          },
          "metadata": {}
        },
        {
          "output_type": "display_data",
          "data": {
            "text/plain": [
              "<IPython.core.display.Javascript object>"
            ],
            "application/javascript": [
              "window[\"4052889a-ba19-11ed-9901-0242ac1c000c\"] = google.colab.output.setActiveOutputArea(window[\"40521cd4-ba19-11ed-9901-0242ac1c000c\"]);\n",
              "//# sourceURL=js_435592de15"
            ]
          },
          "metadata": {}
        },
        {
          "output_type": "display_data",
          "data": {
            "text/plain": [
              "<IPython.core.display.Javascript object>"
            ],
            "application/javascript": [
              "window[\"4071c732-ba19-11ed-9901-0242ac1c000c\"] = google.colab.output.setActiveOutputArea(window[\"4051ab82-ba19-11ed-9901-0242ac1c000c\"]);\n",
              "//# sourceURL=js_6e618991fc"
            ]
          },
          "metadata": {}
        },
        {
          "output_type": "display_data",
          "data": {
            "text/plain": [
              "<IPython.core.display.Javascript object>"
            ],
            "application/javascript": [
              "window[\"410cc764-ba19-11ed-9901-0242ac1c000c\"] = google.colab.output.getActiveOutputArea();\n",
              "//# sourceURL=js_35d1a18f1d"
            ]
          },
          "metadata": {}
        },
        {
          "output_type": "display_data",
          "data": {
            "text/plain": [
              "<IPython.core.display.Javascript object>"
            ],
            "application/javascript": [
              "window[\"410d35be-ba19-11ed-9901-0242ac1c000c\"] = document.querySelector(\"#id26-0-0\");\n",
              "//# sourceURL=js_132235be95"
            ]
          },
          "metadata": {}
        },
        {
          "output_type": "display_data",
          "data": {
            "text/plain": [
              "<IPython.core.display.Javascript object>"
            ],
            "application/javascript": [
              "window[\"410dbeb2-ba19-11ed-9901-0242ac1c000c\"] = google.colab.output.setActiveOutputArea(window[\"410d35be-ba19-11ed-9901-0242ac1c000c\"]);\n",
              "//# sourceURL=js_6c1da69955"
            ]
          },
          "metadata": {}
        },
        {
          "output_type": "display_data",
          "data": {
            "text/plain": [
              "<IPython.core.display.Javascript object>"
            ],
            "application/javascript": [
              "window[\"412e90b0-ba19-11ed-9901-0242ac1c000c\"] = google.colab.output.setActiveOutputArea(window[\"410cc764-ba19-11ed-9901-0242ac1c000c\"]);\n",
              "//# sourceURL=js_92f7dc0869"
            ]
          },
          "metadata": {}
        },
        {
          "output_type": "display_data",
          "data": {
            "text/plain": [
              "<IPython.core.display.Javascript object>"
            ],
            "application/javascript": [
              "window[\"41c9b4d2-ba19-11ed-9901-0242ac1c000c\"] = google.colab.output.getActiveOutputArea();\n",
              "//# sourceURL=js_fd2d570bbf"
            ]
          },
          "metadata": {}
        },
        {
          "output_type": "display_data",
          "data": {
            "text/plain": [
              "<IPython.core.display.Javascript object>"
            ],
            "application/javascript": [
              "window[\"41ca2566-ba19-11ed-9901-0242ac1c000c\"] = document.querySelector(\"#id26-0-0\");\n",
              "//# sourceURL=js_d897d0aa05"
            ]
          },
          "metadata": {}
        },
        {
          "output_type": "display_data",
          "data": {
            "text/plain": [
              "<IPython.core.display.Javascript object>"
            ],
            "application/javascript": [
              "window[\"41cacf7a-ba19-11ed-9901-0242ac1c000c\"] = google.colab.output.setActiveOutputArea(window[\"41ca2566-ba19-11ed-9901-0242ac1c000c\"]);\n",
              "//# sourceURL=js_e5be8beeea"
            ]
          },
          "metadata": {}
        },
        {
          "output_type": "display_data",
          "data": {
            "text/plain": [
              "<IPython.core.display.Javascript object>"
            ],
            "application/javascript": [
              "window[\"41ef51c4-ba19-11ed-9901-0242ac1c000c\"] = google.colab.output.setActiveOutputArea(window[\"41c9b4d2-ba19-11ed-9901-0242ac1c000c\"]);\n",
              "//# sourceURL=js_df1e6a2e9f"
            ]
          },
          "metadata": {}
        },
        {
          "output_type": "display_data",
          "data": {
            "text/plain": [
              "<IPython.core.display.Javascript object>"
            ],
            "application/javascript": [
              "window[\"428a63bc-ba19-11ed-9901-0242ac1c000c\"] = google.colab.output.getActiveOutputArea();\n",
              "//# sourceURL=js_d8e6659b47"
            ]
          },
          "metadata": {}
        },
        {
          "output_type": "display_data",
          "data": {
            "text/plain": [
              "<IPython.core.display.Javascript object>"
            ],
            "application/javascript": [
              "window[\"428b2374-ba19-11ed-9901-0242ac1c000c\"] = document.querySelector(\"#id26-0-0\");\n",
              "//# sourceURL=js_7d35dd0cf1"
            ]
          },
          "metadata": {}
        },
        {
          "output_type": "display_data",
          "data": {
            "text/plain": [
              "<IPython.core.display.Javascript object>"
            ],
            "application/javascript": [
              "window[\"428b948a-ba19-11ed-9901-0242ac1c000c\"] = google.colab.output.setActiveOutputArea(window[\"428b2374-ba19-11ed-9901-0242ac1c000c\"]);\n",
              "//# sourceURL=js_639e4c3b4c"
            ]
          },
          "metadata": {}
        },
        {
          "output_type": "display_data",
          "data": {
            "text/plain": [
              "<IPython.core.display.Javascript object>"
            ],
            "application/javascript": [
              "window[\"42ac6b6a-ba19-11ed-9901-0242ac1c000c\"] = google.colab.output.setActiveOutputArea(window[\"428a63bc-ba19-11ed-9901-0242ac1c000c\"]);\n",
              "//# sourceURL=js_c04c8acf91"
            ]
          },
          "metadata": {}
        },
        {
          "output_type": "display_data",
          "data": {
            "text/plain": [
              "<IPython.core.display.Javascript object>"
            ],
            "application/javascript": [
              "window[\"43487f14-ba19-11ed-9901-0242ac1c000c\"] = google.colab.output.getActiveOutputArea();\n",
              "//# sourceURL=js_78b569c67f"
            ]
          },
          "metadata": {}
        },
        {
          "output_type": "display_data",
          "data": {
            "text/plain": [
              "<IPython.core.display.Javascript object>"
            ],
            "application/javascript": [
              "window[\"43490fce-ba19-11ed-9901-0242ac1c000c\"] = document.querySelector(\"#id26-0-0\");\n",
              "//# sourceURL=js_b6a75da043"
            ]
          },
          "metadata": {}
        },
        {
          "output_type": "display_data",
          "data": {
            "text/plain": [
              "<IPython.core.display.Javascript object>"
            ],
            "application/javascript": [
              "window[\"4349775c-ba19-11ed-9901-0242ac1c000c\"] = google.colab.output.setActiveOutputArea(window[\"43490fce-ba19-11ed-9901-0242ac1c000c\"]);\n",
              "//# sourceURL=js_c120aab981"
            ]
          },
          "metadata": {}
        },
        {
          "output_type": "display_data",
          "data": {
            "text/plain": [
              "<IPython.core.display.Javascript object>"
            ],
            "application/javascript": [
              "window[\"4369a27a-ba19-11ed-9901-0242ac1c000c\"] = google.colab.output.setActiveOutputArea(window[\"43487f14-ba19-11ed-9901-0242ac1c000c\"]);\n",
              "//# sourceURL=js_e1cc79db0b"
            ]
          },
          "metadata": {}
        },
        {
          "output_type": "display_data",
          "data": {
            "text/plain": [
              "<IPython.core.display.Javascript object>"
            ],
            "application/javascript": [
              "window[\"4404d02e-ba19-11ed-9901-0242ac1c000c\"] = google.colab.output.getActiveOutputArea();\n",
              "//# sourceURL=js_d586c7edf1"
            ]
          },
          "metadata": {}
        },
        {
          "output_type": "display_data",
          "data": {
            "text/plain": [
              "<IPython.core.display.Javascript object>"
            ],
            "application/javascript": [
              "window[\"44058258-ba19-11ed-9901-0242ac1c000c\"] = document.querySelector(\"#id26-0-0\");\n",
              "//# sourceURL=js_dfe9c49b55"
            ]
          },
          "metadata": {}
        },
        {
          "output_type": "display_data",
          "data": {
            "text/plain": [
              "<IPython.core.display.Javascript object>"
            ],
            "application/javascript": [
              "window[\"4405d46a-ba19-11ed-9901-0242ac1c000c\"] = google.colab.output.setActiveOutputArea(window[\"44058258-ba19-11ed-9901-0242ac1c000c\"]);\n",
              "//# sourceURL=js_5ab803d28a"
            ]
          },
          "metadata": {}
        },
        {
          "output_type": "display_data",
          "data": {
            "text/plain": [
              "<IPython.core.display.Javascript object>"
            ],
            "application/javascript": [
              "window[\"44273e66-ba19-11ed-9901-0242ac1c000c\"] = google.colab.output.setActiveOutputArea(window[\"4404d02e-ba19-11ed-9901-0242ac1c000c\"]);\n",
              "//# sourceURL=js_1962d35d4b"
            ]
          },
          "metadata": {}
        },
        {
          "output_type": "display_data",
          "data": {
            "text/plain": [
              "<IPython.core.display.Javascript object>"
            ],
            "application/javascript": [
              "window[\"44c25c0c-ba19-11ed-9901-0242ac1c000c\"] = google.colab.output.getActiveOutputArea();\n",
              "//# sourceURL=js_c18fb0af60"
            ]
          },
          "metadata": {}
        },
        {
          "output_type": "display_data",
          "data": {
            "text/plain": [
              "<IPython.core.display.Javascript object>"
            ],
            "application/javascript": [
              "window[\"44c2c566-ba19-11ed-9901-0242ac1c000c\"] = document.querySelector(\"#id26-0-0\");\n",
              "//# sourceURL=js_c95f18dbf4"
            ]
          },
          "metadata": {}
        },
        {
          "output_type": "display_data",
          "data": {
            "text/plain": [
              "<IPython.core.display.Javascript object>"
            ],
            "application/javascript": [
              "window[\"44c32b78-ba19-11ed-9901-0242ac1c000c\"] = google.colab.output.setActiveOutputArea(window[\"44c2c566-ba19-11ed-9901-0242ac1c000c\"]);\n",
              "//# sourceURL=js_df4e246e86"
            ]
          },
          "metadata": {}
        },
        {
          "output_type": "display_data",
          "data": {
            "text/plain": [
              "<IPython.core.display.Javascript object>"
            ],
            "application/javascript": [
              "window[\"44e2fb1a-ba19-11ed-9901-0242ac1c000c\"] = google.colab.output.setActiveOutputArea(window[\"44c25c0c-ba19-11ed-9901-0242ac1c000c\"]);\n",
              "//# sourceURL=js_dd32351a9e"
            ]
          },
          "metadata": {}
        },
        {
          "output_type": "display_data",
          "data": {
            "text/plain": [
              "<IPython.core.display.Javascript object>"
            ],
            "application/javascript": [
              "window[\"457ecb94-ba19-11ed-9901-0242ac1c000c\"] = google.colab.output.getActiveOutputArea();\n",
              "//# sourceURL=js_cd14b40855"
            ]
          },
          "metadata": {}
        },
        {
          "output_type": "display_data",
          "data": {
            "text/plain": [
              "<IPython.core.display.Javascript object>"
            ],
            "application/javascript": [
              "window[\"457f38d6-ba19-11ed-9901-0242ac1c000c\"] = document.querySelector(\"#id26-0-0\");\n",
              "//# sourceURL=js_418a753251"
            ]
          },
          "metadata": {}
        },
        {
          "output_type": "display_data",
          "data": {
            "text/plain": [
              "<IPython.core.display.Javascript object>"
            ],
            "application/javascript": [
              "window[\"457fa622-ba19-11ed-9901-0242ac1c000c\"] = google.colab.output.setActiveOutputArea(window[\"457f38d6-ba19-11ed-9901-0242ac1c000c\"]);\n",
              "//# sourceURL=js_905cba9a8b"
            ]
          },
          "metadata": {}
        },
        {
          "output_type": "display_data",
          "data": {
            "text/plain": [
              "<IPython.core.display.Javascript object>"
            ],
            "application/javascript": [
              "window[\"45a71194-ba19-11ed-9901-0242ac1c000c\"] = google.colab.output.setActiveOutputArea(window[\"457ecb94-ba19-11ed-9901-0242ac1c000c\"]);\n",
              "//# sourceURL=js_8c73c001b0"
            ]
          },
          "metadata": {}
        },
        {
          "output_type": "display_data",
          "data": {
            "text/plain": [
              "<IPython.core.display.Javascript object>"
            ],
            "application/javascript": [
              "window[\"46427e90-ba19-11ed-9901-0242ac1c000c\"] = google.colab.output.getActiveOutputArea();\n",
              "//# sourceURL=js_850fdc1e9a"
            ]
          },
          "metadata": {}
        },
        {
          "output_type": "display_data",
          "data": {
            "text/plain": [
              "<IPython.core.display.Javascript object>"
            ],
            "application/javascript": [
              "window[\"46433e0c-ba19-11ed-9901-0242ac1c000c\"] = document.querySelector(\"#id26-0-0\");\n",
              "//# sourceURL=js_6548daf930"
            ]
          },
          "metadata": {}
        },
        {
          "output_type": "display_data",
          "data": {
            "text/plain": [
              "<IPython.core.display.Javascript object>"
            ],
            "application/javascript": [
              "window[\"4644153e-ba19-11ed-9901-0242ac1c000c\"] = google.colab.output.setActiveOutputArea(window[\"46433e0c-ba19-11ed-9901-0242ac1c000c\"]);\n",
              "//# sourceURL=js_93d0586976"
            ]
          },
          "metadata": {}
        },
        {
          "output_type": "display_data",
          "data": {
            "text/plain": [
              "<IPython.core.display.Javascript object>"
            ],
            "application/javascript": [
              "window[\"467134b0-ba19-11ed-9901-0242ac1c000c\"] = google.colab.output.setActiveOutputArea(window[\"46427e90-ba19-11ed-9901-0242ac1c000c\"]);\n",
              "//# sourceURL=js_fe3694b39b"
            ]
          },
          "metadata": {}
        },
        {
          "output_type": "display_data",
          "data": {
            "text/plain": [
              "<IPython.core.display.Javascript object>"
            ],
            "application/javascript": [
              "window[\"470cca10-ba19-11ed-9901-0242ac1c000c\"] = google.colab.output.getActiveOutputArea();\n",
              "//# sourceURL=js_066fff17c0"
            ]
          },
          "metadata": {}
        },
        {
          "output_type": "display_data",
          "data": {
            "text/plain": [
              "<IPython.core.display.Javascript object>"
            ],
            "application/javascript": [
              "window[\"470d3e00-ba19-11ed-9901-0242ac1c000c\"] = document.querySelector(\"#id26-0-0\");\n",
              "//# sourceURL=js_7aef40d2f8"
            ]
          },
          "metadata": {}
        },
        {
          "output_type": "display_data",
          "data": {
            "text/plain": [
              "<IPython.core.display.Javascript object>"
            ],
            "application/javascript": [
              "window[\"470dce74-ba19-11ed-9901-0242ac1c000c\"] = google.colab.output.setActiveOutputArea(window[\"470d3e00-ba19-11ed-9901-0242ac1c000c\"]);\n",
              "//# sourceURL=js_140a86ffa7"
            ]
          },
          "metadata": {}
        },
        {
          "output_type": "display_data",
          "data": {
            "text/plain": [
              "<IPython.core.display.Javascript object>"
            ],
            "application/javascript": [
              "window[\"472ecf98-ba19-11ed-9901-0242ac1c000c\"] = google.colab.output.setActiveOutputArea(window[\"470cca10-ba19-11ed-9901-0242ac1c000c\"]);\n",
              "//# sourceURL=js_877eeecf05"
            ]
          },
          "metadata": {}
        },
        {
          "output_type": "display_data",
          "data": {
            "text/plain": [
              "<IPython.core.display.Javascript object>"
            ],
            "application/javascript": [
              "window[\"47c9e136-ba19-11ed-9901-0242ac1c000c\"] = google.colab.output.getActiveOutputArea();\n",
              "//# sourceURL=js_f9f24e87b0"
            ]
          },
          "metadata": {}
        },
        {
          "output_type": "display_data",
          "data": {
            "text/plain": [
              "<IPython.core.display.Javascript object>"
            ],
            "application/javascript": [
              "window[\"47ca7ace-ba19-11ed-9901-0242ac1c000c\"] = document.querySelector(\"#id26-0-0\");\n",
              "//# sourceURL=js_eb3eb32acd"
            ]
          },
          "metadata": {}
        },
        {
          "output_type": "display_data",
          "data": {
            "text/plain": [
              "<IPython.core.display.Javascript object>"
            ],
            "application/javascript": [
              "window[\"47cb0ed0-ba19-11ed-9901-0242ac1c000c\"] = google.colab.output.setActiveOutputArea(window[\"47ca7ace-ba19-11ed-9901-0242ac1c000c\"]);\n",
              "//# sourceURL=js_e569f5bcf8"
            ]
          },
          "metadata": {}
        },
        {
          "output_type": "display_data",
          "data": {
            "text/plain": [
              "<IPython.core.display.Javascript object>"
            ],
            "application/javascript": [
              "window[\"47ea2400-ba19-11ed-9901-0242ac1c000c\"] = google.colab.output.setActiveOutputArea(window[\"47c9e136-ba19-11ed-9901-0242ac1c000c\"]);\n",
              "//# sourceURL=js_2252d124ee"
            ]
          },
          "metadata": {}
        },
        {
          "output_type": "display_data",
          "data": {
            "text/plain": [
              "<IPython.core.display.Javascript object>"
            ],
            "application/javascript": [
              "window[\"4884ea94-ba19-11ed-9901-0242ac1c000c\"] = google.colab.output.getActiveOutputArea();\n",
              "//# sourceURL=js_881d663baa"
            ]
          },
          "metadata": {}
        },
        {
          "output_type": "display_data",
          "data": {
            "text/plain": [
              "<IPython.core.display.Javascript object>"
            ],
            "application/javascript": [
              "window[\"48854516-ba19-11ed-9901-0242ac1c000c\"] = document.querySelector(\"#id26-0-0\");\n",
              "//# sourceURL=js_8320832121"
            ]
          },
          "metadata": {}
        },
        {
          "output_type": "display_data",
          "data": {
            "text/plain": [
              "<IPython.core.display.Javascript object>"
            ],
            "application/javascript": [
              "window[\"4886b1b2-ba19-11ed-9901-0242ac1c000c\"] = google.colab.output.setActiveOutputArea(window[\"48854516-ba19-11ed-9901-0242ac1c000c\"]);\n",
              "//# sourceURL=js_b87c1a2bdb"
            ]
          },
          "metadata": {}
        },
        {
          "output_type": "display_data",
          "data": {
            "text/plain": [
              "<IPython.core.display.Javascript object>"
            ],
            "application/javascript": [
              "window[\"48c40a6c-ba19-11ed-9901-0242ac1c000c\"] = google.colab.output.setActiveOutputArea(window[\"4884ea94-ba19-11ed-9901-0242ac1c000c\"]);\n",
              "//# sourceURL=js_34ee2708cd"
            ]
          },
          "metadata": {}
        },
        {
          "output_type": "display_data",
          "data": {
            "text/plain": [
              "<IPython.core.display.Javascript object>"
            ],
            "application/javascript": [
              "window[\"495f73e4-ba19-11ed-9901-0242ac1c000c\"] = google.colab.output.getActiveOutputArea();\n",
              "//# sourceURL=js_00a6c8e56a"
            ]
          },
          "metadata": {}
        },
        {
          "output_type": "display_data",
          "data": {
            "text/plain": [
              "<IPython.core.display.Javascript object>"
            ],
            "application/javascript": [
              "window[\"495fdadc-ba19-11ed-9901-0242ac1c000c\"] = document.querySelector(\"#id26-0-0\");\n",
              "//# sourceURL=js_2c1d0fdcce"
            ]
          },
          "metadata": {}
        },
        {
          "output_type": "display_data",
          "data": {
            "text/plain": [
              "<IPython.core.display.Javascript object>"
            ],
            "application/javascript": [
              "window[\"49604940-ba19-11ed-9901-0242ac1c000c\"] = google.colab.output.setActiveOutputArea(window[\"495fdadc-ba19-11ed-9901-0242ac1c000c\"]);\n",
              "//# sourceURL=js_1dea0893e0"
            ]
          },
          "metadata": {}
        },
        {
          "output_type": "display_data",
          "data": {
            "text/plain": [
              "<IPython.core.display.Javascript object>"
            ],
            "application/javascript": [
              "window[\"4980030c-ba19-11ed-9901-0242ac1c000c\"] = google.colab.output.setActiveOutputArea(window[\"495f73e4-ba19-11ed-9901-0242ac1c000c\"]);\n",
              "//# sourceURL=js_06ee08a865"
            ]
          },
          "metadata": {}
        },
        {
          "output_type": "display_data",
          "data": {
            "text/plain": [
              "<IPython.core.display.Javascript object>"
            ],
            "application/javascript": [
              "window[\"4a1b6b3a-ba19-11ed-9901-0242ac1c000c\"] = google.colab.output.getActiveOutputArea();\n",
              "//# sourceURL=js_951ddb0b66"
            ]
          },
          "metadata": {}
        },
        {
          "output_type": "display_data",
          "data": {
            "text/plain": [
              "<IPython.core.display.Javascript object>"
            ],
            "application/javascript": [
              "window[\"4a1be402-ba19-11ed-9901-0242ac1c000c\"] = document.querySelector(\"#id26-0-0\");\n",
              "//# sourceURL=js_b46d1d7f30"
            ]
          },
          "metadata": {}
        },
        {
          "output_type": "display_data",
          "data": {
            "text/plain": [
              "<IPython.core.display.Javascript object>"
            ],
            "application/javascript": [
              "window[\"4a1c5ea0-ba19-11ed-9901-0242ac1c000c\"] = google.colab.output.setActiveOutputArea(window[\"4a1be402-ba19-11ed-9901-0242ac1c000c\"]);\n",
              "//# sourceURL=js_5abdab3168"
            ]
          },
          "metadata": {}
        },
        {
          "output_type": "display_data",
          "data": {
            "text/plain": [
              "<IPython.core.display.Javascript object>"
            ],
            "application/javascript": [
              "window[\"4a3ea866-ba19-11ed-9901-0242ac1c000c\"] = google.colab.output.setActiveOutputArea(window[\"4a1b6b3a-ba19-11ed-9901-0242ac1c000c\"]);\n",
              "//# sourceURL=js_e51fe70238"
            ]
          },
          "metadata": {}
        },
        {
          "output_type": "display_data",
          "data": {
            "text/plain": [
              "<IPython.core.display.Javascript object>"
            ],
            "application/javascript": [
              "window[\"4ad94182-ba19-11ed-9901-0242ac1c000c\"] = google.colab.output.getActiveOutputArea();\n",
              "//# sourceURL=js_c13fe83104"
            ]
          },
          "metadata": {}
        },
        {
          "output_type": "display_data",
          "data": {
            "text/plain": [
              "<IPython.core.display.Javascript object>"
            ],
            "application/javascript": [
              "window[\"4ad9bf18-ba19-11ed-9901-0242ac1c000c\"] = document.querySelector(\"#id26-0-0\");\n",
              "//# sourceURL=js_59d21aa6ff"
            ]
          },
          "metadata": {}
        },
        {
          "output_type": "display_data",
          "data": {
            "text/plain": [
              "<IPython.core.display.Javascript object>"
            ],
            "application/javascript": [
              "window[\"4ada2782-ba19-11ed-9901-0242ac1c000c\"] = google.colab.output.setActiveOutputArea(window[\"4ad9bf18-ba19-11ed-9901-0242ac1c000c\"]);\n",
              "//# sourceURL=js_91f7b6b2ee"
            ]
          },
          "metadata": {}
        },
        {
          "output_type": "display_data",
          "data": {
            "text/plain": [
              "<IPython.core.display.Javascript object>"
            ],
            "application/javascript": [
              "window[\"4afb5376-ba19-11ed-9901-0242ac1c000c\"] = google.colab.output.setActiveOutputArea(window[\"4ad94182-ba19-11ed-9901-0242ac1c000c\"]);\n",
              "//# sourceURL=js_7d2db3a1b7"
            ]
          },
          "metadata": {}
        },
        {
          "output_type": "display_data",
          "data": {
            "text/plain": [
              "<IPython.core.display.Javascript object>"
            ],
            "application/javascript": [
              "window[\"4b961cc6-ba19-11ed-9901-0242ac1c000c\"] = google.colab.output.getActiveOutputArea();\n",
              "//# sourceURL=js_22185908aa"
            ]
          },
          "metadata": {}
        },
        {
          "output_type": "display_data",
          "data": {
            "text/plain": [
              "<IPython.core.display.Javascript object>"
            ],
            "application/javascript": [
              "window[\"4b96b1cc-ba19-11ed-9901-0242ac1c000c\"] = document.querySelector(\"#id26-0-0\");\n",
              "//# sourceURL=js_267d43bd47"
            ]
          },
          "metadata": {}
        },
        {
          "output_type": "display_data",
          "data": {
            "text/plain": [
              "<IPython.core.display.Javascript object>"
            ],
            "application/javascript": [
              "window[\"4b977116-ba19-11ed-9901-0242ac1c000c\"] = google.colab.output.setActiveOutputArea(window[\"4b96b1cc-ba19-11ed-9901-0242ac1c000c\"]);\n",
              "//# sourceURL=js_68d3897d23"
            ]
          },
          "metadata": {}
        },
        {
          "output_type": "display_data",
          "data": {
            "text/plain": [
              "<IPython.core.display.Javascript object>"
            ],
            "application/javascript": [
              "window[\"4bb7e9e6-ba19-11ed-9901-0242ac1c000c\"] = google.colab.output.setActiveOutputArea(window[\"4b961cc6-ba19-11ed-9901-0242ac1c000c\"]);\n",
              "//# sourceURL=js_757d6bbc9c"
            ]
          },
          "metadata": {}
        },
        {
          "output_type": "display_data",
          "data": {
            "text/plain": [
              "<IPython.core.display.Javascript object>"
            ],
            "application/javascript": [
              "window[\"4c5364e8-ba19-11ed-9901-0242ac1c000c\"] = google.colab.output.getActiveOutputArea();\n",
              "//# sourceURL=js_4956dbe47e"
            ]
          },
          "metadata": {}
        },
        {
          "output_type": "display_data",
          "data": {
            "text/plain": [
              "<IPython.core.display.Javascript object>"
            ],
            "application/javascript": [
              "window[\"4c53dbee-ba19-11ed-9901-0242ac1c000c\"] = document.querySelector(\"#id26-0-0\");\n",
              "//# sourceURL=js_bd16eea54e"
            ]
          },
          "metadata": {}
        },
        {
          "output_type": "display_data",
          "data": {
            "text/plain": [
              "<IPython.core.display.Javascript object>"
            ],
            "application/javascript": [
              "window[\"4c546bfe-ba19-11ed-9901-0242ac1c000c\"] = google.colab.output.setActiveOutputArea(window[\"4c53dbee-ba19-11ed-9901-0242ac1c000c\"]);\n",
              "//# sourceURL=js_8ceb86f0be"
            ]
          },
          "metadata": {}
        },
        {
          "output_type": "display_data",
          "data": {
            "text/plain": [
              "<IPython.core.display.Javascript object>"
            ],
            "application/javascript": [
              "window[\"4c767334-ba19-11ed-9901-0242ac1c000c\"] = google.colab.output.setActiveOutputArea(window[\"4c5364e8-ba19-11ed-9901-0242ac1c000c\"]);\n",
              "//# sourceURL=js_d5d8469ba8"
            ]
          },
          "metadata": {}
        },
        {
          "output_type": "display_data",
          "data": {
            "text/plain": [
              "<IPython.core.display.Javascript object>"
            ],
            "application/javascript": [
              "window[\"4d117d66-ba19-11ed-9901-0242ac1c000c\"] = google.colab.output.getActiveOutputArea();\n",
              "//# sourceURL=js_61faa2ff74"
            ]
          },
          "metadata": {}
        },
        {
          "output_type": "display_data",
          "data": {
            "text/plain": [
              "<IPython.core.display.Javascript object>"
            ],
            "application/javascript": [
              "window[\"4d124098-ba19-11ed-9901-0242ac1c000c\"] = document.querySelector(\"#id26-0-0\");\n",
              "//# sourceURL=js_4a21f9983e"
            ]
          },
          "metadata": {}
        },
        {
          "output_type": "display_data",
          "data": {
            "text/plain": [
              "<IPython.core.display.Javascript object>"
            ],
            "application/javascript": [
              "window[\"4d12f894-ba19-11ed-9901-0242ac1c000c\"] = google.colab.output.setActiveOutputArea(window[\"4d124098-ba19-11ed-9901-0242ac1c000c\"]);\n",
              "//# sourceURL=js_07cfa5934a"
            ]
          },
          "metadata": {}
        },
        {
          "output_type": "stream",
          "name": "stdout",
          "text": [
            "Reward ->  10\n"
          ]
        },
        {
          "output_type": "display_data",
          "data": {
            "text/plain": [
              "<Figure size 432x288 with 1 Axes>"
            ],
            "image/png": "[encoded data removed]"
          },
          "metadata": {
            "needs_background": "light"
          }
        },
        {
          "output_type": "display_data",
          "data": {
            "text/plain": [
              "<IPython.core.display.Javascript object>"
            ],
            "application/javascript": [
              "window[\"4d411f94-ba19-11ed-9901-0242ac1c000c\"] = google.colab.output.setActiveOutputArea(window[\"4d117d66-ba19-11ed-9901-0242ac1c000c\"]);\n",
              "//# sourceURL=js_50cfccbe66"
            ]
          },
          "metadata": {}
        }
      ]
    },
    {
      "cell_type": "markdown",
      "source": [
        "**Testing Q-Values with 5x5 Grid Environment - Stochastic**"
      ],
      "metadata": {
        "id": "cnZYfyTuYMj6"
      }
    },
    {
      "cell_type": "code",
      "source": [
        "env = GridEnv(env_type = \"stochastic\")\n",
        "agent = RandomAgent(env)\n",
        "\n",
        "obs, info = env.reset()\n",
        "terminated, truncated = False, False\n",
        "\n",
        "output_grid = widgets.Grid(1, 1)\n",
        "with output_grid.output_to(0, 0):\n",
        "  env.render()\n",
        "\n",
        "def get_max_val(arg):\n",
        "  return max(arg)\n",
        "  \n",
        "for i in q_table_stoc:\n",
        "  max_val = get_max_val(i)\n",
        "  # print(type(i))\n",
        "  i_to_list = i.tolist()\n",
        "  max_index = i_to_list.index(max_val)\n",
        "  # print(max_index)\n",
        "  observation, reward, terminated, truncated, info, agent_pos = env.step(max_index)\n",
        "  # observation, reward, terminated, truncated, info, agent_pos = env.step(action)\n",
        "  with output_grid.output_to(0, 0):\n",
        "    output_grid.clear_cell()\n",
        "    plt.imshow(grid)\n",
        "    env.render()\n",
        "  time.sleep(1)\n",
        "\n",
        "  "
      ],
      "metadata": {
        "id": "exIvEGhORvOv",
        "outputId": "f721ae7e-9260-47dd-c233-8feaf9da84b5",
        "colab": {
          "base_uri": "https://localhost:8080/",
          "height": 287
        }
      },
      "execution_count": 223,
      "outputs": [
        {
          "output_type": "display_data",
          "data": {
            "text/plain": [
              "<IPython.core.display.HTML object>"
            ],
            "text/html": [
              "<style>\n",
              "       table#id28, #id28 > tbody > tr > th, #id28 > tbody > tr > td {\n",
              "         border: 1px solid lightgray;\n",
              "         border-collapse:collapse;\n",
              "         \n",
              "        }</style>"
            ]
          },
          "metadata": {}
        },
        {
          "output_type": "display_data",
          "data": {
            "text/plain": [
              "<IPython.core.display.HTML object>"
            ],
            "text/html": [
              "<table id=id28><tr><td id=id28-0-0></td></tr></table>"
            ]
          },
          "metadata": {}
        },
        {
          "output_type": "display_data",
          "data": {
            "text/plain": [
              "<IPython.core.display.Javascript object>"
            ],
            "application/javascript": [
              "window[\"50382008-ba19-11ed-9901-0242ac1c000c\"] = google.colab.output.getActiveOutputArea();\n",
              "//# sourceURL=js_e0fff24d4a"
            ]
          },
          "metadata": {}
        },
        {
          "output_type": "display_data",
          "data": {
            "text/plain": [
              "<IPython.core.display.Javascript object>"
            ],
            "application/javascript": [
              "window[\"5038a708-ba19-11ed-9901-0242ac1c000c\"] = document.querySelector(\"#id28-0-0\");\n",
              "//# sourceURL=js_be3f5a62ee"
            ]
          },
          "metadata": {}
        },
        {
          "output_type": "display_data",
          "data": {
            "text/plain": [
              "<IPython.core.display.Javascript object>"
            ],
            "application/javascript": [
              "window[\"503904c8-ba19-11ed-9901-0242ac1c000c\"] = google.colab.output.setActiveOutputArea(window[\"5038a708-ba19-11ed-9901-0242ac1c000c\"]);\n",
              "//# sourceURL=js_2f0d131bb6"
            ]
          },
          "metadata": {}
        },
        {
          "output_type": "display_data",
          "data": {
            "text/plain": [
              "<IPython.core.display.Javascript object>"
            ],
            "application/javascript": [
              "window[\"50574ea6-ba19-11ed-9901-0242ac1c000c\"] = google.colab.output.setActiveOutputArea(window[\"50382008-ba19-11ed-9901-0242ac1c000c\"]);\n",
              "//# sourceURL=js_6fab9563b7"
            ]
          },
          "metadata": {}
        },
        {
          "output_type": "display_data",
          "data": {
            "text/plain": [
              "<IPython.core.display.Javascript object>"
            ],
            "application/javascript": [
              "window[\"505a1da2-ba19-11ed-9901-0242ac1c000c\"] = google.colab.output.getActiveOutputArea();\n",
              "//# sourceURL=js_58c9ff4066"
            ]
          },
          "metadata": {}
        },
        {
          "output_type": "display_data",
          "data": {
            "text/plain": [
              "<IPython.core.display.Javascript object>"
            ],
            "application/javascript": [
              "window[\"505a7c0c-ba19-11ed-9901-0242ac1c000c\"] = document.querySelector(\"#id28-0-0\");\n",
              "//# sourceURL=js_c40696013e"
            ]
          },
          "metadata": {}
        },
        {
          "output_type": "display_data",
          "data": {
            "text/plain": [
              "<IPython.core.display.Javascript object>"
            ],
            "application/javascript": [
              "window[\"505ae872-ba19-11ed-9901-0242ac1c000c\"] = google.colab.output.setActiveOutputArea(window[\"505a7c0c-ba19-11ed-9901-0242ac1c000c\"]);\n",
              "//# sourceURL=js_dccfe882d6"
            ]
          },
          "metadata": {}
        },
        {
          "output_type": "display_data",
          "data": {
            "text/plain": [
              "<IPython.core.display.Javascript object>"
            ],
            "application/javascript": [
              "window[\"507ac1c4-ba19-11ed-9901-0242ac1c000c\"] = google.colab.output.setActiveOutputArea(window[\"505a1da2-ba19-11ed-9901-0242ac1c000c\"]);\n",
              "//# sourceURL=js_8cc2302768"
            ]
          },
          "metadata": {}
        },
        {
          "output_type": "display_data",
          "data": {
            "text/plain": [
              "<IPython.core.display.Javascript object>"
            ],
            "application/javascript": [
              "window[\"5115d40c-ba19-11ed-9901-0242ac1c000c\"] = google.colab.output.getActiveOutputArea();\n",
              "//# sourceURL=js_cc5d1b57b0"
            ]
          },
          "metadata": {}
        },
        {
          "output_type": "display_data",
          "data": {
            "text/plain": [
              "<IPython.core.display.Javascript object>"
            ],
            "application/javascript": [
              "window[\"511647ac-ba19-11ed-9901-0242ac1c000c\"] = document.querySelector(\"#id28-0-0\");\n",
              "//# sourceURL=js_c1d66a99f4"
            ]
          },
          "metadata": {}
        },
        {
          "output_type": "display_data",
          "data": {
            "text/plain": [
              "<IPython.core.display.Javascript object>"
            ],
            "application/javascript": [
              "window[\"5116b0de-ba19-11ed-9901-0242ac1c000c\"] = google.colab.output.setActiveOutputArea(window[\"511647ac-ba19-11ed-9901-0242ac1c000c\"]);\n",
              "//# sourceURL=js_eeeb9de15a"
            ]
          },
          "metadata": {}
        },
        {
          "output_type": "display_data",
          "data": {
            "text/plain": [
              "<IPython.core.display.Javascript object>"
            ],
            "application/javascript": [
              "window[\"5135e8f0-ba19-11ed-9901-0242ac1c000c\"] = google.colab.output.setActiveOutputArea(window[\"5115d40c-ba19-11ed-9901-0242ac1c000c\"]);\n",
              "//# sourceURL=js_ee3076ff15"
            ]
          },
          "metadata": {}
        },
        {
          "output_type": "display_data",
          "data": {
            "text/plain": [
              "<IPython.core.display.Javascript object>"
            ],
            "application/javascript": [
              "window[\"51d120c2-ba19-11ed-9901-0242ac1c000c\"] = google.colab.output.getActiveOutputArea();\n",
              "//# sourceURL=js_888aa32322"
            ]
          },
          "metadata": {}
        },
        {
          "output_type": "display_data",
          "data": {
            "text/plain": [
              "<IPython.core.display.Javascript object>"
            ],
            "application/javascript": [
              "window[\"51d19084-ba19-11ed-9901-0242ac1c000c\"] = document.querySelector(\"#id28-0-0\");\n",
              "//# sourceURL=js_443f68b133"
            ]
          },
          "metadata": {}
        },
        {
          "output_type": "display_data",
          "data": {
            "text/plain": [
              "<IPython.core.display.Javascript object>"
            ],
            "application/javascript": [
              "window[\"51d24f60-ba19-11ed-9901-0242ac1c000c\"] = google.colab.output.setActiveOutputArea(window[\"51d19084-ba19-11ed-9901-0242ac1c000c\"]);\n",
              "//# sourceURL=js_b783429dc3"
            ]
          },
          "metadata": {}
        },
        {
          "output_type": "display_data",
          "data": {
            "text/plain": [
              "<IPython.core.display.Javascript object>"
            ],
            "application/javascript": [
              "window[\"51f1ea00-ba19-11ed-9901-0242ac1c000c\"] = google.colab.output.setActiveOutputArea(window[\"51d120c2-ba19-11ed-9901-0242ac1c000c\"]);\n",
              "//# sourceURL=js_b9b746bea5"
            ]
          },
          "metadata": {}
        },
        {
          "output_type": "display_data",
          "data": {
            "text/plain": [
              "<IPython.core.display.Javascript object>"
            ],
            "application/javascript": [
              "window[\"528cddda-ba19-11ed-9901-0242ac1c000c\"] = google.colab.output.getActiveOutputArea();\n",
              "//# sourceURL=js_4e0b3ec198"
            ]
          },
          "metadata": {}
        },
        {
          "output_type": "display_data",
          "data": {
            "text/plain": [
              "<IPython.core.display.Javascript object>"
            ],
            "application/javascript": [
              "window[\"528d5b98-ba19-11ed-9901-0242ac1c000c\"] = document.querySelector(\"#id28-0-0\");\n",
              "//# sourceURL=js_0cdf0ca6fb"
            ]
          },
          "metadata": {}
        },
        {
          "output_type": "display_data",
          "data": {
            "text/plain": [
              "<IPython.core.display.Javascript object>"
            ],
            "application/javascript": [
              "window[\"528dc204-ba19-11ed-9901-0242ac1c000c\"] = google.colab.output.setActiveOutputArea(window[\"528d5b98-ba19-11ed-9901-0242ac1c000c\"]);\n",
              "//# sourceURL=js_e640c01eba"
            ]
          },
          "metadata": {}
        },
        {
          "output_type": "display_data",
          "data": {
            "text/plain": [
              "<IPython.core.display.Javascript object>"
            ],
            "application/javascript": [
              "window[\"52ad2e5a-ba19-11ed-9901-0242ac1c000c\"] = google.colab.output.setActiveOutputArea(window[\"528cddda-ba19-11ed-9901-0242ac1c000c\"]);\n",
              "//# sourceURL=js_157f3e7826"
            ]
          },
          "metadata": {}
        },
        {
          "output_type": "display_data",
          "data": {
            "text/plain": [
              "<IPython.core.display.Javascript object>"
            ],
            "application/javascript": [
              "window[\"53482ce8-ba19-11ed-9901-0242ac1c000c\"] = google.colab.output.getActiveOutputArea();\n",
              "//# sourceURL=js_00fbef0f74"
            ]
          },
          "metadata": {}
        },
        {
          "output_type": "display_data",
          "data": {
            "text/plain": [
              "<IPython.core.display.Javascript object>"
            ],
            "application/javascript": [
              "window[\"5348cb12-ba19-11ed-9901-0242ac1c000c\"] = document.querySelector(\"#id28-0-0\");\n",
              "//# sourceURL=js_845a1249a0"
            ]
          },
          "metadata": {}
        },
        {
          "output_type": "display_data",
          "data": {
            "text/plain": [
              "<IPython.core.display.Javascript object>"
            ],
            "application/javascript": [
              "window[\"534939da-ba19-11ed-9901-0242ac1c000c\"] = google.colab.output.setActiveOutputArea(window[\"5348cb12-ba19-11ed-9901-0242ac1c000c\"]);\n",
              "//# sourceURL=js_2289291ed0"
            ]
          },
          "metadata": {}
        },
        {
          "output_type": "display_data",
          "data": {
            "text/plain": [
              "<IPython.core.display.Javascript object>"
            ],
            "application/javascript": [
              "window[\"53697132-ba19-11ed-9901-0242ac1c000c\"] = google.colab.output.setActiveOutputArea(window[\"53482ce8-ba19-11ed-9901-0242ac1c000c\"]);\n",
              "//# sourceURL=js_12157e7d2f"
            ]
          },
          "metadata": {}
        },
        {
          "output_type": "display_data",
          "data": {
            "text/plain": [
              "<IPython.core.display.Javascript object>"
            ],
            "application/javascript": [
              "window[\"54048668-ba19-11ed-9901-0242ac1c000c\"] = google.colab.output.getActiveOutputArea();\n",
              "//# sourceURL=js_49f600212c"
            ]
          },
          "metadata": {}
        },
        {
          "output_type": "display_data",
          "data": {
            "text/plain": [
              "<IPython.core.display.Javascript object>"
            ],
            "application/javascript": [
              "window[\"54054292-ba19-11ed-9901-0242ac1c000c\"] = document.querySelector(\"#id28-0-0\");\n",
              "//# sourceURL=js_f987f7bb7e"
            ]
          },
          "metadata": {}
        },
        {
          "output_type": "display_data",
          "data": {
            "text/plain": [
              "<IPython.core.display.Javascript object>"
            ],
            "application/javascript": [
              "window[\"5405b88a-ba19-11ed-9901-0242ac1c000c\"] = google.colab.output.setActiveOutputArea(window[\"54054292-ba19-11ed-9901-0242ac1c000c\"]);\n",
              "//# sourceURL=js_31f0a7a413"
            ]
          },
          "metadata": {}
        },
        {
          "output_type": "display_data",
          "data": {
            "text/plain": [
              "<IPython.core.display.Javascript object>"
            ],
            "application/javascript": [
              "window[\"5438fcea-ba19-11ed-9901-0242ac1c000c\"] = google.colab.output.setActiveOutputArea(window[\"54048668-ba19-11ed-9901-0242ac1c000c\"]);\n",
              "//# sourceURL=js_41a6a642bd"
            ]
          },
          "metadata": {}
        },
        {
          "output_type": "display_data",
          "data": {
            "text/plain": [
              "<IPython.core.display.Javascript object>"
            ],
            "application/javascript": [
              "window[\"54d4e4a2-ba19-11ed-9901-0242ac1c000c\"] = google.colab.output.getActiveOutputArea();\n",
              "//# sourceURL=js_55dddafa38"
            ]
          },
          "metadata": {}
        },
        {
          "output_type": "display_data",
          "data": {
            "text/plain": [
              "<IPython.core.display.Javascript object>"
            ],
            "application/javascript": [
              "window[\"54d55784-ba19-11ed-9901-0242ac1c000c\"] = document.querySelector(\"#id28-0-0\");\n",
              "//# sourceURL=js_a4b5392f92"
            ]
          },
          "metadata": {}
        },
        {
          "output_type": "display_data",
          "data": {
            "text/plain": [
              "<IPython.core.display.Javascript object>"
            ],
            "application/javascript": [
              "window[\"54d63762-ba19-11ed-9901-0242ac1c000c\"] = google.colab.output.setActiveOutputArea(window[\"54d55784-ba19-11ed-9901-0242ac1c000c\"]);\n",
              "//# sourceURL=js_416ecf09a5"
            ]
          },
          "metadata": {}
        },
        {
          "output_type": "display_data",
          "data": {
            "text/plain": [
              "<IPython.core.display.Javascript object>"
            ],
            "application/javascript": [
              "window[\"54feff80-ba19-11ed-9901-0242ac1c000c\"] = google.colab.output.setActiveOutputArea(window[\"54d4e4a2-ba19-11ed-9901-0242ac1c000c\"]);\n",
              "//# sourceURL=js_35224c6d4b"
            ]
          },
          "metadata": {}
        },
        {
          "output_type": "display_data",
          "data": {
            "text/plain": [
              "<IPython.core.display.Javascript object>"
            ],
            "application/javascript": [
              "window[\"559a12cc-ba19-11ed-9901-0242ac1c000c\"] = google.colab.output.getActiveOutputArea();\n",
              "//# sourceURL=js_da6df71c43"
            ]
          },
          "metadata": {}
        },
        {
          "output_type": "display_data",
          "data": {
            "text/plain": [
              "<IPython.core.display.Javascript object>"
            ],
            "application/javascript": [
              "window[\"559a7b54-ba19-11ed-9901-0242ac1c000c\"] = document.querySelector(\"#id28-0-0\");\n",
              "//# sourceURL=js_040a8b0326"
            ]
          },
          "metadata": {}
        },
        {
          "output_type": "display_data",
          "data": {
            "text/plain": [
              "<IPython.core.display.Javascript object>"
            ],
            "application/javascript": [
              "window[\"559ae1de-ba19-11ed-9901-0242ac1c000c\"] = google.colab.output.setActiveOutputArea(window[\"559a7b54-ba19-11ed-9901-0242ac1c000c\"]);\n",
              "//# sourceURL=js_034939fead"
            ]
          },
          "metadata": {}
        },
        {
          "output_type": "display_data",
          "data": {
            "text/plain": [
              "<IPython.core.display.Javascript object>"
            ],
            "application/javascript": [
              "window[\"55bac080-ba19-11ed-9901-0242ac1c000c\"] = google.colab.output.setActiveOutputArea(window[\"559a12cc-ba19-11ed-9901-0242ac1c000c\"]);\n",
              "//# sourceURL=js_4582f21139"
            ]
          },
          "metadata": {}
        },
        {
          "output_type": "display_data",
          "data": {
            "text/plain": [
              "<IPython.core.display.Javascript object>"
            ],
            "application/javascript": [
              "window[\"5655b626-ba19-11ed-9901-0242ac1c000c\"] = google.colab.output.getActiveOutputArea();\n",
              "//# sourceURL=js_6a7db829a6"
            ]
          },
          "metadata": {}
        },
        {
          "output_type": "display_data",
          "data": {
            "text/plain": [
              "<IPython.core.display.Javascript object>"
            ],
            "application/javascript": [
              "window[\"5656509a-ba19-11ed-9901-0242ac1c000c\"] = document.querySelector(\"#id28-0-0\");\n",
              "//# sourceURL=js_90ce2fde86"
            ]
          },
          "metadata": {}
        },
        {
          "output_type": "display_data",
          "data": {
            "text/plain": [
              "<IPython.core.display.Javascript object>"
            ],
            "application/javascript": [
              "window[\"5656dd9e-ba19-11ed-9901-0242ac1c000c\"] = google.colab.output.setActiveOutputArea(window[\"5656509a-ba19-11ed-9901-0242ac1c000c\"]);\n",
              "//# sourceURL=js_edcadd3536"
            ]
          },
          "metadata": {}
        },
        {
          "output_type": "display_data",
          "data": {
            "text/plain": [
              "<IPython.core.display.Javascript object>"
            ],
            "application/javascript": [
              "window[\"56764b0c-ba19-11ed-9901-0242ac1c000c\"] = google.colab.output.setActiveOutputArea(window[\"5655b626-ba19-11ed-9901-0242ac1c000c\"]);\n",
              "//# sourceURL=js_70715d94b6"
            ]
          },
          "metadata": {}
        },
        {
          "output_type": "display_data",
          "data": {
            "text/plain": [
              "<IPython.core.display.Javascript object>"
            ],
            "application/javascript": [
              "window[\"5711b0ce-ba19-11ed-9901-0242ac1c000c\"] = google.colab.output.getActiveOutputArea();\n",
              "//# sourceURL=js_683263ef01"
            ]
          },
          "metadata": {}
        },
        {
          "output_type": "display_data",
          "data": {
            "text/plain": [
              "<IPython.core.display.Javascript object>"
            ],
            "application/javascript": [
              "window[\"571282ce-ba19-11ed-9901-0242ac1c000c\"] = document.querySelector(\"#id28-0-0\");\n",
              "//# sourceURL=js_270fd43b32"
            ]
          },
          "metadata": {}
        },
        {
          "output_type": "display_data",
          "data": {
            "text/plain": [
              "<IPython.core.display.Javascript object>"
            ],
            "application/javascript": [
              "window[\"5713385e-ba19-11ed-9901-0242ac1c000c\"] = google.colab.output.setActiveOutputArea(window[\"571282ce-ba19-11ed-9901-0242ac1c000c\"]);\n",
              "//# sourceURL=js_dfed718dfe"
            ]
          },
          "metadata": {}
        },
        {
          "output_type": "display_data",
          "data": {
            "text/plain": [
              "<IPython.core.display.Javascript object>"
            ],
            "application/javascript": [
              "window[\"57351708-ba19-11ed-9901-0242ac1c000c\"] = google.colab.output.setActiveOutputArea(window[\"5711b0ce-ba19-11ed-9901-0242ac1c000c\"]);\n",
              "//# sourceURL=js_9a677889de"
            ]
          },
          "metadata": {}
        },
        {
          "output_type": "display_data",
          "data": {
            "text/plain": [
              "<IPython.core.display.Javascript object>"
            ],
            "application/javascript": [
              "window[\"57d0691a-ba19-11ed-9901-0242ac1c000c\"] = google.colab.output.getActiveOutputArea();\n",
              "//# sourceURL=js_e913cf9134"
            ]
          },
          "metadata": {}
        },
        {
          "output_type": "display_data",
          "data": {
            "text/plain": [
              "<IPython.core.display.Javascript object>"
            ],
            "application/javascript": [
              "window[\"57d1123e-ba19-11ed-9901-0242ac1c000c\"] = document.querySelector(\"#id28-0-0\");\n",
              "//# sourceURL=js_ab1ec64d42"
            ]
          },
          "metadata": {}
        },
        {
          "output_type": "display_data",
          "data": {
            "text/plain": [
              "<IPython.core.display.Javascript object>"
            ],
            "application/javascript": [
              "window[\"57d18fac-ba19-11ed-9901-0242ac1c000c\"] = google.colab.output.setActiveOutputArea(window[\"57d1123e-ba19-11ed-9901-0242ac1c000c\"]);\n",
              "//# sourceURL=js_813d542694"
            ]
          },
          "metadata": {}
        },
        {
          "output_type": "display_data",
          "data": {
            "text/plain": [
              "<IPython.core.display.Javascript object>"
            ],
            "application/javascript": [
              "window[\"57f1efcc-ba19-11ed-9901-0242ac1c000c\"] = google.colab.output.setActiveOutputArea(window[\"57d0691a-ba19-11ed-9901-0242ac1c000c\"]);\n",
              "//# sourceURL=js_4e2d28ea35"
            ]
          },
          "metadata": {}
        },
        {
          "output_type": "display_data",
          "data": {
            "text/plain": [
              "<IPython.core.display.Javascript object>"
            ],
            "application/javascript": [
              "window[\"588dff5c-ba19-11ed-9901-0242ac1c000c\"] = google.colab.output.getActiveOutputArea();\n",
              "//# sourceURL=js_28a2659a99"
            ]
          },
          "metadata": {}
        },
        {
          "output_type": "display_data",
          "data": {
            "text/plain": [
              "<IPython.core.display.Javascript object>"
            ],
            "application/javascript": [
              "window[\"588ec72a-ba19-11ed-9901-0242ac1c000c\"] = document.querySelector(\"#id28-0-0\");\n",
              "//# sourceURL=js_7aee3d5bf0"
            ]
          },
          "metadata": {}
        },
        {
          "output_type": "display_data",
          "data": {
            "text/plain": [
              "<IPython.core.display.Javascript object>"
            ],
            "application/javascript": [
              "window[\"588f3e58-ba19-11ed-9901-0242ac1c000c\"] = google.colab.output.setActiveOutputArea(window[\"588ec72a-ba19-11ed-9901-0242ac1c000c\"]);\n",
              "//# sourceURL=js_603534e44d"
            ]
          },
          "metadata": {}
        },
        {
          "output_type": "display_data",
          "data": {
            "text/plain": [
              "<IPython.core.display.Javascript object>"
            ],
            "application/javascript": [
              "window[\"58b06204-ba19-11ed-9901-0242ac1c000c\"] = google.colab.output.setActiveOutputArea(window[\"588dff5c-ba19-11ed-9901-0242ac1c000c\"]);\n",
              "//# sourceURL=js_ebd969fc90"
            ]
          },
          "metadata": {}
        },
        {
          "output_type": "display_data",
          "data": {
            "text/plain": [
              "<IPython.core.display.Javascript object>"
            ],
            "application/javascript": [
              "window[\"594c34b8-ba19-11ed-9901-0242ac1c000c\"] = google.colab.output.getActiveOutputArea();\n",
              "//# sourceURL=js_9a54f49ce0"
            ]
          },
          "metadata": {}
        },
        {
          "output_type": "display_data",
          "data": {
            "text/plain": [
              "<IPython.core.display.Javascript object>"
            ],
            "application/javascript": [
              "window[\"594cae70-ba19-11ed-9901-0242ac1c000c\"] = document.querySelector(\"#id28-0-0\");\n",
              "//# sourceURL=js_6402482412"
            ]
          },
          "metadata": {}
        },
        {
          "output_type": "display_data",
          "data": {
            "text/plain": [
              "<IPython.core.display.Javascript object>"
            ],
            "application/javascript": [
              "window[\"594d3c00-ba19-11ed-9901-0242ac1c000c\"] = google.colab.output.setActiveOutputArea(window[\"594cae70-ba19-11ed-9901-0242ac1c000c\"]);\n",
              "//# sourceURL=js_f8b3517e7f"
            ]
          },
          "metadata": {}
        },
        {
          "output_type": "display_data",
          "data": {
            "text/plain": [
              "<IPython.core.display.Javascript object>"
            ],
            "application/javascript": [
              "window[\"596cf9b4-ba19-11ed-9901-0242ac1c000c\"] = google.colab.output.setActiveOutputArea(window[\"594c34b8-ba19-11ed-9901-0242ac1c000c\"]);\n",
              "//# sourceURL=js_929df27127"
            ]
          },
          "metadata": {}
        },
        {
          "output_type": "display_data",
          "data": {
            "text/plain": [
              "<IPython.core.display.Javascript object>"
            ],
            "application/javascript": [
              "window[\"5a0808aa-ba19-11ed-9901-0242ac1c000c\"] = google.colab.output.getActiveOutputArea();\n",
              "//# sourceURL=js_80b6306cb5"
            ]
          },
          "metadata": {}
        },
        {
          "output_type": "display_data",
          "data": {
            "text/plain": [
              "<IPython.core.display.Javascript object>"
            ],
            "application/javascript": [
              "window[\"5a0882f8-ba19-11ed-9901-0242ac1c000c\"] = document.querySelector(\"#id28-0-0\");\n",
              "//# sourceURL=js_b1d79ddefa"
            ]
          },
          "metadata": {}
        },
        {
          "output_type": "display_data",
          "data": {
            "text/plain": [
              "<IPython.core.display.Javascript object>"
            ],
            "application/javascript": [
              "window[\"5a091b32-ba19-11ed-9901-0242ac1c000c\"] = google.colab.output.setActiveOutputArea(window[\"5a0882f8-ba19-11ed-9901-0242ac1c000c\"]);\n",
              "//# sourceURL=js_6b01fd1c1b"
            ]
          },
          "metadata": {}
        },
        {
          "output_type": "display_data",
          "data": {
            "text/plain": [
              "<IPython.core.display.Javascript object>"
            ],
            "application/javascript": [
              "window[\"5a446494-ba19-11ed-9901-0242ac1c000c\"] = google.colab.output.setActiveOutputArea(window[\"5a0808aa-ba19-11ed-9901-0242ac1c000c\"]);\n",
              "//# sourceURL=js_56926484dc"
            ]
          },
          "metadata": {}
        },
        {
          "output_type": "display_data",
          "data": {
            "text/plain": [
              "<IPython.core.display.Javascript object>"
            ],
            "application/javascript": [
              "window[\"5adf9978-ba19-11ed-9901-0242ac1c000c\"] = google.colab.output.getActiveOutputArea();\n",
              "//# sourceURL=js_f8a3759d8a"
            ]
          },
          "metadata": {}
        },
        {
          "output_type": "display_data",
          "data": {
            "text/plain": [
              "<IPython.core.display.Javascript object>"
            ],
            "application/javascript": [
              "window[\"5ae0d658-ba19-11ed-9901-0242ac1c000c\"] = document.querySelector(\"#id28-0-0\");\n",
              "//# sourceURL=js_5ff00fa5c2"
            ]
          },
          "metadata": {}
        },
        {
          "output_type": "display_data",
          "data": {
            "text/plain": [
              "<IPython.core.display.Javascript object>"
            ],
            "application/javascript": [
              "window[\"5ae1c04a-ba19-11ed-9901-0242ac1c000c\"] = google.colab.output.setActiveOutputArea(window[\"5ae0d658-ba19-11ed-9901-0242ac1c000c\"]);\n",
              "//# sourceURL=js_acd29fd5d3"
            ]
          },
          "metadata": {}
        },
        {
          "output_type": "display_data",
          "data": {
            "text/plain": [
              "<IPython.core.display.Javascript object>"
            ],
            "application/javascript": [
              "window[\"5b0c7ee8-ba19-11ed-9901-0242ac1c000c\"] = google.colab.output.setActiveOutputArea(window[\"5adf9978-ba19-11ed-9901-0242ac1c000c\"]);\n",
              "//# sourceURL=js_5125a5db23"
            ]
          },
          "metadata": {}
        },
        {
          "output_type": "display_data",
          "data": {
            "text/plain": [
              "<IPython.core.display.Javascript object>"
            ],
            "application/javascript": [
              "window[\"5ba7ac88-ba19-11ed-9901-0242ac1c000c\"] = google.colab.output.getActiveOutputArea();\n",
              "//# sourceURL=js_bcf7ff4f7a"
            ]
          },
          "metadata": {}
        },
        {
          "output_type": "display_data",
          "data": {
            "text/plain": [
              "<IPython.core.display.Javascript object>"
            ],
            "application/javascript": [
              "window[\"5ba884aa-ba19-11ed-9901-0242ac1c000c\"] = document.querySelector(\"#id28-0-0\");\n",
              "//# sourceURL=js_cb9a63dc84"
            ]
          },
          "metadata": {}
        },
        {
          "output_type": "display_data",
          "data": {
            "text/plain": [
              "<IPython.core.display.Javascript object>"
            ],
            "application/javascript": [
              "window[\"5ba930e4-ba19-11ed-9901-0242ac1c000c\"] = google.colab.output.setActiveOutputArea(window[\"5ba884aa-ba19-11ed-9901-0242ac1c000c\"]);\n",
              "//# sourceURL=js_3e450ed2e0"
            ]
          },
          "metadata": {}
        },
        {
          "output_type": "display_data",
          "data": {
            "text/plain": [
              "<IPython.core.display.Javascript object>"
            ],
            "application/javascript": [
              "window[\"5bd7c42c-ba19-11ed-9901-0242ac1c000c\"] = google.colab.output.setActiveOutputArea(window[\"5ba7ac88-ba19-11ed-9901-0242ac1c000c\"]);\n",
              "//# sourceURL=js_65d7de9d13"
            ]
          },
          "metadata": {}
        },
        {
          "output_type": "display_data",
          "data": {
            "text/plain": [
              "<IPython.core.display.Javascript object>"
            ],
            "application/javascript": [
              "window[\"5c72d2aa-ba19-11ed-9901-0242ac1c000c\"] = google.colab.output.getActiveOutputArea();\n",
              "//# sourceURL=js_82bb3a0918"
            ]
          },
          "metadata": {}
        },
        {
          "output_type": "display_data",
          "data": {
            "text/plain": [
              "<IPython.core.display.Javascript object>"
            ],
            "application/javascript": [
              "window[\"5c73683c-ba19-11ed-9901-0242ac1c000c\"] = document.querySelector(\"#id28-0-0\");\n",
              "//# sourceURL=js_28d36d9a8c"
            ]
          },
          "metadata": {}
        },
        {
          "output_type": "display_data",
          "data": {
            "text/plain": [
              "<IPython.core.display.Javascript object>"
            ],
            "application/javascript": [
              "window[\"5c73e6c2-ba19-11ed-9901-0242ac1c000c\"] = google.colab.output.setActiveOutputArea(window[\"5c73683c-ba19-11ed-9901-0242ac1c000c\"]);\n",
              "//# sourceURL=js_0b06bdfdea"
            ]
          },
          "metadata": {}
        },
        {
          "output_type": "display_data",
          "data": {
            "text/plain": [
              "<IPython.core.display.Javascript object>"
            ],
            "application/javascript": [
              "window[\"5c96b5f8-ba19-11ed-9901-0242ac1c000c\"] = google.colab.output.setActiveOutputArea(window[\"5c72d2aa-ba19-11ed-9901-0242ac1c000c\"]);\n",
              "//# sourceURL=js_dc89637453"
            ]
          },
          "metadata": {}
        },
        {
          "output_type": "display_data",
          "data": {
            "text/plain": [
              "<IPython.core.display.Javascript object>"
            ],
            "application/javascript": [
              "window[\"5d318998-ba19-11ed-9901-0242ac1c000c\"] = google.colab.output.getActiveOutputArea();\n",
              "//# sourceURL=js_12ee263bb8"
            ]
          },
          "metadata": {}
        },
        {
          "output_type": "display_data",
          "data": {
            "text/plain": [
              "<IPython.core.display.Javascript object>"
            ],
            "application/javascript": [
              "window[\"5d31f7fc-ba19-11ed-9901-0242ac1c000c\"] = document.querySelector(\"#id28-0-0\");\n",
              "//# sourceURL=js_11d743409d"
            ]
          },
          "metadata": {}
        },
        {
          "output_type": "display_data",
          "data": {
            "text/plain": [
              "<IPython.core.display.Javascript object>"
            ],
            "application/javascript": [
              "window[\"5d329ec8-ba19-11ed-9901-0242ac1c000c\"] = google.colab.output.setActiveOutputArea(window[\"5d31f7fc-ba19-11ed-9901-0242ac1c000c\"]);\n",
              "//# sourceURL=js_c3c3596bf0"
            ]
          },
          "metadata": {}
        },
        {
          "output_type": "display_data",
          "data": {
            "text/plain": [
              "<IPython.core.display.Javascript object>"
            ],
            "application/javascript": [
              "window[\"5d539c68-ba19-11ed-9901-0242ac1c000c\"] = google.colab.output.setActiveOutputArea(window[\"5d318998-ba19-11ed-9901-0242ac1c000c\"]);\n",
              "//# sourceURL=js_1915cf7f9f"
            ]
          },
          "metadata": {}
        },
        {
          "output_type": "display_data",
          "data": {
            "text/plain": [
              "<IPython.core.display.Javascript object>"
            ],
            "application/javascript": [
              "window[\"5def60a8-ba19-11ed-9901-0242ac1c000c\"] = google.colab.output.getActiveOutputArea();\n",
              "//# sourceURL=js_6d904886e3"
            ]
          },
          "metadata": {}
        },
        {
          "output_type": "display_data",
          "data": {
            "text/plain": [
              "<IPython.core.display.Javascript object>"
            ],
            "application/javascript": [
              "window[\"5df01fde-ba19-11ed-9901-0242ac1c000c\"] = document.querySelector(\"#id28-0-0\");\n",
              "//# sourceURL=js_ac013fd099"
            ]
          },
          "metadata": {}
        },
        {
          "output_type": "display_data",
          "data": {
            "text/plain": [
              "<IPython.core.display.Javascript object>"
            ],
            "application/javascript": [
              "window[\"5df0970c-ba19-11ed-9901-0242ac1c000c\"] = google.colab.output.setActiveOutputArea(window[\"5df01fde-ba19-11ed-9901-0242ac1c000c\"]);\n",
              "//# sourceURL=js_cc31023a14"
            ]
          },
          "metadata": {}
        },
        {
          "output_type": "display_data",
          "data": {
            "text/plain": [
              "<IPython.core.display.Javascript object>"
            ],
            "application/javascript": [
              "window[\"5e163318-ba19-11ed-9901-0242ac1c000c\"] = google.colab.output.setActiveOutputArea(window[\"5def60a8-ba19-11ed-9901-0242ac1c000c\"]);\n",
              "//# sourceURL=js_69bdb5881e"
            ]
          },
          "metadata": {}
        },
        {
          "output_type": "display_data",
          "data": {
            "text/plain": [
              "<IPython.core.display.Javascript object>"
            ],
            "application/javascript": [
              "window[\"5eb25824-ba19-11ed-9901-0242ac1c000c\"] = google.colab.output.getActiveOutputArea();\n",
              "//# sourceURL=js_6a6957bbdc"
            ]
          },
          "metadata": {}
        },
        {
          "output_type": "display_data",
          "data": {
            "text/plain": [
              "<IPython.core.display.Javascript object>"
            ],
            "application/javascript": [
              "window[\"5eb30436-ba19-11ed-9901-0242ac1c000c\"] = document.querySelector(\"#id28-0-0\");\n",
              "//# sourceURL=js_b67c55104d"
            ]
          },
          "metadata": {}
        },
        {
          "output_type": "display_data",
          "data": {
            "text/plain": [
              "<IPython.core.display.Javascript object>"
            ],
            "application/javascript": [
              "window[\"5eb39a7c-ba19-11ed-9901-0242ac1c000c\"] = google.colab.output.setActiveOutputArea(window[\"5eb30436-ba19-11ed-9901-0242ac1c000c\"]);\n",
              "//# sourceURL=js_413ba3bf6c"
            ]
          },
          "metadata": {}
        },
        {
          "output_type": "display_data",
          "data": {
            "text/plain": [
              "<IPython.core.display.Javascript object>"
            ],
            "application/javascript": [
              "window[\"5ed3c428-ba19-11ed-9901-0242ac1c000c\"] = google.colab.output.setActiveOutputArea(window[\"5eb25824-ba19-11ed-9901-0242ac1c000c\"]);\n",
              "//# sourceURL=js_f09ecb1af1"
            ]
          },
          "metadata": {}
        },
        {
          "output_type": "display_data",
          "data": {
            "text/plain": [
              "<IPython.core.display.Javascript object>"
            ],
            "application/javascript": [
              "window[\"5f6f4344-ba19-11ed-9901-0242ac1c000c\"] = google.colab.output.getActiveOutputArea();\n",
              "//# sourceURL=js_0ca1b82fcb"
            ]
          },
          "metadata": {}
        },
        {
          "output_type": "display_data",
          "data": {
            "text/plain": [
              "<IPython.core.display.Javascript object>"
            ],
            "application/javascript": [
              "window[\"5f6fb31a-ba19-11ed-9901-0242ac1c000c\"] = document.querySelector(\"#id28-0-0\");\n",
              "//# sourceURL=js_275298314a"
            ]
          },
          "metadata": {}
        },
        {
          "output_type": "display_data",
          "data": {
            "text/plain": [
              "<IPython.core.display.Javascript object>"
            ],
            "application/javascript": [
              "window[\"5f70266a-ba19-11ed-9901-0242ac1c000c\"] = google.colab.output.setActiveOutputArea(window[\"5f6fb31a-ba19-11ed-9901-0242ac1c000c\"]);\n",
              "//# sourceURL=js_4e70b8ad81"
            ]
          },
          "metadata": {}
        },
        {
          "output_type": "display_data",
          "data": {
            "text/plain": [
              "<IPython.core.display.Javascript object>"
            ],
            "application/javascript": [
              "window[\"5f934bcc-ba19-11ed-9901-0242ac1c000c\"] = google.colab.output.setActiveOutputArea(window[\"5f6f4344-ba19-11ed-9901-0242ac1c000c\"]);\n",
              "//# sourceURL=js_5dd8122bd2"
            ]
          },
          "metadata": {}
        },
        {
          "output_type": "display_data",
          "data": {
            "text/plain": [
              "<IPython.core.display.Javascript object>"
            ],
            "application/javascript": [
              "window[\"6030291a-ba19-11ed-9901-0242ac1c000c\"] = google.colab.output.getActiveOutputArea();\n",
              "//# sourceURL=js_856576d9b2"
            ]
          },
          "metadata": {}
        },
        {
          "output_type": "display_data",
          "data": {
            "text/plain": [
              "<IPython.core.display.Javascript object>"
            ],
            "application/javascript": [
              "window[\"6030d5ae-ba19-11ed-9901-0242ac1c000c\"] = document.querySelector(\"#id28-0-0\");\n",
              "//# sourceURL=js_d96dedbb48"
            ]
          },
          "metadata": {}
        },
        {
          "output_type": "display_data",
          "data": {
            "text/plain": [
              "<IPython.core.display.Javascript object>"
            ],
            "application/javascript": [
              "window[\"60314a3e-ba19-11ed-9901-0242ac1c000c\"] = google.colab.output.setActiveOutputArea(window[\"6030d5ae-ba19-11ed-9901-0242ac1c000c\"]);\n",
              "//# sourceURL=js_c9c6e7a7d3"
            ]
          },
          "metadata": {}
        },
        {
          "output_type": "display_data",
          "data": {
            "text/plain": [
              "<IPython.core.display.Javascript object>"
            ],
            "application/javascript": [
              "window[\"6053917a-ba19-11ed-9901-0242ac1c000c\"] = google.colab.output.setActiveOutputArea(window[\"6030291a-ba19-11ed-9901-0242ac1c000c\"]);\n",
              "//# sourceURL=js_65e4e138f9"
            ]
          },
          "metadata": {}
        },
        {
          "output_type": "display_data",
          "data": {
            "text/plain": [
              "<IPython.core.display.Javascript object>"
            ],
            "application/javascript": [
              "window[\"60ef3288-ba19-11ed-9901-0242ac1c000c\"] = google.colab.output.getActiveOutputArea();\n",
              "//# sourceURL=js_f4a6c64085"
            ]
          },
          "metadata": {}
        },
        {
          "output_type": "display_data",
          "data": {
            "text/plain": [
              "<IPython.core.display.Javascript object>"
            ],
            "application/javascript": [
              "window[\"60efa740-ba19-11ed-9901-0242ac1c000c\"] = document.querySelector(\"#id28-0-0\");\n",
              "//# sourceURL=js_6c170cb63b"
            ]
          },
          "metadata": {}
        },
        {
          "output_type": "display_data",
          "data": {
            "text/plain": [
              "<IPython.core.display.Javascript object>"
            ],
            "application/javascript": [
              "window[\"60f01c98-ba19-11ed-9901-0242ac1c000c\"] = google.colab.output.setActiveOutputArea(window[\"60efa740-ba19-11ed-9901-0242ac1c000c\"]);\n",
              "//# sourceURL=js_9ab267bb5f"
            ]
          },
          "metadata": {}
        },
        {
          "output_type": "display_data",
          "data": {
            "text/plain": [
              "<IPython.core.display.Javascript object>"
            ],
            "application/javascript": [
              "window[\"61100972-ba19-11ed-9901-0242ac1c000c\"] = google.colab.output.setActiveOutputArea(window[\"60ef3288-ba19-11ed-9901-0242ac1c000c\"]);\n",
              "//# sourceURL=js_70721d9d01"
            ]
          },
          "metadata": {}
        },
        {
          "output_type": "display_data",
          "data": {
            "text/plain": [
              "<IPython.core.display.Javascript object>"
            ],
            "application/javascript": [
              "window[\"61ab1a84-ba19-11ed-9901-0242ac1c000c\"] = google.colab.output.getActiveOutputArea();\n",
              "//# sourceURL=js_bcf0b44d7d"
            ]
          },
          "metadata": {}
        },
        {
          "output_type": "display_data",
          "data": {
            "text/plain": [
              "<IPython.core.display.Javascript object>"
            ],
            "application/javascript": [
              "window[\"61ab8474-ba19-11ed-9901-0242ac1c000c\"] = document.querySelector(\"#id28-0-0\");\n",
              "//# sourceURL=js_6f4ed75d2d"
            ]
          },
          "metadata": {}
        },
        {
          "output_type": "display_data",
          "data": {
            "text/plain": [
              "<IPython.core.display.Javascript object>"
            ],
            "application/javascript": [
              "window[\"61ac0f02-ba19-11ed-9901-0242ac1c000c\"] = google.colab.output.setActiveOutputArea(window[\"61ab8474-ba19-11ed-9901-0242ac1c000c\"]);\n",
              "//# sourceURL=js_bcc9d10d7e"
            ]
          },
          "metadata": {}
        },
        {
          "output_type": "display_data",
          "data": {
            "text/plain": [
              "<IPython.core.display.Javascript object>"
            ],
            "application/javascript": [
              "window[\"61d0a862-ba19-11ed-9901-0242ac1c000c\"] = google.colab.output.setActiveOutputArea(window[\"61ab1a84-ba19-11ed-9901-0242ac1c000c\"]);\n",
              "//# sourceURL=js_2ef155d20e"
            ]
          },
          "metadata": {}
        },
        {
          "output_type": "display_data",
          "data": {
            "text/plain": [
              "<IPython.core.display.Javascript object>"
            ],
            "application/javascript": [
              "window[\"626c2580-ba19-11ed-9901-0242ac1c000c\"] = google.colab.output.getActiveOutputArea();\n",
              "//# sourceURL=js_23dd971397"
            ]
          },
          "metadata": {}
        },
        {
          "output_type": "display_data",
          "data": {
            "text/plain": [
              "<IPython.core.display.Javascript object>"
            ],
            "application/javascript": [
              "window[\"626ce632-ba19-11ed-9901-0242ac1c000c\"] = document.querySelector(\"#id28-0-0\");\n",
              "//# sourceURL=js_bba513e3eb"
            ]
          },
          "metadata": {}
        },
        {
          "output_type": "display_data",
          "data": {
            "text/plain": [
              "<IPython.core.display.Javascript object>"
            ],
            "application/javascript": [
              "window[\"626da8f6-ba19-11ed-9901-0242ac1c000c\"] = google.colab.output.setActiveOutputArea(window[\"626ce632-ba19-11ed-9901-0242ac1c000c\"]);\n",
              "//# sourceURL=js_944684774b"
            ]
          },
          "metadata": {}
        },
        {
          "output_type": "stream",
          "name": "stdout",
          "text": [
            "Reward ->  10\n"
          ]
        },
        {
          "output_type": "display_data",
          "data": {
            "text/plain": [
              "<Figure size 432x288 with 1 Axes>"
            ],
            "image/png": "[encoded data removed]"
          },
          "metadata": {
            "needs_background": "light"
          }
        },
        {
          "output_type": "display_data",
          "data": {
            "text/plain": [
              "<IPython.core.display.Javascript object>"
            ],
            "application/javascript": [
              "window[\"62a183f6-ba19-11ed-9901-0242ac1c000c\"] = google.colab.output.setActiveOutputArea(window[\"626c2580-ba19-11ed-9901-0242ac1c000c\"]);\n",
              "//# sourceURL=js_4ffc5a3c9c"
            ]
          },
          "metadata": {}
        }
      ]
    },
    {
      "cell_type": "code",
      "source": [
        "# plot cumulative avg rewards per episdoe "
      ],
      "metadata": {
        "id": "BvJ_l9fmkVYL"
      },
      "execution_count": null,
      "outputs": []
    },
    {
      "cell_type": "markdown",
      "source": [
        "**SARSA Implementation**"
      ],
      "metadata": {
        "id": "jOW0xemfcpaR"
      }
    },
    {
      "cell_type": "code",
      "source": [
        "import random\n",
        "from IPython.display import clear_output\n",
        "\n",
        "env = GridEnv(env_type = \"deterministic\")\n",
        "agent = RandomAgent(env)\n",
        "\n",
        "# Hyperparameters\n",
        "alpha = 0.12\n",
        "gamma = 0.95\n",
        "epsilon = 1.0\n",
        "epsilon_sarsa = []\n",
        "reward_sarsa = []\n",
        "\n",
        "num_episodes = 1000\n",
        "max_timesteps = 15\n",
        "\n",
        "# For plotting metrics\n",
        "all_epochs = []\n",
        "all_penalties_sarsa_det = []\n",
        "\n",
        "state1 = 0\n",
        "#Q-Table\n",
        "q_table_sarsa_det = np.random.rand(25, 4)\n",
        "q_table_sarsa_det = q_table_sarsa_det.astype(int)\n",
        "\n",
        "#running for 1000 episodes\n",
        "for episode in range(num_episodes):\n",
        "  #resetting the state \n",
        "  state, agent_pos = env.reset()\n",
        "  epochs = 0\n",
        "  penalties = 0\n",
        "\n",
        "  # print(state)\n",
        "  state_to_list = state.tolist()\n",
        "  if 1 in state_to_list:\n",
        "    state1 = state_to_list.index(1)\n",
        "  # print(index)\n",
        "  new_reward = 0\n",
        "  new_penalties = 0\n",
        "\n",
        "  for timestep in range(max_timesteps):\n",
        "    #Choosing an action based on e-greedy policy\n",
        "    if np.random.rand() < epsilon:\n",
        "      action = np.random.choice(env.action_space.n)\n",
        "    else:\n",
        "      action = np.argmax(q_table_sarsa_det[state1])\n",
        "\n",
        "    #getting the next state, reward\n",
        "    observation, reward, terminated, truncated, info, new_agent_pos = env.step(action)\n",
        "\n",
        "    #getting the new state\n",
        "    new_state_to_list = observation.tolist()\n",
        "    if 1 in new_state_to_list:\n",
        "      state2 = new_state_to_list.index(1)\n",
        "\n",
        "    if np.random.rand() < epsilon:\n",
        "      action2 = np.random.choice(env.action_space.n)\n",
        "    else:\n",
        "      action2 = np.argmax(q_table_sarsa_det[state2])\n",
        "\n",
        "    q_table_sarsa_det[state1, action] = q_table_sarsa_det[state1, action] + alpha * (reward + gamma * (q_table_sarsa_det[state2, action2] - q_table_sarsa_det[state1, action]))\n",
        "\n",
        "    if reward == -5 or reward == -6 or reward == -2:\n",
        "      penalties += 1\n",
        "    \n",
        "    # agent_pos = new_agent_pos\n",
        "    epochs += 1\n",
        "    new_reward += reward\n",
        "    state1 = state2\n",
        "    new_penalties += penalties\n",
        "  reward_sarsa.append(new_reward)\n",
        "  all_penalties_sarsa_det.append(new_penalties)\n",
        "  epsilon *= 0.995\n",
        "  epsilon_sarsa.append(epsilon)\n",
        "  # print(epsilon)\n",
        "\n",
        "# print(\"Q-Table : \", q_table_sarsa)\n",
        "# print(epsilon_val)\n",
        "# print(\"Q Table : \", q_table_sarsa)"
      ],
      "metadata": {
        "id": "dgV8giqZTVHr"
      },
      "execution_count": 243,
      "outputs": []
    },
    {
      "cell_type": "code",
      "source": [
        "plt.figure(figsize=(5,5))\n",
        "plt.plot(epsilon_sarsa, linewidth=4)\n",
        "plt.xlabel('Episode', fontsize=16)\n",
        "plt.ylabel('Epsilon Values', fontsize=16)\n",
        "plt.title('Epsilon Decay (SARSA - Deterministic)', fontsize=20)\n",
        "plt.xticks(fontsize=16)\n",
        "plt.yticks(fontsize=16)\n",
        "plt.ylim(ymin=0, ymax=1)\n",
        "plt.xlim(xmin=0, xmax=1000)\n",
        "plt.grid()\n",
        "plt.show()"
      ],
      "metadata": {
        "colab": {
          "base_uri": "https://localhost:8080/",
          "height": 365
        },
        "id": "J6ZvHRH6HmXv",
        "outputId": "4a8e265f-b16c-4508-971d-a39028151f59"
      },
      "execution_count": 244,
      "outputs": [
        {
          "output_type": "display_data",
          "data": {
            "text/plain": [
              "<Figure size 360x360 with 1 Axes>"
            ],
            "image/png": "[encoded data removed]"
          },
          "metadata": {
            "needs_background": "light"
          }
        }
      ]
    },
    {
      "cell_type": "code",
      "source": [
        "plt.figure(figsize=(8,8))\n",
        "plt.plot(reward_sarsa, 'ro')\n",
        "plt.xlabel('Episode', fontsize=18)\n",
        "plt.ylabel('Reward Value', fontsize=18)\n",
        "plt.title('Rewards Per Episode (SARSA - Deterministic)', fontsize=20)\n",
        "plt.xticks(fontsize=16)\n",
        "plt.yticks([-60, -50, -20, 0, 20, 40, 60, 80, 100], fontsize=16)\n",
        "plt.ylim(ymin=-7, ymax=170)\n",
        "plt.xlim(xmin=0, xmax=1000)\n",
        "plt.grid()\n",
        "plt.show()"
      ],
      "metadata": {
        "colab": {
          "base_uri": "https://localhost:8080/",
          "height": 531
        },
        "id": "HMvfix87kX_F",
        "outputId": "254ca35d-f0fb-4af4-b33f-6ff4fc10ac43"
      },
      "execution_count": 245,
      "outputs": [
        {
          "output_type": "display_data",
          "data": {
            "text/plain": [
              "<Figure size 576x576 with 1 Axes>"
            ],
            "image/png": "[encoded data removed]"
          },
          "metadata": {
            "needs_background": "light"
          }
        }
      ]
    },
    {
      "cell_type": "code",
      "source": [
        "plt.figure(figsize=(8,8))\n",
        "plt.plot(all_penalties_sarsa_det, 'go')\n",
        "plt.xlabel('Episode', fontsize=18)\n",
        "plt.ylabel('Penalties', fontsize=18)\n",
        "plt.title('Penalties Per Episode (SARSA - Deterministic)', fontsize=20)\n",
        "plt.xticks(fontsize=16)\n",
        "plt.yticks([-60, -50, -20, 0, 20, 40, 60, 80, 100], fontsize=16)\n",
        "plt.ylim(ymin=-7, ymax=170)\n",
        "plt.xlim(xmin=0, xmax=1000)\n",
        "plt.grid()\n",
        "plt.show()"
      ],
      "metadata": {
        "id": "nU5Pt-6kr7l7",
        "outputId": "83043045-9043-4eb3-a6c0-d6274daac03b",
        "colab": {
          "base_uri": "https://localhost:8080/",
          "height": 531
        }
      },
      "execution_count": 246,
      "outputs": [
        {
          "output_type": "display_data",
          "data": {
            "text/plain": [
              "<Figure size 576x576 with 1 Axes>"
            ],
            "image/png": "[encoded data removed]"
          },
          "metadata": {
            "needs_background": "light"
          }
        }
      ]
    },
    {
      "cell_type": "code",
      "source": [
        "env = GridEnv(env_type = \"deterministic\")\n",
        "agent = RandomAgent(env)\n",
        "\n",
        "obs, info = env.reset()\n",
        "terminated, truncated = False, False\n",
        "\n",
        "\n",
        "output_grid = widgets.Grid(1, 1)\n",
        "with output_grid.output_to(0, 0):\n",
        "  env.render()\n",
        "\n",
        "def get_max_val(arg):\n",
        "  return max(arg)\n",
        "  \n",
        "for i in q_table_sarsa_det:\n",
        "  max_val = get_max_val(i)\n",
        "  i_to_list = i.tolist()\n",
        "  max_index = i_to_list.index(max_val)\n",
        "  observation, reward, terminated, truncated, info, agent_pos = env.step(max_index)\n",
        "  with output_grid.output_to(0, 0):\n",
        "    output_grid.clear_cell()\n",
        "    plt.imshow(grid)\n",
        "    env.render()\n",
        "  time.sleep(1)\n",
        "\n",
        "  "
      ],
      "metadata": {
        "id": "DOZtF0GjzZS_",
        "outputId": "dbd4aa0b-23ea-4b67-b944-05c670842fd6",
        "colab": {
          "base_uri": "https://localhost:8080/",
          "height": 287
        }
      },
      "execution_count": 247,
      "outputs": [
        {
          "output_type": "display_data",
          "data": {
            "text/plain": [
              "<IPython.core.display.HTML object>"
            ],
            "text/html": [
              "<style>\n",
              "       table#id32, #id32 > tbody > tr > th, #id32 > tbody > tr > td {\n",
              "         border: 1px solid lightgray;\n",
              "         border-collapse:collapse;\n",
              "         \n",
              "        }</style>"
            ]
          },
          "metadata": {}
        },
        {
          "output_type": "display_data",
          "data": {
            "text/plain": [
              "<IPython.core.display.HTML object>"
            ],
            "text/html": [
              "<table id=id32><tr><td id=id32-0-0></td></tr></table>"
            ]
          },
          "metadata": {}
        },
        {
          "output_type": "display_data",
          "data": {
            "text/plain": [
              "<IPython.core.display.Javascript object>"
            ],
            "application/javascript": [
              "window[\"7f7e5024-ba1b-11ed-9901-0242ac1c000c\"] = google.colab.output.getActiveOutputArea();\n",
              "//# sourceURL=js_e7be37bc05"
            ]
          },
          "metadata": {}
        },
        {
          "output_type": "display_data",
          "data": {
            "text/plain": [
              "<IPython.core.display.Javascript object>"
            ],
            "application/javascript": [
              "window[\"7f7ec0f4-ba1b-11ed-9901-0242ac1c000c\"] = document.querySelector(\"#id32-0-0\");\n",
              "//# sourceURL=js_6e9ed0d2d4"
            ]
          },
          "metadata": {}
        },
        {
          "output_type": "display_data",
          "data": {
            "text/plain": [
              "<IPython.core.display.Javascript object>"
            ],
            "application/javascript": [
              "window[\"7f7f6a18-ba1b-11ed-9901-0242ac1c000c\"] = google.colab.output.setActiveOutputArea(window[\"7f7ec0f4-ba1b-11ed-9901-0242ac1c000c\"]);\n",
              "//# sourceURL=js_8b38237742"
            ]
          },
          "metadata": {}
        },
        {
          "output_type": "display_data",
          "data": {
            "text/plain": [
              "<IPython.core.display.Javascript object>"
            ],
            "application/javascript": [
              "window[\"7facd6e2-ba1b-11ed-9901-0242ac1c000c\"] = google.colab.output.setActiveOutputArea(window[\"7f7e5024-ba1b-11ed-9901-0242ac1c000c\"]);\n",
              "//# sourceURL=js_406d4d78fa"
            ]
          },
          "metadata": {}
        },
        {
          "output_type": "display_data",
          "data": {
            "text/plain": [
              "<IPython.core.display.Javascript object>"
            ],
            "application/javascript": [
              "window[\"7faf8f72-ba1b-11ed-9901-0242ac1c000c\"] = google.colab.output.getActiveOutputArea();\n",
              "//# sourceURL=js_e76daeead6"
            ]
          },
          "metadata": {}
        },
        {
          "output_type": "display_data",
          "data": {
            "text/plain": [
              "<IPython.core.display.Javascript object>"
            ],
            "application/javascript": [
              "window[\"7fb00948-ba1b-11ed-9901-0242ac1c000c\"] = document.querySelector(\"#id32-0-0\");\n",
              "//# sourceURL=js_76a06a3028"
            ]
          },
          "metadata": {}
        },
        {
          "output_type": "display_data",
          "data": {
            "text/plain": [
              "<IPython.core.display.Javascript object>"
            ],
            "application/javascript": [
              "window[\"7fb0838c-ba1b-11ed-9901-0242ac1c000c\"] = google.colab.output.setActiveOutputArea(window[\"7fb00948-ba1b-11ed-9901-0242ac1c000c\"]);\n",
              "//# sourceURL=js_f7545a018c"
            ]
          },
          "metadata": {}
        },
        {
          "output_type": "display_data",
          "data": {
            "text/plain": [
              "<IPython.core.display.Javascript object>"
            ],
            "application/javascript": [
              "window[\"7fe0ff62-ba1b-11ed-9901-0242ac1c000c\"] = google.colab.output.setActiveOutputArea(window[\"7faf8f72-ba1b-11ed-9901-0242ac1c000c\"]);\n",
              "//# sourceURL=js_caede2a103"
            ]
          },
          "metadata": {}
        },
        {
          "output_type": "display_data",
          "data": {
            "text/plain": [
              "<IPython.core.display.Javascript object>"
            ],
            "application/javascript": [
              "window[\"807c4f76-ba1b-11ed-9901-0242ac1c000c\"] = google.colab.output.getActiveOutputArea();\n",
              "//# sourceURL=js_0f1650170b"
            ]
          },
          "metadata": {}
        },
        {
          "output_type": "display_data",
          "data": {
            "text/plain": [
              "<IPython.core.display.Javascript object>"
            ],
            "application/javascript": [
              "window[\"807cd87e-ba1b-11ed-9901-0242ac1c000c\"] = document.querySelector(\"#id32-0-0\");\n",
              "//# sourceURL=js_6d1acf892b"
            ]
          },
          "metadata": {}
        },
        {
          "output_type": "display_data",
          "data": {
            "text/plain": [
              "<IPython.core.display.Javascript object>"
            ],
            "application/javascript": [
              "window[\"807d47fa-ba1b-11ed-9901-0242ac1c000c\"] = google.colab.output.setActiveOutputArea(window[\"807cd87e-ba1b-11ed-9901-0242ac1c000c\"]);\n",
              "//# sourceURL=js_cb79730808"
            ]
          },
          "metadata": {}
        },
        {
          "output_type": "display_data",
          "data": {
            "text/plain": [
              "<IPython.core.display.Javascript object>"
            ],
            "application/javascript": [
              "window[\"809e1052-ba1b-11ed-9901-0242ac1c000c\"] = google.colab.output.setActiveOutputArea(window[\"807c4f76-ba1b-11ed-9901-0242ac1c000c\"]);\n",
              "//# sourceURL=js_29ad9645f8"
            ]
          },
          "metadata": {}
        },
        {
          "output_type": "display_data",
          "data": {
            "text/plain": [
              "<IPython.core.display.Javascript object>"
            ],
            "application/javascript": [
              "window[\"8139b0c0-ba1b-11ed-9901-0242ac1c000c\"] = google.colab.output.getActiveOutputArea();\n",
              "//# sourceURL=js_9572773a8b"
            ]
          },
          "metadata": {}
        },
        {
          "output_type": "display_data",
          "data": {
            "text/plain": [
              "<IPython.core.display.Javascript object>"
            ],
            "application/javascript": [
              "window[\"813a50c0-ba1b-11ed-9901-0242ac1c000c\"] = document.querySelector(\"#id32-0-0\");\n",
              "//# sourceURL=js_bc37a07c12"
            ]
          },
          "metadata": {}
        },
        {
          "output_type": "display_data",
          "data": {
            "text/plain": [
              "<IPython.core.display.Javascript object>"
            ],
            "application/javascript": [
              "window[\"813ac37a-ba1b-11ed-9901-0242ac1c000c\"] = google.colab.output.setActiveOutputArea(window[\"813a50c0-ba1b-11ed-9901-0242ac1c000c\"]);\n",
              "//# sourceURL=js_dfe2e69cc1"
            ]
          },
          "metadata": {}
        },
        {
          "output_type": "display_data",
          "data": {
            "text/plain": [
              "<IPython.core.display.Javascript object>"
            ],
            "application/javascript": [
              "window[\"81599b1a-ba1b-11ed-9901-0242ac1c000c\"] = google.colab.output.setActiveOutputArea(window[\"8139b0c0-ba1b-11ed-9901-0242ac1c000c\"]);\n",
              "//# sourceURL=js_60282732d8"
            ]
          },
          "metadata": {}
        },
        {
          "output_type": "display_data",
          "data": {
            "text/plain": [
              "<IPython.core.display.Javascript object>"
            ],
            "application/javascript": [
              "window[\"81f4969c-ba1b-11ed-9901-0242ac1c000c\"] = google.colab.output.getActiveOutputArea();\n",
              "//# sourceURL=js_367e8b635a"
            ]
          },
          "metadata": {}
        },
        {
          "output_type": "display_data",
          "data": {
            "text/plain": [
              "<IPython.core.display.Javascript object>"
            ],
            "application/javascript": [
              "window[\"81f52cc4-ba1b-11ed-9901-0242ac1c000c\"] = document.querySelector(\"#id32-0-0\");\n",
              "//# sourceURL=js_23b887cdf0"
            ]
          },
          "metadata": {}
        },
        {
          "output_type": "display_data",
          "data": {
            "text/plain": [
              "<IPython.core.display.Javascript object>"
            ],
            "application/javascript": [
              "window[\"81f598f8-ba1b-11ed-9901-0242ac1c000c\"] = google.colab.output.setActiveOutputArea(window[\"81f52cc4-ba1b-11ed-9901-0242ac1c000c\"]);\n",
              "//# sourceURL=js_3afc6dbff8"
            ]
          },
          "metadata": {}
        },
        {
          "output_type": "display_data",
          "data": {
            "text/plain": [
              "<IPython.core.display.Javascript object>"
            ],
            "application/javascript": [
              "window[\"82164990-ba1b-11ed-9901-0242ac1c000c\"] = google.colab.output.setActiveOutputArea(window[\"81f4969c-ba1b-11ed-9901-0242ac1c000c\"]);\n",
              "//# sourceURL=js_f98257ef01"
            ]
          },
          "metadata": {}
        },
        {
          "output_type": "display_data",
          "data": {
            "text/plain": [
              "<IPython.core.display.Javascript object>"
            ],
            "application/javascript": [
              "window[\"82b1b240-ba1b-11ed-9901-0242ac1c000c\"] = google.colab.output.getActiveOutputArea();\n",
              "//# sourceURL=js_b3aa3d1755"
            ]
          },
          "metadata": {}
        },
        {
          "output_type": "display_data",
          "data": {
            "text/plain": [
              "<IPython.core.display.Javascript object>"
            ],
            "application/javascript": [
              "window[\"82b21e2e-ba1b-11ed-9901-0242ac1c000c\"] = document.querySelector(\"#id32-0-0\");\n",
              "//# sourceURL=js_303b5723b6"
            ]
          },
          "metadata": {}
        },
        {
          "output_type": "display_data",
          "data": {
            "text/plain": [
              "<IPython.core.display.Javascript object>"
            ],
            "application/javascript": [
              "window[\"82b28d64-ba1b-11ed-9901-0242ac1c000c\"] = google.colab.output.setActiveOutputArea(window[\"82b21e2e-ba1b-11ed-9901-0242ac1c000c\"]);\n",
              "//# sourceURL=js_3ec25e8913"
            ]
          },
          "metadata": {}
        },
        {
          "output_type": "display_data",
          "data": {
            "text/plain": [
              "<IPython.core.display.Javascript object>"
            ],
            "application/javascript": [
              "window[\"82d1ebbe-ba1b-11ed-9901-0242ac1c000c\"] = google.colab.output.setActiveOutputArea(window[\"82b1b240-ba1b-11ed-9901-0242ac1c000c\"]);\n",
              "//# sourceURL=js_f155bc39ff"
            ]
          },
          "metadata": {}
        },
        {
          "output_type": "display_data",
          "data": {
            "text/plain": [
              "<IPython.core.display.Javascript object>"
            ],
            "application/javascript": [
              "window[\"836d04f0-ba1b-11ed-9901-0242ac1c000c\"] = google.colab.output.getActiveOutputArea();\n",
              "//# sourceURL=js_83501e9fc9"
            ]
          },
          "metadata": {}
        },
        {
          "output_type": "display_data",
          "data": {
            "text/plain": [
              "<IPython.core.display.Javascript object>"
            ],
            "application/javascript": [
              "window[\"836d6e36-ba1b-11ed-9901-0242ac1c000c\"] = document.querySelector(\"#id32-0-0\");\n",
              "//# sourceURL=js_10d3435188"
            ]
          },
          "metadata": {}
        },
        {
          "output_type": "display_data",
          "data": {
            "text/plain": [
              "<IPython.core.display.Javascript object>"
            ],
            "application/javascript": [
              "window[\"836e27b8-ba1b-11ed-9901-0242ac1c000c\"] = google.colab.output.setActiveOutputArea(window[\"836d6e36-ba1b-11ed-9901-0242ac1c000c\"]);\n",
              "//# sourceURL=js_74f53732c9"
            ]
          },
          "metadata": {}
        },
        {
          "output_type": "display_data",
          "data": {
            "text/plain": [
              "<IPython.core.display.Javascript object>"
            ],
            "application/javascript": [
              "window[\"838e6e7e-ba1b-11ed-9901-0242ac1c000c\"] = google.colab.output.setActiveOutputArea(window[\"836d04f0-ba1b-11ed-9901-0242ac1c000c\"]);\n",
              "//# sourceURL=js_f098bf9d1f"
            ]
          },
          "metadata": {}
        },
        {
          "output_type": "display_data",
          "data": {
            "text/plain": [
              "<IPython.core.display.Javascript object>"
            ],
            "application/javascript": [
              "window[\"8429c6b2-ba1b-11ed-9901-0242ac1c000c\"] = google.colab.output.getActiveOutputArea();\n",
              "//# sourceURL=js_e807bc527c"
            ]
          },
          "metadata": {}
        },
        {
          "output_type": "display_data",
          "data": {
            "text/plain": [
              "<IPython.core.display.Javascript object>"
            ],
            "application/javascript": [
              "window[\"842a37aa-ba1b-11ed-9901-0242ac1c000c\"] = document.querySelector(\"#id32-0-0\");\n",
              "//# sourceURL=js_11d5295788"
            ]
          },
          "metadata": {}
        },
        {
          "output_type": "display_data",
          "data": {
            "text/plain": [
              "<IPython.core.display.Javascript object>"
            ],
            "application/javascript": [
              "window[\"842a9eca-ba1b-11ed-9901-0242ac1c000c\"] = google.colab.output.setActiveOutputArea(window[\"842a37aa-ba1b-11ed-9901-0242ac1c000c\"]);\n",
              "//# sourceURL=js_e46094980e"
            ]
          },
          "metadata": {}
        },
        {
          "output_type": "display_data",
          "data": {
            "text/plain": [
              "<IPython.core.display.Javascript object>"
            ],
            "application/javascript": [
              "window[\"844c2a0e-ba1b-11ed-9901-0242ac1c000c\"] = google.colab.output.setActiveOutputArea(window[\"8429c6b2-ba1b-11ed-9901-0242ac1c000c\"]);\n",
              "//# sourceURL=js_39b451cdf5"
            ]
          },
          "metadata": {}
        },
        {
          "output_type": "display_data",
          "data": {
            "text/plain": [
              "<IPython.core.display.Javascript object>"
            ],
            "application/javascript": [
              "window[\"84e77fea-ba1b-11ed-9901-0242ac1c000c\"] = google.colab.output.getActiveOutputArea();\n",
              "//# sourceURL=js_78274fbb6c"
            ]
          },
          "metadata": {}
        },
        {
          "output_type": "display_data",
          "data": {
            "text/plain": [
              "<IPython.core.display.Javascript object>"
            ],
            "application/javascript": [
              "window[\"84e82bfc-ba1b-11ed-9901-0242ac1c000c\"] = document.querySelector(\"#id32-0-0\");\n",
              "//# sourceURL=js_d3a6053fc3"
            ]
          },
          "metadata": {}
        },
        {
          "output_type": "display_data",
          "data": {
            "text/plain": [
              "<IPython.core.display.Javascript object>"
            ],
            "application/javascript": [
              "window[\"84e8ab68-ba1b-11ed-9901-0242ac1c000c\"] = google.colab.output.setActiveOutputArea(window[\"84e82bfc-ba1b-11ed-9901-0242ac1c000c\"]);\n",
              "//# sourceURL=js_cc78b093e9"
            ]
          },
          "metadata": {}
        },
        {
          "output_type": "display_data",
          "data": {
            "text/plain": [
              "<IPython.core.display.Javascript object>"
            ],
            "application/javascript": [
              "window[\"850a385a-ba1b-11ed-9901-0242ac1c000c\"] = google.colab.output.setActiveOutputArea(window[\"84e77fea-ba1b-11ed-9901-0242ac1c000c\"]);\n",
              "//# sourceURL=js_809413f061"
            ]
          },
          "metadata": {}
        },
        {
          "output_type": "display_data",
          "data": {
            "text/plain": [
              "<IPython.core.display.Javascript object>"
            ],
            "application/javascript": [
              "window[\"85a65eba-ba1b-11ed-9901-0242ac1c000c\"] = google.colab.output.getActiveOutputArea();\n",
              "//# sourceURL=js_a71575685f"
            ]
          },
          "metadata": {}
        },
        {
          "output_type": "display_data",
          "data": {
            "text/plain": [
              "<IPython.core.display.Javascript object>"
            ],
            "application/javascript": [
              "window[\"85a6d0c0-ba1b-11ed-9901-0242ac1c000c\"] = document.querySelector(\"#id32-0-0\");\n",
              "//# sourceURL=js_d8648e043f"
            ]
          },
          "metadata": {}
        },
        {
          "output_type": "display_data",
          "data": {
            "text/plain": [
              "<IPython.core.display.Javascript object>"
            ],
            "application/javascript": [
              "window[\"85a7386c-ba1b-11ed-9901-0242ac1c000c\"] = google.colab.output.setActiveOutputArea(window[\"85a6d0c0-ba1b-11ed-9901-0242ac1c000c\"]);\n",
              "//# sourceURL=js_38ddc65d38"
            ]
          },
          "metadata": {}
        },
        {
          "output_type": "display_data",
          "data": {
            "text/plain": [
              "<IPython.core.display.Javascript object>"
            ],
            "application/javascript": [
              "window[\"85c879d2-ba1b-11ed-9901-0242ac1c000c\"] = google.colab.output.setActiveOutputArea(window[\"85a65eba-ba1b-11ed-9901-0242ac1c000c\"]);\n",
              "//# sourceURL=js_d431c0cd1d"
            ]
          },
          "metadata": {}
        },
        {
          "output_type": "display_data",
          "data": {
            "text/plain": [
              "<IPython.core.display.Javascript object>"
            ],
            "application/javascript": [
              "window[\"8663ea84-ba1b-11ed-9901-0242ac1c000c\"] = google.colab.output.getActiveOutputArea();\n",
              "//# sourceURL=js_332d3222b6"
            ]
          },
          "metadata": {}
        },
        {
          "output_type": "display_data",
          "data": {
            "text/plain": [
              "<IPython.core.display.Javascript object>"
            ],
            "application/javascript": [
              "window[\"86645ad2-ba1b-11ed-9901-0242ac1c000c\"] = document.querySelector(\"#id32-0-0\");\n",
              "//# sourceURL=js_6697f4e595"
            ]
          },
          "metadata": {}
        },
        {
          "output_type": "display_data",
          "data": {
            "text/plain": [
              "<IPython.core.display.Javascript object>"
            ],
            "application/javascript": [
              "window[\"86651940-ba1b-11ed-9901-0242ac1c000c\"] = google.colab.output.setActiveOutputArea(window[\"86645ad2-ba1b-11ed-9901-0242ac1c000c\"]);\n",
              "//# sourceURL=js_4e0ee96733"
            ]
          },
          "metadata": {}
        },
        {
          "output_type": "display_data",
          "data": {
            "text/plain": [
              "<IPython.core.display.Javascript object>"
            ],
            "application/javascript": [
              "window[\"86b7aef8-ba1b-11ed-9901-0242ac1c000c\"] = google.colab.output.setActiveOutputArea(window[\"8663ea84-ba1b-11ed-9901-0242ac1c000c\"]);\n",
              "//# sourceURL=js_2c89e3e6cb"
            ]
          },
          "metadata": {}
        },
        {
          "output_type": "display_data",
          "data": {
            "text/plain": [
              "<IPython.core.display.Javascript object>"
            ],
            "application/javascript": [
              "window[\"8753155a-ba1b-11ed-9901-0242ac1c000c\"] = google.colab.output.getActiveOutputArea();\n",
              "//# sourceURL=js_6490f8182b"
            ]
          },
          "metadata": {}
        },
        {
          "output_type": "display_data",
          "data": {
            "text/plain": [
              "<IPython.core.display.Javascript object>"
            ],
            "application/javascript": [
              "window[\"875405aa-ba1b-11ed-9901-0242ac1c000c\"] = document.querySelector(\"#id32-0-0\");\n",
              "//# sourceURL=js_6489678b9f"
            ]
          },
          "metadata": {}
        },
        {
          "output_type": "display_data",
          "data": {
            "text/plain": [
              "<IPython.core.display.Javascript object>"
            ],
            "application/javascript": [
              "window[\"8754c332-ba1b-11ed-9901-0242ac1c000c\"] = google.colab.output.setActiveOutputArea(window[\"875405aa-ba1b-11ed-9901-0242ac1c000c\"]);\n",
              "//# sourceURL=js_d5c4a35e89"
            ]
          },
          "metadata": {}
        },
        {
          "output_type": "display_data",
          "data": {
            "text/plain": [
              "<IPython.core.display.Javascript object>"
            ],
            "application/javascript": [
              "window[\"877d5fea-ba1b-11ed-9901-0242ac1c000c\"] = google.colab.output.setActiveOutputArea(window[\"8753155a-ba1b-11ed-9901-0242ac1c000c\"]);\n",
              "//# sourceURL=js_fcdc51c288"
            ]
          },
          "metadata": {}
        },
        {
          "output_type": "display_data",
          "data": {
            "text/plain": [
              "<IPython.core.display.Javascript object>"
            ],
            "application/javascript": [
              "window[\"8818d240-ba1b-11ed-9901-0242ac1c000c\"] = google.colab.output.getActiveOutputArea();\n",
              "//# sourceURL=js_500f727eeb"
            ]
          },
          "metadata": {}
        },
        {
          "output_type": "display_data",
          "data": {
            "text/plain": [
              "<IPython.core.display.Javascript object>"
            ],
            "application/javascript": [
              "window[\"88193fbe-ba1b-11ed-9901-0242ac1c000c\"] = document.querySelector(\"#id32-0-0\");\n",
              "//# sourceURL=js_66af34fbd0"
            ]
          },
          "metadata": {}
        },
        {
          "output_type": "display_data",
          "data": {
            "text/plain": [
              "<IPython.core.display.Javascript object>"
            ],
            "application/javascript": [
              "window[\"8819b67e-ba1b-11ed-9901-0242ac1c000c\"] = google.colab.output.setActiveOutputArea(window[\"88193fbe-ba1b-11ed-9901-0242ac1c000c\"]);\n",
              "//# sourceURL=js_acacaa5a07"
            ]
          },
          "metadata": {}
        },
        {
          "output_type": "display_data",
          "data": {
            "text/plain": [
              "<IPython.core.display.Javascript object>"
            ],
            "application/javascript": [
              "window[\"883c1070-ba1b-11ed-9901-0242ac1c000c\"] = google.colab.output.setActiveOutputArea(window[\"8818d240-ba1b-11ed-9901-0242ac1c000c\"]);\n",
              "//# sourceURL=js_25becff028"
            ]
          },
          "metadata": {}
        },
        {
          "output_type": "display_data",
          "data": {
            "text/plain": [
              "<IPython.core.display.Javascript object>"
            ],
            "application/javascript": [
              "window[\"88d79432-ba1b-11ed-9901-0242ac1c000c\"] = google.colab.output.getActiveOutputArea();\n",
              "//# sourceURL=js_b1e2d48f1f"
            ]
          },
          "metadata": {}
        },
        {
          "output_type": "display_data",
          "data": {
            "text/plain": [
              "<IPython.core.display.Javascript object>"
            ],
            "application/javascript": [
              "window[\"88d7f6e8-ba1b-11ed-9901-0242ac1c000c\"] = document.querySelector(\"#id32-0-0\");\n",
              "//# sourceURL=js_c9c2b08943"
            ]
          },
          "metadata": {}
        },
        {
          "output_type": "display_data",
          "data": {
            "text/plain": [
              "<IPython.core.display.Javascript object>"
            ],
            "application/javascript": [
              "window[\"88d8c276-ba1b-11ed-9901-0242ac1c000c\"] = google.colab.output.setActiveOutputArea(window[\"88d7f6e8-ba1b-11ed-9901-0242ac1c000c\"]);\n",
              "//# sourceURL=js_325d9a3321"
            ]
          },
          "metadata": {}
        },
        {
          "output_type": "display_data",
          "data": {
            "text/plain": [
              "<IPython.core.display.Javascript object>"
            ],
            "application/javascript": [
              "window[\"88f91a12-ba1b-11ed-9901-0242ac1c000c\"] = google.colab.output.setActiveOutputArea(window[\"88d79432-ba1b-11ed-9901-0242ac1c000c\"]);\n",
              "//# sourceURL=js_9efc4edd31"
            ]
          },
          "metadata": {}
        },
        {
          "output_type": "display_data",
          "data": {
            "text/plain": [
              "<IPython.core.display.Javascript object>"
            ],
            "application/javascript": [
              "window[\"899459c8-ba1b-11ed-9901-0242ac1c000c\"] = google.colab.output.getActiveOutputArea();\n",
              "//# sourceURL=js_1f69f8df20"
            ]
          },
          "metadata": {}
        },
        {
          "output_type": "display_data",
          "data": {
            "text/plain": [
              "<IPython.core.display.Javascript object>"
            ],
            "application/javascript": [
              "window[\"8994f54a-ba1b-11ed-9901-0242ac1c000c\"] = document.querySelector(\"#id32-0-0\");\n",
              "//# sourceURL=js_b5720fcee6"
            ]
          },
          "metadata": {}
        },
        {
          "output_type": "display_data",
          "data": {
            "text/plain": [
              "<IPython.core.display.Javascript object>"
            ],
            "application/javascript": [
              "window[\"89956c46-ba1b-11ed-9901-0242ac1c000c\"] = google.colab.output.setActiveOutputArea(window[\"8994f54a-ba1b-11ed-9901-0242ac1c000c\"]);\n",
              "//# sourceURL=js_8808d7b97c"
            ]
          },
          "metadata": {}
        },
        {
          "output_type": "display_data",
          "data": {
            "text/plain": [
              "<IPython.core.display.Javascript object>"
            ],
            "application/javascript": [
              "window[\"89b524b4-ba1b-11ed-9901-0242ac1c000c\"] = google.colab.output.setActiveOutputArea(window[\"899459c8-ba1b-11ed-9901-0242ac1c000c\"]);\n",
              "//# sourceURL=js_b9b5673150"
            ]
          },
          "metadata": {}
        },
        {
          "output_type": "display_data",
          "data": {
            "text/plain": [
              "<IPython.core.display.Javascript object>"
            ],
            "application/javascript": [
              "window[\"8a508efe-ba1b-11ed-9901-0242ac1c000c\"] = google.colab.output.getActiveOutputArea();\n",
              "//# sourceURL=js_03140d75fb"
            ]
          },
          "metadata": {}
        },
        {
          "output_type": "display_data",
          "data": {
            "text/plain": [
              "<IPython.core.display.Javascript object>"
            ],
            "application/javascript": [
              "window[\"8a50fd4e-ba1b-11ed-9901-0242ac1c000c\"] = document.querySelector(\"#id32-0-0\");\n",
              "//# sourceURL=js_f6ba179c48"
            ]
          },
          "metadata": {}
        },
        {
          "output_type": "display_data",
          "data": {
            "text/plain": [
              "<IPython.core.display.Javascript object>"
            ],
            "application/javascript": [
              "window[\"8a5192ea-ba1b-11ed-9901-0242ac1c000c\"] = google.colab.output.setActiveOutputArea(window[\"8a50fd4e-ba1b-11ed-9901-0242ac1c000c\"]);\n",
              "//# sourceURL=js_aad77953b6"
            ]
          },
          "metadata": {}
        },
        {
          "output_type": "display_data",
          "data": {
            "text/plain": [
              "<IPython.core.display.Javascript object>"
            ],
            "application/javascript": [
              "window[\"8a742012-ba1b-11ed-9901-0242ac1c000c\"] = google.colab.output.setActiveOutputArea(window[\"8a508efe-ba1b-11ed-9901-0242ac1c000c\"]);\n",
              "//# sourceURL=js_9c022f2e6e"
            ]
          },
          "metadata": {}
        },
        {
          "output_type": "display_data",
          "data": {
            "text/plain": [
              "<IPython.core.display.Javascript object>"
            ],
            "application/javascript": [
              "window[\"8b0ff0a0-ba1b-11ed-9901-0242ac1c000c\"] = google.colab.output.getActiveOutputArea();\n",
              "//# sourceURL=js_7eea84ac91"
            ]
          },
          "metadata": {}
        },
        {
          "output_type": "display_data",
          "data": {
            "text/plain": [
              "<IPython.core.display.Javascript object>"
            ],
            "application/javascript": [
              "window[\"8b105fc2-ba1b-11ed-9901-0242ac1c000c\"] = document.querySelector(\"#id32-0-0\");\n",
              "//# sourceURL=js_d299491893"
            ]
          },
          "metadata": {}
        },
        {
          "output_type": "display_data",
          "data": {
            "text/plain": [
              "<IPython.core.display.Javascript object>"
            ],
            "application/javascript": [
              "window[\"8b10ed52-ba1b-11ed-9901-0242ac1c000c\"] = google.colab.output.setActiveOutputArea(window[\"8b105fc2-ba1b-11ed-9901-0242ac1c000c\"]);\n",
              "//# sourceURL=js_923fd7446d"
            ]
          },
          "metadata": {}
        },
        {
          "output_type": "display_data",
          "data": {
            "text/plain": [
              "<IPython.core.display.Javascript object>"
            ],
            "application/javascript": [
              "window[\"8b337bb0-ba1b-11ed-9901-0242ac1c000c\"] = google.colab.output.setActiveOutputArea(window[\"8b0ff0a0-ba1b-11ed-9901-0242ac1c000c\"]);\n",
              "//# sourceURL=js_362d464c4a"
            ]
          },
          "metadata": {}
        },
        {
          "output_type": "display_data",
          "data": {
            "text/plain": [
              "<IPython.core.display.Javascript object>"
            ],
            "application/javascript": [
              "window[\"8bce9d3e-ba1b-11ed-9901-0242ac1c000c\"] = google.colab.output.getActiveOutputArea();\n",
              "//# sourceURL=js_8ca951ff04"
            ]
          },
          "metadata": {}
        },
        {
          "output_type": "display_data",
          "data": {
            "text/plain": [
              "<IPython.core.display.Javascript object>"
            ],
            "application/javascript": [
              "window[\"8bcf39ba-ba1b-11ed-9901-0242ac1c000c\"] = document.querySelector(\"#id32-0-0\");\n",
              "//# sourceURL=js_787274b3f2"
            ]
          },
          "metadata": {}
        },
        {
          "output_type": "display_data",
          "data": {
            "text/plain": [
              "<IPython.core.display.Javascript object>"
            ],
            "application/javascript": [
              "window[\"8bcfc196-ba1b-11ed-9901-0242ac1c000c\"] = google.colab.output.setActiveOutputArea(window[\"8bcf39ba-ba1b-11ed-9901-0242ac1c000c\"]);\n",
              "//# sourceURL=js_df656e2f0f"
            ]
          },
          "metadata": {}
        },
        {
          "output_type": "display_data",
          "data": {
            "text/plain": [
              "<IPython.core.display.Javascript object>"
            ],
            "application/javascript": [
              "window[\"8bef0268-ba1b-11ed-9901-0242ac1c000c\"] = google.colab.output.setActiveOutputArea(window[\"8bce9d3e-ba1b-11ed-9901-0242ac1c000c\"]);\n",
              "//# sourceURL=js_95349d769f"
            ]
          },
          "metadata": {}
        },
        {
          "output_type": "display_data",
          "data": {
            "text/plain": [
              "<IPython.core.display.Javascript object>"
            ],
            "application/javascript": [
              "window[\"8c8a40e8-ba1b-11ed-9901-0242ac1c000c\"] = google.colab.output.getActiveOutputArea();\n",
              "//# sourceURL=js_816017216f"
            ]
          },
          "metadata": {}
        },
        {
          "output_type": "display_data",
          "data": {
            "text/plain": [
              "<IPython.core.display.Javascript object>"
            ],
            "application/javascript": [
              "window[\"8c8aa7b8-ba1b-11ed-9901-0242ac1c000c\"] = document.querySelector(\"#id32-0-0\");\n",
              "//# sourceURL=js_e68b009197"
            ]
          },
          "metadata": {}
        },
        {
          "output_type": "display_data",
          "data": {
            "text/plain": [
              "<IPython.core.display.Javascript object>"
            ],
            "application/javascript": [
              "window[\"8c8ba866-ba1b-11ed-9901-0242ac1c000c\"] = google.colab.output.setActiveOutputArea(window[\"8c8aa7b8-ba1b-11ed-9901-0242ac1c000c\"]);\n",
              "//# sourceURL=js_c8d67daabf"
            ]
          },
          "metadata": {}
        },
        {
          "output_type": "display_data",
          "data": {
            "text/plain": [
              "<IPython.core.display.Javascript object>"
            ],
            "application/javascript": [
              "window[\"8caca6c4-ba1b-11ed-9901-0242ac1c000c\"] = google.colab.output.setActiveOutputArea(window[\"8c8a40e8-ba1b-11ed-9901-0242ac1c000c\"]);\n",
              "//# sourceURL=js_a77972da7e"
            ]
          },
          "metadata": {}
        },
        {
          "output_type": "display_data",
          "data": {
            "text/plain": [
              "<IPython.core.display.Javascript object>"
            ],
            "application/javascript": [
              "window[\"8d47539a-ba1b-11ed-9901-0242ac1c000c\"] = google.colab.output.getActiveOutputArea();\n",
              "//# sourceURL=js_bbb59b7e10"
            ]
          },
          "metadata": {}
        },
        {
          "output_type": "display_data",
          "data": {
            "text/plain": [
              "<IPython.core.display.Javascript object>"
            ],
            "application/javascript": [
              "window[\"8d47c032-ba1b-11ed-9901-0242ac1c000c\"] = document.querySelector(\"#id32-0-0\");\n",
              "//# sourceURL=js_553739aaf8"
            ]
          },
          "metadata": {}
        },
        {
          "output_type": "display_data",
          "data": {
            "text/plain": [
              "<IPython.core.display.Javascript object>"
            ],
            "application/javascript": [
              "window[\"8d487d88-ba1b-11ed-9901-0242ac1c000c\"] = google.colab.output.setActiveOutputArea(window[\"8d47c032-ba1b-11ed-9901-0242ac1c000c\"]);\n",
              "//# sourceURL=js_6ca00c4ccf"
            ]
          },
          "metadata": {}
        },
        {
          "output_type": "display_data",
          "data": {
            "text/plain": [
              "<IPython.core.display.Javascript object>"
            ],
            "application/javascript": [
              "window[\"8d6f2c9e-ba1b-11ed-9901-0242ac1c000c\"] = google.colab.output.setActiveOutputArea(window[\"8d47539a-ba1b-11ed-9901-0242ac1c000c\"]);\n",
              "//# sourceURL=js_b627976964"
            ]
          },
          "metadata": {}
        },
        {
          "output_type": "display_data",
          "data": {
            "text/plain": [
              "<IPython.core.display.Javascript object>"
            ],
            "application/javascript": [
              "window[\"8e0a7672-ba1b-11ed-9901-0242ac1c000c\"] = google.colab.output.getActiveOutputArea();\n",
              "//# sourceURL=js_74659076f6"
            ]
          },
          "metadata": {}
        },
        {
          "output_type": "display_data",
          "data": {
            "text/plain": [
              "<IPython.core.display.Javascript object>"
            ],
            "application/javascript": [
              "window[\"8e0ae076-ba1b-11ed-9901-0242ac1c000c\"] = document.querySelector(\"#id32-0-0\");\n",
              "//# sourceURL=js_b163ef19d2"
            ]
          },
          "metadata": {}
        },
        {
          "output_type": "display_data",
          "data": {
            "text/plain": [
              "<IPython.core.display.Javascript object>"
            ],
            "application/javascript": [
              "window[\"8e0b9e4e-ba1b-11ed-9901-0242ac1c000c\"] = google.colab.output.setActiveOutputArea(window[\"8e0ae076-ba1b-11ed-9901-0242ac1c000c\"]);\n",
              "//# sourceURL=js_0f45a1f98d"
            ]
          },
          "metadata": {}
        },
        {
          "output_type": "display_data",
          "data": {
            "text/plain": [
              "<IPython.core.display.Javascript object>"
            ],
            "application/javascript": [
              "window[\"8e3ec90e-ba1b-11ed-9901-0242ac1c000c\"] = google.colab.output.setActiveOutputArea(window[\"8e0a7672-ba1b-11ed-9901-0242ac1c000c\"]);\n",
              "//# sourceURL=js_6f22646548"
            ]
          },
          "metadata": {}
        },
        {
          "output_type": "display_data",
          "data": {
            "text/plain": [
              "<IPython.core.display.Javascript object>"
            ],
            "application/javascript": [
              "window[\"8eda7dd6-ba1b-11ed-9901-0242ac1c000c\"] = google.colab.output.getActiveOutputArea();\n",
              "//# sourceURL=js_31827dc7f6"
            ]
          },
          "metadata": {}
        },
        {
          "output_type": "display_data",
          "data": {
            "text/plain": [
              "<IPython.core.display.Javascript object>"
            ],
            "application/javascript": [
              "window[\"8edae8f2-ba1b-11ed-9901-0242ac1c000c\"] = document.querySelector(\"#id32-0-0\");\n",
              "//# sourceURL=js_56a1ff44c4"
            ]
          },
          "metadata": {}
        },
        {
          "output_type": "display_data",
          "data": {
            "text/plain": [
              "<IPython.core.display.Javascript object>"
            ],
            "application/javascript": [
              "window[\"8edb4bc6-ba1b-11ed-9901-0242ac1c000c\"] = google.colab.output.setActiveOutputArea(window[\"8edae8f2-ba1b-11ed-9901-0242ac1c000c\"]);\n",
              "//# sourceURL=js_2dd4fd23af"
            ]
          },
          "metadata": {}
        },
        {
          "output_type": "display_data",
          "data": {
            "text/plain": [
              "<IPython.core.display.Javascript object>"
            ],
            "application/javascript": [
              "window[\"8efc1d6a-ba1b-11ed-9901-0242ac1c000c\"] = google.colab.output.setActiveOutputArea(window[\"8eda7dd6-ba1b-11ed-9901-0242ac1c000c\"]);\n",
              "//# sourceURL=js_dc6d4e9773"
            ]
          },
          "metadata": {}
        },
        {
          "output_type": "display_data",
          "data": {
            "text/plain": [
              "<IPython.core.display.Javascript object>"
            ],
            "application/javascript": [
              "window[\"8f97a140-ba1b-11ed-9901-0242ac1c000c\"] = google.colab.output.getActiveOutputArea();\n",
              "//# sourceURL=js_d809655850"
            ]
          },
          "metadata": {}
        },
        {
          "output_type": "display_data",
          "data": {
            "text/plain": [
              "<IPython.core.display.Javascript object>"
            ],
            "application/javascript": [
              "window[\"8f9858f6-ba1b-11ed-9901-0242ac1c000c\"] = document.querySelector(\"#id32-0-0\");\n",
              "//# sourceURL=js_291c92a124"
            ]
          },
          "metadata": {}
        },
        {
          "output_type": "display_data",
          "data": {
            "text/plain": [
              "<IPython.core.display.Javascript object>"
            ],
            "application/javascript": [
              "window[\"8f98c3d6-ba1b-11ed-9901-0242ac1c000c\"] = google.colab.output.setActiveOutputArea(window[\"8f9858f6-ba1b-11ed-9901-0242ac1c000c\"]);\n",
              "//# sourceURL=js_b5ac0bb110"
            ]
          },
          "metadata": {}
        },
        {
          "output_type": "display_data",
          "data": {
            "text/plain": [
              "<IPython.core.display.Javascript object>"
            ],
            "application/javascript": [
              "window[\"8fb8af20-ba1b-11ed-9901-0242ac1c000c\"] = google.colab.output.setActiveOutputArea(window[\"8f97a140-ba1b-11ed-9901-0242ac1c000c\"]);\n",
              "//# sourceURL=js_695f626109"
            ]
          },
          "metadata": {}
        },
        {
          "output_type": "display_data",
          "data": {
            "text/plain": [
              "<IPython.core.display.Javascript object>"
            ],
            "application/javascript": [
              "window[\"9053aaac-ba1b-11ed-9901-0242ac1c000c\"] = google.colab.output.getActiveOutputArea();\n",
              "//# sourceURL=js_4f6f6130d4"
            ]
          },
          "metadata": {}
        },
        {
          "output_type": "display_data",
          "data": {
            "text/plain": [
              "<IPython.core.display.Javascript object>"
            ],
            "application/javascript": [
              "window[\"90542ebe-ba1b-11ed-9901-0242ac1c000c\"] = document.querySelector(\"#id32-0-0\");\n",
              "//# sourceURL=js_2ba6288478"
            ]
          },
          "metadata": {}
        },
        {
          "output_type": "display_data",
          "data": {
            "text/plain": [
              "<IPython.core.display.Javascript object>"
            ],
            "application/javascript": [
              "window[\"9054a8ee-ba1b-11ed-9901-0242ac1c000c\"] = google.colab.output.setActiveOutputArea(window[\"90542ebe-ba1b-11ed-9901-0242ac1c000c\"]);\n",
              "//# sourceURL=js_75963c77d4"
            ]
          },
          "metadata": {}
        },
        {
          "output_type": "display_data",
          "data": {
            "text/plain": [
              "<IPython.core.display.Javascript object>"
            ],
            "application/javascript": [
              "window[\"907747aa-ba1b-11ed-9901-0242ac1c000c\"] = google.colab.output.setActiveOutputArea(window[\"9053aaac-ba1b-11ed-9901-0242ac1c000c\"]);\n",
              "//# sourceURL=js_5c79cef473"
            ]
          },
          "metadata": {}
        },
        {
          "output_type": "display_data",
          "data": {
            "text/plain": [
              "<IPython.core.display.Javascript object>"
            ],
            "application/javascript": [
              "window[\"91132594-ba1b-11ed-9901-0242ac1c000c\"] = google.colab.output.getActiveOutputArea();\n",
              "//# sourceURL=js_21951a8a61"
            ]
          },
          "metadata": {}
        },
        {
          "output_type": "display_data",
          "data": {
            "text/plain": [
              "<IPython.core.display.Javascript object>"
            ],
            "application/javascript": [
              "window[\"91138f8e-ba1b-11ed-9901-0242ac1c000c\"] = document.querySelector(\"#id32-0-0\");\n",
              "//# sourceURL=js_d4369e38e6"
            ]
          },
          "metadata": {}
        },
        {
          "output_type": "display_data",
          "data": {
            "text/plain": [
              "<IPython.core.display.Javascript object>"
            ],
            "application/javascript": [
              "window[\"9113f758-ba1b-11ed-9901-0242ac1c000c\"] = google.colab.output.setActiveOutputArea(window[\"91138f8e-ba1b-11ed-9901-0242ac1c000c\"]);\n",
              "//# sourceURL=js_a7d119520c"
            ]
          },
          "metadata": {}
        },
        {
          "output_type": "display_data",
          "data": {
            "text/plain": [
              "<IPython.core.display.Javascript object>"
            ],
            "application/javascript": [
              "window[\"913405fc-ba1b-11ed-9901-0242ac1c000c\"] = google.colab.output.setActiveOutputArea(window[\"91132594-ba1b-11ed-9901-0242ac1c000c\"]);\n",
              "//# sourceURL=js_f6b2349295"
            ]
          },
          "metadata": {}
        },
        {
          "output_type": "display_data",
          "data": {
            "text/plain": [
              "<IPython.core.display.Javascript object>"
            ],
            "application/javascript": [
              "window[\"91cf0a8e-ba1b-11ed-9901-0242ac1c000c\"] = google.colab.output.getActiveOutputArea();\n",
              "//# sourceURL=js_d2bfa0b216"
            ]
          },
          "metadata": {}
        },
        {
          "output_type": "display_data",
          "data": {
            "text/plain": [
              "<IPython.core.display.Javascript object>"
            ],
            "application/javascript": [
              "window[\"91cf7208-ba1b-11ed-9901-0242ac1c000c\"] = document.querySelector(\"#id32-0-0\");\n",
              "//# sourceURL=js_67a6d85f8e"
            ]
          },
          "metadata": {}
        },
        {
          "output_type": "display_data",
          "data": {
            "text/plain": [
              "<IPython.core.display.Javascript object>"
            ],
            "application/javascript": [
              "window[\"91cfded2-ba1b-11ed-9901-0242ac1c000c\"] = google.colab.output.setActiveOutputArea(window[\"91cf7208-ba1b-11ed-9901-0242ac1c000c\"]);\n",
              "//# sourceURL=js_710d65ecd4"
            ]
          },
          "metadata": {}
        },
        {
          "output_type": "stream",
          "name": "stdout",
          "text": [
            "Reward ->  10\n"
          ]
        },
        {
          "output_type": "display_data",
          "data": {
            "text/plain": [
              "<Figure size 432x288 with 1 Axes>"
            ],
            "image/png": "[encoded data removed]"
          },
          "metadata": {
            "needs_background": "light"
          }
        },
        {
          "output_type": "display_data",
          "data": {
            "text/plain": [
              "<IPython.core.display.Javascript object>"
            ],
            "application/javascript": [
              "window[\"91f15ac6-ba1b-11ed-9901-0242ac1c000c\"] = google.colab.output.setActiveOutputArea(window[\"91cf0a8e-ba1b-11ed-9901-0242ac1c000c\"]);\n",
              "//# sourceURL=js_80cbef3c2a"
            ]
          },
          "metadata": {}
        }
      ]
    },
    {
      "cell_type": "code",
      "source": [
        "import random\n",
        "from IPython.display import clear_output\n",
        "\n",
        "env = GridEnv(env_type = \"stochastic\")\n",
        "agent = RandomAgent(env)\n",
        "\n",
        "# Hyperparameters\n",
        "alpha = 0.12\n",
        "gamma = 0.95\n",
        "epsilon = 1.0\n",
        "epsilon_sarsa_stoc = []\n",
        "reward_sarsa_stoc = []\n",
        "\n",
        "num_episodes = 1000\n",
        "max_timesteps = 15\n",
        "\n",
        "# For plotting metrics\n",
        "all_epochs = []\n",
        "all_penalties = []\n",
        "state1 = 0\n",
        "#Q-Table\n",
        "q_table_sarsa_stoc = np.random.rand(25, 4)\n",
        "q_table_sarsa_stoc = q_table_sarsa_stoc.astype(int)\n",
        "\n",
        "#running for 1000 episodes\n",
        "for episode in range(num_episodes):\n",
        "  #resetting the state \n",
        "  state, agent_pos = env.reset()\n",
        "  epochs = 0\n",
        "  # penalties = 0\n",
        "  new_reward = 0\n",
        "  # print(state)\n",
        "  state_to_list = state.tolist()\n",
        "  if 1 in state_to_list:\n",
        "    state1 = state_to_list.index(1)\n",
        "  # print(index)\n",
        "  \n",
        "  for timestep in range(max_timesteps):\n",
        "    #Choosing an action based on e-greedy policy\n",
        "    if np.random.rand() < epsilon:\n",
        "      action = np.random.choice(env.action_space.n)\n",
        "    else:\n",
        "      action = np.argmax(q_table_sarsa_stoc[state1])\n",
        "\n",
        "    #getting the next state, reward\n",
        "    observation, reward, terminated, truncated, info, new_agent_pos = env.step(action)\n",
        "\n",
        "    #getting the new state\n",
        "    new_state_to_list = observation.tolist()\n",
        "    if 1 in new_state_to_list:\n",
        "      state2 = new_state_to_list.index(1)\n",
        "\n",
        "    if np.random.rand() < epsilon:\n",
        "      action2 = np.random.choice(env.action_space.n)\n",
        "    else:\n",
        "      action2 = np.argmax(q_table_sarsa_stoc[state2])\n",
        "\n",
        "    q_table_sarsa_stoc[state1, action] = q_table_sarsa_stoc[state1, action] + alpha * (reward + gamma * (q_table_sarsa_stoc[state2, action2] - q_table_sarsa_stoc[state1, action]))\n",
        "\n",
        "    # if reward == -5 or reward == -6 or reward == -2:\n",
        "    #   penalties += 1\n",
        "    \n",
        "    # agent_pos = new_agent_pos\n",
        "    epochs += 1\n",
        "    state1 = state2\n",
        "    new_reward += reward\n",
        "  reward_sarsa_stoc.append(new_reward)\n",
        "  epsilon *= 0.995\n",
        "  epsilon_sarsa_stoc.append(epsilon)\n",
        "  # print(epsilon)\n",
        "\n",
        "# print(\"Q-Table : \", q_table_sarsa)\n",
        "# print(epsilon_val)\n",
        "# print(\"Q Table : \", q_table_sarsa)"
      ],
      "metadata": {
        "id": "FqE3Pw6PgG_J"
      },
      "execution_count": 248,
      "outputs": []
    },
    {
      "cell_type": "code",
      "source": [
        "plt.figure(figsize=(5,5))\n",
        "plt.plot(epsilon_sarsa_stoc, linewidth=4)\n",
        "plt.xlabel('Episode', fontsize=16)\n",
        "plt.ylabel('Epsilon Values', fontsize=16)\n",
        "plt.title('Epsilon Decay (SARSA - Stochastic)', fontsize=20)\n",
        "plt.xticks(fontsize=16)\n",
        "plt.yticks(fontsize=16)\n",
        "plt.ylim(ymin=0, ymax=1)\n",
        "plt.xlim(xmin=0, xmax=1000)\n",
        "plt.grid()\n",
        "plt.show()"
      ],
      "metadata": {
        "colab": {
          "base_uri": "https://localhost:8080/",
          "height": 365
        },
        "id": "yIhDa6B3IM2G",
        "outputId": "95aecb13-767d-4aca-c6dd-ca72872ee187"
      },
      "execution_count": 249,
      "outputs": [
        {
          "output_type": "display_data",
          "data": {
            "text/plain": [
              "<Figure size 360x360 with 1 Axes>"
            ],
            "image/png": "[encoded data removed]"
          },
          "metadata": {
            "needs_background": "light"
          }
        }
      ]
    },
    {
      "cell_type": "code",
      "source": [
        "print(reward_sarsa_stoc)\n",
        "plt.figure(figsize=(8,8))\n",
        "plt.plot(reward_sarsa_stoc, 'ro')\n",
        "plt.xlabel('Episode', fontsize=18)\n",
        "plt.ylabel('Reward Value', fontsize=18)\n",
        "plt.title('Rewards Per Episode (SARSA - Stochastic)', fontsize=20)\n",
        "plt.xticks(fontsize=16)\n",
        "plt.yticks([-60, -50, -20, 0, 10, 20, 40, 60, 80, 100, 120, 140], fontsize=16)\n",
        "plt.ylim(ymin=-7, ymax=160)\n",
        "plt.xlim(xmin=0, xmax=1000)\n",
        "plt.grid()\n",
        "plt.show()"
      ],
      "metadata": {
        "colab": {
          "base_uri": "https://localhost:8080/",
          "height": 569
        },
        "id": "hGKsBifCKbcp",
        "outputId": "c5a459d9-ed1f-4b2e-f519-c145929301a7"
      },
      "execution_count": 250,
      "outputs": [
        {
          "output_type": "stream",
          "name": "stdout",
          "text": [
            "[10, 10, 42, 3, 2, 56, 28, 36, 56, 84, 8, 30, 30, -6, 26, -18, 12, 30, 48, 13, 70, 36, 30, 7, 8, 100, 48, 20, 22, 30, -8, 118, 96, 128, 104, 28, 18, 0, 7, 104, 60, 18, -6, 28, 2, 40, 34, 82, 64, 94, 132, 71, 130, 80, 70, 102, 48, 134, 74, 28, 104, 40, 34, -6, 66, 112, 106, 86, 40, 58, 94, 48, -12, 26, 26, 112, 69, 58, 20, 3, 128, 84, 22, 28, 74, 70, 84, 6, 42, 70, 52, 82, 74, 70, 86, 118, 36, 122, 82, 128, 116, 78, 68, 2, 84, 70, 94, 68, 126, 88, 100, 70, 32, 106, 94, 58, 52, 104, 114, 112, 82, 120, 66, 26, 108, 120, 64, 76, 32, 82, 124, 66, 100, 90, 106, 90, 74, 108, 90, 88, 106, 68, 94, 32, 74, 64, 116, 92, 140, 26, 114, 94, 96, 108, 90, 98, 72, 116, 128, 138, 126, 130, 134, 110, 114, 98, 102, 42, 100, 90, 150, 96, 134, 110, 126, 130, 106, 72, 120, 150, 118, 47, 94, 138, 128, 102, 126, 118, 96, 140, 132, 106, 128, 92, 136, 104, 16, 126, 146, 106, 134, 150, 132, 130, 62, 116, 116, 108, 88, 114, 120, 128, 148, 61, 140, 136, 122, 140, 92, 140, 114, 142, 124, 112, 136, 132, 100, 108, 126, 146, 140, 140, 150, 136, 136, 120, 142, 124, 112, 90, 116, 48, 146, 142, 126, 130, 142, 98, 146, 140, 138, 100, 130, 138, 138, 140, 136, 146, 124, 130, 150, 146, 146, 150, 120, 136, 136, 142, 146, 150, 142, 146, 140, 136, 140, 128, 108, 146, 108, 120, 136, 128, 146, 128, 126, 112, 140, 126, 126, 118, 80, 146, 140, 126, 140, 128, 86, 132, 142, 144, 140, 146, 130, 140, 140, 146, 140, 140, 140, 140, 130, 108, 140, 96, 114, 110, 120, 80, 148, 142, 140, 98, 130, 120, 146, 136, 140, 118, 140, 150, 138, 132, 140, 116, 50, 150, 130, 130, 150, 102, 120, 130, 140, 102, 112, 138, 146, 146, 130, 106, 146, 110, 146, 150, 128, 100, 150, 100, 146, 140, 146, 150, 122, 130, 140, 150, 136, 118, 146, 150, 146, 140, 150, 116, 146, 136, 150, 140, 130, 146, 150, 146, 144, 140, 142, 104, 150, 140, 150, 148, 136, 150, 150, 140, 144, 128, 140, 59, 140, 146, 150, 150, 148, 146, 118, 150, 146, 120, 132, 150, 118, 140, 146, 140, 136, 150, 140, 146, 142, 146, 148, 140, 136, 136, 140, 140, 150, 140, 112, 140, 130, 134, 140, 140, 140, 140, 126, 146, 134, 130, 128, 140, 150, 144, 134, 130, 150, 140, 146, 146, 150, 126, 150, 150, 148, 126, 150, 150, 140, 150, 138, 140, 150, 138, 144, 150, 146, 150, 150, 150, 150, 150, 134, 150, 150, 140, 122, 150, 150, 146, 146, 150, 148, 150, 120, 150, 146, 146, 150, 140, 150, 148, 150, 144, 136, 140, 140, 150, 110, 150, 150, 150, 134, 116, 150, 150, 148, 140, 128, 150, 150, 148, 142, 140, 150, 150, 150, 146, 134, 150, 106, 150, 146, 150, 150, 148, 150, 128, 140, 150, 150, 116, 148, 130, 140, 120, 140, 150, 134, 150, 150, 140, 148, 130, 150, 136, 140, 132, 150, 140, 146, 150, 148, 150, 150, 150, 140, 148, 150, 150, 144, 140, 116, 146, 150, 138, 150, 150, 136, 118, 150, 150, 150, 128, 138, 138, 140, 148, 140, 136, 150, 148, 140, 140, 150, 136, 150, 136, 146, 150, 144, 150, 150, 150, 150, 146, 150, 150, 144, 150, 140, 150, 150, 150, 150, 150, 146, 140, 150, 140, 146, 150, 150, 150, 150, 148, 150, 150, 136, 150, 150, 146, 150, 148, 150, 150, 146, 148, 150, 138, 140, 140, 150, 150, 150, 148, 150, 130, 150, 148, 140, 150, 136, 148, 140, 150, 140, 146, 150, 150, 150, 148, 150, 140, 124, 148, 146, 110, 150, 150, 144, 136, 150, 146, 150, 150, 150, 150, 138, 140, 144, 150, 140, 150, 150, 148, 150, 140, 136, 150, 150, 150, 150, 150, 140, 140, 150, 150, 140, 150, 150, 150, 146, 140, 150, 150, 150, 150, 150, 150, 150, 138, 140, 144, 140, 140, 130, 148, 150, 150, 150, 150, 150, 150, 150, 150, 150, 150, 140, 150, 148, 140, 120, 148, 150, 146, 138, 148, 140, 150, 140, 148, 140, 140, 150, 150, 148, 150, 150, 142, 150, 150, 150, 148, 150, 140, 136, 132, 140, 140, 140, 150, 150, 148, 140, 144, 148, 126, 150, 150, 150, 140, 150, 148, 150, 150, 138, 150, 150, 138, 150, 138, 140, 148, 150, 150, 140, 148, 136, 150, 150, 148, 140, 148, 130, 150, 138, 150, 138, 150, 150, 134, 150, 150, 150, 140, 150, 150, 150, 150, 150, 144, 150, 150, 148, 150, 140, 150, 150, 148, 150, 150, 140, 150, 146, 150, 148, 150, 150, 150, 150, 140, 140, 150, 150, 140, 150, 148, 140, 150, 150, 142, 150, 150, 150, 140, 140, 150, 150, 148, 140, 150, 138, 150, 150, 150, 150, 140, 150, 150, 140, 150, 150, 150, 150, 150, 148, 150, 150, 150, 150, 140, 150, 140, 150, 150, 150, 150, 148, 150, 140, 150, 150, 138, 138, 150, 150, 150, 148, 140, 150, 150, 150, 150, 148, 150, 150, 140, 150, 150, 150, 150, 148, 150, 138, 140, 150, 150, 150, 150, 138, 150, 150, 148, 150, 150, 150, 150, 130, 148, 150, 150, 150, 140, 148, 150, 150, 150, 150, 138, 150, 150, 150, 150, 150, 150, 150, 150, 150, 150, 128, 150, 150, 140, 150, 150, 150, 150, 148, 150, 150, 150, 130, 150, 148, 150, 150, 150, 138, 150, 150, 150, 150, 150, 150, 140, 150, 150, 150, 150, 140, 150, 138, 150, 150, 150, 140, 150, 140, 150, 150, 150, 148, 140, 150, 148, 140, 140, 140, 150, 150, 148, 140, 136, 150, 150, 150, 150, 150, 140, 148, 150, 150, 140, 150, 148, 150, 140, 150, 138]\n"
          ]
        },
        {
          "output_type": "display_data",
          "data": {
            "text/plain": [
              "<Figure size 576x576 with 1 Axes>"
            ],
            "image/png": "[encoded data removed]"
          },
          "metadata": {
            "needs_background": "light"
          }
        }
      ]
    },
    {
      "cell_type": "code",
      "source": [
        "env = GridEnv(env_type = \"stochastic\")\n",
        "agent = RandomAgent(env)\n",
        "\n",
        "obs, info = env.reset()\n",
        "terminated, truncated = False, False\n",
        "\n",
        "\n",
        "output_grid = widgets.Grid(1, 1)\n",
        "with output_grid.output_to(0, 0):\n",
        "  env.render()\n",
        "\n",
        "def get_max_val(arg):\n",
        "  return max(arg)\n",
        "  \n",
        "for i in q_table_sarsa_stoc:\n",
        "  max_val = get_max_val(i)\n",
        "  i_to_list = i.tolist()\n",
        "  max_index = i_to_list.index(max_val)\n",
        "  observation, reward, terminated, truncated, info, agent_pos = env.step(max_index)\n",
        "  with output_grid.output_to(0, 0):\n",
        "    output_grid.clear_cell()\n",
        "    plt.imshow(grid)\n",
        "    env.render()\n",
        "  time.sleep(1)\n",
        "\n",
        "  "
      ],
      "metadata": {
        "id": "xk67wZwYKfoA",
        "outputId": "a1b42103-49c9-47ea-d548-d794ca42a79c",
        "colab": {
          "base_uri": "https://localhost:8080/",
          "height": 287
        }
      },
      "execution_count": 251,
      "outputs": [
        {
          "output_type": "display_data",
          "data": {
            "text/plain": [
              "<IPython.core.display.HTML object>"
            ],
            "text/html": [
              "<style>\n",
              "       table#id34, #id34 > tbody > tr > th, #id34 > tbody > tr > td {\n",
              "         border: 1px solid lightgray;\n",
              "         border-collapse:collapse;\n",
              "         \n",
              "        }</style>"
            ]
          },
          "metadata": {}
        },
        {
          "output_type": "display_data",
          "data": {
            "text/plain": [
              "<IPython.core.display.HTML object>"
            ],
            "text/html": [
              "<table id=id34><tr><td id=id34-0-0></td></tr></table>"
            ]
          },
          "metadata": {}
        },
        {
          "output_type": "display_data",
          "data": {
            "text/plain": [
              "<IPython.core.display.Javascript object>"
            ],
            "application/javascript": [
              "window[\"9e7ca7b4-ba1b-11ed-9901-0242ac1c000c\"] = google.colab.output.getActiveOutputArea();\n",
              "//# sourceURL=js_de5e535b11"
            ]
          },
          "metadata": {}
        },
        {
          "output_type": "display_data",
          "data": {
            "text/plain": [
              "<IPython.core.display.Javascript object>"
            ],
            "application/javascript": [
              "window[\"9e7d1c58-ba1b-11ed-9901-0242ac1c000c\"] = document.querySelector(\"#id34-0-0\");\n",
              "//# sourceURL=js_38355a8610"
            ]
          },
          "metadata": {}
        },
        {
          "output_type": "display_data",
          "data": {
            "text/plain": [
              "<IPython.core.display.Javascript object>"
            ],
            "application/javascript": [
              "window[\"9e7d993a-ba1b-11ed-9901-0242ac1c000c\"] = google.colab.output.setActiveOutputArea(window[\"9e7d1c58-ba1b-11ed-9901-0242ac1c000c\"]);\n",
              "//# sourceURL=js_c699ad9fa3"
            ]
          },
          "metadata": {}
        },
        {
          "output_type": "display_data",
          "data": {
            "text/plain": [
              "<IPython.core.display.Javascript object>"
            ],
            "application/javascript": [
              "window[\"9e9e166a-ba1b-11ed-9901-0242ac1c000c\"] = google.colab.output.setActiveOutputArea(window[\"9e7ca7b4-ba1b-11ed-9901-0242ac1c000c\"]);\n",
              "//# sourceURL=js_222de476a1"
            ]
          },
          "metadata": {}
        },
        {
          "output_type": "display_data",
          "data": {
            "text/plain": [
              "<IPython.core.display.Javascript object>"
            ],
            "application/javascript": [
              "window[\"9ea08e2c-ba1b-11ed-9901-0242ac1c000c\"] = google.colab.output.getActiveOutputArea();\n",
              "//# sourceURL=js_d49b1ceacb"
            ]
          },
          "metadata": {}
        },
        {
          "output_type": "display_data",
          "data": {
            "text/plain": [
              "<IPython.core.display.Javascript object>"
            ],
            "application/javascript": [
              "window[\"9ea1000a-ba1b-11ed-9901-0242ac1c000c\"] = document.querySelector(\"#id34-0-0\");\n",
              "//# sourceURL=js_5e33490af7"
            ]
          },
          "metadata": {}
        },
        {
          "output_type": "display_data",
          "data": {
            "text/plain": [
              "<IPython.core.display.Javascript object>"
            ],
            "application/javascript": [
              "window[\"9ea16a04-ba1b-11ed-9901-0242ac1c000c\"] = google.colab.output.setActiveOutputArea(window[\"9ea1000a-ba1b-11ed-9901-0242ac1c000c\"]);\n",
              "//# sourceURL=js_d0d04c1586"
            ]
          },
          "metadata": {}
        },
        {
          "output_type": "display_data",
          "data": {
            "text/plain": [
              "<IPython.core.display.Javascript object>"
            ],
            "application/javascript": [
              "window[\"9f11ab20-ba1b-11ed-9901-0242ac1c000c\"] = google.colab.output.setActiveOutputArea(window[\"9ea08e2c-ba1b-11ed-9901-0242ac1c000c\"]);\n",
              "//# sourceURL=js_6690817b67"
            ]
          },
          "metadata": {}
        },
        {
          "output_type": "display_data",
          "data": {
            "text/plain": [
              "<IPython.core.display.Javascript object>"
            ],
            "application/javascript": [
              "window[\"9fadd2fc-ba1b-11ed-9901-0242ac1c000c\"] = google.colab.output.getActiveOutputArea();\n",
              "//# sourceURL=js_2231ffa32e"
            ]
          },
          "metadata": {}
        },
        {
          "output_type": "display_data",
          "data": {
            "text/plain": [
              "<IPython.core.display.Javascript object>"
            ],
            "application/javascript": [
              "window[\"9fae50e2-ba1b-11ed-9901-0242ac1c000c\"] = document.querySelector(\"#id34-0-0\");\n",
              "//# sourceURL=js_227fa21489"
            ]
          },
          "metadata": {}
        },
        {
          "output_type": "display_data",
          "data": {
            "text/plain": [
              "<IPython.core.display.Javascript object>"
            ],
            "application/javascript": [
              "window[\"9faeedb8-ba1b-11ed-9901-0242ac1c000c\"] = google.colab.output.setActiveOutputArea(window[\"9fae50e2-ba1b-11ed-9901-0242ac1c000c\"]);\n",
              "//# sourceURL=js_ec536cfbbe"
            ]
          },
          "metadata": {}
        },
        {
          "output_type": "display_data",
          "data": {
            "text/plain": [
              "<IPython.core.display.Javascript object>"
            ],
            "application/javascript": [
              "window[\"9fd07744-ba1b-11ed-9901-0242ac1c000c\"] = google.colab.output.setActiveOutputArea(window[\"9fadd2fc-ba1b-11ed-9901-0242ac1c000c\"]);\n",
              "//# sourceURL=js_47a40571f5"
            ]
          },
          "metadata": {}
        },
        {
          "output_type": "display_data",
          "data": {
            "text/plain": [
              "<IPython.core.display.Javascript object>"
            ],
            "application/javascript": [
              "window[\"a06c711c-ba1b-11ed-9901-0242ac1c000c\"] = google.colab.output.getActiveOutputArea();\n",
              "//# sourceURL=js_182f64cf3f"
            ]
          },
          "metadata": {}
        },
        {
          "output_type": "display_data",
          "data": {
            "text/plain": [
              "<IPython.core.display.Javascript object>"
            ],
            "application/javascript": [
              "window[\"a06cff1a-ba1b-11ed-9901-0242ac1c000c\"] = document.querySelector(\"#id34-0-0\");\n",
              "//# sourceURL=js_7af132025b"
            ]
          },
          "metadata": {}
        },
        {
          "output_type": "display_data",
          "data": {
            "text/plain": [
              "<IPython.core.display.Javascript object>"
            ],
            "application/javascript": [
              "window[\"a06d8aca-ba1b-11ed-9901-0242ac1c000c\"] = google.colab.output.setActiveOutputArea(window[\"a06cff1a-ba1b-11ed-9901-0242ac1c000c\"]);\n",
              "//# sourceURL=js_846a8602c9"
            ]
          },
          "metadata": {}
        },
        {
          "output_type": "display_data",
          "data": {
            "text/plain": [
              "<IPython.core.display.Javascript object>"
            ],
            "application/javascript": [
              "window[\"a0a7634e-ba1b-11ed-9901-0242ac1c000c\"] = google.colab.output.setActiveOutputArea(window[\"a06c711c-ba1b-11ed-9901-0242ac1c000c\"]);\n",
              "//# sourceURL=js_0a534833e7"
            ]
          },
          "metadata": {}
        },
        {
          "output_type": "display_data",
          "data": {
            "text/plain": [
              "<IPython.core.display.Javascript object>"
            ],
            "application/javascript": [
              "window[\"a14258ae-ba1b-11ed-9901-0242ac1c000c\"] = google.colab.output.getActiveOutputArea();\n",
              "//# sourceURL=js_b249525a3e"
            ]
          },
          "metadata": {}
        },
        {
          "output_type": "display_data",
          "data": {
            "text/plain": [
              "<IPython.core.display.Javascript object>"
            ],
            "application/javascript": [
              "window[\"a142dacc-ba1b-11ed-9901-0242ac1c000c\"] = document.querySelector(\"#id34-0-0\");\n",
              "//# sourceURL=js_51ed2d7c6d"
            ]
          },
          "metadata": {}
        },
        {
          "output_type": "display_data",
          "data": {
            "text/plain": [
              "<IPython.core.display.Javascript object>"
            ],
            "application/javascript": [
              "window[\"a1434836-ba1b-11ed-9901-0242ac1c000c\"] = google.colab.output.setActiveOutputArea(window[\"a142dacc-ba1b-11ed-9901-0242ac1c000c\"]);\n",
              "//# sourceURL=js_9a76a5795b"
            ]
          },
          "metadata": {}
        },
        {
          "output_type": "display_data",
          "data": {
            "text/plain": [
              "<IPython.core.display.Javascript object>"
            ],
            "application/javascript": [
              "window[\"a16591ac-ba1b-11ed-9901-0242ac1c000c\"] = google.colab.output.setActiveOutputArea(window[\"a14258ae-ba1b-11ed-9901-0242ac1c000c\"]);\n",
              "//# sourceURL=js_0c51afc6f1"
            ]
          },
          "metadata": {}
        },
        {
          "output_type": "display_data",
          "data": {
            "text/plain": [
              "<IPython.core.display.Javascript object>"
            ],
            "application/javascript": [
              "window[\"a2014610-ba1b-11ed-9901-0242ac1c000c\"] = google.colab.output.getActiveOutputArea();\n",
              "//# sourceURL=js_63a65841d9"
            ]
          },
          "metadata": {}
        },
        {
          "output_type": "display_data",
          "data": {
            "text/plain": [
              "<IPython.core.display.Javascript object>"
            ],
            "application/javascript": [
              "window[\"a201b8e8-ba1b-11ed-9901-0242ac1c000c\"] = document.querySelector(\"#id34-0-0\");\n",
              "//# sourceURL=js_49e4b8caea"
            ]
          },
          "metadata": {}
        },
        {
          "output_type": "display_data",
          "data": {
            "text/plain": [
              "<IPython.core.display.Javascript object>"
            ],
            "application/javascript": [
              "window[\"a2025e7e-ba1b-11ed-9901-0242ac1c000c\"] = google.colab.output.setActiveOutputArea(window[\"a201b8e8-ba1b-11ed-9901-0242ac1c000c\"]);\n",
              "//# sourceURL=js_52c51430b6"
            ]
          },
          "metadata": {}
        },
        {
          "output_type": "display_data",
          "data": {
            "text/plain": [
              "<IPython.core.display.Javascript object>"
            ],
            "application/javascript": [
              "window[\"a224130c-ba1b-11ed-9901-0242ac1c000c\"] = google.colab.output.setActiveOutputArea(window[\"a2014610-ba1b-11ed-9901-0242ac1c000c\"]);\n",
              "//# sourceURL=js_1099f05748"
            ]
          },
          "metadata": {}
        },
        {
          "output_type": "display_data",
          "data": {
            "text/plain": [
              "<IPython.core.display.Javascript object>"
            ],
            "application/javascript": [
              "window[\"a2bf6668-ba1b-11ed-9901-0242ac1c000c\"] = google.colab.output.getActiveOutputArea();\n",
              "//# sourceURL=js_a254199a85"
            ]
          },
          "metadata": {}
        },
        {
          "output_type": "display_data",
          "data": {
            "text/plain": [
              "<IPython.core.display.Javascript object>"
            ],
            "application/javascript": [
              "window[\"a2c05104-ba1b-11ed-9901-0242ac1c000c\"] = document.querySelector(\"#id34-0-0\");\n",
              "//# sourceURL=js_a48d07dfec"
            ]
          },
          "metadata": {}
        },
        {
          "output_type": "display_data",
          "data": {
            "text/plain": [
              "<IPython.core.display.Javascript object>"
            ],
            "application/javascript": [
              "window[\"a2c0bea0-ba1b-11ed-9901-0242ac1c000c\"] = google.colab.output.setActiveOutputArea(window[\"a2c05104-ba1b-11ed-9901-0242ac1c000c\"]);\n",
              "//# sourceURL=js_cd3c896f1d"
            ]
          },
          "metadata": {}
        },
        {
          "output_type": "display_data",
          "data": {
            "text/plain": [
              "<IPython.core.display.Javascript object>"
            ],
            "application/javascript": [
              "window[\"a2f43ce4-ba1b-11ed-9901-0242ac1c000c\"] = google.colab.output.setActiveOutputArea(window[\"a2bf6668-ba1b-11ed-9901-0242ac1c000c\"]);\n",
              "//# sourceURL=js_d34fc93a7a"
            ]
          },
          "metadata": {}
        },
        {
          "output_type": "display_data",
          "data": {
            "text/plain": [
              "<IPython.core.display.Javascript object>"
            ],
            "application/javascript": [
              "window[\"a38f62fa-ba1b-11ed-9901-0242ac1c000c\"] = google.colab.output.getActiveOutputArea();\n",
              "//# sourceURL=js_09e8bbe0ab"
            ]
          },
          "metadata": {}
        },
        {
          "output_type": "display_data",
          "data": {
            "text/plain": [
              "<IPython.core.display.Javascript object>"
            ],
            "application/javascript": [
              "window[\"a390230c-ba1b-11ed-9901-0242ac1c000c\"] = document.querySelector(\"#id34-0-0\");\n",
              "//# sourceURL=js_145dd83a7b"
            ]
          },
          "metadata": {}
        },
        {
          "output_type": "display_data",
          "data": {
            "text/plain": [
              "<IPython.core.display.Javascript object>"
            ],
            "application/javascript": [
              "window[\"a390ba24-ba1b-11ed-9901-0242ac1c000c\"] = google.colab.output.setActiveOutputArea(window[\"a390230c-ba1b-11ed-9901-0242ac1c000c\"]);\n",
              "//# sourceURL=js_c86c61d643"
            ]
          },
          "metadata": {}
        },
        {
          "output_type": "display_data",
          "data": {
            "text/plain": [
              "<IPython.core.display.Javascript object>"
            ],
            "application/javascript": [
              "window[\"a3bc7ede-ba1b-11ed-9901-0242ac1c000c\"] = google.colab.output.setActiveOutputArea(window[\"a38f62fa-ba1b-11ed-9901-0242ac1c000c\"]);\n",
              "//# sourceURL=js_0fe09bb90c"
            ]
          },
          "metadata": {}
        },
        {
          "output_type": "display_data",
          "data": {
            "text/plain": [
              "<IPython.core.display.Javascript object>"
            ],
            "application/javascript": [
              "window[\"a4577f24-ba1b-11ed-9901-0242ac1c000c\"] = google.colab.output.getActiveOutputArea();\n",
              "//# sourceURL=js_d02da7d0f1"
            ]
          },
          "metadata": {}
        },
        {
          "output_type": "display_data",
          "data": {
            "text/plain": [
              "<IPython.core.display.Javascript object>"
            ],
            "application/javascript": [
              "window[\"a4581484-ba1b-11ed-9901-0242ac1c000c\"] = document.querySelector(\"#id34-0-0\");\n",
              "//# sourceURL=js_8cdbda7fdf"
            ]
          },
          "metadata": {}
        },
        {
          "output_type": "display_data",
          "data": {
            "text/plain": [
              "<IPython.core.display.Javascript object>"
            ],
            "application/javascript": [
              "window[\"a4587bc2-ba1b-11ed-9901-0242ac1c000c\"] = google.colab.output.setActiveOutputArea(window[\"a4581484-ba1b-11ed-9901-0242ac1c000c\"]);\n",
              "//# sourceURL=js_a93afb00c1"
            ]
          },
          "metadata": {}
        },
        {
          "output_type": "display_data",
          "data": {
            "text/plain": [
              "<IPython.core.display.Javascript object>"
            ],
            "application/javascript": [
              "window[\"a4798a1a-ba1b-11ed-9901-0242ac1c000c\"] = google.colab.output.setActiveOutputArea(window[\"a4577f24-ba1b-11ed-9901-0242ac1c000c\"]);\n",
              "//# sourceURL=js_73b35721d6"
            ]
          },
          "metadata": {}
        },
        {
          "output_type": "display_data",
          "data": {
            "text/plain": [
              "<IPython.core.display.Javascript object>"
            ],
            "application/javascript": [
              "window[\"a51493ac-ba1b-11ed-9901-0242ac1c000c\"] = google.colab.output.getActiveOutputArea();\n",
              "//# sourceURL=js_3811300545"
            ]
          },
          "metadata": {}
        },
        {
          "output_type": "display_data",
          "data": {
            "text/plain": [
              "<IPython.core.display.Javascript object>"
            ],
            "application/javascript": [
              "window[\"a5152376-ba1b-11ed-9901-0242ac1c000c\"] = document.querySelector(\"#id34-0-0\");\n",
              "//# sourceURL=js_9acf887232"
            ]
          },
          "metadata": {}
        },
        {
          "output_type": "display_data",
          "data": {
            "text/plain": [
              "<IPython.core.display.Javascript object>"
            ],
            "application/javascript": [
              "window[\"a51596a8-ba1b-11ed-9901-0242ac1c000c\"] = google.colab.output.setActiveOutputArea(window[\"a5152376-ba1b-11ed-9901-0242ac1c000c\"]);\n",
              "//# sourceURL=js_2d9ccf6137"
            ]
          },
          "metadata": {}
        },
        {
          "output_type": "display_data",
          "data": {
            "text/plain": [
              "<IPython.core.display.Javascript object>"
            ],
            "application/javascript": [
              "window[\"a534ec6a-ba1b-11ed-9901-0242ac1c000c\"] = google.colab.output.setActiveOutputArea(window[\"a51493ac-ba1b-11ed-9901-0242ac1c000c\"]);\n",
              "//# sourceURL=js_0f04e2ff64"
            ]
          },
          "metadata": {}
        },
        {
          "output_type": "display_data",
          "data": {
            "text/plain": [
              "<IPython.core.display.Javascript object>"
            ],
            "application/javascript": [
              "window[\"a5d005ce-ba1b-11ed-9901-0242ac1c000c\"] = google.colab.output.getActiveOutputArea();\n",
              "//# sourceURL=js_b70902f81b"
            ]
          },
          "metadata": {}
        },
        {
          "output_type": "display_data",
          "data": {
            "text/plain": [
              "<IPython.core.display.Javascript object>"
            ],
            "application/javascript": [
              "window[\"a5d06bd6-ba1b-11ed-9901-0242ac1c000c\"] = document.querySelector(\"#id34-0-0\");\n",
              "//# sourceURL=js_1af4a36092"
            ]
          },
          "metadata": {}
        },
        {
          "output_type": "display_data",
          "data": {
            "text/plain": [
              "<IPython.core.display.Javascript object>"
            ],
            "application/javascript": [
              "window[\"a5d0e264-ba1b-11ed-9901-0242ac1c000c\"] = google.colab.output.setActiveOutputArea(window[\"a5d06bd6-ba1b-11ed-9901-0242ac1c000c\"]);\n",
              "//# sourceURL=js_940c11ad95"
            ]
          },
          "metadata": {}
        },
        {
          "output_type": "display_data",
          "data": {
            "text/plain": [
              "<IPython.core.display.Javascript object>"
            ],
            "application/javascript": [
              "window[\"a5f4a08c-ba1b-11ed-9901-0242ac1c000c\"] = google.colab.output.setActiveOutputArea(window[\"a5d005ce-ba1b-11ed-9901-0242ac1c000c\"]);\n",
              "//# sourceURL=js_e791bfda6d"
            ]
          },
          "metadata": {}
        },
        {
          "output_type": "display_data",
          "data": {
            "text/plain": [
              "<IPython.core.display.Javascript object>"
            ],
            "application/javascript": [
              "window[\"a69082e0-ba1b-11ed-9901-0242ac1c000c\"] = google.colab.output.getActiveOutputArea();\n",
              "//# sourceURL=js_ba115a1d56"
            ]
          },
          "metadata": {}
        },
        {
          "output_type": "display_data",
          "data": {
            "text/plain": [
              "<IPython.core.display.Javascript object>"
            ],
            "application/javascript": [
              "window[\"a690ebc2-ba1b-11ed-9901-0242ac1c000c\"] = document.querySelector(\"#id34-0-0\");\n",
              "//# sourceURL=js_53875e116f"
            ]
          },
          "metadata": {}
        },
        {
          "output_type": "display_data",
          "data": {
            "text/plain": [
              "<IPython.core.display.Javascript object>"
            ],
            "application/javascript": [
              "window[\"a6917bbe-ba1b-11ed-9901-0242ac1c000c\"] = google.colab.output.setActiveOutputArea(window[\"a690ebc2-ba1b-11ed-9901-0242ac1c000c\"]);\n",
              "//# sourceURL=js_6a4195fd62"
            ]
          },
          "metadata": {}
        },
        {
          "output_type": "display_data",
          "data": {
            "text/plain": [
              "<IPython.core.display.Javascript object>"
            ],
            "application/javascript": [
              "window[\"a6b44324-ba1b-11ed-9901-0242ac1c000c\"] = google.colab.output.setActiveOutputArea(window[\"a69082e0-ba1b-11ed-9901-0242ac1c000c\"]);\n",
              "//# sourceURL=js_0d430e4e7e"
            ]
          },
          "metadata": {}
        },
        {
          "output_type": "display_data",
          "data": {
            "text/plain": [
              "<IPython.core.display.Javascript object>"
            ],
            "application/javascript": [
              "window[\"a74f40b8-ba1b-11ed-9901-0242ac1c000c\"] = google.colab.output.getActiveOutputArea();\n",
              "//# sourceURL=js_28aac79053"
            ]
          },
          "metadata": {}
        },
        {
          "output_type": "display_data",
          "data": {
            "text/plain": [
              "<IPython.core.display.Javascript object>"
            ],
            "application/javascript": [
              "window[\"a74f99d2-ba1b-11ed-9901-0242ac1c000c\"] = document.querySelector(\"#id34-0-0\");\n",
              "//# sourceURL=js_59a61d144e"
            ]
          },
          "metadata": {}
        },
        {
          "output_type": "display_data",
          "data": {
            "text/plain": [
              "<IPython.core.display.Javascript object>"
            ],
            "application/javascript": [
              "window[\"a7503e28-ba1b-11ed-9901-0242ac1c000c\"] = google.colab.output.setActiveOutputArea(window[\"a74f99d2-ba1b-11ed-9901-0242ac1c000c\"]);\n",
              "//# sourceURL=js_8b40b3cd99"
            ]
          },
          "metadata": {}
        },
        {
          "output_type": "display_data",
          "data": {
            "text/plain": [
              "<IPython.core.display.Javascript object>"
            ],
            "application/javascript": [
              "window[\"a7729022-ba1b-11ed-9901-0242ac1c000c\"] = google.colab.output.setActiveOutputArea(window[\"a74f40b8-ba1b-11ed-9901-0242ac1c000c\"]);\n",
              "//# sourceURL=js_1eb9d586c9"
            ]
          },
          "metadata": {}
        },
        {
          "output_type": "display_data",
          "data": {
            "text/plain": [
              "<IPython.core.display.Javascript object>"
            ],
            "application/javascript": [
              "window[\"a80d8dac-ba1b-11ed-9901-0242ac1c000c\"] = google.colab.output.getActiveOutputArea();\n",
              "//# sourceURL=js_072ef8fab2"
            ]
          },
          "metadata": {}
        },
        {
          "output_type": "display_data",
          "data": {
            "text/plain": [
              "<IPython.core.display.Javascript object>"
            ],
            "application/javascript": [
              "window[\"a80df288-ba1b-11ed-9901-0242ac1c000c\"] = document.querySelector(\"#id34-0-0\");\n",
              "//# sourceURL=js_513ecde1e2"
            ]
          },
          "metadata": {}
        },
        {
          "output_type": "display_data",
          "data": {
            "text/plain": [
              "<IPython.core.display.Javascript object>"
            ],
            "application/javascript": [
              "window[\"a80e89a0-ba1b-11ed-9901-0242ac1c000c\"] = google.colab.output.setActiveOutputArea(window[\"a80df288-ba1b-11ed-9901-0242ac1c000c\"]);\n",
              "//# sourceURL=js_58c8fdc4dc"
            ]
          },
          "metadata": {}
        },
        {
          "output_type": "display_data",
          "data": {
            "text/plain": [
              "<IPython.core.display.Javascript object>"
            ],
            "application/javascript": [
              "window[\"a82e69dc-ba1b-11ed-9901-0242ac1c000c\"] = google.colab.output.setActiveOutputArea(window[\"a80d8dac-ba1b-11ed-9901-0242ac1c000c\"]);\n",
              "//# sourceURL=js_9c5656a08f"
            ]
          },
          "metadata": {}
        },
        {
          "output_type": "display_data",
          "data": {
            "text/plain": [
              "<IPython.core.display.Javascript object>"
            ],
            "application/javascript": [
              "window[\"a8c984ee-ba1b-11ed-9901-0242ac1c000c\"] = google.colab.output.getActiveOutputArea();\n",
              "//# sourceURL=js_8f1b816532"
            ]
          },
          "metadata": {}
        },
        {
          "output_type": "display_data",
          "data": {
            "text/plain": [
              "<IPython.core.display.Javascript object>"
            ],
            "application/javascript": [
              "window[\"a8ca172e-ba1b-11ed-9901-0242ac1c000c\"] = document.querySelector(\"#id34-0-0\");\n",
              "//# sourceURL=js_56e66d97ee"
            ]
          },
          "metadata": {}
        },
        {
          "output_type": "display_data",
          "data": {
            "text/plain": [
              "<IPython.core.display.Javascript object>"
            ],
            "application/javascript": [
              "window[\"a8ca90be-ba1b-11ed-9901-0242ac1c000c\"] = google.colab.output.setActiveOutputArea(window[\"a8ca172e-ba1b-11ed-9901-0242ac1c000c\"]);\n",
              "//# sourceURL=js_2201d7e4c6"
            ]
          },
          "metadata": {}
        },
        {
          "output_type": "display_data",
          "data": {
            "text/plain": [
              "<IPython.core.display.Javascript object>"
            ],
            "application/javascript": [
              "window[\"a8ec3278-ba1b-11ed-9901-0242ac1c000c\"] = google.colab.output.setActiveOutputArea(window[\"a8c984ee-ba1b-11ed-9901-0242ac1c000c\"]);\n",
              "//# sourceURL=js_e5048dd34e"
            ]
          },
          "metadata": {}
        },
        {
          "output_type": "display_data",
          "data": {
            "text/plain": [
              "<IPython.core.display.Javascript object>"
            ],
            "application/javascript": [
              "window[\"a9876c34-ba1b-11ed-9901-0242ac1c000c\"] = google.colab.output.getActiveOutputArea();\n",
              "//# sourceURL=js_859267f01b"
            ]
          },
          "metadata": {}
        },
        {
          "output_type": "display_data",
          "data": {
            "text/plain": [
              "<IPython.core.display.Javascript object>"
            ],
            "application/javascript": [
              "window[\"a987d5c0-ba1b-11ed-9901-0242ac1c000c\"] = document.querySelector(\"#id34-0-0\");\n",
              "//# sourceURL=js_b0b0ae688f"
            ]
          },
          "metadata": {}
        },
        {
          "output_type": "display_data",
          "data": {
            "text/plain": [
              "<IPython.core.display.Javascript object>"
            ],
            "application/javascript": [
              "window[\"a9885cac-ba1b-11ed-9901-0242ac1c000c\"] = google.colab.output.setActiveOutputArea(window[\"a987d5c0-ba1b-11ed-9901-0242ac1c000c\"]);\n",
              "//# sourceURL=js_bc7356ea10"
            ]
          },
          "metadata": {}
        },
        {
          "output_type": "display_data",
          "data": {
            "text/plain": [
              "<IPython.core.display.Javascript object>"
            ],
            "application/javascript": [
              "window[\"a9aa83e0-ba1b-11ed-9901-0242ac1c000c\"] = google.colab.output.setActiveOutputArea(window[\"a9876c34-ba1b-11ed-9901-0242ac1c000c\"]);\n",
              "//# sourceURL=js_87596e4e3a"
            ]
          },
          "metadata": {}
        },
        {
          "output_type": "display_data",
          "data": {
            "text/plain": [
              "<IPython.core.display.Javascript object>"
            ],
            "application/javascript": [
              "window[\"aa45ccc4-ba1b-11ed-9901-0242ac1c000c\"] = google.colab.output.getActiveOutputArea();\n",
              "//# sourceURL=js_f4189103d7"
            ]
          },
          "metadata": {}
        },
        {
          "output_type": "display_data",
          "data": {
            "text/plain": [
              "<IPython.core.display.Javascript object>"
            ],
            "application/javascript": [
              "window[\"aa468e3e-ba1b-11ed-9901-0242ac1c000c\"] = document.querySelector(\"#id34-0-0\");\n",
              "//# sourceURL=js_8d81b147d4"
            ]
          },
          "metadata": {}
        },
        {
          "output_type": "display_data",
          "data": {
            "text/plain": [
              "<IPython.core.display.Javascript object>"
            ],
            "application/javascript": [
              "window[\"aa47ea40-ba1b-11ed-9901-0242ac1c000c\"] = google.colab.output.setActiveOutputArea(window[\"aa468e3e-ba1b-11ed-9901-0242ac1c000c\"]);\n",
              "//# sourceURL=js_cc4902db6b"
            ]
          },
          "metadata": {}
        },
        {
          "output_type": "display_data",
          "data": {
            "text/plain": [
              "<IPython.core.display.Javascript object>"
            ],
            "application/javascript": [
              "window[\"aa73c480-ba1b-11ed-9901-0242ac1c000c\"] = google.colab.output.setActiveOutputArea(window[\"aa45ccc4-ba1b-11ed-9901-0242ac1c000c\"]);\n",
              "//# sourceURL=js_f8a122f0d5"
            ]
          },
          "metadata": {}
        },
        {
          "output_type": "display_data",
          "data": {
            "text/plain": [
              "<IPython.core.display.Javascript object>"
            ],
            "application/javascript": [
              "window[\"ab0f662e-ba1b-11ed-9901-0242ac1c000c\"] = google.colab.output.getActiveOutputArea();\n",
              "//# sourceURL=js_265993c296"
            ]
          },
          "metadata": {}
        },
        {
          "output_type": "display_data",
          "data": {
            "text/plain": [
              "<IPython.core.display.Javascript object>"
            ],
            "application/javascript": [
              "window[\"ab0fe6b2-ba1b-11ed-9901-0242ac1c000c\"] = document.querySelector(\"#id34-0-0\");\n",
              "//# sourceURL=js_e42ad518dc"
            ]
          },
          "metadata": {}
        },
        {
          "output_type": "display_data",
          "data": {
            "text/plain": [
              "<IPython.core.display.Javascript object>"
            ],
            "application/javascript": [
              "window[\"ab1046d4-ba1b-11ed-9901-0242ac1c000c\"] = google.colab.output.setActiveOutputArea(window[\"ab0fe6b2-ba1b-11ed-9901-0242ac1c000c\"]);\n",
              "//# sourceURL=js_136d2b5d3e"
            ]
          },
          "metadata": {}
        },
        {
          "output_type": "display_data",
          "data": {
            "text/plain": [
              "<IPython.core.display.Javascript object>"
            ],
            "application/javascript": [
              "window[\"ab344520-ba1b-11ed-9901-0242ac1c000c\"] = google.colab.output.setActiveOutputArea(window[\"ab0f662e-ba1b-11ed-9901-0242ac1c000c\"]);\n",
              "//# sourceURL=js_bcb724082c"
            ]
          },
          "metadata": {}
        },
        {
          "output_type": "display_data",
          "data": {
            "text/plain": [
              "<IPython.core.display.Javascript object>"
            ],
            "application/javascript": [
              "window[\"abd082b4-ba1b-11ed-9901-0242ac1c000c\"] = google.colab.output.getActiveOutputArea();\n",
              "//# sourceURL=js_3ae94fa979"
            ]
          },
          "metadata": {}
        },
        {
          "output_type": "display_data",
          "data": {
            "text/plain": [
              "<IPython.core.display.Javascript object>"
            ],
            "application/javascript": [
              "window[\"abd14410-ba1b-11ed-9901-0242ac1c000c\"] = document.querySelector(\"#id34-0-0\");\n",
              "//# sourceURL=js_ab97b7c739"
            ]
          },
          "metadata": {}
        },
        {
          "output_type": "display_data",
          "data": {
            "text/plain": [
              "<IPython.core.display.Javascript object>"
            ],
            "application/javascript": [
              "window[\"abd1aea0-ba1b-11ed-9901-0242ac1c000c\"] = google.colab.output.setActiveOutputArea(window[\"abd14410-ba1b-11ed-9901-0242ac1c000c\"]);\n",
              "//# sourceURL=js_8bbc39529d"
            ]
          },
          "metadata": {}
        },
        {
          "output_type": "display_data",
          "data": {
            "text/plain": [
              "<IPython.core.display.Javascript object>"
            ],
            "application/javascript": [
              "window[\"abf3852a-ba1b-11ed-9901-0242ac1c000c\"] = google.colab.output.setActiveOutputArea(window[\"abd082b4-ba1b-11ed-9901-0242ac1c000c\"]);\n",
              "//# sourceURL=js_0da9350b21"
            ]
          },
          "metadata": {}
        },
        {
          "output_type": "display_data",
          "data": {
            "text/plain": [
              "<IPython.core.display.Javascript object>"
            ],
            "application/javascript": [
              "window[\"ac8ef316-ba1b-11ed-9901-0242ac1c000c\"] = google.colab.output.getActiveOutputArea();\n",
              "//# sourceURL=js_b700651353"
            ]
          },
          "metadata": {}
        },
        {
          "output_type": "display_data",
          "data": {
            "text/plain": [
              "<IPython.core.display.Javascript object>"
            ],
            "application/javascript": [
              "window[\"ac8fbe9a-ba1b-11ed-9901-0242ac1c000c\"] = document.querySelector(\"#id34-0-0\");\n",
              "//# sourceURL=js_8c361b9113"
            ]
          },
          "metadata": {}
        },
        {
          "output_type": "display_data",
          "data": {
            "text/plain": [
              "<IPython.core.display.Javascript object>"
            ],
            "application/javascript": [
              "window[\"ac905dd2-ba1b-11ed-9901-0242ac1c000c\"] = google.colab.output.setActiveOutputArea(window[\"ac8fbe9a-ba1b-11ed-9901-0242ac1c000c\"]);\n",
              "//# sourceURL=js_641536c956"
            ]
          },
          "metadata": {}
        },
        {
          "output_type": "display_data",
          "data": {
            "text/plain": [
              "<IPython.core.display.Javascript object>"
            ],
            "application/javascript": [
              "window[\"acaff8fe-ba1b-11ed-9901-0242ac1c000c\"] = google.colab.output.setActiveOutputArea(window[\"ac8ef316-ba1b-11ed-9901-0242ac1c000c\"]);\n",
              "//# sourceURL=js_cf11ac6b5e"
            ]
          },
          "metadata": {}
        },
        {
          "output_type": "display_data",
          "data": {
            "text/plain": [
              "<IPython.core.display.Javascript object>"
            ],
            "application/javascript": [
              "window[\"ad4b662c-ba1b-11ed-9901-0242ac1c000c\"] = google.colab.output.getActiveOutputArea();\n",
              "//# sourceURL=js_68055797e7"
            ]
          },
          "metadata": {}
        },
        {
          "output_type": "display_data",
          "data": {
            "text/plain": [
              "<IPython.core.display.Javascript object>"
            ],
            "application/javascript": [
              "window[\"ad4be5f2-ba1b-11ed-9901-0242ac1c000c\"] = document.querySelector(\"#id34-0-0\");\n",
              "//# sourceURL=js_73c5d56cce"
            ]
          },
          "metadata": {}
        },
        {
          "output_type": "display_data",
          "data": {
            "text/plain": [
              "<IPython.core.display.Javascript object>"
            ],
            "application/javascript": [
              "window[\"ad4c506e-ba1b-11ed-9901-0242ac1c000c\"] = google.colab.output.setActiveOutputArea(window[\"ad4be5f2-ba1b-11ed-9901-0242ac1c000c\"]);\n",
              "//# sourceURL=js_70dccfca7d"
            ]
          },
          "metadata": {}
        },
        {
          "output_type": "display_data",
          "data": {
            "text/plain": [
              "<IPython.core.display.Javascript object>"
            ],
            "application/javascript": [
              "window[\"ad6c6548-ba1b-11ed-9901-0242ac1c000c\"] = google.colab.output.setActiveOutputArea(window[\"ad4b662c-ba1b-11ed-9901-0242ac1c000c\"]);\n",
              "//# sourceURL=js_f399fb36b0"
            ]
          },
          "metadata": {}
        },
        {
          "output_type": "display_data",
          "data": {
            "text/plain": [
              "<IPython.core.display.Javascript object>"
            ],
            "application/javascript": [
              "window[\"ae07e130-ba1b-11ed-9901-0242ac1c000c\"] = google.colab.output.getActiveOutputArea();\n",
              "//# sourceURL=js_1c931c1b95"
            ]
          },
          "metadata": {}
        },
        {
          "output_type": "display_data",
          "data": {
            "text/plain": [
              "<IPython.core.display.Javascript object>"
            ],
            "application/javascript": [
              "window[\"ae08d4aa-ba1b-11ed-9901-0242ac1c000c\"] = document.querySelector(\"#id34-0-0\");\n",
              "//# sourceURL=js_f5e3a02dd1"
            ]
          },
          "metadata": {}
        },
        {
          "output_type": "display_data",
          "data": {
            "text/plain": [
              "<IPython.core.display.Javascript object>"
            ],
            "application/javascript": [
              "window[\"ae095646-ba1b-11ed-9901-0242ac1c000c\"] = google.colab.output.setActiveOutputArea(window[\"ae08d4aa-ba1b-11ed-9901-0242ac1c000c\"]);\n",
              "//# sourceURL=js_6fa8c4c0eb"
            ]
          },
          "metadata": {}
        },
        {
          "output_type": "display_data",
          "data": {
            "text/plain": [
              "<IPython.core.display.Javascript object>"
            ],
            "application/javascript": [
              "window[\"ae2d33e0-ba1b-11ed-9901-0242ac1c000c\"] = google.colab.output.setActiveOutputArea(window[\"ae07e130-ba1b-11ed-9901-0242ac1c000c\"]);\n",
              "//# sourceURL=js_24746e7e4f"
            ]
          },
          "metadata": {}
        },
        {
          "output_type": "display_data",
          "data": {
            "text/plain": [
              "<IPython.core.display.Javascript object>"
            ],
            "application/javascript": [
              "window[\"aec85dfc-ba1b-11ed-9901-0242ac1c000c\"] = google.colab.output.getActiveOutputArea();\n",
              "//# sourceURL=js_eab67c2d32"
            ]
          },
          "metadata": {}
        },
        {
          "output_type": "display_data",
          "data": {
            "text/plain": [
              "<IPython.core.display.Javascript object>"
            ],
            "application/javascript": [
              "window[\"aec8cff8-ba1b-11ed-9901-0242ac1c000c\"] = document.querySelector(\"#id34-0-0\");\n",
              "//# sourceURL=js_89dedaedce"
            ]
          },
          "metadata": {}
        },
        {
          "output_type": "display_data",
          "data": {
            "text/plain": [
              "<IPython.core.display.Javascript object>"
            ],
            "application/javascript": [
              "window[\"aec93fce-ba1b-11ed-9901-0242ac1c000c\"] = google.colab.output.setActiveOutputArea(window[\"aec8cff8-ba1b-11ed-9901-0242ac1c000c\"]);\n",
              "//# sourceURL=js_7708e3a286"
            ]
          },
          "metadata": {}
        },
        {
          "output_type": "display_data",
          "data": {
            "text/plain": [
              "<IPython.core.display.Javascript object>"
            ],
            "application/javascript": [
              "window[\"aeeac5f4-ba1b-11ed-9901-0242ac1c000c\"] = google.colab.output.setActiveOutputArea(window[\"aec85dfc-ba1b-11ed-9901-0242ac1c000c\"]);\n",
              "//# sourceURL=js_f55fe1e21f"
            ]
          },
          "metadata": {}
        },
        {
          "output_type": "display_data",
          "data": {
            "text/plain": [
              "<IPython.core.display.Javascript object>"
            ],
            "application/javascript": [
              "window[\"af86bb80-ba1b-11ed-9901-0242ac1c000c\"] = google.colab.output.getActiveOutputArea();\n",
              "//# sourceURL=js_feace145b5"
            ]
          },
          "metadata": {}
        },
        {
          "output_type": "display_data",
          "data": {
            "text/plain": [
              "<IPython.core.display.Javascript object>"
            ],
            "application/javascript": [
              "window[\"af8719cc-ba1b-11ed-9901-0242ac1c000c\"] = document.querySelector(\"#id34-0-0\");\n",
              "//# sourceURL=js_3856dcb2da"
            ]
          },
          "metadata": {}
        },
        {
          "output_type": "display_data",
          "data": {
            "text/plain": [
              "<IPython.core.display.Javascript object>"
            ],
            "application/javascript": [
              "window[\"af8784d4-ba1b-11ed-9901-0242ac1c000c\"] = google.colab.output.setActiveOutputArea(window[\"af8719cc-ba1b-11ed-9901-0242ac1c000c\"]);\n",
              "//# sourceURL=js_d29fca0c14"
            ]
          },
          "metadata": {}
        },
        {
          "output_type": "display_data",
          "data": {
            "text/plain": [
              "<IPython.core.display.Javascript object>"
            ],
            "application/javascript": [
              "window[\"afa9fda2-ba1b-11ed-9901-0242ac1c000c\"] = google.colab.output.setActiveOutputArea(window[\"af86bb80-ba1b-11ed-9901-0242ac1c000c\"]);\n",
              "//# sourceURL=js_5146516859"
            ]
          },
          "metadata": {}
        },
        {
          "output_type": "display_data",
          "data": {
            "text/plain": [
              "<IPython.core.display.Javascript object>"
            ],
            "application/javascript": [
              "window[\"b0453d26-ba1b-11ed-9901-0242ac1c000c\"] = google.colab.output.getActiveOutputArea();\n",
              "//# sourceURL=js_1509e3aedc"
            ]
          },
          "metadata": {}
        },
        {
          "output_type": "display_data",
          "data": {
            "text/plain": [
              "<IPython.core.display.Javascript object>"
            ],
            "application/javascript": [
              "window[\"b045b062-ba1b-11ed-9901-0242ac1c000c\"] = document.querySelector(\"#id34-0-0\");\n",
              "//# sourceURL=js_06c5fdd95c"
            ]
          },
          "metadata": {}
        },
        {
          "output_type": "display_data",
          "data": {
            "text/plain": [
              "<IPython.core.display.Javascript object>"
            ],
            "application/javascript": [
              "window[\"b046482e-ba1b-11ed-9901-0242ac1c000c\"] = google.colab.output.setActiveOutputArea(window[\"b045b062-ba1b-11ed-9901-0242ac1c000c\"]);\n",
              "//# sourceURL=js_06a2d539a9"
            ]
          },
          "metadata": {}
        },
        {
          "output_type": "display_data",
          "data": {
            "text/plain": [
              "<IPython.core.display.Javascript object>"
            ],
            "application/javascript": [
              "window[\"b07eb7e0-ba1b-11ed-9901-0242ac1c000c\"] = google.colab.output.setActiveOutputArea(window[\"b0453d26-ba1b-11ed-9901-0242ac1c000c\"]);\n",
              "//# sourceURL=js_d820d4bab4"
            ]
          },
          "metadata": {}
        },
        {
          "output_type": "display_data",
          "data": {
            "text/plain": [
              "<IPython.core.display.Javascript object>"
            ],
            "application/javascript": [
              "window[\"b119da22-ba1b-11ed-9901-0242ac1c000c\"] = google.colab.output.getActiveOutputArea();\n",
              "//# sourceURL=js_c36702764b"
            ]
          },
          "metadata": {}
        },
        {
          "output_type": "display_data",
          "data": {
            "text/plain": [
              "<IPython.core.display.Javascript object>"
            ],
            "application/javascript": [
              "window[\"b11aaf42-ba1b-11ed-9901-0242ac1c000c\"] = document.querySelector(\"#id34-0-0\");\n",
              "//# sourceURL=js_025946934b"
            ]
          },
          "metadata": {}
        },
        {
          "output_type": "display_data",
          "data": {
            "text/plain": [
              "<IPython.core.display.Javascript object>"
            ],
            "application/javascript": [
              "window[\"b11b19b4-ba1b-11ed-9901-0242ac1c000c\"] = google.colab.output.setActiveOutputArea(window[\"b11aaf42-ba1b-11ed-9901-0242ac1c000c\"]);\n",
              "//# sourceURL=js_d934349faa"
            ]
          },
          "metadata": {}
        },
        {
          "output_type": "stream",
          "name": "stdout",
          "text": [
            "Reward ->  10\n"
          ]
        },
        {
          "output_type": "display_data",
          "data": {
            "text/plain": [
              "<Figure size 432x288 with 1 Axes>"
            ],
            "image/png": "[encoded data removed]"
          },
          "metadata": {
            "needs_background": "light"
          }
        },
        {
          "output_type": "display_data",
          "data": {
            "text/plain": [
              "<IPython.core.display.Javascript object>"
            ],
            "application/javascript": [
              "window[\"b151af10-ba1b-11ed-9901-0242ac1c000c\"] = google.colab.output.setActiveOutputArea(window[\"b119da22-ba1b-11ed-9901-0242ac1c000c\"]);\n",
              "//# sourceURL=js_a5ae782ab0"
            ]
          },
          "metadata": {}
        }
      ]
    },
    {
      "cell_type": "code",
      "source": [],
      "metadata": {
        "id": "kM6ck2sR0ZQL"
      },
      "execution_count": null,
      "outputs": []
    }
  ]
}