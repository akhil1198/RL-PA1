{
  "nbformat": 4,
  "nbformat_minor": 0,
  "metadata": {
    "colab": {
      "provenance": [],
      "include_colab_link": true
    },
    "kernelspec": {
      "name": "python3",
      "display_name": "Python 3"
    },
    "language_info": {
      "name": "python"
    }
  },
  "cells": [
    {
      "cell_type": "markdown",
      "metadata": {
        "id": "view-in-github",
        "colab_type": "text"
      },
      "source": [
        "<a href=\"https://colab.research.google.com/github/akhil1198/RL-PA1/blob/main/RL_PA_1_Q_Learning_SARSA.ipynb\" target=\"_parent\"><img src=\"https://colab.research.google.com/assets/colab-badge.svg\" alt=\"Open In Colab\"/></a>"
      ]
    },
    {
      "cell_type": "code",
      "execution_count": 2,
      "metadata": {
        "colab": {
          "base_uri": "https://localhost:8080/"
        },
        "id": "hw2TLyoAigYz",
        "outputId": "041edf48-6348-4da0-f559-e8935727a566"
      },
      "outputs": [
        {
          "output_type": "stream",
          "name": "stdout",
          "text": [
            "Looking in indexes: https://pypi.org/simple, https://us-python.pkg.dev/colab-wheels/public/simple/\n",
            "Collecting gymnasium\n",
            "  Downloading gymnasium-0.27.1-py3-none-any.whl (883 kB)\n",
            "\u001b[2K     \u001b[90m━━━━━━━━━━━━━━━━━━━━━━━━━━━━━━━━━━━━━━\u001b[0m \u001b[32m883.7/883.7 KB\u001b[0m \u001b[31m12.8 MB/s\u001b[0m eta \u001b[36m0:00:00\u001b[0m\n",
            "\u001b[?25hRequirement already satisfied: matplotlib in /usr/local/lib/python3.8/dist-packages (3.5.3)\n",
            "Requirement already satisfied: numpy in /usr/local/lib/python3.8/dist-packages (1.22.4)\n",
            "Collecting gymnasium-notices>=0.0.1\n",
            "  Downloading gymnasium_notices-0.0.1-py3-none-any.whl (2.8 kB)\n",
            "Requirement already satisfied: importlib-metadata>=4.8.0 in /usr/local/lib/python3.8/dist-packages (from gymnasium) (6.0.0)\n",
            "Requirement already satisfied: cloudpickle>=1.2.0 in /usr/local/lib/python3.8/dist-packages (from gymnasium) (2.2.1)\n",
            "Collecting jax-jumpy>=0.2.0\n",
            "  Downloading jax_jumpy-0.2.0-py3-none-any.whl (11 kB)\n",
            "Requirement already satisfied: typing-extensions>=4.3.0 in /usr/local/lib/python3.8/dist-packages (from gymnasium) (4.5.0)\n",
            "Requirement already satisfied: cycler>=0.10 in /usr/local/lib/python3.8/dist-packages (from matplotlib) (0.11.0)\n",
            "Requirement already satisfied: kiwisolver>=1.0.1 in /usr/local/lib/python3.8/dist-packages (from matplotlib) (1.4.4)\n",
            "Requirement already satisfied: pyparsing>=2.2.1 in /usr/local/lib/python3.8/dist-packages (from matplotlib) (3.0.9)\n",
            "Requirement already satisfied: fonttools>=4.22.0 in /usr/local/lib/python3.8/dist-packages (from matplotlib) (4.38.0)\n",
            "Requirement already satisfied: packaging>=20.0 in /usr/local/lib/python3.8/dist-packages (from matplotlib) (23.0)\n",
            "Requirement already satisfied: pillow>=6.2.0 in /usr/local/lib/python3.8/dist-packages (from matplotlib) (8.4.0)\n",
            "Requirement already satisfied: python-dateutil>=2.7 in /usr/local/lib/python3.8/dist-packages (from matplotlib) (2.8.2)\n",
            "Requirement already satisfied: zipp>=0.5 in /usr/local/lib/python3.8/dist-packages (from importlib-metadata>=4.8.0->gymnasium) (3.15.0)\n",
            "Requirement already satisfied: six>=1.5 in /usr/local/lib/python3.8/dist-packages (from python-dateutil>=2.7->matplotlib) (1.15.0)\n",
            "Installing collected packages: gymnasium-notices, jax-jumpy, gymnasium\n",
            "Successfully installed gymnasium-0.27.1 gymnasium-notices-0.0.1 jax-jumpy-0.2.0\n"
          ]
        }
      ],
      "source": [
        "!pip install gymnasium matplotlib numpy"
      ]
    },
    {
      "cell_type": "code",
      "source": [
        "from google.colab import widgets\n",
        "import gymnasium as gym\n",
        "from gymnasium import spaces\n",
        "import matplotlib.pyplot as plt\n",
        "import numpy as np\n",
        "import time\n",
        "import pickle"
      ],
      "metadata": {
        "id": "9d4qlEyLjUam"
      },
      "execution_count": 3,
      "outputs": []
    },
    {
      "cell_type": "code",
      "source": [
        "output_grid = widgets.Grid(1,1)\n",
        "\n",
        "for _ in range(5):\n",
        "  grid = np.zeros((5, 5))\n",
        "  grid[np.random.randint(5), np.random.randint(5)] = 1\n",
        "\n",
        "  with output_grid.output_to(0,0):\n",
        "    output_grid.clear_cell()\n",
        "    plt.imshow(grid)\n",
        "  time.sleep(2) "
      ],
      "metadata": {
        "colab": {
          "base_uri": "https://localhost:8080/",
          "height": 269
        },
        "id": "1V9H_w_ujZIt",
        "outputId": "aff235a5-8fbc-4915-be33-ad6a554f3615"
      },
      "execution_count": 4,
      "outputs": [
        {
          "output_type": "display_data",
          "data": {
            "text/plain": [
              "<IPython.core.display.HTML object>"
            ],
            "text/html": [
              "<style>\n",
              "       table#id2, #id2 > tbody > tr > th, #id2 > tbody > tr > td {\n",
              "         border: 1px solid lightgray;\n",
              "         border-collapse:collapse;\n",
              "         \n",
              "        }</style>"
            ]
          },
          "metadata": {}
        },
        {
          "output_type": "display_data",
          "data": {
            "text/plain": [
              "<IPython.core.display.HTML object>"
            ],
            "text/html": [
              "<table id=id2><tr><td id=id2-0-0></td></tr></table>"
            ]
          },
          "metadata": {}
        },
        {
          "output_type": "display_data",
          "data": {
            "text/plain": [
              "<IPython.core.display.Javascript object>"
            ],
            "application/javascript": [
              "window[\"f7d5f9b6-b924-11ed-90e7-0242ac1c000c\"] = google.colab.output.getActiveOutputArea();\n",
              "//# sourceURL=js_55fa7a03ac"
            ]
          },
          "metadata": {}
        },
        {
          "output_type": "display_data",
          "data": {
            "text/plain": [
              "<IPython.core.display.Javascript object>"
            ],
            "application/javascript": [
              "window[\"f7d8289e-b924-11ed-90e7-0242ac1c000c\"] = document.querySelector(\"#id2-0-0\");\n",
              "//# sourceURL=js_95035abc34"
            ]
          },
          "metadata": {}
        },
        {
          "output_type": "display_data",
          "data": {
            "text/plain": [
              "<IPython.core.display.Javascript object>"
            ],
            "application/javascript": [
              "window[\"f7d954ee-b924-11ed-90e7-0242ac1c000c\"] = google.colab.output.setActiveOutputArea(window[\"f7d8289e-b924-11ed-90e7-0242ac1c000c\"]);\n",
              "//# sourceURL=js_fd60bef4fe"
            ]
          },
          "metadata": {}
        },
        {
          "output_type": "display_data",
          "data": {
            "text/plain": [
              "<IPython.core.display.Javascript object>"
            ],
            "application/javascript": [
              "window[\"f8857a80-b924-11ed-90e7-0242ac1c000c\"] = google.colab.output.setActiveOutputArea(window[\"f7d5f9b6-b924-11ed-90e7-0242ac1c000c\"]);\n",
              "//# sourceURL=js_d0d4f21c65"
            ]
          },
          "metadata": {}
        },
        {
          "output_type": "display_data",
          "data": {
            "text/plain": [
              "<IPython.core.display.Javascript object>"
            ],
            "application/javascript": [
              "window[\"f9b96ef2-b924-11ed-90e7-0242ac1c000c\"] = google.colab.output.getActiveOutputArea();\n",
              "//# sourceURL=js_8a1509cd15"
            ]
          },
          "metadata": {}
        },
        {
          "output_type": "display_data",
          "data": {
            "text/plain": [
              "<IPython.core.display.Javascript object>"
            ],
            "application/javascript": [
              "window[\"f9ba1280-b924-11ed-90e7-0242ac1c000c\"] = document.querySelector(\"#id2-0-0\");\n",
              "//# sourceURL=js_8cee79a38b"
            ]
          },
          "metadata": {}
        },
        {
          "output_type": "display_data",
          "data": {
            "text/plain": [
              "<IPython.core.display.Javascript object>"
            ],
            "application/javascript": [
              "window[\"f9baa146-b924-11ed-90e7-0242ac1c000c\"] = google.colab.output.setActiveOutputArea(window[\"f9ba1280-b924-11ed-90e7-0242ac1c000c\"]);\n",
              "//# sourceURL=js_ea5ec25c28"
            ]
          },
          "metadata": {}
        },
        {
          "output_type": "display_data",
          "data": {
            "text/plain": [
              "<IPython.core.display.Javascript object>"
            ],
            "application/javascript": [
              "window[\"f9dbb8d6-b924-11ed-90e7-0242ac1c000c\"] = google.colab.output.setActiveOutputArea(window[\"f9b96ef2-b924-11ed-90e7-0242ac1c000c\"]);\n",
              "//# sourceURL=js_0e3c479ffc"
            ]
          },
          "metadata": {}
        },
        {
          "output_type": "display_data",
          "data": {
            "text/plain": [
              "<IPython.core.display.Javascript object>"
            ],
            "application/javascript": [
              "window[\"fb120a34-b924-11ed-90e7-0242ac1c000c\"] = google.colab.output.getActiveOutputArea();\n",
              "//# sourceURL=js_4e31acb19b"
            ]
          },
          "metadata": {}
        },
        {
          "output_type": "display_data",
          "data": {
            "text/plain": [
              "<IPython.core.display.Javascript object>"
            ],
            "application/javascript": [
              "window[\"fb1316fe-b924-11ed-90e7-0242ac1c000c\"] = document.querySelector(\"#id2-0-0\");\n",
              "//# sourceURL=js_567a005ffa"
            ]
          },
          "metadata": {}
        },
        {
          "output_type": "display_data",
          "data": {
            "text/plain": [
              "<IPython.core.display.Javascript object>"
            ],
            "application/javascript": [
              "window[\"fb14cef4-b924-11ed-90e7-0242ac1c000c\"] = google.colab.output.setActiveOutputArea(window[\"fb1316fe-b924-11ed-90e7-0242ac1c000c\"]);\n",
              "//# sourceURL=js_c2479adc3e"
            ]
          },
          "metadata": {}
        },
        {
          "output_type": "display_data",
          "data": {
            "text/plain": [
              "<IPython.core.display.Javascript object>"
            ],
            "application/javascript": [
              "window[\"fb5b5d2e-b924-11ed-90e7-0242ac1c000c\"] = google.colab.output.setActiveOutputArea(window[\"fb120a34-b924-11ed-90e7-0242ac1c000c\"]);\n",
              "//# sourceURL=js_994861ad11"
            ]
          },
          "metadata": {}
        },
        {
          "output_type": "display_data",
          "data": {
            "text/plain": [
              "<IPython.core.display.Javascript object>"
            ],
            "application/javascript": [
              "window[\"fc91dbdc-b924-11ed-90e7-0242ac1c000c\"] = google.colab.output.getActiveOutputArea();\n",
              "//# sourceURL=js_5ed3055aa9"
            ]
          },
          "metadata": {}
        },
        {
          "output_type": "display_data",
          "data": {
            "text/plain": [
              "<IPython.core.display.Javascript object>"
            ],
            "application/javascript": [
              "window[\"fc92f454-b924-11ed-90e7-0242ac1c000c\"] = document.querySelector(\"#id2-0-0\");\n",
              "//# sourceURL=js_5b35484681"
            ]
          },
          "metadata": {}
        },
        {
          "output_type": "display_data",
          "data": {
            "text/plain": [
              "<IPython.core.display.Javascript object>"
            ],
            "application/javascript": [
              "window[\"fc95017c-b924-11ed-90e7-0242ac1c000c\"] = google.colab.output.setActiveOutputArea(window[\"fc92f454-b924-11ed-90e7-0242ac1c000c\"]);\n",
              "//# sourceURL=js_421a9871f8"
            ]
          },
          "metadata": {}
        },
        {
          "output_type": "display_data",
          "data": {
            "text/plain": [
              "<IPython.core.display.Javascript object>"
            ],
            "application/javascript": [
              "window[\"fcd02022-b924-11ed-90e7-0242ac1c000c\"] = google.colab.output.setActiveOutputArea(window[\"fc91dbdc-b924-11ed-90e7-0242ac1c000c\"]);\n",
              "//# sourceURL=js_43862ab4d2"
            ]
          },
          "metadata": {}
        },
        {
          "output_type": "display_data",
          "data": {
            "text/plain": [
              "<IPython.core.display.Javascript object>"
            ],
            "application/javascript": [
              "window[\"fe06f510-b924-11ed-90e7-0242ac1c000c\"] = google.colab.output.getActiveOutputArea();\n",
              "//# sourceURL=js_a65a8000fc"
            ]
          },
          "metadata": {}
        },
        {
          "output_type": "display_data",
          "data": {
            "text/plain": [
              "<IPython.core.display.Javascript object>"
            ],
            "application/javascript": [
              "window[\"fe075eec-b924-11ed-90e7-0242ac1c000c\"] = document.querySelector(\"#id2-0-0\");\n",
              "//# sourceURL=js_3b8e7ff355"
            ]
          },
          "metadata": {}
        },
        {
          "output_type": "display_data",
          "data": {
            "text/plain": [
              "<IPython.core.display.Javascript object>"
            ],
            "application/javascript": [
              "window[\"fe07ea1a-b924-11ed-90e7-0242ac1c000c\"] = google.colab.output.setActiveOutputArea(window[\"fe075eec-b924-11ed-90e7-0242ac1c000c\"]);\n",
              "//# sourceURL=js_97e9333cbd"
            ]
          },
          "metadata": {}
        },
        {
          "output_type": "display_data",
          "data": {
            "text/plain": [
              "<Figure size 432x288 with 1 Axes>"
            ],
            "image/png": "[encoded data removed]"
          },
          "metadata": {
            "needs_background": "light"
          }
        },
        {
          "output_type": "display_data",
          "data": {
            "text/plain": [
              "<IPython.core.display.Javascript object>"
            ],
            "application/javascript": [
              "window[\"fe403488-b924-11ed-90e7-0242ac1c000c\"] = google.colab.output.setActiveOutputArea(window[\"fe06f510-b924-11ed-90e7-0242ac1c000c\"]);\n",
              "//# sourceURL=js_acaff02f09"
            ]
          },
          "metadata": {}
        }
      ]
    },
    {
      "cell_type": "markdown",
      "source": [
        "Creating an Environment with all the actions, states, rewards and positions"
      ],
      "metadata": {
        "id": "x0kViSd_yd82"
      }
    },
    {
      "cell_type": "code",
      "source": [
        "from IPython.utils.path import random\n",
        "class GridEnv(gym.Env):\n",
        "  def __init__(self, env_type):\n",
        "    self.environment_type = env_type\n",
        "    self.environment_width = 5\n",
        "    self.environment_height = 5\n",
        "    self.observation_space = spaces.Discrete(25)\n",
        "    self.action_space = spaces.Discrete(4)\n",
        "\n",
        "    self.timestep = 0\n",
        "    self.max_timesteps = 15\n",
        "\n",
        "    self.agent_pos = [0, 0]\n",
        "    self.goal_pos = [4, 4]\n",
        "\n",
        "    self.state = np.zeros((5,5))\n",
        "    self.state[tuple(self.agent_pos)] = 1\n",
        "    self.state[tuple(self.goal_pos)] = 0.5\n",
        "\n",
        "    self.reward = 0\n",
        "    self.truncated = False\n",
        "    self.terminated = False\n",
        "    self.reward_pos = np.asarray([[0, 4], [2, 1], [3, 4], [4, 2]])\n",
        "    self.negreward_pos = np.asarray([[1, 2], [3, 0], [3, 3]])\n",
        "\n",
        "    #for stochastic env\n",
        "    self.random_number = 0\n",
        "    self.rand_action = 0\n",
        "\n",
        "  def reset(self):\n",
        "    self.state = np.zeros((5,5))\n",
        "    self.state[tuple(self.agent_pos)] = 1\n",
        "    self.state[tuple(self.goal_pos)] = 0.5\n",
        "    observation = self.state.flatten()\n",
        "\n",
        "    return observation, self.agent_pos\n",
        "  \n",
        "  def step(self, action):\n",
        "    # print(\"action\", action)\n",
        "    # action = int(action)\n",
        "    if action == 0:\n",
        "      #print(\"at 0 - > agent_pos[0] += 1\")\n",
        "      self.agent_pos[0] += 1\n",
        "    if action == 1:\n",
        "      #print(\"at 1 -> agent_pos[0] -= 1\")\n",
        "      self.agent_pos[0] -= 1\n",
        "    if action == 2:\n",
        "      #print(\"at 2 -> agent_pos[1] += 1\")\n",
        "      self.agent_pos[1] += 1\n",
        "    if action == 3:\n",
        "      #print(\"at 3 -> agent_pos[1] -= 1\")\n",
        "      self.agent_pos[1] -= 1\n",
        "    #stochastic method\n",
        "    if self.environment_type == \"stochastic\":\n",
        "      self.random_number = np.random.rand()\n",
        "      self.rand_action = np.random.randint(4)\n",
        "      if self.random_number < 0.9:\n",
        "        #print(\"Executing the right action -> \", action)\n",
        "        if action == 0:\n",
        "          #print(\"at 0 - > agent_pos[0] += 1\")\n",
        "          self.agent_pos[0] += 1\n",
        "        if action == 1:\n",
        "          #print(\"at 1 -> agent_pos[0] -= 1\")\n",
        "          self.agent_pos[0] -= 1\n",
        "        if action == 2:\n",
        "          #print(\"at 2 -> agent_pos[1] += 1\")\n",
        "          self.agent_pos[1] += 1\n",
        "        if action == 3:\n",
        "          #print(\"at 3 -> agent_pos[1] -= 1\")\n",
        "          self.agent_pos[1] -= 1\n",
        "      elif self.random_number > 0.9:\n",
        "        #print(\"Executing Random Action\", self.rand_action)\n",
        "        if self.rand_action == 0:\n",
        "          self.agent_pos[0] += 1\n",
        "        if self.rand_action == 1:\n",
        "          self.agent_pos[0] -= 1\n",
        "        if self.rand_action == 2:\n",
        "          self.agent_pos[1] += 1\n",
        "        if self.rand_action == 3:\n",
        "          self.agent_pos[1] -= 1\n",
        "      \n",
        "    #print(self.agent_pos)\n",
        "    #Comment this to demonstrate the truncation condition.\n",
        "    self.agent_pos = np.clip(self.agent_pos, 0, 4)\n",
        "\n",
        "    self.state = np.zeros((5,5))\n",
        "    self.state[tuple(self.agent_pos)] = 1\n",
        "    self.state[tuple(self.goal_pos)] = 0.5\n",
        "    observation = self.state.flatten()\n",
        "\n",
        "    self.reward = 0\n",
        "    #[0, 4], [2, 1], [3, 4], [4, 2]\n",
        "    if np.array_equal(self.agent_pos, self.reward_pos[0]):\n",
        "      self.reward = self.reward + 2\n",
        "    \n",
        "    if np.array_equal(self.agent_pos, self.reward_pos[1]):\n",
        "      self.reward = self.reward + 4\n",
        "    \n",
        "    if np.array_equal(self.agent_pos, self.reward_pos[2]):\n",
        "      self.reward = self.reward + 8\n",
        "    \n",
        "    if np.array_equal(self.agent_pos, self.reward_pos[3]):\n",
        "      self.reward = self.reward + 6\n",
        "    \n",
        "\n",
        "    if np.array_equal(self.agent_pos, self.goal_pos):\n",
        "      self.reward += 10\n",
        "    \n",
        "\n",
        "    #[1, 2], [3, 0], [3, 3]\n",
        "    if np.array_equal(self.agent_pos, self.negreward_pos[0]):\n",
        "      self.reward = self.reward - 5\n",
        "    \n",
        "    if np.array_equal(self.agent_pos, self.negreward_pos[1]):\n",
        "      self.reward = self.reward - 6\n",
        "    \n",
        "    if np.array_equal(self.agent_pos, self.negreward_pos[2]):\n",
        "      self.reward = self.reward - 2\n",
        "\n",
        "    self.timestep += 1\n",
        "\n",
        "    #print(\"truncated -> \", self.agent_pos,)\n",
        "    terminated = True if self.timestep >= self.max_timesteps else False\n",
        "    truncated = True if np.all((self.agent_pos[0] >= 0) & (self.agent_pos[0] <= 4) & (self.agent_pos[1] >= 0) & (self.agent_pos[1] <= 4)) else False\n",
        "\n",
        "    info = {}\n",
        "    \n",
        "    return observation, self.reward, terminated, truncated, info, self.agent_pos\n",
        "\n",
        "  def render(self):\n",
        "    print(\"Reward -> \", self.reward)\n",
        "    plt.imshow(self.state)\n",
        "    \n"
      ],
      "metadata": {
        "id": "uiH3nTLTj3qR"
      },
      "execution_count": 169,
      "outputs": []
    },
    {
      "cell_type": "markdown",
      "source": [
        "Creating a Random Agent "
      ],
      "metadata": {
        "id": "-7sNCX8TypM_"
      }
    },
    {
      "cell_type": "code",
      "source": [
        "class RandomAgent:\n",
        "  def __init__(self, env):\n",
        "    self.env = env\n",
        "    self.observation_space = env.observation_space\n",
        "    self.action_space = env.action_space\n",
        "  def step(self, obs):\n",
        "    return np.random.choice(self.action_space.n)\n",
        "  "
      ],
      "metadata": {
        "id": "WCTSceXW44Bk"
      },
      "execution_count": 170,
      "outputs": []
    },
    {
      "cell_type": "markdown",
      "source": [
        "Starting the execution by calling all the methods in the Environment until termination of process\n",
        "\n",
        "Deterministic Environment: "
      ],
      "metadata": {
        "id": "CeaheI38ZYT9"
      }
    },
    {
      "cell_type": "code",
      "source": [
        "env = GridEnv(env_type = \"deterministic\")\n",
        "agent = RandomAgent(env)\n",
        "\n",
        "obs, info = env.reset()\n",
        "terminated, truncated = False, False\n",
        "\n",
        "output_grid = widgets.Grid(1, 1)\n",
        "with output_grid.output_to(0, 0):\n",
        "  env.render()\n",
        "\n",
        "while not terminated:\n",
        "  action = agent.step(obs)\n",
        "  #action = input()\n",
        "  observation, reward, terminated, truncated, info, agent_pos = env.step(action)\n",
        "  with output_grid.output_to(0, 0):\n",
        "    output_grid.clear_cell()\n",
        "    plt.imshow(grid)\n",
        "    env.render()\n",
        "  time.sleep(1)\n"
      ],
      "metadata": {
        "colab": {
          "base_uri": "https://localhost:8080/",
          "height": 287
        },
        "id": "f-iPycGP48pI",
        "outputId": "64339f47-2f5f-46ba-813c-b601914f7c09"
      },
      "execution_count": 29,
      "outputs": [
        {
          "output_type": "display_data",
          "data": {
            "text/plain": [
              "<IPython.core.display.HTML object>"
            ],
            "text/html": [
              "<style>\n",
              "       table#id8, #id8 > tbody > tr > th, #id8 > tbody > tr > td {\n",
              "         border: 1px solid lightgray;\n",
              "         border-collapse:collapse;\n",
              "         \n",
              "        }</style>"
            ]
          },
          "metadata": {}
        },
        {
          "output_type": "display_data",
          "data": {
            "text/plain": [
              "<IPython.core.display.HTML object>"
            ],
            "text/html": [
              "<table id=id8><tr><td id=id8-0-0></td></tr></table>"
            ]
          },
          "metadata": {}
        },
        {
          "output_type": "display_data",
          "data": {
            "text/plain": [
              "<IPython.core.display.Javascript object>"
            ],
            "application/javascript": [
              "window[\"ed7b724a-b931-11ed-90e7-0242ac1c000c\"] = google.colab.output.getActiveOutputArea();\n",
              "//# sourceURL=js_fc0d04043b"
            ]
          },
          "metadata": {}
        },
        {
          "output_type": "display_data",
          "data": {
            "text/plain": [
              "<IPython.core.display.Javascript object>"
            ],
            "application/javascript": [
              "window[\"ed7cbdd0-b931-11ed-90e7-0242ac1c000c\"] = document.querySelector(\"#id8-0-0\");\n",
              "//# sourceURL=js_042ce1e10a"
            ]
          },
          "metadata": {}
        },
        {
          "output_type": "display_data",
          "data": {
            "text/plain": [
              "<IPython.core.display.Javascript object>"
            ],
            "application/javascript": [
              "window[\"ed7d5f42-b931-11ed-90e7-0242ac1c000c\"] = google.colab.output.setActiveOutputArea(window[\"ed7cbdd0-b931-11ed-90e7-0242ac1c000c\"]);\n",
              "//# sourceURL=js_e4b9b3f09d"
            ]
          },
          "metadata": {}
        },
        {
          "output_type": "display_data",
          "data": {
            "text/plain": [
              "<IPython.core.display.Javascript object>"
            ],
            "application/javascript": [
              "window[\"eda95944-b931-11ed-90e7-0242ac1c000c\"] = google.colab.output.setActiveOutputArea(window[\"ed7b724a-b931-11ed-90e7-0242ac1c000c\"]);\n",
              "//# sourceURL=js_0cc408d193"
            ]
          },
          "metadata": {}
        },
        {
          "output_type": "display_data",
          "data": {
            "text/plain": [
              "<IPython.core.display.Javascript object>"
            ],
            "application/javascript": [
              "window[\"edaca928-b931-11ed-90e7-0242ac1c000c\"] = google.colab.output.getActiveOutputArea();\n",
              "//# sourceURL=js_e3b4efcf04"
            ]
          },
          "metadata": {}
        },
        {
          "output_type": "display_data",
          "data": {
            "text/plain": [
              "<IPython.core.display.Javascript object>"
            ],
            "application/javascript": [
              "window[\"edad2a10-b931-11ed-90e7-0242ac1c000c\"] = document.querySelector(\"#id8-0-0\");\n",
              "//# sourceURL=js_31110710b2"
            ]
          },
          "metadata": {}
        },
        {
          "output_type": "display_data",
          "data": {
            "text/plain": [
              "<IPython.core.display.Javascript object>"
            ],
            "application/javascript": [
              "window[\"edadac7e-b931-11ed-90e7-0242ac1c000c\"] = google.colab.output.setActiveOutputArea(window[\"edad2a10-b931-11ed-90e7-0242ac1c000c\"]);\n",
              "//# sourceURL=js_5bcf89846e"
            ]
          },
          "metadata": {}
        },
        {
          "output_type": "display_data",
          "data": {
            "text/plain": [
              "<IPython.core.display.Javascript object>"
            ],
            "application/javascript": [
              "window[\"eddbb308-b931-11ed-90e7-0242ac1c000c\"] = google.colab.output.setActiveOutputArea(window[\"edaca928-b931-11ed-90e7-0242ac1c000c\"]);\n",
              "//# sourceURL=js_8608449e04"
            ]
          },
          "metadata": {}
        },
        {
          "output_type": "display_data",
          "data": {
            "text/plain": [
              "<IPython.core.display.Javascript object>"
            ],
            "application/javascript": [
              "window[\"ee7764f6-b931-11ed-90e7-0242ac1c000c\"] = google.colab.output.getActiveOutputArea();\n",
              "//# sourceURL=js_f5d04d0b4e"
            ]
          },
          "metadata": {}
        },
        {
          "output_type": "display_data",
          "data": {
            "text/plain": [
              "<IPython.core.display.Javascript object>"
            ],
            "application/javascript": [
              "window[\"ee782f4e-b931-11ed-90e7-0242ac1c000c\"] = document.querySelector(\"#id8-0-0\");\n",
              "//# sourceURL=js_c331a460eb"
            ]
          },
          "metadata": {}
        },
        {
          "output_type": "display_data",
          "data": {
            "text/plain": [
              "<IPython.core.display.Javascript object>"
            ],
            "application/javascript": [
              "window[\"ee79250c-b931-11ed-90e7-0242ac1c000c\"] = google.colab.output.setActiveOutputArea(window[\"ee782f4e-b931-11ed-90e7-0242ac1c000c\"]);\n",
              "//# sourceURL=js_195bd1709c"
            ]
          },
          "metadata": {}
        },
        {
          "output_type": "display_data",
          "data": {
            "text/plain": [
              "<IPython.core.display.Javascript object>"
            ],
            "application/javascript": [
              "window[\"eea6df38-b931-11ed-90e7-0242ac1c000c\"] = google.colab.output.setActiveOutputArea(window[\"ee7764f6-b931-11ed-90e7-0242ac1c000c\"]);\n",
              "//# sourceURL=js_336c8ed4aa"
            ]
          },
          "metadata": {}
        },
        {
          "output_type": "display_data",
          "data": {
            "text/plain": [
              "<IPython.core.display.Javascript object>"
            ],
            "application/javascript": [
              "window[\"ef425198-b931-11ed-90e7-0242ac1c000c\"] = google.colab.output.getActiveOutputArea();\n",
              "//# sourceURL=js_27b081bc7e"
            ]
          },
          "metadata": {}
        },
        {
          "output_type": "display_data",
          "data": {
            "text/plain": [
              "<IPython.core.display.Javascript object>"
            ],
            "application/javascript": [
              "window[\"ef434c7e-b931-11ed-90e7-0242ac1c000c\"] = document.querySelector(\"#id8-0-0\");\n",
              "//# sourceURL=js_2d99135066"
            ]
          },
          "metadata": {}
        },
        {
          "output_type": "display_data",
          "data": {
            "text/plain": [
              "<IPython.core.display.Javascript object>"
            ],
            "application/javascript": [
              "window[\"ef440d58-b931-11ed-90e7-0242ac1c000c\"] = google.colab.output.setActiveOutputArea(window[\"ef434c7e-b931-11ed-90e7-0242ac1c000c\"]);\n",
              "//# sourceURL=js_c40af756a3"
            ]
          },
          "metadata": {}
        },
        {
          "output_type": "display_data",
          "data": {
            "text/plain": [
              "<IPython.core.display.Javascript object>"
            ],
            "application/javascript": [
              "window[\"efa93458-b931-11ed-90e7-0242ac1c000c\"] = google.colab.output.setActiveOutputArea(window[\"ef425198-b931-11ed-90e7-0242ac1c000c\"]);\n",
              "//# sourceURL=js_a111c7d439"
            ]
          },
          "metadata": {}
        },
        {
          "output_type": "display_data",
          "data": {
            "text/plain": [
              "<IPython.core.display.Javascript object>"
            ],
            "application/javascript": [
              "window[\"f0448c46-b931-11ed-90e7-0242ac1c000c\"] = google.colab.output.getActiveOutputArea();\n",
              "//# sourceURL=js_1d98a887d6"
            ]
          },
          "metadata": {}
        },
        {
          "output_type": "display_data",
          "data": {
            "text/plain": [
              "<IPython.core.display.Javascript object>"
            ],
            "application/javascript": [
              "window[\"f045577a-b931-11ed-90e7-0242ac1c000c\"] = document.querySelector(\"#id8-0-0\");\n",
              "//# sourceURL=js_6b358dcc65"
            ]
          },
          "metadata": {}
        },
        {
          "output_type": "display_data",
          "data": {
            "text/plain": [
              "<IPython.core.display.Javascript object>"
            ],
            "application/javascript": [
              "window[\"f04614ee-b931-11ed-90e7-0242ac1c000c\"] = google.colab.output.setActiveOutputArea(window[\"f045577a-b931-11ed-90e7-0242ac1c000c\"]);\n",
              "//# sourceURL=js_fcd04bfd3c"
            ]
          },
          "metadata": {}
        },
        {
          "output_type": "display_data",
          "data": {
            "text/plain": [
              "<IPython.core.display.Javascript object>"
            ],
            "application/javascript": [
              "window[\"f0702f54-b931-11ed-90e7-0242ac1c000c\"] = google.colab.output.setActiveOutputArea(window[\"f0448c46-b931-11ed-90e7-0242ac1c000c\"]);\n",
              "//# sourceURL=js_8ee0461483"
            ]
          },
          "metadata": {}
        },
        {
          "output_type": "display_data",
          "data": {
            "text/plain": [
              "<IPython.core.display.Javascript object>"
            ],
            "application/javascript": [
              "window[\"f10b6fd2-b931-11ed-90e7-0242ac1c000c\"] = google.colab.output.getActiveOutputArea();\n",
              "//# sourceURL=js_0cda434429"
            ]
          },
          "metadata": {}
        },
        {
          "output_type": "display_data",
          "data": {
            "text/plain": [
              "<IPython.core.display.Javascript object>"
            ],
            "application/javascript": [
              "window[\"f10c4e0c-b931-11ed-90e7-0242ac1c000c\"] = document.querySelector(\"#id8-0-0\");\n",
              "//# sourceURL=js_f2c5b46c1d"
            ]
          },
          "metadata": {}
        },
        {
          "output_type": "display_data",
          "data": {
            "text/plain": [
              "<IPython.core.display.Javascript object>"
            ],
            "application/javascript": [
              "window[\"f10cec40-b931-11ed-90e7-0242ac1c000c\"] = google.colab.output.setActiveOutputArea(window[\"f10c4e0c-b931-11ed-90e7-0242ac1c000c\"]);\n",
              "//# sourceURL=js_5a462e9567"
            ]
          },
          "metadata": {}
        },
        {
          "output_type": "display_data",
          "data": {
            "text/plain": [
              "<IPython.core.display.Javascript object>"
            ],
            "application/javascript": [
              "window[\"f155f336-b931-11ed-90e7-0242ac1c000c\"] = google.colab.output.setActiveOutputArea(window[\"f10b6fd2-b931-11ed-90e7-0242ac1c000c\"]);\n",
              "//# sourceURL=js_3d31df5486"
            ]
          },
          "metadata": {}
        },
        {
          "output_type": "display_data",
          "data": {
            "text/plain": [
              "<IPython.core.display.Javascript object>"
            ],
            "application/javascript": [
              "window[\"f1f25e56-b931-11ed-90e7-0242ac1c000c\"] = google.colab.output.getActiveOutputArea();\n",
              "//# sourceURL=js_d92c87e0e1"
            ]
          },
          "metadata": {}
        },
        {
          "output_type": "display_data",
          "data": {
            "text/plain": [
              "<IPython.core.display.Javascript object>"
            ],
            "application/javascript": [
              "window[\"f1f2f9e2-b931-11ed-90e7-0242ac1c000c\"] = document.querySelector(\"#id8-0-0\");\n",
              "//# sourceURL=js_aa8814240c"
            ]
          },
          "metadata": {}
        },
        {
          "output_type": "display_data",
          "data": {
            "text/plain": [
              "<IPython.core.display.Javascript object>"
            ],
            "application/javascript": [
              "window[\"f1f4612e-b931-11ed-90e7-0242ac1c000c\"] = google.colab.output.setActiveOutputArea(window[\"f1f2f9e2-b931-11ed-90e7-0242ac1c000c\"]);\n",
              "//# sourceURL=js_a7de8622d0"
            ]
          },
          "metadata": {}
        },
        {
          "output_type": "display_data",
          "data": {
            "text/plain": [
              "<IPython.core.display.Javascript object>"
            ],
            "application/javascript": [
              "window[\"f23b1362-b931-11ed-90e7-0242ac1c000c\"] = google.colab.output.setActiveOutputArea(window[\"f1f25e56-b931-11ed-90e7-0242ac1c000c\"]);\n",
              "//# sourceURL=js_b50b9eb6d2"
            ]
          },
          "metadata": {}
        },
        {
          "output_type": "display_data",
          "data": {
            "text/plain": [
              "<IPython.core.display.Javascript object>"
            ],
            "application/javascript": [
              "window[\"f2d8dc5a-b931-11ed-90e7-0242ac1c000c\"] = google.colab.output.getActiveOutputArea();\n",
              "//# sourceURL=js_47cdc37b12"
            ]
          },
          "metadata": {}
        },
        {
          "output_type": "display_data",
          "data": {
            "text/plain": [
              "<IPython.core.display.Javascript object>"
            ],
            "application/javascript": [
              "window[\"f2d9ba30-b931-11ed-90e7-0242ac1c000c\"] = document.querySelector(\"#id8-0-0\");\n",
              "//# sourceURL=js_a25ce6c48d"
            ]
          },
          "metadata": {}
        },
        {
          "output_type": "display_data",
          "data": {
            "text/plain": [
              "<IPython.core.display.Javascript object>"
            ],
            "application/javascript": [
              "window[\"f2db6204-b931-11ed-90e7-0242ac1c000c\"] = google.colab.output.setActiveOutputArea(window[\"f2d9ba30-b931-11ed-90e7-0242ac1c000c\"]);\n",
              "//# sourceURL=js_fd6ad8c57e"
            ]
          },
          "metadata": {}
        },
        {
          "output_type": "display_data",
          "data": {
            "text/plain": [
              "<IPython.core.display.Javascript object>"
            ],
            "application/javascript": [
              "window[\"f31a343e-b931-11ed-90e7-0242ac1c000c\"] = google.colab.output.setActiveOutputArea(window[\"f2d8dc5a-b931-11ed-90e7-0242ac1c000c\"]);\n",
              "//# sourceURL=js_bfbb8979c0"
            ]
          },
          "metadata": {}
        },
        {
          "output_type": "display_data",
          "data": {
            "text/plain": [
              "<IPython.core.display.Javascript object>"
            ],
            "application/javascript": [
              "window[\"f3b70926-b931-11ed-90e7-0242ac1c000c\"] = google.colab.output.getActiveOutputArea();\n",
              "//# sourceURL=js_5933836f58"
            ]
          },
          "metadata": {}
        },
        {
          "output_type": "display_data",
          "data": {
            "text/plain": [
              "<IPython.core.display.Javascript object>"
            ],
            "application/javascript": [
              "window[\"f3b81050-b931-11ed-90e7-0242ac1c000c\"] = document.querySelector(\"#id8-0-0\");\n",
              "//# sourceURL=js_a09d355fa6"
            ]
          },
          "metadata": {}
        },
        {
          "output_type": "display_data",
          "data": {
            "text/plain": [
              "<IPython.core.display.Javascript object>"
            ],
            "application/javascript": [
              "window[\"f3b8a6b4-b931-11ed-90e7-0242ac1c000c\"] = google.colab.output.setActiveOutputArea(window[\"f3b81050-b931-11ed-90e7-0242ac1c000c\"]);\n",
              "//# sourceURL=js_4e09fe64b7"
            ]
          },
          "metadata": {}
        },
        {
          "output_type": "display_data",
          "data": {
            "text/plain": [
              "<IPython.core.display.Javascript object>"
            ],
            "application/javascript": [
              "window[\"f3ebe934-b931-11ed-90e7-0242ac1c000c\"] = google.colab.output.setActiveOutputArea(window[\"f3b70926-b931-11ed-90e7-0242ac1c000c\"]);\n",
              "//# sourceURL=js_db565f2421"
            ]
          },
          "metadata": {}
        },
        {
          "output_type": "display_data",
          "data": {
            "text/plain": [
              "<IPython.core.display.Javascript object>"
            ],
            "application/javascript": [
              "window[\"f4891e20-b931-11ed-90e7-0242ac1c000c\"] = google.colab.output.getActiveOutputArea();\n",
              "//# sourceURL=js_27323f34bb"
            ]
          },
          "metadata": {}
        },
        {
          "output_type": "display_data",
          "data": {
            "text/plain": [
              "<IPython.core.display.Javascript object>"
            ],
            "application/javascript": [
              "window[\"f489b9de-b931-11ed-90e7-0242ac1c000c\"] = document.querySelector(\"#id8-0-0\");\n",
              "//# sourceURL=js_105c5973f4"
            ]
          },
          "metadata": {}
        },
        {
          "output_type": "display_data",
          "data": {
            "text/plain": [
              "<IPython.core.display.Javascript object>"
            ],
            "application/javascript": [
              "window[\"f48a7afe-b931-11ed-90e7-0242ac1c000c\"] = google.colab.output.setActiveOutputArea(window[\"f489b9de-b931-11ed-90e7-0242ac1c000c\"]);\n",
              "//# sourceURL=js_b48e91ddae"
            ]
          },
          "metadata": {}
        },
        {
          "output_type": "display_data",
          "data": {
            "text/plain": [
              "<IPython.core.display.Javascript object>"
            ],
            "application/javascript": [
              "window[\"f4b7038a-b931-11ed-90e7-0242ac1c000c\"] = google.colab.output.setActiveOutputArea(window[\"f4891e20-b931-11ed-90e7-0242ac1c000c\"]);\n",
              "//# sourceURL=js_ba865a042f"
            ]
          },
          "metadata": {}
        },
        {
          "output_type": "display_data",
          "data": {
            "text/plain": [
              "<IPython.core.display.Javascript object>"
            ],
            "application/javascript": [
              "window[\"f554333a-b931-11ed-90e7-0242ac1c000c\"] = google.colab.output.getActiveOutputArea();\n",
              "//# sourceURL=js_eca8157caa"
            ]
          },
          "metadata": {}
        },
        {
          "output_type": "display_data",
          "data": {
            "text/plain": [
              "<IPython.core.display.Javascript object>"
            ],
            "application/javascript": [
              "window[\"f554d614-b931-11ed-90e7-0242ac1c000c\"] = document.querySelector(\"#id8-0-0\");\n",
              "//# sourceURL=js_c261e7ee27"
            ]
          },
          "metadata": {}
        },
        {
          "output_type": "display_data",
          "data": {
            "text/plain": [
              "<IPython.core.display.Javascript object>"
            ],
            "application/javascript": [
              "window[\"f555986a-b931-11ed-90e7-0242ac1c000c\"] = google.colab.output.setActiveOutputArea(window[\"f554d614-b931-11ed-90e7-0242ac1c000c\"]);\n",
              "//# sourceURL=js_ffd90806c6"
            ]
          },
          "metadata": {}
        },
        {
          "output_type": "display_data",
          "data": {
            "text/plain": [
              "<IPython.core.display.Javascript object>"
            ],
            "application/javascript": [
              "window[\"f5811ad0-b931-11ed-90e7-0242ac1c000c\"] = google.colab.output.setActiveOutputArea(window[\"f554333a-b931-11ed-90e7-0242ac1c000c\"]);\n",
              "//# sourceURL=js_2ca11e0189"
            ]
          },
          "metadata": {}
        },
        {
          "output_type": "display_data",
          "data": {
            "text/plain": [
              "<IPython.core.display.Javascript object>"
            ],
            "application/javascript": [
              "window[\"f61d5558-b931-11ed-90e7-0242ac1c000c\"] = google.colab.output.getActiveOutputArea();\n",
              "//# sourceURL=js_1bc9970f4b"
            ]
          },
          "metadata": {}
        },
        {
          "output_type": "display_data",
          "data": {
            "text/plain": [
              "<IPython.core.display.Javascript object>"
            ],
            "application/javascript": [
              "window[\"f61e0a5c-b931-11ed-90e7-0242ac1c000c\"] = document.querySelector(\"#id8-0-0\");\n",
              "//# sourceURL=js_68e8262828"
            ]
          },
          "metadata": {}
        },
        {
          "output_type": "display_data",
          "data": {
            "text/plain": [
              "<IPython.core.display.Javascript object>"
            ],
            "application/javascript": [
              "window[\"f61f9656-b931-11ed-90e7-0242ac1c000c\"] = google.colab.output.setActiveOutputArea(window[\"f61e0a5c-b931-11ed-90e7-0242ac1c000c\"]);\n",
              "//# sourceURL=js_ffd65ac7b6"
            ]
          },
          "metadata": {}
        },
        {
          "output_type": "display_data",
          "data": {
            "text/plain": [
              "<IPython.core.display.Javascript object>"
            ],
            "application/javascript": [
              "window[\"f67fdb38-b931-11ed-90e7-0242ac1c000c\"] = google.colab.output.setActiveOutputArea(window[\"f61d5558-b931-11ed-90e7-0242ac1c000c\"]);\n",
              "//# sourceURL=js_cf2559fda0"
            ]
          },
          "metadata": {}
        },
        {
          "output_type": "display_data",
          "data": {
            "text/plain": [
              "<IPython.core.display.Javascript object>"
            ],
            "application/javascript": [
              "window[\"f71be0f0-b931-11ed-90e7-0242ac1c000c\"] = google.colab.output.getActiveOutputArea();\n",
              "//# sourceURL=js_5dae21e1fb"
            ]
          },
          "metadata": {}
        },
        {
          "output_type": "display_data",
          "data": {
            "text/plain": [
              "<IPython.core.display.Javascript object>"
            ],
            "application/javascript": [
              "window[\"f71cb6ce-b931-11ed-90e7-0242ac1c000c\"] = document.querySelector(\"#id8-0-0\");\n",
              "//# sourceURL=js_6dfa0d08c0"
            ]
          },
          "metadata": {}
        },
        {
          "output_type": "display_data",
          "data": {
            "text/plain": [
              "<IPython.core.display.Javascript object>"
            ],
            "application/javascript": [
              "window[\"f71d5336-b931-11ed-90e7-0242ac1c000c\"] = google.colab.output.setActiveOutputArea(window[\"f71cb6ce-b931-11ed-90e7-0242ac1c000c\"]);\n",
              "//# sourceURL=js_ca1d27010b"
            ]
          },
          "metadata": {}
        },
        {
          "output_type": "display_data",
          "data": {
            "text/plain": [
              "<IPython.core.display.Javascript object>"
            ],
            "application/javascript": [
              "window[\"f74ff674-b931-11ed-90e7-0242ac1c000c\"] = google.colab.output.setActiveOutputArea(window[\"f71be0f0-b931-11ed-90e7-0242ac1c000c\"]);\n",
              "//# sourceURL=js_2e6907436d"
            ]
          },
          "metadata": {}
        },
        {
          "output_type": "display_data",
          "data": {
            "text/plain": [
              "<IPython.core.display.Javascript object>"
            ],
            "application/javascript": [
              "window[\"f7ebba32-b931-11ed-90e7-0242ac1c000c\"] = google.colab.output.getActiveOutputArea();\n",
              "//# sourceURL=js_5669741db1"
            ]
          },
          "metadata": {}
        },
        {
          "output_type": "display_data",
          "data": {
            "text/plain": [
              "<IPython.core.display.Javascript object>"
            ],
            "application/javascript": [
              "window[\"f7ec4b96-b931-11ed-90e7-0242ac1c000c\"] = document.querySelector(\"#id8-0-0\");\n",
              "//# sourceURL=js_7bb0abf6a5"
            ]
          },
          "metadata": {}
        },
        {
          "output_type": "display_data",
          "data": {
            "text/plain": [
              "<IPython.core.display.Javascript object>"
            ],
            "application/javascript": [
              "window[\"f7ecfd0c-b931-11ed-90e7-0242ac1c000c\"] = google.colab.output.setActiveOutputArea(window[\"f7ec4b96-b931-11ed-90e7-0242ac1c000c\"]);\n",
              "//# sourceURL=js_c88f5d614d"
            ]
          },
          "metadata": {}
        },
        {
          "output_type": "display_data",
          "data": {
            "text/plain": [
              "<IPython.core.display.Javascript object>"
            ],
            "application/javascript": [
              "window[\"f81be6a8-b931-11ed-90e7-0242ac1c000c\"] = google.colab.output.setActiveOutputArea(window[\"f7ebba32-b931-11ed-90e7-0242ac1c000c\"]);\n",
              "//# sourceURL=js_d1f3acb877"
            ]
          },
          "metadata": {}
        },
        {
          "output_type": "display_data",
          "data": {
            "text/plain": [
              "<IPython.core.display.Javascript object>"
            ],
            "application/javascript": [
              "window[\"f8b80330-b931-11ed-90e7-0242ac1c000c\"] = google.colab.output.getActiveOutputArea();\n",
              "//# sourceURL=js_e649a8eb9f"
            ]
          },
          "metadata": {}
        },
        {
          "output_type": "display_data",
          "data": {
            "text/plain": [
              "<IPython.core.display.Javascript object>"
            ],
            "application/javascript": [
              "window[\"f8b8bca8-b931-11ed-90e7-0242ac1c000c\"] = document.querySelector(\"#id8-0-0\");\n",
              "//# sourceURL=js_9292495d2f"
            ]
          },
          "metadata": {}
        },
        {
          "output_type": "display_data",
          "data": {
            "text/plain": [
              "<IPython.core.display.Javascript object>"
            ],
            "application/javascript": [
              "window[\"f8ba0702-b931-11ed-90e7-0242ac1c000c\"] = google.colab.output.setActiveOutputArea(window[\"f8b8bca8-b931-11ed-90e7-0242ac1c000c\"]);\n",
              "//# sourceURL=js_02b0b3afe6"
            ]
          },
          "metadata": {}
        },
        {
          "output_type": "display_data",
          "data": {
            "text/plain": [
              "<IPython.core.display.Javascript object>"
            ],
            "application/javascript": [
              "window[\"f8e316e2-b931-11ed-90e7-0242ac1c000c\"] = google.colab.output.setActiveOutputArea(window[\"f8b80330-b931-11ed-90e7-0242ac1c000c\"]);\n",
              "//# sourceURL=js_caec399fbf"
            ]
          },
          "metadata": {}
        },
        {
          "output_type": "display_data",
          "data": {
            "text/plain": [
              "<IPython.core.display.Javascript object>"
            ],
            "application/javascript": [
              "window[\"f980449e-b931-11ed-90e7-0242ac1c000c\"] = google.colab.output.getActiveOutputArea();\n",
              "//# sourceURL=js_1cc34ab872"
            ]
          },
          "metadata": {}
        },
        {
          "output_type": "display_data",
          "data": {
            "text/plain": [
              "<IPython.core.display.Javascript object>"
            ],
            "application/javascript": [
              "window[\"f980987c-b931-11ed-90e7-0242ac1c000c\"] = document.querySelector(\"#id8-0-0\");\n",
              "//# sourceURL=js_4647bedb7d"
            ]
          },
          "metadata": {}
        },
        {
          "output_type": "display_data",
          "data": {
            "text/plain": [
              "<IPython.core.display.Javascript object>"
            ],
            "application/javascript": [
              "window[\"f980f66e-b931-11ed-90e7-0242ac1c000c\"] = google.colab.output.setActiveOutputArea(window[\"f980987c-b931-11ed-90e7-0242ac1c000c\"]);\n",
              "//# sourceURL=js_6244be806d"
            ]
          },
          "metadata": {}
        },
        {
          "output_type": "stream",
          "name": "stdout",
          "text": [
            "Reward ->  0\n"
          ]
        },
        {
          "output_type": "display_data",
          "data": {
            "text/plain": [
              "<Figure size 432x288 with 1 Axes>"
            ],
            "image/png": "[encoded data removed]"
          },
          "metadata": {
            "needs_background": "light"
          }
        },
        {
          "output_type": "display_data",
          "data": {
            "text/plain": [
              "<IPython.core.display.Javascript object>"
            ],
            "application/javascript": [
              "window[\"f9a573ea-b931-11ed-90e7-0242ac1c000c\"] = google.colab.output.setActiveOutputArea(window[\"f980449e-b931-11ed-90e7-0242ac1c000c\"]);\n",
              "//# sourceURL=js_10772a86e5"
            ]
          },
          "metadata": {}
        }
      ]
    },
    {
      "cell_type": "markdown",
      "source": [
        "************************************************************************\n",
        "Stochastic Environment: "
      ],
      "metadata": {
        "id": "HsP4eebNZnk5"
      }
    },
    {
      "cell_type": "code",
      "source": [
        "env = GridEnv(env_type = \"stochastic\")\n",
        "agent = RandomAgent(env)\n",
        "\n",
        "obs, info = env.reset()\n",
        "terminated, truncated = False, False\n",
        "\n",
        "output_grid = widgets.Grid(1, 1)\n",
        "with output_grid.output_to(0, 0):\n",
        "  env.render()\n",
        "\n",
        "while not terminated:\n",
        "  action = agent.step(obs)\n",
        "  #action = input()\n",
        "  observation, reward, terminated, truncated, info, agent_pos = env.step(action)\n",
        "  with output_grid.output_to(0, 0):\n",
        "    output_grid.clear_cell()\n",
        "    plt.imshow(grid)\n",
        "    env.render()\n",
        "  time.sleep(1)"
      ],
      "metadata": {
        "id": "Xm6_yTZFDoO9",
        "colab": {
          "base_uri": "https://localhost:8080/",
          "height": 287
        },
        "outputId": "d67c0f8e-9f80-4e70-a41b-28fbe98b930d"
      },
      "execution_count": 30,
      "outputs": [
        {
          "output_type": "display_data",
          "data": {
            "text/plain": [
              "<IPython.core.display.HTML object>"
            ],
            "text/html": [
              "<style>\n",
              "       table#id10, #id10 > tbody > tr > th, #id10 > tbody > tr > td {\n",
              "         border: 1px solid lightgray;\n",
              "         border-collapse:collapse;\n",
              "         \n",
              "        }</style>"
            ]
          },
          "metadata": {}
        },
        {
          "output_type": "display_data",
          "data": {
            "text/plain": [
              "<IPython.core.display.HTML object>"
            ],
            "text/html": [
              "<table id=id10><tr><td id=id10-0-0></td></tr></table>"
            ]
          },
          "metadata": {}
        },
        {
          "output_type": "display_data",
          "data": {
            "text/plain": [
              "<IPython.core.display.Javascript object>"
            ],
            "application/javascript": [
              "window[\"fe5c0b1a-b931-11ed-90e7-0242ac1c000c\"] = google.colab.output.getActiveOutputArea();\n",
              "//# sourceURL=js_514b88713c"
            ]
          },
          "metadata": {}
        },
        {
          "output_type": "display_data",
          "data": {
            "text/plain": [
              "<IPython.core.display.Javascript object>"
            ],
            "application/javascript": [
              "window[\"fe5c84c8-b931-11ed-90e7-0242ac1c000c\"] = document.querySelector(\"#id10-0-0\");\n",
              "//# sourceURL=js_bede878898"
            ]
          },
          "metadata": {}
        },
        {
          "output_type": "display_data",
          "data": {
            "text/plain": [
              "<IPython.core.display.Javascript object>"
            ],
            "application/javascript": [
              "window[\"fe5cf69c-b931-11ed-90e7-0242ac1c000c\"] = google.colab.output.setActiveOutputArea(window[\"fe5c84c8-b931-11ed-90e7-0242ac1c000c\"]);\n",
              "//# sourceURL=js_2bc76ad45d"
            ]
          },
          "metadata": {}
        },
        {
          "output_type": "display_data",
          "data": {
            "text/plain": [
              "<IPython.core.display.Javascript object>"
            ],
            "application/javascript": [
              "window[\"fe7cc850-b931-11ed-90e7-0242ac1c000c\"] = google.colab.output.setActiveOutputArea(window[\"fe5c0b1a-b931-11ed-90e7-0242ac1c000c\"]);\n",
              "//# sourceURL=js_e0355caf94"
            ]
          },
          "metadata": {}
        },
        {
          "output_type": "display_data",
          "data": {
            "text/plain": [
              "<IPython.core.display.Javascript object>"
            ],
            "application/javascript": [
              "window[\"fe8010f0-b931-11ed-90e7-0242ac1c000c\"] = google.colab.output.getActiveOutputArea();\n",
              "//# sourceURL=js_5f6eb05152"
            ]
          },
          "metadata": {}
        },
        {
          "output_type": "display_data",
          "data": {
            "text/plain": [
              "<IPython.core.display.Javascript object>"
            ],
            "application/javascript": [
              "window[\"fe80b136-b931-11ed-90e7-0242ac1c000c\"] = document.querySelector(\"#id10-0-0\");\n",
              "//# sourceURL=js_d1c0f51fe0"
            ]
          },
          "metadata": {}
        },
        {
          "output_type": "display_data",
          "data": {
            "text/plain": [
              "<IPython.core.display.Javascript object>"
            ],
            "application/javascript": [
              "window[\"fe812378-b931-11ed-90e7-0242ac1c000c\"] = google.colab.output.setActiveOutputArea(window[\"fe80b136-b931-11ed-90e7-0242ac1c000c\"]);\n",
              "//# sourceURL=js_b10bcb3f77"
            ]
          },
          "metadata": {}
        },
        {
          "output_type": "display_data",
          "data": {
            "text/plain": [
              "<IPython.core.display.Javascript object>"
            ],
            "application/javascript": [
              "window[\"fea61480-b931-11ed-90e7-0242ac1c000c\"] = google.colab.output.setActiveOutputArea(window[\"fe8010f0-b931-11ed-90e7-0242ac1c000c\"]);\n",
              "//# sourceURL=js_e9521de04e"
            ]
          },
          "metadata": {}
        },
        {
          "output_type": "display_data",
          "data": {
            "text/plain": [
              "<IPython.core.display.Javascript object>"
            ],
            "application/javascript": [
              "window[\"ff415332-b931-11ed-90e7-0242ac1c000c\"] = google.colab.output.getActiveOutputArea();\n",
              "//# sourceURL=js_812ebb0c90"
            ]
          },
          "metadata": {}
        },
        {
          "output_type": "display_data",
          "data": {
            "text/plain": [
              "<IPython.core.display.Javascript object>"
            ],
            "application/javascript": [
              "window[\"ff41dca8-b931-11ed-90e7-0242ac1c000c\"] = document.querySelector(\"#id10-0-0\");\n",
              "//# sourceURL=js_5427f67f46"
            ]
          },
          "metadata": {}
        },
        {
          "output_type": "display_data",
          "data": {
            "text/plain": [
              "<IPython.core.display.Javascript object>"
            ],
            "application/javascript": [
              "window[\"ff425a98-b931-11ed-90e7-0242ac1c000c\"] = google.colab.output.setActiveOutputArea(window[\"ff41dca8-b931-11ed-90e7-0242ac1c000c\"]);\n",
              "//# sourceURL=js_2b06f20a71"
            ]
          },
          "metadata": {}
        },
        {
          "output_type": "display_data",
          "data": {
            "text/plain": [
              "<IPython.core.display.Javascript object>"
            ],
            "application/javascript": [
              "window[\"ff668058-b931-11ed-90e7-0242ac1c000c\"] = google.colab.output.setActiveOutputArea(window[\"ff415332-b931-11ed-90e7-0242ac1c000c\"]);\n",
              "//# sourceURL=js_445ba8e65c"
            ]
          },
          "metadata": {}
        },
        {
          "output_type": "display_data",
          "data": {
            "text/plain": [
              "<IPython.core.display.Javascript object>"
            ],
            "application/javascript": [
              "window[\"0001838c-b932-11ed-90e7-0242ac1c000c\"] = google.colab.output.getActiveOutputArea();\n",
              "//# sourceURL=js_bfd17c03a2"
            ]
          },
          "metadata": {}
        },
        {
          "output_type": "display_data",
          "data": {
            "text/plain": [
              "<IPython.core.display.Javascript object>"
            ],
            "application/javascript": [
              "window[\"0001fdee-b932-11ed-90e7-0242ac1c000c\"] = document.querySelector(\"#id10-0-0\");\n",
              "//# sourceURL=js_f62f7fe06a"
            ]
          },
          "metadata": {}
        },
        {
          "output_type": "display_data",
          "data": {
            "text/plain": [
              "<IPython.core.display.Javascript object>"
            ],
            "application/javascript": [
              "window[\"0002aece-b932-11ed-90e7-0242ac1c000c\"] = google.colab.output.setActiveOutputArea(window[\"0001fdee-b932-11ed-90e7-0242ac1c000c\"]);\n",
              "//# sourceURL=js_0214b06fa9"
            ]
          },
          "metadata": {}
        },
        {
          "output_type": "display_data",
          "data": {
            "text/plain": [
              "<IPython.core.display.Javascript object>"
            ],
            "application/javascript": [
              "window[\"00254bf0-b932-11ed-90e7-0242ac1c000c\"] = google.colab.output.setActiveOutputArea(window[\"0001838c-b932-11ed-90e7-0242ac1c000c\"]);\n",
              "//# sourceURL=js_d3e5e04ece"
            ]
          },
          "metadata": {}
        },
        {
          "output_type": "display_data",
          "data": {
            "text/plain": [
              "<IPython.core.display.Javascript object>"
            ],
            "application/javascript": [
              "window[\"00c0afdc-b932-11ed-90e7-0242ac1c000c\"] = google.colab.output.getActiveOutputArea();\n",
              "//# sourceURL=js_7a5c4aaced"
            ]
          },
          "metadata": {}
        },
        {
          "output_type": "display_data",
          "data": {
            "text/plain": [
              "<IPython.core.display.Javascript object>"
            ],
            "application/javascript": [
              "window[\"00c17570-b932-11ed-90e7-0242ac1c000c\"] = document.querySelector(\"#id10-0-0\");\n",
              "//# sourceURL=js_67500fce5e"
            ]
          },
          "metadata": {}
        },
        {
          "output_type": "display_data",
          "data": {
            "text/plain": [
              "<IPython.core.display.Javascript object>"
            ],
            "application/javascript": [
              "window[\"00c1e942-b932-11ed-90e7-0242ac1c000c\"] = google.colab.output.setActiveOutputArea(window[\"00c17570-b932-11ed-90e7-0242ac1c000c\"]);\n",
              "//# sourceURL=js_7afe606fa6"
            ]
          },
          "metadata": {}
        },
        {
          "output_type": "display_data",
          "data": {
            "text/plain": [
              "<IPython.core.display.Javascript object>"
            ],
            "application/javascript": [
              "window[\"00f71158-b932-11ed-90e7-0242ac1c000c\"] = google.colab.output.setActiveOutputArea(window[\"00c0afdc-b932-11ed-90e7-0242ac1c000c\"]);\n",
              "//# sourceURL=js_2f0464346a"
            ]
          },
          "metadata": {}
        },
        {
          "output_type": "display_data",
          "data": {
            "text/plain": [
              "<IPython.core.display.Javascript object>"
            ],
            "application/javascript": [
              "window[\"01927cba-b932-11ed-90e7-0242ac1c000c\"] = google.colab.output.getActiveOutputArea();\n",
              "//# sourceURL=js_1091815dd3"
            ]
          },
          "metadata": {}
        },
        {
          "output_type": "display_data",
          "data": {
            "text/plain": [
              "<IPython.core.display.Javascript object>"
            ],
            "application/javascript": [
              "window[\"01935fea-b932-11ed-90e7-0242ac1c000c\"] = document.querySelector(\"#id10-0-0\");\n",
              "//# sourceURL=js_c19b118bb3"
            ]
          },
          "metadata": {}
        },
        {
          "output_type": "display_data",
          "data": {
            "text/plain": [
              "<IPython.core.display.Javascript object>"
            ],
            "application/javascript": [
              "window[\"0194cd26-b932-11ed-90e7-0242ac1c000c\"] = google.colab.output.setActiveOutputArea(window[\"01935fea-b932-11ed-90e7-0242ac1c000c\"]);\n",
              "//# sourceURL=js_d0b7e7691a"
            ]
          },
          "metadata": {}
        },
        {
          "output_type": "display_data",
          "data": {
            "text/plain": [
              "<IPython.core.display.Javascript object>"
            ],
            "application/javascript": [
              "window[\"01d23850-b932-11ed-90e7-0242ac1c000c\"] = google.colab.output.setActiveOutputArea(window[\"01927cba-b932-11ed-90e7-0242ac1c000c\"]);\n",
              "//# sourceURL=js_9f0fa2ea16"
            ]
          },
          "metadata": {}
        },
        {
          "output_type": "display_data",
          "data": {
            "text/plain": [
              "<IPython.core.display.Javascript object>"
            ],
            "application/javascript": [
              "window[\"026f766a-b932-11ed-90e7-0242ac1c000c\"] = google.colab.output.getActiveOutputArea();\n",
              "//# sourceURL=js_9fd482622a"
            ]
          },
          "metadata": {}
        },
        {
          "output_type": "display_data",
          "data": {
            "text/plain": [
              "<IPython.core.display.Javascript object>"
            ],
            "application/javascript": [
              "window[\"02708cc6-b932-11ed-90e7-0242ac1c000c\"] = document.querySelector(\"#id10-0-0\");\n",
              "//# sourceURL=js_fc9d479a4a"
            ]
          },
          "metadata": {}
        },
        {
          "output_type": "display_data",
          "data": {
            "text/plain": [
              "<IPython.core.display.Javascript object>"
            ],
            "application/javascript": [
              "window[\"0271085e-b932-11ed-90e7-0242ac1c000c\"] = google.colab.output.setActiveOutputArea(window[\"02708cc6-b932-11ed-90e7-0242ac1c000c\"]);\n",
              "//# sourceURL=js_844935f910"
            ]
          },
          "metadata": {}
        },
        {
          "output_type": "display_data",
          "data": {
            "text/plain": [
              "<IPython.core.display.Javascript object>"
            ],
            "application/javascript": [
              "window[\"029881e0-b932-11ed-90e7-0242ac1c000c\"] = google.colab.output.setActiveOutputArea(window[\"026f766a-b932-11ed-90e7-0242ac1c000c\"]);\n",
              "//# sourceURL=js_4a946b7679"
            ]
          },
          "metadata": {}
        },
        {
          "output_type": "display_data",
          "data": {
            "text/plain": [
              "<IPython.core.display.Javascript object>"
            ],
            "application/javascript": [
              "window[\"03342546-b932-11ed-90e7-0242ac1c000c\"] = google.colab.output.getActiveOutputArea();\n",
              "//# sourceURL=js_b8ea1af93a"
            ]
          },
          "metadata": {}
        },
        {
          "output_type": "display_data",
          "data": {
            "text/plain": [
              "<IPython.core.display.Javascript object>"
            ],
            "application/javascript": [
              "window[\"0334a1a6-b932-11ed-90e7-0242ac1c000c\"] = document.querySelector(\"#id10-0-0\");\n",
              "//# sourceURL=js_a79fb7c676"
            ]
          },
          "metadata": {}
        },
        {
          "output_type": "display_data",
          "data": {
            "text/plain": [
              "<IPython.core.display.Javascript object>"
            ],
            "application/javascript": [
              "window[\"03358864-b932-11ed-90e7-0242ac1c000c\"] = google.colab.output.setActiveOutputArea(window[\"0334a1a6-b932-11ed-90e7-0242ac1c000c\"]);\n",
              "//# sourceURL=js_54d4aab3b6"
            ]
          },
          "metadata": {}
        },
        {
          "output_type": "display_data",
          "data": {
            "text/plain": [
              "<IPython.core.display.Javascript object>"
            ],
            "application/javascript": [
              "window[\"0357e3c8-b932-11ed-90e7-0242ac1c000c\"] = google.colab.output.setActiveOutputArea(window[\"03342546-b932-11ed-90e7-0242ac1c000c\"]);\n",
              "//# sourceURL=js_cde70cea90"
            ]
          },
          "metadata": {}
        },
        {
          "output_type": "display_data",
          "data": {
            "text/plain": [
              "<IPython.core.display.Javascript object>"
            ],
            "application/javascript": [
              "window[\"03f32356-b932-11ed-90e7-0242ac1c000c\"] = google.colab.output.getActiveOutputArea();\n",
              "//# sourceURL=js_a80ab2f28a"
            ]
          },
          "metadata": {}
        },
        {
          "output_type": "display_data",
          "data": {
            "text/plain": [
              "<IPython.core.display.Javascript object>"
            ],
            "application/javascript": [
              "window[\"03f3bd02-b932-11ed-90e7-0242ac1c000c\"] = document.querySelector(\"#id10-0-0\");\n",
              "//# sourceURL=js_0bc043d80e"
            ]
          },
          "metadata": {}
        },
        {
          "output_type": "display_data",
          "data": {
            "text/plain": [
              "<IPython.core.display.Javascript object>"
            ],
            "application/javascript": [
              "window[\"03f42ea4-b932-11ed-90e7-0242ac1c000c\"] = google.colab.output.setActiveOutputArea(window[\"03f3bd02-b932-11ed-90e7-0242ac1c000c\"]);\n",
              "//# sourceURL=js_6ccb75bdfc"
            ]
          },
          "metadata": {}
        },
        {
          "output_type": "display_data",
          "data": {
            "text/plain": [
              "<IPython.core.display.Javascript object>"
            ],
            "application/javascript": [
              "window[\"041c3dea-b932-11ed-90e7-0242ac1c000c\"] = google.colab.output.setActiveOutputArea(window[\"03f32356-b932-11ed-90e7-0242ac1c000c\"]);\n",
              "//# sourceURL=js_48ebae3d8e"
            ]
          },
          "metadata": {}
        },
        {
          "output_type": "display_data",
          "data": {
            "text/plain": [
              "<IPython.core.display.Javascript object>"
            ],
            "application/javascript": [
              "window[\"04b7d4e4-b932-11ed-90e7-0242ac1c000c\"] = google.colab.output.getActiveOutputArea();\n",
              "//# sourceURL=js_e2aa80f888"
            ]
          },
          "metadata": {}
        },
        {
          "output_type": "display_data",
          "data": {
            "text/plain": [
              "<IPython.core.display.Javascript object>"
            ],
            "application/javascript": [
              "window[\"04b8a216-b932-11ed-90e7-0242ac1c000c\"] = document.querySelector(\"#id10-0-0\");\n",
              "//# sourceURL=js_5dd738c636"
            ]
          },
          "metadata": {}
        },
        {
          "output_type": "display_data",
          "data": {
            "text/plain": [
              "<IPython.core.display.Javascript object>"
            ],
            "application/javascript": [
              "window[\"04b9b5b6-b932-11ed-90e7-0242ac1c000c\"] = google.colab.output.setActiveOutputArea(window[\"04b8a216-b932-11ed-90e7-0242ac1c000c\"]);\n",
              "//# sourceURL=js_f60a6c3e93"
            ]
          },
          "metadata": {}
        },
        {
          "output_type": "display_data",
          "data": {
            "text/plain": [
              "<IPython.core.display.Javascript object>"
            ],
            "application/javascript": [
              "window[\"04e05964-b932-11ed-90e7-0242ac1c000c\"] = google.colab.output.setActiveOutputArea(window[\"04b7d4e4-b932-11ed-90e7-0242ac1c000c\"]);\n",
              "//# sourceURL=js_fd8eb0ce1e"
            ]
          },
          "metadata": {}
        },
        {
          "output_type": "display_data",
          "data": {
            "text/plain": [
              "<IPython.core.display.Javascript object>"
            ],
            "application/javascript": [
              "window[\"057b37fe-b932-11ed-90e7-0242ac1c000c\"] = google.colab.output.getActiveOutputArea();\n",
              "//# sourceURL=js_c3ef0745ef"
            ]
          },
          "metadata": {}
        },
        {
          "output_type": "display_data",
          "data": {
            "text/plain": [
              "<IPython.core.display.Javascript object>"
            ],
            "application/javascript": [
              "window[\"057bcdcc-b932-11ed-90e7-0242ac1c000c\"] = document.querySelector(\"#id10-0-0\");\n",
              "//# sourceURL=js_088fc930d0"
            ]
          },
          "metadata": {}
        },
        {
          "output_type": "display_data",
          "data": {
            "text/plain": [
              "<IPython.core.display.Javascript object>"
            ],
            "application/javascript": [
              "window[\"057d7406-b932-11ed-90e7-0242ac1c000c\"] = google.colab.output.setActiveOutputArea(window[\"057bcdcc-b932-11ed-90e7-0242ac1c000c\"]);\n",
              "//# sourceURL=js_119068502c"
            ]
          },
          "metadata": {}
        },
        {
          "output_type": "display_data",
          "data": {
            "text/plain": [
              "<IPython.core.display.Javascript object>"
            ],
            "application/javascript": [
              "window[\"05a67b94-b932-11ed-90e7-0242ac1c000c\"] = google.colab.output.setActiveOutputArea(window[\"057b37fe-b932-11ed-90e7-0242ac1c000c\"]);\n",
              "//# sourceURL=js_6be86640bd"
            ]
          },
          "metadata": {}
        },
        {
          "output_type": "display_data",
          "data": {
            "text/plain": [
              "<IPython.core.display.Javascript object>"
            ],
            "application/javascript": [
              "window[\"064333c6-b932-11ed-90e7-0242ac1c000c\"] = google.colab.output.getActiveOutputArea();\n",
              "//# sourceURL=js_b370d1233c"
            ]
          },
          "metadata": {}
        },
        {
          "output_type": "display_data",
          "data": {
            "text/plain": [
              "<IPython.core.display.Javascript object>"
            ],
            "application/javascript": [
              "window[\"0643be0e-b932-11ed-90e7-0242ac1c000c\"] = document.querySelector(\"#id10-0-0\");\n",
              "//# sourceURL=js_3998d5fa1f"
            ]
          },
          "metadata": {}
        },
        {
          "output_type": "display_data",
          "data": {
            "text/plain": [
              "<IPython.core.display.Javascript object>"
            ],
            "application/javascript": [
              "window[\"0644f2d8-b932-11ed-90e7-0242ac1c000c\"] = google.colab.output.setActiveOutputArea(window[\"0643be0e-b932-11ed-90e7-0242ac1c000c\"]);\n",
              "//# sourceURL=js_8b661d68c4"
            ]
          },
          "metadata": {}
        },
        {
          "output_type": "display_data",
          "data": {
            "text/plain": [
              "<IPython.core.display.Javascript object>"
            ],
            "application/javascript": [
              "window[\"066adbb0-b932-11ed-90e7-0242ac1c000c\"] = google.colab.output.setActiveOutputArea(window[\"064333c6-b932-11ed-90e7-0242ac1c000c\"]);\n",
              "//# sourceURL=js_7e54c381a2"
            ]
          },
          "metadata": {}
        },
        {
          "output_type": "display_data",
          "data": {
            "text/plain": [
              "<IPython.core.display.Javascript object>"
            ],
            "application/javascript": [
              "window[\"0705e7e0-b932-11ed-90e7-0242ac1c000c\"] = google.colab.output.getActiveOutputArea();\n",
              "//# sourceURL=js_c20687eb72"
            ]
          },
          "metadata": {}
        },
        {
          "output_type": "display_data",
          "data": {
            "text/plain": [
              "<IPython.core.display.Javascript object>"
            ],
            "application/javascript": [
              "window[\"07067188-b932-11ed-90e7-0242ac1c000c\"] = document.querySelector(\"#id10-0-0\");\n",
              "//# sourceURL=js_d53ff7bd31"
            ]
          },
          "metadata": {}
        },
        {
          "output_type": "display_data",
          "data": {
            "text/plain": [
              "<IPython.core.display.Javascript object>"
            ],
            "application/javascript": [
              "window[\"07072164-b932-11ed-90e7-0242ac1c000c\"] = google.colab.output.setActiveOutputArea(window[\"07067188-b932-11ed-90e7-0242ac1c000c\"]);\n",
              "//# sourceURL=js_61e8f418d7"
            ]
          },
          "metadata": {}
        },
        {
          "output_type": "display_data",
          "data": {
            "text/plain": [
              "<IPython.core.display.Javascript object>"
            ],
            "application/javascript": [
              "window[\"072ce28c-b932-11ed-90e7-0242ac1c000c\"] = google.colab.output.setActiveOutputArea(window[\"0705e7e0-b932-11ed-90e7-0242ac1c000c\"]);\n",
              "//# sourceURL=js_325c4fe214"
            ]
          },
          "metadata": {}
        },
        {
          "output_type": "display_data",
          "data": {
            "text/plain": [
              "<IPython.core.display.Javascript object>"
            ],
            "application/javascript": [
              "window[\"07c94334-b932-11ed-90e7-0242ac1c000c\"] = google.colab.output.getActiveOutputArea();\n",
              "//# sourceURL=js_2a6ed48cda"
            ]
          },
          "metadata": {}
        },
        {
          "output_type": "display_data",
          "data": {
            "text/plain": [
              "<IPython.core.display.Javascript object>"
            ],
            "application/javascript": [
              "window[\"07c9b404-b932-11ed-90e7-0242ac1c000c\"] = document.querySelector(\"#id10-0-0\");\n",
              "//# sourceURL=js_35eec6c3a4"
            ]
          },
          "metadata": {}
        },
        {
          "output_type": "display_data",
          "data": {
            "text/plain": [
              "<IPython.core.display.Javascript object>"
            ],
            "application/javascript": [
              "window[\"07ca2f42-b932-11ed-90e7-0242ac1c000c\"] = google.colab.output.setActiveOutputArea(window[\"07c9b404-b932-11ed-90e7-0242ac1c000c\"]);\n",
              "//# sourceURL=js_07ba388cbe"
            ]
          },
          "metadata": {}
        },
        {
          "output_type": "display_data",
          "data": {
            "text/plain": [
              "<IPython.core.display.Javascript object>"
            ],
            "application/javascript": [
              "window[\"07f0a5be-b932-11ed-90e7-0242ac1c000c\"] = google.colab.output.setActiveOutputArea(window[\"07c94334-b932-11ed-90e7-0242ac1c000c\"]);\n",
              "//# sourceURL=js_df558aa8bc"
            ]
          },
          "metadata": {}
        },
        {
          "output_type": "display_data",
          "data": {
            "text/plain": [
              "<IPython.core.display.Javascript object>"
            ],
            "application/javascript": [
              "window[\"088be8ee-b932-11ed-90e7-0242ac1c000c\"] = google.colab.output.getActiveOutputArea();\n",
              "//# sourceURL=js_408edb5a69"
            ]
          },
          "metadata": {}
        },
        {
          "output_type": "display_data",
          "data": {
            "text/plain": [
              "<IPython.core.display.Javascript object>"
            ],
            "application/javascript": [
              "window[\"088ccbe2-b932-11ed-90e7-0242ac1c000c\"] = document.querySelector(\"#id10-0-0\");\n",
              "//# sourceURL=js_311a4a8008"
            ]
          },
          "metadata": {}
        },
        {
          "output_type": "display_data",
          "data": {
            "text/plain": [
              "<IPython.core.display.Javascript object>"
            ],
            "application/javascript": [
              "window[\"088dd744-b932-11ed-90e7-0242ac1c000c\"] = google.colab.output.setActiveOutputArea(window[\"088ccbe2-b932-11ed-90e7-0242ac1c000c\"]);\n",
              "//# sourceURL=js_d6363b78af"
            ]
          },
          "metadata": {}
        },
        {
          "output_type": "display_data",
          "data": {
            "text/plain": [
              "<IPython.core.display.Javascript object>"
            ],
            "application/javascript": [
              "window[\"08bf52ba-b932-11ed-90e7-0242ac1c000c\"] = google.colab.output.setActiveOutputArea(window[\"088be8ee-b932-11ed-90e7-0242ac1c000c\"]);\n",
              "//# sourceURL=js_cd67fcc2b5"
            ]
          },
          "metadata": {}
        },
        {
          "output_type": "display_data",
          "data": {
            "text/plain": [
              "<IPython.core.display.Javascript object>"
            ],
            "application/javascript": [
              "window[\"095b2794-b932-11ed-90e7-0242ac1c000c\"] = google.colab.output.getActiveOutputArea();\n",
              "//# sourceURL=js_2b7171eea0"
            ]
          },
          "metadata": {}
        },
        {
          "output_type": "display_data",
          "data": {
            "text/plain": [
              "<IPython.core.display.Javascript object>"
            ],
            "application/javascript": [
              "window[\"095b99cc-b932-11ed-90e7-0242ac1c000c\"] = document.querySelector(\"#id10-0-0\");\n",
              "//# sourceURL=js_77c6419ba7"
            ]
          },
          "metadata": {}
        },
        {
          "output_type": "display_data",
          "data": {
            "text/plain": [
              "<IPython.core.display.Javascript object>"
            ],
            "application/javascript": [
              "window[\"095c400c-b932-11ed-90e7-0242ac1c000c\"] = google.colab.output.setActiveOutputArea(window[\"095b99cc-b932-11ed-90e7-0242ac1c000c\"]);\n",
              "//# sourceURL=js_af2c40555a"
            ]
          },
          "metadata": {}
        },
        {
          "output_type": "stream",
          "name": "stdout",
          "text": [
            "Reward ->  0\n"
          ]
        },
        {
          "output_type": "display_data",
          "data": {
            "text/plain": [
              "<Figure size 432x288 with 1 Axes>"
            ],
            "image/png": "[encoded data removed]"
          },
          "metadata": {
            "needs_background": "light"
          }
        },
        {
          "output_type": "display_data",
          "data": {
            "text/plain": [
              "<IPython.core.display.Javascript object>"
            ],
            "application/javascript": [
              "window[\"097df09e-b932-11ed-90e7-0242ac1c000c\"] = google.colab.output.setActiveOutputArea(window[\"095b2794-b932-11ed-90e7-0242ac1c000c\"]);\n",
              "//# sourceURL=js_561bb35620"
            ]
          },
          "metadata": {}
        }
      ]
    },
    {
      "cell_type": "markdown",
      "source": [
        "-----------------------------------------------------------------------------\n",
        "**Part - 2**\n",
        "\n",
        "---\n",
        "\n",
        "\n",
        "**Q-Learning for Deterministic Environment**"
      ],
      "metadata": {
        "id": "Ne9h1cG_QyAL"
      }
    },
    {
      "cell_type": "code",
      "source": [
        "import random\n",
        "from IPython.display import clear_output\n",
        "\n",
        "env = GridEnv(env_type = \"deterministic\")\n",
        "agent = RandomAgent(env)\n",
        "\n",
        "# Hyperparameters\n",
        "alpha = 0.15\n",
        "gamma = 0.93\n",
        "epsilon = 1.0\n",
        "epsilon_val = []\n",
        "reward_val = []\n",
        "\n",
        "num_episodes = 5000\n",
        "\n",
        "# For plotting metrics\n",
        "all_epochs = []\n",
        "all_penalties = []\n",
        "\n",
        "#Q-Table\n",
        "q_table = np.random.rand(25, 4)\n",
        "q_table = q_table.astype(int)\n",
        "\n",
        "#running for 1000 episodes\n",
        "for episode in range(num_episodes):\n",
        "  #resetting the state \n",
        "  state, agent_pos = env.reset()\n",
        "  epochs = 0\n",
        "  penalties = 0\n",
        "\n",
        "  index = 0\n",
        "  state_to_list = state.tolist()\n",
        "  if 1 in state_to_list:\n",
        "    index = state_to_list.index(1)\n",
        "  # print(index)\n",
        "  \n",
        "  for timestep in range(15):\n",
        "    #Choosing an action based on e-greedy policy\n",
        "    if np.random.rand() < epsilon:\n",
        "      action = np.random.choice(env.action_space.n)\n",
        "    else:\n",
        "      action = np.argmax(q_table[index])\n",
        "\n",
        "    # action = np.clip(action, 0, 3)\n",
        "    observation, reward, terminated, truncated, info, new_agent_pos = env.step(action)\n",
        "\n",
        "    new_state_to_list = observation.tolist()\n",
        "    if 1 in new_state_to_list:\n",
        "      index2 = new_state_to_list.index(1)\n",
        "\n",
        "    q_table[index, action] = q_table[index, action] + alpha * (reward + gamma * np.max(q_table[index2]) - q_table[index, action])\n",
        "\n",
        "    # if reward == -5 or reward == -6 or reward == -2:\n",
        "    #   penalties += 1\n",
        "    \n",
        "    agent_pos = new_agent_pos\n",
        "    epochs += 1\n",
        "  reward_val.append(reward)\n",
        "  epsilon *= 0.9990\n",
        "  epsilon_val.append(epsilon)\n",
        "  # print(epsilon)\n",
        "\n",
        "# print(\"Q-Table : \", q_table)\n",
        "# print(epsilon_val)\n"
      ],
      "metadata": {
        "id": "Ro6Mvhxxjdbs"
      },
      "execution_count": 127,
      "outputs": []
    },
    {
      "cell_type": "code",
      "source": [
        "print(q_table)"
      ],
      "metadata": {
        "colab": {
          "base_uri": "https://localhost:8080/"
        },
        "id": "jWkiXYaf38s6",
        "outputId": "284c5404-be74-4d8d-bd42-f33ce0d5cac6"
      },
      "execution_count": 128,
      "outputs": [
        {
          "output_type": "stream",
          "name": "stdout",
          "text": [
            "[[47 46 48 42]\n",
            " [ 9  2  6  3]\n",
            " [ 1  7  2 11]\n",
            " [40 16 31 25]\n",
            " [48 25 24 25]\n",
            " [17  4 11  6]\n",
            " [ 7  1  6  2]\n",
            " [42 18 30 13]\n",
            " [40 22 35 24]\n",
            " [48 40 45 38]\n",
            " [35  4 24 20]\n",
            " [28 11 21 15]\n",
            " [39 14 40 32]\n",
            " [42 37 44 39]\n",
            " [48 42 43 40]\n",
            " [12  8 21  8]\n",
            " [31 17 29 19]\n",
            " [44 32 43 36]\n",
            " [47 46 48 40]\n",
            " [48 46 48 39]\n",
            " [42 32 48 37]\n",
            " [44 30 48 39]\n",
            " [46 41 47 40]\n",
            " [48 46 48 41]\n",
            " [ 0  0  0  0]]\n"
          ]
        }
      ]
    },
    {
      "cell_type": "markdown",
      "source": [
        "**Epsilon-Decay Graph**"
      ],
      "metadata": {
        "id": "B_VWFibmR5lo"
      }
    },
    {
      "cell_type": "code",
      "source": [
        "plt.figure(figsize=(5,5))\n",
        "plt.plot(epsilon_val, linewidth=4)\n",
        "plt.xlabel('Episode', fontsize=16)\n",
        "plt.ylabel('Epsilon Values', fontsize=16)\n",
        "plt.title('Epsilon Decay (Deterministic)', fontsize=20)\n",
        "plt.xticks(fontsize=16)\n",
        "plt.yticks(fontsize=16)\n",
        "plt.ylim(ymin=0, ymax=1)\n",
        "plt.xlim(xmin=0, xmax=5000)\n",
        "plt.grid()\n",
        "plt.show()"
      ],
      "metadata": {
        "colab": {
          "base_uri": "https://localhost:8080/",
          "height": 365
        },
        "id": "QtTsDiPbSDMF",
        "outputId": "d2f5604a-7366-4985-d43e-22f5941bb36b"
      },
      "execution_count": 129,
      "outputs": [
        {
          "output_type": "display_data",
          "data": {
            "text/plain": [
              "<Figure size 360x360 with 1 Axes>"
            ],
            "image/png": "[encoded data removed]"
          },
          "metadata": {
            "needs_background": "light"
          }
        }
      ]
    },
    {
      "cell_type": "markdown",
      "source": [
        "**Total Rewards per episode**"
      ],
      "metadata": {
        "id": "iADJoBJPSV9m"
      }
    },
    {
      "cell_type": "code",
      "source": [
        "# print(reward_val)\n",
        "plt.figure(figsize=(8,8))\n",
        "plt.plot(reward_val, 'ro')\n",
        "plt.xlabel('Episode', fontsize=18)\n",
        "plt.ylabel('Reward Value', fontsize=18)\n",
        "plt.title('Rewards Per Episode (Deterministic)', fontsize=20)\n",
        "plt.xticks(fontsize=16)\n",
        "plt.yticks([-6, -5, -4, -3, -2, 0, 2, 4, 6, 8, 10], fontsize=16)\n",
        "plt.ylim(ymin=-7, ymax=11)\n",
        "plt.xlim(xmin=0, xmax=5000)\n",
        "plt.grid()\n",
        "plt.show()"
      ],
      "metadata": {
        "colab": {
          "base_uri": "https://localhost:8080/",
          "height": 531
        },
        "id": "wsuj3Ll5Sdy7",
        "outputId": "1a56be02-81cd-4d64-ef64-a282921ffb72"
      },
      "execution_count": 130,
      "outputs": [
        {
          "output_type": "display_data",
          "data": {
            "text/plain": [
              "<Figure size 576x576 with 1 Axes>"
            ],
            "image/png": "[encoded data removed]"
          },
          "metadata": {
            "needs_background": "light"
          }
        }
      ]
    },
    {
      "cell_type": "markdown",
      "source": [
        "**Q-Learning for Stochastic Environment**"
      ],
      "metadata": {
        "id": "09ECYT0oW3-4"
      }
    },
    {
      "cell_type": "code",
      "source": [
        "import random\n",
        "from IPython.display import clear_output\n",
        "\n",
        "env = GridEnv(env_type = \"stochastic\")\n",
        "agent = RandomAgent(env)\n",
        "\n",
        "# Hyperparameters\n",
        "alpha = 0.15\n",
        "gamma = 0.93\n",
        "epsilon = 1.0\n",
        "epsilon_val_stoc = []\n",
        "reward_val_stoc = []\n",
        "\n",
        "num_episodes = 5000\n",
        "\n",
        "# For plotting metrics\n",
        "all_epochs = []\n",
        "all_penalties = []\n",
        "\n",
        "#Q-Table\n",
        "q_table_stoc = np.random.rand(25, 4)\n",
        "q_table_stoc = q_table_stoc.astype(int)\n",
        "\n",
        "#running for 1000 episodes\n",
        "for episode in range(num_episodes):\n",
        "  #resetting the state \n",
        "  state, agent_pos = env.reset()\n",
        "  epochs = 0\n",
        "  penalties = 0\n",
        "\n",
        "  index \n",
        "  state_to_list = state.tolist()\n",
        "  if 1 in state_to_list:\n",
        "    index = state_to_list.index(1)\n",
        "  # print(index)\n",
        "  \n",
        "  for timestep in range(15):\n",
        "    #Choosing an action based on e-greedy policy\n",
        "    if np.random.rand() < epsilon:\n",
        "      action = np.random.choice(env.action_space.n)\n",
        "    else:\n",
        "      action = np.argmax(q_table_stoc[index])\n",
        "\n",
        "    # action = np.clip(action, 0, 3)\n",
        "    observation, reward, terminated, truncated, info, new_agent_pos = env.step(action)\n",
        "\n",
        "    new_state_to_list = observation.tolist()\n",
        "    if 1 in new_state_to_list:\n",
        "      index2 = new_state_to_list.index(1)\n",
        "\n",
        "    q_table_stoc[index, action] = q_table_stoc[index, action] + alpha * (reward + gamma * np.max(q_table_stoc[index2]) - q_table_stoc[index, action])\n",
        "\n",
        "    # if reward == -5 or reward == -6 or reward == -2:\n",
        "    #   penalties += 1\n",
        "    \n",
        "    agent_pos = new_agent_pos\n",
        "    epochs += 1\n",
        "  reward_val_stoc.append(reward)\n",
        "  epsilon *= 0.9990\n",
        "  epsilon_val_stoc.append(epsilon)\n",
        "  # print(epsilon)\n",
        "\n",
        "# print(\"Q-Table : \", q_table)\n",
        "# print(epsilon_val)\n"
      ],
      "metadata": {
        "id": "4eNNhT3gW-XQ"
      },
      "execution_count": 171,
      "outputs": []
    },
    {
      "cell_type": "code",
      "source": [
        "plt.figure(figsize=(5,5))\n",
        "plt.plot(epsilon_val_stoc, linewidth=4)\n",
        "plt.xlabel('Episode', fontsize=16)\n",
        "plt.ylabel('Epsilon Values', fontsize=16)\n",
        "plt.title('Epsilon Decay (Stochastic)', fontsize=20)\n",
        "plt.xticks(fontsize=16)\n",
        "plt.yticks(fontsize=16)\n",
        "plt.ylim(ymin=0, ymax=1)\n",
        "plt.xlim(xmin=0, xmax=5000)\n",
        "plt.grid()\n",
        "plt.show()"
      ],
      "metadata": {
        "colab": {
          "base_uri": "https://localhost:8080/",
          "height": 365
        },
        "id": "oxGJBsqnXCKW",
        "outputId": "8ccfd59e-a9e3-4159-9814-9d1906beb714"
      },
      "execution_count": 172,
      "outputs": [
        {
          "output_type": "display_data",
          "data": {
            "text/plain": [
              "<Figure size 360x360 with 1 Axes>"
            ],
            "image/png": "[encoded data removed]"
          },
          "metadata": {
            "needs_background": "light"
          }
        }
      ]
    },
    {
      "cell_type": "code",
      "source": [
        "plt.figure(figsize=(8,8))\n",
        "plt.plot(reward_val_stoc, 'ro')\n",
        "plt.xlabel('Episode', fontsize=18)\n",
        "plt.ylabel('Reward Value', fontsize=18)\n",
        "plt.title('Rewards Per Episode (Stochastic)', fontsize=20)\n",
        "plt.xticks(fontsize=16)\n",
        "plt.yticks([-10, -8, -6, -4, -2, 0, 2, 4, 6, 8, 10], fontsize=16)\n",
        "plt.ylim(ymin=-10, ymax=11)\n",
        "plt.xlim(xmin=0, xmax=5000)\n",
        "plt.grid()\n",
        "plt.show()"
      ],
      "metadata": {
        "colab": {
          "base_uri": "https://localhost:8080/",
          "height": 531
        },
        "id": "zR1ZfALMXHUc",
        "outputId": "350dc357-ab63-4924-b755-9a989799e87a"
      },
      "execution_count": 173,
      "outputs": [
        {
          "output_type": "display_data",
          "data": {
            "text/plain": [
              "<Figure size 576x576 with 1 Axes>"
            ],
            "image/png": "[encoded data removed]"
          },
          "metadata": {
            "needs_background": "light"
          }
        }
      ]
    },
    {
      "cell_type": "code",
      "source": [
        "# Write Q-table to pickle file\n",
        "with open('q_table.pkl', 'wb') as f:\n",
        "    pickle.dump(q_table, f)\n",
        "\n",
        "# Download pickle file\n",
        "from google.colab import files\n",
        "files.download('q_table.pkl')\n"
      ],
      "metadata": {
        "colab": {
          "base_uri": "https://localhost:8080/",
          "height": 17
        },
        "id": "PoEcmudDNHpn",
        "outputId": "046ebcfb-95e5-44e5-cc18-bb607b912166"
      },
      "execution_count": 174,
      "outputs": [
        {
          "output_type": "display_data",
          "data": {
            "text/plain": [
              "<IPython.core.display.Javascript object>"
            ],
            "application/javascript": [
              "\n",
              "    async function download(id, filename, size) {\n",
              "      if (!google.colab.kernel.accessAllowed) {\n",
              "        return;\n",
              "      }\n",
              "      const div = document.createElement('div');\n",
              "      const label = document.createElement('label');\n",
              "      label.textContent = `Downloading \"${filename}\": `;\n",
              "      div.appendChild(label);\n",
              "      const progress = document.createElement('progress');\n",
              "      progress.max = size;\n",
              "      div.appendChild(progress);\n",
              "      document.body.appendChild(div);\n",
              "\n",
              "      const buffers = [];\n",
              "      let downloaded = 0;\n",
              "\n",
              "      const channel = await google.colab.kernel.comms.open(id);\n",
              "      // Send a message to notify the kernel that we're ready.\n",
              "      channel.send({})\n",
              "\n",
              "      for await (const message of channel.messages) {\n",
              "        // Send a message to notify the kernel that we're ready.\n",
              "        channel.send({})\n",
              "        if (message.buffers) {\n",
              "          for (const buffer of message.buffers) {\n",
              "            buffers.push(buffer);\n",
              "            downloaded += buffer.byteLength;\n",
              "            progress.value = downloaded;\n",
              "          }\n",
              "        }\n",
              "      }\n",
              "      const blob = new Blob(buffers, {type: 'application/binary'});\n",
              "      const a = document.createElement('a');\n",
              "      a.href = window.URL.createObjectURL(blob);\n",
              "      a.download = filename;\n",
              "      div.appendChild(a);\n",
              "      a.click();\n",
              "      div.remove();\n",
              "    }\n",
              "  "
            ]
          },
          "metadata": {}
        },
        {
          "output_type": "display_data",
          "data": {
            "text/plain": [
              "<IPython.core.display.Javascript object>"
            ],
            "application/javascript": [
              "download(\"download_033f5127-f263-4cc3-8225-2d561defcc9a\", \"q_table.pkl\", 952)"
            ]
          },
          "metadata": {}
        }
      ]
    },
    {
      "cell_type": "markdown",
      "source": [
        "**Testing Q-Values with 5x5 Grid Environment - Deterministic**"
      ],
      "metadata": {
        "id": "Uj1nr-UCX92g"
      }
    },
    {
      "cell_type": "code",
      "source": [
        "env = GridEnv(env_type = \"deterministic\")\n",
        "agent = RandomAgent(env)\n",
        "\n",
        "obs, info = env.reset()\n",
        "terminated, truncated = False, False\n",
        "\n",
        "output_grid = widgets.Grid(1, 1)\n",
        "with output_grid.output_to(0, 0):\n",
        "  env.render()\n",
        "\n",
        "def get_max_val(arg):\n",
        "  return max(arg)\n",
        "  \n",
        "for i in q_table:\n",
        "  max_val = get_max_val(i)\n",
        "  i_to_list = i.tolist()\n",
        "  max_index = i_to_list.index(max_val)\n",
        "  observation, reward, terminated, truncated, info, agent_pos = env.step(max_index)\n",
        "  with output_grid.output_to(0, 0):\n",
        "    output_grid.clear_cell()\n",
        "    plt.imshow(grid)\n",
        "    env.render()\n",
        "  time.sleep(1)\n",
        "\n",
        "  "
      ],
      "metadata": {
        "colab": {
          "base_uri": "https://localhost:8080/",
          "height": 287
        },
        "id": "yO6PQTYjA-4s",
        "outputId": "214d9532-8f85-4eff-ca18-7bca1423ff1d"
      },
      "execution_count": 144,
      "outputs": [
        {
          "output_type": "display_data",
          "data": {
            "text/plain": [
              "<IPython.core.display.HTML object>"
            ],
            "text/html": [
              "<style>\n",
              "       table#id12, #id12 > tbody > tr > th, #id12 > tbody > tr > td {\n",
              "         border: 1px solid lightgray;\n",
              "         border-collapse:collapse;\n",
              "         \n",
              "        }</style>"
            ]
          },
          "metadata": {}
        },
        {
          "output_type": "display_data",
          "data": {
            "text/plain": [
              "<IPython.core.display.HTML object>"
            ],
            "text/html": [
              "<table id=id12><tr><td id=id12-0-0></td></tr></table>"
            ]
          },
          "metadata": {}
        },
        {
          "output_type": "display_data",
          "data": {
            "text/plain": [
              "<IPython.core.display.Javascript object>"
            ],
            "application/javascript": [
              "window[\"67a5249a-b93b-11ed-90e7-0242ac1c000c\"] = google.colab.output.getActiveOutputArea();\n",
              "//# sourceURL=js_d49604a5a6"
            ]
          },
          "metadata": {}
        },
        {
          "output_type": "display_data",
          "data": {
            "text/plain": [
              "<IPython.core.display.Javascript object>"
            ],
            "application/javascript": [
              "window[\"67a5a1ae-b93b-11ed-90e7-0242ac1c000c\"] = document.querySelector(\"#id12-0-0\");\n",
              "//# sourceURL=js_cc27b12d98"
            ]
          },
          "metadata": {}
        },
        {
          "output_type": "display_data",
          "data": {
            "text/plain": [
              "<IPython.core.display.Javascript object>"
            ],
            "application/javascript": [
              "window[\"67a6188c-b93b-11ed-90e7-0242ac1c000c\"] = google.colab.output.setActiveOutputArea(window[\"67a5a1ae-b93b-11ed-90e7-0242ac1c000c\"]);\n",
              "//# sourceURL=js_4910ef0d37"
            ]
          },
          "metadata": {}
        },
        {
          "output_type": "display_data",
          "data": {
            "text/plain": [
              "<IPython.core.display.Javascript object>"
            ],
            "application/javascript": [
              "window[\"67c79afc-b93b-11ed-90e7-0242ac1c000c\"] = google.colab.output.setActiveOutputArea(window[\"67a5249a-b93b-11ed-90e7-0242ac1c000c\"]);\n",
              "//# sourceURL=js_df425ae81d"
            ]
          },
          "metadata": {}
        },
        {
          "output_type": "display_data",
          "data": {
            "text/plain": [
              "<IPython.core.display.Javascript object>"
            ],
            "application/javascript": [
              "window[\"67cabf2a-b93b-11ed-90e7-0242ac1c000c\"] = google.colab.output.getActiveOutputArea();\n",
              "//# sourceURL=js_379077f247"
            ]
          },
          "metadata": {}
        },
        {
          "output_type": "display_data",
          "data": {
            "text/plain": [
              "<IPython.core.display.Javascript object>"
            ],
            "application/javascript": [
              "window[\"67cb55fc-b93b-11ed-90e7-0242ac1c000c\"] = document.querySelector(\"#id12-0-0\");\n",
              "//# sourceURL=js_f8fc5a5dd3"
            ]
          },
          "metadata": {}
        },
        {
          "output_type": "display_data",
          "data": {
            "text/plain": [
              "<IPython.core.display.Javascript object>"
            ],
            "application/javascript": [
              "window[\"67cbd5e0-b93b-11ed-90e7-0242ac1c000c\"] = google.colab.output.setActiveOutputArea(window[\"67cb55fc-b93b-11ed-90e7-0242ac1c000c\"]);\n",
              "//# sourceURL=js_d3ba92f01e"
            ]
          },
          "metadata": {}
        },
        {
          "output_type": "display_data",
          "data": {
            "text/plain": [
              "<IPython.core.display.Javascript object>"
            ],
            "application/javascript": [
              "window[\"67eed1a8-b93b-11ed-90e7-0242ac1c000c\"] = google.colab.output.setActiveOutputArea(window[\"67cabf2a-b93b-11ed-90e7-0242ac1c000c\"]);\n",
              "//# sourceURL=js_c9cb04b304"
            ]
          },
          "metadata": {}
        },
        {
          "output_type": "display_data",
          "data": {
            "text/plain": [
              "<IPython.core.display.Javascript object>"
            ],
            "application/javascript": [
              "window[\"688a7a5e-b93b-11ed-90e7-0242ac1c000c\"] = google.colab.output.getActiveOutputArea();\n",
              "//# sourceURL=js_602dac2791"
            ]
          },
          "metadata": {}
        },
        {
          "output_type": "display_data",
          "data": {
            "text/plain": [
              "<IPython.core.display.Javascript object>"
            ],
            "application/javascript": [
              "window[\"688ba42e-b93b-11ed-90e7-0242ac1c000c\"] = document.querySelector(\"#id12-0-0\");\n",
              "//# sourceURL=js_bcda86ded6"
            ]
          },
          "metadata": {}
        },
        {
          "output_type": "display_data",
          "data": {
            "text/plain": [
              "<IPython.core.display.Javascript object>"
            ],
            "application/javascript": [
              "window[\"688c0d10-b93b-11ed-90e7-0242ac1c000c\"] = google.colab.output.setActiveOutputArea(window[\"688ba42e-b93b-11ed-90e7-0242ac1c000c\"]);\n",
              "//# sourceURL=js_59954582a6"
            ]
          },
          "metadata": {}
        },
        {
          "output_type": "display_data",
          "data": {
            "text/plain": [
              "<IPython.core.display.Javascript object>"
            ],
            "application/javascript": [
              "window[\"68adc82e-b93b-11ed-90e7-0242ac1c000c\"] = google.colab.output.setActiveOutputArea(window[\"688a7a5e-b93b-11ed-90e7-0242ac1c000c\"]);\n",
              "//# sourceURL=js_aa450d0039"
            ]
          },
          "metadata": {}
        },
        {
          "output_type": "display_data",
          "data": {
            "text/plain": [
              "<IPython.core.display.Javascript object>"
            ],
            "application/javascript": [
              "window[\"6949907e-b93b-11ed-90e7-0242ac1c000c\"] = google.colab.output.getActiveOutputArea();\n",
              "//# sourceURL=js_0c89bd6f32"
            ]
          },
          "metadata": {}
        },
        {
          "output_type": "display_data",
          "data": {
            "text/plain": [
              "<IPython.core.display.Javascript object>"
            ],
            "application/javascript": [
              "window[\"694a5edc-b93b-11ed-90e7-0242ac1c000c\"] = document.querySelector(\"#id12-0-0\");\n",
              "//# sourceURL=js_b84ceea144"
            ]
          },
          "metadata": {}
        },
        {
          "output_type": "display_data",
          "data": {
            "text/plain": [
              "<IPython.core.display.Javascript object>"
            ],
            "application/javascript": [
              "window[\"694b213c-b93b-11ed-90e7-0242ac1c000c\"] = google.colab.output.setActiveOutputArea(window[\"694a5edc-b93b-11ed-90e7-0242ac1c000c\"]);\n",
              "//# sourceURL=js_d3ac052425"
            ]
          },
          "metadata": {}
        },
        {
          "output_type": "display_data",
          "data": {
            "text/plain": [
              "<IPython.core.display.Javascript object>"
            ],
            "application/javascript": [
              "window[\"6985c792-b93b-11ed-90e7-0242ac1c000c\"] = google.colab.output.setActiveOutputArea(window[\"6949907e-b93b-11ed-90e7-0242ac1c000c\"]);\n",
              "//# sourceURL=js_7b688e0746"
            ]
          },
          "metadata": {}
        },
        {
          "output_type": "display_data",
          "data": {
            "text/plain": [
              "<IPython.core.display.Javascript object>"
            ],
            "application/javascript": [
              "window[\"6a218d58-b93b-11ed-90e7-0242ac1c000c\"] = google.colab.output.getActiveOutputArea();\n",
              "//# sourceURL=js_0fbdaa6e06"
            ]
          },
          "metadata": {}
        },
        {
          "output_type": "display_data",
          "data": {
            "text/plain": [
              "<IPython.core.display.Javascript object>"
            ],
            "application/javascript": [
              "window[\"6a220954-b93b-11ed-90e7-0242ac1c000c\"] = document.querySelector(\"#id12-0-0\");\n",
              "//# sourceURL=js_c595893266"
            ]
          },
          "metadata": {}
        },
        {
          "output_type": "display_data",
          "data": {
            "text/plain": [
              "<IPython.core.display.Javascript object>"
            ],
            "application/javascript": [
              "window[\"6a228636-b93b-11ed-90e7-0242ac1c000c\"] = google.colab.output.setActiveOutputArea(window[\"6a220954-b93b-11ed-90e7-0242ac1c000c\"]);\n",
              "//# sourceURL=js_99e5203840"
            ]
          },
          "metadata": {}
        },
        {
          "output_type": "display_data",
          "data": {
            "text/plain": [
              "<IPython.core.display.Javascript object>"
            ],
            "application/javascript": [
              "window[\"6a45b11a-b93b-11ed-90e7-0242ac1c000c\"] = google.colab.output.setActiveOutputArea(window[\"6a218d58-b93b-11ed-90e7-0242ac1c000c\"]);\n",
              "//# sourceURL=js_27ff6aedba"
            ]
          },
          "metadata": {}
        },
        {
          "output_type": "display_data",
          "data": {
            "text/plain": [
              "<IPython.core.display.Javascript object>"
            ],
            "application/javascript": [
              "window[\"6ae1229e-b93b-11ed-90e7-0242ac1c000c\"] = google.colab.output.getActiveOutputArea();\n",
              "//# sourceURL=js_3315f2d4d7"
            ]
          },
          "metadata": {}
        },
        {
          "output_type": "display_data",
          "data": {
            "text/plain": [
              "<IPython.core.display.Javascript object>"
            ],
            "application/javascript": [
              "window[\"6ae1c500-b93b-11ed-90e7-0242ac1c000c\"] = document.querySelector(\"#id12-0-0\");\n",
              "//# sourceURL=js_18bb81d532"
            ]
          },
          "metadata": {}
        },
        {
          "output_type": "display_data",
          "data": {
            "text/plain": [
              "<IPython.core.display.Javascript object>"
            ],
            "application/javascript": [
              "window[\"6ae2cb44-b93b-11ed-90e7-0242ac1c000c\"] = google.colab.output.setActiveOutputArea(window[\"6ae1c500-b93b-11ed-90e7-0242ac1c000c\"]);\n",
              "//# sourceURL=js_d413b01f8a"
            ]
          },
          "metadata": {}
        },
        {
          "output_type": "display_data",
          "data": {
            "text/plain": [
              "<IPython.core.display.Javascript object>"
            ],
            "application/javascript": [
              "window[\"6b076ce2-b93b-11ed-90e7-0242ac1c000c\"] = google.colab.output.setActiveOutputArea(window[\"6ae1229e-b93b-11ed-90e7-0242ac1c000c\"]);\n",
              "//# sourceURL=js_9e2d671d1a"
            ]
          },
          "metadata": {}
        },
        {
          "output_type": "display_data",
          "data": {
            "text/plain": [
              "<IPython.core.display.Javascript object>"
            ],
            "application/javascript": [
              "window[\"6ba2fcf2-b93b-11ed-90e7-0242ac1c000c\"] = google.colab.output.getActiveOutputArea();\n",
              "//# sourceURL=js_f12abaa9a2"
            ]
          },
          "metadata": {}
        },
        {
          "output_type": "display_data",
          "data": {
            "text/plain": [
              "<IPython.core.display.Javascript object>"
            ],
            "application/javascript": [
              "window[\"6ba38532-b93b-11ed-90e7-0242ac1c000c\"] = document.querySelector(\"#id12-0-0\");\n",
              "//# sourceURL=js_b18f78c207"
            ]
          },
          "metadata": {}
        },
        {
          "output_type": "display_data",
          "data": {
            "text/plain": [
              "<IPython.core.display.Javascript object>"
            ],
            "application/javascript": [
              "window[\"6ba3faa8-b93b-11ed-90e7-0242ac1c000c\"] = google.colab.output.setActiveOutputArea(window[\"6ba38532-b93b-11ed-90e7-0242ac1c000c\"]);\n",
              "//# sourceURL=js_759c81f8a6"
            ]
          },
          "metadata": {}
        },
        {
          "output_type": "display_data",
          "data": {
            "text/plain": [
              "<IPython.core.display.Javascript object>"
            ],
            "application/javascript": [
              "window[\"6bc75f5c-b93b-11ed-90e7-0242ac1c000c\"] = google.colab.output.setActiveOutputArea(window[\"6ba2fcf2-b93b-11ed-90e7-0242ac1c000c\"]);\n",
              "//# sourceURL=js_8a796a480d"
            ]
          },
          "metadata": {}
        },
        {
          "output_type": "display_data",
          "data": {
            "text/plain": [
              "<IPython.core.display.Javascript object>"
            ],
            "application/javascript": [
              "window[\"6c6307b8-b93b-11ed-90e7-0242ac1c000c\"] = google.colab.output.getActiveOutputArea();\n",
              "//# sourceURL=js_0ff03a613a"
            ]
          },
          "metadata": {}
        },
        {
          "output_type": "display_data",
          "data": {
            "text/plain": [
              "<IPython.core.display.Javascript object>"
            ],
            "application/javascript": [
              "window[\"6c63ff6a-b93b-11ed-90e7-0242ac1c000c\"] = document.querySelector(\"#id12-0-0\");\n",
              "//# sourceURL=js_160bf7c803"
            ]
          },
          "metadata": {}
        },
        {
          "output_type": "display_data",
          "data": {
            "text/plain": [
              "<IPython.core.display.Javascript object>"
            ],
            "application/javascript": [
              "window[\"6c648a8e-b93b-11ed-90e7-0242ac1c000c\"] = google.colab.output.setActiveOutputArea(window[\"6c63ff6a-b93b-11ed-90e7-0242ac1c000c\"]);\n",
              "//# sourceURL=js_0a643fbad5"
            ]
          },
          "metadata": {}
        },
        {
          "output_type": "display_data",
          "data": {
            "text/plain": [
              "<IPython.core.display.Javascript object>"
            ],
            "application/javascript": [
              "window[\"6c867a86-b93b-11ed-90e7-0242ac1c000c\"] = google.colab.output.setActiveOutputArea(window[\"6c6307b8-b93b-11ed-90e7-0242ac1c000c\"]);\n",
              "//# sourceURL=js_19ab9239ca"
            ]
          },
          "metadata": {}
        },
        {
          "output_type": "display_data",
          "data": {
            "text/plain": [
              "<IPython.core.display.Javascript object>"
            ],
            "application/javascript": [
              "window[\"6d21be56-b93b-11ed-90e7-0242ac1c000c\"] = google.colab.output.getActiveOutputArea();\n",
              "//# sourceURL=js_240d7cfe9e"
            ]
          },
          "metadata": {}
        },
        {
          "output_type": "display_data",
          "data": {
            "text/plain": [
              "<IPython.core.display.Javascript object>"
            ],
            "application/javascript": [
              "window[\"6d224308-b93b-11ed-90e7-0242ac1c000c\"] = document.querySelector(\"#id12-0-0\");\n",
              "//# sourceURL=js_007dd7cf01"
            ]
          },
          "metadata": {}
        },
        {
          "output_type": "display_data",
          "data": {
            "text/plain": [
              "<IPython.core.display.Javascript object>"
            ],
            "application/javascript": [
              "window[\"6d230298-b93b-11ed-90e7-0242ac1c000c\"] = google.colab.output.setActiveOutputArea(window[\"6d224308-b93b-11ed-90e7-0242ac1c000c\"]);\n",
              "//# sourceURL=js_8b967d6f70"
            ]
          },
          "metadata": {}
        },
        {
          "output_type": "display_data",
          "data": {
            "text/plain": [
              "<IPython.core.display.Javascript object>"
            ],
            "application/javascript": [
              "window[\"6d477236-b93b-11ed-90e7-0242ac1c000c\"] = google.colab.output.setActiveOutputArea(window[\"6d21be56-b93b-11ed-90e7-0242ac1c000c\"]);\n",
              "//# sourceURL=js_0b69692b0d"
            ]
          },
          "metadata": {}
        },
        {
          "output_type": "display_data",
          "data": {
            "text/plain": [
              "<IPython.core.display.Javascript object>"
            ],
            "application/javascript": [
              "window[\"6de2daa0-b93b-11ed-90e7-0242ac1c000c\"] = google.colab.output.getActiveOutputArea();\n",
              "//# sourceURL=js_aa7475963e"
            ]
          },
          "metadata": {}
        },
        {
          "output_type": "display_data",
          "data": {
            "text/plain": [
              "<IPython.core.display.Javascript object>"
            ],
            "application/javascript": [
              "window[\"6de37500-b93b-11ed-90e7-0242ac1c000c\"] = document.querySelector(\"#id12-0-0\");\n",
              "//# sourceURL=js_fed15b8bf1"
            ]
          },
          "metadata": {}
        },
        {
          "output_type": "display_data",
          "data": {
            "text/plain": [
              "<IPython.core.display.Javascript object>"
            ],
            "application/javascript": [
              "window[\"6de424e6-b93b-11ed-90e7-0242ac1c000c\"] = google.colab.output.setActiveOutputArea(window[\"6de37500-b93b-11ed-90e7-0242ac1c000c\"]);\n",
              "//# sourceURL=js_65b8379f7a"
            ]
          },
          "metadata": {}
        },
        {
          "output_type": "display_data",
          "data": {
            "text/plain": [
              "<IPython.core.display.Javascript object>"
            ],
            "application/javascript": [
              "window[\"6e060c96-b93b-11ed-90e7-0242ac1c000c\"] = google.colab.output.setActiveOutputArea(window[\"6de2daa0-b93b-11ed-90e7-0242ac1c000c\"]);\n",
              "//# sourceURL=js_0d5647e29b"
            ]
          },
          "metadata": {}
        },
        {
          "output_type": "display_data",
          "data": {
            "text/plain": [
              "<IPython.core.display.Javascript object>"
            ],
            "application/javascript": [
              "window[\"6ea1a520-b93b-11ed-90e7-0242ac1c000c\"] = google.colab.output.getActiveOutputArea();\n",
              "//# sourceURL=js_5f9cbea872"
            ]
          },
          "metadata": {}
        },
        {
          "output_type": "display_data",
          "data": {
            "text/plain": [
              "<IPython.core.display.Javascript object>"
            ],
            "application/javascript": [
              "window[\"6ea216fe-b93b-11ed-90e7-0242ac1c000c\"] = document.querySelector(\"#id12-0-0\");\n",
              "//# sourceURL=js_faf32d2bdb"
            ]
          },
          "metadata": {}
        },
        {
          "output_type": "display_data",
          "data": {
            "text/plain": [
              "<IPython.core.display.Javascript object>"
            ],
            "application/javascript": [
              "window[\"6ea2c5d6-b93b-11ed-90e7-0242ac1c000c\"] = google.colab.output.setActiveOutputArea(window[\"6ea216fe-b93b-11ed-90e7-0242ac1c000c\"]);\n",
              "//# sourceURL=js_499e6acbd9"
            ]
          },
          "metadata": {}
        },
        {
          "output_type": "display_data",
          "data": {
            "text/plain": [
              "<IPython.core.display.Javascript object>"
            ],
            "application/javascript": [
              "window[\"6ec21b98-b93b-11ed-90e7-0242ac1c000c\"] = google.colab.output.setActiveOutputArea(window[\"6ea1a520-b93b-11ed-90e7-0242ac1c000c\"]);\n",
              "//# sourceURL=js_4ca63ae538"
            ]
          },
          "metadata": {}
        },
        {
          "output_type": "display_data",
          "data": {
            "text/plain": [
              "<IPython.core.display.Javascript object>"
            ],
            "application/javascript": [
              "window[\"6f5d3a10-b93b-11ed-90e7-0242ac1c000c\"] = google.colab.output.getActiveOutputArea();\n",
              "//# sourceURL=js_6353a75cbc"
            ]
          },
          "metadata": {}
        },
        {
          "output_type": "display_data",
          "data": {
            "text/plain": [
              "<IPython.core.display.Javascript object>"
            ],
            "application/javascript": [
              "window[\"6f5dcebc-b93b-11ed-90e7-0242ac1c000c\"] = document.querySelector(\"#id12-0-0\");\n",
              "//# sourceURL=js_c58d47ff00"
            ]
          },
          "metadata": {}
        },
        {
          "output_type": "display_data",
          "data": {
            "text/plain": [
              "<IPython.core.display.Javascript object>"
            ],
            "application/javascript": [
              "window[\"6f5e45e0-b93b-11ed-90e7-0242ac1c000c\"] = google.colab.output.setActiveOutputArea(window[\"6f5dcebc-b93b-11ed-90e7-0242ac1c000c\"]);\n",
              "//# sourceURL=js_6b471b0c06"
            ]
          },
          "metadata": {}
        },
        {
          "output_type": "display_data",
          "data": {
            "text/plain": [
              "<IPython.core.display.Javascript object>"
            ],
            "application/javascript": [
              "window[\"6f85a112-b93b-11ed-90e7-0242ac1c000c\"] = google.colab.output.setActiveOutputArea(window[\"6f5d3a10-b93b-11ed-90e7-0242ac1c000c\"]);\n",
              "//# sourceURL=js_2c290f51b5"
            ]
          },
          "metadata": {}
        },
        {
          "output_type": "display_data",
          "data": {
            "text/plain": [
              "<IPython.core.display.Javascript object>"
            ],
            "application/javascript": [
              "window[\"7020b0b2-b93b-11ed-90e7-0242ac1c000c\"] = google.colab.output.getActiveOutputArea();\n",
              "//# sourceURL=js_7c7ac08a51"
            ]
          },
          "metadata": {}
        },
        {
          "output_type": "display_data",
          "data": {
            "text/plain": [
              "<IPython.core.display.Javascript object>"
            ],
            "application/javascript": [
              "window[\"7021c394-b93b-11ed-90e7-0242ac1c000c\"] = document.querySelector(\"#id12-0-0\");\n",
              "//# sourceURL=js_467a8aabe9"
            ]
          },
          "metadata": {}
        },
        {
          "output_type": "display_data",
          "data": {
            "text/plain": [
              "<IPython.core.display.Javascript object>"
            ],
            "application/javascript": [
              "window[\"70222f00-b93b-11ed-90e7-0242ac1c000c\"] = google.colab.output.setActiveOutputArea(window[\"7021c394-b93b-11ed-90e7-0242ac1c000c\"]);\n",
              "//# sourceURL=js_3cdaa81a34"
            ]
          },
          "metadata": {}
        },
        {
          "output_type": "display_data",
          "data": {
            "text/plain": [
              "<IPython.core.display.Javascript object>"
            ],
            "application/javascript": [
              "window[\"7076623c-b93b-11ed-90e7-0242ac1c000c\"] = google.colab.output.setActiveOutputArea(window[\"7020b0b2-b93b-11ed-90e7-0242ac1c000c\"]);\n",
              "//# sourceURL=js_9bba760575"
            ]
          },
          "metadata": {}
        },
        {
          "output_type": "display_data",
          "data": {
            "text/plain": [
              "<IPython.core.display.Javascript object>"
            ],
            "application/javascript": [
              "window[\"71127578-b93b-11ed-90e7-0242ac1c000c\"] = google.colab.output.getActiveOutputArea();\n",
              "//# sourceURL=js_8c4c1e6d02"
            ]
          },
          "metadata": {}
        },
        {
          "output_type": "display_data",
          "data": {
            "text/plain": [
              "<IPython.core.display.Javascript object>"
            ],
            "application/javascript": [
              "window[\"71133530-b93b-11ed-90e7-0242ac1c000c\"] = document.querySelector(\"#id12-0-0\");\n",
              "//# sourceURL=js_04eeba82de"
            ]
          },
          "metadata": {}
        },
        {
          "output_type": "display_data",
          "data": {
            "text/plain": [
              "<IPython.core.display.Javascript object>"
            ],
            "application/javascript": [
              "window[\"7113a088-b93b-11ed-90e7-0242ac1c000c\"] = google.colab.output.setActiveOutputArea(window[\"71133530-b93b-11ed-90e7-0242ac1c000c\"]);\n",
              "//# sourceURL=js_d8597b0a1f"
            ]
          },
          "metadata": {}
        },
        {
          "output_type": "display_data",
          "data": {
            "text/plain": [
              "<IPython.core.display.Javascript object>"
            ],
            "application/javascript": [
              "window[\"7140e21e-b93b-11ed-90e7-0242ac1c000c\"] = google.colab.output.setActiveOutputArea(window[\"71127578-b93b-11ed-90e7-0242ac1c000c\"]);\n",
              "//# sourceURL=js_67b609c9f4"
            ]
          },
          "metadata": {}
        },
        {
          "output_type": "display_data",
          "data": {
            "text/plain": [
              "<IPython.core.display.Javascript object>"
            ],
            "application/javascript": [
              "window[\"71dd933e-b93b-11ed-90e7-0242ac1c000c\"] = google.colab.output.getActiveOutputArea();\n",
              "//# sourceURL=js_98b5c9a5cc"
            ]
          },
          "metadata": {}
        },
        {
          "output_type": "display_data",
          "data": {
            "text/plain": [
              "<IPython.core.display.Javascript object>"
            ],
            "application/javascript": [
              "window[\"71de2786-b93b-11ed-90e7-0242ac1c000c\"] = document.querySelector(\"#id12-0-0\");\n",
              "//# sourceURL=js_05b10e844d"
            ]
          },
          "metadata": {}
        },
        {
          "output_type": "display_data",
          "data": {
            "text/plain": [
              "<IPython.core.display.Javascript object>"
            ],
            "application/javascript": [
              "window[\"71dea3dc-b93b-11ed-90e7-0242ac1c000c\"] = google.colab.output.setActiveOutputArea(window[\"71de2786-b93b-11ed-90e7-0242ac1c000c\"]);\n",
              "//# sourceURL=js_d7a99cae96"
            ]
          },
          "metadata": {}
        },
        {
          "output_type": "display_data",
          "data": {
            "text/plain": [
              "<IPython.core.display.Javascript object>"
            ],
            "application/javascript": [
              "window[\"7202a3fe-b93b-11ed-90e7-0242ac1c000c\"] = google.colab.output.setActiveOutputArea(window[\"71dd933e-b93b-11ed-90e7-0242ac1c000c\"]);\n",
              "//# sourceURL=js_72d4f99cc1"
            ]
          },
          "metadata": {}
        },
        {
          "output_type": "display_data",
          "data": {
            "text/plain": [
              "<IPython.core.display.Javascript object>"
            ],
            "application/javascript": [
              "window[\"729e388c-b93b-11ed-90e7-0242ac1c000c\"] = google.colab.output.getActiveOutputArea();\n",
              "//# sourceURL=js_d36596b030"
            ]
          },
          "metadata": {}
        },
        {
          "output_type": "display_data",
          "data": {
            "text/plain": [
              "<IPython.core.display.Javascript object>"
            ],
            "application/javascript": [
              "window[\"729ea754-b93b-11ed-90e7-0242ac1c000c\"] = document.querySelector(\"#id12-0-0\");\n",
              "//# sourceURL=js_110c73d567"
            ]
          },
          "metadata": {}
        },
        {
          "output_type": "display_data",
          "data": {
            "text/plain": [
              "<IPython.core.display.Javascript object>"
            ],
            "application/javascript": [
              "window[\"729f8d72-b93b-11ed-90e7-0242ac1c000c\"] = google.colab.output.setActiveOutputArea(window[\"729ea754-b93b-11ed-90e7-0242ac1c000c\"]);\n",
              "//# sourceURL=js_4cee8a0603"
            ]
          },
          "metadata": {}
        },
        {
          "output_type": "display_data",
          "data": {
            "text/plain": [
              "<IPython.core.display.Javascript object>"
            ],
            "application/javascript": [
              "window[\"72c1da94-b93b-11ed-90e7-0242ac1c000c\"] = google.colab.output.setActiveOutputArea(window[\"729e388c-b93b-11ed-90e7-0242ac1c000c\"]);\n",
              "//# sourceURL=js_eebae31768"
            ]
          },
          "metadata": {}
        },
        {
          "output_type": "display_data",
          "data": {
            "text/plain": [
              "<IPython.core.display.Javascript object>"
            ],
            "application/javascript": [
              "window[\"735da26c-b93b-11ed-90e7-0242ac1c000c\"] = google.colab.output.getActiveOutputArea();\n",
              "//# sourceURL=js_f6d8b1adb1"
            ]
          },
          "metadata": {}
        },
        {
          "output_type": "display_data",
          "data": {
            "text/plain": [
              "<IPython.core.display.Javascript object>"
            ],
            "application/javascript": [
              "window[\"735e0e96-b93b-11ed-90e7-0242ac1c000c\"] = document.querySelector(\"#id12-0-0\");\n",
              "//# sourceURL=js_172f7b919e"
            ]
          },
          "metadata": {}
        },
        {
          "output_type": "display_data",
          "data": {
            "text/plain": [
              "<IPython.core.display.Javascript object>"
            ],
            "application/javascript": [
              "window[\"735ebecc-b93b-11ed-90e7-0242ac1c000c\"] = google.colab.output.setActiveOutputArea(window[\"735e0e96-b93b-11ed-90e7-0242ac1c000c\"]);\n",
              "//# sourceURL=js_06958951f5"
            ]
          },
          "metadata": {}
        },
        {
          "output_type": "display_data",
          "data": {
            "text/plain": [
              "<IPython.core.display.Javascript object>"
            ],
            "application/javascript": [
              "window[\"737ef16a-b93b-11ed-90e7-0242ac1c000c\"] = google.colab.output.setActiveOutputArea(window[\"735da26c-b93b-11ed-90e7-0242ac1c000c\"]);\n",
              "//# sourceURL=js_f09eb4958c"
            ]
          },
          "metadata": {}
        },
        {
          "output_type": "display_data",
          "data": {
            "text/plain": [
              "<IPython.core.display.Javascript object>"
            ],
            "application/javascript": [
              "window[\"7419d072-b93b-11ed-90e7-0242ac1c000c\"] = google.colab.output.getActiveOutputArea();\n",
              "//# sourceURL=js_a57aa06878"
            ]
          },
          "metadata": {}
        },
        {
          "output_type": "display_data",
          "data": {
            "text/plain": [
              "<IPython.core.display.Javascript object>"
            ],
            "application/javascript": [
              "window[\"741a3d50-b93b-11ed-90e7-0242ac1c000c\"] = document.querySelector(\"#id12-0-0\");\n",
              "//# sourceURL=js_9578fc677f"
            ]
          },
          "metadata": {}
        },
        {
          "output_type": "display_data",
          "data": {
            "text/plain": [
              "<IPython.core.display.Javascript object>"
            ],
            "application/javascript": [
              "window[\"741ab122-b93b-11ed-90e7-0242ac1c000c\"] = google.colab.output.setActiveOutputArea(window[\"741a3d50-b93b-11ed-90e7-0242ac1c000c\"]);\n",
              "//# sourceURL=js_6e466f81c7"
            ]
          },
          "metadata": {}
        },
        {
          "output_type": "display_data",
          "data": {
            "text/plain": [
              "<IPython.core.display.Javascript object>"
            ],
            "application/javascript": [
              "window[\"744126fe-b93b-11ed-90e7-0242ac1c000c\"] = google.colab.output.setActiveOutputArea(window[\"7419d072-b93b-11ed-90e7-0242ac1c000c\"]);\n",
              "//# sourceURL=js_4adf12552c"
            ]
          },
          "metadata": {}
        },
        {
          "output_type": "display_data",
          "data": {
            "text/plain": [
              "<IPython.core.display.Javascript object>"
            ],
            "application/javascript": [
              "window[\"74dda128-b93b-11ed-90e7-0242ac1c000c\"] = google.colab.output.getActiveOutputArea();\n",
              "//# sourceURL=js_17599abf10"
            ]
          },
          "metadata": {}
        },
        {
          "output_type": "display_data",
          "data": {
            "text/plain": [
              "<IPython.core.display.Javascript object>"
            ],
            "application/javascript": [
              "window[\"74de38ea-b93b-11ed-90e7-0242ac1c000c\"] = document.querySelector(\"#id12-0-0\");\n",
              "//# sourceURL=js_045c5c81da"
            ]
          },
          "metadata": {}
        },
        {
          "output_type": "display_data",
          "data": {
            "text/plain": [
              "<IPython.core.display.Javascript object>"
            ],
            "application/javascript": [
              "window[\"74dee204-b93b-11ed-90e7-0242ac1c000c\"] = google.colab.output.setActiveOutputArea(window[\"74de38ea-b93b-11ed-90e7-0242ac1c000c\"]);\n",
              "//# sourceURL=js_231eb6de4b"
            ]
          },
          "metadata": {}
        },
        {
          "output_type": "display_data",
          "data": {
            "text/plain": [
              "<IPython.core.display.Javascript object>"
            ],
            "application/javascript": [
              "window[\"75019c36-b93b-11ed-90e7-0242ac1c000c\"] = google.colab.output.setActiveOutputArea(window[\"74dda128-b93b-11ed-90e7-0242ac1c000c\"]);\n",
              "//# sourceURL=js_62420763bc"
            ]
          },
          "metadata": {}
        },
        {
          "output_type": "display_data",
          "data": {
            "text/plain": [
              "<IPython.core.display.Javascript object>"
            ],
            "application/javascript": [
              "window[\"759cd0b6-b93b-11ed-90e7-0242ac1c000c\"] = google.colab.output.getActiveOutputArea();\n",
              "//# sourceURL=js_d43a0d65a6"
            ]
          },
          "metadata": {}
        },
        {
          "output_type": "display_data",
          "data": {
            "text/plain": [
              "<IPython.core.display.Javascript object>"
            ],
            "application/javascript": [
              "window[\"759d782c-b93b-11ed-90e7-0242ac1c000c\"] = document.querySelector(\"#id12-0-0\");\n",
              "//# sourceURL=js_ca0382830b"
            ]
          },
          "metadata": {}
        },
        {
          "output_type": "display_data",
          "data": {
            "text/plain": [
              "<IPython.core.display.Javascript object>"
            ],
            "application/javascript": [
              "window[\"759de79e-b93b-11ed-90e7-0242ac1c000c\"] = google.colab.output.setActiveOutputArea(window[\"759d782c-b93b-11ed-90e7-0242ac1c000c\"]);\n",
              "//# sourceURL=js_bcc061bca5"
            ]
          },
          "metadata": {}
        },
        {
          "output_type": "display_data",
          "data": {
            "text/plain": [
              "<IPython.core.display.Javascript object>"
            ],
            "application/javascript": [
              "window[\"75c8467e-b93b-11ed-90e7-0242ac1c000c\"] = google.colab.output.setActiveOutputArea(window[\"759cd0b6-b93b-11ed-90e7-0242ac1c000c\"]);\n",
              "//# sourceURL=js_2d96c1cf55"
            ]
          },
          "metadata": {}
        },
        {
          "output_type": "display_data",
          "data": {
            "text/plain": [
              "<IPython.core.display.Javascript object>"
            ],
            "application/javascript": [
              "window[\"7663fe7a-b93b-11ed-90e7-0242ac1c000c\"] = google.colab.output.getActiveOutputArea();\n",
              "//# sourceURL=js_bf82f4a4ed"
            ]
          },
          "metadata": {}
        },
        {
          "output_type": "display_data",
          "data": {
            "text/plain": [
              "<IPython.core.display.Javascript object>"
            ],
            "application/javascript": [
              "window[\"76646b6c-b93b-11ed-90e7-0242ac1c000c\"] = document.querySelector(\"#id12-0-0\");\n",
              "//# sourceURL=js_bfd6db6a8b"
            ]
          },
          "metadata": {}
        },
        {
          "output_type": "display_data",
          "data": {
            "text/plain": [
              "<IPython.core.display.Javascript object>"
            ],
            "application/javascript": [
              "window[\"76651012-b93b-11ed-90e7-0242ac1c000c\"] = google.colab.output.setActiveOutputArea(window[\"76646b6c-b93b-11ed-90e7-0242ac1c000c\"]);\n",
              "//# sourceURL=js_8c9f728124"
            ]
          },
          "metadata": {}
        },
        {
          "output_type": "display_data",
          "data": {
            "text/plain": [
              "<IPython.core.display.Javascript object>"
            ],
            "application/javascript": [
              "window[\"7684eafe-b93b-11ed-90e7-0242ac1c000c\"] = google.colab.output.setActiveOutputArea(window[\"7663fe7a-b93b-11ed-90e7-0242ac1c000c\"]);\n",
              "//# sourceURL=js_1b7429a6cf"
            ]
          },
          "metadata": {}
        },
        {
          "output_type": "display_data",
          "data": {
            "text/plain": [
              "<IPython.core.display.Javascript object>"
            ],
            "application/javascript": [
              "window[\"7720c7f8-b93b-11ed-90e7-0242ac1c000c\"] = google.colab.output.getActiveOutputArea();\n",
              "//# sourceURL=js_5ef8881c5e"
            ]
          },
          "metadata": {}
        },
        {
          "output_type": "display_data",
          "data": {
            "text/plain": [
              "<IPython.core.display.Javascript object>"
            ],
            "application/javascript": [
              "window[\"77213288-b93b-11ed-90e7-0242ac1c000c\"] = document.querySelector(\"#id12-0-0\");\n",
              "//# sourceURL=js_2442cdca07"
            ]
          },
          "metadata": {}
        },
        {
          "output_type": "display_data",
          "data": {
            "text/plain": [
              "<IPython.core.display.Javascript object>"
            ],
            "application/javascript": [
              "window[\"7721d616-b93b-11ed-90e7-0242ac1c000c\"] = google.colab.output.setActiveOutputArea(window[\"77213288-b93b-11ed-90e7-0242ac1c000c\"]);\n",
              "//# sourceURL=js_058f8503be"
            ]
          },
          "metadata": {}
        },
        {
          "output_type": "display_data",
          "data": {
            "text/plain": [
              "<IPython.core.display.Javascript object>"
            ],
            "application/javascript": [
              "window[\"7748d96e-b93b-11ed-90e7-0242ac1c000c\"] = google.colab.output.setActiveOutputArea(window[\"7720c7f8-b93b-11ed-90e7-0242ac1c000c\"]);\n",
              "//# sourceURL=js_5d316c478a"
            ]
          },
          "metadata": {}
        },
        {
          "output_type": "display_data",
          "data": {
            "text/plain": [
              "<IPython.core.display.Javascript object>"
            ],
            "application/javascript": [
              "window[\"77e43f58-b93b-11ed-90e7-0242ac1c000c\"] = google.colab.output.getActiveOutputArea();\n",
              "//# sourceURL=js_9d629f4345"
            ]
          },
          "metadata": {}
        },
        {
          "output_type": "display_data",
          "data": {
            "text/plain": [
              "<IPython.core.display.Javascript object>"
            ],
            "application/javascript": [
              "window[\"77e504b0-b93b-11ed-90e7-0242ac1c000c\"] = document.querySelector(\"#id12-0-0\");\n",
              "//# sourceURL=js_624d956e87"
            ]
          },
          "metadata": {}
        },
        {
          "output_type": "display_data",
          "data": {
            "text/plain": [
              "<IPython.core.display.Javascript object>"
            ],
            "application/javascript": [
              "window[\"77e5cfbc-b93b-11ed-90e7-0242ac1c000c\"] = google.colab.output.setActiveOutputArea(window[\"77e504b0-b93b-11ed-90e7-0242ac1c000c\"]);\n",
              "//# sourceURL=js_c7fde8324e"
            ]
          },
          "metadata": {}
        },
        {
          "output_type": "display_data",
          "data": {
            "text/plain": [
              "<IPython.core.display.Javascript object>"
            ],
            "application/javascript": [
              "window[\"78150d40-b93b-11ed-90e7-0242ac1c000c\"] = google.colab.output.setActiveOutputArea(window[\"77e43f58-b93b-11ed-90e7-0242ac1c000c\"]);\n",
              "//# sourceURL=js_59e10ff8a0"
            ]
          },
          "metadata": {}
        },
        {
          "output_type": "display_data",
          "data": {
            "text/plain": [
              "<IPython.core.display.Javascript object>"
            ],
            "application/javascript": [
              "window[\"78b078b6-b93b-11ed-90e7-0242ac1c000c\"] = google.colab.output.getActiveOutputArea();\n",
              "//# sourceURL=js_4e93f8a60d"
            ]
          },
          "metadata": {}
        },
        {
          "output_type": "display_data",
          "data": {
            "text/plain": [
              "<IPython.core.display.Javascript object>"
            ],
            "application/javascript": [
              "window[\"78b13648-b93b-11ed-90e7-0242ac1c000c\"] = document.querySelector(\"#id12-0-0\");\n",
              "//# sourceURL=js_793aa79086"
            ]
          },
          "metadata": {}
        },
        {
          "output_type": "display_data",
          "data": {
            "text/plain": [
              "<IPython.core.display.Javascript object>"
            ],
            "application/javascript": [
              "window[\"78b1ad8a-b93b-11ed-90e7-0242ac1c000c\"] = google.colab.output.setActiveOutputArea(window[\"78b13648-b93b-11ed-90e7-0242ac1c000c\"]);\n",
              "//# sourceURL=js_d5ba719834"
            ]
          },
          "metadata": {}
        },
        {
          "output_type": "display_data",
          "data": {
            "text/plain": [
              "<IPython.core.display.Javascript object>"
            ],
            "application/javascript": [
              "window[\"78d6b1fc-b93b-11ed-90e7-0242ac1c000c\"] = google.colab.output.setActiveOutputArea(window[\"78b078b6-b93b-11ed-90e7-0242ac1c000c\"]);\n",
              "//# sourceURL=js_b550a2878d"
            ]
          },
          "metadata": {}
        },
        {
          "output_type": "display_data",
          "data": {
            "text/plain": [
              "<IPython.core.display.Javascript object>"
            ],
            "application/javascript": [
              "window[\"7971a9a0-b93b-11ed-90e7-0242ac1c000c\"] = google.colab.output.getActiveOutputArea();\n",
              "//# sourceURL=js_5983dc0a0b"
            ]
          },
          "metadata": {}
        },
        {
          "output_type": "display_data",
          "data": {
            "text/plain": [
              "<IPython.core.display.Javascript object>"
            ],
            "application/javascript": [
              "window[\"7972323a-b93b-11ed-90e7-0242ac1c000c\"] = document.querySelector(\"#id12-0-0\");\n",
              "//# sourceURL=js_d21a1dfc4d"
            ]
          },
          "metadata": {}
        },
        {
          "output_type": "display_data",
          "data": {
            "text/plain": [
              "<IPython.core.display.Javascript object>"
            ],
            "application/javascript": [
              "window[\"79730aa2-b93b-11ed-90e7-0242ac1c000c\"] = google.colab.output.setActiveOutputArea(window[\"7972323a-b93b-11ed-90e7-0242ac1c000c\"]);\n",
              "//# sourceURL=js_8ca03b0643"
            ]
          },
          "metadata": {}
        },
        {
          "output_type": "display_data",
          "data": {
            "text/plain": [
              "<IPython.core.display.Javascript object>"
            ],
            "application/javascript": [
              "window[\"799390b0-b93b-11ed-90e7-0242ac1c000c\"] = google.colab.output.setActiveOutputArea(window[\"7971a9a0-b93b-11ed-90e7-0242ac1c000c\"]);\n",
              "//# sourceURL=js_422ce8a1cd"
            ]
          },
          "metadata": {}
        },
        {
          "output_type": "display_data",
          "data": {
            "text/plain": [
              "<IPython.core.display.Javascript object>"
            ],
            "application/javascript": [
              "window[\"7a2e9ea2-b93b-11ed-90e7-0242ac1c000c\"] = google.colab.output.getActiveOutputArea();\n",
              "//# sourceURL=js_1652a047c9"
            ]
          },
          "metadata": {}
        },
        {
          "output_type": "display_data",
          "data": {
            "text/plain": [
              "<IPython.core.display.Javascript object>"
            ],
            "application/javascript": [
              "window[\"7a2f10a8-b93b-11ed-90e7-0242ac1c000c\"] = document.querySelector(\"#id12-0-0\");\n",
              "//# sourceURL=js_c1d09f7a74"
            ]
          },
          "metadata": {}
        },
        {
          "output_type": "display_data",
          "data": {
            "text/plain": [
              "<IPython.core.display.Javascript object>"
            ],
            "application/javascript": [
              "window[\"7a2f7d40-b93b-11ed-90e7-0242ac1c000c\"] = google.colab.output.setActiveOutputArea(window[\"7a2f10a8-b93b-11ed-90e7-0242ac1c000c\"]);\n",
              "//# sourceURL=js_9a35dae34a"
            ]
          },
          "metadata": {}
        },
        {
          "output_type": "stream",
          "name": "stdout",
          "text": [
            "Reward ->  10\n"
          ]
        },
        {
          "output_type": "display_data",
          "data": {
            "text/plain": [
              "<Figure size 432x288 with 1 Axes>"
            ],
            "image/png": "[encoded data removed]"
          },
          "metadata": {
            "needs_background": "light"
          }
        },
        {
          "output_type": "display_data",
          "data": {
            "text/plain": [
              "<IPython.core.display.Javascript object>"
            ],
            "application/javascript": [
              "window[\"7a51abc2-b93b-11ed-90e7-0242ac1c000c\"] = google.colab.output.setActiveOutputArea(window[\"7a2e9ea2-b93b-11ed-90e7-0242ac1c000c\"]);\n",
              "//# sourceURL=js_55c37a8e51"
            ]
          },
          "metadata": {}
        }
      ]
    },
    {
      "cell_type": "markdown",
      "source": [
        "**Testing Q-Values with 5x5 Grid Environment - Stochastic**"
      ],
      "metadata": {
        "id": "cnZYfyTuYMj6"
      }
    },
    {
      "cell_type": "code",
      "source": [
        "env = GridEnv(env_type = \"stochastic\")\n",
        "agent = RandomAgent(env)\n",
        "\n",
        "obs, info = env.reset()\n",
        "terminated, truncated = False, False\n",
        "\n",
        "output_grid = widgets.Grid(1, 1)\n",
        "with output_grid.output_to(0, 0):\n",
        "  env.render()\n",
        "\n",
        "def get_max_val(arg):\n",
        "  return max(arg)\n",
        "  \n",
        "for i in q_table_stoc:\n",
        "  max_val = get_max_val(i)\n",
        "  # print(type(i))\n",
        "  i_to_list = i.tolist()\n",
        "  max_index = i_to_list.index(max_val)\n",
        "  # print(max_index)\n",
        "  observation, reward, terminated, truncated, info, agent_pos = env.step(max_index)\n",
        "  # observation, reward, terminated, truncated, info, agent_pos = env.step(action)\n",
        "  with output_grid.output_to(0, 0):\n",
        "    output_grid.clear_cell()\n",
        "    plt.imshow(grid)\n",
        "    env.render()\n",
        "  time.sleep(1)\n",
        "\n",
        "  "
      ],
      "metadata": {
        "id": "exIvEGhORvOv",
        "outputId": "7b678ddd-a136-4c17-b9ec-697a1b8cf403",
        "colab": {
          "base_uri": "https://localhost:8080/",
          "height": 287
        }
      },
      "execution_count": 145,
      "outputs": [
        {
          "output_type": "display_data",
          "data": {
            "text/plain": [
              "<IPython.core.display.HTML object>"
            ],
            "text/html": [
              "<style>\n",
              "       table#id14, #id14 > tbody > tr > th, #id14 > tbody > tr > td {\n",
              "         border: 1px solid lightgray;\n",
              "         border-collapse:collapse;\n",
              "         \n",
              "        }</style>"
            ]
          },
          "metadata": {}
        },
        {
          "output_type": "display_data",
          "data": {
            "text/plain": [
              "<IPython.core.display.HTML object>"
            ],
            "text/html": [
              "<table id=id14><tr><td id=id14-0-0></td></tr></table>"
            ]
          },
          "metadata": {}
        },
        {
          "output_type": "display_data",
          "data": {
            "text/plain": [
              "<IPython.core.display.Javascript object>"
            ],
            "application/javascript": [
              "window[\"8739c4be-b93b-11ed-90e7-0242ac1c000c\"] = google.colab.output.getActiveOutputArea();\n",
              "//# sourceURL=js_fb9d715ba8"
            ]
          },
          "metadata": {}
        },
        {
          "output_type": "display_data",
          "data": {
            "text/plain": [
              "<IPython.core.display.Javascript object>"
            ],
            "application/javascript": [
              "window[\"873a558c-b93b-11ed-90e7-0242ac1c000c\"] = document.querySelector(\"#id14-0-0\");\n",
              "//# sourceURL=js_68a8f58b96"
            ]
          },
          "metadata": {}
        },
        {
          "output_type": "display_data",
          "data": {
            "text/plain": [
              "<IPython.core.display.Javascript object>"
            ],
            "application/javascript": [
              "window[\"873ae98e-b93b-11ed-90e7-0242ac1c000c\"] = google.colab.output.setActiveOutputArea(window[\"873a558c-b93b-11ed-90e7-0242ac1c000c\"]);\n",
              "//# sourceURL=js_773f0f7e78"
            ]
          },
          "metadata": {}
        },
        {
          "output_type": "display_data",
          "data": {
            "text/plain": [
              "<IPython.core.display.Javascript object>"
            ],
            "application/javascript": [
              "window[\"875960f8-b93b-11ed-90e7-0242ac1c000c\"] = google.colab.output.setActiveOutputArea(window[\"8739c4be-b93b-11ed-90e7-0242ac1c000c\"]);\n",
              "//# sourceURL=js_e27fae6d9e"
            ]
          },
          "metadata": {}
        },
        {
          "output_type": "display_data",
          "data": {
            "text/plain": [
              "<IPython.core.display.Javascript object>"
            ],
            "application/javascript": [
              "window[\"875c46ec-b93b-11ed-90e7-0242ac1c000c\"] = google.colab.output.getActiveOutputArea();\n",
              "//# sourceURL=js_c0d385869f"
            ]
          },
          "metadata": {}
        },
        {
          "output_type": "display_data",
          "data": {
            "text/plain": [
              "<IPython.core.display.Javascript object>"
            ],
            "application/javascript": [
              "window[\"875cd65c-b93b-11ed-90e7-0242ac1c000c\"] = document.querySelector(\"#id14-0-0\");\n",
              "//# sourceURL=js_ca87cb5721"
            ]
          },
          "metadata": {}
        },
        {
          "output_type": "display_data",
          "data": {
            "text/plain": [
              "<IPython.core.display.Javascript object>"
            ],
            "application/javascript": [
              "window[\"875df938-b93b-11ed-90e7-0242ac1c000c\"] = google.colab.output.setActiveOutputArea(window[\"875cd65c-b93b-11ed-90e7-0242ac1c000c\"]);\n",
              "//# sourceURL=js_906a094958"
            ]
          },
          "metadata": {}
        },
        {
          "output_type": "display_data",
          "data": {
            "text/plain": [
              "<IPython.core.display.Javascript object>"
            ],
            "application/javascript": [
              "window[\"87837e24-b93b-11ed-90e7-0242ac1c000c\"] = google.colab.output.setActiveOutputArea(window[\"875c46ec-b93b-11ed-90e7-0242ac1c000c\"]);\n",
              "//# sourceURL=js_210e44ca6c"
            ]
          },
          "metadata": {}
        },
        {
          "output_type": "display_data",
          "data": {
            "text/plain": [
              "<IPython.core.display.Javascript object>"
            ],
            "application/javascript": [
              "window[\"881f5592-b93b-11ed-90e7-0242ac1c000c\"] = google.colab.output.getActiveOutputArea();\n",
              "//# sourceURL=js_7d2860e052"
            ]
          },
          "metadata": {}
        },
        {
          "output_type": "display_data",
          "data": {
            "text/plain": [
              "<IPython.core.display.Javascript object>"
            ],
            "application/javascript": [
              "window[\"881fdc60-b93b-11ed-90e7-0242ac1c000c\"] = document.querySelector(\"#id14-0-0\");\n",
              "//# sourceURL=js_6d70e2fe2e"
            ]
          },
          "metadata": {}
        },
        {
          "output_type": "display_data",
          "data": {
            "text/plain": [
              "<IPython.core.display.Javascript object>"
            ],
            "application/javascript": [
              "window[\"882072b0-b93b-11ed-90e7-0242ac1c000c\"] = google.colab.output.setActiveOutputArea(window[\"881fdc60-b93b-11ed-90e7-0242ac1c000c\"]);\n",
              "//# sourceURL=js_97f331fc62"
            ]
          },
          "metadata": {}
        },
        {
          "output_type": "display_data",
          "data": {
            "text/plain": [
              "<IPython.core.display.Javascript object>"
            ],
            "application/javascript": [
              "window[\"88413a72-b93b-11ed-90e7-0242ac1c000c\"] = google.colab.output.setActiveOutputArea(window[\"881f5592-b93b-11ed-90e7-0242ac1c000c\"]);\n",
              "//# sourceURL=js_0a86963645"
            ]
          },
          "metadata": {}
        },
        {
          "output_type": "display_data",
          "data": {
            "text/plain": [
              "<IPython.core.display.Javascript object>"
            ],
            "application/javascript": [
              "window[\"88dd1af0-b93b-11ed-90e7-0242ac1c000c\"] = google.colab.output.getActiveOutputArea();\n",
              "//# sourceURL=js_76f40c4ad3"
            ]
          },
          "metadata": {}
        },
        {
          "output_type": "display_data",
          "data": {
            "text/plain": [
              "<IPython.core.display.Javascript object>"
            ],
            "application/javascript": [
              "window[\"88dd8c60-b93b-11ed-90e7-0242ac1c000c\"] = document.querySelector(\"#id14-0-0\");\n",
              "//# sourceURL=js_b18ebb6831"
            ]
          },
          "metadata": {}
        },
        {
          "output_type": "display_data",
          "data": {
            "text/plain": [
              "<IPython.core.display.Javascript object>"
            ],
            "application/javascript": [
              "window[\"88ddf6e6-b93b-11ed-90e7-0242ac1c000c\"] = google.colab.output.setActiveOutputArea(window[\"88dd8c60-b93b-11ed-90e7-0242ac1c000c\"]);\n",
              "//# sourceURL=js_5349b2158f"
            ]
          },
          "metadata": {}
        },
        {
          "output_type": "display_data",
          "data": {
            "text/plain": [
              "<IPython.core.display.Javascript object>"
            ],
            "application/javascript": [
              "window[\"88fed802-b93b-11ed-90e7-0242ac1c000c\"] = google.colab.output.setActiveOutputArea(window[\"88dd1af0-b93b-11ed-90e7-0242ac1c000c\"]);\n",
              "//# sourceURL=js_01946caec5"
            ]
          },
          "metadata": {}
        },
        {
          "output_type": "display_data",
          "data": {
            "text/plain": [
              "<IPython.core.display.Javascript object>"
            ],
            "application/javascript": [
              "window[\"899ab88a-b93b-11ed-90e7-0242ac1c000c\"] = google.colab.output.getActiveOutputArea();\n",
              "//# sourceURL=js_927647861b"
            ]
          },
          "metadata": {}
        },
        {
          "output_type": "display_data",
          "data": {
            "text/plain": [
              "<IPython.core.display.Javascript object>"
            ],
            "application/javascript": [
              "window[\"899b53e4-b93b-11ed-90e7-0242ac1c000c\"] = document.querySelector(\"#id14-0-0\");\n",
              "//# sourceURL=js_46476ce08c"
            ]
          },
          "metadata": {}
        },
        {
          "output_type": "display_data",
          "data": {
            "text/plain": [
              "<IPython.core.display.Javascript object>"
            ],
            "application/javascript": [
              "window[\"899bfa92-b93b-11ed-90e7-0242ac1c000c\"] = google.colab.output.setActiveOutputArea(window[\"899b53e4-b93b-11ed-90e7-0242ac1c000c\"]);\n",
              "//# sourceURL=js_b3eca3ec23"
            ]
          },
          "metadata": {}
        },
        {
          "output_type": "display_data",
          "data": {
            "text/plain": [
              "<IPython.core.display.Javascript object>"
            ],
            "application/javascript": [
              "window[\"89be1014-b93b-11ed-90e7-0242ac1c000c\"] = google.colab.output.setActiveOutputArea(window[\"899ab88a-b93b-11ed-90e7-0242ac1c000c\"]);\n",
              "//# sourceURL=js_107ec236f4"
            ]
          },
          "metadata": {}
        },
        {
          "output_type": "display_data",
          "data": {
            "text/plain": [
              "<IPython.core.display.Javascript object>"
            ],
            "application/javascript": [
              "window[\"8a59f682-b93b-11ed-90e7-0242ac1c000c\"] = google.colab.output.getActiveOutputArea();\n",
              "//# sourceURL=js_5dba90e016"
            ]
          },
          "metadata": {}
        },
        {
          "output_type": "display_data",
          "data": {
            "text/plain": [
              "<IPython.core.display.Javascript object>"
            ],
            "application/javascript": [
              "window[\"8a5a6cfc-b93b-11ed-90e7-0242ac1c000c\"] = document.querySelector(\"#id14-0-0\");\n",
              "//# sourceURL=js_33640b05a8"
            ]
          },
          "metadata": {}
        },
        {
          "output_type": "display_data",
          "data": {
            "text/plain": [
              "<IPython.core.display.Javascript object>"
            ],
            "application/javascript": [
              "window[\"8a5aee0c-b93b-11ed-90e7-0242ac1c000c\"] = google.colab.output.setActiveOutputArea(window[\"8a5a6cfc-b93b-11ed-90e7-0242ac1c000c\"]);\n",
              "//# sourceURL=js_2de55993af"
            ]
          },
          "metadata": {}
        },
        {
          "output_type": "display_data",
          "data": {
            "text/plain": [
              "<IPython.core.display.Javascript object>"
            ],
            "application/javascript": [
              "window[\"8a7ca6e6-b93b-11ed-90e7-0242ac1c000c\"] = google.colab.output.setActiveOutputArea(window[\"8a59f682-b93b-11ed-90e7-0242ac1c000c\"]);\n",
              "//# sourceURL=js_675b58c259"
            ]
          },
          "metadata": {}
        },
        {
          "output_type": "display_data",
          "data": {
            "text/plain": [
              "<IPython.core.display.Javascript object>"
            ],
            "application/javascript": [
              "window[\"8b1818c4-b93b-11ed-90e7-0242ac1c000c\"] = google.colab.output.getActiveOutputArea();\n",
              "//# sourceURL=js_bde735790c"
            ]
          },
          "metadata": {}
        },
        {
          "output_type": "display_data",
          "data": {
            "text/plain": [
              "<IPython.core.display.Javascript object>"
            ],
            "application/javascript": [
              "window[\"8b1886ec-b93b-11ed-90e7-0242ac1c000c\"] = document.querySelector(\"#id14-0-0\");\n",
              "//# sourceURL=js_f53f972d22"
            ]
          },
          "metadata": {}
        },
        {
          "output_type": "display_data",
          "data": {
            "text/plain": [
              "<IPython.core.display.Javascript object>"
            ],
            "application/javascript": [
              "window[\"8b1929ee-b93b-11ed-90e7-0242ac1c000c\"] = google.colab.output.setActiveOutputArea(window[\"8b1886ec-b93b-11ed-90e7-0242ac1c000c\"]);\n",
              "//# sourceURL=js_70bac8c6bf"
            ]
          },
          "metadata": {}
        },
        {
          "output_type": "display_data",
          "data": {
            "text/plain": [
              "<IPython.core.display.Javascript object>"
            ],
            "application/javascript": [
              "window[\"8b39ccc6-b93b-11ed-90e7-0242ac1c000c\"] = google.colab.output.setActiveOutputArea(window[\"8b1818c4-b93b-11ed-90e7-0242ac1c000c\"]);\n",
              "//# sourceURL=js_361f8269b8"
            ]
          },
          "metadata": {}
        },
        {
          "output_type": "display_data",
          "data": {
            "text/plain": [
              "<IPython.core.display.Javascript object>"
            ],
            "application/javascript": [
              "window[\"8bd5f7f4-b93b-11ed-90e7-0242ac1c000c\"] = google.colab.output.getActiveOutputArea();\n",
              "//# sourceURL=js_5efaa13c28"
            ]
          },
          "metadata": {}
        },
        {
          "output_type": "display_data",
          "data": {
            "text/plain": [
              "<IPython.core.display.Javascript object>"
            ],
            "application/javascript": [
              "window[\"8bd67954-b93b-11ed-90e7-0242ac1c000c\"] = document.querySelector(\"#id14-0-0\");\n",
              "//# sourceURL=js_98e120dc2a"
            ]
          },
          "metadata": {}
        },
        {
          "output_type": "display_data",
          "data": {
            "text/plain": [
              "<IPython.core.display.Javascript object>"
            ],
            "application/javascript": [
              "window[\"8bd72e08-b93b-11ed-90e7-0242ac1c000c\"] = google.colab.output.setActiveOutputArea(window[\"8bd67954-b93b-11ed-90e7-0242ac1c000c\"]);\n",
              "//# sourceURL=js_e6c70619e1"
            ]
          },
          "metadata": {}
        },
        {
          "output_type": "display_data",
          "data": {
            "text/plain": [
              "<IPython.core.display.Javascript object>"
            ],
            "application/javascript": [
              "window[\"8c152eba-b93b-11ed-90e7-0242ac1c000c\"] = google.colab.output.setActiveOutputArea(window[\"8bd5f7f4-b93b-11ed-90e7-0242ac1c000c\"]);\n",
              "//# sourceURL=js_9bb2207bd2"
            ]
          },
          "metadata": {}
        },
        {
          "output_type": "display_data",
          "data": {
            "text/plain": [
              "<IPython.core.display.Javascript object>"
            ],
            "application/javascript": [
              "window[\"8cb17db0-b93b-11ed-90e7-0242ac1c000c\"] = google.colab.output.getActiveOutputArea();\n",
              "//# sourceURL=js_5cf81532ed"
            ]
          },
          "metadata": {}
        },
        {
          "output_type": "display_data",
          "data": {
            "text/plain": [
              "<IPython.core.display.Javascript object>"
            ],
            "application/javascript": [
              "window[\"8cb20816-b93b-11ed-90e7-0242ac1c000c\"] = document.querySelector(\"#id14-0-0\");\n",
              "//# sourceURL=js_ee3d99eeb3"
            ]
          },
          "metadata": {}
        },
        {
          "output_type": "display_data",
          "data": {
            "text/plain": [
              "<IPython.core.display.Javascript object>"
            ],
            "application/javascript": [
              "window[\"8cb2a9b0-b93b-11ed-90e7-0242ac1c000c\"] = google.colab.output.setActiveOutputArea(window[\"8cb20816-b93b-11ed-90e7-0242ac1c000c\"]);\n",
              "//# sourceURL=js_5115a00833"
            ]
          },
          "metadata": {}
        },
        {
          "output_type": "display_data",
          "data": {
            "text/plain": [
              "<IPython.core.display.Javascript object>"
            ],
            "application/javascript": [
              "window[\"8cd43b20-b93b-11ed-90e7-0242ac1c000c\"] = google.colab.output.setActiveOutputArea(window[\"8cb17db0-b93b-11ed-90e7-0242ac1c000c\"]);\n",
              "//# sourceURL=js_fc065d4c58"
            ]
          },
          "metadata": {}
        },
        {
          "output_type": "display_data",
          "data": {
            "text/plain": [
              "<IPython.core.display.Javascript object>"
            ],
            "application/javascript": [
              "window[\"8d706a9a-b93b-11ed-90e7-0242ac1c000c\"] = google.colab.output.getActiveOutputArea();\n",
              "//# sourceURL=js_78f38122b1"
            ]
          },
          "metadata": {}
        },
        {
          "output_type": "display_data",
          "data": {
            "text/plain": [
              "<IPython.core.display.Javascript object>"
            ],
            "application/javascript": [
              "window[\"8d713592-b93b-11ed-90e7-0242ac1c000c\"] = document.querySelector(\"#id14-0-0\");\n",
              "//# sourceURL=js_62dd986698"
            ]
          },
          "metadata": {}
        },
        {
          "output_type": "display_data",
          "data": {
            "text/plain": [
              "<IPython.core.display.Javascript object>"
            ],
            "application/javascript": [
              "window[\"8d724fae-b93b-11ed-90e7-0242ac1c000c\"] = google.colab.output.setActiveOutputArea(window[\"8d713592-b93b-11ed-90e7-0242ac1c000c\"]);\n",
              "//# sourceURL=js_0ded79e557"
            ]
          },
          "metadata": {}
        },
        {
          "output_type": "display_data",
          "data": {
            "text/plain": [
              "<IPython.core.display.Javascript object>"
            ],
            "application/javascript": [
              "window[\"8da7fe24-b93b-11ed-90e7-0242ac1c000c\"] = google.colab.output.setActiveOutputArea(window[\"8d706a9a-b93b-11ed-90e7-0242ac1c000c\"]);\n",
              "//# sourceURL=js_78ca72ef34"
            ]
          },
          "metadata": {}
        },
        {
          "output_type": "display_data",
          "data": {
            "text/plain": [
              "<IPython.core.display.Javascript object>"
            ],
            "application/javascript": [
              "window[\"8e43b67a-b93b-11ed-90e7-0242ac1c000c\"] = google.colab.output.getActiveOutputArea();\n",
              "//# sourceURL=js_f2e333f544"
            ]
          },
          "metadata": {}
        },
        {
          "output_type": "display_data",
          "data": {
            "text/plain": [
              "<IPython.core.display.Javascript object>"
            ],
            "application/javascript": [
              "window[\"8e445102-b93b-11ed-90e7-0242ac1c000c\"] = document.querySelector(\"#id14-0-0\");\n",
              "//# sourceURL=js_b4051c14f5"
            ]
          },
          "metadata": {}
        },
        {
          "output_type": "display_data",
          "data": {
            "text/plain": [
              "<IPython.core.display.Javascript object>"
            ],
            "application/javascript": [
              "window[\"8e44f3aa-b93b-11ed-90e7-0242ac1c000c\"] = google.colab.output.setActiveOutputArea(window[\"8e445102-b93b-11ed-90e7-0242ac1c000c\"]);\n",
              "//# sourceURL=js_141c99d038"
            ]
          },
          "metadata": {}
        },
        {
          "output_type": "display_data",
          "data": {
            "text/plain": [
              "<IPython.core.display.Javascript object>"
            ],
            "application/javascript": [
              "window[\"8e66852e-b93b-11ed-90e7-0242ac1c000c\"] = google.colab.output.setActiveOutputArea(window[\"8e43b67a-b93b-11ed-90e7-0242ac1c000c\"]);\n",
              "//# sourceURL=js_16c122833b"
            ]
          },
          "metadata": {}
        },
        {
          "output_type": "display_data",
          "data": {
            "text/plain": [
              "<IPython.core.display.Javascript object>"
            ],
            "application/javascript": [
              "window[\"8f02551c-b93b-11ed-90e7-0242ac1c000c\"] = google.colab.output.getActiveOutputArea();\n",
              "//# sourceURL=js_aab2c379ed"
            ]
          },
          "metadata": {}
        },
        {
          "output_type": "display_data",
          "data": {
            "text/plain": [
              "<IPython.core.display.Javascript object>"
            ],
            "application/javascript": [
              "window[\"8f0305ca-b93b-11ed-90e7-0242ac1c000c\"] = document.querySelector(\"#id14-0-0\");\n",
              "//# sourceURL=js_59dfbf7dc9"
            ]
          },
          "metadata": {}
        },
        {
          "output_type": "display_data",
          "data": {
            "text/plain": [
              "<IPython.core.display.Javascript object>"
            ],
            "application/javascript": [
              "window[\"8f03881a-b93b-11ed-90e7-0242ac1c000c\"] = google.colab.output.setActiveOutputArea(window[\"8f0305ca-b93b-11ed-90e7-0242ac1c000c\"]);\n",
              "//# sourceURL=js_e843ae0df8"
            ]
          },
          "metadata": {}
        },
        {
          "output_type": "display_data",
          "data": {
            "text/plain": [
              "<IPython.core.display.Javascript object>"
            ],
            "application/javascript": [
              "window[\"8f263c8e-b93b-11ed-90e7-0242ac1c000c\"] = google.colab.output.setActiveOutputArea(window[\"8f02551c-b93b-11ed-90e7-0242ac1c000c\"]);\n",
              "//# sourceURL=js_028c62247d"
            ]
          },
          "metadata": {}
        },
        {
          "output_type": "display_data",
          "data": {
            "text/plain": [
              "<IPython.core.display.Javascript object>"
            ],
            "application/javascript": [
              "window[\"8fc26410-b93b-11ed-90e7-0242ac1c000c\"] = google.colab.output.getActiveOutputArea();\n",
              "//# sourceURL=js_463ad76a78"
            ]
          },
          "metadata": {}
        },
        {
          "output_type": "display_data",
          "data": {
            "text/plain": [
              "<IPython.core.display.Javascript object>"
            ],
            "application/javascript": [
              "window[\"8fc309ce-b93b-11ed-90e7-0242ac1c000c\"] = document.querySelector(\"#id14-0-0\");\n",
              "//# sourceURL=js_eff3675f76"
            ]
          },
          "metadata": {}
        },
        {
          "output_type": "display_data",
          "data": {
            "text/plain": [
              "<IPython.core.display.Javascript object>"
            ],
            "application/javascript": [
              "window[\"8fc3846c-b93b-11ed-90e7-0242ac1c000c\"] = google.colab.output.setActiveOutputArea(window[\"8fc309ce-b93b-11ed-90e7-0242ac1c000c\"]);\n",
              "//# sourceURL=js_fe3041ad9b"
            ]
          },
          "metadata": {}
        },
        {
          "output_type": "display_data",
          "data": {
            "text/plain": [
              "<IPython.core.display.Javascript object>"
            ],
            "application/javascript": [
              "window[\"8fe77124-b93b-11ed-90e7-0242ac1c000c\"] = google.colab.output.setActiveOutputArea(window[\"8fc26410-b93b-11ed-90e7-0242ac1c000c\"]);\n",
              "//# sourceURL=js_a3188cf39d"
            ]
          },
          "metadata": {}
        },
        {
          "output_type": "display_data",
          "data": {
            "text/plain": [
              "<IPython.core.display.Javascript object>"
            ],
            "application/javascript": [
              "window[\"9082f108-b93b-11ed-90e7-0242ac1c000c\"] = google.colab.output.getActiveOutputArea();\n",
              "//# sourceURL=js_ac48781913"
            ]
          },
          "metadata": {}
        },
        {
          "output_type": "display_data",
          "data": {
            "text/plain": [
              "<IPython.core.display.Javascript object>"
            ],
            "application/javascript": [
              "window[\"90839d42-b93b-11ed-90e7-0242ac1c000c\"] = document.querySelector(\"#id14-0-0\");\n",
              "//# sourceURL=js_031e9ce9bb"
            ]
          },
          "metadata": {}
        },
        {
          "output_type": "display_data",
          "data": {
            "text/plain": [
              "<IPython.core.display.Javascript object>"
            ],
            "application/javascript": [
              "window[\"90842ab4-b93b-11ed-90e7-0242ac1c000c\"] = google.colab.output.setActiveOutputArea(window[\"90839d42-b93b-11ed-90e7-0242ac1c000c\"]);\n",
              "//# sourceURL=js_cbe2abda0c"
            ]
          },
          "metadata": {}
        },
        {
          "output_type": "display_data",
          "data": {
            "text/plain": [
              "<IPython.core.display.Javascript object>"
            ],
            "application/javascript": [
              "window[\"90a8ccb6-b93b-11ed-90e7-0242ac1c000c\"] = google.colab.output.setActiveOutputArea(window[\"9082f108-b93b-11ed-90e7-0242ac1c000c\"]);\n",
              "//# sourceURL=js_59dbfa6973"
            ]
          },
          "metadata": {}
        },
        {
          "output_type": "display_data",
          "data": {
            "text/plain": [
              "<IPython.core.display.Javascript object>"
            ],
            "application/javascript": [
              "window[\"9144904c-b93b-11ed-90e7-0242ac1c000c\"] = google.colab.output.getActiveOutputArea();\n",
              "//# sourceURL=js_d3c51fd484"
            ]
          },
          "metadata": {}
        },
        {
          "output_type": "display_data",
          "data": {
            "text/plain": [
              "<IPython.core.display.Javascript object>"
            ],
            "application/javascript": [
              "window[\"91453312-b93b-11ed-90e7-0242ac1c000c\"] = document.querySelector(\"#id14-0-0\");\n",
              "//# sourceURL=js_cee13f11da"
            ]
          },
          "metadata": {}
        },
        {
          "output_type": "display_data",
          "data": {
            "text/plain": [
              "<IPython.core.display.Javascript object>"
            ],
            "application/javascript": [
              "window[\"9145de48-b93b-11ed-90e7-0242ac1c000c\"] = google.colab.output.setActiveOutputArea(window[\"91453312-b93b-11ed-90e7-0242ac1c000c\"]);\n",
              "//# sourceURL=js_ba854a2fb8"
            ]
          },
          "metadata": {}
        },
        {
          "output_type": "display_data",
          "data": {
            "text/plain": [
              "<IPython.core.display.Javascript object>"
            ],
            "application/javascript": [
              "window[\"9169ec34-b93b-11ed-90e7-0242ac1c000c\"] = google.colab.output.setActiveOutputArea(window[\"9144904c-b93b-11ed-90e7-0242ac1c000c\"]);\n",
              "//# sourceURL=js_f58ec86e4e"
            ]
          },
          "metadata": {}
        },
        {
          "output_type": "display_data",
          "data": {
            "text/plain": [
              "<IPython.core.display.Javascript object>"
            ],
            "application/javascript": [
              "window[\"9205b3f8-b93b-11ed-90e7-0242ac1c000c\"] = google.colab.output.getActiveOutputArea();\n",
              "//# sourceURL=js_f46a89dcbb"
            ]
          },
          "metadata": {}
        },
        {
          "output_type": "display_data",
          "data": {
            "text/plain": [
              "<IPython.core.display.Javascript object>"
            ],
            "application/javascript": [
              "window[\"92068e68-b93b-11ed-90e7-0242ac1c000c\"] = document.querySelector(\"#id14-0-0\");\n",
              "//# sourceURL=js_c945eb8fbc"
            ]
          },
          "metadata": {}
        },
        {
          "output_type": "display_data",
          "data": {
            "text/plain": [
              "<IPython.core.display.Javascript object>"
            ],
            "application/javascript": [
              "window[\"92071090-b93b-11ed-90e7-0242ac1c000c\"] = google.colab.output.setActiveOutputArea(window[\"92068e68-b93b-11ed-90e7-0242ac1c000c\"]);\n",
              "//# sourceURL=js_d92247c6f7"
            ]
          },
          "metadata": {}
        },
        {
          "output_type": "display_data",
          "data": {
            "text/plain": [
              "<IPython.core.display.Javascript object>"
            ],
            "application/javascript": [
              "window[\"922a06a4-b93b-11ed-90e7-0242ac1c000c\"] = google.colab.output.setActiveOutputArea(window[\"9205b3f8-b93b-11ed-90e7-0242ac1c000c\"]);\n",
              "//# sourceURL=js_cae6ffde74"
            ]
          },
          "metadata": {}
        },
        {
          "output_type": "display_data",
          "data": {
            "text/plain": [
              "<IPython.core.display.Javascript object>"
            ],
            "application/javascript": [
              "window[\"92c61076-b93b-11ed-90e7-0242ac1c000c\"] = google.colab.output.getActiveOutputArea();\n",
              "//# sourceURL=js_edf47c9f61"
            ]
          },
          "metadata": {}
        },
        {
          "output_type": "display_data",
          "data": {
            "text/plain": [
              "<IPython.core.display.Javascript object>"
            ],
            "application/javascript": [
              "window[\"92c67aca-b93b-11ed-90e7-0242ac1c000c\"] = document.querySelector(\"#id14-0-0\");\n",
              "//# sourceURL=js_22f13a8159"
            ]
          },
          "metadata": {}
        },
        {
          "output_type": "display_data",
          "data": {
            "text/plain": [
              "<IPython.core.display.Javascript object>"
            ],
            "application/javascript": [
              "window[\"92c7085a-b93b-11ed-90e7-0242ac1c000c\"] = google.colab.output.setActiveOutputArea(window[\"92c67aca-b93b-11ed-90e7-0242ac1c000c\"]);\n",
              "//# sourceURL=js_8406f972c6"
            ]
          },
          "metadata": {}
        },
        {
          "output_type": "display_data",
          "data": {
            "text/plain": [
              "<IPython.core.display.Javascript object>"
            ],
            "application/javascript": [
              "window[\"92ed6f36-b93b-11ed-90e7-0242ac1c000c\"] = google.colab.output.setActiveOutputArea(window[\"92c61076-b93b-11ed-90e7-0242ac1c000c\"]);\n",
              "//# sourceURL=js_50f0efa081"
            ]
          },
          "metadata": {}
        },
        {
          "output_type": "display_data",
          "data": {
            "text/plain": [
              "<IPython.core.display.Javascript object>"
            ],
            "application/javascript": [
              "window[\"9388c0bc-b93b-11ed-90e7-0242ac1c000c\"] = google.colab.output.getActiveOutputArea();\n",
              "//# sourceURL=js_6455471247"
            ]
          },
          "metadata": {}
        },
        {
          "output_type": "display_data",
          "data": {
            "text/plain": [
              "<IPython.core.display.Javascript object>"
            ],
            "application/javascript": [
              "window[\"9389417c-b93b-11ed-90e7-0242ac1c000c\"] = document.querySelector(\"#id14-0-0\");\n",
              "//# sourceURL=js_5992bee87b"
            ]
          },
          "metadata": {}
        },
        {
          "output_type": "display_data",
          "data": {
            "text/plain": [
              "<IPython.core.display.Javascript object>"
            ],
            "application/javascript": [
              "window[\"9389ed66-b93b-11ed-90e7-0242ac1c000c\"] = google.colab.output.setActiveOutputArea(window[\"9389417c-b93b-11ed-90e7-0242ac1c000c\"]);\n",
              "//# sourceURL=js_bbbb159f0f"
            ]
          },
          "metadata": {}
        },
        {
          "output_type": "display_data",
          "data": {
            "text/plain": [
              "<IPython.core.display.Javascript object>"
            ],
            "application/javascript": [
              "window[\"93ae6470-b93b-11ed-90e7-0242ac1c000c\"] = google.colab.output.setActiveOutputArea(window[\"9388c0bc-b93b-11ed-90e7-0242ac1c000c\"]);\n",
              "//# sourceURL=js_71f244c240"
            ]
          },
          "metadata": {}
        },
        {
          "output_type": "display_data",
          "data": {
            "text/plain": [
              "<IPython.core.display.Javascript object>"
            ],
            "application/javascript": [
              "window[\"9449f49e-b93b-11ed-90e7-0242ac1c000c\"] = google.colab.output.getActiveOutputArea();\n",
              "//# sourceURL=js_fce4250389"
            ]
          },
          "metadata": {}
        },
        {
          "output_type": "display_data",
          "data": {
            "text/plain": [
              "<IPython.core.display.Javascript object>"
            ],
            "application/javascript": [
              "window[\"944abbea-b93b-11ed-90e7-0242ac1c000c\"] = document.querySelector(\"#id14-0-0\");\n",
              "//# sourceURL=js_551bafee02"
            ]
          },
          "metadata": {}
        },
        {
          "output_type": "display_data",
          "data": {
            "text/plain": [
              "<IPython.core.display.Javascript object>"
            ],
            "application/javascript": [
              "window[\"944b8160-b93b-11ed-90e7-0242ac1c000c\"] = google.colab.output.setActiveOutputArea(window[\"944abbea-b93b-11ed-90e7-0242ac1c000c\"]);\n",
              "//# sourceURL=js_a104aa69d7"
            ]
          },
          "metadata": {}
        },
        {
          "output_type": "display_data",
          "data": {
            "text/plain": [
              "<IPython.core.display.Javascript object>"
            ],
            "application/javascript": [
              "window[\"947cba82-b93b-11ed-90e7-0242ac1c000c\"] = google.colab.output.setActiveOutputArea(window[\"9449f49e-b93b-11ed-90e7-0242ac1c000c\"]);\n",
              "//# sourceURL=js_bf282a4c61"
            ]
          },
          "metadata": {}
        },
        {
          "output_type": "display_data",
          "data": {
            "text/plain": [
              "<IPython.core.display.Javascript object>"
            ],
            "application/javascript": [
              "window[\"9518bbb2-b93b-11ed-90e7-0242ac1c000c\"] = google.colab.output.getActiveOutputArea();\n",
              "//# sourceURL=js_8c2eb41ce6"
            ]
          },
          "metadata": {}
        },
        {
          "output_type": "display_data",
          "data": {
            "text/plain": [
              "<IPython.core.display.Javascript object>"
            ],
            "application/javascript": [
              "window[\"9519b5b2-b93b-11ed-90e7-0242ac1c000c\"] = document.querySelector(\"#id14-0-0\");\n",
              "//# sourceURL=js_754c4a68be"
            ]
          },
          "metadata": {}
        },
        {
          "output_type": "display_data",
          "data": {
            "text/plain": [
              "<IPython.core.display.Javascript object>"
            ],
            "application/javascript": [
              "window[\"951ab4a8-b93b-11ed-90e7-0242ac1c000c\"] = google.colab.output.setActiveOutputArea(window[\"9519b5b2-b93b-11ed-90e7-0242ac1c000c\"]);\n",
              "//# sourceURL=js_568a846f7d"
            ]
          },
          "metadata": {}
        },
        {
          "output_type": "display_data",
          "data": {
            "text/plain": [
              "<IPython.core.display.Javascript object>"
            ],
            "application/javascript": [
              "window[\"953fee76-b93b-11ed-90e7-0242ac1c000c\"] = google.colab.output.setActiveOutputArea(window[\"9518bbb2-b93b-11ed-90e7-0242ac1c000c\"]);\n",
              "//# sourceURL=js_a53f651962"
            ]
          },
          "metadata": {}
        },
        {
          "output_type": "display_data",
          "data": {
            "text/plain": [
              "<IPython.core.display.Javascript object>"
            ],
            "application/javascript": [
              "window[\"95db2d28-b93b-11ed-90e7-0242ac1c000c\"] = google.colab.output.getActiveOutputArea();\n",
              "//# sourceURL=js_8647639099"
            ]
          },
          "metadata": {}
        },
        {
          "output_type": "display_data",
          "data": {
            "text/plain": [
              "<IPython.core.display.Javascript object>"
            ],
            "application/javascript": [
              "window[\"95dba294-b93b-11ed-90e7-0242ac1c000c\"] = document.querySelector(\"#id14-0-0\");\n",
              "//# sourceURL=js_9cd8bec60c"
            ]
          },
          "metadata": {}
        },
        {
          "output_type": "display_data",
          "data": {
            "text/plain": [
              "<IPython.core.display.Javascript object>"
            ],
            "application/javascript": [
              "window[\"95dc7fe8-b93b-11ed-90e7-0242ac1c000c\"] = google.colab.output.setActiveOutputArea(window[\"95dba294-b93b-11ed-90e7-0242ac1c000c\"]);\n",
              "//# sourceURL=js_d95ed46e73"
            ]
          },
          "metadata": {}
        },
        {
          "output_type": "display_data",
          "data": {
            "text/plain": [
              "<IPython.core.display.Javascript object>"
            ],
            "application/javascript": [
              "window[\"9601aaac-b93b-11ed-90e7-0242ac1c000c\"] = google.colab.output.setActiveOutputArea(window[\"95db2d28-b93b-11ed-90e7-0242ac1c000c\"]);\n",
              "//# sourceURL=js_2e8a2859b9"
            ]
          },
          "metadata": {}
        },
        {
          "output_type": "display_data",
          "data": {
            "text/plain": [
              "<IPython.core.display.Javascript object>"
            ],
            "application/javascript": [
              "window[\"969d00ba-b93b-11ed-90e7-0242ac1c000c\"] = google.colab.output.getActiveOutputArea();\n",
              "//# sourceURL=js_cc97769c76"
            ]
          },
          "metadata": {}
        },
        {
          "output_type": "display_data",
          "data": {
            "text/plain": [
              "<IPython.core.display.Javascript object>"
            ],
            "application/javascript": [
              "window[\"969ddcec-b93b-11ed-90e7-0242ac1c000c\"] = document.querySelector(\"#id14-0-0\");\n",
              "//# sourceURL=js_0c6935fb37"
            ]
          },
          "metadata": {}
        },
        {
          "output_type": "display_data",
          "data": {
            "text/plain": [
              "<IPython.core.display.Javascript object>"
            ],
            "application/javascript": [
              "window[\"969ebac2-b93b-11ed-90e7-0242ac1c000c\"] = google.colab.output.setActiveOutputArea(window[\"969ddcec-b93b-11ed-90e7-0242ac1c000c\"]);\n",
              "//# sourceURL=js_5ceb2b5193"
            ]
          },
          "metadata": {}
        },
        {
          "output_type": "display_data",
          "data": {
            "text/plain": [
              "<IPython.core.display.Javascript object>"
            ],
            "application/javascript": [
              "window[\"96c54fd4-b93b-11ed-90e7-0242ac1c000c\"] = google.colab.output.setActiveOutputArea(window[\"969d00ba-b93b-11ed-90e7-0242ac1c000c\"]);\n",
              "//# sourceURL=js_c02c87252e"
            ]
          },
          "metadata": {}
        },
        {
          "output_type": "display_data",
          "data": {
            "text/plain": [
              "<IPython.core.display.Javascript object>"
            ],
            "application/javascript": [
              "window[\"97614a06-b93b-11ed-90e7-0242ac1c000c\"] = google.colab.output.getActiveOutputArea();\n",
              "//# sourceURL=js_036ea45ed0"
            ]
          },
          "metadata": {}
        },
        {
          "output_type": "display_data",
          "data": {
            "text/plain": [
              "<IPython.core.display.Javascript object>"
            ],
            "application/javascript": [
              "window[\"9761eea2-b93b-11ed-90e7-0242ac1c000c\"] = document.querySelector(\"#id14-0-0\");\n",
              "//# sourceURL=js_9ff0324126"
            ]
          },
          "metadata": {}
        },
        {
          "output_type": "display_data",
          "data": {
            "text/plain": [
              "<IPython.core.display.Javascript object>"
            ],
            "application/javascript": [
              "window[\"97624fbe-b93b-11ed-90e7-0242ac1c000c\"] = google.colab.output.setActiveOutputArea(window[\"9761eea2-b93b-11ed-90e7-0242ac1c000c\"]);\n",
              "//# sourceURL=js_8f498f2813"
            ]
          },
          "metadata": {}
        },
        {
          "output_type": "display_data",
          "data": {
            "text/plain": [
              "<IPython.core.display.Javascript object>"
            ],
            "application/javascript": [
              "window[\"97889aa2-b93b-11ed-90e7-0242ac1c000c\"] = google.colab.output.setActiveOutputArea(window[\"97614a06-b93b-11ed-90e7-0242ac1c000c\"]);\n",
              "//# sourceURL=js_a80f6f0bf1"
            ]
          },
          "metadata": {}
        },
        {
          "output_type": "display_data",
          "data": {
            "text/plain": [
              "<IPython.core.display.Javascript object>"
            ],
            "application/javascript": [
              "window[\"9824d5c0-b93b-11ed-90e7-0242ac1c000c\"] = google.colab.output.getActiveOutputArea();\n",
              "//# sourceURL=js_8ac1abc5e1"
            ]
          },
          "metadata": {}
        },
        {
          "output_type": "display_data",
          "data": {
            "text/plain": [
              "<IPython.core.display.Javascript object>"
            ],
            "application/javascript": [
              "window[\"98254a32-b93b-11ed-90e7-0242ac1c000c\"] = document.querySelector(\"#id14-0-0\");\n",
              "//# sourceURL=js_e1413ebf72"
            ]
          },
          "metadata": {}
        },
        {
          "output_type": "display_data",
          "data": {
            "text/plain": [
              "<IPython.core.display.Javascript object>"
            ],
            "application/javascript": [
              "window[\"9825c89a-b93b-11ed-90e7-0242ac1c000c\"] = google.colab.output.setActiveOutputArea(window[\"98254a32-b93b-11ed-90e7-0242ac1c000c\"]);\n",
              "//# sourceURL=js_73bc2c78ea"
            ]
          },
          "metadata": {}
        },
        {
          "output_type": "display_data",
          "data": {
            "text/plain": [
              "<IPython.core.display.Javascript object>"
            ],
            "application/javascript": [
              "window[\"9849d050-b93b-11ed-90e7-0242ac1c000c\"] = google.colab.output.setActiveOutputArea(window[\"9824d5c0-b93b-11ed-90e7-0242ac1c000c\"]);\n",
              "//# sourceURL=js_35dd3f92a0"
            ]
          },
          "metadata": {}
        },
        {
          "output_type": "display_data",
          "data": {
            "text/plain": [
              "<IPython.core.display.Javascript object>"
            ],
            "application/javascript": [
              "window[\"98e4f698-b93b-11ed-90e7-0242ac1c000c\"] = google.colab.output.getActiveOutputArea();\n",
              "//# sourceURL=js_dacbf8504b"
            ]
          },
          "metadata": {}
        },
        {
          "output_type": "display_data",
          "data": {
            "text/plain": [
              "<IPython.core.display.Javascript object>"
            ],
            "application/javascript": [
              "window[\"98e596de-b93b-11ed-90e7-0242ac1c000c\"] = document.querySelector(\"#id14-0-0\");\n",
              "//# sourceURL=js_eb3e991c94"
            ]
          },
          "metadata": {}
        },
        {
          "output_type": "display_data",
          "data": {
            "text/plain": [
              "<IPython.core.display.Javascript object>"
            ],
            "application/javascript": [
              "window[\"98e61190-b93b-11ed-90e7-0242ac1c000c\"] = google.colab.output.setActiveOutputArea(window[\"98e596de-b93b-11ed-90e7-0242ac1c000c\"]);\n",
              "//# sourceURL=js_eb9bb039cd"
            ]
          },
          "metadata": {}
        },
        {
          "output_type": "display_data",
          "data": {
            "text/plain": [
              "<IPython.core.display.Javascript object>"
            ],
            "application/javascript": [
              "window[\"990e02b8-b93b-11ed-90e7-0242ac1c000c\"] = google.colab.output.setActiveOutputArea(window[\"98e4f698-b93b-11ed-90e7-0242ac1c000c\"]);\n",
              "//# sourceURL=js_613df04fc6"
            ]
          },
          "metadata": {}
        },
        {
          "output_type": "display_data",
          "data": {
            "text/plain": [
              "<IPython.core.display.Javascript object>"
            ],
            "application/javascript": [
              "window[\"99ac1aca-b93b-11ed-90e7-0242ac1c000c\"] = google.colab.output.getActiveOutputArea();\n",
              "//# sourceURL=js_cbf0e15e1b"
            ]
          },
          "metadata": {}
        },
        {
          "output_type": "display_data",
          "data": {
            "text/plain": [
              "<IPython.core.display.Javascript object>"
            ],
            "application/javascript": [
              "window[\"99aef2ea-b93b-11ed-90e7-0242ac1c000c\"] = document.querySelector(\"#id14-0-0\");\n",
              "//# sourceURL=js_e1c2708b1c"
            ]
          },
          "metadata": {}
        },
        {
          "output_type": "display_data",
          "data": {
            "text/plain": [
              "<IPython.core.display.Javascript object>"
            ],
            "application/javascript": [
              "window[\"99b0f978-b93b-11ed-90e7-0242ac1c000c\"] = google.colab.output.setActiveOutputArea(window[\"99aef2ea-b93b-11ed-90e7-0242ac1c000c\"]);\n",
              "//# sourceURL=js_dc6d742ef0"
            ]
          },
          "metadata": {}
        },
        {
          "output_type": "stream",
          "name": "stdout",
          "text": [
            "Reward ->  10\n"
          ]
        },
        {
          "output_type": "display_data",
          "data": {
            "text/plain": [
              "<Figure size 432x288 with 1 Axes>"
            ],
            "image/png": "[encoded data removed]"
          },
          "metadata": {
            "needs_background": "light"
          }
        },
        {
          "output_type": "display_data",
          "data": {
            "text/plain": [
              "<IPython.core.display.Javascript object>"
            ],
            "application/javascript": [
              "window[\"99f3a872-b93b-11ed-90e7-0242ac1c000c\"] = google.colab.output.setActiveOutputArea(window[\"99ac1aca-b93b-11ed-90e7-0242ac1c000c\"]);\n",
              "//# sourceURL=js_0dcb627a2b"
            ]
          },
          "metadata": {}
        }
      ]
    },
    {
      "cell_type": "code",
      "source": [
        "# plot cumulative avg rewards per episdoe "
      ],
      "metadata": {
        "id": "BvJ_l9fmkVYL"
      },
      "execution_count": null,
      "outputs": []
    },
    {
      "cell_type": "markdown",
      "source": [
        "**SARSA Implementation**"
      ],
      "metadata": {
        "id": "jOW0xemfcpaR"
      }
    },
    {
      "cell_type": "code",
      "source": [
        "import random\n",
        "from IPython.display import clear_output\n",
        "\n",
        "env = GridEnv(env_type = \"deterministic\")\n",
        "agent = RandomAgent(env)\n",
        "\n",
        "# Hyperparameters\n",
        "alpha = 0.12\n",
        "gamma = 0.95\n",
        "epsilon = 1.0\n",
        "epsilon_sarsa = []\n",
        "reward_sarsa = []\n",
        "\n",
        "num_episodes = 5000\n",
        "max_timesteps = 15\n",
        "\n",
        "# For plotting metrics\n",
        "all_epochs = []\n",
        "all_penalties = []\n",
        "state1 = 0\n",
        "#Q-Table\n",
        "q_table_sarsa = np.random.rand(25, 4)\n",
        "q_table_sarsa = q_table_sarsa.astype(int)\n",
        "\n",
        "#running for 1000 episodes\n",
        "for episode in range(num_episodes):\n",
        "  #resetting the state \n",
        "  state, agent_pos = env.reset()\n",
        "  epochs = 0\n",
        "  # penalties = 0\n",
        "\n",
        "  # print(state)\n",
        "  state_to_list = state.tolist()\n",
        "  if 1 in state_to_list:\n",
        "    state1 = state_to_list.index(1)\n",
        "  # print(index)\n",
        "  \n",
        "  for timestep in range(max_timesteps):\n",
        "    #Choosing an action based on e-greedy policy\n",
        "    if np.random.rand() < epsilon:\n",
        "      action = np.random.choice(env.action_space.n)\n",
        "    else:\n",
        "      action = np.argmax(q_table_sarsa[state1])\n",
        "\n",
        "    #getting the next state, reward\n",
        "    observation, reward, terminated, truncated, info, new_agent_pos = env.step(action)\n",
        "\n",
        "    #getting the new state\n",
        "    new_state_to_list = observation.tolist()\n",
        "    if 1 in new_state_to_list:\n",
        "      state2 = new_state_to_list.index(1)\n",
        "\n",
        "    if np.random.rand() < epsilon:\n",
        "      action2 = np.random.choice(env.action_space.n)\n",
        "    else:\n",
        "      action2 = np.argmax(q_table_sarsa[state2])\n",
        "\n",
        "    q_table_sarsa[state1, action] = q_table_sarsa[state1, action] + alpha * (reward + gamma * (q_table_sarsa[state2, action2] - q_table_sarsa[state1, action]))\n",
        "\n",
        "    # if reward == -5 or reward == -6 or reward == -2:\n",
        "    #   penalties += 1\n",
        "    \n",
        "    # agent_pos = new_agent_pos\n",
        "    epochs += 1\n",
        "  reward_sarsa.append(reward)\n",
        "  epsilon *= 0.9990\n",
        "  epsilon_sarsa.append(epsilon)\n",
        "  # print(epsilon)\n",
        "\n",
        "# print(\"Q-Table : \", q_table_sarsa)\n",
        "# print(epsilon_val)\n",
        "# print(\"Q Table : \", q_table_sarsa)"
      ],
      "metadata": {
        "id": "dgV8giqZTVHr"
      },
      "execution_count": 175,
      "outputs": []
    },
    {
      "cell_type": "code",
      "source": [
        "plt.figure(figsize=(5,5))\n",
        "plt.plot(epsilon_sarsa, linewidth=4)\n",
        "plt.xlabel('Episode', fontsize=16)\n",
        "plt.ylabel('Epsilon Values', fontsize=16)\n",
        "plt.title('Epsilon Decay (SARSA - Deterministic)', fontsize=20)\n",
        "plt.xticks(fontsize=16)\n",
        "plt.yticks(fontsize=16)\n",
        "plt.ylim(ymin=0, ymax=1)\n",
        "plt.xlim(xmin=0, xmax=5000)\n",
        "plt.grid()\n",
        "plt.show()"
      ],
      "metadata": {
        "colab": {
          "base_uri": "https://localhost:8080/",
          "height": 365
        },
        "id": "J6ZvHRH6HmXv",
        "outputId": "3f1dd0f0-0ad4-49ea-9168-dd10c43be708"
      },
      "execution_count": 176,
      "outputs": [
        {
          "output_type": "display_data",
          "data": {
            "text/plain": [
              "<Figure size 360x360 with 1 Axes>"
            ],
            "image/png": "[encoded data removed]"
          },
          "metadata": {
            "needs_background": "light"
          }
        }
      ]
    },
    {
      "cell_type": "code",
      "source": [
        "plt.figure(figsize=(8,8))\n",
        "plt.plot(reward_sarsa, 'rx')\n",
        "plt.xlabel('Episode', fontsize=18)\n",
        "plt.ylabel('Reward Value', fontsize=18)\n",
        "plt.title('Rewards Per Episode (SARSA - Deterministic)', fontsize=20)\n",
        "plt.xticks(fontsize=16)\n",
        "plt.yticks([-6, -5, -2, 0, 2, 4, 6, 8, 10], fontsize=16)\n",
        "plt.ylim(ymin=-7, ymax=11)\n",
        "plt.xlim(xmin=0, xmax=5000)\n",
        "plt.grid()\n",
        "plt.show()"
      ],
      "metadata": {
        "colab": {
          "base_uri": "https://localhost:8080/",
          "height": 531
        },
        "id": "HMvfix87kX_F",
        "outputId": "3a3d51d5-fd14-4c49-fc27-dbe9698cb4ce"
      },
      "execution_count": 184,
      "outputs": [
        {
          "output_type": "display_data",
          "data": {
            "text/plain": [
              "<Figure size 576x576 with 1 Axes>"
            ],
            "image/png": "[encoded data removed]"
          },
          "metadata": {
            "needs_background": "light"
          }
        }
      ]
    },
    {
      "cell_type": "code",
      "source": [
        "import random\n",
        "from IPython.display import clear_output\n",
        "\n",
        "env = GridEnv(env_type = \"stochastic\")\n",
        "agent = RandomAgent(env)\n",
        "\n",
        "# Hyperparameters\n",
        "alpha = 0.12\n",
        "gamma = 0.95\n",
        "epsilon = 1.0\n",
        "epsilon_sarsa_stoc = []\n",
        "reward_sarsa_stoc = []\n",
        "\n",
        "num_episodes = 5000\n",
        "max_timesteps = 15\n",
        "\n",
        "# For plotting metrics\n",
        "all_epochs = []\n",
        "all_penalties = []\n",
        "state1 = 0\n",
        "#Q-Table\n",
        "q_table_sarsa = np.random.rand(25, 4)\n",
        "q_table_sarsa = q_table_sarsa.astype(int)\n",
        "\n",
        "#running for 1000 episodes\n",
        "for episode in range(num_episodes):\n",
        "  #resetting the state \n",
        "  state, agent_pos = env.reset()\n",
        "  epochs = 0\n",
        "  # penalties = 0\n",
        "\n",
        "  # print(state)\n",
        "  state_to_list = state.tolist()\n",
        "  if 1 in state_to_list:\n",
        "    state1 = state_to_list.index(1)\n",
        "  # print(index)\n",
        "  \n",
        "  for timestep in range(max_timesteps):\n",
        "    #Choosing an action based on e-greedy policy\n",
        "    if np.random.rand() < epsilon:\n",
        "      action = np.random.choice(env.action_space.n)\n",
        "    else:\n",
        "      action = np.argmax(q_table_sarsa[state1])\n",
        "\n",
        "    #getting the next state, reward\n",
        "    observation, reward, terminated, truncated, info, new_agent_pos = env.step(action)\n",
        "\n",
        "    #getting the new state\n",
        "    new_state_to_list = observation.tolist()\n",
        "    if 1 in new_state_to_list:\n",
        "      state2 = new_state_to_list.index(1)\n",
        "\n",
        "    if np.random.rand() < epsilon:\n",
        "      action2 = np.random.choice(env.action_space.n)\n",
        "    else:\n",
        "      action2 = np.argmax(q_table_sarsa[state2])\n",
        "\n",
        "    q_table_sarsa[state1, action] = q_table_sarsa[state1, action] + alpha * (reward + gamma * (q_table_sarsa[state2, action2] - q_table_sarsa[state1, action]))\n",
        "\n",
        "    # if reward == -5 or reward == -6 or reward == -2:\n",
        "    #   penalties += 1\n",
        "    \n",
        "    # agent_pos = new_agent_pos\n",
        "    epochs += 1\n",
        "  reward_sarsa_stoc.append(reward)\n",
        "  epsilon *= 0.9990\n",
        "  epsilon_sarsa_stoc.append(epsilon)\n",
        "  # print(epsilon)\n",
        "\n",
        "# print(\"Q-Table : \", q_table_sarsa)\n",
        "# print(epsilon_val)\n",
        "# print(\"Q Table : \", q_table_sarsa)"
      ],
      "metadata": {
        "id": "FqE3Pw6PgG_J"
      },
      "execution_count": 185,
      "outputs": []
    },
    {
      "cell_type": "code",
      "source": [
        "plt.figure(figsize=(5,5))\n",
        "plt.plot(epsilon_sarsa_stoc, linewidth=4)\n",
        "plt.xlabel('Episode', fontsize=16)\n",
        "plt.ylabel('Epsilon Values', fontsize=16)\n",
        "plt.title('Epsilon Decay (SARSA - Stochastic)', fontsize=20)\n",
        "plt.xticks(fontsize=16)\n",
        "plt.yticks(fontsize=16)\n",
        "plt.ylim(ymin=0, ymax=1)\n",
        "plt.xlim(xmin=0, xmax=5000)\n",
        "plt.grid()\n",
        "plt.show()"
      ],
      "metadata": {
        "colab": {
          "base_uri": "https://localhost:8080/",
          "height": 365
        },
        "id": "yIhDa6B3IM2G",
        "outputId": "c00e973d-c399-48c8-b09d-b73ecd6c8d56"
      },
      "execution_count": 186,
      "outputs": [
        {
          "output_type": "display_data",
          "data": {
            "text/plain": [
              "<Figure size 360x360 with 1 Axes>"
            ],
            "image/png": "[encoded data removed]"
          },
          "metadata": {
            "needs_background": "light"
          }
        }
      ]
    },
    {
      "cell_type": "code",
      "source": [
        "plt.figure(figsize=(8,8))\n",
        "plt.plot(reward_sarsa_stoc, 'rx')\n",
        "plt.xlabel('Episode', fontsize=18)\n",
        "plt.ylabel('Reward Value', fontsize=18)\n",
        "plt.title('Rewards Per Episode (SARSA - Stochastic)', fontsize=20)\n",
        "plt.xticks(fontsize=16)\n",
        "plt.yticks([-6, -5, -2, 0, 2, 4, 6, 8, 10], fontsize=16)\n",
        "plt.ylim(ymin=-7, ymax=11)\n",
        "plt.xlim(xmin=0, xmax=5000)\n",
        "plt.grid()\n",
        "plt.show()"
      ],
      "metadata": {
        "colab": {
          "base_uri": "https://localhost:8080/",
          "height": 531
        },
        "id": "hGKsBifCKbcp",
        "outputId": "3e5b6c00-7d1d-47f2-ac81-7504846d05d4"
      },
      "execution_count": 188,
      "outputs": [
        {
          "output_type": "display_data",
          "data": {
            "text/plain": [
              "<Figure size 576x576 with 1 Axes>"
            ],
            "image/png": "[encoded data removed]"
          },
          "metadata": {
            "needs_background": "light"
          }
        }
      ]
    },
    {
      "cell_type": "code",
      "source": [],
      "metadata": {
        "id": "xk67wZwYKfoA"
      },
      "execution_count": null,
      "outputs": []
    }
  ]
}