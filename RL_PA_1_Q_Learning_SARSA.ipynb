{
  "nbformat": 4,
  "nbformat_minor": 0,
  "metadata": {
    "colab": {
      "provenance": [],
      "toc_visible": true,
      "include_colab_link": true
    },
    "kernelspec": {
      "name": "python3",
      "display_name": "Python 3"
    },
    "language_info": {
      "name": "python"
    }
  },
  "cells": [
    {
      "cell_type": "markdown",
      "metadata": {
        "id": "view-in-github",
        "colab_type": "text"
      },
      "source": [
        "<a href=\"https://colab.research.google.com/github/akhil1198/RL-PA1/blob/main/RL_PA_1_Q_Learning_SARSA.ipynb\" target=\"_parent\"><img src=\"https://colab.research.google.com/assets/colab-badge.svg\" alt=\"Open In Colab\"/></a>"
      ]
    },
    {
      "cell_type": "code",
      "execution_count": 3,
      "metadata": {
        "colab": {
          "base_uri": "https://localhost:8080/"
        },
        "id": "hw2TLyoAigYz",
        "outputId": "9d67fe30-7347-4d13-ec07-f9cad52bb212"
      },
      "outputs": [
        {
          "output_type": "stream",
          "name": "stdout",
          "text": [
            "Looking in indexes: https://pypi.org/simple, https://us-python.pkg.dev/colab-wheels/public/simple/\n",
            "Collecting gymnasium\n",
            "  Downloading gymnasium-0.27.1-py3-none-any.whl (883 kB)\n",
            "\u001b[2K     \u001b[90m━━━━━━━━━━━━━━━━━━━━━━━━━━━━━━━━━━━━━━━\u001b[0m \u001b[32m883.7/883.7 KB\u001b[0m \u001b[31m5.7 MB/s\u001b[0m eta \u001b[36m0:00:00\u001b[0m\n",
            "\u001b[?25hRequirement already satisfied: matplotlib in /usr/local/lib/python3.8/dist-packages (3.5.3)\n",
            "Requirement already satisfied: numpy in /usr/local/lib/python3.8/dist-packages (1.22.4)\n",
            "Requirement already satisfied: typing-extensions>=4.3.0 in /usr/local/lib/python3.8/dist-packages (from gymnasium) (4.5.0)\n",
            "Collecting gymnasium-notices>=0.0.1\n",
            "  Downloading gymnasium_notices-0.0.1-py3-none-any.whl (2.8 kB)\n",
            "Collecting jax-jumpy>=0.2.0\n",
            "  Downloading jax_jumpy-0.2.0-py3-none-any.whl (11 kB)\n",
            "Requirement already satisfied: cloudpickle>=1.2.0 in /usr/local/lib/python3.8/dist-packages (from gymnasium) (2.2.1)\n",
            "Requirement already satisfied: importlib-metadata>=4.8.0 in /usr/local/lib/python3.8/dist-packages (from gymnasium) (6.0.0)\n",
            "Requirement already satisfied: pillow>=6.2.0 in /usr/local/lib/python3.8/dist-packages (from matplotlib) (8.4.0)\n",
            "Requirement already satisfied: packaging>=20.0 in /usr/local/lib/python3.8/dist-packages (from matplotlib) (23.0)\n",
            "Requirement already satisfied: fonttools>=4.22.0 in /usr/local/lib/python3.8/dist-packages (from matplotlib) (4.38.0)\n",
            "Requirement already satisfied: kiwisolver>=1.0.1 in /usr/local/lib/python3.8/dist-packages (from matplotlib) (1.4.4)\n",
            "Requirement already satisfied: pyparsing>=2.2.1 in /usr/local/lib/python3.8/dist-packages (from matplotlib) (3.0.9)\n",
            "Requirement already satisfied: python-dateutil>=2.7 in /usr/local/lib/python3.8/dist-packages (from matplotlib) (2.8.2)\n",
            "Requirement already satisfied: cycler>=0.10 in /usr/local/lib/python3.8/dist-packages (from matplotlib) (0.11.0)\n",
            "Requirement already satisfied: zipp>=0.5 in /usr/local/lib/python3.8/dist-packages (from importlib-metadata>=4.8.0->gymnasium) (3.15.0)\n",
            "Requirement already satisfied: six>=1.5 in /usr/local/lib/python3.8/dist-packages (from python-dateutil>=2.7->matplotlib) (1.15.0)\n",
            "Installing collected packages: gymnasium-notices, jax-jumpy, gymnasium\n",
            "Successfully installed gymnasium-0.27.1 gymnasium-notices-0.0.1 jax-jumpy-0.2.0\n"
          ]
        }
      ],
      "source": [
        "!pip install gymnasium matplotlib numpy\n"
      ]
    },
    {
      "cell_type": "code",
      "source": [
        "from google.colab import widgets\n",
        "import gymnasium as gym\n",
        "from gymnasium import spaces\n",
        "import matplotlib.pyplot as plt\n",
        "import numpy as np\n",
        "import time\n",
        "import pickle"
      ],
      "metadata": {
        "id": "9d4qlEyLjUam"
      },
      "execution_count": 4,
      "outputs": []
    },
    {
      "cell_type": "code",
      "source": [
        "output_grid = widgets.Grid(1,1)\n",
        "\n",
        "for _ in range(5):\n",
        "  grid = np.zeros((5, 5))\n",
        "  grid[np.random.randint(5), np.random.randint(5)] = 1\n",
        "\n",
        "  with output_grid.output_to(0,0):\n",
        "    output_grid.clear_cell()\n",
        "    plt.imshow(grid)\n",
        "  time.sleep(2) "
      ],
      "metadata": {
        "colab": {
          "base_uri": "https://localhost:8080/",
          "height": 269
        },
        "id": "1V9H_w_ujZIt",
        "outputId": "34fd7ef0-6e84-4902-8f63-9e54287462b4"
      },
      "execution_count": 5,
      "outputs": [
        {
          "output_type": "display_data",
          "data": {
            "text/plain": [
              "<IPython.core.display.HTML object>"
            ],
            "text/html": [
              "<style>\n",
              "       table#id2, #id2 > tbody > tr > th, #id2 > tbody > tr > td {\n",
              "         border: 1px solid lightgray;\n",
              "         border-collapse:collapse;\n",
              "         \n",
              "        }</style>"
            ]
          },
          "metadata": {}
        },
        {
          "output_type": "display_data",
          "data": {
            "text/plain": [
              "<IPython.core.display.HTML object>"
            ],
            "text/html": [
              "<table id=id2><tr><td id=id2-0-0></td></tr></table>"
            ]
          },
          "metadata": {}
        },
        {
          "output_type": "display_data",
          "data": {
            "text/plain": [
              "<IPython.core.display.Javascript object>"
            ],
            "application/javascript": [
              "window[\"f0fa0b8c-ba0a-11ed-9901-0242ac1c000c\"] = google.colab.output.getActiveOutputArea();\n",
              "//# sourceURL=js_8972cd841e"
            ]
          },
          "metadata": {}
        },
        {
          "output_type": "display_data",
          "data": {
            "text/plain": [
              "<IPython.core.display.Javascript object>"
            ],
            "application/javascript": [
              "window[\"f0fa9aa2-ba0a-11ed-9901-0242ac1c000c\"] = document.querySelector(\"#id2-0-0\");\n",
              "//# sourceURL=js_c268381b8f"
            ]
          },
          "metadata": {}
        },
        {
          "output_type": "display_data",
          "data": {
            "text/plain": [
              "<IPython.core.display.Javascript object>"
            ],
            "application/javascript": [
              "window[\"f0fb7c92-ba0a-11ed-9901-0242ac1c000c\"] = google.colab.output.setActiveOutputArea(window[\"f0fa9aa2-ba0a-11ed-9901-0242ac1c000c\"]);\n",
              "//# sourceURL=js_2a88f71f15"
            ]
          },
          "metadata": {}
        },
        {
          "output_type": "display_data",
          "data": {
            "text/plain": [
              "<IPython.core.display.Javascript object>"
            ],
            "application/javascript": [
              "window[\"f138a856-ba0a-11ed-9901-0242ac1c000c\"] = google.colab.output.setActiveOutputArea(window[\"f0fa0b8c-ba0a-11ed-9901-0242ac1c000c\"]);\n",
              "//# sourceURL=js_b42b2bfcba"
            ]
          },
          "metadata": {}
        },
        {
          "output_type": "display_data",
          "data": {
            "text/plain": [
              "<IPython.core.display.Javascript object>"
            ],
            "application/javascript": [
              "window[\"f26cc716-ba0a-11ed-9901-0242ac1c000c\"] = google.colab.output.getActiveOutputArea();\n",
              "//# sourceURL=js_0288d51329"
            ]
          },
          "metadata": {}
        },
        {
          "output_type": "display_data",
          "data": {
            "text/plain": [
              "<IPython.core.display.Javascript object>"
            ],
            "application/javascript": [
              "window[\"f26d3f34-ba0a-11ed-9901-0242ac1c000c\"] = document.querySelector(\"#id2-0-0\");\n",
              "//# sourceURL=js_faf1d1ef27"
            ]
          },
          "metadata": {}
        },
        {
          "output_type": "display_data",
          "data": {
            "text/plain": [
              "<IPython.core.display.Javascript object>"
            ],
            "application/javascript": [
              "window[\"f26dbfa4-ba0a-11ed-9901-0242ac1c000c\"] = google.colab.output.setActiveOutputArea(window[\"f26d3f34-ba0a-11ed-9901-0242ac1c000c\"]);\n",
              "//# sourceURL=js_92733bc62e"
            ]
          },
          "metadata": {}
        },
        {
          "output_type": "display_data",
          "data": {
            "text/plain": [
              "<IPython.core.display.Javascript object>"
            ],
            "application/javascript": [
              "window[\"f28e499a-ba0a-11ed-9901-0242ac1c000c\"] = google.colab.output.setActiveOutputArea(window[\"f26cc716-ba0a-11ed-9901-0242ac1c000c\"]);\n",
              "//# sourceURL=js_aeda596d2f"
            ]
          },
          "metadata": {}
        },
        {
          "output_type": "display_data",
          "data": {
            "text/plain": [
              "<IPython.core.display.Javascript object>"
            ],
            "application/javascript": [
              "window[\"f3c3a148-ba0a-11ed-9901-0242ac1c000c\"] = google.colab.output.getActiveOutputArea();\n",
              "//# sourceURL=js_ff440c5842"
            ]
          },
          "metadata": {}
        },
        {
          "output_type": "display_data",
          "data": {
            "text/plain": [
              "<IPython.core.display.Javascript object>"
            ],
            "application/javascript": [
              "window[\"f3c40bc4-ba0a-11ed-9901-0242ac1c000c\"] = document.querySelector(\"#id2-0-0\");\n",
              "//# sourceURL=js_ad3db192c8"
            ]
          },
          "metadata": {}
        },
        {
          "output_type": "display_data",
          "data": {
            "text/plain": [
              "<IPython.core.display.Javascript object>"
            ],
            "application/javascript": [
              "window[\"f3c48d42-ba0a-11ed-9901-0242ac1c000c\"] = google.colab.output.setActiveOutputArea(window[\"f3c40bc4-ba0a-11ed-9901-0242ac1c000c\"]);\n",
              "//# sourceURL=js_4fa2139897"
            ]
          },
          "metadata": {}
        },
        {
          "output_type": "display_data",
          "data": {
            "text/plain": [
              "<IPython.core.display.Javascript object>"
            ],
            "application/javascript": [
              "window[\"f3e28202-ba0a-11ed-9901-0242ac1c000c\"] = google.colab.output.setActiveOutputArea(window[\"f3c3a148-ba0a-11ed-9901-0242ac1c000c\"]);\n",
              "//# sourceURL=js_a159614fea"
            ]
          },
          "metadata": {}
        },
        {
          "output_type": "display_data",
          "data": {
            "text/plain": [
              "<IPython.core.display.Javascript object>"
            ],
            "application/javascript": [
              "window[\"f51730aa-ba0a-11ed-9901-0242ac1c000c\"] = google.colab.output.getActiveOutputArea();\n",
              "//# sourceURL=js_aade3dcb4b"
            ]
          },
          "metadata": {}
        },
        {
          "output_type": "display_data",
          "data": {
            "text/plain": [
              "<IPython.core.display.Javascript object>"
            ],
            "application/javascript": [
              "window[\"f5179a40-ba0a-11ed-9901-0242ac1c000c\"] = document.querySelector(\"#id2-0-0\");\n",
              "//# sourceURL=js_01df25ae27"
            ]
          },
          "metadata": {}
        },
        {
          "output_type": "display_data",
          "data": {
            "text/plain": [
              "<IPython.core.display.Javascript object>"
            ],
            "application/javascript": [
              "window[\"f5184b3e-ba0a-11ed-9901-0242ac1c000c\"] = google.colab.output.setActiveOutputArea(window[\"f5179a40-ba0a-11ed-9901-0242ac1c000c\"]);\n",
              "//# sourceURL=js_84e285e20f"
            ]
          },
          "metadata": {}
        },
        {
          "output_type": "display_data",
          "data": {
            "text/plain": [
              "<IPython.core.display.Javascript object>"
            ],
            "application/javascript": [
              "window[\"f53767bc-ba0a-11ed-9901-0242ac1c000c\"] = google.colab.output.setActiveOutputArea(window[\"f51730aa-ba0a-11ed-9901-0242ac1c000c\"]);\n",
              "//# sourceURL=js_17bf9faac4"
            ]
          },
          "metadata": {}
        },
        {
          "output_type": "display_data",
          "data": {
            "text/plain": [
              "<IPython.core.display.Javascript object>"
            ],
            "application/javascript": [
              "window[\"f66bc844-ba0a-11ed-9901-0242ac1c000c\"] = google.colab.output.getActiveOutputArea();\n",
              "//# sourceURL=js_5b430f0102"
            ]
          },
          "metadata": {}
        },
        {
          "output_type": "display_data",
          "data": {
            "text/plain": [
              "<IPython.core.display.Javascript object>"
            ],
            "application/javascript": [
              "window[\"f66c7a64-ba0a-11ed-9901-0242ac1c000c\"] = document.querySelector(\"#id2-0-0\");\n",
              "//# sourceURL=js_95453be83e"
            ]
          },
          "metadata": {}
        },
        {
          "output_type": "display_data",
          "data": {
            "text/plain": [
              "<IPython.core.display.Javascript object>"
            ],
            "application/javascript": [
              "window[\"f66ce940-ba0a-11ed-9901-0242ac1c000c\"] = google.colab.output.setActiveOutputArea(window[\"f66c7a64-ba0a-11ed-9901-0242ac1c000c\"]);\n",
              "//# sourceURL=js_4c120cb7b1"
            ]
          },
          "metadata": {}
        },
        {
          "output_type": "display_data",
          "data": {
            "text/plain": [
              "<Figure size 432x288 with 1 Axes>"
            ],
            "image/png": "[encoded data removed]"
          },
          "metadata": {
            "needs_background": "light"
          }
        },
        {
          "output_type": "display_data",
          "data": {
            "text/plain": [
              "<IPython.core.display.Javascript object>"
            ],
            "application/javascript": [
              "window[\"f697bde6-ba0a-11ed-9901-0242ac1c000c\"] = google.colab.output.setActiveOutputArea(window[\"f66bc844-ba0a-11ed-9901-0242ac1c000c\"]);\n",
              "//# sourceURL=js_f1f9eb215e"
            ]
          },
          "metadata": {}
        }
      ]
    },
    {
      "cell_type": "markdown",
      "source": [
        "---\n",
        "# **Part - 1** \n",
        "---"
      ],
      "metadata": {
        "id": "x0kViSd_yd82"
      }
    },
    {
      "cell_type": "markdown",
      "source": [
        "### **1.1 Creating An Environment**"
      ],
      "metadata": {
        "id": "xuKv6_Sl7ujm"
      }
    },
    {
      "cell_type": "code",
      "source": [
        "from IPython.utils.path import random\n",
        "class GridEnv(gym.Env):\n",
        "  def __init__(self, env_type):\n",
        "    self.environment_type = env_type\n",
        "    self.environment_width = 5\n",
        "    self.environment_height = 5\n",
        "    self.observation_space = spaces.Discrete(25)\n",
        "    self.action_space = spaces.Discrete(4)\n",
        "\n",
        "    self.timestep = 0\n",
        "    self.max_timesteps = 15\n",
        "\n",
        "    self.agent_pos = [0, 0]\n",
        "    self.goal_pos = [4, 4]\n",
        "\n",
        "    self.state = np.zeros((5,5))\n",
        "    self.state[tuple(self.agent_pos)] = 1\n",
        "    self.state[tuple(self.goal_pos)] = 0.5\n",
        "\n",
        "    self.reward = 0\n",
        "    self.truncated = False\n",
        "    self.terminated = False\n",
        "    self.reward_pos = np.asarray([[0, 4], [2, 1], [3, 4], [4, 2]])\n",
        "    self.negreward_pos = np.asarray([[1, 2], [3, 0], [3, 3]])\n",
        "\n",
        "    #for stochastic env\n",
        "    self.random_number = 0\n",
        "    self.rand_action = 0\n",
        "\n",
        "  def reset(self):\n",
        "    self.state = np.zeros((5,5))\n",
        "    self.state[tuple(self.agent_pos)] = 1\n",
        "    self.state[tuple(self.goal_pos)] = 0.5\n",
        "    observation = self.state.flatten()\n",
        "\n",
        "    return observation, self.agent_pos\n",
        "  \n",
        "  def step(self, action):\n",
        "    # print(\"action\", action)\n",
        "    # action = int(action)\n",
        "    if action == 0:\n",
        "      #print(\"at 0 - > agent_pos[0] += 1\")\n",
        "      self.agent_pos[0] += 1\n",
        "    if action == 1:\n",
        "      #print(\"at 1 -> agent_pos[0] -= 1\")\n",
        "      self.agent_pos[0] -= 1\n",
        "    if action == 2:\n",
        "      #print(\"at 2 -> agent_pos[1] += 1\")\n",
        "      self.agent_pos[1] += 1\n",
        "    if action == 3:\n",
        "      #print(\"at 3 -> agent_pos[1] -= 1\")\n",
        "      self.agent_pos[1] -= 1\n",
        "    #stochastic method\n",
        "    if self.environment_type == \"stochastic\":\n",
        "      self.random_number = np.random.rand()\n",
        "      self.rand_action = np.random.randint(4)\n",
        "      if self.random_number < 0.9:\n",
        "        #print(\"Executing the right action -> \", action)\n",
        "        if action == 0:\n",
        "          #print(\"at 0 - > agent_pos[0] += 1\")\n",
        "          self.agent_pos[0] += 1\n",
        "        if action == 1:\n",
        "          #print(\"at 1 -> agent_pos[0] -= 1\")\n",
        "          self.agent_pos[0] -= 1\n",
        "        if action == 2:\n",
        "          #print(\"at 2 -> agent_pos[1] += 1\")\n",
        "          self.agent_pos[1] += 1\n",
        "        if action == 3:\n",
        "          #print(\"at 3 -> agent_pos[1] -= 1\")\n",
        "          self.agent_pos[1] -= 1\n",
        "      elif self.random_number > 0.9:\n",
        "        #print(\"Executing Random Action\", self.rand_action)\n",
        "        if self.rand_action == 0:\n",
        "          self.agent_pos[0] += 1\n",
        "        if self.rand_action == 1:\n",
        "          self.agent_pos[0] -= 1\n",
        "        if self.rand_action == 2:\n",
        "          self.agent_pos[1] += 1\n",
        "        if self.rand_action == 3:\n",
        "          self.agent_pos[1] -= 1\n",
        "      \n",
        "    #print(self.agent_pos)\n",
        "    #Comment this to demonstrate the truncation condition.\n",
        "    self.agent_pos = np.clip(self.agent_pos, 0, 4)\n",
        "\n",
        "    self.state = np.zeros((5,5))\n",
        "    self.state[tuple(self.agent_pos)] = 1\n",
        "    self.state[tuple(self.goal_pos)] = 0.5\n",
        "    observation = self.state.flatten()\n",
        "\n",
        "    self.reward = 0\n",
        "    #[0, 4], [2, 1], [3, 4], [4, 2]\n",
        "    if np.array_equal(self.agent_pos, self.reward_pos[0]):\n",
        "      self.reward = self.reward + 2\n",
        "    \n",
        "    if np.array_equal(self.agent_pos, self.reward_pos[1]):\n",
        "      self.reward = self.reward + 4\n",
        "    \n",
        "    if np.array_equal(self.agent_pos, self.reward_pos[2]):\n",
        "      self.reward = self.reward + 8\n",
        "    \n",
        "    if np.array_equal(self.agent_pos, self.reward_pos[3]):\n",
        "      self.reward = self.reward + 6\n",
        "    \n",
        "\n",
        "    if np.array_equal(self.agent_pos, self.goal_pos):\n",
        "      self.reward += 10\n",
        "    \n",
        "\n",
        "    #[1, 2], [3, 0], [3, 3]\n",
        "    if np.array_equal(self.agent_pos, self.negreward_pos[0]):\n",
        "      self.reward = self.reward - 5\n",
        "    \n",
        "    if np.array_equal(self.agent_pos, self.negreward_pos[1]):\n",
        "      self.reward = self.reward - 6\n",
        "    \n",
        "    if np.array_equal(self.agent_pos, self.negreward_pos[2]):\n",
        "      self.reward = self.reward - 2\n",
        "\n",
        "    self.timestep += 1\n",
        "\n",
        "    #print(\"truncated -> \", self.agent_pos,)\n",
        "    terminated = True if self.timestep >= self.max_timesteps else False\n",
        "    truncated = True if np.all((self.agent_pos[0] >= 0) & (self.agent_pos[0] <= 4) & (self.agent_pos[1] >= 0) & (self.agent_pos[1] <= 4)) else False\n",
        "\n",
        "    info = {}\n",
        "    \n",
        "    return observation, self.reward, terminated, truncated, info, self.agent_pos\n",
        "\n",
        "  def render(self):\n",
        "    print(\"Reward -> \", self.reward)\n",
        "    plt.imshow(self.state)\n",
        "    \n"
      ],
      "metadata": {
        "id": "uiH3nTLTj3qR"
      },
      "execution_count": 209,
      "outputs": []
    },
    {
      "cell_type": "markdown",
      "source": [
        "### **1.2 Creating An Agent**"
      ],
      "metadata": {
        "id": "-7sNCX8TypM_"
      }
    },
    {
      "cell_type": "code",
      "source": [
        "class RandomAgent:\n",
        "  def __init__(self, env):\n",
        "    self.env = env\n",
        "    self.observation_space = env.observation_space\n",
        "    self.action_space = env.action_space\n",
        "  def step(self, obs):\n",
        "    return np.random.choice(self.action_space.n)\n",
        "  "
      ],
      "metadata": {
        "id": "WCTSceXW44Bk"
      },
      "execution_count": 210,
      "outputs": []
    },
    {
      "cell_type": "markdown",
      "source": [
        "### **1.3 Testing The Environment**"
      ],
      "metadata": {
        "id": "CeaheI38ZYT9"
      }
    },
    {
      "cell_type": "code",
      "source": [
        "env = GridEnv(env_type = \"deterministic\")\n",
        "agent = RandomAgent(env)\n",
        "\n",
        "obs, info = env.reset()\n",
        "terminated, truncated = False, False\n",
        "\n",
        "output_grid = widgets.Grid(1, 1)\n",
        "with output_grid.output_to(0, 0):\n",
        "  env.render()\n",
        "\n",
        "while not terminated:\n",
        "  action = agent.step(obs)\n",
        "  #action = input()\n",
        "  observation, reward, terminated, truncated, info, agent_pos = env.step(action)\n",
        "  with output_grid.output_to(0, 0):\n",
        "    output_grid.clear_cell()\n",
        "    plt.imshow(grid)\n",
        "    env.render()\n",
        "  time.sleep(1)\n"
      ],
      "metadata": {
        "colab": {
          "base_uri": "https://localhost:8080/",
          "height": 287
        },
        "id": "f-iPycGP48pI",
        "outputId": "ce3ba1a6-7284-4f87-b615-ced1a9e209eb"
      },
      "execution_count": 211,
      "outputs": [
        {
          "output_type": "display_data",
          "data": {
            "text/plain": [
              "<IPython.core.display.HTML object>"
            ],
            "text/html": [
              "<style>\n",
              "       table#id22, #id22 > tbody > tr > th, #id22 > tbody > tr > td {\n",
              "         border: 1px solid lightgray;\n",
              "         border-collapse:collapse;\n",
              "         \n",
              "        }</style>"
            ]
          },
          "metadata": {}
        },
        {
          "output_type": "display_data",
          "data": {
            "text/plain": [
              "<IPython.core.display.HTML object>"
            ],
            "text/html": [
              "<table id=id22><tr><td id=id22-0-0></td></tr></table>"
            ]
          },
          "metadata": {}
        },
        {
          "output_type": "display_data",
          "data": {
            "text/plain": [
              "<IPython.core.display.Javascript object>"
            ],
            "application/javascript": [
              "window[\"0624c9d0-ba19-11ed-9901-0242ac1c000c\"] = google.colab.output.getActiveOutputArea();\n",
              "//# sourceURL=js_8d5576dfeb"
            ]
          },
          "metadata": {}
        },
        {
          "output_type": "display_data",
          "data": {
            "text/plain": [
              "<IPython.core.display.Javascript object>"
            ],
            "application/javascript": [
              "window[\"06258258-ba19-11ed-9901-0242ac1c000c\"] = document.querySelector(\"#id22-0-0\");\n",
              "//# sourceURL=js_b83c47eb72"
            ]
          },
          "metadata": {}
        },
        {
          "output_type": "display_data",
          "data": {
            "text/plain": [
              "<IPython.core.display.Javascript object>"
            ],
            "application/javascript": [
              "window[\"06262bf4-ba19-11ed-9901-0242ac1c000c\"] = google.colab.output.setActiveOutputArea(window[\"06258258-ba19-11ed-9901-0242ac1c000c\"]);\n",
              "//# sourceURL=js_dc74acbfbb"
            ]
          },
          "metadata": {}
        },
        {
          "output_type": "display_data",
          "data": {
            "text/plain": [
              "<IPython.core.display.Javascript object>"
            ],
            "application/javascript": [
              "window[\"0656b6e8-ba19-11ed-9901-0242ac1c000c\"] = google.colab.output.setActiveOutputArea(window[\"0624c9d0-ba19-11ed-9901-0242ac1c000c\"]);\n",
              "//# sourceURL=js_c2ed7c5fbc"
            ]
          },
          "metadata": {}
        },
        {
          "output_type": "display_data",
          "data": {
            "text/plain": [
              "<IPython.core.display.Javascript object>"
            ],
            "application/javascript": [
              "window[\"06595cd6-ba19-11ed-9901-0242ac1c000c\"] = google.colab.output.getActiveOutputArea();\n",
              "//# sourceURL=js_fe6ae9710c"
            ]
          },
          "metadata": {}
        },
        {
          "output_type": "display_data",
          "data": {
            "text/plain": [
              "<IPython.core.display.Javascript object>"
            ],
            "application/javascript": [
              "window[\"0659e796-ba19-11ed-9901-0242ac1c000c\"] = document.querySelector(\"#id22-0-0\");\n",
              "//# sourceURL=js_258c640249"
            ]
          },
          "metadata": {}
        },
        {
          "output_type": "display_data",
          "data": {
            "text/plain": [
              "<IPython.core.display.Javascript object>"
            ],
            "application/javascript": [
              "window[\"065a574e-ba19-11ed-9901-0242ac1c000c\"] = google.colab.output.setActiveOutputArea(window[\"0659e796-ba19-11ed-9901-0242ac1c000c\"]);\n",
              "//# sourceURL=js_707788d115"
            ]
          },
          "metadata": {}
        },
        {
          "output_type": "display_data",
          "data": {
            "text/plain": [
              "<IPython.core.display.Javascript object>"
            ],
            "application/javascript": [
              "window[\"068c122a-ba19-11ed-9901-0242ac1c000c\"] = google.colab.output.setActiveOutputArea(window[\"06595cd6-ba19-11ed-9901-0242ac1c000c\"]);\n",
              "//# sourceURL=js_8f5eec194d"
            ]
          },
          "metadata": {}
        },
        {
          "output_type": "display_data",
          "data": {
            "text/plain": [
              "<IPython.core.display.Javascript object>"
            ],
            "application/javascript": [
              "window[\"07272396-ba19-11ed-9901-0242ac1c000c\"] = google.colab.output.getActiveOutputArea();\n",
              "//# sourceURL=js_f54796e24c"
            ]
          },
          "metadata": {}
        },
        {
          "output_type": "display_data",
          "data": {
            "text/plain": [
              "<IPython.core.display.Javascript object>"
            ],
            "application/javascript": [
              "window[\"0727920e-ba19-11ed-9901-0242ac1c000c\"] = document.querySelector(\"#id22-0-0\");\n",
              "//# sourceURL=js_c8f3437f6c"
            ]
          },
          "metadata": {}
        },
        {
          "output_type": "display_data",
          "data": {
            "text/plain": [
              "<IPython.core.display.Javascript object>"
            ],
            "application/javascript": [
              "window[\"07284438-ba19-11ed-9901-0242ac1c000c\"] = google.colab.output.setActiveOutputArea(window[\"0727920e-ba19-11ed-9901-0242ac1c000c\"]);\n",
              "//# sourceURL=js_2121523587"
            ]
          },
          "metadata": {}
        },
        {
          "output_type": "display_data",
          "data": {
            "text/plain": [
              "<IPython.core.display.Javascript object>"
            ],
            "application/javascript": [
              "window[\"074f7ba2-ba19-11ed-9901-0242ac1c000c\"] = google.colab.output.setActiveOutputArea(window[\"07272396-ba19-11ed-9901-0242ac1c000c\"]);\n",
              "//# sourceURL=js_8f5572c951"
            ]
          },
          "metadata": {}
        },
        {
          "output_type": "display_data",
          "data": {
            "text/plain": [
              "<IPython.core.display.Javascript object>"
            ],
            "application/javascript": [
              "window[\"07eadfb6-ba19-11ed-9901-0242ac1c000c\"] = google.colab.output.getActiveOutputArea();\n",
              "//# sourceURL=js_2a90e4482e"
            ]
          },
          "metadata": {}
        },
        {
          "output_type": "display_data",
          "data": {
            "text/plain": [
              "<IPython.core.display.Javascript object>"
            ],
            "application/javascript": [
              "window[\"07eb9136-ba19-11ed-9901-0242ac1c000c\"] = document.querySelector(\"#id22-0-0\");\n",
              "//# sourceURL=js_8d3b64e52d"
            ]
          },
          "metadata": {}
        },
        {
          "output_type": "display_data",
          "data": {
            "text/plain": [
              "<IPython.core.display.Javascript object>"
            ],
            "application/javascript": [
              "window[\"07ec1250-ba19-11ed-9901-0242ac1c000c\"] = google.colab.output.setActiveOutputArea(window[\"07eb9136-ba19-11ed-9901-0242ac1c000c\"]);\n",
              "//# sourceURL=js_e889d53b2c"
            ]
          },
          "metadata": {}
        },
        {
          "output_type": "display_data",
          "data": {
            "text/plain": [
              "<IPython.core.display.Javascript object>"
            ],
            "application/javascript": [
              "window[\"080da4b0-ba19-11ed-9901-0242ac1c000c\"] = google.colab.output.setActiveOutputArea(window[\"07eadfb6-ba19-11ed-9901-0242ac1c000c\"]);\n",
              "//# sourceURL=js_4bf619fd8e"
            ]
          },
          "metadata": {}
        },
        {
          "output_type": "display_data",
          "data": {
            "text/plain": [
              "<IPython.core.display.Javascript object>"
            ],
            "application/javascript": [
              "window[\"08a97214-ba19-11ed-9901-0242ac1c000c\"] = google.colab.output.getActiveOutputArea();\n",
              "//# sourceURL=js_06ee415903"
            ]
          },
          "metadata": {}
        },
        {
          "output_type": "display_data",
          "data": {
            "text/plain": [
              "<IPython.core.display.Javascript object>"
            ],
            "application/javascript": [
              "window[\"08a9f72a-ba19-11ed-9901-0242ac1c000c\"] = document.querySelector(\"#id22-0-0\");\n",
              "//# sourceURL=js_9444d8638b"
            ]
          },
          "metadata": {}
        },
        {
          "output_type": "display_data",
          "data": {
            "text/plain": [
              "<IPython.core.display.Javascript object>"
            ],
            "application/javascript": [
              "window[\"08aa61f6-ba19-11ed-9901-0242ac1c000c\"] = google.colab.output.setActiveOutputArea(window[\"08a9f72a-ba19-11ed-9901-0242ac1c000c\"]);\n",
              "//# sourceURL=js_1a747b06a5"
            ]
          },
          "metadata": {}
        },
        {
          "output_type": "display_data",
          "data": {
            "text/plain": [
              "<IPython.core.display.Javascript object>"
            ],
            "application/javascript": [
              "window[\"08cabb54-ba19-11ed-9901-0242ac1c000c\"] = google.colab.output.setActiveOutputArea(window[\"08a97214-ba19-11ed-9901-0242ac1c000c\"]);\n",
              "//# sourceURL=js_c5ce301152"
            ]
          },
          "metadata": {}
        },
        {
          "output_type": "display_data",
          "data": {
            "text/plain": [
              "<IPython.core.display.Javascript object>"
            ],
            "application/javascript": [
              "window[\"0965ced2-ba19-11ed-9901-0242ac1c000c\"] = google.colab.output.getActiveOutputArea();\n",
              "//# sourceURL=js_9fd9d40ea9"
            ]
          },
          "metadata": {}
        },
        {
          "output_type": "display_data",
          "data": {
            "text/plain": [
              "<IPython.core.display.Javascript object>"
            ],
            "application/javascript": [
              "window[\"09664d1c-ba19-11ed-9901-0242ac1c000c\"] = document.querySelector(\"#id22-0-0\");\n",
              "//# sourceURL=js_3cb0bade45"
            ]
          },
          "metadata": {}
        },
        {
          "output_type": "display_data",
          "data": {
            "text/plain": [
              "<IPython.core.display.Javascript object>"
            ],
            "application/javascript": [
              "window[\"0966fece-ba19-11ed-9901-0242ac1c000c\"] = google.colab.output.setActiveOutputArea(window[\"09664d1c-ba19-11ed-9901-0242ac1c000c\"]);\n",
              "//# sourceURL=js_416e77a533"
            ]
          },
          "metadata": {}
        },
        {
          "output_type": "display_data",
          "data": {
            "text/plain": [
              "<IPython.core.display.Javascript object>"
            ],
            "application/javascript": [
              "window[\"0987947c-ba19-11ed-9901-0242ac1c000c\"] = google.colab.output.setActiveOutputArea(window[\"0965ced2-ba19-11ed-9901-0242ac1c000c\"]);\n",
              "//# sourceURL=js_f25a821670"
            ]
          },
          "metadata": {}
        },
        {
          "output_type": "display_data",
          "data": {
            "text/plain": [
              "<IPython.core.display.Javascript object>"
            ],
            "application/javascript": [
              "window[\"0a22a322-ba19-11ed-9901-0242ac1c000c\"] = google.colab.output.getActiveOutputArea();\n",
              "//# sourceURL=js_d5b184ac49"
            ]
          },
          "metadata": {}
        },
        {
          "output_type": "display_data",
          "data": {
            "text/plain": [
              "<IPython.core.display.Javascript object>"
            ],
            "application/javascript": [
              "window[\"0a231870-ba19-11ed-9901-0242ac1c000c\"] = document.querySelector(\"#id22-0-0\");\n",
              "//# sourceURL=js_2eec0e0870"
            ]
          },
          "metadata": {}
        },
        {
          "output_type": "display_data",
          "data": {
            "text/plain": [
              "<IPython.core.display.Javascript object>"
            ],
            "application/javascript": [
              "window[\"0a238aa8-ba19-11ed-9901-0242ac1c000c\"] = google.colab.output.setActiveOutputArea(window[\"0a231870-ba19-11ed-9901-0242ac1c000c\"]);\n",
              "//# sourceURL=js_eaa1d78646"
            ]
          },
          "metadata": {}
        },
        {
          "output_type": "display_data",
          "data": {
            "text/plain": [
              "<IPython.core.display.Javascript object>"
            ],
            "application/javascript": [
              "window[\"0a494f90-ba19-11ed-9901-0242ac1c000c\"] = google.colab.output.setActiveOutputArea(window[\"0a22a322-ba19-11ed-9901-0242ac1c000c\"]);\n",
              "//# sourceURL=js_e2218b4ed7"
            ]
          },
          "metadata": {}
        },
        {
          "output_type": "display_data",
          "data": {
            "text/plain": [
              "<IPython.core.display.Javascript object>"
            ],
            "application/javascript": [
              "window[\"0ae51bb4-ba19-11ed-9901-0242ac1c000c\"] = google.colab.output.getActiveOutputArea();\n",
              "//# sourceURL=js_8f434cf908"
            ]
          },
          "metadata": {}
        },
        {
          "output_type": "display_data",
          "data": {
            "text/plain": [
              "<IPython.core.display.Javascript object>"
            ],
            "application/javascript": [
              "window[\"0ae58d56-ba19-11ed-9901-0242ac1c000c\"] = document.querySelector(\"#id22-0-0\");\n",
              "//# sourceURL=js_1873a6cf75"
            ]
          },
          "metadata": {}
        },
        {
          "output_type": "display_data",
          "data": {
            "text/plain": [
              "<IPython.core.display.Javascript object>"
            ],
            "application/javascript": [
              "window[\"0ae5fe12-ba19-11ed-9901-0242ac1c000c\"] = google.colab.output.setActiveOutputArea(window[\"0ae58d56-ba19-11ed-9901-0242ac1c000c\"]);\n",
              "//# sourceURL=js_8585e989c7"
            ]
          },
          "metadata": {}
        },
        {
          "output_type": "display_data",
          "data": {
            "text/plain": [
              "<IPython.core.display.Javascript object>"
            ],
            "application/javascript": [
              "window[\"0b064ba4-ba19-11ed-9901-0242ac1c000c\"] = google.colab.output.setActiveOutputArea(window[\"0ae51bb4-ba19-11ed-9901-0242ac1c000c\"]);\n",
              "//# sourceURL=js_bc111c2d81"
            ]
          },
          "metadata": {}
        },
        {
          "output_type": "display_data",
          "data": {
            "text/plain": [
              "<IPython.core.display.Javascript object>"
            ],
            "application/javascript": [
              "window[\"0ba19c1c-ba19-11ed-9901-0242ac1c000c\"] = google.colab.output.getActiveOutputArea();\n",
              "//# sourceURL=js_4ff356a55b"
            ]
          },
          "metadata": {}
        },
        {
          "output_type": "display_data",
          "data": {
            "text/plain": [
              "<IPython.core.display.Javascript object>"
            ],
            "application/javascript": [
              "window[\"0ba2551c-ba19-11ed-9901-0242ac1c000c\"] = document.querySelector(\"#id22-0-0\");\n",
              "//# sourceURL=js_0390030f38"
            ]
          },
          "metadata": {}
        },
        {
          "output_type": "display_data",
          "data": {
            "text/plain": [
              "<IPython.core.display.Javascript object>"
            ],
            "application/javascript": [
              "window[\"0ba2d1ea-ba19-11ed-9901-0242ac1c000c\"] = google.colab.output.setActiveOutputArea(window[\"0ba2551c-ba19-11ed-9901-0242ac1c000c\"]);\n",
              "//# sourceURL=js_9f403fc3f0"
            ]
          },
          "metadata": {}
        },
        {
          "output_type": "display_data",
          "data": {
            "text/plain": [
              "<IPython.core.display.Javascript object>"
            ],
            "application/javascript": [
              "window[\"0bc3979a-ba19-11ed-9901-0242ac1c000c\"] = google.colab.output.setActiveOutputArea(window[\"0ba19c1c-ba19-11ed-9901-0242ac1c000c\"]);\n",
              "//# sourceURL=js_467c7a0162"
            ]
          },
          "metadata": {}
        },
        {
          "output_type": "display_data",
          "data": {
            "text/plain": [
              "<IPython.core.display.Javascript object>"
            ],
            "application/javascript": [
              "window[\"0c5fd0d8-ba19-11ed-9901-0242ac1c000c\"] = google.colab.output.getActiveOutputArea();\n",
              "//# sourceURL=js_c801b91a36"
            ]
          },
          "metadata": {}
        },
        {
          "output_type": "display_data",
          "data": {
            "text/plain": [
              "<IPython.core.display.Javascript object>"
            ],
            "application/javascript": [
              "window[\"0c603df2-ba19-11ed-9901-0242ac1c000c\"] = document.querySelector(\"#id22-0-0\");\n",
              "//# sourceURL=js_2e5094566c"
            ]
          },
          "metadata": {}
        },
        {
          "output_type": "display_data",
          "data": {
            "text/plain": [
              "<IPython.core.display.Javascript object>"
            ],
            "application/javascript": [
              "window[\"0c60c66e-ba19-11ed-9901-0242ac1c000c\"] = google.colab.output.setActiveOutputArea(window[\"0c603df2-ba19-11ed-9901-0242ac1c000c\"]);\n",
              "//# sourceURL=js_e7ba43a877"
            ]
          },
          "metadata": {}
        },
        {
          "output_type": "display_data",
          "data": {
            "text/plain": [
              "<IPython.core.display.Javascript object>"
            ],
            "application/javascript": [
              "window[\"0c804e44-ba19-11ed-9901-0242ac1c000c\"] = google.colab.output.setActiveOutputArea(window[\"0c5fd0d8-ba19-11ed-9901-0242ac1c000c\"]);\n",
              "//# sourceURL=js_9cfbac910d"
            ]
          },
          "metadata": {}
        },
        {
          "output_type": "display_data",
          "data": {
            "text/plain": [
              "<IPython.core.display.Javascript object>"
            ],
            "application/javascript": [
              "window[\"0d1bc7c0-ba19-11ed-9901-0242ac1c000c\"] = google.colab.output.getActiveOutputArea();\n",
              "//# sourceURL=js_1f4922812d"
            ]
          },
          "metadata": {}
        },
        {
          "output_type": "display_data",
          "data": {
            "text/plain": [
              "<IPython.core.display.Javascript object>"
            ],
            "application/javascript": [
              "window[\"0d1c33c2-ba19-11ed-9901-0242ac1c000c\"] = document.querySelector(\"#id22-0-0\");\n",
              "//# sourceURL=js_dc482e2768"
            ]
          },
          "metadata": {}
        },
        {
          "output_type": "display_data",
          "data": {
            "text/plain": [
              "<IPython.core.display.Javascript object>"
            ],
            "application/javascript": [
              "window[\"0d1ce97a-ba19-11ed-9901-0242ac1c000c\"] = google.colab.output.setActiveOutputArea(window[\"0d1c33c2-ba19-11ed-9901-0242ac1c000c\"]);\n",
              "//# sourceURL=js_654c328165"
            ]
          },
          "metadata": {}
        },
        {
          "output_type": "display_data",
          "data": {
            "text/plain": [
              "<IPython.core.display.Javascript object>"
            ],
            "application/javascript": [
              "window[\"0d44a1a4-ba19-11ed-9901-0242ac1c000c\"] = google.colab.output.setActiveOutputArea(window[\"0d1bc7c0-ba19-11ed-9901-0242ac1c000c\"]);\n",
              "//# sourceURL=js_6eadd64e1a"
            ]
          },
          "metadata": {}
        },
        {
          "output_type": "display_data",
          "data": {
            "text/plain": [
              "<IPython.core.display.Javascript object>"
            ],
            "application/javascript": [
              "window[\"0ddf9f2e-ba19-11ed-9901-0242ac1c000c\"] = google.colab.output.getActiveOutputArea();\n",
              "//# sourceURL=js_83ef813de0"
            ]
          },
          "metadata": {}
        },
        {
          "output_type": "display_data",
          "data": {
            "text/plain": [
              "<IPython.core.display.Javascript object>"
            ],
            "application/javascript": [
              "window[\"0de063a0-ba19-11ed-9901-0242ac1c000c\"] = document.querySelector(\"#id22-0-0\");\n",
              "//# sourceURL=js_efe064cf0e"
            ]
          },
          "metadata": {}
        },
        {
          "output_type": "display_data",
          "data": {
            "text/plain": [
              "<IPython.core.display.Javascript object>"
            ],
            "application/javascript": [
              "window[\"0de123d0-ba19-11ed-9901-0242ac1c000c\"] = google.colab.output.setActiveOutputArea(window[\"0de063a0-ba19-11ed-9901-0242ac1c000c\"]);\n",
              "//# sourceURL=js_b969304cca"
            ]
          },
          "metadata": {}
        },
        {
          "output_type": "display_data",
          "data": {
            "text/plain": [
              "<IPython.core.display.Javascript object>"
            ],
            "application/javascript": [
              "window[\"0e11c8be-ba19-11ed-9901-0242ac1c000c\"] = google.colab.output.setActiveOutputArea(window[\"0ddf9f2e-ba19-11ed-9901-0242ac1c000c\"]);\n",
              "//# sourceURL=js_3c9cdf614f"
            ]
          },
          "metadata": {}
        },
        {
          "output_type": "display_data",
          "data": {
            "text/plain": [
              "<IPython.core.display.Javascript object>"
            ],
            "application/javascript": [
              "window[\"0ead851a-ba19-11ed-9901-0242ac1c000c\"] = google.colab.output.getActiveOutputArea();\n",
              "//# sourceURL=js_8380c5ebdd"
            ]
          },
          "metadata": {}
        },
        {
          "output_type": "display_data",
          "data": {
            "text/plain": [
              "<IPython.core.display.Javascript object>"
            ],
            "application/javascript": [
              "window[\"0eae003a-ba19-11ed-9901-0242ac1c000c\"] = document.querySelector(\"#id22-0-0\");\n",
              "//# sourceURL=js_496bae56f3"
            ]
          },
          "metadata": {}
        },
        {
          "output_type": "display_data",
          "data": {
            "text/plain": [
              "<IPython.core.display.Javascript object>"
            ],
            "application/javascript": [
              "window[\"0eae801e-ba19-11ed-9901-0242ac1c000c\"] = google.colab.output.setActiveOutputArea(window[\"0eae003a-ba19-11ed-9901-0242ac1c000c\"]);\n",
              "//# sourceURL=js_ceccab8df6"
            ]
          },
          "metadata": {}
        },
        {
          "output_type": "display_data",
          "data": {
            "text/plain": [
              "<IPython.core.display.Javascript object>"
            ],
            "application/javascript": [
              "window[\"0ece30bc-ba19-11ed-9901-0242ac1c000c\"] = google.colab.output.setActiveOutputArea(window[\"0ead851a-ba19-11ed-9901-0242ac1c000c\"]);\n",
              "//# sourceURL=js_9d5498d30d"
            ]
          },
          "metadata": {}
        },
        {
          "output_type": "display_data",
          "data": {
            "text/plain": [
              "<IPython.core.display.Javascript object>"
            ],
            "application/javascript": [
              "window[\"0f6966b8-ba19-11ed-9901-0242ac1c000c\"] = google.colab.output.getActiveOutputArea();\n",
              "//# sourceURL=js_e5d71be35d"
            ]
          },
          "metadata": {}
        },
        {
          "output_type": "display_data",
          "data": {
            "text/plain": [
              "<IPython.core.display.Javascript object>"
            ],
            "application/javascript": [
              "window[\"0f69d85a-ba19-11ed-9901-0242ac1c000c\"] = document.querySelector(\"#id22-0-0\");\n",
              "//# sourceURL=js_3488f8031e"
            ]
          },
          "metadata": {}
        },
        {
          "output_type": "display_data",
          "data": {
            "text/plain": [
              "<IPython.core.display.Javascript object>"
            ],
            "application/javascript": [
              "window[\"0f6a8ab6-ba19-11ed-9901-0242ac1c000c\"] = google.colab.output.setActiveOutputArea(window[\"0f69d85a-ba19-11ed-9901-0242ac1c000c\"]);\n",
              "//# sourceURL=js_2b27c688a0"
            ]
          },
          "metadata": {}
        },
        {
          "output_type": "display_data",
          "data": {
            "text/plain": [
              "<IPython.core.display.Javascript object>"
            ],
            "application/javascript": [
              "window[\"0f8a9464-ba19-11ed-9901-0242ac1c000c\"] = google.colab.output.setActiveOutputArea(window[\"0f6966b8-ba19-11ed-9901-0242ac1c000c\"]);\n",
              "//# sourceURL=js_4f585fa14b"
            ]
          },
          "metadata": {}
        },
        {
          "output_type": "display_data",
          "data": {
            "text/plain": [
              "<IPython.core.display.Javascript object>"
            ],
            "application/javascript": [
              "window[\"1025ec20-ba19-11ed-9901-0242ac1c000c\"] = google.colab.output.getActiveOutputArea();\n",
              "//# sourceURL=js_e8b78ca430"
            ]
          },
          "metadata": {}
        },
        {
          "output_type": "display_data",
          "data": {
            "text/plain": [
              "<IPython.core.display.Javascript object>"
            ],
            "application/javascript": [
              "window[\"10265f70-ba19-11ed-9901-0242ac1c000c\"] = document.querySelector(\"#id22-0-0\");\n",
              "//# sourceURL=js_616434f4c9"
            ]
          },
          "metadata": {}
        },
        {
          "output_type": "display_data",
          "data": {
            "text/plain": [
              "<IPython.core.display.Javascript object>"
            ],
            "application/javascript": [
              "window[\"1026d518-ba19-11ed-9901-0242ac1c000c\"] = google.colab.output.setActiveOutputArea(window[\"10265f70-ba19-11ed-9901-0242ac1c000c\"]);\n",
              "//# sourceURL=js_90ae851172"
            ]
          },
          "metadata": {}
        },
        {
          "output_type": "display_data",
          "data": {
            "text/plain": [
              "<IPython.core.display.Javascript object>"
            ],
            "application/javascript": [
              "window[\"1048c646-ba19-11ed-9901-0242ac1c000c\"] = google.colab.output.setActiveOutputArea(window[\"1025ec20-ba19-11ed-9901-0242ac1c000c\"]);\n",
              "//# sourceURL=js_827ce55634"
            ]
          },
          "metadata": {}
        },
        {
          "output_type": "display_data",
          "data": {
            "text/plain": [
              "<IPython.core.display.Javascript object>"
            ],
            "application/javascript": [
              "window[\"10e4479c-ba19-11ed-9901-0242ac1c000c\"] = google.colab.output.getActiveOutputArea();\n",
              "//# sourceURL=js_a6f0e8349d"
            ]
          },
          "metadata": {}
        },
        {
          "output_type": "display_data",
          "data": {
            "text/plain": [
              "<IPython.core.display.Javascript object>"
            ],
            "application/javascript": [
              "window[\"10e52838-ba19-11ed-9901-0242ac1c000c\"] = document.querySelector(\"#id22-0-0\");\n",
              "//# sourceURL=js_98bb7f4684"
            ]
          },
          "metadata": {}
        },
        {
          "output_type": "display_data",
          "data": {
            "text/plain": [
              "<IPython.core.display.Javascript object>"
            ],
            "application/javascript": [
              "window[\"10e5970a-ba19-11ed-9901-0242ac1c000c\"] = google.colab.output.setActiveOutputArea(window[\"10e52838-ba19-11ed-9901-0242ac1c000c\"]);\n",
              "//# sourceURL=js_61d816515e"
            ]
          },
          "metadata": {}
        },
        {
          "output_type": "stream",
          "name": "stdout",
          "text": [
            "Reward ->  0\n"
          ]
        },
        {
          "output_type": "display_data",
          "data": {
            "text/plain": [
              "<Figure size 432x288 with 1 Axes>"
            ],
            "image/png": "[encoded data removed]"
          },
          "metadata": {
            "needs_background": "light"
          }
        },
        {
          "output_type": "display_data",
          "data": {
            "text/plain": [
              "<IPython.core.display.Javascript object>"
            ],
            "application/javascript": [
              "window[\"11064bf8-ba19-11ed-9901-0242ac1c000c\"] = google.colab.output.setActiveOutputArea(window[\"10e4479c-ba19-11ed-9901-0242ac1c000c\"]);\n",
              "//# sourceURL=js_79e33183c1"
            ]
          },
          "metadata": {}
        }
      ]
    },
    {
      "cell_type": "markdown",
      "source": [
        "************************************************************************\n",
        "Stochastic Environment: "
      ],
      "metadata": {
        "id": "HsP4eebNZnk5"
      }
    },
    {
      "cell_type": "code",
      "source": [
        "env = GridEnv(env_type = \"stochastic\")\n",
        "agent = RandomAgent(env)\n",
        "\n",
        "obs, info = env.reset()\n",
        "terminated, truncated = False, False\n",
        "\n",
        "output_grid = widgets.Grid(1, 1)\n",
        "with output_grid.output_to(0, 0):\n",
        "  env.render()\n",
        "\n",
        "while not terminated:\n",
        "  action = agent.step(obs)\n",
        "  #action = input()\n",
        "  observation, reward, terminated, truncated, info, agent_pos = env.step(action)\n",
        "  with output_grid.output_to(0, 0):\n",
        "    output_grid.clear_cell()\n",
        "    plt.imshow(grid)\n",
        "    env.render()\n",
        "  time.sleep(1)"
      ],
      "metadata": {
        "id": "Xm6_yTZFDoO9",
        "colab": {
          "base_uri": "https://localhost:8080/",
          "height": 287
        },
        "outputId": "8f492d42-3074-49e7-cd4a-121224f2f802"
      },
      "execution_count": 212,
      "outputs": [
        {
          "output_type": "display_data",
          "data": {
            "text/plain": [
              "<IPython.core.display.HTML object>"
            ],
            "text/html": [
              "<style>\n",
              "       table#id24, #id24 > tbody > tr > th, #id24 > tbody > tr > td {\n",
              "         border: 1px solid lightgray;\n",
              "         border-collapse:collapse;\n",
              "         \n",
              "        }</style>"
            ]
          },
          "metadata": {}
        },
        {
          "output_type": "display_data",
          "data": {
            "text/plain": [
              "<IPython.core.display.HTML object>"
            ],
            "text/html": [
              "<table id=id24><tr><td id=id24-0-0></td></tr></table>"
            ]
          },
          "metadata": {}
        },
        {
          "output_type": "display_data",
          "data": {
            "text/plain": [
              "<IPython.core.display.Javascript object>"
            ],
            "application/javascript": [
              "window[\"12ff6476-ba19-11ed-9901-0242ac1c000c\"] = google.colab.output.getActiveOutputArea();\n",
              "//# sourceURL=js_e9c2f465d1"
            ]
          },
          "metadata": {}
        },
        {
          "output_type": "display_data",
          "data": {
            "text/plain": [
              "<IPython.core.display.Javascript object>"
            ],
            "application/javascript": [
              "window[\"12ffe716-ba19-11ed-9901-0242ac1c000c\"] = document.querySelector(\"#id24-0-0\");\n",
              "//# sourceURL=js_b654cdbcaa"
            ]
          },
          "metadata": {}
        },
        {
          "output_type": "display_data",
          "data": {
            "text/plain": [
              "<IPython.core.display.Javascript object>"
            ],
            "application/javascript": [
              "window[\"13007c08-ba19-11ed-9901-0242ac1c000c\"] = google.colab.output.setActiveOutputArea(window[\"12ffe716-ba19-11ed-9901-0242ac1c000c\"]);\n",
              "//# sourceURL=js_970845455e"
            ]
          },
          "metadata": {}
        },
        {
          "output_type": "display_data",
          "data": {
            "text/plain": [
              "<IPython.core.display.Javascript object>"
            ],
            "application/javascript": [
              "window[\"13392526-ba19-11ed-9901-0242ac1c000c\"] = google.colab.output.setActiveOutputArea(window[\"12ff6476-ba19-11ed-9901-0242ac1c000c\"]);\n",
              "//# sourceURL=js_02c437436a"
            ]
          },
          "metadata": {}
        },
        {
          "output_type": "display_data",
          "data": {
            "text/plain": [
              "<IPython.core.display.Javascript object>"
            ],
            "application/javascript": [
              "window[\"133c68c6-ba19-11ed-9901-0242ac1c000c\"] = google.colab.output.getActiveOutputArea();\n",
              "//# sourceURL=js_fab7a7871a"
            ]
          },
          "metadata": {}
        },
        {
          "output_type": "display_data",
          "data": {
            "text/plain": [
              "<IPython.core.display.Javascript object>"
            ],
            "application/javascript": [
              "window[\"133d2928-ba19-11ed-9901-0242ac1c000c\"] = document.querySelector(\"#id24-0-0\");\n",
              "//# sourceURL=js_2579126083"
            ]
          },
          "metadata": {}
        },
        {
          "output_type": "display_data",
          "data": {
            "text/plain": [
              "<IPython.core.display.Javascript object>"
            ],
            "application/javascript": [
              "window[\"133d90de-ba19-11ed-9901-0242ac1c000c\"] = google.colab.output.setActiveOutputArea(window[\"133d2928-ba19-11ed-9901-0242ac1c000c\"]);\n",
              "//# sourceURL=js_beda10fd98"
            ]
          },
          "metadata": {}
        },
        {
          "output_type": "display_data",
          "data": {
            "text/plain": [
              "<IPython.core.display.Javascript object>"
            ],
            "application/javascript": [
              "window[\"135e0ee0-ba19-11ed-9901-0242ac1c000c\"] = google.colab.output.setActiveOutputArea(window[\"133c68c6-ba19-11ed-9901-0242ac1c000c\"]);\n",
              "//# sourceURL=js_e8370d92a3"
            ]
          },
          "metadata": {}
        },
        {
          "output_type": "display_data",
          "data": {
            "text/plain": [
              "<IPython.core.display.Javascript object>"
            ],
            "application/javascript": [
              "window[\"13f93fc8-ba19-11ed-9901-0242ac1c000c\"] = google.colab.output.getActiveOutputArea();\n",
              "//# sourceURL=js_0f2a03f8e0"
            ]
          },
          "metadata": {}
        },
        {
          "output_type": "display_data",
          "data": {
            "text/plain": [
              "<IPython.core.display.Javascript object>"
            ],
            "application/javascript": [
              "window[\"13f9a792-ba19-11ed-9901-0242ac1c000c\"] = document.querySelector(\"#id24-0-0\");\n",
              "//# sourceURL=js_21cf8610f5"
            ]
          },
          "metadata": {}
        },
        {
          "output_type": "display_data",
          "data": {
            "text/plain": [
              "<IPython.core.display.Javascript object>"
            ],
            "application/javascript": [
              "window[\"13fa30ae-ba19-11ed-9901-0242ac1c000c\"] = google.colab.output.setActiveOutputArea(window[\"13f9a792-ba19-11ed-9901-0242ac1c000c\"]);\n",
              "//# sourceURL=js_3527eb379c"
            ]
          },
          "metadata": {}
        },
        {
          "output_type": "display_data",
          "data": {
            "text/plain": [
              "<IPython.core.display.Javascript object>"
            ],
            "application/javascript": [
              "window[\"141bb5d0-ba19-11ed-9901-0242ac1c000c\"] = google.colab.output.setActiveOutputArea(window[\"13f93fc8-ba19-11ed-9901-0242ac1c000c\"]);\n",
              "//# sourceURL=js_d81883e95e"
            ]
          },
          "metadata": {}
        },
        {
          "output_type": "display_data",
          "data": {
            "text/plain": [
              "<IPython.core.display.Javascript object>"
            ],
            "application/javascript": [
              "window[\"14b70cce-ba19-11ed-9901-0242ac1c000c\"] = google.colab.output.getActiveOutputArea();\n",
              "//# sourceURL=js_29f12d9a34"
            ]
          },
          "metadata": {}
        },
        {
          "output_type": "display_data",
          "data": {
            "text/plain": [
              "<IPython.core.display.Javascript object>"
            ],
            "application/javascript": [
              "window[\"14b7dd3e-ba19-11ed-9901-0242ac1c000c\"] = document.querySelector(\"#id24-0-0\");\n",
              "//# sourceURL=js_5385cd7818"
            ]
          },
          "metadata": {}
        },
        {
          "output_type": "display_data",
          "data": {
            "text/plain": [
              "<IPython.core.display.Javascript object>"
            ],
            "application/javascript": [
              "window[\"14b8a746-ba19-11ed-9901-0242ac1c000c\"] = google.colab.output.setActiveOutputArea(window[\"14b7dd3e-ba19-11ed-9901-0242ac1c000c\"]);\n",
              "//# sourceURL=js_0f4f770fdf"
            ]
          },
          "metadata": {}
        },
        {
          "output_type": "display_data",
          "data": {
            "text/plain": [
              "<IPython.core.display.Javascript object>"
            ],
            "application/javascript": [
              "window[\"14e5076e-ba19-11ed-9901-0242ac1c000c\"] = google.colab.output.setActiveOutputArea(window[\"14b70cce-ba19-11ed-9901-0242ac1c000c\"]);\n",
              "//# sourceURL=js_dc98ab3b39"
            ]
          },
          "metadata": {}
        },
        {
          "output_type": "display_data",
          "data": {
            "text/plain": [
              "<IPython.core.display.Javascript object>"
            ],
            "application/javascript": [
              "window[\"1580c668-ba19-11ed-9901-0242ac1c000c\"] = google.colab.output.getActiveOutputArea();\n",
              "//# sourceURL=js_600f82b662"
            ]
          },
          "metadata": {}
        },
        {
          "output_type": "display_data",
          "data": {
            "text/plain": [
              "<IPython.core.display.Javascript object>"
            ],
            "application/javascript": [
              "window[\"158136c0-ba19-11ed-9901-0242ac1c000c\"] = document.querySelector(\"#id24-0-0\");\n",
              "//# sourceURL=js_5cef5f8eb7"
            ]
          },
          "metadata": {}
        },
        {
          "output_type": "display_data",
          "data": {
            "text/plain": [
              "<IPython.core.display.Javascript object>"
            ],
            "application/javascript": [
              "window[\"15819df4-ba19-11ed-9901-0242ac1c000c\"] = google.colab.output.setActiveOutputArea(window[\"158136c0-ba19-11ed-9901-0242ac1c000c\"]);\n",
              "//# sourceURL=js_a78b61ee29"
            ]
          },
          "metadata": {}
        },
        {
          "output_type": "display_data",
          "data": {
            "text/plain": [
              "<IPython.core.display.Javascript object>"
            ],
            "application/javascript": [
              "window[\"15a51fa4-ba19-11ed-9901-0242ac1c000c\"] = google.colab.output.setActiveOutputArea(window[\"1580c668-ba19-11ed-9901-0242ac1c000c\"]);\n",
              "//# sourceURL=js_2161dd2cf6"
            ]
          },
          "metadata": {}
        },
        {
          "output_type": "display_data",
          "data": {
            "text/plain": [
              "<IPython.core.display.Javascript object>"
            ],
            "application/javascript": [
              "window[\"1640a53c-ba19-11ed-9901-0242ac1c000c\"] = google.colab.output.getActiveOutputArea();\n",
              "//# sourceURL=js_dcce539aad"
            ]
          },
          "metadata": {}
        },
        {
          "output_type": "display_data",
          "data": {
            "text/plain": [
              "<IPython.core.display.Javascript object>"
            ],
            "application/javascript": [
              "window[\"1641176a-ba19-11ed-9901-0242ac1c000c\"] = document.querySelector(\"#id24-0-0\");\n",
              "//# sourceURL=js_6a3b22bfbc"
            ]
          },
          "metadata": {}
        },
        {
          "output_type": "display_data",
          "data": {
            "text/plain": [
              "<IPython.core.display.Javascript object>"
            ],
            "application/javascript": [
              "window[\"1641c804-ba19-11ed-9901-0242ac1c000c\"] = google.colab.output.setActiveOutputArea(window[\"1641176a-ba19-11ed-9901-0242ac1c000c\"]);\n",
              "//# sourceURL=js_5029eecfbc"
            ]
          },
          "metadata": {}
        },
        {
          "output_type": "display_data",
          "data": {
            "text/plain": [
              "<IPython.core.display.Javascript object>"
            ],
            "application/javascript": [
              "window[\"16626028-ba19-11ed-9901-0242ac1c000c\"] = google.colab.output.setActiveOutputArea(window[\"1640a53c-ba19-11ed-9901-0242ac1c000c\"]);\n",
              "//# sourceURL=js_d43ece0a31"
            ]
          },
          "metadata": {}
        },
        {
          "output_type": "display_data",
          "data": {
            "text/plain": [
              "<IPython.core.display.Javascript object>"
            ],
            "application/javascript": [
              "window[\"16fdc180-ba19-11ed-9901-0242ac1c000c\"] = google.colab.output.getActiveOutputArea();\n",
              "//# sourceURL=js_6951dfb930"
            ]
          },
          "metadata": {}
        },
        {
          "output_type": "display_data",
          "data": {
            "text/plain": [
              "<IPython.core.display.Javascript object>"
            ],
            "application/javascript": [
              "window[\"16fe314c-ba19-11ed-9901-0242ac1c000c\"] = document.querySelector(\"#id24-0-0\");\n",
              "//# sourceURL=js_3f077bcee8"
            ]
          },
          "metadata": {}
        },
        {
          "output_type": "display_data",
          "data": {
            "text/plain": [
              "<IPython.core.display.Javascript object>"
            ],
            "application/javascript": [
              "window[\"16feac44-ba19-11ed-9901-0242ac1c000c\"] = google.colab.output.setActiveOutputArea(window[\"16fe314c-ba19-11ed-9901-0242ac1c000c\"]);\n",
              "//# sourceURL=js_b2668c7497"
            ]
          },
          "metadata": {}
        },
        {
          "output_type": "display_data",
          "data": {
            "text/plain": [
              "<IPython.core.display.Javascript object>"
            ],
            "application/javascript": [
              "window[\"171fc640-ba19-11ed-9901-0242ac1c000c\"] = google.colab.output.setActiveOutputArea(window[\"16fdc180-ba19-11ed-9901-0242ac1c000c\"]);\n",
              "//# sourceURL=js_7ecc197df9"
            ]
          },
          "metadata": {}
        },
        {
          "output_type": "display_data",
          "data": {
            "text/plain": [
              "<IPython.core.display.Javascript object>"
            ],
            "application/javascript": [
              "window[\"17bb06d2-ba19-11ed-9901-0242ac1c000c\"] = google.colab.output.getActiveOutputArea();\n",
              "//# sourceURL=js_956d34736c"
            ]
          },
          "metadata": {}
        },
        {
          "output_type": "display_data",
          "data": {
            "text/plain": [
              "<IPython.core.display.Javascript object>"
            ],
            "application/javascript": [
              "window[\"17bb8a8a-ba19-11ed-9901-0242ac1c000c\"] = document.querySelector(\"#id24-0-0\");\n",
              "//# sourceURL=js_c4d8e72ca0"
            ]
          },
          "metadata": {}
        },
        {
          "output_type": "display_data",
          "data": {
            "text/plain": [
              "<IPython.core.display.Javascript object>"
            ],
            "application/javascript": [
              "window[\"17bc08c0-ba19-11ed-9901-0242ac1c000c\"] = google.colab.output.setActiveOutputArea(window[\"17bb8a8a-ba19-11ed-9901-0242ac1c000c\"]);\n",
              "//# sourceURL=js_60437c7ab4"
            ]
          },
          "metadata": {}
        },
        {
          "output_type": "display_data",
          "data": {
            "text/plain": [
              "<IPython.core.display.Javascript object>"
            ],
            "application/javascript": [
              "window[\"17dbe5f0-ba19-11ed-9901-0242ac1c000c\"] = google.colab.output.setActiveOutputArea(window[\"17bb06d2-ba19-11ed-9901-0242ac1c000c\"]);\n",
              "//# sourceURL=js_824f9e140f"
            ]
          },
          "metadata": {}
        },
        {
          "output_type": "display_data",
          "data": {
            "text/plain": [
              "<IPython.core.display.Javascript object>"
            ],
            "application/javascript": [
              "window[\"1876fbf8-ba19-11ed-9901-0242ac1c000c\"] = google.colab.output.getActiveOutputArea();\n",
              "//# sourceURL=js_a957f467f9"
            ]
          },
          "metadata": {}
        },
        {
          "output_type": "display_data",
          "data": {
            "text/plain": [
              "<IPython.core.display.Javascript object>"
            ],
            "application/javascript": [
              "window[\"18776c14-ba19-11ed-9901-0242ac1c000c\"] = document.querySelector(\"#id24-0-0\");\n",
              "//# sourceURL=js_930f624b25"
            ]
          },
          "metadata": {}
        },
        {
          "output_type": "display_data",
          "data": {
            "text/plain": [
              "<IPython.core.display.Javascript object>"
            ],
            "application/javascript": [
              "window[\"1877d622-ba19-11ed-9901-0242ac1c000c\"] = google.colab.output.setActiveOutputArea(window[\"18776c14-ba19-11ed-9901-0242ac1c000c\"]);\n",
              "//# sourceURL=js_41404da4f6"
            ]
          },
          "metadata": {}
        },
        {
          "output_type": "display_data",
          "data": {
            "text/plain": [
              "<IPython.core.display.Javascript object>"
            ],
            "application/javascript": [
              "window[\"1898708a-ba19-11ed-9901-0242ac1c000c\"] = google.colab.output.setActiveOutputArea(window[\"1876fbf8-ba19-11ed-9901-0242ac1c000c\"]);\n",
              "//# sourceURL=js_4e12138123"
            ]
          },
          "metadata": {}
        },
        {
          "output_type": "display_data",
          "data": {
            "text/plain": [
              "<IPython.core.display.Javascript object>"
            ],
            "application/javascript": [
              "window[\"1933f0aa-ba19-11ed-9901-0242ac1c000c\"] = google.colab.output.getActiveOutputArea();\n",
              "//# sourceURL=js_03f4ad4991"
            ]
          },
          "metadata": {}
        },
        {
          "output_type": "display_data",
          "data": {
            "text/plain": [
              "<IPython.core.display.Javascript object>"
            ],
            "application/javascript": [
              "window[\"19345b26-ba19-11ed-9901-0242ac1c000c\"] = document.querySelector(\"#id24-0-0\");\n",
              "//# sourceURL=js_fd8b81443f"
            ]
          },
          "metadata": {}
        },
        {
          "output_type": "display_data",
          "data": {
            "text/plain": [
              "<IPython.core.display.Javascript object>"
            ],
            "application/javascript": [
              "window[\"1934fd10-ba19-11ed-9901-0242ac1c000c\"] = google.colab.output.setActiveOutputArea(window[\"19345b26-ba19-11ed-9901-0242ac1c000c\"]);\n",
              "//# sourceURL=js_2005232e6b"
            ]
          },
          "metadata": {}
        },
        {
          "output_type": "display_data",
          "data": {
            "text/plain": [
              "<IPython.core.display.Javascript object>"
            ],
            "application/javascript": [
              "window[\"1957d772-ba19-11ed-9901-0242ac1c000c\"] = google.colab.output.setActiveOutputArea(window[\"1933f0aa-ba19-11ed-9901-0242ac1c000c\"]);\n",
              "//# sourceURL=js_2783f54846"
            ]
          },
          "metadata": {}
        },
        {
          "output_type": "display_data",
          "data": {
            "text/plain": [
              "<IPython.core.display.Javascript object>"
            ],
            "application/javascript": [
              "window[\"19f2db00-ba19-11ed-9901-0242ac1c000c\"] = google.colab.output.getActiveOutputArea();\n",
              "//# sourceURL=js_34b7bb9614"
            ]
          },
          "metadata": {}
        },
        {
          "output_type": "display_data",
          "data": {
            "text/plain": [
              "<IPython.core.display.Javascript object>"
            ],
            "application/javascript": [
              "window[\"19f35c56-ba19-11ed-9901-0242ac1c000c\"] = document.querySelector(\"#id24-0-0\");\n",
              "//# sourceURL=js_e5f0e7a339"
            ]
          },
          "metadata": {}
        },
        {
          "output_type": "display_data",
          "data": {
            "text/plain": [
              "<IPython.core.display.Javascript object>"
            ],
            "application/javascript": [
              "window[\"19f3cbb4-ba19-11ed-9901-0242ac1c000c\"] = google.colab.output.setActiveOutputArea(window[\"19f35c56-ba19-11ed-9901-0242ac1c000c\"]);\n",
              "//# sourceURL=js_2c5d0d6cb1"
            ]
          },
          "metadata": {}
        },
        {
          "output_type": "display_data",
          "data": {
            "text/plain": [
              "<IPython.core.display.Javascript object>"
            ],
            "application/javascript": [
              "window[\"1a147152-ba19-11ed-9901-0242ac1c000c\"] = google.colab.output.setActiveOutputArea(window[\"19f2db00-ba19-11ed-9901-0242ac1c000c\"]);\n",
              "//# sourceURL=js_7ba214cf4a"
            ]
          },
          "metadata": {}
        },
        {
          "output_type": "display_data",
          "data": {
            "text/plain": [
              "<IPython.core.display.Javascript object>"
            ],
            "application/javascript": [
              "window[\"1ab0064e-ba19-11ed-9901-0242ac1c000c\"] = google.colab.output.getActiveOutputArea();\n",
              "//# sourceURL=js_b5f481ae08"
            ]
          },
          "metadata": {}
        },
        {
          "output_type": "display_data",
          "data": {
            "text/plain": [
              "<IPython.core.display.Javascript object>"
            ],
            "application/javascript": [
              "window[\"1ab0764c-ba19-11ed-9901-0242ac1c000c\"] = document.querySelector(\"#id24-0-0\");\n",
              "//# sourceURL=js_d7031e7ecb"
            ]
          },
          "metadata": {}
        },
        {
          "output_type": "display_data",
          "data": {
            "text/plain": [
              "<IPython.core.display.Javascript object>"
            ],
            "application/javascript": [
              "window[\"1ab0e438-ba19-11ed-9901-0242ac1c000c\"] = google.colab.output.setActiveOutputArea(window[\"1ab0764c-ba19-11ed-9901-0242ac1c000c\"]);\n",
              "//# sourceURL=js_4fbded2c09"
            ]
          },
          "metadata": {}
        },
        {
          "output_type": "display_data",
          "data": {
            "text/plain": [
              "<IPython.core.display.Javascript object>"
            ],
            "application/javascript": [
              "window[\"1ad146d8-ba19-11ed-9901-0242ac1c000c\"] = google.colab.output.setActiveOutputArea(window[\"1ab0064e-ba19-11ed-9901-0242ac1c000c\"]);\n",
              "//# sourceURL=js_5463c82b24"
            ]
          },
          "metadata": {}
        },
        {
          "output_type": "display_data",
          "data": {
            "text/plain": [
              "<IPython.core.display.Javascript object>"
            ],
            "application/javascript": [
              "window[\"1b6cd274-ba19-11ed-9901-0242ac1c000c\"] = google.colab.output.getActiveOutputArea();\n",
              "//# sourceURL=js_905886283e"
            ]
          },
          "metadata": {}
        },
        {
          "output_type": "display_data",
          "data": {
            "text/plain": [
              "<IPython.core.display.Javascript object>"
            ],
            "application/javascript": [
              "window[\"1b6d771a-ba19-11ed-9901-0242ac1c000c\"] = document.querySelector(\"#id24-0-0\");\n",
              "//# sourceURL=js_26aec52fe5"
            ]
          },
          "metadata": {}
        },
        {
          "output_type": "display_data",
          "data": {
            "text/plain": [
              "<IPython.core.display.Javascript object>"
            ],
            "application/javascript": [
              "window[\"1b6e1ada-ba19-11ed-9901-0242ac1c000c\"] = google.colab.output.setActiveOutputArea(window[\"1b6d771a-ba19-11ed-9901-0242ac1c000c\"]);\n",
              "//# sourceURL=js_dba7753641"
            ]
          },
          "metadata": {}
        },
        {
          "output_type": "display_data",
          "data": {
            "text/plain": [
              "<IPython.core.display.Javascript object>"
            ],
            "application/javascript": [
              "window[\"1ba08ace-ba19-11ed-9901-0242ac1c000c\"] = google.colab.output.setActiveOutputArea(window[\"1b6cd274-ba19-11ed-9901-0242ac1c000c\"]);\n",
              "//# sourceURL=js_c6323e772d"
            ]
          },
          "metadata": {}
        },
        {
          "output_type": "display_data",
          "data": {
            "text/plain": [
              "<IPython.core.display.Javascript object>"
            ],
            "application/javascript": [
              "window[\"1c3be172-ba19-11ed-9901-0242ac1c000c\"] = google.colab.output.getActiveOutputArea();\n",
              "//# sourceURL=js_e2ae867b0b"
            ]
          },
          "metadata": {}
        },
        {
          "output_type": "display_data",
          "data": {
            "text/plain": [
              "<IPython.core.display.Javascript object>"
            ],
            "application/javascript": [
              "window[\"1c3cd140-ba19-11ed-9901-0242ac1c000c\"] = document.querySelector(\"#id24-0-0\");\n",
              "//# sourceURL=js_647f6ed806"
            ]
          },
          "metadata": {}
        },
        {
          "output_type": "display_data",
          "data": {
            "text/plain": [
              "<IPython.core.display.Javascript object>"
            ],
            "application/javascript": [
              "window[\"1c3d78a2-ba19-11ed-9901-0242ac1c000c\"] = google.colab.output.setActiveOutputArea(window[\"1c3cd140-ba19-11ed-9901-0242ac1c000c\"]);\n",
              "//# sourceURL=js_c8a57cad95"
            ]
          },
          "metadata": {}
        },
        {
          "output_type": "display_data",
          "data": {
            "text/plain": [
              "<IPython.core.display.Javascript object>"
            ],
            "application/javascript": [
              "window[\"1c743054-ba19-11ed-9901-0242ac1c000c\"] = google.colab.output.setActiveOutputArea(window[\"1c3be172-ba19-11ed-9901-0242ac1c000c\"]);\n",
              "//# sourceURL=js_f59f72d554"
            ]
          },
          "metadata": {}
        },
        {
          "output_type": "display_data",
          "data": {
            "text/plain": [
              "<IPython.core.display.Javascript object>"
            ],
            "application/javascript": [
              "window[\"1d100ad8-ba19-11ed-9901-0242ac1c000c\"] = google.colab.output.getActiveOutputArea();\n",
              "//# sourceURL=js_d90902173a"
            ]
          },
          "metadata": {}
        },
        {
          "output_type": "display_data",
          "data": {
            "text/plain": [
              "<IPython.core.display.Javascript object>"
            ],
            "application/javascript": [
              "window[\"1d1094bc-ba19-11ed-9901-0242ac1c000c\"] = document.querySelector(\"#id24-0-0\");\n",
              "//# sourceURL=js_7b34cd5f52"
            ]
          },
          "metadata": {}
        },
        {
          "output_type": "display_data",
          "data": {
            "text/plain": [
              "<IPython.core.display.Javascript object>"
            ],
            "application/javascript": [
              "window[\"1d111c8e-ba19-11ed-9901-0242ac1c000c\"] = google.colab.output.setActiveOutputArea(window[\"1d1094bc-ba19-11ed-9901-0242ac1c000c\"]);\n",
              "//# sourceURL=js_f451241c12"
            ]
          },
          "metadata": {}
        },
        {
          "output_type": "display_data",
          "data": {
            "text/plain": [
              "<IPython.core.display.Javascript object>"
            ],
            "application/javascript": [
              "window[\"1d3141da-ba19-11ed-9901-0242ac1c000c\"] = google.colab.output.setActiveOutputArea(window[\"1d100ad8-ba19-11ed-9901-0242ac1c000c\"]);\n",
              "//# sourceURL=js_a275ba81e5"
            ]
          },
          "metadata": {}
        },
        {
          "output_type": "display_data",
          "data": {
            "text/plain": [
              "<IPython.core.display.Javascript object>"
            ],
            "application/javascript": [
              "window[\"1dcd98aa-ba19-11ed-9901-0242ac1c000c\"] = google.colab.output.getActiveOutputArea();\n",
              "//# sourceURL=js_37c3936071"
            ]
          },
          "metadata": {}
        },
        {
          "output_type": "display_data",
          "data": {
            "text/plain": [
              "<IPython.core.display.Javascript object>"
            ],
            "application/javascript": [
              "window[\"1dce045c-ba19-11ed-9901-0242ac1c000c\"] = document.querySelector(\"#id24-0-0\");\n",
              "//# sourceURL=js_45549bd042"
            ]
          },
          "metadata": {}
        },
        {
          "output_type": "display_data",
          "data": {
            "text/plain": [
              "<IPython.core.display.Javascript object>"
            ],
            "application/javascript": [
              "window[\"1dce6c08-ba19-11ed-9901-0242ac1c000c\"] = google.colab.output.setActiveOutputArea(window[\"1dce045c-ba19-11ed-9901-0242ac1c000c\"]);\n",
              "//# sourceURL=js_ed9b049139"
            ]
          },
          "metadata": {}
        },
        {
          "output_type": "stream",
          "name": "stdout",
          "text": [
            "Reward ->  0\n"
          ]
        },
        {
          "output_type": "display_data",
          "data": {
            "text/plain": [
              "<Figure size 432x288 with 1 Axes>"
            ],
            "image/png": "[encoded data removed]"
          },
          "metadata": {
            "needs_background": "light"
          }
        },
        {
          "output_type": "display_data",
          "data": {
            "text/plain": [
              "<IPython.core.display.Javascript object>"
            ],
            "application/javascript": [
              "window[\"1defe392-ba19-11ed-9901-0242ac1c000c\"] = google.colab.output.setActiveOutputArea(window[\"1dcd98aa-ba19-11ed-9901-0242ac1c000c\"]);\n",
              "//# sourceURL=js_c099ab5717"
            ]
          },
          "metadata": {}
        }
      ]
    },
    {
      "cell_type": "markdown",
      "source": [
        "---\n",
        "# **Part - 2**\n",
        "---"
      ],
      "metadata": {
        "id": "y1L7uCRZ1KG-"
      }
    },
    {
      "cell_type": "markdown",
      "source": [
        "## **2.1 Q - Learning**"
      ],
      "metadata": {
        "id": "dnf_4hPZ5cQo"
      }
    },
    {
      "cell_type": "markdown",
      "source": [
        "### 2.1.1 Q-Learning for Deterministic Environment"
      ],
      "metadata": {
        "id": "Ne9h1cG_QyAL"
      }
    },
    {
      "cell_type": "code",
      "source": [
        "import random\n",
        "\n",
        "env = GridEnv(env_type = \"deterministic\")\n",
        "agent = RandomAgent(env)\n",
        "\n",
        "#Hyperparameters\n",
        "alpha = 0.15\n",
        "gamma = 0.93\n",
        "epsilon = 1.0\n",
        "epsilon_val = []\n",
        "reward_val = []\n",
        "num_episodes = 500\n",
        "\n",
        "#Q-Table\n",
        "q_table = np.random.rand(25, 4)\n",
        "q_table = q_table.astype(int)\n",
        "\n",
        "#data arrays\n",
        "all_penalties_q_det = []\n",
        "avg_reward_per_ep_q_det = []\n",
        "\n",
        "#running for 500 episodes\n",
        "for episode in range(num_episodes):\n",
        "  #resetting the state \n",
        "  state, agent_pos = env.reset()\n",
        "  penalties = 0\n",
        "  new_penalties = 0\n",
        "  new_reward = 0\n",
        "  avg_reward = 0\n",
        "  index = 0\n",
        "  #getting the index value of the agent's state\n",
        "  state_to_list = state.tolist()\n",
        "  if 1 in state_to_list:\n",
        "    index = state_to_list.index(1)\n",
        "  # print(index)\n",
        "  for timestep in range(15):\n",
        "    #Choosing an action based on e-greedy policy\n",
        "    if np.random.rand() < epsilon:\n",
        "      action = np.random.choice(env.action_space.n)\n",
        "    else:\n",
        "      action = np.argmax(q_table[index])\n",
        "\n",
        "    # action = np.clip(action, 0, 3)\n",
        "    observation, reward, terminated, truncated, info, new_agent_pos = env.step(action)\n",
        "\n",
        "    if reward == -5 or reward == -6 or reward == -2:\n",
        "      penalties += 1\n",
        "    \n",
        "    #getting the index value of the agent's state\n",
        "    new_state_to_list = observation.tolist()\n",
        "    if 1 in new_state_to_list:\n",
        "      index2 = new_state_to_list.index(1)\n",
        "\n",
        "    q_table[index, action] = q_table[index, action] + alpha * (reward + gamma * np.argmax(q_table[index2]) - q_table[index, action])\n",
        "\n",
        "    new_penalties += penalties\n",
        "    new_reward += reward\n",
        "    agent_pos = new_agent_pos\n",
        "\n",
        "  avg_reward = new_reward / 15\n",
        "  avg_reward_per_ep_q_det.append(avg_reward)\n",
        "\n",
        "  #penalties\n",
        "  all_penalties_q_det.append(new_penalties)\n",
        "  #rewards\n",
        "  reward_val.append(new_reward)\n",
        "  #epsilon\n",
        "  epsilon *= 0.9908\n",
        "  epsilon_val.append(epsilon)\n",
        "\n",
        "# print(\"Q-Table : \", q_table)\n",
        "# print(epsilon_val)\n"
      ],
      "metadata": {
        "id": "Ro6Mvhxxjdbs"
      },
      "execution_count": 294,
      "outputs": []
    },
    {
      "cell_type": "markdown",
      "source": [
        "**Epsilon-Decay Graph**"
      ],
      "metadata": {
        "id": "B_VWFibmR5lo"
      }
    },
    {
      "cell_type": "code",
      "source": [
        "plt.figure(figsize=(5,5))\n",
        "plt.plot(epsilon_val, linewidth=4)\n",
        "plt.xlabel('Episode', fontsize=16)\n",
        "plt.ylabel('Epsilon Values', fontsize=16)\n",
        "plt.title('Epsilon Decay (Deterministic)', fontsize=20)\n",
        "plt.xticks(fontsize=16)\n",
        "plt.yticks(fontsize=16)\n",
        "plt.ylim(ymin=0, ymax=1)\n",
        "plt.xlim(xmin=0, xmax=500)\n",
        "plt.grid()\n",
        "plt.show()"
      ],
      "metadata": {
        "colab": {
          "base_uri": "https://localhost:8080/",
          "height": 365
        },
        "id": "QtTsDiPbSDMF",
        "outputId": "74c604c9-c7de-4656-9ca9-0d00569b3c41"
      },
      "execution_count": 214,
      "outputs": [
        {
          "output_type": "display_data",
          "data": {
            "text/plain": [
              "<Figure size 360x360 with 1 Axes>"
            ],
            "image/png": "[encoded data removed]"
          },
          "metadata": {
            "needs_background": "light"
          }
        }
      ]
    },
    {
      "cell_type": "markdown",
      "source": [
        "**Total Rewards Per Episode**"
      ],
      "metadata": {
        "id": "iADJoBJPSV9m"
      }
    },
    {
      "cell_type": "code",
      "source": [
        "print(max(reward_val))\n",
        "plt.figure(figsize=(8,8))\n",
        "plt.plot(reward_val, 'ro')\n",
        "plt.xlabel('Episode', fontsize=18)\n",
        "plt.ylabel('Reward Value', fontsize=18)\n",
        "plt.title('Rewards Per Episode (Deterministic)', fontsize=20)\n",
        "plt.xticks(fontsize=16)\n",
        "plt.yticks([-40, -20, 0, 20, 40, 60, 80, 100, 120, 140, 160], fontsize=16)\n",
        "plt.ylim(ymin=-50, ymax=160)\n",
        "plt.xlim(xmin=0, xmax=500)\n",
        "plt.grid()\n",
        "plt.show()"
      ],
      "metadata": {
        "colab": {
          "base_uri": "https://localhost:8080/",
          "height": 549
        },
        "id": "wsuj3Ll5Sdy7",
        "outputId": "18c97e99-ec18-4f9c-971c-db0344d22bb6"
      },
      "execution_count": 295,
      "outputs": [
        {
          "output_type": "stream",
          "name": "stdout",
          "text": [
            "150\n"
          ]
        },
        {
          "output_type": "display_data",
          "data": {
            "text/plain": [
              "<Figure size 576x576 with 1 Axes>"
            ],
            "image/png": "[encoded data removed]"
          },
          "metadata": {
            "needs_background": "light"
          }
        }
      ]
    },
    {
      "cell_type": "code",
      "source": [
        "# plt.figure(figsize=(8,8))\n",
        "# plt.plot(avg_reward_per_ep_q_det, 'bo')\n",
        "# plt.xlabel('Episode', fontsize=18)\n",
        "# plt.ylabel('Penalties', fontsize=18)\n",
        "# plt.title('Average Rewards Per Episode (Q-Learning - Deterministic)', fontsize=20)\n",
        "# plt.xticks(fontsize=16)\n",
        "# plt.yticks([-6, -4, -2, 0, 2, 4, 6, 8, 10], fontsize=16)\n",
        "# plt.ylim(ymin=-7, ymax=11)\n",
        "# plt.xlim(xmin=0, xmax=500)\n",
        "# plt.grid()\n",
        "# plt.show()"
      ],
      "metadata": {
        "id": "v2GBN7wVx6Mj"
      },
      "execution_count": 241,
      "outputs": []
    },
    {
      "cell_type": "markdown",
      "source": [
        "**Penalties Per Episode**"
      ],
      "metadata": {
        "id": "umO-bdOr1iAu"
      }
    },
    {
      "cell_type": "code",
      "source": [
        "plt.figure(figsize=(8,8))\n",
        "plt.plot(all_penalties_q_det, 'go')\n",
        "plt.xlabel('Episode', fontsize=18)\n",
        "plt.ylabel('Penalties', fontsize=18)\n",
        "plt.title('Penalties Per Episode (Q-Learning - Deterministic)', fontsize=20)\n",
        "plt.xticks(fontsize=16)\n",
        "plt.yticks([-60, -50, -20, 0, 20, 40, 60, 80, 100], fontsize=16)\n",
        "plt.ylim(ymin=-7, ymax=80)\n",
        "plt.xlim(xmin=0, xmax=500)\n",
        "plt.grid()\n",
        "plt.show()"
      ],
      "metadata": {
        "colab": {
          "base_uri": "https://localhost:8080/",
          "height": 531
        },
        "id": "zQeA8h45tE_n",
        "outputId": "7cf7625b-39ab-4fe0-ad70-a90afcdae1b6"
      },
      "execution_count": 296,
      "outputs": [
        {
          "output_type": "display_data",
          "data": {
            "text/plain": [
              "<Figure size 576x576 with 1 Axes>"
            ],
            "image/png": "[encoded data removed]"
          },
          "metadata": {
            "needs_background": "light"
          }
        }
      ]
    },
    {
      "cell_type": "markdown",
      "source": [
        "\n",
        "---\n",
        "\n",
        "### 2.1.2 Q-Learning for Stochastic Environment\n"
      ],
      "metadata": {
        "id": "09ECYT0oW3-4"
      }
    },
    {
      "cell_type": "code",
      "source": [
        "import random\n",
        "from IPython.display import clear_output\n",
        "\n",
        "env = GridEnv(env_type = \"stochastic\")\n",
        "agent = RandomAgent(env)\n",
        "\n",
        "# Hyperparameters\n",
        "alpha = 0.15\n",
        "gamma = 0.93\n",
        "epsilon = 1.0\n",
        "epsilon_val_stoc = []\n",
        "reward_val_stoc = []\n",
        "num_episodes = 500\n",
        "\n",
        "#Q-Table\n",
        "q_table_stoc = np.random.rand(25, 4)\n",
        "q_table_stoc = q_table_stoc.astype(int)\n",
        "\n",
        "#data arrays\n",
        "all_penalties_q_stoc = []\n",
        "avg_reward_per_ep_q_stoc = []\n",
        "\n",
        "#running for 500 episodes\n",
        "for episode in range(num_episodes):\n",
        "  #resetting the state \n",
        "  state, agent_pos = env.reset()\n",
        "  penalties = 0\n",
        "  new_penalties = 0\n",
        "  new_reward = 0\n",
        "  index = 0\n",
        "\n",
        "  #getting the index value of the agent's state\n",
        "  state_to_list = state.tolist()\n",
        "  if 1 in state_to_list:\n",
        "    index = state_to_list.index(1)\n",
        "  # print(index)\n",
        "  \n",
        "  for timestep in range(15):\n",
        "    #Choosing an action based on e-greedy policy\n",
        "    if np.random.rand() < epsilon:\n",
        "      action = np.random.choice(env.action_space.n)\n",
        "    else:\n",
        "      action = np.argmax(q_table_stoc[index])\n",
        "\n",
        "    observation, reward, terminated, truncated, info, new_agent_pos = env.step(action)\n",
        "    \n",
        "    if reward == -5 or reward == -6 or reward == -2:\n",
        "      penalties += 1\n",
        "      \n",
        "    #getting the index value of the agent's state\n",
        "    new_state_to_list = observation.tolist()\n",
        "    if 1 in new_state_to_list:\n",
        "      index2 = new_state_to_list.index(1)\n",
        "\n",
        "    q_table_stoc[index, action] = q_table_stoc[index, action] + alpha * (reward + gamma * np.max(q_table_stoc[index2]) - q_table_stoc[index, action])\n",
        "\n",
        "    new_reward += reward\n",
        "    index = index2\n",
        "    new_penalties += penalties\n",
        "  \n",
        "  # avg_reward = new_reward / 15\n",
        "  # avg_reward_per_ep_q_stoc.append(avg_reward)\n",
        "\n",
        "  all_penalties_q_stoc.append(new_penalties)\n",
        "  \n",
        "  reward_val_stoc.append(new_reward)\n",
        "  \n",
        "  epsilon *= 0.9908\n",
        "  epsilon_val_stoc.append(epsilon)\n",
        "  # print(epsilon)\n",
        "\n",
        "# print(\"Q-Table : \", q_table)\n",
        "# print(epsilon_val)\n"
      ],
      "metadata": {
        "id": "4eNNhT3gW-XQ"
      },
      "execution_count": 269,
      "outputs": []
    },
    {
      "cell_type": "markdown",
      "source": [
        "**Epsilon-Decay Graph**"
      ],
      "metadata": {
        "id": "kdu4SvEj4HXJ"
      }
    },
    {
      "cell_type": "code",
      "source": [
        "plt.figure(figsize=(5,5))\n",
        "plt.plot(epsilon_val_stoc, linewidth=4)\n",
        "plt.xlabel('Episode', fontsize=16)\n",
        "plt.ylabel('Epsilon Values', fontsize=16)\n",
        "plt.title('Epsilon Decay (Stochastic)', fontsize=20)\n",
        "plt.xticks(fontsize=16)\n",
        "plt.yticks(fontsize=16)\n",
        "plt.ylim(ymin=0, ymax=1)\n",
        "plt.xlim(xmin=0, xmax=500)\n",
        "plt.grid()\n",
        "plt.show()"
      ],
      "metadata": {
        "colab": {
          "base_uri": "https://localhost:8080/",
          "height": 365
        },
        "id": "oxGJBsqnXCKW",
        "outputId": "0ac99af2-20cd-492e-fef8-fa41c9ec81a1"
      },
      "execution_count": 258,
      "outputs": [
        {
          "output_type": "display_data",
          "data": {
            "text/plain": [
              "<Figure size 360x360 with 1 Axes>"
            ],
            "image/png": "[encoded data removed]"
          },
          "metadata": {
            "needs_background": "light"
          }
        }
      ]
    },
    {
      "cell_type": "markdown",
      "source": [
        "**Rewards Per Episode**"
      ],
      "metadata": {
        "id": "DqihvtEB4I8o"
      }
    },
    {
      "cell_type": "code",
      "source": [
        "plt.figure(figsize=(8,8))\n",
        "plt.plot(reward_val_stoc, 'ro')\n",
        "plt.xlabel('Episode', fontsize=18)\n",
        "plt.ylabel('Reward Value', fontsize=18)\n",
        "plt.title('Rewards Per Episode (Q-Learning - Stochastic)', fontsize=20)\n",
        "plt.xticks(fontsize=16)\n",
        "plt.yticks([-60, -40, -20, 0, 20, 40, 60, 80, 100, 120, 140, 160], fontsize=16)\n",
        "plt.ylim(ymin=-10, ymax=160)\n",
        "plt.xlim(xmin=0, xmax=500)\n",
        "plt.grid()\n",
        "plt.show()"
      ],
      "metadata": {
        "colab": {
          "base_uri": "https://localhost:8080/",
          "height": 531
        },
        "id": "zR1ZfALMXHUc",
        "outputId": "2d06744b-c86f-407b-b71b-fb6ac401f843"
      },
      "execution_count": 259,
      "outputs": [
        {
          "output_type": "display_data",
          "data": {
            "text/plain": [
              "<Figure size 576x576 with 1 Axes>"
            ],
            "image/png": "[encoded data removed]"
          },
          "metadata": {
            "needs_background": "light"
          }
        }
      ]
    },
    {
      "cell_type": "code",
      "source": [
        "# plt.figure(figsize=(8,8))\n",
        "# plt.plot(avg_reward_per_ep_q_stoc, 'bo')\n",
        "# plt.xlabel('Episode', fontsize=18)\n",
        "# plt.ylabel('Penalties', fontsize=18)\n",
        "# plt.title('Average Rewards Per Episode (Q-Learning - Stochastic)', fontsize=20)\n",
        "# plt.xticks(fontsize=16)\n",
        "# plt.yticks([-6, -4, -2, 0, 2, 4, 6, 8, 10], fontsize=16)\n",
        "# plt.ylim(ymin=-7, ymax=11)\n",
        "# plt.xlim(xmin=0, xmax=500)\n",
        "# plt.grid()\n",
        "# plt.show()"
      ],
      "metadata": {
        "id": "8BFXjlQHy5Pq"
      },
      "execution_count": 260,
      "outputs": []
    },
    {
      "cell_type": "markdown",
      "source": [
        "**Penalties Per Episode**"
      ],
      "metadata": {
        "id": "TdEcuCDK4Ta7"
      }
    },
    {
      "cell_type": "code",
      "source": [
        "plt.figure(figsize=(8,8))\n",
        "plt.plot(all_penalties_q_stoc, 'ro')\n",
        "plt.xlabel('Episode', fontsize=18)\n",
        "plt.ylabel('Penalties', fontsize=18)\n",
        "plt.title('Penalties Per Episode (Q-Learning - Stochastic)', fontsize=20)\n",
        "plt.xticks(fontsize=16)\n",
        "plt.yticks([-60, -50, -20, 0, 20, 40, 60, 80, 100], fontsize=16)\n",
        "plt.ylim(ymin=-7, ymax=50)\n",
        "plt.xlim(xmin=0, xmax=500)\n",
        "plt.grid()\n",
        "plt.show()"
      ],
      "metadata": {
        "colab": {
          "base_uri": "https://localhost:8080/",
          "height": 531
        },
        "id": "LrDp3SwRsUsY",
        "outputId": "edda2af4-8b08-40be-a852-b499fb6bcfb6"
      },
      "execution_count": 261,
      "outputs": [
        {
          "output_type": "display_data",
          "data": {
            "text/plain": [
              "<Figure size 576x576 with 1 Axes>"
            ],
            "image/png": "[encoded data removed]"
          },
          "metadata": {
            "needs_background": "light"
          }
        }
      ]
    },
    {
      "cell_type": "markdown",
      "source": [
        "**Downloading Q-Table**"
      ],
      "metadata": {
        "id": "Au-I_3Ky91LR"
      }
    },
    {
      "cell_type": "code",
      "source": [
        "with open('q_table_deterministic.pkl', 'wb') as f:\n",
        "    pickle.dump(q_table, f)\n",
        "\n",
        "from google.colab import files\n",
        "files.download('q_table_deterministic.pkl')\n"
      ],
      "metadata": {
        "colab": {
          "base_uri": "https://localhost:8080/",
          "height": 17
        },
        "id": "PoEcmudDNHpn",
        "outputId": "1c597405-db0b-4e76-fa80-3cc5df8df226"
      },
      "execution_count": 265,
      "outputs": [
        {
          "output_type": "display_data",
          "data": {
            "text/plain": [
              "<IPython.core.display.Javascript object>"
            ],
            "application/javascript": [
              "\n",
              "    async function download(id, filename, size) {\n",
              "      if (!google.colab.kernel.accessAllowed) {\n",
              "        return;\n",
              "      }\n",
              "      const div = document.createElement('div');\n",
              "      const label = document.createElement('label');\n",
              "      label.textContent = `Downloading \"${filename}\": `;\n",
              "      div.appendChild(label);\n",
              "      const progress = document.createElement('progress');\n",
              "      progress.max = size;\n",
              "      div.appendChild(progress);\n",
              "      document.body.appendChild(div);\n",
              "\n",
              "      const buffers = [];\n",
              "      let downloaded = 0;\n",
              "\n",
              "      const channel = await google.colab.kernel.comms.open(id);\n",
              "      // Send a message to notify the kernel that we're ready.\n",
              "      channel.send({})\n",
              "\n",
              "      for await (const message of channel.messages) {\n",
              "        // Send a message to notify the kernel that we're ready.\n",
              "        channel.send({})\n",
              "        if (message.buffers) {\n",
              "          for (const buffer of message.buffers) {\n",
              "            buffers.push(buffer);\n",
              "            downloaded += buffer.byteLength;\n",
              "            progress.value = downloaded;\n",
              "          }\n",
              "        }\n",
              "      }\n",
              "      const blob = new Blob(buffers, {type: 'application/binary'});\n",
              "      const a = document.createElement('a');\n",
              "      a.href = window.URL.createObjectURL(blob);\n",
              "      a.download = filename;\n",
              "      div.appendChild(a);\n",
              "      a.click();\n",
              "      div.remove();\n",
              "    }\n",
              "  "
            ]
          },
          "metadata": {}
        },
        {
          "output_type": "display_data",
          "data": {
            "text/plain": [
              "<IPython.core.display.Javascript object>"
            ],
            "application/javascript": [
              "download(\"download_1d846432-27c8-4b39-91a2-91f498a930a2\", \"q_table_deterministic.pkl\", 952)"
            ]
          },
          "metadata": {}
        }
      ]
    },
    {
      "cell_type": "code",
      "source": [
        "with open('q_table_stochastic.pkl', 'wb') as f:\n",
        "    pickle.dump(q_table_stoc, f)\n",
        "\n",
        "from google.colab import files\n",
        "files.download('q_table_stochastic.pkl')"
      ],
      "metadata": {
        "colab": {
          "base_uri": "https://localhost:8080/",
          "height": 17
        },
        "id": "rbQyDluj-J_h",
        "outputId": "1fe899be-e97c-4b70-814c-8c7131cd0159"
      },
      "execution_count": 266,
      "outputs": [
        {
          "output_type": "display_data",
          "data": {
            "text/plain": [
              "<IPython.core.display.Javascript object>"
            ],
            "application/javascript": [
              "\n",
              "    async function download(id, filename, size) {\n",
              "      if (!google.colab.kernel.accessAllowed) {\n",
              "        return;\n",
              "      }\n",
              "      const div = document.createElement('div');\n",
              "      const label = document.createElement('label');\n",
              "      label.textContent = `Downloading \"${filename}\": `;\n",
              "      div.appendChild(label);\n",
              "      const progress = document.createElement('progress');\n",
              "      progress.max = size;\n",
              "      div.appendChild(progress);\n",
              "      document.body.appendChild(div);\n",
              "\n",
              "      const buffers = [];\n",
              "      let downloaded = 0;\n",
              "\n",
              "      const channel = await google.colab.kernel.comms.open(id);\n",
              "      // Send a message to notify the kernel that we're ready.\n",
              "      channel.send({})\n",
              "\n",
              "      for await (const message of channel.messages) {\n",
              "        // Send a message to notify the kernel that we're ready.\n",
              "        channel.send({})\n",
              "        if (message.buffers) {\n",
              "          for (const buffer of message.buffers) {\n",
              "            buffers.push(buffer);\n",
              "            downloaded += buffer.byteLength;\n",
              "            progress.value = downloaded;\n",
              "          }\n",
              "        }\n",
              "      }\n",
              "      const blob = new Blob(buffers, {type: 'application/binary'});\n",
              "      const a = document.createElement('a');\n",
              "      a.href = window.URL.createObjectURL(blob);\n",
              "      a.download = filename;\n",
              "      div.appendChild(a);\n",
              "      a.click();\n",
              "      div.remove();\n",
              "    }\n",
              "  "
            ]
          },
          "metadata": {}
        },
        {
          "output_type": "display_data",
          "data": {
            "text/plain": [
              "<IPython.core.display.Javascript object>"
            ],
            "application/javascript": [
              "download(\"download_957e0f3d-1836-4f1b-a8c6-5ac5c6a4630d\", \"q_table_stochastic.pkl\", 952)"
            ]
          },
          "metadata": {}
        }
      ]
    },
    {
      "cell_type": "markdown",
      "source": [
        "###**2.2.3 Testing Q-Values**\n",
        "\n",
        "**5x5 Grid Environment - Deterministic**"
      ],
      "metadata": {
        "id": "Uj1nr-UCX92g"
      }
    },
    {
      "cell_type": "code",
      "source": [
        "env = GridEnv(env_type = \"deterministic\")\n",
        "agent = RandomAgent(env)\n",
        "\n",
        "obs, info = env.reset()\n",
        "terminated, truncated = False, False\n",
        "\n",
        "\n",
        "output_grid = widgets.Grid(1, 1)\n",
        "with output_grid.output_to(0, 0):\n",
        "  env.render()\n",
        "\n",
        "def get_max_val(arg):\n",
        "  return max(arg)\n",
        "  \n",
        "for i in q_table:\n",
        "  max_val = get_max_val(i)\n",
        "  i_to_list = i.tolist()\n",
        "  max_index = i_to_list.index(max_val)\n",
        "  observation, reward, terminated, truncated, info, agent_pos = env.step(max_index)\n",
        "  with output_grid.output_to(0, 0):\n",
        "    output_grid.clear_cell()\n",
        "    plt.imshow(grid)\n",
        "    env.render()\n",
        "  time.sleep(1)\n",
        "\n",
        "  "
      ],
      "metadata": {
        "colab": {
          "base_uri": "https://localhost:8080/",
          "height": 287
        },
        "id": "yO6PQTYjA-4s",
        "outputId": "f2a9f267-1fe7-4d1c-ae21-364e454331da"
      },
      "execution_count": 297,
      "outputs": [
        {
          "output_type": "display_data",
          "data": {
            "text/plain": [
              "<IPython.core.display.HTML object>"
            ],
            "text/html": [
              "<style>\n",
              "       table#id42, #id42 > tbody > tr > th, #id42 > tbody > tr > td {\n",
              "         border: 1px solid lightgray;\n",
              "         border-collapse:collapse;\n",
              "         \n",
              "        }</style>"
            ]
          },
          "metadata": {}
        },
        {
          "output_type": "display_data",
          "data": {
            "text/plain": [
              "<IPython.core.display.HTML object>"
            ],
            "text/html": [
              "<table id=id42><tr><td id=id42-0-0></td></tr></table>"
            ]
          },
          "metadata": {}
        },
        {
          "output_type": "display_data",
          "data": {
            "text/plain": [
              "<IPython.core.display.Javascript object>"
            ],
            "application/javascript": [
              "window[\"c41274e4-ba35-11ed-9901-0242ac1c000c\"] = google.colab.output.getActiveOutputArea();\n",
              "//# sourceURL=js_98c5098091"
            ]
          },
          "metadata": {}
        },
        {
          "output_type": "display_data",
          "data": {
            "text/plain": [
              "<IPython.core.display.Javascript object>"
            ],
            "application/javascript": [
              "window[\"c4134ac2-ba35-11ed-9901-0242ac1c000c\"] = document.querySelector(\"#id42-0-0\");\n",
              "//# sourceURL=js_0ebe363ede"
            ]
          },
          "metadata": {}
        },
        {
          "output_type": "display_data",
          "data": {
            "text/plain": [
              "<IPython.core.display.Javascript object>"
            ],
            "application/javascript": [
              "window[\"c4140b06-ba35-11ed-9901-0242ac1c000c\"] = google.colab.output.setActiveOutputArea(window[\"c4134ac2-ba35-11ed-9901-0242ac1c000c\"]);\n",
              "//# sourceURL=js_db5dd032cd"
            ]
          },
          "metadata": {}
        },
        {
          "output_type": "display_data",
          "data": {
            "text/plain": [
              "<IPython.core.display.Javascript object>"
            ],
            "application/javascript": [
              "window[\"c443bcc0-ba35-11ed-9901-0242ac1c000c\"] = google.colab.output.setActiveOutputArea(window[\"c41274e4-ba35-11ed-9901-0242ac1c000c\"]);\n",
              "//# sourceURL=js_f38676e62f"
            ]
          },
          "metadata": {}
        },
        {
          "output_type": "display_data",
          "data": {
            "text/plain": [
              "<IPython.core.display.Javascript object>"
            ],
            "application/javascript": [
              "window[\"c4462028-ba35-11ed-9901-0242ac1c000c\"] = google.colab.output.getActiveOutputArea();\n",
              "//# sourceURL=js_2f027461e4"
            ]
          },
          "metadata": {}
        },
        {
          "output_type": "display_data",
          "data": {
            "text/plain": [
              "<IPython.core.display.Javascript object>"
            ],
            "application/javascript": [
              "window[\"c4468ec8-ba35-11ed-9901-0242ac1c000c\"] = document.querySelector(\"#id42-0-0\");\n",
              "//# sourceURL=js_5b34499df4"
            ]
          },
          "metadata": {}
        },
        {
          "output_type": "display_data",
          "data": {
            "text/plain": [
              "<IPython.core.display.Javascript object>"
            ],
            "application/javascript": [
              "window[\"c44709f2-ba35-11ed-9901-0242ac1c000c\"] = google.colab.output.setActiveOutputArea(window[\"c4468ec8-ba35-11ed-9901-0242ac1c000c\"]);\n",
              "//# sourceURL=js_4bae44f4af"
            ]
          },
          "metadata": {}
        },
        {
          "output_type": "display_data",
          "data": {
            "text/plain": [
              "<IPython.core.display.Javascript object>"
            ],
            "application/javascript": [
              "window[\"c4756e0a-ba35-11ed-9901-0242ac1c000c\"] = google.colab.output.setActiveOutputArea(window[\"c4462028-ba35-11ed-9901-0242ac1c000c\"]);\n",
              "//# sourceURL=js_6c9139e6d6"
            ]
          },
          "metadata": {}
        },
        {
          "output_type": "display_data",
          "data": {
            "text/plain": [
              "<IPython.core.display.Javascript object>"
            ],
            "application/javascript": [
              "window[\"c511deca-ba35-11ed-9901-0242ac1c000c\"] = google.colab.output.getActiveOutputArea();\n",
              "//# sourceURL=js_7e06308926"
            ]
          },
          "metadata": {}
        },
        {
          "output_type": "display_data",
          "data": {
            "text/plain": [
              "<IPython.core.display.Javascript object>"
            ],
            "application/javascript": [
              "window[\"c5123d84-ba35-11ed-9901-0242ac1c000c\"] = document.querySelector(\"#id42-0-0\");\n",
              "//# sourceURL=js_582ac74655"
            ]
          },
          "metadata": {}
        },
        {
          "output_type": "display_data",
          "data": {
            "text/plain": [
              "<IPython.core.display.Javascript object>"
            ],
            "application/javascript": [
              "window[\"c512a76a-ba35-11ed-9901-0242ac1c000c\"] = google.colab.output.setActiveOutputArea(window[\"c5123d84-ba35-11ed-9901-0242ac1c000c\"]);\n",
              "//# sourceURL=js_44646e2dc9"
            ]
          },
          "metadata": {}
        },
        {
          "output_type": "display_data",
          "data": {
            "text/plain": [
              "<IPython.core.display.Javascript object>"
            ],
            "application/javascript": [
              "window[\"c53327ba-ba35-11ed-9901-0242ac1c000c\"] = google.colab.output.setActiveOutputArea(window[\"c511deca-ba35-11ed-9901-0242ac1c000c\"]);\n",
              "//# sourceURL=js_a562f8ce54"
            ]
          },
          "metadata": {}
        },
        {
          "output_type": "display_data",
          "data": {
            "text/plain": [
              "<IPython.core.display.Javascript object>"
            ],
            "application/javascript": [
              "window[\"c5ceb842-ba35-11ed-9901-0242ac1c000c\"] = google.colab.output.getActiveOutputArea();\n",
              "//# sourceURL=js_8af358d9df"
            ]
          },
          "metadata": {}
        },
        {
          "output_type": "display_data",
          "data": {
            "text/plain": [
              "<IPython.core.display.Javascript object>"
            ],
            "application/javascript": [
              "window[\"c5cf2818-ba35-11ed-9901-0242ac1c000c\"] = document.querySelector(\"#id42-0-0\");\n",
              "//# sourceURL=js_8c7c81d305"
            ]
          },
          "metadata": {}
        },
        {
          "output_type": "display_data",
          "data": {
            "text/plain": [
              "<IPython.core.display.Javascript object>"
            ],
            "application/javascript": [
              "window[\"c5cf8f74-ba35-11ed-9901-0242ac1c000c\"] = google.colab.output.setActiveOutputArea(window[\"c5cf2818-ba35-11ed-9901-0242ac1c000c\"]);\n",
              "//# sourceURL=js_1f42e5a01c"
            ]
          },
          "metadata": {}
        },
        {
          "output_type": "display_data",
          "data": {
            "text/plain": [
              "<IPython.core.display.Javascript object>"
            ],
            "application/javascript": [
              "window[\"c5ee3afa-ba35-11ed-9901-0242ac1c000c\"] = google.colab.output.setActiveOutputArea(window[\"c5ceb842-ba35-11ed-9901-0242ac1c000c\"]);\n",
              "//# sourceURL=js_529c656bea"
            ]
          },
          "metadata": {}
        },
        {
          "output_type": "display_data",
          "data": {
            "text/plain": [
              "<IPython.core.display.Javascript object>"
            ],
            "application/javascript": [
              "window[\"c6893564-ba35-11ed-9901-0242ac1c000c\"] = google.colab.output.getActiveOutputArea();\n",
              "//# sourceURL=js_20f2569d7e"
            ]
          },
          "metadata": {}
        },
        {
          "output_type": "display_data",
          "data": {
            "text/plain": [
              "<IPython.core.display.Javascript object>"
            ],
            "application/javascript": [
              "window[\"c68a11b4-ba35-11ed-9901-0242ac1c000c\"] = document.querySelector(\"#id42-0-0\");\n",
              "//# sourceURL=js_f059093c0a"
            ]
          },
          "metadata": {}
        },
        {
          "output_type": "display_data",
          "data": {
            "text/plain": [
              "<IPython.core.display.Javascript object>"
            ],
            "application/javascript": [
              "window[\"c68a7ff0-ba35-11ed-9901-0242ac1c000c\"] = google.colab.output.setActiveOutputArea(window[\"c68a11b4-ba35-11ed-9901-0242ac1c000c\"]);\n",
              "//# sourceURL=js_2cee278505"
            ]
          },
          "metadata": {}
        },
        {
          "output_type": "display_data",
          "data": {
            "text/plain": [
              "<IPython.core.display.Javascript object>"
            ],
            "application/javascript": [
              "window[\"c6aced06-ba35-11ed-9901-0242ac1c000c\"] = google.colab.output.setActiveOutputArea(window[\"c6893564-ba35-11ed-9901-0242ac1c000c\"]);\n",
              "//# sourceURL=js_0eaf1368ee"
            ]
          },
          "metadata": {}
        },
        {
          "output_type": "display_data",
          "data": {
            "text/plain": [
              "<IPython.core.display.Javascript object>"
            ],
            "application/javascript": [
              "window[\"c7484e68-ba35-11ed-9901-0242ac1c000c\"] = google.colab.output.getActiveOutputArea();\n",
              "//# sourceURL=js_d726e0f7b1"
            ]
          },
          "metadata": {}
        },
        {
          "output_type": "display_data",
          "data": {
            "text/plain": [
              "<IPython.core.display.Javascript object>"
            ],
            "application/javascript": [
              "window[\"c7491186-ba35-11ed-9901-0242ac1c000c\"] = document.querySelector(\"#id42-0-0\");\n",
              "//# sourceURL=js_58d6b0d17a"
            ]
          },
          "metadata": {}
        },
        {
          "output_type": "display_data",
          "data": {
            "text/plain": [
              "<IPython.core.display.Javascript object>"
            ],
            "application/javascript": [
              "window[\"c749b21c-ba35-11ed-9901-0242ac1c000c\"] = google.colab.output.setActiveOutputArea(window[\"c7491186-ba35-11ed-9901-0242ac1c000c\"]);\n",
              "//# sourceURL=js_f9bb5b7907"
            ]
          },
          "metadata": {}
        },
        {
          "output_type": "display_data",
          "data": {
            "text/plain": [
              "<IPython.core.display.Javascript object>"
            ],
            "application/javascript": [
              "window[\"c77c4650-ba35-11ed-9901-0242ac1c000c\"] = google.colab.output.setActiveOutputArea(window[\"c7484e68-ba35-11ed-9901-0242ac1c000c\"]);\n",
              "//# sourceURL=js_f5b6ef2fc6"
            ]
          },
          "metadata": {}
        },
        {
          "output_type": "display_data",
          "data": {
            "text/plain": [
              "<IPython.core.display.Javascript object>"
            ],
            "application/javascript": [
              "window[\"c8179cfe-ba35-11ed-9901-0242ac1c000c\"] = google.colab.output.getActiveOutputArea();\n",
              "//# sourceURL=js_b02bce5915"
            ]
          },
          "metadata": {}
        },
        {
          "output_type": "display_data",
          "data": {
            "text/plain": [
              "<IPython.core.display.Javascript object>"
            ],
            "application/javascript": [
              "window[\"c8187840-ba35-11ed-9901-0242ac1c000c\"] = document.querySelector(\"#id42-0-0\");\n",
              "//# sourceURL=js_4e4c124f74"
            ]
          },
          "metadata": {}
        },
        {
          "output_type": "display_data",
          "data": {
            "text/plain": [
              "<IPython.core.display.Javascript object>"
            ],
            "application/javascript": [
              "window[\"c818e6fe-ba35-11ed-9901-0242ac1c000c\"] = google.colab.output.setActiveOutputArea(window[\"c8187840-ba35-11ed-9901-0242ac1c000c\"]);\n",
              "//# sourceURL=js_05308a2130"
            ]
          },
          "metadata": {}
        },
        {
          "output_type": "display_data",
          "data": {
            "text/plain": [
              "<IPython.core.display.Javascript object>"
            ],
            "application/javascript": [
              "window[\"c841242a-ba35-11ed-9901-0242ac1c000c\"] = google.colab.output.setActiveOutputArea(window[\"c8179cfe-ba35-11ed-9901-0242ac1c000c\"]);\n",
              "//# sourceURL=js_35d13ebf90"
            ]
          },
          "metadata": {}
        },
        {
          "output_type": "display_data",
          "data": {
            "text/plain": [
              "<IPython.core.display.Javascript object>"
            ],
            "application/javascript": [
              "window[\"c8dcb2a0-ba35-11ed-9901-0242ac1c000c\"] = google.colab.output.getActiveOutputArea();\n",
              "//# sourceURL=js_fb15a7c09a"
            ]
          },
          "metadata": {}
        },
        {
          "output_type": "display_data",
          "data": {
            "text/plain": [
              "<IPython.core.display.Javascript object>"
            ],
            "application/javascript": [
              "window[\"c8dd1fe2-ba35-11ed-9901-0242ac1c000c\"] = document.querySelector(\"#id42-0-0\");\n",
              "//# sourceURL=js_e8a91ba881"
            ]
          },
          "metadata": {}
        },
        {
          "output_type": "display_data",
          "data": {
            "text/plain": [
              "<IPython.core.display.Javascript object>"
            ],
            "application/javascript": [
              "window[\"c8ddb61e-ba35-11ed-9901-0242ac1c000c\"] = google.colab.output.setActiveOutputArea(window[\"c8dd1fe2-ba35-11ed-9901-0242ac1c000c\"]);\n",
              "//# sourceURL=js_290325fb2f"
            ]
          },
          "metadata": {}
        },
        {
          "output_type": "display_data",
          "data": {
            "text/plain": [
              "<IPython.core.display.Javascript object>"
            ],
            "application/javascript": [
              "window[\"c8fceab6-ba35-11ed-9901-0242ac1c000c\"] = google.colab.output.setActiveOutputArea(window[\"c8dcb2a0-ba35-11ed-9901-0242ac1c000c\"]);\n",
              "//# sourceURL=js_fbf4075db9"
            ]
          },
          "metadata": {}
        },
        {
          "output_type": "display_data",
          "data": {
            "text/plain": [
              "<IPython.core.display.Javascript object>"
            ],
            "application/javascript": [
              "window[\"c99879fe-ba35-11ed-9901-0242ac1c000c\"] = google.colab.output.getActiveOutputArea();\n",
              "//# sourceURL=js_138a4c6201"
            ]
          },
          "metadata": {}
        },
        {
          "output_type": "display_data",
          "data": {
            "text/plain": [
              "<IPython.core.display.Javascript object>"
            ],
            "application/javascript": [
              "window[\"c99934e8-ba35-11ed-9901-0242ac1c000c\"] = document.querySelector(\"#id42-0-0\");\n",
              "//# sourceURL=js_a070c8dfdb"
            ]
          },
          "metadata": {}
        },
        {
          "output_type": "display_data",
          "data": {
            "text/plain": [
              "<IPython.core.display.Javascript object>"
            ],
            "application/javascript": [
              "window[\"c999a842-ba35-11ed-9901-0242ac1c000c\"] = google.colab.output.setActiveOutputArea(window[\"c99934e8-ba35-11ed-9901-0242ac1c000c\"]);\n",
              "//# sourceURL=js_91bb98f717"
            ]
          },
          "metadata": {}
        },
        {
          "output_type": "display_data",
          "data": {
            "text/plain": [
              "<IPython.core.display.Javascript object>"
            ],
            "application/javascript": [
              "window[\"c9baa376-ba35-11ed-9901-0242ac1c000c\"] = google.colab.output.setActiveOutputArea(window[\"c99879fe-ba35-11ed-9901-0242ac1c000c\"]);\n",
              "//# sourceURL=js_4a9e9d049b"
            ]
          },
          "metadata": {}
        },
        {
          "output_type": "display_data",
          "data": {
            "text/plain": [
              "<IPython.core.display.Javascript object>"
            ],
            "application/javascript": [
              "window[\"ca55916a-ba35-11ed-9901-0242ac1c000c\"] = google.colab.output.getActiveOutputArea();\n",
              "//# sourceURL=js_0461efd18b"
            ]
          },
          "metadata": {}
        },
        {
          "output_type": "display_data",
          "data": {
            "text/plain": [
              "<IPython.core.display.Javascript object>"
            ],
            "application/javascript": [
              "window[\"ca56120c-ba35-11ed-9901-0242ac1c000c\"] = document.querySelector(\"#id42-0-0\");\n",
              "//# sourceURL=js_83c1416481"
            ]
          },
          "metadata": {}
        },
        {
          "output_type": "display_data",
          "data": {
            "text/plain": [
              "<IPython.core.display.Javascript object>"
            ],
            "application/javascript": [
              "window[\"ca569830-ba35-11ed-9901-0242ac1c000c\"] = google.colab.output.setActiveOutputArea(window[\"ca56120c-ba35-11ed-9901-0242ac1c000c\"]);\n",
              "//# sourceURL=js_9dfb4c2dd3"
            ]
          },
          "metadata": {}
        },
        {
          "output_type": "display_data",
          "data": {
            "text/plain": [
              "<IPython.core.display.Javascript object>"
            ],
            "application/javascript": [
              "window[\"ca774b8e-ba35-11ed-9901-0242ac1c000c\"] = google.colab.output.setActiveOutputArea(window[\"ca55916a-ba35-11ed-9901-0242ac1c000c\"]);\n",
              "//# sourceURL=js_3f4fa5d3c0"
            ]
          },
          "metadata": {}
        },
        {
          "output_type": "display_data",
          "data": {
            "text/plain": [
              "<IPython.core.display.Javascript object>"
            ],
            "application/javascript": [
              "window[\"cb1234d2-ba35-11ed-9901-0242ac1c000c\"] = google.colab.output.getActiveOutputArea();\n",
              "//# sourceURL=js_0a311cee5c"
            ]
          },
          "metadata": {}
        },
        {
          "output_type": "display_data",
          "data": {
            "text/plain": [
              "<IPython.core.display.Javascript object>"
            ],
            "application/javascript": [
              "window[\"cb129f9e-ba35-11ed-9901-0242ac1c000c\"] = document.querySelector(\"#id42-0-0\");\n",
              "//# sourceURL=js_559017f228"
            ]
          },
          "metadata": {}
        },
        {
          "output_type": "display_data",
          "data": {
            "text/plain": [
              "<IPython.core.display.Javascript object>"
            ],
            "application/javascript": [
              "window[\"cb130eb6-ba35-11ed-9901-0242ac1c000c\"] = google.colab.output.setActiveOutputArea(window[\"cb129f9e-ba35-11ed-9901-0242ac1c000c\"]);\n",
              "//# sourceURL=js_9a0eefb7dd"
            ]
          },
          "metadata": {}
        },
        {
          "output_type": "display_data",
          "data": {
            "text/plain": [
              "<IPython.core.display.Javascript object>"
            ],
            "application/javascript": [
              "window[\"cb35b81c-ba35-11ed-9901-0242ac1c000c\"] = google.colab.output.setActiveOutputArea(window[\"cb1234d2-ba35-11ed-9901-0242ac1c000c\"]);\n",
              "//# sourceURL=js_a0df233b28"
            ]
          },
          "metadata": {}
        },
        {
          "output_type": "display_data",
          "data": {
            "text/plain": [
              "<IPython.core.display.Javascript object>"
            ],
            "application/javascript": [
              "window[\"cbd1068c-ba35-11ed-9901-0242ac1c000c\"] = google.colab.output.getActiveOutputArea();\n",
              "//# sourceURL=js_07b7692b89"
            ]
          },
          "metadata": {}
        },
        {
          "output_type": "display_data",
          "data": {
            "text/plain": [
              "<IPython.core.display.Javascript object>"
            ],
            "application/javascript": [
              "window[\"cbd1a01a-ba35-11ed-9901-0242ac1c000c\"] = document.querySelector(\"#id42-0-0\");\n",
              "//# sourceURL=js_8112d6151a"
            ]
          },
          "metadata": {}
        },
        {
          "output_type": "display_data",
          "data": {
            "text/plain": [
              "<IPython.core.display.Javascript object>"
            ],
            "application/javascript": [
              "window[\"cbd22558-ba35-11ed-9901-0242ac1c000c\"] = google.colab.output.setActiveOutputArea(window[\"cbd1a01a-ba35-11ed-9901-0242ac1c000c\"]);\n",
              "//# sourceURL=js_657519ba99"
            ]
          },
          "metadata": {}
        },
        {
          "output_type": "display_data",
          "data": {
            "text/plain": [
              "<IPython.core.display.Javascript object>"
            ],
            "application/javascript": [
              "window[\"cbf24dce-ba35-11ed-9901-0242ac1c000c\"] = google.colab.output.setActiveOutputArea(window[\"cbd1068c-ba35-11ed-9901-0242ac1c000c\"]);\n",
              "//# sourceURL=js_5836f4bd63"
            ]
          },
          "metadata": {}
        },
        {
          "output_type": "display_data",
          "data": {
            "text/plain": [
              "<IPython.core.display.Javascript object>"
            ],
            "application/javascript": [
              "window[\"cc8d795c-ba35-11ed-9901-0242ac1c000c\"] = google.colab.output.getActiveOutputArea();\n",
              "//# sourceURL=js_34df6953df"
            ]
          },
          "metadata": {}
        },
        {
          "output_type": "display_data",
          "data": {
            "text/plain": [
              "<IPython.core.display.Javascript object>"
            ],
            "application/javascript": [
              "window[\"cc8e0980-ba35-11ed-9901-0242ac1c000c\"] = document.querySelector(\"#id42-0-0\");\n",
              "//# sourceURL=js_d2196564f2"
            ]
          },
          "metadata": {}
        },
        {
          "output_type": "display_data",
          "data": {
            "text/plain": [
              "<IPython.core.display.Javascript object>"
            ],
            "application/javascript": [
              "window[\"cc8e8c48-ba35-11ed-9901-0242ac1c000c\"] = google.colab.output.setActiveOutputArea(window[\"cc8e0980-ba35-11ed-9901-0242ac1c000c\"]);\n",
              "//# sourceURL=js_e2117ef65f"
            ]
          },
          "metadata": {}
        },
        {
          "output_type": "display_data",
          "data": {
            "text/plain": [
              "<IPython.core.display.Javascript object>"
            ],
            "application/javascript": [
              "window[\"ccaf8542-ba35-11ed-9901-0242ac1c000c\"] = google.colab.output.setActiveOutputArea(window[\"cc8d795c-ba35-11ed-9901-0242ac1c000c\"]);\n",
              "//# sourceURL=js_2db06f7c80"
            ]
          },
          "metadata": {}
        },
        {
          "output_type": "display_data",
          "data": {
            "text/plain": [
              "<IPython.core.display.Javascript object>"
            ],
            "application/javascript": [
              "window[\"cd4a766a-ba35-11ed-9901-0242ac1c000c\"] = google.colab.output.getActiveOutputArea();\n",
              "//# sourceURL=js_782c0686d0"
            ]
          },
          "metadata": {}
        },
        {
          "output_type": "display_data",
          "data": {
            "text/plain": [
              "<IPython.core.display.Javascript object>"
            ],
            "application/javascript": [
              "window[\"cd4aee2e-ba35-11ed-9901-0242ac1c000c\"] = document.querySelector(\"#id42-0-0\");\n",
              "//# sourceURL=js_1590ac8368"
            ]
          },
          "metadata": {}
        },
        {
          "output_type": "display_data",
          "data": {
            "text/plain": [
              "<IPython.core.display.Javascript object>"
            ],
            "application/javascript": [
              "window[\"cd4b876c-ba35-11ed-9901-0242ac1c000c\"] = google.colab.output.setActiveOutputArea(window[\"cd4aee2e-ba35-11ed-9901-0242ac1c000c\"]);\n",
              "//# sourceURL=js_a17311dab7"
            ]
          },
          "metadata": {}
        },
        {
          "output_type": "display_data",
          "data": {
            "text/plain": [
              "<IPython.core.display.Javascript object>"
            ],
            "application/javascript": [
              "window[\"cd6c850c-ba35-11ed-9901-0242ac1c000c\"] = google.colab.output.setActiveOutputArea(window[\"cd4a766a-ba35-11ed-9901-0242ac1c000c\"]);\n",
              "//# sourceURL=js_b1c4dbadac"
            ]
          },
          "metadata": {}
        },
        {
          "output_type": "display_data",
          "data": {
            "text/plain": [
              "<IPython.core.display.Javascript object>"
            ],
            "application/javascript": [
              "window[\"ce079e70-ba35-11ed-9901-0242ac1c000c\"] = google.colab.output.getActiveOutputArea();\n",
              "//# sourceURL=js_821943144f"
            ]
          },
          "metadata": {}
        },
        {
          "output_type": "display_data",
          "data": {
            "text/plain": [
              "<IPython.core.display.Javascript object>"
            ],
            "application/javascript": [
              "window[\"ce080a18-ba35-11ed-9901-0242ac1c000c\"] = document.querySelector(\"#id42-0-0\");\n",
              "//# sourceURL=js_c7ec059bf2"
            ]
          },
          "metadata": {}
        },
        {
          "output_type": "display_data",
          "data": {
            "text/plain": [
              "<IPython.core.display.Javascript object>"
            ],
            "application/javascript": [
              "window[\"ce090184-ba35-11ed-9901-0242ac1c000c\"] = google.colab.output.setActiveOutputArea(window[\"ce080a18-ba35-11ed-9901-0242ac1c000c\"]);\n",
              "//# sourceURL=js_2a2cca4b14"
            ]
          },
          "metadata": {}
        },
        {
          "output_type": "display_data",
          "data": {
            "text/plain": [
              "<IPython.core.display.Javascript object>"
            ],
            "application/javascript": [
              "window[\"ce2d5fca-ba35-11ed-9901-0242ac1c000c\"] = google.colab.output.setActiveOutputArea(window[\"ce079e70-ba35-11ed-9901-0242ac1c000c\"]);\n",
              "//# sourceURL=js_097aaf6f2c"
            ]
          },
          "metadata": {}
        },
        {
          "output_type": "display_data",
          "data": {
            "text/plain": [
              "<IPython.core.display.Javascript object>"
            ],
            "application/javascript": [
              "window[\"cec8b844-ba35-11ed-9901-0242ac1c000c\"] = google.colab.output.getActiveOutputArea();\n",
              "//# sourceURL=js_904da49b17"
            ]
          },
          "metadata": {}
        },
        {
          "output_type": "display_data",
          "data": {
            "text/plain": [
              "<IPython.core.display.Javascript object>"
            ],
            "application/javascript": [
              "window[\"cec9789c-ba35-11ed-9901-0242ac1c000c\"] = document.querySelector(\"#id42-0-0\");\n",
              "//# sourceURL=js_0de2bd6ead"
            ]
          },
          "metadata": {}
        },
        {
          "output_type": "display_data",
          "data": {
            "text/plain": [
              "<IPython.core.display.Javascript object>"
            ],
            "application/javascript": [
              "window[\"ceca24f4-ba35-11ed-9901-0242ac1c000c\"] = google.colab.output.setActiveOutputArea(window[\"cec9789c-ba35-11ed-9901-0242ac1c000c\"]);\n",
              "//# sourceURL=js_b78203fd8a"
            ]
          },
          "metadata": {}
        },
        {
          "output_type": "display_data",
          "data": {
            "text/plain": [
              "<IPython.core.display.Javascript object>"
            ],
            "application/javascript": [
              "window[\"cef8afc2-ba35-11ed-9901-0242ac1c000c\"] = google.colab.output.setActiveOutputArea(window[\"cec8b844-ba35-11ed-9901-0242ac1c000c\"]);\n",
              "//# sourceURL=js_10388b841f"
            ]
          },
          "metadata": {}
        },
        {
          "output_type": "display_data",
          "data": {
            "text/plain": [
              "<IPython.core.display.Javascript object>"
            ],
            "application/javascript": [
              "window[\"cf940648-ba35-11ed-9901-0242ac1c000c\"] = google.colab.output.getActiveOutputArea();\n",
              "//# sourceURL=js_32e4af9ca7"
            ]
          },
          "metadata": {}
        },
        {
          "output_type": "display_data",
          "data": {
            "text/plain": [
              "<IPython.core.display.Javascript object>"
            ],
            "application/javascript": [
              "window[\"cf947b6e-ba35-11ed-9901-0242ac1c000c\"] = document.querySelector(\"#id42-0-0\");\n",
              "//# sourceURL=js_6da718d183"
            ]
          },
          "metadata": {}
        },
        {
          "output_type": "display_data",
          "data": {
            "text/plain": [
              "<IPython.core.display.Javascript object>"
            ],
            "application/javascript": [
              "window[\"cf94fecc-ba35-11ed-9901-0242ac1c000c\"] = google.colab.output.setActiveOutputArea(window[\"cf947b6e-ba35-11ed-9901-0242ac1c000c\"]);\n",
              "//# sourceURL=js_90c80cd647"
            ]
          },
          "metadata": {}
        },
        {
          "output_type": "display_data",
          "data": {
            "text/plain": [
              "<IPython.core.display.Javascript object>"
            ],
            "application/javascript": [
              "window[\"cfb849cc-ba35-11ed-9901-0242ac1c000c\"] = google.colab.output.setActiveOutputArea(window[\"cf940648-ba35-11ed-9901-0242ac1c000c\"]);\n",
              "//# sourceURL=js_a13880c6ce"
            ]
          },
          "metadata": {}
        },
        {
          "output_type": "display_data",
          "data": {
            "text/plain": [
              "<IPython.core.display.Javascript object>"
            ],
            "application/javascript": [
              "window[\"d0532a6e-ba35-11ed-9901-0242ac1c000c\"] = google.colab.output.getActiveOutputArea();\n",
              "//# sourceURL=js_3aa3430540"
            ]
          },
          "metadata": {}
        },
        {
          "output_type": "display_data",
          "data": {
            "text/plain": [
              "<IPython.core.display.Javascript object>"
            ],
            "application/javascript": [
              "window[\"d0538d92-ba35-11ed-9901-0242ac1c000c\"] = document.querySelector(\"#id42-0-0\");\n",
              "//# sourceURL=js_00ac0273b2"
            ]
          },
          "metadata": {}
        },
        {
          "output_type": "display_data",
          "data": {
            "text/plain": [
              "<IPython.core.display.Javascript object>"
            ],
            "application/javascript": [
              "window[\"d05402a4-ba35-11ed-9901-0242ac1c000c\"] = google.colab.output.setActiveOutputArea(window[\"d0538d92-ba35-11ed-9901-0242ac1c000c\"]);\n",
              "//# sourceURL=js_2c7655c8b4"
            ]
          },
          "metadata": {}
        },
        {
          "output_type": "display_data",
          "data": {
            "text/plain": [
              "<IPython.core.display.Javascript object>"
            ],
            "application/javascript": [
              "window[\"d09109b0-ba35-11ed-9901-0242ac1c000c\"] = google.colab.output.setActiveOutputArea(window[\"d0532a6e-ba35-11ed-9901-0242ac1c000c\"]);\n",
              "//# sourceURL=js_a668e841e9"
            ]
          },
          "metadata": {}
        },
        {
          "output_type": "display_data",
          "data": {
            "text/plain": [
              "<IPython.core.display.Javascript object>"
            ],
            "application/javascript": [
              "window[\"d12c571c-ba35-11ed-9901-0242ac1c000c\"] = google.colab.output.getActiveOutputArea();\n",
              "//# sourceURL=js_272330588b"
            ]
          },
          "metadata": {}
        },
        {
          "output_type": "display_data",
          "data": {
            "text/plain": [
              "<IPython.core.display.Javascript object>"
            ],
            "application/javascript": [
              "window[\"d12cc5b2-ba35-11ed-9901-0242ac1c000c\"] = document.querySelector(\"#id42-0-0\");\n",
              "//# sourceURL=js_9f2379e07e"
            ]
          },
          "metadata": {}
        },
        {
          "output_type": "display_data",
          "data": {
            "text/plain": [
              "<IPython.core.display.Javascript object>"
            ],
            "application/javascript": [
              "window[\"d12d2d7c-ba35-11ed-9901-0242ac1c000c\"] = google.colab.output.setActiveOutputArea(window[\"d12cc5b2-ba35-11ed-9901-0242ac1c000c\"]);\n",
              "//# sourceURL=js_7c071e1608"
            ]
          },
          "metadata": {}
        },
        {
          "output_type": "display_data",
          "data": {
            "text/plain": [
              "<IPython.core.display.Javascript object>"
            ],
            "application/javascript": [
              "window[\"d14e87ba-ba35-11ed-9901-0242ac1c000c\"] = google.colab.output.setActiveOutputArea(window[\"d12c571c-ba35-11ed-9901-0242ac1c000c\"]);\n",
              "//# sourceURL=js_58e78f82de"
            ]
          },
          "metadata": {}
        },
        {
          "output_type": "display_data",
          "data": {
            "text/plain": [
              "<IPython.core.display.Javascript object>"
            ],
            "application/javascript": [
              "window[\"d1e9e980-ba35-11ed-9901-0242ac1c000c\"] = google.colab.output.getActiveOutputArea();\n",
              "//# sourceURL=js_d2dd6719c7"
            ]
          },
          "metadata": {}
        },
        {
          "output_type": "display_data",
          "data": {
            "text/plain": [
              "<IPython.core.display.Javascript object>"
            ],
            "application/javascript": [
              "window[\"d1ea5992-ba35-11ed-9901-0242ac1c000c\"] = document.querySelector(\"#id42-0-0\");\n",
              "//# sourceURL=js_63d9f9f04e"
            ]
          },
          "metadata": {}
        },
        {
          "output_type": "display_data",
          "data": {
            "text/plain": [
              "<IPython.core.display.Javascript object>"
            ],
            "application/javascript": [
              "window[\"d1eacd78-ba35-11ed-9901-0242ac1c000c\"] = google.colab.output.setActiveOutputArea(window[\"d1ea5992-ba35-11ed-9901-0242ac1c000c\"]);\n",
              "//# sourceURL=js_320dca235a"
            ]
          },
          "metadata": {}
        },
        {
          "output_type": "display_data",
          "data": {
            "text/plain": [
              "<IPython.core.display.Javascript object>"
            ],
            "application/javascript": [
              "window[\"d20a68ae-ba35-11ed-9901-0242ac1c000c\"] = google.colab.output.setActiveOutputArea(window[\"d1e9e980-ba35-11ed-9901-0242ac1c000c\"]);\n",
              "//# sourceURL=js_7becdb6052"
            ]
          },
          "metadata": {}
        },
        {
          "output_type": "display_data",
          "data": {
            "text/plain": [
              "<IPython.core.display.Javascript object>"
            ],
            "application/javascript": [
              "window[\"d2a53118-ba35-11ed-9901-0242ac1c000c\"] = google.colab.output.getActiveOutputArea();\n",
              "//# sourceURL=js_e56cb0431b"
            ]
          },
          "metadata": {}
        },
        {
          "output_type": "display_data",
          "data": {
            "text/plain": [
              "<IPython.core.display.Javascript object>"
            ],
            "application/javascript": [
              "window[\"d2a5991e-ba35-11ed-9901-0242ac1c000c\"] = document.querySelector(\"#id42-0-0\");\n",
              "//# sourceURL=js_688d0e18d8"
            ]
          },
          "metadata": {}
        },
        {
          "output_type": "display_data",
          "data": {
            "text/plain": [
              "<IPython.core.display.Javascript object>"
            ],
            "application/javascript": [
              "window[\"d2a6148e-ba35-11ed-9901-0242ac1c000c\"] = google.colab.output.setActiveOutputArea(window[\"d2a5991e-ba35-11ed-9901-0242ac1c000c\"]);\n",
              "//# sourceURL=js_530ebff7ba"
            ]
          },
          "metadata": {}
        },
        {
          "output_type": "display_data",
          "data": {
            "text/plain": [
              "<IPython.core.display.Javascript object>"
            ],
            "application/javascript": [
              "window[\"d2c71a9e-ba35-11ed-9901-0242ac1c000c\"] = google.colab.output.setActiveOutputArea(window[\"d2a53118-ba35-11ed-9901-0242ac1c000c\"]);\n",
              "//# sourceURL=js_2d159e3bb5"
            ]
          },
          "metadata": {}
        },
        {
          "output_type": "display_data",
          "data": {
            "text/plain": [
              "<IPython.core.display.Javascript object>"
            ],
            "application/javascript": [
              "window[\"d361fd84-ba35-11ed-9901-0242ac1c000c\"] = google.colab.output.getActiveOutputArea();\n",
              "//# sourceURL=js_fe967072fe"
            ]
          },
          "metadata": {}
        },
        {
          "output_type": "display_data",
          "data": {
            "text/plain": [
              "<IPython.core.display.Javascript object>"
            ],
            "application/javascript": [
              "window[\"d36267c4-ba35-11ed-9901-0242ac1c000c\"] = document.querySelector(\"#id42-0-0\");\n",
              "//# sourceURL=js_88ed957149"
            ]
          },
          "metadata": {}
        },
        {
          "output_type": "display_data",
          "data": {
            "text/plain": [
              "<IPython.core.display.Javascript object>"
            ],
            "application/javascript": [
              "window[\"d362d646-ba35-11ed-9901-0242ac1c000c\"] = google.colab.output.setActiveOutputArea(window[\"d36267c4-ba35-11ed-9901-0242ac1c000c\"]);\n",
              "//# sourceURL=js_974877d04d"
            ]
          },
          "metadata": {}
        },
        {
          "output_type": "display_data",
          "data": {
            "text/plain": [
              "<IPython.core.display.Javascript object>"
            ],
            "application/javascript": [
              "window[\"d38425d0-ba35-11ed-9901-0242ac1c000c\"] = google.colab.output.setActiveOutputArea(window[\"d361fd84-ba35-11ed-9901-0242ac1c000c\"]);\n",
              "//# sourceURL=js_d72d7bd31d"
            ]
          },
          "metadata": {}
        },
        {
          "output_type": "display_data",
          "data": {
            "text/plain": [
              "<IPython.core.display.Javascript object>"
            ],
            "application/javascript": [
              "window[\"d42060bc-ba35-11ed-9901-0242ac1c000c\"] = google.colab.output.getActiveOutputArea();\n",
              "//# sourceURL=js_825ac14d7a"
            ]
          },
          "metadata": {}
        },
        {
          "output_type": "display_data",
          "data": {
            "text/plain": [
              "<IPython.core.display.Javascript object>"
            ],
            "application/javascript": [
              "window[\"d4211a2a-ba35-11ed-9901-0242ac1c000c\"] = document.querySelector(\"#id42-0-0\");\n",
              "//# sourceURL=js_216c88c928"
            ]
          },
          "metadata": {}
        },
        {
          "output_type": "display_data",
          "data": {
            "text/plain": [
              "<IPython.core.display.Javascript object>"
            ],
            "application/javascript": [
              "window[\"d421a08a-ba35-11ed-9901-0242ac1c000c\"] = google.colab.output.setActiveOutputArea(window[\"d4211a2a-ba35-11ed-9901-0242ac1c000c\"]);\n",
              "//# sourceURL=js_962b5e90e4"
            ]
          },
          "metadata": {}
        },
        {
          "output_type": "display_data",
          "data": {
            "text/plain": [
              "<IPython.core.display.Javascript object>"
            ],
            "application/javascript": [
              "window[\"d443c296-ba35-11ed-9901-0242ac1c000c\"] = google.colab.output.setActiveOutputArea(window[\"d42060bc-ba35-11ed-9901-0242ac1c000c\"]);\n",
              "//# sourceURL=js_8dccdf2375"
            ]
          },
          "metadata": {}
        },
        {
          "output_type": "display_data",
          "data": {
            "text/plain": [
              "<IPython.core.display.Javascript object>"
            ],
            "application/javascript": [
              "window[\"d4df2970-ba35-11ed-9901-0242ac1c000c\"] = google.colab.output.getActiveOutputArea();\n",
              "//# sourceURL=js_651dfb12b5"
            ]
          },
          "metadata": {}
        },
        {
          "output_type": "display_data",
          "data": {
            "text/plain": [
              "<IPython.core.display.Javascript object>"
            ],
            "application/javascript": [
              "window[\"d4df8bf4-ba35-11ed-9901-0242ac1c000c\"] = document.querySelector(\"#id42-0-0\");\n",
              "//# sourceURL=js_85b4dcf12d"
            ]
          },
          "metadata": {}
        },
        {
          "output_type": "display_data",
          "data": {
            "text/plain": [
              "<IPython.core.display.Javascript object>"
            ],
            "application/javascript": [
              "window[\"d4dfebc6-ba35-11ed-9901-0242ac1c000c\"] = google.colab.output.setActiveOutputArea(window[\"d4df8bf4-ba35-11ed-9901-0242ac1c000c\"]);\n",
              "//# sourceURL=js_a9eaa46017"
            ]
          },
          "metadata": {}
        },
        {
          "output_type": "display_data",
          "data": {
            "text/plain": [
              "<IPython.core.display.Javascript object>"
            ],
            "application/javascript": [
              "window[\"d5053c8c-ba35-11ed-9901-0242ac1c000c\"] = google.colab.output.setActiveOutputArea(window[\"d4df2970-ba35-11ed-9901-0242ac1c000c\"]);\n",
              "//# sourceURL=js_02f80e9d13"
            ]
          },
          "metadata": {}
        },
        {
          "output_type": "display_data",
          "data": {
            "text/plain": [
              "<IPython.core.display.Javascript object>"
            ],
            "application/javascript": [
              "window[\"d5a168dc-ba35-11ed-9901-0242ac1c000c\"] = google.colab.output.getActiveOutputArea();\n",
              "//# sourceURL=js_40a3131c62"
            ]
          },
          "metadata": {}
        },
        {
          "output_type": "display_data",
          "data": {
            "text/plain": [
              "<IPython.core.display.Javascript object>"
            ],
            "application/javascript": [
              "window[\"d5a2049a-ba35-11ed-9901-0242ac1c000c\"] = document.querySelector(\"#id42-0-0\");\n",
              "//# sourceURL=js_c863a0dbf1"
            ]
          },
          "metadata": {}
        },
        {
          "output_type": "display_data",
          "data": {
            "text/plain": [
              "<IPython.core.display.Javascript object>"
            ],
            "application/javascript": [
              "window[\"d5a37c1c-ba35-11ed-9901-0242ac1c000c\"] = google.colab.output.setActiveOutputArea(window[\"d5a2049a-ba35-11ed-9901-0242ac1c000c\"]);\n",
              "//# sourceURL=js_2a888b98cb"
            ]
          },
          "metadata": {}
        },
        {
          "output_type": "display_data",
          "data": {
            "text/plain": [
              "<IPython.core.display.Javascript object>"
            ],
            "application/javascript": [
              "window[\"d6133f02-ba35-11ed-9901-0242ac1c000c\"] = google.colab.output.setActiveOutputArea(window[\"d5a168dc-ba35-11ed-9901-0242ac1c000c\"]);\n",
              "//# sourceURL=js_5d4fc09c87"
            ]
          },
          "metadata": {}
        },
        {
          "output_type": "display_data",
          "data": {
            "text/plain": [
              "<IPython.core.display.Javascript object>"
            ],
            "application/javascript": [
              "window[\"d6b00eae-ba35-11ed-9901-0242ac1c000c\"] = google.colab.output.getActiveOutputArea();\n",
              "//# sourceURL=js_3183fdfbc3"
            ]
          },
          "metadata": {}
        },
        {
          "output_type": "display_data",
          "data": {
            "text/plain": [
              "<IPython.core.display.Javascript object>"
            ],
            "application/javascript": [
              "window[\"d6b098a6-ba35-11ed-9901-0242ac1c000c\"] = document.querySelector(\"#id42-0-0\");\n",
              "//# sourceURL=js_f222c7a117"
            ]
          },
          "metadata": {}
        },
        {
          "output_type": "display_data",
          "data": {
            "text/plain": [
              "<IPython.core.display.Javascript object>"
            ],
            "application/javascript": [
              "window[\"d6b10d54-ba35-11ed-9901-0242ac1c000c\"] = google.colab.output.setActiveOutputArea(window[\"d6b098a6-ba35-11ed-9901-0242ac1c000c\"]);\n",
              "//# sourceURL=js_1669f3192b"
            ]
          },
          "metadata": {}
        },
        {
          "output_type": "stream",
          "name": "stdout",
          "text": [
            "Reward ->  0\n"
          ]
        },
        {
          "output_type": "display_data",
          "data": {
            "text/plain": [
              "<Figure size 432x288 with 1 Axes>"
            ],
            "image/png": "[encoded data removed]"
          },
          "metadata": {
            "needs_background": "light"
          }
        },
        {
          "output_type": "display_data",
          "data": {
            "text/plain": [
              "<IPython.core.display.Javascript object>"
            ],
            "application/javascript": [
              "window[\"d755e8a6-ba35-11ed-9901-0242ac1c000c\"] = google.colab.output.setActiveOutputArea(window[\"d6b00eae-ba35-11ed-9901-0242ac1c000c\"]);\n",
              "//# sourceURL=js_c71dc2f0df"
            ]
          },
          "metadata": {}
        }
      ]
    },
    {
      "cell_type": "markdown",
      "source": [
        "**5x5 Grid Environment - Stochastic**"
      ],
      "metadata": {
        "id": "cnZYfyTuYMj6"
      }
    },
    {
      "cell_type": "code",
      "source": [
        "env = GridEnv(env_type = \"stochastic\")\n",
        "agent = RandomAgent(env)\n",
        "\n",
        "obs, info = env.reset()\n",
        "terminated, truncated = False, False\n",
        "\n",
        "output_grid = widgets.Grid(1, 1)\n",
        "with output_grid.output_to(0, 0):\n",
        "  env.render()\n",
        "\n",
        "def get_max_val(arg):\n",
        "  return max(arg)\n",
        "  \n",
        "for i in q_table_stoc:\n",
        "  max_val = get_max_val(i)\n",
        "  # print(type(i))\n",
        "  i_to_list = i.tolist()\n",
        "  max_index = i_to_list.index(max_val)\n",
        "  # print(max_index)\n",
        "  observation, reward, terminated, truncated, info, agent_pos = env.step(max_index)\n",
        "  # observation, reward, terminated, truncated, info, agent_pos = env.step(action)\n",
        "  with output_grid.output_to(0, 0):\n",
        "    output_grid.clear_cell()\n",
        "    plt.imshow(grid)\n",
        "    env.render()\n",
        "  time.sleep(1)\n",
        "\n",
        "  "
      ],
      "metadata": {
        "id": "exIvEGhORvOv",
        "outputId": "f721ae7e-9260-47dd-c233-8feaf9da84b5",
        "colab": {
          "base_uri": "https://localhost:8080/",
          "height": 287
        }
      },
      "execution_count": 223,
      "outputs": [
        {
          "output_type": "display_data",
          "data": {
            "text/plain": [
              "<IPython.core.display.HTML object>"
            ],
            "text/html": [
              "<style>\n",
              "       table#id28, #id28 > tbody > tr > th, #id28 > tbody > tr > td {\n",
              "         border: 1px solid lightgray;\n",
              "         border-collapse:collapse;\n",
              "         \n",
              "        }</style>"
            ]
          },
          "metadata": {}
        },
        {
          "output_type": "display_data",
          "data": {
            "text/plain": [
              "<IPython.core.display.HTML object>"
            ],
            "text/html": [
              "<table id=id28><tr><td id=id28-0-0></td></tr></table>"
            ]
          },
          "metadata": {}
        },
        {
          "output_type": "display_data",
          "data": {
            "text/plain": [
              "<IPython.core.display.Javascript object>"
            ],
            "application/javascript": [
              "window[\"50382008-ba19-11ed-9901-0242ac1c000c\"] = google.colab.output.getActiveOutputArea();\n",
              "//# sourceURL=js_e0fff24d4a"
            ]
          },
          "metadata": {}
        },
        {
          "output_type": "display_data",
          "data": {
            "text/plain": [
              "<IPython.core.display.Javascript object>"
            ],
            "application/javascript": [
              "window[\"5038a708-ba19-11ed-9901-0242ac1c000c\"] = document.querySelector(\"#id28-0-0\");\n",
              "//# sourceURL=js_be3f5a62ee"
            ]
          },
          "metadata": {}
        },
        {
          "output_type": "display_data",
          "data": {
            "text/plain": [
              "<IPython.core.display.Javascript object>"
            ],
            "application/javascript": [
              "window[\"503904c8-ba19-11ed-9901-0242ac1c000c\"] = google.colab.output.setActiveOutputArea(window[\"5038a708-ba19-11ed-9901-0242ac1c000c\"]);\n",
              "//# sourceURL=js_2f0d131bb6"
            ]
          },
          "metadata": {}
        },
        {
          "output_type": "display_data",
          "data": {
            "text/plain": [
              "<IPython.core.display.Javascript object>"
            ],
            "application/javascript": [
              "window[\"50574ea6-ba19-11ed-9901-0242ac1c000c\"] = google.colab.output.setActiveOutputArea(window[\"50382008-ba19-11ed-9901-0242ac1c000c\"]);\n",
              "//# sourceURL=js_6fab9563b7"
            ]
          },
          "metadata": {}
        },
        {
          "output_type": "display_data",
          "data": {
            "text/plain": [
              "<IPython.core.display.Javascript object>"
            ],
            "application/javascript": [
              "window[\"505a1da2-ba19-11ed-9901-0242ac1c000c\"] = google.colab.output.getActiveOutputArea();\n",
              "//# sourceURL=js_58c9ff4066"
            ]
          },
          "metadata": {}
        },
        {
          "output_type": "display_data",
          "data": {
            "text/plain": [
              "<IPython.core.display.Javascript object>"
            ],
            "application/javascript": [
              "window[\"505a7c0c-ba19-11ed-9901-0242ac1c000c\"] = document.querySelector(\"#id28-0-0\");\n",
              "//# sourceURL=js_c40696013e"
            ]
          },
          "metadata": {}
        },
        {
          "output_type": "display_data",
          "data": {
            "text/plain": [
              "<IPython.core.display.Javascript object>"
            ],
            "application/javascript": [
              "window[\"505ae872-ba19-11ed-9901-0242ac1c000c\"] = google.colab.output.setActiveOutputArea(window[\"505a7c0c-ba19-11ed-9901-0242ac1c000c\"]);\n",
              "//# sourceURL=js_dccfe882d6"
            ]
          },
          "metadata": {}
        },
        {
          "output_type": "display_data",
          "data": {
            "text/plain": [
              "<IPython.core.display.Javascript object>"
            ],
            "application/javascript": [
              "window[\"507ac1c4-ba19-11ed-9901-0242ac1c000c\"] = google.colab.output.setActiveOutputArea(window[\"505a1da2-ba19-11ed-9901-0242ac1c000c\"]);\n",
              "//# sourceURL=js_8cc2302768"
            ]
          },
          "metadata": {}
        },
        {
          "output_type": "display_data",
          "data": {
            "text/plain": [
              "<IPython.core.display.Javascript object>"
            ],
            "application/javascript": [
              "window[\"5115d40c-ba19-11ed-9901-0242ac1c000c\"] = google.colab.output.getActiveOutputArea();\n",
              "//# sourceURL=js_cc5d1b57b0"
            ]
          },
          "metadata": {}
        },
        {
          "output_type": "display_data",
          "data": {
            "text/plain": [
              "<IPython.core.display.Javascript object>"
            ],
            "application/javascript": [
              "window[\"511647ac-ba19-11ed-9901-0242ac1c000c\"] = document.querySelector(\"#id28-0-0\");\n",
              "//# sourceURL=js_c1d66a99f4"
            ]
          },
          "metadata": {}
        },
        {
          "output_type": "display_data",
          "data": {
            "text/plain": [
              "<IPython.core.display.Javascript object>"
            ],
            "application/javascript": [
              "window[\"5116b0de-ba19-11ed-9901-0242ac1c000c\"] = google.colab.output.setActiveOutputArea(window[\"511647ac-ba19-11ed-9901-0242ac1c000c\"]);\n",
              "//# sourceURL=js_eeeb9de15a"
            ]
          },
          "metadata": {}
        },
        {
          "output_type": "display_data",
          "data": {
            "text/plain": [
              "<IPython.core.display.Javascript object>"
            ],
            "application/javascript": [
              "window[\"5135e8f0-ba19-11ed-9901-0242ac1c000c\"] = google.colab.output.setActiveOutputArea(window[\"5115d40c-ba19-11ed-9901-0242ac1c000c\"]);\n",
              "//# sourceURL=js_ee3076ff15"
            ]
          },
          "metadata": {}
        },
        {
          "output_type": "display_data",
          "data": {
            "text/plain": [
              "<IPython.core.display.Javascript object>"
            ],
            "application/javascript": [
              "window[\"51d120c2-ba19-11ed-9901-0242ac1c000c\"] = google.colab.output.getActiveOutputArea();\n",
              "//# sourceURL=js_888aa32322"
            ]
          },
          "metadata": {}
        },
        {
          "output_type": "display_data",
          "data": {
            "text/plain": [
              "<IPython.core.display.Javascript object>"
            ],
            "application/javascript": [
              "window[\"51d19084-ba19-11ed-9901-0242ac1c000c\"] = document.querySelector(\"#id28-0-0\");\n",
              "//# sourceURL=js_443f68b133"
            ]
          },
          "metadata": {}
        },
        {
          "output_type": "display_data",
          "data": {
            "text/plain": [
              "<IPython.core.display.Javascript object>"
            ],
            "application/javascript": [
              "window[\"51d24f60-ba19-11ed-9901-0242ac1c000c\"] = google.colab.output.setActiveOutputArea(window[\"51d19084-ba19-11ed-9901-0242ac1c000c\"]);\n",
              "//# sourceURL=js_b783429dc3"
            ]
          },
          "metadata": {}
        },
        {
          "output_type": "display_data",
          "data": {
            "text/plain": [
              "<IPython.core.display.Javascript object>"
            ],
            "application/javascript": [
              "window[\"51f1ea00-ba19-11ed-9901-0242ac1c000c\"] = google.colab.output.setActiveOutputArea(window[\"51d120c2-ba19-11ed-9901-0242ac1c000c\"]);\n",
              "//# sourceURL=js_b9b746bea5"
            ]
          },
          "metadata": {}
        },
        {
          "output_type": "display_data",
          "data": {
            "text/plain": [
              "<IPython.core.display.Javascript object>"
            ],
            "application/javascript": [
              "window[\"528cddda-ba19-11ed-9901-0242ac1c000c\"] = google.colab.output.getActiveOutputArea();\n",
              "//# sourceURL=js_4e0b3ec198"
            ]
          },
          "metadata": {}
        },
        {
          "output_type": "display_data",
          "data": {
            "text/plain": [
              "<IPython.core.display.Javascript object>"
            ],
            "application/javascript": [
              "window[\"528d5b98-ba19-11ed-9901-0242ac1c000c\"] = document.querySelector(\"#id28-0-0\");\n",
              "//# sourceURL=js_0cdf0ca6fb"
            ]
          },
          "metadata": {}
        },
        {
          "output_type": "display_data",
          "data": {
            "text/plain": [
              "<IPython.core.display.Javascript object>"
            ],
            "application/javascript": [
              "window[\"528dc204-ba19-11ed-9901-0242ac1c000c\"] = google.colab.output.setActiveOutputArea(window[\"528d5b98-ba19-11ed-9901-0242ac1c000c\"]);\n",
              "//# sourceURL=js_e640c01eba"
            ]
          },
          "metadata": {}
        },
        {
          "output_type": "display_data",
          "data": {
            "text/plain": [
              "<IPython.core.display.Javascript object>"
            ],
            "application/javascript": [
              "window[\"52ad2e5a-ba19-11ed-9901-0242ac1c000c\"] = google.colab.output.setActiveOutputArea(window[\"528cddda-ba19-11ed-9901-0242ac1c000c\"]);\n",
              "//# sourceURL=js_157f3e7826"
            ]
          },
          "metadata": {}
        },
        {
          "output_type": "display_data",
          "data": {
            "text/plain": [
              "<IPython.core.display.Javascript object>"
            ],
            "application/javascript": [
              "window[\"53482ce8-ba19-11ed-9901-0242ac1c000c\"] = google.colab.output.getActiveOutputArea();\n",
              "//# sourceURL=js_00fbef0f74"
            ]
          },
          "metadata": {}
        },
        {
          "output_type": "display_data",
          "data": {
            "text/plain": [
              "<IPython.core.display.Javascript object>"
            ],
            "application/javascript": [
              "window[\"5348cb12-ba19-11ed-9901-0242ac1c000c\"] = document.querySelector(\"#id28-0-0\");\n",
              "//# sourceURL=js_845a1249a0"
            ]
          },
          "metadata": {}
        },
        {
          "output_type": "display_data",
          "data": {
            "text/plain": [
              "<IPython.core.display.Javascript object>"
            ],
            "application/javascript": [
              "window[\"534939da-ba19-11ed-9901-0242ac1c000c\"] = google.colab.output.setActiveOutputArea(window[\"5348cb12-ba19-11ed-9901-0242ac1c000c\"]);\n",
              "//# sourceURL=js_2289291ed0"
            ]
          },
          "metadata": {}
        },
        {
          "output_type": "display_data",
          "data": {
            "text/plain": [
              "<IPython.core.display.Javascript object>"
            ],
            "application/javascript": [
              "window[\"53697132-ba19-11ed-9901-0242ac1c000c\"] = google.colab.output.setActiveOutputArea(window[\"53482ce8-ba19-11ed-9901-0242ac1c000c\"]);\n",
              "//# sourceURL=js_12157e7d2f"
            ]
          },
          "metadata": {}
        },
        {
          "output_type": "display_data",
          "data": {
            "text/plain": [
              "<IPython.core.display.Javascript object>"
            ],
            "application/javascript": [
              "window[\"54048668-ba19-11ed-9901-0242ac1c000c\"] = google.colab.output.getActiveOutputArea();\n",
              "//# sourceURL=js_49f600212c"
            ]
          },
          "metadata": {}
        },
        {
          "output_type": "display_data",
          "data": {
            "text/plain": [
              "<IPython.core.display.Javascript object>"
            ],
            "application/javascript": [
              "window[\"54054292-ba19-11ed-9901-0242ac1c000c\"] = document.querySelector(\"#id28-0-0\");\n",
              "//# sourceURL=js_f987f7bb7e"
            ]
          },
          "metadata": {}
        },
        {
          "output_type": "display_data",
          "data": {
            "text/plain": [
              "<IPython.core.display.Javascript object>"
            ],
            "application/javascript": [
              "window[\"5405b88a-ba19-11ed-9901-0242ac1c000c\"] = google.colab.output.setActiveOutputArea(window[\"54054292-ba19-11ed-9901-0242ac1c000c\"]);\n",
              "//# sourceURL=js_31f0a7a413"
            ]
          },
          "metadata": {}
        },
        {
          "output_type": "display_data",
          "data": {
            "text/plain": [
              "<IPython.core.display.Javascript object>"
            ],
            "application/javascript": [
              "window[\"5438fcea-ba19-11ed-9901-0242ac1c000c\"] = google.colab.output.setActiveOutputArea(window[\"54048668-ba19-11ed-9901-0242ac1c000c\"]);\n",
              "//# sourceURL=js_41a6a642bd"
            ]
          },
          "metadata": {}
        },
        {
          "output_type": "display_data",
          "data": {
            "text/plain": [
              "<IPython.core.display.Javascript object>"
            ],
            "application/javascript": [
              "window[\"54d4e4a2-ba19-11ed-9901-0242ac1c000c\"] = google.colab.output.getActiveOutputArea();\n",
              "//# sourceURL=js_55dddafa38"
            ]
          },
          "metadata": {}
        },
        {
          "output_type": "display_data",
          "data": {
            "text/plain": [
              "<IPython.core.display.Javascript object>"
            ],
            "application/javascript": [
              "window[\"54d55784-ba19-11ed-9901-0242ac1c000c\"] = document.querySelector(\"#id28-0-0\");\n",
              "//# sourceURL=js_a4b5392f92"
            ]
          },
          "metadata": {}
        },
        {
          "output_type": "display_data",
          "data": {
            "text/plain": [
              "<IPython.core.display.Javascript object>"
            ],
            "application/javascript": [
              "window[\"54d63762-ba19-11ed-9901-0242ac1c000c\"] = google.colab.output.setActiveOutputArea(window[\"54d55784-ba19-11ed-9901-0242ac1c000c\"]);\n",
              "//# sourceURL=js_416ecf09a5"
            ]
          },
          "metadata": {}
        },
        {
          "output_type": "display_data",
          "data": {
            "text/plain": [
              "<IPython.core.display.Javascript object>"
            ],
            "application/javascript": [
              "window[\"54feff80-ba19-11ed-9901-0242ac1c000c\"] = google.colab.output.setActiveOutputArea(window[\"54d4e4a2-ba19-11ed-9901-0242ac1c000c\"]);\n",
              "//# sourceURL=js_35224c6d4b"
            ]
          },
          "metadata": {}
        },
        {
          "output_type": "display_data",
          "data": {
            "text/plain": [
              "<IPython.core.display.Javascript object>"
            ],
            "application/javascript": [
              "window[\"559a12cc-ba19-11ed-9901-0242ac1c000c\"] = google.colab.output.getActiveOutputArea();\n",
              "//# sourceURL=js_da6df71c43"
            ]
          },
          "metadata": {}
        },
        {
          "output_type": "display_data",
          "data": {
            "text/plain": [
              "<IPython.core.display.Javascript object>"
            ],
            "application/javascript": [
              "window[\"559a7b54-ba19-11ed-9901-0242ac1c000c\"] = document.querySelector(\"#id28-0-0\");\n",
              "//# sourceURL=js_040a8b0326"
            ]
          },
          "metadata": {}
        },
        {
          "output_type": "display_data",
          "data": {
            "text/plain": [
              "<IPython.core.display.Javascript object>"
            ],
            "application/javascript": [
              "window[\"559ae1de-ba19-11ed-9901-0242ac1c000c\"] = google.colab.output.setActiveOutputArea(window[\"559a7b54-ba19-11ed-9901-0242ac1c000c\"]);\n",
              "//# sourceURL=js_034939fead"
            ]
          },
          "metadata": {}
        },
        {
          "output_type": "display_data",
          "data": {
            "text/plain": [
              "<IPython.core.display.Javascript object>"
            ],
            "application/javascript": [
              "window[\"55bac080-ba19-11ed-9901-0242ac1c000c\"] = google.colab.output.setActiveOutputArea(window[\"559a12cc-ba19-11ed-9901-0242ac1c000c\"]);\n",
              "//# sourceURL=js_4582f21139"
            ]
          },
          "metadata": {}
        },
        {
          "output_type": "display_data",
          "data": {
            "text/plain": [
              "<IPython.core.display.Javascript object>"
            ],
            "application/javascript": [
              "window[\"5655b626-ba19-11ed-9901-0242ac1c000c\"] = google.colab.output.getActiveOutputArea();\n",
              "//# sourceURL=js_6a7db829a6"
            ]
          },
          "metadata": {}
        },
        {
          "output_type": "display_data",
          "data": {
            "text/plain": [
              "<IPython.core.display.Javascript object>"
            ],
            "application/javascript": [
              "window[\"5656509a-ba19-11ed-9901-0242ac1c000c\"] = document.querySelector(\"#id28-0-0\");\n",
              "//# sourceURL=js_90ce2fde86"
            ]
          },
          "metadata": {}
        },
        {
          "output_type": "display_data",
          "data": {
            "text/plain": [
              "<IPython.core.display.Javascript object>"
            ],
            "application/javascript": [
              "window[\"5656dd9e-ba19-11ed-9901-0242ac1c000c\"] = google.colab.output.setActiveOutputArea(window[\"5656509a-ba19-11ed-9901-0242ac1c000c\"]);\n",
              "//# sourceURL=js_edcadd3536"
            ]
          },
          "metadata": {}
        },
        {
          "output_type": "display_data",
          "data": {
            "text/plain": [
              "<IPython.core.display.Javascript object>"
            ],
            "application/javascript": [
              "window[\"56764b0c-ba19-11ed-9901-0242ac1c000c\"] = google.colab.output.setActiveOutputArea(window[\"5655b626-ba19-11ed-9901-0242ac1c000c\"]);\n",
              "//# sourceURL=js_70715d94b6"
            ]
          },
          "metadata": {}
        },
        {
          "output_type": "display_data",
          "data": {
            "text/plain": [
              "<IPython.core.display.Javascript object>"
            ],
            "application/javascript": [
              "window[\"5711b0ce-ba19-11ed-9901-0242ac1c000c\"] = google.colab.output.getActiveOutputArea();\n",
              "//# sourceURL=js_683263ef01"
            ]
          },
          "metadata": {}
        },
        {
          "output_type": "display_data",
          "data": {
            "text/plain": [
              "<IPython.core.display.Javascript object>"
            ],
            "application/javascript": [
              "window[\"571282ce-ba19-11ed-9901-0242ac1c000c\"] = document.querySelector(\"#id28-0-0\");\n",
              "//# sourceURL=js_270fd43b32"
            ]
          },
          "metadata": {}
        },
        {
          "output_type": "display_data",
          "data": {
            "text/plain": [
              "<IPython.core.display.Javascript object>"
            ],
            "application/javascript": [
              "window[\"5713385e-ba19-11ed-9901-0242ac1c000c\"] = google.colab.output.setActiveOutputArea(window[\"571282ce-ba19-11ed-9901-0242ac1c000c\"]);\n",
              "//# sourceURL=js_dfed718dfe"
            ]
          },
          "metadata": {}
        },
        {
          "output_type": "display_data",
          "data": {
            "text/plain": [
              "<IPython.core.display.Javascript object>"
            ],
            "application/javascript": [
              "window[\"57351708-ba19-11ed-9901-0242ac1c000c\"] = google.colab.output.setActiveOutputArea(window[\"5711b0ce-ba19-11ed-9901-0242ac1c000c\"]);\n",
              "//# sourceURL=js_9a677889de"
            ]
          },
          "metadata": {}
        },
        {
          "output_type": "display_data",
          "data": {
            "text/plain": [
              "<IPython.core.display.Javascript object>"
            ],
            "application/javascript": [
              "window[\"57d0691a-ba19-11ed-9901-0242ac1c000c\"] = google.colab.output.getActiveOutputArea();\n",
              "//# sourceURL=js_e913cf9134"
            ]
          },
          "metadata": {}
        },
        {
          "output_type": "display_data",
          "data": {
            "text/plain": [
              "<IPython.core.display.Javascript object>"
            ],
            "application/javascript": [
              "window[\"57d1123e-ba19-11ed-9901-0242ac1c000c\"] = document.querySelector(\"#id28-0-0\");\n",
              "//# sourceURL=js_ab1ec64d42"
            ]
          },
          "metadata": {}
        },
        {
          "output_type": "display_data",
          "data": {
            "text/plain": [
              "<IPython.core.display.Javascript object>"
            ],
            "application/javascript": [
              "window[\"57d18fac-ba19-11ed-9901-0242ac1c000c\"] = google.colab.output.setActiveOutputArea(window[\"57d1123e-ba19-11ed-9901-0242ac1c000c\"]);\n",
              "//# sourceURL=js_813d542694"
            ]
          },
          "metadata": {}
        },
        {
          "output_type": "display_data",
          "data": {
            "text/plain": [
              "<IPython.core.display.Javascript object>"
            ],
            "application/javascript": [
              "window[\"57f1efcc-ba19-11ed-9901-0242ac1c000c\"] = google.colab.output.setActiveOutputArea(window[\"57d0691a-ba19-11ed-9901-0242ac1c000c\"]);\n",
              "//# sourceURL=js_4e2d28ea35"
            ]
          },
          "metadata": {}
        },
        {
          "output_type": "display_data",
          "data": {
            "text/plain": [
              "<IPython.core.display.Javascript object>"
            ],
            "application/javascript": [
              "window[\"588dff5c-ba19-11ed-9901-0242ac1c000c\"] = google.colab.output.getActiveOutputArea();\n",
              "//# sourceURL=js_28a2659a99"
            ]
          },
          "metadata": {}
        },
        {
          "output_type": "display_data",
          "data": {
            "text/plain": [
              "<IPython.core.display.Javascript object>"
            ],
            "application/javascript": [
              "window[\"588ec72a-ba19-11ed-9901-0242ac1c000c\"] = document.querySelector(\"#id28-0-0\");\n",
              "//# sourceURL=js_7aee3d5bf0"
            ]
          },
          "metadata": {}
        },
        {
          "output_type": "display_data",
          "data": {
            "text/plain": [
              "<IPython.core.display.Javascript object>"
            ],
            "application/javascript": [
              "window[\"588f3e58-ba19-11ed-9901-0242ac1c000c\"] = google.colab.output.setActiveOutputArea(window[\"588ec72a-ba19-11ed-9901-0242ac1c000c\"]);\n",
              "//# sourceURL=js_603534e44d"
            ]
          },
          "metadata": {}
        },
        {
          "output_type": "display_data",
          "data": {
            "text/plain": [
              "<IPython.core.display.Javascript object>"
            ],
            "application/javascript": [
              "window[\"58b06204-ba19-11ed-9901-0242ac1c000c\"] = google.colab.output.setActiveOutputArea(window[\"588dff5c-ba19-11ed-9901-0242ac1c000c\"]);\n",
              "//# sourceURL=js_ebd969fc90"
            ]
          },
          "metadata": {}
        },
        {
          "output_type": "display_data",
          "data": {
            "text/plain": [
              "<IPython.core.display.Javascript object>"
            ],
            "application/javascript": [
              "window[\"594c34b8-ba19-11ed-9901-0242ac1c000c\"] = google.colab.output.getActiveOutputArea();\n",
              "//# sourceURL=js_9a54f49ce0"
            ]
          },
          "metadata": {}
        },
        {
          "output_type": "display_data",
          "data": {
            "text/plain": [
              "<IPython.core.display.Javascript object>"
            ],
            "application/javascript": [
              "window[\"594cae70-ba19-11ed-9901-0242ac1c000c\"] = document.querySelector(\"#id28-0-0\");\n",
              "//# sourceURL=js_6402482412"
            ]
          },
          "metadata": {}
        },
        {
          "output_type": "display_data",
          "data": {
            "text/plain": [
              "<IPython.core.display.Javascript object>"
            ],
            "application/javascript": [
              "window[\"594d3c00-ba19-11ed-9901-0242ac1c000c\"] = google.colab.output.setActiveOutputArea(window[\"594cae70-ba19-11ed-9901-0242ac1c000c\"]);\n",
              "//# sourceURL=js_f8b3517e7f"
            ]
          },
          "metadata": {}
        },
        {
          "output_type": "display_data",
          "data": {
            "text/plain": [
              "<IPython.core.display.Javascript object>"
            ],
            "application/javascript": [
              "window[\"596cf9b4-ba19-11ed-9901-0242ac1c000c\"] = google.colab.output.setActiveOutputArea(window[\"594c34b8-ba19-11ed-9901-0242ac1c000c\"]);\n",
              "//# sourceURL=js_929df27127"
            ]
          },
          "metadata": {}
        },
        {
          "output_type": "display_data",
          "data": {
            "text/plain": [
              "<IPython.core.display.Javascript object>"
            ],
            "application/javascript": [
              "window[\"5a0808aa-ba19-11ed-9901-0242ac1c000c\"] = google.colab.output.getActiveOutputArea();\n",
              "//# sourceURL=js_80b6306cb5"
            ]
          },
          "metadata": {}
        },
        {
          "output_type": "display_data",
          "data": {
            "text/plain": [
              "<IPython.core.display.Javascript object>"
            ],
            "application/javascript": [
              "window[\"5a0882f8-ba19-11ed-9901-0242ac1c000c\"] = document.querySelector(\"#id28-0-0\");\n",
              "//# sourceURL=js_b1d79ddefa"
            ]
          },
          "metadata": {}
        },
        {
          "output_type": "display_data",
          "data": {
            "text/plain": [
              "<IPython.core.display.Javascript object>"
            ],
            "application/javascript": [
              "window[\"5a091b32-ba19-11ed-9901-0242ac1c000c\"] = google.colab.output.setActiveOutputArea(window[\"5a0882f8-ba19-11ed-9901-0242ac1c000c\"]);\n",
              "//# sourceURL=js_6b01fd1c1b"
            ]
          },
          "metadata": {}
        },
        {
          "output_type": "display_data",
          "data": {
            "text/plain": [
              "<IPython.core.display.Javascript object>"
            ],
            "application/javascript": [
              "window[\"5a446494-ba19-11ed-9901-0242ac1c000c\"] = google.colab.output.setActiveOutputArea(window[\"5a0808aa-ba19-11ed-9901-0242ac1c000c\"]);\n",
              "//# sourceURL=js_56926484dc"
            ]
          },
          "metadata": {}
        },
        {
          "output_type": "display_data",
          "data": {
            "text/plain": [
              "<IPython.core.display.Javascript object>"
            ],
            "application/javascript": [
              "window[\"5adf9978-ba19-11ed-9901-0242ac1c000c\"] = google.colab.output.getActiveOutputArea();\n",
              "//# sourceURL=js_f8a3759d8a"
            ]
          },
          "metadata": {}
        },
        {
          "output_type": "display_data",
          "data": {
            "text/plain": [
              "<IPython.core.display.Javascript object>"
            ],
            "application/javascript": [
              "window[\"5ae0d658-ba19-11ed-9901-0242ac1c000c\"] = document.querySelector(\"#id28-0-0\");\n",
              "//# sourceURL=js_5ff00fa5c2"
            ]
          },
          "metadata": {}
        },
        {
          "output_type": "display_data",
          "data": {
            "text/plain": [
              "<IPython.core.display.Javascript object>"
            ],
            "application/javascript": [
              "window[\"5ae1c04a-ba19-11ed-9901-0242ac1c000c\"] = google.colab.output.setActiveOutputArea(window[\"5ae0d658-ba19-11ed-9901-0242ac1c000c\"]);\n",
              "//# sourceURL=js_acd29fd5d3"
            ]
          },
          "metadata": {}
        },
        {
          "output_type": "display_data",
          "data": {
            "text/plain": [
              "<IPython.core.display.Javascript object>"
            ],
            "application/javascript": [
              "window[\"5b0c7ee8-ba19-11ed-9901-0242ac1c000c\"] = google.colab.output.setActiveOutputArea(window[\"5adf9978-ba19-11ed-9901-0242ac1c000c\"]);\n",
              "//# sourceURL=js_5125a5db23"
            ]
          },
          "metadata": {}
        },
        {
          "output_type": "display_data",
          "data": {
            "text/plain": [
              "<IPython.core.display.Javascript object>"
            ],
            "application/javascript": [
              "window[\"5ba7ac88-ba19-11ed-9901-0242ac1c000c\"] = google.colab.output.getActiveOutputArea();\n",
              "//# sourceURL=js_bcf7ff4f7a"
            ]
          },
          "metadata": {}
        },
        {
          "output_type": "display_data",
          "data": {
            "text/plain": [
              "<IPython.core.display.Javascript object>"
            ],
            "application/javascript": [
              "window[\"5ba884aa-ba19-11ed-9901-0242ac1c000c\"] = document.querySelector(\"#id28-0-0\");\n",
              "//# sourceURL=js_cb9a63dc84"
            ]
          },
          "metadata": {}
        },
        {
          "output_type": "display_data",
          "data": {
            "text/plain": [
              "<IPython.core.display.Javascript object>"
            ],
            "application/javascript": [
              "window[\"5ba930e4-ba19-11ed-9901-0242ac1c000c\"] = google.colab.output.setActiveOutputArea(window[\"5ba884aa-ba19-11ed-9901-0242ac1c000c\"]);\n",
              "//# sourceURL=js_3e450ed2e0"
            ]
          },
          "metadata": {}
        },
        {
          "output_type": "display_data",
          "data": {
            "text/plain": [
              "<IPython.core.display.Javascript object>"
            ],
            "application/javascript": [
              "window[\"5bd7c42c-ba19-11ed-9901-0242ac1c000c\"] = google.colab.output.setActiveOutputArea(window[\"5ba7ac88-ba19-11ed-9901-0242ac1c000c\"]);\n",
              "//# sourceURL=js_65d7de9d13"
            ]
          },
          "metadata": {}
        },
        {
          "output_type": "display_data",
          "data": {
            "text/plain": [
              "<IPython.core.display.Javascript object>"
            ],
            "application/javascript": [
              "window[\"5c72d2aa-ba19-11ed-9901-0242ac1c000c\"] = google.colab.output.getActiveOutputArea();\n",
              "//# sourceURL=js_82bb3a0918"
            ]
          },
          "metadata": {}
        },
        {
          "output_type": "display_data",
          "data": {
            "text/plain": [
              "<IPython.core.display.Javascript object>"
            ],
            "application/javascript": [
              "window[\"5c73683c-ba19-11ed-9901-0242ac1c000c\"] = document.querySelector(\"#id28-0-0\");\n",
              "//# sourceURL=js_28d36d9a8c"
            ]
          },
          "metadata": {}
        },
        {
          "output_type": "display_data",
          "data": {
            "text/plain": [
              "<IPython.core.display.Javascript object>"
            ],
            "application/javascript": [
              "window[\"5c73e6c2-ba19-11ed-9901-0242ac1c000c\"] = google.colab.output.setActiveOutputArea(window[\"5c73683c-ba19-11ed-9901-0242ac1c000c\"]);\n",
              "//# sourceURL=js_0b06bdfdea"
            ]
          },
          "metadata": {}
        },
        {
          "output_type": "display_data",
          "data": {
            "text/plain": [
              "<IPython.core.display.Javascript object>"
            ],
            "application/javascript": [
              "window[\"5c96b5f8-ba19-11ed-9901-0242ac1c000c\"] = google.colab.output.setActiveOutputArea(window[\"5c72d2aa-ba19-11ed-9901-0242ac1c000c\"]);\n",
              "//# sourceURL=js_dc89637453"
            ]
          },
          "metadata": {}
        },
        {
          "output_type": "display_data",
          "data": {
            "text/plain": [
              "<IPython.core.display.Javascript object>"
            ],
            "application/javascript": [
              "window[\"5d318998-ba19-11ed-9901-0242ac1c000c\"] = google.colab.output.getActiveOutputArea();\n",
              "//# sourceURL=js_12ee263bb8"
            ]
          },
          "metadata": {}
        },
        {
          "output_type": "display_data",
          "data": {
            "text/plain": [
              "<IPython.core.display.Javascript object>"
            ],
            "application/javascript": [
              "window[\"5d31f7fc-ba19-11ed-9901-0242ac1c000c\"] = document.querySelector(\"#id28-0-0\");\n",
              "//# sourceURL=js_11d743409d"
            ]
          },
          "metadata": {}
        },
        {
          "output_type": "display_data",
          "data": {
            "text/plain": [
              "<IPython.core.display.Javascript object>"
            ],
            "application/javascript": [
              "window[\"5d329ec8-ba19-11ed-9901-0242ac1c000c\"] = google.colab.output.setActiveOutputArea(window[\"5d31f7fc-ba19-11ed-9901-0242ac1c000c\"]);\n",
              "//# sourceURL=js_c3c3596bf0"
            ]
          },
          "metadata": {}
        },
        {
          "output_type": "display_data",
          "data": {
            "text/plain": [
              "<IPython.core.display.Javascript object>"
            ],
            "application/javascript": [
              "window[\"5d539c68-ba19-11ed-9901-0242ac1c000c\"] = google.colab.output.setActiveOutputArea(window[\"5d318998-ba19-11ed-9901-0242ac1c000c\"]);\n",
              "//# sourceURL=js_1915cf7f9f"
            ]
          },
          "metadata": {}
        },
        {
          "output_type": "display_data",
          "data": {
            "text/plain": [
              "<IPython.core.display.Javascript object>"
            ],
            "application/javascript": [
              "window[\"5def60a8-ba19-11ed-9901-0242ac1c000c\"] = google.colab.output.getActiveOutputArea();\n",
              "//# sourceURL=js_6d904886e3"
            ]
          },
          "metadata": {}
        },
        {
          "output_type": "display_data",
          "data": {
            "text/plain": [
              "<IPython.core.display.Javascript object>"
            ],
            "application/javascript": [
              "window[\"5df01fde-ba19-11ed-9901-0242ac1c000c\"] = document.querySelector(\"#id28-0-0\");\n",
              "//# sourceURL=js_ac013fd099"
            ]
          },
          "metadata": {}
        },
        {
          "output_type": "display_data",
          "data": {
            "text/plain": [
              "<IPython.core.display.Javascript object>"
            ],
            "application/javascript": [
              "window[\"5df0970c-ba19-11ed-9901-0242ac1c000c\"] = google.colab.output.setActiveOutputArea(window[\"5df01fde-ba19-11ed-9901-0242ac1c000c\"]);\n",
              "//# sourceURL=js_cc31023a14"
            ]
          },
          "metadata": {}
        },
        {
          "output_type": "display_data",
          "data": {
            "text/plain": [
              "<IPython.core.display.Javascript object>"
            ],
            "application/javascript": [
              "window[\"5e163318-ba19-11ed-9901-0242ac1c000c\"] = google.colab.output.setActiveOutputArea(window[\"5def60a8-ba19-11ed-9901-0242ac1c000c\"]);\n",
              "//# sourceURL=js_69bdb5881e"
            ]
          },
          "metadata": {}
        },
        {
          "output_type": "display_data",
          "data": {
            "text/plain": [
              "<IPython.core.display.Javascript object>"
            ],
            "application/javascript": [
              "window[\"5eb25824-ba19-11ed-9901-0242ac1c000c\"] = google.colab.output.getActiveOutputArea();\n",
              "//# sourceURL=js_6a6957bbdc"
            ]
          },
          "metadata": {}
        },
        {
          "output_type": "display_data",
          "data": {
            "text/plain": [
              "<IPython.core.display.Javascript object>"
            ],
            "application/javascript": [
              "window[\"5eb30436-ba19-11ed-9901-0242ac1c000c\"] = document.querySelector(\"#id28-0-0\");\n",
              "//# sourceURL=js_b67c55104d"
            ]
          },
          "metadata": {}
        },
        {
          "output_type": "display_data",
          "data": {
            "text/plain": [
              "<IPython.core.display.Javascript object>"
            ],
            "application/javascript": [
              "window[\"5eb39a7c-ba19-11ed-9901-0242ac1c000c\"] = google.colab.output.setActiveOutputArea(window[\"5eb30436-ba19-11ed-9901-0242ac1c000c\"]);\n",
              "//# sourceURL=js_413ba3bf6c"
            ]
          },
          "metadata": {}
        },
        {
          "output_type": "display_data",
          "data": {
            "text/plain": [
              "<IPython.core.display.Javascript object>"
            ],
            "application/javascript": [
              "window[\"5ed3c428-ba19-11ed-9901-0242ac1c000c\"] = google.colab.output.setActiveOutputArea(window[\"5eb25824-ba19-11ed-9901-0242ac1c000c\"]);\n",
              "//# sourceURL=js_f09ecb1af1"
            ]
          },
          "metadata": {}
        },
        {
          "output_type": "display_data",
          "data": {
            "text/plain": [
              "<IPython.core.display.Javascript object>"
            ],
            "application/javascript": [
              "window[\"5f6f4344-ba19-11ed-9901-0242ac1c000c\"] = google.colab.output.getActiveOutputArea();\n",
              "//# sourceURL=js_0ca1b82fcb"
            ]
          },
          "metadata": {}
        },
        {
          "output_type": "display_data",
          "data": {
            "text/plain": [
              "<IPython.core.display.Javascript object>"
            ],
            "application/javascript": [
              "window[\"5f6fb31a-ba19-11ed-9901-0242ac1c000c\"] = document.querySelector(\"#id28-0-0\");\n",
              "//# sourceURL=js_275298314a"
            ]
          },
          "metadata": {}
        },
        {
          "output_type": "display_data",
          "data": {
            "text/plain": [
              "<IPython.core.display.Javascript object>"
            ],
            "application/javascript": [
              "window[\"5f70266a-ba19-11ed-9901-0242ac1c000c\"] = google.colab.output.setActiveOutputArea(window[\"5f6fb31a-ba19-11ed-9901-0242ac1c000c\"]);\n",
              "//# sourceURL=js_4e70b8ad81"
            ]
          },
          "metadata": {}
        },
        {
          "output_type": "display_data",
          "data": {
            "text/plain": [
              "<IPython.core.display.Javascript object>"
            ],
            "application/javascript": [
              "window[\"5f934bcc-ba19-11ed-9901-0242ac1c000c\"] = google.colab.output.setActiveOutputArea(window[\"5f6f4344-ba19-11ed-9901-0242ac1c000c\"]);\n",
              "//# sourceURL=js_5dd8122bd2"
            ]
          },
          "metadata": {}
        },
        {
          "output_type": "display_data",
          "data": {
            "text/plain": [
              "<IPython.core.display.Javascript object>"
            ],
            "application/javascript": [
              "window[\"6030291a-ba19-11ed-9901-0242ac1c000c\"] = google.colab.output.getActiveOutputArea();\n",
              "//# sourceURL=js_856576d9b2"
            ]
          },
          "metadata": {}
        },
        {
          "output_type": "display_data",
          "data": {
            "text/plain": [
              "<IPython.core.display.Javascript object>"
            ],
            "application/javascript": [
              "window[\"6030d5ae-ba19-11ed-9901-0242ac1c000c\"] = document.querySelector(\"#id28-0-0\");\n",
              "//# sourceURL=js_d96dedbb48"
            ]
          },
          "metadata": {}
        },
        {
          "output_type": "display_data",
          "data": {
            "text/plain": [
              "<IPython.core.display.Javascript object>"
            ],
            "application/javascript": [
              "window[\"60314a3e-ba19-11ed-9901-0242ac1c000c\"] = google.colab.output.setActiveOutputArea(window[\"6030d5ae-ba19-11ed-9901-0242ac1c000c\"]);\n",
              "//# sourceURL=js_c9c6e7a7d3"
            ]
          },
          "metadata": {}
        },
        {
          "output_type": "display_data",
          "data": {
            "text/plain": [
              "<IPython.core.display.Javascript object>"
            ],
            "application/javascript": [
              "window[\"6053917a-ba19-11ed-9901-0242ac1c000c\"] = google.colab.output.setActiveOutputArea(window[\"6030291a-ba19-11ed-9901-0242ac1c000c\"]);\n",
              "//# sourceURL=js_65e4e138f9"
            ]
          },
          "metadata": {}
        },
        {
          "output_type": "display_data",
          "data": {
            "text/plain": [
              "<IPython.core.display.Javascript object>"
            ],
            "application/javascript": [
              "window[\"60ef3288-ba19-11ed-9901-0242ac1c000c\"] = google.colab.output.getActiveOutputArea();\n",
              "//# sourceURL=js_f4a6c64085"
            ]
          },
          "metadata": {}
        },
        {
          "output_type": "display_data",
          "data": {
            "text/plain": [
              "<IPython.core.display.Javascript object>"
            ],
            "application/javascript": [
              "window[\"60efa740-ba19-11ed-9901-0242ac1c000c\"] = document.querySelector(\"#id28-0-0\");\n",
              "//# sourceURL=js_6c170cb63b"
            ]
          },
          "metadata": {}
        },
        {
          "output_type": "display_data",
          "data": {
            "text/plain": [
              "<IPython.core.display.Javascript object>"
            ],
            "application/javascript": [
              "window[\"60f01c98-ba19-11ed-9901-0242ac1c000c\"] = google.colab.output.setActiveOutputArea(window[\"60efa740-ba19-11ed-9901-0242ac1c000c\"]);\n",
              "//# sourceURL=js_9ab267bb5f"
            ]
          },
          "metadata": {}
        },
        {
          "output_type": "display_data",
          "data": {
            "text/plain": [
              "<IPython.core.display.Javascript object>"
            ],
            "application/javascript": [
              "window[\"61100972-ba19-11ed-9901-0242ac1c000c\"] = google.colab.output.setActiveOutputArea(window[\"60ef3288-ba19-11ed-9901-0242ac1c000c\"]);\n",
              "//# sourceURL=js_70721d9d01"
            ]
          },
          "metadata": {}
        },
        {
          "output_type": "display_data",
          "data": {
            "text/plain": [
              "<IPython.core.display.Javascript object>"
            ],
            "application/javascript": [
              "window[\"61ab1a84-ba19-11ed-9901-0242ac1c000c\"] = google.colab.output.getActiveOutputArea();\n",
              "//# sourceURL=js_bcf0b44d7d"
            ]
          },
          "metadata": {}
        },
        {
          "output_type": "display_data",
          "data": {
            "text/plain": [
              "<IPython.core.display.Javascript object>"
            ],
            "application/javascript": [
              "window[\"61ab8474-ba19-11ed-9901-0242ac1c000c\"] = document.querySelector(\"#id28-0-0\");\n",
              "//# sourceURL=js_6f4ed75d2d"
            ]
          },
          "metadata": {}
        },
        {
          "output_type": "display_data",
          "data": {
            "text/plain": [
              "<IPython.core.display.Javascript object>"
            ],
            "application/javascript": [
              "window[\"61ac0f02-ba19-11ed-9901-0242ac1c000c\"] = google.colab.output.setActiveOutputArea(window[\"61ab8474-ba19-11ed-9901-0242ac1c000c\"]);\n",
              "//# sourceURL=js_bcc9d10d7e"
            ]
          },
          "metadata": {}
        },
        {
          "output_type": "display_data",
          "data": {
            "text/plain": [
              "<IPython.core.display.Javascript object>"
            ],
            "application/javascript": [
              "window[\"61d0a862-ba19-11ed-9901-0242ac1c000c\"] = google.colab.output.setActiveOutputArea(window[\"61ab1a84-ba19-11ed-9901-0242ac1c000c\"]);\n",
              "//# sourceURL=js_2ef155d20e"
            ]
          },
          "metadata": {}
        },
        {
          "output_type": "display_data",
          "data": {
            "text/plain": [
              "<IPython.core.display.Javascript object>"
            ],
            "application/javascript": [
              "window[\"626c2580-ba19-11ed-9901-0242ac1c000c\"] = google.colab.output.getActiveOutputArea();\n",
              "//# sourceURL=js_23dd971397"
            ]
          },
          "metadata": {}
        },
        {
          "output_type": "display_data",
          "data": {
            "text/plain": [
              "<IPython.core.display.Javascript object>"
            ],
            "application/javascript": [
              "window[\"626ce632-ba19-11ed-9901-0242ac1c000c\"] = document.querySelector(\"#id28-0-0\");\n",
              "//# sourceURL=js_bba513e3eb"
            ]
          },
          "metadata": {}
        },
        {
          "output_type": "display_data",
          "data": {
            "text/plain": [
              "<IPython.core.display.Javascript object>"
            ],
            "application/javascript": [
              "window[\"626da8f6-ba19-11ed-9901-0242ac1c000c\"] = google.colab.output.setActiveOutputArea(window[\"626ce632-ba19-11ed-9901-0242ac1c000c\"]);\n",
              "//# sourceURL=js_944684774b"
            ]
          },
          "metadata": {}
        },
        {
          "output_type": "stream",
          "name": "stdout",
          "text": [
            "Reward ->  10\n"
          ]
        },
        {
          "output_type": "display_data",
          "data": {
            "text/plain": [
              "<Figure size 432x288 with 1 Axes>"
            ],
            "image/png": "[encoded data removed]"
          },
          "metadata": {
            "needs_background": "light"
          }
        },
        {
          "output_type": "display_data",
          "data": {
            "text/plain": [
              "<IPython.core.display.Javascript object>"
            ],
            "application/javascript": [
              "window[\"62a183f6-ba19-11ed-9901-0242ac1c000c\"] = google.colab.output.setActiveOutputArea(window[\"626c2580-ba19-11ed-9901-0242ac1c000c\"]);\n",
              "//# sourceURL=js_4ffc5a3c9c"
            ]
          },
          "metadata": {}
        }
      ]
    },
    {
      "cell_type": "code",
      "source": [
        "# plot cumulative avg rewards per episdoe "
      ],
      "metadata": {
        "id": "BvJ_l9fmkVYL"
      },
      "execution_count": null,
      "outputs": []
    },
    {
      "cell_type": "markdown",
      "source": [
        "\n",
        "---\n",
        "\n",
        "## #**2.2 SARSA Implementation**"
      ],
      "metadata": {
        "id": "jOW0xemfcpaR"
      }
    },
    {
      "cell_type": "markdown",
      "source": [
        "### 2.2.1 SARSA for Deterministic Environment"
      ],
      "metadata": {
        "id": "YHdHzq2M3v87"
      }
    },
    {
      "cell_type": "code",
      "source": [
        "import random\n",
        "from IPython.display import clear_output\n",
        "\n",
        "env = GridEnv(env_type = \"deterministic\")\n",
        "agent = RandomAgent(env)\n",
        "\n",
        "# Hyperparameters\n",
        "alpha = 0.12\n",
        "gamma = 0.95\n",
        "epsilon = 1.0\n",
        "num_episodes = 500\n",
        "max_timesteps = 15\n",
        "state1 = 0\n",
        "\n",
        "#Q-Table\n",
        "q_table_sarsa_det = np.random.rand(25, 4)\n",
        "q_table_sarsa_det = q_table_sarsa_det.astype(int)\n",
        "\n",
        "#data arrays\n",
        "epsilon_sarsa = []\n",
        "reward_sarsa = []\n",
        "all_penalties_sarsa_det = []\n",
        "\n",
        "#running for 1000 episodes\n",
        "for episode in range(num_episodes):\n",
        "  #resetting the state \n",
        "  state, agent_pos = env.reset()\n",
        "  penalties = 0\n",
        "\n",
        "  # print(state)\n",
        "  state_to_list = state.tolist()\n",
        "  if 1 in state_to_list:\n",
        "    state1 = state_to_list.index(1)\n",
        "  # print(index)\n",
        "  new_reward = 0\n",
        "  new_penalties = 0\n",
        "\n",
        "  for timestep in range(max_timesteps):\n",
        "    #Choosing an action based on e-greedy policy\n",
        "    if np.random.rand() < epsilon:\n",
        "      action = np.random.choice(env.action_space.n)\n",
        "    else:\n",
        "      action = np.argmax(q_table_sarsa_det[state1])\n",
        "\n",
        "    #getting the next state, reward\n",
        "    observation, reward, terminated, truncated, info, new_agent_pos = env.step(action)\n",
        "    \n",
        "    if reward == -5 or reward == -6 or reward == -2:\n",
        "      penalties += 1\n",
        "\n",
        "    #getting the new state\n",
        "    new_state_to_list = observation.tolist()\n",
        "    if 1 in new_state_to_list:\n",
        "      state2 = new_state_to_list.index(1)\n",
        "\n",
        "    if np.random.rand() < epsilon:\n",
        "      action2 = np.random.choice(env.action_space.n)\n",
        "    else:\n",
        "      action2 = np.argmax(q_table_sarsa_det[state2])\n",
        "\n",
        "    q_table_sarsa_det[state1, action] = q_table_sarsa_det[state1, action] + alpha * (reward + gamma * (q_table_sarsa_det[state2, action2] - q_table_sarsa_det[state1, action]))\n",
        "\n",
        "    \n",
        "    new_reward += reward\n",
        "    state1 = state2\n",
        "    new_penalties += penalties\n",
        "  reward_sarsa.append(new_reward)\n",
        "  all_penalties_sarsa_det.append(new_penalties)\n",
        "  epsilon *= 0.9908\n",
        "  epsilon_sarsa.append(epsilon)\n",
        "  # print(epsilon)\n",
        "\n",
        "# print(\"Q-Table : \", q_table_sarsa)\n",
        "# print(epsilon_val)\n",
        "# print(\"Q Table : \", q_table_sarsa)"
      ],
      "metadata": {
        "id": "dgV8giqZTVHr"
      },
      "execution_count": 270,
      "outputs": []
    },
    {
      "cell_type": "markdown",
      "source": [
        "**Epsilon-Decay Graph**"
      ],
      "metadata": {
        "id": "3EDwAtWS3--Y"
      }
    },
    {
      "cell_type": "code",
      "source": [
        "plt.figure(figsize=(5,5))\n",
        "plt.plot(epsilon_sarsa, linewidth=4)\n",
        "plt.xlabel('Episode', fontsize=16)\n",
        "plt.ylabel('Epsilon Values', fontsize=16)\n",
        "plt.title('Epsilon Decay (SARSA - Deterministic)', fontsize=20)\n",
        "plt.xticks(fontsize=16)\n",
        "plt.yticks(fontsize=16)\n",
        "plt.ylim(ymin=0, ymax=1)\n",
        "plt.xlim(xmin=0, xmax=500)\n",
        "plt.grid()\n",
        "plt.show()"
      ],
      "metadata": {
        "colab": {
          "base_uri": "https://localhost:8080/",
          "height": 365
        },
        "id": "J6ZvHRH6HmXv",
        "outputId": "87fefaba-723d-4dfe-9e8d-b1d300928d1b"
      },
      "execution_count": 272,
      "outputs": [
        {
          "output_type": "display_data",
          "data": {
            "text/plain": [
              "<Figure size 360x360 with 1 Axes>"
            ],
            "image/png": "[encoded data removed]"
          },
          "metadata": {
            "needs_background": "light"
          }
        }
      ]
    },
    {
      "cell_type": "markdown",
      "source": [
        "**Reward Per Episode**"
      ],
      "metadata": {
        "id": "LbO2QRiy4c0y"
      }
    },
    {
      "cell_type": "code",
      "source": [
        "plt.figure(figsize=(8,8))\n",
        "plt.plot(reward_sarsa, 'ro')\n",
        "plt.xlabel('Episode', fontsize=18)\n",
        "plt.ylabel('Reward Value', fontsize=18)\n",
        "plt.title('Rewards Per Episode (SARSA - Deterministic)', fontsize=20)\n",
        "plt.xticks(fontsize=16)\n",
        "plt.yticks([-60, -50, -20, 0, 20, 40, 60, 80, 100, 120, 140, 160], fontsize=16)\n",
        "plt.ylim(ymin=-30, ymax=170)\n",
        "plt.xlim(xmin=-5, xmax=500)\n",
        "plt.grid()\n",
        "plt.show()"
      ],
      "metadata": {
        "colab": {
          "base_uri": "https://localhost:8080/",
          "height": 531
        },
        "id": "HMvfix87kX_F",
        "outputId": "0fd95160-140f-4845-b790-8bf03d320581"
      },
      "execution_count": 279,
      "outputs": [
        {
          "output_type": "display_data",
          "data": {
            "text/plain": [
              "<Figure size 576x576 with 1 Axes>"
            ],
            "image/png": "[encoded data removed]"
          },
          "metadata": {
            "needs_background": "light"
          }
        }
      ]
    },
    {
      "cell_type": "markdown",
      "source": [
        "**Penalties Per Episode**"
      ],
      "metadata": {
        "id": "lq_o8QrS4jKT"
      }
    },
    {
      "cell_type": "code",
      "source": [
        "plt.figure(figsize=(8,8))\n",
        "plt.plot(all_penalties_sarsa_det, 'go')\n",
        "plt.xlabel('Episode', fontsize=18)\n",
        "plt.ylabel('Penalties', fontsize=18)\n",
        "plt.title('Penalties Per Episode (SARSA - Deterministic)', fontsize=20)\n",
        "plt.xticks(fontsize=16)\n",
        "plt.yticks([-60, -50, -20, 0, 20, 40, 60, 80, 100], fontsize=16)\n",
        "plt.ylim(ymin=-7, ymax=100)\n",
        "plt.xlim(xmin=0, xmax=500)\n",
        "plt.grid()\n",
        "plt.show()"
      ],
      "metadata": {
        "colab": {
          "base_uri": "https://localhost:8080/",
          "height": 531
        },
        "id": "nU5Pt-6kr7l7",
        "outputId": "2ba01e64-5130-4321-d9ca-28be3797ca5a"
      },
      "execution_count": 282,
      "outputs": [
        {
          "output_type": "display_data",
          "data": {
            "text/plain": [
              "<Figure size 576x576 with 1 Axes>"
            ],
            "image/png": "[encoded data removed]"
          },
          "metadata": {
            "needs_background": "light"
          }
        }
      ]
    },
    {
      "cell_type": "markdown",
      "source": [
        "### 2.2.2 SARSA for Stochastic Environment"
      ],
      "metadata": {
        "id": "dEBcfx6P326N"
      }
    },
    {
      "cell_type": "code",
      "source": [
        "import random\n",
        "from IPython.display import clear_output\n",
        "\n",
        "env = GridEnv(env_type = \"stochastic\")\n",
        "agent = RandomAgent(env)\n",
        "\n",
        "# Hyperparameters\n",
        "alpha = 0.12\n",
        "gamma = 0.95\n",
        "epsilon = 1.0\n",
        "epsilon_sarsa_stoc = []\n",
        "reward_sarsa_stoc = []\n",
        "\n",
        "num_episodes = 500\n",
        "max_timesteps = 15\n",
        "\n",
        "# For plotting metrics\n",
        "all_penalties_sarsa_stoc = []\n",
        "state1 = 0\n",
        "#Q-Table\n",
        "q_table_sarsa_stoc = np.random.rand(25, 4)\n",
        "q_table_sarsa_stoc = q_table_sarsa_stoc.astype(int)\n",
        "\n",
        "#running for 500 episodes\n",
        "for episode in range(num_episodes):\n",
        "  #resetting the state \n",
        "  state, agent_pos = env.reset()\n",
        "  penalties = 0\n",
        "  new_penalties = 0\n",
        "  new_reward = 0\n",
        "  # print(state)\n",
        "  state_to_list = state.tolist()\n",
        "  if 1 in state_to_list:\n",
        "    state1 = state_to_list.index(1)\n",
        "  # print(index)\n",
        "  \n",
        "  for timestep in range(max_timesteps):\n",
        "    #Choosing an action based on e-greedy policy\n",
        "    if np.random.rand() < epsilon:\n",
        "      action = np.random.choice(env.action_space.n)\n",
        "    else:\n",
        "      action = np.argmax(q_table_sarsa_stoc[state1])\n",
        "\n",
        "    #getting the next state, reward\n",
        "    observation, reward, terminated, truncated, info, new_agent_pos = env.step(action)\n",
        "\n",
        "    if reward == -5 or reward == -6 or reward == -2:\n",
        "      penalties += 1\n",
        "\n",
        "    #getting the new state\n",
        "    new_state_to_list = observation.tolist()\n",
        "    if 1 in new_state_to_list:\n",
        "      state2 = new_state_to_list.index(1)\n",
        "\n",
        "    if np.random.rand() < epsilon:\n",
        "      action2 = np.random.choice(env.action_space.n)\n",
        "    else:\n",
        "      action2 = np.argmax(q_table_sarsa_stoc[state2])\n",
        "\n",
        "    q_table_sarsa_stoc[state1, action] = q_table_sarsa_stoc[state1, action] + alpha * (reward + gamma * (q_table_sarsa_stoc[state2, action2] - q_table_sarsa_stoc[state1, action]))\n",
        "\n",
        "    \n",
        "    # agent_pos = new_agent_pos\n",
        "    new_penalties += penalties\n",
        "    state1 = state2\n",
        "    new_reward += reward\n",
        "    \n",
        "  all_penalties_sarsa_stoc.append(new_penalties)\n",
        "  reward_sarsa_stoc.append(new_reward)\n",
        "  epsilon *= 0.9908\n",
        "  epsilon_sarsa_stoc.append(epsilon)\n",
        "  # print(epsilon)\n",
        "\n",
        "# print(\"Q-Table : \", q_table_sarsa)\n",
        "# print(epsilon_val)\n",
        "# print(\"Q Table : \", q_table_sarsa)"
      ],
      "metadata": {
        "id": "FqE3Pw6PgG_J"
      },
      "execution_count": 285,
      "outputs": []
    },
    {
      "cell_type": "markdown",
      "source": [
        "**Epsilon-Decay Graph**"
      ],
      "metadata": {
        "id": "3oUj2Ki35C4b"
      }
    },
    {
      "cell_type": "code",
      "source": [
        "plt.figure(figsize=(5,5))\n",
        "plt.plot(epsilon_sarsa_stoc, linewidth=4)\n",
        "plt.xlabel('Episode', fontsize=16)\n",
        "plt.ylabel('Epsilon Values', fontsize=16)\n",
        "plt.title('Epsilon Decay (SARSA - Stochastic)', fontsize=20)\n",
        "plt.xticks(fontsize=16)\n",
        "plt.yticks(fontsize=16)\n",
        "plt.ylim(ymin=0, ymax=1)\n",
        "plt.xlim(xmin=0, xmax=500)\n",
        "plt.grid()\n",
        "plt.show()"
      ],
      "metadata": {
        "colab": {
          "base_uri": "https://localhost:8080/",
          "height": 365
        },
        "id": "yIhDa6B3IM2G",
        "outputId": "ac8f9304-d1e5-431b-98fd-a11504c203bc"
      },
      "execution_count": 287,
      "outputs": [
        {
          "output_type": "display_data",
          "data": {
            "text/plain": [
              "<Figure size 360x360 with 1 Axes>"
            ],
            "image/png": "[encoded data removed]"
          },
          "metadata": {
            "needs_background": "light"
          }
        }
      ]
    },
    {
      "cell_type": "markdown",
      "source": [
        "**Rewards Per Episode**"
      ],
      "metadata": {
        "id": "4Q1X45cw5JRj"
      }
    },
    {
      "cell_type": "code",
      "source": [
        "# print(reward_sarsa_stoc)\n",
        "plt.figure(figsize=(8,8))\n",
        "plt.plot(reward_sarsa_stoc, 'ro')\n",
        "plt.xlabel('Episode', fontsize=18)\n",
        "plt.ylabel('Reward Value', fontsize=18)\n",
        "plt.title('Rewards Per Episode (SARSA - Stochastic)', fontsize=20)\n",
        "plt.xticks(fontsize=16)\n",
        "plt.yticks([-60, -50, -20, 0, 10, 20, 40, 60, 80, 100, 120, 140], fontsize=16)\n",
        "plt.ylim(ymin=-7, ymax=160)\n",
        "plt.xlim(xmin=0, xmax=500)\n",
        "plt.grid()\n",
        "plt.show()"
      ],
      "metadata": {
        "colab": {
          "base_uri": "https://localhost:8080/",
          "height": 531
        },
        "id": "hGKsBifCKbcp",
        "outputId": "b9f6315a-5c19-45db-cc5c-f16a13697f49"
      },
      "execution_count": 289,
      "outputs": [
        {
          "output_type": "display_data",
          "data": {
            "text/plain": [
              "<Figure size 576x576 with 1 Axes>"
            ],
            "image/png": "[encoded data removed]"
          },
          "metadata": {
            "needs_background": "light"
          }
        }
      ]
    },
    {
      "cell_type": "markdown",
      "source": [
        "**Penalties Per Episode**"
      ],
      "metadata": {
        "id": "EycOHMl7BI1x"
      }
    },
    {
      "cell_type": "code",
      "source": [
        "plt.figure(figsize=(8,8))\n",
        "plt.plot(all_penalties_sarsa_stoc, 'go')\n",
        "plt.xlabel('Episode', fontsize=18)\n",
        "plt.ylabel('Penalties', fontsize=18)\n",
        "plt.title('Penalties Per Episode (SARSA - Stochastic)', fontsize=20)\n",
        "plt.xticks(fontsize=16)\n",
        "plt.yticks([-60, -50, -20, 0, 20, 40, 60, 80, 100], fontsize=16)\n",
        "plt.ylim(ymin=-7, ymax=100)\n",
        "plt.xlim(xmin=0, xmax=500)\n",
        "plt.grid()\n",
        "plt.show()"
      ],
      "metadata": {
        "id": "qIqsdyqwAhsD",
        "outputId": "46f0041b-9bcd-481a-930f-c9e5f56ca45b",
        "colab": {
          "base_uri": "https://localhost:8080/",
          "height": 531
        }
      },
      "execution_count": 290,
      "outputs": [
        {
          "output_type": "display_data",
          "data": {
            "text/plain": [
              "<Figure size 576x576 with 1 Axes>"
            ],
            "image/png": "[encoded data removed]"
          },
          "metadata": {
            "needs_background": "light"
          }
        }
      ]
    },
    {
      "cell_type": "markdown",
      "source": [
        "**Downloading SARSA Tables**"
      ],
      "metadata": {
        "id": "zSrG_u2E-nXQ"
      }
    },
    {
      "cell_type": "code",
      "source": [
        "with open('sarsa_table_deterministic.pkl', 'wb') as f:\n",
        "    pickle.dump(q_table_sarsa_det, f)\n",
        "\n",
        "from google.colab import files\n",
        "files.download('sarsa_table_deterministic.pkl')"
      ],
      "metadata": {
        "id": "iir85Tr6-rdf",
        "outputId": "f857f48d-dfa0-45c8-841f-cc5667c4b63d",
        "colab": {
          "base_uri": "https://localhost:8080/",
          "height": 17
        }
      },
      "execution_count": 267,
      "outputs": [
        {
          "output_type": "display_data",
          "data": {
            "text/plain": [
              "<IPython.core.display.Javascript object>"
            ],
            "application/javascript": [
              "\n",
              "    async function download(id, filename, size) {\n",
              "      if (!google.colab.kernel.accessAllowed) {\n",
              "        return;\n",
              "      }\n",
              "      const div = document.createElement('div');\n",
              "      const label = document.createElement('label');\n",
              "      label.textContent = `Downloading \"${filename}\": `;\n",
              "      div.appendChild(label);\n",
              "      const progress = document.createElement('progress');\n",
              "      progress.max = size;\n",
              "      div.appendChild(progress);\n",
              "      document.body.appendChild(div);\n",
              "\n",
              "      const buffers = [];\n",
              "      let downloaded = 0;\n",
              "\n",
              "      const channel = await google.colab.kernel.comms.open(id);\n",
              "      // Send a message to notify the kernel that we're ready.\n",
              "      channel.send({})\n",
              "\n",
              "      for await (const message of channel.messages) {\n",
              "        // Send a message to notify the kernel that we're ready.\n",
              "        channel.send({})\n",
              "        if (message.buffers) {\n",
              "          for (const buffer of message.buffers) {\n",
              "            buffers.push(buffer);\n",
              "            downloaded += buffer.byteLength;\n",
              "            progress.value = downloaded;\n",
              "          }\n",
              "        }\n",
              "      }\n",
              "      const blob = new Blob(buffers, {type: 'application/binary'});\n",
              "      const a = document.createElement('a');\n",
              "      a.href = window.URL.createObjectURL(blob);\n",
              "      a.download = filename;\n",
              "      div.appendChild(a);\n",
              "      a.click();\n",
              "      div.remove();\n",
              "    }\n",
              "  "
            ]
          },
          "metadata": {}
        },
        {
          "output_type": "display_data",
          "data": {
            "text/plain": [
              "<IPython.core.display.Javascript object>"
            ],
            "application/javascript": [
              "download(\"download_11696e70-3509-493f-a767-955e9587a095\", \"sarsa_table_deterministic.pkl\", 952)"
            ]
          },
          "metadata": {}
        }
      ]
    },
    {
      "cell_type": "code",
      "source": [
        "with open('sarsa_table_stochastic.pkl', 'wb') as f:\n",
        "    pickle.dump(q_table_sarsa_stoc, f)\n",
        "\n",
        "from google.colab import files\n",
        "files.download('sarsa_table_stochastic.pkl')"
      ],
      "metadata": {
        "id": "EIDg_Mmg-7Sf",
        "outputId": "4bd30dbc-f4d1-4c32-a789-d0f990762cf1",
        "colab": {
          "base_uri": "https://localhost:8080/",
          "height": 17
        }
      },
      "execution_count": 268,
      "outputs": [
        {
          "output_type": "display_data",
          "data": {
            "text/plain": [
              "<IPython.core.display.Javascript object>"
            ],
            "application/javascript": [
              "\n",
              "    async function download(id, filename, size) {\n",
              "      if (!google.colab.kernel.accessAllowed) {\n",
              "        return;\n",
              "      }\n",
              "      const div = document.createElement('div');\n",
              "      const label = document.createElement('label');\n",
              "      label.textContent = `Downloading \"${filename}\": `;\n",
              "      div.appendChild(label);\n",
              "      const progress = document.createElement('progress');\n",
              "      progress.max = size;\n",
              "      div.appendChild(progress);\n",
              "      document.body.appendChild(div);\n",
              "\n",
              "      const buffers = [];\n",
              "      let downloaded = 0;\n",
              "\n",
              "      const channel = await google.colab.kernel.comms.open(id);\n",
              "      // Send a message to notify the kernel that we're ready.\n",
              "      channel.send({})\n",
              "\n",
              "      for await (const message of channel.messages) {\n",
              "        // Send a message to notify the kernel that we're ready.\n",
              "        channel.send({})\n",
              "        if (message.buffers) {\n",
              "          for (const buffer of message.buffers) {\n",
              "            buffers.push(buffer);\n",
              "            downloaded += buffer.byteLength;\n",
              "            progress.value = downloaded;\n",
              "          }\n",
              "        }\n",
              "      }\n",
              "      const blob = new Blob(buffers, {type: 'application/binary'});\n",
              "      const a = document.createElement('a');\n",
              "      a.href = window.URL.createObjectURL(blob);\n",
              "      a.download = filename;\n",
              "      div.appendChild(a);\n",
              "      a.click();\n",
              "      div.remove();\n",
              "    }\n",
              "  "
            ]
          },
          "metadata": {}
        },
        {
          "output_type": "display_data",
          "data": {
            "text/plain": [
              "<IPython.core.display.Javascript object>"
            ],
            "application/javascript": [
              "download(\"download_3e25ef03-68ba-4b5e-b414-54b77ff88800\", \"sarsa_table_stochastic.pkl\", 952)"
            ]
          },
          "metadata": {}
        }
      ]
    },
    {
      "cell_type": "markdown",
      "source": [
        "###**2.2.3 Testing SARSA-Values**\n",
        "\n",
        "**5x5 Grid Environment - Deterministic**"
      ],
      "metadata": {
        "id": "IQ1NSLHS4xM-"
      }
    },
    {
      "cell_type": "code",
      "source": [
        "env = GridEnv(env_type = \"deterministic\")\n",
        "agent = RandomAgent(env)\n",
        "\n",
        "obs, info = env.reset()\n",
        "terminated, truncated = False, False\n",
        "\n",
        "\n",
        "output_grid = widgets.Grid(1, 1)\n",
        "with output_grid.output_to(0, 0):\n",
        "  env.render()\n",
        "\n",
        "def get_max_val(arg):\n",
        "  return max(arg)\n",
        "  \n",
        "for i in q_table_sarsa_det:\n",
        "  max_val = get_max_val(i)\n",
        "  i_to_list = i.tolist()\n",
        "  max_index = i_to_list.index(max_val)\n",
        "  observation, reward, terminated, truncated, info, agent_pos = env.step(max_index)\n",
        "  with output_grid.output_to(0, 0):\n",
        "    output_grid.clear_cell()\n",
        "    plt.imshow(grid)\n",
        "    env.render()\n",
        "  time.sleep(1)\n",
        "\n",
        "  "
      ],
      "metadata": {
        "colab": {
          "base_uri": "https://localhost:8080/",
          "height": 287
        },
        "id": "WSSAMMfd4vyG",
        "outputId": "89cc7a4f-8b75-4c84-ccb1-509a5bd75258"
      },
      "execution_count": 291,
      "outputs": [
        {
          "output_type": "display_data",
          "data": {
            "text/plain": [
              "<IPython.core.display.HTML object>"
            ],
            "text/html": [
              "<style>\n",
              "       table#id36, #id36 > tbody > tr > th, #id36 > tbody > tr > td {\n",
              "         border: 1px solid lightgray;\n",
              "         border-collapse:collapse;\n",
              "         \n",
              "        }</style>"
            ]
          },
          "metadata": {}
        },
        {
          "output_type": "display_data",
          "data": {
            "text/plain": [
              "<IPython.core.display.HTML object>"
            ],
            "text/html": [
              "<table id=id36><tr><td id=id36-0-0></td></tr></table>"
            ]
          },
          "metadata": {}
        },
        {
          "output_type": "display_data",
          "data": {
            "text/plain": [
              "<IPython.core.display.Javascript object>"
            ],
            "application/javascript": [
              "window[\"7cfecc18-ba23-11ed-9901-0242ac1c000c\"] = google.colab.output.getActiveOutputArea();\n",
              "//# sourceURL=js_5ddd9eb994"
            ]
          },
          "metadata": {}
        },
        {
          "output_type": "display_data",
          "data": {
            "text/plain": [
              "<IPython.core.display.Javascript object>"
            ],
            "application/javascript": [
              "window[\"7cffe9e0-ba23-11ed-9901-0242ac1c000c\"] = document.querySelector(\"#id36-0-0\");\n",
              "//# sourceURL=js_6db954369d"
            ]
          },
          "metadata": {}
        },
        {
          "output_type": "display_data",
          "data": {
            "text/plain": [
              "<IPython.core.display.Javascript object>"
            ],
            "application/javascript": [
              "window[\"7d006a14-ba23-11ed-9901-0242ac1c000c\"] = google.colab.output.setActiveOutputArea(window[\"7cffe9e0-ba23-11ed-9901-0242ac1c000c\"]);\n",
              "//# sourceURL=js_8f314c6ab9"
            ]
          },
          "metadata": {}
        },
        {
          "output_type": "display_data",
          "data": {
            "text/plain": [
              "<IPython.core.display.Javascript object>"
            ],
            "application/javascript": [
              "window[\"7d291266-ba23-11ed-9901-0242ac1c000c\"] = google.colab.output.setActiveOutputArea(window[\"7cfecc18-ba23-11ed-9901-0242ac1c000c\"]);\n",
              "//# sourceURL=js_d32c6c4fb7"
            ]
          },
          "metadata": {}
        },
        {
          "output_type": "display_data",
          "data": {
            "text/plain": [
              "<IPython.core.display.Javascript object>"
            ],
            "application/javascript": [
              "window[\"7d2c0a48-ba23-11ed-9901-0242ac1c000c\"] = google.colab.output.getActiveOutputArea();\n",
              "//# sourceURL=js_0302f28f2b"
            ]
          },
          "metadata": {}
        },
        {
          "output_type": "display_data",
          "data": {
            "text/plain": [
              "<IPython.core.display.Javascript object>"
            ],
            "application/javascript": [
              "window[\"7d2cb182-ba23-11ed-9901-0242ac1c000c\"] = document.querySelector(\"#id36-0-0\");\n",
              "//# sourceURL=js_7f60e0e2d4"
            ]
          },
          "metadata": {}
        },
        {
          "output_type": "display_data",
          "data": {
            "text/plain": [
              "<IPython.core.display.Javascript object>"
            ],
            "application/javascript": [
              "window[\"7d2d1bb8-ba23-11ed-9901-0242ac1c000c\"] = google.colab.output.setActiveOutputArea(window[\"7d2cb182-ba23-11ed-9901-0242ac1c000c\"]);\n",
              "//# sourceURL=js_1b68259092"
            ]
          },
          "metadata": {}
        },
        {
          "output_type": "display_data",
          "data": {
            "text/plain": [
              "<IPython.core.display.Javascript object>"
            ],
            "application/javascript": [
              "window[\"7d58cd6c-ba23-11ed-9901-0242ac1c000c\"] = google.colab.output.setActiveOutputArea(window[\"7d2c0a48-ba23-11ed-9901-0242ac1c000c\"]);\n",
              "//# sourceURL=js_ddccc0f957"
            ]
          },
          "metadata": {}
        },
        {
          "output_type": "display_data",
          "data": {
            "text/plain": [
              "<IPython.core.display.Javascript object>"
            ],
            "application/javascript": [
              "window[\"7df412ae-ba23-11ed-9901-0242ac1c000c\"] = google.colab.output.getActiveOutputArea();\n",
              "//# sourceURL=js_bf8840f841"
            ]
          },
          "metadata": {}
        },
        {
          "output_type": "display_data",
          "data": {
            "text/plain": [
              "<IPython.core.display.Javascript object>"
            ],
            "application/javascript": [
              "window[\"7df490da-ba23-11ed-9901-0242ac1c000c\"] = document.querySelector(\"#id36-0-0\");\n",
              "//# sourceURL=js_d3d227d9e3"
            ]
          },
          "metadata": {}
        },
        {
          "output_type": "display_data",
          "data": {
            "text/plain": [
              "<IPython.core.display.Javascript object>"
            ],
            "application/javascript": [
              "window[\"7df4fc1e-ba23-11ed-9901-0242ac1c000c\"] = google.colab.output.setActiveOutputArea(window[\"7df490da-ba23-11ed-9901-0242ac1c000c\"]);\n",
              "//# sourceURL=js_4532dcccbe"
            ]
          },
          "metadata": {}
        },
        {
          "output_type": "display_data",
          "data": {
            "text/plain": [
              "<IPython.core.display.Javascript object>"
            ],
            "application/javascript": [
              "window[\"7e187f4a-ba23-11ed-9901-0242ac1c000c\"] = google.colab.output.setActiveOutputArea(window[\"7df412ae-ba23-11ed-9901-0242ac1c000c\"]);\n",
              "//# sourceURL=js_52353f5fc5"
            ]
          },
          "metadata": {}
        },
        {
          "output_type": "display_data",
          "data": {
            "text/plain": [
              "<IPython.core.display.Javascript object>"
            ],
            "application/javascript": [
              "window[\"7eb41266-ba23-11ed-9901-0242ac1c000c\"] = google.colab.output.getActiveOutputArea();\n",
              "//# sourceURL=js_b46e537bdf"
            ]
          },
          "metadata": {}
        },
        {
          "output_type": "display_data",
          "data": {
            "text/plain": [
              "<IPython.core.display.Javascript object>"
            ],
            "application/javascript": [
              "window[\"7eb4832c-ba23-11ed-9901-0242ac1c000c\"] = document.querySelector(\"#id36-0-0\");\n",
              "//# sourceURL=js_8702416b75"
            ]
          },
          "metadata": {}
        },
        {
          "output_type": "display_data",
          "data": {
            "text/plain": [
              "<IPython.core.display.Javascript object>"
            ],
            "application/javascript": [
              "window[\"7eb53d1c-ba23-11ed-9901-0242ac1c000c\"] = google.colab.output.setActiveOutputArea(window[\"7eb4832c-ba23-11ed-9901-0242ac1c000c\"]);\n",
              "//# sourceURL=js_35fa7ab3ba"
            ]
          },
          "metadata": {}
        },
        {
          "output_type": "display_data",
          "data": {
            "text/plain": [
              "<IPython.core.display.Javascript object>"
            ],
            "application/javascript": [
              "window[\"7ed585ae-ba23-11ed-9901-0242ac1c000c\"] = google.colab.output.setActiveOutputArea(window[\"7eb41266-ba23-11ed-9901-0242ac1c000c\"]);\n",
              "//# sourceURL=js_d2e7e132f7"
            ]
          },
          "metadata": {}
        },
        {
          "output_type": "display_data",
          "data": {
            "text/plain": [
              "<IPython.core.display.Javascript object>"
            ],
            "application/javascript": [
              "window[\"7f70ab24-ba23-11ed-9901-0242ac1c000c\"] = google.colab.output.getActiveOutputArea();\n",
              "//# sourceURL=js_04fa59a173"
            ]
          },
          "metadata": {}
        },
        {
          "output_type": "display_data",
          "data": {
            "text/plain": [
              "<IPython.core.display.Javascript object>"
            ],
            "application/javascript": [
              "window[\"7f713350-ba23-11ed-9901-0242ac1c000c\"] = document.querySelector(\"#id36-0-0\");\n",
              "//# sourceURL=js_303fd08c63"
            ]
          },
          "metadata": {}
        },
        {
          "output_type": "display_data",
          "data": {
            "text/plain": [
              "<IPython.core.display.Javascript object>"
            ],
            "application/javascript": [
              "window[\"7f71af2e-ba23-11ed-9901-0242ac1c000c\"] = google.colab.output.setActiveOutputArea(window[\"7f713350-ba23-11ed-9901-0242ac1c000c\"]);\n",
              "//# sourceURL=js_502276f801"
            ]
          },
          "metadata": {}
        },
        {
          "output_type": "display_data",
          "data": {
            "text/plain": [
              "<IPython.core.display.Javascript object>"
            ],
            "application/javascript": [
              "window[\"7f92faee-ba23-11ed-9901-0242ac1c000c\"] = google.colab.output.setActiveOutputArea(window[\"7f70ab24-ba23-11ed-9901-0242ac1c000c\"]);\n",
              "//# sourceURL=js_0f49a5262f"
            ]
          },
          "metadata": {}
        },
        {
          "output_type": "display_data",
          "data": {
            "text/plain": [
              "<IPython.core.display.Javascript object>"
            ],
            "application/javascript": [
              "window[\"802e7442-ba23-11ed-9901-0242ac1c000c\"] = google.colab.output.getActiveOutputArea();\n",
              "//# sourceURL=js_a6976cdd34"
            ]
          },
          "metadata": {}
        },
        {
          "output_type": "display_data",
          "data": {
            "text/plain": [
              "<IPython.core.display.Javascript object>"
            ],
            "application/javascript": [
              "window[\"802eff5c-ba23-11ed-9901-0242ac1c000c\"] = document.querySelector(\"#id36-0-0\");\n",
              "//# sourceURL=js_8ecc82366f"
            ]
          },
          "metadata": {}
        },
        {
          "output_type": "display_data",
          "data": {
            "text/plain": [
              "<IPython.core.display.Javascript object>"
            ],
            "application/javascript": [
              "window[\"802f7d6a-ba23-11ed-9901-0242ac1c000c\"] = google.colab.output.setActiveOutputArea(window[\"802eff5c-ba23-11ed-9901-0242ac1c000c\"]);\n",
              "//# sourceURL=js_9731bd7c40"
            ]
          },
          "metadata": {}
        },
        {
          "output_type": "display_data",
          "data": {
            "text/plain": [
              "<IPython.core.display.Javascript object>"
            ],
            "application/javascript": [
              "window[\"804eb4e6-ba23-11ed-9901-0242ac1c000c\"] = google.colab.output.setActiveOutputArea(window[\"802e7442-ba23-11ed-9901-0242ac1c000c\"]);\n",
              "//# sourceURL=js_a82544d8d7"
            ]
          },
          "metadata": {}
        },
        {
          "output_type": "display_data",
          "data": {
            "text/plain": [
              "<IPython.core.display.Javascript object>"
            ],
            "application/javascript": [
              "window[\"80ea1530-ba23-11ed-9901-0242ac1c000c\"] = google.colab.output.getActiveOutputArea();\n",
              "//# sourceURL=js_fbf41a3b7a"
            ]
          },
          "metadata": {}
        },
        {
          "output_type": "display_data",
          "data": {
            "text/plain": [
              "<IPython.core.display.Javascript object>"
            ],
            "application/javascript": [
              "window[\"80ea7ef8-ba23-11ed-9901-0242ac1c000c\"] = document.querySelector(\"#id36-0-0\");\n",
              "//# sourceURL=js_e9d0da3df7"
            ]
          },
          "metadata": {}
        },
        {
          "output_type": "display_data",
          "data": {
            "text/plain": [
              "<IPython.core.display.Javascript object>"
            ],
            "application/javascript": [
              "window[\"80eaeeb0-ba23-11ed-9901-0242ac1c000c\"] = google.colab.output.setActiveOutputArea(window[\"80ea7ef8-ba23-11ed-9901-0242ac1c000c\"]);\n",
              "//# sourceURL=js_9e543a76f7"
            ]
          },
          "metadata": {}
        },
        {
          "output_type": "display_data",
          "data": {
            "text/plain": [
              "<IPython.core.display.Javascript object>"
            ],
            "application/javascript": [
              "window[\"810d7c82-ba23-11ed-9901-0242ac1c000c\"] = google.colab.output.setActiveOutputArea(window[\"80ea1530-ba23-11ed-9901-0242ac1c000c\"]);\n",
              "//# sourceURL=js_c2cfd832d4"
            ]
          },
          "metadata": {}
        },
        {
          "output_type": "display_data",
          "data": {
            "text/plain": [
              "<IPython.core.display.Javascript object>"
            ],
            "application/javascript": [
              "window[\"81a881f0-ba23-11ed-9901-0242ac1c000c\"] = google.colab.output.getActiveOutputArea();\n",
              "//# sourceURL=js_5c39fb5dd8"
            ]
          },
          "metadata": {}
        },
        {
          "output_type": "display_data",
          "data": {
            "text/plain": [
              "<IPython.core.display.Javascript object>"
            ],
            "application/javascript": [
              "window[\"81a8f25c-ba23-11ed-9901-0242ac1c000c\"] = document.querySelector(\"#id36-0-0\");\n",
              "//# sourceURL=js_19bef3615f"
            ]
          },
          "metadata": {}
        },
        {
          "output_type": "display_data",
          "data": {
            "text/plain": [
              "<IPython.core.display.Javascript object>"
            ],
            "application/javascript": [
              "window[\"81a9b73c-ba23-11ed-9901-0242ac1c000c\"] = google.colab.output.setActiveOutputArea(window[\"81a8f25c-ba23-11ed-9901-0242ac1c000c\"]);\n",
              "//# sourceURL=js_2358e2fc90"
            ]
          },
          "metadata": {}
        },
        {
          "output_type": "display_data",
          "data": {
            "text/plain": [
              "<IPython.core.display.Javascript object>"
            ],
            "application/javascript": [
              "window[\"81cb9776-ba23-11ed-9901-0242ac1c000c\"] = google.colab.output.setActiveOutputArea(window[\"81a881f0-ba23-11ed-9901-0242ac1c000c\"]);\n",
              "//# sourceURL=js_f2b757524c"
            ]
          },
          "metadata": {}
        },
        {
          "output_type": "display_data",
          "data": {
            "text/plain": [
              "<IPython.core.display.Javascript object>"
            ],
            "application/javascript": [
              "window[\"8267931a-ba23-11ed-9901-0242ac1c000c\"] = google.colab.output.getActiveOutputArea();\n",
              "//# sourceURL=js_bdd3398637"
            ]
          },
          "metadata": {}
        },
        {
          "output_type": "display_data",
          "data": {
            "text/plain": [
              "<IPython.core.display.Javascript object>"
            ],
            "application/javascript": [
              "window[\"82682302-ba23-11ed-9901-0242ac1c000c\"] = document.querySelector(\"#id36-0-0\");\n",
              "//# sourceURL=js_009e3b814a"
            ]
          },
          "metadata": {}
        },
        {
          "output_type": "display_data",
          "data": {
            "text/plain": [
              "<IPython.core.display.Javascript object>"
            ],
            "application/javascript": [
              "window[\"8268929c-ba23-11ed-9901-0242ac1c000c\"] = google.colab.output.setActiveOutputArea(window[\"82682302-ba23-11ed-9901-0242ac1c000c\"]);\n",
              "//# sourceURL=js_a74f203675"
            ]
          },
          "metadata": {}
        },
        {
          "output_type": "display_data",
          "data": {
            "text/plain": [
              "<IPython.core.display.Javascript object>"
            ],
            "application/javascript": [
              "window[\"828a8d3e-ba23-11ed-9901-0242ac1c000c\"] = google.colab.output.setActiveOutputArea(window[\"8267931a-ba23-11ed-9901-0242ac1c000c\"]);\n",
              "//# sourceURL=js_9c1738d2b2"
            ]
          },
          "metadata": {}
        },
        {
          "output_type": "display_data",
          "data": {
            "text/plain": [
              "<IPython.core.display.Javascript object>"
            ],
            "application/javascript": [
              "window[\"83262ac8-ba23-11ed-9901-0242ac1c000c\"] = google.colab.output.getActiveOutputArea();\n",
              "//# sourceURL=js_92c41c59f6"
            ]
          },
          "metadata": {}
        },
        {
          "output_type": "display_data",
          "data": {
            "text/plain": [
              "<IPython.core.display.Javascript object>"
            ],
            "application/javascript": [
              "window[\"83269828-ba23-11ed-9901-0242ac1c000c\"] = document.querySelector(\"#id36-0-0\");\n",
              "//# sourceURL=js_6f4952cda7"
            ]
          },
          "metadata": {}
        },
        {
          "output_type": "display_data",
          "data": {
            "text/plain": [
              "<IPython.core.display.Javascript object>"
            ],
            "application/javascript": [
              "window[\"8327257c-ba23-11ed-9901-0242ac1c000c\"] = google.colab.output.setActiveOutputArea(window[\"83269828-ba23-11ed-9901-0242ac1c000c\"]);\n",
              "//# sourceURL=js_cf493639d0"
            ]
          },
          "metadata": {}
        },
        {
          "output_type": "display_data",
          "data": {
            "text/plain": [
              "<IPython.core.display.Javascript object>"
            ],
            "application/javascript": [
              "window[\"8349869e-ba23-11ed-9901-0242ac1c000c\"] = google.colab.output.setActiveOutputArea(window[\"83262ac8-ba23-11ed-9901-0242ac1c000c\"]);\n",
              "//# sourceURL=js_8be2ced7ff"
            ]
          },
          "metadata": {}
        },
        {
          "output_type": "display_data",
          "data": {
            "text/plain": [
              "<IPython.core.display.Javascript object>"
            ],
            "application/javascript": [
              "window[\"83e4feb2-ba23-11ed-9901-0242ac1c000c\"] = google.colab.output.getActiveOutputArea();\n",
              "//# sourceURL=js_41ada78a69"
            ]
          },
          "metadata": {}
        },
        {
          "output_type": "display_data",
          "data": {
            "text/plain": [
              "<IPython.core.display.Javascript object>"
            ],
            "application/javascript": [
              "window[\"83e5e016-ba23-11ed-9901-0242ac1c000c\"] = document.querySelector(\"#id36-0-0\");\n",
              "//# sourceURL=js_1ee97d6937"
            ]
          },
          "metadata": {}
        },
        {
          "output_type": "display_data",
          "data": {
            "text/plain": [
              "<IPython.core.display.Javascript object>"
            ],
            "application/javascript": [
              "window[\"83e6f87a-ba23-11ed-9901-0242ac1c000c\"] = google.colab.output.setActiveOutputArea(window[\"83e5e016-ba23-11ed-9901-0242ac1c000c\"]);\n",
              "//# sourceURL=js_cd1fd8b9b7"
            ]
          },
          "metadata": {}
        },
        {
          "output_type": "display_data",
          "data": {
            "text/plain": [
              "<IPython.core.display.Javascript object>"
            ],
            "application/javascript": [
              "window[\"841cf984-ba23-11ed-9901-0242ac1c000c\"] = google.colab.output.setActiveOutputArea(window[\"83e4feb2-ba23-11ed-9901-0242ac1c000c\"]);\n",
              "//# sourceURL=js_19832d8fe4"
            ]
          },
          "metadata": {}
        },
        {
          "output_type": "display_data",
          "data": {
            "text/plain": [
              "<IPython.core.display.Javascript object>"
            ],
            "application/javascript": [
              "window[\"84b89682-ba23-11ed-9901-0242ac1c000c\"] = google.colab.output.getActiveOutputArea();\n",
              "//# sourceURL=js_b0c08a23bf"
            ]
          },
          "metadata": {}
        },
        {
          "output_type": "display_data",
          "data": {
            "text/plain": [
              "<IPython.core.display.Javascript object>"
            ],
            "application/javascript": [
              "window[\"84b91c6a-ba23-11ed-9901-0242ac1c000c\"] = document.querySelector(\"#id36-0-0\");\n",
              "//# sourceURL=js_5f3251f7ff"
            ]
          },
          "metadata": {}
        },
        {
          "output_type": "display_data",
          "data": {
            "text/plain": [
              "<IPython.core.display.Javascript object>"
            ],
            "application/javascript": [
              "window[\"84b9a45a-ba23-11ed-9901-0242ac1c000c\"] = google.colab.output.setActiveOutputArea(window[\"84b91c6a-ba23-11ed-9901-0242ac1c000c\"]);\n",
              "//# sourceURL=js_ff9f074547"
            ]
          },
          "metadata": {}
        },
        {
          "output_type": "display_data",
          "data": {
            "text/plain": [
              "<IPython.core.display.Javascript object>"
            ],
            "application/javascript": [
              "window[\"84dc7228-ba23-11ed-9901-0242ac1c000c\"] = google.colab.output.setActiveOutputArea(window[\"84b89682-ba23-11ed-9901-0242ac1c000c\"]);\n",
              "//# sourceURL=js_d936376859"
            ]
          },
          "metadata": {}
        },
        {
          "output_type": "display_data",
          "data": {
            "text/plain": [
              "<IPython.core.display.Javascript object>"
            ],
            "application/javascript": [
              "window[\"85777106-ba23-11ed-9901-0242ac1c000c\"] = google.colab.output.getActiveOutputArea();\n",
              "//# sourceURL=js_1a30067f95"
            ]
          },
          "metadata": {}
        },
        {
          "output_type": "display_data",
          "data": {
            "text/plain": [
              "<IPython.core.display.Javascript object>"
            ],
            "application/javascript": [
              "window[\"8577dc5e-ba23-11ed-9901-0242ac1c000c\"] = document.querySelector(\"#id36-0-0\");\n",
              "//# sourceURL=js_41b1116ba3"
            ]
          },
          "metadata": {}
        },
        {
          "output_type": "display_data",
          "data": {
            "text/plain": [
              "<IPython.core.display.Javascript object>"
            ],
            "application/javascript": [
              "window[\"857867be-ba23-11ed-9901-0242ac1c000c\"] = google.colab.output.setActiveOutputArea(window[\"8577dc5e-ba23-11ed-9901-0242ac1c000c\"]);\n",
              "//# sourceURL=js_d6952eca6a"
            ]
          },
          "metadata": {}
        },
        {
          "output_type": "display_data",
          "data": {
            "text/plain": [
              "<IPython.core.display.Javascript object>"
            ],
            "application/javascript": [
              "window[\"8598c91e-ba23-11ed-9901-0242ac1c000c\"] = google.colab.output.setActiveOutputArea(window[\"85777106-ba23-11ed-9901-0242ac1c000c\"]);\n",
              "//# sourceURL=js_44ff5fbebb"
            ]
          },
          "metadata": {}
        },
        {
          "output_type": "display_data",
          "data": {
            "text/plain": [
              "<IPython.core.display.Javascript object>"
            ],
            "application/javascript": [
              "window[\"8633ab14-ba23-11ed-9901-0242ac1c000c\"] = google.colab.output.getActiveOutputArea();\n",
              "//# sourceURL=js_7ebf37751c"
            ]
          },
          "metadata": {}
        },
        {
          "output_type": "display_data",
          "data": {
            "text/plain": [
              "<IPython.core.display.Javascript object>"
            ],
            "application/javascript": [
              "window[\"86341716-ba23-11ed-9901-0242ac1c000c\"] = document.querySelector(\"#id36-0-0\");\n",
              "//# sourceURL=js_49caeecc6d"
            ]
          },
          "metadata": {}
        },
        {
          "output_type": "display_data",
          "data": {
            "text/plain": [
              "<IPython.core.display.Javascript object>"
            ],
            "application/javascript": [
              "window[\"86348ad4-ba23-11ed-9901-0242ac1c000c\"] = google.colab.output.setActiveOutputArea(window[\"86341716-ba23-11ed-9901-0242ac1c000c\"]);\n",
              "//# sourceURL=js_3802818d51"
            ]
          },
          "metadata": {}
        },
        {
          "output_type": "display_data",
          "data": {
            "text/plain": [
              "<IPython.core.display.Javascript object>"
            ],
            "application/javascript": [
              "window[\"8672bed0-ba23-11ed-9901-0242ac1c000c\"] = google.colab.output.setActiveOutputArea(window[\"8633ab14-ba23-11ed-9901-0242ac1c000c\"]);\n",
              "//# sourceURL=js_de15b21d49"
            ]
          },
          "metadata": {}
        },
        {
          "output_type": "display_data",
          "data": {
            "text/plain": [
              "<IPython.core.display.Javascript object>"
            ],
            "application/javascript": [
              "window[\"870dcba0-ba23-11ed-9901-0242ac1c000c\"] = google.colab.output.getActiveOutputArea();\n",
              "//# sourceURL=js_2031efaaad"
            ]
          },
          "metadata": {}
        },
        {
          "output_type": "display_data",
          "data": {
            "text/plain": [
              "<IPython.core.display.Javascript object>"
            ],
            "application/javascript": [
              "window[\"870e4292-ba23-11ed-9901-0242ac1c000c\"] = document.querySelector(\"#id36-0-0\");\n",
              "//# sourceURL=js_46973486dd"
            ]
          },
          "metadata": {}
        },
        {
          "output_type": "display_data",
          "data": {
            "text/plain": [
              "<IPython.core.display.Javascript object>"
            ],
            "application/javascript": [
              "window[\"870ec316-ba23-11ed-9901-0242ac1c000c\"] = google.colab.output.setActiveOutputArea(window[\"870e4292-ba23-11ed-9901-0242ac1c000c\"]);\n",
              "//# sourceURL=js_cb4b60e8db"
            ]
          },
          "metadata": {}
        },
        {
          "output_type": "display_data",
          "data": {
            "text/plain": [
              "<IPython.core.display.Javascript object>"
            ],
            "application/javascript": [
              "window[\"87303d52-ba23-11ed-9901-0242ac1c000c\"] = google.colab.output.setActiveOutputArea(window[\"870dcba0-ba23-11ed-9901-0242ac1c000c\"]);\n",
              "//# sourceURL=js_41fb12f008"
            ]
          },
          "metadata": {}
        },
        {
          "output_type": "display_data",
          "data": {
            "text/plain": [
              "<IPython.core.display.Javascript object>"
            ],
            "application/javascript": [
              "window[\"87cb6f48-ba23-11ed-9901-0242ac1c000c\"] = google.colab.output.getActiveOutputArea();\n",
              "//# sourceURL=js_5de6c7175d"
            ]
          },
          "metadata": {}
        },
        {
          "output_type": "display_data",
          "data": {
            "text/plain": [
              "<IPython.core.display.Javascript object>"
            ],
            "application/javascript": [
              "window[\"87cbe356-ba23-11ed-9901-0242ac1c000c\"] = document.querySelector(\"#id36-0-0\");\n",
              "//# sourceURL=js_fe5b7ae5e6"
            ]
          },
          "metadata": {}
        },
        {
          "output_type": "display_data",
          "data": {
            "text/plain": [
              "<IPython.core.display.Javascript object>"
            ],
            "application/javascript": [
              "window[\"87cc5430-ba23-11ed-9901-0242ac1c000c\"] = google.colab.output.setActiveOutputArea(window[\"87cbe356-ba23-11ed-9901-0242ac1c000c\"]);\n",
              "//# sourceURL=js_797582bf12"
            ]
          },
          "metadata": {}
        },
        {
          "output_type": "display_data",
          "data": {
            "text/plain": [
              "<IPython.core.display.Javascript object>"
            ],
            "application/javascript": [
              "window[\"87eceede-ba23-11ed-9901-0242ac1c000c\"] = google.colab.output.setActiveOutputArea(window[\"87cb6f48-ba23-11ed-9901-0242ac1c000c\"]);\n",
              "//# sourceURL=js_d78f67f701"
            ]
          },
          "metadata": {}
        },
        {
          "output_type": "display_data",
          "data": {
            "text/plain": [
              "<IPython.core.display.Javascript object>"
            ],
            "application/javascript": [
              "window[\"88893564-ba23-11ed-9901-0242ac1c000c\"] = google.colab.output.getActiveOutputArea();\n",
              "//# sourceURL=js_4a2fed0ef4"
            ]
          },
          "metadata": {}
        },
        {
          "output_type": "display_data",
          "data": {
            "text/plain": [
              "<IPython.core.display.Javascript object>"
            ],
            "application/javascript": [
              "window[\"8889d730-ba23-11ed-9901-0242ac1c000c\"] = document.querySelector(\"#id36-0-0\");\n",
              "//# sourceURL=js_8a874b4592"
            ]
          },
          "metadata": {}
        },
        {
          "output_type": "display_data",
          "data": {
            "text/plain": [
              "<IPython.core.display.Javascript object>"
            ],
            "application/javascript": [
              "window[\"888ab146-ba23-11ed-9901-0242ac1c000c\"] = google.colab.output.setActiveOutputArea(window[\"8889d730-ba23-11ed-9901-0242ac1c000c\"]);\n",
              "//# sourceURL=js_890f7cab05"
            ]
          },
          "metadata": {}
        },
        {
          "output_type": "display_data",
          "data": {
            "text/plain": [
              "<IPython.core.display.Javascript object>"
            ],
            "application/javascript": [
              "window[\"88ae26bc-ba23-11ed-9901-0242ac1c000c\"] = google.colab.output.setActiveOutputArea(window[\"88893564-ba23-11ed-9901-0242ac1c000c\"]);\n",
              "//# sourceURL=js_0b5a8786ee"
            ]
          },
          "metadata": {}
        },
        {
          "output_type": "display_data",
          "data": {
            "text/plain": [
              "<IPython.core.display.Javascript object>"
            ],
            "application/javascript": [
              "window[\"894b9c12-ba23-11ed-9901-0242ac1c000c\"] = google.colab.output.getActiveOutputArea();\n",
              "//# sourceURL=js_be07b9dbbb"
            ]
          },
          "metadata": {}
        },
        {
          "output_type": "display_data",
          "data": {
            "text/plain": [
              "<IPython.core.display.Javascript object>"
            ],
            "application/javascript": [
              "window[\"894c0b34-ba23-11ed-9901-0242ac1c000c\"] = document.querySelector(\"#id36-0-0\");\n",
              "//# sourceURL=js_56eaa12387"
            ]
          },
          "metadata": {}
        },
        {
          "output_type": "display_data",
          "data": {
            "text/plain": [
              "<IPython.core.display.Javascript object>"
            ],
            "application/javascript": [
              "window[\"894cb6f6-ba23-11ed-9901-0242ac1c000c\"] = google.colab.output.setActiveOutputArea(window[\"894c0b34-ba23-11ed-9901-0242ac1c000c\"]);\n",
              "//# sourceURL=js_42baa225ad"
            ]
          },
          "metadata": {}
        },
        {
          "output_type": "display_data",
          "data": {
            "text/plain": [
              "<IPython.core.display.Javascript object>"
            ],
            "application/javascript": [
              "window[\"896f1db8-ba23-11ed-9901-0242ac1c000c\"] = google.colab.output.setActiveOutputArea(window[\"894b9c12-ba23-11ed-9901-0242ac1c000c\"]);\n",
              "//# sourceURL=js_90e29bbe62"
            ]
          },
          "metadata": {}
        },
        {
          "output_type": "display_data",
          "data": {
            "text/plain": [
              "<IPython.core.display.Javascript object>"
            ],
            "application/javascript": [
              "window[\"8a0aff30-ba23-11ed-9901-0242ac1c000c\"] = google.colab.output.getActiveOutputArea();\n",
              "//# sourceURL=js_0b05d77987"
            ]
          },
          "metadata": {}
        },
        {
          "output_type": "display_data",
          "data": {
            "text/plain": [
              "<IPython.core.display.Javascript object>"
            ],
            "application/javascript": [
              "window[\"8a0b719a-ba23-11ed-9901-0242ac1c000c\"] = document.querySelector(\"#id36-0-0\");\n",
              "//# sourceURL=js_e44d5ed2c1"
            ]
          },
          "metadata": {}
        },
        {
          "output_type": "display_data",
          "data": {
            "text/plain": [
              "<IPython.core.display.Javascript object>"
            ],
            "application/javascript": [
              "window[\"8a0c04ca-ba23-11ed-9901-0242ac1c000c\"] = google.colab.output.setActiveOutputArea(window[\"8a0b719a-ba23-11ed-9901-0242ac1c000c\"]);\n",
              "//# sourceURL=js_f657fafe80"
            ]
          },
          "metadata": {}
        },
        {
          "output_type": "display_data",
          "data": {
            "text/plain": [
              "<IPython.core.display.Javascript object>"
            ],
            "application/javascript": [
              "window[\"8a2d49c8-ba23-11ed-9901-0242ac1c000c\"] = google.colab.output.setActiveOutputArea(window[\"8a0aff30-ba23-11ed-9901-0242ac1c000c\"]);\n",
              "//# sourceURL=js_eb162573c6"
            ]
          },
          "metadata": {}
        },
        {
          "output_type": "display_data",
          "data": {
            "text/plain": [
              "<IPython.core.display.Javascript object>"
            ],
            "application/javascript": [
              "window[\"8ac9f002-ba23-11ed-9901-0242ac1c000c\"] = google.colab.output.getActiveOutputArea();\n",
              "//# sourceURL=js_6468ba9810"
            ]
          },
          "metadata": {}
        },
        {
          "output_type": "display_data",
          "data": {
            "text/plain": [
              "<IPython.core.display.Javascript object>"
            ],
            "application/javascript": [
              "window[\"8acabd98-ba23-11ed-9901-0242ac1c000c\"] = document.querySelector(\"#id36-0-0\");\n",
              "//# sourceURL=js_a51d71b04d"
            ]
          },
          "metadata": {}
        },
        {
          "output_type": "display_data",
          "data": {
            "text/plain": [
              "<IPython.core.display.Javascript object>"
            ],
            "application/javascript": [
              "window[\"8acb5ece-ba23-11ed-9901-0242ac1c000c\"] = google.colab.output.setActiveOutputArea(window[\"8acabd98-ba23-11ed-9901-0242ac1c000c\"]);\n",
              "//# sourceURL=js_4421414992"
            ]
          },
          "metadata": {}
        },
        {
          "output_type": "display_data",
          "data": {
            "text/plain": [
              "<IPython.core.display.Javascript object>"
            ],
            "application/javascript": [
              "window[\"8afaae9a-ba23-11ed-9901-0242ac1c000c\"] = google.colab.output.setActiveOutputArea(window[\"8ac9f002-ba23-11ed-9901-0242ac1c000c\"]);\n",
              "//# sourceURL=js_d432478aba"
            ]
          },
          "metadata": {}
        },
        {
          "output_type": "display_data",
          "data": {
            "text/plain": [
              "<IPython.core.display.Javascript object>"
            ],
            "application/javascript": [
              "window[\"8b962974-ba23-11ed-9901-0242ac1c000c\"] = google.colab.output.getActiveOutputArea();\n",
              "//# sourceURL=js_70ceb34f71"
            ]
          },
          "metadata": {}
        },
        {
          "output_type": "display_data",
          "data": {
            "text/plain": [
              "<IPython.core.display.Javascript object>"
            ],
            "application/javascript": [
              "window[\"8b969e5e-ba23-11ed-9901-0242ac1c000c\"] = document.querySelector(\"#id36-0-0\");\n",
              "//# sourceURL=js_7f7adc86f5"
            ]
          },
          "metadata": {}
        },
        {
          "output_type": "display_data",
          "data": {
            "text/plain": [
              "<IPython.core.display.Javascript object>"
            ],
            "application/javascript": [
              "window[\"8b970998-ba23-11ed-9901-0242ac1c000c\"] = google.colab.output.setActiveOutputArea(window[\"8b969e5e-ba23-11ed-9901-0242ac1c000c\"]);\n",
              "//# sourceURL=js_f489d9b970"
            ]
          },
          "metadata": {}
        },
        {
          "output_type": "display_data",
          "data": {
            "text/plain": [
              "<IPython.core.display.Javascript object>"
            ],
            "application/javascript": [
              "window[\"8bc50dfc-ba23-11ed-9901-0242ac1c000c\"] = google.colab.output.setActiveOutputArea(window[\"8b962974-ba23-11ed-9901-0242ac1c000c\"]);\n",
              "//# sourceURL=js_2ceae77997"
            ]
          },
          "metadata": {}
        },
        {
          "output_type": "display_data",
          "data": {
            "text/plain": [
              "<IPython.core.display.Javascript object>"
            ],
            "application/javascript": [
              "window[\"8c60128e-ba23-11ed-9901-0242ac1c000c\"] = google.colab.output.getActiveOutputArea();\n",
              "//# sourceURL=js_ec3d3cbfdc"
            ]
          },
          "metadata": {}
        },
        {
          "output_type": "display_data",
          "data": {
            "text/plain": [
              "<IPython.core.display.Javascript object>"
            ],
            "application/javascript": [
              "window[\"8c607e54-ba23-11ed-9901-0242ac1c000c\"] = document.querySelector(\"#id36-0-0\");\n",
              "//# sourceURL=js_df79883e51"
            ]
          },
          "metadata": {}
        },
        {
          "output_type": "display_data",
          "data": {
            "text/plain": [
              "<IPython.core.display.Javascript object>"
            ],
            "application/javascript": [
              "window[\"8c60fe06-ba23-11ed-9901-0242ac1c000c\"] = google.colab.output.setActiveOutputArea(window[\"8c607e54-ba23-11ed-9901-0242ac1c000c\"]);\n",
              "//# sourceURL=js_5a4baf5a2f"
            ]
          },
          "metadata": {}
        },
        {
          "output_type": "display_data",
          "data": {
            "text/plain": [
              "<IPython.core.display.Javascript object>"
            ],
            "application/javascript": [
              "window[\"8c822d42-ba23-11ed-9901-0242ac1c000c\"] = google.colab.output.setActiveOutputArea(window[\"8c60128e-ba23-11ed-9901-0242ac1c000c\"]);\n",
              "//# sourceURL=js_f179697f22"
            ]
          },
          "metadata": {}
        },
        {
          "output_type": "display_data",
          "data": {
            "text/plain": [
              "<IPython.core.display.Javascript object>"
            ],
            "application/javascript": [
              "window[\"8d1d961a-ba23-11ed-9901-0242ac1c000c\"] = google.colab.output.getActiveOutputArea();\n",
              "//# sourceURL=js_5920739106"
            ]
          },
          "metadata": {}
        },
        {
          "output_type": "display_data",
          "data": {
            "text/plain": [
              "<IPython.core.display.Javascript object>"
            ],
            "application/javascript": [
              "window[\"8d1e5960-ba23-11ed-9901-0242ac1c000c\"] = document.querySelector(\"#id36-0-0\");\n",
              "//# sourceURL=js_2b36639f29"
            ]
          },
          "metadata": {}
        },
        {
          "output_type": "display_data",
          "data": {
            "text/plain": [
              "<IPython.core.display.Javascript object>"
            ],
            "application/javascript": [
              "window[\"8d1ec8fa-ba23-11ed-9901-0242ac1c000c\"] = google.colab.output.setActiveOutputArea(window[\"8d1e5960-ba23-11ed-9901-0242ac1c000c\"]);\n",
              "//# sourceURL=js_3662f7b0bc"
            ]
          },
          "metadata": {}
        },
        {
          "output_type": "display_data",
          "data": {
            "text/plain": [
              "<IPython.core.display.Javascript object>"
            ],
            "application/javascript": [
              "window[\"8d40e0ac-ba23-11ed-9901-0242ac1c000c\"] = google.colab.output.setActiveOutputArea(window[\"8d1d961a-ba23-11ed-9901-0242ac1c000c\"]);\n",
              "//# sourceURL=js_33f2b9c02c"
            ]
          },
          "metadata": {}
        },
        {
          "output_type": "display_data",
          "data": {
            "text/plain": [
              "<IPython.core.display.Javascript object>"
            ],
            "application/javascript": [
              "window[\"8ddbde4a-ba23-11ed-9901-0242ac1c000c\"] = google.colab.output.getActiveOutputArea();\n",
              "//# sourceURL=js_33c1e7aac0"
            ]
          },
          "metadata": {}
        },
        {
          "output_type": "display_data",
          "data": {
            "text/plain": [
              "<IPython.core.display.Javascript object>"
            ],
            "application/javascript": [
              "window[\"8ddc4754-ba23-11ed-9901-0242ac1c000c\"] = document.querySelector(\"#id36-0-0\");\n",
              "//# sourceURL=js_258020805b"
            ]
          },
          "metadata": {}
        },
        {
          "output_type": "display_data",
          "data": {
            "text/plain": [
              "<IPython.core.display.Javascript object>"
            ],
            "application/javascript": [
              "window[\"8ddcb090-ba23-11ed-9901-0242ac1c000c\"] = google.colab.output.setActiveOutputArea(window[\"8ddc4754-ba23-11ed-9901-0242ac1c000c\"]);\n",
              "//# sourceURL=js_b26836952b"
            ]
          },
          "metadata": {}
        },
        {
          "output_type": "display_data",
          "data": {
            "text/plain": [
              "<IPython.core.display.Javascript object>"
            ],
            "application/javascript": [
              "window[\"8dfe5cea-ba23-11ed-9901-0242ac1c000c\"] = google.colab.output.setActiveOutputArea(window[\"8ddbde4a-ba23-11ed-9901-0242ac1c000c\"]);\n",
              "//# sourceURL=js_183b3175fe"
            ]
          },
          "metadata": {}
        },
        {
          "output_type": "display_data",
          "data": {
            "text/plain": [
              "<IPython.core.display.Javascript object>"
            ],
            "application/javascript": [
              "window[\"8e9b13aa-ba23-11ed-9901-0242ac1c000c\"] = google.colab.output.getActiveOutputArea();\n",
              "//# sourceURL=js_75f9cc31b0"
            ]
          },
          "metadata": {}
        },
        {
          "output_type": "display_data",
          "data": {
            "text/plain": [
              "<IPython.core.display.Javascript object>"
            ],
            "application/javascript": [
              "window[\"8e9b7a8e-ba23-11ed-9901-0242ac1c000c\"] = document.querySelector(\"#id36-0-0\");\n",
              "//# sourceURL=js_cee58bfab5"
            ]
          },
          "metadata": {}
        },
        {
          "output_type": "display_data",
          "data": {
            "text/plain": [
              "<IPython.core.display.Javascript object>"
            ],
            "application/javascript": [
              "window[\"8e9be190-ba23-11ed-9901-0242ac1c000c\"] = google.colab.output.setActiveOutputArea(window[\"8e9b7a8e-ba23-11ed-9901-0242ac1c000c\"]);\n",
              "//# sourceURL=js_9181826326"
            ]
          },
          "metadata": {}
        },
        {
          "output_type": "display_data",
          "data": {
            "text/plain": [
              "<IPython.core.display.Javascript object>"
            ],
            "application/javascript": [
              "window[\"8ebddc00-ba23-11ed-9901-0242ac1c000c\"] = google.colab.output.setActiveOutputArea(window[\"8e9b13aa-ba23-11ed-9901-0242ac1c000c\"]);\n",
              "//# sourceURL=js_b21afb3292"
            ]
          },
          "metadata": {}
        },
        {
          "output_type": "display_data",
          "data": {
            "text/plain": [
              "<IPython.core.display.Javascript object>"
            ],
            "application/javascript": [
              "window[\"8f5935ec-ba23-11ed-9901-0242ac1c000c\"] = google.colab.output.getActiveOutputArea();\n",
              "//# sourceURL=js_d67ac53991"
            ]
          },
          "metadata": {}
        },
        {
          "output_type": "display_data",
          "data": {
            "text/plain": [
              "<IPython.core.display.Javascript object>"
            ],
            "application/javascript": [
              "window[\"8f59b4b8-ba23-11ed-9901-0242ac1c000c\"] = document.querySelector(\"#id36-0-0\");\n",
              "//# sourceURL=js_22038b3fb2"
            ]
          },
          "metadata": {}
        },
        {
          "output_type": "display_data",
          "data": {
            "text/plain": [
              "<IPython.core.display.Javascript object>"
            ],
            "application/javascript": [
              "window[\"8f5a2e20-ba23-11ed-9901-0242ac1c000c\"] = google.colab.output.setActiveOutputArea(window[\"8f59b4b8-ba23-11ed-9901-0242ac1c000c\"]);\n",
              "//# sourceURL=js_7fe1191500"
            ]
          },
          "metadata": {}
        },
        {
          "output_type": "stream",
          "name": "stdout",
          "text": [
            "Reward ->  10\n"
          ]
        },
        {
          "output_type": "display_data",
          "data": {
            "text/plain": [
              "<Figure size 432x288 with 1 Axes>"
            ],
            "image/png": "[encoded data removed]"
          },
          "metadata": {
            "needs_background": "light"
          }
        },
        {
          "output_type": "display_data",
          "data": {
            "text/plain": [
              "<IPython.core.display.Javascript object>"
            ],
            "application/javascript": [
              "window[\"8f7e0dc2-ba23-11ed-9901-0242ac1c000c\"] = google.colab.output.setActiveOutputArea(window[\"8f5935ec-ba23-11ed-9901-0242ac1c000c\"]);\n",
              "//# sourceURL=js_8dcd148d7f"
            ]
          },
          "metadata": {}
        }
      ]
    },
    {
      "cell_type": "markdown",
      "source": [
        "**5x5 Grid Environment - Stochastic**"
      ],
      "metadata": {
        "id": "IN3un4jv490v"
      }
    },
    {
      "cell_type": "code",
      "source": [
        "env = GridEnv(env_type = \"stochastic\")\n",
        "agent = RandomAgent(env)\n",
        "\n",
        "obs, info = env.reset()\n",
        "terminated, truncated = False, False\n",
        "\n",
        "\n",
        "output_grid = widgets.Grid(1, 1)\n",
        "with output_grid.output_to(0, 0):\n",
        "  env.render()\n",
        "\n",
        "def get_max_val(arg):\n",
        "  return max(arg)\n",
        "  \n",
        "for i in q_table_sarsa_stoc:\n",
        "  max_val = get_max_val(i)\n",
        "  i_to_list = i.tolist()\n",
        "  max_index = i_to_list.index(max_val)\n",
        "  observation, reward, terminated, truncated, info, agent_pos = env.step(max_index)\n",
        "  with output_grid.output_to(0, 0):\n",
        "    output_grid.clear_cell()\n",
        "    plt.imshow(grid)\n",
        "    env.render()\n",
        "  time.sleep(1)\n",
        "\n",
        "  "
      ],
      "metadata": {
        "id": "xk67wZwYKfoA",
        "colab": {
          "base_uri": "https://localhost:8080/",
          "height": 287
        },
        "outputId": "0588c2d9-86fa-47ad-9e24-5ed4059d8095"
      },
      "execution_count": 292,
      "outputs": [
        {
          "output_type": "display_data",
          "data": {
            "text/plain": [
              "<IPython.core.display.HTML object>"
            ],
            "text/html": [
              "<style>\n",
              "       table#id38, #id38 > tbody > tr > th, #id38 > tbody > tr > td {\n",
              "         border: 1px solid lightgray;\n",
              "         border-collapse:collapse;\n",
              "         \n",
              "        }</style>"
            ]
          },
          "metadata": {}
        },
        {
          "output_type": "display_data",
          "data": {
            "text/plain": [
              "<IPython.core.display.HTML object>"
            ],
            "text/html": [
              "<table id=id38><tr><td id=id38-0-0></td></tr></table>"
            ]
          },
          "metadata": {}
        },
        {
          "output_type": "display_data",
          "data": {
            "text/plain": [
              "<IPython.core.display.Javascript object>"
            ],
            "application/javascript": [
              "window[\"92282e4a-ba23-11ed-9901-0242ac1c000c\"] = google.colab.output.getActiveOutputArea();\n",
              "//# sourceURL=js_dca4841b83"
            ]
          },
          "metadata": {}
        },
        {
          "output_type": "display_data",
          "data": {
            "text/plain": [
              "<IPython.core.display.Javascript object>"
            ],
            "application/javascript": [
              "window[\"9228b536-ba23-11ed-9901-0242ac1c000c\"] = document.querySelector(\"#id38-0-0\");\n",
              "//# sourceURL=js_ee91374cc1"
            ]
          },
          "metadata": {}
        },
        {
          "output_type": "display_data",
          "data": {
            "text/plain": [
              "<IPython.core.display.Javascript object>"
            ],
            "application/javascript": [
              "window[\"92297886-ba23-11ed-9901-0242ac1c000c\"] = google.colab.output.setActiveOutputArea(window[\"9228b536-ba23-11ed-9901-0242ac1c000c\"]);\n",
              "//# sourceURL=js_c7f945ff25"
            ]
          },
          "metadata": {}
        },
        {
          "output_type": "display_data",
          "data": {
            "text/plain": [
              "<IPython.core.display.Javascript object>"
            ],
            "application/javascript": [
              "window[\"92781342-ba23-11ed-9901-0242ac1c000c\"] = google.colab.output.setActiveOutputArea(window[\"92282e4a-ba23-11ed-9901-0242ac1c000c\"]);\n",
              "//# sourceURL=js_6aeb06bc3d"
            ]
          },
          "metadata": {}
        },
        {
          "output_type": "display_data",
          "data": {
            "text/plain": [
              "<IPython.core.display.Javascript object>"
            ],
            "application/javascript": [
              "window[\"927b8f0e-ba23-11ed-9901-0242ac1c000c\"] = google.colab.output.getActiveOutputArea();\n",
              "//# sourceURL=js_cc068d6c4d"
            ]
          },
          "metadata": {}
        },
        {
          "output_type": "display_data",
          "data": {
            "text/plain": [
              "<IPython.core.display.Javascript object>"
            ],
            "application/javascript": [
              "window[\"927c74f0-ba23-11ed-9901-0242ac1c000c\"] = document.querySelector(\"#id38-0-0\");\n",
              "//# sourceURL=js_5527c7ed88"
            ]
          },
          "metadata": {}
        },
        {
          "output_type": "display_data",
          "data": {
            "text/plain": [
              "<IPython.core.display.Javascript object>"
            ],
            "application/javascript": [
              "window[\"927d07d0-ba23-11ed-9901-0242ac1c000c\"] = google.colab.output.setActiveOutputArea(window[\"927c74f0-ba23-11ed-9901-0242ac1c000c\"]);\n",
              "//# sourceURL=js_3d77bf5c95"
            ]
          },
          "metadata": {}
        },
        {
          "output_type": "display_data",
          "data": {
            "text/plain": [
              "<IPython.core.display.Javascript object>"
            ],
            "application/javascript": [
              "window[\"92ef840e-ba23-11ed-9901-0242ac1c000c\"] = google.colab.output.setActiveOutputArea(window[\"927b8f0e-ba23-11ed-9901-0242ac1c000c\"]);\n",
              "//# sourceURL=js_c72fb16f69"
            ]
          },
          "metadata": {}
        },
        {
          "output_type": "display_data",
          "data": {
            "text/plain": [
              "<IPython.core.display.Javascript object>"
            ],
            "application/javascript": [
              "window[\"938e59f8-ba23-11ed-9901-0242ac1c000c\"] = google.colab.output.getActiveOutputArea();\n",
              "//# sourceURL=js_4fd48180be"
            ]
          },
          "metadata": {}
        },
        {
          "output_type": "display_data",
          "data": {
            "text/plain": [
              "<IPython.core.display.Javascript object>"
            ],
            "application/javascript": [
              "window[\"93902274-ba23-11ed-9901-0242ac1c000c\"] = document.querySelector(\"#id38-0-0\");\n",
              "//# sourceURL=js_d1420c0066"
            ]
          },
          "metadata": {}
        },
        {
          "output_type": "display_data",
          "data": {
            "text/plain": [
              "<IPython.core.display.Javascript object>"
            ],
            "application/javascript": [
              "window[\"9390f69a-ba23-11ed-9901-0242ac1c000c\"] = google.colab.output.setActiveOutputArea(window[\"93902274-ba23-11ed-9901-0242ac1c000c\"]);\n",
              "//# sourceURL=js_dbb0b2fd02"
            ]
          },
          "metadata": {}
        },
        {
          "output_type": "display_data",
          "data": {
            "text/plain": [
              "<IPython.core.display.Javascript object>"
            ],
            "application/javascript": [
              "window[\"93b2fe34-ba23-11ed-9901-0242ac1c000c\"] = google.colab.output.setActiveOutputArea(window[\"938e59f8-ba23-11ed-9901-0242ac1c000c\"]);\n",
              "//# sourceURL=js_e24f928872"
            ]
          },
          "metadata": {}
        },
        {
          "output_type": "display_data",
          "data": {
            "text/plain": [
              "<IPython.core.display.Javascript object>"
            ],
            "application/javascript": [
              "window[\"944e320a-ba23-11ed-9901-0242ac1c000c\"] = google.colab.output.getActiveOutputArea();\n",
              "//# sourceURL=js_a4d7761a57"
            ]
          },
          "metadata": {}
        },
        {
          "output_type": "display_data",
          "data": {
            "text/plain": [
              "<IPython.core.display.Javascript object>"
            ],
            "application/javascript": [
              "window[\"944ebe14-ba23-11ed-9901-0242ac1c000c\"] = document.querySelector(\"#id38-0-0\");\n",
              "//# sourceURL=js_fb0140a47c"
            ]
          },
          "metadata": {}
        },
        {
          "output_type": "display_data",
          "data": {
            "text/plain": [
              "<IPython.core.display.Javascript object>"
            ],
            "application/javascript": [
              "window[\"944f20e8-ba23-11ed-9901-0242ac1c000c\"] = google.colab.output.setActiveOutputArea(window[\"944ebe14-ba23-11ed-9901-0242ac1c000c\"]);\n",
              "//# sourceURL=js_d32807344e"
            ]
          },
          "metadata": {}
        },
        {
          "output_type": "display_data",
          "data": {
            "text/plain": [
              "<IPython.core.display.Javascript object>"
            ],
            "application/javascript": [
              "window[\"946fad9a-ba23-11ed-9901-0242ac1c000c\"] = google.colab.output.setActiveOutputArea(window[\"944e320a-ba23-11ed-9901-0242ac1c000c\"]);\n",
              "//# sourceURL=js_38d57240d9"
            ]
          },
          "metadata": {}
        },
        {
          "output_type": "display_data",
          "data": {
            "text/plain": [
              "<IPython.core.display.Javascript object>"
            ],
            "application/javascript": [
              "window[\"950aea80-ba23-11ed-9901-0242ac1c000c\"] = google.colab.output.getActiveOutputArea();\n",
              "//# sourceURL=js_ff2dd044dc"
            ]
          },
          "metadata": {}
        },
        {
          "output_type": "display_data",
          "data": {
            "text/plain": [
              "<IPython.core.display.Javascript object>"
            ],
            "application/javascript": [
              "window[\"950b8774-ba23-11ed-9901-0242ac1c000c\"] = document.querySelector(\"#id38-0-0\");\n",
              "//# sourceURL=js_13499e9b9c"
            ]
          },
          "metadata": {}
        },
        {
          "output_type": "display_data",
          "data": {
            "text/plain": [
              "<IPython.core.display.Javascript object>"
            ],
            "application/javascript": [
              "window[\"950c0cc6-ba23-11ed-9901-0242ac1c000c\"] = google.colab.output.setActiveOutputArea(window[\"950b8774-ba23-11ed-9901-0242ac1c000c\"]);\n",
              "//# sourceURL=js_25cfe4a8ef"
            ]
          },
          "metadata": {}
        },
        {
          "output_type": "display_data",
          "data": {
            "text/plain": [
              "<IPython.core.display.Javascript object>"
            ],
            "application/javascript": [
              "window[\"952f4ad8-ba23-11ed-9901-0242ac1c000c\"] = google.colab.output.setActiveOutputArea(window[\"950aea80-ba23-11ed-9901-0242ac1c000c\"]);\n",
              "//# sourceURL=js_ad6dd2cfff"
            ]
          },
          "metadata": {}
        },
        {
          "output_type": "display_data",
          "data": {
            "text/plain": [
              "<IPython.core.display.Javascript object>"
            ],
            "application/javascript": [
              "window[\"95cac0d0-ba23-11ed-9901-0242ac1c000c\"] = google.colab.output.getActiveOutputArea();\n",
              "//# sourceURL=js_2458a5ad3f"
            ]
          },
          "metadata": {}
        },
        {
          "output_type": "display_data",
          "data": {
            "text/plain": [
              "<IPython.core.display.Javascript object>"
            ],
            "application/javascript": [
              "window[\"95cb4186-ba23-11ed-9901-0242ac1c000c\"] = document.querySelector(\"#id38-0-0\");\n",
              "//# sourceURL=js_a2942aa068"
            ]
          },
          "metadata": {}
        },
        {
          "output_type": "display_data",
          "data": {
            "text/plain": [
              "<IPython.core.display.Javascript object>"
            ],
            "application/javascript": [
              "window[\"95cc0c56-ba23-11ed-9901-0242ac1c000c\"] = google.colab.output.setActiveOutputArea(window[\"95cb4186-ba23-11ed-9901-0242ac1c000c\"]);\n",
              "//# sourceURL=js_4bd70cda46"
            ]
          },
          "metadata": {}
        },
        {
          "output_type": "display_data",
          "data": {
            "text/plain": [
              "<IPython.core.display.Javascript object>"
            ],
            "application/javascript": [
              "window[\"95ef888e-ba23-11ed-9901-0242ac1c000c\"] = google.colab.output.setActiveOutputArea(window[\"95cac0d0-ba23-11ed-9901-0242ac1c000c\"]);\n",
              "//# sourceURL=js_2913d3b524"
            ]
          },
          "metadata": {}
        },
        {
          "output_type": "display_data",
          "data": {
            "text/plain": [
              "<IPython.core.display.Javascript object>"
            ],
            "application/javascript": [
              "window[\"968ae400-ba23-11ed-9901-0242ac1c000c\"] = google.colab.output.getActiveOutputArea();\n",
              "//# sourceURL=js_a8591256e8"
            ]
          },
          "metadata": {}
        },
        {
          "output_type": "display_data",
          "data": {
            "text/plain": [
              "<IPython.core.display.Javascript object>"
            ],
            "application/javascript": [
              "window[\"968b9c42-ba23-11ed-9901-0242ac1c000c\"] = document.querySelector(\"#id38-0-0\");\n",
              "//# sourceURL=js_3045c5c124"
            ]
          },
          "metadata": {}
        },
        {
          "output_type": "display_data",
          "data": {
            "text/plain": [
              "<IPython.core.display.Javascript object>"
            ],
            "application/javascript": [
              "window[\"968c1550-ba23-11ed-9901-0242ac1c000c\"] = google.colab.output.setActiveOutputArea(window[\"968b9c42-ba23-11ed-9901-0242ac1c000c\"]);\n",
              "//# sourceURL=js_c66b05c450"
            ]
          },
          "metadata": {}
        },
        {
          "output_type": "display_data",
          "data": {
            "text/plain": [
              "<IPython.core.display.Javascript object>"
            ],
            "application/javascript": [
              "window[\"96ae4026-ba23-11ed-9901-0242ac1c000c\"] = google.colab.output.setActiveOutputArea(window[\"968ae400-ba23-11ed-9901-0242ac1c000c\"]);\n",
              "//# sourceURL=js_334ffe9344"
            ]
          },
          "metadata": {}
        },
        {
          "output_type": "display_data",
          "data": {
            "text/plain": [
              "<IPython.core.display.Javascript object>"
            ],
            "application/javascript": [
              "window[\"974a354e-ba23-11ed-9901-0242ac1c000c\"] = google.colab.output.getActiveOutputArea();\n",
              "//# sourceURL=js_9a6519fa01"
            ]
          },
          "metadata": {}
        },
        {
          "output_type": "display_data",
          "data": {
            "text/plain": [
              "<IPython.core.display.Javascript object>"
            ],
            "application/javascript": [
              "window[\"974af600-ba23-11ed-9901-0242ac1c000c\"] = document.querySelector(\"#id38-0-0\");\n",
              "//# sourceURL=js_38d19553a1"
            ]
          },
          "metadata": {}
        },
        {
          "output_type": "display_data",
          "data": {
            "text/plain": [
              "<IPython.core.display.Javascript object>"
            ],
            "application/javascript": [
              "window[\"974b7102-ba23-11ed-9901-0242ac1c000c\"] = google.colab.output.setActiveOutputArea(window[\"974af600-ba23-11ed-9901-0242ac1c000c\"]);\n",
              "//# sourceURL=js_f0eaf87e4e"
            ]
          },
          "metadata": {}
        },
        {
          "output_type": "display_data",
          "data": {
            "text/plain": [
              "<IPython.core.display.Javascript object>"
            ],
            "application/javascript": [
              "window[\"976ad6a0-ba23-11ed-9901-0242ac1c000c\"] = google.colab.output.setActiveOutputArea(window[\"974a354e-ba23-11ed-9901-0242ac1c000c\"]);\n",
              "//# sourceURL=js_81dfc82d3c"
            ]
          },
          "metadata": {}
        },
        {
          "output_type": "display_data",
          "data": {
            "text/plain": [
              "<IPython.core.display.Javascript object>"
            ],
            "application/javascript": [
              "window[\"9805de5c-ba23-11ed-9901-0242ac1c000c\"] = google.colab.output.getActiveOutputArea();\n",
              "//# sourceURL=js_a2c0217c47"
            ]
          },
          "metadata": {}
        },
        {
          "output_type": "display_data",
          "data": {
            "text/plain": [
              "<IPython.core.display.Javascript object>"
            ],
            "application/javascript": [
              "window[\"98064b62-ba23-11ed-9901-0242ac1c000c\"] = document.querySelector(\"#id38-0-0\");\n",
              "//# sourceURL=js_ea3f0d18b2"
            ]
          },
          "metadata": {}
        },
        {
          "output_type": "display_data",
          "data": {
            "text/plain": [
              "<IPython.core.display.Javascript object>"
            ],
            "application/javascript": [
              "window[\"9806f152-ba23-11ed-9901-0242ac1c000c\"] = google.colab.output.setActiveOutputArea(window[\"98064b62-ba23-11ed-9901-0242ac1c000c\"]);\n",
              "//# sourceURL=js_8b99b4233f"
            ]
          },
          "metadata": {}
        },
        {
          "output_type": "display_data",
          "data": {
            "text/plain": [
              "<IPython.core.display.Javascript object>"
            ],
            "application/javascript": [
              "window[\"98437118-ba23-11ed-9901-0242ac1c000c\"] = google.colab.output.setActiveOutputArea(window[\"9805de5c-ba23-11ed-9901-0242ac1c000c\"]);\n",
              "//# sourceURL=js_4caf48d1e5"
            ]
          },
          "metadata": {}
        },
        {
          "output_type": "display_data",
          "data": {
            "text/plain": [
              "<IPython.core.display.Javascript object>"
            ],
            "application/javascript": [
              "window[\"98e05e2e-ba23-11ed-9901-0242ac1c000c\"] = google.colab.output.getActiveOutputArea();\n",
              "//# sourceURL=js_b7ccd78bdc"
            ]
          },
          "metadata": {}
        },
        {
          "output_type": "display_data",
          "data": {
            "text/plain": [
              "<IPython.core.display.Javascript object>"
            ],
            "application/javascript": [
              "window[\"98e0faf0-ba23-11ed-9901-0242ac1c000c\"] = document.querySelector(\"#id38-0-0\");\n",
              "//# sourceURL=js_d21bbac6dd"
            ]
          },
          "metadata": {}
        },
        {
          "output_type": "display_data",
          "data": {
            "text/plain": [
              "<IPython.core.display.Javascript object>"
            ],
            "application/javascript": [
              "window[\"98e19154-ba23-11ed-9901-0242ac1c000c\"] = google.colab.output.setActiveOutputArea(window[\"98e0faf0-ba23-11ed-9901-0242ac1c000c\"]);\n",
              "//# sourceURL=js_ce9dca59df"
            ]
          },
          "metadata": {}
        },
        {
          "output_type": "display_data",
          "data": {
            "text/plain": [
              "<IPython.core.display.Javascript object>"
            ],
            "application/javascript": [
              "window[\"99011bd2-ba23-11ed-9901-0242ac1c000c\"] = google.colab.output.setActiveOutputArea(window[\"98e05e2e-ba23-11ed-9901-0242ac1c000c\"]);\n",
              "//# sourceURL=js_bbd39b60a2"
            ]
          },
          "metadata": {}
        },
        {
          "output_type": "display_data",
          "data": {
            "text/plain": [
              "<IPython.core.display.Javascript object>"
            ],
            "application/javascript": [
              "window[\"999cbf7e-ba23-11ed-9901-0242ac1c000c\"] = google.colab.output.getActiveOutputArea();\n",
              "//# sourceURL=js_7e6a8f4bb0"
            ]
          },
          "metadata": {}
        },
        {
          "output_type": "display_data",
          "data": {
            "text/plain": [
              "<IPython.core.display.Javascript object>"
            ],
            "application/javascript": [
              "window[\"999d821a-ba23-11ed-9901-0242ac1c000c\"] = document.querySelector(\"#id38-0-0\");\n",
              "//# sourceURL=js_2d7b402b63"
            ]
          },
          "metadata": {}
        },
        {
          "output_type": "display_data",
          "data": {
            "text/plain": [
              "<IPython.core.display.Javascript object>"
            ],
            "application/javascript": [
              "window[\"999e31d8-ba23-11ed-9901-0242ac1c000c\"] = google.colab.output.setActiveOutputArea(window[\"999d821a-ba23-11ed-9901-0242ac1c000c\"]);\n",
              "//# sourceURL=js_d178a49515"
            ]
          },
          "metadata": {}
        },
        {
          "output_type": "display_data",
          "data": {
            "text/plain": [
              "<IPython.core.display.Javascript object>"
            ],
            "application/javascript": [
              "window[\"99d08958-ba23-11ed-9901-0242ac1c000c\"] = google.colab.output.setActiveOutputArea(window[\"999cbf7e-ba23-11ed-9901-0242ac1c000c\"]);\n",
              "//# sourceURL=js_f86c43ffb5"
            ]
          },
          "metadata": {}
        },
        {
          "output_type": "display_data",
          "data": {
            "text/plain": [
              "<IPython.core.display.Javascript object>"
            ],
            "application/javascript": [
              "window[\"9a6c3632-ba23-11ed-9901-0242ac1c000c\"] = google.colab.output.getActiveOutputArea();\n",
              "//# sourceURL=js_09c4cbce6a"
            ]
          },
          "metadata": {}
        },
        {
          "output_type": "display_data",
          "data": {
            "text/plain": [
              "<IPython.core.display.Javascript object>"
            ],
            "application/javascript": [
              "window[\"9a6ccc78-ba23-11ed-9901-0242ac1c000c\"] = document.querySelector(\"#id38-0-0\");\n",
              "//# sourceURL=js_f9e6bb4fde"
            ]
          },
          "metadata": {}
        },
        {
          "output_type": "display_data",
          "data": {
            "text/plain": [
              "<IPython.core.display.Javascript object>"
            ],
            "application/javascript": [
              "window[\"9a6d80e6-ba23-11ed-9901-0242ac1c000c\"] = google.colab.output.setActiveOutputArea(window[\"9a6ccc78-ba23-11ed-9901-0242ac1c000c\"]);\n",
              "//# sourceURL=js_a5dea6dd98"
            ]
          },
          "metadata": {}
        },
        {
          "output_type": "display_data",
          "data": {
            "text/plain": [
              "<IPython.core.display.Javascript object>"
            ],
            "application/javascript": [
              "window[\"9a8d655a-ba23-11ed-9901-0242ac1c000c\"] = google.colab.output.setActiveOutputArea(window[\"9a6c3632-ba23-11ed-9901-0242ac1c000c\"]);\n",
              "//# sourceURL=js_db5a96e349"
            ]
          },
          "metadata": {}
        },
        {
          "output_type": "display_data",
          "data": {
            "text/plain": [
              "<IPython.core.display.Javascript object>"
            ],
            "application/javascript": [
              "window[\"9b288328-ba23-11ed-9901-0242ac1c000c\"] = google.colab.output.getActiveOutputArea();\n",
              "//# sourceURL=js_8d03f7c43d"
            ]
          },
          "metadata": {}
        },
        {
          "output_type": "display_data",
          "data": {
            "text/plain": [
              "<IPython.core.display.Javascript object>"
            ],
            "application/javascript": [
              "window[\"9b28eff2-ba23-11ed-9901-0242ac1c000c\"] = document.querySelector(\"#id38-0-0\");\n",
              "//# sourceURL=js_77a55d26cd"
            ]
          },
          "metadata": {}
        },
        {
          "output_type": "display_data",
          "data": {
            "text/plain": [
              "<IPython.core.display.Javascript object>"
            ],
            "application/javascript": [
              "window[\"9b295e42-ba23-11ed-9901-0242ac1c000c\"] = google.colab.output.setActiveOutputArea(window[\"9b28eff2-ba23-11ed-9901-0242ac1c000c\"]);\n",
              "//# sourceURL=js_26db4409dc"
            ]
          },
          "metadata": {}
        },
        {
          "output_type": "display_data",
          "data": {
            "text/plain": [
              "<IPython.core.display.Javascript object>"
            ],
            "application/javascript": [
              "window[\"9b4b426e-ba23-11ed-9901-0242ac1c000c\"] = google.colab.output.setActiveOutputArea(window[\"9b288328-ba23-11ed-9901-0242ac1c000c\"]);\n",
              "//# sourceURL=js_1b0e162a96"
            ]
          },
          "metadata": {}
        },
        {
          "output_type": "display_data",
          "data": {
            "text/plain": [
              "<IPython.core.display.Javascript object>"
            ],
            "application/javascript": [
              "window[\"9be6764e-ba23-11ed-9901-0242ac1c000c\"] = google.colab.output.getActiveOutputArea();\n",
              "//# sourceURL=js_9d2e132db7"
            ]
          },
          "metadata": {}
        },
        {
          "output_type": "display_data",
          "data": {
            "text/plain": [
              "<IPython.core.display.Javascript object>"
            ],
            "application/javascript": [
              "window[\"9be6e49e-ba23-11ed-9901-0242ac1c000c\"] = document.querySelector(\"#id38-0-0\");\n",
              "//# sourceURL=js_637095dbf1"
            ]
          },
          "metadata": {}
        },
        {
          "output_type": "display_data",
          "data": {
            "text/plain": [
              "<IPython.core.display.Javascript object>"
            ],
            "application/javascript": [
              "window[\"9be78976-ba23-11ed-9901-0242ac1c000c\"] = google.colab.output.setActiveOutputArea(window[\"9be6e49e-ba23-11ed-9901-0242ac1c000c\"]);\n",
              "//# sourceURL=js_de1db1ad1c"
            ]
          },
          "metadata": {}
        },
        {
          "output_type": "display_data",
          "data": {
            "text/plain": [
              "<IPython.core.display.Javascript object>"
            ],
            "application/javascript": [
              "window[\"9c088a5e-ba23-11ed-9901-0242ac1c000c\"] = google.colab.output.setActiveOutputArea(window[\"9be6764e-ba23-11ed-9901-0242ac1c000c\"]);\n",
              "//# sourceURL=js_f12166e3e4"
            ]
          },
          "metadata": {}
        },
        {
          "output_type": "display_data",
          "data": {
            "text/plain": [
              "<IPython.core.display.Javascript object>"
            ],
            "application/javascript": [
              "window[\"9ca460dc-ba23-11ed-9901-0242ac1c000c\"] = google.colab.output.getActiveOutputArea();\n",
              "//# sourceURL=js_2549be9183"
            ]
          },
          "metadata": {}
        },
        {
          "output_type": "display_data",
          "data": {
            "text/plain": [
              "<IPython.core.display.Javascript object>"
            ],
            "application/javascript": [
              "window[\"9ca4cc02-ba23-11ed-9901-0242ac1c000c\"] = document.querySelector(\"#id38-0-0\");\n",
              "//# sourceURL=js_eb033dda13"
            ]
          },
          "metadata": {}
        },
        {
          "output_type": "display_data",
          "data": {
            "text/plain": [
              "<IPython.core.display.Javascript object>"
            ],
            "application/javascript": [
              "window[\"9ca55d2a-ba23-11ed-9901-0242ac1c000c\"] = google.colab.output.setActiveOutputArea(window[\"9ca4cc02-ba23-11ed-9901-0242ac1c000c\"]);\n",
              "//# sourceURL=js_945eed18a4"
            ]
          },
          "metadata": {}
        },
        {
          "output_type": "display_data",
          "data": {
            "text/plain": [
              "<IPython.core.display.Javascript object>"
            ],
            "application/javascript": [
              "window[\"9cc571e6-ba23-11ed-9901-0242ac1c000c\"] = google.colab.output.setActiveOutputArea(window[\"9ca460dc-ba23-11ed-9901-0242ac1c000c\"]);\n",
              "//# sourceURL=js_3d6c777746"
            ]
          },
          "metadata": {}
        },
        {
          "output_type": "display_data",
          "data": {
            "text/plain": [
              "<IPython.core.display.Javascript object>"
            ],
            "application/javascript": [
              "window[\"9d61cb36-ba23-11ed-9901-0242ac1c000c\"] = google.colab.output.getActiveOutputArea();\n",
              "//# sourceURL=js_4b90471776"
            ]
          },
          "metadata": {}
        },
        {
          "output_type": "display_data",
          "data": {
            "text/plain": [
              "<IPython.core.display.Javascript object>"
            ],
            "application/javascript": [
              "window[\"9d625c04-ba23-11ed-9901-0242ac1c000c\"] = document.querySelector(\"#id38-0-0\");\n",
              "//# sourceURL=js_48041b3620"
            ]
          },
          "metadata": {}
        },
        {
          "output_type": "display_data",
          "data": {
            "text/plain": [
              "<IPython.core.display.Javascript object>"
            ],
            "application/javascript": [
              "window[\"9d62db20-ba23-11ed-9901-0242ac1c000c\"] = google.colab.output.setActiveOutputArea(window[\"9d625c04-ba23-11ed-9901-0242ac1c000c\"]);\n",
              "//# sourceURL=js_97d7910733"
            ]
          },
          "metadata": {}
        },
        {
          "output_type": "display_data",
          "data": {
            "text/plain": [
              "<IPython.core.display.Javascript object>"
            ],
            "application/javascript": [
              "window[\"9d8388e8-ba23-11ed-9901-0242ac1c000c\"] = google.colab.output.setActiveOutputArea(window[\"9d61cb36-ba23-11ed-9901-0242ac1c000c\"]);\n",
              "//# sourceURL=js_ab3d38d5e1"
            ]
          },
          "metadata": {}
        },
        {
          "output_type": "display_data",
          "data": {
            "text/plain": [
              "<IPython.core.display.Javascript object>"
            ],
            "application/javascript": [
              "window[\"9e1e7a38-ba23-11ed-9901-0242ac1c000c\"] = google.colab.output.getActiveOutputArea();\n",
              "//# sourceURL=js_5f4f066532"
            ]
          },
          "metadata": {}
        },
        {
          "output_type": "display_data",
          "data": {
            "text/plain": [
              "<IPython.core.display.Javascript object>"
            ],
            "application/javascript": [
              "window[\"9e1ef2d8-ba23-11ed-9901-0242ac1c000c\"] = document.querySelector(\"#id38-0-0\");\n",
              "//# sourceURL=js_6053d8de25"
            ]
          },
          "metadata": {}
        },
        {
          "output_type": "display_data",
          "data": {
            "text/plain": [
              "<IPython.core.display.Javascript object>"
            ],
            "application/javascript": [
              "window[\"9e1fbd44-ba23-11ed-9901-0242ac1c000c\"] = google.colab.output.setActiveOutputArea(window[\"9e1ef2d8-ba23-11ed-9901-0242ac1c000c\"]);\n",
              "//# sourceURL=js_b22f66a510"
            ]
          },
          "metadata": {}
        },
        {
          "output_type": "display_data",
          "data": {
            "text/plain": [
              "<IPython.core.display.Javascript object>"
            ],
            "application/javascript": [
              "window[\"9e4225aa-ba23-11ed-9901-0242ac1c000c\"] = google.colab.output.setActiveOutputArea(window[\"9e1e7a38-ba23-11ed-9901-0242ac1c000c\"]);\n",
              "//# sourceURL=js_cbde45b243"
            ]
          },
          "metadata": {}
        },
        {
          "output_type": "display_data",
          "data": {
            "text/plain": [
              "<IPython.core.display.Javascript object>"
            ],
            "application/javascript": [
              "window[\"9edd92b0-ba23-11ed-9901-0242ac1c000c\"] = google.colab.output.getActiveOutputArea();\n",
              "//# sourceURL=js_80d9ae56ad"
            ]
          },
          "metadata": {}
        },
        {
          "output_type": "display_data",
          "data": {
            "text/plain": [
              "<IPython.core.display.Javascript object>"
            ],
            "application/javascript": [
              "window[\"9ede2810-ba23-11ed-9901-0242ac1c000c\"] = document.querySelector(\"#id38-0-0\");\n",
              "//# sourceURL=js_577f28eaba"
            ]
          },
          "metadata": {}
        },
        {
          "output_type": "display_data",
          "data": {
            "text/plain": [
              "<IPython.core.display.Javascript object>"
            ],
            "application/javascript": [
              "window[\"9edea68c-ba23-11ed-9901-0242ac1c000c\"] = google.colab.output.setActiveOutputArea(window[\"9ede2810-ba23-11ed-9901-0242ac1c000c\"]);\n",
              "//# sourceURL=js_50233891da"
            ]
          },
          "metadata": {}
        },
        {
          "output_type": "display_data",
          "data": {
            "text/plain": [
              "<IPython.core.display.Javascript object>"
            ],
            "application/javascript": [
              "window[\"9f00aa52-ba23-11ed-9901-0242ac1c000c\"] = google.colab.output.setActiveOutputArea(window[\"9edd92b0-ba23-11ed-9901-0242ac1c000c\"]);\n",
              "//# sourceURL=js_a85515ffaa"
            ]
          },
          "metadata": {}
        },
        {
          "output_type": "display_data",
          "data": {
            "text/plain": [
              "<IPython.core.display.Javascript object>"
            ],
            "application/javascript": [
              "window[\"9f9c20b8-ba23-11ed-9901-0242ac1c000c\"] = google.colab.output.getActiveOutputArea();\n",
              "//# sourceURL=js_4cefd1a56d"
            ]
          },
          "metadata": {}
        },
        {
          "output_type": "display_data",
          "data": {
            "text/plain": [
              "<IPython.core.display.Javascript object>"
            ],
            "application/javascript": [
              "window[\"9f9c8e18-ba23-11ed-9901-0242ac1c000c\"] = document.querySelector(\"#id38-0-0\");\n",
              "//# sourceURL=js_8b5ce6199a"
            ]
          },
          "metadata": {}
        },
        {
          "output_type": "display_data",
          "data": {
            "text/plain": [
              "<IPython.core.display.Javascript object>"
            ],
            "application/javascript": [
              "window[\"9f9d50a0-ba23-11ed-9901-0242ac1c000c\"] = google.colab.output.setActiveOutputArea(window[\"9f9c8e18-ba23-11ed-9901-0242ac1c000c\"]);\n",
              "//# sourceURL=js_f3bbe8eb00"
            ]
          },
          "metadata": {}
        },
        {
          "output_type": "display_data",
          "data": {
            "text/plain": [
              "<IPython.core.display.Javascript object>"
            ],
            "application/javascript": [
              "window[\"9fc0b040-ba23-11ed-9901-0242ac1c000c\"] = google.colab.output.setActiveOutputArea(window[\"9f9c20b8-ba23-11ed-9901-0242ac1c000c\"]);\n",
              "//# sourceURL=js_9e0eea9f11"
            ]
          },
          "metadata": {}
        },
        {
          "output_type": "display_data",
          "data": {
            "text/plain": [
              "<IPython.core.display.Javascript object>"
            ],
            "application/javascript": [
              "window[\"a05c5374-ba23-11ed-9901-0242ac1c000c\"] = google.colab.output.getActiveOutputArea();\n",
              "//# sourceURL=js_e27b81f09e"
            ]
          },
          "metadata": {}
        },
        {
          "output_type": "display_data",
          "data": {
            "text/plain": [
              "<IPython.core.display.Javascript object>"
            ],
            "application/javascript": [
              "window[\"a05d1e8a-ba23-11ed-9901-0242ac1c000c\"] = document.querySelector(\"#id38-0-0\");\n",
              "//# sourceURL=js_70bbe262a4"
            ]
          },
          "metadata": {}
        },
        {
          "output_type": "display_data",
          "data": {
            "text/plain": [
              "<IPython.core.display.Javascript object>"
            ],
            "application/javascript": [
              "window[\"a05dc52e-ba23-11ed-9901-0242ac1c000c\"] = google.colab.output.setActiveOutputArea(window[\"a05d1e8a-ba23-11ed-9901-0242ac1c000c\"]);\n",
              "//# sourceURL=js_7597bd9c2d"
            ]
          },
          "metadata": {}
        },
        {
          "output_type": "display_data",
          "data": {
            "text/plain": [
              "<IPython.core.display.Javascript object>"
            ],
            "application/javascript": [
              "window[\"a0901ab0-ba23-11ed-9901-0242ac1c000c\"] = google.colab.output.setActiveOutputArea(window[\"a05c5374-ba23-11ed-9901-0242ac1c000c\"]);\n",
              "//# sourceURL=js_75d0001e5a"
            ]
          },
          "metadata": {}
        },
        {
          "output_type": "display_data",
          "data": {
            "text/plain": [
              "<IPython.core.display.Javascript object>"
            ],
            "application/javascript": [
              "window[\"a12b67b8-ba23-11ed-9901-0242ac1c000c\"] = google.colab.output.getActiveOutputArea();\n",
              "//# sourceURL=js_4fdee0397a"
            ]
          },
          "metadata": {}
        },
        {
          "output_type": "display_data",
          "data": {
            "text/plain": [
              "<IPython.core.display.Javascript object>"
            ],
            "application/javascript": [
              "window[\"a12c3a6c-ba23-11ed-9901-0242ac1c000c\"] = document.querySelector(\"#id38-0-0\");\n",
              "//# sourceURL=js_5bb3388d7c"
            ]
          },
          "metadata": {}
        },
        {
          "output_type": "display_data",
          "data": {
            "text/plain": [
              "<IPython.core.display.Javascript object>"
            ],
            "application/javascript": [
              "window[\"a12ca31c-ba23-11ed-9901-0242ac1c000c\"] = google.colab.output.setActiveOutputArea(window[\"a12c3a6c-ba23-11ed-9901-0242ac1c000c\"]);\n",
              "//# sourceURL=js_574e51e486"
            ]
          },
          "metadata": {}
        },
        {
          "output_type": "display_data",
          "data": {
            "text/plain": [
              "<IPython.core.display.Javascript object>"
            ],
            "application/javascript": [
              "window[\"a15ea6fa-ba23-11ed-9901-0242ac1c000c\"] = google.colab.output.setActiveOutputArea(window[\"a12b67b8-ba23-11ed-9901-0242ac1c000c\"]);\n",
              "//# sourceURL=js_4c14d468ef"
            ]
          },
          "metadata": {}
        },
        {
          "output_type": "display_data",
          "data": {
            "text/plain": [
              "<IPython.core.display.Javascript object>"
            ],
            "application/javascript": [
              "window[\"a1fa6eb4-ba23-11ed-9901-0242ac1c000c\"] = google.colab.output.getActiveOutputArea();\n",
              "//# sourceURL=js_c64b1141f8"
            ]
          },
          "metadata": {}
        },
        {
          "output_type": "display_data",
          "data": {
            "text/plain": [
              "<IPython.core.display.Javascript object>"
            ],
            "application/javascript": [
              "window[\"a1fbbf08-ba23-11ed-9901-0242ac1c000c\"] = document.querySelector(\"#id38-0-0\");\n",
              "//# sourceURL=js_4493c22ffa"
            ]
          },
          "metadata": {}
        },
        {
          "output_type": "display_data",
          "data": {
            "text/plain": [
              "<IPython.core.display.Javascript object>"
            ],
            "application/javascript": [
              "window[\"a1fda912-ba23-11ed-9901-0242ac1c000c\"] = google.colab.output.setActiveOutputArea(window[\"a1fbbf08-ba23-11ed-9901-0242ac1c000c\"]);\n",
              "//# sourceURL=js_c7363004cd"
            ]
          },
          "metadata": {}
        },
        {
          "output_type": "display_data",
          "data": {
            "text/plain": [
              "<IPython.core.display.Javascript object>"
            ],
            "application/javascript": [
              "window[\"a23b9088-ba23-11ed-9901-0242ac1c000c\"] = google.colab.output.setActiveOutputArea(window[\"a1fa6eb4-ba23-11ed-9901-0242ac1c000c\"]);\n",
              "//# sourceURL=js_71af98b331"
            ]
          },
          "metadata": {}
        },
        {
          "output_type": "display_data",
          "data": {
            "text/plain": [
              "<IPython.core.display.Javascript object>"
            ],
            "application/javascript": [
              "window[\"a2d85bca-ba23-11ed-9901-0242ac1c000c\"] = google.colab.output.getActiveOutputArea();\n",
              "//# sourceURL=js_319645999f"
            ]
          },
          "metadata": {}
        },
        {
          "output_type": "display_data",
          "data": {
            "text/plain": [
              "<IPython.core.display.Javascript object>"
            ],
            "application/javascript": [
              "window[\"a2d8c84e-ba23-11ed-9901-0242ac1c000c\"] = document.querySelector(\"#id38-0-0\");\n",
              "//# sourceURL=js_bb9d942252"
            ]
          },
          "metadata": {}
        },
        {
          "output_type": "display_data",
          "data": {
            "text/plain": [
              "<IPython.core.display.Javascript object>"
            ],
            "application/javascript": [
              "window[\"a2d93856-ba23-11ed-9901-0242ac1c000c\"] = google.colab.output.setActiveOutputArea(window[\"a2d8c84e-ba23-11ed-9901-0242ac1c000c\"]);\n",
              "//# sourceURL=js_70d7684921"
            ]
          },
          "metadata": {}
        },
        {
          "output_type": "display_data",
          "data": {
            "text/plain": [
              "<IPython.core.display.Javascript object>"
            ],
            "application/javascript": [
              "window[\"a2fd8486-ba23-11ed-9901-0242ac1c000c\"] = google.colab.output.setActiveOutputArea(window[\"a2d85bca-ba23-11ed-9901-0242ac1c000c\"]);\n",
              "//# sourceURL=js_fc84720d00"
            ]
          },
          "metadata": {}
        },
        {
          "output_type": "display_data",
          "data": {
            "text/plain": [
              "<IPython.core.display.Javascript object>"
            ],
            "application/javascript": [
              "window[\"a398cf72-ba23-11ed-9901-0242ac1c000c\"] = google.colab.output.getActiveOutputArea();\n",
              "//# sourceURL=js_205341e21b"
            ]
          },
          "metadata": {}
        },
        {
          "output_type": "display_data",
          "data": {
            "text/plain": [
              "<IPython.core.display.Javascript object>"
            ],
            "application/javascript": [
              "window[\"a39947e0-ba23-11ed-9901-0242ac1c000c\"] = document.querySelector(\"#id38-0-0\");\n",
              "//# sourceURL=js_98ec11794f"
            ]
          },
          "metadata": {}
        },
        {
          "output_type": "display_data",
          "data": {
            "text/plain": [
              "<IPython.core.display.Javascript object>"
            ],
            "application/javascript": [
              "window[\"a399b9d2-ba23-11ed-9901-0242ac1c000c\"] = google.colab.output.setActiveOutputArea(window[\"a39947e0-ba23-11ed-9901-0242ac1c000c\"]);\n",
              "//# sourceURL=js_26dd093045"
            ]
          },
          "metadata": {}
        },
        {
          "output_type": "display_data",
          "data": {
            "text/plain": [
              "<IPython.core.display.Javascript object>"
            ],
            "application/javascript": [
              "window[\"a3bc3660-ba23-11ed-9901-0242ac1c000c\"] = google.colab.output.setActiveOutputArea(window[\"a398cf72-ba23-11ed-9901-0242ac1c000c\"]);\n",
              "//# sourceURL=js_aea7df9386"
            ]
          },
          "metadata": {}
        },
        {
          "output_type": "display_data",
          "data": {
            "text/plain": [
              "<IPython.core.display.Javascript object>"
            ],
            "application/javascript": [
              "window[\"a457d34a-ba23-11ed-9901-0242ac1c000c\"] = google.colab.output.getActiveOutputArea();\n",
              "//# sourceURL=js_451c306a25"
            ]
          },
          "metadata": {}
        },
        {
          "output_type": "display_data",
          "data": {
            "text/plain": [
              "<IPython.core.display.Javascript object>"
            ],
            "application/javascript": [
              "window[\"a4583dc6-ba23-11ed-9901-0242ac1c000c\"] = document.querySelector(\"#id38-0-0\");\n",
              "//# sourceURL=js_7d782ef6c7"
            ]
          },
          "metadata": {}
        },
        {
          "output_type": "display_data",
          "data": {
            "text/plain": [
              "<IPython.core.display.Javascript object>"
            ],
            "application/javascript": [
              "window[\"a458c2a0-ba23-11ed-9901-0242ac1c000c\"] = google.colab.output.setActiveOutputArea(window[\"a4583dc6-ba23-11ed-9901-0242ac1c000c\"]);\n",
              "//# sourceURL=js_dceb430049"
            ]
          },
          "metadata": {}
        },
        {
          "output_type": "display_data",
          "data": {
            "text/plain": [
              "<IPython.core.display.Javascript object>"
            ],
            "application/javascript": [
              "window[\"a47bf658-ba23-11ed-9901-0242ac1c000c\"] = google.colab.output.setActiveOutputArea(window[\"a457d34a-ba23-11ed-9901-0242ac1c000c\"]);\n",
              "//# sourceURL=js_c4bc91dd17"
            ]
          },
          "metadata": {}
        },
        {
          "output_type": "display_data",
          "data": {
            "text/plain": [
              "<IPython.core.display.Javascript object>"
            ],
            "application/javascript": [
              "window[\"a517155c-ba23-11ed-9901-0242ac1c000c\"] = google.colab.output.getActiveOutputArea();\n",
              "//# sourceURL=js_665fc73273"
            ]
          },
          "metadata": {}
        },
        {
          "output_type": "display_data",
          "data": {
            "text/plain": [
              "<IPython.core.display.Javascript object>"
            ],
            "application/javascript": [
              "window[\"a5178208-ba23-11ed-9901-0242ac1c000c\"] = document.querySelector(\"#id38-0-0\");\n",
              "//# sourceURL=js_682f2b9839"
            ]
          },
          "metadata": {}
        },
        {
          "output_type": "display_data",
          "data": {
            "text/plain": [
              "<IPython.core.display.Javascript object>"
            ],
            "application/javascript": [
              "window[\"a517fe4a-ba23-11ed-9901-0242ac1c000c\"] = google.colab.output.setActiveOutputArea(window[\"a5178208-ba23-11ed-9901-0242ac1c000c\"]);\n",
              "//# sourceURL=js_51ecef7b25"
            ]
          },
          "metadata": {}
        },
        {
          "output_type": "stream",
          "name": "stdout",
          "text": [
            "Reward ->  10\n"
          ]
        },
        {
          "output_type": "display_data",
          "data": {
            "text/plain": [
              "<Figure size 432x288 with 1 Axes>"
            ],
            "image/png": "[encoded data removed]"
          },
          "metadata": {
            "needs_background": "light"
          }
        },
        {
          "output_type": "display_data",
          "data": {
            "text/plain": [
              "<IPython.core.display.Javascript object>"
            ],
            "application/javascript": [
              "window[\"a537f9b6-ba23-11ed-9901-0242ac1c000c\"] = google.colab.output.setActiveOutputArea(window[\"a517155c-ba23-11ed-9901-0242ac1c000c\"]);\n",
              "//# sourceURL=js_f5dbabed84"
            ]
          },
          "metadata": {}
        }
      ]
    }
  ]
}